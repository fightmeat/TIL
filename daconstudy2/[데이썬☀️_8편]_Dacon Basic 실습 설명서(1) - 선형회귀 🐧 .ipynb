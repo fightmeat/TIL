{
  "nbformat": 4,
  "nbformat_minor": 0,
  "metadata": {
    "colab": {
      "name": "🐧 Dacon Basic 실습 설명서(1) - 회귀.ipynb",
      "provenance": [],
      "collapsed_sections": []
    },
    "kernelspec": {
      "name": "python3",
      "display_name": "Python 3"
    },
    "language_info": {
      "name": "python"
    }
  },
  "cells": [
    {
      "cell_type": "markdown",
      "source": [
        "# **✍️ 데이썬의 모든 시리즈 바로가기!**"
      ],
      "metadata": {
        "id": "Jm0G2gCyxqId"
      }
    },
    {
      "cell_type": "markdown",
      "source": [
        "\n",
        "[[데이썬☀️_0편] Python으로 시작하는 데이터 분석 사용 설명서](https://dacon.io/codeshare/4743)\n",
        "<br><br>\n",
        "\n",
        "[[데이썬☀️_1편] ✏️ 데이터 분석 사용 설명서](https://dacon.io/codeshare/4856)\n",
        "<br><br>\n",
        "\n",
        "[[데이썬☀️_2편] 📖 기초 라이브러리 사용 설명서 (1) - Numpy](https://dacon.io/codeshare/4860)\n",
        "\n",
        "[[데이썬☀️_2편] 📖 기초 라이브러리 사용 설명서 (2) - Pandas](https://dacon.io/codeshare/4861)\n",
        "\n",
        "[[데이썬☀️_2편] 📖 기초 라이브러리 사용 설명서 (3) - Scikit-learn](https://dacon.io/codeshare/4877)\n",
        "<br><br>\n",
        "\n",
        "[[데이썬☀️_3편] 🔍 EDA (탐색적 데이터 분석) 사용 설명서 (1) - EDA & 통계치 분석](https://dacon.io/codeshare/4899)\n",
        "\n",
        "[[데이썬☀️_3편] 🔍 EDA (탐색적 데이터 분석) 사용 설명서 (2) - Matplotlib](https://dacon.io/codeshare/4906)\n",
        "\n",
        "[[데이썬☀️_3편] 🔍 EDA (탐색적 데이터 분석) 사용 설명서 (3) - Seaborn](https://dacon.io/codeshare/4905)\n",
        "\n",
        "[[데이썬☀️_3편] 🔍 EDA (탐색적 데이터 분석) 사용 설명서 (4) - Plotly](https://dacon.io/codeshare/4942)\n",
        "\n",
        "[[데이썬☀️_3편] 🔍 EDA (탐색적 데이터 분석) 사용 설명서 (5) - Cufflinks](https://dacon.io/codeshare/4945)\n",
        "<br><br>\n",
        "\n",
        "[[데이썬☀️_4편] 🛠 전처리 사용 설명서](https://dacon.io/codeshare/4992) \n",
        "<br><br>\n",
        "\n",
        "[[데이썬☀️_5편] 🔧 모델링 사용 설명서 (1) - 선형 회귀(Linear Regression)](https://dacon.io/codeshare/4993)\n",
        "\n",
        "[[데이썬☀️_5편] 🔧 모델링 사용 설명서 (2) - 결정 트리(Decision Tree)](https://dacon.io/codeshare/5009)\n",
        "\n",
        "[[데이썬☀️_5편] 🔧 모델링 사용 설명서 (3) - 앙상블(Ensemble)](https://dacon.io/codeshare/5123)\n",
        "<br><br>\n",
        "\n",
        "[[데이썬☀️_6편] 🤖 모델 검증(validation) 사용 설명서](https://dacon.io/codeshare/5124?dtype=recent)\n",
        "<br><br>\n",
        "\n",
        "[[데이썬☀️_7편] 🏹 모델 최적화 사용 설명서](https://dacon.io/codeshare/5147)"
      ],
      "metadata": {
        "id": "t5fcnwP_YaeI"
      }
    },
    {
      "cell_type": "markdown",
      "source": [
        "<br><br>"
      ],
      "metadata": {
        "id": "v4d9bQptRPRV"
      }
    },
    {
      "cell_type": "markdown",
      "source": [
        "\n",
        "\n",
        "---\n",
        "\n"
      ],
      "metadata": {
        "id": "50NLNIx6bOwH"
      }
    },
    {
      "cell_type": "markdown",
      "source": [
        "# **🐧 Dacon Basic 실습 설명서(1) - 회귀**\n",
        "\n",
        "1. **데이터 소개**\n",
        "\n",
        "  1) 데이터 불러오기\n",
        "\n",
        "  2) 데이터 살펴보기\n",
        "<br>\n",
        "\n",
        "2. **데이터 탐색(EDA) & 데이터 전처리**\n",
        "\n",
        "  1) 결측치 제거하기\n",
        "\n",
        "  2) 데이터 시각화\n",
        "\n",
        "  3) 데이터 인코딩\n",
        "\n",
        "  4) 상관관계 분석\n",
        "<br>\n",
        "\n",
        "3. **데이터 모델링**\n",
        "\n",
        "  1) 릿지 회귀\n",
        "\n",
        "  2) 라쏘 회귀\n",
        "\n",
        "  3) 엘라스틱넷 회귀\n",
        "\n",
        "  회귀분석 결과\n",
        "<br>\n",
        "\n",
        "4. **예측**\n",
        "\n",
        "  1) 결측치 제거하기\n",
        "\n",
        "  2) 인코딩\n",
        "\n",
        "  3) 예측하기"
      ],
      "metadata": {
        "id": "RzQ5oGEQ-s4r"
      }
    },
    {
      "cell_type": "markdown",
      "source": [
        "<br>"
      ],
      "metadata": {
        "id": "EUVX1nQS_xcJ"
      }
    },
    {
      "cell_type": "markdown",
      "source": [
        "---"
      ],
      "metadata": {
        "id": "DK_znwDyPAhw"
      }
    },
    {
      "cell_type": "markdown",
      "source": [
        "<br>"
      ],
      "metadata": {
        "id": "2bh2BiwVPAYX"
      }
    },
    {
      "cell_type": "markdown",
      "source": [
        "## **1. 데이터 소개**"
      ],
      "metadata": {
        "id": "tcEQTzBt_3Kd"
      }
    },
    {
      "cell_type": "markdown",
      "source": [
        "'펭귄 몸무게 예측 경진대회'는 주어진 펭귄의 종, 부리 길이, 성별 등의 정보들을 이용해 몸무게를 예측하는 대회입니다.\n",
        "\n",
        "아래 링크에 접속하시면, 데이터를 다운로드 할 수 있습니다. 또한 코드 공유 탭에서 데이콘에서 제공하는 Baseline 코드와 다른 참가자들의 코드도 확인해볼 수 있습니다.😊\n",
        "<br><br>\n",
        "🐧 [펭귄 몸무게 예측 경진대회](https://dacon.io/competitions/official/235862/overview/description)\n",
        "<br><br>\n",
        "본 게시글은 데이썬의 게시글과 데이콘에서 제공하는 Baseline 코드를 참고하여 작성되었습니다. "
      ],
      "metadata": {
        "id": "WwW_9k-WC5d2"
      }
    },
    {
      "cell_type": "markdown",
      "source": [
        " <br><br>\n",
        " **📁 펭귄 데이터의 컬럼 정보**\n",
        "\n",
        "<br>\n",
        "\n",
        "- **id** : 일련번호 / 수치형 데이터\n",
        "\n",
        "- **Species** : 펭귄의 종 / 카테고리형 데이터 \n",
        "\n",
        "- **Island** : 시료를 채취한 섬 / 카테고리형 데이터\n",
        "\n",
        "- **Clutch Completion** : 연구 둥지가 <u>완전한 클러치(2개의 알)</u>로 관찰되었는지 여부 / 카테고리형 데이터\n",
        "\n",
        "- **Culmen Length (mm)** : 부리의 등쪽 능선의 길이 (mm) / 수치형 데이터\n",
        "\n",
        "- **Culmen Depth (mm)** : 부리의 등쪽 능선의 깊이 (mm) / 수치형 데이터\n",
        "\n",
        "- **Flipper Length (mm)** : 펭귄 지느러미의 길이 (mm) / 수치형 데이터\n",
        "\n",
        "- **Sex** : 펭귄의 성별 / 카테고리형 데이터\n",
        "\n",
        "- **Delta 15 N (o/oo)** : 안정 동위원소 15N:14N의 비율 / 수치형 데이터\n",
        "\n",
        "- **Delta 13 C (o/oo)** : 안정 동위원소 13C:12C의 비율 / 수치형 데이터\n",
        "\n",
        "- **Body Mass (g)** : 펭귄의 체질량 (g) / 수치형 데이터\n",
        "\n",
        "<br><br>\n",
        " 출처) https://allisonhorst.github.io/palmerpenguins/reference/penguins_raw.html"
      ],
      "metadata": {
        "id": "YlmTmd4vVeEd"
      }
    },
    {
      "cell_type": "markdown",
      "source": [
        "<br>"
      ],
      "metadata": {
        "id": "VhIRoGDnEJ9z"
      }
    },
    {
      "cell_type": "markdown",
      "source": [
        "### **1) 데이터 불러오기**"
      ],
      "metadata": {
        "id": "qbI4vfQBEAaU"
      }
    },
    {
      "cell_type": "markdown",
      "source": [
        "먼저 numpy와 pandas를 import하고 학습할 데이터는 train, 예측할 데이터는 test 변수에 저장하겠습니다.\n",
        "\n",
        "pd.read_csv에 데이터가 저장되어 있는 파일 경로를 지정해주세요!"
      ],
      "metadata": {
        "id": "LAdq51Z2E7od"
      }
    },
    {
      "cell_type": "code",
      "source": [
        "import numpy as np\n",
        "import pandas as pd\n",
        "\n",
        "# 데이터 불러오기\n",
        "train = pd.read_csv('train.csv')\n",
        "test = pd.read_csv('test.csv')"
      ],
      "metadata": {
        "id": "5esAxVrzEMj9"
      },
      "execution_count": null,
      "outputs": []
    },
    {
      "cell_type": "markdown",
      "source": [
        "<br>"
      ],
      "metadata": {
        "id": "yFwejlS2F-6Y"
      }
    },
    {
      "cell_type": "markdown",
      "source": [
        "### **2) 데이터 살펴보기**"
      ],
      "metadata": {
        "id": "3hYQEY2EGAXS"
      }
    },
    {
      "cell_type": "code",
      "source": [
        "train.head(3)"
      ],
      "metadata": {
        "id": "h1pzSeqMGVWd",
        "colab": {
          "base_uri": "https://localhost:8080/",
          "height": 222
        },
        "outputId": "e49d997e-bdc4-4d53-d496-bb4c6a4357da"
      },
      "execution_count": null,
      "outputs": [
        {
          "output_type": "execute_result",
          "data": {
            "text/plain": [
              "   id                                    Species  Island Clutch Completion  \\\n",
              "0   0          Gentoo penguin (Pygoscelis papua)  Biscoe               Yes   \n",
              "1   1  Chinstrap penguin (Pygoscelis antarctica)   Dream                No   \n",
              "2   2          Gentoo penguin (Pygoscelis papua)  Biscoe               Yes   \n",
              "\n",
              "   Culmen Length (mm)  Culmen Depth (mm)  Flipper Length (mm)     Sex  \\\n",
              "0                50.0               15.3                  220    MALE   \n",
              "1                49.5               19.0                  200    MALE   \n",
              "2                45.1               14.4                  210  FEMALE   \n",
              "\n",
              "   Delta 15 N (o/oo)  Delta 13 C (o/oo)  Body Mass (g)  \n",
              "0            8.30515          -25.19017           5550  \n",
              "1            9.63074          -24.34684           3800  \n",
              "2            8.51951          -27.01854           4400  "
            ],
            "text/html": [
              "\n",
              "  <div id=\"df-b6ba350a-546c-46c0-8545-32124b3fb110\">\n",
              "    <div class=\"colab-df-container\">\n",
              "      <div>\n",
              "<style scoped>\n",
              "    .dataframe tbody tr th:only-of-type {\n",
              "        vertical-align: middle;\n",
              "    }\n",
              "\n",
              "    .dataframe tbody tr th {\n",
              "        vertical-align: top;\n",
              "    }\n",
              "\n",
              "    .dataframe thead th {\n",
              "        text-align: right;\n",
              "    }\n",
              "</style>\n",
              "<table border=\"1\" class=\"dataframe\">\n",
              "  <thead>\n",
              "    <tr style=\"text-align: right;\">\n",
              "      <th></th>\n",
              "      <th>id</th>\n",
              "      <th>Species</th>\n",
              "      <th>Island</th>\n",
              "      <th>Clutch Completion</th>\n",
              "      <th>Culmen Length (mm)</th>\n",
              "      <th>Culmen Depth (mm)</th>\n",
              "      <th>Flipper Length (mm)</th>\n",
              "      <th>Sex</th>\n",
              "      <th>Delta 15 N (o/oo)</th>\n",
              "      <th>Delta 13 C (o/oo)</th>\n",
              "      <th>Body Mass (g)</th>\n",
              "    </tr>\n",
              "  </thead>\n",
              "  <tbody>\n",
              "    <tr>\n",
              "      <th>0</th>\n",
              "      <td>0</td>\n",
              "      <td>Gentoo penguin (Pygoscelis papua)</td>\n",
              "      <td>Biscoe</td>\n",
              "      <td>Yes</td>\n",
              "      <td>50.0</td>\n",
              "      <td>15.3</td>\n",
              "      <td>220</td>\n",
              "      <td>MALE</td>\n",
              "      <td>8.30515</td>\n",
              "      <td>-25.19017</td>\n",
              "      <td>5550</td>\n",
              "    </tr>\n",
              "    <tr>\n",
              "      <th>1</th>\n",
              "      <td>1</td>\n",
              "      <td>Chinstrap penguin (Pygoscelis antarctica)</td>\n",
              "      <td>Dream</td>\n",
              "      <td>No</td>\n",
              "      <td>49.5</td>\n",
              "      <td>19.0</td>\n",
              "      <td>200</td>\n",
              "      <td>MALE</td>\n",
              "      <td>9.63074</td>\n",
              "      <td>-24.34684</td>\n",
              "      <td>3800</td>\n",
              "    </tr>\n",
              "    <tr>\n",
              "      <th>2</th>\n",
              "      <td>2</td>\n",
              "      <td>Gentoo penguin (Pygoscelis papua)</td>\n",
              "      <td>Biscoe</td>\n",
              "      <td>Yes</td>\n",
              "      <td>45.1</td>\n",
              "      <td>14.4</td>\n",
              "      <td>210</td>\n",
              "      <td>FEMALE</td>\n",
              "      <td>8.51951</td>\n",
              "      <td>-27.01854</td>\n",
              "      <td>4400</td>\n",
              "    </tr>\n",
              "  </tbody>\n",
              "</table>\n",
              "</div>\n",
              "      <button class=\"colab-df-convert\" onclick=\"convertToInteractive('df-b6ba350a-546c-46c0-8545-32124b3fb110')\"\n",
              "              title=\"Convert this dataframe to an interactive table.\"\n",
              "              style=\"display:none;\">\n",
              "        \n",
              "  <svg xmlns=\"http://www.w3.org/2000/svg\" height=\"24px\"viewBox=\"0 0 24 24\"\n",
              "       width=\"24px\">\n",
              "    <path d=\"M0 0h24v24H0V0z\" fill=\"none\"/>\n",
              "    <path d=\"M18.56 5.44l.94 2.06.94-2.06 2.06-.94-2.06-.94-.94-2.06-.94 2.06-2.06.94zm-11 1L8.5 8.5l.94-2.06 2.06-.94-2.06-.94L8.5 2.5l-.94 2.06-2.06.94zm10 10l.94 2.06.94-2.06 2.06-.94-2.06-.94-.94-2.06-.94 2.06-2.06.94z\"/><path d=\"M17.41 7.96l-1.37-1.37c-.4-.4-.92-.59-1.43-.59-.52 0-1.04.2-1.43.59L10.3 9.45l-7.72 7.72c-.78.78-.78 2.05 0 2.83L4 21.41c.39.39.9.59 1.41.59.51 0 1.02-.2 1.41-.59l7.78-7.78 2.81-2.81c.8-.78.8-2.07 0-2.86zM5.41 20L4 18.59l7.72-7.72 1.47 1.35L5.41 20z\"/>\n",
              "  </svg>\n",
              "      </button>\n",
              "      \n",
              "  <style>\n",
              "    .colab-df-container {\n",
              "      display:flex;\n",
              "      flex-wrap:wrap;\n",
              "      gap: 12px;\n",
              "    }\n",
              "\n",
              "    .colab-df-convert {\n",
              "      background-color: #E8F0FE;\n",
              "      border: none;\n",
              "      border-radius: 50%;\n",
              "      cursor: pointer;\n",
              "      display: none;\n",
              "      fill: #1967D2;\n",
              "      height: 32px;\n",
              "      padding: 0 0 0 0;\n",
              "      width: 32px;\n",
              "    }\n",
              "\n",
              "    .colab-df-convert:hover {\n",
              "      background-color: #E2EBFA;\n",
              "      box-shadow: 0px 1px 2px rgba(60, 64, 67, 0.3), 0px 1px 3px 1px rgba(60, 64, 67, 0.15);\n",
              "      fill: #174EA6;\n",
              "    }\n",
              "\n",
              "    [theme=dark] .colab-df-convert {\n",
              "      background-color: #3B4455;\n",
              "      fill: #D2E3FC;\n",
              "    }\n",
              "\n",
              "    [theme=dark] .colab-df-convert:hover {\n",
              "      background-color: #434B5C;\n",
              "      box-shadow: 0px 1px 3px 1px rgba(0, 0, 0, 0.15);\n",
              "      filter: drop-shadow(0px 1px 2px rgba(0, 0, 0, 0.3));\n",
              "      fill: #FFFFFF;\n",
              "    }\n",
              "  </style>\n",
              "\n",
              "      <script>\n",
              "        const buttonEl =\n",
              "          document.querySelector('#df-b6ba350a-546c-46c0-8545-32124b3fb110 button.colab-df-convert');\n",
              "        buttonEl.style.display =\n",
              "          google.colab.kernel.accessAllowed ? 'block' : 'none';\n",
              "\n",
              "        async function convertToInteractive(key) {\n",
              "          const element = document.querySelector('#df-b6ba350a-546c-46c0-8545-32124b3fb110');\n",
              "          const dataTable =\n",
              "            await google.colab.kernel.invokeFunction('convertToInteractive',\n",
              "                                                     [key], {});\n",
              "          if (!dataTable) return;\n",
              "\n",
              "          const docLinkHtml = 'Like what you see? Visit the ' +\n",
              "            '<a target=\"_blank\" href=https://colab.research.google.com/notebooks/data_table.ipynb>data table notebook</a>'\n",
              "            + ' to learn more about interactive tables.';\n",
              "          element.innerHTML = '';\n",
              "          dataTable['output_type'] = 'display_data';\n",
              "          await google.colab.output.renderOutput(dataTable, element);\n",
              "          const docLink = document.createElement('div');\n",
              "          docLink.innerHTML = docLinkHtml;\n",
              "          element.appendChild(docLink);\n",
              "        }\n",
              "      </script>\n",
              "    </div>\n",
              "  </div>\n",
              "  "
            ]
          },
          "metadata": {},
          "execution_count": 91
        }
      ]
    },
    {
      "cell_type": "code",
      "source": [
        "train.info()"
      ],
      "metadata": {
        "id": "DVbNeq0HGsc6",
        "colab": {
          "base_uri": "https://localhost:8080/"
        },
        "outputId": "305db93c-0b85-461e-b5e0-3696767a76d5"
      },
      "execution_count": null,
      "outputs": [
        {
          "output_type": "stream",
          "name": "stdout",
          "text": [
            "<class 'pandas.core.frame.DataFrame'>\n",
            "RangeIndex: 114 entries, 0 to 113\n",
            "Data columns (total 11 columns):\n",
            " #   Column               Non-Null Count  Dtype  \n",
            "---  ------               --------------  -----  \n",
            " 0   id                   114 non-null    int64  \n",
            " 1   Species              114 non-null    object \n",
            " 2   Island               114 non-null    object \n",
            " 3   Clutch Completion    114 non-null    object \n",
            " 4   Culmen Length (mm)   114 non-null    float64\n",
            " 5   Culmen Depth (mm)    114 non-null    float64\n",
            " 6   Flipper Length (mm)  114 non-null    int64  \n",
            " 7   Sex                  111 non-null    object \n",
            " 8   Delta 15 N (o/oo)    111 non-null    float64\n",
            " 9   Delta 13 C (o/oo)    111 non-null    float64\n",
            " 10  Body Mass (g)        114 non-null    int64  \n",
            "dtypes: float64(4), int64(3), object(4)\n",
            "memory usage: 9.9+ KB\n"
          ]
        }
      ]
    },
    {
      "cell_type": "markdown",
      "source": [
        "Sex, Delta 15 N (o/oo), Delta 13 C (o/oo) 컬럼에 결측치가 존재합니다."
      ],
      "metadata": {
        "id": "Fh84Ezd1H3PF"
      }
    },
    {
      "cell_type": "markdown",
      "source": [
        "<br>"
      ],
      "metadata": {
        "id": "81tnfwzNIWUP"
      }
    },
    {
      "cell_type": "markdown",
      "source": [
        "결측치가 있는 행을 확인해보겠습니다."
      ],
      "metadata": {
        "id": "hEyk8UogIHZ6"
      }
    },
    {
      "cell_type": "code",
      "source": [
        "train[train.isna().sum(axis=1) > 0]"
      ],
      "metadata": {
        "id": "XJL-JtpdIKII",
        "colab": {
          "base_uri": "https://localhost:8080/",
          "height": 354
        },
        "outputId": "cddbe093-6039-42b6-da75-dfe48735cd8e"
      },
      "execution_count": null,
      "outputs": [
        {
          "output_type": "execute_result",
          "data": {
            "text/plain": [
              "      id                              Species     Island Clutch Completion  \\\n",
              "6      6  Adelie Penguin (Pygoscelis adeliae)  Torgersen               Yes   \n",
              "8      8  Adelie Penguin (Pygoscelis adeliae)  Torgersen               Yes   \n",
              "18    18  Adelie Penguin (Pygoscelis adeliae)      Dream                No   \n",
              "70    70    Gentoo penguin (Pygoscelis papua)     Biscoe               Yes   \n",
              "109  109  Adelie Penguin (Pygoscelis adeliae)  Torgersen               Yes   \n",
              "\n",
              "     Culmen Length (mm)  Culmen Depth (mm)  Flipper Length (mm)     Sex  \\\n",
              "6                  42.0               20.2                  190     NaN   \n",
              "8                  34.1               18.1                  193     NaN   \n",
              "18                 39.8               19.1                  184    MALE   \n",
              "70                 46.2               14.4                  214     NaN   \n",
              "109                36.6               17.8                  185  FEMALE   \n",
              "\n",
              "     Delta 15 N (o/oo)  Delta 13 C (o/oo)  Body Mass (g)  \n",
              "6              9.13362          -25.09368           4250  \n",
              "8                  NaN                NaN           3475  \n",
              "18                 NaN                NaN           4650  \n",
              "70             8.24253          -26.81540           4650  \n",
              "109                NaN                NaN           3700  "
            ],
            "text/html": [
              "\n",
              "  <div id=\"df-d23c91fc-d90b-4e57-928b-d4ada8beb57d\">\n",
              "    <div class=\"colab-df-container\">\n",
              "      <div>\n",
              "<style scoped>\n",
              "    .dataframe tbody tr th:only-of-type {\n",
              "        vertical-align: middle;\n",
              "    }\n",
              "\n",
              "    .dataframe tbody tr th {\n",
              "        vertical-align: top;\n",
              "    }\n",
              "\n",
              "    .dataframe thead th {\n",
              "        text-align: right;\n",
              "    }\n",
              "</style>\n",
              "<table border=\"1\" class=\"dataframe\">\n",
              "  <thead>\n",
              "    <tr style=\"text-align: right;\">\n",
              "      <th></th>\n",
              "      <th>id</th>\n",
              "      <th>Species</th>\n",
              "      <th>Island</th>\n",
              "      <th>Clutch Completion</th>\n",
              "      <th>Culmen Length (mm)</th>\n",
              "      <th>Culmen Depth (mm)</th>\n",
              "      <th>Flipper Length (mm)</th>\n",
              "      <th>Sex</th>\n",
              "      <th>Delta 15 N (o/oo)</th>\n",
              "      <th>Delta 13 C (o/oo)</th>\n",
              "      <th>Body Mass (g)</th>\n",
              "    </tr>\n",
              "  </thead>\n",
              "  <tbody>\n",
              "    <tr>\n",
              "      <th>6</th>\n",
              "      <td>6</td>\n",
              "      <td>Adelie Penguin (Pygoscelis adeliae)</td>\n",
              "      <td>Torgersen</td>\n",
              "      <td>Yes</td>\n",
              "      <td>42.0</td>\n",
              "      <td>20.2</td>\n",
              "      <td>190</td>\n",
              "      <td>NaN</td>\n",
              "      <td>9.13362</td>\n",
              "      <td>-25.09368</td>\n",
              "      <td>4250</td>\n",
              "    </tr>\n",
              "    <tr>\n",
              "      <th>8</th>\n",
              "      <td>8</td>\n",
              "      <td>Adelie Penguin (Pygoscelis adeliae)</td>\n",
              "      <td>Torgersen</td>\n",
              "      <td>Yes</td>\n",
              "      <td>34.1</td>\n",
              "      <td>18.1</td>\n",
              "      <td>193</td>\n",
              "      <td>NaN</td>\n",
              "      <td>NaN</td>\n",
              "      <td>NaN</td>\n",
              "      <td>3475</td>\n",
              "    </tr>\n",
              "    <tr>\n",
              "      <th>18</th>\n",
              "      <td>18</td>\n",
              "      <td>Adelie Penguin (Pygoscelis adeliae)</td>\n",
              "      <td>Dream</td>\n",
              "      <td>No</td>\n",
              "      <td>39.8</td>\n",
              "      <td>19.1</td>\n",
              "      <td>184</td>\n",
              "      <td>MALE</td>\n",
              "      <td>NaN</td>\n",
              "      <td>NaN</td>\n",
              "      <td>4650</td>\n",
              "    </tr>\n",
              "    <tr>\n",
              "      <th>70</th>\n",
              "      <td>70</td>\n",
              "      <td>Gentoo penguin (Pygoscelis papua)</td>\n",
              "      <td>Biscoe</td>\n",
              "      <td>Yes</td>\n",
              "      <td>46.2</td>\n",
              "      <td>14.4</td>\n",
              "      <td>214</td>\n",
              "      <td>NaN</td>\n",
              "      <td>8.24253</td>\n",
              "      <td>-26.81540</td>\n",
              "      <td>4650</td>\n",
              "    </tr>\n",
              "    <tr>\n",
              "      <th>109</th>\n",
              "      <td>109</td>\n",
              "      <td>Adelie Penguin (Pygoscelis adeliae)</td>\n",
              "      <td>Torgersen</td>\n",
              "      <td>Yes</td>\n",
              "      <td>36.6</td>\n",
              "      <td>17.8</td>\n",
              "      <td>185</td>\n",
              "      <td>FEMALE</td>\n",
              "      <td>NaN</td>\n",
              "      <td>NaN</td>\n",
              "      <td>3700</td>\n",
              "    </tr>\n",
              "  </tbody>\n",
              "</table>\n",
              "</div>\n",
              "      <button class=\"colab-df-convert\" onclick=\"convertToInteractive('df-d23c91fc-d90b-4e57-928b-d4ada8beb57d')\"\n",
              "              title=\"Convert this dataframe to an interactive table.\"\n",
              "              style=\"display:none;\">\n",
              "        \n",
              "  <svg xmlns=\"http://www.w3.org/2000/svg\" height=\"24px\"viewBox=\"0 0 24 24\"\n",
              "       width=\"24px\">\n",
              "    <path d=\"M0 0h24v24H0V0z\" fill=\"none\"/>\n",
              "    <path d=\"M18.56 5.44l.94 2.06.94-2.06 2.06-.94-2.06-.94-.94-2.06-.94 2.06-2.06.94zm-11 1L8.5 8.5l.94-2.06 2.06-.94-2.06-.94L8.5 2.5l-.94 2.06-2.06.94zm10 10l.94 2.06.94-2.06 2.06-.94-2.06-.94-.94-2.06-.94 2.06-2.06.94z\"/><path d=\"M17.41 7.96l-1.37-1.37c-.4-.4-.92-.59-1.43-.59-.52 0-1.04.2-1.43.59L10.3 9.45l-7.72 7.72c-.78.78-.78 2.05 0 2.83L4 21.41c.39.39.9.59 1.41.59.51 0 1.02-.2 1.41-.59l7.78-7.78 2.81-2.81c.8-.78.8-2.07 0-2.86zM5.41 20L4 18.59l7.72-7.72 1.47 1.35L5.41 20z\"/>\n",
              "  </svg>\n",
              "      </button>\n",
              "      \n",
              "  <style>\n",
              "    .colab-df-container {\n",
              "      display:flex;\n",
              "      flex-wrap:wrap;\n",
              "      gap: 12px;\n",
              "    }\n",
              "\n",
              "    .colab-df-convert {\n",
              "      background-color: #E8F0FE;\n",
              "      border: none;\n",
              "      border-radius: 50%;\n",
              "      cursor: pointer;\n",
              "      display: none;\n",
              "      fill: #1967D2;\n",
              "      height: 32px;\n",
              "      padding: 0 0 0 0;\n",
              "      width: 32px;\n",
              "    }\n",
              "\n",
              "    .colab-df-convert:hover {\n",
              "      background-color: #E2EBFA;\n",
              "      box-shadow: 0px 1px 2px rgba(60, 64, 67, 0.3), 0px 1px 3px 1px rgba(60, 64, 67, 0.15);\n",
              "      fill: #174EA6;\n",
              "    }\n",
              "\n",
              "    [theme=dark] .colab-df-convert {\n",
              "      background-color: #3B4455;\n",
              "      fill: #D2E3FC;\n",
              "    }\n",
              "\n",
              "    [theme=dark] .colab-df-convert:hover {\n",
              "      background-color: #434B5C;\n",
              "      box-shadow: 0px 1px 3px 1px rgba(0, 0, 0, 0.15);\n",
              "      filter: drop-shadow(0px 1px 2px rgba(0, 0, 0, 0.3));\n",
              "      fill: #FFFFFF;\n",
              "    }\n",
              "  </style>\n",
              "\n",
              "      <script>\n",
              "        const buttonEl =\n",
              "          document.querySelector('#df-d23c91fc-d90b-4e57-928b-d4ada8beb57d button.colab-df-convert');\n",
              "        buttonEl.style.display =\n",
              "          google.colab.kernel.accessAllowed ? 'block' : 'none';\n",
              "\n",
              "        async function convertToInteractive(key) {\n",
              "          const element = document.querySelector('#df-d23c91fc-d90b-4e57-928b-d4ada8beb57d');\n",
              "          const dataTable =\n",
              "            await google.colab.kernel.invokeFunction('convertToInteractive',\n",
              "                                                     [key], {});\n",
              "          if (!dataTable) return;\n",
              "\n",
              "          const docLinkHtml = 'Like what you see? Visit the ' +\n",
              "            '<a target=\"_blank\" href=https://colab.research.google.com/notebooks/data_table.ipynb>data table notebook</a>'\n",
              "            + ' to learn more about interactive tables.';\n",
              "          element.innerHTML = '';\n",
              "          dataTable['output_type'] = 'display_data';\n",
              "          await google.colab.output.renderOutput(dataTable, element);\n",
              "          const docLink = document.createElement('div');\n",
              "          docLink.innerHTML = docLinkHtml;\n",
              "          element.appendChild(docLink);\n",
              "        }\n",
              "      </script>\n",
              "    </div>\n",
              "  </div>\n",
              "  "
            ]
          },
          "metadata": {},
          "execution_count": 93
        }
      ]
    },
    {
      "cell_type": "markdown",
      "source": [
        "<br>"
      ],
      "metadata": {
        "id": "96JtYstgIkPW"
      }
    },
    {
      "cell_type": "markdown",
      "source": [
        "## **2. 데이터 탐색(EDA) & 데이터 전처리**"
      ],
      "metadata": {
        "id": "JcBwCey2IkxL"
      }
    },
    {
      "cell_type": "markdown",
      "source": [
        "### **1) 결측치 제거하기**"
      ],
      "metadata": {
        "id": "-6sqZPO-IrtL"
      }
    },
    {
      "cell_type": "markdown",
      "source": [
        "단순 문자열인 id 컬럼은 예측 성능을 떨어뜨리는 경우가 많기 때문에 삭제해줍니다."
      ],
      "metadata": {
        "id": "9nwJKsg_MpwX"
      }
    },
    {
      "cell_type": "code",
      "source": [
        "# id 삭제\n",
        "train = train.drop('id', axis=1)"
      ],
      "metadata": {
        "id": "wzWSGZMCMj81"
      },
      "execution_count": null,
      "outputs": []
    },
    {
      "cell_type": "markdown",
      "source": [
        "<br>"
      ],
      "metadata": {
        "id": "e0APB_AtPOz7"
      }
    },
    {
      "cell_type": "markdown",
      "source": [
        "카테고리형 데이터에 결측치가 존재하는 경우는 행을 삭제하고,\n",
        "\n",
        "수치형 데이터에 결측치가 존재하는 경우는 0값을 채워주겠습니다."
      ],
      "metadata": {
        "id": "sIRmtd-XPBfS"
      }
    },
    {
      "cell_type": "code",
      "source": [
        "# 카테고리형 데이터에서 결측치에 해당하는 행 삭제\n",
        "train_preprocessed = train.dropna(subset=['Sex'])\n",
        "# 수치형 데이터에서 결측치에 0값 넣기\n",
        "train_preprocessed = train_preprocessed.fillna(0)\n",
        "# 확인\n",
        "train_preprocessed.info()"
      ],
      "metadata": {
        "id": "2DQgrcRNL9iV",
        "colab": {
          "base_uri": "https://localhost:8080/"
        },
        "outputId": "f8be7dd2-a131-40f0-e5c1-d19c17990d45"
      },
      "execution_count": null,
      "outputs": [
        {
          "output_type": "stream",
          "name": "stdout",
          "text": [
            "<class 'pandas.core.frame.DataFrame'>\n",
            "Int64Index: 111 entries, 0 to 113\n",
            "Data columns (total 10 columns):\n",
            " #   Column               Non-Null Count  Dtype  \n",
            "---  ------               --------------  -----  \n",
            " 0   Species              111 non-null    object \n",
            " 1   Island               111 non-null    object \n",
            " 2   Clutch Completion    111 non-null    object \n",
            " 3   Culmen Length (mm)   111 non-null    float64\n",
            " 4   Culmen Depth (mm)    111 non-null    float64\n",
            " 5   Flipper Length (mm)  111 non-null    int64  \n",
            " 6   Sex                  111 non-null    object \n",
            " 7   Delta 15 N (o/oo)    111 non-null    float64\n",
            " 8   Delta 13 C (o/oo)    111 non-null    float64\n",
            " 9   Body Mass (g)        111 non-null    int64  \n",
            "dtypes: float64(4), int64(2), object(4)\n",
            "memory usage: 9.5+ KB\n"
          ]
        }
      ]
    },
    {
      "cell_type": "markdown",
      "source": [
        "결측치가 모두 제거되었습니다."
      ],
      "metadata": {
        "id": "3FBpQArIqHjy"
      }
    },
    {
      "cell_type": "markdown",
      "source": [
        "<br>"
      ],
      "metadata": {
        "id": "FSahE466PvLz"
      }
    },
    {
      "cell_type": "markdown",
      "source": [
        "### **2) 데이터 시각화**"
      ],
      "metadata": {
        "id": "RI2UMCrMQBHT"
      }
    },
    {
      "cell_type": "markdown",
      "source": [
        "수치형 데이터와 카테고리형 데이터의 시각화를 따로 진행하기 위해 numeric_feature와 categorical_feature 리스트를 생성해줍니다.\n",
        "<br><br>\n",
        "🔢 수치형 데이터<br>: 'Culmen Length (mm)', 'Culmen Depth (mm)', 'Flipper Length (mm)', 'Delta 15 N (o/oo)', 'Delta 13 C (o/oo)', 'Body Mass (g)'\n",
        "\n",
        "🔤 카테고리형 데이터<br>: 'Species', 'Island', 'Clutch Completion', 'Sex'"
      ],
      "metadata": {
        "id": "hlMzvjAlXS0T"
      }
    },
    {
      "cell_type": "code",
      "source": [
        "import matplotlib.pyplot as plt\n",
        "import seaborn as sns\n",
        "\n",
        "numeric_feature = ['Culmen Length (mm)', 'Culmen Depth (mm)', 'Flipper Length (mm)', 'Delta 15 N (o/oo)', 'Delta 13 C (o/oo)', 'Body Mass (g)']\n",
        "categorical_feature = ['Species', 'Island', 'Clutch Completion', 'Sex']"
      ],
      "metadata": {
        "id": "DOfzJoc9I1Ep"
      },
      "execution_count": null,
      "outputs": []
    },
    {
      "cell_type": "markdown",
      "source": [
        "<br>"
      ],
      "metadata": {
        "id": "q55wI93IXsPg"
      }
    },
    {
      "cell_type": "markdown",
      "source": [
        "**[ 수치형 데이터 시각화 ]**"
      ],
      "metadata": {
        "id": "2t7-zQS8SJW-"
      }
    },
    {
      "cell_type": "code",
      "source": [
        "plt.figure(figsize=(15,7))\n",
        "for i in range(len(numeric_feature)):\n",
        "  plt.subplot(2,3,i+1)\n",
        "  sns.boxplot(train[numeric_feature[i]])"
      ],
      "metadata": {
        "id": "4XoC0aQFScyH",
        "colab": {
          "base_uri": "https://localhost:8080/",
          "height": 680
        },
        "outputId": "f8aa58f0-0044-4ecd-c631-d73aa25db521"
      },
      "execution_count": null,
      "outputs": [
        {
          "output_type": "stream",
          "name": "stderr",
          "text": [
            "/usr/local/lib/python3.7/dist-packages/seaborn/_decorators.py:43: FutureWarning: Pass the following variable as a keyword arg: x. From version 0.12, the only valid positional argument will be `data`, and passing other arguments without an explicit keyword will result in an error or misinterpretation.\n",
            "  FutureWarning\n",
            "/usr/local/lib/python3.7/dist-packages/seaborn/_decorators.py:43: FutureWarning: Pass the following variable as a keyword arg: x. From version 0.12, the only valid positional argument will be `data`, and passing other arguments without an explicit keyword will result in an error or misinterpretation.\n",
            "  FutureWarning\n",
            "/usr/local/lib/python3.7/dist-packages/seaborn/_decorators.py:43: FutureWarning: Pass the following variable as a keyword arg: x. From version 0.12, the only valid positional argument will be `data`, and passing other arguments without an explicit keyword will result in an error or misinterpretation.\n",
            "  FutureWarning\n",
            "/usr/local/lib/python3.7/dist-packages/seaborn/_decorators.py:43: FutureWarning: Pass the following variable as a keyword arg: x. From version 0.12, the only valid positional argument will be `data`, and passing other arguments without an explicit keyword will result in an error or misinterpretation.\n",
            "  FutureWarning\n",
            "/usr/local/lib/python3.7/dist-packages/seaborn/_decorators.py:43: FutureWarning: Pass the following variable as a keyword arg: x. From version 0.12, the only valid positional argument will be `data`, and passing other arguments without an explicit keyword will result in an error or misinterpretation.\n",
            "  FutureWarning\n",
            "/usr/local/lib/python3.7/dist-packages/seaborn/_decorators.py:43: FutureWarning: Pass the following variable as a keyword arg: x. From version 0.12, the only valid positional argument will be `data`, and passing other arguments without an explicit keyword will result in an error or misinterpretation.\n",
            "  FutureWarning\n"
          ]
        },
        {
          "output_type": "display_data",
          "data": {
            "text/plain": [
              "<Figure size 1080x504 with 6 Axes>"
            ],
            "image/png": "[encoded data removed]"
          },
          "metadata": {
            "needs_background": "light"
          }
        }
      ]
    },
    {
      "cell_type": "markdown",
      "source": [
        "- **plt.figure(figsize=(15,7))**\n",
        "\n",
        "  *figsize=(가로길이,세로길이)*\n",
        "\n",
        "  그래프의 크기를 조절해줍니다. \n",
        "- **for i in range(len(numeric_feature))**\n",
        "\n",
        "  numeric_feature의 길이만큼 반복문을 수행합니다.\n",
        "\n",
        "- **plt.subplot(2,3,i+1)**\n",
        "\n",
        "  *plt.subplot(nrows,ncols,index)*\n",
        "  \n",
        "  하나의 결과 창에 여러 개의 그래프를 플롯팅할 수 있습니다. → <2행 3열>\n",
        "\n",
        "- **sns.boxplot(train[numeric_feature[i]])**\n",
        "\n",
        "  train 데이터에서 numeric_feature에 해당하는 컬럼의 상자그림을 그립니다."
      ],
      "metadata": {
        "id": "SKWy5RF-sLyG"
      }
    },
    {
      "cell_type": "markdown",
      "source": [
        "<br>"
      ],
      "metadata": {
        "id": "MNqBJ7RqXwVD"
      }
    },
    {
      "cell_type": "markdown",
      "source": [
        "**[ 카테고리형 데이터 시각화 ]**"
      ],
      "metadata": {
        "id": "9g56ts0vSWw_"
      }
    },
    {
      "cell_type": "code",
      "source": [
        "plt.figure(figsize=(12,20))\n",
        "for i in range(len(categorical_feature)):\n",
        "  plt.subplot(4,1,i+1)\n",
        "  sns.barplot(x=categorical_feature[i], y='Body Mass (g)', data=train)"
      ],
      "metadata": {
        "id": "BJsShlKZUyrY",
        "colab": {
          "base_uri": "https://localhost:8080/",
          "height": 1000
        },
        "outputId": "d352d269-86a2-4bde-c80c-acb318fe2707"
      },
      "execution_count": null,
      "outputs": [
        {
          "output_type": "display_data",
          "data": {
            "text/plain": [
              "<Figure size 864x1440 with 4 Axes>"
            ],
            "image/png": "[encoded data removed]"
          },
          "metadata": {
            "needs_background": "light"
          }
        }
      ]
    },
    {
      "cell_type": "markdown",
      "source": [
        "\n",
        "- **plt.subplot(4,1,i+1)**\n",
        "\n",
        "  *plt.subplot(nrows,ncols,index)*\n",
        "  \n",
        "  하나의 결과 창에 여러 개의 그래프를 플롯팅할 수 있습니다. → <4행 1열>\n",
        "\n",
        "- **sns.barplot(x=categorical_feature[i], y='Body Mass (g)', data=train)**\n",
        "\n",
        "  train 데이터에서 categorical_feature에 해당하는 컬럼의 막대그래프를 그립니다.\n",
        "  \n",
        "  이때, y축 값은 x축 값에 따른 'Body Mass (g)'의 평균입니다."
      ],
      "metadata": {
        "id": "KM8IcSIFuwGE"
      }
    },
    {
      "cell_type": "markdown",
      "source": [
        "<br>"
      ],
      "metadata": {
        "id": "QZcGDe23ZQAP"
      }
    },
    {
      "cell_type": "markdown",
      "source": [
        "**[ 기타 ]**"
      ],
      "metadata": {
        "id": "IFdKKstlZTR5"
      }
    },
    {
      "cell_type": "markdown",
      "source": [
        "카테고리형 데이터인 **'Species', 'Island', 'Sex'** 값에 따른 'Body Mass (g)' 값의 차이가 유의미하다고 판단하여 \n",
        "\n",
        "이를 확인해보기 위해 막대그래프와 상자그림을 그려보았습니다."
      ],
      "metadata": {
        "id": "RYmCWq55wdms"
      }
    },
    {
      "cell_type": "code",
      "source": [
        "# Species\n",
        "plt.figure(figsize=(15,7))\n",
        "\n",
        "plt.subplot(1,2,1)\n",
        "plt.xticks(rotation = 90)\n",
        "sns.barplot(data=train, x='Species', y='Body Mass (g)')\n",
        "plt.title('The Mean of Body Mess per Species')\n",
        "\n",
        "plt.subplot(1,2,2)\n",
        "plt.xticks(rotation = 90)\n",
        "sns.boxplot(data=train, x='Species',y='Body Mass (g)')\n",
        "plt.title('Boxplot of Body Mess per Species')"
      ],
      "metadata": {
        "id": "K3pKYAZeI4aZ",
        "colab": {
          "base_uri": "https://localhost:8080/",
          "height": 675
        },
        "outputId": "4335cc12-d54e-48e6-d0aa-9d2db5529100"
      },
      "execution_count": null,
      "outputs": [
        {
          "output_type": "execute_result",
          "data": {
            "text/plain": [
              "Text(0.5, 1.0, 'Boxplot of Body Mess per Species')"
            ]
          },
          "metadata": {},
          "execution_count": 99
        },
        {
          "output_type": "display_data",
          "data": {
            "text/plain": [
              "<Figure size 1080x504 with 2 Axes>"
            ],
            "image/png": "[encoded data removed]"
          },
          "metadata": {
            "needs_background": "light"
          }
        }
      ]
    },
    {
      "cell_type": "markdown",
      "source": [
        "- **plt.xticks(rotation = 90)**\n",
        "\n",
        "  x축 레이블을 회전할 수 있습니다.\n",
        "\n",
        "  x축 레이블의 길이가 길어 겹쳐보이는 문제를 해결하기 위해 90도 회전하였습니다.\n",
        "\n",
        "- **sns.barplot(data=train, x='Species', y='Body Mass (g)')**\n",
        "\n",
        "  train 데이터에서 'Species'별 'Body Mass (g)'의 막대그래프를 그립니다.\n",
        "\n",
        "  이때, y축 값은 x축 값에 따른 'Body Mass (g)'의 평균입니다.\n",
        "\n",
        "- **plt.title('The Mean of Body Mess per Species')**\n",
        "\n",
        "  그래프의 제목을 설정해줄 수 있습니다.\n",
        "\n",
        "- **sns.boxplot(data=train, x='Species',y='Body Mass (g)')**\n",
        "\n",
        "  train 데이터에서 'Species'별 'Body Mass (g)'의 상자그림을 그립니다."
      ],
      "metadata": {
        "id": "LTUF9CG2yQ4l"
      }
    },
    {
      "cell_type": "markdown",
      "source": [
        "<br>"
      ],
      "metadata": {
        "id": "iHZe-bL4emoc"
      }
    },
    {
      "cell_type": "code",
      "source": [
        "# Island\n",
        "plt.figure(figsize=(15,7))\n",
        "\n",
        "plt.subplot(1,2,1)\n",
        "sns.barplot(data=train, x='Island', y='Body Mass (g)')\n",
        "plt.title('The Mean of Body Mess per Island')\n",
        "\n",
        "plt.subplot(1,2,2)\n",
        "sns.boxplot(data=train, x='Island',y='Body Mass (g)')\n",
        "plt.title('Boxplot of Body Mess per Island')"
      ],
      "metadata": {
        "id": "DHvac0b8JD2K",
        "colab": {
          "base_uri": "https://localhost:8080/",
          "height": 476
        },
        "outputId": "ccb64c3d-68cf-4884-b01a-0d11360b21d2"
      },
      "execution_count": null,
      "outputs": [
        {
          "output_type": "execute_result",
          "data": {
            "text/plain": [
              "Text(0.5, 1.0, 'Boxplot of Body Mess per Island')"
            ]
          },
          "metadata": {},
          "execution_count": 100
        },
        {
          "output_type": "display_data",
          "data": {
            "text/plain": [
              "<Figure size 1080x504 with 2 Axes>"
            ],
            "image/png": "[encoded data removed]"
          },
          "metadata": {
            "needs_background": "light"
          }
        }
      ]
    },
    {
      "cell_type": "markdown",
      "source": [
        "- **sns.barplot(data=train, x='Island', y='Body Mass (g)')**\n",
        "\n",
        "  train 데이터에서 'Island'별 'Body Mass (g)'의 막대그래프를 그립니다.\n",
        "\n",
        "  이때, y축 값은 x축 값에 따른 'Body Mass (g)'의 평균입니다.\n",
        "\n",
        "- **sns.boxplot(data=train, x='Island',y='Body Mass (g)')**\n",
        "\n",
        "  train 데이터에서 'Island'별 'Body Mass (g)'의 상자그림을 그립니다."
      ],
      "metadata": {
        "id": "ycooPe4B0Ugn"
      }
    },
    {
      "cell_type": "markdown",
      "source": [
        "<br>"
      ],
      "metadata": {
        "id": "UlDMMN56btQJ"
      }
    },
    {
      "cell_type": "code",
      "source": [
        "# Sex\n",
        "plt.figure(figsize=(15,7))\n",
        "\n",
        "plt.subplot(1,2,1)\n",
        "sns.barplot(data=train, x='Sex', y='Body Mass (g)')\n",
        "plt.title('The Mean of Body Mess per Sex')\n",
        "\n",
        "plt.subplot(1,2,2)\n",
        "sns.boxplot(data=train, x='Sex',y='Body Mass (g)')\n",
        "plt.title('Boxplot of Body Mess per Sex')"
      ],
      "metadata": {
        "id": "WTiR0SJ5JFlt",
        "colab": {
          "base_uri": "https://localhost:8080/",
          "height": 476
        },
        "outputId": "d17debfe-92f3-4afb-e775-157e44eed6bb"
      },
      "execution_count": null,
      "outputs": [
        {
          "output_type": "execute_result",
          "data": {
            "text/plain": [
              "Text(0.5, 1.0, 'Boxplot of Body Mess per Sex')"
            ]
          },
          "metadata": {},
          "execution_count": 101
        },
        {
          "output_type": "display_data",
          "data": {
            "text/plain": [
              "<Figure size 1080x504 with 2 Axes>"
            ],
            "image/png": "[encoded data removed]"
          },
          "metadata": {
            "needs_background": "light"
          }
        }
      ]
    },
    {
      "cell_type": "markdown",
      "source": [
        "- **sns.barplot(data=train, x='Sex', y='Body Mass (g)')**\n",
        "\n",
        "  train 데이터에서 'Sex'별 'Body Mass (g)'의 막대그래프를 그립니다.\n",
        "\n",
        "  이때, y축 값은 x축 값에 따른 'Body Mass (g)'의 평균입니다.\n",
        "\n",
        "- **sns.boxplot(data=train, x='Sex',y='Body Mass (g)')**\n",
        "\n",
        "  train 데이터에서 'Sex'별 'Body Mass (g)'의 상자그림을 그립니다."
      ],
      "metadata": {
        "id": "EF_qEoT_0meL"
      }
    },
    {
      "cell_type": "markdown",
      "source": [
        "<br>"
      ],
      "metadata": {
        "id": "Ds3PXq3ajDx2"
      }
    },
    {
      "cell_type": "markdown",
      "source": [
        "### **3) 데이터 인코딩**"
      ],
      "metadata": {
        "id": "lI3kkStijEig"
      }
    },
    {
      "cell_type": "markdown",
      "source": [
        "상관관계 분석을 하기에 앞서 상관계수 계산과 모델 학습이 가능하도록 문자열 데이터를 숫자 형으로 바꾸는 과정인 인코딩을 수행하겠습니다."
      ],
      "metadata": {
        "id": "ieVnsV-902EV"
      }
    },
    {
      "cell_type": "code",
      "source": [
        "# 레이블 인코딩을 하기 위한 dictionary map 생성 함수\n",
        "def make_label_map(dataframe):\n",
        "    label_maps = {}\n",
        "    for col in dataframe.columns:\n",
        "        if dataframe[col].dtype=='object': \n",
        "            label_map = {'unknown':0} \n",
        "            for i, key in enumerate(train[col].unique()):\n",
        "                label_map[key] = i+1\n",
        "            label_maps[col] = label_map\n",
        "    return label_maps\n",
        "\n",
        "\n",
        "\n",
        "# 각 범주형 변수에 인코딩 값을 부여하는 함수\n",
        "def label_encoder(dataframe, label_map):\n",
        "    for col in dataframe.columns:\n",
        "        if dataframe[col].dtype=='object':\n",
        "            dataframe[col] = dataframe[col].map(label_map[col])\n",
        "            dataframe[col] = dataframe[col].fillna(label_map[col]['unknown']) #혹시 모를 결측값은 unknown의 값으로 채워줍니다.\n",
        "    return dataframe"
      ],
      "metadata": {
        "id": "_6lC1hqJlV21"
      },
      "execution_count": null,
      "outputs": []
    },
    {
      "cell_type": "code",
      "source": [
        "# 전처리 완료한 train 데이터 : train_preprocessed\n",
        "label_map = make_label_map(train_preprocessed) # train_preprocessed 사용해 label map 생성\n",
        "labeled_train = label_encoder(train_preprocessed, label_map) # train_preprocessed 라벨 인코딩"
      ],
      "metadata": {
        "id": "kq9IwMSema8k"
      },
      "execution_count": null,
      "outputs": []
    },
    {
      "cell_type": "markdown",
      "source": [
        "<br>"
      ],
      "metadata": {
        "id": "Me0rpJ73me4l"
      }
    },
    {
      "cell_type": "markdown",
      "source": [
        "### **4) 상관관계 분석**"
      ],
      "metadata": {
        "id": "bcGZiwAZmf7M"
      }
    },
    {
      "cell_type": "markdown",
      "source": [
        "모든 컬럼간의 상관계수를 우선 구한 뒤, seaborn의 heatmap 그래프로 한눈에 보기 쉽게 표현해주도록 하겠습니다.\n",
        "<br><br>\n",
        "📊 heatmap이란?<br>: 데이터를 색상으로 인코딩된 행렬로 표현해주는 그래프로, 값의 차이를 한눈에 파악하기 쉽습니다.\n",
        "\n"
      ],
      "metadata": {
        "id": "B7i52O5AZb-d"
      }
    },
    {
      "cell_type": "code",
      "source": [
        "corr = labeled_train.corr()\n",
        "plt.figure(figsize=(10, 10))\n",
        "sns.heatmap(corr,\n",
        "            vmax=0.8,\n",
        "            linewidths=0.01,\n",
        "            square=True,\n",
        "            annot=True,\n",
        "            cmap='YlGnBu')\n",
        "plt.title('Feature Correlation')"
      ],
      "metadata": {
        "id": "qWZg0s9CjQtx",
        "colab": {
          "base_uri": "https://localhost:8080/",
          "height": 661
        },
        "outputId": "d725c250-b08e-418d-bb87-711df4515f2c"
      },
      "execution_count": null,
      "outputs": [
        {
          "output_type": "execute_result",
          "data": {
            "text/plain": [
              "Text(0.5, 1.0, 'Feature Correlation')"
            ]
          },
          "metadata": {},
          "execution_count": 104
        },
        {
          "output_type": "display_data",
          "data": {
            "text/plain": [
              "<Figure size 720x720 with 2 Axes>"
            ],
            "image/png": "[encoded data removed]"
          },
          "metadata": {
            "needs_background": "light"
          }
        }
      ]
    },
    {
      "cell_type": "markdown",
      "source": [
        "- **corr = labeled_train.corr()**\n",
        "\n",
        "  label_train의 모든 컬럼 간의 상관계수를 구해줍니다.\n",
        "\n",
        "- **sns.heatmap(corr, vmax=0.8, linewidths=0.01, square=True, annot=True, cmap='YlGnBu')**\n",
        "\n",
        "  상관계수 데이터를 heatmap 그래프로 나타냅니다.\n",
        "\n",
        "  - vmax : 최댓값\n",
        "  - linewidths : 각 셀을 분할할 선의 너비\n",
        "  - square : True이면 각 셀이 정사각형 모양이 되도록 설정\n",
        "  - annot : True이면 각 셀에 데이터 값을 표시\n",
        "  - cmap : 색상 설정"
      ],
      "metadata": {
        "id": "fTXitBMw3sdL"
      }
    },
    {
      "cell_type": "markdown",
      "source": [
        "<br>"
      ],
      "metadata": {
        "id": "w_u95UXe3z08"
      }
    },
    {
      "cell_type": "markdown",
      "source": [
        "위의 결과 상관계수 값이 0.5를 넘는 수치형 변수의 산점도를 확인해보겠습니다.\n",
        "\n",
        "*Flipper Length (mm) = 0.87 > Species = -0.74 > Island = -0.63 > Culmen Length (mm) = 0.57*\n"
      ],
      "metadata": {
        "id": "pDLurJqz34AI"
      }
    },
    {
      "cell_type": "code",
      "source": [
        "plt.figure(figsize=(15,7))\n",
        "\n",
        "plt.subplot(1,2,1)\n",
        "sns.scatterplot(data=train, x='Flipper Length (mm)', y='Body Mass (g)')\n",
        "\n",
        "plt.subplot(1,2,2)\n",
        "sns.scatterplot(data=train, x='Culmen Length (mm)', y='Body Mass (g)')"
      ],
      "metadata": {
        "id": "_0wPdSN2m0xd",
        "colab": {
          "base_uri": "https://localhost:8080/",
          "height": 460
        },
        "outputId": "bec23431-78ef-4989-ceb3-3fbb8a04f1c3"
      },
      "execution_count": null,
      "outputs": [
        {
          "output_type": "execute_result",
          "data": {
            "text/plain": [
              "<matplotlib.axes._subplots.AxesSubplot at 0x7f01f3df50d0>"
            ]
          },
          "metadata": {},
          "execution_count": 105
        },
        {
          "output_type": "display_data",
          "data": {
            "text/plain": [
              "<Figure size 1080x504 with 2 Axes>"
            ],
            "image/png": "[encoded data removed]"
          },
          "metadata": {
            "needs_background": "light"
          }
        }
      ]
    },
    {
      "cell_type": "markdown",
      "source": [
        "- **sns.scatterplot(data=train, x='Flipper Length (mm)', y='Body Mass (g)')**\n",
        "\n",
        "  'Flipper Length (mm)'와 'Body Mass (g)'의 산점도를 그립니다.\n",
        "\n",
        "- **sns.scatterplot(data=train, x='Culmen Length (mm)', y='Body Mass (g)')**\n",
        "\n",
        "  'Culmen Length (mm)'와 'Body Mass (g)'의 산점도를 그립니다.\n"
      ],
      "metadata": {
        "id": "7v9ZgJYw4T_b"
      }
    },
    {
      "cell_type": "markdown",
      "source": [
        "<br>"
      ],
      "metadata": {
        "id": "mwgCkAzq5Orq"
      }
    },
    {
      "cell_type": "markdown",
      "source": [
        "seaborn의 regplot 함수는 산점도에 추세선과 95% 신뢰구간이 추가된 그래프입니다.\n",
        "\n",
        "모든 칼럼과 'Body Mass (g)'칼럼 간의 regplot을 그려 Target과 다른 feature들과의 관계를 살펴보겠습니다."
      ],
      "metadata": {
        "id": "TXXWwndzlI9A"
      }
    },
    {
      "cell_type": "code",
      "execution_count": null,
      "metadata": {
        "id": "DxsQYx3qexyf",
        "colab": {
          "base_uri": "https://localhost:8080/",
          "height": 877
        },
        "outputId": "f29b1591-d651-4b57-9fe9-9d63cc497f38"
      },
      "outputs": [
        {
          "output_type": "display_data",
          "data": {
            "text/plain": [
              "<Figure size 1080x1080 with 9 Axes>"
            ],
            "image/png": "[encoded data removed]"
          },
          "metadata": {
            "needs_background": "light"
          }
        }
      ],
      "source": [
        "full_column_list = labeled_train.columns.to_list()\n",
        "full_column_list.remove('Body Mass (g)')\n",
        "\n",
        "figure, ax_list = plt.subplots(nrows=3, ncols=3)\n",
        "figure.set_size_inches(15,15) \n",
        "\n",
        "for i in range(len(full_column_list)): \n",
        "    sns.regplot(data=labeled_train, x=full_column_list[i], y='Body Mass (g)', \n",
        "                ax=ax_list[int(i/3)][int(i%3)], color = \"orange\") "
      ]
    },
    {
      "cell_type": "code",
      "source": [
        "full_column_list"
      ],
      "metadata": {
        "id": "SzdP5uqFobq-",
        "colab": {
          "base_uri": "https://localhost:8080/"
        },
        "outputId": "30b6c260-5640-4bf2-8762-310cef785bed"
      },
      "execution_count": null,
      "outputs": [
        {
          "output_type": "execute_result",
          "data": {
            "text/plain": [
              "['Species',\n",
              " 'Island',\n",
              " 'Clutch Completion',\n",
              " 'Culmen Length (mm)',\n",
              " 'Culmen Depth (mm)',\n",
              " 'Flipper Length (mm)',\n",
              " 'Sex',\n",
              " 'Delta 15 N (o/oo)',\n",
              " 'Delta 13 C (o/oo)']"
            ]
          },
          "metadata": {},
          "execution_count": 107
        }
      ]
    },
    {
      "cell_type": "markdown",
      "source": [
        "- **labeled_train.columns.to_list()**\n",
        "\n",
        "  labeld_train의 컬럼 목록을 출력합니다.\n",
        "\n",
        "- **full_column_list.remove('Body Mass (g)')**\n",
        "\n",
        "  Target인 'Body Mass (g)' 칼럼을 제거합니다.\n",
        "\n",
        "- **figure.set_size_inches(15,15)** \n",
        "\n",
        "  그래프의 크기를 설정합니다.\n",
        "\n",
        "- **sns.regplot(data=labeled_train, x=full_column_list[i], y='Body Mass (g)', ax=ax_list[int(i/3)][int(i%3)], color = \"orange\")**\n",
        "\n",
        "  'Body Mass (g)'컬럼과 다른 feature들 간의 regplot을 그립니다.\n",
        "\n",
        "  - ax : 플롯을 그릴 축 선택"
      ],
      "metadata": {
        "id": "DVs2foaA4cty"
      }
    },
    {
      "cell_type": "markdown",
      "source": [
        "<br>"
      ],
      "metadata": {
        "id": "7bpncQNobZ5z"
      }
    },
    {
      "cell_type": "markdown",
      "source": [
        "## **3. 데이터 모델링**"
      ],
      "metadata": {
        "id": "n_BH0BLTbgls"
      }
    },
    {
      "cell_type": "markdown",
      "source": [
        "### **1) 릿지 회귀**"
      ],
      "metadata": {
        "id": "TYbXnkOhcGdF"
      }
    },
    {
      "cell_type": "markdown",
      "source": [
        "릿지(Ridge) 회귀는 W의 제곱에 대해 페널티를 부여하는 L2 규제를 선형 회귀에 적용한 것 입니다. <br>\n",
        "target과 학습에 불필요한 부분은 제외한 모든 feature은 펭귄몸무게로 지정하고, <br>\n",
        "alpha 값을 증가시키면 정규화를 통해 회귀 계수가 0에 가까워지므로 \n",
        "<br>Ridge 클래스의 alpha 값을 증가시키면서 회귀를 실행해보겠습니다.\n",
        "\n",
        "이후 예측 성능을 cross_val_score()로 평가해보겠습니다."
      ],
      "metadata": {
        "id": "3k7fiZ-dc9qv"
      }
    },
    {
      "cell_type": "code",
      "source": [
        "from sklearn.linear_model import Ridge\n",
        "from sklearn.model_selection import cross_val_score\n",
        "print('#######  Ridge #######\\n')\n",
        "\n",
        "ridge_alphas = [0, 0.1, 1, 10, 100]\n",
        "\n",
        "for alpha in ridge_alphas :\n",
        "    ridge = Ridge(alpha = alpha)\n",
        "\n",
        "    neg_mse_scores = cross_val_score(ridge, feature, target, scoring=\"neg_mean_squared_error\", cv = 5)\n",
        "    avg_rmse = np.mean(np.sqrt(-1 * neg_mse_scores))\n",
        "    print('alpha {0} 일 때 5 folds 의 평균 RMSE : {1:.3f} '.format(alpha, avg_rmse))"
      ],
      "metadata": {
        "id": "vH3VJ5lGc-iC",
        "colab": {
          "base_uri": "https://localhost:8080/"
        },
        "outputId": "294517bd-5141-4f2f-8e4d-908dc313ceb6"
      },
      "execution_count": null,
      "outputs": [
        {
          "output_type": "stream",
          "name": "stdout",
          "text": [
            "#######  Ridge #######\n",
            "\n",
            "alpha 0 일 때 5 folds 의 평균 RMSE : 336.435 \n",
            "alpha 0.1 일 때 5 folds 의 평균 RMSE : 336.058 \n",
            "alpha 1 일 때 5 folds 의 평균 RMSE : 334.030 \n",
            "alpha 10 일 때 5 folds 의 평균 RMSE : 343.304 \n",
            "alpha 100 일 때 5 folds 의 평균 RMSE : 380.382 \n"
          ]
        }
      ]
    },
    {
      "cell_type": "code",
      "source": [
        "coeff_df = pd.DataFrame()\n",
        "\n",
        "for pos, alpha in enumerate(ridge_alphas) :\n",
        "    ridge = Ridge(alpha = alpha)\n",
        "    ridge.fit(feature, target)\n",
        " \n",
        "    coeff = pd.Series(data=ridge.coef_, index=feature.columns)\n",
        "    colname = 'alpha:'+str(alpha)\n",
        "    coeff_df[colname] = coeff\n",
        "\n",
        "ridge_alphas = [0,  0.1, 1, 10, 100]\n",
        "sort_column = 'alpha:'+str(ridge_alphas[0])\n",
        "coeff_df.sort_values(by=sort_column, ascending=False)"
      ],
      "metadata": {
        "colab": {
          "base_uri": "https://localhost:8080/",
          "height": 332
        },
        "id": "QmVdz7I2w0Xm",
        "outputId": "e3ec528a-beaf-4bc9-c092-30ebf61b3fa8"
      },
      "execution_count": null,
      "outputs": [
        {
          "output_type": "execute_result",
          "data": {
            "text/plain": [
              "                        alpha:0   alpha:0.1     alpha:1    alpha:10  alpha:100\n",
              "Flipper Length (mm)   21.623332   21.855423   23.741002   33.552173  45.765131\n",
              "Culmen Length (mm)    -2.214608   -2.004133   -0.449875    2.960192  -2.087745\n",
              "Culmen Depth (mm)     -3.400970   -3.416346   -3.318055    2.058305   8.750774\n",
              "Clutch Completion    -47.282738  -46.476422  -40.371939  -19.239780  -4.136799\n",
              "Delta 13 C (o/oo)    -50.412840  -50.191168  -48.211800  -31.951518   5.234197\n",
              "Island              -153.072266 -152.899564 -150.692937 -116.225366 -29.276721\n",
              "Species             -207.312277 -203.091492 -170.627486  -53.533299  -1.186027\n",
              "Delta 15 N (o/oo)   -223.680146 -223.057735 -217.443598 -169.586261 -54.187006\n",
              "Sex                 -553.031504 -548.377626 -510.443787 -313.307189 -71.173689"
            ],
            "text/html": [
              "\n",
              "  <div id=\"df-d1e68dc9-1231-49c5-9233-6a2eadcd48c2\">\n",
              "    <div class=\"colab-df-container\">\n",
              "      <div>\n",
              "<style scoped>\n",
              "    .dataframe tbody tr th:only-of-type {\n",
              "        vertical-align: middle;\n",
              "    }\n",
              "\n",
              "    .dataframe tbody tr th {\n",
              "        vertical-align: top;\n",
              "    }\n",
              "\n",
              "    .dataframe thead th {\n",
              "        text-align: right;\n",
              "    }\n",
              "</style>\n",
              "<table border=\"1\" class=\"dataframe\">\n",
              "  <thead>\n",
              "    <tr style=\"text-align: right;\">\n",
              "      <th></th>\n",
              "      <th>alpha:0</th>\n",
              "      <th>alpha:0.1</th>\n",
              "      <th>alpha:1</th>\n",
              "      <th>alpha:10</th>\n",
              "      <th>alpha:100</th>\n",
              "    </tr>\n",
              "  </thead>\n",
              "  <tbody>\n",
              "    <tr>\n",
              "      <th>Flipper Length (mm)</th>\n",
              "      <td>21.623332</td>\n",
              "      <td>21.855423</td>\n",
              "      <td>23.741002</td>\n",
              "      <td>33.552173</td>\n",
              "      <td>45.765131</td>\n",
              "    </tr>\n",
              "    <tr>\n",
              "      <th>Culmen Length (mm)</th>\n",
              "      <td>-2.214608</td>\n",
              "      <td>-2.004133</td>\n",
              "      <td>-0.449875</td>\n",
              "      <td>2.960192</td>\n",
              "      <td>-2.087745</td>\n",
              "    </tr>\n",
              "    <tr>\n",
              "      <th>Culmen Depth (mm)</th>\n",
              "      <td>-3.400970</td>\n",
              "      <td>-3.416346</td>\n",
              "      <td>-3.318055</td>\n",
              "      <td>2.058305</td>\n",
              "      <td>8.750774</td>\n",
              "    </tr>\n",
              "    <tr>\n",
              "      <th>Clutch Completion</th>\n",
              "      <td>-47.282738</td>\n",
              "      <td>-46.476422</td>\n",
              "      <td>-40.371939</td>\n",
              "      <td>-19.239780</td>\n",
              "      <td>-4.136799</td>\n",
              "    </tr>\n",
              "    <tr>\n",
              "      <th>Delta 13 C (o/oo)</th>\n",
              "      <td>-50.412840</td>\n",
              "      <td>-50.191168</td>\n",
              "      <td>-48.211800</td>\n",
              "      <td>-31.951518</td>\n",
              "      <td>5.234197</td>\n",
              "    </tr>\n",
              "    <tr>\n",
              "      <th>Island</th>\n",
              "      <td>-153.072266</td>\n",
              "      <td>-152.899564</td>\n",
              "      <td>-150.692937</td>\n",
              "      <td>-116.225366</td>\n",
              "      <td>-29.276721</td>\n",
              "    </tr>\n",
              "    <tr>\n",
              "      <th>Species</th>\n",
              "      <td>-207.312277</td>\n",
              "      <td>-203.091492</td>\n",
              "      <td>-170.627486</td>\n",
              "      <td>-53.533299</td>\n",
              "      <td>-1.186027</td>\n",
              "    </tr>\n",
              "    <tr>\n",
              "      <th>Delta 15 N (o/oo)</th>\n",
              "      <td>-223.680146</td>\n",
              "      <td>-223.057735</td>\n",
              "      <td>-217.443598</td>\n",
              "      <td>-169.586261</td>\n",
              "      <td>-54.187006</td>\n",
              "    </tr>\n",
              "    <tr>\n",
              "      <th>Sex</th>\n",
              "      <td>-553.031504</td>\n",
              "      <td>-548.377626</td>\n",
              "      <td>-510.443787</td>\n",
              "      <td>-313.307189</td>\n",
              "      <td>-71.173689</td>\n",
              "    </tr>\n",
              "  </tbody>\n",
              "</table>\n",
              "</div>\n",
              "      <button class=\"colab-df-convert\" onclick=\"convertToInteractive('df-d1e68dc9-1231-49c5-9233-6a2eadcd48c2')\"\n",
              "              title=\"Convert this dataframe to an interactive table.\"\n",
              "              style=\"display:none;\">\n",
              "        \n",
              "  <svg xmlns=\"http://www.w3.org/2000/svg\" height=\"24px\"viewBox=\"0 0 24 24\"\n",
              "       width=\"24px\">\n",
              "    <path d=\"M0 0h24v24H0V0z\" fill=\"none\"/>\n",
              "    <path d=\"M18.56 5.44l.94 2.06.94-2.06 2.06-.94-2.06-.94-.94-2.06-.94 2.06-2.06.94zm-11 1L8.5 8.5l.94-2.06 2.06-.94-2.06-.94L8.5 2.5l-.94 2.06-2.06.94zm10 10l.94 2.06.94-2.06 2.06-.94-2.06-.94-.94-2.06-.94 2.06-2.06.94z\"/><path d=\"M17.41 7.96l-1.37-1.37c-.4-.4-.92-.59-1.43-.59-.52 0-1.04.2-1.43.59L10.3 9.45l-7.72 7.72c-.78.78-.78 2.05 0 2.83L4 21.41c.39.39.9.59 1.41.59.51 0 1.02-.2 1.41-.59l7.78-7.78 2.81-2.81c.8-.78.8-2.07 0-2.86zM5.41 20L4 18.59l7.72-7.72 1.47 1.35L5.41 20z\"/>\n",
              "  </svg>\n",
              "      </button>\n",
              "      \n",
              "  <style>\n",
              "    .colab-df-container {\n",
              "      display:flex;\n",
              "      flex-wrap:wrap;\n",
              "      gap: 12px;\n",
              "    }\n",
              "\n",
              "    .colab-df-convert {\n",
              "      background-color: #E8F0FE;\n",
              "      border: none;\n",
              "      border-radius: 50%;\n",
              "      cursor: pointer;\n",
              "      display: none;\n",
              "      fill: #1967D2;\n",
              "      height: 32px;\n",
              "      padding: 0 0 0 0;\n",
              "      width: 32px;\n",
              "    }\n",
              "\n",
              "    .colab-df-convert:hover {\n",
              "      background-color: #E2EBFA;\n",
              "      box-shadow: 0px 1px 2px rgba(60, 64, 67, 0.3), 0px 1px 3px 1px rgba(60, 64, 67, 0.15);\n",
              "      fill: #174EA6;\n",
              "    }\n",
              "\n",
              "    [theme=dark] .colab-df-convert {\n",
              "      background-color: #3B4455;\n",
              "      fill: #D2E3FC;\n",
              "    }\n",
              "\n",
              "    [theme=dark] .colab-df-convert:hover {\n",
              "      background-color: #434B5C;\n",
              "      box-shadow: 0px 1px 3px 1px rgba(0, 0, 0, 0.15);\n",
              "      filter: drop-shadow(0px 1px 2px rgba(0, 0, 0, 0.3));\n",
              "      fill: #FFFFFF;\n",
              "    }\n",
              "  </style>\n",
              "\n",
              "      <script>\n",
              "        const buttonEl =\n",
              "          document.querySelector('#df-d1e68dc9-1231-49c5-9233-6a2eadcd48c2 button.colab-df-convert');\n",
              "        buttonEl.style.display =\n",
              "          google.colab.kernel.accessAllowed ? 'block' : 'none';\n",
              "\n",
              "        async function convertToInteractive(key) {\n",
              "          const element = document.querySelector('#df-d1e68dc9-1231-49c5-9233-6a2eadcd48c2');\n",
              "          const dataTable =\n",
              "            await google.colab.kernel.invokeFunction('convertToInteractive',\n",
              "                                                     [key], {});\n",
              "          if (!dataTable) return;\n",
              "\n",
              "          const docLinkHtml = 'Like what you see? Visit the ' +\n",
              "            '<a target=\"_blank\" href=https://colab.research.google.com/notebooks/data_table.ipynb>data table notebook</a>'\n",
              "            + ' to learn more about interactive tables.';\n",
              "          element.innerHTML = '';\n",
              "          dataTable['output_type'] = 'display_data';\n",
              "          await google.colab.output.renderOutput(dataTable, element);\n",
              "          const docLink = document.createElement('div');\n",
              "          docLink.innerHTML = docLinkHtml;\n",
              "          element.appendChild(docLink);\n",
              "        }\n",
              "      </script>\n",
              "    </div>\n",
              "  </div>\n",
              "  "
            ]
          },
          "metadata": {},
          "execution_count": 109
        }
      ]
    },
    {
      "cell_type": "markdown",
      "source": [
        "alpha가 1일 때 334.030로 가장 좋은 평균 RMSE를 보여줍니다."
      ],
      "metadata": {
        "id": "NJfgDaYbw4V3"
      }
    },
    {
      "cell_type": "markdown",
      "source": [
        "<br>"
      ],
      "metadata": {
        "id": "Y_DN4BfbdBzT"
      }
    },
    {
      "cell_type": "markdown",
      "source": [
        "### **2) 라쏘 회귀**"
      ],
      "metadata": {
        "id": "qID7jebacX7s"
      }
    },
    {
      "cell_type": "markdown",
      "source": [
        "라쏘(Lasso) 회귀는 W의 절댓값에 페널티를 부여하는 L1 규제를 선형 회귀에 적용한 것 입니다. <br>\n",
        "alpha 값의 변화에 따른 라쏘 회귀 계수 값의 변화를 살펴보겠습니다."
      ],
      "metadata": {
        "id": "Cjm4DRaqdNKB"
      }
    },
    {
      "cell_type": "code",
      "source": [
        "from sklearn.linear_model import Lasso\n",
        "from sklearn.model_selection import cross_val_score\n",
        "print('####### Lasso #######\\n')\n",
        "\n",
        "lasso_alphas = [0.07, 0.1, 0.5, 1, 3]\n",
        "\n",
        "for alpha in lasso_alphas :\n",
        "    lasso = Lasso(alpha = alpha)\n",
        "\n",
        "    neg_mse_scores = cross_val_score(lasso, feature, target, scoring=\"neg_mean_squared_error\", cv = 5)\n",
        "    avg_rmse = np.mean(np.sqrt(-1 * neg_mse_scores))\n",
        "    print('alpha {0} 일 때 5 folds 의 평균 RMSE : {1:.3f} '.format(alpha, avg_rmse))"
      ],
      "metadata": {
        "id": "9AS-czR7dRd-",
        "colab": {
          "base_uri": "https://localhost:8080/"
        },
        "outputId": "e9d825aa-7153-4034-bbe7-375e976fe470"
      },
      "execution_count": null,
      "outputs": [
        {
          "output_type": "stream",
          "name": "stdout",
          "text": [
            "####### Lasso #######\n",
            "\n",
            "alpha 0.07 일 때 5 folds 의 평균 RMSE : 336.335 \n",
            "alpha 0.1 일 때 5 folds 의 평균 RMSE : 336.292 \n",
            "alpha 0.5 일 때 5 folds 의 평균 RMSE : 335.737 \n",
            "alpha 1 일 때 5 folds 의 평균 RMSE : 335.092 \n",
            "alpha 3 일 때 5 folds 의 평균 RMSE : 332.923 \n"
          ]
        }
      ]
    },
    {
      "cell_type": "code",
      "source": [
        "coeff_df = pd.DataFrame()\n",
        "lasso_alphas = [0.07, 0.1, 0.5, 1, 3]\n",
        "\n",
        "for pos, alpha in enumerate(lasso_alphas) :\n",
        "    lasso = Lasso(alpha = alpha)\n",
        "    lasso.fit(feature, target)\n",
        " \n",
        "    coeff = pd.Series(data=lasso.coef_, index=feature.columns)\n",
        "    colname = 'alpha:'+str(alpha)\n",
        "    coeff_df[colname] = coeff\n",
        "\n",
        "sort_column = 'alpha:'+str(lasso_alphas[0])\n",
        "coeff_df.sort_values(by=sort_column, ascending=False)"
      ],
      "metadata": {
        "id": "fp9bSfV8dzuS",
        "colab": {
          "base_uri": "https://localhost:8080/",
          "height": 332
        },
        "outputId": "adf9c1c0-7c5e-407c-de6f-7b1c1bdc1e00"
      },
      "execution_count": null,
      "outputs": [
        {
          "output_type": "execute_result",
          "data": {
            "text/plain": [
              "                     alpha:0.07   alpha:0.1   alpha:0.5     alpha:1  \\\n",
              "Flipper Length (mm)   21.687330   21.714773   22.080431   22.536345   \n",
              "Culmen Length (mm)    -2.178699   -2.163249   -1.954906   -1.690305   \n",
              "Culmen Depth (mm)     -3.513451   -3.561635   -4.203873   -5.005738   \n",
              "Clutch Completion    -46.433493  -46.069377  -41.211136  -35.134500   \n",
              "Delta 13 C (o/oo)    -50.325479  -50.288148  -49.794829  -49.186711   \n",
              "Island              -152.872766 -152.787265 -151.649399 -150.233161   \n",
              "Species             -206.176254 -205.688735 -199.174336 -191.017523   \n",
              "Delta 15 N (o/oo)   -223.403225 -223.284866 -221.719717 -219.788274   \n",
              "Sex                 -552.183289 -551.819425 -546.962061 -540.885352   \n",
              "\n",
              "                        alpha:3  \n",
              "Flipper Length (mm)   24.351787  \n",
              "Culmen Length (mm)    -0.610893  \n",
              "Culmen Depth (mm)     -8.205612  \n",
              "Clutch Completion    -10.815259  \n",
              "Delta 13 C (o/oo)    -46.799919  \n",
              "Island              -144.606550  \n",
              "Species             -158.358386  \n",
              "Delta 15 N (o/oo)   -212.196283  \n",
              "Sex                 -516.569571  "
            ],
            "text/html": [
              "\n",
              "  <div id=\"df-5574146f-3e67-4d4a-9275-10d3b8988918\">\n",
              "    <div class=\"colab-df-container\">\n",
              "      <div>\n",
              "<style scoped>\n",
              "    .dataframe tbody tr th:only-of-type {\n",
              "        vertical-align: middle;\n",
              "    }\n",
              "\n",
              "    .dataframe tbody tr th {\n",
              "        vertical-align: top;\n",
              "    }\n",
              "\n",
              "    .dataframe thead th {\n",
              "        text-align: right;\n",
              "    }\n",
              "</style>\n",
              "<table border=\"1\" class=\"dataframe\">\n",
              "  <thead>\n",
              "    <tr style=\"text-align: right;\">\n",
              "      <th></th>\n",
              "      <th>alpha:0.07</th>\n",
              "      <th>alpha:0.1</th>\n",
              "      <th>alpha:0.5</th>\n",
              "      <th>alpha:1</th>\n",
              "      <th>alpha:3</th>\n",
              "    </tr>\n",
              "  </thead>\n",
              "  <tbody>\n",
              "    <tr>\n",
              "      <th>Flipper Length (mm)</th>\n",
              "      <td>21.687330</td>\n",
              "      <td>21.714773</td>\n",
              "      <td>22.080431</td>\n",
              "      <td>22.536345</td>\n",
              "      <td>24.351787</td>\n",
              "    </tr>\n",
              "    <tr>\n",
              "      <th>Culmen Length (mm)</th>\n",
              "      <td>-2.178699</td>\n",
              "      <td>-2.163249</td>\n",
              "      <td>-1.954906</td>\n",
              "      <td>-1.690305</td>\n",
              "      <td>-0.610893</td>\n",
              "    </tr>\n",
              "    <tr>\n",
              "      <th>Culmen Depth (mm)</th>\n",
              "      <td>-3.513451</td>\n",
              "      <td>-3.561635</td>\n",
              "      <td>-4.203873</td>\n",
              "      <td>-5.005738</td>\n",
              "      <td>-8.205612</td>\n",
              "    </tr>\n",
              "    <tr>\n",
              "      <th>Clutch Completion</th>\n",
              "      <td>-46.433493</td>\n",
              "      <td>-46.069377</td>\n",
              "      <td>-41.211136</td>\n",
              "      <td>-35.134500</td>\n",
              "      <td>-10.815259</td>\n",
              "    </tr>\n",
              "    <tr>\n",
              "      <th>Delta 13 C (o/oo)</th>\n",
              "      <td>-50.325479</td>\n",
              "      <td>-50.288148</td>\n",
              "      <td>-49.794829</td>\n",
              "      <td>-49.186711</td>\n",
              "      <td>-46.799919</td>\n",
              "    </tr>\n",
              "    <tr>\n",
              "      <th>Island</th>\n",
              "      <td>-152.872766</td>\n",
              "      <td>-152.787265</td>\n",
              "      <td>-151.649399</td>\n",
              "      <td>-150.233161</td>\n",
              "      <td>-144.606550</td>\n",
              "    </tr>\n",
              "    <tr>\n",
              "      <th>Species</th>\n",
              "      <td>-206.176254</td>\n",
              "      <td>-205.688735</td>\n",
              "      <td>-199.174336</td>\n",
              "      <td>-191.017523</td>\n",
              "      <td>-158.358386</td>\n",
              "    </tr>\n",
              "    <tr>\n",
              "      <th>Delta 15 N (o/oo)</th>\n",
              "      <td>-223.403225</td>\n",
              "      <td>-223.284866</td>\n",
              "      <td>-221.719717</td>\n",
              "      <td>-219.788274</td>\n",
              "      <td>-212.196283</td>\n",
              "    </tr>\n",
              "    <tr>\n",
              "      <th>Sex</th>\n",
              "      <td>-552.183289</td>\n",
              "      <td>-551.819425</td>\n",
              "      <td>-546.962061</td>\n",
              "      <td>-540.885352</td>\n",
              "      <td>-516.569571</td>\n",
              "    </tr>\n",
              "  </tbody>\n",
              "</table>\n",
              "</div>\n",
              "      <button class=\"colab-df-convert\" onclick=\"convertToInteractive('df-5574146f-3e67-4d4a-9275-10d3b8988918')\"\n",
              "              title=\"Convert this dataframe to an interactive table.\"\n",
              "              style=\"display:none;\">\n",
              "        \n",
              "  <svg xmlns=\"http://www.w3.org/2000/svg\" height=\"24px\"viewBox=\"0 0 24 24\"\n",
              "       width=\"24px\">\n",
              "    <path d=\"M0 0h24v24H0V0z\" fill=\"none\"/>\n",
              "    <path d=\"M18.56 5.44l.94 2.06.94-2.06 2.06-.94-2.06-.94-.94-2.06-.94 2.06-2.06.94zm-11 1L8.5 8.5l.94-2.06 2.06-.94-2.06-.94L8.5 2.5l-.94 2.06-2.06.94zm10 10l.94 2.06.94-2.06 2.06-.94-2.06-.94-.94-2.06-.94 2.06-2.06.94z\"/><path d=\"M17.41 7.96l-1.37-1.37c-.4-.4-.92-.59-1.43-.59-.52 0-1.04.2-1.43.59L10.3 9.45l-7.72 7.72c-.78.78-.78 2.05 0 2.83L4 21.41c.39.39.9.59 1.41.59.51 0 1.02-.2 1.41-.59l7.78-7.78 2.81-2.81c.8-.78.8-2.07 0-2.86zM5.41 20L4 18.59l7.72-7.72 1.47 1.35L5.41 20z\"/>\n",
              "  </svg>\n",
              "      </button>\n",
              "      \n",
              "  <style>\n",
              "    .colab-df-container {\n",
              "      display:flex;\n",
              "      flex-wrap:wrap;\n",
              "      gap: 12px;\n",
              "    }\n",
              "\n",
              "    .colab-df-convert {\n",
              "      background-color: #E8F0FE;\n",
              "      border: none;\n",
              "      border-radius: 50%;\n",
              "      cursor: pointer;\n",
              "      display: none;\n",
              "      fill: #1967D2;\n",
              "      height: 32px;\n",
              "      padding: 0 0 0 0;\n",
              "      width: 32px;\n",
              "    }\n",
              "\n",
              "    .colab-df-convert:hover {\n",
              "      background-color: #E2EBFA;\n",
              "      box-shadow: 0px 1px 2px rgba(60, 64, 67, 0.3), 0px 1px 3px 1px rgba(60, 64, 67, 0.15);\n",
              "      fill: #174EA6;\n",
              "    }\n",
              "\n",
              "    [theme=dark] .colab-df-convert {\n",
              "      background-color: #3B4455;\n",
              "      fill: #D2E3FC;\n",
              "    }\n",
              "\n",
              "    [theme=dark] .colab-df-convert:hover {\n",
              "      background-color: #434B5C;\n",
              "      box-shadow: 0px 1px 3px 1px rgba(0, 0, 0, 0.15);\n",
              "      filter: drop-shadow(0px 1px 2px rgba(0, 0, 0, 0.3));\n",
              "      fill: #FFFFFF;\n",
              "    }\n",
              "  </style>\n",
              "\n",
              "      <script>\n",
              "        const buttonEl =\n",
              "          document.querySelector('#df-5574146f-3e67-4d4a-9275-10d3b8988918 button.colab-df-convert');\n",
              "        buttonEl.style.display =\n",
              "          google.colab.kernel.accessAllowed ? 'block' : 'none';\n",
              "\n",
              "        async function convertToInteractive(key) {\n",
              "          const element = document.querySelector('#df-5574146f-3e67-4d4a-9275-10d3b8988918');\n",
              "          const dataTable =\n",
              "            await google.colab.kernel.invokeFunction('convertToInteractive',\n",
              "                                                     [key], {});\n",
              "          if (!dataTable) return;\n",
              "\n",
              "          const docLinkHtml = 'Like what you see? Visit the ' +\n",
              "            '<a target=\"_blank\" href=https://colab.research.google.com/notebooks/data_table.ipynb>data table notebook</a>'\n",
              "            + ' to learn more about interactive tables.';\n",
              "          element.innerHTML = '';\n",
              "          dataTable['output_type'] = 'display_data';\n",
              "          await google.colab.output.renderOutput(dataTable, element);\n",
              "          const docLink = document.createElement('div');\n",
              "          docLink.innerHTML = docLinkHtml;\n",
              "          element.appendChild(docLink);\n",
              "        }\n",
              "      </script>\n",
              "    </div>\n",
              "  </div>\n",
              "  "
            ]
          },
          "metadata": {},
          "execution_count": 111
        }
      ]
    },
    {
      "cell_type": "markdown",
      "source": [
        "alpha가 3일 때 332.923로 가장 좋은 평균 RMSE를 보여주며, 앞의 릿지 회귀의 평균 RMSE 334.030보다 더 좋은 수치입니다."
      ],
      "metadata": {
        "id": "YyQjVh5xd3Gd"
      }
    },
    {
      "cell_type": "markdown",
      "source": [
        "<br>"
      ],
      "metadata": {
        "id": "1ApxXgopdVdX"
      }
    },
    {
      "cell_type": "markdown",
      "source": [
        "### **3) 엘라스틱넷 회귀**"
      ],
      "metadata": {
        "id": "3vz4ySZAc2Ap"
      }
    },
    {
      "cell_type": "markdown",
      "source": [
        "이번엔 L2 규제와 L1 규제를 결합한 엘라스틱넷(Elastic Net) 회귀를 해보겠습니다. <br>\n",
        "다시 alpha 값의 변화에 따른 엘라스틱넷 회귀 계수 값의 변화를 살펴보겠습니다."
      ],
      "metadata": {
        "id": "u1ryfLNPeLVx"
      }
    },
    {
      "cell_type": "code",
      "source": [
        "from sklearn.linear_model import ElasticNet\n",
        "from sklearn.model_selection import cross_val_score\n",
        "\n",
        "print('####### ElasticNet #######')\n",
        "\n",
        "elastic_alphas = [0.07, 0.1, 0.5, 1, 3]\n",
        "\n",
        "for alpha in elastic_alphas :\n",
        "    elastic = ElasticNet(alpha = alpha, l1_ratio=0.7)\n",
        "\n",
        "    neg_mse_scores = cross_val_score(elastic, feature, target, scoring=\"neg_mean_squared_error\", cv = 5)\n",
        "    avg_rmse = np.mean(np.sqrt(-1 * neg_mse_scores))\n",
        "    print('alpha {0} 일 때 5 folds 의 평균 RMSE : {1:.3f} '.format(alpha, avg_rmse))"
      ],
      "metadata": {
        "id": "8KigX_bCeMC6",
        "colab": {
          "base_uri": "https://localhost:8080/"
        },
        "outputId": "2e4ce49d-dc06-4509-8e49-898d3bf907bf"
      },
      "execution_count": null,
      "outputs": [
        {
          "output_type": "stream",
          "name": "stdout",
          "text": [
            "####### ElasticNet #######\n",
            "alpha 0.07 일 때 5 folds 의 평균 RMSE : 333.500 \n",
            "alpha 0.1 일 때 5 folds 의 평균 RMSE : 333.745 \n",
            "alpha 0.5 일 때 5 folds 의 평균 RMSE : 347.653 \n",
            "alpha 1 일 때 5 folds 의 평균 RMSE : 360.314 \n",
            "alpha 3 일 때 5 folds 의 평균 RMSE : 377.953 \n"
          ]
        }
      ]
    },
    {
      "cell_type": "code",
      "source": [
        "coeff_df = pd.DataFrame()\n",
        "elastic_alphas = [0.07, 0.1, 0.5, 1, 3]\n",
        "\n",
        "for pos, alpha in enumerate(elastic_alphas) :\n",
        "    elastic = ElasticNet(alpha = alpha, l1_ratio=0.7)\n",
        "    elastic.fit(feature, target)\n",
        " \n",
        "    coeff = pd.Series(data=elastic.coef_, index=feature.columns)\n",
        "    colname = 'alpha:'+str(alpha)\n",
        "    coeff_df[colname] = coeff\n",
        "\n",
        "sort_column = 'alpha:'+str(elastic_alphas[0])\n",
        "coeff_df.sort_values(by=sort_column, ascending=False)"
      ],
      "metadata": {
        "id": "04sENMNYeOlO",
        "colab": {
          "base_uri": "https://localhost:8080/",
          "height": 332
        },
        "outputId": "0474b60c-3c46-4e7e-8d71-8aa3711458e5"
      },
      "execution_count": null,
      "outputs": [
        {
          "output_type": "execute_result",
          "data": {
            "text/plain": [
              "                     alpha:0.07   alpha:0.1   alpha:0.5     alpha:1    alpha:3\n",
              "Flipper Length (mm)   26.052334   27.482199   37.066032   41.441446  45.783000\n",
              "Culmen Length (mm)     1.044152    1.755844    2.363217    0.554862  -1.894230\n",
              "Culmen Depth (mm)     -2.756022   -2.146737    4.178746    7.050860   7.702714\n",
              "Clutch Completion    -33.551503  -29.959142  -13.175329   -7.773628  -1.976309\n",
              "Delta 13 C (o/oo)    -45.304774  -43.239431  -23.329811  -10.569721   5.332503\n",
              "Species             -135.353554 -115.964894  -29.161845   -9.683061  -0.000000\n",
              "Island              -145.936787 -141.931955  -95.463804  -65.219660 -27.261758\n",
              "Delta 15 N (o/oo)   -209.048507 -203.024726 -143.675999 -104.850515 -53.129758\n",
              "Sex                 -464.076666 -435.294167 -246.039561 -162.077506 -69.468636"
            ],
            "text/html": [
              "\n",
              "  <div id=\"df-b78ebef6-efe2-4331-a4e9-cb4df4f58fc6\">\n",
              "    <div class=\"colab-df-container\">\n",
              "      <div>\n",
              "<style scoped>\n",
              "    .dataframe tbody tr th:only-of-type {\n",
              "        vertical-align: middle;\n",
              "    }\n",
              "\n",
              "    .dataframe tbody tr th {\n",
              "        vertical-align: top;\n",
              "    }\n",
              "\n",
              "    .dataframe thead th {\n",
              "        text-align: right;\n",
              "    }\n",
              "</style>\n",
              "<table border=\"1\" class=\"dataframe\">\n",
              "  <thead>\n",
              "    <tr style=\"text-align: right;\">\n",
              "      <th></th>\n",
              "      <th>alpha:0.07</th>\n",
              "      <th>alpha:0.1</th>\n",
              "      <th>alpha:0.5</th>\n",
              "      <th>alpha:1</th>\n",
              "      <th>alpha:3</th>\n",
              "    </tr>\n",
              "  </thead>\n",
              "  <tbody>\n",
              "    <tr>\n",
              "      <th>Flipper Length (mm)</th>\n",
              "      <td>26.052334</td>\n",
              "      <td>27.482199</td>\n",
              "      <td>37.066032</td>\n",
              "      <td>41.441446</td>\n",
              "      <td>45.783000</td>\n",
              "    </tr>\n",
              "    <tr>\n",
              "      <th>Culmen Length (mm)</th>\n",
              "      <td>1.044152</td>\n",
              "      <td>1.755844</td>\n",
              "      <td>2.363217</td>\n",
              "      <td>0.554862</td>\n",
              "      <td>-1.894230</td>\n",
              "    </tr>\n",
              "    <tr>\n",
              "      <th>Culmen Depth (mm)</th>\n",
              "      <td>-2.756022</td>\n",
              "      <td>-2.146737</td>\n",
              "      <td>4.178746</td>\n",
              "      <td>7.050860</td>\n",
              "      <td>7.702714</td>\n",
              "    </tr>\n",
              "    <tr>\n",
              "      <th>Clutch Completion</th>\n",
              "      <td>-33.551503</td>\n",
              "      <td>-29.959142</td>\n",
              "      <td>-13.175329</td>\n",
              "      <td>-7.773628</td>\n",
              "      <td>-1.976309</td>\n",
              "    </tr>\n",
              "    <tr>\n",
              "      <th>Delta 13 C (o/oo)</th>\n",
              "      <td>-45.304774</td>\n",
              "      <td>-43.239431</td>\n",
              "      <td>-23.329811</td>\n",
              "      <td>-10.569721</td>\n",
              "      <td>5.332503</td>\n",
              "    </tr>\n",
              "    <tr>\n",
              "      <th>Species</th>\n",
              "      <td>-135.353554</td>\n",
              "      <td>-115.964894</td>\n",
              "      <td>-29.161845</td>\n",
              "      <td>-9.683061</td>\n",
              "      <td>-0.000000</td>\n",
              "    </tr>\n",
              "    <tr>\n",
              "      <th>Island</th>\n",
              "      <td>-145.936787</td>\n",
              "      <td>-141.931955</td>\n",
              "      <td>-95.463804</td>\n",
              "      <td>-65.219660</td>\n",
              "      <td>-27.261758</td>\n",
              "    </tr>\n",
              "    <tr>\n",
              "      <th>Delta 15 N (o/oo)</th>\n",
              "      <td>-209.048507</td>\n",
              "      <td>-203.024726</td>\n",
              "      <td>-143.675999</td>\n",
              "      <td>-104.850515</td>\n",
              "      <td>-53.129758</td>\n",
              "    </tr>\n",
              "    <tr>\n",
              "      <th>Sex</th>\n",
              "      <td>-464.076666</td>\n",
              "      <td>-435.294167</td>\n",
              "      <td>-246.039561</td>\n",
              "      <td>-162.077506</td>\n",
              "      <td>-69.468636</td>\n",
              "    </tr>\n",
              "  </tbody>\n",
              "</table>\n",
              "</div>\n",
              "      <button class=\"colab-df-convert\" onclick=\"convertToInteractive('df-b78ebef6-efe2-4331-a4e9-cb4df4f58fc6')\"\n",
              "              title=\"Convert this dataframe to an interactive table.\"\n",
              "              style=\"display:none;\">\n",
              "        \n",
              "  <svg xmlns=\"http://www.w3.org/2000/svg\" height=\"24px\"viewBox=\"0 0 24 24\"\n",
              "       width=\"24px\">\n",
              "    <path d=\"M0 0h24v24H0V0z\" fill=\"none\"/>\n",
              "    <path d=\"M18.56 5.44l.94 2.06.94-2.06 2.06-.94-2.06-.94-.94-2.06-.94 2.06-2.06.94zm-11 1L8.5 8.5l.94-2.06 2.06-.94-2.06-.94L8.5 2.5l-.94 2.06-2.06.94zm10 10l.94 2.06.94-2.06 2.06-.94-2.06-.94-.94-2.06-.94 2.06-2.06.94z\"/><path d=\"M17.41 7.96l-1.37-1.37c-.4-.4-.92-.59-1.43-.59-.52 0-1.04.2-1.43.59L10.3 9.45l-7.72 7.72c-.78.78-.78 2.05 0 2.83L4 21.41c.39.39.9.59 1.41.59.51 0 1.02-.2 1.41-.59l7.78-7.78 2.81-2.81c.8-.78.8-2.07 0-2.86zM5.41 20L4 18.59l7.72-7.72 1.47 1.35L5.41 20z\"/>\n",
              "  </svg>\n",
              "      </button>\n",
              "      \n",
              "  <style>\n",
              "    .colab-df-container {\n",
              "      display:flex;\n",
              "      flex-wrap:wrap;\n",
              "      gap: 12px;\n",
              "    }\n",
              "\n",
              "    .colab-df-convert {\n",
              "      background-color: #E8F0FE;\n",
              "      border: none;\n",
              "      border-radius: 50%;\n",
              "      cursor: pointer;\n",
              "      display: none;\n",
              "      fill: #1967D2;\n",
              "      height: 32px;\n",
              "      padding: 0 0 0 0;\n",
              "      width: 32px;\n",
              "    }\n",
              "\n",
              "    .colab-df-convert:hover {\n",
              "      background-color: #E2EBFA;\n",
              "      box-shadow: 0px 1px 2px rgba(60, 64, 67, 0.3), 0px 1px 3px 1px rgba(60, 64, 67, 0.15);\n",
              "      fill: #174EA6;\n",
              "    }\n",
              "\n",
              "    [theme=dark] .colab-df-convert {\n",
              "      background-color: #3B4455;\n",
              "      fill: #D2E3FC;\n",
              "    }\n",
              "\n",
              "    [theme=dark] .colab-df-convert:hover {\n",
              "      background-color: #434B5C;\n",
              "      box-shadow: 0px 1px 3px 1px rgba(0, 0, 0, 0.15);\n",
              "      filter: drop-shadow(0px 1px 2px rgba(0, 0, 0, 0.3));\n",
              "      fill: #FFFFFF;\n",
              "    }\n",
              "  </style>\n",
              "\n",
              "      <script>\n",
              "        const buttonEl =\n",
              "          document.querySelector('#df-b78ebef6-efe2-4331-a4e9-cb4df4f58fc6 button.colab-df-convert');\n",
              "        buttonEl.style.display =\n",
              "          google.colab.kernel.accessAllowed ? 'block' : 'none';\n",
              "\n",
              "        async function convertToInteractive(key) {\n",
              "          const element = document.querySelector('#df-b78ebef6-efe2-4331-a4e9-cb4df4f58fc6');\n",
              "          const dataTable =\n",
              "            await google.colab.kernel.invokeFunction('convertToInteractive',\n",
              "                                                     [key], {});\n",
              "          if (!dataTable) return;\n",
              "\n",
              "          const docLinkHtml = 'Like what you see? Visit the ' +\n",
              "            '<a target=\"_blank\" href=https://colab.research.google.com/notebooks/data_table.ipynb>data table notebook</a>'\n",
              "            + ' to learn more about interactive tables.';\n",
              "          element.innerHTML = '';\n",
              "          dataTable['output_type'] = 'display_data';\n",
              "          await google.colab.output.renderOutput(dataTable, element);\n",
              "          const docLink = document.createElement('div');\n",
              "          docLink.innerHTML = docLinkHtml;\n",
              "          element.appendChild(docLink);\n",
              "        }\n",
              "      </script>\n",
              "    </div>\n",
              "  </div>\n",
              "  "
            ]
          },
          "metadata": {},
          "execution_count": 113
        }
      ]
    },
    {
      "cell_type": "markdown",
      "source": [
        "alpha가 0.07일 때 333.500로 가장 좋은 평균 RMSE를 보여주며, <br>\n",
        "라쏘 회귀보다는 아니지만 릿지 회귀의 평균 RMSE 343.304보다는 더 좋은 수치입니다."
      ],
      "metadata": {
        "id": "8fMXeh7-eQT6"
      }
    },
    {
      "cell_type": "markdown",
      "source": [
        "<br>\n",
        "\n",
        "#### **회귀분석 결과**\n",
        "👉 릿지 회귀, 라쏘 회귀, 엘라스틱넷 회귀 결과 **라쏘 회귀**의 RMSE 결과가 가장 적게 나왔습니다. <br>\n",
        "RMSE가 낮을 수록 회귀 성능이 좋은 것이기 때문에, 펭귄 몸무게 예측에는  **라쏘 회귀**가 가장 적절한 모델임을 알 수 있습니다."
      ],
      "metadata": {
        "id": "jXenG7ByfDNP"
      }
    },
    {
      "cell_type": "markdown",
      "source": [
        "<br>"
      ],
      "metadata": {
        "id": "X2d3O4qifis8"
      }
    },
    {
      "cell_type": "markdown",
      "source": [
        "## **4. 예측**"
      ],
      "metadata": {
        "id": "sasb53MVflu9"
      }
    },
    {
      "cell_type": "markdown",
      "source": [
        "### **1) 결측치 제거하기**"
      ],
      "metadata": {
        "id": "G7PKmA2ZgluL"
      }
    },
    {
      "cell_type": "markdown",
      "source": [
        "test 데이터를 가져와 데이터를 확인합니다. <br>\n",
        "또한 .info()를 통해 결측치가 있는지 살펴봅니다."
      ],
      "metadata": {
        "id": "8-tHB5_3f02E"
      }
    },
    {
      "cell_type": "code",
      "source": [
        "test"
      ],
      "metadata": {
        "id": "Yuze_w_2f5RL",
        "colab": {
          "base_uri": "https://localhost:8080/",
          "height": 468
        },
        "outputId": "59bca963-e48a-4485-931e-a9fabc81e5d2"
      },
      "execution_count": null,
      "outputs": [
        {
          "output_type": "execute_result",
          "data": {
            "text/plain": [
              "      id                                    Species  Island Clutch Completion  \\\n",
              "0      0  Chinstrap penguin (Pygoscelis antarctica)   Dream               Yes   \n",
              "1      1          Gentoo penguin (Pygoscelis papua)  Biscoe               Yes   \n",
              "2      2        Adelie Penguin (Pygoscelis adeliae)   Dream               Yes   \n",
              "3      3  Chinstrap penguin (Pygoscelis antarctica)   Dream               Yes   \n",
              "4      4        Adelie Penguin (Pygoscelis adeliae)  Biscoe                No   \n",
              "..   ...                                        ...     ...               ...   \n",
              "223  223  Chinstrap penguin (Pygoscelis antarctica)   Dream               Yes   \n",
              "224  224          Gentoo penguin (Pygoscelis papua)  Biscoe               Yes   \n",
              "225  225          Gentoo penguin (Pygoscelis papua)  Biscoe               Yes   \n",
              "226  226  Chinstrap penguin (Pygoscelis antarctica)   Dream               Yes   \n",
              "227  227        Adelie Penguin (Pygoscelis adeliae)  Biscoe               Yes   \n",
              "\n",
              "     Culmen Length (mm)  Culmen Depth (mm)  Flipper Length (mm)     Sex  \\\n",
              "0                  52.0               20.7                210.0    MALE   \n",
              "1                  55.9               17.0                228.0    MALE   \n",
              "2                  38.9               18.8                190.0  FEMALE   \n",
              "3                  45.2               16.6                191.0  FEMALE   \n",
              "4                  37.9               18.6                172.0  FEMALE   \n",
              "..                  ...                ...                  ...     ...   \n",
              "223                49.3               19.9                203.0    MALE   \n",
              "224                46.5               14.8                217.0  FEMALE   \n",
              "225                46.5               13.5                210.0  FEMALE   \n",
              "226                50.5               19.6                201.0    MALE   \n",
              "227                37.6               19.1                194.0    MALE   \n",
              "\n",
              "     Delta 15 N (o/oo)  Delta 13 C (o/oo)  \n",
              "0              9.43146          -24.68440  \n",
              "1              8.31180          -26.35425  \n",
              "2              8.36936          -26.11199  \n",
              "3              9.62357          -24.78984  \n",
              "4              8.38404          -25.19837  \n",
              "..                 ...                ...  \n",
              "223            9.88809          -24.59513  \n",
              "224            8.58487          -26.59290  \n",
              "225            7.99530          -25.32829  \n",
              "226            9.80590          -24.72940  \n",
              "227            9.10800          -25.89677  \n",
              "\n",
              "[228 rows x 10 columns]"
            ],
            "text/html": [
              "\n",
              "  <div id=\"df-ff6ab9ff-4389-4660-a998-c45897478c79\">\n",
              "    <div class=\"colab-df-container\">\n",
              "      <div>\n",
              "<style scoped>\n",
              "    .dataframe tbody tr th:only-of-type {\n",
              "        vertical-align: middle;\n",
              "    }\n",
              "\n",
              "    .dataframe tbody tr th {\n",
              "        vertical-align: top;\n",
              "    }\n",
              "\n",
              "    .dataframe thead th {\n",
              "        text-align: right;\n",
              "    }\n",
              "</style>\n",
              "<table border=\"1\" class=\"dataframe\">\n",
              "  <thead>\n",
              "    <tr style=\"text-align: right;\">\n",
              "      <th></th>\n",
              "      <th>id</th>\n",
              "      <th>Species</th>\n",
              "      <th>Island</th>\n",
              "      <th>Clutch Completion</th>\n",
              "      <th>Culmen Length (mm)</th>\n",
              "      <th>Culmen Depth (mm)</th>\n",
              "      <th>Flipper Length (mm)</th>\n",
              "      <th>Sex</th>\n",
              "      <th>Delta 15 N (o/oo)</th>\n",
              "      <th>Delta 13 C (o/oo)</th>\n",
              "    </tr>\n",
              "  </thead>\n",
              "  <tbody>\n",
              "    <tr>\n",
              "      <th>0</th>\n",
              "      <td>0</td>\n",
              "      <td>Chinstrap penguin (Pygoscelis antarctica)</td>\n",
              "      <td>Dream</td>\n",
              "      <td>Yes</td>\n",
              "      <td>52.0</td>\n",
              "      <td>20.7</td>\n",
              "      <td>210.0</td>\n",
              "      <td>MALE</td>\n",
              "      <td>9.43146</td>\n",
              "      <td>-24.68440</td>\n",
              "    </tr>\n",
              "    <tr>\n",
              "      <th>1</th>\n",
              "      <td>1</td>\n",
              "      <td>Gentoo penguin (Pygoscelis papua)</td>\n",
              "      <td>Biscoe</td>\n",
              "      <td>Yes</td>\n",
              "      <td>55.9</td>\n",
              "      <td>17.0</td>\n",
              "      <td>228.0</td>\n",
              "      <td>MALE</td>\n",
              "      <td>8.31180</td>\n",
              "      <td>-26.35425</td>\n",
              "    </tr>\n",
              "    <tr>\n",
              "      <th>2</th>\n",
              "      <td>2</td>\n",
              "      <td>Adelie Penguin (Pygoscelis adeliae)</td>\n",
              "      <td>Dream</td>\n",
              "      <td>Yes</td>\n",
              "      <td>38.9</td>\n",
              "      <td>18.8</td>\n",
              "      <td>190.0</td>\n",
              "      <td>FEMALE</td>\n",
              "      <td>8.36936</td>\n",
              "      <td>-26.11199</td>\n",
              "    </tr>\n",
              "    <tr>\n",
              "      <th>3</th>\n",
              "      <td>3</td>\n",
              "      <td>Chinstrap penguin (Pygoscelis antarctica)</td>\n",
              "      <td>Dream</td>\n",
              "      <td>Yes</td>\n",
              "      <td>45.2</td>\n",
              "      <td>16.6</td>\n",
              "      <td>191.0</td>\n",
              "      <td>FEMALE</td>\n",
              "      <td>9.62357</td>\n",
              "      <td>-24.78984</td>\n",
              "    </tr>\n",
              "    <tr>\n",
              "      <th>4</th>\n",
              "      <td>4</td>\n",
              "      <td>Adelie Penguin (Pygoscelis adeliae)</td>\n",
              "      <td>Biscoe</td>\n",
              "      <td>No</td>\n",
              "      <td>37.9</td>\n",
              "      <td>18.6</td>\n",
              "      <td>172.0</td>\n",
              "      <td>FEMALE</td>\n",
              "      <td>8.38404</td>\n",
              "      <td>-25.19837</td>\n",
              "    </tr>\n",
              "    <tr>\n",
              "      <th>...</th>\n",
              "      <td>...</td>\n",
              "      <td>...</td>\n",
              "      <td>...</td>\n",
              "      <td>...</td>\n",
              "      <td>...</td>\n",
              "      <td>...</td>\n",
              "      <td>...</td>\n",
              "      <td>...</td>\n",
              "      <td>...</td>\n",
              "      <td>...</td>\n",
              "    </tr>\n",
              "    <tr>\n",
              "      <th>223</th>\n",
              "      <td>223</td>\n",
              "      <td>Chinstrap penguin (Pygoscelis antarctica)</td>\n",
              "      <td>Dream</td>\n",
              "      <td>Yes</td>\n",
              "      <td>49.3</td>\n",
              "      <td>19.9</td>\n",
              "      <td>203.0</td>\n",
              "      <td>MALE</td>\n",
              "      <td>9.88809</td>\n",
              "      <td>-24.59513</td>\n",
              "    </tr>\n",
              "    <tr>\n",
              "      <th>224</th>\n",
              "      <td>224</td>\n",
              "      <td>Gentoo penguin (Pygoscelis papua)</td>\n",
              "      <td>Biscoe</td>\n",
              "      <td>Yes</td>\n",
              "      <td>46.5</td>\n",
              "      <td>14.8</td>\n",
              "      <td>217.0</td>\n",
              "      <td>FEMALE</td>\n",
              "      <td>8.58487</td>\n",
              "      <td>-26.59290</td>\n",
              "    </tr>\n",
              "    <tr>\n",
              "      <th>225</th>\n",
              "      <td>225</td>\n",
              "      <td>Gentoo penguin (Pygoscelis papua)</td>\n",
              "      <td>Biscoe</td>\n",
              "      <td>Yes</td>\n",
              "      <td>46.5</td>\n",
              "      <td>13.5</td>\n",
              "      <td>210.0</td>\n",
              "      <td>FEMALE</td>\n",
              "      <td>7.99530</td>\n",
              "      <td>-25.32829</td>\n",
              "    </tr>\n",
              "    <tr>\n",
              "      <th>226</th>\n",
              "      <td>226</td>\n",
              "      <td>Chinstrap penguin (Pygoscelis antarctica)</td>\n",
              "      <td>Dream</td>\n",
              "      <td>Yes</td>\n",
              "      <td>50.5</td>\n",
              "      <td>19.6</td>\n",
              "      <td>201.0</td>\n",
              "      <td>MALE</td>\n",
              "      <td>9.80590</td>\n",
              "      <td>-24.72940</td>\n",
              "    </tr>\n",
              "    <tr>\n",
              "      <th>227</th>\n",
              "      <td>227</td>\n",
              "      <td>Adelie Penguin (Pygoscelis adeliae)</td>\n",
              "      <td>Biscoe</td>\n",
              "      <td>Yes</td>\n",
              "      <td>37.6</td>\n",
              "      <td>19.1</td>\n",
              "      <td>194.0</td>\n",
              "      <td>MALE</td>\n",
              "      <td>9.10800</td>\n",
              "      <td>-25.89677</td>\n",
              "    </tr>\n",
              "  </tbody>\n",
              "</table>\n",
              "<p>228 rows × 10 columns</p>\n",
              "</div>\n",
              "      <button class=\"colab-df-convert\" onclick=\"convertToInteractive('df-ff6ab9ff-4389-4660-a998-c45897478c79')\"\n",
              "              title=\"Convert this dataframe to an interactive table.\"\n",
              "              style=\"display:none;\">\n",
              "        \n",
              "  <svg xmlns=\"http://www.w3.org/2000/svg\" height=\"24px\"viewBox=\"0 0 24 24\"\n",
              "       width=\"24px\">\n",
              "    <path d=\"M0 0h24v24H0V0z\" fill=\"none\"/>\n",
              "    <path d=\"M18.56 5.44l.94 2.06.94-2.06 2.06-.94-2.06-.94-.94-2.06-.94 2.06-2.06.94zm-11 1L8.5 8.5l.94-2.06 2.06-.94-2.06-.94L8.5 2.5l-.94 2.06-2.06.94zm10 10l.94 2.06.94-2.06 2.06-.94-2.06-.94-.94-2.06-.94 2.06-2.06.94z\"/><path d=\"M17.41 7.96l-1.37-1.37c-.4-.4-.92-.59-1.43-.59-.52 0-1.04.2-1.43.59L10.3 9.45l-7.72 7.72c-.78.78-.78 2.05 0 2.83L4 21.41c.39.39.9.59 1.41.59.51 0 1.02-.2 1.41-.59l7.78-7.78 2.81-2.81c.8-.78.8-2.07 0-2.86zM5.41 20L4 18.59l7.72-7.72 1.47 1.35L5.41 20z\"/>\n",
              "  </svg>\n",
              "      </button>\n",
              "      \n",
              "  <style>\n",
              "    .colab-df-container {\n",
              "      display:flex;\n",
              "      flex-wrap:wrap;\n",
              "      gap: 12px;\n",
              "    }\n",
              "\n",
              "    .colab-df-convert {\n",
              "      background-color: #E8F0FE;\n",
              "      border: none;\n",
              "      border-radius: 50%;\n",
              "      cursor: pointer;\n",
              "      display: none;\n",
              "      fill: #1967D2;\n",
              "      height: 32px;\n",
              "      padding: 0 0 0 0;\n",
              "      width: 32px;\n",
              "    }\n",
              "\n",
              "    .colab-df-convert:hover {\n",
              "      background-color: #E2EBFA;\n",
              "      box-shadow: 0px 1px 2px rgba(60, 64, 67, 0.3), 0px 1px 3px 1px rgba(60, 64, 67, 0.15);\n",
              "      fill: #174EA6;\n",
              "    }\n",
              "\n",
              "    [theme=dark] .colab-df-convert {\n",
              "      background-color: #3B4455;\n",
              "      fill: #D2E3FC;\n",
              "    }\n",
              "\n",
              "    [theme=dark] .colab-df-convert:hover {\n",
              "      background-color: #434B5C;\n",
              "      box-shadow: 0px 1px 3px 1px rgba(0, 0, 0, 0.15);\n",
              "      filter: drop-shadow(0px 1px 2px rgba(0, 0, 0, 0.3));\n",
              "      fill: #FFFFFF;\n",
              "    }\n",
              "  </style>\n",
              "\n",
              "      <script>\n",
              "        const buttonEl =\n",
              "          document.querySelector('#df-ff6ab9ff-4389-4660-a998-c45897478c79 button.colab-df-convert');\n",
              "        buttonEl.style.display =\n",
              "          google.colab.kernel.accessAllowed ? 'block' : 'none';\n",
              "\n",
              "        async function convertToInteractive(key) {\n",
              "          const element = document.querySelector('#df-ff6ab9ff-4389-4660-a998-c45897478c79');\n",
              "          const dataTable =\n",
              "            await google.colab.kernel.invokeFunction('convertToInteractive',\n",
              "                                                     [key], {});\n",
              "          if (!dataTable) return;\n",
              "\n",
              "          const docLinkHtml = 'Like what you see? Visit the ' +\n",
              "            '<a target=\"_blank\" href=https://colab.research.google.com/notebooks/data_table.ipynb>data table notebook</a>'\n",
              "            + ' to learn more about interactive tables.';\n",
              "          element.innerHTML = '';\n",
              "          dataTable['output_type'] = 'display_data';\n",
              "          await google.colab.output.renderOutput(dataTable, element);\n",
              "          const docLink = document.createElement('div');\n",
              "          docLink.innerHTML = docLinkHtml;\n",
              "          element.appendChild(docLink);\n",
              "        }\n",
              "      </script>\n",
              "    </div>\n",
              "  </div>\n",
              "  "
            ]
          },
          "metadata": {},
          "execution_count": 114
        }
      ]
    },
    {
      "cell_type": "code",
      "source": [
        "test.info()"
      ],
      "metadata": {
        "id": "1B8OIPKUf7nc",
        "colab": {
          "base_uri": "https://localhost:8080/"
        },
        "outputId": "4ad9f092-de61-4cba-db48-87ad8ef78f35"
      },
      "execution_count": null,
      "outputs": [
        {
          "output_type": "stream",
          "name": "stdout",
          "text": [
            "<class 'pandas.core.frame.DataFrame'>\n",
            "RangeIndex: 228 entries, 0 to 227\n",
            "Data columns (total 10 columns):\n",
            " #   Column               Non-Null Count  Dtype  \n",
            "---  ------               --------------  -----  \n",
            " 0   id                   228 non-null    int64  \n",
            " 1   Species              228 non-null    object \n",
            " 2   Island               228 non-null    object \n",
            " 3   Clutch Completion    228 non-null    object \n",
            " 4   Culmen Length (mm)   228 non-null    float64\n",
            " 5   Culmen Depth (mm)    228 non-null    float64\n",
            " 6   Flipper Length (mm)  228 non-null    float64\n",
            " 7   Sex                  222 non-null    object \n",
            " 8   Delta 15 N (o/oo)    219 non-null    float64\n",
            " 9   Delta 13 C (o/oo)    220 non-null    float64\n",
            "dtypes: float64(5), int64(1), object(4)\n",
            "memory usage: 17.9+ KB\n"
          ]
        }
      ]
    },
    {
      "cell_type": "markdown",
      "source": [
        "test 데이터에서 Sex, Delta 15 N (o/oo),Delta 13 C (o/oo) 이렇게 총 3개의 컬럼에서 결측치가 존재함을 알 수 있습니다."
      ],
      "metadata": {
        "id": "d-D31aHJf9-4"
      }
    },
    {
      "cell_type": "markdown",
      "source": [
        "이전에 공부했던 것을 떠올리면 결측치를 채울 수 있는 다양한 방법들이 있었는데요,<br>\n",
        "저희 데이썬은 카테고리형 데이터인 Sex 컬럼의 결측치는 해당하는 행의 **최빈값으로 대체**해보겠습니다."
      ],
      "metadata": {
        "id": "SeWSyyhSgBFV"
      }
    },
    {
      "cell_type": "code",
      "source": [
        "test['Sex']\n",
        "test['Sex'].value_counts()"
      ],
      "metadata": {
        "id": "1aNm1TVjgDFf",
        "colab": {
          "base_uri": "https://localhost:8080/"
        },
        "outputId": "73b65bc1-d21e-446e-ada3-e78e39474539"
      },
      "execution_count": null,
      "outputs": [
        {
          "output_type": "execute_result",
          "data": {
            "text/plain": [
              "MALE      112\n",
              "FEMALE    110\n",
              "Name: Sex, dtype: int64"
            ]
          },
          "metadata": {},
          "execution_count": 116
        }
      ]
    },
    {
      "cell_type": "code",
      "source": [
        "test_preprocessed = test\n",
        "\n",
        "test_preprocessed['Sex'] = test['Sex'].fillna(\"MALE\")\n",
        "test_preprocessed['Sex'].value_counts()"
      ],
      "metadata": {
        "id": "BYJfsI3ggHT9",
        "colab": {
          "base_uri": "https://localhost:8080/"
        },
        "outputId": "b6afa207-8d5a-43e3-8b99-5441ab1530c7"
      },
      "execution_count": null,
      "outputs": [
        {
          "output_type": "execute_result",
          "data": {
            "text/plain": [
              "MALE      118\n",
              "FEMALE    110\n",
              "Name: Sex, dtype: int64"
            ]
          },
          "metadata": {},
          "execution_count": 117
        }
      ]
    },
    {
      "cell_type": "markdown",
      "source": [
        "<br>"
      ],
      "metadata": {
        "id": "zAz7UndsgIuM"
      }
    },
    {
      "cell_type": "markdown",
      "source": [
        "다시 test 데이터를 살펴보며, Sex 컬럼의 결측치가 제거됐는지 확인하고, 나머지 결측치가 있는 컬럼의 결측치를 제거하는 작업을 진행합니다."
      ],
      "metadata": {
        "id": "G_qN-jS_gJnD"
      }
    },
    {
      "cell_type": "code",
      "source": [
        "test_preprocessed.info()"
      ],
      "metadata": {
        "id": "y6e3zkhXgNG3",
        "colab": {
          "base_uri": "https://localhost:8080/"
        },
        "outputId": "a8c72307-4bcf-487d-8bd3-035d617ace53"
      },
      "execution_count": null,
      "outputs": [
        {
          "output_type": "stream",
          "name": "stdout",
          "text": [
            "<class 'pandas.core.frame.DataFrame'>\n",
            "RangeIndex: 228 entries, 0 to 227\n",
            "Data columns (total 10 columns):\n",
            " #   Column               Non-Null Count  Dtype  \n",
            "---  ------               --------------  -----  \n",
            " 0   id                   228 non-null    int64  \n",
            " 1   Species              228 non-null    object \n",
            " 2   Island               228 non-null    object \n",
            " 3   Clutch Completion    228 non-null    object \n",
            " 4   Culmen Length (mm)   228 non-null    float64\n",
            " 5   Culmen Depth (mm)    228 non-null    float64\n",
            " 6   Flipper Length (mm)  228 non-null    float64\n",
            " 7   Sex                  228 non-null    object \n",
            " 8   Delta 15 N (o/oo)    219 non-null    float64\n",
            " 9   Delta 13 C (o/oo)    220 non-null    float64\n",
            "dtypes: float64(5), int64(1), object(4)\n",
            "memory usage: 17.9+ KB\n"
          ]
        }
      ]
    },
    {
      "cell_type": "code",
      "source": [
        "test_preprocessed['Delta 15 N (o/oo)']"
      ],
      "metadata": {
        "id": "l1dita75gPwG",
        "colab": {
          "base_uri": "https://localhost:8080/"
        },
        "outputId": "0dc80122-eade-469b-eb6f-4d71d2664681"
      },
      "execution_count": null,
      "outputs": [
        {
          "output_type": "execute_result",
          "data": {
            "text/plain": [
              "0      9.43146\n",
              "1      8.31180\n",
              "2      8.36936\n",
              "3      9.62357\n",
              "4      8.38404\n",
              "        ...   \n",
              "223    9.88809\n",
              "224    8.58487\n",
              "225    7.99530\n",
              "226    9.80590\n",
              "227    9.10800\n",
              "Name: Delta 15 N (o/oo), Length: 228, dtype: float64"
            ]
          },
          "metadata": {},
          "execution_count": 119
        }
      ]
    },
    {
      "cell_type": "code",
      "source": [
        "test_preprocessed['Delta 15 N (o/oo)'].describe()"
      ],
      "metadata": {
        "id": "6Z-3MvhkgRNs",
        "colab": {
          "base_uri": "https://localhost:8080/"
        },
        "outputId": "ac3d343b-e93d-412a-8d4a-822afc4208fa"
      },
      "execution_count": null,
      "outputs": [
        {
          "output_type": "execute_result",
          "data": {
            "text/plain": [
              "count    219.000000\n",
              "mean       8.731226\n",
              "std        0.544827\n",
              "min        7.685280\n",
              "25%        8.325385\n",
              "50%        8.675380\n",
              "75%        9.109330\n",
              "max       10.023720\n",
              "Name: Delta 15 N (o/oo), dtype: float64"
            ]
          },
          "metadata": {},
          "execution_count": 120
        }
      ]
    },
    {
      "cell_type": "code",
      "source": [
        "test_preprocessed['Delta 15 N (o/oo)'] = test_preprocessed['Delta 15 N (o/oo)'].fillna(0)\n",
        "test_preprocessed['Delta 13 C (o/oo)'] = test_preprocessed['Delta 13 C (o/oo)'].fillna(0)"
      ],
      "metadata": {
        "id": "Rq4Yn6LkgS11"
      },
      "execution_count": null,
      "outputs": []
    },
    {
      "cell_type": "markdown",
      "source": [
        "수치형인 데이터인 결측치가 존재했던 Delta 15 N (o/oo)과 Delta 13 C (o/oo) 컬럼에 결측값으로 0을 채워줍니다."
      ],
      "metadata": {
        "id": "ZFtRfo7vgV4E"
      }
    },
    {
      "cell_type": "markdown",
      "source": [
        "<br>"
      ],
      "metadata": {
        "id": "aTFNFC-AgYjC"
      }
    },
    {
      "cell_type": "markdown",
      "source": [
        "이후 id 컬럼을 삭제한 후, 결측치가 있는 컬럼이 더 이상 없는지와 id 컬럼이 삭제 됐는지 확인합니다. <br>\n",
        "아래 결과를 보면 결측치가 존재하지 않고 id 컬럼이 삭제된 것을 볼 수 있습니다."
      ],
      "metadata": {
        "id": "zKC9qotUgZZe"
      }
    },
    {
      "cell_type": "code",
      "source": [
        "test_preprocessed= test_preprocessed.drop('id', axis=1)\n",
        "test_preprocessed.info()"
      ],
      "metadata": {
        "id": "WABzO6uYgbHh",
        "colab": {
          "base_uri": "https://localhost:8080/"
        },
        "outputId": "26a24fbd-654b-4730-e20d-d81ea1e9f43c"
      },
      "execution_count": null,
      "outputs": [
        {
          "output_type": "stream",
          "name": "stdout",
          "text": [
            "<class 'pandas.core.frame.DataFrame'>\n",
            "RangeIndex: 228 entries, 0 to 227\n",
            "Data columns (total 9 columns):\n",
            " #   Column               Non-Null Count  Dtype  \n",
            "---  ------               --------------  -----  \n",
            " 0   Species              228 non-null    object \n",
            " 1   Island               228 non-null    object \n",
            " 2   Clutch Completion    228 non-null    object \n",
            " 3   Culmen Length (mm)   228 non-null    float64\n",
            " 4   Culmen Depth (mm)    228 non-null    float64\n",
            " 5   Flipper Length (mm)  228 non-null    float64\n",
            " 6   Sex                  228 non-null    object \n",
            " 7   Delta 15 N (o/oo)    228 non-null    float64\n",
            " 8   Delta 13 C (o/oo)    228 non-null    float64\n",
            "dtypes: float64(5), object(4)\n",
            "memory usage: 16.2+ KB\n"
          ]
        }
      ]
    },
    {
      "cell_type": "markdown",
      "source": [
        "<br>"
      ],
      "metadata": {
        "id": "ljNOdn_jgzI7"
      }
    },
    {
      "cell_type": "markdown",
      "source": [
        "### **2) 인코딩**"
      ],
      "metadata": {
        "id": "dO6-fazJg0Ic"
      }
    },
    {
      "cell_type": "markdown",
      "source": [
        "결측치를 처리한 test 데이터에 범주형 변수들이 문자열의 형태로 존재하고 있습니다.<br>\n",
        "모델학습이 가능하도록 문자열 형태의 범주형 변수를 숫자 형태로 인코딩해주는 **라벨 인코딩**을 진행해줍니다."
      ],
      "metadata": {
        "id": "qAF5Iug1g35n"
      }
    },
    {
      "cell_type": "code",
      "source": [
        "def make_label_map(dataframe):\n",
        "    label_maps = {}\n",
        "    for col in dataframe.columns:\n",
        "        if dataframe[col].dtype=='object': \n",
        "            label_map = {'unknown':0} \n",
        "            for i, key in enumerate(train[col].unique()):\n",
        "                label_map[key] = i+1\n",
        "            label_maps[col] = label_map\n",
        "    return label_maps\n",
        "\n",
        "\n",
        "# 전처리 완료한 test 데이터 : test_preprocessed\n",
        "label_map = make_label_map(test_preprocessed) \n",
        "labeled_test = label_encoder(test_preprocessed, label_map)"
      ],
      "metadata": {
        "id": "yGfiDFXfg4Zf"
      },
      "execution_count": null,
      "outputs": []
    },
    {
      "cell_type": "code",
      "source": [
        "labeled_test"
      ],
      "metadata": {
        "id": "gi3TD77tg7RV",
        "colab": {
          "base_uri": "https://localhost:8080/",
          "height": 424
        },
        "outputId": "e39ad389-9060-4925-e37d-89d4180467a5"
      },
      "execution_count": null,
      "outputs": [
        {
          "output_type": "execute_result",
          "data": {
            "text/plain": [
              "     Species  Island  Clutch Completion  Culmen Length (mm)  \\\n",
              "0          2       2                  1                52.0   \n",
              "1          1       1                  1                55.9   \n",
              "2          3       2                  1                38.9   \n",
              "3          2       2                  1                45.2   \n",
              "4          3       1                  2                37.9   \n",
              "..       ...     ...                ...                 ...   \n",
              "223        2       2                  1                49.3   \n",
              "224        1       1                  1                46.5   \n",
              "225        1       1                  1                46.5   \n",
              "226        2       2                  1                50.5   \n",
              "227        3       1                  1                37.6   \n",
              "\n",
              "     Culmen Depth (mm)  Flipper Length (mm)  Sex  Delta 15 N (o/oo)  \\\n",
              "0                 20.7                210.0    1            9.43146   \n",
              "1                 17.0                228.0    1            8.31180   \n",
              "2                 18.8                190.0    2            8.36936   \n",
              "3                 16.6                191.0    2            9.62357   \n",
              "4                 18.6                172.0    2            8.38404   \n",
              "..                 ...                  ...  ...                ...   \n",
              "223               19.9                203.0    1            9.88809   \n",
              "224               14.8                217.0    2            8.58487   \n",
              "225               13.5                210.0    2            7.99530   \n",
              "226               19.6                201.0    1            9.80590   \n",
              "227               19.1                194.0    1            9.10800   \n",
              "\n",
              "     Delta 13 C (o/oo)  \n",
              "0            -24.68440  \n",
              "1            -26.35425  \n",
              "2            -26.11199  \n",
              "3            -24.78984  \n",
              "4            -25.19837  \n",
              "..                 ...  \n",
              "223          -24.59513  \n",
              "224          -26.59290  \n",
              "225          -25.32829  \n",
              "226          -24.72940  \n",
              "227          -25.89677  \n",
              "\n",
              "[228 rows x 9 columns]"
            ],
            "text/html": [
              "\n",
              "  <div id=\"df-38f4f6c2-7286-4167-9c90-b7ff57b0fac9\">\n",
              "    <div class=\"colab-df-container\">\n",
              "      <div>\n",
              "<style scoped>\n",
              "    .dataframe tbody tr th:only-of-type {\n",
              "        vertical-align: middle;\n",
              "    }\n",
              "\n",
              "    .dataframe tbody tr th {\n",
              "        vertical-align: top;\n",
              "    }\n",
              "\n",
              "    .dataframe thead th {\n",
              "        text-align: right;\n",
              "    }\n",
              "</style>\n",
              "<table border=\"1\" class=\"dataframe\">\n",
              "  <thead>\n",
              "    <tr style=\"text-align: right;\">\n",
              "      <th></th>\n",
              "      <th>Species</th>\n",
              "      <th>Island</th>\n",
              "      <th>Clutch Completion</th>\n",
              "      <th>Culmen Length (mm)</th>\n",
              "      <th>Culmen Depth (mm)</th>\n",
              "      <th>Flipper Length (mm)</th>\n",
              "      <th>Sex</th>\n",
              "      <th>Delta 15 N (o/oo)</th>\n",
              "      <th>Delta 13 C (o/oo)</th>\n",
              "    </tr>\n",
              "  </thead>\n",
              "  <tbody>\n",
              "    <tr>\n",
              "      <th>0</th>\n",
              "      <td>2</td>\n",
              "      <td>2</td>\n",
              "      <td>1</td>\n",
              "      <td>52.0</td>\n",
              "      <td>20.7</td>\n",
              "      <td>210.0</td>\n",
              "      <td>1</td>\n",
              "      <td>9.43146</td>\n",
              "      <td>-24.68440</td>\n",
              "    </tr>\n",
              "    <tr>\n",
              "      <th>1</th>\n",
              "      <td>1</td>\n",
              "      <td>1</td>\n",
              "      <td>1</td>\n",
              "      <td>55.9</td>\n",
              "      <td>17.0</td>\n",
              "      <td>228.0</td>\n",
              "      <td>1</td>\n",
              "      <td>8.31180</td>\n",
              "      <td>-26.35425</td>\n",
              "    </tr>\n",
              "    <tr>\n",
              "      <th>2</th>\n",
              "      <td>3</td>\n",
              "      <td>2</td>\n",
              "      <td>1</td>\n",
              "      <td>38.9</td>\n",
              "      <td>18.8</td>\n",
              "      <td>190.0</td>\n",
              "      <td>2</td>\n",
              "      <td>8.36936</td>\n",
              "      <td>-26.11199</td>\n",
              "    </tr>\n",
              "    <tr>\n",
              "      <th>3</th>\n",
              "      <td>2</td>\n",
              "      <td>2</td>\n",
              "      <td>1</td>\n",
              "      <td>45.2</td>\n",
              "      <td>16.6</td>\n",
              "      <td>191.0</td>\n",
              "      <td>2</td>\n",
              "      <td>9.62357</td>\n",
              "      <td>-24.78984</td>\n",
              "    </tr>\n",
              "    <tr>\n",
              "      <th>4</th>\n",
              "      <td>3</td>\n",
              "      <td>1</td>\n",
              "      <td>2</td>\n",
              "      <td>37.9</td>\n",
              "      <td>18.6</td>\n",
              "      <td>172.0</td>\n",
              "      <td>2</td>\n",
              "      <td>8.38404</td>\n",
              "      <td>-25.19837</td>\n",
              "    </tr>\n",
              "    <tr>\n",
              "      <th>...</th>\n",
              "      <td>...</td>\n",
              "      <td>...</td>\n",
              "      <td>...</td>\n",
              "      <td>...</td>\n",
              "      <td>...</td>\n",
              "      <td>...</td>\n",
              "      <td>...</td>\n",
              "      <td>...</td>\n",
              "      <td>...</td>\n",
              "    </tr>\n",
              "    <tr>\n",
              "      <th>223</th>\n",
              "      <td>2</td>\n",
              "      <td>2</td>\n",
              "      <td>1</td>\n",
              "      <td>49.3</td>\n",
              "      <td>19.9</td>\n",
              "      <td>203.0</td>\n",
              "      <td>1</td>\n",
              "      <td>9.88809</td>\n",
              "      <td>-24.59513</td>\n",
              "    </tr>\n",
              "    <tr>\n",
              "      <th>224</th>\n",
              "      <td>1</td>\n",
              "      <td>1</td>\n",
              "      <td>1</td>\n",
              "      <td>46.5</td>\n",
              "      <td>14.8</td>\n",
              "      <td>217.0</td>\n",
              "      <td>2</td>\n",
              "      <td>8.58487</td>\n",
              "      <td>-26.59290</td>\n",
              "    </tr>\n",
              "    <tr>\n",
              "      <th>225</th>\n",
              "      <td>1</td>\n",
              "      <td>1</td>\n",
              "      <td>1</td>\n",
              "      <td>46.5</td>\n",
              "      <td>13.5</td>\n",
              "      <td>210.0</td>\n",
              "      <td>2</td>\n",
              "      <td>7.99530</td>\n",
              "      <td>-25.32829</td>\n",
              "    </tr>\n",
              "    <tr>\n",
              "      <th>226</th>\n",
              "      <td>2</td>\n",
              "      <td>2</td>\n",
              "      <td>1</td>\n",
              "      <td>50.5</td>\n",
              "      <td>19.6</td>\n",
              "      <td>201.0</td>\n",
              "      <td>1</td>\n",
              "      <td>9.80590</td>\n",
              "      <td>-24.72940</td>\n",
              "    </tr>\n",
              "    <tr>\n",
              "      <th>227</th>\n",
              "      <td>3</td>\n",
              "      <td>1</td>\n",
              "      <td>1</td>\n",
              "      <td>37.6</td>\n",
              "      <td>19.1</td>\n",
              "      <td>194.0</td>\n",
              "      <td>1</td>\n",
              "      <td>9.10800</td>\n",
              "      <td>-25.89677</td>\n",
              "    </tr>\n",
              "  </tbody>\n",
              "</table>\n",
              "<p>228 rows × 9 columns</p>\n",
              "</div>\n",
              "      <button class=\"colab-df-convert\" onclick=\"convertToInteractive('df-38f4f6c2-7286-4167-9c90-b7ff57b0fac9')\"\n",
              "              title=\"Convert this dataframe to an interactive table.\"\n",
              "              style=\"display:none;\">\n",
              "        \n",
              "  <svg xmlns=\"http://www.w3.org/2000/svg\" height=\"24px\"viewBox=\"0 0 24 24\"\n",
              "       width=\"24px\">\n",
              "    <path d=\"M0 0h24v24H0V0z\" fill=\"none\"/>\n",
              "    <path d=\"M18.56 5.44l.94 2.06.94-2.06 2.06-.94-2.06-.94-.94-2.06-.94 2.06-2.06.94zm-11 1L8.5 8.5l.94-2.06 2.06-.94-2.06-.94L8.5 2.5l-.94 2.06-2.06.94zm10 10l.94 2.06.94-2.06 2.06-.94-2.06-.94-.94-2.06-.94 2.06-2.06.94z\"/><path d=\"M17.41 7.96l-1.37-1.37c-.4-.4-.92-.59-1.43-.59-.52 0-1.04.2-1.43.59L10.3 9.45l-7.72 7.72c-.78.78-.78 2.05 0 2.83L4 21.41c.39.39.9.59 1.41.59.51 0 1.02-.2 1.41-.59l7.78-7.78 2.81-2.81c.8-.78.8-2.07 0-2.86zM5.41 20L4 18.59l7.72-7.72 1.47 1.35L5.41 20z\"/>\n",
              "  </svg>\n",
              "      </button>\n",
              "      \n",
              "  <style>\n",
              "    .colab-df-container {\n",
              "      display:flex;\n",
              "      flex-wrap:wrap;\n",
              "      gap: 12px;\n",
              "    }\n",
              "\n",
              "    .colab-df-convert {\n",
              "      background-color: #E8F0FE;\n",
              "      border: none;\n",
              "      border-radius: 50%;\n",
              "      cursor: pointer;\n",
              "      display: none;\n",
              "      fill: #1967D2;\n",
              "      height: 32px;\n",
              "      padding: 0 0 0 0;\n",
              "      width: 32px;\n",
              "    }\n",
              "\n",
              "    .colab-df-convert:hover {\n",
              "      background-color: #E2EBFA;\n",
              "      box-shadow: 0px 1px 2px rgba(60, 64, 67, 0.3), 0px 1px 3px 1px rgba(60, 64, 67, 0.15);\n",
              "      fill: #174EA6;\n",
              "    }\n",
              "\n",
              "    [theme=dark] .colab-df-convert {\n",
              "      background-color: #3B4455;\n",
              "      fill: #D2E3FC;\n",
              "    }\n",
              "\n",
              "    [theme=dark] .colab-df-convert:hover {\n",
              "      background-color: #434B5C;\n",
              "      box-shadow: 0px 1px 3px 1px rgba(0, 0, 0, 0.15);\n",
              "      filter: drop-shadow(0px 1px 2px rgba(0, 0, 0, 0.3));\n",
              "      fill: #FFFFFF;\n",
              "    }\n",
              "  </style>\n",
              "\n",
              "      <script>\n",
              "        const buttonEl =\n",
              "          document.querySelector('#df-38f4f6c2-7286-4167-9c90-b7ff57b0fac9 button.colab-df-convert');\n",
              "        buttonEl.style.display =\n",
              "          google.colab.kernel.accessAllowed ? 'block' : 'none';\n",
              "\n",
              "        async function convertToInteractive(key) {\n",
              "          const element = document.querySelector('#df-38f4f6c2-7286-4167-9c90-b7ff57b0fac9');\n",
              "          const dataTable =\n",
              "            await google.colab.kernel.invokeFunction('convertToInteractive',\n",
              "                                                     [key], {});\n",
              "          if (!dataTable) return;\n",
              "\n",
              "          const docLinkHtml = 'Like what you see? Visit the ' +\n",
              "            '<a target=\"_blank\" href=https://colab.research.google.com/notebooks/data_table.ipynb>data table notebook</a>'\n",
              "            + ' to learn more about interactive tables.';\n",
              "          element.innerHTML = '';\n",
              "          dataTable['output_type'] = 'display_data';\n",
              "          await google.colab.output.renderOutput(dataTable, element);\n",
              "          const docLink = document.createElement('div');\n",
              "          docLink.innerHTML = docLinkHtml;\n",
              "          element.appendChild(docLink);\n",
              "        }\n",
              "      </script>\n",
              "    </div>\n",
              "  </div>\n",
              "  "
            ]
          },
          "metadata": {},
          "execution_count": 124
        }
      ]
    },
    {
      "cell_type": "markdown",
      "source": [
        "<br>"
      ],
      "metadata": {
        "id": "yV22jzxChA6C"
      }
    },
    {
      "cell_type": "markdown",
      "source": [
        "### **3) 예측하기**"
      ],
      "metadata": {
        "id": "FpLOU9a4xVs0"
      }
    },
    {
      "cell_type": "markdown",
      "source": [
        "앞서 회귀분석 결과에서 라쏘 회귀가 적절한 모델이였기 때문에, predict을 사용하여 예측을 진행합니다. <br>\n",
        "이후 예측된 결과값을 DataFrame 형식으로 생성한 후 cvs 파일로 저장해주며, 실습이 마무리 됩니다. "
      ],
      "metadata": {
        "id": "A-G1dWR3hBZk"
      }
    },
    {
      "cell_type": "code",
      "source": [
        "new_x_pred = lasso.predict(labeled_test)"
      ],
      "metadata": {
        "id": "6UTqUnExhrfp"
      },
      "execution_count": null,
      "outputs": []
    },
    {
      "cell_type": "code",
      "source": [
        "ans = pd.DataFrame(new_x_pred)\n",
        "ans"
      ],
      "metadata": {
        "id": "LlauEgChhtar",
        "colab": {
          "base_uri": "https://localhost:8080/",
          "height": 424
        },
        "outputId": "301f0c3e-8730-4221-cf9f-27eb175f44d7"
      },
      "execution_count": null,
      "outputs": [
        {
          "output_type": "execute_result",
          "data": {
            "text/plain": [
              "               0\n",
              "0    4444.958986\n",
              "1    5529.970909\n",
              "2    3598.773417\n",
              "3    3467.672097\n",
              "4    3250.612169\n",
              "..           ...\n",
              "223  4181.637360\n",
              "224  4722.550784\n",
              "225  4628.676485\n",
              "226  4158.386634\n",
              "227  4188.880224\n",
              "\n",
              "[228 rows x 1 columns]"
            ],
            "text/html": [
              "\n",
              "  <div id=\"df-9fff320a-7581-45d7-82cc-218f406b0bed\">\n",
              "    <div class=\"colab-df-container\">\n",
              "      <div>\n",
              "<style scoped>\n",
              "    .dataframe tbody tr th:only-of-type {\n",
              "        vertical-align: middle;\n",
              "    }\n",
              "\n",
              "    .dataframe tbody tr th {\n",
              "        vertical-align: top;\n",
              "    }\n",
              "\n",
              "    .dataframe thead th {\n",
              "        text-align: right;\n",
              "    }\n",
              "</style>\n",
              "<table border=\"1\" class=\"dataframe\">\n",
              "  <thead>\n",
              "    <tr style=\"text-align: right;\">\n",
              "      <th></th>\n",
              "      <th>0</th>\n",
              "    </tr>\n",
              "  </thead>\n",
              "  <tbody>\n",
              "    <tr>\n",
              "      <th>0</th>\n",
              "      <td>4444.958986</td>\n",
              "    </tr>\n",
              "    <tr>\n",
              "      <th>1</th>\n",
              "      <td>5529.970909</td>\n",
              "    </tr>\n",
              "    <tr>\n",
              "      <th>2</th>\n",
              "      <td>3598.773417</td>\n",
              "    </tr>\n",
              "    <tr>\n",
              "      <th>3</th>\n",
              "      <td>3467.672097</td>\n",
              "    </tr>\n",
              "    <tr>\n",
              "      <th>4</th>\n",
              "      <td>3250.612169</td>\n",
              "    </tr>\n",
              "    <tr>\n",
              "      <th>...</th>\n",
              "      <td>...</td>\n",
              "    </tr>\n",
              "    <tr>\n",
              "      <th>223</th>\n",
              "      <td>4181.637360</td>\n",
              "    </tr>\n",
              "    <tr>\n",
              "      <th>224</th>\n",
              "      <td>4722.550784</td>\n",
              "    </tr>\n",
              "    <tr>\n",
              "      <th>225</th>\n",
              "      <td>4628.676485</td>\n",
              "    </tr>\n",
              "    <tr>\n",
              "      <th>226</th>\n",
              "      <td>4158.386634</td>\n",
              "    </tr>\n",
              "    <tr>\n",
              "      <th>227</th>\n",
              "      <td>4188.880224</td>\n",
              "    </tr>\n",
              "  </tbody>\n",
              "</table>\n",
              "<p>228 rows × 1 columns</p>\n",
              "</div>\n",
              "      <button class=\"colab-df-convert\" onclick=\"convertToInteractive('df-9fff320a-7581-45d7-82cc-218f406b0bed')\"\n",
              "              title=\"Convert this dataframe to an interactive table.\"\n",
              "              style=\"display:none;\">\n",
              "        \n",
              "  <svg xmlns=\"http://www.w3.org/2000/svg\" height=\"24px\"viewBox=\"0 0 24 24\"\n",
              "       width=\"24px\">\n",
              "    <path d=\"M0 0h24v24H0V0z\" fill=\"none\"/>\n",
              "    <path d=\"M18.56 5.44l.94 2.06.94-2.06 2.06-.94-2.06-.94-.94-2.06-.94 2.06-2.06.94zm-11 1L8.5 8.5l.94-2.06 2.06-.94-2.06-.94L8.5 2.5l-.94 2.06-2.06.94zm10 10l.94 2.06.94-2.06 2.06-.94-2.06-.94-.94-2.06-.94 2.06-2.06.94z\"/><path d=\"M17.41 7.96l-1.37-1.37c-.4-.4-.92-.59-1.43-.59-.52 0-1.04.2-1.43.59L10.3 9.45l-7.72 7.72c-.78.78-.78 2.05 0 2.83L4 21.41c.39.39.9.59 1.41.59.51 0 1.02-.2 1.41-.59l7.78-7.78 2.81-2.81c.8-.78.8-2.07 0-2.86zM5.41 20L4 18.59l7.72-7.72 1.47 1.35L5.41 20z\"/>\n",
              "  </svg>\n",
              "      </button>\n",
              "      \n",
              "  <style>\n",
              "    .colab-df-container {\n",
              "      display:flex;\n",
              "      flex-wrap:wrap;\n",
              "      gap: 12px;\n",
              "    }\n",
              "\n",
              "    .colab-df-convert {\n",
              "      background-color: #E8F0FE;\n",
              "      border: none;\n",
              "      border-radius: 50%;\n",
              "      cursor: pointer;\n",
              "      display: none;\n",
              "      fill: #1967D2;\n",
              "      height: 32px;\n",
              "      padding: 0 0 0 0;\n",
              "      width: 32px;\n",
              "    }\n",
              "\n",
              "    .colab-df-convert:hover {\n",
              "      background-color: #E2EBFA;\n",
              "      box-shadow: 0px 1px 2px rgba(60, 64, 67, 0.3), 0px 1px 3px 1px rgba(60, 64, 67, 0.15);\n",
              "      fill: #174EA6;\n",
              "    }\n",
              "\n",
              "    [theme=dark] .colab-df-convert {\n",
              "      background-color: #3B4455;\n",
              "      fill: #D2E3FC;\n",
              "    }\n",
              "\n",
              "    [theme=dark] .colab-df-convert:hover {\n",
              "      background-color: #434B5C;\n",
              "      box-shadow: 0px 1px 3px 1px rgba(0, 0, 0, 0.15);\n",
              "      filter: drop-shadow(0px 1px 2px rgba(0, 0, 0, 0.3));\n",
              "      fill: #FFFFFF;\n",
              "    }\n",
              "  </style>\n",
              "\n",
              "      <script>\n",
              "        const buttonEl =\n",
              "          document.querySelector('#df-9fff320a-7581-45d7-82cc-218f406b0bed button.colab-df-convert');\n",
              "        buttonEl.style.display =\n",
              "          google.colab.kernel.accessAllowed ? 'block' : 'none';\n",
              "\n",
              "        async function convertToInteractive(key) {\n",
              "          const element = document.querySelector('#df-9fff320a-7581-45d7-82cc-218f406b0bed');\n",
              "          const dataTable =\n",
              "            await google.colab.kernel.invokeFunction('convertToInteractive',\n",
              "                                                     [key], {});\n",
              "          if (!dataTable) return;\n",
              "\n",
              "          const docLinkHtml = 'Like what you see? Visit the ' +\n",
              "            '<a target=\"_blank\" href=https://colab.research.google.com/notebooks/data_table.ipynb>data table notebook</a>'\n",
              "            + ' to learn more about interactive tables.';\n",
              "          element.innerHTML = '';\n",
              "          dataTable['output_type'] = 'display_data';\n",
              "          await google.colab.output.renderOutput(dataTable, element);\n",
              "          const docLink = document.createElement('div');\n",
              "          docLink.innerHTML = docLinkHtml;\n",
              "          element.appendChild(docLink);\n",
              "        }\n",
              "      </script>\n",
              "    </div>\n",
              "  </div>\n",
              "  "
            ]
          },
          "metadata": {},
          "execution_count": 126
        }
      ]
    },
    {
      "cell_type": "code",
      "source": [
        "ans.to_csv('ans.csv')"
      ],
      "metadata": {
        "id": "2EaA84w_hvxR"
      },
      "execution_count": null,
      "outputs": []
    },
    {
      "cell_type": "markdown",
      "source": [
        "\n",
        "\n",
        "---\n",
        "\n"
      ],
      "metadata": {
        "id": "_edtc5o-gfD3"
      }
    },
    {
      "cell_type": "markdown",
      "source": [
        "이렇게 펭귄 몸무게 예측 데이터를 활용하여 회귀 실습을 진행해 보았습니다.\n",
        "<br><br>\n",
        "\n",
        "배운 내용을 실습에 젹용해보고, 더 다양한 방법을 적용해볼 수 있는 실습이라 더 재미있었는데요! <br> 여러분들도 글을 보시고 여러분의 방법으로 실습을 진행해보셨길 바랍니다🦾\n",
        "<br><br>\n",
        "\n",
        "다음엔 데이썬의 마지막이자 두번째 실습 게시글이 업로드될 예정입니다! <br>\n",
        "손동작 데이터에 앙상블을 활용한 실습이니 많이 기대해주세요🤓\n",
        "\n",
        "\n",
        "그럼 마지막까지 많은 관심과 애정 부탁드려요! 감사합니다💛"
      ],
      "metadata": {
        "id": "Zv-OQZnIibjk"
      }
    }
  ]
}