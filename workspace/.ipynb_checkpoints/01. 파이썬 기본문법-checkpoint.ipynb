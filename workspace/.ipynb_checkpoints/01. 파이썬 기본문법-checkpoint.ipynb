{
 "cells": [
  {
   "cell_type": "markdown",
   "id": "555fd395",
   "metadata": {},
   "source": [
    "# 기본문법\n",
    "## 파이썬 표준 라이브러리 문서\n",
    "https://docs.python.org/3/library/index.html"
   ]
  },
  {
   "cell_type": "markdown",
   "id": "d168fa67",
   "metadata": {},
   "source": [
    "![시작하기전에](images/start.png)"
   ]
  },
  {
   "cell_type": "markdown",
   "id": "e4fe292e",
   "metadata": {},
   "source": [
    "#### 표현식(expression)\n",
    "- 파이썬에서 어떠한 값을 만들어내는 간단한 코드\n",
    "- 값이란 숫자, 수식, 문자열등이 될 수 있다.\n",
    "\n",
    "#### 문장(statement)\n",
    "- 표현식이 하나 이상 모일 경우\n",
    "\n",
    "#### 식별자(identifier)\n",
    "- 프로그래밍 언어에서 이름 붙일 때 사용하는 단어\n",
    "- 변수 또는 함수 이름 등으로 사용\n",
    "- 키워드 사용 불가\n",
    "- 특수문자는 언더바(_)만 허용\n",
    "- 숫자로 시작 불가\n",
    "- 공백 포함 불가\n",
    "- 아파멧 사용이 관례\n",
    "- 의미 있는 단어로 사용할 것"
   ]
  },
  {
   "cell_type": "markdown",
   "id": "0001b2e8",
   "metadata": {},
   "source": [
    "## 파이썬 인터렉티브 셀(iPython) 실행 : Console 환경\n",
    "\n",
    "- 파이썬 프롬포트 상에 python을 실행"
   ]
  },
  {
   "cell_type": "markdown",
   "id": "bd385df4",
   "metadata": {},
   "source": [
    "![콘솔환경](images/ipython.png)"
   ]
  },
  {
   "cell_type": "markdown",
   "id": "2d7ee097",
   "metadata": {},
   "source": [
    "- 프롬프트(prompt) : 명령어를 입력받을 준비가 되어있는 상태, >>>"
   ]
  },
  {
   "cell_type": "code",
   "execution_count": null,
   "id": "d9031a27",
   "metadata": {},
   "outputs": [],
   "source": []
  },
  {
   "cell_type": "markdown",
   "id": "d27b2626",
   "metadata": {},
   "source": [
    "## REPL(Read-Eval-Print Loop) 방식\n",
    "- '레플'이라고 읽는다.\n",
    "- 주피터 노트북이나 파이썬(또는 IPython) 콘솔을 실행해서 명령어를 한 줄씩 입력하며 실행 상황을 지켜보는 방식"
   ]
  },
  {
   "cell_type": "code",
   "execution_count": null,
   "id": "2af828c2",
   "metadata": {},
   "outputs": [],
   "source": []
  },
  {
   "cell_type": "markdown",
   "id": "cc8f7aa6",
   "metadata": {},
   "source": [
    "## 예약어(Reserved Words)\n",
    "- 파이썬에서 이미 문법적인 용도로 사용되고 있으므로 변수명등의 식별자로 사용하면 안되는 단어들\n",
    "- 파이썬에서 이미 사용되고 있는(용도가 예약된) 단어들\n",
    "- 예약어를 변수에 사용하면 에러는 없으나 고유 기능은 사라진다.\n",
    "- Python 3.7 부터 35개의 예약어가 사용된다.\n",
    "- Python 3.6에서는 33개의 예약어가 사용된다."
   ]
  },
  {
   "cell_type": "code",
   "execution_count": 1,
   "id": "e96a3444",
   "metadata": {},
   "outputs": [
    {
     "name": "stdout",
     "output_type": "stream",
     "text": [
      "['False', 'None', 'True', '__peg_parser__', 'and', 'as', 'assert', 'async', 'await', 'break', 'class', 'continue', 'def', 'del', 'elif', 'else', 'except', 'finally', 'for', 'from', 'global', 'if', 'import', 'in', 'is', 'lambda', 'nonlocal', 'not', 'or', 'pass', 'raise', 'return', 'try', 'while', 'with', 'yield']\n",
      "36\n"
     ]
    }
   ],
   "source": [
    "# 파이썬 예약어\n",
    "# keyword 모듈 로딩\n",
    "import keyword\n",
    "\n",
    "# 파이썬 예약어 목록\n",
    "print(keyword.kwlist)\n",
    "\n",
    "# len(리스트) : 자료의 갯수\n",
    "print(len(keyword.kwlist))"
   ]
  },
  {
   "cell_type": "markdown",
   "id": "793851ac",
   "metadata": {},
   "source": [
    "## Python coding convention\n",
    "- 파이썬 코딩 컨벤션은 파이썬을 코딩할 때 사용하는 일종의 올바른 스타일 관례라고 할 수 있다."
   ]
  },
  {
   "cell_type": "markdown",
   "id": "0d3756ff",
   "metadata": {},
   "source": [
    "### PEP8\n",
    "- 파이썬의 코딩 스타일 가이드\n",
    "- PEP는 파이썬의 개발을 파이썬 개선 제안서(Python Enhancement Proposal)의 줄인말이다.\n",
    "- PEP 프로세스는 새로운 기능을 제안하고 커뮤니티의 의견을 수렴하여 파이썬의 디자인 결정을 문서화하는 파이썬의 주요 개발 프로세서를 말한다."
   ]
  },
  {
   "cell_type": "markdown",
   "id": "705c0a08",
   "metadata": {},
   "source": [
    "### Style Guide for Python Code\n",
    "1. Code lay-out\n",
    "  - 인덴트(Indent) : 공백으로 4칸 들여쓰기, 다른 언어는 권장사항이지만 파이썬은 반드시 지켜야만 하는 대표적인 특징이다.\n",
    "  - Blank Lines : 함수 및 클래스 정의 위에는 빈 2줄  "
   ]
  },
  {
   "cell_type": "markdown",
   "id": "1f995c33",
   "metadata": {},
   "source": [
    "2. Whitespace in Expressions and Statements\n",
    "  - 불필요한 공백 넣지 않기 : 대괄호[], 소괄호()안, 쉼표(,), 쌍점(:)과 쌍반점(;) 앞"
   ]
  },
  {
   "cell_type": "markdown",
   "id": "23130e08",
   "metadata": {},
   "source": [
    "3. COmments\n",
    "  - 코드와 맞지 않는 주석 없도록 하기\n",
    "  - 불필요한 주석 달지 않기\n",
    "  - 명령문과 같은 줄에 있는 인라인 주석은 많지 않도록 하기  "
   ]
  },
  {
   "cell_type": "markdown",
   "id": "c8bcddd5",
   "metadata": {},
   "source": [
    "4. Naming Conventions\n",
    "  - 피해야 하는 이름 : 'l'(소문자), 'O'(대문자) 또는 'I'(대문자) 문자를 단일 문자 변수 이름으로 사용하지 않도록 구현\n",
    "  - 명명법 : 모듈 명은 짧은 소문자, 클래스명은 카멜케이스(CamelCase)로, 함수명은 소문자, 인스턴스 메소드의 첫번째 인수는 항상 self, 클래스 메소드의 첫 번째 인수는 항상 cls, 상수(constant)는 모듈 단위에서만 정의, 모두 대문자\n",
    "  - 스네이크 케이스(snake case) : 언더바(_)를 기호 중간에 붙이기\n",
    "  - 캐멀 케이스(camel case) : 단어들의 첫 글자를 대문자로 만들기"
   ]
  },
  {
   "cell_type": "markdown",
   "id": "d9757821",
   "metadata": {},
   "source": [
    "## 파이썬을 계산기로 이용"
   ]
  },
  {
   "cell_type": "markdown",
   "id": "e845cb4d",
   "metadata": {},
   "source": [
    "### 정수 연산"
   ]
  },
  {
   "cell_type": "markdown",
   "id": "b9e12479",
   "metadata": {},
   "source": [
    "![연산자](images/operator.png)"
   ]
  },
  {
   "cell_type": "code",
   "execution_count": 2,
   "id": "067875e3",
   "metadata": {},
   "outputs": [
    {
     "data": {
      "text/plain": [
       "6.0"
      ]
     },
     "execution_count": 2,
     "metadata": {},
     "output_type": "execute_result"
    }
   ],
   "source": [
    "25 + 30\n",
    "30 - 12\n",
    "50 * 3\n",
    "30 / 5  # 실수 몫"
   ]
  },
  {
   "cell_type": "code",
   "execution_count": 3,
   "id": "5ab9a6b5",
   "metadata": {},
   "outputs": [
    {
     "name": "stdout",
     "output_type": "stream",
     "text": [
      "243\n",
      "243\n"
     ]
    }
   ],
   "source": [
    "print(3 * 3 * 3 * 3 * 3)\n",
    "print(3 ** 5)"
   ]
  },
  {
   "cell_type": "code",
   "execution_count": 4,
   "id": "6f88e41f",
   "metadata": {},
   "outputs": [
    {
     "name": "stdout",
     "output_type": "stream",
     "text": [
      "3\n",
      "1\n"
     ]
    }
   ],
   "source": [
    "print(7 // 2) # 정수 몫\n",
    "print(7 % 2) # 나머지"
   ]
  },
  {
   "cell_type": "code",
   "execution_count": null,
   "id": "cfb8bc12",
   "metadata": {},
   "outputs": [],
   "source": []
  }
 ],
 "metadata": {
  "kernelspec": {
   "display_name": "Python 3 (ipykernel)",
   "language": "python",
   "name": "python3"
  },
  "language_info": {
   "codemirror_mode": {
    "name": "ipython",
    "version": 3
   },
   "file_extension": ".py",
   "mimetype": "text/x-python",
   "name": "python",
   "nbconvert_exporter": "python",
   "pygments_lexer": "ipython3",
   "version": "3.9.7"
  },
  "toc": {
   "base_numbering": 1,
   "nav_menu": {},
   "number_sections": true,
   "sideBar": true,
   "skip_h1_title": false,
   "title_cell": "Table of Contents",
   "title_sidebar": "Contents",
   "toc_cell": false,
   "toc_position": {
    "height": "590.4px",
    "left": "383px",
    "top": "169.525px",
    "width": "307.2px"
   },
   "toc_section_display": true,
   "toc_window_display": true
  },
  "varInspector": {
   "cols": {
    "lenName": 16,
    "lenType": 16,
    "lenVar": 40
   },
   "kernels_config": {
    "python": {
     "delete_cmd_postfix": "",
     "delete_cmd_prefix": "del ",
     "library": "var_list.py",
     "varRefreshCmd": "print(var_dic_list())"
    },
    "r": {
     "delete_cmd_postfix": ") ",
     "delete_cmd_prefix": "rm(",
     "library": "var_list.r",
     "varRefreshCmd": "cat(var_dic_list()) "
    }
   },
   "types_to_exclude": [
    "module",
    "function",
    "builtin_function_or_method",
    "instance",
    "_Feature"
   ],
   "window_display": false
  }
 },
 "nbformat": 4,
 "nbformat_minor": 5
}
