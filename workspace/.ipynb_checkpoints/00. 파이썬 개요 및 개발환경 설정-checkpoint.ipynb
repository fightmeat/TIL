{
 "cells": [
  {
   "cell_type": "markdown",
   "id": "d93986e8",
   "metadata": {},
   "source": [
    "###  개발자\n",
    "- 파이썬(Python)은 1990년 암스테르담의 귀도 반 로섬(Guido Van Rossum)이 개발한 인터프리터 언어이다.\n",
    "- 귀도는 파이썬이라는 이름을 자신이 좋아하는 코미디 쇼인 '몬티 파이썬의 날아다니는 서커스(Monty Python's Flying Circus)에서 따왔다고 한다.\n",
    "- 파이썬의 사전적 의미는 고대 신화에 나오는 파르나소스 산의 동굴에 살던 큰 뱀을 뜻하며, 아폴로 신이 델파이에서 파이썬을 퇴치했다는 이야기가 전해지고 있다. 대부분의 파이썬 책 표지와 아이콘이 뱀 모양으로 그려져 있는 이유가 여기에 있다."
   ]
  },
  {
   "cell_type": "code",
   "execution_count": null,
   "id": "2c989a1a",
   "metadata": {},
   "outputs": [],
   "source": []
  },
  {
   "cell_type": "markdown",
   "id": "33df329f",
   "metadata": {
    "hide_input": false
   },
   "source": [
    "![일화](images/story.png)"
   ]
  },
  {
   "cell_type": "code",
   "execution_count": null,
   "id": "d7ea6bcb",
   "metadata": {},
   "outputs": [],
   "source": []
  },
  {
   "cell_type": "markdown",
   "id": "8b823807",
   "metadata": {},
   "source": [
    "- 우스갯소리일 수도 있지만 초기버전을 1989년 크리스마스 주에, 심심풀이로 만들어보았다고 한다. 머리 숱 많은걸 보면 즐겁게 일하시는듯.. 현재는 드롭박스에서 근무하고 있다고 한다.\n",
    "- 파이썬을 만든 귀도 반 로섬은 2013년 한 헤드헌터로부터 경력직 파이썬 개발자 취업제안을 받았던 재미난 일화가 있다. 면접관: 파이썬 어느 정도 하시나요? 귀도: 제가 만들었는데요. 물론 실제로 저렇게 답변하진 않았다. ㅋㅋ"
   ]
  },
  {
   "cell_type": "code",
   "execution_count": null,
   "id": "b0c68ddd",
   "metadata": {},
   "outputs": [],
   "source": []
  },
  {
   "cell_type": "code",
   "execution_count": null,
   "id": "c11ac5f6",
   "metadata": {},
   "outputs": [],
   "source": [
    "!pip install IPython "
   ]
  },
  {
   "cell_type": "markdown",
   "id": "262d2101",
   "metadata": {},
   "source": [
    "![로고](images/logo.png)"
   ]
  },
  {
   "cell_type": "code",
   "execution_count": null,
   "id": "733cee08",
   "metadata": {},
   "outputs": [],
   "source": []
  },
  {
   "cell_type": "markdown",
   "id": "2c49449f",
   "metadata": {
    "heading_collapsed": true
   },
   "source": [
    "### History\n",
    "- 1991년 Python 0.9 발표\n",
    "- Version 1 : 1994년 1월 Python 1.0 발표 \n",
    "- Version 2 : 2000년 10월 Python 2.0 발표\n",
    "- Version 3 : 2008년 12월 Python 3.0 발표\n",
    "- Pythin3의 기본원칙은 \"오래된 작업 방식을 제거하여 기능 중복을 줄입니다\"이다."
   ]
  },
  {
   "cell_type": "code",
   "execution_count": null,
   "id": "a4858907",
   "metadata": {},
   "outputs": [],
   "source": []
  },
  {
   "cell_type": "markdown",
   "id": "e7e35355",
   "metadata": {
    "hidden": true
   },
   "source": [
    "![올해의 언어](images/tiobe.png)"
   ]
  },
  {
   "cell_type": "markdown",
   "id": "4dd2a848",
   "metadata": {
    "hidden": true
   },
   "source": [
    "- 티오베는 구글, 바이두, 위키피디아 등 상위 25개 검색 엔진에 '프로그래밍 언어'로 간주되는 항목의 검색 횟수 등을 측정하여 매월 프로그래밍 언어 순위를 선정한다."
   ]
  },
  {
   "cell_type": "code",
   "execution_count": null,
   "id": "da1de692",
   "metadata": {},
   "outputs": [],
   "source": []
  },
  {
   "cell_type": "markdown",
   "id": "2885f03f",
   "metadata": {
    "heading_collapsed": true
   },
   "source": [
    "### Python 기술이 사용되는 대표적인 예\n",
    "- Google(구글) : C++, Java, Python 주로 사용(내부 시스템과 많은 구글 API들이 파이썬으로 작성됨)\n",
    "- 유튜브(2006년 구글이 인수)\n",
    "- 마이크로소프트사\n",
    "- 페이스북\n",
    "- Instagram(인스타그램) : 파이썬으로 작성된 오픈 소스 웹 프레임워크 Django를 기본 서버 측 언어로 사용하고 있다.(2012년 페이스북이 인수)\n",
    "- Netflix(넷플릭스) : Netflix는 방대한 표준 라이브러리, 간결하고 깔끔한 구문, 대규모 커뮤니티, 풍부한 타사 라이브러리 등을 이유로 파이썬을 자사 서비스에 적극적으로 활용하고 있다.\n",
    "- Spotify(스포티파이) : 음악 스트리밍 및 미디어 서비스 제공 업체 Spotify의 앱은 Python을 활용해 빌드되었고, Spotify 엔지니어는 Spotify 백엔드의 80%가 파이썬으로 작성되어 있다고 밝혔다.\n",
    "- Dropbox(드롭박스) : 클라우드에 사진, 문서, 등의 파일 보관 및 공유 서비스를 제공하는 플랫폼 Dropbox는 외부 오픈 소스 코드와 자체 작성한 코드 모두에 파이썬을 사용하고 있다."
   ]
  },
  {
   "cell_type": "code",
   "execution_count": null,
   "id": "67306edd",
   "metadata": {},
   "outputs": [],
   "source": []
  },
  {
   "cell_type": "markdown",
   "id": "6893366b",
   "metadata": {
    "hidden": true
   },
   "source": [
    "![스택오브플로우](images/stackofflow.png)"
   ]
  },
  {
   "cell_type": "code",
   "execution_count": null,
   "id": "2052d18a",
   "metadata": {},
   "outputs": [],
   "source": []
  },
  {
   "cell_type": "markdown",
   "id": "6b7f9b9c",
   "metadata": {
    "hidden": true
   },
   "source": [
    "- 세계 최대 온라인 개발자 커뮤니티인 '스택오버플로'에서 인기 언어별로 사용자의 활동량을 집계한 결과 파이썬이 지난 5년간 가장 폭발적으로 관심이 증가한 언어로 나왔다"
   ]
  },
  {
   "cell_type": "markdown",
   "id": "cdaa393a",
   "metadata": {},
   "source": [
    "### 파이썬(Python)의 특징\n",
    "1. 플랫폼(Platform)이 독립적이다.\n",
    "2. 인터프리터(Interpreter) 언어이다.\n",
    "3. 객체 지향 언어이다.\n",
    "4. 동적 타이핑 언어이다.\n",
    "5. 쉽고 간단한 프로그래밍 언어이다.\n",
    "6. 강력한 데이터분석 및 다양한 라이브러리를 제공한다.\n",
    "7. 오픈 소스\n",
    "8. 현재 대중적으로 가장 많이 사용하는 언어이다."
   ]
  },
  {
   "cell_type": "code",
   "execution_count": null,
   "id": "283f87bf",
   "metadata": {},
   "outputs": [],
   "source": []
  },
  {
   "cell_type": "markdown",
   "id": "41bebfb8",
   "metadata": {},
   "source": [
    "![파이썬](images/python.png)"
   ]
  },
  {
   "cell_type": "code",
   "execution_count": null,
   "id": "3f33509b",
   "metadata": {},
   "outputs": [],
   "source": []
  },
  {
   "cell_type": "markdown",
   "id": "b1451e79",
   "metadata": {
    "heading_collapsed": true
   },
   "source": [
    "###  개발환경 구축\n",
    "1. 통합개발환경(IDE) : Anaconda 2021.11 버전 설치\n",
    "  - 구버전 설치 경로 : https://repo.anaconda.com/archive/"
   ]
  },
  {
   "cell_type": "code",
   "execution_count": null,
   "id": "d367072f",
   "metadata": {},
   "outputs": [],
   "source": []
  },
  {
   "cell_type": "markdown",
   "id": "9ad89dbb",
   "metadata": {
    "hidden": true
   },
   "source": [
    "![설치](images/install.png)"
   ]
  },
  {
   "cell_type": "markdown",
   "id": "f1a2d751",
   "metadata": {
    "hidden": true
   },
   "source": [
    "2. 주피터(Jupyter Notebook) 사용법\n",
    "- 윈도우 검색창에서 Anaconda Prompt 실행 후, jupyter notebook 타이핑&엔터"
   ]
  },
  {
   "cell_type": "markdown",
   "id": "13c974fe",
   "metadata": {
    "hidden": true
   },
   "source": [
    "![주피터 노트북실행](images/jupyter_1.png)"
   ]
  },
  {
   "cell_type": "markdown",
   "id": "17576506",
   "metadata": {
    "hidden": true
   },
   "source": [
    "- 자동으로열린 웹 브라우저 화면에 주피터 노트북이 표시된다. \n",
    "- 기본 화면에는 C드라이브의 사용자(Users) 폴더 내용이 표시되는데, 우리가 할 일은 여기에 '노트' 또는 '노트북'이라 표현되는 파이썬 파일을 추가해주는 일이다."
   ]
  },
  {
   "cell_type": "markdown",
   "id": "231231ba",
   "metadata": {
    "hidden": true
   },
   "source": [
    "![노트북화면](images/jupyter_2.png)"
   ]
  },
  {
   "cell_type": "markdown",
   "id": "0fd5f990",
   "metadata": {
    "hidden": true
   },
   "source": [
    "- ipynb 형식의 문서가 생성되고, 웹브라우저의 탭이 추가되면서 생성된 문서가 표시된다."
   ]
  },
  {
   "cell_type": "markdown",
   "id": "bbb6e2cf",
   "metadata": {
    "hidden": true
   },
   "source": [
    "![주피터노트북화면](images/jupyter_3.png)"
   ]
  },
  {
   "cell_type": "markdown",
   "id": "366f120f",
   "metadata": {
    "hidden": true
   },
   "source": [
    "3. 개발환경 구축 확인"
   ]
  },
  {
   "cell_type": "code",
   "execution_count": null,
   "id": "12b8af03",
   "metadata": {
    "hidden": true
   },
   "outputs": [],
   "source": [
    "print('Hello Python')"
   ]
  },
  {
   "cell_type": "markdown",
   "id": "7d7e52c0",
   "metadata": {
    "hidden": true
   },
   "source": [
    "4. 자주 사용하는 단축키\n",
    "- Ctrl + Enter : 선택한 셀을 실행합니다.\n",
    "- Shift + Enter : 선택한 셀을 실행하고 다음 셀로 넘어갑니다. 만약 다음 셀이 없을 경우 셀을 생성합니다. 여러 셀을 선택하고 한꺼번에 구동할 수도 있습니다.\n",
    "- A : 새로운 셀을 선택한 셀 위에 추가합니다.\n",
    "- B : 새로운 셀을 선택한 셀 아래에 추가합니다.\n",
    "- Y : 선택한 셀을 Code입력모드로\n",
    "- M : 선택한 셀을 마크다운(Markdown)입력모드로\n",
    "- 마크다운 문법 참고 링크: https://gist.github.com/ihoneymon/652be052a0727ad59601\n",
    "- X : 선택한 셀을 잘라내기\n",
    "- C : 선택한 셀을 복사하기\n",
    "- V : 복사한 셀을 선택한 셀 아래에 붙여넣기\n",
    "- D,D : 선택한 셀을 삭제하기\n",
    "- Z : 시행 되돌리기\n",
    "- Ctrl + B : 디렉토리창 숨기기/보이기\n",
    "- 함수에 커서를 두고 Shift + Tab : 함수 설명 보기(파라미터 확인할 때 좋습니다)\n",
    "- Help: 각종 Reference들(Python, Numpy, Matplotlib, Pandas 등등)을 확인할 수 있습니다"
   ]
  },
  {
   "cell_type": "code",
   "execution_count": null,
   "id": "c68fc10d",
   "metadata": {
    "hidden": true
   },
   "outputs": [],
   "source": []
  },
  {
   "cell_type": "markdown",
   "id": "00418dab",
   "metadata": {},
   "source": [
    "### 주피터 노트북 확장 프로그램(NBextensions) 설치 및 주요 기능 설정\n",
    "- pip install jupyter_contrib_nbextensions  : 확장프로그램을 pip을 이용해 설치합니다\n",
    "- jupyter contrib nbextension install --user   :   nbextension이 주피터 노트북에서 보일 수 있도록 하는 명령입니다."
   ]
  },
  {
   "cell_type": "code",
   "execution_count": null,
   "id": "5f35b765",
   "metadata": {},
   "outputs": [],
   "source": [
    "!pip install jupyter_nbextensions_configurator jupyter_contrib_nbextensions\n",
    "!jupyter contrib nbextension install --user\n",
    "!jupyter nbextensions_configurator enable --user"
   ]
  },
  {
   "cell_type": "code",
   "execution_count": null,
   "id": "2f952258",
   "metadata": {},
   "outputs": [],
   "source": []
  },
  {
   "cell_type": "code",
   "execution_count": null,
   "id": "395bd01a",
   "metadata": {},
   "outputs": [],
   "source": []
  },
  {
   "cell_type": "code",
   "execution_count": 3,
   "id": "7339e652",
   "metadata": {
    "ExecuteTime": {
     "end_time": "2023-08-21T08:30:37.311251Z",
     "start_time": "2023-08-21T08:30:37.306274Z"
    }
   },
   "outputs": [],
   "source": [
    "# 여러줄에 걸쳐 명령어 입력 가능\n",
    "a = 10\n",
    "b = 5\n",
    "c = -17"
   ]
  },
  {
   "cell_type": "code",
   "execution_count": 1,
   "id": "b285c335",
   "metadata": {
    "ExecuteTime": {
     "end_time": "2023-08-21T08:30:13.783891Z",
     "start_time": "2023-08-21T08:30:13.769890Z"
    }
   },
   "outputs": [
    {
     "name": "stdout",
     "output_type": "stream",
     "text": [
      "test\n"
     ]
    }
   ],
   "source": [
    "print('test')"
   ]
  },
  {
   "cell_type": "code",
   "execution_count": null,
   "id": "272ec386",
   "metadata": {
    "ExecuteTime": {
     "end_time": "2023-08-21T08:23:42.156247Z",
     "start_time": "2023-08-21T08:23:42.141202Z"
    }
   },
   "outputs": [],
   "source": [
    "a"
   ]
  },
  {
   "cell_type": "code",
   "execution_count": null,
   "id": "9b27d449",
   "metadata": {
    "ExecuteTime": {
     "end_time": "2023-08-21T08:24:21.005046Z",
     "start_time": "2023-08-21T08:24:20.996051Z"
    }
   },
   "outputs": [],
   "source": [
    "a\n",
    "b\n",
    "c"
   ]
  },
  {
   "cell_type": "code",
   "execution_count": 4,
   "id": "8bb30fc7",
   "metadata": {
    "ExecuteTime": {
     "end_time": "2023-08-21T08:30:50.600559Z",
     "start_time": "2023-08-21T08:30:50.594561Z"
    }
   },
   "outputs": [
    {
     "name": "stdout",
     "output_type": "stream",
     "text": [
      "10\n",
      "5\n",
      "-17\n"
     ]
    }
   ],
   "source": [
    "print(a)\n",
    "print(b)\n",
    "print(c)"
   ]
  },
  {
   "cell_type": "code",
   "execution_count": null,
   "id": "3ea17c96",
   "metadata": {
    "ExecuteTime": {
     "end_time": "2023-08-21T08:25:25.554147Z",
     "start_time": "2023-08-21T08:25:25.547183Z"
    }
   },
   "outputs": [],
   "source": [
    "# 열거연산자 : ,\n",
    "print(a, b, c)"
   ]
  },
  {
   "cell_type": "code",
   "execution_count": null,
   "id": "5c6b2416",
   "metadata": {},
   "outputs": [],
   "source": []
  }
 ],
 "metadata": {
  "kernelspec": {
   "display_name": "Python 3 (ipykernel)",
   "language": "python",
   "name": "python3"
  },
  "language_info": {
   "codemirror_mode": {
    "name": "ipython",
    "version": 3
   },
   "file_extension": ".py",
   "mimetype": "text/x-python",
   "name": "python",
   "nbconvert_exporter": "python",
   "pygments_lexer": "ipython3",
   "version": "3.9.7"
  },
  "toc": {
   "base_numbering": 1,
   "nav_menu": {},
   "number_sections": true,
   "sideBar": true,
   "skip_h1_title": false,
   "title_cell": "Table of Contents",
   "title_sidebar": "Contents",
   "toc_cell": false,
   "toc_position": {
    "height": "590.4px",
    "left": "662px",
    "top": "186px",
    "width": "284.475px"
   },
   "toc_section_display": true,
   "toc_window_display": true
  },
  "varInspector": {
   "cols": {
    "lenName": 16,
    "lenType": 16,
    "lenVar": 40
   },
   "kernels_config": {
    "python": {
     "delete_cmd_postfix": "",
     "delete_cmd_prefix": "del ",
     "library": "var_list.py",
     "varRefreshCmd": "print(var_dic_list())"
    },
    "r": {
     "delete_cmd_postfix": ") ",
     "delete_cmd_prefix": "rm(",
     "library": "var_list.r",
     "varRefreshCmd": "cat(var_dic_list()) "
    }
   },
   "types_to_exclude": [
    "module",
    "function",
    "builtin_function_or_method",
    "instance",
    "_Feature"
   ],
   "window_display": false
  }
 },
 "nbformat": 4,
 "nbformat_minor": 5
}
