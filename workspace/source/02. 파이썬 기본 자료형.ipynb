{
 "cells": [
  {
   "cell_type": "markdown",
   "id": "eb170b3c",
   "metadata": {},
   "source": [
    "# 기본 자료형"
   ]
  },
  {
   "cell_type": "markdown",
   "id": "723fef14",
   "metadata": {},
   "source": [
    "## 정수형(integer, int)"
   ]
  },
  {
   "cell_type": "code",
   "execution_count": 2,
   "id": "3d1a370a",
   "metadata": {
    "ExecuteTime": {
     "end_time": "2023-08-22T01:07:27.175621Z",
     "start_time": "2023-08-22T01:07:27.166640Z"
    }
   },
   "outputs": [
    {
     "name": "stdout",
     "output_type": "stream",
     "text": [
      "<class 'int'>\n",
      "<class 'float'>\n",
      "<class 'str'>\n"
     ]
    }
   ],
   "source": [
    "# 변수(Variable) : 변하는 수, 기억공간, 동적 자료형 == 동적 타이핑\n",
    "a = 13\n",
    "print(type(a))\n",
    "a = 3.14\n",
    "print(type(a))\n",
    "a = \"python\"\n",
    "print(type(a))"
   ]
  },
  {
   "cell_type": "markdown",
   "id": "657b0bf7",
   "metadata": {},
   "source": [
    "## 실수형(float, double)\n",
    "- 소숫점을 포함한 숫자 자료형\n",
    "- 지수 표현 방식대로 표현할 수 있다."
   ]
  },
  {
   "cell_type": "code",
   "execution_count": 3,
   "id": "105065e8",
   "metadata": {
    "ExecuteTime": {
     "end_time": "2023-08-22T01:09:42.592121Z",
     "start_time": "2023-08-22T01:09:42.587084Z"
    }
   },
   "outputs": [
    {
     "name": "stdout",
     "output_type": "stream",
     "text": [
      "2.5 -1.5\n"
     ]
    }
   ],
   "source": [
    "a = 2.5\n",
    "b = - 1.5\n",
    "print(a, b) # comma(,) : 열거연산자"
   ]
  },
  {
   "cell_type": "code",
   "execution_count": 4,
   "id": "6f72e276",
   "metadata": {
    "ExecuteTime": {
     "end_time": "2023-08-22T01:10:48.628288Z",
     "start_time": "2023-08-22T01:10:48.622247Z"
    }
   },
   "outputs": [
    {
     "name": "stdout",
     "output_type": "stream",
     "text": [
      "12000000000.0 4.5e-10\n"
     ]
    }
   ],
   "source": [
    "a = 1.2E10\n",
    "b = 4.5e-10\n",
    "print(a, b)"
   ]
  },
  {
   "cell_type": "code",
   "execution_count": 5,
   "id": "fb97c955",
   "metadata": {
    "ExecuteTime": {
     "end_time": "2023-08-22T01:11:44.401136Z",
     "start_time": "2023-08-22T01:11:44.390177Z"
    }
   },
   "outputs": [
    {
     "data": {
      "text/plain": [
       "0.1"
      ]
     },
     "execution_count": 5,
     "metadata": {},
     "output_type": "execute_result"
    }
   ],
   "source": [
    "# 실수표현시 정수부의 값이 0일 경우 생략한다.\n",
    "0.1"
   ]
  },
  {
   "cell_type": "code",
   "execution_count": 6,
   "id": "89dae3da",
   "metadata": {
    "ExecuteTime": {
     "end_time": "2023-08-22T01:11:47.514790Z",
     "start_time": "2023-08-22T01:11:47.510789Z"
    }
   },
   "outputs": [
    {
     "data": {
      "text/plain": [
       "0.1"
      ]
     },
     "execution_count": 6,
     "metadata": {},
     "output_type": "execute_result"
    }
   ],
   "source": [
    ".1"
   ]
  },
  {
   "cell_type": "code",
   "execution_count": 7,
   "id": "3d8e2154",
   "metadata": {
    "ExecuteTime": {
     "end_time": "2023-08-22T01:17:09.669321Z",
     "start_time": "2023-08-22T01:17:09.649357Z"
    }
   },
   "outputs": [
    {
     "data": {
      "text/plain": [
       "int"
      ]
     },
     "execution_count": 7,
     "metadata": {},
     "output_type": "execute_result"
    }
   ],
   "source": [
    "# 자료형을 확인하는 함수 type()\n",
    "type(10)"
   ]
  },
  {
   "cell_type": "code",
   "execution_count": 8,
   "id": "6c0b07d6",
   "metadata": {
    "ExecuteTime": {
     "end_time": "2023-08-22T01:17:28.431298Z",
     "start_time": "2023-08-22T01:17:28.422288Z"
    }
   },
   "outputs": [
    {
     "data": {
      "text/plain": [
       "float"
      ]
     },
     "execution_count": 8,
     "metadata": {},
     "output_type": "execute_result"
    }
   ],
   "source": [
    "type(10.0)"
   ]
  },
  {
   "cell_type": "markdown",
   "id": "f9be8b52",
   "metadata": {},
   "source": [
    "### 부동소숫점(floating format point) 오차\n",
    "- 1보다 작은 수의 경우 십진법으로 표현하면 간단하지만 이진법으로는 무한개의 유효숫자"
   ]
  },
  {
   "cell_type": "code",
   "execution_count": 20,
   "id": "96e6348c",
   "metadata": {
    "ExecuteTime": {
     "end_time": "2023-08-22T01:37:30.494376Z",
     "start_time": "2023-08-22T01:37:30.483378Z"
    }
   },
   "outputs": [
    {
     "data": {
      "text/plain": [
       "0.1"
      ]
     },
     "execution_count": 20,
     "metadata": {},
     "output_type": "execute_result"
    }
   ],
   "source": [
    "0.1"
   ]
  },
  {
   "cell_type": "code",
   "execution_count": 22,
   "id": "956e1d30",
   "metadata": {
    "ExecuteTime": {
     "end_time": "2023-08-22T01:40:38.442638Z",
     "start_time": "2023-08-22T01:40:38.425788Z"
    }
   },
   "outputs": [
    {
     "data": {
      "text/plain": [
       "'%.55f'"
      ]
     },
     "execution_count": 22,
     "metadata": {},
     "output_type": "execute_result"
    }
   ],
   "source": [
    "# 매직명령어(magic command)\n",
    "## 소숫점 자릿수를 55자리까지 표현\n",
    "%precision 55"
   ]
  },
  {
   "cell_type": "code",
   "execution_count": 23,
   "id": "ad7f1f3c",
   "metadata": {
    "ExecuteTime": {
     "end_time": "2023-08-22T01:40:59.068312Z",
     "start_time": "2023-08-22T01:40:59.059325Z"
    }
   },
   "outputs": [
    {
     "data": {
      "text/plain": [
       "0.1000000000000000055511151231257827021181583404541015625"
      ]
     },
     "execution_count": 23,
     "metadata": {},
     "output_type": "execute_result"
    }
   ],
   "source": [
    "0.1"
   ]
  },
  {
   "cell_type": "code",
   "execution_count": 21,
   "id": "8880adeb",
   "metadata": {
    "ExecuteTime": {
     "end_time": "2023-08-22T01:39:26.252251Z",
     "start_time": "2023-08-22T01:39:26.243279Z"
    }
   },
   "outputs": [
    {
     "data": {
      "text/plain": [
       "False"
      ]
     },
     "execution_count": 21,
     "metadata": {},
     "output_type": "execute_result"
    }
   ],
   "source": [
    "0.1 + 0.2 == 0.3"
   ]
  },
  {
   "cell_type": "code",
   "execution_count": 24,
   "id": "f30dee74",
   "metadata": {
    "ExecuteTime": {
     "end_time": "2023-08-22T01:41:31.483093Z",
     "start_time": "2023-08-22T01:41:31.476100Z"
    }
   },
   "outputs": [
    {
     "data": {
      "text/plain": [
       "0.3000000000000000444089209850062616169452667236328125000"
      ]
     },
     "execution_count": 24,
     "metadata": {},
     "output_type": "execute_result"
    }
   ],
   "source": [
    "0.1 + 0.2"
   ]
  },
  {
   "cell_type": "code",
   "execution_count": 26,
   "id": "e725be7c",
   "metadata": {
    "ExecuteTime": {
     "end_time": "2023-08-22T01:43:01.022591Z",
     "start_time": "2023-08-22T01:43:01.006624Z"
    }
   },
   "outputs": [
    {
     "data": {
      "text/plain": [
       "0.2999999999999999888977697537484345957636833190917968750"
      ]
     },
     "execution_count": 26,
     "metadata": {},
     "output_type": "execute_result"
    }
   ],
   "source": [
    "0.3"
   ]
  },
  {
   "cell_type": "code",
   "execution_count": 25,
   "id": "58a5798e",
   "metadata": {
    "ExecuteTime": {
     "end_time": "2023-08-22T01:42:40.288812Z",
     "start_time": "2023-08-22T01:42:40.273093Z"
    }
   },
   "outputs": [
    {
     "data": {
      "text/plain": [
       "True"
      ]
     },
     "execution_count": 25,
     "metadata": {},
     "output_type": "execute_result"
    }
   ],
   "source": [
    "round(0.1 + 0.2, 5) == round(0.3, 5)"
   ]
  },
  {
   "cell_type": "code",
   "execution_count": 27,
   "id": "acb51fd7",
   "metadata": {
    "ExecuteTime": {
     "end_time": "2023-08-22T01:44:03.512946Z",
     "start_time": "2023-08-22T01:44:03.508904Z"
    }
   },
   "outputs": [
    {
     "data": {
      "text/plain": [
       "'%r'"
      ]
     },
     "execution_count": 27,
     "metadata": {},
     "output_type": "execute_result"
    }
   ],
   "source": [
    "%precision %r"
   ]
  },
  {
   "cell_type": "code",
   "execution_count": 28,
   "id": "33bc3ec5",
   "metadata": {
    "ExecuteTime": {
     "end_time": "2023-08-22T01:44:37.389873Z",
     "start_time": "2023-08-22T01:44:37.376037Z"
    }
   },
   "outputs": [
    {
     "data": {
      "text/plain": [
       "True"
      ]
     },
     "execution_count": 28,
     "metadata": {},
     "output_type": "execute_result"
    }
   ],
   "source": [
    "round(0.1 + 0.2, 5) == round(0.3, 5)"
   ]
  },
  {
   "cell_type": "markdown",
   "id": "fa95c09e",
   "metadata": {},
   "source": [
    "## 복소수형\n",
    "- $ a + bi $ 으로 표현한다."
   ]
  },
  {
   "cell_type": "code",
   "execution_count": 13,
   "id": "76b4caca",
   "metadata": {
    "ExecuteTime": {
     "end_time": "2023-08-22T01:22:25.887330Z",
     "start_time": "2023-08-22T01:22:25.875332Z"
    }
   },
   "outputs": [],
   "source": [
    "a = 1 + 2j\n",
    "#b = 1 + 2i"
   ]
  },
  {
   "cell_type": "code",
   "execution_count": 14,
   "id": "eff1ed57",
   "metadata": {
    "ExecuteTime": {
     "end_time": "2023-08-22T01:22:29.141763Z",
     "start_time": "2023-08-22T01:22:29.137763Z"
    }
   },
   "outputs": [
    {
     "name": "stdout",
     "output_type": "stream",
     "text": [
      "1.0\n",
      "2.0\n"
     ]
    }
   ],
   "source": [
    "# 실수부와 허수부를 출력하는 함수\n",
    "print(a.real)\n",
    "print(a.imag)\n"
   ]
  },
  {
   "cell_type": "code",
   "execution_count": 15,
   "id": "0da88c81",
   "metadata": {
    "ExecuteTime": {
     "end_time": "2023-08-22T01:22:38.209391Z",
     "start_time": "2023-08-22T01:22:38.200441Z"
    }
   },
   "outputs": [
    {
     "name": "stdout",
     "output_type": "stream",
     "text": [
      "(1+2j)\n"
     ]
    }
   ],
   "source": [
    "a.conjugate()\n",
    "print(a)"
   ]
  },
  {
   "cell_type": "code",
   "execution_count": 17,
   "id": "a09ebcf4",
   "metadata": {
    "ExecuteTime": {
     "end_time": "2023-08-22T01:23:08.092945Z",
     "start_time": "2023-08-22T01:23:08.079974Z"
    }
   },
   "outputs": [
    {
     "name": "stdout",
     "output_type": "stream",
     "text": [
      "Object `conjugate` not found.\n"
     ]
    }
   ],
   "source": [
    "?conjugate"
   ]
  },
  {
   "cell_type": "markdown",
   "id": "5f094388",
   "metadata": {},
   "source": [
    "## 8진수, 16진수\n",
    "- 일반적으로 사람은 10진수(0~9)\n",
    "- 컴퓨터는 2진수(0, 1)\n",
    "- 8진수(0~7) : 숫자앞에 0o(숫자0 + 알파벳o or O)\n",
    "- 16진수(0~9, a, b, c, d, e, f) : 0x"
   ]
  },
  {
   "cell_type": "code",
   "execution_count": 19,
   "id": "5e52e8fe",
   "metadata": {
    "ExecuteTime": {
     "end_time": "2023-08-22T01:27:59.677576Z",
     "start_time": "2023-08-22T01:27:59.658611Z"
    }
   },
   "outputs": [
    {
     "name": "stdout",
     "output_type": "stream",
     "text": [
      "10 52\n"
     ]
    }
   ],
   "source": [
    "x = 0o12\n",
    "y = 0x34\n",
    "print(x, y)"
   ]
  },
  {
   "cell_type": "markdown",
   "id": "d383b69d",
   "metadata": {},
   "source": [
    "## 자료형 변환\n",
    "- casting(강제형변환, 명시적형변환)\n",
    "- promotion(자동형변환, 묵시적형변환)"
   ]
  },
  {
   "cell_type": "code",
   "execution_count": 29,
   "id": "996bfab1",
   "metadata": {
    "ExecuteTime": {
     "end_time": "2023-08-22T01:47:57.153891Z",
     "start_time": "2023-08-22T01:47:57.146930Z"
    }
   },
   "outputs": [
    {
     "data": {
      "text/plain": [
       "1"
      ]
     },
     "execution_count": 29,
     "metadata": {},
     "output_type": "execute_result"
    }
   ],
   "source": [
    "int(1.0) # 실수를 정수로 변환"
   ]
  },
  {
   "cell_type": "code",
   "execution_count": 30,
   "id": "e08cb60a",
   "metadata": {
    "ExecuteTime": {
     "end_time": "2023-08-22T01:48:19.342878Z",
     "start_time": "2023-08-22T01:48:19.329920Z"
    }
   },
   "outputs": [
    {
     "data": {
      "text/plain": [
       "1.0"
      ]
     },
     "execution_count": 30,
     "metadata": {},
     "output_type": "execute_result"
    }
   ],
   "source": [
    "float(1)"
   ]
  },
  {
   "cell_type": "code",
   "execution_count": 31,
   "id": "640ba0d7",
   "metadata": {
    "ExecuteTime": {
     "end_time": "2023-08-22T01:48:50.887670Z",
     "start_time": "2023-08-22T01:48:50.873123Z"
    }
   },
   "outputs": [
    {
     "data": {
      "text/plain": [
       "3"
      ]
     },
     "execution_count": 31,
     "metadata": {},
     "output_type": "execute_result"
    }
   ],
   "source": [
    "int(3.14)"
   ]
  },
  {
   "cell_type": "code",
   "execution_count": 32,
   "id": "22c72f2c",
   "metadata": {
    "ExecuteTime": {
     "end_time": "2023-08-22T01:49:07.703768Z",
     "start_time": "2023-08-22T01:49:07.688275Z"
    }
   },
   "outputs": [
    {
     "data": {
      "text/plain": [
       "3"
      ]
     },
     "execution_count": 32,
     "metadata": {},
     "output_type": "execute_result"
    }
   ],
   "source": [
    "int(3.98)"
   ]
  },
  {
   "cell_type": "code",
   "execution_count": 33,
   "id": "408c84b7",
   "metadata": {
    "ExecuteTime": {
     "end_time": "2023-08-22T01:50:18.564546Z",
     "start_time": "2023-08-22T01:50:18.555575Z"
    }
   },
   "outputs": [],
   "source": [
    "# NaN과 Inf\n",
    "## NaN : Not a Number, 숫자가 아닌 것\n",
    "## Inf : Infinity, 무한대"
   ]
  },
  {
   "cell_type": "code",
   "execution_count": 34,
   "id": "b2dd8c90",
   "metadata": {
    "ExecuteTime": {
     "end_time": "2023-08-22T01:50:45.185244Z",
     "start_time": "2023-08-22T01:50:45.169241Z"
    }
   },
   "outputs": [
    {
     "data": {
      "text/plain": [
       "nan"
      ]
     },
     "execution_count": 34,
     "metadata": {},
     "output_type": "execute_result"
    }
   ],
   "source": [
    "float(\"NaN\")"
   ]
  },
  {
   "cell_type": "code",
   "execution_count": 36,
   "id": "dbfc3b45",
   "metadata": {
    "ExecuteTime": {
     "end_time": "2023-08-22T01:51:10.363170Z",
     "start_time": "2023-08-22T01:51:10.352684Z"
    }
   },
   "outputs": [
    {
     "data": {
      "text/plain": [
       "100.0"
      ]
     },
     "execution_count": 36,
     "metadata": {},
     "output_type": "execute_result"
    }
   ],
   "source": [
    "float(\"100\")"
   ]
  },
  {
   "cell_type": "code",
   "execution_count": 38,
   "id": "c88e906d",
   "metadata": {
    "ExecuteTime": {
     "end_time": "2023-08-22T01:51:43.934722Z",
     "start_time": "2023-08-22T01:51:43.921723Z"
    }
   },
   "outputs": [
    {
     "data": {
      "text/plain": [
       "inf"
      ]
     },
     "execution_count": 38,
     "metadata": {},
     "output_type": "execute_result"
    }
   ],
   "source": [
    "float(\"Inf\")"
   ]
  },
  {
   "cell_type": "code",
   "execution_count": 39,
   "id": "55d1734e",
   "metadata": {
    "ExecuteTime": {
     "end_time": "2023-08-22T01:51:59.220289Z",
     "start_time": "2023-08-22T01:51:59.214310Z"
    }
   },
   "outputs": [
    {
     "data": {
      "text/plain": [
       "-inf"
      ]
     },
     "execution_count": 39,
     "metadata": {},
     "output_type": "execute_result"
    }
   ],
   "source": [
    "float(\"-Inf\")"
   ]
  },
  {
   "cell_type": "markdown",
   "id": "c8559e13",
   "metadata": {},
   "source": [
    "## 산술연산"
   ]
  },
  {
   "cell_type": "code",
   "execution_count": 40,
   "id": "261f8a37",
   "metadata": {
    "ExecuteTime": {
     "end_time": "2023-08-22T01:52:34.086437Z",
     "start_time": "2023-08-22T01:52:34.073529Z"
    }
   },
   "outputs": [
    {
     "data": {
      "text/plain": [
       "2"
      ]
     },
     "execution_count": 40,
     "metadata": {},
     "output_type": "execute_result"
    }
   ],
   "source": [
    "1 + 1"
   ]
  },
  {
   "cell_type": "markdown",
   "id": "f8284c4b",
   "metadata": {},
   "source": [
    "### 연산자(Operator)\n",
    "\n",
    "- '+', '-', '*', '/', '//', '%', '**'"
   ]
  },
  {
   "cell_type": "code",
   "execution_count": 41,
   "id": "eb530f1f",
   "metadata": {
    "ExecuteTime": {
     "end_time": "2023-08-22T01:54:26.228204Z",
     "start_time": "2023-08-22T01:54:26.220231Z"
    }
   },
   "outputs": [
    {
     "data": {
      "text/plain": [
       "55"
      ]
     },
     "execution_count": 41,
     "metadata": {},
     "output_type": "execute_result"
    }
   ],
   "source": [
    "25 + 30"
   ]
  },
  {
   "cell_type": "code",
   "execution_count": 42,
   "id": "c4b45809",
   "metadata": {
    "ExecuteTime": {
     "end_time": "2023-08-22T01:54:33.134976Z",
     "start_time": "2023-08-22T01:54:33.125961Z"
    }
   },
   "outputs": [
    {
     "data": {
      "text/plain": [
       "18"
      ]
     },
     "execution_count": 42,
     "metadata": {},
     "output_type": "execute_result"
    }
   ],
   "source": [
    "30 -12"
   ]
  },
  {
   "cell_type": "code",
   "execution_count": 43,
   "id": "eda4faec",
   "metadata": {
    "ExecuteTime": {
     "end_time": "2023-08-22T01:54:41.195971Z",
     "start_time": "2023-08-22T01:54:41.183002Z"
    }
   },
   "outputs": [
    {
     "data": {
      "text/plain": [
       "150"
      ]
     },
     "execution_count": 43,
     "metadata": {},
     "output_type": "execute_result"
    }
   ],
   "source": [
    "50 * 3"
   ]
  },
  {
   "cell_type": "code",
   "execution_count": 44,
   "id": "ee90717f",
   "metadata": {
    "ExecuteTime": {
     "end_time": "2023-08-22T01:55:04.082710Z",
     "start_time": "2023-08-22T01:55:04.067116Z"
    }
   },
   "outputs": [
    {
     "data": {
      "text/plain": [
       "6.0"
      ]
     },
     "execution_count": 44,
     "metadata": {},
     "output_type": "execute_result"
    }
   ],
   "source": [
    "30 / 5 # 실수몫"
   ]
  },
  {
   "cell_type": "code",
   "execution_count": 45,
   "id": "f8db8821",
   "metadata": {
    "ExecuteTime": {
     "end_time": "2023-08-22T01:55:16.360216Z",
     "start_time": "2023-08-22T01:55:16.345262Z"
    }
   },
   "outputs": [
    {
     "data": {
      "text/plain": [
       "6"
      ]
     },
     "execution_count": 45,
     "metadata": {},
     "output_type": "execute_result"
    }
   ],
   "source": [
    "30 // 5"
   ]
  },
  {
   "cell_type": "code",
   "execution_count": 46,
   "id": "e632d5dd",
   "metadata": {
    "ExecuteTime": {
     "end_time": "2023-08-22T01:55:38.871246Z",
     "start_time": "2023-08-22T01:55:38.857247Z"
    }
   },
   "outputs": [
    {
     "name": "stdout",
     "output_type": "stream",
     "text": [
      "243\n"
     ]
    }
   ],
   "source": [
    "print(3 * 3 * 3 * 3 * 3)"
   ]
  },
  {
   "cell_type": "code",
   "execution_count": 47,
   "id": "be11b9ca",
   "metadata": {
    "ExecuteTime": {
     "end_time": "2023-08-22T01:55:49.176009Z",
     "start_time": "2023-08-22T01:55:49.162038Z"
    }
   },
   "outputs": [
    {
     "data": {
      "text/plain": [
       "243"
      ]
     },
     "execution_count": 47,
     "metadata": {},
     "output_type": "execute_result"
    }
   ],
   "source": [
    "3 ** 5"
   ]
  },
  {
   "cell_type": "code",
   "execution_count": 48,
   "id": "b4f49ba3",
   "metadata": {
    "ExecuteTime": {
     "end_time": "2023-08-22T01:56:05.747066Z",
     "start_time": "2023-08-22T01:56:05.733093Z"
    }
   },
   "outputs": [
    {
     "data": {
      "text/plain": [
       "3"
      ]
     },
     "execution_count": 48,
     "metadata": {},
     "output_type": "execute_result"
    }
   ],
   "source": [
    "7 // 2 # 정수몫"
   ]
  },
  {
   "cell_type": "code",
   "execution_count": 49,
   "id": "e0e6f5c7",
   "metadata": {
    "ExecuteTime": {
     "end_time": "2023-08-22T01:56:32.689509Z",
     "start_time": "2023-08-22T01:56:32.674238Z"
    }
   },
   "outputs": [
    {
     "data": {
      "text/plain": [
       "1"
      ]
     },
     "execution_count": 49,
     "metadata": {},
     "output_type": "execute_result"
    }
   ],
   "source": [
    "7 % 2 # 나머지"
   ]
  },
  {
   "cell_type": "markdown",
   "id": "fe2faa27",
   "metadata": {},
   "source": [
    "## 논리연산과 관계연산(비교)\n",
    "\n",
    "- 관계연산자 : >, >=, <, <=, !=, ==\n",
    "- 논리연산자 : &(AND), |(OR), !(NOT)\n",
    "- 연산자의 결과는 반드시 참(T, True) 또는 거짓(F, False)으로 판정된다."
   ]
  },
  {
   "cell_type": "markdown",
   "id": "689014de",
   "metadata": {},
   "source": [
    "# 변수(Variable)\n",
    "\n",
    "1. 변수명의 작성규칙\n",
    "  - 알파벳, 숫자, 밑줄(_)로 선언할 수 있다.\n",
    "  - 첫글자는 영문자 대,소문자, 밑줄(_)로 시작한다.\n",
    "  - 변수명은 의미 있는 단어로 표현하는 것이 좋다.\n",
    "  - 변수명은 대소문자가 구분된다.\n",
    "  - 길이 제한이 없다.\n",
    "  - 공백을 포함할 수 없다.\n",
    "  - 예약어는 사용할 수 없다.  \n",
    "    \n",
    "<br>\n",
    "2. 동적 타이핑(Dynamic Typing)<br>  \n",
    "  - 변수의 메모리 공간을 확보하는 행위가 실행시점에서 발생하는 것<br>  \n",
    "  - 일반적으로 C나 Java 처럼 변수를 사용하기 전에 선언해야 하는 것은 정적 타이핑(static typing)"
   ]
  },
  {
   "cell_type": "code",
   "execution_count": 50,
   "id": "f36c25d6",
   "metadata": {
    "ExecuteTime": {
     "end_time": "2023-08-22T02:20:44.776237Z",
     "start_time": "2023-08-22T02:20:44.766223Z"
    }
   },
   "outputs": [],
   "source": [
    "# 형식 : 변수 = 상수(리터널, 값), 변수, 함수식\n",
    "pi = 3.14159265  # float pi = 3.14159265"
   ]
  },
  {
   "cell_type": "code",
   "execution_count": 51,
   "id": "f427f389",
   "metadata": {
    "ExecuteTime": {
     "end_time": "2023-08-22T02:20:59.432213Z",
     "start_time": "2023-08-22T02:20:59.421207Z"
    }
   },
   "outputs": [
    {
     "data": {
      "text/plain": [
       "3.14159265"
      ]
     },
     "execution_count": 51,
     "metadata": {},
     "output_type": "execute_result"
    }
   ],
   "source": [
    "pi"
   ]
  },
  {
   "cell_type": "code",
   "execution_count": 52,
   "id": "7ad771e8",
   "metadata": {
    "ExecuteTime": {
     "end_time": "2023-08-22T02:22:24.366901Z",
     "start_time": "2023-08-22T02:22:24.358902Z"
    }
   },
   "outputs": [
    {
     "data": {
      "text/plain": [
       "10"
      ]
     },
     "execution_count": 52,
     "metadata": {},
     "output_type": "execute_result"
    }
   ],
   "source": [
    "a = 10\n",
    "a"
   ]
  },
  {
   "cell_type": "code",
   "execution_count": 54,
   "id": "f16e08af",
   "metadata": {
    "ExecuteTime": {
     "end_time": "2023-08-22T02:28:04.521580Z",
     "start_time": "2023-08-22T02:28:04.507581Z"
    }
   },
   "outputs": [
    {
     "name": "stdout",
     "output_type": "stream",
     "text": [
      "원주율 :  3.14159265\n",
      "반지름 :  10\n",
      "원의둘레 :  62.831853\n",
      "원의면적 :  314.159265\n"
     ]
    }
   ],
   "source": [
    "# 원주율을 이용하여 반지름이 10인 원의 넓이와 둘레를 계산하여 출력하는 프로그램\n",
    "\n",
    "## 선언문 영역, 초기화 영역 : 변수를 선언하고 변수에 처음값을 담는 영역\n",
    "pi = 3.14159265\n",
    "r = 10\n",
    "\n",
    "## 입력문 영역 : 변수에 값을 입력받는 영역\n",
    "\n",
    "## 처리문 영역, 명령어나 제어문을 통해 프로그램을 처리하는 영역\n",
    "\n",
    "## 출력문 영역\n",
    "print(\"원주율 : \", pi)\n",
    "print(\"반지름 : \", r)\n",
    "print(\"원의둘레 : \", 2*pi*r)\n",
    "print(\"원의면적 : \", r*r*pi)"
   ]
  },
  {
   "cell_type": "markdown",
   "id": "777a65ae",
   "metadata": {},
   "source": [
    "## 배정대입연산자 or 복합 대입연산자\n",
    "- 기본연산자와 대입연산자(=)을 함께 사용하는 것\n",
    "- 대입연산자(=) 좌우에 동일한 변수가 주어질 때 축약형으로 구현\n",
    "- 연산자 종류 : +=, -=, *=, /=, %="
   ]
  },
  {
   "cell_type": "code",
   "execution_count": 55,
   "id": "7226600e",
   "metadata": {
    "ExecuteTime": {
     "end_time": "2023-08-22T02:31:31.248804Z",
     "start_time": "2023-08-22T02:31:31.239804Z"
    }
   },
   "outputs": [
    {
     "name": "stdout",
     "output_type": "stream",
     "text": [
      "x =  10\n",
      "x =  20\n"
     ]
    }
   ],
   "source": [
    "x = 10\n",
    "print(\"x = \", x)\n",
    "\n",
    "x += 10 # x = x + 10 의미\n",
    "print(\"x = \", x)"
   ]
  },
  {
   "cell_type": "code",
   "execution_count": 56,
   "id": "817265e2",
   "metadata": {
    "ExecuteTime": {
     "end_time": "2023-08-22T02:33:36.191720Z",
     "start_time": "2023-08-22T02:33:36.183739Z"
    }
   },
   "outputs": [
    {
     "name": "stdout",
     "output_type": "stream",
     "text": [
      "string :  안녕하세요!!\n"
     ]
    }
   ],
   "source": [
    "# 문자열에서 '+' 연산자는 연결연산자, 문자열과 문자열을 연결할 때 사용한다.\n",
    "string = \"안녕하세요\"\n",
    "string += \"!\"\n",
    "string += \"!\"\n",
    "print(\"string : \", string)"
   ]
  },
  {
   "cell_type": "code",
   "execution_count": 57,
   "id": "479201ed",
   "metadata": {
    "ExecuteTime": {
     "end_time": "2023-08-22T02:35:30.171118Z",
     "start_time": "2023-08-22T02:35:30.154149Z"
    }
   },
   "outputs": [
    {
     "name": "stdout",
     "output_type": "stream",
     "text": [
      "안녕하세요\n",
      "안녕하세요안녕하세요안녕하세요\n"
     ]
    }
   ],
   "source": [
    "# 문자열에서 '*'연산자 반복연산자, 해당문자열을 주어진 반복횟수만큼 반복처리한다.\n",
    "string = \"안녕하세요\"\n",
    "print(string)\n",
    "print(string * 3)"
   ]
  },
  {
   "cell_type": "code",
   "execution_count": 58,
   "id": "49883197",
   "metadata": {
    "ExecuteTime": {
     "end_time": "2023-08-22T02:36:24.756492Z",
     "start_time": "2023-08-22T02:36:24.748517Z"
    }
   },
   "outputs": [
    {
     "name": "stdout",
     "output_type": "stream",
     "text": [
      "HiHiHi\n"
     ]
    }
   ],
   "source": [
    "string = \"Hi\"\n",
    "string *= 3  # string = string * 3 의미를 가진다.\n",
    "print(string)"
   ]
  },
  {
   "cell_type": "markdown",
   "id": "7ed9a300",
   "metadata": {},
   "source": [
    "# 문자열 자료형"
   ]
  },
  {
   "cell_type": "markdown",
   "id": "e4efd770",
   "metadata": {},
   "source": [
    "## 문자열 생성\n",
    "\n",
    "- 문자열은 ''(작은따옴표), \"\"(큰따옴표)\n",
    "- 여러줄로 된 문자열은 \"\"\" \"\"\"(큰따옴표3개), ''' '''(작은따옴표 3개)"
   ]
  },
  {
   "cell_type": "code",
   "execution_count": 59,
   "id": "94b19bba",
   "metadata": {
    "ExecuteTime": {
     "end_time": "2023-08-22T03:08:25.447455Z",
     "start_time": "2023-08-22T03:08:25.442476Z"
    }
   },
   "outputs": [
    {
     "name": "stdout",
     "output_type": "stream",
     "text": [
      "hello world\n",
      "<class 'str'>\n"
     ]
    }
   ],
   "source": [
    "a = \"hello world\"\n",
    "print(a)\n",
    "print(type(a))"
   ]
  },
  {
   "cell_type": "code",
   "execution_count": 60,
   "id": "82298126",
   "metadata": {
    "ExecuteTime": {
     "end_time": "2023-08-22T03:08:56.263170Z",
     "start_time": "2023-08-22T03:08:56.252213Z"
    }
   },
   "outputs": [
    {
     "name": "stdout",
     "output_type": "stream",
     "text": [
      "hello\n"
     ]
    }
   ],
   "source": [
    "b = 'hello'\n",
    "print(b)"
   ]
  },
  {
   "cell_type": "code",
   "execution_count": 61,
   "id": "6d805020",
   "metadata": {
    "ExecuteTime": {
     "end_time": "2023-08-22T03:09:41.339536Z",
     "start_time": "2023-08-22T03:09:41.335595Z"
    }
   },
   "outputs": [
    {
     "name": "stdout",
     "output_type": "stream",
     "text": [
      " 오늘은 화요일 겁나게 졸리다.!! \n"
     ]
    }
   ],
   "source": [
    "c = \"\"\" 오늘은 화요일 겁나게 졸리다.!! \"\"\"\n",
    "print(c)"
   ]
  },
  {
   "cell_type": "code",
   "execution_count": 62,
   "id": "c5faa2da",
   "metadata": {
    "ExecuteTime": {
     "end_time": "2023-08-22T03:10:52.591619Z",
     "start_time": "2023-08-22T03:10:52.581640Z"
    }
   },
   "outputs": [
    {
     "name": "stdout",
     "output_type": "stream",
     "text": [
      "Life is short,\n",
      "You need Python.\n",
      "Good Luck^^\n",
      "\n"
     ]
    }
   ],
   "source": [
    "d = '''Life is short,\n",
    "You need Python.\n",
    "Good Luck^^\n",
    "'''\n",
    "print(d)"
   ]
  },
  {
   "cell_type": "code",
   "execution_count": 64,
   "id": "c3572942",
   "metadata": {
    "ExecuteTime": {
     "end_time": "2023-08-22T03:12:20.824886Z",
     "start_time": "2023-08-22T03:12:20.813883Z"
    }
   },
   "outputs": [
    {
     "name": "stdout",
     "output_type": "stream",
     "text": [
      "Life is too short,\n",
      "You need Python.\n",
      "Good Luck^^\n"
     ]
    }
   ],
   "source": [
    "e = \"Life is too short,\\nYou need Python.\\nGood Luck^^\"\n",
    "print(e)"
   ]
  },
  {
   "cell_type": "markdown",
   "id": "a24949bc",
   "metadata": {},
   "source": [
    "## 문자열 연산 : +, *"
   ]
  },
  {
   "cell_type": "code",
   "execution_count": 65,
   "id": "e146a4be",
   "metadata": {
    "ExecuteTime": {
     "end_time": "2023-08-22T03:14:34.220761Z",
     "start_time": "2023-08-22T03:14:34.206733Z"
    }
   },
   "outputs": [
    {
     "name": "stdout",
     "output_type": "stream",
     "text": [
      "pythonpython\n",
      "pythonhello\n",
      "==============================\n"
     ]
    }
   ],
   "source": [
    "a = 'python'\n",
    "b = 'hello'\n",
    "\n",
    "print(a * 2)\n",
    "print(a + b)\n",
    "\n",
    "print(\"=\" * 30)"
   ]
  },
  {
   "cell_type": "markdown",
   "id": "28181f67",
   "metadata": {},
   "source": [
    "## 문자열 인덱싱(Indexing)\n",
    "- **인덱싱(Indexing)** 은 특정위치를 가르킨다는 의미를 가진다.\n",
    "- 문자열은 일반적으로 메모리에 저장될 때 list 즉, 1차원 배열의 형태로 저장된다.\n",
    "- 각 문자는 해당 위치(인덱스 또는 색인)를 통해서 읽어올 수 있다. \n",
    "- 인덱스의 시작은 0부터 시작된다."
   ]
  },
  {
   "cell_type": "code",
   "execution_count": 66,
   "id": "418fca1b",
   "metadata": {
    "ExecuteTime": {
     "end_time": "2023-08-22T03:17:19.504355Z",
     "start_time": "2023-08-22T03:17:19.496354Z"
    }
   },
   "outputs": [
    {
     "name": "stdout",
     "output_type": "stream",
     "text": [
      "Life is too short, You Need Python.\n"
     ]
    }
   ],
   "source": [
    "string = \"Life is too short, You Need Python.\"\n",
    "print(string)"
   ]
  },
  {
   "cell_type": "code",
   "execution_count": 67,
   "id": "3fc48b28",
   "metadata": {
    "ExecuteTime": {
     "end_time": "2023-08-22T03:18:24.806160Z",
     "start_time": "2023-08-22T03:18:24.787194Z"
    }
   },
   "outputs": [
    {
     "data": {
      "text/plain": [
       "'L'"
      ]
     },
     "execution_count": 67,
     "metadata": {},
     "output_type": "execute_result"
    }
   ],
   "source": [
    "string[0]"
   ]
  },
  {
   "cell_type": "code",
   "execution_count": 69,
   "id": "ede7610c",
   "metadata": {
    "ExecuteTime": {
     "end_time": "2023-08-22T03:20:32.772897Z",
     "start_time": "2023-08-22T03:20:32.755927Z"
    }
   },
   "outputs": [
    {
     "data": {
      "text/plain": [
       "'Life'"
      ]
     },
     "execution_count": 69,
     "metadata": {},
     "output_type": "execute_result"
    }
   ],
   "source": [
    "# [인덱스]\n",
    "# [start:stop], start:stop-1까지 \n",
    "string[0:4]"
   ]
  },
  {
   "cell_type": "code",
   "execution_count": 70,
   "id": "42b6670e",
   "metadata": {
    "ExecuteTime": {
     "end_time": "2023-08-22T03:21:20.231796Z",
     "start_time": "2023-08-22T03:21:20.221796Z"
    }
   },
   "outputs": [
    {
     "data": {
      "text/plain": [
       "'.'"
      ]
     },
     "execution_count": 70,
     "metadata": {},
     "output_type": "execute_result"
    }
   ],
   "source": [
    "string[-1]"
   ]
  },
  {
   "cell_type": "code",
   "execution_count": 71,
   "id": "4eee6d9c",
   "metadata": {
    "ExecuteTime": {
     "end_time": "2023-08-22T03:22:06.775296Z",
     "start_time": "2023-08-22T03:22:06.768257Z"
    }
   },
   "outputs": [
    {
     "data": {
      "text/plain": [
       "'Life'"
      ]
     },
     "execution_count": 71,
     "metadata": {},
     "output_type": "execute_result"
    }
   ],
   "source": [
    "string[:4] # 앞인덱스가 생략되면 처음부터"
   ]
  },
  {
   "cell_type": "code",
   "execution_count": 73,
   "id": "d73a1f6d",
   "metadata": {
    "ExecuteTime": {
     "end_time": "2023-08-22T03:23:34.827702Z",
     "start_time": "2023-08-22T03:23:34.822733Z"
    }
   },
   "outputs": [
    {
     "data": {
      "text/plain": [
       "'Python.'"
      ]
     },
     "execution_count": 73,
     "metadata": {},
     "output_type": "execute_result"
    }
   ],
   "source": [
    "string[-7:]"
   ]
  },
  {
   "cell_type": "markdown",
   "id": "18a338e2",
   "metadata": {},
   "source": [
    "## 문자열 포매팅(Formating)\n",
    "- 문자열 내의 특정 위치값을 바꾸거나 서식을 이용하여 표시할 때 사용한다.\n",
    "- 서식(format) 기호\n",
    "  1. %s : 문자열(string)\n",
    "  2. %c : 문자1개(character)\n",
    "  3. %d : 10진정수(decimal)\n",
    "  4. %f : 실수(float)\n",
    "  5. %o : 8진수\n",
    "  6. %x : 16진수\n",
    "  7. %% : %"
   ]
  },
  {
   "cell_type": "markdown",
   "id": "a74bf307",
   "metadata": {},
   "source": [
    "## 문자열 관련 함수"
   ]
  },
  {
   "cell_type": "code",
   "execution_count": 74,
   "id": "522d98ef",
   "metadata": {
    "ExecuteTime": {
     "end_time": "2023-08-22T03:28:27.184373Z",
     "start_time": "2023-08-22T03:28:27.168395Z"
    }
   },
   "outputs": [
    {
     "data": {
      "text/plain": [
       "'aaa bbb ccc'"
      ]
     },
     "execution_count": 74,
     "metadata": {},
     "output_type": "execute_result"
    }
   ],
   "source": [
    "string = \"aaa bbb ccc\"\n",
    "string"
   ]
  },
  {
   "cell_type": "code",
   "execution_count": 75,
   "id": "a5223ec6",
   "metadata": {
    "ExecuteTime": {
     "end_time": "2023-08-22T03:28:51.144871Z",
     "start_time": "2023-08-22T03:28:51.131896Z"
    }
   },
   "outputs": [
    {
     "data": {
      "text/plain": [
       "['aaa', 'bbb', 'ccc']"
      ]
     },
     "execution_count": 75,
     "metadata": {},
     "output_type": "execute_result"
    }
   ],
   "source": [
    "string.split()"
   ]
  },
  {
   "cell_type": "code",
   "execution_count": 76,
   "id": "0551b807",
   "metadata": {
    "ExecuteTime": {
     "end_time": "2023-08-22T03:29:48.745554Z",
     "start_time": "2023-08-22T03:29:48.734559Z"
    }
   },
   "outputs": [
    {
     "data": {
      "text/plain": [
       "['123456', 'abcdefg']"
      ]
     },
     "execution_count": 76,
     "metadata": {},
     "output_type": "execute_result"
    }
   ],
   "source": [
    "jumin = \"123456-abcdefg\"\n",
    "jumin.split('-')"
   ]
  },
  {
   "cell_type": "code",
   "execution_count": 77,
   "id": "5e3ed519",
   "metadata": {
    "ExecuteTime": {
     "end_time": "2023-08-22T03:30:25.538526Z",
     "start_time": "2023-08-22T03:30:25.533555Z"
    }
   },
   "outputs": [
    {
     "data": {
      "text/plain": [
       "'abcdefg'"
      ]
     },
     "execution_count": 77,
     "metadata": {},
     "output_type": "execute_result"
    }
   ],
   "source": [
    "s = \"abcdefg\"\n",
    "s"
   ]
  },
  {
   "cell_type": "code",
   "execution_count": 81,
   "id": "1674500a",
   "metadata": {
    "ExecuteTime": {
     "end_time": "2023-08-22T03:31:50.679454Z",
     "start_time": "2023-08-22T03:31:50.674491Z"
    }
   },
   "outputs": [
    {
     "data": {
      "text/plain": [
       "'-'"
      ]
     },
     "execution_count": 81,
     "metadata": {},
     "output_type": "execute_result"
    }
   ],
   "source": [
    "s.join('-')"
   ]
  },
  {
   "cell_type": "code",
   "execution_count": null,
   "id": "9f159e75",
   "metadata": {},
   "outputs": [],
   "source": []
  }
 ],
 "metadata": {
  "kernelspec": {
   "display_name": "Python 3 (ipykernel)",
   "language": "python",
   "name": "python3"
  },
  "language_info": {
   "codemirror_mode": {
    "name": "ipython",
    "version": 3
   },
   "file_extension": ".py",
   "mimetype": "text/x-python",
   "name": "python",
   "nbconvert_exporter": "python",
   "pygments_lexer": "ipython3",
   "version": "3.9.7"
  },
  "toc": {
   "base_numbering": 1,
   "nav_menu": {},
   "number_sections": true,
   "sideBar": true,
   "skip_h1_title": false,
   "title_cell": "Table of Contents",
   "title_sidebar": "Contents",
   "toc_cell": false,
   "toc_position": {
    "height": "calc(100% - 180px)",
    "left": "10px",
    "top": "150px",
    "width": "219.427px"
   },
   "toc_section_display": true,
   "toc_window_display": true
  },
  "varInspector": {
   "cols": {
    "lenName": 16,
    "lenType": 16,
    "lenVar": 40
   },
   "kernels_config": {
    "python": {
     "delete_cmd_postfix": "",
     "delete_cmd_prefix": "del ",
     "library": "var_list.py",
     "varRefreshCmd": "print(var_dic_list())"
    },
    "r": {
     "delete_cmd_postfix": ") ",
     "delete_cmd_prefix": "rm(",
     "library": "var_list.r",
     "varRefreshCmd": "cat(var_dic_list()) "
    }
   },
   "types_to_exclude": [
    "module",
    "function",
    "builtin_function_or_method",
    "instance",
    "_Feature"
   ],
   "window_display": false
  }
 },
 "nbformat": 4,
 "nbformat_minor": 5
}
