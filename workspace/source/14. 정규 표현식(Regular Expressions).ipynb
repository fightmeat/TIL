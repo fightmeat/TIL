{
 "cells": [
  {
   "cell_type": "markdown",
   "id": "9d541902",
   "metadata": {},
   "source": [
    "# Regular Expressions(정규 표현식)\n",
    "- 복잡한 문자열을 처리할 때 사용하는 기법\n",
    "- 모든 언어에서 문자열을 처리할 때 공통으로 사용\n",
    "- 예 : 주민등록번호의 뒷자리를 '*' 문자로 변경"
   ]
  },
  {
   "cell_type": "markdown",
   "id": "778eed4d",
   "metadata": {},
   "source": [
    "## 정규 표현식을 사용하지 않는 예"
   ]
  },
  {
   "cell_type": "code",
   "execution_count": 1,
   "id": "3d4984b0",
   "metadata": {
    "ExecuteTime": {
     "end_time": "2023-08-29T01:23:59.969132Z",
     "start_time": "2023-08-29T01:23:59.963161Z"
    }
   },
   "outputs": [
    {
     "name": "stdout",
     "output_type": "stream",
     "text": [
      "\n",
      "park 800905-*******\n",
      "kim  700905-*******\n",
      "lee  880203-*******\n",
      "hong 901105-*******\n",
      "jang 020319-*******\n",
      "\n"
     ]
    }
   ],
   "source": [
    "data = \"\"\"\n",
    "park 800905-1049118\n",
    "kim  700905-1059119\n",
    "lee  880203-2110537\n",
    "hong 901105-1234567\n",
    "jang 020319-2205147\n",
    "\"\"\"\n",
    "\n",
    "result = []\n",
    "# 전체 텍스트를 공백 문자로 나눈다. split\n",
    "for line in data.split('\\n'):\n",
    "    word_result = []\n",
    "    for word in line.split(' '):\n",
    "# 나누어진 단어가 주민등록번호형식인지를 조사\n",
    "        if len(word) == 14 and word[:6].isdigit() and word[7:].isdigit():\n",
    "\n",
    "# 주민등록번호 형식이라면 뒷자리르 '*'로 변환\n",
    "            word = word[:6] + \"-\" + \"*******\"\n",
    "\n",
    "# 나누어진 단어를 다시 합치는 작업\n",
    "        word_result.append(word)\n",
    "    result.append(\" \".join(word_result))\n",
    "\n",
    "print(\"\\n\".join(result))"
   ]
  },
  {
   "cell_type": "markdown",
   "id": "d00f4392",
   "metadata": {},
   "source": [
    "## 정규 표현식을 이용한 예"
   ]
  },
  {
   "cell_type": "code",
   "execution_count": 2,
   "id": "a6333b38",
   "metadata": {
    "ExecuteTime": {
     "end_time": "2023-08-29T01:28:00.863190Z",
     "start_time": "2023-08-29T01:28:00.849223Z"
    }
   },
   "outputs": [
    {
     "name": "stdout",
     "output_type": "stream",
     "text": [
      "\n",
      "park 800905-*******\n",
      "kim  700905-*******\n",
      "lee  880203-*******\n",
      "hong 901105-*******\n",
      "jang 020319-*******\n",
      "\n"
     ]
    }
   ],
   "source": [
    "# 정규 표현식을 위한 re 모듈 포함\n",
    "import re\n",
    "\n",
    "data = \"\"\"\n",
    "park 800905-1049118\n",
    "kim  700905-1059119\n",
    "lee  880203-2110537\n",
    "hong 901105-1234567\n",
    "jang 020319-2205147\n",
    "\"\"\"\n",
    "\n",
    "pat = re.compile(\"(\\d{6})[-]\\d{7}\")\n",
    "print(pat.sub(\"\\g<1>-*******\", data))"
   ]
  },
  {
   "cell_type": "markdown",
   "id": "1f396f2c",
   "metadata": {},
   "source": [
    "# 메타 문자(Meta Character)\n",
    "- 원래 그 문자의 의미가 아니라 특별한 의미를 가진 문자\n",
    "- 종류 : ., ^, $, *, +, ?, {}, [], \\, |, ()"
   ]
  },
  {
   "cell_type": "code",
   "execution_count": 3,
   "id": "11d74b7a",
   "metadata": {
    "ExecuteTime": {
     "end_time": "2023-08-29T01:35:15.192345Z",
     "start_time": "2023-08-29T01:35:15.187341Z"
    }
   },
   "outputs": [],
   "source": [
    "# 메타문자 : []\n",
    "## [abc] : a, b, c중 한개라도 문자와 매칭\n",
    "## [a-c] : [abc]와 동일\n",
    "## [0-5] : [012345]\n",
    "## [a-zA-Z] : 모든 알파벳\n",
    "## [0-9] : 모든 숫자\n",
    "## ^(not) : [^0-9] 숫자가 아닌 문자\n",
    "## .(dot) : a.b == \"a + 모든문자 + b\""
   ]
  },
  {
   "cell_type": "code",
   "execution_count": 5,
   "id": "8b0046c6",
   "metadata": {
    "ExecuteTime": {
     "end_time": "2023-08-29T01:40:25.967308Z",
     "start_time": "2023-08-29T01:40:25.956475Z"
    }
   },
   "outputs": [
    {
     "name": "stdout",
     "output_type": "stream",
     "text": [
      "[]\n",
      "['kim']\n",
      "['m', 'm']\n"
     ]
    }
   ],
   "source": [
    "string = \"My id number is kim0902\"\n",
    "\n",
    "# 특정 패턴에 해당하는 문자를 찾는 작업\n",
    "## findall(\"패턴\", 문자열)\n",
    "a = re.findall(\"a\", string)\n",
    "print(a)\n",
    "\n",
    "b = re.findall(\"kim\", string)\n",
    "print(b)\n",
    "\n",
    "c = re.findall(\"m\", string)\n",
    "print(c)"
   ]
  },
  {
   "cell_type": "code",
   "execution_count": 9,
   "id": "61427379",
   "metadata": {
    "ExecuteTime": {
     "end_time": "2023-08-29T01:45:37.392132Z",
     "start_time": "2023-08-29T01:45:37.383131Z"
    }
   },
   "outputs": [
    {
     "name": "stdout",
     "output_type": "stream",
     "text": [
      "['y', 'i', 'd', 'u', 'm', 'b', 'e', 'r', 'i', 's']\n",
      "['y', 'id', 'umber', 'is']\n",
      "['M', 'N', 'K', 'I', 'M']\n",
      "['M', 'N', 'KIM']\n"
     ]
    }
   ],
   "source": [
    "string = \"My id Number is KIM0902\"\n",
    "\n",
    "# 모든 소문자를 찾아서 리스트로 반환\n",
    "a = re.findall(\"[a-z]\", string)\n",
    "print(a)\n",
    "\n",
    "# 단어 단위로 찾는 작업\n",
    "b = re.findall(\"[a-z]+\", string)\n",
    "print(b)\n",
    "\n",
    "# 대문자를 글자단위로 찾는 작업\n",
    "c = re.findall(\"[A-Z]\", string)\n",
    "print(c)\n",
    "\n",
    "# 대문자를 단어단위로 찾는 작업\n",
    "d = re.findall(\"[A-Z]+\", string)\n",
    "print(d)"
   ]
  },
  {
   "cell_type": "code",
   "execution_count": 12,
   "id": "3d32f60a",
   "metadata": {
    "ExecuteTime": {
     "end_time": "2023-08-29T01:53:31.863813Z",
     "start_time": "2023-08-29T01:53:31.849845Z"
    }
   },
   "outputs": [
    {
     "name": "stdout",
     "output_type": "stream",
     "text": [
      "['M', 'y', 'i', 'd', 'n', 'u', 'm', 'b', 'e', 'r', 'i', 's', 'k', 'i', 'm', 'w', '0', '5', '0', '2']\n",
      "['My', 'id', 'number', 'is', 'kimw', '0502']\n",
      "[' ', ' ', ' ', ' ', '_', '$', '%']\n",
      "['M', 'y', 'i', 'd', 'n', 'u', 'm', 'b', 'e', 'r', 'i', 's', 'k', 'i', 'm', 'w', '_', '0', '5', '0', '2']\n",
      "['My', 'id', 'number', 'is', 'kimw_0502']\n",
      "[' ', ' ', ' ', ' ', '$', '%']\n"
     ]
    }
   ],
   "source": [
    "string = \"My id number is kimw_0502$%\"\n",
    "\n",
    "# 영문자와 숫자로만 이루어진 글자 찾는 작업\n",
    "a = re.findall(\"[a-zA-Z0-9]\", string)\n",
    "print(a)\n",
    "\n",
    "# 영문자와 숫자로만 이루어진 단어를 찾는 작업\n",
    "b = re.findall(\"[a-zA-Z0-9]+\", string)\n",
    "print(b)\n",
    "\n",
    "# 영문자와 숫자가 아닌 글자 찾는 작업\n",
    "c = re.findall(\"[^a-zA-Z0-9]\", string)\n",
    "print(c)\n",
    "\n",
    "# \\w(소문자w) : 영문자와 숫자\n",
    "d = re.findall(\"[\\w]\", string)\n",
    "print(d)\n",
    "\n",
    "e = re.findall(\"[\\w]+\", string)\n",
    "print(e)\n",
    "\n",
    "# \\W(대문자W) : 영문자와 숫자 그리고 _가 아닌 경우\n",
    "f = re.findall(\"[\\W]\", string)\n",
    "print(f)"
   ]
  },
  {
   "cell_type": "code",
   "execution_count": 13,
   "id": "ffc026da",
   "metadata": {
    "ExecuteTime": {
     "end_time": "2023-08-29T02:06:46.348140Z",
     "start_time": "2023-08-29T02:06:46.335181Z"
    }
   },
   "outputs": [],
   "source": [
    "# 비밀번호 체크하는 함수 구현\n",
    "## 문자의 길이는 6 ~ 12 이내\n",
    "## 영문자와 숫자를 포함\n",
    "\n",
    "def check_pass(pwd):\n",
    "    \n",
    "    # 글자수 체크\n",
    "    if len(pwd) < 6 or len(pwd) > 12:\n",
    "        print(f\"입력받은 {pwd}는 길이가 적당하지 않습니다.\")\n",
    "        return False\n",
    "    \n",
    "    # 영문자와 숫자로만 구성\n",
    "    if re.findall(\"[a-zA-Z0-9]+\", pwd)[0] != pwd:\n",
    "        print(f\"{pwd}는 영문자와 숫자로만 이루어지지 않았습니다.\")\n",
    "        return False\n",
    "    \n",
    "    # 영문자의 소문자, 대문자는 적어도 한글자는 포함되어야 한다.\n",
    "    if len(re.findall(\"[a-z]\", pwd)) == 0 or len(re.findall(\"[A-Z]\", pwd)) == 0:\n",
    "        print(f\"{pwd}는 적어도 하나의 대, 소문자를 포함하지 않았습니다.\")\n",
    "        return False\n",
    "    \n",
    "    # 올바른 비밀번호 형식일 경우\n",
    "    print(f\"{pwd}는 올바른 형식의 비밀번호 입니다.\")\n",
    "    return"
   ]
  },
  {
   "cell_type": "code",
   "execution_count": 14,
   "id": "9a065b6a",
   "metadata": {
    "ExecuteTime": {
     "end_time": "2023-08-29T02:07:17.500737Z",
     "start_time": "2023-08-29T02:07:17.482615Z"
    }
   },
   "outputs": [
    {
     "name": "stdout",
     "output_type": "stream",
     "text": [
      "입력받은 12abc는 길이가 적당하지 않습니다.\n"
     ]
    },
    {
     "data": {
      "text/plain": [
       "False"
      ]
     },
     "execution_count": 14,
     "metadata": {},
     "output_type": "execute_result"
    }
   ],
   "source": [
    "check_pass(\"12abc\")"
   ]
  },
  {
   "cell_type": "code",
   "execution_count": 15,
   "id": "3eb67abd",
   "metadata": {
    "ExecuteTime": {
     "end_time": "2023-08-29T02:07:46.091473Z",
     "start_time": "2023-08-29T02:07:46.084501Z"
    }
   },
   "outputs": [
    {
     "name": "stdout",
     "output_type": "stream",
     "text": [
      "123abc는 적어도 하나의 대, 소문자를 포함하지 않았습니다.\n"
     ]
    },
    {
     "data": {
      "text/plain": [
       "False"
      ]
     },
     "execution_count": 15,
     "metadata": {},
     "output_type": "execute_result"
    }
   ],
   "source": [
    "check_pass(\"123abc\")"
   ]
  },
  {
   "cell_type": "code",
   "execution_count": 16,
   "id": "8cd1f110",
   "metadata": {
    "ExecuteTime": {
     "end_time": "2023-08-29T02:08:11.508796Z",
     "start_time": "2023-08-29T02:08:11.502820Z"
    }
   },
   "outputs": [
    {
     "name": "stdout",
     "output_type": "stream",
     "text": [
      "123ab%는 영문자와 숫자로만 이루어지지 않았습니다.\n"
     ]
    },
    {
     "data": {
      "text/plain": [
       "False"
      ]
     },
     "execution_count": 16,
     "metadata": {},
     "output_type": "execute_result"
    }
   ],
   "source": [
    "check_pass(\"123ab%\")"
   ]
  },
  {
   "cell_type": "code",
   "execution_count": 17,
   "id": "e003c5f9",
   "metadata": {
    "ExecuteTime": {
     "end_time": "2023-08-29T02:08:38.457377Z",
     "start_time": "2023-08-29T02:08:38.445379Z"
    }
   },
   "outputs": [
    {
     "name": "stdout",
     "output_type": "stream",
     "text": [
      "123abC는 올바른 형식의 비밀번호 입니다.\n"
     ]
    }
   ],
   "source": [
    "check_pass(\"123abC\")"
   ]
  },
  {
   "cell_type": "code",
   "execution_count": 27,
   "id": "7f1eb7df",
   "metadata": {
    "ExecuteTime": {
     "end_time": "2023-08-29T02:33:33.581617Z",
     "start_time": "2023-08-29T02:33:33.577576Z"
    }
   },
   "outputs": [],
   "source": [
    "# 이메일 체크 함수\n",
    "## 첫글자는 영문자의 소문자와 숫자로 이루어지되 2글자 이상이어야 함\n",
    "## 문자열 사이에 @를 포함하여야 함\n",
    "## 마지막은 반드시 .와 함께 영문자 그리고 2글자 이상으로 끝나야 함\n",
    "\n",
    "def email_check(email):\n",
    "    # ^[ ] : 시작, ^[a-z] - 시작은 반드시 영문자 소문자여야 한다는 의미\n",
    "    # [^ ] : 제외, [^a-z] - 영문자의 소문자를 포함하지 않아야 한다는 의미\n",
    "    # {n} : n개 반복 , {2, } , {2}\n",
    "    # {n, m} : 최소 n개, 최대 m개 반복, \\d{3, 5}\n",
    "    # []$ : 해당 패턴으로 종료되어야 함\n",
    "    # \\문자 : 해당 문자는 반드시 포함, \\w\\w\\w\n",
    "    exp = re.findall(\"^[a-z0-9]{2,}@[a-z0-9]{2,}\\.[a-z]{2,}$\", email)\n",
    "    \n",
    "    if len(exp) == 0:\n",
    "        print(email, \"은 형식이 올바르지 않습니다.\")\n",
    "        return\n",
    "    else:\n",
    "        print(email, \"은 올바른 형식입니다.\")\n",
    "        return"
   ]
  },
  {
   "cell_type": "code",
   "execution_count": 28,
   "id": "493c7f83",
   "metadata": {
    "ExecuteTime": {
     "end_time": "2023-08-29T02:33:36.456232Z",
     "start_time": "2023-08-29T02:33:36.439257Z"
    }
   },
   "outputs": [
    {
     "name": "stdout",
     "output_type": "stream",
     "text": [
      "lee@1234 은 형식이 올바르지 않습니다.\n"
     ]
    }
   ],
   "source": [
    "email_check(\"lee@1234\")"
   ]
  },
  {
   "cell_type": "code",
   "execution_count": 29,
   "id": "6aadf2fa",
   "metadata": {
    "ExecuteTime": {
     "end_time": "2023-08-29T02:33:38.560944Z",
     "start_time": "2023-08-29T02:33:38.551972Z"
    }
   },
   "outputs": [
    {
     "name": "stdout",
     "output_type": "stream",
     "text": [
      "lee_123.kkk 은 형식이 올바르지 않습니다.\n"
     ]
    }
   ],
   "source": [
    "email_check(\"lee_123.kkk\")"
   ]
  },
  {
   "cell_type": "code",
   "execution_count": 30,
   "id": "351ee7b7",
   "metadata": {
    "ExecuteTime": {
     "end_time": "2023-08-29T02:33:40.950194Z",
     "start_time": "2023-08-29T02:33:40.932001Z"
    }
   },
   "outputs": [
    {
     "name": "stdout",
     "output_type": "stream",
     "text": [
      "lee_123 은 형식이 올바르지 않습니다.\n"
     ]
    }
   ],
   "source": [
    "email_check(\"lee_123\")"
   ]
  },
  {
   "cell_type": "code",
   "execution_count": 31,
   "id": "88abf76f",
   "metadata": {
    "ExecuteTime": {
     "end_time": "2023-08-29T02:33:43.418841Z",
     "start_time": "2023-08-29T02:33:43.415850Z"
    }
   },
   "outputs": [
    {
     "name": "stdout",
     "output_type": "stream",
     "text": [
      "lee_123@naver.com 은 형식이 올바르지 않습니다.\n"
     ]
    }
   ],
   "source": [
    "email_check(\"lee_123@naver.com\")"
   ]
  },
  {
   "cell_type": "code",
   "execution_count": 32,
   "id": "ee8f8979",
   "metadata": {
    "ExecuteTime": {
     "end_time": "2023-08-29T02:33:45.537547Z",
     "start_time": "2023-08-29T02:33:45.522611Z"
    }
   },
   "outputs": [
    {
     "name": "stdout",
     "output_type": "stream",
     "text": [
      "lee123@naver.com 은 올바른 형식입니다.\n"
     ]
    }
   ],
   "source": [
    "email_check(\"lee123@naver.com\")"
   ]
  },
  {
   "cell_type": "code",
   "execution_count": 33,
   "id": "002704bf",
   "metadata": {
    "ExecuteTime": {
     "end_time": "2023-08-29T02:33:48.065292Z",
     "start_time": "2023-08-29T02:33:48.058325Z"
    }
   },
   "outputs": [
    {
     "name": "stdout",
     "output_type": "stream",
     "text": [
      "lee@naver.com 은 올바른 형식입니다.\n"
     ]
    }
   ],
   "source": [
    "email_check(\"lee@naver.com\")"
   ]
  },
  {
   "cell_type": "code",
   "execution_count": 25,
   "id": "b95c476e",
   "metadata": {
    "ExecuteTime": {
     "end_time": "2023-08-29T02:33:03.299998Z",
     "start_time": "2023-08-29T02:33:03.286029Z"
    }
   },
   "outputs": [
    {
     "name": "stdout",
     "output_type": "stream",
     "text": [
      "['lee@naver.com']\n"
     ]
    }
   ],
   "source": [
    "exp = re.findall(\"^[a-z0-9]{2,}@[a-z0-9]{2,}\\.[a-z]{2,}$\", \"lee@naver.com\")\n",
    "print(exp)"
   ]
  },
  {
   "cell_type": "code",
   "execution_count": 26,
   "id": "1f7a7206",
   "metadata": {
    "ExecuteTime": {
     "end_time": "2023-08-29T02:33:19.776795Z",
     "start_time": "2023-08-29T02:33:19.762802Z"
    }
   },
   "outputs": [
    {
     "name": "stdout",
     "output_type": "stream",
     "text": [
      "1\n"
     ]
    }
   ],
   "source": [
    "print(len(exp))"
   ]
  },
  {
   "cell_type": "code",
   "execution_count": null,
   "id": "dc9de135",
   "metadata": {},
   "outputs": [],
   "source": []
  }
 ],
 "metadata": {
  "kernelspec": {
   "display_name": "Python 3 (ipykernel)",
   "language": "python",
   "name": "python3"
  },
  "language_info": {
   "codemirror_mode": {
    "name": "ipython",
    "version": 3
   },
   "file_extension": ".py",
   "mimetype": "text/x-python",
   "name": "python",
   "nbconvert_exporter": "python",
   "pygments_lexer": "ipython3",
   "version": "3.9.7"
  },
  "toc": {
   "base_numbering": 1,
   "nav_menu": {},
   "number_sections": true,
   "sideBar": true,
   "skip_h1_title": false,
   "title_cell": "Table of Contents",
   "title_sidebar": "Contents",
   "toc_cell": false,
   "toc_position": {
    "height": "calc(100% - 180px)",
    "left": "10px",
    "top": "150px",
    "width": "256px"
   },
   "toc_section_display": true,
   "toc_window_display": true
  },
  "varInspector": {
   "cols": {
    "lenName": 16,
    "lenType": 16,
    "lenVar": 40
   },
   "kernels_config": {
    "python": {
     "delete_cmd_postfix": "",
     "delete_cmd_prefix": "del ",
     "library": "var_list.py",
     "varRefreshCmd": "print(var_dic_list())"
    },
    "r": {
     "delete_cmd_postfix": ") ",
     "delete_cmd_prefix": "rm(",
     "library": "var_list.r",
     "varRefreshCmd": "cat(var_dic_list()) "
    }
   },
   "types_to_exclude": [
    "module",
    "function",
    "builtin_function_or_method",
    "instance",
    "_Feature"
   ],
   "window_display": false
  }
 },
 "nbformat": 4,
 "nbformat_minor": 5
}
