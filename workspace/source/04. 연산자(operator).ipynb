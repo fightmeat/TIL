{
 "cells": [
  {
   "cell_type": "code",
   "execution_count": 1,
   "id": "77bb715b",
   "metadata": {
    "ExecuteTime": {
     "end_time": "2023-08-22T06:22:45.938202Z",
     "start_time": "2023-08-22T06:22:45.931225Z"
    }
   },
   "outputs": [
    {
     "name": "stdout",
     "output_type": "stream",
     "text": [
      "<class 'bool'>\n"
     ]
    }
   ],
   "source": [
    "# 논리형 : True or False\n",
    "hungry = True\n",
    "sleep = False\n",
    "\n",
    "# 논리연산자 : &, |, !\n",
    "# 자료형확인 : type() - bool\n",
    "print(type(hungry))"
   ]
  },
  {
   "cell_type": "code",
   "execution_count": 2,
   "id": "610736d2",
   "metadata": {
    "ExecuteTime": {
     "end_time": "2023-08-22T06:23:27.928066Z",
     "start_time": "2023-08-22T06:23:27.916035Z"
    }
   },
   "outputs": [
    {
     "name": "stdout",
     "output_type": "stream",
     "text": [
      "False\n"
     ]
    }
   ],
   "source": [
    "print(hungry and sleep)"
   ]
  },
  {
   "cell_type": "code",
   "execution_count": 3,
   "id": "7f848dd2",
   "metadata": {
    "ExecuteTime": {
     "end_time": "2023-08-22T06:23:46.233979Z",
     "start_time": "2023-08-22T06:23:46.228012Z"
    }
   },
   "outputs": [
    {
     "ename": "SyntaxError",
     "evalue": "invalid syntax (Temp/ipykernel_7776/1034601774.py, line 1)",
     "output_type": "error",
     "traceback": [
      "\u001b[1;36m  File \u001b[1;32m\"C:\\Users\\USER\\AppData\\Local\\Temp/ipykernel_7776/1034601774.py\"\u001b[1;36m, line \u001b[1;32m1\u001b[0m\n\u001b[1;33m    print(!hungry)\u001b[0m\n\u001b[1;37m          ^\u001b[0m\n\u001b[1;31mSyntaxError\u001b[0m\u001b[1;31m:\u001b[0m invalid syntax\n"
     ]
    }
   ],
   "source": [
    "print(!hungry) # 에러"
   ]
  },
  {
   "cell_type": "code",
   "execution_count": 4,
   "id": "085d010e",
   "metadata": {
    "ExecuteTime": {
     "end_time": "2023-08-22T06:24:25.226798Z",
     "start_time": "2023-08-22T06:24:25.213763Z"
    }
   },
   "outputs": [
    {
     "name": "stdout",
     "output_type": "stream",
     "text": [
      "False\n"
     ]
    }
   ],
   "source": [
    "print(not hungry)"
   ]
  },
  {
   "cell_type": "code",
   "execution_count": 5,
   "id": "44397816",
   "metadata": {
    "ExecuteTime": {
     "end_time": "2023-08-22T06:24:59.028313Z",
     "start_time": "2023-08-22T06:24:59.022352Z"
    }
   },
   "outputs": [
    {
     "name": "stdout",
     "output_type": "stream",
     "text": [
      "True\n"
     ]
    }
   ],
   "source": [
    "print(hungry or sleep)"
   ]
  },
  {
   "cell_type": "code",
   "execution_count": 6,
   "id": "c5f2cecb",
   "metadata": {
    "ExecuteTime": {
     "end_time": "2023-08-22T06:27:13.831507Z",
     "start_time": "2023-08-22T06:27:13.815593Z"
    }
   },
   "outputs": [
    {
     "name": "stdout",
     "output_type": "stream",
     "text": [
      "ok\n"
     ]
    }
   ],
   "source": [
    "a = 1\n",
    "b = 3\n",
    "\n",
    "# 들여쓰기(Indent)\n",
    "if a == 1 and b == 3:\n",
    "    print(\"ok\")\n",
    "else:\n",
    "    print(\"not ok\")"
   ]
  },
  {
   "cell_type": "code",
   "execution_count": 7,
   "id": "2da0f726",
   "metadata": {
    "ExecuteTime": {
     "end_time": "2023-08-22T06:27:40.516801Z",
     "start_time": "2023-08-22T06:27:40.505707Z"
    }
   },
   "outputs": [
    {
     "name": "stdout",
     "output_type": "stream",
     "text": [
      "ok\n"
     ]
    }
   ],
   "source": [
    "if a == 1 and \\\n",
    "b == 3:\n",
    "    print(\"ok\")\n",
    "else:\n",
    "    print(\"not ok\")"
   ]
  },
  {
   "cell_type": "code",
   "execution_count": 8,
   "id": "f568f890",
   "metadata": {
    "ExecuteTime": {
     "end_time": "2023-08-22T06:30:04.379445Z",
     "start_time": "2023-08-22T06:30:04.367028Z"
    }
   },
   "outputs": [
    {
     "name": "stdout",
     "output_type": "stream",
     "text": [
      "Hello\n",
      "Python\n",
      "programming\n"
     ]
    }
   ],
   "source": [
    "# multi line text : 여러줄 문장\n",
    "\n",
    "multi = \"Hello\\nPython\\nprogramming\"\n",
    "\n",
    "# 제어문자 : \\n == new line, 줄바꿈(개행)\n",
    "print(multi)"
   ]
  },
  {
   "cell_type": "code",
   "execution_count": 9,
   "id": "29064d5f",
   "metadata": {
    "ExecuteTime": {
     "end_time": "2023-08-22T06:31:02.776246Z",
     "start_time": "2023-08-22T06:31:02.764272Z"
    }
   },
   "outputs": [
    {
     "name": "stdout",
     "output_type": "stream",
     "text": [
      "\n",
      "Hello\n",
      "Python\n",
      "Programming\n",
      "\n"
     ]
    }
   ],
   "source": [
    "multiline = \"\"\"\n",
    "Hello\n",
    "Python\n",
    "Programming\n",
    "\"\"\"\n",
    "\n",
    "print(multiline)"
   ]
  },
  {
   "cell_type": "code",
   "execution_count": 13,
   "id": "d9ff6392",
   "metadata": {
    "ExecuteTime": {
     "end_time": "2023-08-22T06:33:05.513133Z",
     "start_time": "2023-08-22T06:33:05.504144Z"
    }
   },
   "outputs": [
    {
     "name": "stdout",
     "output_type": "stream",
     "text": [
      "파이썬은  재미있다.\n",
      "파이썬은 재미있다.\n"
     ]
    }
   ],
   "source": [
    "head = \"파이썬은 \"\n",
    "tail = \"재미있다.\"\n",
    "print(head, tail)\n",
    "print(head + tail) "
   ]
  },
  {
   "cell_type": "code",
   "execution_count": 14,
   "id": "78799ccb",
   "metadata": {
    "ExecuteTime": {
     "end_time": "2023-08-22T06:34:32.053030Z",
     "start_time": "2023-08-22T06:34:32.046062Z"
    }
   },
   "outputs": [
    {
     "name": "stdout",
     "output_type": "stream",
     "text": [
      "홍길동 33\n",
      "홍길동33\n"
     ]
    }
   ],
   "source": [
    "name = \"홍길동\"\n",
    "age = 33\n",
    "\n",
    "print(name, age)\n",
    "\n",
    "# str(숫자) : 숫자데이터를 문자데이터로 형변환\n",
    "print(name + str(age))"
   ]
  },
  {
   "cell_type": "code",
   "execution_count": 15,
   "id": "13701740",
   "metadata": {
    "ExecuteTime": {
     "end_time": "2023-08-22T06:37:16.689311Z",
     "start_time": "2023-08-22T06:37:16.679314Z"
    }
   },
   "outputs": [
    {
     "name": "stdout",
     "output_type": "stream",
     "text": [
      "이름 : 홍길동, 나이 : 33\n",
      "이름 : 홍길동, 나이 : 33\n",
      "이름 : 홍길동, 나이 : 33\n",
      "이름 : 홍길동, 나이 : 33\n"
     ]
    }
   ],
   "source": [
    "print(\"이름 : {}, 나이 : {}\".format(name, age))\n",
    "# 파이썬의 인덱스(index)는 0부터 시작된다.\n",
    "print(\"이름 : {0}, 나이 : {1}\".format(name, age))\n",
    "print(f\"이름 : {name}, 나이 : {age}\")\n",
    "print(\"이름 : %s, 나이 : %d\" % (name, age))"
   ]
  },
  {
   "cell_type": "code",
   "execution_count": 16,
   "id": "8982a22f",
   "metadata": {
    "ExecuteTime": {
     "end_time": "2023-08-22T06:38:31.556165Z",
     "start_time": "2023-08-22T06:38:31.536169Z"
    }
   },
   "outputs": [
    {
     "name": "stdout",
     "output_type": "stream",
     "text": [
      "파이썬파이썬\n",
      "파이썬파이썬파이썬\n",
      "==================================================\n",
      "My Program Style\n"
     ]
    }
   ],
   "source": [
    "x = \"파이썬\"\n",
    "print(x * 2)\n",
    "print(x * 3)\n",
    "print(\"=\" * 50)\n",
    "print(\"My Program Style\")"
   ]
  },
  {
   "cell_type": "code",
   "execution_count": 17,
   "id": "bef91a10",
   "metadata": {
    "ExecuteTime": {
     "end_time": "2023-08-22T06:44:09.371742Z",
     "start_time": "2023-08-22T06:44:09.352761Z"
    }
   },
   "outputs": [
    {
     "name": "stdout",
     "output_type": "stream",
     "text": [
      "Life is too short\n",
      "e\n",
      "r\n",
      "==================================================\n",
      "Life\n",
      "is too short\n",
      "Life is\n",
      "Life is too short\n"
     ]
    }
   ],
   "source": [
    "# 문자열 인덱싱\n",
    "# 파이썬에서 리스트(List)는 1차원 배열과 같다. R에서 Vector와 같다.\n",
    "\n",
    "xx = \"Life is too short\"\n",
    "print(xx)\n",
    "\n",
    "# [인덱스]\n",
    "print(xx[3])\n",
    "print(xx[-2])\n",
    "print(\"=\" * 50)\n",
    "\n",
    "# 슬라이싱(slicing) : , start:stop(stop-1)\n",
    "print(xx[0:4]) # 0 ~ 3\n",
    "print(xx[5:]) # 5 ~\n",
    "print(xx[:7]) # ~ 6\n",
    "print(xx[:])"
   ]
  },
  {
   "cell_type": "markdown",
   "id": "f129d582",
   "metadata": {},
   "source": [
    "## 문자열과 관련된 함수"
   ]
  },
  {
   "cell_type": "code",
   "execution_count": 18,
   "id": "877df842",
   "metadata": {
    "ExecuteTime": {
     "end_time": "2023-08-22T06:46:25.165107Z",
     "start_time": "2023-08-22T06:46:25.161111Z"
    }
   },
   "outputs": [
    {
     "name": "stdout",
     "output_type": "stream",
     "text": [
      "True\n",
      "False\n"
     ]
    }
   ],
   "source": [
    "str = \"Hello World\"\n",
    "\n",
    "# in과 not in\n",
    "print(\"World\" in str)\n",
    "print(\"World\" not in str)"
   ]
  },
  {
   "cell_type": "code",
   "execution_count": 19,
   "id": "fbd3e0a9",
   "metadata": {
    "ExecuteTime": {
     "end_time": "2023-08-22T06:47:32.583215Z",
     "start_time": "2023-08-22T06:47:32.565149Z"
    }
   },
   "outputs": [
    {
     "name": "stdout",
     "output_type": "stream",
     "text": [
      "3.141592653589793\n"
     ]
    }
   ],
   "source": [
    "import math\n",
    "\n",
    "y = math.pi\n",
    "print(y)"
   ]
  },
  {
   "cell_type": "code",
   "execution_count": 21,
   "id": "a6db2b7c",
   "metadata": {
    "ExecuteTime": {
     "end_time": "2023-08-22T06:49:12.980827Z",
     "start_time": "2023-08-22T06:49:12.966866Z"
    }
   },
   "outputs": [
    {
     "name": "stdout",
     "output_type": "stream",
     "text": [
      "hobby\n",
      "2\n"
     ]
    }
   ],
   "source": [
    "a = \"hobby\"\n",
    "print(a)\n",
    "\n",
    "# count : 해당 문자의 개수를 반환해준다.\n",
    "print(a.count('b'))"
   ]
  },
  {
   "cell_type": "code",
   "execution_count": 22,
   "id": "9f49b61e",
   "metadata": {
    "ExecuteTime": {
     "end_time": "2023-08-22T06:52:23.137332Z",
     "start_time": "2023-08-22T06:52:23.123367Z"
    }
   },
   "outputs": [
    {
     "name": "stdout",
     "output_type": "stream",
     "text": [
      "Have a nice today\n",
      "7\n",
      "-1\n",
      "7\n"
     ]
    }
   ],
   "source": [
    "# find() : 문자열에서 해당 문자를 찾아 첫번째 위치를 반환, 단 없으면 -1을 반환\n",
    "# rfind() : 오른쪽에서 부터 첫번째 위치를 반환\n",
    "\n",
    "b = \"Have a nice today\"\n",
    "print(b)\n",
    "\n",
    "print(b.find('nice')) # 7\n",
    "print(b.find('have')) # -1\n",
    "print(b.rfind('nice')) # 7"
   ]
  },
  {
   "cell_type": "code",
   "execution_count": 28,
   "id": "d8ef2767",
   "metadata": {
    "ExecuteTime": {
     "end_time": "2023-08-22T07:02:17.890078Z",
     "start_time": "2023-08-22T07:02:17.881004Z"
    }
   },
   "outputs": [
    {
     "name": "stdout",
     "output_type": "stream",
     "text": [
      "15\n"
     ]
    }
   ],
   "source": [
    "xx = \"aaa b ccccc dd e ff\"\n",
    "print(xx.rfind('e'))"
   ]
  },
  {
   "cell_type": "code",
   "execution_count": 29,
   "id": "25991607",
   "metadata": {
    "ExecuteTime": {
     "end_time": "2023-08-22T07:02:57.218577Z",
     "start_time": "2023-08-22T07:02:57.202621Z"
    }
   },
   "outputs": [
    {
     "name": "stdout",
     "output_type": "stream",
     "text": [
      "6\n"
     ]
    }
   ],
   "source": [
    "xx = \"aaa b ccccc dd e ff cccccccc\"\n",
    "print(xx.find('c'))"
   ]
  },
  {
   "cell_type": "code",
   "execution_count": 30,
   "id": "2bd7b147",
   "metadata": {
    "ExecuteTime": {
     "end_time": "2023-08-22T07:03:15.199133Z",
     "start_time": "2023-08-22T07:03:15.182178Z"
    }
   },
   "outputs": [
    {
     "name": "stdout",
     "output_type": "stream",
     "text": [
      "27\n"
     ]
    }
   ],
   "source": [
    "xx = \"aaa b ccccc dd e ff cccccccc\"\n",
    "print(xx.rfind('c'))"
   ]
  },
  {
   "cell_type": "code",
   "execution_count": 31,
   "id": "a5908822",
   "metadata": {
    "ExecuteTime": {
     "end_time": "2023-08-22T07:03:35.722897Z",
     "start_time": "2023-08-22T07:03:35.711919Z"
    }
   },
   "outputs": [
    {
     "name": "stdout",
     "output_type": "stream",
     "text": [
      "28\n"
     ]
    }
   ],
   "source": [
    "print(len(xx))"
   ]
  },
  {
   "cell_type": "code",
   "execution_count": 23,
   "id": "ea1b7336",
   "metadata": {
    "ExecuteTime": {
     "end_time": "2023-08-22T06:54:36.866285Z",
     "start_time": "2023-08-22T06:54:36.850315Z"
    }
   },
   "outputs": [
    {
     "name": "stdout",
     "output_type": "stream",
     "text": [
      "7\n"
     ]
    },
    {
     "ename": "ValueError",
     "evalue": "substring not found",
     "output_type": "error",
     "traceback": [
      "\u001b[1;31m---------------------------------------------------------------------------\u001b[0m",
      "\u001b[1;31mValueError\u001b[0m                                Traceback (most recent call last)",
      "\u001b[1;32m~\\AppData\\Local\\Temp/ipykernel_7776/650025758.py\u001b[0m in \u001b[0;36m<module>\u001b[1;34m\u001b[0m\n\u001b[0;32m      2\u001b[0m \u001b[0mx\u001b[0m \u001b[1;33m=\u001b[0m \u001b[1;34m\"Have a nice today\"\u001b[0m\u001b[1;33m\u001b[0m\u001b[1;33m\u001b[0m\u001b[0m\n\u001b[0;32m      3\u001b[0m \u001b[0mprint\u001b[0m\u001b[1;33m(\u001b[0m\u001b[0mx\u001b[0m\u001b[1;33m.\u001b[0m\u001b[0mindex\u001b[0m\u001b[1;33m(\u001b[0m\u001b[1;34m\"nice\"\u001b[0m\u001b[1;33m)\u001b[0m\u001b[1;33m)\u001b[0m\u001b[1;33m\u001b[0m\u001b[1;33m\u001b[0m\u001b[0m\n\u001b[1;32m----> 4\u001b[1;33m \u001b[0mprint\u001b[0m\u001b[1;33m(\u001b[0m\u001b[0mx\u001b[0m\u001b[1;33m.\u001b[0m\u001b[0mindex\u001b[0m\u001b[1;33m(\u001b[0m\u001b[1;34m\"have\"\u001b[0m\u001b[1;33m)\u001b[0m\u001b[1;33m)\u001b[0m\u001b[1;33m\u001b[0m\u001b[1;33m\u001b[0m\u001b[0m\n\u001b[0m",
      "\u001b[1;31mValueError\u001b[0m: substring not found"
     ]
    }
   ],
   "source": [
    "# index : find와 유사하지만 해당 문자열이 없으면 오류 발생\n",
    "x = \"Have a nice today\"\n",
    "print(x.index(\"nice\"))\n",
    "print(x.index(\"have\"))"
   ]
  },
  {
   "cell_type": "code",
   "execution_count": 24,
   "id": "0cf7b277",
   "metadata": {
    "ExecuteTime": {
     "end_time": "2023-08-22T06:56:07.078140Z",
     "start_time": "2023-08-22T06:56:07.059194Z"
    }
   },
   "outputs": [
    {
     "data": {
      "text/plain": [
       "'a,b,c,d'"
      ]
     },
     "execution_count": 24,
     "metadata": {},
     "output_type": "execute_result"
    }
   ],
   "source": [
    "# 구분자.join(문자열) : 각각의 문자열 사이에 지정한 문자를 삽입하는 함수\n",
    "\",\".join(\"abcd\")"
   ]
  },
  {
   "cell_type": "code",
   "execution_count": 25,
   "id": "426f738b",
   "metadata": {
    "ExecuteTime": {
     "end_time": "2023-08-22T06:57:06.565952Z",
     "start_time": "2023-08-22T06:57:06.552951Z"
    }
   },
   "outputs": [
    {
     "data": {
      "text/plain": [
       "'HELLO'"
      ]
     },
     "execution_count": 25,
     "metadata": {},
     "output_type": "execute_result"
    }
   ],
   "source": [
    "# upper/lower\n",
    "data = \"hello\"\n",
    "\n",
    "data.upper()"
   ]
  },
  {
   "cell_type": "code",
   "execution_count": 26,
   "id": "7b399070",
   "metadata": {
    "ExecuteTime": {
     "end_time": "2023-08-22T06:57:24.253530Z",
     "start_time": "2023-08-22T06:57:24.239563Z"
    }
   },
   "outputs": [
    {
     "data": {
      "text/plain": [
       "'hello'"
      ]
     },
     "execution_count": 26,
     "metadata": {},
     "output_type": "execute_result"
    }
   ],
   "source": [
    "data.upper().lower()"
   ]
  },
  {
   "cell_type": "code",
   "execution_count": 27,
   "id": "5c43b2ac",
   "metadata": {
    "ExecuteTime": {
     "end_time": "2023-08-22T06:58:09.949376Z",
     "start_time": "2023-08-22T06:58:09.935410Z"
    }
   },
   "outputs": [
    {
     "data": {
      "text/plain": [
       "'Hello'"
      ]
     },
     "execution_count": 27,
     "metadata": {},
     "output_type": "execute_result"
    }
   ],
   "source": [
    "# 첫글자만 대문자\n",
    "data.capitalize()"
   ]
  },
  {
   "cell_type": "code",
   "execution_count": 32,
   "id": "694c33aa",
   "metadata": {
    "ExecuteTime": {
     "end_time": "2023-08-22T07:04:10.892315Z",
     "start_time": "2023-08-22T07:04:10.884355Z"
    }
   },
   "outputs": [
    {
     "name": "stdout",
     "output_type": "stream",
     "text": [
      "hi     \n",
      "     hi\n",
      "hi\n"
     ]
    }
   ],
   "source": [
    "# 공백제거 : strip, rstrip, lstrip\n",
    "a = \"     hi     \"\n",
    "result = a.lstrip()\n",
    "print(result)\n",
    "\n",
    "a = \"     hi     \"\n",
    "result = a.rstrip()\n",
    "print(result)\n",
    "\n",
    "a = \"     hi     \"\n",
    "result = a.strip()\n",
    "print(result)"
   ]
  },
  {
   "cell_type": "code",
   "execution_count": 33,
   "id": "404994f3",
   "metadata": {
    "ExecuteTime": {
     "end_time": "2023-08-22T07:06:29.869012Z",
     "start_time": "2023-08-22T07:06:29.857012Z"
    }
   },
   "outputs": [
    {
     "name": "stdout",
     "output_type": "stream",
     "text": [
      "경력 개발자\n"
     ]
    }
   ],
   "source": [
    "# replace : 문자열을 특정 문자열로 바꿔주는 함수\n",
    "a = \"신입 개발자\"\n",
    "# replace(A, B) : A를 B로 변경해라\n",
    "result = a.replace(\"신입\", \"경력\")\n",
    "print(result)"
   ]
  },
  {
   "cell_type": "code",
   "execution_count": 34,
   "id": "9a07845a",
   "metadata": {
    "ExecuteTime": {
     "end_time": "2023-08-22T07:07:21.502538Z",
     "start_time": "2023-08-22T07:07:21.483542Z"
    }
   },
   "outputs": [
    {
     "name": "stdout",
     "output_type": "stream",
     "text": [
      "['신입', '개발자', '자바', '파이썬', '가능자']\n"
     ]
    }
   ],
   "source": [
    "a = \"신입 개발자 자바 파이썬 가능자\"\n",
    "result = a.split() # 공백을 기준으로 나눈다. => 리스트로 반환\n",
    "print(result)"
   ]
  },
  {
   "cell_type": "code",
   "execution_count": 35,
   "id": "ae3c742c",
   "metadata": {
    "ExecuteTime": {
     "end_time": "2023-08-22T07:08:06.269775Z",
     "start_time": "2023-08-22T07:08:06.265775Z"
    }
   },
   "outputs": [
    {
     "name": "stdout",
     "output_type": "stream",
     "text": [
      "['A', 'B', 'C', 'D']\n"
     ]
    }
   ],
   "source": [
    "a = \"A:B:C:D\"\n",
    "result = a.split(':')\n",
    "print(result)"
   ]
  },
  {
   "cell_type": "code",
   "execution_count": 36,
   "id": "f353bbc7",
   "metadata": {
    "ExecuteTime": {
     "end_time": "2023-08-22T07:08:51.290105Z",
     "start_time": "2023-08-22T07:08:51.274108Z"
    }
   },
   "outputs": [
    {
     "name": "stdout",
     "output_type": "stream",
     "text": [
      "1 2 3\n",
      "4 5 6\n"
     ]
    }
   ],
   "source": [
    "print(1, 2, 3)\n",
    "print(4, 5, 6)"
   ]
  },
  {
   "cell_type": "code",
   "execution_count": 39,
   "id": "ed5850dc",
   "metadata": {
    "ExecuteTime": {
     "end_time": "2023-08-22T07:10:34.106041Z",
     "start_time": "2023-08-22T07:10:34.093080Z"
    }
   },
   "outputs": [
    {
     "name": "stdout",
     "output_type": "stream",
     "text": [
      "1 2 3 4 5 6\n"
     ]
    }
   ],
   "source": [
    "# print(\"출력내용\", sep='\\n')\n",
    "print(1, 2, 3, end = ' ')  # end of line : 줄의 끝 처리 , end = '\\n' 기본값\n",
    "print(4, 5, 6)"
   ]
  },
  {
   "cell_type": "code",
   "execution_count": 42,
   "id": "ffc8b498",
   "metadata": {
    "ExecuteTime": {
     "end_time": "2023-08-22T07:12:37.534077Z",
     "start_time": "2023-08-22T07:12:37.520119Z"
    }
   },
   "outputs": [
    {
     "name": "stdout",
     "output_type": "stream",
     "text": [
      "1 2 3 4 5\n",
      "1, 2, 3, 4, 5\n"
     ]
    }
   ],
   "source": [
    "print(1, 2, 3, 4, 5)\n",
    "print(1, 2, 3, 4, 5, sep = ', ') # sep : 구분기호(구분자)"
   ]
  },
  {
   "cell_type": "code",
   "execution_count": null,
   "id": "e686d855",
   "metadata": {},
   "outputs": [],
   "source": []
  }
 ],
 "metadata": {
  "kernelspec": {
   "display_name": "Python 3 (ipykernel)",
   "language": "python",
   "name": "python3"
  },
  "language_info": {
   "codemirror_mode": {
    "name": "ipython",
    "version": 3
   },
   "file_extension": ".py",
   "mimetype": "text/x-python",
   "name": "python",
   "nbconvert_exporter": "python",
   "pygments_lexer": "ipython3",
   "version": "3.9.7"
  },
  "toc": {
   "base_numbering": 1,
   "nav_menu": {},
   "number_sections": true,
   "sideBar": true,
   "skip_h1_title": false,
   "title_cell": "Table of Contents",
   "title_sidebar": "Contents",
   "toc_cell": false,
   "toc_position": {},
   "toc_section_display": true,
   "toc_window_display": true
  },
  "varInspector": {
   "cols": {
    "lenName": 16,
    "lenType": 16,
    "lenVar": 40
   },
   "kernels_config": {
    "python": {
     "delete_cmd_postfix": "",
     "delete_cmd_prefix": "del ",
     "library": "var_list.py",
     "varRefreshCmd": "print(var_dic_list())"
    },
    "r": {
     "delete_cmd_postfix": ") ",
     "delete_cmd_prefix": "rm(",
     "library": "var_list.r",
     "varRefreshCmd": "cat(var_dic_list()) "
    }
   },
   "types_to_exclude": [
    "module",
    "function",
    "builtin_function_or_method",
    "instance",
    "_Feature"
   ],
   "window_display": false
  }
 },
 "nbformat": 4,
 "nbformat_minor": 5
}
