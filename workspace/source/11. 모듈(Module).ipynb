{
 "cells": [
  {
   "cell_type": "markdown",
   "id": "ac298739",
   "metadata": {},
   "source": [
    "# 모듈의 정의\n",
    "\n",
    "1. 함수(Function) : 파일 내에서 자주 반복적으로 수행하는 기능이나 명령어를 묶어놓은 단위\n",
    "\n",
    "2. 모듈(Module) : 함수나 변수 또는 클래스들을 모아놓은 파이썬 파일(확장자가 py인 파일)  \n",
    "  - 비슷하거나 관련된 일을 하는 함수나 상수값들을 모아서 하나의 파일에 저장하고 필요에 의해 재사용가능  \n",
    "  \n",
    "3. 패키지(package) : 여러 개의 모듈을 모아놓은 디렉토리 개념  \n",
    "  - 모듈 : 파일, 패키지 : 폴더"
   ]
  },
  {
   "cell_type": "markdown",
   "id": "2593b652",
   "metadata": {},
   "source": [
    "# 모듈을 사용하는 목적\n",
    "\n",
    "1. 코드의 재사용 \n",
    "2. 프로그램을 모듈 단위로 구현하면 작업의 효율을 높일 수 있다.\n",
    "3. 별도의 이름공간(namespace)에 제공함으로써 동일한 이름의 여러 함수나 변수들이 각 모듈마다 독립적"
   ]
  },
  {
   "cell_type": "markdown",
   "id": "10a7015a",
   "metadata": {},
   "source": [
    "# 모듈의 종류\n",
    "\n",
    "1. 표준모듈 : 파이썬 언어의 패키지 안에 기본적으로 제공하는 모듈<br>\n",
    "   ex) math, string....\n",
    "2. 사용자 정의 모듈 : 사용자에 의해 임의대로 개발된(정의된) 모듈\n",
    "3. 써드 파티 모듈 : 다른 업체나 개인이 만들어서 제공하는 모듈<br>\n",
    "   ex) numpy, pandas, matplotlib, seaborn, scikit-learn, keras, tensorflow, openCV,.."
   ]
  },
  {
   "cell_type": "markdown",
   "id": "e2acb360",
   "metadata": {},
   "source": [
    "# 모듈의 선언\n",
    "\n",
    "1. 모듈 전체를 참조\n",
    "  import 모듈명<br>\n",
    "  import 모듈명 as 모듈별칭<br>\n",
    "  \n",
    "2. 모듈 내에서 필요한 부분만 참조\n",
    "  from  모듈명 import 변수 or 함수<br>\n",
    "  from 모듈명 import *<br>\n",
    "  from 모듈명 import 이름 as 별칭<br>\n",
    "  \n",
    "3. 모듈 내부의 함수를 참조할 경우\n",
    "   모듈명.함수명()\n",
    "  "
   ]
  },
  {
   "cell_type": "code",
   "execution_count": 1,
   "id": "f8de313a",
   "metadata": {
    "ExecuteTime": {
     "end_time": "2023-08-28T03:01:53.467326Z",
     "start_time": "2023-08-28T03:01:53.452326Z"
    }
   },
   "outputs": [
    {
     "name": "stdout",
     "output_type": "stream",
     "text": [
      "['__doc__', '__loader__', '__name__', '__package__', '__spec__', 'acos', 'acosh', 'asin', 'asinh', 'atan', 'atan2', 'atanh', 'ceil', 'comb', 'copysign', 'cos', 'cosh', 'degrees', 'dist', 'e', 'erf', 'erfc', 'exp', 'expm1', 'fabs', 'factorial', 'floor', 'fmod', 'frexp', 'fsum', 'gamma', 'gcd', 'hypot', 'inf', 'isclose', 'isfinite', 'isinf', 'isnan', 'isqrt', 'lcm', 'ldexp', 'lgamma', 'log', 'log10', 'log1p', 'log2', 'modf', 'nan', 'nextafter', 'perm', 'pi', 'pow', 'prod', 'radians', 'remainder', 'sin', 'sinh', 'sqrt', 'tan', 'tanh', 'tau', 'trunc', 'ulp']\n"
     ]
    }
   ],
   "source": [
    "import math\n",
    "\n",
    "# 모듈 내부에 포함된 변수나 함수 목록 출력\n",
    "print(dir(math))"
   ]
  },
  {
   "cell_type": "code",
   "execution_count": 2,
   "id": "e56243a2",
   "metadata": {
    "ExecuteTime": {
     "end_time": "2023-08-28T03:02:51.185277Z",
     "start_time": "2023-08-28T03:02:51.173282Z"
    }
   },
   "outputs": [
    {
     "name": "stdout",
     "output_type": "stream",
     "text": [
      "3.141592653589793\n"
     ]
    }
   ],
   "source": [
    "print(math.pi)"
   ]
  },
  {
   "cell_type": "code",
   "execution_count": 3,
   "id": "b5f401dc",
   "metadata": {
    "ExecuteTime": {
     "end_time": "2023-08-28T03:03:25.416651Z",
     "start_time": "2023-08-28T03:03:25.401688Z"
    }
   },
   "outputs": [
    {
     "name": "stdout",
     "output_type": "stream",
     "text": [
      "32.0\n"
     ]
    }
   ],
   "source": [
    "print(math.pow(2, 5))"
   ]
  },
  {
   "cell_type": "code",
   "execution_count": 4,
   "id": "c30bf567",
   "metadata": {
    "ExecuteTime": {
     "end_time": "2023-08-28T03:04:19.289064Z",
     "start_time": "2023-08-28T03:04:19.278070Z"
    }
   },
   "outputs": [
    {
     "name": "stdout",
     "output_type": "stream",
     "text": [
      "hello\n"
     ]
    }
   ],
   "source": [
    "import greeting_en as en\n",
    "import greeting_ko as ko\n",
    "\n",
    "print(en.welcome())"
   ]
  },
  {
   "cell_type": "code",
   "execution_count": 6,
   "id": "bc90da65",
   "metadata": {
    "ExecuteTime": {
     "end_time": "2023-08-28T03:27:41.137558Z",
     "start_time": "2023-08-28T03:27:41.122605Z"
    }
   },
   "outputs": [
    {
     "name": "stdout",
     "output_type": "stream",
     "text": [
      "7\n",
      "7\n",
      "자료형이 일치하지 않습니다.\n",
      "None\n"
     ]
    }
   ],
   "source": [
    "from mod1 import *\n",
    "\n",
    "print(sum(3, 4))\n",
    "print(safe_sum(3, 4))\n",
    "print(safe_sum('a', 4))"
   ]
  },
  {
   "cell_type": "code",
   "execution_count": 7,
   "id": "72dee4b9",
   "metadata": {
    "ExecuteTime": {
     "end_time": "2023-08-28T03:32:39.201000Z",
     "start_time": "2023-08-28T03:32:39.188025Z"
    }
   },
   "outputs": [],
   "source": [
    "from mod1 import *"
   ]
  },
  {
   "cell_type": "code",
   "execution_count": 8,
   "id": "b4ad7db3",
   "metadata": {
    "ExecuteTime": {
     "end_time": "2023-08-28T03:32:50.621812Z",
     "start_time": "2023-08-28T03:32:50.609847Z"
    }
   },
   "outputs": [
    {
     "name": "stdout",
     "output_type": "stream",
     "text": [
      "7\n",
      "7\n",
      "자료형이 일치하지 않습니다.\n",
      "None\n"
     ]
    }
   ],
   "source": [
    "print(sum(3, 4))\n",
    "print(safe_sum(3, 4))\n",
    "print(safe_sum('a', 4))"
   ]
  },
  {
   "cell_type": "code",
   "execution_count": 15,
   "id": "9b523546",
   "metadata": {
    "ExecuteTime": {
     "end_time": "2023-08-28T05:02:55.542592Z",
     "start_time": "2023-08-28T05:02:55.530588Z"
    }
   },
   "outputs": [],
   "source": [
    "import mod1"
   ]
  },
  {
   "cell_type": "markdown",
   "id": "dac16e64",
   "metadata": {},
   "source": [
    "## random 모듈"
   ]
  },
  {
   "cell_type": "code",
   "execution_count": 16,
   "id": "75835454",
   "metadata": {
    "ExecuteTime": {
     "end_time": "2023-08-28T05:17:12.349446Z",
     "start_time": "2023-08-28T05:17:12.336519Z"
    }
   },
   "outputs": [
    {
     "name": "stdout",
     "output_type": "stream",
     "text": [
      "난수 :  0.4795154817325298\n"
     ]
    }
   ],
   "source": [
    "import random\n",
    "\n",
    "# random() : 0.0 ~ 1.0 사이의 실수를 리턴\n",
    "print(\"난수 : \", random.random())"
   ]
  },
  {
   "cell_type": "code",
   "execution_count": 19,
   "id": "e955f21c",
   "metadata": {
    "ExecuteTime": {
     "end_time": "2023-08-28T05:20:37.765302Z",
     "start_time": "2023-08-28T05:20:37.752342Z"
    }
   },
   "outputs": [
    {
     "name": "stdout",
     "output_type": "stream",
     "text": [
      "['BPF', 'LOG4', 'NV_MAGICCONST', 'RECIP_BPF', 'Random', 'SG_MAGICCONST', 'SystemRandom', 'TWOPI', '_Sequence', '_Set', '__all__', '__builtins__', '__cached__', '__doc__', '__file__', '__loader__', '__name__', '__package__', '__spec__', '_accumulate', '_acos', '_bisect', '_ceil', '_cos', '_e', '_exp', '_floor', '_inst', '_log', '_os', '_pi', '_random', '_repeat', '_sha512', '_sin', '_sqrt', '_test', '_test_generator', '_urandom', '_warn', 'betavariate', 'choice', 'choices', 'expovariate', 'gammavariate', 'gauss', 'getrandbits', 'getstate', 'lognormvariate', 'normalvariate', 'paretovariate', 'randbytes', 'randint', 'random', 'randrange', 'sample', 'seed', 'setstate', 'shuffle', 'triangular', 'uniform', 'vonmisesvariate', 'weibullvariate']\n"
     ]
    }
   ],
   "source": [
    "print(dir(random))"
   ]
  },
  {
   "cell_type": "code",
   "execution_count": 18,
   "id": "aea95f58",
   "metadata": {
    "ExecuteTime": {
     "end_time": "2023-08-28T05:18:48.728067Z",
     "start_time": "2023-08-28T05:18:48.716351Z"
    }
   },
   "outputs": [
    {
     "name": "stdout",
     "output_type": "stream",
     "text": [
      "uniform(10, 20) :  14.820185850465537\n"
     ]
    }
   ],
   "source": [
    "# uniform(min, max) : min ~ max 사이의 범위에서 실수를 리턴\n",
    "print(\"uniform(10, 20) : \", random.uniform(10, 20))"
   ]
  },
  {
   "cell_type": "code",
   "execution_count": 20,
   "id": "bf37304c",
   "metadata": {
    "ExecuteTime": {
     "end_time": "2023-08-28T05:21:22.932936Z",
     "start_time": "2023-08-28T05:21:22.920964Z"
    }
   },
   "outputs": [
    {
     "name": "stdout",
     "output_type": "stream",
     "text": [
      "randrange(10) :  2\n",
      "randrange(10, 20) :  14\n"
     ]
    }
   ],
   "source": [
    "# randrange(max) : 0부터 max 사이의 난수 정수 리턴\n",
    "# randrange(min, max) : min ~ max 사이의 정수 리턴\n",
    "print(\"randrange(10) : \", random.randrange(10))\n",
    "print(\"randrange(10, 20) : \", random.randrange(10, 20))"
   ]
  },
  {
   "cell_type": "code",
   "execution_count": 21,
   "id": "18a15fad",
   "metadata": {
    "ExecuteTime": {
     "end_time": "2023-08-28T05:23:02.153767Z",
     "start_time": "2023-08-28T05:23:02.146322Z"
    }
   },
   "outputs": [
    {
     "name": "stdout",
     "output_type": "stream",
     "text": [
      "choice([1, 2, 3, 4, 5]) :  4\n"
     ]
    }
   ],
   "source": [
    "# choice(list) : 리스트 내부에 있는 요소중 랜덤하게 선택\n",
    "print(\"choice([1, 2, 3, 4, 5]) : \", random.choice([1, 2, 3, 4, 5]))"
   ]
  },
  {
   "cell_type": "code",
   "execution_count": 22,
   "id": "81e273dd",
   "metadata": {
    "ExecuteTime": {
     "end_time": "2023-08-28T05:24:25.258658Z",
     "start_time": "2023-08-28T05:24:25.241802Z"
    }
   },
   "outputs": [
    {
     "name": "stdout",
     "output_type": "stream",
     "text": [
      "sample([1, 2, 3, 4, 5], k=2) :  [3, 2]\n"
     ]
    }
   ],
   "source": [
    "# sample(list, k=갯수)\n",
    "print(\"sample([1, 2, 3, 4, 5], k=2) : \", random.sample([1, 2, 3, 4, 5], k=2))"
   ]
  },
  {
   "cell_type": "code",
   "execution_count": 23,
   "id": "4ea96f90",
   "metadata": {
    "ExecuteTime": {
     "end_time": "2023-08-28T05:25:48.300152Z",
     "start_time": "2023-08-28T05:25:48.283245Z"
    }
   },
   "outputs": [
    {
     "name": "stdout",
     "output_type": "stream",
     "text": [
      "sample([1, 2, 3, 4, 5], k=2) :  [4, 1]\n"
     ]
    }
   ],
   "source": [
    "from random import *\n",
    "print(\"sample([1, 2, 3, 4, 5], k=2) : \", sample([1, 2, 3, 4, 5], k=2))"
   ]
  },
  {
   "cell_type": "markdown",
   "id": "f77e4309",
   "metadata": {},
   "source": [
    "## sys(=system) 모듈"
   ]
  },
  {
   "cell_type": "code",
   "execution_count": 24,
   "id": "9d0d700f",
   "metadata": {
    "ExecuteTime": {
     "end_time": "2023-08-28T05:27:28.820977Z",
     "start_time": "2023-08-28T05:27:28.804882Z"
    }
   },
   "outputs": [
    {
     "name": "stdout",
     "output_type": "stream",
     "text": [
      "['__breakpointhook__', '__displayhook__', '__doc__', '__excepthook__', '__interactivehook__', '__loader__', '__name__', '__package__', '__spec__', '__stderr__', '__stdin__', '__stdout__', '__unraisablehook__', '_base_executable', '_clear_type_cache', '_current_frames', '_debugmallocstats', '_enablelegacywindowsfsencoding', '_framework', '_getframe', '_git', '_home', '_xoptions', 'addaudithook', 'api_version', 'argv', 'audit', 'base_exec_prefix', 'base_prefix', 'breakpointhook', 'builtin_module_names', 'byteorder', 'call_tracing', 'copyright', 'displayhook', 'dllhandle', 'dont_write_bytecode', 'exc_info', 'excepthook', 'exec_prefix', 'executable', 'exit', 'flags', 'float_info', 'float_repr_style', 'get_asyncgen_hooks', 'get_coroutine_origin_tracking_depth', 'getallocatedblocks', 'getdefaultencoding', 'getfilesystemencodeerrors', 'getfilesystemencoding', 'getprofile', 'getrecursionlimit', 'getrefcount', 'getsizeof', 'getswitchinterval', 'gettrace', 'getwindowsversion', 'hash_info', 'hexversion', 'implementation', 'int_info', 'intern', 'is_finalizing', 'last_traceback', 'last_type', 'last_value', 'maxsize', 'maxunicode', 'meta_path', 'modules', 'path', 'path_hooks', 'path_importer_cache', 'platform', 'platlibdir', 'prefix', 'ps1', 'ps2', 'ps3', 'pycache_prefix', 'set_asyncgen_hooks', 'set_coroutine_origin_tracking_depth', 'setprofile', 'setrecursionlimit', 'setswitchinterval', 'settrace', 'stderr', 'stdin', 'stdout', 'thread_info', 'unraisablehook', 'version', 'version_info', 'warnoptions', 'winver']\n"
     ]
    }
   ],
   "source": [
    "import sys\n",
    "\n",
    "print(dir(sys))"
   ]
  },
  {
   "cell_type": "code",
   "execution_count": 27,
   "id": "76e617c1",
   "metadata": {
    "ExecuteTime": {
     "end_time": "2023-08-28T05:28:30.038015Z",
     "start_time": "2023-08-28T05:28:30.024544Z"
    }
   },
   "outputs": [
    {
     "name": "stdout",
     "output_type": "stream",
     "text": [
      "['C:\\\\k_digital\\\\python Basic\\\\workspace\\\\source', 'C:\\\\Anaconda3\\\\python39.zip', 'C:\\\\Anaconda3\\\\DLLs', 'C:\\\\Anaconda3\\\\lib', 'C:\\\\Anaconda3', '', 'C:\\\\Anaconda3\\\\lib\\\\site-packages', 'C:\\\\Anaconda3\\\\lib\\\\site-packages\\\\locket-0.2.1-py3.9.egg', 'C:\\\\Anaconda3\\\\lib\\\\site-packages\\\\win32', 'C:\\\\Anaconda3\\\\lib\\\\site-packages\\\\win32\\\\lib', 'C:\\\\Anaconda3\\\\lib\\\\site-packages\\\\Pythonwin', 'C:\\\\Anaconda3\\\\lib\\\\site-packages\\\\IPython\\\\extensions', 'C:\\\\Users\\\\USER\\\\.ipython']\n"
     ]
    }
   ],
   "source": [
    "# 파이썬 실행파일이 위치한 디렉토리 목록\n",
    "print(sys.path)"
   ]
  },
  {
   "cell_type": "code",
   "execution_count": 29,
   "id": "c984f587",
   "metadata": {
    "ExecuteTime": {
     "end_time": "2023-08-28T05:29:53.887398Z",
     "start_time": "2023-08-28T05:29:53.881416Z"
    }
   },
   "outputs": [
    {
     "name": "stdout",
     "output_type": "stream",
     "text": [
      "3.9.7 (default, Sep 16 2021, 16:59:28) [MSC v.1916 64 bit (AMD64)]\n"
     ]
    }
   ],
   "source": [
    "print(sys.version)"
   ]
  },
  {
   "cell_type": "markdown",
   "id": "aecda6e8",
   "metadata": {},
   "source": [
    "## os(=operation system, 운영체제)"
   ]
  },
  {
   "cell_type": "code",
   "execution_count": 30,
   "id": "ecfd054e",
   "metadata": {
    "ExecuteTime": {
     "end_time": "2023-08-28T05:30:55.438951Z",
     "start_time": "2023-08-28T05:30:55.430981Z"
    }
   },
   "outputs": [],
   "source": [
    "import os"
   ]
  },
  {
   "cell_type": "code",
   "execution_count": 31,
   "id": "3a9b038c",
   "metadata": {
    "ExecuteTime": {
     "end_time": "2023-08-28T05:31:55.994032Z",
     "start_time": "2023-08-28T05:31:55.980057Z"
    }
   },
   "outputs": [
    {
     "name": "stdout",
     "output_type": "stream",
     "text": [
      "현재 운영체제 :  nt\n",
      "현재 폴더 :  C:\\k_digital\\python Basic\\workspace\\source\n",
      "현재 폴더 내부의 목록 :  ['.ipynb_checkpoints', '01. 파이썬 기본문법.ipynb', '02. 파이썬 기본 자료형.ipynb', '03. 표준 입출력함수.ipynb', '04. 연산자(operator).ipynb', '05. 파이썬 자료구조(List, Tuple, Set, Dictionary).ipynb', '06. 제어문.ipynb', '07. 함수(Function).ipynb', '08.  함수 고급기능.ipynb', '09. 객체 지향적인 프로그래밍 .ipynb', '10. 클래스와 상속.ipynb', '11. 모듈(Module).ipynb', 'greeting_en.py', 'greeting_ko.py', 'mod1.py', 'mod2.py', 'x.py', 'y.py', '__pycache__', '은행 계좌 관리 프로그램.ipynb', '학적관리 프로그램.ipynb']\n"
     ]
    }
   ],
   "source": [
    "print(\"현재 운영체제 : \", os.name)\n",
    "print(\"현재 폴더 : \", os.getcwd())\n",
    "print(\"현재 폴더 내부의 목록 : \", os.listdir())"
   ]
  },
  {
   "cell_type": "code",
   "execution_count": 32,
   "id": "8adc4787",
   "metadata": {
    "ExecuteTime": {
     "end_time": "2023-08-28T05:33:11.193103Z",
     "start_time": "2023-08-28T05:33:11.189143Z"
    }
   },
   "outputs": [],
   "source": [
    "# 폴더 생성과 제거\n",
    "os.mkdir(\"hello\")"
   ]
  },
  {
   "cell_type": "code",
   "execution_count": 35,
   "id": "26e7c49a",
   "metadata": {
    "ExecuteTime": {
     "end_time": "2023-08-28T05:34:02.012807Z",
     "start_time": "2023-08-28T05:34:01.998829Z"
    }
   },
   "outputs": [
    {
     "name": "stdout",
     "output_type": "stream",
     "text": [
      "현재 폴더 내부의 목록 :  ['.ipynb_checkpoints', '01. 파이썬 기본문법.ipynb', '02. 파이썬 기본 자료형.ipynb', '03. 표준 입출력함수.ipynb', '04. 연산자(operator).ipynb', '05. 파이썬 자료구조(List, Tuple, Set, Dictionary).ipynb', '06. 제어문.ipynb', '07. 함수(Function).ipynb', '08.  함수 고급기능.ipynb', '09. 객체 지향적인 프로그래밍 .ipynb', '10. 클래스와 상속.ipynb', '11. 모듈(Module).ipynb', 'greeting_en.py', 'greeting_ko.py', 'mod1.py', 'mod2.py', 'x.py', 'y.py', '__pycache__', '은행 계좌 관리 프로그램.ipynb', '학적관리 프로그램.ipynb']\n"
     ]
    }
   ],
   "source": [
    "print(\"현재 폴더 내부의 목록 : \", os.listdir())"
   ]
  },
  {
   "cell_type": "code",
   "execution_count": 34,
   "id": "a9adcf39",
   "metadata": {
    "ExecuteTime": {
     "end_time": "2023-08-28T05:33:58.550292Z",
     "start_time": "2023-08-28T05:33:58.534785Z"
    }
   },
   "outputs": [],
   "source": [
    "# 폴더 제거\n",
    "os.rmdir(\"hello\")"
   ]
  },
  {
   "cell_type": "code",
   "execution_count": 37,
   "id": "391393ea",
   "metadata": {
    "ExecuteTime": {
     "end_time": "2023-08-28T05:36:31.674513Z",
     "start_time": "2023-08-28T05:36:31.657667Z"
    }
   },
   "outputs": [
    {
     "ename": "PermissionError",
     "evalue": "[WinError 32] 다른 프로세스가 파일을 사용 중이기 때문에 프로세스가 액세스 할 수 없습니다: 'original.txt' -> 'new.txt'",
     "output_type": "error",
     "traceback": [
      "\u001b[1;31m---------------------------------------------------------------------------\u001b[0m",
      "\u001b[1;31mPermissionError\u001b[0m                           Traceback (most recent call last)",
      "\u001b[1;32m~\\AppData\\Local\\Temp/ipykernel_13336/169513815.py\u001b[0m in \u001b[0;36m<module>\u001b[1;34m\u001b[0m\n\u001b[0;32m      2\u001b[0m \u001b[1;32mwith\u001b[0m \u001b[0mopen\u001b[0m\u001b[1;33m(\u001b[0m\u001b[1;34m\"original.txt\"\u001b[0m\u001b[1;33m,\u001b[0m \u001b[1;34m\"w\"\u001b[0m\u001b[1;33m)\u001b[0m \u001b[1;32mas\u001b[0m \u001b[0mfile\u001b[0m\u001b[1;33m:\u001b[0m\u001b[1;33m\u001b[0m\u001b[1;33m\u001b[0m\u001b[0m\n\u001b[0;32m      3\u001b[0m     \u001b[0mfile\u001b[0m\u001b[1;33m.\u001b[0m\u001b[0mwrite\u001b[0m\u001b[1;33m(\u001b[0m\u001b[1;34m'hello'\u001b[0m\u001b[1;33m)\u001b[0m\u001b[1;33m\u001b[0m\u001b[1;33m\u001b[0m\u001b[0m\n\u001b[1;32m----> 4\u001b[1;33m     \u001b[0mos\u001b[0m\u001b[1;33m.\u001b[0m\u001b[0mrename\u001b[0m\u001b[1;33m(\u001b[0m\u001b[1;34m'original.txt'\u001b[0m\u001b[1;33m,\u001b[0m \u001b[1;34m'new.txt'\u001b[0m\u001b[1;33m)\u001b[0m\u001b[1;33m\u001b[0m\u001b[1;33m\u001b[0m\u001b[0m\n\u001b[0m",
      "\u001b[1;31mPermissionError\u001b[0m: [WinError 32] 다른 프로세스가 파일을 사용 중이기 때문에 프로세스가 액세스 할 수 없습니다: 'original.txt' -> 'new.txt'"
     ]
    }
   ],
   "source": [
    "# 파일 생성과 제거\n",
    "# 파일 모드 : r, w, a\n",
    "with open(\"original.txt\", \"w\") as file:\n",
    "    file.write('hello')   "
   ]
  },
  {
   "cell_type": "code",
   "execution_count": 38,
   "id": "e107b1b3",
   "metadata": {
    "ExecuteTime": {
     "end_time": "2023-08-28T05:39:00.763825Z",
     "start_time": "2023-08-28T05:39:00.756823Z"
    }
   },
   "outputs": [],
   "source": [
    "os.rename(\"original.txt\", \"new.txt\")"
   ]
  },
  {
   "cell_type": "code",
   "execution_count": 39,
   "id": "dd161f59",
   "metadata": {
    "ExecuteTime": {
     "end_time": "2023-08-28T05:39:36.783716Z",
     "start_time": "2023-08-28T05:39:36.768103Z"
    }
   },
   "outputs": [],
   "source": [
    "# 파일 제거\n",
    "os.remove(\"new.txt\")"
   ]
  },
  {
   "cell_type": "code",
   "execution_count": 41,
   "id": "aef07306",
   "metadata": {
    "ExecuteTime": {
     "end_time": "2023-08-28T05:40:58.404221Z",
     "start_time": "2023-08-28T05:40:58.373857Z"
    }
   },
   "outputs": [
    {
     "data": {
      "text/plain": [
       "0"
      ]
     },
     "execution_count": 41,
     "metadata": {},
     "output_type": "execute_result"
    }
   ],
   "source": [
    "# 시스템 명령어 실행\n",
    "os.system(\"dir\")"
   ]
  },
  {
   "cell_type": "markdown",
   "id": "595750ce",
   "metadata": {},
   "source": [
    "## datetime 모듈"
   ]
  },
  {
   "cell_type": "code",
   "execution_count": 42,
   "id": "aebb2f8a",
   "metadata": {
    "ExecuteTime": {
     "end_time": "2023-08-28T05:42:13.328507Z",
     "start_time": "2023-08-28T05:42:13.313531Z"
    }
   },
   "outputs": [],
   "source": [
    "import datetime"
   ]
  },
  {
   "cell_type": "code",
   "execution_count": 44,
   "id": "be8b41ac",
   "metadata": {
    "ExecuteTime": {
     "end_time": "2023-08-28T05:43:45.306782Z",
     "start_time": "2023-08-28T05:43:45.301811Z"
    }
   },
   "outputs": [
    {
     "name": "stdout",
     "output_type": "stream",
     "text": [
      "2023 년\n"
     ]
    }
   ],
   "source": [
    "# 현재 시간을 추출\n",
    "now = datetime.datetime.now()\n",
    "print(now.year, '년')"
   ]
  },
  {
   "cell_type": "code",
   "execution_count": 45,
   "id": "3c77d002",
   "metadata": {
    "ExecuteTime": {
     "end_time": "2023-08-28T05:45:04.215942Z",
     "start_time": "2023-08-28T05:45:04.195943Z"
    }
   },
   "outputs": [
    {
     "name": "stdout",
     "output_type": "stream",
     "text": [
      "8 월\n",
      "28 일\n",
      "14 시\n",
      "43 분\n",
      "45 초\n"
     ]
    }
   ],
   "source": [
    "print(now.month, '월')\n",
    "print(now.day, '일')\n",
    "print(now.hour, '시')\n",
    "print(now.minute, '분')\n",
    "print(now.second, '초')"
   ]
  },
  {
   "cell_type": "code",
   "execution_count": 46,
   "id": "1792aaa5",
   "metadata": {
    "ExecuteTime": {
     "end_time": "2023-08-28T05:48:11.468481Z",
     "start_time": "2023-08-28T05:48:11.461455Z"
    }
   },
   "outputs": [
    {
     "data": {
      "text/plain": [
       "'2023.08.28 14:43:45'"
      ]
     },
     "execution_count": 46,
     "metadata": {},
     "output_type": "execute_result"
    }
   ],
   "source": [
    "# 서식을 이용하여 날짜와 시간을 표시\n",
    "## strftime('서식')\n",
    "out = now.strftime('%Y.%m.%d %H:%M:%S')\n",
    "out"
   ]
  },
  {
   "cell_type": "code",
   "execution_count": 47,
   "id": "efb136e5",
   "metadata": {
    "ExecuteTime": {
     "end_time": "2023-08-28T05:50:45.567937Z",
     "start_time": "2023-08-28T05:50:45.553871Z"
    }
   },
   "outputs": [
    {
     "name": "stdout",
     "output_type": "stream",
     "text": [
      "2023년 8월 28일 14시 43분 45초\n"
     ]
    }
   ],
   "source": [
    "string = \"{}년 {}월 {}일 {}시 {}분 {}초\".format(now.year,\\\n",
    "                                         now.month,\\\n",
    "                                         now.day,\\\n",
    "                                         now.hour,\\\n",
    "                                         now.minute,\\\n",
    "                                         now.second)\n",
    "\n",
    "print(string)"
   ]
  },
  {
   "cell_type": "code",
   "execution_count": 48,
   "id": "355c0014",
   "metadata": {
    "ExecuteTime": {
     "end_time": "2023-08-28T05:54:07.290641Z",
     "start_time": "2023-08-28T05:54:07.281678Z"
    }
   },
   "outputs": [
    {
     "name": "stdout",
     "output_type": "stream",
     "text": [
      "2023-08-28\n"
     ]
    }
   ],
   "source": [
    "from datetime import date, time, datetime, timedelta \n",
    "\n",
    "# today() : 오늘 날짜를 구하는 함수\n",
    "today = date.today()\n",
    "print(today)"
   ]
  },
  {
   "cell_type": "raw",
   "id": "3d0f33b8",
   "metadata": {
    "ExecuteTime": {
     "end_time": "2023-08-28T05:54:52.808176Z",
     "start_time": "2023-08-28T05:54:52.798206Z"
    }
   },
   "source": [
    "print(today.year)\n",
    "print(today.month)\n",
    "print(today.day)"
   ]
  },
  {
   "cell_type": "code",
   "execution_count": 50,
   "id": "da872dd7",
   "metadata": {
    "ExecuteTime": {
     "end_time": "2023-08-28T05:55:44.900592Z",
     "start_time": "2023-08-28T05:55:44.883590Z"
    }
   },
   "outputs": [
    {
     "name": "stdout",
     "output_type": "stream",
     "text": [
      "2023-08-28 14:55:44.884595\n"
     ]
    }
   ],
   "source": [
    "# 날짜와 시간을 구하는 함수\n",
    "current = datetime.today()\n",
    "print(current)"
   ]
  },
  {
   "cell_type": "markdown",
   "id": "63d28c21",
   "metadata": {},
   "source": [
    "- datetime 클래스의 주요 메서드\n",
    "1. weekday() : 요일 반환(0:월 ~ 6:일)\n",
    "2. strftime() : 문자열 반환\n",
    "3. date() : 날짜 정보만 가지고 있음, date 클래스로 반환\n",
    "4. time() : 시간 정보만, time 클래스로 반환"
   ]
  },
  {
   "cell_type": "code",
   "execution_count": 1,
   "id": "bc2b1406",
   "metadata": {
    "ExecuteTime": {
     "end_time": "2023-08-28T06:10:41.725255Z",
     "start_time": "2023-08-28T06:10:41.710395Z"
    }
   },
   "outputs": [
    {
     "data": {
      "text/plain": [
       "datetime.datetime(2023, 8, 28, 15, 10, 41, 710395)"
      ]
     },
     "execution_count": 1,
     "metadata": {},
     "output_type": "execute_result"
    }
   ],
   "source": [
    "import datetime as dt\n",
    "x = dt.datetime.now()\n",
    "x"
   ]
  },
  {
   "cell_type": "code",
   "execution_count": 2,
   "id": "d5217507",
   "metadata": {
    "ExecuteTime": {
     "end_time": "2023-08-28T06:10:56.728534Z",
     "start_time": "2023-08-28T06:10:56.720570Z"
    }
   },
   "outputs": [
    {
     "data": {
      "text/plain": [
       "0"
      ]
     },
     "execution_count": 2,
     "metadata": {},
     "output_type": "execute_result"
    }
   ],
   "source": [
    "x.weekday()"
   ]
  },
  {
   "cell_type": "markdown",
   "id": "e7a6eafb",
   "metadata": {},
   "source": [
    "## time 모듈"
   ]
  },
  {
   "cell_type": "code",
   "execution_count": 3,
   "id": "7870a38a",
   "metadata": {
    "ExecuteTime": {
     "end_time": "2023-08-28T06:12:20.126153Z",
     "start_time": "2023-08-28T06:12:20.116162Z"
    }
   },
   "outputs": [],
   "source": [
    "import time"
   ]
  },
  {
   "cell_type": "code",
   "execution_count": 5,
   "id": "2e1bb4df",
   "metadata": {
    "ExecuteTime": {
     "end_time": "2023-08-28T06:13:28.142117Z",
     "start_time": "2023-08-28T06:13:23.125103Z"
    }
   },
   "outputs": [
    {
     "name": "stdout",
     "output_type": "stream",
     "text": [
      "지금부터 5초가 정지합니다.\n",
      "작업을 종료합니다.\n"
     ]
    }
   ],
   "source": [
    "print('지금부터 5초가 정지합니다.')\n",
    "time.sleep(5)\n",
    "print('작업을 종료합니다.')"
   ]
  },
  {
   "cell_type": "code",
   "execution_count": 6,
   "id": "34f373bf",
   "metadata": {
    "ExecuteTime": {
     "end_time": "2023-08-28T06:23:31.057906Z",
     "start_time": "2023-08-28T06:23:31.049946Z"
    }
   },
   "outputs": [
    {
     "name": "stdout",
     "output_type": "stream",
     "text": [
      "2023-08-27 15:23:31.051895\n",
      "2023-08-21 15:23:31.051895\n",
      "2023-09-27 15:23:31.051895\n"
     ]
    }
   ],
   "source": [
    "from datetime import date, time, datetime, timedelta \n",
    "\n",
    "# 오늘 날짜\n",
    "today = datetime.today()\n",
    "\n",
    "# 어제날짜 추출\n",
    "days = timedelta(days=-1) \n",
    "print(today+days)\n",
    "\n",
    "# 1주일 전 \n",
    "days = timedelta(days = -7)\n",
    "print(today+days)\n",
    "\n",
    "# 30일 후\n",
    "days = timedelta(days = 30)\n",
    "print(today+days)"
   ]
  },
  {
   "cell_type": "code",
   "execution_count": 7,
   "id": "e29a1962",
   "metadata": {
    "ExecuteTime": {
     "end_time": "2023-08-28T06:24:05.528042Z",
     "start_time": "2023-08-28T06:24:05.361959Z"
    }
   },
   "outputs": [
    {
     "ename": "TypeError",
     "evalue": "unsupported operand type(s) for *: 'datetime.datetime' and 'datetime.timedelta'",
     "output_type": "error",
     "traceback": [
      "\u001b[1;31m---------------------------------------------------------------------------\u001b[0m",
      "\u001b[1;31mTypeError\u001b[0m                                 Traceback (most recent call last)",
      "\u001b[1;32m~\\AppData\\Local\\Temp/ipykernel_7680/4026690655.py\u001b[0m in \u001b[0;36m<module>\u001b[1;34m\u001b[0m\n\u001b[0;32m      1\u001b[0m \u001b[0mdays\u001b[0m \u001b[1;33m=\u001b[0m \u001b[0mtimedelta\u001b[0m\u001b[1;33m(\u001b[0m\u001b[0mdays\u001b[0m \u001b[1;33m=\u001b[0m \u001b[1;36m3\u001b[0m\u001b[1;33m)\u001b[0m\u001b[1;33m\u001b[0m\u001b[1;33m\u001b[0m\u001b[0m\n\u001b[1;32m----> 2\u001b[1;33m \u001b[0mprint\u001b[0m\u001b[1;33m(\u001b[0m\u001b[0mtoday\u001b[0m \u001b[1;33m*\u001b[0m \u001b[0mdays\u001b[0m\u001b[1;33m)\u001b[0m\u001b[1;33m\u001b[0m\u001b[1;33m\u001b[0m\u001b[0m\n\u001b[0m",
      "\u001b[1;31mTypeError\u001b[0m: unsupported operand type(s) for *: 'datetime.datetime' and 'datetime.timedelta'"
     ]
    }
   ],
   "source": [
    "days = timedelta(days = 3)\n",
    "print(today * days)"
   ]
  },
  {
   "cell_type": "code",
   "execution_count": 8,
   "id": "d8739757",
   "metadata": {
    "ExecuteTime": {
     "end_time": "2023-08-28T06:25:27.489286Z",
     "start_time": "2023-08-28T06:25:27.484317Z"
    }
   },
   "outputs": [
    {
     "name": "stdout",
     "output_type": "stream",
     "text": [
      "2023-08-14 15:23:31.051895\n"
     ]
    }
   ],
   "source": [
    "days = timedelta(days = -7)\n",
    "days *= 2   # 2주전\n",
    "print(today+days)"
   ]
  },
  {
   "cell_type": "code",
   "execution_count": 9,
   "id": "ce2931c5",
   "metadata": {
    "ExecuteTime": {
     "end_time": "2023-08-28T06:26:51.958990Z",
     "start_time": "2023-08-28T06:26:51.953980Z"
    }
   },
   "outputs": [
    {
     "name": "stdout",
     "output_type": "stream",
     "text": [
      "2023-08-28 07:23:31.051895\n"
     ]
    }
   ],
   "source": [
    "hours = timedelta(hours = -8)\n",
    "print(today+hours)"
   ]
  },
  {
   "cell_type": "code",
   "execution_count": null,
   "id": "8184a84d",
   "metadata": {},
   "outputs": [],
   "source": []
  }
 ],
 "metadata": {
  "kernelspec": {
   "display_name": "Python 3 (ipykernel)",
   "language": "python",
   "name": "python3"
  },
  "language_info": {
   "codemirror_mode": {
    "name": "ipython",
    "version": 3
   },
   "file_extension": ".py",
   "mimetype": "text/x-python",
   "name": "python",
   "nbconvert_exporter": "python",
   "pygments_lexer": "ipython3",
   "version": "3.9.7"
  },
  "toc": {
   "base_numbering": 1,
   "nav_menu": {},
   "number_sections": true,
   "sideBar": true,
   "skip_h1_title": false,
   "title_cell": "Table of Contents",
   "title_sidebar": "Contents",
   "toc_cell": false,
   "toc_position": {
    "height": "calc(100% - 180px)",
    "left": "10px",
    "top": "150px",
    "width": "256px"
   },
   "toc_section_display": true,
   "toc_window_display": true
  },
  "varInspector": {
   "cols": {
    "lenName": 16,
    "lenType": 16,
    "lenVar": 40
   },
   "kernels_config": {
    "python": {
     "delete_cmd_postfix": "",
     "delete_cmd_prefix": "del ",
     "library": "var_list.py",
     "varRefreshCmd": "print(var_dic_list())"
    },
    "r": {
     "delete_cmd_postfix": ") ",
     "delete_cmd_prefix": "rm(",
     "library": "var_list.r",
     "varRefreshCmd": "cat(var_dic_list()) "
    }
   },
   "types_to_exclude": [
    "module",
    "function",
    "builtin_function_or_method",
    "instance",
    "_Feature"
   ],
   "window_display": false
  }
 },
 "nbformat": 4,
 "nbformat_minor": 5
}
