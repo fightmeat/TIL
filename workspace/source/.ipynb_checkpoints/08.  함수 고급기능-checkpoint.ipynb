{
 "cells": [
  {
   "cell_type": "markdown",
   "id": "085d7492",
   "metadata": {},
   "source": [
    "# 함수의 종류\n",
    "- 내장 함수\n",
    "- 사용자 정의 함수"
   ]
  },
  {
   "cell_type": "markdown",
   "id": "487db37a",
   "metadata": {},
   "source": [
    "## 내장 함수\n",
    "\n",
    "https://docs.python.org/ko/3/library/functions.html"
   ]
  },
  {
   "cell_type": "code",
   "execution_count": 1,
   "id": "b6646765",
   "metadata": {
    "ExecuteTime": {
     "end_time": "2023-08-24T07:12:23.579752Z",
     "start_time": "2023-08-24T07:12:23.562790Z"
    }
   },
   "outputs": [
    {
     "name": "stdout",
     "output_type": "stream",
     "text": [
      "['__add__', '__class__', '__class_getitem__', '__contains__', '__delattr__', '__delitem__', '__dir__', '__doc__', '__eq__', '__format__', '__ge__', '__getattribute__', '__getitem__', '__gt__', '__hash__', '__iadd__', '__imul__', '__init__', '__init_subclass__', '__iter__', '__le__', '__len__', '__lt__', '__mul__', '__ne__', '__new__', '__reduce__', '__reduce_ex__', '__repr__', '__reversed__', '__rmul__', '__setattr__', '__setitem__', '__sizeof__', '__str__', '__subclasshook__', 'append', 'clear', 'copy', 'count', 'extend', 'index', 'insert', 'pop', 'remove', 'reverse', 'sort']\n"
     ]
    }
   ],
   "source": [
    "# 메모리 주소 확인 id()\n",
    "# 매직명령어 : %who\n",
    "# 객체의 멤버(변수나 함수, 메소드)\n",
    "# dir()\n",
    "print(dir([1, 2, 3]))"
   ]
  },
  {
   "cell_type": "code",
   "execution_count": 2,
   "id": "aa4d9e1d",
   "metadata": {
    "ExecuteTime": {
     "end_time": "2023-08-24T07:13:47.271713Z",
     "start_time": "2023-08-24T07:13:47.252820Z"
    }
   },
   "outputs": [
    {
     "name": "stdout",
     "output_type": "stream",
     "text": [
      "['__class__', '__class_getitem__', '__contains__', '__delattr__', '__delitem__', '__dir__', '__doc__', '__eq__', '__format__', '__ge__', '__getattribute__', '__getitem__', '__gt__', '__hash__', '__init__', '__init_subclass__', '__ior__', '__iter__', '__le__', '__len__', '__lt__', '__ne__', '__new__', '__or__', '__reduce__', '__reduce_ex__', '__repr__', '__reversed__', '__ror__', '__setattr__', '__setitem__', '__sizeof__', '__str__', '__subclasshook__', 'clear', 'copy', 'fromkeys', 'get', 'items', 'keys', 'pop', 'popitem', 'setdefault', 'update', 'values']\n"
     ]
    }
   ],
   "source": [
    "print(dir({'name':'장보고'}))"
   ]
  },
  {
   "cell_type": "code",
   "execution_count": 3,
   "id": "e477c826",
   "metadata": {
    "ExecuteTime": {
     "end_time": "2023-08-24T07:17:02.404988Z",
     "start_time": "2023-08-24T07:17:02.390015Z"
    }
   },
   "outputs": [
    {
     "name": "stdout",
     "output_type": "stream",
     "text": [
      "정수몫 : 2, 나머지 : 1\n"
     ]
    }
   ],
   "source": [
    "# 몫과 나머지 연산\n",
    "a = 7\n",
    "b = 3\n",
    "\n",
    "c = a / b   # 몫(실수)\n",
    "d = a // b  # 몫(정수)\n",
    "e = a % b  # 나머지\n",
    "\n",
    "print(\"정수몫 : {0}, 나머지 : {1}\".format(d, e))"
   ]
  },
  {
   "cell_type": "code",
   "execution_count": 4,
   "id": "81cb0f8f",
   "metadata": {
    "ExecuteTime": {
     "end_time": "2023-08-24T07:18:40.601930Z",
     "start_time": "2023-08-24T07:18:40.594950Z"
    }
   },
   "outputs": [
    {
     "name": "stdout",
     "output_type": "stream",
     "text": [
      "정수몫 : 2, 나머지 : 1\n"
     ]
    }
   ],
   "source": [
    "# divmod(수, 나눌수)\n",
    "mok, nmg = divmod(7, 3)\n",
    "print(\"정수몫 : {0}, 나머지 : {1}\".format(mok, nmg))"
   ]
  },
  {
   "cell_type": "code",
   "execution_count": 5,
   "id": "be9c0504",
   "metadata": {
    "ExecuteTime": {
     "end_time": "2023-08-24T07:19:51.992771Z",
     "start_time": "2023-08-24T07:19:51.977793Z"
    }
   },
   "outputs": [
    {
     "name": "stdout",
     "output_type": "stream",
     "text": [
      "[10, 20, 30, 40, 50]\n"
     ]
    }
   ],
   "source": [
    "# 인덱스와 값을 리턴하는 함수 : enumerate\n",
    "print([10, 20, 30, 40, 50])"
   ]
  },
  {
   "cell_type": "code",
   "execution_count": 7,
   "id": "74384af3",
   "metadata": {
    "ExecuteTime": {
     "end_time": "2023-08-24T07:21:40.541746Z",
     "start_time": "2023-08-24T07:21:40.530525Z"
    }
   },
   "outputs": [
    {
     "name": "stdout",
     "output_type": "stream",
     "text": [
      "<enumerate object at 0x000001DCA08D0080>\n"
     ]
    }
   ],
   "source": [
    "# 변수 : 값, 참조변수(주소)\n",
    "print(enumerate([10, 20, 30, 40, 50]))"
   ]
  },
  {
   "cell_type": "code",
   "execution_count": 8,
   "id": "5c34ed43",
   "metadata": {
    "ExecuteTime": {
     "end_time": "2023-08-24T07:21:43.465602Z",
     "start_time": "2023-08-24T07:21:43.462007Z"
    }
   },
   "outputs": [
    {
     "name": "stdout",
     "output_type": "stream",
     "text": [
      "[(0, 10), (1, 20), (2, 30), (3, 40), (4, 50)]\n"
     ]
    }
   ],
   "source": [
    "print(list(enumerate([10, 20, 30, 40, 50])))"
   ]
  },
  {
   "cell_type": "code",
   "execution_count": 9,
   "id": "80ad2bf2",
   "metadata": {
    "ExecuteTime": {
     "end_time": "2023-08-24T07:23:15.131783Z",
     "start_time": "2023-08-24T07:23:15.118810Z"
    }
   },
   "outputs": [
    {
     "name": "stdout",
     "output_type": "stream",
     "text": [
      "0 10\n",
      "1 20\n",
      "2 30\n",
      "3 40\n",
      "4 50\n"
     ]
    }
   ],
   "source": [
    "for idx, val in enumerate([10, 20, 30, 40, 50]):\n",
    "    print(idx, val)"
   ]
  },
  {
   "cell_type": "code",
   "execution_count": 18,
   "id": "3c388b14",
   "metadata": {
    "ExecuteTime": {
     "end_time": "2023-08-24T07:26:23.200439Z",
     "start_time": "2023-08-24T07:26:13.485860Z"
    }
   },
   "outputs": [
    {
     "name": "stdout",
     "output_type": "stream",
     "text": [
      "korea\n"
     ]
    },
    {
     "ename": "NameError",
     "evalue": "name 'korea' is not defined",
     "output_type": "error",
     "traceback": [
      "\u001b[1;31m---------------------------------------------------------------------------\u001b[0m",
      "\u001b[1;31mNameError\u001b[0m                                 Traceback (most recent call last)",
      "\u001b[1;32m~\\AppData\\Local\\Temp/ipykernel_3160/4251323609.py\u001b[0m in \u001b[0;36m<module>\u001b[1;34m\u001b[0m\n\u001b[0;32m      1\u001b[0m \u001b[1;31m# eval() : 자동형변환의 의미\u001b[0m\u001b[1;33m\u001b[0m\u001b[1;33m\u001b[0m\u001b[0m\n\u001b[1;32m----> 2\u001b[1;33m \u001b[0ma\u001b[0m \u001b[1;33m=\u001b[0m \u001b[0meval\u001b[0m\u001b[1;33m(\u001b[0m\u001b[0minput\u001b[0m\u001b[1;33m(\u001b[0m\u001b[1;33m)\u001b[0m\u001b[1;33m)\u001b[0m\u001b[1;33m\u001b[0m\u001b[1;33m\u001b[0m\u001b[0m\n\u001b[0m\u001b[0;32m      3\u001b[0m \u001b[0mprint\u001b[0m\u001b[1;33m(\u001b[0m\u001b[0ma\u001b[0m\u001b[1;33m,\u001b[0m \u001b[0mtype\u001b[0m\u001b[1;33m(\u001b[0m\u001b[0ma\u001b[0m\u001b[1;33m)\u001b[0m\u001b[1;33m)\u001b[0m\u001b[1;33m\u001b[0m\u001b[1;33m\u001b[0m\u001b[0m\n",
      "\u001b[1;32m<string>\u001b[0m in \u001b[0;36m<module>\u001b[1;34m\u001b[0m\n",
      "\u001b[1;31mNameError\u001b[0m: name 'korea' is not defined"
     ]
    }
   ],
   "source": [
    "# eval() : 자동형변환의 의미\n",
    "a = eval(input())\n",
    "print(a, type(a))"
   ]
  },
  {
   "cell_type": "code",
   "execution_count": 20,
   "id": "8918c5b9",
   "metadata": {
    "ExecuteTime": {
     "end_time": "2023-08-24T07:28:14.964933Z",
     "start_time": "2023-08-24T07:28:14.953963Z"
    }
   },
   "outputs": [
    {
     "name": "stdout",
     "output_type": "stream",
     "text": [
      "divmod(10, 3)\n",
      "(3, 1)\n"
     ]
    }
   ],
   "source": [
    "# eval - 수식을 문자열로 묶어서 입력하면 계산결과를 반환한다.\n",
    "string = \"divmod(10, 3)\"\n",
    "print(string)\n",
    "print(eval(string))"
   ]
  },
  {
   "cell_type": "code",
   "execution_count": 21,
   "id": "d4ff07e7",
   "metadata": {
    "ExecuteTime": {
     "end_time": "2023-08-24T07:31:18.898000Z",
     "start_time": "2023-08-24T07:31:18.882973Z"
    }
   },
   "outputs": [
    {
     "name": "stdout",
     "output_type": "stream",
     "text": [
      "(1, 'sugar')\n",
      "(2, 'spice')\n",
      "(3, 'everything nice')\n"
     ]
    }
   ],
   "source": [
    "# zip : 여러개의 객체를 인덱스별로 묶어서 처리할 때\n",
    "for item in zip([1, 2, 3], ['sugar', 'spice', 'everything nice']):\n",
    "    print(item)"
   ]
  },
  {
   "cell_type": "code",
   "execution_count": 22,
   "id": "a84c5d8b",
   "metadata": {
    "ExecuteTime": {
     "end_time": "2023-08-24T07:32:39.378943Z",
     "start_time": "2023-08-24T07:32:39.367945Z"
    }
   },
   "outputs": [
    {
     "name": "stdout",
     "output_type": "stream",
     "text": [
      "[1, 2, 3]\n"
     ]
    }
   ],
   "source": [
    "data = [3, 1, 2]\n",
    "# sort() : 자기 자신을 변환\n",
    "data.sort()\n",
    "print(data)"
   ]
  },
  {
   "cell_type": "code",
   "execution_count": 23,
   "id": "fa688fc4",
   "metadata": {
    "ExecuteTime": {
     "end_time": "2023-08-24T07:33:45.350537Z",
     "start_time": "2023-08-24T07:33:45.338469Z"
    }
   },
   "outputs": [
    {
     "name": "stdout",
     "output_type": "stream",
     "text": [
      "[1, 2, 3]\n",
      "[3, 1, 2]\n"
     ]
    }
   ],
   "source": [
    "items = [3, 1, 2]\n",
    "a = sorted(items)\n",
    "print(a)\n",
    "print(items)"
   ]
  },
  {
   "cell_type": "markdown",
   "id": "30dc6079",
   "metadata": {},
   "source": [
    "## 사용자 정의 함수"
   ]
  },
  {
   "cell_type": "code",
   "execution_count": 24,
   "id": "47ed3dee",
   "metadata": {
    "ExecuteTime": {
     "end_time": "2023-08-24T07:36:13.629538Z",
     "start_time": "2023-08-24T07:36:13.622577Z"
    }
   },
   "outputs": [],
   "source": [
    "# 함수 선언문 def 함수명(매개변수):\n",
    "def say():\n",
    "    a = \"안녕하세요\"\n",
    "    print(a)"
   ]
  },
  {
   "cell_type": "code",
   "execution_count": 25,
   "id": "606aa8b4",
   "metadata": {
    "ExecuteTime": {
     "end_time": "2023-08-24T07:36:18.478271Z",
     "start_time": "2023-08-24T07:36:18.474307Z"
    }
   },
   "outputs": [
    {
     "name": "stdout",
     "output_type": "stream",
     "text": [
      "안녕하세요\n"
     ]
    }
   ],
   "source": [
    "say()"
   ]
  },
  {
   "cell_type": "code",
   "execution_count": 26,
   "id": "718cdb45",
   "metadata": {
    "ExecuteTime": {
     "end_time": "2023-08-24T07:36:39.943337Z",
     "start_time": "2023-08-24T07:36:39.935268Z"
    }
   },
   "outputs": [],
   "source": [
    "def say():\n",
    "    a = \"안녕하세요\"\n",
    "    return a"
   ]
  },
  {
   "cell_type": "code",
   "execution_count": 28,
   "id": "e3a54cd5",
   "metadata": {
    "ExecuteTime": {
     "end_time": "2023-08-24T07:37:14.542351Z",
     "start_time": "2023-08-24T07:37:14.531351Z"
    }
   },
   "outputs": [
    {
     "data": {
      "text/plain": [
       "'안녕하세요'"
      ]
     },
     "execution_count": 28,
     "metadata": {},
     "output_type": "execute_result"
    }
   ],
   "source": [
    "say()"
   ]
  },
  {
   "cell_type": "code",
   "execution_count": 27,
   "id": "01b9005e",
   "metadata": {
    "ExecuteTime": {
     "end_time": "2023-08-24T07:37:03.444620Z",
     "start_time": "2023-08-24T07:37:03.435620Z"
    }
   },
   "outputs": [
    {
     "data": {
      "text/plain": [
       "'파이썬 최고'"
      ]
     },
     "execution_count": 27,
     "metadata": {},
     "output_type": "execute_result"
    }
   ],
   "source": [
    "\"파이썬 최고\""
   ]
  },
  {
   "cell_type": "code",
   "execution_count": 29,
   "id": "c82d12f8",
   "metadata": {
    "ExecuteTime": {
     "end_time": "2023-08-24T07:38:02.133798Z",
     "start_time": "2023-08-24T07:38:02.118799Z"
    }
   },
   "outputs": [
    {
     "name": "stdout",
     "output_type": "stream",
     "text": [
      "안녕하세요\n"
     ]
    }
   ],
   "source": [
    "string = say()\n",
    "print(string)"
   ]
  },
  {
   "cell_type": "code",
   "execution_count": 30,
   "id": "730d3ac1",
   "metadata": {
    "ExecuteTime": {
     "end_time": "2023-08-24T07:39:54.250574Z",
     "start_time": "2023-08-24T07:39:54.239595Z"
    }
   },
   "outputs": [],
   "source": [
    "# 매개변수가 있는 함수\n",
    "def hello(name):\n",
    "    message = \"Hello, {0}\".format(name)\n",
    "    return message"
   ]
  },
  {
   "cell_type": "code",
   "execution_count": 31,
   "id": "19d4b00a",
   "metadata": {
    "ExecuteTime": {
     "end_time": "2023-08-24T07:40:14.435448Z",
     "start_time": "2023-08-24T07:40:14.418447Z"
    }
   },
   "outputs": [
    {
     "data": {
      "text/plain": [
       "'Hello, kim'"
      ]
     },
     "execution_count": 31,
     "metadata": {},
     "output_type": "execute_result"
    }
   ],
   "source": [
    "hello('kim')"
   ]
  },
  {
   "cell_type": "code",
   "execution_count": 32,
   "id": "d73c38dd",
   "metadata": {
    "ExecuteTime": {
     "end_time": "2023-08-24T07:40:19.919995Z",
     "start_time": "2023-08-24T07:40:19.901944Z"
    }
   },
   "outputs": [
    {
     "ename": "TypeError",
     "evalue": "hello() missing 1 required positional argument: 'name'",
     "output_type": "error",
     "traceback": [
      "\u001b[1;31m---------------------------------------------------------------------------\u001b[0m",
      "\u001b[1;31mTypeError\u001b[0m                                 Traceback (most recent call last)",
      "\u001b[1;32m~\\AppData\\Local\\Temp/ipykernel_3160/2674044599.py\u001b[0m in \u001b[0;36m<module>\u001b[1;34m\u001b[0m\n\u001b[1;32m----> 1\u001b[1;33m \u001b[0mhello\u001b[0m\u001b[1;33m(\u001b[0m\u001b[1;33m)\u001b[0m\u001b[1;33m\u001b[0m\u001b[1;33m\u001b[0m\u001b[0m\n\u001b[0m",
      "\u001b[1;31mTypeError\u001b[0m: hello() missing 1 required positional argument: 'name'"
     ]
    }
   ],
   "source": [
    "hello()"
   ]
  },
  {
   "cell_type": "markdown",
   "id": "b6354be6",
   "metadata": {},
   "source": [
    "### default parameter : 초기화 파라미터\n",
    "- 매개변수에 초기화를 시켜주는 기능"
   ]
  },
  {
   "cell_type": "code",
   "execution_count": 34,
   "id": "952997cc",
   "metadata": {
    "ExecuteTime": {
     "end_time": "2023-08-24T07:44:13.545439Z",
     "start_time": "2023-08-24T07:44:13.533411Z"
    }
   },
   "outputs": [],
   "source": [
    "# None : 매개변수가 입력되지 않았을 경우 내부적으로 값이 없음을 뜻하는 상수\n",
    "def hello(name = None):\n",
    "    if name == None:\n",
    "        print(\"이름을 입력해주세요.\")\n",
    "        return\n",
    "    \n",
    "    print(\"Hello, {0}\".format(name))    "
   ]
  },
  {
   "cell_type": "code",
   "execution_count": 35,
   "id": "336f9fbe",
   "metadata": {
    "ExecuteTime": {
     "end_time": "2023-08-24T07:44:21.448172Z",
     "start_time": "2023-08-24T07:44:21.444656Z"
    }
   },
   "outputs": [
    {
     "name": "stdout",
     "output_type": "stream",
     "text": [
      "Hello, kim\n"
     ]
    }
   ],
   "source": [
    "hello('kim')"
   ]
  },
  {
   "cell_type": "code",
   "execution_count": 36,
   "id": "8ee2c20c",
   "metadata": {
    "ExecuteTime": {
     "end_time": "2023-08-24T07:44:33.094348Z",
     "start_time": "2023-08-24T07:44:33.087393Z"
    }
   },
   "outputs": [
    {
     "name": "stdout",
     "output_type": "stream",
     "text": [
      "이름을 입력해주세요.\n"
     ]
    }
   ],
   "source": [
    "hello()"
   ]
  },
  {
   "cell_type": "code",
   "execution_count": 37,
   "id": "90ab77fc",
   "metadata": {
    "ExecuteTime": {
     "end_time": "2023-08-24T07:45:25.559185Z",
     "start_time": "2023-08-24T07:45:25.549183Z"
    }
   },
   "outputs": [],
   "source": [
    "def hello(name = 'kim'):    \n",
    "    print(\"Hello, {0}\".format(name))    "
   ]
  },
  {
   "cell_type": "code",
   "execution_count": 38,
   "id": "d1a8db28",
   "metadata": {
    "ExecuteTime": {
     "end_time": "2023-08-24T07:45:32.864949Z",
     "start_time": "2023-08-24T07:45:32.861915Z"
    }
   },
   "outputs": [
    {
     "name": "stdout",
     "output_type": "stream",
     "text": [
      "Hello, park\n"
     ]
    }
   ],
   "source": [
    "hello('park')"
   ]
  },
  {
   "cell_type": "code",
   "execution_count": 39,
   "id": "ed454b8b",
   "metadata": {
    "ExecuteTime": {
     "end_time": "2023-08-24T07:45:44.767526Z",
     "start_time": "2023-08-24T07:45:44.759553Z"
    }
   },
   "outputs": [
    {
     "name": "stdout",
     "output_type": "stream",
     "text": [
      "Hello, kim\n"
     ]
    }
   ],
   "source": [
    "hello()"
   ]
  },
  {
   "cell_type": "code",
   "execution_count": 40,
   "id": "fad25000",
   "metadata": {
    "ExecuteTime": {
     "end_time": "2023-08-24T07:47:07.388382Z",
     "start_time": "2023-08-24T07:47:07.373380Z"
    }
   },
   "outputs": [],
   "source": [
    "# 세 개의 수를 더한 결과를 반환하는 함수\n",
    "def hap(a, b, c):\n",
    "    return a + b + c"
   ]
  },
  {
   "cell_type": "code",
   "execution_count": 41,
   "id": "7c6c076b",
   "metadata": {
    "ExecuteTime": {
     "end_time": "2023-08-24T07:47:43.713453Z",
     "start_time": "2023-08-24T07:47:43.708412Z"
    }
   },
   "outputs": [
    {
     "name": "stdout",
     "output_type": "stream",
     "text": [
      "6\n"
     ]
    }
   ],
   "source": [
    "a = hap(1, 2, 3)\n",
    "print(a)"
   ]
  },
  {
   "cell_type": "code",
   "execution_count": 42,
   "id": "0535ecb9",
   "metadata": {
    "ExecuteTime": {
     "end_time": "2023-08-24T07:47:54.871461Z",
     "start_time": "2023-08-24T07:47:54.859433Z"
    }
   },
   "outputs": [
    {
     "ename": "TypeError",
     "evalue": "hap() missing 1 required positional argument: 'c'",
     "output_type": "error",
     "traceback": [
      "\u001b[1;31m---------------------------------------------------------------------------\u001b[0m",
      "\u001b[1;31mTypeError\u001b[0m                                 Traceback (most recent call last)",
      "\u001b[1;32m~\\AppData\\Local\\Temp/ipykernel_3160/201948634.py\u001b[0m in \u001b[0;36m<module>\u001b[1;34m\u001b[0m\n\u001b[1;32m----> 1\u001b[1;33m \u001b[0ma\u001b[0m \u001b[1;33m=\u001b[0m \u001b[0mhap\u001b[0m\u001b[1;33m(\u001b[0m\u001b[1;36m1\u001b[0m\u001b[1;33m,\u001b[0m \u001b[1;36m2\u001b[0m\u001b[1;33m)\u001b[0m\u001b[1;33m\u001b[0m\u001b[1;33m\u001b[0m\u001b[0m\n\u001b[0m\u001b[0;32m      2\u001b[0m \u001b[0mprint\u001b[0m\u001b[1;33m(\u001b[0m\u001b[0ma\u001b[0m\u001b[1;33m)\u001b[0m\u001b[1;33m\u001b[0m\u001b[1;33m\u001b[0m\u001b[0m\n",
      "\u001b[1;31mTypeError\u001b[0m: hap() missing 1 required positional argument: 'c'"
     ]
    }
   ],
   "source": [
    "a = hap(1, 2)\n",
    "print(a)"
   ]
  },
  {
   "cell_type": "code",
   "execution_count": 43,
   "id": "44bb121b",
   "metadata": {
    "ExecuteTime": {
     "end_time": "2023-08-24T07:48:58.204276Z",
     "start_time": "2023-08-24T07:48:58.186261Z"
    }
   },
   "outputs": [],
   "source": [
    "def hap(a = 1, b = 2, c = 3):\n",
    "    return a + b + c"
   ]
  },
  {
   "cell_type": "code",
   "execution_count": 44,
   "id": "1328b0b7",
   "metadata": {
    "ExecuteTime": {
     "end_time": "2023-08-24T07:49:16.719054Z",
     "start_time": "2023-08-24T07:49:16.704098Z"
    }
   },
   "outputs": [
    {
     "name": "stdout",
     "output_type": "stream",
     "text": [
      "6\n"
     ]
    }
   ],
   "source": [
    "a = hap()\n",
    "print(a)"
   ]
  },
  {
   "cell_type": "code",
   "execution_count": 45,
   "id": "449ac850",
   "metadata": {
    "ExecuteTime": {
     "end_time": "2023-08-24T07:49:41.956002Z",
     "start_time": "2023-08-24T07:49:41.951970Z"
    }
   },
   "outputs": [
    {
     "name": "stdout",
     "output_type": "stream",
     "text": [
      "105\n"
     ]
    }
   ],
   "source": [
    "a = hap(100)\n",
    "print(a)"
   ]
  },
  {
   "cell_type": "code",
   "execution_count": 46,
   "id": "023e66e3",
   "metadata": {
    "ExecuteTime": {
     "end_time": "2023-08-24T07:50:07.413607Z",
     "start_time": "2023-08-24T07:50:07.403599Z"
    }
   },
   "outputs": [
    {
     "name": "stdout",
     "output_type": "stream",
     "text": [
      "303\n"
     ]
    }
   ],
   "source": [
    "a = hap(100, 200)\n",
    "print(a)"
   ]
  },
  {
   "cell_type": "code",
   "execution_count": 47,
   "id": "5496a2db",
   "metadata": {
    "ExecuteTime": {
     "end_time": "2023-08-24T07:50:21.694176Z",
     "start_time": "2023-08-24T07:50:21.684130Z"
    }
   },
   "outputs": [
    {
     "name": "stdout",
     "output_type": "stream",
     "text": [
      "600\n"
     ]
    }
   ],
   "source": [
    "a = hap(100, 200, 300)\n",
    "print(a)"
   ]
  },
  {
   "cell_type": "code",
   "execution_count": 50,
   "id": "064109c4",
   "metadata": {
    "ExecuteTime": {
     "end_time": "2023-08-24T07:51:25.114148Z",
     "start_time": "2023-08-24T07:51:25.097148Z"
    }
   },
   "outputs": [],
   "source": [
    "def hap(a, b = 2, c = 3):\n",
    "    return a + b + c"
   ]
  },
  {
   "cell_type": "markdown",
   "id": "22c7918c",
   "metadata": {},
   "source": [
    "### 가변길이 파라미터\n",
    "\n",
    "- 매개변수의 개수와 상관없이 동작하도록 구현한 파라미터\n",
    "- 가변길이 매개변수를 구별하기 위해 변수명 앞에 '*'를 붙인다."
   ]
  },
  {
   "cell_type": "code",
   "execution_count": 53,
   "id": "f8d22c51",
   "metadata": {
    "ExecuteTime": {
     "end_time": "2023-08-24T07:55:10.102543Z",
     "start_time": "2023-08-24T07:55:10.095555Z"
    }
   },
   "outputs": [],
   "source": [
    "def adder(a):\n",
    "    res = 0\n",
    "    for i in a:\n",
    "        res += i\n",
    "    \n",
    "    return res"
   ]
  },
  {
   "cell_type": "code",
   "execution_count": 55,
   "id": "b90d02b0",
   "metadata": {
    "ExecuteTime": {
     "end_time": "2023-08-24T07:55:26.624483Z",
     "start_time": "2023-08-24T07:55:26.614484Z"
    }
   },
   "outputs": [
    {
     "name": "stdout",
     "output_type": "stream",
     "text": [
      "tot =  55\n"
     ]
    }
   ],
   "source": [
    "x = [1, 2, 3, 4, 5, 6, 7, 8, 9, 10]\n",
    "\n",
    "tot = adder(x)\n",
    "print(\"tot = \", tot)"
   ]
  },
  {
   "cell_type": "code",
   "execution_count": 56,
   "id": "c8f01085",
   "metadata": {
    "ExecuteTime": {
     "end_time": "2023-08-24T07:56:16.193034Z",
     "start_time": "2023-08-24T07:56:16.185068Z"
    }
   },
   "outputs": [
    {
     "name": "stdout",
     "output_type": "stream",
     "text": [
      "tot =  30\n"
     ]
    }
   ],
   "source": [
    "y = (2, 4, 6, 8, 10)\n",
    "\n",
    "tot = adder(y)\n",
    "\n",
    "print(\"tot = \", tot)"
   ]
  },
  {
   "cell_type": "code",
   "execution_count": 69,
   "id": "f4eda706",
   "metadata": {
    "ExecuteTime": {
     "end_time": "2023-08-24T08:02:39.532087Z",
     "start_time": "2023-08-24T08:02:39.524087Z"
    }
   },
   "outputs": [],
   "source": [
    "def adder(*ar): # 튜플로 묶어서 넘어온다.\n",
    "    \n",
    "    print(ar, type(ar))\n",
    "    res = 0\n",
    "    \n",
    "    for i in ar:\n",
    "        res += i\n",
    "    \n",
    "    return res"
   ]
  },
  {
   "cell_type": "code",
   "execution_count": 70,
   "id": "22dee135",
   "metadata": {
    "ExecuteTime": {
     "end_time": "2023-08-24T08:02:43.319726Z",
     "start_time": "2023-08-24T08:02:43.306727Z"
    }
   },
   "outputs": [
    {
     "name": "stdout",
     "output_type": "stream",
     "text": [
      "(1, 2, 3, 4, 5) <class 'tuple'>\n",
      "tot =  15\n"
     ]
    }
   ],
   "source": [
    "tot = adder(1, 2, 3, 4, 5)\n",
    "\n",
    "print(\"tot = \", tot)"
   ]
  },
  {
   "cell_type": "code",
   "execution_count": 67,
   "id": "97f69b4b",
   "metadata": {
    "ExecuteTime": {
     "end_time": "2023-08-24T08:01:23.773215Z",
     "start_time": "2023-08-24T08:01:23.768616Z"
    }
   },
   "outputs": [
    {
     "name": "stdout",
     "output_type": "stream",
     "text": [
      "tot =  6\n"
     ]
    }
   ],
   "source": [
    "tot = adder(1, 2, 3)\n",
    "\n",
    "print(\"tot = \", tot)"
   ]
  },
  {
   "cell_type": "code",
   "execution_count": 68,
   "id": "219da961",
   "metadata": {
    "ExecuteTime": {
     "end_time": "2023-08-24T08:01:39.263176Z",
     "start_time": "2023-08-24T08:01:39.248212Z"
    }
   },
   "outputs": [
    {
     "name": "stdout",
     "output_type": "stream",
     "text": [
      "tot =  50\n"
     ]
    }
   ],
   "source": [
    "tot = adder(2, 3, 4, 5, 6, 7, 8, 9, 1, 2, 3)\n",
    "\n",
    "print(\"tot = \", tot)"
   ]
  },
  {
   "cell_type": "code",
   "execution_count": 71,
   "id": "609dcda7",
   "metadata": {
    "ExecuteTime": {
     "end_time": "2023-08-24T08:05:25.505447Z",
     "start_time": "2023-08-24T08:05:25.500345Z"
    }
   },
   "outputs": [],
   "source": [
    "def order(size, *topping):\n",
    "    print(\"\\n\" + size + \" 피자를 주문하셨습니다.\\n토핑 : \", end='')\n",
    "    for i in topping:\n",
    "        print(i + \",\", end='')"
   ]
  },
  {
   "cell_type": "code",
   "execution_count": 72,
   "id": "75b84dff",
   "metadata": {
    "ExecuteTime": {
     "end_time": "2023-08-24T08:07:39.968968Z",
     "start_time": "2023-08-24T08:07:39.962975Z"
    }
   },
   "outputs": [
    {
     "name": "stdout",
     "output_type": "stream",
     "text": [
      "\n",
      "large 피자를 주문하셨습니다.\n",
      "토핑 : 토마토,라임,파인애플,\n",
      "small 피자를 주문하셨습니다.\n",
      "토핑 : 버섯,피클,오이,땅콩,가지,\n",
      "medium 피자를 주문하셨습니다.\n",
      "토핑 : 고구마무스,파인애플,버섯,토마토,더블크리스피,체다치즈,"
     ]
    }
   ],
   "source": [
    "order('large', '토마토', '라임','파인애플')\n",
    "order('small', '버섯','피클','오이','땅콩','가지')\n",
    "order('medium', '고구마무스', '파인애플', '버섯', '토마토', '더블크리스피', '체다치즈')"
   ]
  },
  {
   "cell_type": "markdown",
   "id": "9cdf1b69",
   "metadata": {},
   "source": [
    "### 딕셔너리(사전)을 매개변수로 넘길때\n",
    "- 매개변수의 이름앞에 '**'를 붙인다."
   ]
  },
  {
   "cell_type": "code",
   "execution_count": 73,
   "id": "0b4bffe4",
   "metadata": {
    "ExecuteTime": {
     "end_time": "2023-08-24T08:24:02.323262Z",
     "start_time": "2023-08-24T08:24:02.313297Z"
    }
   },
   "outputs": [],
   "source": [
    "def func(**kwargs):\n",
    "    print(kwargs)"
   ]
  },
  {
   "cell_type": "code",
   "execution_count": 74,
   "id": "2ec77ef0",
   "metadata": {
    "ExecuteTime": {
     "end_time": "2023-08-24T08:25:07.192702Z",
     "start_time": "2023-08-24T08:25:07.176733Z"
    }
   },
   "outputs": [
    {
     "name": "stdout",
     "output_type": "stream",
     "text": [
      "{'name': 'aaa', 'age': 15, 'birth': '1992'}\n"
     ]
    }
   ],
   "source": [
    "func(name = 'aaa', age = 15, birth = '1992')"
   ]
  },
  {
   "cell_type": "code",
   "execution_count": 75,
   "id": "6ce63ca9",
   "metadata": {
    "ExecuteTime": {
     "end_time": "2023-08-24T08:25:52.699586Z",
     "start_time": "2023-08-24T08:25:52.669990Z"
    }
   },
   "outputs": [
    {
     "ename": "TypeError",
     "evalue": "func() takes 0 positional arguments but 3 were given",
     "output_type": "error",
     "traceback": [
      "\u001b[1;31m---------------------------------------------------------------------------\u001b[0m",
      "\u001b[1;31mTypeError\u001b[0m                                 Traceback (most recent call last)",
      "\u001b[1;32m~\\AppData\\Local\\Temp/ipykernel_3160/1586133980.py\u001b[0m in \u001b[0;36m<module>\u001b[1;34m\u001b[0m\n\u001b[1;32m----> 1\u001b[1;33m \u001b[0mfunc\u001b[0m\u001b[1;33m(\u001b[0m\u001b[1;34m'aaa'\u001b[0m\u001b[1;33m,\u001b[0m \u001b[1;36m15\u001b[0m\u001b[1;33m,\u001b[0m \u001b[1;34m'1988'\u001b[0m\u001b[1;33m)\u001b[0m\u001b[1;33m\u001b[0m\u001b[1;33m\u001b[0m\u001b[0m\n\u001b[0m",
      "\u001b[1;31mTypeError\u001b[0m: func() takes 0 positional arguments but 3 were given"
     ]
    }
   ],
   "source": [
    "func('aaa', 15, '1988')"
   ]
  },
  {
   "cell_type": "markdown",
   "id": "b6ec7c54",
   "metadata": {},
   "source": [
    "### 람다 함수(Lambda Function) or 람다 표현식(Lambda Expression)\n",
    "- 이름이 없는 함수(익명의 함수)\n",
    "- 매크로함수 or 인라인 함수\n",
    "- 인라인 함수 : 한줄로 구성된 함수\n",
    "- 함수가 간결하고 메모리를 절약하는 장점을 가지고 있다.\n",
    "- 형식 : lambda 매개변수 : 표현식 / lambda 입력값 : 출력값"
   ]
  },
  {
   "cell_type": "code",
   "execution_count": 76,
   "id": "afc194c4",
   "metadata": {
    "ExecuteTime": {
     "end_time": "2023-08-24T08:29:21.072152Z",
     "start_time": "2023-08-24T08:29:21.059186Z"
    }
   },
   "outputs": [],
   "source": [
    "def plus(a):\n",
    "    return a + 1"
   ]
  },
  {
   "cell_type": "code",
   "execution_count": 77,
   "id": "b90752a9",
   "metadata": {
    "ExecuteTime": {
     "end_time": "2023-08-24T08:29:35.285941Z",
     "start_time": "2023-08-24T08:29:35.281908Z"
    }
   },
   "outputs": [
    {
     "name": "stdout",
     "output_type": "stream",
     "text": [
      "6\n"
     ]
    }
   ],
   "source": [
    "print(plus(5))"
   ]
  },
  {
   "cell_type": "code",
   "execution_count": 78,
   "id": "2ffe746c",
   "metadata": {
    "ExecuteTime": {
     "end_time": "2023-08-24T08:30:28.169517Z",
     "start_time": "2023-08-24T08:30:28.162538Z"
    }
   },
   "outputs": [
    {
     "name": "stdout",
     "output_type": "stream",
     "text": [
      "8\n"
     ]
    }
   ],
   "source": [
    "plus = lambda x : x + 1\n",
    "print(plus(7))"
   ]
  },
  {
   "cell_type": "code",
   "execution_count": 79,
   "id": "21f2650e",
   "metadata": {
    "ExecuteTime": {
     "end_time": "2023-08-24T08:32:49.946136Z",
     "start_time": "2023-08-24T08:32:49.931143Z"
    }
   },
   "outputs": [],
   "source": [
    "# 짝수 판별 함수\n",
    "def is_even(x):\n",
    "    return x % 2 == 0"
   ]
  },
  {
   "cell_type": "code",
   "execution_count": 80,
   "id": "a815622e",
   "metadata": {
    "ExecuteTime": {
     "end_time": "2023-08-24T08:34:12.111024Z",
     "start_time": "2023-08-24T08:34:12.106023Z"
    }
   },
   "outputs": [
    {
     "name": "stdout",
     "output_type": "stream",
     "text": [
      "홀수\n"
     ]
    }
   ],
   "source": [
    "# if 조건식:\n",
    "## 조건식은 반드시 그 결과가 참 또는 거짓으로 판정되는 식\n",
    "if is_even(3):\n",
    "    print(\"짝수\")\n",
    "else:\n",
    "    print('홀수')"
   ]
  },
  {
   "cell_type": "code",
   "execution_count": 81,
   "id": "f51bc36c",
   "metadata": {
    "ExecuteTime": {
     "end_time": "2023-08-24T08:35:11.894848Z",
     "start_time": "2023-08-24T08:35:11.889876Z"
    }
   },
   "outputs": [
    {
     "data": {
      "text/plain": [
       "True"
      ]
     },
     "execution_count": 81,
     "metadata": {},
     "output_type": "execute_result"
    }
   ],
   "source": [
    "is_even = lambda x : x % 2 == 0\n",
    "is_even(1)\n",
    "is_even(2)"
   ]
  },
  {
   "cell_type": "code",
   "execution_count": 82,
   "id": "2d96d4cc",
   "metadata": {
    "ExecuteTime": {
     "end_time": "2023-08-24T08:36:29.149553Z",
     "start_time": "2023-08-24T08:36:29.134595Z"
    }
   },
   "outputs": [],
   "source": [
    "# map(함수, 집합객체=리스트나 튜플)\n",
    "def add(x):\n",
    "    return x + 2"
   ]
  },
  {
   "cell_type": "code",
   "execution_count": 83,
   "id": "8591425d",
   "metadata": {
    "ExecuteTime": {
     "end_time": "2023-08-24T08:37:39.905878Z",
     "start_time": "2023-08-24T08:37:39.886899Z"
    }
   },
   "outputs": [
    {
     "name": "stdout",
     "output_type": "stream",
     "text": [
      "[3, 4, 5, 6, 7]\n"
     ]
    }
   ],
   "source": [
    "res = list(map(add, [1, 2, 3, 4, 5]))\n",
    "print(res)"
   ]
  },
  {
   "cell_type": "code",
   "execution_count": 84,
   "id": "be3c8a8e",
   "metadata": {
    "ExecuteTime": {
     "end_time": "2023-08-24T08:38:37.614162Z",
     "start_time": "2023-08-24T08:38:37.608166Z"
    }
   },
   "outputs": [
    {
     "name": "stdout",
     "output_type": "stream",
     "text": [
      "[3, 4, 5, 6, 7]\n"
     ]
    }
   ],
   "source": [
    "res2 = list(map(lambda x : x + 2, [1, 2, 3, 4, 5]))\n",
    "print(res2)"
   ]
  },
  {
   "cell_type": "code",
   "execution_count": 85,
   "id": "3f9bcb28",
   "metadata": {
    "ExecuteTime": {
     "end_time": "2023-08-24T08:41:27.476785Z",
     "start_time": "2023-08-24T08:41:27.471816Z"
    }
   },
   "outputs": [
    {
     "name": "stdout",
     "output_type": "stream",
     "text": [
      "[True, False, True, False, True, False, True, False, True, False]\n"
     ]
    }
   ],
   "source": [
    "# filter(함수, 리스트나 튜플)\n",
    "# 리스트의 요소중 짝수만 추출하는 작업\n",
    "def is_even(x):\n",
    "    return x % 2 == 0\n",
    "\n",
    "result1 = list(map(is_even, range(10)))\n",
    "print(result1)"
   ]
  },
  {
   "cell_type": "code",
   "execution_count": 86,
   "id": "43a6303c",
   "metadata": {
    "ExecuteTime": {
     "end_time": "2023-08-24T08:42:04.262034Z",
     "start_time": "2023-08-24T08:42:04.247057Z"
    }
   },
   "outputs": [
    {
     "name": "stdout",
     "output_type": "stream",
     "text": [
      "[0, 2, 4, 6, 8]\n"
     ]
    }
   ],
   "source": [
    "result2 = list(filter(is_even, range(10)))\n",
    "print(result2)"
   ]
  },
  {
   "cell_type": "code",
   "execution_count": 87,
   "id": "2522f541",
   "metadata": {
    "ExecuteTime": {
     "end_time": "2023-08-24T08:43:04.702144Z",
     "start_time": "2023-08-24T08:43:04.693147Z"
    }
   },
   "outputs": [
    {
     "name": "stdout",
     "output_type": "stream",
     "text": [
      "[0, 2, 4, 6, 8]\n"
     ]
    }
   ],
   "source": [
    "result3 = list(filter(lambda x : x % 2 == 0, range(10)))\n",
    "print(result3)"
   ]
  },
  {
   "cell_type": "code",
   "execution_count": 89,
   "id": "94505329",
   "metadata": {
    "ExecuteTime": {
     "end_time": "2023-08-24T08:44:53.797536Z",
     "start_time": "2023-08-24T08:44:53.785500Z"
    }
   },
   "outputs": [
    {
     "name": "stdout",
     "output_type": "stream",
     "text": [
      "True\n"
     ]
    }
   ],
   "source": [
    "print((lambda x : x % 2 == 0)(8))"
   ]
  },
  {
   "cell_type": "code",
   "execution_count": 93,
   "id": "114e8489",
   "metadata": {
    "ExecuteTime": {
     "end_time": "2023-08-24T08:49:05.091579Z",
     "start_time": "2023-08-24T08:49:05.074539Z"
    }
   },
   "outputs": [
    {
     "name": "stdout",
     "output_type": "stream",
     "text": [
      "[1, -2, 3, -4, 5, -6, 7, -8, 9]\n"
     ]
    }
   ],
   "source": [
    "# 리스트에 입력된 값중 짝수를 음수로 변환하는 작업\n",
    "x = [1, 2, 3, 4, 5, 6, 7, 8, 9]\n",
    "y = list()\n",
    "\n",
    "def change(x):\n",
    "    for i in x:\n",
    "        if i % 2 == 0:\n",
    "            y.append(-i)\n",
    "        else:\n",
    "            y.append(i)\n",
    "    return y\n",
    "\n",
    "print(change(x))"
   ]
  },
  {
   "cell_type": "markdown",
   "id": "41782712",
   "metadata": {},
   "source": [
    "#### 리스트 내포"
   ]
  },
  {
   "cell_type": "code",
   "execution_count": null,
   "id": "8f729f84",
   "metadata": {},
   "outputs": [],
   "source": [
    "y = []"
   ]
  }
 ],
 "metadata": {
  "kernelspec": {
   "display_name": "Python 3 (ipykernel)",
   "language": "python",
   "name": "python3"
  },
  "language_info": {
   "codemirror_mode": {
    "name": "ipython",
    "version": 3
   },
   "file_extension": ".py",
   "mimetype": "text/x-python",
   "name": "python",
   "nbconvert_exporter": "python",
   "pygments_lexer": "ipython3",
   "version": "3.9.7"
  },
  "toc": {
   "base_numbering": 1,
   "nav_menu": {},
   "number_sections": true,
   "sideBar": true,
   "skip_h1_title": false,
   "title_cell": "Table of Contents",
   "title_sidebar": "Contents",
   "toc_cell": false,
   "toc_position": {
    "height": "calc(100% - 180px)",
    "left": "10px",
    "top": "150px",
    "width": "256px"
   },
   "toc_section_display": true,
   "toc_window_display": true
  },
  "varInspector": {
   "cols": {
    "lenName": 16,
    "lenType": 16,
    "lenVar": 40
   },
   "kernels_config": {
    "python": {
     "delete_cmd_postfix": "",
     "delete_cmd_prefix": "del ",
     "library": "var_list.py",
     "varRefreshCmd": "print(var_dic_list())"
    },
    "r": {
     "delete_cmd_postfix": ") ",
     "delete_cmd_prefix": "rm(",
     "library": "var_list.r",
     "varRefreshCmd": "cat(var_dic_list()) "
    }
   },
   "types_to_exclude": [
    "module",
    "function",
    "builtin_function_or_method",
    "instance",
    "_Feature"
   ],
   "window_display": false
  }
 },
 "nbformat": 4,
 "nbformat_minor": 5
}
