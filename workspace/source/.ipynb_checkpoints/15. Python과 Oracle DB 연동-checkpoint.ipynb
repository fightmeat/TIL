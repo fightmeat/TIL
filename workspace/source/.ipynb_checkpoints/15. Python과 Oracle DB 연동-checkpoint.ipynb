{
 "cells": [
  {
   "cell_type": "markdown",
   "id": "444d47ea",
   "metadata": {},
   "source": [
    "# Python과 DataBase 연동\n",
    "\n",
    "1. 해당 라이브러리 : DB 접속 드라이버, cx_Oracle, python-oracledb\n",
    "  - 설치 : Anaconda prompt 창(관리자 권한 실행) pip install 설치할 모듈명\n",
    "  - 주피터 노트북안에서 설치 : !pip install 설치할 모듈명\n",
    "  - Anaconda : pip install ~ or conda install ~\n",
    "  - pip install oracledb --upgrade 최근 버전(권장)\n",
    "  - pip install cx_Oracle --upgrade\n",
    "  \n",
    "2. 접속정보 확인\n",
    "  - 사용자 계정과 비밀번호 : scott/tiger\n",
    "  - 오라클 url : localhost:1521/xe"
   ]
  },
  {
   "cell_type": "code",
   "execution_count": 1,
   "id": "5374cab0",
   "metadata": {
    "ExecuteTime": {
     "end_time": "2023-08-29T03:11:23.776597Z",
     "start_time": "2023-08-29T03:11:23.763636Z"
    }
   },
   "outputs": [],
   "source": [
    "# 주피터 노트북에 라이브러리 설치\n",
    "#!pip install cx_Oracle --upgrade "
   ]
  },
  {
   "cell_type": "markdown",
   "id": "2fffb8ed",
   "metadata": {},
   "source": [
    "# DB 연동 작업"
   ]
  },
  {
   "cell_type": "code",
   "execution_count": 2,
   "id": "8c311b90",
   "metadata": {
    "ExecuteTime": {
     "end_time": "2023-08-29T03:13:22.831105Z",
     "start_time": "2023-08-29T03:13:22.810134Z"
    }
   },
   "outputs": [],
   "source": [
    "# 라이브러리(모듈) 연결\n",
    "import cx_Oracle as cx"
   ]
  },
  {
   "cell_type": "markdown",
   "id": "f37614b7",
   "metadata": {},
   "source": [
    "## connection : 연결 통로 구축"
   ]
  },
  {
   "cell_type": "code",
   "execution_count": 3,
   "id": "bff99c6c",
   "metadata": {
    "ExecuteTime": {
     "end_time": "2023-08-29T03:17:49.944064Z",
     "start_time": "2023-08-29T03:17:49.756080Z"
    }
   },
   "outputs": [],
   "source": [
    "# db연동 connect(\"사용자계정\", \"비밀번호\", \"url\")\n",
    "# url - localhost(127.0.0.1):1521/xe\n",
    "conn = cx.connect(\"scott\", \"1234\", \"localhost:1521/xe\")\n",
    "# conn = cx.connect(\"scott/1234@localhost:1521/xe\")"
   ]
  },
  {
   "cell_type": "markdown",
   "id": "b6d84cb9",
   "metadata": {},
   "source": [
    "## DB에 테이블 조회"
   ]
  },
  {
   "cell_type": "code",
   "execution_count": 13,
   "id": "2cb34516",
   "metadata": {
    "ExecuteTime": {
     "end_time": "2023-08-29T03:49:13.173955Z",
     "start_time": "2023-08-29T03:49:13.163138Z"
    }
   },
   "outputs": [
    {
     "name": "stdout",
     "output_type": "stream",
     "text": [
      "(1, '레몬', 1500, <cx_Oracle.LOB object at 0x000001FE160EDC90>, 'lemon.jpg')\n",
      "맛있는 레몬이 왔어요\n",
      "(2, '오렌지', 2500, <cx_Oracle.LOB object at 0x000001FE160ED510>, 'orange.jpg')\n",
      "상큼한 오렌지 있어요\n",
      "(3, '키위', 1000, <cx_Oracle.LOB object at 0x000001FE1605C480>, 'kiwi.jpg')\n",
      "먹어도 키가 안크는 키위가 있어요\n",
      "(4, '포도', 5000, <cx_Oracle.LOB object at 0x000001FE160EDC90>, 'grape.jpg')\n",
      "포도가 맛있다\n",
      "(5, '딸기', 8000, <cx_Oracle.LOB object at 0x000001FE1605CC00>, 'strawberry.jpg')\n",
      "딸기도 좋아요\n",
      "(6, '귤', 500, <cx_Oracle.LOB object at 0x000001FE1605C480>, 'tangerine.jpg')\n",
      "제주도 대신 귤\n"
     ]
    }
   ],
   "source": [
    "# cursor(커서) : 레코드 셋을 탐색하는 포인터\n",
    "## 커서 객체 생성\n",
    "cur = conn.cursor()\n",
    "\n",
    "## query(질의문)\n",
    "sql = \"select * from product\"\n",
    "\n",
    "## 커서 객체를 이용하여 sql 실행\n",
    "cur.execute(sql)\n",
    "\n",
    "for row in cur:\n",
    "    print(row)\n",
    "    # clob 자료형은 그냥읽어올 수 없다.\n",
    "    description = row[3].read()\n",
    "    print(description)"
   ]
  },
  {
   "cell_type": "markdown",
   "id": "11f729e6",
   "metadata": {},
   "source": [
    "## 전체 레코드 삭제 후 테이블에 레코드 삽입하는 작업"
   ]
  },
  {
   "cell_type": "code",
   "execution_count": 6,
   "id": "064da26e",
   "metadata": {
    "ExecuteTime": {
     "end_time": "2023-08-29T03:26:57.222062Z",
     "start_time": "2023-08-29T03:26:57.213112Z"
    }
   },
   "outputs": [],
   "source": [
    "sql = \"delete from product\"\n",
    "cur.execute(sql)\n",
    "conn.commit()"
   ]
  },
  {
   "cell_type": "code",
   "execution_count": 8,
   "id": "b4ec3cd4",
   "metadata": {
    "ExecuteTime": {
     "end_time": "2023-08-29T03:38:42.084914Z",
     "start_time": "2023-08-29T03:38:42.057727Z"
    }
   },
   "outputs": [
    {
     "name": "stdout",
     "output_type": "stream",
     "text": [
      "(1, '레몬', 1500, '맛있는 레몬이 왔어요', 'lemon.jpg')\n",
      "(2, '오렌지', 2500, '상큼한 오렌지 있어요', 'orange.jpg')\n",
      "(3, '키위', 1000, '먹어도 키가 안크는 키위가 있어요', 'kiwi.jpg')\n",
      "(4, '포도', 5000, '포도가 맛있다', 'grape.jpg')\n",
      "(5, '딸기', 8000, '딸기도 좋아요', 'strawberry.jpg')\n",
      "(6, '귤', 500, '제주도 대신 귤', 'tangerine.jpg')\n"
     ]
    }
   ],
   "source": [
    "# 파이썬에서 DB에 레코드 삽입\n",
    "items = [\n",
    "    (1, '레몬', 1500, '맛있는 레몬이 왔어요', 'lemon.jpg'),\n",
    "    (2, '오렌지', 2500, '상큼한 오렌지 있어요', 'orange.jpg'),\n",
    "    (3, '키위', 1000, '먹어도 키가 안크는 키위가 있어요', 'kiwi.jpg'),\n",
    "    (4, '포도', 5000, '포도가 맛있다', 'grape.jpg'),\n",
    "    (5, '딸기', 8000, '딸기도 좋아요', 'strawberry.jpg'),\n",
    "    (6, '귤', 500, '제주도 대신 귤', 'tangerine.jpg')\n",
    "]\n",
    "\n",
    "for row in items:\n",
    "    # : 필드인덱스(1부터)\n",
    "    sql = \"insert into product values (:1, :2, :3, :4, :5)\"\n",
    "    print(row)\n",
    "    cur.execute(sql, row)\n",
    "    \n",
    "conn.commit()"
   ]
  },
  {
   "cell_type": "code",
   "execution_count": 10,
   "id": "9692b927",
   "metadata": {
    "ExecuteTime": {
     "end_time": "2023-08-29T03:43:03.571171Z",
     "start_time": "2023-08-29T03:43:03.565200Z"
    }
   },
   "outputs": [
    {
     "name": "stdout",
     "output_type": "stream",
     "text": [
      "상품갯수 :  6\n"
     ]
    }
   ],
   "source": [
    "# 상품갯수를 추출\n",
    "sql = \"select count(*) from product\"\n",
    "cur.execute(sql)\n",
    "\n",
    "# 레코드 갯수가 1개일 경우\n",
    "count = cur.fetchone()\n",
    "print(\"상품갯수 : \", count[0])"
   ]
  },
  {
   "cell_type": "code",
   "execution_count": 11,
   "id": "0ac253e5",
   "metadata": {
    "ExecuteTime": {
     "end_time": "2023-08-29T03:44:07.229970Z",
     "start_time": "2023-08-29T03:44:07.216982Z"
    }
   },
   "outputs": [],
   "source": [
    "# 전체 레코드 삭제\n",
    "sql = \"delete from product\"\n",
    "cur.execute(sql)\n",
    "conn.commit()"
   ]
  },
  {
   "cell_type": "code",
   "execution_count": 12,
   "id": "8a39740c",
   "metadata": {
    "ExecuteTime": {
     "end_time": "2023-08-29T03:47:56.567150Z",
     "start_time": "2023-08-29T03:47:56.560078Z"
    }
   },
   "outputs": [],
   "source": [
    "# 레코드를 일괄적으로 추가하는 작업\n",
    "items = [\n",
    "    (1, '레몬', 1500, '맛있는 레몬이 왔어요', 'lemon.jpg'),\n",
    "    (2, '오렌지', 2500, '상큼한 오렌지 있어요', 'orange.jpg'),\n",
    "    (3, '키위', 1000, '먹어도 키가 안크는 키위가 있어요', 'kiwi.jpg'),\n",
    "    (4, '포도', 5000, '포도가 맛있다', 'grape.jpg'),\n",
    "    (5, '딸기', 8000, '딸기도 좋아요', 'strawberry.jpg'),\n",
    "    (6, '귤', 500, '제주도 대신 귤', 'tangerine.jpg')\n",
    "]\n",
    "\n",
    "sql = \"insert into product values(:1, :2, :3, :4, :5)\"\n",
    "# 일괄적으로 레코드를 추가할 때는 레코드의 갯수를 지정해줘야 한다.\n",
    "cur.bindarraysize = len(items)\n",
    "cur.executemany(sql, items)\n",
    "conn.commit()"
   ]
  },
  {
   "cell_type": "code",
   "execution_count": 14,
   "id": "d8b20277",
   "metadata": {
    "ExecuteTime": {
     "end_time": "2023-08-29T03:49:56.454055Z",
     "start_time": "2023-08-29T03:49:56.438034Z"
    }
   },
   "outputs": [],
   "source": [
    "cur.close()\n",
    "conn.close()"
   ]
  },
  {
   "cell_type": "code",
   "execution_count": null,
   "id": "69acfd4d",
   "metadata": {},
   "outputs": [],
   "source": []
  },
  {
   "cell_type": "code",
   "execution_count": 15,
   "id": "5af3e7fd",
   "metadata": {
    "ExecuteTime": {
     "end_time": "2023-08-29T04:42:39.140425Z",
     "start_time": "2023-08-29T04:42:39.098458Z"
    }
   },
   "outputs": [],
   "source": [
    "conn = cx.connect(\"scott\", \"1234\", \"localhost:1521/xe\")\n",
    "## 커서 객체 생성\n",
    "cur = conn.cursor()\n",
    "\n",
    "## query(질의문)\n",
    "sql = \"select * from product\""
   ]
  },
  {
   "cell_type": "markdown",
   "id": "27f5e5bf",
   "metadata": {},
   "source": [
    "## 데이터 프레임으로 불러오기"
   ]
  },
  {
   "cell_type": "code",
   "execution_count": 16,
   "id": "6fafa102",
   "metadata": {
    "ExecuteTime": {
     "end_time": "2023-08-29T04:43:12.235830Z",
     "start_time": "2023-08-29T04:43:11.142349Z"
    }
   },
   "outputs": [
    {
     "name": "stdout",
     "output_type": "stream",
     "text": [
      "   PRODUCT_ID PRODUCT_NAME  PRICE         DESCRIPTION     PICTURE_URL\n",
      "0           1           레몬   1500         맛있는 레몬이 왔어요       lemon.jpg\n",
      "1           2          오렌지   2500         상큼한 오렌지 있어요      orange.jpg\n",
      "2           3           키위   1000  먹어도 키가 안크는 키위가 있어요        kiwi.jpg\n",
      "3           4           포도   5000             포도가 맛있다       grape.jpg\n",
      "4           5           딸기   8000             딸기도 좋아요  strawberry.jpg\n",
      "5           6            귤    500            제주도 대신 귤   tangerine.jpg\n"
     ]
    }
   ],
   "source": [
    "import pandas as pd\n",
    "df = pd.read_sql(sql, con = conn)\n",
    "print(df)"
   ]
  },
  {
   "cell_type": "code",
   "execution_count": 18,
   "id": "42b3aa92",
   "metadata": {
    "ExecuteTime": {
     "end_time": "2023-08-29T04:53:50.392183Z",
     "start_time": "2023-08-29T04:53:50.376198Z"
    }
   },
   "outputs": [
    {
     "name": "stdout",
     "output_type": "stream",
     "text": [
      "   PRODUCT_ID PRODUCT_NAME  PRICE         DESCRIPTION     PICTURE_URL\n",
      "0           1           레몬   1500         맛있는 레몬이 왔어요       lemon.jpg\n",
      "1           2          오렌지   2500         상큼한 오렌지 있어요      orange.jpg\n",
      "2           3           키위   1000  먹어도 키가 안크는 키위가 있어요        kiwi.jpg\n",
      "3           4           포도   5000             포도가 맛있다       grape.jpg\n",
      "4           5           딸기   8000             딸기도 좋아요  strawberry.jpg\n",
      "5           6            귤    500            제주도 대신 귤   tangerine.jpg\n"
     ]
    }
   ],
   "source": [
    "cur.execute(sql)\n",
    "row = cur.fetchall()\n",
    "colname = cur.description  # 컬럼명 추출\n",
    "col = []\n",
    "\n",
    "for i in colname:\n",
    "    col.append(i[0])\n",
    "    \n",
    "product = pd.DataFrame(row, columns=col)\n",
    "print(product)"
   ]
  },
  {
   "cell_type": "markdown",
   "id": "ee9aa18e",
   "metadata": {},
   "source": [
    "# 회원관리 프로그램\n",
    "\n",
    "- CRUD(CREATE, SELECT, UPDATE, INSERT, DELETE) 즉, DML(조작어)\n",
    "- 테이블생성 Member(userid, userpwd, name), userid는 primary key 설정\n",
    "- 주요기능 : 회원가입(등록), 회원수정, 회원정보출력, 회원삭제등"
   ]
  },
  {
   "cell_type": "code",
   "execution_count": 5,
   "id": "865b5511",
   "metadata": {
    "ExecuteTime": {
     "end_time": "2023-08-29T05:45:04.688500Z",
     "start_time": "2023-08-29T05:45:04.595450Z"
    }
   },
   "outputs": [],
   "source": [
    "import cx_Oracle as cx\n",
    "\n",
    "conn = cx.connect(\"scott\", \"1234\", \"localhost:1521/xe\")"
   ]
  },
  {
   "cell_type": "markdown",
   "id": "04925cda",
   "metadata": {},
   "source": [
    "## member 테이블 조회"
   ]
  },
  {
   "cell_type": "code",
   "execution_count": 9,
   "id": "7b8eb686",
   "metadata": {
    "ExecuteTime": {
     "end_time": "2023-08-29T05:48:22.733546Z",
     "start_time": "2023-08-29T05:48:22.715573Z"
    }
   },
   "outputs": [
    {
     "name": "stdout",
     "output_type": "stream",
     "text": [
      "('admin', '1234', '관리자')\n",
      "('aaa', '1234', '홍길동')\n"
     ]
    }
   ],
   "source": [
    "cursor = conn.cursor()\n",
    "cursor.execute(\"select * from member\")\n",
    "\n",
    "# 모든 레코드를 Resultset 객체에 저장\n",
    "rs = cursor.fetchall() # list\n",
    "# print(type(rs))\n",
    "# print(rs)\n",
    "for member in rs:\n",
    "    print(member)"
   ]
  },
  {
   "cell_type": "code",
   "execution_count": 22,
   "id": "4976e15e",
   "metadata": {
    "ExecuteTime": {
     "end_time": "2023-08-29T05:16:41.587503Z",
     "start_time": "2023-08-29T05:16:41.575503Z"
    }
   },
   "outputs": [
    {
     "data": {
      "text/plain": [
       "('admin', 'admin', '관리자')"
      ]
     },
     "execution_count": 22,
     "metadata": {},
     "output_type": "execute_result"
    }
   ],
   "source": [
    "rs[0]"
   ]
  },
  {
   "cell_type": "code",
   "execution_count": 23,
   "id": "a47e5b7e",
   "metadata": {
    "ExecuteTime": {
     "end_time": "2023-08-29T05:17:07.921804Z",
     "start_time": "2023-08-29T05:17:07.918833Z"
    }
   },
   "outputs": [
    {
     "name": "stdout",
     "output_type": "stream",
     "text": [
      "admin\n"
     ]
    }
   ],
   "source": [
    "userid = rs[0][0]\n",
    "print(userid)"
   ]
  },
  {
   "cell_type": "markdown",
   "id": "dfe867ab",
   "metadata": {},
   "source": [
    "## 레코드 삽입"
   ]
  },
  {
   "cell_type": "code",
   "execution_count": 24,
   "id": "a8fec4cb",
   "metadata": {
    "ExecuteTime": {
     "end_time": "2023-08-29T05:25:00.201418Z",
     "start_time": "2023-08-29T05:25:00.184431Z"
    }
   },
   "outputs": [],
   "source": [
    "def insert(userid, userpass, username):\n",
    "    conn = cx.connect(\"scott\", \"1234\", \"localhost:1521/xe\")\n",
    "    sql = \"insert into member values(:1, :2, :3)\"\n",
    "    \n",
    "    cur = conn.cursor()\n",
    "    cur.execute(sql, [userid, userpass, username])\n",
    "    cur.close()\n",
    "    conn.commit()\n",
    "    conn.close()"
   ]
  },
  {
   "cell_type": "code",
   "execution_count": 25,
   "id": "5d768d52",
   "metadata": {
    "ExecuteTime": {
     "end_time": "2023-08-29T05:25:24.317830Z",
     "start_time": "2023-08-29T05:25:08.202884Z"
    }
   },
   "outputs": [
    {
     "name": "stdout",
     "output_type": "stream",
     "text": [
      "회원가입할 회원의 정보를 입력하세요.\n",
      "id = aaa\n",
      "pass = 1234\n",
      "name = 홍길동\n"
     ]
    }
   ],
   "source": [
    "print(\"회원가입할 회원의 정보를 입력하세요.\")\n",
    "userid = input('id = ')\n",
    "userpass = input('pass = ')\n",
    "username = input('name = ')\n",
    "\n",
    "insert(userid, userpass, username)"
   ]
  },
  {
   "cell_type": "markdown",
   "id": "e630959d",
   "metadata": {},
   "source": [
    "## 레코드 수정"
   ]
  },
  {
   "cell_type": "code",
   "execution_count": 2,
   "id": "df3be897",
   "metadata": {
    "ExecuteTime": {
     "end_time": "2023-08-29T05:44:45.742144Z",
     "start_time": "2023-08-29T05:44:45.737154Z"
    }
   },
   "outputs": [],
   "source": [
    "def update(userid, userpass, username):\n",
    "    conn = cx.connect(\"scott\", \"1234\", \"localhost:1521/xe\")\n",
    "    sql = \"update member set userpass=:1, username=:2 where userid=:3\"\n",
    "    \n",
    "    cur = conn.cursor()\n",
    "    cur.execute(sql, [userpass, username, userid])\n",
    "    \n",
    "    cur.close()\n",
    "    conn.commit()\n",
    "    conn.close()"
   ]
  },
  {
   "cell_type": "code",
   "execution_count": 3,
   "id": "3b2e5a47",
   "metadata": {
    "ExecuteTime": {
     "end_time": "2023-08-29T05:44:47.844175Z",
     "start_time": "2023-08-29T05:44:47.834221Z"
    }
   },
   "outputs": [],
   "source": [
    "# id_check(userid)\n",
    "def id_check(userid):\n",
    "    conn = cx.connect(\"scott\", \"1234\", \"localhost:1521/xe\")\n",
    "    sql = \"select * from member\"\n",
    "    \n",
    "    cur = conn.cursor()\n",
    "    cur.execute(sql)\n",
    "    rs = cur.fetchall()\n",
    "    \n",
    "    for row in rs:\n",
    "        if row[0] == userid:\n",
    "            return True\n",
    "        \n",
    "    return False"
   ]
  },
  {
   "cell_type": "code",
   "execution_count": 7,
   "id": "84df84dd",
   "metadata": {
    "ExecuteTime": {
     "end_time": "2023-08-29T05:45:32.629247Z",
     "start_time": "2023-08-29T05:45:19.961151Z"
    }
   },
   "outputs": [
    {
     "name": "stdout",
     "output_type": "stream",
     "text": [
      "id = aaa\n",
      "pass = aaa\n",
      "name = 장보고\n"
     ]
    }
   ],
   "source": [
    "# 키보드를 통해 회원정보를 변경하는 작업\n",
    "userid = input('id = ')\n",
    "if id_check(userid):\n",
    "    userpass = input('pass = ')\n",
    "    username = input('name = ')\n",
    "    update(userid, userpass, username)\n",
    "else:\n",
    "    print(f\"{userid} 회원정보가 존재하지 않습니다.\")"
   ]
  },
  {
   "cell_type": "markdown",
   "id": "808c03f0",
   "metadata": {},
   "source": [
    "# 최종 프로그램"
   ]
  },
  {
   "cell_type": "markdown",
   "id": "209840fb",
   "metadata": {},
   "source": [
    "## DB 연동"
   ]
  },
  {
   "cell_type": "code",
   "execution_count": 10,
   "id": "e21b0bb8",
   "metadata": {
    "ExecuteTime": {
     "end_time": "2023-08-29T05:52:46.324670Z",
     "start_time": "2023-08-29T05:52:46.282221Z"
    }
   },
   "outputs": [],
   "source": [
    "import cx_Oracle as cx\n",
    "\n",
    "conn = cx.connect(\"scott\", \"1234\", \"localhost:1521/xe\")"
   ]
  },
  {
   "cell_type": "markdown",
   "id": "250b2a7b",
   "metadata": {},
   "source": [
    "## 기능별 함수 구현"
   ]
  },
  {
   "cell_type": "code",
   "execution_count": null,
   "id": "c5f293dc",
   "metadata": {},
   "outputs": [],
   "source": []
  },
  {
   "cell_type": "markdown",
   "id": "ecad961a",
   "metadata": {},
   "source": [
    "## main processor"
   ]
  },
  {
   "cell_type": "code",
   "execution_count": null,
   "id": "0276b80b",
   "metadata": {},
   "outputs": [],
   "source": [
    "while True:\n",
    "    print(\"\\n== 회원관리 프로그램 ==\")\n",
    "    print(\"1.회원등록\")\n",
    "    print(\"2.회원수정\")\n",
    "    print(\"3.회원삭제\")\n",
    "    print(\"4.작업종료\")\n",
    "    menu = int(input('메뉴 = '))\n",
    "    \n",
    "    if menu == 1:\n",
    "        pass\n",
    "    elif menu == 2:\n",
    "        pass\n",
    "    elif menu == 3:\n",
    "        pass\n",
    "    elif menu == 4:\n",
    "        break\n",
    "    else:\n",
    "        print(\"메뉴의 선택이 올바르지 않습니다.\")\n",
    "        \n",
    "print(\"프로그램을 종료합니다.\")"
   ]
  }
 ],
 "metadata": {
  "kernelspec": {
   "display_name": "Python 3 (ipykernel)",
   "language": "python",
   "name": "python3"
  },
  "language_info": {
   "codemirror_mode": {
    "name": "ipython",
    "version": 3
   },
   "file_extension": ".py",
   "mimetype": "text/x-python",
   "name": "python",
   "nbconvert_exporter": "python",
   "pygments_lexer": "ipython3",
   "version": "3.9.7"
  },
  "toc": {
   "base_numbering": 1,
   "nav_menu": {},
   "number_sections": true,
   "sideBar": true,
   "skip_h1_title": false,
   "title_cell": "Table of Contents",
   "title_sidebar": "Contents",
   "toc_cell": false,
   "toc_position": {
    "height": "calc(100% - 180px)",
    "left": "10px",
    "top": "150px",
    "width": "256px"
   },
   "toc_section_display": true,
   "toc_window_display": true
  },
  "varInspector": {
   "cols": {
    "lenName": 16,
    "lenType": 16,
    "lenVar": 40
   },
   "kernels_config": {
    "python": {
     "delete_cmd_postfix": "",
     "delete_cmd_prefix": "del ",
     "library": "var_list.py",
     "varRefreshCmd": "print(var_dic_list())"
    },
    "r": {
     "delete_cmd_postfix": ") ",
     "delete_cmd_prefix": "rm(",
     "library": "var_list.r",
     "varRefreshCmd": "cat(var_dic_list()) "
    }
   },
   "types_to_exclude": [
    "module",
    "function",
    "builtin_function_or_method",
    "instance",
    "_Feature"
   ],
   "window_display": false
  }
 },
 "nbformat": 4,
 "nbformat_minor": 5
}
