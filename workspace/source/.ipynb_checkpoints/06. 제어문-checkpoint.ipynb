{
 "cells": [
  {
   "cell_type": "markdown",
   "id": "99819b58",
   "metadata": {},
   "source": [
    "# 파이썬 제어문\n",
    "<br>\n",
    "1. 조건문 or 선택문 or 비교/판단문 <br> \n",
    "  - 주어진 조건에 따라 실행여부를 판단하는 문장 <br> \n",
    "  - 반드시 조건식은 그 결과가 참 또는 거짓으로 판정이 되어야 한다. <br> \n",
    "  - 논리연산자와 관계연산자를 이용한다. <br> \n",
    "  \n",
    "  1) if문 : 단순 if문, 조건이 참일때만 문장을 제어할 때 사용하는 제어문<br>  \n",
    "  \n",
    "  2) elif~else문 : 다중 if문, 여러개의 조건을 이용해서 문장을 제어할 때 사용<br>  \n",
    "     \n",
    "2. 반복문<br>\n",
    "  - 주어진 조건 또는 횟수에 의해 반복처리하는 문장<br>  \n",
    "  - 동일하거나 일정한 규칙을 가지고 있는 문장<br>   \n",
    "  \n",
    "  1) for문 : 반복할 횟수가 명확할 때 사용하는 반복문<br>  \n",
    "  \n",
    "  2) while문 : 사용자에 의해 반복을 제어할 때 사용하는 반복문<br>  "
   ]
  },
  {
   "cell_type": "markdown",
   "id": "9b8cdf61",
   "metadata": {},
   "source": [
    "## 조건문 or 비교판단문 or 선택문"
   ]
  },
  {
   "cell_type": "markdown",
   "id": "603095ee",
   "metadata": {},
   "source": [
    "### 단순 if문\n",
    "\n",
    "if 조건식:  \n",
    "&nbsp;&nbsp;   조건이 참일 때 실행할 문장"
   ]
  },
  {
   "cell_type": "code",
   "execution_count": 2,
   "id": "ef55cf08",
   "metadata": {
    "ExecuteTime": {
     "end_time": "2023-08-23T02:38:24.853986Z",
     "start_time": "2023-08-23T02:38:14.822103Z"
    }
   },
   "outputs": [
    {
     "name": "stdout",
     "output_type": "stream",
     "text": [
      "좋아하는 색상?blue\n",
      "me too\n",
      "The end!\n"
     ]
    }
   ],
   "source": [
    "color = input('좋아하는 색상?')\n",
    "\n",
    "if color == 'blue':\n",
    "    print('me too')\n",
    "    \n",
    "print('The end!')"
   ]
  },
  {
   "cell_type": "markdown",
   "id": "db29ad50",
   "metadata": {},
   "source": [
    "### if ~ else문 \n",
    "\n",
    "if 조건식:  \n",
    "&nbsp;&nbsp; 주어진 조건식이 참일때 실행할 문장  \n",
    "else:  \n",
    "&nbsp;&nbsp; 주어진 조건식이 거짓일때 실행할 문장  "
   ]
  },
  {
   "cell_type": "code",
   "execution_count": 6,
   "id": "a5788485",
   "metadata": {
    "ExecuteTime": {
     "end_time": "2023-08-23T02:47:33.355570Z",
     "start_time": "2023-08-23T02:47:29.563791Z"
    }
   },
   "outputs": [
    {
     "name": "stdout",
     "output_type": "stream",
     "text": [
      "숫자 = 12\n",
      "even\n",
      "The end\n"
     ]
    }
   ],
   "source": [
    "# 하나의 숫자를 입력받아 짝수인지 홀수인지 판정하여 출력하는 프로그램\n",
    "\n",
    "## 입력문\n",
    "num = int(input('숫자 = '))\n",
    "\n",
    "## 처리문\n",
    "\n",
    "## 출력문\n",
    "if num % 2 == 0:\n",
    "    print('even')\n",
    "else:\n",
    "    print('odd')\n",
    "\n",
    "print('The end')"
   ]
  },
  {
   "cell_type": "markdown",
   "id": "6f5b42c5",
   "metadata": {},
   "source": [
    "### 다중 if 문 : elif ~ else문\n",
    "\n",
    "if 조건식1:  \n",
    "&nbsp;&nbsp; 조건식1이 참일 때 실행할 문장  \n",
    "elif 조건식2:  \n",
    "&nbsp;&nbsp; 조건식2가 참일 때 실행할 문장  \n",
    "else:  \n",
    "&nbsp;&nbsp; 주어진 모든 조건식이 거짓일 때 실행할 문장"
   ]
  },
  {
   "cell_type": "code",
   "execution_count": 9,
   "id": "35143522",
   "metadata": {
    "ExecuteTime": {
     "end_time": "2023-08-23T02:55:46.662991Z",
     "start_time": "2023-08-23T02:55:44.574613Z"
    }
   },
   "outputs": [
    {
     "name": "stdout",
     "output_type": "stream",
     "text": [
      "숫자 = 0\n",
      "zero\n"
     ]
    }
   ],
   "source": [
    "# 숫자를 입력받아 음수인지 양수인지 판정하는 프로그램을 구현하시오.\n",
    "\n",
    "num = int(input('숫자 = '))\n",
    "\n",
    "if num > 0:\n",
    "    print('positive')\n",
    "elif num == 0:\n",
    "    print('zero')\n",
    "else: #  < 0 \n",
    "    print('negative')"
   ]
  },
  {
   "cell_type": "markdown",
   "id": "2108865b",
   "metadata": {},
   "source": [
    "### 성적처리 프로그램 2단계\n",
    "\n",
    "- 처리조건\n",
    "  1. 국어, 영어, 수학점수를 입력받아 처리한다.\n",
    "  2. 총점과 평균 그리고 학점을 계산하여 출력한다.\n",
    "  3. 학점은 평균이 90점 이상이면 'A학점', 80점 이상이면 'B학점', 70점 이상이면 'C학점'..."
   ]
  },
  {
   "cell_type": "code",
   "execution_count": 11,
   "id": "b41c0d51",
   "metadata": {
    "ExecuteTime": {
     "end_time": "2023-08-23T03:12:27.423407Z",
     "start_time": "2023-08-23T03:12:19.400064Z"
    }
   },
   "outputs": [
    {
     "name": "stdout",
     "output_type": "stream",
     "text": [
      "국어 = 55\n",
      "영어 = 34\n",
      "수학 = 27\n",
      "총점 : 116점, 평균 : 38.67, 학점 : F학점\n"
     ]
    }
   ],
   "source": [
    "# kor, eng, math = map(int, input().split())\n",
    "## 입력문\n",
    "kor = int(input('국어 = '))\n",
    "eng = int(input('영어 = '))\n",
    "math = int(input('수학 = '))\n",
    "\n",
    "## 처리문\n",
    "tot = kor + eng + math\n",
    "avg = tot / 3\n",
    "\n",
    "if avg >= 90:\n",
    "    grade = 'A'\n",
    "elif avg >= 80:\n",
    "    grade = 'B'\n",
    "elif avg >= 70:\n",
    "    grade = 'C'\n",
    "elif avg >= 60:\n",
    "    grade = 'D'\n",
    "else:\n",
    "    grade = 'F'\n",
    "\n",
    "## 출력문\n",
    "print(f'총점 : {tot}점, 평균 : {avg:.2f}, 학점 : {grade}학점')"
   ]
  },
  {
   "cell_type": "markdown",
   "id": "3dad7e83",
   "metadata": {},
   "source": [
    "### 세 개의 정수를 입력받아 가장 큰수와 작은 수를 출력하는 프로그램\n",
    "\n",
    "- 세 개의 정수를 입력받는다.\n",
    "- 입력받은 숫자중 큰수와 작은수를 판정하여 출력한다\n",
    "- 함수사용 불가\n",
    "- 출력형식에 맞게 구현할 것  \n",
    "  가장큰수 >= 중간수 >= 작은수"
   ]
  },
  {
   "cell_type": "code",
   "execution_count": 15,
   "id": "a432ebbc",
   "metadata": {
    "ExecuteTime": {
     "end_time": "2023-08-23T03:43:04.527244Z",
     "start_time": "2023-08-23T03:42:58.535813Z"
    }
   },
   "outputs": [
    {
     "name": "stdout",
     "output_type": "stream",
     "text": [
      "2 9 5\n",
      "9 >= 5 >= 2\n"
     ]
    }
   ],
   "source": [
    "# 입력문\n",
    "first, second, third = map(int, input().split())\n",
    "\n",
    "# 처리문\n",
    "## first라는 변수에 가장 큰 수가 들어오지 않는 경우 또는 first가 가장 큰 수가 되는 경우\n",
    "if second >= first and second >= third:\n",
    "    first, second = second, first\n",
    "elif third >= first and third >= second:\n",
    "    first, third = third, first\n",
    "    \n",
    "## 두번째와 세번째숫자 비교\n",
    "if third >= second:\n",
    "    second, third = third, second\n",
    "\n",
    "# 출력문\n",
    "print(f'{first} >= {second} >= {third}')"
   ]
  },
  {
   "cell_type": "markdown",
   "id": "26682696",
   "metadata": {},
   "source": [
    "### 계산기 프로그램\n",
    "\n",
    "- 두 개의 숫자와 하나의 연산자를 입력받아 계산을 수행한 후 결과를 출력하는 프로그램\n",
    "- 주어진 입력 및 출력 형식에 맞게 프로그램을 구현할 것.\n",
    "- 입력형식  \n",
    "  첫번째수 =  \n",
    "  연산자(+, -, *, /) =  \n",
    "  두번째수 =  \n",
    "\n",
    "- 예시  \n",
    "  첫번째수 = 10  \n",
    "  연산자(+, -, *, /) = /  \n",
    "  두번째수 = 2  \n",
    "  \n",
    "  10 / 2 = 5"
   ]
  },
  {
   "cell_type": "code",
   "execution_count": 17,
   "id": "87f85c82",
   "metadata": {
    "ExecuteTime": {
     "end_time": "2023-08-23T03:47:11.278227Z",
     "start_time": "2023-08-23T03:47:06.293440Z"
    }
   },
   "outputs": [
    {
     "name": "stdout",
     "output_type": "stream",
     "text": [
      "첫번째수 = 3\n",
      "연산자(+, -, *, /) = *\n",
      "두번째수 = 9\n",
      "3 * 9 = 27\n"
     ]
    }
   ],
   "source": [
    "# 입력문\n",
    "first = int(input('첫번째수 = '))\n",
    "op = input('연산자(+, -, *, /) = ')\n",
    "second = int(input('두번째수 = '))\n",
    "\n",
    "# 처리문\n",
    "## 문자열 \"\", 문자''\n",
    "if op == \"+\":\n",
    "    result = first + second\n",
    "elif op == \"-\":\n",
    "    result = first - second\n",
    "elif op == \"*\":\n",
    "    result = first * second\n",
    "else:\n",
    "    result = first / second\n",
    "\n",
    "# 출력문\n",
    "print(f'{first} {op} {second} = {result}')"
   ]
  },
  {
   "cell_type": "code",
   "execution_count": 18,
   "id": "254b21a1",
   "metadata": {
    "ExecuteTime": {
     "end_time": "2023-08-23T03:48:46.112371Z",
     "start_time": "2023-08-23T03:48:38.182974Z"
    }
   },
   "outputs": [
    {
     "name": "stdout",
     "output_type": "stream",
     "text": [
      "식으로 입력하세요10 + 3 \n",
      "['10', '+', '3']\n"
     ]
    }
   ],
   "source": [
    "string = input('식으로 입력하세요').split()\n",
    "\n",
    "# 첫번째수 : string[0]\n",
    "# 연산자 : string[1]\n",
    "# 두번째수 : string[2]\n",
    "\n",
    "if string[1] == '+':\n",
    "    print(string[0] + \" \" + string[1] + \" = \" + (int(string[0]) + int(string[2])))\n",
    "    \n",
    "print(string)"
   ]
  },
  {
   "cell_type": "code",
   "execution_count": 22,
   "id": "875c5d38",
   "metadata": {
    "ExecuteTime": {
     "end_time": "2023-08-23T03:53:55.535522Z",
     "start_time": "2023-08-23T03:53:55.520148Z"
    }
   },
   "outputs": [
    {
     "data": {
      "text/plain": [
       "43"
      ]
     },
     "execution_count": 22,
     "metadata": {},
     "output_type": "execute_result"
    }
   ],
   "source": [
    "ord('+')"
   ]
  },
  {
   "cell_type": "code",
   "execution_count": 24,
   "id": "9c3d6f4d",
   "metadata": {
    "ExecuteTime": {
     "end_time": "2023-08-23T03:54:08.142413Z",
     "start_time": "2023-08-23T03:54:08.131411Z"
    }
   },
   "outputs": [
    {
     "data": {
      "text/plain": [
       "65"
      ]
     },
     "execution_count": 24,
     "metadata": {},
     "output_type": "execute_result"
    }
   ],
   "source": [
    "ord('A')"
   ]
  },
  {
   "cell_type": "markdown",
   "id": "8aaa5546",
   "metadata": {},
   "source": [
    "## 반복문\n",
    "\n",
    "- 동일한 문장\n",
    "- 유사한 문장(동일한 행위를 하되 일정한 규칙을 가지고 있는 문장)"
   ]
  },
  {
   "cell_type": "markdown",
   "id": "14f7a26e",
   "metadata": {},
   "source": [
    "### for 문\n",
    "\n",
    "for 개별변수 in 집합변수:  \n",
    "&nbsp;&nbsp; 반복수행할 문장"
   ]
  },
  {
   "cell_type": "code",
   "execution_count": 25,
   "id": "e15c0b26",
   "metadata": {
    "ExecuteTime": {
     "end_time": "2023-08-23T05:06:17.811620Z",
     "start_time": "2023-08-23T05:06:17.804658Z"
    }
   },
   "outputs": [
    {
     "name": "stdout",
     "output_type": "stream",
     "text": [
      "hi\n"
     ]
    }
   ],
   "source": [
    "# 동일한 문장\n",
    "print('hi')"
   ]
  },
  {
   "cell_type": "code",
   "execution_count": 31,
   "id": "8891429b",
   "metadata": {
    "ExecuteTime": {
     "end_time": "2023-08-23T05:11:27.699548Z",
     "start_time": "2023-08-23T05:11:27.683533Z"
    }
   },
   "outputs": [
    {
     "name": "stdout",
     "output_type": "stream",
     "text": [
      "hi\n",
      "hi\n",
      "hi\n",
      "hi\n",
      "hi\n",
      "--------------------------------------------------\n",
      "hi\n",
      "hi\n",
      "hi\n",
      "hi\n",
      "hi\n"
     ]
    }
   ],
   "source": [
    "print('hi')\n",
    "print('hi')\n",
    "print('hi')\n",
    "print('hi')\n",
    "print('hi')\n",
    "print(\"-\" * 50)\n",
    "range(5) # 0, 1, 2, 3, 4\n",
    "# for 개별변수 in 집합변수(컨테이너객체):\n",
    "for i in range(5):\n",
    "    print('hi')"
   ]
  },
  {
   "cell_type": "code",
   "execution_count": 32,
   "id": "86675bdb",
   "metadata": {
    "ExecuteTime": {
     "end_time": "2023-08-23T05:12:51.187086Z",
     "start_time": "2023-08-23T05:12:51.176063Z"
    }
   },
   "outputs": [
    {
     "name": "stdout",
     "output_type": "stream",
     "text": [
      "hi\n",
      "hi\n",
      "hi\n",
      "hi\n",
      "hi\n",
      "hi\n",
      "hi\n",
      "hi\n",
      "hi\n",
      "hi\n",
      "==================================================\n",
      "hi\n",
      "hi\n",
      "hi\n",
      "hi\n",
      "hi\n",
      "hi\n",
      "hi\n",
      "hi\n",
      "hi\n",
      "hi\n"
     ]
    }
   ],
   "source": [
    "print('hi')\n",
    "print('hi')\n",
    "print('hi')\n",
    "print('hi')\n",
    "print('hi')\n",
    "print('hi')\n",
    "print('hi')\n",
    "print('hi')\n",
    "print('hi')\n",
    "print('hi')\n",
    "print(\"=\" * 50)\n",
    "for i in range(10):\n",
    "    print('hi')"
   ]
  },
  {
   "cell_type": "code",
   "execution_count": 33,
   "id": "5af0d988",
   "metadata": {
    "ExecuteTime": {
     "end_time": "2023-08-23T05:14:01.872341Z",
     "start_time": "2023-08-23T05:14:01.857085Z"
    }
   },
   "outputs": [
    {
     "name": "stdout",
     "output_type": "stream",
     "text": [
      "hi\n",
      "hi\n",
      "hi\n",
      "hi\n",
      "hi\n",
      "hi\n",
      "hi\n",
      "hi\n",
      "hi\n",
      "hi\n"
     ]
    }
   ],
   "source": [
    "for _ in range(10):\n",
    "    print('hi')"
   ]
  },
  {
   "cell_type": "code",
   "execution_count": 35,
   "id": "50e281ce",
   "metadata": {
    "ExecuteTime": {
     "end_time": "2023-08-23T05:15:12.031150Z",
     "start_time": "2023-08-23T05:15:12.022112Z"
    }
   },
   "outputs": [
    {
     "name": "stdout",
     "output_type": "stream",
     "text": [
      "1\n",
      "2\n",
      "3\n",
      "4\n",
      "5\n"
     ]
    }
   ],
   "source": [
    "print(1)\n",
    "print(2)\n",
    "print(3)\n",
    "print(4)\n",
    "print(5)"
   ]
  },
  {
   "cell_type": "code",
   "execution_count": 37,
   "id": "3c861aa6",
   "metadata": {
    "ExecuteTime": {
     "end_time": "2023-08-23T05:16:57.880458Z",
     "start_time": "2023-08-23T05:16:57.870493Z"
    }
   },
   "outputs": [
    {
     "name": "stdout",
     "output_type": "stream",
     "text": [
      "1\n",
      "2\n",
      "3\n",
      "4\n",
      "5\n"
     ]
    }
   ],
   "source": [
    "for i in range(1, 6):\n",
    "    print(i)"
   ]
  },
  {
   "cell_type": "code",
   "execution_count": 38,
   "id": "e3c22229",
   "metadata": {
    "ExecuteTime": {
     "end_time": "2023-08-23T05:17:30.506054Z",
     "start_time": "2023-08-23T05:17:30.502052Z"
    }
   },
   "outputs": [
    {
     "name": "stdout",
     "output_type": "stream",
     "text": [
      "1\n",
      "2\n",
      "3\n",
      "4\n",
      "5\n",
      "6\n",
      "7\n",
      "8\n",
      "9\n",
      "10\n"
     ]
    }
   ],
   "source": [
    "for _ in range(1, 11):\n",
    "    print(_)"
   ]
  },
  {
   "cell_type": "markdown",
   "id": "ef007ca2",
   "metadata": {},
   "source": [
    "### while문\n",
    "\n",
    "while 조건식:  \n",
    "&nbsp;&nbsp; 반복수행할 문장"
   ]
  },
  {
   "cell_type": "code",
   "execution_count": 39,
   "id": "a083cc06",
   "metadata": {
    "ExecuteTime": {
     "end_time": "2023-08-23T05:23:00.529867Z",
     "start_time": "2023-08-23T05:23:00.514911Z"
    }
   },
   "outputs": [
    {
     "name": "stdout",
     "output_type": "stream",
     "text": [
      "Hi\n",
      "Hi\n",
      "Hi\n",
      "Hi\n",
      "Hi\n"
     ]
    }
   ],
   "source": [
    "i = 0\n",
    "while i < 5:\n",
    "    print('Hi')\n",
    "    i += 1  # i = i + 1"
   ]
  },
  {
   "cell_type": "code",
   "execution_count": 40,
   "id": "2cca0752",
   "metadata": {
    "ExecuteTime": {
     "end_time": "2023-08-23T05:25:06.081676Z",
     "start_time": "2023-08-23T05:25:06.068641Z"
    }
   },
   "outputs": [
    {
     "name": "stdout",
     "output_type": "stream",
     "text": [
      "1\n",
      "2\n",
      "3\n",
      "4\n",
      "5\n"
     ]
    }
   ],
   "source": [
    "i = 0\n",
    "while i < 5:\n",
    "    i += 1  # i = i + 1\n",
    "    print(i)\n",
    "   "
   ]
  },
  {
   "cell_type": "code",
   "execution_count": 41,
   "id": "faf46493",
   "metadata": {
    "ExecuteTime": {
     "end_time": "2023-08-23T05:27:17.136706Z",
     "start_time": "2023-08-23T05:27:17.117698Z"
    }
   },
   "outputs": [
    {
     "name": "stdout",
     "output_type": "stream",
     "text": [
      "1\n",
      "2\n",
      "3\n",
      "4\n",
      "5\n"
     ]
    }
   ],
   "source": [
    "i = 0\n",
    "while True: # 무한Loop\n",
    "    i += 1  # i = i + 1\n",
    "    print(i)\n",
    "    if i == 5: break"
   ]
  },
  {
   "cell_type": "code",
   "execution_count": 42,
   "id": "c9884ebf",
   "metadata": {
    "ExecuteTime": {
     "end_time": "2023-08-23T05:30:38.016932Z",
     "start_time": "2023-08-23T05:30:17.835732Z"
    }
   },
   "outputs": [
    {
     "name": "stdout",
     "output_type": "stream",
     "text": [
      "종료(q) = k\n",
      "k\n",
      "종료(q) = a\n",
      "a\n",
      "종료(q) = Q\n",
      "Q\n",
      "종료(q) = q\n"
     ]
    }
   ],
   "source": [
    "# 알파벳을 입력받아 출력하는 작업을 수행한다. 단, 입력받은 알파벳이 q이면 반복을 종료한다.\n",
    "\n",
    "while True:\n",
    "    ch = input('종료(q) = ')\n",
    "    if ch == 'q': break\n",
    "    print(ch)"
   ]
  },
  {
   "cell_type": "markdown",
   "id": "fbae7ef0",
   "metadata": {},
   "source": [
    "### 1부터 10까지의 자연수의 합을 계산하여 출력하는 프로그램을 구현하시오."
   ]
  },
  {
   "cell_type": "code",
   "execution_count": 46,
   "id": "9afa07b1",
   "metadata": {
    "ExecuteTime": {
     "end_time": "2023-08-23T05:36:10.268287Z",
     "start_time": "2023-08-23T05:36:10.249554Z"
    }
   },
   "outputs": [
    {
     "name": "stdout",
     "output_type": "stream",
     "text": [
      "tot =  55\n"
     ]
    }
   ],
   "source": [
    "# 1 + 2 + 3 + 4 + 5 + 6 + 7 + 8 + 9 + 10 =\n",
    "tot = 0  # 누적변수는 초기화를 수행한다.\n",
    "\n",
    "for i in range(1, 11):\n",
    "    tot += i\n",
    "print(\"tot = \", tot)\n"
   ]
  },
  {
   "cell_type": "code",
   "execution_count": 48,
   "id": "a21702d5",
   "metadata": {
    "ExecuteTime": {
     "end_time": "2023-08-23T05:39:13.610429Z",
     "start_time": "2023-08-23T05:39:13.597430Z"
    }
   },
   "outputs": [
    {
     "name": "stdout",
     "output_type": "stream",
     "text": [
      "tot =  55\n"
     ]
    }
   ],
   "source": [
    "tot = 0\n",
    "i = 0\n",
    "while i < 10:\n",
    "    i += 1\n",
    "    tot += i\n",
    "    \n",
    "print(\"tot = \", tot)"
   ]
  },
  {
   "cell_type": "markdown",
   "id": "789afcdf",
   "metadata": {},
   "source": [
    "### 단을 입력받아 해당 단의 구구단을 출력하는 프로그램을 구현하시오."
   ]
  },
  {
   "cell_type": "code",
   "execution_count": 49,
   "id": "5e8bf5e4",
   "metadata": {
    "ExecuteTime": {
     "end_time": "2023-08-23T05:52:08.581691Z",
     "start_time": "2023-08-23T05:52:06.223367Z"
    }
   },
   "outputs": [
    {
     "name": "stdout",
     "output_type": "stream",
     "text": [
      "단 = 7\n",
      "7 x 1 = 7\n",
      "7 x 2 = 14\n",
      "7 x 3 = 21\n",
      "7 x 4 = 28\n",
      "7 x 5 = 35\n",
      "7 x 6 = 42\n",
      "7 x 7 = 49\n",
      "7 x 8 = 56\n",
      "7 x 9 = 63\n"
     ]
    }
   ],
   "source": [
    "# 입력문\n",
    "dan = int(input('단 = '))\n",
    "\n",
    "# 처리문 & 출력문\n",
    "for i in range(1, 10):\n",
    "    print('{0} x {1} = {2}'.format(dan, i, dan*i))\n"
   ]
  },
  {
   "cell_type": "code",
   "execution_count": 50,
   "id": "09f674ca",
   "metadata": {
    "ExecuteTime": {
     "end_time": "2023-08-23T05:54:41.490001Z",
     "start_time": "2023-08-23T05:54:27.444786Z"
    }
   },
   "outputs": [
    {
     "name": "stdout",
     "output_type": "stream",
     "text": [
      "(종료:0)단 = 8\n",
      "8 x 1 = 8\n",
      "8 x 2 = 16\n",
      "8 x 3 = 24\n",
      "8 x 4 = 32\n",
      "8 x 5 = 40\n",
      "8 x 6 = 48\n",
      "8 x 7 = 56\n",
      "8 x 8 = 64\n",
      "8 x 9 = 72\n",
      "(종료:0)단 = 6\n",
      "6 x 1 = 6\n",
      "6 x 2 = 12\n",
      "6 x 3 = 18\n",
      "6 x 4 = 24\n",
      "6 x 5 = 30\n",
      "6 x 6 = 36\n",
      "6 x 7 = 42\n",
      "6 x 8 = 48\n",
      "6 x 9 = 54\n",
      "(종료:0)단 = 5\n",
      "5 x 1 = 5\n",
      "5 x 2 = 10\n",
      "5 x 3 = 15\n",
      "5 x 4 = 20\n",
      "5 x 5 = 25\n",
      "5 x 6 = 30\n",
      "5 x 7 = 35\n",
      "5 x 8 = 40\n",
      "5 x 9 = 45\n",
      "(종료:0)단 = 0\n"
     ]
    }
   ],
   "source": [
    "while True:\n",
    "    # 입력문\n",
    "    dan = int(input('(종료:0)단 = '))\n",
    "    \n",
    "    if dan == 0: break\n",
    "        \n",
    "    # 처리문 & 출력문\n",
    "    for i in range(1, 10):\n",
    "        print('{0} x {1} = {2}'.format(dan, i, dan*i))\n"
   ]
  },
  {
   "cell_type": "markdown",
   "id": "0e4334fe",
   "metadata": {},
   "source": [
    "### 구구단을 출력하는 프로그램을 구현하시오.\n",
    "\n",
    "for 개별변수1 in 집합변수1:  \n",
    "&nbsp;&nbsp;&nbsp;&nbsp; 반복문장1  \n",
    "&nbsp;&nbsp;&nbsp;&nbsp; for 개별변수2 in 집합변수2:  \n",
    "&nbsp;&nbsp;&nbsp;&nbsp;&nbsp;&nbsp;&nbsp;&nbsp; 반복문장2  "
   ]
  },
  {
   "cell_type": "code",
   "execution_count": 52,
   "id": "176a6f23",
   "metadata": {
    "ExecuteTime": {
     "end_time": "2023-08-23T06:02:08.232268Z",
     "start_time": "2023-08-23T06:02:08.219297Z"
    }
   },
   "outputs": [
    {
     "name": "stdout",
     "output_type": "stream",
     "text": [
      "==2단==\n",
      "2 x 1 = 2\n",
      "2 x 2 = 4\n",
      "2 x 3 = 6\n",
      "2 x 4 = 8\n",
      "2 x 5 = 10\n",
      "2 x 6 = 12\n",
      "2 x 7 = 14\n",
      "2 x 8 = 16\n",
      "2 x 9 = 18\n",
      "\n",
      "==3단==\n",
      "3 x 1 = 3\n",
      "3 x 2 = 6\n",
      "3 x 3 = 9\n",
      "3 x 4 = 12\n",
      "3 x 5 = 15\n",
      "3 x 6 = 18\n",
      "3 x 7 = 21\n",
      "3 x 8 = 24\n",
      "3 x 9 = 27\n",
      "\n",
      "==4단==\n",
      "4 x 1 = 4\n",
      "4 x 2 = 8\n",
      "4 x 3 = 12\n",
      "4 x 4 = 16\n",
      "4 x 5 = 20\n",
      "4 x 6 = 24\n",
      "4 x 7 = 28\n",
      "4 x 8 = 32\n",
      "4 x 9 = 36\n",
      "\n",
      "==5단==\n",
      "5 x 1 = 5\n",
      "5 x 2 = 10\n",
      "5 x 3 = 15\n",
      "5 x 4 = 20\n",
      "5 x 5 = 25\n",
      "5 x 6 = 30\n",
      "5 x 7 = 35\n",
      "5 x 8 = 40\n",
      "5 x 9 = 45\n",
      "\n",
      "==6단==\n",
      "6 x 1 = 6\n",
      "6 x 2 = 12\n",
      "6 x 3 = 18\n",
      "6 x 4 = 24\n",
      "6 x 5 = 30\n",
      "6 x 6 = 36\n",
      "6 x 7 = 42\n",
      "6 x 8 = 48\n",
      "6 x 9 = 54\n",
      "\n",
      "==7단==\n",
      "7 x 1 = 7\n",
      "7 x 2 = 14\n",
      "7 x 3 = 21\n",
      "7 x 4 = 28\n",
      "7 x 5 = 35\n",
      "7 x 6 = 42\n",
      "7 x 7 = 49\n",
      "7 x 8 = 56\n",
      "7 x 9 = 63\n",
      "\n",
      "==8단==\n",
      "8 x 1 = 8\n",
      "8 x 2 = 16\n",
      "8 x 3 = 24\n",
      "8 x 4 = 32\n",
      "8 x 5 = 40\n",
      "8 x 6 = 48\n",
      "8 x 7 = 56\n",
      "8 x 8 = 64\n",
      "8 x 9 = 72\n",
      "\n",
      "==9단==\n",
      "9 x 1 = 9\n",
      "9 x 2 = 18\n",
      "9 x 3 = 27\n",
      "9 x 4 = 36\n",
      "9 x 5 = 45\n",
      "9 x 6 = 54\n",
      "9 x 7 = 63\n",
      "9 x 8 = 72\n",
      "9 x 9 = 81\n",
      "\n"
     ]
    }
   ],
   "source": [
    "for dan in range(2, 10):\n",
    "    print(\"=={0}단==\".format(dan))  # 8\n",
    "    \n",
    "    for i in range(1, 10):\n",
    "        print('{0} x {1} = {2}'.format(dan, i, dan*i)) # 8 * 9\n",
    "        \n",
    "    print() # 개행의 의미"
   ]
  },
  {
   "cell_type": "markdown",
   "id": "89738fc5",
   "metadata": {},
   "source": [
    "### 멀티 프로그램을 구현하시오.\n",
    "\n",
    "1. 처리조건\n",
    "  - 주어진 입출력형식에 맞게 프로그램을 구현하시오.  \n",
    "  - 사용자에 의해 처리할 작업을 선택할 수 있도록 구현하시오.  \n",
    "  - 사용자가 원하면 언제든지 프로그램을 종료할 수 있도록 구현하시오.  \n",
    "  - 기타 조건은 주어진 입출력 형식에 맞게 구현하시오.  \n",
    "<br>  \n",
    "<br> \n",
    "2. 입력형식\n",
    "<pre>\n",
    "  == 멀티프로그램 ==\n",
    "  1. 수나열\n",
    "  2. 계산기 프로그램\n",
    "  3. 작업종료\n",
    "  ================\n",
    "  선택 =\n",
    "</pre>  \n",
    "<br>\n",
    "<br>\n",
    "3. 기능설명\n",
    "  - 수나열은 세개의 정수를 입력받아 큰 순서대로 출력하는 프로그램\n",
    "  - 계산기는 두개의 정수와 하나의 연산자를 입력받아 계산결과를 출력하는 프로그램\n",
    "  - 작업종료를 선택하지 않으면 프로그램을 무한루프로 동작되도록 구현"
   ]
  },
  {
   "cell_type": "code",
   "execution_count": 54,
   "id": "fe960601",
   "metadata": {
    "ExecuteTime": {
     "end_time": "2023-08-23T06:15:52.149473Z",
     "start_time": "2023-08-23T06:15:39.949012Z"
    }
   },
   "outputs": [
    {
     "name": "stdout",
     "output_type": "stream",
     "text": [
      "\n",
      "== 멀티 프로그램 ==\n",
      "1. 수나열 \n",
      "2. 계산기 \n",
      "3. 작업종료 \n",
      "=================\n",
      "선택 = 5\n",
      "선택이 올바르지 않습니다.\n",
      "\n",
      "== 멀티 프로그램 ==\n",
      "1. 수나열 \n",
      "2. 계산기 \n",
      "3. 작업종료 \n",
      "=================\n",
      "선택 = 3\n",
      "프로그램을 종료합니다.\n"
     ]
    }
   ],
   "source": [
    "while True:\n",
    "    print()\n",
    "    # 메뉴출력\n",
    "    print(\"== 멀티 프로그램 ==\")\n",
    "    print(\"1. 수나열 \")\n",
    "    print(\"2. 계산기 \")\n",
    "    print(\"3. 작업종료 \")\n",
    "    print(\"=================\")\n",
    "    # print(\"선택 = \")\n",
    "    ch = int(input('선택 = '))\n",
    "    \n",
    "    # 선택에 따른 로직구현\n",
    "    if ch == 1:\n",
    "        pass\n",
    "    elif ch == 2:\n",
    "        pass\n",
    "    elif ch == 3:\n",
    "        break\n",
    "    else:\n",
    "        print(\"선택이 올바르지 않습니다.\")\n",
    "        \n",
    "print(\"프로그램을 종료합니다.\")"
   ]
  },
  {
   "cell_type": "markdown",
   "id": "55b95509",
   "metadata": {},
   "source": [
    "## 리스트, 튜플, 문자열 등 iterable한 객체 이용한 제어문 처리"
   ]
  },
  {
   "cell_type": "code",
   "execution_count": 55,
   "id": "f737dc88",
   "metadata": {
    "ExecuteTime": {
     "end_time": "2023-08-23T06:19:07.040843Z",
     "start_time": "2023-08-23T06:19:07.030861Z"
    }
   },
   "outputs": [
    {
     "name": "stdout",
     "output_type": "stream",
     "text": [
      "[2, 1, 5, 3, 4]\n"
     ]
    }
   ],
   "source": [
    "a = [2, 1, 5, 3, 4]\n",
    "print(a)"
   ]
  },
  {
   "cell_type": "code",
   "execution_count": 56,
   "id": "ac466ab4",
   "metadata": {
    "ExecuteTime": {
     "end_time": "2023-08-23T06:19:58.175819Z",
     "start_time": "2023-08-23T06:19:58.160497Z"
    }
   },
   "outputs": [
    {
     "name": "stdout",
     "output_type": "stream",
     "text": [
      "2\n",
      "1\n",
      "5\n",
      "3\n",
      "4\n"
     ]
    }
   ],
   "source": [
    "print(a[0])\n",
    "print(a[1])\n",
    "print(a[2])\n",
    "print(a[3])\n",
    "print(a[4])"
   ]
  },
  {
   "cell_type": "code",
   "execution_count": 57,
   "id": "c017091a",
   "metadata": {
    "ExecuteTime": {
     "end_time": "2023-08-23T06:21:25.073991Z",
     "start_time": "2023-08-23T06:21:25.056086Z"
    }
   },
   "outputs": [
    {
     "name": "stdout",
     "output_type": "stream",
     "text": [
      "2\n",
      "1\n",
      "5\n",
      "3\n",
      "4\n"
     ]
    }
   ],
   "source": [
    "# for 개별변수 in 집합변수(컨테이너 객체)\n",
    "for i in a:\n",
    "    print(i)"
   ]
  },
  {
   "cell_type": "code",
   "execution_count": 62,
   "id": "5f006e6e",
   "metadata": {
    "ExecuteTime": {
     "end_time": "2023-08-23T06:25:00.635189Z",
     "start_time": "2023-08-23T06:25:00.615159Z"
    }
   },
   "outputs": [
    {
     "name": "stdout",
     "output_type": "stream",
     "text": [
      "2 1 5 3 4 "
     ]
    }
   ],
   "source": [
    "for i in range(5):\n",
    "    print(a[i], end = ' ')"
   ]
  },
  {
   "cell_type": "code",
   "execution_count": 58,
   "id": "776c3c9f",
   "metadata": {
    "ExecuteTime": {
     "end_time": "2023-08-23T06:22:16.895256Z",
     "start_time": "2023-08-23T06:22:16.888291Z"
    }
   },
   "outputs": [
    {
     "name": "stdout",
     "output_type": "stream",
     "text": [
      "('John', 'Minsu', 'Gildong', 'Chris')\n"
     ]
    }
   ],
   "source": [
    "students = ('John', 'Minsu', 'Gildong', 'Chris')\n",
    "print(students)"
   ]
  },
  {
   "cell_type": "code",
   "execution_count": 59,
   "id": "5dbeb95e",
   "metadata": {
    "ExecuteTime": {
     "end_time": "2023-08-23T06:23:01.150840Z",
     "start_time": "2023-08-23T06:23:01.140832Z"
    }
   },
   "outputs": [
    {
     "name": "stdout",
     "output_type": "stream",
     "text": [
      "John\n",
      "Minsu\n",
      "Gildong\n",
      "Chris\n"
     ]
    }
   ],
   "source": [
    "for name in students:\n",
    "    print(name)"
   ]
  },
  {
   "cell_type": "code",
   "execution_count": 60,
   "id": "2ec5f07c",
   "metadata": {
    "ExecuteTime": {
     "end_time": "2023-08-23T06:23:44.768529Z",
     "start_time": "2023-08-23T06:23:44.761532Z"
    }
   },
   "outputs": [
    {
     "name": "stdout",
     "output_type": "stream",
     "text": [
      "P\n",
      "y\n",
      "t\n",
      "h\n",
      "o\n",
      "n\n"
     ]
    }
   ],
   "source": [
    "for k in \"Python\":\n",
    "    print(k)"
   ]
  },
  {
   "cell_type": "markdown",
   "id": "9af3c0fc",
   "metadata": {},
   "source": [
    "## 리스트 내포(List comprehension)\n",
    "\n",
    "- 파이썬에서는 for문과 if문등 한 줄로 코드를 작성하여 직관적이고 실행속도를 높여주는 기능\n",
    "- 결과를 다시 리스트에 담아야 하는 상황에 해당 명령을 리스트에 포함시키는 코드 방식\n",
    "- 기본형식  \n",
    "  리스트명 = [표현식 for 개별변수 in 집합변수]"
   ]
  },
  {
   "cell_type": "code",
   "execution_count": 63,
   "id": "18f34103",
   "metadata": {
    "ExecuteTime": {
     "end_time": "2023-08-23T06:30:36.543029Z",
     "start_time": "2023-08-23T06:30:36.529060Z"
    }
   },
   "outputs": [
    {
     "name": "stdout",
     "output_type": "stream",
     "text": [
      "[2, 4, 6]\n"
     ]
    }
   ],
   "source": [
    "a = [1, 2, 3]\n",
    "b = []\n",
    "\n",
    "for i in a:\n",
    "    b.append(i * 2)\n",
    "    \n",
    "print(b)"
   ]
  },
  {
   "cell_type": "code",
   "execution_count": 64,
   "id": "afb1eded",
   "metadata": {
    "ExecuteTime": {
     "end_time": "2023-08-23T06:31:47.549282Z",
     "start_time": "2023-08-23T06:31:47.532302Z"
    }
   },
   "outputs": [
    {
     "name": "stdout",
     "output_type": "stream",
     "text": [
      "[2, 4, 6]\n"
     ]
    }
   ],
   "source": [
    "a = [1, 2, 3] \n",
    "b = [i*2 for i in a]\n",
    "print(b)"
   ]
  },
  {
   "cell_type": "markdown",
   "id": "2a9229fa",
   "metadata": {},
   "source": [
    "리스트명 = [표현식 for 개별변수 in 집합변수 if 조건문]"
   ]
  },
  {
   "cell_type": "code",
   "execution_count": 65,
   "id": "b6719ab3",
   "metadata": {
    "ExecuteTime": {
     "end_time": "2023-08-23T06:36:33.046334Z",
     "start_time": "2023-08-23T06:36:33.036342Z"
    }
   },
   "outputs": [
    {
     "name": "stdout",
     "output_type": "stream",
     "text": [
      "[300, 700, 900]\n"
     ]
    }
   ],
   "source": [
    "a = [3, 7, 9, 10]\n",
    "b = list()\n",
    "# 주어진 리스트의 요소의 값이 홀수인만 100을 \n",
    "\n",
    "for i in a:\n",
    "    if i % 2 != 0:\n",
    "        b.append(i * 100)\n",
    "        \n",
    "print(b)"
   ]
  },
  {
   "cell_type": "code",
   "execution_count": 66,
   "id": "da6670f4",
   "metadata": {
    "ExecuteTime": {
     "end_time": "2023-08-23T06:37:42.662930Z",
     "start_time": "2023-08-23T06:37:42.650924Z"
    }
   },
   "outputs": [
    {
     "name": "stdout",
     "output_type": "stream",
     "text": [
      "[300, 700, 900]\n"
     ]
    }
   ],
   "source": [
    "a = [3, 7, 9, 10]\n",
    "b = [i * 100 for i in a if i%2 != 0]\n",
    "print(b)"
   ]
  },
  {
   "cell_type": "markdown",
   "id": "4ecc0da5",
   "metadata": {},
   "source": [
    "## 기타 제어문\n",
    "\n",
    "- break문 : 해당 블록에서 벗어나라\n",
    "- continue문 : 이하 생략"
   ]
  },
  {
   "cell_type": "code",
   "execution_count": 69,
   "id": "cf26f268",
   "metadata": {
    "ExecuteTime": {
     "end_time": "2023-08-23T06:40:52.035709Z",
     "start_time": "2023-08-23T06:40:52.023751Z"
    }
   },
   "outputs": [
    {
     "name": "stdout",
     "output_type": "stream",
     "text": [
      "1 2 3 4 5 6 7 8 9 10 11 12 13 14 15 16 17 18 19 20 21 22 23 24 25 26 27 28 29 30 31 32 33 34 35 36 37 38 39 40 41 42 43 44 45 46 47 48 49 50 51 52 53 54 55 56 57 58 59 60 61 62 63 64 65 66 67 68 69 70 71 72 73 74 75 76 77 78 79 80 81 82 83 84 85 86 87 88 89 90 91 92 93 94 95 96 97 98 99 100 "
     ]
    }
   ],
   "source": [
    "# 1부터 100 사이의 자연수를 출력하는 프로그램\n",
    "for i in range(1, 101):\n",
    "    print(i, end=' ')"
   ]
  },
  {
   "cell_type": "code",
   "execution_count": 71,
   "id": "66ed6f57",
   "metadata": {
    "ExecuteTime": {
     "end_time": "2023-08-23T06:45:37.924237Z",
     "start_time": "2023-08-23T06:45:37.903281Z"
    }
   },
   "outputs": [
    {
     "name": "stdout",
     "output_type": "stream",
     "text": [
      "1 2 3 4 5 6 7 8 9 10 \n",
      "11 12 13 14 15 16 17 18 19 20 \n",
      "21 22 23 24 25 26 27 28 29 30 \n",
      "31 32 33 34 35 36 37 38 39 40 \n",
      "41 42 43 44 45 46 47 48 49 50 \n",
      "51 52 53 54 55 56 57 58 59 60 \n",
      "61 62 63 64 65 66 67 68 69 70 \n",
      "71 72 73 74 75 76 77 78 79 80 \n",
      "81 82 83 84 85 86 87 88 89 90 \n",
      "91 92 93 94 95 96 97 98 99 100 \n"
     ]
    }
   ],
   "source": [
    "# 1줄에 10개씩만 출력\n",
    "for i in range(1, 101):\n",
    "    print(i, end=' ')\n",
    "    if i % 10 == 0:\n",
    "        print() # 개행(줄바꿈)\n",
    "    "
   ]
  },
  {
   "cell_type": "code",
   "execution_count": 72,
   "id": "f53c4070",
   "metadata": {
    "ExecuteTime": {
     "end_time": "2023-08-23T06:47:34.203083Z",
     "start_time": "2023-08-23T06:47:34.196157Z"
    }
   },
   "outputs": [
    {
     "name": "stdout",
     "output_type": "stream",
     "text": [
      "1 3 5 7 9 11 13 15 17 19 21 23 25 27 29 31 33 35 37 39 41 43 45 47 49 51 53 55 57 59 61 63 65 67 69 71 73 75 77 79 81 83 85 87 89 91 93 95 97 99 "
     ]
    }
   ],
   "source": [
    "# 1부터 100사이의 자연수중 홀수만 추출하시오. 단 한줄에 5개씩 추출하시오.\n",
    "for i in range(1, 101):\n",
    "    if i % 2 == 0: \n",
    "        continue\n",
    "    print(i, end=' ')"
   ]
  },
  {
   "cell_type": "code",
   "execution_count": 77,
   "id": "551182f2",
   "metadata": {
    "ExecuteTime": {
     "end_time": "2023-08-23T07:17:41.204107Z",
     "start_time": "2023-08-23T07:17:41.190106Z"
    }
   },
   "outputs": [
    {
     "name": "stdout",
     "output_type": "stream",
     "text": [
      "1 3 5 7 9 \n",
      "11 13 15 17 19 \n",
      "21 23 25 27 29 \n",
      "31 33 35 37 39 \n",
      "41 43 45 47 49 \n",
      "51 53 55 57 59 \n",
      "61 63 65 67 69 \n",
      "71 73 75 77 79 \n",
      "81 83 85 87 89 \n",
      "91 93 95 97 99 \n"
     ]
    }
   ],
   "source": [
    "# 홀수의 갯수를 누적하기 위한 변수\n",
    "cnt = 0\n",
    "for i in range(1, 101):\n",
    "    if i % 2 == 0:  # 입력받은 i 짝수인경우\n",
    "        continue # 이하생략\n",
    "    else: # 홀수인경우\n",
    "        cnt += 1 # 홀수의 개수를 누적\n",
    "        print(i, end=' ')\n",
    "        if cnt % 5 == 0:\n",
    "            print()              "
   ]
  },
  {
   "cell_type": "markdown",
   "id": "8bd1baaa",
   "metadata": {},
   "source": [
    "# 자료구조와 제어문"
   ]
  },
  {
   "cell_type": "code",
   "execution_count": 78,
   "id": "b03b032f",
   "metadata": {
    "ExecuteTime": {
     "end_time": "2023-08-23T07:20:52.600793Z",
     "start_time": "2023-08-23T07:20:52.592766Z"
    }
   },
   "outputs": [
    {
     "name": "stdout",
     "output_type": "stream",
     "text": [
      "[(1, 2), (3, 4), (5, 6), (7, 8), (9, 10)]\n"
     ]
    }
   ],
   "source": [
    "a = [(1, 2),(3, 4),(5, 6),(7, 8),(9, 10)]\n",
    "print(a)"
   ]
  },
  {
   "cell_type": "code",
   "execution_count": 79,
   "id": "307777ce",
   "metadata": {
    "ExecuteTime": {
     "end_time": "2023-08-23T07:21:32.077983Z",
     "start_time": "2023-08-23T07:21:32.073020Z"
    },
    "scrolled": true
   },
   "outputs": [
    {
     "name": "stdout",
     "output_type": "stream",
     "text": [
      "(1, 2)\n",
      "(3, 4)\n",
      "(5, 6)\n",
      "(7, 8)\n",
      "(9, 10)\n"
     ]
    }
   ],
   "source": [
    "for i in a:\n",
    "    print(i)"
   ]
  },
  {
   "cell_type": "code",
   "execution_count": 80,
   "id": "08412fc3",
   "metadata": {
    "ExecuteTime": {
     "end_time": "2023-08-23T07:22:20.708258Z",
     "start_time": "2023-08-23T07:22:20.701258Z"
    }
   },
   "outputs": [
    {
     "name": "stdout",
     "output_type": "stream",
     "text": [
      "1 2\n",
      "3 4\n",
      "5 6\n",
      "7 8\n",
      "9 10\n"
     ]
    }
   ],
   "source": [
    "for i in a:\n",
    "    print(i[0], i[1])"
   ]
  },
  {
   "cell_type": "code",
   "execution_count": 81,
   "id": "01d62846",
   "metadata": {
    "ExecuteTime": {
     "end_time": "2023-08-23T07:22:49.952264Z",
     "start_time": "2023-08-23T07:22:49.938303Z"
    }
   },
   "outputs": [
    {
     "name": "stdout",
     "output_type": "stream",
     "text": [
      "3\n",
      "7\n",
      "11\n",
      "15\n",
      "19\n"
     ]
    }
   ],
   "source": [
    "for i in a:\n",
    "    print(i[0]+i[1])"
   ]
  },
  {
   "cell_type": "code",
   "execution_count": 82,
   "id": "caeab7ed",
   "metadata": {
    "ExecuteTime": {
     "end_time": "2023-08-23T07:24:16.197128Z",
     "start_time": "2023-08-23T07:24:16.187150Z"
    }
   },
   "outputs": [
    {
     "name": "stdout",
     "output_type": "stream",
     "text": [
      "1 + 2 = 3\n",
      "3 + 4 = 7\n",
      "5 + 6 = 11\n",
      "7 + 8 = 15\n",
      "9 + 10 = 19\n"
     ]
    }
   ],
   "source": [
    "for (first, second) in a:\n",
    "    print(\"{0} + {1} = {2}\".format(first, second, first+second))"
   ]
  },
  {
   "cell_type": "markdown",
   "id": "675608d7",
   "metadata": {},
   "source": [
    "## 년도를 입력받아 평년인지 윤년인지 판단하여 출력하는 프로그램\n",
    "\n",
    "- 입력받은 년도가 0이면 작업을 종료할 것\n",
    "- 윤년은 4년마다 돌아오는데 100으로 나누어 떨어지는 연도는 평년, 하지만 400으로 나누얼 떨어지면 윤년"
   ]
  },
  {
   "cell_type": "code",
   "execution_count": 84,
   "id": "f9a28600",
   "metadata": {
    "ExecuteTime": {
     "end_time": "2023-08-23T07:34:24.989248Z",
     "start_time": "2023-08-23T07:34:04.525025Z"
    }
   },
   "outputs": [
    {
     "name": "stdout",
     "output_type": "stream",
     "text": [
      "년도를 입력하세요(종료:0) = 2023\n",
      "2023년도는 평년입니다.\n",
      "년도를 입력하세요(종료:0) = 2022\n",
      "2022년도는 평년입니다.\n",
      "년도를 입력하세요(종료:0) = 2024\n",
      "2024년도는 윤년입니다.\n",
      "년도를 입력하세요(종료:0) = 0\n",
      "프로그램을 종료합니다.\n"
     ]
    }
   ],
   "source": [
    "while True:\n",
    "    year = int(input('년도를 입력하세요(종료:0) = '))\n",
    "    \n",
    "    if year == 0:\n",
    "        print(\"프로그램을 종료합니다.\")\n",
    "        break\n",
    "    elif year % 4 == 0 and year % 100 != 0 or year % 400 == 0:\n",
    "        print(\"{0}년도는 윤년입니다.\".format(year))\n",
    "    else:\n",
    "        print(\"{0}년도는 평년입니다.\".format(year))"
   ]
  },
  {
   "cell_type": "markdown",
   "id": "57cc6873",
   "metadata": {},
   "source": [
    "## 1부터 100사이의 수중  소수에 해당하는 숫자를 출력하는 프로그램\n",
    "\n",
    "- 처리조건 : 한 줄에 10개씩 출력되도록 구현할 것\n",
    "- 소수(Prime) : 1과 자기자신으로만 나누어 떨어지는 수"
   ]
  },
  {
   "cell_type": "code",
   "execution_count": 86,
   "id": "a98ae382",
   "metadata": {
    "ExecuteTime": {
     "end_time": "2023-08-23T07:50:52.060938Z",
     "start_time": "2023-08-23T07:50:39.978150Z"
    }
   },
   "outputs": [
    {
     "name": "stdout",
     "output_type": "stream",
     "text": [
      "수 = 9\n",
      "소수가아니다\n"
     ]
    }
   ],
   "source": [
    "num = int(input('수 = ')) # 7\n",
    "\n",
    "ck = 0\n",
    "\n",
    "for i in range(1, num+1):  # 1 ~ 7\n",
    "    if num % i == 0: \n",
    "        ck += 1\n",
    "\n",
    "if ck == 2:\n",
    "    print('소수이다')\n",
    "else:\n",
    "    print('소수가아니다')"
   ]
  },
  {
   "cell_type": "code",
   "execution_count": 87,
   "id": "60f90c17",
   "metadata": {
    "ExecuteTime": {
     "end_time": "2023-08-23T07:54:05.892638Z",
     "start_time": "2023-08-23T07:54:05.885632Z"
    }
   },
   "outputs": [
    {
     "name": "stdout",
     "output_type": "stream",
     "text": [
      "2 3 5 7 11 13 17 19 23 29 31 37 41 43 47 53 59 61 67 71 73 79 83 89 97 "
     ]
    }
   ],
   "source": [
    "for i in range(1, 101):\n",
    "    check = 0 # 나누어어지는 수의 개수를 누적할 변수\n",
    "    \n",
    "    for j in range(1, i+1):\n",
    "        if i % j == 0:\n",
    "            check += 1;\n",
    "            \n",
    "    if check == 2:\n",
    "        print(i, end = ' ')"
   ]
  },
  {
   "cell_type": "code",
   "execution_count": null,
   "id": "12ecaf51",
   "metadata": {},
   "outputs": [],
   "source": []
  }
 ],
 "metadata": {
  "kernelspec": {
   "display_name": "Python 3 (ipykernel)",
   "language": "python",
   "name": "python3"
  },
  "language_info": {
   "codemirror_mode": {
    "name": "ipython",
    "version": 3
   },
   "file_extension": ".py",
   "mimetype": "text/x-python",
   "name": "python",
   "nbconvert_exporter": "python",
   "pygments_lexer": "ipython3",
   "version": "3.9.7"
  },
  "toc": {
   "base_numbering": 1,
   "nav_menu": {},
   "number_sections": true,
   "sideBar": true,
   "skip_h1_title": false,
   "title_cell": "Table of Contents",
   "title_sidebar": "Contents",
   "toc_cell": false,
   "toc_position": {
    "height": "calc(100% - 180px)",
    "left": "10px",
    "top": "150px",
    "width": "256px"
   },
   "toc_section_display": true,
   "toc_window_display": true
  },
  "varInspector": {
   "cols": {
    "lenName": 16,
    "lenType": 16,
    "lenVar": 40
   },
   "kernels_config": {
    "python": {
     "delete_cmd_postfix": "",
     "delete_cmd_prefix": "del ",
     "library": "var_list.py",
     "varRefreshCmd": "print(var_dic_list())"
    },
    "r": {
     "delete_cmd_postfix": ") ",
     "delete_cmd_prefix": "rm(",
     "library": "var_list.r",
     "varRefreshCmd": "cat(var_dic_list()) "
    }
   },
   "types_to_exclude": [
    "module",
    "function",
    "builtin_function_or_method",
    "instance",
    "_Feature"
   ],
   "window_display": false
  }
 },
 "nbformat": 4,
 "nbformat_minor": 5
}
