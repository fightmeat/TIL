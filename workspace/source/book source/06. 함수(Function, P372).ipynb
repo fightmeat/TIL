{
 "cells": [
  {
   "cell_type": "markdown",
   "id": "425ad2e9",
   "metadata": {},
   "source": [
    "# 함수(Function)\n",
    "- 반복적인 코드를 생산하지 않는다.\n",
    "- 코드를 간결하게 작성한다.\n",
    "- 기능이나 역할에 따라 함수를 구현한다.\n",
    "- 유지보수가 쉽다\n",
    "- 반복문의 확장형\n",
    "- def 함수이름(입력매개변수):\n",
    "- 호출 : 이름, 매개변수를 담아서\n",
    "- return\n",
    "- return 값 or 수식"
   ]
  },
  {
   "cell_type": "code",
   "execution_count": null,
   "id": "ec376391",
   "metadata": {
    "ExecuteTime": {
     "end_time": "2023-08-31T07:13:43.014254Z",
     "start_time": "2023-08-31T07:13:42.998573Z"
    }
   },
   "outputs": [],
   "source": [
    "def hello():\n",
    "    print(\"hello\")\n",
    "    \n",
    "hello()"
   ]
  },
  {
   "cell_type": "code",
   "execution_count": null,
   "id": "39c1f668",
   "metadata": {
    "ExecuteTime": {
     "end_time": "2023-08-31T07:14:35.434140Z",
     "start_time": "2023-08-31T07:14:35.428115Z"
    }
   },
   "outputs": [],
   "source": [
    "def hi():\n",
    "    hello()"
   ]
  },
  {
   "cell_type": "code",
   "execution_count": null,
   "id": "3d37569d",
   "metadata": {
    "ExecuteTime": {
     "end_time": "2023-08-31T07:14:59.196284Z",
     "start_time": "2023-08-31T07:14:59.184281Z"
    }
   },
   "outputs": [],
   "source": [
    "hi()"
   ]
  },
  {
   "cell_type": "code",
   "execution_count": null,
   "id": "9d39cf75",
   "metadata": {
    "ExecuteTime": {
     "end_time": "2023-08-31T07:18:23.698141Z",
     "start_time": "2023-08-31T07:18:23.679153Z"
    }
   },
   "outputs": [],
   "source": [
    "def greeting(name):\n",
    "    message = name + \" 님 안녕하세요.\"\n",
    "    return message\n",
    "\n",
    "print(greeting('장보고'))\n",
    "\n",
    "a = greeting('홍길동')\n",
    "print(a)"
   ]
  },
  {
   "cell_type": "code",
   "execution_count": 6,
   "id": "5d961a0b",
   "metadata": {
    "ExecuteTime": {
     "end_time": "2023-08-31T07:40:43.667117Z",
     "start_time": "2023-08-31T07:40:35.655540Z"
    }
   },
   "outputs": [
    {
     "name": "stdout",
     "output_type": "stream",
     "text": [
      "\n",
      "계산기 프로그램\n",
      "\n",
      "첫번째수 = 10\n",
      "연산자(+, -, *, /) = /\n",
      "두번째수 = 2\n",
      "10 / 2 = 5.0\n"
     ]
    }
   ],
   "source": [
    "print(\"\\n계산기 프로그램\\n\")\n",
    "num1 = eval(input('첫번째수 = '))\n",
    "\n",
    "# 주어진 연산자(+, -, *, /)만 입력받는다.\n",
    "sw = True\n",
    "while sw:\n",
    "    op = input('연산자(+, -, *, /) = ')\n",
    "    if op == \"+\" or op == \"-\" or op == \"*\" or op == \"/\":\n",
    "        sw = False\n",
    "\n",
    "# 입력받은 연산자가 \"/\"이고 두번째수가 0이면 두번째수를 다시입력받는다.\n",
    "sw = True\n",
    "while sw:\n",
    "    num2 = eval(input('두번째수 = '))\n",
    "    if op != \"/\" or num2 != 0:\n",
    "        sw = False\n",
    "    \n",
    "if op == '+':\n",
    "    #res = adder(num1, num2)\n",
    "    print(f\"{num1} + {num2} = {adder(num1, num2)}\")\n",
    "elif op == \"-\":\n",
    "    print(f\"{num1} - {num2} = {substract(num1, num2)}\")\n",
    "elif op == \"*\":\n",
    "    print(f\"{num1} * {num2} = {multiply(num1, num2)}\")\n",
    "elif op == \"/\":\n",
    "    print(f\"{num1} / {num2} = {divide(num1, num2)}\")"
   ]
  },
  {
   "cell_type": "code",
   "execution_count": 5,
   "id": "7c59516f",
   "metadata": {
    "ExecuteTime": {
     "end_time": "2023-08-31T07:37:28.431413Z",
     "start_time": "2023-08-31T07:37:28.424418Z"
    }
   },
   "outputs": [],
   "source": [
    "def adder(num1, num2):\n",
    "    return num1 + num2\n",
    "\n",
    "def substract(num1, num2):\n",
    "    return num1 - num2\n",
    "\n",
    "def multiply(num1, num2):\n",
    "    return mum1 * num2\n",
    "\n",
    "def divide(num1, num2):\n",
    "    return num1 / num2\n"
   ]
  },
  {
   "cell_type": "markdown",
   "id": "a97a1bb3",
   "metadata": {},
   "source": [
    "# 가변길이 매개변수"
   ]
  },
  {
   "cell_type": "code",
   "execution_count": 10,
   "id": "1821f740",
   "metadata": {
    "ExecuteTime": {
     "end_time": "2023-08-31T07:46:53.451909Z",
     "start_time": "2023-08-31T07:46:53.445923Z"
    }
   },
   "outputs": [
    {
     "name": "stdout",
     "output_type": "stream",
     "text": [
      "누적합 =  15\n"
     ]
    }
   ],
   "source": [
    "x = [1, 2, 3, 4, 5]\n",
    "\n",
    "tot = arraySum(x) # Call By Reference(참조에 의한 호출)\n",
    "\n",
    "print(\"누적합 = \", tot)"
   ]
  },
  {
   "cell_type": "markdown",
   "id": "9957dfea",
   "metadata": {},
   "source": [
    "- 함수 호출 방법\n",
    " 1. Call By Name : 이름에 의한 호출\n",
    "   - 매개변수 없이 함수의 이름만으로 호출하는 행위\n",
    " 2. Call By Value : 값에 의한 호출\n",
    "   - 매개변수의 값을 이용하여 함수를 호출하는 행위\n",
    " 3. Call By Reference : 참조(주소)에 의한 호출\n",
    "   - 매개변수의 주소를 이용하여 함수를 호출하는 행위"
   ]
  },
  {
   "cell_type": "code",
   "execution_count": 9,
   "id": "69face0e",
   "metadata": {
    "ExecuteTime": {
     "end_time": "2023-08-31T07:46:22.722491Z",
     "start_time": "2023-08-31T07:46:22.706967Z"
    }
   },
   "outputs": [],
   "source": [
    "def arraySum(data):\n",
    "    tot = 0\n",
    "    for i in range(len(data)):\n",
    "        tot += data[i]\n",
    "    return tot"
   ]
  },
  {
   "cell_type": "code",
   "execution_count": 18,
   "id": "4d2c1bb5",
   "metadata": {
    "ExecuteTime": {
     "end_time": "2023-08-31T07:53:35.525219Z",
     "start_time": "2023-08-31T07:53:35.512445Z"
    }
   },
   "outputs": [],
   "source": [
    "def getSum(a, b):\n",
    "    return a + b"
   ]
  },
  {
   "cell_type": "code",
   "execution_count": 19,
   "id": "3029226c",
   "metadata": {
    "ExecuteTime": {
     "end_time": "2023-08-31T07:53:37.588866Z",
     "start_time": "2023-08-31T07:53:37.572885Z"
    }
   },
   "outputs": [
    {
     "data": {
      "text/plain": [
       "30"
      ]
     },
     "execution_count": 19,
     "metadata": {},
     "output_type": "execute_result"
    }
   ],
   "source": [
    "getSum(10, 20)"
   ]
  },
  {
   "cell_type": "code",
   "execution_count": 13,
   "id": "d4456a8d",
   "metadata": {
    "ExecuteTime": {
     "end_time": "2023-08-31T07:51:08.175098Z",
     "start_time": "2023-08-31T07:51:08.154065Z"
    }
   },
   "outputs": [
    {
     "ename": "TypeError",
     "evalue": "getSum() takes 2 positional arguments but 3 were given",
     "output_type": "error",
     "traceback": [
      "\u001b[1;31m---------------------------------------------------------------------------\u001b[0m",
      "\u001b[1;31mTypeError\u001b[0m                                 Traceback (most recent call last)",
      "\u001b[1;32m~\\AppData\\Local\\Temp/ipykernel_12524/3591830407.py\u001b[0m in \u001b[0;36m<module>\u001b[1;34m\u001b[0m\n\u001b[1;32m----> 1\u001b[1;33m \u001b[0mgetSum\u001b[0m\u001b[1;33m(\u001b[0m\u001b[1;36m10\u001b[0m\u001b[1;33m,\u001b[0m \u001b[1;36m20\u001b[0m\u001b[1;33m,\u001b[0m \u001b[1;36m30\u001b[0m\u001b[1;33m)\u001b[0m\u001b[1;33m\u001b[0m\u001b[1;33m\u001b[0m\u001b[0m\n\u001b[0m",
      "\u001b[1;31mTypeError\u001b[0m: getSum() takes 2 positional arguments but 3 were given"
     ]
    }
   ],
   "source": [
    "getSum(10, 20, 30)\n"
   ]
  },
  {
   "cell_type": "code",
   "execution_count": 20,
   "id": "1f19332d",
   "metadata": {
    "ExecuteTime": {
     "end_time": "2023-08-31T07:53:40.626281Z",
     "start_time": "2023-08-31T07:53:40.612317Z"
    }
   },
   "outputs": [],
   "source": [
    "def getSum3(a, b, c):\n",
    "    return a + b + c"
   ]
  },
  {
   "cell_type": "code",
   "execution_count": 21,
   "id": "95ace499",
   "metadata": {
    "ExecuteTime": {
     "end_time": "2023-08-31T07:53:42.787158Z",
     "start_time": "2023-08-31T07:53:42.777168Z"
    }
   },
   "outputs": [
    {
     "data": {
      "text/plain": [
       "60"
      ]
     },
     "execution_count": 21,
     "metadata": {},
     "output_type": "execute_result"
    }
   ],
   "source": [
    "# 함수오버로딩(다중함수) : 함수의 이름을 같고 매개변수의 타입 또는 갯수가 다를때\n",
    "getSum3(10, 20, 30)"
   ]
  },
  {
   "cell_type": "code",
   "execution_count": 22,
   "id": "6858d77a",
   "metadata": {
    "ExecuteTime": {
     "end_time": "2023-08-31T07:53:44.909002Z",
     "start_time": "2023-08-31T07:53:44.894124Z"
    }
   },
   "outputs": [
    {
     "data": {
      "text/plain": [
       "3"
      ]
     },
     "execution_count": 22,
     "metadata": {},
     "output_type": "execute_result"
    }
   ],
   "source": [
    "getSum(1, 2)"
   ]
  },
  {
   "cell_type": "code",
   "execution_count": 35,
   "id": "c3650a97",
   "metadata": {
    "ExecuteTime": {
     "end_time": "2023-08-31T08:01:57.078507Z",
     "start_time": "2023-08-31T08:01:57.062551Z"
    }
   },
   "outputs": [
    {
     "name": "stdout",
     "output_type": "stream",
     "text": [
      "(1, 2, 3, 4, 5) <class 'tuple'>\n"
     ]
    }
   ],
   "source": [
    "# 가변길이 매개변수 : 매개변수의 개수와 상관없이 받아서 처리하도록 생성된 변수로 앞에 '*'를 붙인다.\n",
    "# packing\n",
    "a = 1, 2, 3, 4, 5\n",
    "print(a, type(a))\n",
    "\n",
    "def total(*x, a):\n",
    "    print(x)"
   ]
  },
  {
   "cell_type": "code",
   "execution_count": 28,
   "id": "9b051e6a",
   "metadata": {
    "ExecuteTime": {
     "end_time": "2023-08-31T07:58:45.357650Z",
     "start_time": "2023-08-31T07:58:45.354682Z"
    }
   },
   "outputs": [
    {
     "name": "stdout",
     "output_type": "stream",
     "text": [
      "1\n"
     ]
    }
   ],
   "source": [
    "total(1)"
   ]
  },
  {
   "cell_type": "code",
   "execution_count": 29,
   "id": "d6a77311",
   "metadata": {
    "ExecuteTime": {
     "end_time": "2023-08-31T07:58:47.495206Z",
     "start_time": "2023-08-31T07:58:47.484243Z"
    }
   },
   "outputs": [
    {
     "name": "stdout",
     "output_type": "stream",
     "text": [
      "1 2 3 4 5\n"
     ]
    }
   ],
   "source": [
    "total(1, 2, 3, 4, 5)"
   ]
  },
  {
   "cell_type": "code",
   "execution_count": 30,
   "id": "5794c219",
   "metadata": {
    "ExecuteTime": {
     "end_time": "2023-08-31T07:59:05.808904Z",
     "start_time": "2023-08-31T07:59:05.800943Z"
    }
   },
   "outputs": [
    {
     "name": "stdout",
     "output_type": "stream",
     "text": [
      "1 2 3\n"
     ]
    }
   ],
   "source": [
    "total(1, 2, 3)"
   ]
  },
  {
   "cell_type": "code",
   "execution_count": 31,
   "id": "943e071a",
   "metadata": {
    "ExecuteTime": {
     "end_time": "2023-08-31T08:00:14.773568Z",
     "start_time": "2023-08-31T08:00:14.769604Z"
    }
   },
   "outputs": [],
   "source": [
    "def get_sum(*x):\n",
    "    tot = 0 \n",
    "    \n",
    "    for i in x:\n",
    "        tot += i\n",
    "    \n",
    "    return  tot"
   ]
  },
  {
   "cell_type": "code",
   "execution_count": 32,
   "id": "24619aef",
   "metadata": {
    "ExecuteTime": {
     "end_time": "2023-08-31T08:00:22.557066Z",
     "start_time": "2023-08-31T08:00:22.544099Z"
    }
   },
   "outputs": [
    {
     "data": {
      "text/plain": [
       "6"
      ]
     },
     "execution_count": 32,
     "metadata": {},
     "output_type": "execute_result"
    }
   ],
   "source": [
    "get_sum(1, 2, 3)"
   ]
  },
  {
   "cell_type": "code",
   "execution_count": 34,
   "id": "3c7c0aff",
   "metadata": {
    "ExecuteTime": {
     "end_time": "2023-08-31T08:00:41.214183Z",
     "start_time": "2023-08-31T08:00:41.200218Z"
    }
   },
   "outputs": [
    {
     "data": {
      "text/plain": [
       "15"
      ]
     },
     "execution_count": 34,
     "metadata": {},
     "output_type": "execute_result"
    }
   ],
   "source": [
    "get_sum(1, 2, 3, 4, 5)"
   ]
  },
  {
   "cell_type": "code",
   "execution_count": 36,
   "id": "cdda0884",
   "metadata": {
    "ExecuteTime": {
     "end_time": "2023-08-31T08:03:02.978112Z",
     "start_time": "2023-08-31T08:03:02.959074Z"
    }
   },
   "outputs": [],
   "source": [
    "def test(size, *data):\n",
    "    tot = 0\n",
    "    for i in range(size):\n",
    "        tot += data[i]\n",
    "    return tot"
   ]
  },
  {
   "cell_type": "code",
   "execution_count": 37,
   "id": "92a7993d",
   "metadata": {
    "ExecuteTime": {
     "end_time": "2023-08-31T08:03:28.249723Z",
     "start_time": "2023-08-31T08:03:28.232687Z"
    }
   },
   "outputs": [
    {
     "data": {
      "text/plain": [
       "15"
      ]
     },
     "execution_count": 37,
     "metadata": {},
     "output_type": "execute_result"
    }
   ],
   "source": [
    "test(5, 1, 2, 3, 4, 5)"
   ]
  },
  {
   "cell_type": "code",
   "execution_count": 38,
   "id": "597847f1",
   "metadata": {
    "ExecuteTime": {
     "end_time": "2023-08-31T08:05:40.565444Z",
     "start_time": "2023-08-31T08:05:40.553478Z"
    }
   },
   "outputs": [
    {
     "name": "stdout",
     "output_type": "stream",
     "text": [
      "[1, 2, 3, 4, 5]\n"
     ]
    }
   ],
   "source": [
    "x = [1, 2, 3, 4, 5]\n",
    "print(x)"
   ]
  },
  {
   "cell_type": "code",
   "execution_count": 39,
   "id": "e297a224",
   "metadata": {
    "ExecuteTime": {
     "end_time": "2023-08-31T08:05:50.480150Z",
     "start_time": "2023-08-31T08:05:50.471178Z"
    }
   },
   "outputs": [
    {
     "name": "stdout",
     "output_type": "stream",
     "text": [
      "1 2 3 4 5\n"
     ]
    }
   ],
   "source": [
    "print(*x)"
   ]
  },
  {
   "cell_type": "code",
   "execution_count": null,
   "id": "9060f44a",
   "metadata": {},
   "outputs": [],
   "source": []
  }
 ],
 "metadata": {
  "kernelspec": {
   "display_name": "Python 3 (ipykernel)",
   "language": "python",
   "name": "python3"
  },
  "language_info": {
   "codemirror_mode": {
    "name": "ipython",
    "version": 3
   },
   "file_extension": ".py",
   "mimetype": "text/x-python",
   "name": "python",
   "nbconvert_exporter": "python",
   "pygments_lexer": "ipython3",
   "version": "3.9.7"
  },
  "toc": {
   "base_numbering": 1,
   "nav_menu": {},
   "number_sections": true,
   "sideBar": true,
   "skip_h1_title": false,
   "title_cell": "Table of Contents",
   "title_sidebar": "Contents",
   "toc_cell": false,
   "toc_position": {
    "height": "calc(100% - 180px)",
    "left": "10px",
    "top": "150px",
    "width": "256px"
   },
   "toc_section_display": true,
   "toc_window_display": true
  },
  "varInspector": {
   "cols": {
    "lenName": 16,
    "lenType": 16,
    "lenVar": 40
   },
   "kernels_config": {
    "python": {
     "delete_cmd_postfix": "",
     "delete_cmd_prefix": "del ",
     "library": "var_list.py",
     "varRefreshCmd": "print(var_dic_list())"
    },
    "r": {
     "delete_cmd_postfix": ") ",
     "delete_cmd_prefix": "rm(",
     "library": "var_list.r",
     "varRefreshCmd": "cat(var_dic_list()) "
    }
   },
   "types_to_exclude": [
    "module",
    "function",
    "builtin_function_or_method",
    "instance",
    "_Feature"
   ],
   "window_display": false
  }
 },
 "nbformat": 4,
 "nbformat_minor": 5
}
