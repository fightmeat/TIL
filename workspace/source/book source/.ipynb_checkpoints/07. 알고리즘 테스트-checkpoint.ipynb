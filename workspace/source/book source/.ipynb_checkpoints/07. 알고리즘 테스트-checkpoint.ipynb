{
 "cells": [
  {
   "cell_type": "markdown",
   "id": "b4e7e82e",
   "metadata": {},
   "source": [
    "## 양의 정수를 1, 2, 4 세걔의 수로만 표현하는 프로그램을 구현하시오.\n",
    "- 3으로 나눈 경우의 몫과 나머지를 이용 : divmod(숫자, 나누는수) => 몫과 나머지\n",
    "- 나머지의 표현을 0이면 4, 1이면 1, 2이면 2로 표현할것.\n",
    "- 1부터 200까지의 수롤 이용하여 구현할 것."
   ]
  },
  {
   "cell_type": "code",
   "execution_count": 3,
   "id": "511c9751",
   "metadata": {
    "ExecuteTime": {
     "end_time": "2023-09-01T00:12:50.758828Z",
     "start_time": "2023-09-01T00:12:48.901952Z"
    }
   },
   "outputs": [
    {
     "name": "stdout",
     "output_type": "stream",
     "text": [
      "숫자 = 15\n",
      "15 : 4\n",
      "14 : 2\n",
      "13 : 1\n",
      "12 : 4\n",
      "11 : 2\n",
      "10 : 1\n",
      "9 : 4\n",
      "8 : 2\n",
      "7 : 1\n",
      "6 : 4\n",
      "5 : 2\n",
      "4 : 1\n",
      "3 : 4\n",
      "2 : 2\n",
      "1 : 1\n"
     ]
    }
   ],
   "source": [
    "def onetwofour(number): # 1 ~ number 사이의 수를 대상으로 처리\n",
    "    # 0을 제외한 숫자는 모두 참으로 간주\n",
    "    while number:\n",
    "        # divmod(a, b) : a를 b로 나눈 목과 나머지를 반환하는 함수\n",
    "        mok, nmg = divmod(number, 3)\n",
    "        if nmg == 0:\n",
    "            print(f\"{number} : 4\")\n",
    "        elif nmg == 1:\n",
    "            print(f\"{number} : 1\")\n",
    "        else:\n",
    "            print(f\"{number} : 2\")\n",
    "        number -= 1\n",
    "        \n",
    "number = int(input(\"숫자 = \"))\n",
    "if number < 1 or number >= 200:\n",
    "    print(\"1이상 200이하의 숫자만 입력가능\")\n",
    "else:\n",
    "    onetwofour(number)"
   ]
  },
  {
   "cell_type": "markdown",
   "id": "3e2d460b",
   "metadata": {},
   "source": [
    "## 문자열중 가운데 문자를 출력하는 프로그램을 구현하시오.\n",
    "- 문자열의 길이가 짝수일 경우 가운데 두 글자를 반환\n",
    "- 문자열의 길이가 홀수일 경우 가운데 한 글자 반환\n",
    "- 문자열을 입력받아 구현하되, 문자열의 길이는 최소 1이상 50이하로 작성할 것"
   ]
  },
  {
   "cell_type": "code",
   "execution_count": 5,
   "id": "6618af84",
   "metadata": {
    "ExecuteTime": {
     "end_time": "2023-09-01T00:30:20.838418Z",
     "start_time": "2023-09-01T00:30:17.585892Z"
    }
   },
   "outputs": [
    {
     "name": "stdout",
     "output_type": "stream",
     "text": [
      "문자열 = korea\n",
      "r\n"
     ]
    }
   ],
   "source": [
    "def median_s(string): # worldcup, korea\n",
    "    # 중앙에 위치값 \n",
    "    idx = len(string) // 2 # 정수몫\n",
    "    # 입력받은 글자의 수 짝수인지 홀수인지 판단해서 처리\n",
    "    if len(string) % 2 == 0:\n",
    "        return string[idx-1:idx+1]\n",
    "    else:\n",
    "        return string[idx]\n",
    "    \n",
    "string = input(\"문자열 = \")\n",
    "if len(string) < 1 or len(string) >= 50:\n",
    "    print(\"문자열의 최소 길이는 1이상 50이하입니다.\")\n",
    "else:\n",
    "    print(median_s(string))"
   ]
  },
  {
   "cell_type": "markdown",
   "id": "2347d9ff",
   "metadata": {},
   "source": [
    "## 두 개의 주사위를 던졌을 때의 합계가 특정수가 나오는 경우의 수를 추출\n",
    "- 주사위 합계를 입력받아 해당 경우의 수를 추출하시오.\n",
    "- 예 : 합계(5) - 1:4, 2:3, 3:2, 4:1"
   ]
  },
  {
   "cell_type": "code",
   "execution_count": 12,
   "id": "ef88538d",
   "metadata": {
    "ExecuteTime": {
     "end_time": "2023-09-01T00:46:42.600689Z",
     "start_time": "2023-09-01T00:46:39.784865Z"
    }
   },
   "outputs": [
    {
     "name": "stdout",
     "output_type": "stream",
     "text": [
      "합 = 15\n",
      "숫자의 범위를 넘었습니다.\n",
      "합 : 15\n"
     ]
    }
   ],
   "source": [
    "# 주사위 두 개를 던졌을 때 나오는 경우의 수는 총 몇개 : 36\n",
    "\n",
    "def dice(number):\n",
    "    print(f\"합 : {number}\")\n",
    "    # 첫번째 주사위에서 나오는 경우의 수\n",
    "    for one in range(1, 7):\n",
    "        for two in range(1, 7):\n",
    "            if number == (one + two):\n",
    "                print(f\"\\t({one},{two})\", end='')\n",
    "\n",
    "number = int(input(\"합 = \"))\n",
    "if number < 1 or number > 12:\n",
    "    print(\"숫자의 범위를 넘었습니다.\")  \n",
    "else:\n",
    "    dice(number)"
   ]
  },
  {
   "cell_type": "markdown",
   "id": "61cb4a00",
   "metadata": {},
   "source": [
    "## 숫자를 입력받아 주어진 출력형식과 동일한 결과를 출력하는 프로그램\n",
    "enter a number = 3<br>  \n",
    "<code>\n",
    "★★★  \n",
    "★★    \n",
    "★   \n",
    "★★   \n",
    "★★★    \n",
    "</code>"
   ]
  },
  {
   "cell_type": "code",
   "execution_count": 17,
   "id": "8c9b4fd2",
   "metadata": {
    "ExecuteTime": {
     "end_time": "2023-09-01T01:41:40.088027Z",
     "start_time": "2023-09-01T01:41:38.542623Z"
    }
   },
   "outputs": [
    {
     "name": "stdout",
     "output_type": "stream",
     "text": [
      "숫자 = 3\n",
      "★★★\n",
      "★★\n",
      "★\n",
      "★★\n",
      "★★★\n"
     ]
    }
   ],
   "source": [
    "def star_f(number):\n",
    "    # 줄수\n",
    "    for i in range(number, 0, -1):\n",
    "        print(\"★\" * i)\n",
    "        \n",
    "    for i in range(2, number+1):\n",
    "        print(\"★\" * i)\n",
    "\n",
    "number = int(input(\"숫자 = \")) \n",
    "star_f(number)"
   ]
  },
  {
   "cell_type": "code",
   "execution_count": 16,
   "id": "397a5446",
   "metadata": {
    "ExecuteTime": {
     "end_time": "2023-09-01T01:40:13.599857Z",
     "start_time": "2023-09-01T01:40:12.413577Z"
    }
   },
   "outputs": [
    {
     "name": "stdout",
     "output_type": "stream",
     "text": [
      "숫자 = 3\n",
      "★★★\n",
      "★★\n",
      "★\n"
     ]
    }
   ],
   "source": [
    "def star_f(number):\n",
    "    # 줄수\n",
    "    for i in range(number): # i = 0, 1, 2       \n",
    "        for j in range(number-i):\n",
    "            print(\"★\", end='')\n",
    "        print()\n",
    "        \n",
    "        \n",
    "        \n",
    "number = int(input(\"숫자 = \")) \n",
    "star_f(number)"
   ]
  },
  {
   "cell_type": "markdown",
   "id": "a8dc5c6c",
   "metadata": {},
   "source": [
    "## 피보나치 수열 만드는 프로그램\n",
    "- 1에서 100사이의 수를 대상으로 피보나치 수열을 생성하여 출력하시오.\n",
    "- 피보나치 수열 : \n",
    "1  1  2  3  5  8  13  21  34  55  89"
   ]
  },
  {
   "cell_type": "code",
   "execution_count": 18,
   "id": "8b995909",
   "metadata": {
    "ExecuteTime": {
     "end_time": "2023-09-01T01:43:13.678913Z",
     "start_time": "2023-09-01T01:43:13.667942Z"
    }
   },
   "outputs": [
    {
     "name": "stdout",
     "output_type": "stream",
     "text": [
      "1\n",
      "2\n",
      "3\n",
      "5\n",
      "8\n",
      "13\n",
      "21\n",
      "34\n",
      "55\n",
      "89\n"
     ]
    }
   ],
   "source": [
    "a = 1; b = 1\n",
    "\n",
    "while b <= 100:\n",
    "    print(b)\n",
    "    a, b = b, a+b"
   ]
  },
  {
   "cell_type": "markdown",
   "id": "2bc0f9d4",
   "metadata": {},
   "source": [
    "## 다음 출력형식과 동일한 출력결과를 갖는 프로그램 구현\n",
    "문자열 입력 : python<br>\n",
    "n<br>\n",
    "on<br>\n",
    "hon<br>\n",
    "thon<br>\n",
    "ython<br>\n",
    "python<br>"
   ]
  },
  {
   "cell_type": "code",
   "execution_count": null,
   "id": "3e8c7909",
   "metadata": {},
   "outputs": [],
   "source": []
  },
  {
   "cell_type": "markdown",
   "id": "e448494f",
   "metadata": {},
   "source": [
    "## 다음 주어진 출력형식과 동일한 결과를 작는 프로그램 구현\n",
    "<code>\n",
    "    시작숫자와 마지막 숫자 입력 : 2 6\n",
    "    2 3 4 5 6\n",
    "    3 4 5 6 7\n",
    "    4 5 6 7 8\n",
    "    5 6 7 8 9\n",
    "    6 7 8 9 10\n",
    "</code>"
   ]
  },
  {
   "cell_type": "code",
   "execution_count": null,
   "id": "6f76b138",
   "metadata": {},
   "outputs": [],
   "source": []
  },
  {
   "cell_type": "markdown",
   "id": "55991f9e",
   "metadata": {},
   "source": [
    "## 다음과 같은 알파벳 피라미드 완성 프로그램을 구현하시오.\n",
    "<code>\n",
    "    문자입력 : ABCDE\n",
    "    ABCD\n",
    "    ABC\n",
    "    AB\n",
    "    A\n",
    "</code>   \n"
   ]
  },
  {
   "cell_type": "code",
   "execution_count": null,
   "id": "fcb759d0",
   "metadata": {},
   "outputs": [],
   "source": []
  },
  {
   "cell_type": "markdown",
   "id": "548c5960",
   "metadata": {},
   "source": [
    "## 9 알파벳 피라미트 출력\n",
    "<code>\n",
    "    층수 = 7\n",
    "    A\n",
    "    A B\n",
    "    A B C\n",
    "    A B C D\n",
    "    A B C D E\n",
    "    A B C D E F\n",
    "    A B C D E F G\n",
    "</code>"
   ]
  },
  {
   "cell_type": "code",
   "execution_count": null,
   "id": "6833c6a9",
   "metadata": {},
   "outputs": [],
   "source": []
  }
 ],
 "metadata": {
  "kernelspec": {
   "display_name": "Python 3 (ipykernel)",
   "language": "python",
   "name": "python3"
  },
  "language_info": {
   "codemirror_mode": {
    "name": "ipython",
    "version": 3
   },
   "file_extension": ".py",
   "mimetype": "text/x-python",
   "name": "python",
   "nbconvert_exporter": "python",
   "pygments_lexer": "ipython3",
   "version": "3.9.7"
  },
  "toc": {
   "base_numbering": 1,
   "nav_menu": {},
   "number_sections": true,
   "sideBar": true,
   "skip_h1_title": false,
   "title_cell": "Table of Contents",
   "title_sidebar": "Contents",
   "toc_cell": false,
   "toc_position": {
    "height": "calc(100% - 180px)",
    "left": "10px",
    "top": "150px",
    "width": "307.198px"
   },
   "toc_section_display": true,
   "toc_window_display": true
  },
  "varInspector": {
   "cols": {
    "lenName": 16,
    "lenType": 16,
    "lenVar": 40
   },
   "kernels_config": {
    "python": {
     "delete_cmd_postfix": "",
     "delete_cmd_prefix": "del ",
     "library": "var_list.py",
     "varRefreshCmd": "print(var_dic_list())"
    },
    "r": {
     "delete_cmd_postfix": ") ",
     "delete_cmd_prefix": "rm(",
     "library": "var_list.r",
     "varRefreshCmd": "cat(var_dic_list()) "
    }
   },
   "types_to_exclude": [
    "module",
    "function",
    "builtin_function_or_method",
    "instance",
    "_Feature"
   ],
   "window_display": false
  }
 },
 "nbformat": 4,
 "nbformat_minor": 5
}
