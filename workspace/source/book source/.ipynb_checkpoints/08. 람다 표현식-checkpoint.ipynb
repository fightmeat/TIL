{
 "cells": [
  {
   "cell_type": "markdown",
   "id": "80cddac7",
   "metadata": {},
   "source": [
    "# Lambda 함수 : 익명의 함수(p. 410)\n",
    "- 매크로 함수 : 한줄짜리 함수\n",
    "- 인라인 함수\n",
    "- 형식 : lambda 입력값 : 출력값\n",
    "- 일반함수 형식 : def 함수명(매개변수): return 반환값"
   ]
  },
  {
   "cell_type": "code",
   "execution_count": 1,
   "id": "1645cee6",
   "metadata": {
    "ExecuteTime": {
     "end_time": "2023-09-01T01:50:29.117408Z",
     "start_time": "2023-09-01T01:50:29.102405Z"
    }
   },
   "outputs": [],
   "source": [
    "# 하나의 숫자를 입력받아 그 숫자에 10을 더한 값을 리턴하는 함수 구현\n",
    "def get(num):\n",
    "    return num + 10"
   ]
  },
  {
   "cell_type": "code",
   "execution_count": 2,
   "id": "9a54a14c",
   "metadata": {
    "ExecuteTime": {
     "end_time": "2023-09-01T01:51:14.773221Z",
     "start_time": "2023-09-01T01:51:14.763787Z"
    }
   },
   "outputs": [
    {
     "name": "stdout",
     "output_type": "stream",
     "text": [
      "13\n"
     ]
    }
   ],
   "source": [
    "a = get(3)\n",
    "print(a)"
   ]
  },
  {
   "cell_type": "code",
   "execution_count": 6,
   "id": "8eec4f2c",
   "metadata": {
    "ExecuteTime": {
     "end_time": "2023-09-01T01:53:30.259237Z",
     "start_time": "2023-09-01T01:53:30.251287Z"
    }
   },
   "outputs": [
    {
     "data": {
      "text/plain": [
       "13"
      ]
     },
     "execution_count": 6,
     "metadata": {},
     "output_type": "execute_result"
    }
   ],
   "source": [
    "(lambda num : num + 10)(3)"
   ]
  },
  {
   "cell_type": "code",
   "execution_count": 7,
   "id": "4abb518d",
   "metadata": {
    "ExecuteTime": {
     "end_time": "2023-09-01T01:54:07.030918Z",
     "start_time": "2023-09-01T01:54:07.014947Z"
    }
   },
   "outputs": [],
   "source": [
    "def get(num):\n",
    "    result = num + 10\n",
    "    return result"
   ]
  },
  {
   "cell_type": "code",
   "execution_count": 8,
   "id": "a10380f0",
   "metadata": {
    "ExecuteTime": {
     "end_time": "2023-09-01T01:54:11.061417Z",
     "start_time": "2023-09-01T01:54:11.045797Z"
    }
   },
   "outputs": [
    {
     "data": {
      "text/plain": [
       "13"
      ]
     },
     "execution_count": 8,
     "metadata": {},
     "output_type": "execute_result"
    }
   ],
   "source": [
    "get(3)"
   ]
  },
  {
   "cell_type": "markdown",
   "id": "0f74b295",
   "metadata": {},
   "source": [
    "- 람다 표현식은 변수를 생성할 수 없다."
   ]
  },
  {
   "cell_type": "markdown",
   "id": "253864dd",
   "metadata": {},
   "source": [
    "## lambda  함수와 map 객체\n",
    "\n",
    "- map(함수, 리스트나 튜플)"
   ]
  },
  {
   "cell_type": "code",
   "execution_count": 9,
   "id": "cf5b64d7",
   "metadata": {
    "ExecuteTime": {
     "end_time": "2023-09-01T01:58:01.737574Z",
     "start_time": "2023-09-01T01:57:59.320754Z"
    }
   },
   "outputs": [
    {
     "name": "stdout",
     "output_type": "stream",
     "text": [
      "숫자 = 1\n",
      "숫자 = 2\n",
      "숫자 = 3\n"
     ]
    }
   ],
   "source": [
    "a = int(input(\"숫자 = \"))\n",
    "b = int(input(\"숫자 = \"))\n",
    "c = int(input(\"숫자 = \"))"
   ]
  },
  {
   "cell_type": "code",
   "execution_count": 10,
   "id": "a43b395c",
   "metadata": {
    "ExecuteTime": {
     "end_time": "2023-09-01T01:59:25.389114Z",
     "start_time": "2023-09-01T01:59:21.795195Z"
    }
   },
   "outputs": [
    {
     "name": "stdout",
     "output_type": "stream",
     "text": [
      "숫자 = 1 2 3\n",
      "1 2 3\n"
     ]
    }
   ],
   "source": [
    "a, b, c = map(int, input('숫자 = ').split())\n",
    "print(a, b, c)"
   ]
  },
  {
   "cell_type": "code",
   "execution_count": 11,
   "id": "6b8d3ea0",
   "metadata": {
    "ExecuteTime": {
     "end_time": "2023-09-01T02:13:38.509064Z",
     "start_time": "2023-09-01T02:13:38.498830Z"
    }
   },
   "outputs": [
    {
     "name": "stdout",
     "output_type": "stream",
     "text": [
      "[3, 4, 5, 6, 7]\n"
     ]
    }
   ],
   "source": [
    "# 숫자 리스트에 있는 모든 요소에 2씩 더하여 새로운 리스트를 생성하는 작업\n",
    "def plus_two(x):\n",
    "    return x + 2\n",
    "\n",
    "result = list(map(plus_two, [1, 2, 3, 4, 5]))\n",
    "print(result)"
   ]
  },
  {
   "cell_type": "code",
   "execution_count": 12,
   "id": "6e2d3112",
   "metadata": {
    "ExecuteTime": {
     "end_time": "2023-09-01T02:15:04.856255Z",
     "start_time": "2023-09-01T02:15:04.846104Z"
    }
   },
   "outputs": [
    {
     "name": "stdout",
     "output_type": "stream",
     "text": [
      "[3, 4, 5, 6, 7]\n"
     ]
    }
   ],
   "source": [
    "result = list(map((lambda x : x + 2), [1, 2, 3, 4, 5]))\n",
    "print(result)"
   ]
  },
  {
   "cell_type": "code",
   "execution_count": 13,
   "id": "0ffc3a50",
   "metadata": {
    "ExecuteTime": {
     "end_time": "2023-09-01T02:16:16.952222Z",
     "start_time": "2023-09-01T02:16:16.941575Z"
    }
   },
   "outputs": [
    {
     "name": "stdout",
     "output_type": "stream",
     "text": [
      "[3, 4, 5, 6, 7]\n"
     ]
    }
   ],
   "source": [
    "result = list(map((lambda x : x + 2), range(1, 6)))\n",
    "print(result)"
   ]
  },
  {
   "cell_type": "markdown",
   "id": "fdb19c04",
   "metadata": {},
   "source": [
    "## lambda 함수와 filter 객체\n",
    "\n",
    "- filter(함수, 리스트나 튜플)"
   ]
  },
  {
   "cell_type": "code",
   "execution_count": 14,
   "id": "eb767e05",
   "metadata": {
    "ExecuteTime": {
     "end_time": "2023-09-01T02:19:06.263220Z",
     "start_time": "2023-09-01T02:19:06.250220Z"
    }
   },
   "outputs": [
    {
     "name": "stdout",
     "output_type": "stream",
     "text": [
      "False\n",
      "True\n",
      "False\n",
      "True\n",
      "False\n",
      "True\n",
      "False\n",
      "True\n",
      "False\n",
      "True\n"
     ]
    }
   ],
   "source": [
    "# 1 ~ 10 사이의 수중 짝수만 추출하는 함수\n",
    "def even(x):\n",
    "    return x % 2 == 0\n",
    "\n",
    "for i in range(1, 11):\n",
    "    print(even(i))"
   ]
  },
  {
   "cell_type": "code",
   "execution_count": 15,
   "id": "bc8514fb",
   "metadata": {
    "ExecuteTime": {
     "end_time": "2023-09-01T02:20:26.046975Z",
     "start_time": "2023-09-01T02:20:26.038938Z"
    }
   },
   "outputs": [
    {
     "name": "stdout",
     "output_type": "stream",
     "text": [
      "[2, 4, 6, 8, 10]\n"
     ]
    }
   ],
   "source": [
    "result = list(filter(even, range(1, 11)))\n",
    "print(result)"
   ]
  },
  {
   "cell_type": "code",
   "execution_count": 16,
   "id": "fd8ab585",
   "metadata": {
    "ExecuteTime": {
     "end_time": "2023-09-01T02:21:17.856169Z",
     "start_time": "2023-09-01T02:21:17.851130Z"
    }
   },
   "outputs": [
    {
     "name": "stdout",
     "output_type": "stream",
     "text": [
      "[2, 4, 6, 8, 10]\n"
     ]
    }
   ],
   "source": [
    "result = list(filter((lambda x : x % 2 == 0), range(1, 11)))\n",
    "print(result)"
   ]
  },
  {
   "cell_type": "markdown",
   "id": "dd20de67",
   "metadata": {},
   "source": [
    "# List Comprehension : 리스트 내포\n",
    "- for문 if문을 한 줄에 작성하여 새로운 리스트를 생성하는 작업을 효율적으로 수행할 수 있는 기능\n",
    "- 간결하고 처리속도가 빠르다.\n",
    "- 기본형식 => 리스트명 = [표현식 for 개별변수 in 집합변수]\n",
    "- 조건식을 포함 => 리스트명 = [표현식 for 개별변수 in 집합변수 if 조건문]\n",
    "- 조건식 확장 => 리스트명 = [표현식 if 조건문 else 조건문 for문]"
   ]
  },
  {
   "cell_type": "code",
   "execution_count": 17,
   "id": "0d5bb75a",
   "metadata": {
    "ExecuteTime": {
     "end_time": "2023-09-01T02:30:39.629661Z",
     "start_time": "2023-09-01T02:30:39.611663Z"
    }
   },
   "outputs": [
    {
     "name": "stdout",
     "output_type": "stream",
     "text": [
      "[3, 6, 9, 12, 15, 18, 21, 24, 27]\n"
     ]
    }
   ],
   "source": [
    "# 1부터 9까지의 숫자에 3을 곱한 값들을 리스트로 생성하여 출력하는 프로그램\n",
    "result = []\n",
    "for i in range(1, 10):\n",
    "    result.append(i*3)\n",
    "    \n",
    "print(result)"
   ]
  },
  {
   "cell_type": "code",
   "execution_count": 18,
   "id": "3efc9e59",
   "metadata": {
    "ExecuteTime": {
     "end_time": "2023-09-01T02:32:35.481205Z",
     "start_time": "2023-09-01T02:32:35.471205Z"
    }
   },
   "outputs": [
    {
     "name": "stdout",
     "output_type": "stream",
     "text": [
      "[3, 6, 9, 12, 15, 18, 21, 24, 27]\n"
     ]
    }
   ],
   "source": [
    "res = [i*3 for i in range(1, 10)]\n",
    "print(res)"
   ]
  },
  {
   "cell_type": "markdown",
   "id": "08254be2",
   "metadata": {},
   "source": [
    "## 다중 for문"
   ]
  },
  {
   "cell_type": "code",
   "execution_count": 21,
   "id": "731c89ff",
   "metadata": {
    "ExecuteTime": {
     "end_time": "2023-09-01T02:37:02.771998Z",
     "start_time": "2023-09-01T02:37:02.761995Z"
    }
   },
   "outputs": [
    {
     "name": "stdout",
     "output_type": "stream",
     "text": [
      "[0, 1, 2, 3, 4, 1, 2, 3, 4, 5, 2, 3, 4, 5, 6]\n"
     ]
    }
   ],
   "source": [
    "result = []\n",
    "for i in range(3):\n",
    "    for j in range(5):\n",
    "        result.append(i+j)\n",
    "        \n",
    "print(result)"
   ]
  },
  {
   "cell_type": "code",
   "execution_count": 24,
   "id": "c422c46d",
   "metadata": {
    "ExecuteTime": {
     "end_time": "2023-09-01T02:39:35.017231Z",
     "start_time": "2023-09-01T02:39:35.013272Z"
    }
   },
   "outputs": [
    {
     "name": "stdout",
     "output_type": "stream",
     "text": [
      "[0, 1, 2, 3, 4, 1, 2, 3, 4, 5, 2, 3, 4, 5, 6]\n"
     ]
    }
   ],
   "source": [
    "result = [i+j for i in range(3) for j in range(5)]\n",
    "print(result)"
   ]
  },
  {
   "cell_type": "code",
   "execution_count": 25,
   "id": "184d2641",
   "metadata": {
    "ExecuteTime": {
     "end_time": "2023-09-01T02:40:23.079427Z",
     "start_time": "2023-09-01T02:40:23.062454Z"
    }
   },
   "outputs": [
    {
     "name": "stdout",
     "output_type": "stream",
     "text": [
      "01234\n",
      "12345\n",
      "23456\n"
     ]
    }
   ],
   "source": [
    "for i in range(3):\n",
    "    for j in range(5):\n",
    "        print(i+j, end=\"\")\n",
    "    print()    "
   ]
  },
  {
   "cell_type": "code",
   "execution_count": 26,
   "id": "546285af",
   "metadata": {
    "ExecuteTime": {
     "end_time": "2023-09-01T02:41:23.305784Z",
     "start_time": "2023-09-01T02:41:23.296813Z"
    }
   },
   "outputs": [
    {
     "name": "stdout",
     "output_type": "stream",
     "text": [
      "[[0, 1, 2], [1, 2, 3], [2, 3, 4], [3, 4, 5], [4, 5, 6]]\n"
     ]
    }
   ],
   "source": [
    "result = [[i+j for i in range(3)] for j in range(5)]\n",
    "print(result)"
   ]
  },
  {
   "cell_type": "markdown",
   "id": "1a61fa90",
   "metadata": {},
   "source": [
    "## 조건식"
   ]
  },
  {
   "cell_type": "code",
   "execution_count": 28,
   "id": "f171d952",
   "metadata": {
    "ExecuteTime": {
     "end_time": "2023-09-01T02:47:44.363525Z",
     "start_time": "2023-09-01T02:47:44.351576Z"
    }
   },
   "outputs": [
    {
     "name": "stdout",
     "output_type": "stream",
     "text": [
      "[2, 4, 6, 8, 10, 12, 14, 16, 18, 3, 6, 9, 12, 15, 18, 21, 24, 27, 4, 8, 12, 16, 20, 24, 28, 32, 36, 5, 10, 15, 20, 25, 30, 35, 40, 45, 6, 12, 18, 24, 30, 36, 42, 48, 54, 7, 14, 21, 28, 35, 42, 49, 56, 63, 8, 16, 24, 32, 40, 48, 56, 64, 72, 9, 18, 27, 36, 45, 54, 63, 72, 81]\n"
     ]
    }
   ],
   "source": [
    "# 2부터 9까지의 구구단을 출력하는 프로그램\n",
    "# 결과를 리스트로 담아서 출력하는 프로그램\n",
    "result = []\n",
    "\n",
    "for x in range(2, 10):\n",
    "    for y in range(1, 10):\n",
    "        result.append(x * y)\n",
    "        \n",
    "print(result)"
   ]
  },
  {
   "cell_type": "code",
   "execution_count": 29,
   "id": "14b438af",
   "metadata": {
    "ExecuteTime": {
     "end_time": "2023-09-01T02:48:53.386894Z",
     "start_time": "2023-09-01T02:48:53.369925Z"
    }
   },
   "outputs": [
    {
     "name": "stdout",
     "output_type": "stream",
     "text": [
      "[2, 4, 6, 8, 10, 12, 14, 16, 18, 3, 6, 9, 12, 15, 18, 21, 24, 27, 4, 8, 12, 16, 20, 24, 28, 32, 36, 5, 10, 15, 20, 25, 30, 35, 40, 45, 6, 12, 18, 24, 30, 36, 42, 48, 54, 7, 14, 21, 28, 35, 42, 49, 56, 63, 8, 16, 24, 32, 40, 48, 56, 64, 72, 9, 18, 27, 36, 45, 54, 63, 72, 81]\n"
     ]
    }
   ],
   "source": [
    "# 리스트 내포 표현식\n",
    "result = [x*y for x in range(2, 10) for y in range(1, 10)]\n",
    "print(result)"
   ]
  },
  {
   "cell_type": "code",
   "execution_count": 30,
   "id": "67273935",
   "metadata": {
    "ExecuteTime": {
     "end_time": "2023-09-01T02:50:20.978398Z",
     "start_time": "2023-09-01T02:50:20.974143Z"
    }
   },
   "outputs": [
    {
     "name": "stdout",
     "output_type": "stream",
     "text": [
      "[2, 4, 6, 8, 10, 12, 14, 16, 18, 4, 8, 12, 16, 20, 24, 28, 32, 36, 6, 12, 18, 24, 30, 36, 42, 48, 54, 8, 16, 24, 32, 40, 48, 56, 64, 72]\n"
     ]
    }
   ],
   "source": [
    "# 짝수의 결과만 추출하는 작업\n",
    "result = []\n",
    "\n",
    "for x in range(2, 10):\n",
    "    if x % 2 == 0:\n",
    "        for y in range(1, 10):\n",
    "            result.append(x * y)\n",
    "        \n",
    "print(result)"
   ]
  },
  {
   "cell_type": "code",
   "execution_count": 31,
   "id": "077d2e76",
   "metadata": {
    "ExecuteTime": {
     "end_time": "2023-09-01T02:51:39.506835Z",
     "start_time": "2023-09-01T02:51:39.501833Z"
    }
   },
   "outputs": [
    {
     "name": "stdout",
     "output_type": "stream",
     "text": [
      "[2, 4, 6, 8, 10, 12, 14, 16, 18, 4, 8, 12, 16, 20, 24, 28, 32, 36, 6, 12, 18, 24, 30, 36, 42, 48, 54, 8, 16, 24, 32, 40, 48, 56, 64, 72]\n"
     ]
    }
   ],
   "source": [
    "result = [x * y for x in range(2, 10) if x % 2 == 0 for y in range(1, 10)]\n",
    "print(result)"
   ]
  },
  {
   "cell_type": "markdown",
   "id": "9a85b9fe",
   "metadata": {},
   "source": [
    "## if ~ else\n",
    "- 1부터 10사이의 수를 대상으로 짝수일경우 제곱, 홀수일경우 세곱한 결과를 리스트로 추출"
   ]
  },
  {
   "cell_type": "code",
   "execution_count": 32,
   "id": "f6a49c3c",
   "metadata": {
    "ExecuteTime": {
     "end_time": "2023-09-01T02:54:45.606883Z",
     "start_time": "2023-09-01T02:54:45.589919Z"
    }
   },
   "outputs": [
    {
     "name": "stdout",
     "output_type": "stream",
     "text": [
      "[1, 4, 27, 16, 125, 36, 343, 64, 729, 100]\n"
     ]
    }
   ],
   "source": [
    "result = []\n",
    "for i in range(1, 11):\n",
    "    if i % 2 == 0:\n",
    "        result.append(i**2)\n",
    "    else:\n",
    "        result.append(i**3)\n",
    "        \n",
    "print(result)"
   ]
  },
  {
   "cell_type": "code",
   "execution_count": 33,
   "id": "94a7a27b",
   "metadata": {
    "ExecuteTime": {
     "end_time": "2023-09-01T02:56:10.751423Z",
     "start_time": "2023-09-01T02:56:10.734425Z"
    }
   },
   "outputs": [
    {
     "name": "stdout",
     "output_type": "stream",
     "text": [
      "[1, 4, 27, 16, 125, 36, 343, 64, 729, 100]\n"
     ]
    }
   ],
   "source": [
    "result = [i**2 if i % 2 == 0 else i**3 for i in range(1, 11)]\n",
    "print(result)"
   ]
  },
  {
   "cell_type": "code",
   "execution_count": null,
   "id": "72d5143e",
   "metadata": {},
   "outputs": [],
   "source": []
  }
 ],
 "metadata": {
  "kernelspec": {
   "display_name": "Python 3 (ipykernel)",
   "language": "python",
   "name": "python3"
  },
  "language_info": {
   "codemirror_mode": {
    "name": "ipython",
    "version": 3
   },
   "file_extension": ".py",
   "mimetype": "text/x-python",
   "name": "python",
   "nbconvert_exporter": "python",
   "pygments_lexer": "ipython3",
   "version": "3.9.7"
  },
  "toc": {
   "base_numbering": 1,
   "nav_menu": {},
   "number_sections": true,
   "sideBar": true,
   "skip_h1_title": false,
   "title_cell": "Table of Contents",
   "title_sidebar": "Contents",
   "toc_cell": false,
   "toc_position": {
    "height": "calc(100% - 180px)",
    "left": "10px",
    "top": "150px",
    "width": "256px"
   },
   "toc_section_display": true,
   "toc_window_display": true
  },
  "varInspector": {
   "cols": {
    "lenName": 16,
    "lenType": 16,
    "lenVar": 40
   },
   "kernels_config": {
    "python": {
     "delete_cmd_postfix": "",
     "delete_cmd_prefix": "del ",
     "library": "var_list.py",
     "varRefreshCmd": "print(var_dic_list())"
    },
    "r": {
     "delete_cmd_postfix": ") ",
     "delete_cmd_prefix": "rm(",
     "library": "var_list.r",
     "varRefreshCmd": "cat(var_dic_list()) "
    }
   },
   "types_to_exclude": [
    "module",
    "function",
    "builtin_function_or_method",
    "instance",
    "_Feature"
   ],
   "window_display": false
  }
 },
 "nbformat": 4,
 "nbformat_minor": 5
}
