{
 "cells": [
  {
   "cell_type": "markdown",
   "id": "8338127f",
   "metadata": {},
   "source": [
    "# 마크다운(Mark down)\n"
   ]
  },
  {
   "cell_type": "code",
   "execution_count": 1,
   "id": "69446a1e",
   "metadata": {
    "ExecuteTime": {
     "end_time": "2023-08-22T00:10:47.573953Z",
     "start_time": "2023-08-22T00:10:47.563988Z"
    }
   },
   "outputs": [],
   "source": [
    "# 주석(comment) : 프로그램 실행과는 상관없이 설명을 담기 위해 사용하는 기호"
   ]
  },
  {
   "cell_type": "markdown",
   "id": "2ec2e662",
   "metadata": {},
   "source": [
    "# 기본문법"
   ]
  },
  {
   "cell_type": "markdown",
   "id": "ff4a3b90",
   "metadata": {},
   "source": [
    "## 파이썬 표준 라이브러리 문서\n",
    "https://docs.python.org/3/library/index.html"
   ]
  },
  {
   "cell_type": "code",
   "execution_count": 2,
   "id": "32a0b0a2",
   "metadata": {
    "ExecuteTime": {
     "end_time": "2023-08-22T00:17:51.348864Z",
     "start_time": "2023-08-22T00:17:51.340865Z"
    }
   },
   "outputs": [],
   "source": [
    "# 명령어 실행\n",
    "## Ctrl + Enter : 현재 셀을 실행하라\n",
    "## Shift + Enter : 현재 셀을 실행한 후 새로운 셀을 생성"
   ]
  },
  {
   "cell_type": "markdown",
   "id": "ffcfe87a",
   "metadata": {},
   "source": [
    "## 예약어(keyword)\n",
    "\n",
    "- 파이썬에서 이미 문법적인 용도가 정해져있는 단어들\n",
    "- 식별자(변수명, 함수명, 객체명..)로 사용할 수 없다.\n",
    "- 예약어를 식별자로 사용하면 에러는 발생하지 않지만 고유기능이 사라진다.\n",
    "- 종결자(;)가 있지만 파이썬은 없다. 단, 사용해도 에러는 아니다"
   ]
  },
  {
   "cell_type": "code",
   "execution_count": 3,
   "id": "66e7330b",
   "metadata": {
    "ExecuteTime": {
     "end_time": "2023-08-22T00:22:28.261129Z",
     "start_time": "2023-08-22T00:22:28.248130Z"
    }
   },
   "outputs": [],
   "source": [
    "# 파이썬에 등록된 예약어 목록을 확인하는 작업\n",
    "## 파이썬의 예약어 모듈 추가하는 작업\n",
    "import keyword"
   ]
  },
  {
   "cell_type": "code",
   "execution_count": 4,
   "id": "a9149f9b",
   "metadata": {
    "ExecuteTime": {
     "end_time": "2023-08-22T00:24:09.750537Z",
     "start_time": "2023-08-22T00:24:09.741497Z"
    }
   },
   "outputs": [
    {
     "name": "stdout",
     "output_type": "stream",
     "text": [
      "['False', 'None', 'True', '__peg_parser__', 'and', 'as', 'assert', 'async', 'await', 'break', 'class', 'continue', 'def', 'del', 'elif', 'else', 'except', 'finally', 'for', 'from', 'global', 'if', 'import', 'in', 'is', 'lambda', 'nonlocal', 'not', 'or', 'pass', 'raise', 'return', 'try', 'while', 'with', 'yield']\n"
     ]
    }
   ],
   "source": [
    "# 예약어 목록을 출력\n",
    "## 해당 패키지의 명령어 사용법 : .(direct 연산자)\n",
    "print(keyword.kwlist)"
   ]
  },
  {
   "cell_type": "code",
   "execution_count": 5,
   "id": "8b061fa3",
   "metadata": {
    "ExecuteTime": {
     "end_time": "2023-08-22T00:25:31.652166Z",
     "start_time": "2023-08-22T00:25:31.649204Z"
    }
   },
   "outputs": [
    {
     "name": "stdout",
     "output_type": "stream",
     "text": [
      "36\n"
     ]
    }
   ],
   "source": [
    "# 갯수 : len(리스트)\n",
    "print(len(keyword.kwlist))"
   ]
  },
  {
   "cell_type": "markdown",
   "id": "12feffcb",
   "metadata": {},
   "source": [
    "## 들여쓰기와 공백\n",
    "\n",
    "1. 들여쓰기(Indent) : 파이썬에서 공백문자 4칸의 의미를 가진다"
   ]
  },
  {
   "cell_type": "code",
   "execution_count": 8,
   "id": "36819277",
   "metadata": {
    "ExecuteTime": {
     "end_time": "2023-08-22T00:41:07.137136Z",
     "start_time": "2023-08-22T00:41:07.121138Z"
    }
   },
   "outputs": [
    {
     "name": "stdout",
     "output_type": "stream",
     "text": [
      "0\n",
      "1\n",
      "2\n",
      "3\n",
      "4\n",
      "5\n",
      "6\n",
      "7\n",
      "8\n",
      "9\n"
     ]
    }
   ],
   "source": [
    "for i in range(10):\n",
    "    print(i)"
   ]
  },
  {
   "cell_type": "code",
   "execution_count": 9,
   "id": "09d81049",
   "metadata": {
    "ExecuteTime": {
     "end_time": "2023-08-22T00:43:47.736748Z",
     "start_time": "2023-08-22T00:43:47.730780Z"
    }
   },
   "outputs": [],
   "source": [
    "a = 3\n",
    "if a < 2:\n",
    "    a = 4\n",
    "    print(a)"
   ]
  },
  {
   "cell_type": "code",
   "execution_count": 10,
   "id": "75c58ffc",
   "metadata": {
    "ExecuteTime": {
     "end_time": "2023-08-22T00:44:30.922440Z",
     "start_time": "2023-08-22T00:44:30.907472Z"
    }
   },
   "outputs": [
    {
     "name": "stdout",
     "output_type": "stream",
     "text": [
      "3\n"
     ]
    }
   ],
   "source": [
    "a = 3\n",
    "if a < 2:\n",
    "    a = 4\n",
    "print(a)"
   ]
  },
  {
   "cell_type": "markdown",
   "id": "e422bc3b",
   "metadata": {},
   "source": [
    "## 주석(comment)\n",
    "\n",
    "- **주석** 은 프로그램 실행과는 상관없이 설명을 담기 위해 사용하는 구문\n",
    "- 기호 : '#'"
   ]
  },
  {
   "cell_type": "code",
   "execution_count": 11,
   "id": "7bda9a2f",
   "metadata": {
    "ExecuteTime": {
     "end_time": "2023-08-22T00:48:16.051332Z",
     "start_time": "2023-08-22T00:48:16.043363Z"
    }
   },
   "outputs": [],
   "source": [
    "# 이것이 한 줄 주석입니다."
   ]
  },
  {
   "cell_type": "code",
   "execution_count": 12,
   "id": "91cbb68a",
   "metadata": {
    "ExecuteTime": {
     "end_time": "2023-08-22T00:49:18.749362Z",
     "start_time": "2023-08-22T00:49:18.739302Z"
    }
   },
   "outputs": [
    {
     "data": {
      "text/plain": [
       "'\\n이 부분부터 여러줄 주석으로 처리합니다. 단, 문자열을 입력할 때도 여러줄의\\n문자열을 입력할 때 동일하기 때문에 일반주석과 달리 출력이 됩니다.\\n이점을 이해하세요\\n'"
      ]
     },
     "execution_count": 12,
     "metadata": {},
     "output_type": "execute_result"
    }
   ],
   "source": [
    "\"\"\"\n",
    "이 부분부터 여러줄 주석으로 처리합니다. 단, 문자열을 입력할 때도 여러줄의\n",
    "문자열을 입력할 때 동일하기 때문에 일반주석과 달리 출력이 됩니다.\n",
    "이점을 이해하세요\n",
    "\"\"\""
   ]
  },
  {
   "cell_type": "code",
   "execution_count": 13,
   "id": "4e74f7ea",
   "metadata": {
    "ExecuteTime": {
     "end_time": "2023-08-22T00:50:04.364835Z",
     "start_time": "2023-08-22T00:50:04.351098Z"
    }
   },
   "outputs": [
    {
     "data": {
      "text/plain": [
       "' 이것도 여러줄 주석에 사용됩니다.\\n위 코드와 마찬가지고 문자열을 여러개 입력할 때 사용하기 때문에\\n이 아이도 출력이 됩니다.\\n'"
      ]
     },
     "execution_count": 13,
     "metadata": {},
     "output_type": "execute_result"
    }
   ],
   "source": [
    "''' 이것도 여러줄 주석에 사용됩니다.\n",
    "위 코드와 마찬가지고 문자열을 여러개 입력할 때 사용하기 때문에\n",
    "이 아이도 출력이 됩니다.\n",
    "'''"
   ]
  },
  {
   "cell_type": "code",
   "execution_count": 14,
   "id": "3f45a22c",
   "metadata": {
    "ExecuteTime": {
     "end_time": "2023-08-22T00:51:21.835845Z",
     "start_time": "2023-08-22T00:51:21.823874Z"
    }
   },
   "outputs": [],
   "source": [
    "# 영역지정후 Ctrl + /를 누려면 일괄적으로 주석처리가 된다.\n",
    "# 여러줄 주석을 담고 싶을 때\n",
    "# 각 문장의 앞에 일괄적으로\n",
    "# 기호를 붙이면 됩니다."
   ]
  },
  {
   "cell_type": "code",
   "execution_count": null,
   "id": "8296eec5",
   "metadata": {},
   "outputs": [],
   "source": []
  }
 ],
 "metadata": {
  "kernelspec": {
   "display_name": "Python 3 (ipykernel)",
   "language": "python",
   "name": "python3"
  },
  "language_info": {
   "codemirror_mode": {
    "name": "ipython",
    "version": 3
   },
   "file_extension": ".py",
   "mimetype": "text/x-python",
   "name": "python",
   "nbconvert_exporter": "python",
   "pygments_lexer": "ipython3",
   "version": "3.9.7"
  },
  "toc": {
   "base_numbering": 1,
   "nav_menu": {
    "height": "112px",
    "width": "245.33px"
   },
   "number_sections": true,
   "sideBar": true,
   "skip_h1_title": false,
   "title_cell": "Table of Contents",
   "title_sidebar": "Contents",
   "toc_cell": false,
   "toc_position": {
    "height": "calc(100% - 180px)",
    "left": "10px",
    "top": "150px",
    "width": "219.429px"
   },
   "toc_section_display": true,
   "toc_window_display": true
  },
  "varInspector": {
   "cols": {
    "lenName": 16,
    "lenType": 16,
    "lenVar": 40
   },
   "kernels_config": {
    "python": {
     "delete_cmd_postfix": "",
     "delete_cmd_prefix": "del ",
     "library": "var_list.py",
     "varRefreshCmd": "print(var_dic_list())"
    },
    "r": {
     "delete_cmd_postfix": ") ",
     "delete_cmd_prefix": "rm(",
     "library": "var_list.r",
     "varRefreshCmd": "cat(var_dic_list()) "
    }
   },
   "types_to_exclude": [
    "module",
    "function",
    "builtin_function_or_method",
    "instance",
    "_Feature"
   ],
   "window_display": false
  }
 },
 "nbformat": 4,
 "nbformat_minor": 5
}
