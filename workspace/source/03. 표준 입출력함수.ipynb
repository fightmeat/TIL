{
 "cells": [
  {
   "cell_type": "markdown",
   "id": "259e0b1f",
   "metadata": {},
   "source": [
    "# 표준 입력함수 : input()\n",
    "\n",
    "- 파이썬에서 기본적으로 데이터를 키보드로 입력할 때 사용하는 함수 : 콘솔(console) 환경\n",
    "- input함수는 입력되는 모든 것을 문자열로 취급한다.\n",
    "- 형식 : 변수 = input()"
   ]
  },
  {
   "cell_type": "code",
   "execution_count": null,
   "id": "a32351f5",
   "metadata": {
    "ExecuteTime": {
     "end_time": "2023-08-22T02:43:03.837649Z",
     "start_time": "2023-08-22T02:42:48.806558Z"
    }
   },
   "outputs": [],
   "source": [
    "# '=' 연산자의 연산방향은 오른쪽에서 왼쪽이다.  x = 9\n",
    "# '+' 연산자의 연산방향은 좌에서 우이다.  10 + 3\n",
    "a = input()\n",
    "print(a)"
   ]
  },
  {
   "cell_type": "code",
   "execution_count": null,
   "id": "1e9c011f",
   "metadata": {
    "ExecuteTime": {
     "end_time": "2023-08-22T02:44:35.954534Z",
     "start_time": "2023-08-22T02:44:27.689592Z"
    }
   },
   "outputs": [],
   "source": [
    "# input(message)\n",
    "b = input(\"숫자입력 : \")\n",
    "print(\"입력받은 숫자 : \", b)"
   ]
  },
  {
   "cell_type": "code",
   "execution_count": null,
   "id": "7fc3ad53",
   "metadata": {
    "ExecuteTime": {
     "end_time": "2023-08-22T02:50:13.505488Z",
     "start_time": "2023-08-22T02:50:10.929498Z"
    }
   },
   "outputs": [],
   "source": [
    "# 반지름을 입력받아 원의 면적과 둘레를 계산하는 프로그램을 구현하시오.\n",
    "\n",
    "## 선언문 = 초기화(변수의 처음값을 담는 역할을 수행하는 문장)\n",
    "pi = 3.14\n",
    "\n",
    "## 입력문\n",
    "r = int(input(\"반지름 : \"))\n",
    "\n",
    "## 처리문\n",
    "\n",
    "## 출력문\n",
    "print(\"원의 둘레 : \", 2 * pi * r)\n",
    "print(\"원의 면적 : \", r * r * pi)"
   ]
  },
  {
   "cell_type": "code",
   "execution_count": null,
   "id": "436a79f4",
   "metadata": {
    "ExecuteTime": {
     "end_time": "2023-08-22T02:54:22.069681Z",
     "start_time": "2023-08-22T02:54:13.043354Z"
    }
   },
   "outputs": [],
   "source": [
    "# 두 개의 숫자를 입력받아 합과 곱을 출력하는 프로그램을 구현하시오.\n",
    "\n",
    "## 입력문\n",
    "su1 = int(input('첫번째숫자 : '))\n",
    "su2 = int(input('두번째숫자 : '))\n",
    "\n",
    "## 처리문\n",
    "hap = su1 + su2\n",
    "gob = su1 * su2\n",
    "\n",
    "## 출력문\n",
    "print(\"합 : \", hap)\n",
    "print(\"곱 : \", gob)"
   ]
  },
  {
   "cell_type": "markdown",
   "id": "5106c99e",
   "metadata": {},
   "source": [
    "## 여러 값을 한번에 입력받는 함수\n",
    "- split() : 특정 문자를 기준으로 문자열을 잘라내는 함수\n",
    "- map() : map(변환함수, 반복가능한 객체)"
   ]
  },
  {
   "cell_type": "code",
   "execution_count": null,
   "id": "4e9f27b5",
   "metadata": {
    "ExecuteTime": {
     "end_time": "2023-08-22T02:57:41.583196Z",
     "start_time": "2023-08-22T02:57:11.656957Z"
    }
   },
   "outputs": [],
   "source": [
    "num = input()\n",
    "print(num)"
   ]
  },
  {
   "cell_type": "code",
   "execution_count": null,
   "id": "2626aaf5",
   "metadata": {
    "ExecuteTime": {
     "end_time": "2023-08-22T02:59:48.922716Z",
     "start_time": "2023-08-22T02:59:30.456308Z"
    }
   },
   "outputs": [],
   "source": [
    "# split() 함수의 기본은 공백을 기준으로 잘라낸다.\n",
    "num = input().split()\n",
    "print(num)  # 리스트 자료형에 담아서 반환한다."
   ]
  },
  {
   "cell_type": "code",
   "execution_count": null,
   "id": "603b3e41",
   "metadata": {
    "ExecuteTime": {
     "end_time": "2023-08-22T03:02:12.227361Z",
     "start_time": "2023-08-22T03:01:57.223500Z"
    }
   },
   "outputs": [],
   "source": [
    "num = map(int, input().split()) # map 객체로 반환된다.(주소반환)\n",
    "print(num)"
   ]
  },
  {
   "cell_type": "code",
   "execution_count": null,
   "id": "e1aeec82",
   "metadata": {
    "ExecuteTime": {
     "end_time": "2023-08-22T03:03:56.705811Z",
     "start_time": "2023-08-22T03:03:47.095679Z"
    }
   },
   "outputs": [],
   "source": [
    "# list(리스트)는 1차원 배열을 의미하는 자료형으로 R에서 Vector형식을 갖는다.\n",
    "num = list(map(int, input().split()))\n",
    "print(num)"
   ]
  },
  {
   "cell_type": "code",
   "execution_count": null,
   "id": "a893288f",
   "metadata": {
    "ExecuteTime": {
     "end_time": "2023-08-22T03:33:37.211800Z",
     "start_time": "2023-08-22T03:33:37.195855Z"
    }
   },
   "outputs": [],
   "source": [
    "# 함수의 도움말을 확인할 때 help()\n",
    "help(input)"
   ]
  },
  {
   "cell_type": "markdown",
   "id": "9ed17266",
   "metadata": {},
   "source": [
    "# 표준 출력함수 : print()\n",
    "\n",
    "- 기본형 : print(\"출력내용\")\n",
    "- print(a, b, c)"
   ]
  },
  {
   "cell_type": "markdown",
   "id": "bc62aedf",
   "metadata": {},
   "source": [
    "## 형식화된 문자열을 이용한 출력\n",
    "\n",
    "- 형식 : 형식화된 문자열.format(변수)"
   ]
  },
  {
   "cell_type": "code",
   "execution_count": null,
   "id": "98951bb7",
   "metadata": {
    "ExecuteTime": {
     "end_time": "2023-08-22T03:36:09.431665Z",
     "start_time": "2023-08-22T03:36:09.424625Z"
    }
   },
   "outputs": [],
   "source": [
    "x = 9\n",
    "print(x)\n",
    "print(\"x = \", x)"
   ]
  },
  {
   "cell_type": "code",
   "execution_count": null,
   "id": "c3a83818",
   "metadata": {
    "ExecuteTime": {
     "end_time": "2023-08-22T03:39:44.599762Z",
     "start_time": "2023-08-22T03:39:44.586762Z"
    }
   },
   "outputs": [],
   "source": [
    "print(\"정수1 : {0}\".format(x))\n",
    "print(\"결과 : {}\".format(3**5))\n",
    "print(\"덧셈 : {0}, 곱셈 : {1}\".format(x+x, x*x))"
   ]
  },
  {
   "cell_type": "code",
   "execution_count": null,
   "id": "15a50a6d",
   "metadata": {
    "ExecuteTime": {
     "end_time": "2023-08-22T03:45:39.146234Z",
     "start_time": "2023-08-22T03:45:39.132623Z"
    }
   },
   "outputs": [],
   "source": [
    "name = \"홍길동\"\n",
    "age = 23\n",
    "gender = 'M'"
   ]
  },
  {
   "cell_type": "code",
   "execution_count": null,
   "id": "8155348e",
   "metadata": {
    "ExecuteTime": {
     "end_time": "2023-08-22T03:40:55.019457Z",
     "start_time": "2023-08-22T03:40:55.013459Z"
    }
   },
   "outputs": [],
   "source": [
    "print(\"홍길동님의 나이는 23세이고 성별은 남자입니다.\")"
   ]
  },
  {
   "cell_type": "code",
   "execution_count": null,
   "id": "a732dc86",
   "metadata": {
    "ExecuteTime": {
     "end_time": "2023-08-22T03:45:41.150632Z",
     "start_time": "2023-08-22T03:45:41.140662Z"
    }
   },
   "outputs": [],
   "source": [
    "print(\"%s님의 나이는 %d세이고 성별은 %c입니다.\" %(name, age, gender))"
   ]
  },
  {
   "cell_type": "code",
   "execution_count": null,
   "id": "aefdf71a",
   "metadata": {
    "ExecuteTime": {
     "end_time": "2023-08-22T03:46:21.822124Z",
     "start_time": "2023-08-22T03:46:21.801158Z"
    }
   },
   "outputs": [],
   "source": [
    "x = 8.3 / 2.7\n",
    "x"
   ]
  },
  {
   "cell_type": "code",
   "execution_count": null,
   "id": "36b8d1bf",
   "metadata": {
    "ExecuteTime": {
     "end_time": "2023-08-22T03:47:01.868582Z",
     "start_time": "2023-08-22T03:47:01.850607Z"
    }
   },
   "outputs": [],
   "source": [
    "print(\"결과 : %f\" % x)"
   ]
  },
  {
   "cell_type": "code",
   "execution_count": null,
   "id": "f41bad65",
   "metadata": {
    "ExecuteTime": {
     "end_time": "2023-08-22T03:47:28.237225Z",
     "start_time": "2023-08-22T03:47:28.226225Z"
    }
   },
   "outputs": [],
   "source": [
    "print(\"결과 : %.2f\" % x)"
   ]
  },
  {
   "cell_type": "code",
   "execution_count": null,
   "id": "609d1a7c",
   "metadata": {
    "ExecuteTime": {
     "end_time": "2023-08-22T03:48:36.586689Z",
     "start_time": "2023-08-22T03:48:36.581638Z"
    }
   },
   "outputs": [],
   "source": [
    "a = 10\n",
    "b = 20\n",
    "\n",
    "print(\"a = {}, b = {}\".format(a, b))\n",
    "print(\"a = {0}, b = {1}\".format(a, b))"
   ]
  },
  {
   "cell_type": "code",
   "execution_count": null,
   "id": "90260036",
   "metadata": {
    "ExecuteTime": {
     "end_time": "2023-08-22T03:49:12.142633Z",
     "start_time": "2023-08-22T03:49:12.129883Z"
    }
   },
   "outputs": [],
   "source": [
    "print(\"a = {1}, b = {0}\".format(b, a))"
   ]
  },
  {
   "cell_type": "code",
   "execution_count": null,
   "id": "d06a6168",
   "metadata": {
    "ExecuteTime": {
     "end_time": "2023-08-22T05:10:40.610861Z",
     "start_time": "2023-08-22T05:10:40.597861Z"
    }
   },
   "outputs": [],
   "source": [
    "# 형식화된 문자열.format()\n",
    "print(\"실수 1:{0:.3f}\".format(8.3 / 2.7))"
   ]
  },
  {
   "cell_type": "code",
   "execution_count": null,
   "id": "afd4a835",
   "metadata": {
    "ExecuteTime": {
     "end_time": "2023-08-22T05:12:16.480403Z",
     "start_time": "2023-08-22T05:12:16.473371Z"
    }
   },
   "outputs": [],
   "source": [
    "y = 2.5 * 4.8\n",
    "print(\"실수값 : {0:5.2f} \".format(y))"
   ]
  },
  {
   "cell_type": "code",
   "execution_count": null,
   "id": "11b0e50b",
   "metadata": {
    "ExecuteTime": {
     "end_time": "2023-08-22T05:14:11.377462Z",
     "start_time": "2023-08-22T05:14:11.361825Z"
    }
   },
   "outputs": [],
   "source": [
    "print(\"실수값 : {} \".format(8.3/2.7))\n",
    "print(\"실수값 : {0} \".format(8.3/2.7))\n",
    "print(\"실수값 : {0:.3f} \".format(8.3/2.7))\n",
    "print(\"실수값 : {0:.1f} \".format(8.3/2.7))\n",
    "print(\"실수값 : {0:.2f} \".format(8.3/2.7))\n",
    "print(\"실수값 : {0:.4f} \".format(8.3/2.7))\n",
    "print(\"실수값 : {0:10.4f} \".format(8.3/2.7))"
   ]
  },
  {
   "cell_type": "markdown",
   "id": "8f38c558",
   "metadata": {},
   "source": [
    "## 서식기호를 이용한 출력"
   ]
  },
  {
   "cell_type": "code",
   "execution_count": null,
   "id": "7e49895c",
   "metadata": {
    "ExecuteTime": {
     "end_time": "2023-08-22T05:17:13.288639Z",
     "start_time": "2023-08-22T05:17:13.277668Z"
    }
   },
   "outputs": [],
   "source": [
    "# %s : 문자열\n",
    "# %c : 문자\n",
    "# %d : 정수\n",
    "# %f : 실수\n",
    "\n",
    "num = 12\n",
    "print(\"현재 시간은 %d 입니다.\" % num)"
   ]
  },
  {
   "cell_type": "code",
   "execution_count": null,
   "id": "8c1fe41d",
   "metadata": {
    "ExecuteTime": {
     "end_time": "2023-08-22T05:18:20.693700Z",
     "start_time": "2023-08-22T05:18:20.679768Z"
    }
   },
   "outputs": [],
   "source": [
    "hour = 14\n",
    "minute = 17\n",
    "print(\"현재 시간은 %d시 %d분입니다.\" % (hour, minute))"
   ]
  },
  {
   "cell_type": "code",
   "execution_count": null,
   "id": "793b48eb",
   "metadata": {
    "ExecuteTime": {
     "end_time": "2023-08-22T05:20:02.363466Z",
     "start_time": "2023-08-22T05:20:02.349496Z"
    }
   },
   "outputs": [],
   "source": [
    "name = \"길동\"\n",
    "height = 180\n",
    "weight = 78.5\n",
    "print(\"%s님의 키는 %d이고, 몸무게는 %.2f입니다.\" % (name, height, weight))"
   ]
  },
  {
   "cell_type": "code",
   "execution_count": null,
   "id": "3b0a1c65",
   "metadata": {
    "ExecuteTime": {
     "end_time": "2023-08-22T05:22:58.424155Z",
     "start_time": "2023-08-22T05:22:58.409195Z"
    }
   },
   "outputs": [],
   "source": [
    "# 서식지정자(%)와 서식기호 사이에 숫자는 자릿수를 의미한다.\n",
    "## 기본적으로 숫자는 오른쪽 정렬 : 정렬(양수와 음수로 구분)\n",
    "print(\"숫자출력 %10d\" % 100)\n",
    "print(\"숫자출력 %10d\" % 10000)\n",
    "print(\"숫자출력 %-10d\" % 10000)"
   ]
  },
  {
   "cell_type": "code",
   "execution_count": null,
   "id": "e8857c7d",
   "metadata": {
    "ExecuteTime": {
     "end_time": "2023-08-22T05:25:11.277346Z",
     "start_time": "2023-08-22T05:25:11.274339Z"
    }
   },
   "outputs": [],
   "source": [
    "print(\"{name} is {job}\".format(name='John', job=\"programmer\"))"
   ]
  },
  {
   "cell_type": "code",
   "execution_count": null,
   "id": "4bc56448",
   "metadata": {
    "ExecuteTime": {
     "end_time": "2023-08-22T05:27:05.518118Z",
     "start_time": "2023-08-22T05:27:05.507112Z"
    }
   },
   "outputs": [],
   "source": [
    "# 파이썬 3.6부터는 문자열 포매팅에 변수를 그래도 사용할 수 있다.\n",
    "# 문자열 앞에 문자열 포매팅이라는 의미로 f를 붙여준다.\n",
    "name = 'John'\n",
    "job = 'studying'\n",
    "print(f'{name} is {job}')"
   ]
  },
  {
   "cell_type": "code",
   "execution_count": null,
   "id": "05728d83",
   "metadata": {
    "ExecuteTime": {
     "end_time": "2023-08-22T05:32:04.470882Z",
     "start_time": "2023-08-22T05:32:04.459911Z"
    }
   },
   "outputs": [],
   "source": [
    "# 문자정렬는 기본이 왼쪽정렬이다.\n",
    "# 인덱스뒤에 :>(숫자)\n",
    "\n",
    "print('{0}'.format('hi'))\n",
    "print('{0:10}'.format('hi'))\n",
    "print('{0:>10}'.format('hi'))  # > : 오른쪽 정렬\n",
    "print('{0:<10}'.format('hi'))  # < : 왼쪽 정렬\n",
    "print('{0:^10}'.format('hi'))  # ^ : 가운데 정렬\n",
    "print('{0:=^10}'.format('hi'))  # = : 빈공간을 '='로 채우기"
   ]
  },
  {
   "cell_type": "code",
   "execution_count": null,
   "id": "52919e43",
   "metadata": {
    "ExecuteTime": {
     "end_time": "2023-08-22T05:33:15.891320Z",
     "start_time": "2023-08-22T05:33:15.872354Z"
    }
   },
   "outputs": [],
   "source": [
    "x = 4.2\n",
    "print(f\"{x:10.3f}\")"
   ]
  },
  {
   "cell_type": "code",
   "execution_count": null,
   "id": "8a50a776",
   "metadata": {
    "ExecuteTime": {
     "end_time": "2023-08-22T05:36:38.001589Z",
     "start_time": "2023-08-22T05:36:37.996591Z"
    }
   },
   "outputs": [],
   "source": [
    "# swap : 자리바꿈\n",
    "x = 100\n",
    "y = 200\n",
    "print(\"x = %d, y = %d\" % (x, y))\n",
    "\n",
    "# 변수는 하나의 값을 담는 기억공간, 새로운 값이 들어오면 그전값은 지워진다.\n",
    "temp = x\n",
    "x = y\n",
    "y = temp\n",
    "print(\"x = %d, y = %d\" % (x, y))"
   ]
  },
  {
   "cell_type": "code",
   "execution_count": null,
   "id": "a7ed29fd",
   "metadata": {
    "ExecuteTime": {
     "end_time": "2023-08-22T05:37:33.483461Z",
     "start_time": "2023-08-22T05:37:33.465221Z"
    }
   },
   "outputs": [],
   "source": [
    "# swap : 자리바꿈\n",
    "x = 100\n",
    "y = 200\n",
    "print(\"x = %d, y = %d\" % (x, y))\n",
    "\n",
    "x, y = y, x   # x, y = (y, x)\n",
    "print(\"x = %d, y = %d\" % (x, y))"
   ]
  },
  {
   "cell_type": "code",
   "execution_count": null,
   "id": "53742003",
   "metadata": {
    "ExecuteTime": {
     "end_time": "2023-08-22T05:40:25.224633Z",
     "start_time": "2023-08-22T05:40:25.210665Z"
    }
   },
   "outputs": [],
   "source": [
    "# 파이썬의 자료구조 : 리스트, 튜플, 집합(셋), 딕셔너리, 데이터프레임\n",
    "# 자료구조 : 하나이상의 데이터를 담아서 관리하는 공간\n",
    "\n",
    "## 패킹(packing)과 언패킹(unpacking)\n",
    "\n",
    "x = 1, 2, 3, 4, 5  # 패킹, x = (1, 2, 3, 4, 5), tuple\n",
    "x"
   ]
  },
  {
   "cell_type": "code",
   "execution_count": null,
   "id": "5f7aadbc",
   "metadata": {
    "ExecuteTime": {
     "end_time": "2023-08-22T05:42:19.273944Z",
     "start_time": "2023-08-22T05:42:19.268977Z"
    }
   },
   "outputs": [],
   "source": [
    "a = x\n",
    "a"
   ]
  },
  {
   "cell_type": "code",
   "execution_count": null,
   "id": "752b4698",
   "metadata": {
    "ExecuteTime": {
     "end_time": "2023-08-22T05:42:38.236162Z",
     "start_time": "2023-08-22T05:42:38.232190Z"
    }
   },
   "outputs": [],
   "source": [
    "a, b, c, d, e = x # 언패킹\n",
    "print(a, b, c, d, e)"
   ]
  },
  {
   "cell_type": "code",
   "execution_count": null,
   "id": "261d069b",
   "metadata": {
    "ExecuteTime": {
     "end_time": "2023-08-22T05:43:11.676150Z",
     "start_time": "2023-08-22T05:43:11.657184Z"
    }
   },
   "outputs": [],
   "source": [
    "x1, x2, x3 = x\n",
    "print(x1, x2, x3)"
   ]
  },
  {
   "cell_type": "code",
   "execution_count": 1,
   "id": "10488f71",
   "metadata": {
    "ExecuteTime": {
     "end_time": "2023-08-22T06:10:02.589888Z",
     "start_time": "2023-08-22T06:09:58.142990Z"
    }
   },
   "outputs": [
    {
     "name": "stdout",
     "output_type": "stream",
     "text": [
      "숫자 = 10 20\n",
      "10 + 20 = 30\n"
     ]
    }
   ],
   "source": [
    "# 두 개의 정수를 입력받아 사칙연산의 결과를 출력하는 프로그램을 구현하시오.\n",
    "\n",
    "## 입력형식\n",
    "## 숫자 = 10 20\n",
    "\n",
    "## 출력형식\n",
    "## 10 + 20 = 30\n",
    "## 10 - 20 = -10\n",
    "## 10 * 20 =\n",
    "\n",
    "### 입력문\n",
    "su1, su2 = input('숫자 = ').split()\n",
    "\n",
    "### 처리문\n",
    "su1 = int(su1)\n",
    "su2 = int(su2)\n",
    "\n",
    "### 출력문\n",
    "print(f\"{su1} + {su2} = {su1+su2}\")"
   ]
  },
  {
   "cell_type": "code",
   "execution_count": 2,
   "id": "ba14f5d0",
   "metadata": {
    "ExecuteTime": {
     "end_time": "2023-08-22T06:10:09.717189Z",
     "start_time": "2023-08-22T06:10:05.949057Z"
    }
   },
   "outputs": [
    {
     "name": "stdout",
     "output_type": "stream",
     "text": [
      "숫자 = 10,20\n",
      "10 + 20 = 30\n"
     ]
    }
   ],
   "source": [
    "### 입력문\n",
    "su1, su2 = map(int, input('숫자 = ').split(','))\n",
    "\n",
    "### 처리문\n",
    "\n",
    "### 출력문\n",
    "print(f\"{su1} + {su2} = {su1+su2}\")"
   ]
  },
  {
   "cell_type": "markdown",
   "id": "e35f5c5c",
   "metadata": {},
   "source": [
    "### 성적처리 프로그램 1단계\n",
    "\n",
    "국어, 영어, 수학점수를 입력받아 총점과 평균을 출력하는 프로그램을 구현하시오.  \n",
    "단, 평균은 소숫점이하 둘째자리까지 표현할 것\n"
   ]
  },
  {
   "cell_type": "code",
   "execution_count": 3,
   "id": "472bb1be",
   "metadata": {
    "ExecuteTime": {
     "end_time": "2023-08-22T06:14:02.682321Z",
     "start_time": "2023-08-22T06:13:57.541441Z"
    }
   },
   "outputs": [
    {
     "name": "stdout",
     "output_type": "stream",
     "text": [
      "국어 = 90\n",
      "영어 = 88\n",
      "수학 = 72\n",
      "총점 : 250점,  평균 : 83.33점\n"
     ]
    }
   ],
   "source": [
    "# 입력형식\n",
    "## 국어 =\n",
    "## 영어 =\n",
    "## 수학 =\n",
    "\n",
    "kor = int(input('국어 = '))\n",
    "eng = int(input('영어 = '))\n",
    "mat = int(input('수학 = '))\n",
    "\n",
    "tot = kor + eng + mat\n",
    "avg = tot / 3\n",
    "\n",
    "# 출력형식\n",
    "## 총점 : xx점, 평균 : xx.xx점\n",
    "print(\"총점 : {0}점,  평균 : {1:.2f}점\".format(tot, avg))"
   ]
  },
  {
   "cell_type": "code",
   "execution_count": 5,
   "id": "e9a712d3",
   "metadata": {
    "ExecuteTime": {
     "end_time": "2023-08-22T06:16:17.408241Z",
     "start_time": "2023-08-22T06:16:12.094247Z"
    }
   },
   "outputs": [
    {
     "name": "stdout",
     "output_type": "stream",
     "text": [
      "92 88 87\n",
      "총점:267, 평균:89.00\n"
     ]
    }
   ],
   "source": [
    "kor, eng, mat = map(int, input().split())\n",
    "tot = kor + eng + mat\n",
    "avg = tot / 3\n",
    "print(f\"총점:{tot}, 평균:{avg:.2f}\")"
   ]
  },
  {
   "cell_type": "markdown",
   "id": "6224c585",
   "metadata": {},
   "source": []
  }
 ],
 "metadata": {
  "kernelspec": {
   "display_name": "Python 3 (ipykernel)",
   "language": "python",
   "name": "python3"
  },
  "language_info": {
   "codemirror_mode": {
    "name": "ipython",
    "version": 3
   },
   "file_extension": ".py",
   "mimetype": "text/x-python",
   "name": "python",
   "nbconvert_exporter": "python",
   "pygments_lexer": "ipython3",
   "version": "3.9.7"
  },
  "toc": {
   "base_numbering": 1,
   "nav_menu": {},
   "number_sections": true,
   "sideBar": true,
   "skip_h1_title": false,
   "title_cell": "Table of Contents",
   "title_sidebar": "Contents",
   "toc_cell": false,
   "toc_position": {
    "height": "calc(100% - 180px)",
    "left": "10px",
    "top": "150px",
    "width": "256px"
   },
   "toc_section_display": true,
   "toc_window_display": true
  },
  "varInspector": {
   "cols": {
    "lenName": 16,
    "lenType": 16,
    "lenVar": 40
   },
   "kernels_config": {
    "python": {
     "delete_cmd_postfix": "",
     "delete_cmd_prefix": "del ",
     "library": "var_list.py",
     "varRefreshCmd": "print(var_dic_list())"
    },
    "r": {
     "delete_cmd_postfix": ") ",
     "delete_cmd_prefix": "rm(",
     "library": "var_list.r",
     "varRefreshCmd": "cat(var_dic_list()) "
    }
   },
   "types_to_exclude": [
    "module",
    "function",
    "builtin_function_or_method",
    "instance",
    "_Feature"
   ],
   "window_display": false
  }
 },
 "nbformat": 4,
 "nbformat_minor": 5
}
