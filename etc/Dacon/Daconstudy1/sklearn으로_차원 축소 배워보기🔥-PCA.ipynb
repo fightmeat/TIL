{
  "nbformat": 4,
  "nbformat_minor": 0,
  "metadata": {
    "colab": {
      "name": "차원축소.ipynb",
      "provenance": [],
      "collapsed_sections": []
    },
    "kernelspec": {
      "name": "python3",
      "display_name": "Python 3"
    },
    "language_info": {
      "name": "python"
    }
  },
  "cells": [
    {
      "cell_type": "markdown",
      "source": [
        "안녕하세요! sssssun 입니당 :)!😎\n",
        "\n",
        "이번주는 sklearn을 활용한 차원 축소에 대해 공부해봤습니다."
      ],
      "metadata": {
        "id": "EaIRASEjmK6-"
      }
    },
    {
      "cell_type": "markdown",
      "source": [
        "### **차원 축소란?**\n",
        " \n",
        "데이터셋은 보통 매우 많은 피처로 구성된 다차원의 구성을 가지는데, 차원 축소란 이런 다차원 데이터셋의 차원을 임의의 새로운 차원으로 축소하는 것입니다.\n",
        "\n",
        "\n",
        "데이터셋의 차원이 증가하고, 이러한 고차원에 데이터가 흩뿌려져 있게 됩니다.\n",
        "\n",
        "이렇게 고차원일수록 데이터와 데이터 사이의 공간이 너무 넓어지고, 공간의 구조가 복잡해지는데, 머신러닝 알고리즘에 이런 고차원의 데이터를 넣는다면 예측 성능이 현저히 떨어지게 됩니다.\n",
        "\n",
        "\n",
        "\n",
        "\n"
      ],
      "metadata": {
        "id": "q0yz4QLunVHn"
      }
    },
    {
      "cell_type": "markdown",
      "source": [
        "그렇다면, 다차원을 축소하여 얻을 수 있는 효과가 무엇일까요?\n",
        "\n",
        "**- 시각화 (Visualization)**\n",
        "\n",
        "\n",
        "우리가 구현해낼 수 있는 차원은 x, y, z 축의 3차원까지이기 때문에 3차원이 넘어간 데이터셋의 시각화는 불가능합니다. 따라서 차원 축소를 통해 다차원의 데이터셋도 시각화를 하여 데이터 패턴을 쉽게 인지할 수 있습니다.\n",
        "\n",
        "**- 노이즈 제거 (Reduce Noise)**\n",
        "\n",
        "\n",
        "쓸모없는 피처들를 제거함으로써 노이즈를 제거할 수 있습니다.\n",
        "\n",
        "**- 메모리 절약 (Preserve useful info in low memory)**\n",
        "\n",
        "\n",
        "쓸모없는 피처들을 삭제함으로써 메모리도 절약할 수 있습니다.\n",
        "\n",
        "**- 모델 성능 향상**\n",
        "\n",
        "불필요한 피처들을 제거하기 때문에 더욱 성능이 뛰어나고 효과적인 모델을 만들 수 있습니다."
      ],
      "metadata": {
        "id": "-uy7uM744dTl"
      }
    },
    {
      "cell_type": "markdown",
      "source": [
        "차원 축소는 **피처 선택**과 **피처 추출**로 나눌 수 있습니다.\n",
        "\n",
        "\n",
        "피처 선책은 불필요한 피처는 아예 제거하는 것이고 피처 추출은 기존의 다차원 피처들을 저차원의 중요 피처로 압축해서 추출하는 것입니다.\n",
        "\n",
        "\n",
        "이렇게 새롭게 추출된 중요 피처는 기존의 피처와는 완전히 다른 값이 되죠.\n",
        "\n",
        "\n",
        "피처 선택의 장점은 선택한 피처의 해석이 용이하다는 점이고 단점은 피처간 상관관계를 고려하기 어렵다는 점입니다.\n",
        "\n",
        "피처 추출의 장점은 피처 간 상관관계를 고려하기 용이하고 피처의 개수를 많이 줄일 수 있다는 점이고 단점은 추출된 변수의 해석이 어렵다는 점입니다.\n",
        "\n",
        "\n",
        "차원 축소는 단순히 데이터를 압축하는 것이 아닌 차원 축소를 통해 좀 더 데이터를 잘 설명할 수 있는 잠재적인 요소를 추출하는 데에 있습니다.\n",
        "\n",
        "\n",
        "차원 축소 알고리즘은 이미지 분류 등의 분류 수행 시에 과적합을 방지할 수 있고 텍스트 문서의 숨겨진 의미를 추출할 수 있습니다."
      ],
      "metadata": {
        "id": "RK3At1ZfG2yW"
      }
    },
    {
      "cell_type": "markdown",
      "source": [
        "### **PCA(Principal Component Analysis)**\n",
        "\n",
        "우리는 차원축소의 방법 중 하나인 **PCA (Principal Component Analysis)**를 이용해보겠습니다.\n",
        "\n",
        "PCA 기법의 핵심은 데이터를 축에 사영했을 때 가장 높은 분산을 가지는 데이터의 축을 찾아 그 축으로 차원을 축소합니다.\n",
        "\n",
        "이 가장 높은 분산을 가지는 축을 주성분이라고 합니다.\n",
        "\n",
        "사영했을 때 분산이 크다는 것은 원래 데이터의 분포를 잘 설명할 수 있다는 것을 뜻하고 정보의 손실을 최소화 할 수 있다는 것을 뜻합니다. \n",
        "\n",
        "PCA 차원축소 방식을 이해하기 위해서는 수학적인 지식이 필요합니다.\n",
        "\n",
        "먼저 기존의 데이터셋에 공분산 행렬을 생성하고, 고유벡터와 그 값을 계산합니다.\n",
        "\n",
        "그리고 고유값이 큰 순서대로 정렬 후 변환해야할 차원의 수에 따라 고유값을 정하고 고유 벡터에 투영하여 차원을 축소하게 됩니다."
      ],
      "metadata": {
        "id": "ax9E5V49nl_L"
      }
    },
    {
      "cell_type": "markdown",
      "source": [
        "그럼, iris dataset을 활용하여 PCA 를 구현해보겠습니다."
      ],
      "metadata": {
        "id": "gDROe74-p2MZ"
      }
    },
    {
      "cell_type": "code",
      "source": [
        "import sklearn\n",
        "import numpy as np\n",
        "import pandas as pd\n",
        "import seaborn as sns\n",
        "import matplotlib.pyplot as plt"
      ],
      "metadata": {
        "id": "BvQR8bW1LNZN"
      },
      "execution_count": 2,
      "outputs": []
    },
    {
      "cell_type": "code",
      "execution_count": 3,
      "metadata": {
        "colab": {
          "base_uri": "https://localhost:8080/",
          "height": 206
        },
        "id": "Kg7wox2UjAhG",
        "outputId": "a9e4d12c-823c-4a85-fd54-36453a85ee4c"
      },
      "outputs": [
        {
          "output_type": "execute_result",
          "data": {
            "text/html": [
              "\n",
              "  <div id=\"df-685590db-c732-46a8-8166-5e75c109854d\">\n",
              "    <div class=\"colab-df-container\">\n",
              "      <div>\n",
              "<style scoped>\n",
              "    .dataframe tbody tr th:only-of-type {\n",
              "        vertical-align: middle;\n",
              "    }\n",
              "\n",
              "    .dataframe tbody tr th {\n",
              "        vertical-align: top;\n",
              "    }\n",
              "\n",
              "    .dataframe thead th {\n",
              "        text-align: right;\n",
              "    }\n",
              "</style>\n",
              "<table border=\"1\" class=\"dataframe\">\n",
              "  <thead>\n",
              "    <tr style=\"text-align: right;\">\n",
              "      <th></th>\n",
              "      <th>sepal length (cm)</th>\n",
              "      <th>sepal width (cm)</th>\n",
              "      <th>petal length (cm)</th>\n",
              "      <th>petal width (cm)</th>\n",
              "      <th>target</th>\n",
              "    </tr>\n",
              "  </thead>\n",
              "  <tbody>\n",
              "    <tr>\n",
              "      <th>0</th>\n",
              "      <td>5.1</td>\n",
              "      <td>3.5</td>\n",
              "      <td>1.4</td>\n",
              "      <td>0.2</td>\n",
              "      <td>0</td>\n",
              "    </tr>\n",
              "    <tr>\n",
              "      <th>1</th>\n",
              "      <td>4.9</td>\n",
              "      <td>3.0</td>\n",
              "      <td>1.4</td>\n",
              "      <td>0.2</td>\n",
              "      <td>0</td>\n",
              "    </tr>\n",
              "    <tr>\n",
              "      <th>2</th>\n",
              "      <td>4.7</td>\n",
              "      <td>3.2</td>\n",
              "      <td>1.3</td>\n",
              "      <td>0.2</td>\n",
              "      <td>0</td>\n",
              "    </tr>\n",
              "    <tr>\n",
              "      <th>3</th>\n",
              "      <td>4.6</td>\n",
              "      <td>3.1</td>\n",
              "      <td>1.5</td>\n",
              "      <td>0.2</td>\n",
              "      <td>0</td>\n",
              "    </tr>\n",
              "    <tr>\n",
              "      <th>4</th>\n",
              "      <td>5.0</td>\n",
              "      <td>3.6</td>\n",
              "      <td>1.4</td>\n",
              "      <td>0.2</td>\n",
              "      <td>0</td>\n",
              "    </tr>\n",
              "  </tbody>\n",
              "</table>\n",
              "</div>\n",
              "      <button class=\"colab-df-convert\" onclick=\"convertToInteractive('df-685590db-c732-46a8-8166-5e75c109854d')\"\n",
              "              title=\"Convert this dataframe to an interactive table.\"\n",
              "              style=\"display:none;\">\n",
              "        \n",
              "  <svg xmlns=\"http://www.w3.org/2000/svg\" height=\"24px\"viewBox=\"0 0 24 24\"\n",
              "       width=\"24px\">\n",
              "    <path d=\"M0 0h24v24H0V0z\" fill=\"none\"/>\n",
              "    <path d=\"M18.56 5.44l.94 2.06.94-2.06 2.06-.94-2.06-.94-.94-2.06-.94 2.06-2.06.94zm-11 1L8.5 8.5l.94-2.06 2.06-.94-2.06-.94L8.5 2.5l-.94 2.06-2.06.94zm10 10l.94 2.06.94-2.06 2.06-.94-2.06-.94-.94-2.06-.94 2.06-2.06.94z\"/><path d=\"M17.41 7.96l-1.37-1.37c-.4-.4-.92-.59-1.43-.59-.52 0-1.04.2-1.43.59L10.3 9.45l-7.72 7.72c-.78.78-.78 2.05 0 2.83L4 21.41c.39.39.9.59 1.41.59.51 0 1.02-.2 1.41-.59l7.78-7.78 2.81-2.81c.8-.78.8-2.07 0-2.86zM5.41 20L4 18.59l7.72-7.72 1.47 1.35L5.41 20z\"/>\n",
              "  </svg>\n",
              "      </button>\n",
              "      \n",
              "  <style>\n",
              "    .colab-df-container {\n",
              "      display:flex;\n",
              "      flex-wrap:wrap;\n",
              "      gap: 12px;\n",
              "    }\n",
              "\n",
              "    .colab-df-convert {\n",
              "      background-color: #E8F0FE;\n",
              "      border: none;\n",
              "      border-radius: 50%;\n",
              "      cursor: pointer;\n",
              "      display: none;\n",
              "      fill: #1967D2;\n",
              "      height: 32px;\n",
              "      padding: 0 0 0 0;\n",
              "      width: 32px;\n",
              "    }\n",
              "\n",
              "    .colab-df-convert:hover {\n",
              "      background-color: #E2EBFA;\n",
              "      box-shadow: 0px 1px 2px rgba(60, 64, 67, 0.3), 0px 1px 3px 1px rgba(60, 64, 67, 0.15);\n",
              "      fill: #174EA6;\n",
              "    }\n",
              "\n",
              "    [theme=dark] .colab-df-convert {\n",
              "      background-color: #3B4455;\n",
              "      fill: #D2E3FC;\n",
              "    }\n",
              "\n",
              "    [theme=dark] .colab-df-convert:hover {\n",
              "      background-color: #434B5C;\n",
              "      box-shadow: 0px 1px 3px 1px rgba(0, 0, 0, 0.15);\n",
              "      filter: drop-shadow(0px 1px 2px rgba(0, 0, 0, 0.3));\n",
              "      fill: #FFFFFF;\n",
              "    }\n",
              "  </style>\n",
              "\n",
              "      <script>\n",
              "        const buttonEl =\n",
              "          document.querySelector('#df-685590db-c732-46a8-8166-5e75c109854d button.colab-df-convert');\n",
              "        buttonEl.style.display =\n",
              "          google.colab.kernel.accessAllowed ? 'block' : 'none';\n",
              "\n",
              "        async function convertToInteractive(key) {\n",
              "          const element = document.querySelector('#df-685590db-c732-46a8-8166-5e75c109854d');\n",
              "          const dataTable =\n",
              "            await google.colab.kernel.invokeFunction('convertToInteractive',\n",
              "                                                     [key], {});\n",
              "          if (!dataTable) return;\n",
              "\n",
              "          const docLinkHtml = 'Like what you see? Visit the ' +\n",
              "            '<a target=\"_blank\" href=https://colab.research.google.com/notebooks/data_table.ipynb>data table notebook</a>'\n",
              "            + ' to learn more about interactive tables.';\n",
              "          element.innerHTML = '';\n",
              "          dataTable['output_type'] = 'display_data';\n",
              "          await google.colab.output.renderOutput(dataTable, element);\n",
              "          const docLink = document.createElement('div');\n",
              "          docLink.innerHTML = docLinkHtml;\n",
              "          element.appendChild(docLink);\n",
              "        }\n",
              "      </script>\n",
              "    </div>\n",
              "  </div>\n",
              "  "
            ],
            "text/plain": [
              "   sepal length (cm)  sepal width (cm)  petal length (cm)  petal width (cm)  \\\n",
              "0                5.1               3.5                1.4               0.2   \n",
              "1                4.9               3.0                1.4               0.2   \n",
              "2                4.7               3.2                1.3               0.2   \n",
              "3                4.6               3.1                1.5               0.2   \n",
              "4                5.0               3.6                1.4               0.2   \n",
              "\n",
              "   target  \n",
              "0       0  \n",
              "1       0  \n",
              "2       0  \n",
              "3       0  \n",
              "4       0  "
            ]
          },
          "metadata": {},
          "execution_count": 3
        }
      ],
      "source": [
        "from sklearn.datasets import load_iris \n",
        "\n",
        "iris = load_iris()\n",
        "iris_df = pd.DataFrame(data=iris.data, columns=iris.feature_names)\n",
        "iris_df['target'] = iris.target\n",
        "iris_df.head()"
      ]
    },
    {
      "cell_type": "code",
      "source": [
        "print(iris.feature_names)"
      ],
      "metadata": {
        "colab": {
          "base_uri": "https://localhost:8080/"
        },
        "id": "Lt5ImjtQqfEX",
        "outputId": "2696d7d7-4961-4ddd-f2e8-ea437dd001d4"
      },
      "execution_count": 10,
      "outputs": [
        {
          "output_type": "stream",
          "name": "stdout",
          "text": [
            "['sepal length (cm)', 'sepal width (cm)', 'petal length (cm)', 'petal width (cm)']\n"
          ]
        }
      ]
    },
    {
      "cell_type": "markdown",
      "source": [
        "데이터셋을 데이터 프레임으로 보거나, 피처명을 출력해보니 피처가 'sepal length (cm)', 'sepal width (cm)', 'petal length (cm)', 'petal width (cm)' 이렇게 4개 존재하는 것을 알 수 있네요."
      ],
      "metadata": {
        "id": "UXLP7RiYOfpM"
      }
    },
    {
      "cell_type": "markdown",
      "source": [
        "피처가 4개이기 때문에, 시각화가 불가능합니다.\n",
        "\n",
        "따라서 우리가 임의로 'sepal length (cm)', 'sepal width (cm)' 2개를 선택하여 시각화해주었습니다."
      ],
      "metadata": {
        "id": "_JD8LbyZrQ1X"
      }
    },
    {
      "cell_type": "code",
      "source": [
        "markers = [\"*\", \"s\", \"o\"] \n",
        "\n",
        "for i, marker in enumerate(markers): \n",
        "  x_val = iris_df[iris_df[\"target\"] ==i][\"sepal length (cm)\"] \n",
        "  y_val = iris_df[iris_df[\"target\"]==i][\"sepal width (cm)\"] \n",
        "  plt.scatter(x_val, y_val, marker=marker,label=iris.target_names[i]) \n",
        "\n",
        "plt.legend() \n",
        "plt.xlabel(\"sepal length\") \n",
        "plt.ylabel(\"sepal width\") \n",
        "plt.show()"
      ],
      "metadata": {
        "colab": {
          "base_uri": "https://localhost:8080/",
          "height": 282
        },
        "id": "VTVyXPMJmLRM",
        "outputId": "54ad6211-d744-424c-dd26-c5709d3077f4"
      },
      "execution_count": 31,
      "outputs": [
        {
          "output_type": "display_data",
          "data": {
            "image/png": "[encoded data removed]",
            "text/plain": [
              "<Figure size 432x288 with 1 Axes>"
            ]
          },
          "metadata": {
            "needs_background": "light"
          }
        }
      ]
    },
    {
      "cell_type": "markdown",
      "source": [
        "피처 2개만 선택하여 시각화하니, versicolor와 virginica는 잘 분류가 되지 않는 모습입니다.\n",
        "\n",
        "(당연히 일부 피처만 반영했기 때문에 어쩔 수 없는 결과입니다.)"
      ],
      "metadata": {
        "id": "VS6gnF0bsOmg"
      }
    },
    {
      "cell_type": "markdown",
      "source": [
        "주성분 분석법은 공분산 행렬을 이용하기 때문에, 단위와 분포가 다른 각각의 피처 데이터들을 표준화시켜주는 과정이 필요합니다.\n",
        "\n",
        "따라서, StandardScaler를 활용하여 평균 0, 분산 1으로 피처 데이터셋을 데이터 스케일링을 진행해줍니다. \n",
        "\n",
        "제가 데이터 스케일링에 대해서 작성한 포스팅이 있으니, 관심 있으신 분들은 참고하셔도 좋을 것 같아요!\n",
        "\n",
        "-> -> [sklearn으로 데이터 스케일링(Data Scaling)하는 5가지 방법🔥](https://dacon.io/codeshare/4526)"
      ],
      "metadata": {
        "id": "ANDpVLN9t_8b"
      }
    },
    {
      "cell_type": "code",
      "source": [
        "from sklearn.preprocessing import StandardScaler\n",
        "\n",
        "scaler = StandardScaler()\n",
        "data_scaled = scaler.fit_transform(iris_df)"
      ],
      "metadata": {
        "id": "qr3TdSaAVUMy"
      },
      "execution_count": 13,
      "outputs": []
    },
    {
      "cell_type": "markdown",
      "source": [
        "그리고 PCA를 import 해서 차원 축소를 진행해주었습니다.\n",
        "\n",
        "여기서 n_components 는 축소하고 싶은 차원의 수를 넣어주면 됩니다.\n",
        "\n",
        "데이터 스케일링처럼, fit과 transform의 과정을 거쳐줍니다."
      ],
      "metadata": {
        "id": "giCV4stpv7Ko"
      }
    },
    {
      "cell_type": "code",
      "source": [
        "from sklearn.decomposition import PCA \n",
        "\n",
        "pca = PCA(n_components=2)\n",
        "pca.fit(data_scaled) \n",
        "df_pca = pca.transform(data_scaled)\n",
        "print(df_pca.shape)"
      ],
      "metadata": {
        "colab": {
          "base_uri": "https://localhost:8080/"
        },
        "id": "KQ3rdDXUP16G",
        "outputId": "604e48af-ad47-4a89-bd44-5f2cb368b8c8"
      },
      "execution_count": 16,
      "outputs": [
        {
          "output_type": "stream",
          "name": "stdout",
          "text": [
            "(150, 2)\n"
          ]
        }
      ]
    },
    {
      "cell_type": "markdown",
      "source": [
        "표준화나 pca 변환 후에는 numpy array 형태를 갖기 때문에 shape 을 출력하면 차원이 2로 축소된 것을 확인할 수 있습니다.\n",
        "\n",
        "numpy array 형태의 데이터셋을 target column을 추가하여 데이터프레임 형태로 바꾸어주었습니다."
      ],
      "metadata": {
        "id": "g8RErut-1DTk"
      }
    },
    {
      "cell_type": "code",
      "source": [
        "df_pca = pd.DataFrame(data=df_pca)\n",
        "df_pca[\"target\"] = iris.target\n",
        "df_pca.head()"
      ],
      "metadata": {
        "colab": {
          "base_uri": "https://localhost:8080/",
          "height": 206
        },
        "id": "WEwkzjfu1xt9",
        "outputId": "19942558-c89f-4636-a6c6-62126b964d57"
      },
      "execution_count": 22,
      "outputs": [
        {
          "output_type": "execute_result",
          "data": {
            "text/html": [
              "\n",
              "  <div id=\"df-2cbc8522-2219-457c-85a6-e0554baeea47\">\n",
              "    <div class=\"colab-df-container\">\n",
              "      <div>\n",
              "<style scoped>\n",
              "    .dataframe tbody tr th:only-of-type {\n",
              "        vertical-align: middle;\n",
              "    }\n",
              "\n",
              "    .dataframe tbody tr th {\n",
              "        vertical-align: top;\n",
              "    }\n",
              "\n",
              "    .dataframe thead th {\n",
              "        text-align: right;\n",
              "    }\n",
              "</style>\n",
              "<table border=\"1\" class=\"dataframe\">\n",
              "  <thead>\n",
              "    <tr style=\"text-align: right;\">\n",
              "      <th></th>\n",
              "      <th>0</th>\n",
              "      <th>1</th>\n",
              "      <th>target</th>\n",
              "    </tr>\n",
              "  </thead>\n",
              "  <tbody>\n",
              "    <tr>\n",
              "      <th>0</th>\n",
              "      <td>-2.576120</td>\n",
              "      <td>0.474499</td>\n",
              "      <td>0</td>\n",
              "    </tr>\n",
              "    <tr>\n",
              "      <th>1</th>\n",
              "      <td>-2.415322</td>\n",
              "      <td>-0.678092</td>\n",
              "      <td>0</td>\n",
              "    </tr>\n",
              "    <tr>\n",
              "      <th>2</th>\n",
              "      <td>-2.659333</td>\n",
              "      <td>-0.348282</td>\n",
              "      <td>0</td>\n",
              "    </tr>\n",
              "    <tr>\n",
              "      <th>3</th>\n",
              "      <td>-2.601991</td>\n",
              "      <td>-0.603306</td>\n",
              "      <td>0</td>\n",
              "    </tr>\n",
              "    <tr>\n",
              "      <th>4</th>\n",
              "      <td>-2.683744</td>\n",
              "      <td>0.640220</td>\n",
              "      <td>0</td>\n",
              "    </tr>\n",
              "  </tbody>\n",
              "</table>\n",
              "</div>\n",
              "      <button class=\"colab-df-convert\" onclick=\"convertToInteractive('df-2cbc8522-2219-457c-85a6-e0554baeea47')\"\n",
              "              title=\"Convert this dataframe to an interactive table.\"\n",
              "              style=\"display:none;\">\n",
              "        \n",
              "  <svg xmlns=\"http://www.w3.org/2000/svg\" height=\"24px\"viewBox=\"0 0 24 24\"\n",
              "       width=\"24px\">\n",
              "    <path d=\"M0 0h24v24H0V0z\" fill=\"none\"/>\n",
              "    <path d=\"M18.56 5.44l.94 2.06.94-2.06 2.06-.94-2.06-.94-.94-2.06-.94 2.06-2.06.94zm-11 1L8.5 8.5l.94-2.06 2.06-.94-2.06-.94L8.5 2.5l-.94 2.06-2.06.94zm10 10l.94 2.06.94-2.06 2.06-.94-2.06-.94-.94-2.06-.94 2.06-2.06.94z\"/><path d=\"M17.41 7.96l-1.37-1.37c-.4-.4-.92-.59-1.43-.59-.52 0-1.04.2-1.43.59L10.3 9.45l-7.72 7.72c-.78.78-.78 2.05 0 2.83L4 21.41c.39.39.9.59 1.41.59.51 0 1.02-.2 1.41-.59l7.78-7.78 2.81-2.81c.8-.78.8-2.07 0-2.86zM5.41 20L4 18.59l7.72-7.72 1.47 1.35L5.41 20z\"/>\n",
              "  </svg>\n",
              "      </button>\n",
              "      \n",
              "  <style>\n",
              "    .colab-df-container {\n",
              "      display:flex;\n",
              "      flex-wrap:wrap;\n",
              "      gap: 12px;\n",
              "    }\n",
              "\n",
              "    .colab-df-convert {\n",
              "      background-color: #E8F0FE;\n",
              "      border: none;\n",
              "      border-radius: 50%;\n",
              "      cursor: pointer;\n",
              "      display: none;\n",
              "      fill: #1967D2;\n",
              "      height: 32px;\n",
              "      padding: 0 0 0 0;\n",
              "      width: 32px;\n",
              "    }\n",
              "\n",
              "    .colab-df-convert:hover {\n",
              "      background-color: #E2EBFA;\n",
              "      box-shadow: 0px 1px 2px rgba(60, 64, 67, 0.3), 0px 1px 3px 1px rgba(60, 64, 67, 0.15);\n",
              "      fill: #174EA6;\n",
              "    }\n",
              "\n",
              "    [theme=dark] .colab-df-convert {\n",
              "      background-color: #3B4455;\n",
              "      fill: #D2E3FC;\n",
              "    }\n",
              "\n",
              "    [theme=dark] .colab-df-convert:hover {\n",
              "      background-color: #434B5C;\n",
              "      box-shadow: 0px 1px 3px 1px rgba(0, 0, 0, 0.15);\n",
              "      filter: drop-shadow(0px 1px 2px rgba(0, 0, 0, 0.3));\n",
              "      fill: #FFFFFF;\n",
              "    }\n",
              "  </style>\n",
              "\n",
              "      <script>\n",
              "        const buttonEl =\n",
              "          document.querySelector('#df-2cbc8522-2219-457c-85a6-e0554baeea47 button.colab-df-convert');\n",
              "        buttonEl.style.display =\n",
              "          google.colab.kernel.accessAllowed ? 'block' : 'none';\n",
              "\n",
              "        async function convertToInteractive(key) {\n",
              "          const element = document.querySelector('#df-2cbc8522-2219-457c-85a6-e0554baeea47');\n",
              "          const dataTable =\n",
              "            await google.colab.kernel.invokeFunction('convertToInteractive',\n",
              "                                                     [key], {});\n",
              "          if (!dataTable) return;\n",
              "\n",
              "          const docLinkHtml = 'Like what you see? Visit the ' +\n",
              "            '<a target=\"_blank\" href=https://colab.research.google.com/notebooks/data_table.ipynb>data table notebook</a>'\n",
              "            + ' to learn more about interactive tables.';\n",
              "          element.innerHTML = '';\n",
              "          dataTable['output_type'] = 'display_data';\n",
              "          await google.colab.output.renderOutput(dataTable, element);\n",
              "          const docLink = document.createElement('div');\n",
              "          docLink.innerHTML = docLinkHtml;\n",
              "          element.appendChild(docLink);\n",
              "        }\n",
              "      </script>\n",
              "    </div>\n",
              "  </div>\n",
              "  "
            ],
            "text/plain": [
              "          0         1  target\n",
              "0 -2.576120  0.474499       0\n",
              "1 -2.415322 -0.678092       0\n",
              "2 -2.659333 -0.348282       0\n",
              "3 -2.601991 -0.603306       0\n",
              "4 -2.683744  0.640220       0"
            ]
          },
          "metadata": {},
          "execution_count": 22
        }
      ]
    },
    {
      "cell_type": "markdown",
      "source": [
        "이제 축소된 차원으로 시각화를 진행해보겠습니다.\n",
        "\n"
      ],
      "metadata": {
        "id": "33fBVLfn1l7x"
      }
    },
    {
      "cell_type": "code",
      "source": [
        "markers = [\"*\", \"s\", \"o\"] \n",
        "\n",
        "for i, marker in enumerate(markers):\n",
        "  x_val = df_pca[df_pca[\"target\"] ==i][0] \n",
        "  y_val = df_pca[df_pca[\"target\"]==i][1] \n",
        "  plt.scatter(x_val, y_val, marker=marker,label=iris.target_names[i]) \n",
        "plt.legend() \n",
        "plt.xlabel(\"x\") \n",
        "plt.ylabel(\"y\") \n",
        "plt.show() "
      ],
      "metadata": {
        "colab": {
          "base_uri": "https://localhost:8080/",
          "height": 279
        },
        "id": "njCTKTwwJzsm",
        "outputId": "81879d0e-b74c-4c48-d4fc-33c3ab3f8897"
      },
      "execution_count": 21,
      "outputs": [
        {
          "output_type": "display_data",
          "data": {
            "image/png": "[encoded data removed]",
            "text/plain": [
              "<Figure size 432x288 with 1 Axes>"
            ]
          },
          "metadata": {
            "needs_background": "light"
          }
        }
      ]
    },
    {
      "cell_type": "markdown",
      "source": [
        "PCA 이전에 피처 두개를 선택하여 나타냈던 시각화에 비해 versicolor와 virginica가 훨씬 분류가 잘 되어 있는 것을 확인할 수 있습니다.\n",
        "\n",
        " \n",
        "그래프를 보면 데이터가 x 축을 기반으로 서로 겹치는 부분이 별로 존재하지 않게 잘 분류되어 있는 것을 확인할 수 있습니다.\n",
        "\n",
        "\n",
        "이는 x축이 된 첫 번째 주성분이 원본 데이터의 변동성을 잘 반영했기 때문입니다.\n",
        "\n",
        " "
      ],
      "metadata": {
        "id": "oRkQMpfZ2cGx"
      }
    },
    {
      "cell_type": "markdown",
      "source": [
        "pca.explained_variance_ratio_로 주성분들이 데이터를 얼마나 잘 설명하고 있는지 볼 수 있습니다."
      ],
      "metadata": {
        "id": "6wOOrZcy3HZ-"
      }
    },
    {
      "cell_type": "code",
      "source": [
        "print(pca.explained_variance_ratio_)"
      ],
      "metadata": {
        "colab": {
          "base_uri": "https://localhost:8080/"
        },
        "id": "Tc2vckvcQU3T",
        "outputId": "306256c3-92d4-4eb8-eba6-ec7e0ba9f2bd"
      },
      "execution_count": 45,
      "outputs": [
        {
          "output_type": "stream",
          "name": "stdout",
          "text": [
            "[0.76740358 0.18282727]\n"
          ]
        }
      ]
    },
    {
      "cell_type": "markdown",
      "source": [
        "x축의 주성분요소는 76%, y축의 주성분 요소는 18%정도로, 원본 데이터의 약 94%를 설명할 수 있습니다.\n"
      ],
      "metadata": {
        "id": "vmQKQVAb3kf_"
      }
    },
    {
      "cell_type": "markdown",
      "source": [
        "이제, 모델의 정확도를 평가해보겠습니다.\n",
        "\n",
        "알고리즘은 RandomForestClassifier를 이용했습니다."
      ],
      "metadata": {
        "id": "-5ARLP-e3nBH"
      }
    },
    {
      "cell_type": "code",
      "source": [
        "from sklearn.ensemble import RandomForestClassifier \n",
        "from sklearn.model_selection import cross_val_score "
      ],
      "metadata": {
        "id": "Fg0_MN1iKK76"
      },
      "execution_count": 24,
      "outputs": []
    },
    {
      "cell_type": "code",
      "source": [
        "rf = RandomForestClassifier() \n",
        "scores = cross_val_score(rf, iris.data, iris.target, scoring=\"accuracy\",cv=3) \n",
        "print(\"원본 데이터 예측 정확도 : \", round(np.mean(scores),4))"
      ],
      "metadata": {
        "colab": {
          "base_uri": "https://localhost:8080/"
        },
        "id": "lATGmbeHYByl",
        "outputId": "fc4475b7-c05d-4fec-cb35-eb6eae6d0c11"
      },
      "execution_count": 27,
      "outputs": [
        {
          "output_type": "stream",
          "name": "stdout",
          "text": [
            "원본 데이터 예측 정확도 :  0.96\n"
          ]
        }
      ]
    },
    {
      "cell_type": "code",
      "source": [
        "rf = RandomForestClassifier() \n",
        "scores = cross_val_score(rf, df_pca.iloc[:,:-1], iris.target, scoring=\"accuracy\", cv=3) \n",
        "print(\"pca 후 예측 정확도 : \", round(np.mean(scores),4))"
      ],
      "metadata": {
        "colab": {
          "base_uri": "https://localhost:8080/"
        },
        "id": "Z2eYd9LE3tZ3",
        "outputId": "76c4ead8-5a22-4ab6-e168-2d61044203c3"
      },
      "execution_count": 29,
      "outputs": [
        {
          "output_type": "stream",
          "name": "stdout",
          "text": [
            "pca 후 예측 정확도 :  0.9867\n"
          ]
        }
      ]
    },
    {
      "cell_type": "markdown",
      "source": [
        "pca 이후 모델의 예측 정확도가 상승하였지만, **보통 차원이 축소하여 데이터의 수가 감소하기 때문에 정확도가 떨어지는 것이 일반적입니다.**"
      ],
      "metadata": {
        "id": "gg0bQY9j4Sph"
      }
    },
    {
      "cell_type": "markdown",
      "source": [
        "이렇게, 이번 포스팅은 차원 축소에 대해 알아보았습니다.\n",
        "\n",
        "읽어주셔서 감사합니다~:)"
      ],
      "metadata": {
        "id": "-r9eettE50an"
      }
    }
  ]
}