{
  "nbformat": 4,
  "nbformat_minor": 0,
  "metadata": {
    "colab": {
      "name": "분류/스케일링.ipynb",
      "provenance": [],
      "collapsed_sections": [],
      "toc_visible": true
    },
    "kernelspec": {
      "name": "python3",
      "display_name": "Python 3"
    },
    "language_info": {
      "name": "python"
    }
  },
  "cells": [
    {
      "cell_type": "markdown",
      "source": [
        "안녕하세요! 데이크루 1기로 활동 중인 sssssun입니다!\n",
        "\n",
        "지난주에 sklearn을 활용하여 머신러닝의 분류, 회귀 분석 알고리즘을 공부해보았는데요.\n",
        "\n",
        "sklearn을 좀더 공부하다보니, 머신러닝 모델의 성능과 정확도를 높이기 위해 데이터 스케일링 과정을 포함한다는 것을 알게 되었습니다.\n",
        "\n",
        "따라서 이번 포스팅은 sklearn을 활용한 데이터 스케일링(Data Scaling)에 대해 공부한 내용을 다루어보았습니다.\n",
        "\n",
        "처음 배워보는 입장에서 포스팅을 쓰기 때문에 오류나 팁 등이 있다면 언제나 적극적으로 알려주시면 감사하겠습니다😇"
      ],
      "metadata": {
        "id": "I0i_wDtGHZU6"
      }
    },
    {
      "cell_type": "markdown",
      "source": [
        "# **데이터 스케일링(Data Scaling)**\n",
        "\n",
        "데이터 스케일링이란 데이터 전처리 과정 중의 하나입니다.\n",
        "\n",
        " 피처(feature)들마다 데이터값의 범위가 다 제각각이기 때문에 범위 차이가 클 경우 데이터를 갖고 모델을 학습할 때 0으로 수렴하거나 무한으로 발산할 수 있습니다.\n",
        "\n",
        " 즉, 머신러닝이\n",
        "\n",
        "따라서 데이터 스케일링을 통해 **모든 피처들의 데이터 분포나 범위를 동일하게 조정**해줄 수 있습니다.\n",
        "\n",
        "저는 sklearn의 5가지 스케일링 방법을 소개하겠습니다."
      ],
      "metadata": {
        "id": "HF-XuZPyLOBS"
      }
    },
    {
      "cell_type": "markdown",
      "source": [
        "sklearn의 breast cancer dataset을 활용하여 데이터 스케일링을 연습해보겠습니다."
      ],
      "metadata": {
        "id": "nvC5UDoSUqKg"
      }
    },
    {
      "cell_type": "code",
      "source": [
        "import sklearn\n",
        "import numpy as np\n",
        "import pandas as pd\n",
        "import seaborn as sns\n",
        "import matplotlib.pyplot as plt\n",
        "\n",
        "from sklearn.model_selection import train_test_split\n",
        "from sklearn.tree import DecisionTreeClassifier\n",
        "from sklearn.datasets import load_breast_cancer\n",
        "\n",
        "cancer=load_breast_cancer()"
      ],
      "metadata": {
        "id": "WxtKbKd8VT1Z"
      },
      "execution_count": 2,
      "outputs": []
    },
    {
      "cell_type": "markdown",
      "source": [
        "데이터셋을 dataframe 형태로 만들어서 어떤 피처들을 갖고 있는지 확인해보겠습니다.\n",
        "\n",
        "새로 추가한 target열을 보니, 분류 알고리즘을 활용해야하네요."
      ],
      "metadata": {
        "id": "GhTdh7ag6Hhr"
      }
    },
    {
      "cell_type": "code",
      "source": [
        "cancer_df = pd.DataFrame(data=cancer.data, columns=cancer.feature_names)\n",
        "cancer_df['target'] = cancer.target\n",
        "cancer_df.head()"
      ],
      "metadata": {
        "colab": {
          "base_uri": "https://localhost:8080/",
          "height": 305
        },
        "id": "SnUNZdDw56Op",
        "outputId": "1960b89d-82cb-472e-89fc-248c48709e0c"
      },
      "execution_count": 58,
      "outputs": [
        {
          "output_type": "execute_result",
          "data": {
            "text/html": [
              "\n",
              "  <div id=\"df-645ce99a-115e-44e0-9cb8-2296839ab6b4\">\n",
              "    <div class=\"colab-df-container\">\n",
              "      <div>\n",
              "<style scoped>\n",
              "    .dataframe tbody tr th:only-of-type {\n",
              "        vertical-align: middle;\n",
              "    }\n",
              "\n",
              "    .dataframe tbody tr th {\n",
              "        vertical-align: top;\n",
              "    }\n",
              "\n",
              "    .dataframe thead th {\n",
              "        text-align: right;\n",
              "    }\n",
              "</style>\n",
              "<table border=\"1\" class=\"dataframe\">\n",
              "  <thead>\n",
              "    <tr style=\"text-align: right;\">\n",
              "      <th></th>\n",
              "      <th>mean radius</th>\n",
              "      <th>mean texture</th>\n",
              "      <th>mean perimeter</th>\n",
              "      <th>mean area</th>\n",
              "      <th>mean smoothness</th>\n",
              "      <th>mean compactness</th>\n",
              "      <th>mean concavity</th>\n",
              "      <th>mean concave points</th>\n",
              "      <th>mean symmetry</th>\n",
              "      <th>mean fractal dimension</th>\n",
              "      <th>radius error</th>\n",
              "      <th>texture error</th>\n",
              "      <th>perimeter error</th>\n",
              "      <th>area error</th>\n",
              "      <th>smoothness error</th>\n",
              "      <th>compactness error</th>\n",
              "      <th>concavity error</th>\n",
              "      <th>concave points error</th>\n",
              "      <th>symmetry error</th>\n",
              "      <th>fractal dimension error</th>\n",
              "      <th>worst radius</th>\n",
              "      <th>worst texture</th>\n",
              "      <th>worst perimeter</th>\n",
              "      <th>worst area</th>\n",
              "      <th>worst smoothness</th>\n",
              "      <th>worst compactness</th>\n",
              "      <th>worst concavity</th>\n",
              "      <th>worst concave points</th>\n",
              "      <th>worst symmetry</th>\n",
              "      <th>worst fractal dimension</th>\n",
              "      <th>target</th>\n",
              "    </tr>\n",
              "  </thead>\n",
              "  <tbody>\n",
              "    <tr>\n",
              "      <th>0</th>\n",
              "      <td>17.99</td>\n",
              "      <td>10.38</td>\n",
              "      <td>122.80</td>\n",
              "      <td>1001.0</td>\n",
              "      <td>0.11840</td>\n",
              "      <td>0.27760</td>\n",
              "      <td>0.3001</td>\n",
              "      <td>0.14710</td>\n",
              "      <td>0.2419</td>\n",
              "      <td>0.07871</td>\n",
              "      <td>1.0950</td>\n",
              "      <td>0.9053</td>\n",
              "      <td>8.589</td>\n",
              "      <td>153.40</td>\n",
              "      <td>0.006399</td>\n",
              "      <td>0.04904</td>\n",
              "      <td>0.05373</td>\n",
              "      <td>0.01587</td>\n",
              "      <td>0.03003</td>\n",
              "      <td>0.006193</td>\n",
              "      <td>25.38</td>\n",
              "      <td>17.33</td>\n",
              "      <td>184.60</td>\n",
              "      <td>2019.0</td>\n",
              "      <td>0.1622</td>\n",
              "      <td>0.6656</td>\n",
              "      <td>0.7119</td>\n",
              "      <td>0.2654</td>\n",
              "      <td>0.4601</td>\n",
              "      <td>0.11890</td>\n",
              "      <td>0</td>\n",
              "    </tr>\n",
              "    <tr>\n",
              "      <th>1</th>\n",
              "      <td>20.57</td>\n",
              "      <td>17.77</td>\n",
              "      <td>132.90</td>\n",
              "      <td>1326.0</td>\n",
              "      <td>0.08474</td>\n",
              "      <td>0.07864</td>\n",
              "      <td>0.0869</td>\n",
              "      <td>0.07017</td>\n",
              "      <td>0.1812</td>\n",
              "      <td>0.05667</td>\n",
              "      <td>0.5435</td>\n",
              "      <td>0.7339</td>\n",
              "      <td>3.398</td>\n",
              "      <td>74.08</td>\n",
              "      <td>0.005225</td>\n",
              "      <td>0.01308</td>\n",
              "      <td>0.01860</td>\n",
              "      <td>0.01340</td>\n",
              "      <td>0.01389</td>\n",
              "      <td>0.003532</td>\n",
              "      <td>24.99</td>\n",
              "      <td>23.41</td>\n",
              "      <td>158.80</td>\n",
              "      <td>1956.0</td>\n",
              "      <td>0.1238</td>\n",
              "      <td>0.1866</td>\n",
              "      <td>0.2416</td>\n",
              "      <td>0.1860</td>\n",
              "      <td>0.2750</td>\n",
              "      <td>0.08902</td>\n",
              "      <td>0</td>\n",
              "    </tr>\n",
              "    <tr>\n",
              "      <th>2</th>\n",
              "      <td>19.69</td>\n",
              "      <td>21.25</td>\n",
              "      <td>130.00</td>\n",
              "      <td>1203.0</td>\n",
              "      <td>0.10960</td>\n",
              "      <td>0.15990</td>\n",
              "      <td>0.1974</td>\n",
              "      <td>0.12790</td>\n",
              "      <td>0.2069</td>\n",
              "      <td>0.05999</td>\n",
              "      <td>0.7456</td>\n",
              "      <td>0.7869</td>\n",
              "      <td>4.585</td>\n",
              "      <td>94.03</td>\n",
              "      <td>0.006150</td>\n",
              "      <td>0.04006</td>\n",
              "      <td>0.03832</td>\n",
              "      <td>0.02058</td>\n",
              "      <td>0.02250</td>\n",
              "      <td>0.004571</td>\n",
              "      <td>23.57</td>\n",
              "      <td>25.53</td>\n",
              "      <td>152.50</td>\n",
              "      <td>1709.0</td>\n",
              "      <td>0.1444</td>\n",
              "      <td>0.4245</td>\n",
              "      <td>0.4504</td>\n",
              "      <td>0.2430</td>\n",
              "      <td>0.3613</td>\n",
              "      <td>0.08758</td>\n",
              "      <td>0</td>\n",
              "    </tr>\n",
              "    <tr>\n",
              "      <th>3</th>\n",
              "      <td>11.42</td>\n",
              "      <td>20.38</td>\n",
              "      <td>77.58</td>\n",
              "      <td>386.1</td>\n",
              "      <td>0.14250</td>\n",
              "      <td>0.28390</td>\n",
              "      <td>0.2414</td>\n",
              "      <td>0.10520</td>\n",
              "      <td>0.2597</td>\n",
              "      <td>0.09744</td>\n",
              "      <td>0.4956</td>\n",
              "      <td>1.1560</td>\n",
              "      <td>3.445</td>\n",
              "      <td>27.23</td>\n",
              "      <td>0.009110</td>\n",
              "      <td>0.07458</td>\n",
              "      <td>0.05661</td>\n",
              "      <td>0.01867</td>\n",
              "      <td>0.05963</td>\n",
              "      <td>0.009208</td>\n",
              "      <td>14.91</td>\n",
              "      <td>26.50</td>\n",
              "      <td>98.87</td>\n",
              "      <td>567.7</td>\n",
              "      <td>0.2098</td>\n",
              "      <td>0.8663</td>\n",
              "      <td>0.6869</td>\n",
              "      <td>0.2575</td>\n",
              "      <td>0.6638</td>\n",
              "      <td>0.17300</td>\n",
              "      <td>0</td>\n",
              "    </tr>\n",
              "    <tr>\n",
              "      <th>4</th>\n",
              "      <td>20.29</td>\n",
              "      <td>14.34</td>\n",
              "      <td>135.10</td>\n",
              "      <td>1297.0</td>\n",
              "      <td>0.10030</td>\n",
              "      <td>0.13280</td>\n",
              "      <td>0.1980</td>\n",
              "      <td>0.10430</td>\n",
              "      <td>0.1809</td>\n",
              "      <td>0.05883</td>\n",
              "      <td>0.7572</td>\n",
              "      <td>0.7813</td>\n",
              "      <td>5.438</td>\n",
              "      <td>94.44</td>\n",
              "      <td>0.011490</td>\n",
              "      <td>0.02461</td>\n",
              "      <td>0.05688</td>\n",
              "      <td>0.01885</td>\n",
              "      <td>0.01756</td>\n",
              "      <td>0.005115</td>\n",
              "      <td>22.54</td>\n",
              "      <td>16.67</td>\n",
              "      <td>152.20</td>\n",
              "      <td>1575.0</td>\n",
              "      <td>0.1374</td>\n",
              "      <td>0.2050</td>\n",
              "      <td>0.4000</td>\n",
              "      <td>0.1625</td>\n",
              "      <td>0.2364</td>\n",
              "      <td>0.07678</td>\n",
              "      <td>0</td>\n",
              "    </tr>\n",
              "  </tbody>\n",
              "</table>\n",
              "</div>\n",
              "      <button class=\"colab-df-convert\" onclick=\"convertToInteractive('df-645ce99a-115e-44e0-9cb8-2296839ab6b4')\"\n",
              "              title=\"Convert this dataframe to an interactive table.\"\n",
              "              style=\"display:none;\">\n",
              "        \n",
              "  <svg xmlns=\"http://www.w3.org/2000/svg\" height=\"24px\"viewBox=\"0 0 24 24\"\n",
              "       width=\"24px\">\n",
              "    <path d=\"M0 0h24v24H0V0z\" fill=\"none\"/>\n",
              "    <path d=\"M18.56 5.44l.94 2.06.94-2.06 2.06-.94-2.06-.94-.94-2.06-.94 2.06-2.06.94zm-11 1L8.5 8.5l.94-2.06 2.06-.94-2.06-.94L8.5 2.5l-.94 2.06-2.06.94zm10 10l.94 2.06.94-2.06 2.06-.94-2.06-.94-.94-2.06-.94 2.06-2.06.94z\"/><path d=\"M17.41 7.96l-1.37-1.37c-.4-.4-.92-.59-1.43-.59-.52 0-1.04.2-1.43.59L10.3 9.45l-7.72 7.72c-.78.78-.78 2.05 0 2.83L4 21.41c.39.39.9.59 1.41.59.51 0 1.02-.2 1.41-.59l7.78-7.78 2.81-2.81c.8-.78.8-2.07 0-2.86zM5.41 20L4 18.59l7.72-7.72 1.47 1.35L5.41 20z\"/>\n",
              "  </svg>\n",
              "      </button>\n",
              "      \n",
              "  <style>\n",
              "    .colab-df-container {\n",
              "      display:flex;\n",
              "      flex-wrap:wrap;\n",
              "      gap: 12px;\n",
              "    }\n",
              "\n",
              "    .colab-df-convert {\n",
              "      background-color: #E8F0FE;\n",
              "      border: none;\n",
              "      border-radius: 50%;\n",
              "      cursor: pointer;\n",
              "      display: none;\n",
              "      fill: #1967D2;\n",
              "      height: 32px;\n",
              "      padding: 0 0 0 0;\n",
              "      width: 32px;\n",
              "    }\n",
              "\n",
              "    .colab-df-convert:hover {\n",
              "      background-color: #E2EBFA;\n",
              "      box-shadow: 0px 1px 2px rgba(60, 64, 67, 0.3), 0px 1px 3px 1px rgba(60, 64, 67, 0.15);\n",
              "      fill: #174EA6;\n",
              "    }\n",
              "\n",
              "    [theme=dark] .colab-df-convert {\n",
              "      background-color: #3B4455;\n",
              "      fill: #D2E3FC;\n",
              "    }\n",
              "\n",
              "    [theme=dark] .colab-df-convert:hover {\n",
              "      background-color: #434B5C;\n",
              "      box-shadow: 0px 1px 3px 1px rgba(0, 0, 0, 0.15);\n",
              "      filter: drop-shadow(0px 1px 2px rgba(0, 0, 0, 0.3));\n",
              "      fill: #FFFFFF;\n",
              "    }\n",
              "  </style>\n",
              "\n",
              "      <script>\n",
              "        const buttonEl =\n",
              "          document.querySelector('#df-645ce99a-115e-44e0-9cb8-2296839ab6b4 button.colab-df-convert');\n",
              "        buttonEl.style.display =\n",
              "          google.colab.kernel.accessAllowed ? 'block' : 'none';\n",
              "\n",
              "        async function convertToInteractive(key) {\n",
              "          const element = document.querySelector('#df-645ce99a-115e-44e0-9cb8-2296839ab6b4');\n",
              "          const dataTable =\n",
              "            await google.colab.kernel.invokeFunction('convertToInteractive',\n",
              "                                                     [key], {});\n",
              "          if (!dataTable) return;\n",
              "\n",
              "          const docLinkHtml = 'Like what you see? Visit the ' +\n",
              "            '<a target=\"_blank\" href=https://colab.research.google.com/notebooks/data_table.ipynb>data table notebook</a>'\n",
              "            + ' to learn more about interactive tables.';\n",
              "          element.innerHTML = '';\n",
              "          dataTable['output_type'] = 'display_data';\n",
              "          await google.colab.output.renderOutput(dataTable, element);\n",
              "          const docLink = document.createElement('div');\n",
              "          docLink.innerHTML = docLinkHtml;\n",
              "          element.appendChild(docLink);\n",
              "        }\n",
              "      </script>\n",
              "    </div>\n",
              "  </div>\n",
              "  "
            ],
            "text/plain": [
              "   mean radius  mean texture  ...  worst fractal dimension  target\n",
              "0        17.99         10.38  ...                  0.11890       0\n",
              "1        20.57         17.77  ...                  0.08902       0\n",
              "2        19.69         21.25  ...                  0.08758       0\n",
              "3        11.42         20.38  ...                  0.17300       0\n",
              "4        20.29         14.34  ...                  0.07678       0\n",
              "\n",
              "[5 rows x 31 columns]"
            ]
          },
          "metadata": {},
          "execution_count": 58
        }
      ]
    },
    {
      "cell_type": "markdown",
      "source": [
        "라이브러리와 데이터셋을 import 해주었습니다."
      ],
      "metadata": {
        "id": "OX80kaawVrmV"
      }
    },
    {
      "cell_type": "code",
      "source": [
        "X_train, X_test, y_train, y_test = train_test_split(cancer.data, cancer.target, test_size=0.2, random_state=3)\n",
        "dtc = DecisionTreeClassifier()\n",
        "dtc.fit(X_train, y_train)\n",
        "print('모델의 정확도 :', round(dtc.score(X_test, y_test), 4))"
      ],
      "metadata": {
        "colab": {
          "base_uri": "https://localhost:8080/"
        },
        "id": "-36XvlC6Wa1t",
        "outputId": "d4b09a94-6053-4d92-8a3b-c791edb431aa"
      },
      "execution_count": 16,
      "outputs": [
        {
          "output_type": "stream",
          "name": "stdout",
          "text": [
            "모델의 정확도 : 0.886\n"
          ]
        }
      ]
    },
    {
      "cell_type": "markdown",
      "source": [
        "모델을 만들고 학습과 테스트를 거쳐 정확도를 출력해보았습니다.\n",
        "\n",
        "모델의 정확도는 0.886 정도이네요.\n",
        "\n",
        "이제 스케일링 방법마다 데이터를 스케일링하고, 정확도를 출력해보겠습니다."
      ],
      "metadata": {
        "id": "ouesVvrAWfgQ"
      }
    },
    {
      "cell_type": "markdown",
      "source": [
        "### **(1) StandardScaler()**\n",
        "\n",
        "StandardScaler는 모든 피처들을 **평균이 0, 분산이 1**인 정규분포를 갖도록 만들어줍니다.\n",
        "\n",
        "즉, 표준화해주는 방법이죠.\n",
        "\n",
        "이 방법의 경우 데이터 내에 이상치가 있다면 데이터의 평균과 분산에 크게 영향을 주기 때문에 스케일링 방법으로 적절하지 않습니다.\n",
        "\n"
      ],
      "metadata": {
        "id": "t1SqpsUXOS44"
      }
    },
    {
      "cell_type": "markdown",
      "source": [
        "sklearn 으로 데이터 스케일링을 할 경우, 훈련용 데이터셋과 테스트용 데이터셋에 각각 다른 과정이 필요합니다.\n",
        "\n",
        "훈련용 데이터셋은 fit 메서드를 적용시킨 후 transform 해주어야 하고, 테스트용 데이터셋에는 transform 을 적용시켜주면 됩니다.\n",
        "\n",
        "StandardScaler를 import 해주고, 데이터 스케일링을 진행해보았습니다."
      ],
      "metadata": {
        "id": "kUAceSrwbWmf"
      }
    },
    {
      "cell_type": "code",
      "source": [
        "from sklearn.preprocessing import StandardScaler\n",
        "\n",
        "std = StandardScaler()\n",
        "std.fit(X_train)\n",
        "X_train_scaled = std.transform(X_train)\n",
        "X_test_scaled = std.transform(X_test)\n",
        "dtc.fit(X_train_scaled, y_train)\n",
        "print('모델의 정확도 :', round(dtc.score(X_test_scaled, y_test), 4))"
      ],
      "metadata": {
        "colab": {
          "base_uri": "https://localhost:8080/"
        },
        "id": "5IqM-XvGcLQk",
        "outputId": "316253e7-bb4f-4d05-a17e-c29e1d51f837"
      },
      "execution_count": 20,
      "outputs": [
        {
          "output_type": "stream",
          "name": "stdout",
          "text": [
            "모델의 정확도 : 0.9123\n"
          ]
        }
      ]
    },
    {
      "cell_type": "markdown",
      "source": [
        "모델의 정확도가 상승하였네요."
      ],
      "metadata": {
        "id": "IvZncnO3iIAZ"
      }
    },
    {
      "cell_type": "code",
      "source": [
        "X_train"
      ],
      "metadata": {
        "colab": {
          "base_uri": "https://localhost:8080/"
        },
        "id": "KDtPTru1h9UZ",
        "outputId": "91f2f1da-e19f-4471-b582-afcff0331d76"
      },
      "execution_count": 112,
      "outputs": [
        {
          "output_type": "execute_result",
          "data": {
            "text/plain": [
              "array([[1.916e+01, 2.660e+01, 1.262e+02, ..., 1.872e-01, 3.258e-01,\n",
              "        9.720e-02],\n",
              "       [1.831e+01, 1.858e+01, 1.186e+02, ..., 1.571e-01, 3.206e-01,\n",
              "        6.938e-02],\n",
              "       [1.404e+01, 1.598e+01, 8.978e+01, ..., 7.453e-02, 2.725e-01,\n",
              "        7.234e-02],\n",
              "       ...,\n",
              "       [1.795e+01, 2.001e+01, 1.142e+02, ..., 1.185e-01, 4.882e-01,\n",
              "        6.111e-02],\n",
              "       [1.955e+01, 2.877e+01, 1.336e+02, ..., 1.941e-01, 2.818e-01,\n",
              "        1.005e-01],\n",
              "       [1.152e+01, 1.493e+01, 7.387e+01, ..., 9.608e-02, 2.664e-01,\n",
              "        7.809e-02]])"
            ]
          },
          "metadata": {},
          "execution_count": 112
        }
      ]
    },
    {
      "cell_type": "code",
      "source": [
        "X_train_scaled"
      ],
      "metadata": {
        "colab": {
          "base_uri": "https://localhost:8080/"
        },
        "id": "kpMdVoaNh_la",
        "outputId": "8c0c6fa5-df85-40e5-9c51-b0ec2bd05015"
      },
      "execution_count": 113,
      "outputs": [
        {
          "output_type": "execute_result",
          "data": {
            "text/plain": [
              "array([[ 1.40381088,  1.79283426,  1.37960065, ...,  1.044121  ,\n",
              "         0.52295995,  0.64990763],\n",
              "       [ 1.16565505, -0.14461158,  1.07121375, ...,  0.5940779 ,\n",
              "         0.44153782, -0.85281516],\n",
              "       [-0.0307278 , -0.77271123, -0.09822185, ..., -0.64047556,\n",
              "        -0.31161687, -0.69292805],\n",
              "       ...,\n",
              "       [ 1.06478904,  0.20084323,  0.89267396, ...,  0.01694621,\n",
              "         3.06583565, -1.29952679],\n",
              "       [ 1.51308238,  2.3170559 ,  1.67987211, ...,  1.14728703,\n",
              "        -0.16599653,  0.82816016],\n",
              "       [-0.73678981, -1.02636686, -0.74380549, ..., -0.31826862,\n",
              "        -0.40713129, -0.38233653]])"
            ]
          },
          "metadata": {},
          "execution_count": 113
        }
      ]
    },
    {
      "cell_type": "markdown",
      "source": [
        "데이터를 직접 불러와서 보았을 때, 데이터값의 범위가 변화한 것을 볼 수 있습니다.\n",
        "\n",
        "숫자로 보니 직관적이지 않아 그래프로 그려보겠습니다.\n",
        "\n",
        "데이터셋은 numpy array 이기 때문에 shape을 열 1개로 바꾸어서 플로팅해주겠습니다."
      ],
      "metadata": {
        "id": "WfvdZuGhb-x8"
      }
    },
    {
      "cell_type": "code",
      "source": [
        "X_train_scaled.shape"
      ],
      "metadata": {
        "colab": {
          "base_uri": "https://localhost:8080/"
        },
        "id": "jN1f0IXrDsRC",
        "outputId": "00506ea4-dc8e-4298-a8c5-2a3e56684dd3"
      },
      "execution_count": 28,
      "outputs": [
        {
          "output_type": "execute_result",
          "data": {
            "text/plain": [
              "(455, 30)"
            ]
          },
          "metadata": {},
          "execution_count": 28
        }
      ]
    },
    {
      "cell_type": "code",
      "source": [
        "X_train_scaled_ss = X_train_scaled.reshape(13650,1)\n",
        "X_train_data = X_train.reshape(13650,1)"
      ],
      "metadata": {
        "id": "vsfQvCzCD3zm"
      },
      "execution_count": 21,
      "outputs": []
    },
    {
      "cell_type": "markdown",
      "source": [
        "먼저, 스케일링 전의 훈련 데이터셋의 분포를 그려보았습니다."
      ],
      "metadata": {
        "id": "zYDTVKx6iMaI"
      }
    },
    {
      "cell_type": "code",
      "source": [
        "plt.hist(X_train_data, bins=30, color= 'red', alpha = 0.7)\n",
        "plt.title('before data scaling')\n",
        "plt.show()"
      ],
      "metadata": {
        "colab": {
          "base_uri": "https://localhost:8080/",
          "height": 281
        },
        "id": "DTZA3NVPEojp",
        "outputId": "e3491bf9-7974-45ff-9e94-d0c51d25a18e"
      },
      "execution_count": 23,
      "outputs": [
        {
          "output_type": "display_data",
          "data": {
            "image/png": "[encoded data removed]",
            "text/plain": [
              "<Figure size 432x288 with 1 Axes>"
            ]
          },
          "metadata": {
            "needs_background": "light"
          }
        }
      ]
    },
    {
      "cell_type": "markdown",
      "source": [
        "다음으로 스케일링 후의 데이터로 히스토그램을 그려보았습니다."
      ],
      "metadata": {
        "id": "SDit8u-Ic8Az"
      }
    },
    {
      "cell_type": "code",
      "source": [
        "plt.hist(X_train_scaled_ss, bins=30, alpha = 0.7, density = True)\n",
        "plt.title('StandardScaler')\n",
        "plt.show()"
      ],
      "metadata": {
        "colab": {
          "base_uri": "https://localhost:8080/",
          "height": 281
        },
        "id": "ZxXo2FIrjHUZ",
        "outputId": "53f619a1-9709-4a9b-83d7-340ea67a7a88"
      },
      "execution_count": 34,
      "outputs": [
        {
          "output_type": "display_data",
          "data": {
            "image/png": "[encoded data removed]",
            "text/plain": [
              "<Figure size 432x288 with 1 Axes>"
            ]
          },
          "metadata": {
            "needs_background": "light"
          }
        }
      ]
    },
    {
      "cell_type": "markdown",
      "source": [
        "그래프가 0을 중심으로 정규 분포의 모양을 가지는 것을 확인할 수 있습니다."
      ],
      "metadata": {
        "id": "281fuMOIdIG5"
      }
    },
    {
      "cell_type": "markdown",
      "source": [
        "### **(2) MinMaxScaler()**\n",
        "\n",
        "MinMaxScaler는 모든 피처들이 **0과 1사이**의 데이터값을 갖도록 만들어줍니다.\n",
        "\n",
        "즉, 피처별로 최솟값은 0이 되고, 최댓값은 1이 되는 것이죠.\n",
        "\n",
        "데이터가 2차원인 겅우, 모든 데이터는 x, y 축의 0과 1 사이에 존재하게 됩니다.\n",
        "\n",
        "이 방법 또한 이상치가 존재한다면, 이상치가 극값이 되어 데이터가 아주 좁은 범위에 분포하게 되기 때문에 스케일링 방법으로 적절하지 않습니다."
      ],
      "metadata": {
        "id": "z_oVdMmVNmHD"
      }
    },
    {
      "cell_type": "code",
      "source": [
        "from sklearn.preprocessing import MinMaxScaler\n",
        "\n",
        "mms = MinMaxScaler()\n",
        "mms.fit(X_train)\n",
        "X_train_scaled = mms.transform(X_train)\n",
        "X_test_scaled = mms.transform(X_test)\n",
        "dtc.fit(X_train_scaled, y_train)\n",
        "print('모델의 정확도 :', round(dtc.score(X_test_scaled, y_test), 4))"
      ],
      "metadata": {
        "colab": {
          "base_uri": "https://localhost:8080/"
        },
        "id": "7_iBULxceqSc",
        "outputId": "a57aea24-bad2-41f5-b1d6-3283d6f4fddd"
      },
      "execution_count": 32,
      "outputs": [
        {
          "output_type": "stream",
          "name": "stdout",
          "text": [
            "모델의 정확도 : 0.9035\n"
          ]
        }
      ]
    },
    {
      "cell_type": "markdown",
      "source": [
        "마찬가지로 모델의 정확도가 상승하였습니다."
      ],
      "metadata": {
        "id": "FUFQv3yiiYRJ"
      }
    },
    {
      "cell_type": "code",
      "source": [
        "X_train_scaled"
      ],
      "metadata": {
        "colab": {
          "base_uri": "https://localhost:8080/"
        },
        "id": "RxQXCngNibkp",
        "outputId": "598ba3dc-39c4-46ca-b665-efdd49f201f5"
      },
      "execution_count": 115,
      "outputs": [
        {
          "output_type": "execute_result",
          "data": {
            "text/plain": [
              "array([[0.56168275, 0.7081761 , 0.55664674, ..., 0.64329897, 0.33372758,\n",
              "        0.27653155],\n",
              "       [0.52005485, 0.37190776, 0.50256191, ..., 0.53986254, 0.32347723,\n",
              "        0.09405746],\n",
              "       [0.31093589, 0.26289308, 0.29746655, ..., 0.25611684, 0.22866154,\n",
              "        0.11347239],\n",
              "       ...,\n",
              "       [0.50242421, 0.43186583, 0.47124964, ..., 0.40721649, 0.65385374,\n",
              "        0.03981372],\n",
              "       [0.5807826 , 0.79916143, 0.60930828, ..., 0.66701031, 0.24699389,\n",
              "        0.29817657],\n",
              "       [0.18752143, 0.21886792, 0.18424424, ..., 0.33017182, 0.2166371 ,\n",
              "        0.1511872 ]])"
            ]
          },
          "metadata": {},
          "execution_count": 115
        }
      ]
    },
    {
      "cell_type": "markdown",
      "source": [
        "데이터를 직접 보면, 모든 데이터가 0과 1사이에서 데이터값을 가지네요."
      ],
      "metadata": {
        "id": "fNfdulKJdeC0"
      }
    },
    {
      "cell_type": "markdown",
      "source": [
        "위와 마찬가지로 array 크기를 변경하여 플로팅해보았습니다."
      ],
      "metadata": {
        "id": "5NDF78IUeL40"
      }
    },
    {
      "cell_type": "code",
      "source": [
        "X_train_scaled_mms = X_train_scaled.reshape(13650,1)"
      ],
      "metadata": {
        "id": "wwYTmaj2F-hQ"
      },
      "execution_count": 33,
      "outputs": []
    },
    {
      "cell_type": "code",
      "source": [
        "plt.hist(X_train_scaled_mms, bins=30, color='green', alpha = 0.7)\n",
        "plt.title('MinMaxScaler')\n",
        "plt.show()"
      ],
      "metadata": {
        "colab": {
          "base_uri": "https://localhost:8080/",
          "height": 281
        },
        "id": "t3ZxDtKEdzrq",
        "outputId": "0aab303d-1d20-4fb4-bb2e-498ce28bc445"
      },
      "execution_count": 36,
      "outputs": [
        {
          "output_type": "display_data",
          "data": {
            "image/png": "[encoded data removed]",
            "text/plain": [
              "<Figure size 432x288 with 1 Axes>"
            ]
          },
          "metadata": {
            "needs_background": "light"
          }
        }
      ]
    },
    {
      "cell_type": "markdown",
      "source": [
        "스케일링 후의 데이터 값들이 0과 1사이에 분포되어있는 것을 볼 수 있습니다."
      ],
      "metadata": {
        "id": "9HG_u_buijNa"
      }
    },
    {
      "cell_type": "markdown",
      "source": [
        "### **(3) MaxAbsScaler()**\n",
        "\n",
        "MaxAbsScaler는 MinMaxScaler와 비슷한데요!\n",
        "\n",
        "방법의 이름에서도 알 수 있듯이 모든 피처들의 **절댓값이 0과 1 사이**에 놓이도록 만들어줍니다.\n",
        "\n",
        "즉, 0을 기준으로 절댓값이 가장 큰 수가 1또는 -1의 값을 가지게 됩니다.\n",
        "\n",
        "마찬가지로, 이상치의 영향을 크게 받기 때문에 이상치가 존재할 경우 이 방법은 적절하지 않습니다."
      ],
      "metadata": {
        "id": "KCxHjIOzOa4T"
      }
    },
    {
      "cell_type": "code",
      "source": [
        "from sklearn.preprocessing import MaxAbsScaler\n",
        "\n",
        "mas = MaxAbsScaler()\n",
        "mas.fit(X_train)\n",
        "X_train_scaled = mas.transform(X_train)\n",
        "X_test_scaled = mas.transform(X_test)\n",
        "dtc.fit(X_train_scaled, y_train)\n",
        "print('모델의 정확도 :', round(dtc.score(X_test_scaled, y_test), 4))"
      ],
      "metadata": {
        "colab": {
          "base_uri": "https://localhost:8080/"
        },
        "id": "LOqTGOTZe3wJ",
        "outputId": "ce941e91-68fb-4e5e-d895-06b6f356c8a1"
      },
      "execution_count": 37,
      "outputs": [
        {
          "output_type": "stream",
          "name": "stdout",
          "text": [
            "모델의 정확도 : 0.9123\n"
          ]
        }
      ]
    },
    {
      "cell_type": "markdown",
      "source": [
        "마찬가지로 스케일링을 통해 모델의 정확도가 상승하였습니다."
      ],
      "metadata": {
        "id": "WGI6Arqgirmh"
      }
    },
    {
      "cell_type": "code",
      "source": [
        "X_train_scaled"
      ],
      "metadata": {
        "colab": {
          "base_uri": "https://localhost:8080/"
        },
        "id": "9TuvRBaKivro",
        "outputId": "018c258f-16ed-4725-9234-aa17b65729a2"
      },
      "execution_count": 38,
      "outputs": [
        {
          "output_type": "execute_result",
          "data": {
            "text/plain": [
              "array([[0.68160797, 0.79261025, 0.66949602, ..., 0.64329897, 0.49081049,\n",
              "        0.46843373],\n",
              "       [0.65136962, 0.55363528, 0.62917772, ..., 0.53986254, 0.4829768 ,\n",
              "        0.33436145],\n",
              "       [0.49946638, 0.4761621 , 0.47628647, ..., 0.25611684, 0.41051522,\n",
              "        0.34862651],\n",
              "       ...,\n",
              "       [0.63856279, 0.59624553, 0.60583554, ..., 0.40721649, 0.73546249,\n",
              "        0.29450602],\n",
              "       [0.69548203, 0.85727056, 0.70875332, ..., 0.66701031, 0.42452546,\n",
              "        0.48433735],\n",
              "       [0.40981857, 0.44487485, 0.39188329, ..., 0.33017182, 0.4013257 ,\n",
              "        0.37633735]])"
            ]
          },
          "metadata": {},
          "execution_count": 38
        }
      ]
    },
    {
      "cell_type": "markdown",
      "source": [
        "데이터를 직접 보니 모든 데이터가 -1과 1사이의 범위에 존재하네요. "
      ],
      "metadata": {
        "id": "OD3vcheYedET"
      }
    },
    {
      "cell_type": "code",
      "source": [
        "X_train_scaled_mas = X_train_scaled.reshape(13650,1)"
      ],
      "metadata": {
        "id": "kRn8psDkelKy"
      },
      "execution_count": 42,
      "outputs": []
    },
    {
      "cell_type": "code",
      "source": [
        "plt.hist(X_train_scaled_mas, bins=30, color='yellow', alpha = 0.7)\n",
        "plt.title('MaxAbsScaler')\n",
        "plt.show()"
      ],
      "metadata": {
        "colab": {
          "base_uri": "https://localhost:8080/",
          "height": 281
        },
        "id": "aSydV_xaeqki",
        "outputId": "099e2f7c-479b-4389-8b73-a73ea63f8a13"
      },
      "execution_count": 43,
      "outputs": [
        {
          "output_type": "display_data",
          "data": {
            "image/png": "[encoded data removed]",
            "text/plain": [
              "<Figure size 432x288 with 1 Axes>"
            ]
          },
          "metadata": {
            "needs_background": "light"
          }
        }
      ]
    },
    {
      "cell_type": "markdown",
      "source": [
        "그래프를 그려보았을 때, MinMaxScaler보다 퍼져있는 모양을 볼 수 있네요.\n",
        "\n",
        "데이터가 모두 양수이기 때문에 0과 1사이의 범위에만 데이터가 존재하는 것 같습니다."
      ],
      "metadata": {
        "id": "EWobmJmOi_JF"
      }
    },
    {
      "cell_type": "markdown",
      "source": [
        "### **(4) RobustScaler()**\n",
        "\n",
        "RobustScaler는 StandardScaler와 비슷합니다.\n",
        "\n",
        "다만, StandardScaler는 평균과 분산을 사용했지만 RobustScaler는 **중간값**(median)과 **사분위값**(quartile)을 사용합니다.\n",
        "\n",
        "따라서, 이상치의 영향을 최소화할 수 있겠습니다.\n",
        "\n",
        "StandardScaler와 비교하였을 때, RobustScaler를 활용하면 표준화 후 데이터가 더 넓게 분포해있습니다."
      ],
      "metadata": {
        "id": "awTs_L-GPLOr"
      }
    },
    {
      "cell_type": "code",
      "source": [
        "from sklearn.preprocessing import RobustScaler\n",
        "\n",
        "rbs = RobustScaler()\n",
        "X_train_scaled = rbs.fit_transform(X_train)\n",
        "X_test_scaled = rbs.transform(X_test)\n",
        "dtc.fit(X_train_scaled, y_train)\n",
        "print('모델의 정확도 :', round(dtc.score(X_test_scaled, y_test), 4))"
      ],
      "metadata": {
        "colab": {
          "base_uri": "https://localhost:8080/"
        },
        "id": "0PZ_aKdCe8G8",
        "outputId": "86fe4e6e-3cd2-444c-9ce1-0d44bc207631"
      },
      "execution_count": 48,
      "outputs": [
        {
          "output_type": "stream",
          "name": "stdout",
          "text": [
            "모델의 정확도 : 0.9123\n"
          ]
        }
      ]
    },
    {
      "cell_type": "markdown",
      "source": [
        "마찬가지로 정확도가 상승했습니다."
      ],
      "metadata": {
        "id": "-b8Ksd9UjNjx"
      }
    },
    {
      "cell_type": "code",
      "source": [
        "X_train_scaled"
      ],
      "metadata": {
        "colab": {
          "base_uri": "https://localhost:8080/"
        },
        "id": "pr8dvE3Pfqpt",
        "outputId": "48730664-6408-40ae-f519-b626983f0b35"
      },
      "execution_count": 49,
      "outputs": [
        {
          "output_type": "execute_result",
          "data": {
            "text/plain": [
              "array([[ 1.36170213,  1.42597639,  1.34367099, ...,  0.83828187,\n",
              "         0.63836018,  0.78497281],\n",
              "       [ 1.1607565 , -0.03088102,  1.08747682, ...,  0.54038005,\n",
              "         0.56222548, -0.59021256],\n",
              "       [ 0.15130024, -0.50317893,  0.11596157, ..., -0.27682106,\n",
              "        -0.1420205 , -0.44389521],\n",
              "       ...,\n",
              "       [ 1.07565012,  0.22888283,  0.93915389, ...,  0.15835313,\n",
              "         3.01610542, -0.99901137],\n",
              "       [ 1.45390071,  1.82016349,  1.59312321, ...,  0.90657165,\n",
              "        -0.00585652,  0.94809689],\n",
              "       [-0.44444444, -0.69391462, -0.42036069, ..., -0.06353919,\n",
              "        -0.23133236, -0.15966387]])"
            ]
          },
          "metadata": {},
          "execution_count": 49
        }
      ]
    },
    {
      "cell_type": "code",
      "source": [
        "X_train_scaled_rbs = X_train_scaled.reshape(13650,1)"
      ],
      "metadata": {
        "id": "CLIKw8hPfuoa"
      },
      "execution_count": 50,
      "outputs": []
    },
    {
      "cell_type": "code",
      "source": [
        "plt.hist(X_train_scaled_rbs, bins=30, color='pink', alpha = 0.7)\n",
        "plt.title('RobustScaler')\n",
        "plt.show()"
      ],
      "metadata": {
        "colab": {
          "base_uri": "https://localhost:8080/",
          "height": 281
        },
        "id": "qXW-WLXvfzAb",
        "outputId": "4ef9d7d0-5f88-4894-d8c0-9564adc0c777"
      },
      "execution_count": 51,
      "outputs": [
        {
          "output_type": "display_data",
          "data": {
            "image/png": "[encoded data removed]",
            "text/plain": [
              "<Figure size 432x288 with 1 Axes>"
            ]
          },
          "metadata": {
            "needs_background": "light"
          }
        }
      ]
    },
    {
      "cell_type": "markdown",
      "source": [
        "위에서 말한대로, 표준화되었기 때문에 모양이 StandardScaler와 비슷합니다."
      ],
      "metadata": {
        "id": "MQ8Gr4xxjYpC"
      }
    },
    {
      "cell_type": "markdown",
      "source": [
        "### **(5) Normalizer()**\n",
        "\n",
        "앞의 4가지 방법은 각 피처(feature)의 통계치를 이용합니다. \n",
        "\n",
        "즉, 열(columns)를 대상으로 합니다.\n",
        "\n",
        "그러나 Normalizer 의 경우 각 **행(row)마다 정규화**가 진행됩니다.\n",
        "\n",
        "이는 한 행의 모든 피처들 사이의 유클리드 거리가 1이 되도록 데이터값을 만들어줍니다.\n",
        "\n",
        "이렇게 하면 좀 더 빠르게 학습할 수 있고 과대적합 확률을 낮출 수 있다고 합니다..\n"
      ],
      "metadata": {
        "id": "xw6z13DOP9Si"
      }
    },
    {
      "cell_type": "code",
      "execution_count": 52,
      "metadata": {
        "id": "vlm8JdDi6VkS",
        "colab": {
          "base_uri": "https://localhost:8080/"
        },
        "outputId": "129deab6-79da-46ce-87c7-d7de083c2e1a"
      },
      "outputs": [
        {
          "output_type": "stream",
          "name": "stdout",
          "text": [
            "모델의 정확도 : 0.9298\n"
          ]
        }
      ],
      "source": [
        "from sklearn.preprocessing import Normalizer\n",
        "\n",
        "norm = Normalizer()\n",
        "X_train_scaled = norm.fit_transform(X_train)\n",
        "X_test_scaled = norm.transform(X_test)\n",
        "dtc.fit(X_train_scaled, y_train)\n",
        "print('모델의 정확도 :', round(dtc.score(X_test_scaled, y_test), 4))"
      ]
    },
    {
      "cell_type": "markdown",
      "source": [
        "모델의 정확도가 가장 상승하였습니다."
      ],
      "metadata": {
        "id": "P7kZJiYTj1v4"
      }
    },
    {
      "cell_type": "code",
      "source": [
        "X_train_scaled"
      ],
      "metadata": {
        "colab": {
          "base_uri": "https://localhost:8080/"
        },
        "id": "2JSMz21zgEoa",
        "outputId": "feda3826-f60c-4f57-e3ea-d40843321d8d"
      },
      "execution_count": 53,
      "outputs": [
        {
          "output_type": "execute_result",
          "data": {
            "text/plain": [
              "array([[9.22211661e-03, 1.28031473e-02, 6.07427514e-02, ...,\n",
              "        9.01033522e-05, 1.56814488e-04, 4.67844329e-05],\n",
              "       [1.03861667e-02, 1.05393215e-02, 6.72746788e-02, ...,\n",
              "        8.91134236e-05, 1.81857184e-04, 3.93551199e-05],\n",
              "       [1.43548748e-02, 1.63383831e-02, 9.17934942e-02, ...,\n",
              "        7.62014828e-05, 2.78611352e-04, 7.39623677e-05],\n",
              "       ...,\n",
              "       [1.11556685e-02, 1.24359291e-02, 7.09736683e-02, ...,\n",
              "        7.36460568e-05, 3.03409324e-04, 3.79789918e-05],\n",
              "       [8.54812786e-03, 1.25795211e-02, 5.84158507e-02, ...,\n",
              "        8.48691364e-05, 1.23215470e-04, 4.39430614e-05],\n",
              "       [1.77702285e-02, 2.30303396e-02, 1.13948505e-01, ...,\n",
              "        1.48208642e-04, 4.10936535e-04, 1.20458086e-04]])"
            ]
          },
          "metadata": {},
          "execution_count": 53
        }
      ]
    },
    {
      "cell_type": "code",
      "source": [
        "X_train_scaled_norm = X_train_scaled.reshape(13650,1)"
      ],
      "metadata": {
        "id": "hNRifvOIgJAS"
      },
      "execution_count": 54,
      "outputs": []
    },
    {
      "cell_type": "code",
      "source": [
        "plt.hist(X_train_scaled_norm, bins=30, color='orange ', alpha = 0.7)\n",
        "plt.title('Normalizer')\n",
        "plt.show()"
      ],
      "metadata": {
        "colab": {
          "base_uri": "https://localhost:8080/",
          "height": 281
        },
        "id": "7BHsZmY4gNbJ",
        "outputId": "12476090-d3c8-4d78-96de-73a9ba105bcf"
      },
      "execution_count": 56,
      "outputs": [
        {
          "output_type": "display_data",
          "data": {
            "image/png": "[encoded data removed]",
            "text/plain": [
              "<Figure size 432x288 with 1 Axes>"
            ]
          },
          "metadata": {
            "needs_background": "light"
          }
        }
      ]
    },
    {
      "cell_type": "markdown",
      "source": [
        "데이터를 그려보았을 때, 0 근처에서 데이터값이 다 모여있는 것을 확인할 수 있네요.\n",
        "\n",
        "x축의 범위도 가장 작습니다."
      ],
      "metadata": {
        "id": "sKom74z0j56L"
      }
    },
    {
      "cell_type": "markdown",
      "source": [
        "이렇게 오늘은 데이터 스케일링의 5가지 방법에 대해 설명해보았습니다.\n",
        "\n",
        "유방암 데이터셋을 활용한 SVC 분류 알고리즘 모델에서는 Normalizer 방법에서 모델의 정확도가 가장 상승했는데요!\n",
        "\n",
        "dataset과 사용하는 알고리즘에 따라 가장 적절한 스케일링 방법이 다르다고 합니다.\n",
        "\n",
        "데이터 스케일링 과정을 거친다면 더 정확한 머신러닝을 할 수 있을 것 같아요.\n",
        "\n",
        "읽어주셔서 감사합니다 :)"
      ],
      "metadata": {
        "id": "2WPZUE1VkB-H"
      }
    }
  ]
}