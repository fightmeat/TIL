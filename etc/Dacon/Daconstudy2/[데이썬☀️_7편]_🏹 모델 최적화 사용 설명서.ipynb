{
  "nbformat": 4,
  "nbformat_minor": 0,
  "metadata": {
    "colab": {
      "name": "모델 최적화 사용 설명서의 사본",
      "provenance": [],
      "collapsed_sections": []
    },
    "kernelspec": {
      "name": "python3",
      "display_name": "Python 3"
    },
    "language_info": {
      "name": "python"
    }
  },
  "cells": [
    {
      "cell_type": "markdown",
      "source": [
        "# **✍️ 데이썬의 모든 시리즈 바로가기!**"
      ],
      "metadata": {
        "id": "WuMGWiTUYZxW"
      }
    },
    {
      "cell_type": "markdown",
      "source": [
        "\n",
        "[[데이썬☀️_0편] Python으로 시작하는 데이터 분석 사용 설명서](https://dacon.io/codeshare/4743)\n",
        "<br><br>\n",
        "\n",
        "[[데이썬☀️_1편] ✏️ 데이터 분석 사용 설명서](https://dacon.io/codeshare/4856)\n",
        "<br><br>\n",
        "\n",
        "[[데이썬☀️_2편] 📖 기초 라이브러리 사용 설명서 (1) - Numpy](https://dacon.io/codeshare/4860)\n",
        "\n",
        "[[데이썬☀️_2편] 📖 기초 라이브러리 사용 설명서 (2) - Pandas](https://dacon.io/codeshare/4861)\n",
        "\n",
        "[[데이썬☀️_2편] 📖 기초 라이브러리 사용 설명서 (3) - Scikit-learn](https://dacon.io/codeshare/4877)\n",
        "<br><br>\n",
        "\n",
        "[[데이썬☀️_3편] 🔍 EDA (탐색적 데이터 분석) 사용 설명서 (1) - EDA & 통계치 분석](https://dacon.io/codeshare/4899)\n",
        "\n",
        "[[데이썬☀️_3편] 🔍 EDA (탐색적 데이터 분석) 사용 설명서 (2) - Matplotlib](https://dacon.io/codeshare/4906)\n",
        "\n",
        "[[데이썬☀️_3편] 🔍 EDA (탐색적 데이터 분석) 사용 설명서 (3) - Seaborn](https://dacon.io/codeshare/4905)\n",
        "\n",
        "[[데이썬☀️_3편] 🔍 EDA (탐색적 데이터 분석) 사용 설명서 (4) - Plotly](https://dacon.io/codeshare/4942)\n",
        "\n",
        "[[데이썬☀️_3편] 🔍 EDA (탐색적 데이터 분석) 사용 설명서 (5) - Cufflinks](https://dacon.io/codeshare/4945)\n",
        "<br><br>\n",
        "\n",
        "[[데이썬☀️_4편] 🛠 전처리 사용 설명서](https://dacon.io/codeshare/4992) \n",
        "<br><br>\n",
        "\n",
        "[[데이썬☀️_5편] 🔧 모델링 사용 설명서 (1) - 선형 회귀(Linear Regression)](https://dacon.io/codeshare/4993)\n",
        "\n",
        "[[데이썬☀️_5편] 🔧 모델링 사용 설명서 (2) - 결정 트리(Decision Tree)](https://dacon.io/codeshare/5009)\n",
        "\n",
        "[[데이썬☀️_5편] 🔧 모델링 사용 설명서 (3) - 앙상블(Ensemble)](https://dacon.io/codeshare/5123)\n",
        "<br><br>\n",
        "\n",
        "[[데이썬☀️_6편] 🤖 모델 검증(validation) 사용 설명서](https://dacon.io/codeshare/5124?dtype=recent)\n"
      ],
      "metadata": {
        "id": "t5fcnwP_YaeI"
      }
    },
    {
      "cell_type": "markdown",
      "source": [
        "<br><br>"
      ],
      "metadata": {
        "id": "ZWesHOVCmL1i"
      }
    },
    {
      "cell_type": "markdown",
      "source": [
        "# **🏹 모델 최적화 사용 설명서**\n",
        "\n",
        "1. **하이퍼 파라미터 튜닝**<br>\n",
        "  1) 하이퍼 파라미터 튜닝이란? <br>\n",
        "  2) 튜닝 기법\n",
        "<br><br>\n",
        "2. **Grid Search**"
      ],
      "metadata": {
        "id": "65st-8ttEeWT"
      }
    },
    {
      "cell_type": "markdown",
      "source": [
        "<br>"
      ],
      "metadata": {
        "id": "nVJE6vUNZaah"
      }
    },
    {
      "cell_type": "markdown",
      "source": [
        "\n",
        "\n",
        "---\n",
        "\n"
      ],
      "metadata": {
        "id": "vcs6SI8cmWeA"
      }
    },
    {
      "cell_type": "markdown",
      "source": [
        "## **1. Hyperparameter 튜닝**"
      ],
      "metadata": {
        "id": "78nEExtWSLfq"
      }
    },
    {
      "cell_type": "markdown",
      "source": [
        "### **1) 하이퍼 파라미터 튜닝 이란?**"
      ],
      "metadata": {
        "id": "s3PcbflcZf14"
      }
    },
    {
      "cell_type": "markdown",
      "source": [
        "머신러닝에서 사용자가 직접 매개변수의 값을 정하여 데이터마다 좋은 입력값을 설정해주는 작업입니다."
      ],
      "metadata": {
        "id": "k7JGue4BSP2V"
      }
    },
    {
      "cell_type": "markdown",
      "source": [
        "<br>"
      ],
      "metadata": {
        "id": "gqtiuSH-akZJ"
      }
    },
    {
      "cell_type": "markdown",
      "source": [
        "### **2) Parameter vs Hyperparameter**"
      ],
      "metadata": {
        "id": "-ylfW7YJKOlv"
      }
    },
    {
      "cell_type": "markdown",
      "source": [
        "**[Parameter]**\n",
        "\n",
        "한국말로 매개변수를 의미합니다. Parameter는 모델 내부에서 결정되는 변수이며, 데이터로부터 결정됩니다. 즉 , 사용자가 직접 조정하는 값이 아니라 모델 내부적으로 결정되는 값을 의미합니다."
      ],
      "metadata": {
        "id": "u2ULR-pfKTdw"
      }
    },
    {
      "cell_type": "markdown",
      "source": [
        "**[Hyper parameter]**"
      ],
      "metadata": {
        "id": "yELmI5q5Kt2k"
      }
    },
    {
      "cell_type": "markdown",
      "source": [
        "앞선 Parameter와 달리 **Hyper parameter**는 모델링 시 사용자가 직접 정하는 \n",
        "값을 의미합니다. 대표적인 예시로 Gradient Boosting의 learning rate나 Knn의 K값이 있습니다. 머신러닝 모델 사용 시 직접 세팅해야 하는 값 모두 Hyper parameter 입니다."
      ],
      "metadata": {
        "id": "5YcvJEg2KyEn"
      }
    },
    {
      "cell_type": "markdown",
      "source": [
        "<br>"
      ],
      "metadata": {
        "id": "-SKCyBsJL7k-"
      }
    },
    {
      "cell_type": "markdown",
      "source": [
        "### **3) 하이퍼파라미터의 튜닝 기법**\n",
        "\n",
        "\n",
        "\n"
      ],
      "metadata": {
        "id": "Ye0xg7ruMHf_"
      }
    },
    {
      "cell_type": "markdown",
      "source": [
        "- **그리드 탐색** : 넣을 수 있는 모든 하이퍼 파라미터를 다 넣어보는 방식  \n",
        "\n",
        "- **랜덤 탐색** : 순차적으로 값을 넣어보고, 지정한 횟수만큼 평가하는 방식   \n",
        "\n",
        "- **베이지안 최적화** : 순차적으로 값을 넣어보고,더 좋은 해들의 조합에 대해서 찾아가는 방식  "
      ],
      "metadata": {
        "id": "UzJy9OacayJN"
      }
    },
    {
      "cell_type": "markdown",
      "source": [
        "<br>"
      ],
      "metadata": {
        "id": "wYGpZ1R1ay-7"
      }
    },
    {
      "cell_type": "markdown",
      "source": [
        "<br>"
      ],
      "metadata": {
        "id": "Hrz1Lr_WmRCf"
      }
    },
    {
      "cell_type": "markdown",
      "source": [
        "## **2. Grid search**"
      ],
      "metadata": {
        "id": "sKCpWr34ScQE"
      }
    },
    {
      "cell_type": "markdown",
      "source": [
        "하이퍼 파라미터 그리드에 속한  **모든** 파라미터 조합을 비교 평가하는 방법을 의미합니다."
      ],
      "metadata": {
        "id": "2xXJNYBlSgBc"
      }
    },
    {
      "cell_type": "markdown",
      "source": [
        "sklearn에는 GridSearchCV라는 함수가 있지만, 전처리 과정 등을 효과적으로 반영하기 어렵기에 필자는 잘 사용하지 않습니다.\n",
        "\n",
        "(물론 사용은 매우 간편하긴 합니다.)\n",
        "</br></br>\n",
        "\n",
        "그 대신에 여기에서는 sklearn.model_selection.ParameterGrid이라는 함수를 소개합니다."
      ],
      "metadata": {
        "id": "0-sIUTuBT_5d"
      }
    },
    {
      "cell_type": "markdown",
      "source": [
        "scikit-learn의 metrics 서브 패키지에는 하이퍼 파라미터를 찾기 위한 ParameterGrid 함수를 제공합니다."
      ],
      "metadata": {
        "id": "UsYfyXjja33t"
      }
    },
    {
      "cell_type": "code",
      "source": [
        "from sklearn.model_selection import ParameterGrid as sk"
      ],
      "metadata": {
        "id": "-2dEGophUNN0"
      },
      "execution_count": null,
      "outputs": []
    },
    {
      "cell_type": "code",
      "source": [
        "grid = {'n_neighbors':[3,5,7,9],'metric':[\"Manhattan\",\"Euclidean\"]}"
      ],
      "metadata": {
        "id": "feSqHGMmVcIP"
      },
      "execution_count": null,
      "outputs": []
    },
    {
      "cell_type": "markdown",
      "source": [
        "![image.png](data:image/png;base64,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)"
      ],
      "metadata": {
        "id": "T9cNO2zid_VV"
      }
    },
    {
      "cell_type": "markdown",
      "source": [
        "이웃수 : 3,5,7,9 범위  \n",
        "거리척도: Manhattan, Euclidean\n",
        "\n",
        "파라미터 조합 : 4 x 2 = 8개  \n",
        "\n",
        "모든 조합을 비교하여 최적의 파라미터를 찾습니다."
      ],
      "metadata": {
        "id": "206IL4gOWA5L"
      }
    },
    {
      "cell_type": "markdown",
      "source": [
        "<br>"
      ],
      "metadata": {
        "id": "Ce4NavZuz0QR"
      }
    },
    {
      "cell_type": "code",
      "source": [
        "list(sk(grid))"
      ],
      "metadata": {
        "colab": {
          "base_uri": "https://localhost:8080/"
        },
        "id": "XGqH1LnSVtQ5",
        "outputId": "2f9dfcd8-9062-46eb-c83c-c9758eba6da7"
      },
      "execution_count": null,
      "outputs": [
        {
          "output_type": "execute_result",
          "data": {
            "text/plain": [
              "[{'metric': 'Manhattan', 'n_neighbors': 3},\n",
              " {'metric': 'Manhattan', 'n_neighbors': 5},\n",
              " {'metric': 'Manhattan', 'n_neighbors': 7},\n",
              " {'metric': 'Manhattan', 'n_neighbors': 9},\n",
              " {'metric': 'Euclidean', 'n_neighbors': 3},\n",
              " {'metric': 'Euclidean', 'n_neighbors': 5},\n",
              " {'metric': 'Euclidean', 'n_neighbors': 7},\n",
              " {'metric': 'Euclidean', 'n_neighbors': 9}]"
            ]
          },
          "metadata": {},
          "execution_count": 8
        }
      ]
    },
    {
      "cell_type": "markdown",
      "source": [
        "<br>"
      ],
      "metadata": {
        "id": "a_I3ifyhadSr"
      }
    },
    {
      "cell_type": "markdown",
      "source": [
        "<br>"
      ],
      "metadata": {
        "id": "cueACxUHagYA"
      }
    },
    {
      "cell_type": "markdown",
      "source": [
        "\n",
        "\n",
        "---\n",
        "\n",
        "\n",
        "\n",
        "\n",
        "\n"
      ],
      "metadata": {
        "id": "ir5IxZkgafJr"
      }
    },
    {
      "cell_type": "markdown",
      "source": [
        "지금까지 하이퍼 파라미터 튜닝의 개념과 튜닝 방법 중 하나인 Grid Search에 대해 같이 공부해보았는데요! <br>\n",
        "하이퍼 파라미터를 찾는 과정은 모델의 성능을 올릴 수 있는 중요한 방법이므로 잘 알아두시면 좋을 것 같습니다!🙌\n",
        "\n",
        " <br>\n",
        "\n",
        "다음은 그동안 배운 여러 알고리즘과 개념들을 사용하여 직접 실습해보는 시간으로,\n",
        "\n",
        "데이콘 대회 주제 중 하나인 **펭귄 몸무게 예측** 대회로 직접 데이터 분석을 진행 할 예정입니다!\n",
        "<br> <br>\n",
        "\n",
        "다음 게시글에도 많은 관심과 애정 부탁드려요! 감사합니다💛"
      ],
      "metadata": {
        "id": "cQyEI_RdZ4ZK"
      }
    }
  ]
}