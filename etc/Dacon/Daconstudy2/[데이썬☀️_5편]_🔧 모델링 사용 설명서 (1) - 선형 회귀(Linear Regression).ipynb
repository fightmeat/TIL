{
  "nbformat": 4,
  "nbformat_minor": 0,
  "metadata": {
    "colab": {
      "name": "데이썬_선형회귀.ipynb의 사본",
      "provenance": [],
      "collapsed_sections": []
    },
    "kernelspec": {
      "name": "python3",
      "display_name": "Python 3"
    },
    "language_info": {
      "name": "python"
    }
  },
  "cells": [
    {
      "cell_type": "markdown",
      "source": [
        "# **✍️ 데이썬의 모든 시리즈 바로가기!**"
      ],
      "metadata": {
        "id": "Jm0G2gCyxqId"
      }
    },
    {
      "cell_type": "markdown",
      "source": [
        "\n",
        "\n",
        "[[데이썬☀️_0편] Python으로 시작하는 데이터 분석 사용 설명서](https://dacon.io/codeshare/4743)\n",
        "<br><br>\n",
        "\n",
        "[[데이썬☀️_1편] ✏️ 데이터 분석 사용 설명서](https://dacon.io/codeshare/4856)\n",
        "<br><br>\n",
        "\n",
        "[[데이썬☀️_2편] 📖 기초 라이브러리 사용 설명서 (1) - Numpy](https://dacon.io/codeshare/4860)\n",
        "\n",
        "[[데이썬☀️_2편] 📖 기초 라이브러리 사용 설명서 (2) - Pandas](https://dacon.io/codeshare/4861)\n",
        "\n",
        "[[데이썬☀️_2편] 📖 기초 라이브러리 사용 설명서 (3) - Scikit-learn](https://dacon.io/codeshare/4877)\n",
        "<br><br>\n",
        "\n",
        "[[데이썬☀️_3편] 🔍 EDA (탐색적 데이터 분석) 사용 설명서 (1) - EDA & 통계치 분석](https://dacon.io/codeshare/4899)\n",
        "\n",
        "[[데이썬☀️_3편] 🔍 EDA (탐색적 데이터 분석) 사용 설명서 (2) - Matplotlib](https://dacon.io/codeshare/4906)\n",
        "\n",
        "[[데이썬☀️_3편] 🔍 EDA (탐색적 데이터 분석) 사용 설명서 (3) - Seaborn](https://dacon.io/codeshare/4905)\n",
        "\n",
        "[[데이썬☀️_3편] 🔍 EDA (탐색적 데이터 분석) 사용 설명서 (4) - Plotly](https://dacon.io/codeshare/4942)\n",
        "\n",
        "[[데이썬☀️_3편] 🔍 EDA (탐색적 데이터 분석) 사용 설명서 (5) - Cufflinks](https://dacon.io/codeshare/4945)\n",
        "<br><br>\n",
        "\n",
        "[[데이썬☀️_4편] 🛠 전처리 사용 설명서](https://dacon.io/codeshare/4992) "
      ],
      "metadata": {
        "id": "pp8zgcvwuAlf"
      }
    },
    {
      "cell_type": "markdown",
      "source": [
        "<br><br>"
      ],
      "metadata": {
        "id": "v4d9bQptRPRV"
      }
    },
    {
      "cell_type": "markdown",
      "source": [
        "# **🔧 모델링 사용 설명서 1탄**\n",
        "\n",
        "1. **사이킷런 LinearRegression**\n",
        "\n",
        "  1) LinearRegression 클래스\n",
        "\n",
        "  2) 회귀 평가 지표\n",
        "\n",
        "  3) 펭귄 몸무게 예측 실습\n",
        "\n",
        "<br>\n",
        "\n",
        "2. **규제 선형 모델**\n",
        " \n",
        "  1) 릿지 회귀 (Ridge)\n",
        " \n",
        "  2) 라쏘 회귀 (Lasso)\n",
        "  \n",
        "  3) 엘라스틱넷 회귀 (Elastic Net)"
      ],
      "metadata": {
        "id": "RzQ5oGEQ-s4r"
      }
    },
    {
      "cell_type": "markdown",
      "source": [
        "<br>"
      ],
      "metadata": {
        "id": "EUVX1nQS_xcJ"
      }
    },
    {
      "cell_type": "markdown",
      "source": [
        "---"
      ],
      "metadata": {
        "id": "DK_znwDyPAhw"
      }
    },
    {
      "cell_type": "markdown",
      "source": [
        "<br>"
      ],
      "metadata": {
        "id": "2bh2BiwVPAYX"
      }
    },
    {
      "cell_type": "markdown",
      "source": [
        "## **1. 사이킷런 LinearRegression**"
      ],
      "metadata": {
        "id": "tcEQTzBt_3Kd"
      }
    },
    {
      "cell_type": "markdown",
      "source": [
        "### **1) LinearRegression**"
      ],
      "metadata": {
        "id": "q2uJvwMaAvgc"
      }
    },
    {
      "cell_type": "markdown",
      "source": [
        "**LinearRegression**은 사이킷런의 linear_models 모듈이 제공하는 다양한 종류의 선형 기반 회귀 클래스 중 규제가 적용되지 않은 선형 회귀를 구현한 클래스입니다.\n",
        "\n",
        "예측값과 실제값의 RSS(Residual Sum of Squares)를 최소화하여 OLS(Ordinary Least Squares) 방식으로 추정합니다.\n",
        "<br><br>\n",
        "\n",
        "\n",
        "> **📌 OLS란?**<br> 선형회귀모델의 추정 방법 중 하나로 선형 모델의 파라미터를 추정하는 가장 기초적이면서 평범한(ordinary) 방법이다. 최소제곱법이라고도 한다."
      ],
      "metadata": {
        "id": "t3JsUMrGBCTA"
      }
    },
    {
      "cell_type": "markdown",
      "source": [
        "<br>"
      ],
      "metadata": {
        "id": "M5nQewyxVFH-"
      }
    },
    {
      "cell_type": "markdown",
      "source": [
        "\n",
        "**[ 입력 파라미터 ]**\n",
        "\n",
        "- **fit_intercept**\n",
        "\n",
        "  : intercept(절편) 값을 계산할 것인지 계산하지 않을 것인지를 즉, 상수항이 있는지 없는지를 지정합니다. 디폴트는 True이고, False로 지정할 경우 intercept가 사용되지 않고 0으로 지정됩니다.\n",
        "\n",
        "- **normalize**\n",
        "\n",
        "  : True로 지정하면 회귀를 수행하기 전에 입력 데이터 세트를 정규화합니다. 디폴트는 False이고, fit_intercept가 False인 경우에는 이 파라미터가 무시됩니다. \n",
        "<br>\n",
        "\n",
        ">**📌 정규화란?**<br>서로 다른 피처의 크기를 통일하기 위해 크기를 변화해주는 것으로, 변수를 모두 동일한 크기 단위로 비교하기 위해 값을 모두 최소 0 ~ 최대 1의 값으로 변환합니다. 즉, 개별 데이터의 크기를 모두 똑같은 단위로 변경하는 것입니다.\n",
        "\n",
        "<br><br>\n",
        "**[ 속성 ]**\n",
        "\n",
        "- **coef_(Target 값 개수, 피처 개수)**\n",
        "  \n",
        "  : fit() 메서드를 수행했을 때 회귀 계수가 배열 형태로 저장하는 속성입니다.\n",
        "\n",
        "- **intercept_**\n",
        "\n",
        "  : intercept(절편) 값이 저장되어 있는 속성입니다.\n",
        "<br><br>"
      ],
      "metadata": {
        "id": "_EBFE3BcCB5c"
      }
    },
    {
      "cell_type": "markdown",
      "source": [
        "OLS 기반의 회귀 계수 계산은 입력 피처의 독립성에 많은 영향을 받기 때문에, 피처간의 상관관계가 매우 높은 경우 분산이 매우 커져서 오류에 매우 민감해집니다.\n",
        "\n",
        "이러한 현상을 **다중 공선성(multi-collinearity)** 문제라고 합니다."
      ],
      "metadata": {
        "id": "Xfrk0KvGGNnp"
      }
    },
    {
      "cell_type": "markdown",
      "source": [
        "<br>"
      ],
      "metadata": {
        "id": "dbfcV6t5GwFd"
      }
    },
    {
      "cell_type": "markdown",
      "source": [
        "### **2) 회귀 평가 지표**"
      ],
      "metadata": {
        "id": "CJuzJT_3A3VB"
      }
    },
    {
      "cell_type": "markdown",
      "source": [
        "회귀 평가 지표는 실제값과 회귀 예측값의 차이를 기반으로 하는데, 실제값과 예측값의 차이를 그냥 더하면 +와 -가 섞여 오류가 상쇄됩니다. 즉, 차이의 값이 하나는 -3이고 다른 하나는 +3인 경우 단순히 더하게 되면 오류가 0이 되기 때문에 정확한 지표가 될 수 없습니다. \n",
        "\n",
        "따라서 오류의 **절댓값 평균**이나 **제곱**, 또는 **제곱한 뒤 다시 루트를 씌운 평균값**을 회귀 평가 지표로 사용합니다. <br><br>"
      ],
      "metadata": {
        "id": "rGLBMC1XG4s8"
      }
    },
    {
      "cell_type": "markdown",
      "source": [
        "\n",
        "#### **[ 회귀 평가 ]**\n",
        "<br>\n",
        "\n",
        "![image.png](data:image/png;base64,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)"
      ],
      "metadata": {
        "id": "X7XZwnyCIS_0"
      }
    },
    {
      "cell_type": "markdown",
      "source": [
        "Scoring 함수의 'neg_'라는 접두어는 원래의 평가 지표 값에 -1을 곱해 음수로 만들기 때문에 주의가 필요합니다.\n",
        "\n",
        "사이킷런의 Scoring 함수는 score값이 클수록 좋은 결과로 평가하지만, 실제값과 예측값의 차이를 기반으로 하는 회귀 평가 지표는 값이 작을수록 좋은 모델이므로 -1을 곱한 값을 사용합니다."
      ],
      "metadata": {
        "id": "TmOH-R47L1Y5"
      }
    },
    {
      "cell_type": "markdown",
      "source": [
        "<br>"
      ],
      "metadata": {
        "id": "C3RWTwqHMJQ-"
      }
    },
    {
      "cell_type": "markdown",
      "source": [
        "### **3) 펭귄 몸무게 예측하기 실습**"
      ],
      "metadata": {
        "id": "niCwAe3xA6kF"
      }
    },
    {
      "cell_type": "markdown",
      "source": [
        "'펭귄 몸무게 예측 경진대회'는 주어진 펭귄의 종, 부리 길이, 성별 등의 정보들을 이용해 몸무게를 예측하는 대회입니다. \n",
        "\n",
        "아래 실습에 사용되는 데이터는 '펭귄 몸무게 예측 경진대회'의 데이터를 사용하고 있으며, 데이콘에서 제공한 Baseline을 참고하여 코드를 작성했습니다. \n",
        "\n",
        "<br>\n",
        "\n",
        "🐧 [펭귄 몸무게 예측 경진대회](https://dacon.io/competitions/official/235862/overview/description)"
      ],
      "metadata": {
        "id": "x2HcTS-mTSvk"
      }
    },
    {
      "cell_type": "markdown",
      "source": [
        "<br>"
      ],
      "metadata": {
        "id": "VyjvmTMjVhzK"
      }
    },
    {
      "cell_type": "markdown",
      "source": [
        "#### **[ 데이터 불러오기 ]**"
      ],
      "metadata": {
        "id": "RsEItPGS6MxE"
      }
    },
    {
      "cell_type": "markdown",
      "source": [
        "사용할 라이브러리들을 import하고, 학습시킬 데이터를 불러와서 train 변수에 저장하겠습니다."
      ],
      "metadata": {
        "id": "ykz3VmuiSduE"
      }
    },
    {
      "cell_type": "code",
      "source": [
        "# 코랩 사용시\n",
        "from google.colab import drive  # 구글 드라이브에 파일 생성\n",
        "drive.mount('/content/drive') # 데이터가 저장된 경로를 입력하세요."
      ],
      "metadata": {
        "colab": {
          "base_uri": "https://localhost:8080/"
        },
        "id": "y0lr1oqfJi3E",
        "outputId": "44f81786-b894-4be8-ab87-cee868dd2b27"
      },
      "execution_count": null,
      "outputs": [
        {
          "output_type": "stream",
          "name": "stdout",
          "text": [
            "Drive already mounted at /content/drive; to attempt to forcibly remount, call drive.mount(\"/content/drive\", force_remount=True).\n"
          ]
        }
      ]
    },
    {
      "cell_type": "code",
      "source": [
        "import numpy as np\n",
        "import pandas as pd\n",
        "\n",
        "# 데이터 불러오기\n",
        "train = pd.read_csv('/content/drive/My Drive/Colab Notebooks/데이썬/train.csv')"
      ],
      "metadata": {
        "id": "GqCzFtowB_p7"
      },
      "execution_count": null,
      "outputs": []
    },
    {
      "cell_type": "markdown",
      "source": [
        "<br>"
      ],
      "metadata": {
        "id": "SUBoen9aZn9d"
      }
    },
    {
      "cell_type": "markdown",
      "source": [
        "#### **[ 데이터 살펴보기 ]**"
      ],
      "metadata": {
        "id": "W2U2M9MPVYSE"
      }
    },
    {
      "cell_type": "markdown",
      "source": [
        "head()와 dtypes를 이용해 데이터를 살펴보겠습니다."
      ],
      "metadata": {
        "id": "g9ZimuLwiU0M"
      }
    },
    {
      "cell_type": "code",
      "source": [
        "train.head()"
      ],
      "metadata": {
        "colab": {
          "base_uri": "https://localhost:8080/",
          "height": 206
        },
        "id": "c0LCFZYYafSs",
        "outputId": "6edd6065-2a2d-4383-d6ea-8fc1cff067bc"
      },
      "execution_count": null,
      "outputs": [
        {
          "output_type": "execute_result",
          "data": {
            "text/plain": [
              "   id                                    Species  Island Clutch Completion  \\\n",
              "0   0          Gentoo penguin (Pygoscelis papua)  Biscoe               Yes   \n",
              "1   1  Chinstrap penguin (Pygoscelis antarctica)   Dream                No   \n",
              "2   2          Gentoo penguin (Pygoscelis papua)  Biscoe               Yes   \n",
              "3   3          Gentoo penguin (Pygoscelis papua)  Biscoe               Yes   \n",
              "4   4          Gentoo penguin (Pygoscelis papua)  Biscoe                No   \n",
              "\n",
              "   Culmen Length (mm)  Culmen Depth (mm)  Flipper Length (mm)     Sex  \\\n",
              "0                50.0               15.3                  220    MALE   \n",
              "1                49.5               19.0                  200    MALE   \n",
              "2                45.1               14.4                  210  FEMALE   \n",
              "3                44.5               14.7                  214  FEMALE   \n",
              "4                49.6               16.0                  225    MALE   \n",
              "\n",
              "   Delta 15 N (o/oo)  Delta 13 C (o/oo)  Body Mass (g)  \n",
              "0            8.30515          -25.19017           5550  \n",
              "1            9.63074          -24.34684           3800  \n",
              "2            8.51951          -27.01854           4400  \n",
              "3            8.20106          -26.16524           4850  \n",
              "4            8.38324          -26.84272           5700  "
            ],
            "text/html": [
              "\n",
              "  <div id=\"df-bda10696-821b-4427-815e-26f5a5c13794\">\n",
              "    <div class=\"colab-df-container\">\n",
              "      <div>\n",
              "<style scoped>\n",
              "    .dataframe tbody tr th:only-of-type {\n",
              "        vertical-align: middle;\n",
              "    }\n",
              "\n",
              "    .dataframe tbody tr th {\n",
              "        vertical-align: top;\n",
              "    }\n",
              "\n",
              "    .dataframe thead th {\n",
              "        text-align: right;\n",
              "    }\n",
              "</style>\n",
              "<table border=\"1\" class=\"dataframe\">\n",
              "  <thead>\n",
              "    <tr style=\"text-align: right;\">\n",
              "      <th></th>\n",
              "      <th>id</th>\n",
              "      <th>Species</th>\n",
              "      <th>Island</th>\n",
              "      <th>Clutch Completion</th>\n",
              "      <th>Culmen Length (mm)</th>\n",
              "      <th>Culmen Depth (mm)</th>\n",
              "      <th>Flipper Length (mm)</th>\n",
              "      <th>Sex</th>\n",
              "      <th>Delta 15 N (o/oo)</th>\n",
              "      <th>Delta 13 C (o/oo)</th>\n",
              "      <th>Body Mass (g)</th>\n",
              "    </tr>\n",
              "  </thead>\n",
              "  <tbody>\n",
              "    <tr>\n",
              "      <th>0</th>\n",
              "      <td>0</td>\n",
              "      <td>Gentoo penguin (Pygoscelis papua)</td>\n",
              "      <td>Biscoe</td>\n",
              "      <td>Yes</td>\n",
              "      <td>50.0</td>\n",
              "      <td>15.3</td>\n",
              "      <td>220</td>\n",
              "      <td>MALE</td>\n",
              "      <td>8.30515</td>\n",
              "      <td>-25.19017</td>\n",
              "      <td>5550</td>\n",
              "    </tr>\n",
              "    <tr>\n",
              "      <th>1</th>\n",
              "      <td>1</td>\n",
              "      <td>Chinstrap penguin (Pygoscelis antarctica)</td>\n",
              "      <td>Dream</td>\n",
              "      <td>No</td>\n",
              "      <td>49.5</td>\n",
              "      <td>19.0</td>\n",
              "      <td>200</td>\n",
              "      <td>MALE</td>\n",
              "      <td>9.63074</td>\n",
              "      <td>-24.34684</td>\n",
              "      <td>3800</td>\n",
              "    </tr>\n",
              "    <tr>\n",
              "      <th>2</th>\n",
              "      <td>2</td>\n",
              "      <td>Gentoo penguin (Pygoscelis papua)</td>\n",
              "      <td>Biscoe</td>\n",
              "      <td>Yes</td>\n",
              "      <td>45.1</td>\n",
              "      <td>14.4</td>\n",
              "      <td>210</td>\n",
              "      <td>FEMALE</td>\n",
              "      <td>8.51951</td>\n",
              "      <td>-27.01854</td>\n",
              "      <td>4400</td>\n",
              "    </tr>\n",
              "    <tr>\n",
              "      <th>3</th>\n",
              "      <td>3</td>\n",
              "      <td>Gentoo penguin (Pygoscelis papua)</td>\n",
              "      <td>Biscoe</td>\n",
              "      <td>Yes</td>\n",
              "      <td>44.5</td>\n",
              "      <td>14.7</td>\n",
              "      <td>214</td>\n",
              "      <td>FEMALE</td>\n",
              "      <td>8.20106</td>\n",
              "      <td>-26.16524</td>\n",
              "      <td>4850</td>\n",
              "    </tr>\n",
              "    <tr>\n",
              "      <th>4</th>\n",
              "      <td>4</td>\n",
              "      <td>Gentoo penguin (Pygoscelis papua)</td>\n",
              "      <td>Biscoe</td>\n",
              "      <td>No</td>\n",
              "      <td>49.6</td>\n",
              "      <td>16.0</td>\n",
              "      <td>225</td>\n",
              "      <td>MALE</td>\n",
              "      <td>8.38324</td>\n",
              "      <td>-26.84272</td>\n",
              "      <td>5700</td>\n",
              "    </tr>\n",
              "  </tbody>\n",
              "</table>\n",
              "</div>\n",
              "      <button class=\"colab-df-convert\" onclick=\"convertToInteractive('df-bda10696-821b-4427-815e-26f5a5c13794')\"\n",
              "              title=\"Convert this dataframe to an interactive table.\"\n",
              "              style=\"display:none;\">\n",
              "        \n",
              "  <svg xmlns=\"http://www.w3.org/2000/svg\" height=\"24px\"viewBox=\"0 0 24 24\"\n",
              "       width=\"24px\">\n",
              "    <path d=\"M0 0h24v24H0V0z\" fill=\"none\"/>\n",
              "    <path d=\"M18.56 5.44l.94 2.06.94-2.06 2.06-.94-2.06-.94-.94-2.06-.94 2.06-2.06.94zm-11 1L8.5 8.5l.94-2.06 2.06-.94-2.06-.94L8.5 2.5l-.94 2.06-2.06.94zm10 10l.94 2.06.94-2.06 2.06-.94-2.06-.94-.94-2.06-.94 2.06-2.06.94z\"/><path d=\"M17.41 7.96l-1.37-1.37c-.4-.4-.92-.59-1.43-.59-.52 0-1.04.2-1.43.59L10.3 9.45l-7.72 7.72c-.78.78-.78 2.05 0 2.83L4 21.41c.39.39.9.59 1.41.59.51 0 1.02-.2 1.41-.59l7.78-7.78 2.81-2.81c.8-.78.8-2.07 0-2.86zM5.41 20L4 18.59l7.72-7.72 1.47 1.35L5.41 20z\"/>\n",
              "  </svg>\n",
              "      </button>\n",
              "      \n",
              "  <style>\n",
              "    .colab-df-container {\n",
              "      display:flex;\n",
              "      flex-wrap:wrap;\n",
              "      gap: 12px;\n",
              "    }\n",
              "\n",
              "    .colab-df-convert {\n",
              "      background-color: #E8F0FE;\n",
              "      border: none;\n",
              "      border-radius: 50%;\n",
              "      cursor: pointer;\n",
              "      display: none;\n",
              "      fill: #1967D2;\n",
              "      height: 32px;\n",
              "      padding: 0 0 0 0;\n",
              "      width: 32px;\n",
              "    }\n",
              "\n",
              "    .colab-df-convert:hover {\n",
              "      background-color: #E2EBFA;\n",
              "      box-shadow: 0px 1px 2px rgba(60, 64, 67, 0.3), 0px 1px 3px 1px rgba(60, 64, 67, 0.15);\n",
              "      fill: #174EA6;\n",
              "    }\n",
              "\n",
              "    [theme=dark] .colab-df-convert {\n",
              "      background-color: #3B4455;\n",
              "      fill: #D2E3FC;\n",
              "    }\n",
              "\n",
              "    [theme=dark] .colab-df-convert:hover {\n",
              "      background-color: #434B5C;\n",
              "      box-shadow: 0px 1px 3px 1px rgba(0, 0, 0, 0.15);\n",
              "      filter: drop-shadow(0px 1px 2px rgba(0, 0, 0, 0.3));\n",
              "      fill: #FFFFFF;\n",
              "    }\n",
              "  </style>\n",
              "\n",
              "      <script>\n",
              "        const buttonEl =\n",
              "          document.querySelector('#df-bda10696-821b-4427-815e-26f5a5c13794 button.colab-df-convert');\n",
              "        buttonEl.style.display =\n",
              "          google.colab.kernel.accessAllowed ? 'block' : 'none';\n",
              "\n",
              "        async function convertToInteractive(key) {\n",
              "          const element = document.querySelector('#df-bda10696-821b-4427-815e-26f5a5c13794');\n",
              "          const dataTable =\n",
              "            await google.colab.kernel.invokeFunction('convertToInteractive',\n",
              "                                                     [key], {});\n",
              "          if (!dataTable) return;\n",
              "\n",
              "          const docLinkHtml = 'Like what you see? Visit the ' +\n",
              "            '<a target=\"_blank\" href=https://colab.research.google.com/notebooks/data_table.ipynb>data table notebook</a>'\n",
              "            + ' to learn more about interactive tables.';\n",
              "          element.innerHTML = '';\n",
              "          dataTable['output_type'] = 'display_data';\n",
              "          await google.colab.output.renderOutput(dataTable, element);\n",
              "          const docLink = document.createElement('div');\n",
              "          docLink.innerHTML = docLinkHtml;\n",
              "          element.appendChild(docLink);\n",
              "        }\n",
              "      </script>\n",
              "    </div>\n",
              "  </div>\n",
              "  "
            ]
          },
          "metadata": {},
          "execution_count": 12
        }
      ]
    },
    {
      "cell_type": "code",
      "source": [
        "train.dtypes"
      ],
      "metadata": {
        "colab": {
          "base_uri": "https://localhost:8080/"
        },
        "id": "kkgtbEGLaSWv",
        "outputId": "2f4cedc0-83d2-4ce0-b5cb-8db2525f6ff0"
      },
      "execution_count": null,
      "outputs": [
        {
          "output_type": "execute_result",
          "data": {
            "text/plain": [
              "id                       int64\n",
              "Species                 object\n",
              "Island                  object\n",
              "Clutch Completion       object\n",
              "Culmen Length (mm)     float64\n",
              "Culmen Depth (mm)      float64\n",
              "Flipper Length (mm)      int64\n",
              "Sex                     object\n",
              "Delta 15 N (o/oo)      float64\n",
              "Delta 13 C (o/oo)      float64\n",
              "Body Mass (g)            int64\n",
              "dtype: object"
            ]
          },
          "metadata": {},
          "execution_count": 13
        }
      ]
    },
    {
      "cell_type": "markdown",
      "source": [
        " <br><br>\n",
        " **📁 펭귄 데이터의 컬럼 정보**\n",
        "\n",
        "<br>\n",
        "\n",
        "- **id** : 일련번호 / 수치형 데이터\n",
        "\n",
        "- **Species** : 펭귄의 종 / 카테고리형 데이터 \n",
        "\n",
        "- **Island** : 시료를 채취한 섬 / 카테고리형 데이터\n",
        "\n",
        "- **Clutch Completion** : 연구 둥지가 <u>완전한 클러치(2개의 알)</u>로 관찰되었는지 여부 / 카테고리형 데이터\n",
        "\n",
        "- **Culmen Length (mm)** : 부리의 등쪽 능선의 길이 (mm) / 수치형 데이터\n",
        "\n",
        "- **Culmen Depth (mm)** : 부리의 등쪽 능선의 깊이 (mm) / 수치형 데이터\n",
        "\n",
        "- **Flipper Length (mm)** : 펭귄 지느러미의 길이 (mm) / 수치형 데이터\n",
        "\n",
        "- **Sex** : 펭귄의 성별 / 카테고리형 데이터\n",
        "\n",
        "- **Delta 15 N (o/oo)** : 안정 동위원소 15N:14N의 비율 / 수치형 데이터\n",
        "\n",
        "- **Delta 13 C (o/oo)** : 안정 동위원소 13C:12C의 비율 / 수치형 데이터\n",
        "\n",
        "- **Body Mass (g)** : 펭귄의 체질량 (g) / 수치형 데이터\n",
        "\n",
        "<br><br>\n",
        " 출처) https://allisonhorst.github.io/palmerpenguins/reference/penguins_raw.html"
      ],
      "metadata": {
        "id": "YlmTmd4vVeEd"
      }
    },
    {
      "cell_type": "markdown",
      "source": [
        "<br>"
      ],
      "metadata": {
        "id": "YKXqsrZQTJ2Z"
      }
    },
    {
      "cell_type": "markdown",
      "source": [
        "#### **[ 결측치 확인 ]**"
      ],
      "metadata": {
        "id": "APVNEBUo758A"
      }
    },
    {
      "cell_type": "markdown",
      "source": [
        "info()를 이용해 결측치가 존재하는지 확인해보겠습니다."
      ],
      "metadata": {
        "id": "ii-vYl6ijPIo"
      }
    },
    {
      "cell_type": "code",
      "source": [
        "train.info()"
      ],
      "metadata": {
        "colab": {
          "base_uri": "https://localhost:8080/"
        },
        "id": "twmFCzG_QM2Q",
        "outputId": "f937bc7b-9dbc-407f-f5ad-211a424d2dca"
      },
      "execution_count": null,
      "outputs": [
        {
          "output_type": "stream",
          "name": "stdout",
          "text": [
            "<class 'pandas.core.frame.DataFrame'>\n",
            "RangeIndex: 114 entries, 0 to 113\n",
            "Data columns (total 11 columns):\n",
            " #   Column               Non-Null Count  Dtype  \n",
            "---  ------               --------------  -----  \n",
            " 0   id                   114 non-null    int64  \n",
            " 1   Species              114 non-null    object \n",
            " 2   Island               114 non-null    object \n",
            " 3   Clutch Completion    114 non-null    object \n",
            " 4   Culmen Length (mm)   114 non-null    float64\n",
            " 5   Culmen Depth (mm)    114 non-null    float64\n",
            " 6   Flipper Length (mm)  114 non-null    int64  \n",
            " 7   Sex                  111 non-null    object \n",
            " 8   Delta 15 N (o/oo)    111 non-null    float64\n",
            " 9   Delta 13 C (o/oo)    111 non-null    float64\n",
            " 10  Body Mass (g)        114 non-null    int64  \n",
            "dtypes: float64(4), int64(3), object(4)\n",
            "memory usage: 9.9+ KB\n"
          ]
        }
      ]
    },
    {
      "cell_type": "markdown",
      "source": [
        "Sex, Delta 15 N (o/oo), Delta 13 C (o/oo) 컬럼에 결측치가 존재합니다."
      ],
      "metadata": {
        "id": "YSXu-LLQ84DP"
      }
    },
    {
      "cell_type": "markdown",
      "source": [
        "<br>"
      ],
      "metadata": {
        "id": "ue2Ud0gVTSeH"
      }
    },
    {
      "cell_type": "markdown",
      "source": [
        "#### **[ 결측치 처리 ]**"
      ],
      "metadata": {
        "id": "7hjOdp869oEw"
      }
    },
    {
      "cell_type": "code",
      "source": [
        "train[train.isna().sum(axis=1) > 0]"
      ],
      "metadata": {
        "colab": {
          "base_uri": "https://localhost:8080/",
          "height": 206
        },
        "id": "wlHSNcRW9gFb",
        "outputId": "bb692ee5-4033-4797-c835-ad385eb1ac15"
      },
      "execution_count": null,
      "outputs": [
        {
          "output_type": "execute_result",
          "data": {
            "text/plain": [
              "      id                              Species     Island Clutch Completion  \\\n",
              "6      6  Adelie Penguin (Pygoscelis adeliae)  Torgersen               Yes   \n",
              "8      8  Adelie Penguin (Pygoscelis adeliae)  Torgersen               Yes   \n",
              "18    18  Adelie Penguin (Pygoscelis adeliae)      Dream                No   \n",
              "70    70    Gentoo penguin (Pygoscelis papua)     Biscoe               Yes   \n",
              "109  109  Adelie Penguin (Pygoscelis adeliae)  Torgersen               Yes   \n",
              "\n",
              "     Culmen Length (mm)  Culmen Depth (mm)  Flipper Length (mm)     Sex  \\\n",
              "6                  42.0               20.2                  190     NaN   \n",
              "8                  34.1               18.1                  193     NaN   \n",
              "18                 39.8               19.1                  184    MALE   \n",
              "70                 46.2               14.4                  214     NaN   \n",
              "109                36.6               17.8                  185  FEMALE   \n",
              "\n",
              "     Delta 15 N (o/oo)  Delta 13 C (o/oo)  Body Mass (g)  \n",
              "6              9.13362          -25.09368           4250  \n",
              "8                  NaN                NaN           3475  \n",
              "18                 NaN                NaN           4650  \n",
              "70             8.24253          -26.81540           4650  \n",
              "109                NaN                NaN           3700  "
            ],
            "text/html": [
              "\n",
              "  <div id=\"df-56a2aada-a801-4662-a6dd-58c2402bf2bc\">\n",
              "    <div class=\"colab-df-container\">\n",
              "      <div>\n",
              "<style scoped>\n",
              "    .dataframe tbody tr th:only-of-type {\n",
              "        vertical-align: middle;\n",
              "    }\n",
              "\n",
              "    .dataframe tbody tr th {\n",
              "        vertical-align: top;\n",
              "    }\n",
              "\n",
              "    .dataframe thead th {\n",
              "        text-align: right;\n",
              "    }\n",
              "</style>\n",
              "<table border=\"1\" class=\"dataframe\">\n",
              "  <thead>\n",
              "    <tr style=\"text-align: right;\">\n",
              "      <th></th>\n",
              "      <th>id</th>\n",
              "      <th>Species</th>\n",
              "      <th>Island</th>\n",
              "      <th>Clutch Completion</th>\n",
              "      <th>Culmen Length (mm)</th>\n",
              "      <th>Culmen Depth (mm)</th>\n",
              "      <th>Flipper Length (mm)</th>\n",
              "      <th>Sex</th>\n",
              "      <th>Delta 15 N (o/oo)</th>\n",
              "      <th>Delta 13 C (o/oo)</th>\n",
              "      <th>Body Mass (g)</th>\n",
              "    </tr>\n",
              "  </thead>\n",
              "  <tbody>\n",
              "    <tr>\n",
              "      <th>6</th>\n",
              "      <td>6</td>\n",
              "      <td>Adelie Penguin (Pygoscelis adeliae)</td>\n",
              "      <td>Torgersen</td>\n",
              "      <td>Yes</td>\n",
              "      <td>42.0</td>\n",
              "      <td>20.2</td>\n",
              "      <td>190</td>\n",
              "      <td>NaN</td>\n",
              "      <td>9.13362</td>\n",
              "      <td>-25.09368</td>\n",
              "      <td>4250</td>\n",
              "    </tr>\n",
              "    <tr>\n",
              "      <th>8</th>\n",
              "      <td>8</td>\n",
              "      <td>Adelie Penguin (Pygoscelis adeliae)</td>\n",
              "      <td>Torgersen</td>\n",
              "      <td>Yes</td>\n",
              "      <td>34.1</td>\n",
              "      <td>18.1</td>\n",
              "      <td>193</td>\n",
              "      <td>NaN</td>\n",
              "      <td>NaN</td>\n",
              "      <td>NaN</td>\n",
              "      <td>3475</td>\n",
              "    </tr>\n",
              "    <tr>\n",
              "      <th>18</th>\n",
              "      <td>18</td>\n",
              "      <td>Adelie Penguin (Pygoscelis adeliae)</td>\n",
              "      <td>Dream</td>\n",
              "      <td>No</td>\n",
              "      <td>39.8</td>\n",
              "      <td>19.1</td>\n",
              "      <td>184</td>\n",
              "      <td>MALE</td>\n",
              "      <td>NaN</td>\n",
              "      <td>NaN</td>\n",
              "      <td>4650</td>\n",
              "    </tr>\n",
              "    <tr>\n",
              "      <th>70</th>\n",
              "      <td>70</td>\n",
              "      <td>Gentoo penguin (Pygoscelis papua)</td>\n",
              "      <td>Biscoe</td>\n",
              "      <td>Yes</td>\n",
              "      <td>46.2</td>\n",
              "      <td>14.4</td>\n",
              "      <td>214</td>\n",
              "      <td>NaN</td>\n",
              "      <td>8.24253</td>\n",
              "      <td>-26.81540</td>\n",
              "      <td>4650</td>\n",
              "    </tr>\n",
              "    <tr>\n",
              "      <th>109</th>\n",
              "      <td>109</td>\n",
              "      <td>Adelie Penguin (Pygoscelis adeliae)</td>\n",
              "      <td>Torgersen</td>\n",
              "      <td>Yes</td>\n",
              "      <td>36.6</td>\n",
              "      <td>17.8</td>\n",
              "      <td>185</td>\n",
              "      <td>FEMALE</td>\n",
              "      <td>NaN</td>\n",
              "      <td>NaN</td>\n",
              "      <td>3700</td>\n",
              "    </tr>\n",
              "  </tbody>\n",
              "</table>\n",
              "</div>\n",
              "      <button class=\"colab-df-convert\" onclick=\"convertToInteractive('df-56a2aada-a801-4662-a6dd-58c2402bf2bc')\"\n",
              "              title=\"Convert this dataframe to an interactive table.\"\n",
              "              style=\"display:none;\">\n",
              "        \n",
              "  <svg xmlns=\"http://www.w3.org/2000/svg\" height=\"24px\"viewBox=\"0 0 24 24\"\n",
              "       width=\"24px\">\n",
              "    <path d=\"M0 0h24v24H0V0z\" fill=\"none\"/>\n",
              "    <path d=\"M18.56 5.44l.94 2.06.94-2.06 2.06-.94-2.06-.94-.94-2.06-.94 2.06-2.06.94zm-11 1L8.5 8.5l.94-2.06 2.06-.94-2.06-.94L8.5 2.5l-.94 2.06-2.06.94zm10 10l.94 2.06.94-2.06 2.06-.94-2.06-.94-.94-2.06-.94 2.06-2.06.94z\"/><path d=\"M17.41 7.96l-1.37-1.37c-.4-.4-.92-.59-1.43-.59-.52 0-1.04.2-1.43.59L10.3 9.45l-7.72 7.72c-.78.78-.78 2.05 0 2.83L4 21.41c.39.39.9.59 1.41.59.51 0 1.02-.2 1.41-.59l7.78-7.78 2.81-2.81c.8-.78.8-2.07 0-2.86zM5.41 20L4 18.59l7.72-7.72 1.47 1.35L5.41 20z\"/>\n",
              "  </svg>\n",
              "      </button>\n",
              "      \n",
              "  <style>\n",
              "    .colab-df-container {\n",
              "      display:flex;\n",
              "      flex-wrap:wrap;\n",
              "      gap: 12px;\n",
              "    }\n",
              "\n",
              "    .colab-df-convert {\n",
              "      background-color: #E8F0FE;\n",
              "      border: none;\n",
              "      border-radius: 50%;\n",
              "      cursor: pointer;\n",
              "      display: none;\n",
              "      fill: #1967D2;\n",
              "      height: 32px;\n",
              "      padding: 0 0 0 0;\n",
              "      width: 32px;\n",
              "    }\n",
              "\n",
              "    .colab-df-convert:hover {\n",
              "      background-color: #E2EBFA;\n",
              "      box-shadow: 0px 1px 2px rgba(60, 64, 67, 0.3), 0px 1px 3px 1px rgba(60, 64, 67, 0.15);\n",
              "      fill: #174EA6;\n",
              "    }\n",
              "\n",
              "    [theme=dark] .colab-df-convert {\n",
              "      background-color: #3B4455;\n",
              "      fill: #D2E3FC;\n",
              "    }\n",
              "\n",
              "    [theme=dark] .colab-df-convert:hover {\n",
              "      background-color: #434B5C;\n",
              "      box-shadow: 0px 1px 3px 1px rgba(0, 0, 0, 0.15);\n",
              "      filter: drop-shadow(0px 1px 2px rgba(0, 0, 0, 0.3));\n",
              "      fill: #FFFFFF;\n",
              "    }\n",
              "  </style>\n",
              "\n",
              "      <script>\n",
              "        const buttonEl =\n",
              "          document.querySelector('#df-56a2aada-a801-4662-a6dd-58c2402bf2bc button.colab-df-convert');\n",
              "        buttonEl.style.display =\n",
              "          google.colab.kernel.accessAllowed ? 'block' : 'none';\n",
              "\n",
              "        async function convertToInteractive(key) {\n",
              "          const element = document.querySelector('#df-56a2aada-a801-4662-a6dd-58c2402bf2bc');\n",
              "          const dataTable =\n",
              "            await google.colab.kernel.invokeFunction('convertToInteractive',\n",
              "                                                     [key], {});\n",
              "          if (!dataTable) return;\n",
              "\n",
              "          const docLinkHtml = 'Like what you see? Visit the ' +\n",
              "            '<a target=\"_blank\" href=https://colab.research.google.com/notebooks/data_table.ipynb>data table notebook</a>'\n",
              "            + ' to learn more about interactive tables.';\n",
              "          element.innerHTML = '';\n",
              "          dataTable['output_type'] = 'display_data';\n",
              "          await google.colab.output.renderOutput(dataTable, element);\n",
              "          const docLink = document.createElement('div');\n",
              "          docLink.innerHTML = docLinkHtml;\n",
              "          element.appendChild(docLink);\n",
              "        }\n",
              "      </script>\n",
              "    </div>\n",
              "  </div>\n",
              "  "
            ]
          },
          "metadata": {},
          "execution_count": 15
        }
      ]
    },
    {
      "cell_type": "markdown",
      "source": [
        "결측치가 존재하는 행을 출력했을 때, Sex, Delta 15 N (o/oo), Delta 13 C (o/oo)\t컬럼에서 NaN 값을 확인할 수 있습니다."
      ],
      "metadata": {
        "id": "BEm-jzZ3T2o6"
      }
    },
    {
      "cell_type": "markdown",
      "source": [
        "<br>"
      ],
      "metadata": {
        "id": "tADAgqilUR5Q"
      }
    },
    {
      "cell_type": "markdown",
      "source": [
        "카테고리형 데이터에 결측치가 존재하는 경우는 행을 삭제하고, \n",
        "\n",
        "수치형 데이터에 결측치가 존재하는 경우는 0값을 채워주겠습니다."
      ],
      "metadata": {
        "id": "8E5U-xch9uKi"
      }
    },
    {
      "cell_type": "code",
      "source": [
        "# 카테고리형 데이터에서 결측치에 해당하는 행 삭제\n",
        "train_preprocessed = train.dropna(subset=['Sex'])"
      ],
      "metadata": {
        "id": "t_OekIYH9-iX"
      },
      "execution_count": null,
      "outputs": []
    },
    {
      "cell_type": "code",
      "source": [
        "# 수치형 데이터에서 결측치에 0값 넣기\n",
        "train_preprocessed = train_preprocessed.fillna(0)"
      ],
      "metadata": {
        "id": "2txWHhR2-cJl"
      },
      "execution_count": null,
      "outputs": []
    },
    {
      "cell_type": "code",
      "source": [
        "# 확인\n",
        "train_preprocessed.info()"
      ],
      "metadata": {
        "colab": {
          "base_uri": "https://localhost:8080/"
        },
        "id": "SxgeWj7t--b1",
        "outputId": "bee4692f-b9f6-46bf-f428-ee91a52ed122"
      },
      "execution_count": null,
      "outputs": [
        {
          "output_type": "stream",
          "name": "stdout",
          "text": [
            "<class 'pandas.core.frame.DataFrame'>\n",
            "Int64Index: 111 entries, 0 to 113\n",
            "Data columns (total 11 columns):\n",
            " #   Column               Non-Null Count  Dtype  \n",
            "---  ------               --------------  -----  \n",
            " 0   id                   111 non-null    int64  \n",
            " 1   Species              111 non-null    object \n",
            " 2   Island               111 non-null    object \n",
            " 3   Clutch Completion    111 non-null    object \n",
            " 4   Culmen Length (mm)   111 non-null    float64\n",
            " 5   Culmen Depth (mm)    111 non-null    float64\n",
            " 6   Flipper Length (mm)  111 non-null    int64  \n",
            " 7   Sex                  111 non-null    object \n",
            " 8   Delta 15 N (o/oo)    111 non-null    float64\n",
            " 9   Delta 13 C (o/oo)    111 non-null    float64\n",
            " 10  Body Mass (g)        111 non-null    int64  \n",
            "dtypes: float64(4), int64(3), object(4)\n",
            "memory usage: 10.4+ KB\n"
          ]
        }
      ]
    },
    {
      "cell_type": "markdown",
      "source": [
        "결측치가 존재하지 않습니다."
      ],
      "metadata": {
        "id": "O6A9MnA0_EZm"
      }
    },
    {
      "cell_type": "markdown",
      "source": [
        "<br>"
      ],
      "metadata": {
        "id": "tx9f71DGUc04"
      }
    },
    {
      "cell_type": "markdown",
      "source": [
        "#### **[ 레이블 인코딩 ]**"
      ],
      "metadata": {
        "id": "jnynoChb_xL2"
      }
    },
    {
      "cell_type": "markdown",
      "source": [
        "아직 범주형 변수들이 문자열의 형태로 존재하고 있기 때문에 모델 학습이 가능하도록 문자열 형태의 범주형 변수들을 숫자 형태로 인코딩해주어야 합니다."
      ],
      "metadata": {
        "id": "pbvi-Cna_3hL"
      }
    },
    {
      "cell_type": "code",
      "source": [
        "# 레이블 인코딩을 하기 위한 dictionary map 생성 함수\n",
        "def make_label_map(dataframe):\n",
        "    label_maps = {}\n",
        "    for col in dataframe.columns:\n",
        "        if dataframe[col].dtype=='object': \n",
        "            label_map = {'unknown':0} \n",
        "            for i, key in enumerate(train[col].unique()):\n",
        "                label_map[key] = i+1\n",
        "            label_maps[col] = label_map\n",
        "    return label_maps\n",
        "\n",
        "# 각 범주형 변수에 인코딩 값을 부여하는 함수\n",
        "def label_encoder(dataframe, label_map):\n",
        "    for col in dataframe.columns:\n",
        "        if dataframe[col].dtype=='object':\n",
        "            dataframe[col] = dataframe[col].map(label_map[col])\n",
        "            dataframe[col] = dataframe[col].fillna(label_map[col]['unknown']) #혹시 모를 결측값은 unknown의 값으로 채워줍니다.\n",
        "    return dataframe\n",
        "\n",
        "# 전처리 완료한 train 데이터 : train_preprocessed\n",
        "label_map = make_label_map(train_preprocessed) # train_preprocessed 사용해 label map 생성\n",
        "labeled_train = label_encoder(train_preprocessed, label_map) # train_preprocessed 라벨 인코딩"
      ],
      "metadata": {
        "id": "doKNOD1SOueV"
      },
      "execution_count": null,
      "outputs": []
    },
    {
      "cell_type": "markdown",
      "source": [
        "- **enumerate(train[col].unique())**\n",
        "\n",
        "  enumerate()는 인덱스와 원소로 이루어진 튜플을 생성하는 함수입니다. <br>unique는 고유값을 찾아주는 함수입니다.\n",
        "\n",
        "- **dataframe[col].map(label_map[col])**\n",
        "\n",
        "  map 메서드를 이용하면 기존값(key)을 대체값(value)으로 변경할 수 있습니다."
      ],
      "metadata": {
        "id": "o7eEef9dWae9"
      }
    },
    {
      "cell_type": "markdown",
      "source": [
        "<br>"
      ],
      "metadata": {
        "id": "W6xU0YiwVn7R"
      }
    },
    {
      "cell_type": "markdown",
      "source": [
        "#### **[ 모델링 ]**"
      ],
      "metadata": {
        "id": "1ee6HZgsgt63"
      }
    },
    {
      "cell_type": "markdown",
      "source": [
        "모델링을 하기에 앞서, 회귀 평가 지표로 사용할 RMSE를 출력해주는 함수로 만들어주겠습니다.\n",
        "\n",
        "사이킷런은 RMSE를 제공하지 않기 때문에 RMSE를 구하기 위해서는 MSE에 제곱근을 씌워서 계산하는 함수를 직접 만들어야 합니다."
      ],
      "metadata": {
        "id": "QjTSZIothDkw"
      }
    },
    {
      "cell_type": "code",
      "source": [
        "import numpy as np\n",
        "\n",
        "def RMSE(true, pred):\n",
        "    score = np.sqrt(np.mean(np.square(true-pred)))\n",
        "    return score"
      ],
      "metadata": {
        "id": "kRV5NaWohbv1"
      },
      "execution_count": null,
      "outputs": []
    },
    {
      "cell_type": "markdown",
      "source": [
        "<br>"
      ],
      "metadata": {
        "id": "l-6u5lHdaSUj"
      }
    },
    {
      "cell_type": "markdown",
      "source": [
        "K-Fold 교차검증 방식으로 모델링을 해보도록 하겠습니다.\n",
        "\n",
        "K-Fold 교차검증은 교차 검증 방법 중 가장 일반적으로 사용되는 방법으로 회귀 모델에 많이 사용됩니다.\n",
        "<br><br>\n",
        "**❗ K-Fold Cross Validation ❗**\n",
        "<br><br>\n",
        "\n",
        "ㅤ① 전체 데이터셋을 Trining Set과 Test Set으로 나눈다.\n",
        "\n",
        "ㅤ② Training Set를 k개의 폴드로 나눈다.\n",
        "\n",
        "ㅤ③ 첫 번째 폴드를 Validation Set으로 사용하고, 나머지 폴드들은 Training Set으로 사용한다.\n",
        "\n",
        "ㅤ④ 모델을 Training한 뒤, 첫 번째 Validation Set으로 평가한다.\n",
        "\n",
        "ㅤ⑤ 차례대로 다음 폴드를 Validation Set으로 사용하며 k번 반복한다.\n",
        "\n",
        "<br><br>\n",
        "K-Fold 교차검증의 자세한 설명은 📖 기초 라이브러리 사용 설명서 (3) - Scikit-learn 편을 참고해주세요 !\n",
        "\n",
        "[[데이썬☀️_2편] 📖 기초 라이브러리 사용 설명서 (3) - Scikit-learn](https://dacon.io/codeshare/4877?page=1&dtype=recent)\n"
      ],
      "metadata": {
        "id": "nvRlce8Ch5aE"
      }
    },
    {
      "cell_type": "markdown",
      "source": [
        "<br>"
      ],
      "metadata": {
        "id": "unyXrte-bHRB"
      }
    },
    {
      "cell_type": "markdown",
      "source": [
        "target 변수에 종속변수인 'Body Mass (g)'를 저장하고,\n",
        "\n",
        "feature 변수에 불필요한 변수 'id'와 종속변수 'Body Mass (g)'를 제거한 데이터를 저장해줍니다."
      ],
      "metadata": {
        "id": "Ogdw7PyEbkpx"
      }
    },
    {
      "cell_type": "code",
      "source": [
        "from sklearn.linear_model import LinearRegression\n",
        "from sklearn.model_selection import KFold\n",
        "\n",
        "target = labeled_train['Body Mass (g)']\n",
        "print(target.shape)\n",
        "\n",
        "# 학습에 불필요한 변수 제거\n",
        "feature = labeled_train.drop(['id', 'Body Mass (g)'], axis=1)\n",
        "print(feature.shape)"
      ],
      "metadata": {
        "colab": {
          "base_uri": "https://localhost:8080/"
        },
        "id": "TEaY2VxVlKrE",
        "outputId": "1b5cf178-eb32-4125-f5df-646d6be43ea9"
      },
      "execution_count": null,
      "outputs": [
        {
          "output_type": "stream",
          "name": "stdout",
          "text": [
            "(111,)\n",
            "(111, 9)\n"
          ]
        }
      ]
    },
    {
      "cell_type": "markdown",
      "source": [
        "<br>"
      ],
      "metadata": {
        "id": "YBujc42zcA-Z"
      }
    },
    {
      "cell_type": "markdown",
      "source": [
        "LinearRegression와 5개의 폴드 세트로 분리하는 KFold 객체를 생성해줍니다."
      ],
      "metadata": {
        "id": "bKMWaCPmkaIA"
      }
    },
    {
      "cell_type": "code",
      "source": [
        "lr = LinearRegression()\n",
        "\n",
        "# 폴드 개수 할당\n",
        "kfold = KFold(n_splits=5)"
      ],
      "metadata": {
        "id": "BImCE0C6mvdL"
      },
      "execution_count": null,
      "outputs": []
    },
    {
      "cell_type": "markdown",
      "source": [
        "- **LinearRegression()**\n",
        "\n",
        "  LinearRegression 클래스를 이용하면 선형 회귀 모델을 만들 수 있습니다.\n",
        "\n",
        "- **KFold(n_splits=5)**\n",
        "\n",
        "  KFold 함수를 이용해 폴드 개수를 할당해줄 수 있습니다. \n",
        "\n",
        "  일반적으로 5, 10 등의 값을 사용합니다."
      ],
      "metadata": {
        "id": "AcBuqQ-Mm99Q"
      }
    },
    {
      "cell_type": "markdown",
      "source": [
        "<br>"
      ],
      "metadata": {
        "id": "HSNuCBfdcww5"
      }
    },
    {
      "cell_type": "markdown",
      "source": [
        "각 폴드마다 다른 x_train과 y_train을 이용해 모델을 학습하고, x_test를 예측해 예측값을 y_test와 비교하여 RMSE를 구해보도록 하겠습니다."
      ],
      "metadata": {
        "id": "WRvO0iXknXg-"
      }
    },
    {
      "cell_type": "code",
      "source": [
        "cv_rmse = []\n",
        "n_iter = 0\n",
        "\n",
        "for train_index, test_index, in kfold.split(feature):\n",
        "\n",
        "    x_train, x_test = feature.iloc[train_index], feature.iloc[test_index]\n",
        "    y_train, y_test = target.iloc[train_index], target.iloc[test_index]\n",
        "\n",
        "    # 모델 학습\n",
        "    lr = lr.fit(x_train, y_train)\n",
        "\n",
        "    # 테스트셋 예측\n",
        "    pred = lr.predict(x_test)\n",
        "\n",
        "    # 반복 횟수 1회 증가\n",
        "    n_iter += 1\n",
        "\n",
        "    error = RMSE(y_test, pred)\n",
        "    train_size = x_train.shape[0]\n",
        "    test_size = x_test.shape[0]\n",
        "\n",
        "    print('\\n{0}번째 교차 검증 RMSE : {1}, 학습 데이터 크기 : {2}, 검증 데이터 크기 : {3}'.format(n_iter, error, train_size, test_size))\n",
        "    print('{0}번째 검증 세트 인덱스 : {1}'.format(n_iter, test_index))\n",
        "    cv_rmse.append(error)\n",
        "\n",
        "print('\\n==> 이 방정식의 평균 RMSE는 {}입니다.'.format(np.mean(cv_rmse)))"
      ],
      "metadata": {
        "colab": {
          "base_uri": "https://localhost:8080/"
        },
        "id": "4m5YoFd1nXLS",
        "outputId": "27c265e6-4e98-402e-a6eb-153264cfdc40"
      },
      "execution_count": null,
      "outputs": [
        {
          "output_type": "stream",
          "name": "stdout",
          "text": [
            "\n",
            "1번째 교차 검증 RMSE : 239.82928886634735, 학습 데이터 크기 : 88, 검증 데이터 크기 : 23\n",
            "1번째 검증 세트 인덱스 : [ 0  1  2  3  4  5  6  7  8  9 10 11 12 13 14 15 16 17 18 19 20 21 22]\n",
            "\n",
            "2번째 교차 검증 RMSE : 429.61020936880345, 학습 데이터 크기 : 89, 검증 데이터 크기 : 22\n",
            "2번째 검증 세트 인덱스 : [23 24 25 26 27 28 29 30 31 32 33 34 35 36 37 38 39 40 41 42 43 44]\n",
            "\n",
            "3번째 교차 검증 RMSE : 399.4780502908268, 학습 데이터 크기 : 89, 검증 데이터 크기 : 22\n",
            "3번째 검증 세트 인덱스 : [45 46 47 48 49 50 51 52 53 54 55 56 57 58 59 60 61 62 63 64 65 66]\n",
            "\n",
            "4번째 교차 검증 RMSE : 257.3075886771985, 학습 데이터 크기 : 89, 검증 데이터 크기 : 22\n",
            "4번째 검증 세트 인덱스 : [67 68 69 70 71 72 73 74 75 76 77 78 79 80 81 82 83 84 85 86 87 88]\n",
            "\n",
            "5번째 교차 검증 RMSE : 355.9484843947441, 학습 데이터 크기 : 89, 검증 데이터 크기 : 22\n",
            "5번째 검증 세트 인덱스 : [ 89  90  91  92  93  94  95  96  97  98  99 100 101 102 103 104 105 106\n",
            " 107 108 109 110]\n",
            "\n",
            "==> 이 방정식의 평균 RMSE는 336.434724319584입니다.\n"
          ]
        }
      ]
    },
    {
      "cell_type": "markdown",
      "source": [
        "- **kfold.split(feature)**\n",
        "\n",
        "  split() 함수를 호출해 전체 펭귄 데이터를 5개의 폴드 데이터 세트로 분리합니다.\n",
        "\n",
        "- **lr.fit(x_train, y_train)**\n",
        "\n",
        "  LinearRegression 클래스의 fit 메소드를 사용해 훈련시킵니다.\n",
        "\n",
        "- **RMSE(y_test, pred)**\n",
        "\n",
        "  예측값(pred)과 실제값(y_test)의 차이를 기반으로 하는 RMSE를 구합니다.\n",
        "\n"
      ],
      "metadata": {
        "id": "R1VF7bs4gf3T"
      }
    },
    {
      "cell_type": "markdown",
      "source": [
        "<br>"
      ],
      "metadata": {
        "id": "958pa3a5aABP"
      }
    },
    {
      "cell_type": "markdown",
      "source": [
        "교차 검증을 더 편리하게 수행할 수 있게 해주는 API인 cross_val_score()를 이용해 교차 검증으로 MSE와 RMSE를 추정해보겠습니다."
      ],
      "metadata": {
        "id": "hCjyuLN1dBUH"
      }
    },
    {
      "cell_type": "code",
      "source": [
        "# cross_val_score()로 구현하기\n",
        "from sklearn.model_selection import cross_val_score\n",
        "\n",
        "neg_mse_scores = cross_val_score(lr, feature, target, scoring=\"neg_mean_squared_error\", cv=5)\n",
        "rmse_scores = np.sqrt(-1 * neg_mse_scores)\n",
        "avg_rmse = np.mean(rmse_scores)\n",
        "\n",
        "print(' 5 folds 의 개별 Negative MSE scores : ', np.round(neg_mse_scores))\n",
        "print(' 5 folds 의 개별 RMSE scores : ', np.round(rmse_scores))\n",
        "print(' 5 folds 의 평균 RMSE : ', np.round(avg_rmse, 3))"
      ],
      "metadata": {
        "colab": {
          "base_uri": "https://localhost:8080/"
        },
        "id": "zEhj23nUaB0X",
        "outputId": "6271776c-21e4-419f-d497-b177f351ff70"
      },
      "execution_count": null,
      "outputs": [
        {
          "output_type": "stream",
          "name": "stdout",
          "text": [
            " 5 folds 의 개별 Negative MSE scores :  [ -57518. -184565. -159583.  -66207. -126699.]\n",
            " 5 folds 의 개별 RMSE scores :  [240. 430. 399. 257. 356.]\n",
            " 5 folds 의 평균 RMSE :  336.435\n"
          ]
        }
      ]
    },
    {
      "cell_type": "markdown",
      "source": [
        "- **cross_val_score(lr, feature, target, scoring=\"neg_mean_squared_error\", cv=5)**\n",
        "\n",
        "  scoring은 예측 성능 평가 지표입니다. \"neg_mean_squared_error\"는 MSE에 음수를 취한 값입니다.\n",
        "\n",
        "  cv는 교차 검증 폴드 수를 결정합니다.\n",
        "\n",
        "- **np.sqrt(-1 * neg_mse_scores)**\n",
        "\n",
        "  RMSE를 구하기 위해서 음수 값인 neg_mse_scores에 -1을 곱해주고 제곱근을 취해줍니다."
      ],
      "metadata": {
        "id": "9Vm0CWtab_Dt"
      }
    },
    {
      "cell_type": "markdown",
      "source": [
        "<br>"
      ],
      "metadata": {
        "id": "s7Q5TLl6dBKS"
      }
    },
    {
      "cell_type": "markdown",
      "source": [
        "#### **[ 예측하기 ]**"
      ],
      "metadata": {
        "id": "Er4Hat4UpUqN"
      }
    },
    {
      "cell_type": "markdown",
      "source": [
        "예측을 진행 할 test.csv 데이터를 불러옵니다."
      ],
      "metadata": {
        "id": "qOa3laihjBT_"
      }
    },
    {
      "cell_type": "code",
      "source": [
        "# 데이터 불러오기\n",
        "test = pd.read_csv('/content/drive/My Drive/Colab Notebooks/데이썬/test.csv')\n",
        "\n",
        "# 데이터 확인\n",
        "test.head()"
      ],
      "metadata": {
        "colab": {
          "base_uri": "https://localhost:8080/",
          "height": 206
        },
        "id": "Fks37z8mpUUn",
        "outputId": "a445d287-f841-4f25-c869-2bb61480ec3b"
      },
      "execution_count": null,
      "outputs": [
        {
          "output_type": "execute_result",
          "data": {
            "text/plain": [
              "   id                                    Species  Island Clutch Completion  \\\n",
              "0   0  Chinstrap penguin (Pygoscelis antarctica)   Dream               Yes   \n",
              "1   1          Gentoo penguin (Pygoscelis papua)  Biscoe               Yes   \n",
              "2   2        Adelie Penguin (Pygoscelis adeliae)   Dream               Yes   \n",
              "3   3  Chinstrap penguin (Pygoscelis antarctica)   Dream               Yes   \n",
              "4   4        Adelie Penguin (Pygoscelis adeliae)  Biscoe                No   \n",
              "\n",
              "   Culmen Length (mm)  Culmen Depth (mm)  Flipper Length (mm)     Sex  \\\n",
              "0                52.0               20.7                210.0    MALE   \n",
              "1                55.9               17.0                228.0    MALE   \n",
              "2                38.9               18.8                190.0  FEMALE   \n",
              "3                45.2               16.6                191.0  FEMALE   \n",
              "4                37.9               18.6                172.0  FEMALE   \n",
              "\n",
              "   Delta 15 N (o/oo)  Delta 13 C (o/oo)  \n",
              "0            9.43146          -24.68440  \n",
              "1            8.31180          -26.35425  \n",
              "2            8.36936          -26.11199  \n",
              "3            9.62357          -24.78984  \n",
              "4            8.38404          -25.19837  "
            ],
            "text/html": [
              "\n",
              "  <div id=\"df-ce1c41a3-bb39-4ce0-8a32-247140778d12\">\n",
              "    <div class=\"colab-df-container\">\n",
              "      <div>\n",
              "<style scoped>\n",
              "    .dataframe tbody tr th:only-of-type {\n",
              "        vertical-align: middle;\n",
              "    }\n",
              "\n",
              "    .dataframe tbody tr th {\n",
              "        vertical-align: top;\n",
              "    }\n",
              "\n",
              "    .dataframe thead th {\n",
              "        text-align: right;\n",
              "    }\n",
              "</style>\n",
              "<table border=\"1\" class=\"dataframe\">\n",
              "  <thead>\n",
              "    <tr style=\"text-align: right;\">\n",
              "      <th></th>\n",
              "      <th>id</th>\n",
              "      <th>Species</th>\n",
              "      <th>Island</th>\n",
              "      <th>Clutch Completion</th>\n",
              "      <th>Culmen Length (mm)</th>\n",
              "      <th>Culmen Depth (mm)</th>\n",
              "      <th>Flipper Length (mm)</th>\n",
              "      <th>Sex</th>\n",
              "      <th>Delta 15 N (o/oo)</th>\n",
              "      <th>Delta 13 C (o/oo)</th>\n",
              "    </tr>\n",
              "  </thead>\n",
              "  <tbody>\n",
              "    <tr>\n",
              "      <th>0</th>\n",
              "      <td>0</td>\n",
              "      <td>Chinstrap penguin (Pygoscelis antarctica)</td>\n",
              "      <td>Dream</td>\n",
              "      <td>Yes</td>\n",
              "      <td>52.0</td>\n",
              "      <td>20.7</td>\n",
              "      <td>210.0</td>\n",
              "      <td>MALE</td>\n",
              "      <td>9.43146</td>\n",
              "      <td>-24.68440</td>\n",
              "    </tr>\n",
              "    <tr>\n",
              "      <th>1</th>\n",
              "      <td>1</td>\n",
              "      <td>Gentoo penguin (Pygoscelis papua)</td>\n",
              "      <td>Biscoe</td>\n",
              "      <td>Yes</td>\n",
              "      <td>55.9</td>\n",
              "      <td>17.0</td>\n",
              "      <td>228.0</td>\n",
              "      <td>MALE</td>\n",
              "      <td>8.31180</td>\n",
              "      <td>-26.35425</td>\n",
              "    </tr>\n",
              "    <tr>\n",
              "      <th>2</th>\n",
              "      <td>2</td>\n",
              "      <td>Adelie Penguin (Pygoscelis adeliae)</td>\n",
              "      <td>Dream</td>\n",
              "      <td>Yes</td>\n",
              "      <td>38.9</td>\n",
              "      <td>18.8</td>\n",
              "      <td>190.0</td>\n",
              "      <td>FEMALE</td>\n",
              "      <td>8.36936</td>\n",
              "      <td>-26.11199</td>\n",
              "    </tr>\n",
              "    <tr>\n",
              "      <th>3</th>\n",
              "      <td>3</td>\n",
              "      <td>Chinstrap penguin (Pygoscelis antarctica)</td>\n",
              "      <td>Dream</td>\n",
              "      <td>Yes</td>\n",
              "      <td>45.2</td>\n",
              "      <td>16.6</td>\n",
              "      <td>191.0</td>\n",
              "      <td>FEMALE</td>\n",
              "      <td>9.62357</td>\n",
              "      <td>-24.78984</td>\n",
              "    </tr>\n",
              "    <tr>\n",
              "      <th>4</th>\n",
              "      <td>4</td>\n",
              "      <td>Adelie Penguin (Pygoscelis adeliae)</td>\n",
              "      <td>Biscoe</td>\n",
              "      <td>No</td>\n",
              "      <td>37.9</td>\n",
              "      <td>18.6</td>\n",
              "      <td>172.0</td>\n",
              "      <td>FEMALE</td>\n",
              "      <td>8.38404</td>\n",
              "      <td>-25.19837</td>\n",
              "    </tr>\n",
              "  </tbody>\n",
              "</table>\n",
              "</div>\n",
              "      <button class=\"colab-df-convert\" onclick=\"convertToInteractive('df-ce1c41a3-bb39-4ce0-8a32-247140778d12')\"\n",
              "              title=\"Convert this dataframe to an interactive table.\"\n",
              "              style=\"display:none;\">\n",
              "        \n",
              "  <svg xmlns=\"http://www.w3.org/2000/svg\" height=\"24px\"viewBox=\"0 0 24 24\"\n",
              "       width=\"24px\">\n",
              "    <path d=\"M0 0h24v24H0V0z\" fill=\"none\"/>\n",
              "    <path d=\"M18.56 5.44l.94 2.06.94-2.06 2.06-.94-2.06-.94-.94-2.06-.94 2.06-2.06.94zm-11 1L8.5 8.5l.94-2.06 2.06-.94-2.06-.94L8.5 2.5l-.94 2.06-2.06.94zm10 10l.94 2.06.94-2.06 2.06-.94-2.06-.94-.94-2.06-.94 2.06-2.06.94z\"/><path d=\"M17.41 7.96l-1.37-1.37c-.4-.4-.92-.59-1.43-.59-.52 0-1.04.2-1.43.59L10.3 9.45l-7.72 7.72c-.78.78-.78 2.05 0 2.83L4 21.41c.39.39.9.59 1.41.59.51 0 1.02-.2 1.41-.59l7.78-7.78 2.81-2.81c.8-.78.8-2.07 0-2.86zM5.41 20L4 18.59l7.72-7.72 1.47 1.35L5.41 20z\"/>\n",
              "  </svg>\n",
              "      </button>\n",
              "      \n",
              "  <style>\n",
              "    .colab-df-container {\n",
              "      display:flex;\n",
              "      flex-wrap:wrap;\n",
              "      gap: 12px;\n",
              "    }\n",
              "\n",
              "    .colab-df-convert {\n",
              "      background-color: #E8F0FE;\n",
              "      border: none;\n",
              "      border-radius: 50%;\n",
              "      cursor: pointer;\n",
              "      display: none;\n",
              "      fill: #1967D2;\n",
              "      height: 32px;\n",
              "      padding: 0 0 0 0;\n",
              "      width: 32px;\n",
              "    }\n",
              "\n",
              "    .colab-df-convert:hover {\n",
              "      background-color: #E2EBFA;\n",
              "      box-shadow: 0px 1px 2px rgba(60, 64, 67, 0.3), 0px 1px 3px 1px rgba(60, 64, 67, 0.15);\n",
              "      fill: #174EA6;\n",
              "    }\n",
              "\n",
              "    [theme=dark] .colab-df-convert {\n",
              "      background-color: #3B4455;\n",
              "      fill: #D2E3FC;\n",
              "    }\n",
              "\n",
              "    [theme=dark] .colab-df-convert:hover {\n",
              "      background-color: #434B5C;\n",
              "      box-shadow: 0px 1px 3px 1px rgba(0, 0, 0, 0.15);\n",
              "      filter: drop-shadow(0px 1px 2px rgba(0, 0, 0, 0.3));\n",
              "      fill: #FFFFFF;\n",
              "    }\n",
              "  </style>\n",
              "\n",
              "      <script>\n",
              "        const buttonEl =\n",
              "          document.querySelector('#df-ce1c41a3-bb39-4ce0-8a32-247140778d12 button.colab-df-convert');\n",
              "        buttonEl.style.display =\n",
              "          google.colab.kernel.accessAllowed ? 'block' : 'none';\n",
              "\n",
              "        async function convertToInteractive(key) {\n",
              "          const element = document.querySelector('#df-ce1c41a3-bb39-4ce0-8a32-247140778d12');\n",
              "          const dataTable =\n",
              "            await google.colab.kernel.invokeFunction('convertToInteractive',\n",
              "                                                     [key], {});\n",
              "          if (!dataTable) return;\n",
              "\n",
              "          const docLinkHtml = 'Like what you see? Visit the ' +\n",
              "            '<a target=\"_blank\" href=https://colab.research.google.com/notebooks/data_table.ipynb>data table notebook</a>'\n",
              "            + ' to learn more about interactive tables.';\n",
              "          element.innerHTML = '';\n",
              "          dataTable['output_type'] = 'display_data';\n",
              "          await google.colab.output.renderOutput(dataTable, element);\n",
              "          const docLink = document.createElement('div');\n",
              "          docLink.innerHTML = docLinkHtml;\n",
              "          element.appendChild(docLink);\n",
              "        }\n",
              "      </script>\n",
              "    </div>\n",
              "  </div>\n",
              "  "
            ]
          },
          "metadata": {},
          "execution_count": 25
        }
      ]
    },
    {
      "cell_type": "markdown",
      "source": [
        "<br>"
      ],
      "metadata": {
        "id": "6mvz2Pb6jNMC"
      }
    },
    {
      "cell_type": "markdown",
      "source": [
        "test.csv에도 train.csv와 동일한 전처리 과정을 진행해줍니다."
      ],
      "metadata": {
        "id": "O5NIGhIfrawB"
      }
    },
    {
      "cell_type": "code",
      "source": [
        "test.info()"
      ],
      "metadata": {
        "colab": {
          "base_uri": "https://localhost:8080/"
        },
        "id": "ox5dqh0srnKM",
        "outputId": "e03a5a8c-225b-4c27-a8d0-f8ae46334089"
      },
      "execution_count": null,
      "outputs": [
        {
          "output_type": "stream",
          "name": "stdout",
          "text": [
            "<class 'pandas.core.frame.DataFrame'>\n",
            "RangeIndex: 228 entries, 0 to 227\n",
            "Data columns (total 10 columns):\n",
            " #   Column               Non-Null Count  Dtype  \n",
            "---  ------               --------------  -----  \n",
            " 0   id                   228 non-null    int64  \n",
            " 1   Species              228 non-null    object \n",
            " 2   Island               228 non-null    object \n",
            " 3   Clutch Completion    228 non-null    object \n",
            " 4   Culmen Length (mm)   228 non-null    float64\n",
            " 5   Culmen Depth (mm)    228 non-null    float64\n",
            " 6   Flipper Length (mm)  228 non-null    float64\n",
            " 7   Sex                  222 non-null    object \n",
            " 8   Delta 15 N (o/oo)    219 non-null    float64\n",
            " 9   Delta 13 C (o/oo)    220 non-null    float64\n",
            "dtypes: float64(5), int64(1), object(4)\n",
            "memory usage: 17.9+ KB\n"
          ]
        }
      ]
    },
    {
      "cell_type": "markdown",
      "source": [
        "Sex, Delta 15 N (o/oo), Delta 13 C (o/oo) 컬럼에 결측값이 존재합니다."
      ],
      "metadata": {
        "id": "x_9J7EmOrwj9"
      }
    },
    {
      "cell_type": "markdown",
      "source": [
        "<br>"
      ],
      "metadata": {
        "id": "xLW8XHlajQ_5"
      }
    },
    {
      "cell_type": "markdown",
      "source": [
        "train.csv는 Sex 컬럼의 결측치가 존재하는 행을 삭제했지만 test.csv의 행은 삭제하면 안되므로, \n",
        "\n",
        "train.csv의 분포에서 개수가 더 큰 \"MALE\" 값을 임의로 부여합니다."
      ],
      "metadata": {
        "id": "Cd-FlErysrU1"
      }
    },
    {
      "cell_type": "code",
      "source": [
        "train[['Sex']].value_counts()"
      ],
      "metadata": {
        "colab": {
          "base_uri": "https://localhost:8080/"
        },
        "id": "Zrqja8qmsccy",
        "outputId": "b96b50b3-7b60-4043-e955-d50ec6c91622"
      },
      "execution_count": null,
      "outputs": [
        {
          "output_type": "execute_result",
          "data": {
            "text/plain": [
              "Sex   \n",
              "MALE      56\n",
              "FEMALE    55\n",
              "dtype: int64"
            ]
          },
          "metadata": {},
          "execution_count": 27
        }
      ]
    },
    {
      "cell_type": "code",
      "source": [
        "test['Sex'] = test['Sex'].fillna(\"MALE\")"
      ],
      "metadata": {
        "id": "Z6Tspc7Ts9kf"
      },
      "execution_count": null,
      "outputs": []
    },
    {
      "cell_type": "markdown",
      "source": [
        "<br>"
      ],
      "metadata": {
        "id": "1CZkx7n5jXLU"
      }
    },
    {
      "cell_type": "markdown",
      "source": [
        "train.csv와 마찬가지로 수치형 변수의 결측값에는 0값을 채워줍니다."
      ],
      "metadata": {
        "id": "0gjJy4LUs9H5"
      }
    },
    {
      "cell_type": "code",
      "source": [
        "test_preprocessed = test.fillna(0)\n",
        "test_preprocessed.info()"
      ],
      "metadata": {
        "colab": {
          "base_uri": "https://localhost:8080/"
        },
        "id": "3iayUM0StQ2P",
        "outputId": "df6c0bcb-d058-4d43-e321-0c6d4466157a"
      },
      "execution_count": null,
      "outputs": [
        {
          "output_type": "stream",
          "name": "stdout",
          "text": [
            "<class 'pandas.core.frame.DataFrame'>\n",
            "RangeIndex: 228 entries, 0 to 227\n",
            "Data columns (total 10 columns):\n",
            " #   Column               Non-Null Count  Dtype  \n",
            "---  ------               --------------  -----  \n",
            " 0   id                   228 non-null    int64  \n",
            " 1   Species              228 non-null    object \n",
            " 2   Island               228 non-null    object \n",
            " 3   Clutch Completion    228 non-null    object \n",
            " 4   Culmen Length (mm)   228 non-null    float64\n",
            " 5   Culmen Depth (mm)    228 non-null    float64\n",
            " 6   Flipper Length (mm)  228 non-null    float64\n",
            " 7   Sex                  228 non-null    object \n",
            " 8   Delta 15 N (o/oo)    228 non-null    float64\n",
            " 9   Delta 13 C (o/oo)    228 non-null    float64\n",
            "dtypes: float64(5), int64(1), object(4)\n",
            "memory usage: 17.9+ KB\n"
          ]
        }
      ]
    },
    {
      "cell_type": "markdown",
      "source": [
        "결측치가 존재하지 않습니다."
      ],
      "metadata": {
        "id": "vNKswdVatX5T"
      }
    },
    {
      "cell_type": "markdown",
      "source": [
        "<br>"
      ],
      "metadata": {
        "id": "w6-ctpU2jj4Q"
      }
    },
    {
      "cell_type": "markdown",
      "source": [
        "test.csv에도 레이블 인코딩을 동일하게 진행해줍니다."
      ],
      "metadata": {
        "id": "sbKHXdKxtaqt"
      }
    },
    {
      "cell_type": "code",
      "source": [
        "labeled_test = label_encoder(test_preprocessed, label_map)\n",
        "labeled_test.head()"
      ],
      "metadata": {
        "colab": {
          "base_uri": "https://localhost:8080/",
          "height": 206
        },
        "id": "6c5IpYxBtqFc",
        "outputId": "eb9a8d15-ac72-4acd-e8cb-4279b5f583a9"
      },
      "execution_count": null,
      "outputs": [
        {
          "output_type": "execute_result",
          "data": {
            "text/plain": [
              "   id  Species  Island  Clutch Completion  Culmen Length (mm)  \\\n",
              "0   0        2       2                  1                52.0   \n",
              "1   1        1       1                  1                55.9   \n",
              "2   2        3       2                  1                38.9   \n",
              "3   3        2       2                  1                45.2   \n",
              "4   4        3       1                  2                37.9   \n",
              "\n",
              "   Culmen Depth (mm)  Flipper Length (mm)  Sex  Delta 15 N (o/oo)  \\\n",
              "0               20.7                210.0    1            9.43146   \n",
              "1               17.0                228.0    1            8.31180   \n",
              "2               18.8                190.0    2            8.36936   \n",
              "3               16.6                191.0    2            9.62357   \n",
              "4               18.6                172.0    2            8.38404   \n",
              "\n",
              "   Delta 13 C (o/oo)  \n",
              "0          -24.68440  \n",
              "1          -26.35425  \n",
              "2          -26.11199  \n",
              "3          -24.78984  \n",
              "4          -25.19837  "
            ],
            "text/html": [
              "\n",
              "  <div id=\"df-132b60fb-5b10-404b-9ed7-a16a1823d3c5\">\n",
              "    <div class=\"colab-df-container\">\n",
              "      <div>\n",
              "<style scoped>\n",
              "    .dataframe tbody tr th:only-of-type {\n",
              "        vertical-align: middle;\n",
              "    }\n",
              "\n",
              "    .dataframe tbody tr th {\n",
              "        vertical-align: top;\n",
              "    }\n",
              "\n",
              "    .dataframe thead th {\n",
              "        text-align: right;\n",
              "    }\n",
              "</style>\n",
              "<table border=\"1\" class=\"dataframe\">\n",
              "  <thead>\n",
              "    <tr style=\"text-align: right;\">\n",
              "      <th></th>\n",
              "      <th>id</th>\n",
              "      <th>Species</th>\n",
              "      <th>Island</th>\n",
              "      <th>Clutch Completion</th>\n",
              "      <th>Culmen Length (mm)</th>\n",
              "      <th>Culmen Depth (mm)</th>\n",
              "      <th>Flipper Length (mm)</th>\n",
              "      <th>Sex</th>\n",
              "      <th>Delta 15 N (o/oo)</th>\n",
              "      <th>Delta 13 C (o/oo)</th>\n",
              "    </tr>\n",
              "  </thead>\n",
              "  <tbody>\n",
              "    <tr>\n",
              "      <th>0</th>\n",
              "      <td>0</td>\n",
              "      <td>2</td>\n",
              "      <td>2</td>\n",
              "      <td>1</td>\n",
              "      <td>52.0</td>\n",
              "      <td>20.7</td>\n",
              "      <td>210.0</td>\n",
              "      <td>1</td>\n",
              "      <td>9.43146</td>\n",
              "      <td>-24.68440</td>\n",
              "    </tr>\n",
              "    <tr>\n",
              "      <th>1</th>\n",
              "      <td>1</td>\n",
              "      <td>1</td>\n",
              "      <td>1</td>\n",
              "      <td>1</td>\n",
              "      <td>55.9</td>\n",
              "      <td>17.0</td>\n",
              "      <td>228.0</td>\n",
              "      <td>1</td>\n",
              "      <td>8.31180</td>\n",
              "      <td>-26.35425</td>\n",
              "    </tr>\n",
              "    <tr>\n",
              "      <th>2</th>\n",
              "      <td>2</td>\n",
              "      <td>3</td>\n",
              "      <td>2</td>\n",
              "      <td>1</td>\n",
              "      <td>38.9</td>\n",
              "      <td>18.8</td>\n",
              "      <td>190.0</td>\n",
              "      <td>2</td>\n",
              "      <td>8.36936</td>\n",
              "      <td>-26.11199</td>\n",
              "    </tr>\n",
              "    <tr>\n",
              "      <th>3</th>\n",
              "      <td>3</td>\n",
              "      <td>2</td>\n",
              "      <td>2</td>\n",
              "      <td>1</td>\n",
              "      <td>45.2</td>\n",
              "      <td>16.6</td>\n",
              "      <td>191.0</td>\n",
              "      <td>2</td>\n",
              "      <td>9.62357</td>\n",
              "      <td>-24.78984</td>\n",
              "    </tr>\n",
              "    <tr>\n",
              "      <th>4</th>\n",
              "      <td>4</td>\n",
              "      <td>3</td>\n",
              "      <td>1</td>\n",
              "      <td>2</td>\n",
              "      <td>37.9</td>\n",
              "      <td>18.6</td>\n",
              "      <td>172.0</td>\n",
              "      <td>2</td>\n",
              "      <td>8.38404</td>\n",
              "      <td>-25.19837</td>\n",
              "    </tr>\n",
              "  </tbody>\n",
              "</table>\n",
              "</div>\n",
              "      <button class=\"colab-df-convert\" onclick=\"convertToInteractive('df-132b60fb-5b10-404b-9ed7-a16a1823d3c5')\"\n",
              "              title=\"Convert this dataframe to an interactive table.\"\n",
              "              style=\"display:none;\">\n",
              "        \n",
              "  <svg xmlns=\"http://www.w3.org/2000/svg\" height=\"24px\"viewBox=\"0 0 24 24\"\n",
              "       width=\"24px\">\n",
              "    <path d=\"M0 0h24v24H0V0z\" fill=\"none\"/>\n",
              "    <path d=\"M18.56 5.44l.94 2.06.94-2.06 2.06-.94-2.06-.94-.94-2.06-.94 2.06-2.06.94zm-11 1L8.5 8.5l.94-2.06 2.06-.94-2.06-.94L8.5 2.5l-.94 2.06-2.06.94zm10 10l.94 2.06.94-2.06 2.06-.94-2.06-.94-.94-2.06-.94 2.06-2.06.94z\"/><path d=\"M17.41 7.96l-1.37-1.37c-.4-.4-.92-.59-1.43-.59-.52 0-1.04.2-1.43.59L10.3 9.45l-7.72 7.72c-.78.78-.78 2.05 0 2.83L4 21.41c.39.39.9.59 1.41.59.51 0 1.02-.2 1.41-.59l7.78-7.78 2.81-2.81c.8-.78.8-2.07 0-2.86zM5.41 20L4 18.59l7.72-7.72 1.47 1.35L5.41 20z\"/>\n",
              "  </svg>\n",
              "      </button>\n",
              "      \n",
              "  <style>\n",
              "    .colab-df-container {\n",
              "      display:flex;\n",
              "      flex-wrap:wrap;\n",
              "      gap: 12px;\n",
              "    }\n",
              "\n",
              "    .colab-df-convert {\n",
              "      background-color: #E8F0FE;\n",
              "      border: none;\n",
              "      border-radius: 50%;\n",
              "      cursor: pointer;\n",
              "      display: none;\n",
              "      fill: #1967D2;\n",
              "      height: 32px;\n",
              "      padding: 0 0 0 0;\n",
              "      width: 32px;\n",
              "    }\n",
              "\n",
              "    .colab-df-convert:hover {\n",
              "      background-color: #E2EBFA;\n",
              "      box-shadow: 0px 1px 2px rgba(60, 64, 67, 0.3), 0px 1px 3px 1px rgba(60, 64, 67, 0.15);\n",
              "      fill: #174EA6;\n",
              "    }\n",
              "\n",
              "    [theme=dark] .colab-df-convert {\n",
              "      background-color: #3B4455;\n",
              "      fill: #D2E3FC;\n",
              "    }\n",
              "\n",
              "    [theme=dark] .colab-df-convert:hover {\n",
              "      background-color: #434B5C;\n",
              "      box-shadow: 0px 1px 3px 1px rgba(0, 0, 0, 0.15);\n",
              "      filter: drop-shadow(0px 1px 2px rgba(0, 0, 0, 0.3));\n",
              "      fill: #FFFFFF;\n",
              "    }\n",
              "  </style>\n",
              "\n",
              "      <script>\n",
              "        const buttonEl =\n",
              "          document.querySelector('#df-132b60fb-5b10-404b-9ed7-a16a1823d3c5 button.colab-df-convert');\n",
              "        buttonEl.style.display =\n",
              "          google.colab.kernel.accessAllowed ? 'block' : 'none';\n",
              "\n",
              "        async function convertToInteractive(key) {\n",
              "          const element = document.querySelector('#df-132b60fb-5b10-404b-9ed7-a16a1823d3c5');\n",
              "          const dataTable =\n",
              "            await google.colab.kernel.invokeFunction('convertToInteractive',\n",
              "                                                     [key], {});\n",
              "          if (!dataTable) return;\n",
              "\n",
              "          const docLinkHtml = 'Like what you see? Visit the ' +\n",
              "            '<a target=\"_blank\" href=https://colab.research.google.com/notebooks/data_table.ipynb>data table notebook</a>'\n",
              "            + ' to learn more about interactive tables.';\n",
              "          element.innerHTML = '';\n",
              "          dataTable['output_type'] = 'display_data';\n",
              "          await google.colab.output.renderOutput(dataTable, element);\n",
              "          const docLink = document.createElement('div');\n",
              "          docLink.innerHTML = docLinkHtml;\n",
              "          element.appendChild(docLink);\n",
              "        }\n",
              "      </script>\n",
              "    </div>\n",
              "  </div>\n",
              "  "
            ]
          },
          "metadata": {},
          "execution_count": 30
        }
      ]
    },
    {
      "cell_type": "markdown",
      "source": [
        "<br>"
      ],
      "metadata": {
        "id": "ipHCy-Nnjq9j"
      }
    },
    {
      "cell_type": "markdown",
      "source": [
        "train.csv와 마찬가지로 id 컬럼을 제거해줍니다."
      ],
      "metadata": {
        "id": "wk6GiOlWuIJz"
      }
    },
    {
      "cell_type": "code",
      "source": [
        "labeled_test = labeled_test.drop(['id'], axis=1)\n",
        "labeled_test.head()"
      ],
      "metadata": {
        "colab": {
          "base_uri": "https://localhost:8080/",
          "height": 206
        },
        "id": "_7g-SIF4t10B",
        "outputId": "4f3cabd4-601b-4ec9-bd66-b913dcc300c1"
      },
      "execution_count": null,
      "outputs": [
        {
          "output_type": "execute_result",
          "data": {
            "text/plain": [
              "   Species  Island  Clutch Completion  Culmen Length (mm)  Culmen Depth (mm)  \\\n",
              "0        2       2                  1                52.0               20.7   \n",
              "1        1       1                  1                55.9               17.0   \n",
              "2        3       2                  1                38.9               18.8   \n",
              "3        2       2                  1                45.2               16.6   \n",
              "4        3       1                  2                37.9               18.6   \n",
              "\n",
              "   Flipper Length (mm)  Sex  Delta 15 N (o/oo)  Delta 13 C (o/oo)  \n",
              "0                210.0    1            9.43146          -24.68440  \n",
              "1                228.0    1            8.31180          -26.35425  \n",
              "2                190.0    2            8.36936          -26.11199  \n",
              "3                191.0    2            9.62357          -24.78984  \n",
              "4                172.0    2            8.38404          -25.19837  "
            ],
            "text/html": [
              "\n",
              "  <div id=\"df-6a3e5d92-7a70-4f63-86d5-659d15af8a01\">\n",
              "    <div class=\"colab-df-container\">\n",
              "      <div>\n",
              "<style scoped>\n",
              "    .dataframe tbody tr th:only-of-type {\n",
              "        vertical-align: middle;\n",
              "    }\n",
              "\n",
              "    .dataframe tbody tr th {\n",
              "        vertical-align: top;\n",
              "    }\n",
              "\n",
              "    .dataframe thead th {\n",
              "        text-align: right;\n",
              "    }\n",
              "</style>\n",
              "<table border=\"1\" class=\"dataframe\">\n",
              "  <thead>\n",
              "    <tr style=\"text-align: right;\">\n",
              "      <th></th>\n",
              "      <th>Species</th>\n",
              "      <th>Island</th>\n",
              "      <th>Clutch Completion</th>\n",
              "      <th>Culmen Length (mm)</th>\n",
              "      <th>Culmen Depth (mm)</th>\n",
              "      <th>Flipper Length (mm)</th>\n",
              "      <th>Sex</th>\n",
              "      <th>Delta 15 N (o/oo)</th>\n",
              "      <th>Delta 13 C (o/oo)</th>\n",
              "    </tr>\n",
              "  </thead>\n",
              "  <tbody>\n",
              "    <tr>\n",
              "      <th>0</th>\n",
              "      <td>2</td>\n",
              "      <td>2</td>\n",
              "      <td>1</td>\n",
              "      <td>52.0</td>\n",
              "      <td>20.7</td>\n",
              "      <td>210.0</td>\n",
              "      <td>1</td>\n",
              "      <td>9.43146</td>\n",
              "      <td>-24.68440</td>\n",
              "    </tr>\n",
              "    <tr>\n",
              "      <th>1</th>\n",
              "      <td>1</td>\n",
              "      <td>1</td>\n",
              "      <td>1</td>\n",
              "      <td>55.9</td>\n",
              "      <td>17.0</td>\n",
              "      <td>228.0</td>\n",
              "      <td>1</td>\n",
              "      <td>8.31180</td>\n",
              "      <td>-26.35425</td>\n",
              "    </tr>\n",
              "    <tr>\n",
              "      <th>2</th>\n",
              "      <td>3</td>\n",
              "      <td>2</td>\n",
              "      <td>1</td>\n",
              "      <td>38.9</td>\n",
              "      <td>18.8</td>\n",
              "      <td>190.0</td>\n",
              "      <td>2</td>\n",
              "      <td>8.36936</td>\n",
              "      <td>-26.11199</td>\n",
              "    </tr>\n",
              "    <tr>\n",
              "      <th>3</th>\n",
              "      <td>2</td>\n",
              "      <td>2</td>\n",
              "      <td>1</td>\n",
              "      <td>45.2</td>\n",
              "      <td>16.6</td>\n",
              "      <td>191.0</td>\n",
              "      <td>2</td>\n",
              "      <td>9.62357</td>\n",
              "      <td>-24.78984</td>\n",
              "    </tr>\n",
              "    <tr>\n",
              "      <th>4</th>\n",
              "      <td>3</td>\n",
              "      <td>1</td>\n",
              "      <td>2</td>\n",
              "      <td>37.9</td>\n",
              "      <td>18.6</td>\n",
              "      <td>172.0</td>\n",
              "      <td>2</td>\n",
              "      <td>8.38404</td>\n",
              "      <td>-25.19837</td>\n",
              "    </tr>\n",
              "  </tbody>\n",
              "</table>\n",
              "</div>\n",
              "      <button class=\"colab-df-convert\" onclick=\"convertToInteractive('df-6a3e5d92-7a70-4f63-86d5-659d15af8a01')\"\n",
              "              title=\"Convert this dataframe to an interactive table.\"\n",
              "              style=\"display:none;\">\n",
              "        \n",
              "  <svg xmlns=\"http://www.w3.org/2000/svg\" height=\"24px\"viewBox=\"0 0 24 24\"\n",
              "       width=\"24px\">\n",
              "    <path d=\"M0 0h24v24H0V0z\" fill=\"none\"/>\n",
              "    <path d=\"M18.56 5.44l.94 2.06.94-2.06 2.06-.94-2.06-.94-.94-2.06-.94 2.06-2.06.94zm-11 1L8.5 8.5l.94-2.06 2.06-.94-2.06-.94L8.5 2.5l-.94 2.06-2.06.94zm10 10l.94 2.06.94-2.06 2.06-.94-2.06-.94-.94-2.06-.94 2.06-2.06.94z\"/><path d=\"M17.41 7.96l-1.37-1.37c-.4-.4-.92-.59-1.43-.59-.52 0-1.04.2-1.43.59L10.3 9.45l-7.72 7.72c-.78.78-.78 2.05 0 2.83L4 21.41c.39.39.9.59 1.41.59.51 0 1.02-.2 1.41-.59l7.78-7.78 2.81-2.81c.8-.78.8-2.07 0-2.86zM5.41 20L4 18.59l7.72-7.72 1.47 1.35L5.41 20z\"/>\n",
              "  </svg>\n",
              "      </button>\n",
              "      \n",
              "  <style>\n",
              "    .colab-df-container {\n",
              "      display:flex;\n",
              "      flex-wrap:wrap;\n",
              "      gap: 12px;\n",
              "    }\n",
              "\n",
              "    .colab-df-convert {\n",
              "      background-color: #E8F0FE;\n",
              "      border: none;\n",
              "      border-radius: 50%;\n",
              "      cursor: pointer;\n",
              "      display: none;\n",
              "      fill: #1967D2;\n",
              "      height: 32px;\n",
              "      padding: 0 0 0 0;\n",
              "      width: 32px;\n",
              "    }\n",
              "\n",
              "    .colab-df-convert:hover {\n",
              "      background-color: #E2EBFA;\n",
              "      box-shadow: 0px 1px 2px rgba(60, 64, 67, 0.3), 0px 1px 3px 1px rgba(60, 64, 67, 0.15);\n",
              "      fill: #174EA6;\n",
              "    }\n",
              "\n",
              "    [theme=dark] .colab-df-convert {\n",
              "      background-color: #3B4455;\n",
              "      fill: #D2E3FC;\n",
              "    }\n",
              "\n",
              "    [theme=dark] .colab-df-convert:hover {\n",
              "      background-color: #434B5C;\n",
              "      box-shadow: 0px 1px 3px 1px rgba(0, 0, 0, 0.15);\n",
              "      filter: drop-shadow(0px 1px 2px rgba(0, 0, 0, 0.3));\n",
              "      fill: #FFFFFF;\n",
              "    }\n",
              "  </style>\n",
              "\n",
              "      <script>\n",
              "        const buttonEl =\n",
              "          document.querySelector('#df-6a3e5d92-7a70-4f63-86d5-659d15af8a01 button.colab-df-convert');\n",
              "        buttonEl.style.display =\n",
              "          google.colab.kernel.accessAllowed ? 'block' : 'none';\n",
              "\n",
              "        async function convertToInteractive(key) {\n",
              "          const element = document.querySelector('#df-6a3e5d92-7a70-4f63-86d5-659d15af8a01');\n",
              "          const dataTable =\n",
              "            await google.colab.kernel.invokeFunction('convertToInteractive',\n",
              "                                                     [key], {});\n",
              "          if (!dataTable) return;\n",
              "\n",
              "          const docLinkHtml = 'Like what you see? Visit the ' +\n",
              "            '<a target=\"_blank\" href=https://colab.research.google.com/notebooks/data_table.ipynb>data table notebook</a>'\n",
              "            + ' to learn more about interactive tables.';\n",
              "          element.innerHTML = '';\n",
              "          dataTable['output_type'] = 'display_data';\n",
              "          await google.colab.output.renderOutput(dataTable, element);\n",
              "          const docLink = document.createElement('div');\n",
              "          docLink.innerHTML = docLinkHtml;\n",
              "          element.appendChild(docLink);\n",
              "        }\n",
              "      </script>\n",
              "    </div>\n",
              "  </div>\n",
              "  "
            ]
          },
          "metadata": {},
          "execution_count": 31
        }
      ]
    },
    {
      "cell_type": "code",
      "source": [
        "labeled_test.shape"
      ],
      "metadata": {
        "colab": {
          "base_uri": "https://localhost:8080/"
        },
        "id": "zkG3YCUXkevQ",
        "outputId": "a547a0ed-ed54-4a86-8c85-b3cf63034249"
      },
      "execution_count": null,
      "outputs": [
        {
          "output_type": "execute_result",
          "data": {
            "text/plain": [
              "(228, 9)"
            ]
          },
          "metadata": {},
          "execution_count": 32
        }
      ]
    },
    {
      "cell_type": "markdown",
      "source": [
        "<br>"
      ],
      "metadata": {
        "id": "pAlLkHvLj2f1"
      }
    },
    {
      "cell_type": "markdown",
      "source": [
        "전처리가 모두 완료된 labeled_test 데이터로 예측해줍니다. "
      ],
      "metadata": {
        "id": "he73OeL9ub94"
      }
    },
    {
      "cell_type": "code",
      "source": [
        "predict_test = lr.predict(labeled_test)\n",
        "predict_test"
      ],
      "metadata": {
        "colab": {
          "base_uri": "https://localhost:8080/"
        },
        "id": "mNqjiWlAuPS7",
        "outputId": "eced0193-2dba-4dfe-a8d2-adca81dbdb2f"
      },
      "execution_count": null,
      "outputs": [
        {
          "output_type": "execute_result",
          "data": {
            "text/plain": [
              "array([4388.63197662, 5475.79462367, 3519.95427357, 3529.65881047,\n",
              "       3168.73489075, 4151.7061863 , 4709.47535294, 5332.62117815,\n",
              "       4808.73679767, 3822.14135129, 4270.31825273, 4649.76331742,\n",
              "       4827.78929771, 4728.50250703, 5128.98829118, 5315.05184702,\n",
              "       4119.37742331, 3999.53380314, 3439.79568154, 3408.58713604,\n",
              "       4232.6747602 , 5612.97113395, 5391.97579793, 4178.70875307,\n",
              "       3478.3635657 , 4684.17410447, 3497.78855565, 4728.33315314,\n",
              "       4179.98022798, 4713.97816505, 3438.14216593, 4848.47761732,\n",
              "       3530.23626165, 4928.63967993, 4046.63351267, 2938.83472508,\n",
              "       4466.55808909, 3605.05177154, 4088.98330906, 4621.29786807,\n",
              "       4055.93774865, 3741.62151475, 3968.15019808, 5442.4448009 ,\n",
              "       3529.36395883, 4677.36406967, 3896.03471005, 4260.49604344,\n",
              "       4752.9329019 , 5513.83299256, 3873.84818969, 4061.94921775,\n",
              "       3377.69641901, 4315.55213757, 4012.07999574, 3892.93294032,\n",
              "       4715.71906283, 4129.07109732, 4805.87002646, 3794.37340165,\n",
              "       4116.19725358, 3688.94850505, 4045.35843322, 5583.51643207,\n",
              "       3265.22060941, 4043.14566504, 4238.19938227, 4832.13509024,\n",
              "       3917.53962362, 4067.09550118, 4895.02101285, 3230.36767129,\n",
              "       3326.67641401, 3677.57172872, 5430.75250953, 5848.15626633,\n",
              "       3447.10692637, 4051.63286654, 5521.85918714, 4944.69187506,\n",
              "       3944.32437847, 4634.58106408, 4093.68448415, 4852.60046328,\n",
              "       5452.42027995, 4035.12623269, 5411.85000778, 3979.6581961 ,\n",
              "       3616.8351103 , 5282.70417148, 4614.45691406, 3373.00722238,\n",
              "       3616.17171648, 3623.61336673, 3306.9071925 , 3536.81131309,\n",
              "       3544.44761714, 3123.60489258, 5395.7669883 , 4197.08293889,\n",
              "       3150.05881858, 3494.66000311, 3393.40450613, 5457.36214292,\n",
              "       5557.02198069, 3490.98160428, 6274.66115985, 5346.1580162 ,\n",
              "       4291.36306755, 3523.06804277, 4612.63763053, 3378.17561004,\n",
              "       4329.32461411, 3912.50702266, 5461.07911799, 4056.895804  ,\n",
              "       3588.3727982 , 3658.44405405, 3753.76422494, 3785.22531795,\n",
              "       4000.27588269, 5186.39542008, 3555.46738395, 4337.04443239,\n",
              "       4219.36664134, 4045.11097024, 5330.36448305, 4220.7624881 ,\n",
              "       3542.97602483, 3715.95484375, 3869.11300749, 4112.13525839,\n",
              "       5330.61024857, 5388.26701942, 5277.93593345, 3905.65866867,\n",
              "       3548.57847486, 3350.97811168, 4857.7036002 , 3417.53926873,\n",
              "       3950.00465473, 4692.92923932, 3610.41470645, 3255.25521644,\n",
              "       4406.3978938 , 3561.76183584, 4613.30758446, 3632.03824942,\n",
              "       5422.02748313, 4162.47614856, 5434.58332354, 3340.18218746,\n",
              "       5418.89389083, 5439.82821466, 4104.51064728, 5627.41652601,\n",
              "       3519.52478245, 4243.54789002, 3613.22869248, 4024.19018864,\n",
              "       3900.65962192, 3583.20135148, 3251.30616759, 3047.87612151,\n",
              "       5347.61844126, 3531.04008311, 5445.94739347, 4654.30671771,\n",
              "       3828.61296113, 3793.44928746, 5586.77675251, 3506.89841598,\n",
              "       5438.77114748, 3452.55636066, 3224.35176442, 5019.31499239,\n",
              "       4375.40549213, 4702.14460676, 5343.43773976, 3285.41074987,\n",
              "       4004.45020642, 4253.14024875, 4012.75479764, 4519.64137695,\n",
              "       4586.61357172, 4388.97622781, 4729.77620594, 5359.09484237,\n",
              "       3351.76942037, 3274.02156726, 3980.83658571, 3724.07450095,\n",
              "       3927.79187296, 4071.56819708, 5001.37197571, 5383.34498455,\n",
              "       4061.59453088, 5404.01092564, 3635.96292899, 3564.9844273 ,\n",
              "       3833.64082657, 4729.75691171, 4560.29559014, 4728.0782772 ,\n",
              "       4170.11764203, 4601.27095843, 3608.48321741, 4218.59002218,\n",
              "       4722.98790975, 5446.25838055, 3561.42088544, 3285.73692507,\n",
              "       3056.93063917, 3524.09976622, 3666.35208802, 4664.63494692,\n",
              "       5513.57095511, 3714.55451819, 4313.8359406 , 3960.39655693,\n",
              "       3466.70411783, 3590.98893126, 4767.58139573, 4195.96498666,\n",
              "       4770.41871407, 4709.34982662, 4158.40199399, 4192.24409351])"
            ]
          },
          "metadata": {},
          "execution_count": 33
        }
      ]
    },
    {
      "cell_type": "markdown",
      "source": [
        "<br>"
      ],
      "metadata": {
        "id": "bdw7bgerk7wI"
      }
    },
    {
      "cell_type": "markdown",
      "source": [
        "이렇게 선형 회귀 기법으로 펭귄의 몸무게를 예측해봤습니다.\n",
        "\n",
        "평균 RMSE 값이 336.435로 매우 높게 나와 좋은 모델이라고 할 수는 없지만, 앞으로 배우게 될 내용을 적용한다면 더 좋은 모델로 수정할 수 있을 것입니다!"
      ],
      "metadata": {
        "id": "joljURr2Q0Wk"
      }
    },
    {
      "cell_type": "markdown",
      "source": [
        "<br><br>"
      ],
      "metadata": {
        "id": "qo8nukND0d5H"
      }
    },
    {
      "cell_type": "markdown",
      "source": [
        "## **2. 규제 선형 모델**"
      ],
      "metadata": {
        "id": "bgynHoxD__7K"
      }
    },
    {
      "cell_type": "markdown",
      "source": [
        "이전까지는 선형 모델은 실제값과 예측값의 차이를 최소화하는 것만 고려했습니다. 그러다 보니 학습 데이터에 지나치게 맞춰지게 되고, 회귀 계수가 쉽게 커져 예측 성능이 쉽게 저하되는 문제가 발생합니다. \n",
        "\n",
        "<br>\n",
        "\n",
        "이러한 문제를 해결하기 위해, 비용 함수에 alpha 값으로 페널티를 부여해 회귀 계수 값의 크기를 감소시켜 과적합을 개선하는 방식을 **규제(Regularization)**라고 합니다.\n",
        "\n",
        "<br>\n",
        "\n",
        "규제는 크게 L2방식과 L1방식으로 구분됩니다. \n",
        "\n",
        "L2 규제를 적용한 회귀를 **릿지(Ridge)** 회귀, <br>\n",
        "L1 규제를 적용한 회귀를 **라쏘(Lasso)** 회귀, <br>\n",
        "L2 규제와 L1 규제를 결합한 회귀를 **엘라스틱넷(Elastic net)** 회귀라고 합니다."
      ],
      "metadata": {
        "id": "ajAIW4JYv8dU"
      }
    },
    {
      "cell_type": "markdown",
      "source": [
        "<br>"
      ],
      "metadata": {
        "id": "CIpQnZgwzj8D"
      }
    },
    {
      "cell_type": "markdown",
      "source": [
        "### **1) 릿지 회귀 (Ridge)**"
      ],
      "metadata": {
        "id": "GHU_shpdAGL9"
      }
    },
    {
      "cell_type": "markdown",
      "source": [
        "W의 제곱에 대해 페널티를 부여하는 L2 규제를 선형 회귀에 적용한 것이 **릿지(Ridge)** 회귀입니다.\n",
        "\n",
        "사이킷런은 **Ridge** 클래스를 통해 릿지 회귀를 구현하고, Ridge 클래스의 주요 생성 파라미터 alpha는 릿지 회귀의 alpha L2 규제 계수에 해당합니다. \n",
        "\n",
        "alpha 값을 증가시키면 회귀 계수가 0에 가까워집니다."
      ],
      "metadata": {
        "id": "bSNDq82IzlR2"
      }
    },
    {
      "cell_type": "markdown",
      "source": [
        "<br>"
      ],
      "metadata": {
        "id": "9N_8dCtW1SVa"
      }
    },
    {
      "cell_type": "markdown",
      "source": [
        "펭귄 몸무게 예측 예제를 Ridge 클래스를 이용해 다시 예측해보고, 예측 성능을 cross_val_score()로 평가해보겠습니다."
      ],
      "metadata": {
        "id": "ecfcgpei0fdW"
      }
    },
    {
      "cell_type": "code",
      "source": [
        "from sklearn.linear_model import Ridge\n",
        "from sklearn.model_selection import cross_val_score\n",
        "\n",
        "# alpha=10\n",
        "ridge = Ridge(alpha=10)\n",
        "neg_mse_scores = cross_val_score(ridge, feature, target, scoring=\"neg_mean_squared_error\", cv=5)\n",
        "rmse_scores = np.sqrt(-1 * neg_mse_scores)\n",
        "avg_rmse = np.mean(rmse_scores)"
      ],
      "metadata": {
        "id": "ZxoTst5p0WuA"
      },
      "execution_count": null,
      "outputs": []
    },
    {
      "cell_type": "code",
      "source": [
        "print(' 5 folds 의 개별 Negative MSE scores: ', np.round(neg_mse_scores, 3))\n",
        "print(' 5 folds 의 개별 RMSE scores : ', np.round(rmse_scores, 3))\n",
        "print(' 5 folds 의 평균 RMSE : {0:.3f} '.format(avg_rmse))"
      ],
      "metadata": {
        "colab": {
          "base_uri": "https://localhost:8080/"
        },
        "id": "kWDRdPUA3L9m",
        "outputId": "4856eb14-721c-4582-8cd1-07fe8e0afb94"
      },
      "execution_count": null,
      "outputs": [
        {
          "output_type": "stream",
          "name": "stdout",
          "text": [
            " 5 folds 의 개별 Negative MSE scores:  [ -79001.629 -122951.296 -200218.     -63408.547 -148638.895]\n",
            " 5 folds 의 개별 RMSE scores :  [281.072 350.644 447.457 251.811 385.537]\n",
            " 5 folds 의 평균 RMSE : 343.304 \n"
          ]
        }
      ]
    },
    {
      "cell_type": "markdown",
      "source": [
        "- **Ridge(alpha=10)**\n",
        "\n",
        "  Ridge 클래스의 alpha 값을 10으로 지정해 릿지 회귀를 구현합니다.\n",
        "\n",
        "- **cross_val_score(ridge, feature, target, scoring=\"neg_mean_squared_error\", cv=5)**\n",
        "\n",
        "  scoring은 예측 성능 평가 지표입니다. \"neg_mean_squared_error\"는 MSE에 음수를 취한 값입니다.\n",
        "\n",
        "  cv는 교차 검증 폴드 수를 결정합니다.\n",
        "\n",
        "- **np.sqrt(-1 * neg_mse_scores)**\n",
        "\n",
        "  RMSE를 구하기 위해서 음수 값인 neg_mse_scores에 -1을 곱해주고 제곱근을 취해줍니다."
      ],
      "metadata": {
        "id": "-w-Z7GaI1YZ_"
      }
    },
    {
      "cell_type": "markdown",
      "source": [
        "<br>"
      ],
      "metadata": {
        "id": "HlfFmX9f0u81"
      }
    },
    {
      "cell_type": "markdown",
      "source": [
        "\n",
        "alpha 값의 변화에 따른 RMSE와 릿지 회귀 계수 값의 변화를 살펴보겠습니다."
      ],
      "metadata": {
        "id": "OkUWDCPu4Rwh"
      }
    },
    {
      "cell_type": "code",
      "source": [
        "# alpha 값의 변화에 따른 평균 RMSE의 변화\n",
        "\n",
        "ridge_alphas = [0, 0.1, 1, 10, 100]\n",
        "\n",
        "print('####### Ridge #######\\n')\n",
        "\n",
        "for alpha in ridge_alphas :\n",
        "    ridge = Ridge(alpha = alpha)\n",
        "\n",
        "    neg_mse_scores = cross_val_score(ridge, feature, target, scoring=\"neg_mean_squared_error\", cv = 5)\n",
        "    avg_rmse = np.mean(np.sqrt(-1 * neg_mse_scores))\n",
        "    print('alpha {0} 일 때 5 folds 의 평균 RMSE : {1:.3f} '.format(alpha, avg_rmse))"
      ],
      "metadata": {
        "colab": {
          "base_uri": "https://localhost:8080/"
        },
        "id": "05rU0rJGGsN6",
        "outputId": "bec5e080-a19d-4fcd-9636-08c6c28625cb"
      },
      "execution_count": null,
      "outputs": [
        {
          "output_type": "stream",
          "name": "stdout",
          "text": [
            "####### Ridge #######\n",
            "\n",
            "alpha 0 일 때 5 folds 의 평균 RMSE : 336.435 \n",
            "alpha 0.1 일 때 5 folds 의 평균 RMSE : 336.058 \n",
            "alpha 1 일 때 5 folds 의 평균 RMSE : 334.030 \n",
            "alpha 10 일 때 5 folds 의 평균 RMSE : 343.304 \n",
            "alpha 100 일 때 5 folds 의 평균 RMSE : 380.382 \n"
          ]
        }
      ]
    },
    {
      "cell_type": "markdown",
      "source": [
        "<br>"
      ],
      "metadata": {
        "id": "9uTZ62Y0t0f5"
      }
    },
    {
      "cell_type": "code",
      "source": [
        "# alpha 값의 변화에 따른 회귀 계수의 변화\n",
        "\n",
        "coeff_df = pd.DataFrame()\n",
        "\n",
        "for pos, alpha in enumerate(ridge_alphas) :\n",
        "    ridge = Ridge(alpha = alpha)\n",
        "    ridge.fit(feature, target)\n",
        " \n",
        "    coeff = pd.Series(data=ridge.coef_, index=feature.columns)\n",
        "    colname = 'alpha:'+str(alpha)\n",
        "    coeff_df[colname] = coeff\n",
        "\n",
        "ridge_alphas = [0,  0.1, 1, 10, 100]\n",
        "sort_column = 'alpha:'+str(ridge_alphas[0])\n",
        "coeff_df.sort_values(by=sort_column, ascending=False)"
      ],
      "metadata": {
        "colab": {
          "base_uri": "https://localhost:8080/",
          "height": 332
        },
        "id": "BGRNJ3DpDKem",
        "outputId": "7fb09fc5-11e9-41b4-fa5f-2be37dd33e73"
      },
      "execution_count": null,
      "outputs": [
        {
          "output_type": "execute_result",
          "data": {
            "text/plain": [
              "                        alpha:0   alpha:0.1     alpha:1    alpha:10  alpha:100\n",
              "Flipper Length (mm)   21.623332   21.855423   23.741002   33.552173  45.765131\n",
              "Culmen Length (mm)    -2.214608   -2.004133   -0.449875    2.960192  -2.087745\n",
              "Culmen Depth (mm)     -3.400970   -3.416346   -3.318055    2.058305   8.750774\n",
              "Clutch Completion    -47.282738  -46.476422  -40.371939  -19.239780  -4.136799\n",
              "Delta 13 C (o/oo)    -50.412840  -50.191168  -48.211800  -31.951518   5.234197\n",
              "Island              -153.072266 -152.899564 -150.692937 -116.225366 -29.276721\n",
              "Species             -207.312277 -203.091492 -170.627486  -53.533299  -1.186027\n",
              "Delta 15 N (o/oo)   -223.680146 -223.057735 -217.443598 -169.586261 -54.187006\n",
              "Sex                 -553.031504 -548.377626 -510.443787 -313.307189 -71.173689"
            ],
            "text/html": [
              "\n",
              "  <div id=\"df-46cba0a3-3917-4ddf-859f-f4bdf2ac058b\">\n",
              "    <div class=\"colab-df-container\">\n",
              "      <div>\n",
              "<style scoped>\n",
              "    .dataframe tbody tr th:only-of-type {\n",
              "        vertical-align: middle;\n",
              "    }\n",
              "\n",
              "    .dataframe tbody tr th {\n",
              "        vertical-align: top;\n",
              "    }\n",
              "\n",
              "    .dataframe thead th {\n",
              "        text-align: right;\n",
              "    }\n",
              "</style>\n",
              "<table border=\"1\" class=\"dataframe\">\n",
              "  <thead>\n",
              "    <tr style=\"text-align: right;\">\n",
              "      <th></th>\n",
              "      <th>alpha:0</th>\n",
              "      <th>alpha:0.1</th>\n",
              "      <th>alpha:1</th>\n",
              "      <th>alpha:10</th>\n",
              "      <th>alpha:100</th>\n",
              "    </tr>\n",
              "  </thead>\n",
              "  <tbody>\n",
              "    <tr>\n",
              "      <th>Flipper Length (mm)</th>\n",
              "      <td>21.623332</td>\n",
              "      <td>21.855423</td>\n",
              "      <td>23.741002</td>\n",
              "      <td>33.552173</td>\n",
              "      <td>45.765131</td>\n",
              "    </tr>\n",
              "    <tr>\n",
              "      <th>Culmen Length (mm)</th>\n",
              "      <td>-2.214608</td>\n",
              "      <td>-2.004133</td>\n",
              "      <td>-0.449875</td>\n",
              "      <td>2.960192</td>\n",
              "      <td>-2.087745</td>\n",
              "    </tr>\n",
              "    <tr>\n",
              "      <th>Culmen Depth (mm)</th>\n",
              "      <td>-3.400970</td>\n",
              "      <td>-3.416346</td>\n",
              "      <td>-3.318055</td>\n",
              "      <td>2.058305</td>\n",
              "      <td>8.750774</td>\n",
              "    </tr>\n",
              "    <tr>\n",
              "      <th>Clutch Completion</th>\n",
              "      <td>-47.282738</td>\n",
              "      <td>-46.476422</td>\n",
              "      <td>-40.371939</td>\n",
              "      <td>-19.239780</td>\n",
              "      <td>-4.136799</td>\n",
              "    </tr>\n",
              "    <tr>\n",
              "      <th>Delta 13 C (o/oo)</th>\n",
              "      <td>-50.412840</td>\n",
              "      <td>-50.191168</td>\n",
              "      <td>-48.211800</td>\n",
              "      <td>-31.951518</td>\n",
              "      <td>5.234197</td>\n",
              "    </tr>\n",
              "    <tr>\n",
              "      <th>Island</th>\n",
              "      <td>-153.072266</td>\n",
              "      <td>-152.899564</td>\n",
              "      <td>-150.692937</td>\n",
              "      <td>-116.225366</td>\n",
              "      <td>-29.276721</td>\n",
              "    </tr>\n",
              "    <tr>\n",
              "      <th>Species</th>\n",
              "      <td>-207.312277</td>\n",
              "      <td>-203.091492</td>\n",
              "      <td>-170.627486</td>\n",
              "      <td>-53.533299</td>\n",
              "      <td>-1.186027</td>\n",
              "    </tr>\n",
              "    <tr>\n",
              "      <th>Delta 15 N (o/oo)</th>\n",
              "      <td>-223.680146</td>\n",
              "      <td>-223.057735</td>\n",
              "      <td>-217.443598</td>\n",
              "      <td>-169.586261</td>\n",
              "      <td>-54.187006</td>\n",
              "    </tr>\n",
              "    <tr>\n",
              "      <th>Sex</th>\n",
              "      <td>-553.031504</td>\n",
              "      <td>-548.377626</td>\n",
              "      <td>-510.443787</td>\n",
              "      <td>-313.307189</td>\n",
              "      <td>-71.173689</td>\n",
              "    </tr>\n",
              "  </tbody>\n",
              "</table>\n",
              "</div>\n",
              "      <button class=\"colab-df-convert\" onclick=\"convertToInteractive('df-46cba0a3-3917-4ddf-859f-f4bdf2ac058b')\"\n",
              "              title=\"Convert this dataframe to an interactive table.\"\n",
              "              style=\"display:none;\">\n",
              "        \n",
              "  <svg xmlns=\"http://www.w3.org/2000/svg\" height=\"24px\"viewBox=\"0 0 24 24\"\n",
              "       width=\"24px\">\n",
              "    <path d=\"M0 0h24v24H0V0z\" fill=\"none\"/>\n",
              "    <path d=\"M18.56 5.44l.94 2.06.94-2.06 2.06-.94-2.06-.94-.94-2.06-.94 2.06-2.06.94zm-11 1L8.5 8.5l.94-2.06 2.06-.94-2.06-.94L8.5 2.5l-.94 2.06-2.06.94zm10 10l.94 2.06.94-2.06 2.06-.94-2.06-.94-.94-2.06-.94 2.06-2.06.94z\"/><path d=\"M17.41 7.96l-1.37-1.37c-.4-.4-.92-.59-1.43-.59-.52 0-1.04.2-1.43.59L10.3 9.45l-7.72 7.72c-.78.78-.78 2.05 0 2.83L4 21.41c.39.39.9.59 1.41.59.51 0 1.02-.2 1.41-.59l7.78-7.78 2.81-2.81c.8-.78.8-2.07 0-2.86zM5.41 20L4 18.59l7.72-7.72 1.47 1.35L5.41 20z\"/>\n",
              "  </svg>\n",
              "      </button>\n",
              "      \n",
              "  <style>\n",
              "    .colab-df-container {\n",
              "      display:flex;\n",
              "      flex-wrap:wrap;\n",
              "      gap: 12px;\n",
              "    }\n",
              "\n",
              "    .colab-df-convert {\n",
              "      background-color: #E8F0FE;\n",
              "      border: none;\n",
              "      border-radius: 50%;\n",
              "      cursor: pointer;\n",
              "      display: none;\n",
              "      fill: #1967D2;\n",
              "      height: 32px;\n",
              "      padding: 0 0 0 0;\n",
              "      width: 32px;\n",
              "    }\n",
              "\n",
              "    .colab-df-convert:hover {\n",
              "      background-color: #E2EBFA;\n",
              "      box-shadow: 0px 1px 2px rgba(60, 64, 67, 0.3), 0px 1px 3px 1px rgba(60, 64, 67, 0.15);\n",
              "      fill: #174EA6;\n",
              "    }\n",
              "\n",
              "    [theme=dark] .colab-df-convert {\n",
              "      background-color: #3B4455;\n",
              "      fill: #D2E3FC;\n",
              "    }\n",
              "\n",
              "    [theme=dark] .colab-df-convert:hover {\n",
              "      background-color: #434B5C;\n",
              "      box-shadow: 0px 1px 3px 1px rgba(0, 0, 0, 0.15);\n",
              "      filter: drop-shadow(0px 1px 2px rgba(0, 0, 0, 0.3));\n",
              "      fill: #FFFFFF;\n",
              "    }\n",
              "  </style>\n",
              "\n",
              "      <script>\n",
              "        const buttonEl =\n",
              "          document.querySelector('#df-46cba0a3-3917-4ddf-859f-f4bdf2ac058b button.colab-df-convert');\n",
              "        buttonEl.style.display =\n",
              "          google.colab.kernel.accessAllowed ? 'block' : 'none';\n",
              "\n",
              "        async function convertToInteractive(key) {\n",
              "          const element = document.querySelector('#df-46cba0a3-3917-4ddf-859f-f4bdf2ac058b');\n",
              "          const dataTable =\n",
              "            await google.colab.kernel.invokeFunction('convertToInteractive',\n",
              "                                                     [key], {});\n",
              "          if (!dataTable) return;\n",
              "\n",
              "          const docLinkHtml = 'Like what you see? Visit the ' +\n",
              "            '<a target=\"_blank\" href=https://colab.research.google.com/notebooks/data_table.ipynb>data table notebook</a>'\n",
              "            + ' to learn more about interactive tables.';\n",
              "          element.innerHTML = '';\n",
              "          dataTable['output_type'] = 'display_data';\n",
              "          await google.colab.output.renderOutput(dataTable, element);\n",
              "          const docLink = document.createElement('div');\n",
              "          docLink.innerHTML = docLinkHtml;\n",
              "          element.appendChild(docLink);\n",
              "        }\n",
              "      </script>\n",
              "    </div>\n",
              "  </div>\n",
              "  "
            ]
          },
          "metadata": {},
          "execution_count": 37
        }
      ]
    },
    {
      "cell_type": "markdown",
      "source": [
        "- **enumerate(ridge_alphas)**\n",
        "\n",
        "  인덱스와 원소를 동시에 리턴합니다.\n",
        "\n",
        "- **coeff_df.sort_values(by=sort_column, ascending=False)**\n",
        "\n",
        "  alpha:0 컬럼의 값을 기준으로 내림차순 정렬했습니다.\n",
        "\n"
      ],
      "metadata": {
        "id": "eqXTjIy7gGBz"
      }
    },
    {
      "cell_type": "markdown",
      "source": [
        "<br>"
      ],
      "metadata": {
        "id": "jIPnISOTiOaR"
      }
    },
    {
      "cell_type": "markdown",
      "source": [
        "alpha 값이 0, 0.1, 1, 10, 100으로 변화함에 따라 평균 RMSE의 값과 회귀 계수가 어떻게 변화하는지 살펴보았습니다.\n",
        "\n",
        "alpha가 1일 때 334.030으로 가장 좋은 평균 RMSE를 보여주며,\n",
        "규제가 없는 LinearRegression의 평균 RMSE인 336.435보다 더 뛰어난 예측 성능을 보여줍니다.\n",
        "\n",
        "alpha 값을 계속 증가시킬수록 회귀 계수 값은 0에 가까워짐을 확인할 수 있습니다.\n",
        "\n",
        "하지만 릿지 회귀의 경우, 회귀 계수를 0으로 만들지는 않습니다."
      ],
      "metadata": {
        "id": "ByQ4J-b7HP0D"
      }
    },
    {
      "cell_type": "markdown",
      "source": [
        "<br>"
      ],
      "metadata": {
        "id": "qHBA0_xeIssZ"
      }
    },
    {
      "cell_type": "markdown",
      "source": [
        "### **2) 라쏘 회귀 (Lasso)**"
      ],
      "metadata": {
        "id": "UitJcdG7AKTG"
      }
    },
    {
      "cell_type": "markdown",
      "source": [
        "W의 절댓값에 페널티를 부여하는 L1 규제를 선형 회귀에 적용한 것이 **라쏘(Lasso)** 회귀입니다.\n",
        "\n",
        "L1 규제는 불필요한 회귀 계수를 급격하게 감소시켜 0으로 만들고 제거합니다. 이러한 점에서 L1 규제는 적절한 피처만 회귀에 포함시키는 피처 선택의 특성을 가지고 있습니다. \n",
        "\n",
        "사이킷런은 **Lasso** 클래스를 통해 라쏘 회귀를 구현했습니다. Lasso 클래스의 주요 생성 파라미터 alpha는 라쏘 회귀의 alpha L1 규제 계수에 해당합니다."
      ],
      "metadata": {
        "id": "kJDzNfZvIuYx"
      }
    },
    {
      "cell_type": "markdown",
      "source": [
        "<br>"
      ],
      "metadata": {
        "id": "hs-peLkGoq3Z"
      }
    },
    {
      "cell_type": "markdown",
      "source": [
        "펭귄 몸무게 예측 예제를 Lasso 클래스를 이용해 다시 예측해보고, \n",
        "alpha 값의 변화에 따른 RMSE와 라쏘 회귀 계수 값의 변화를 살펴보겠습니다."
      ],
      "metadata": {
        "id": "CXEEEsrAoQVx"
      }
    },
    {
      "cell_type": "code",
      "source": [
        "# alpha 값의 변화에 따른 평균 RMSE의 변화\n",
        "\n",
        "from sklearn.linear_model import Lasso\n",
        "from sklearn.model_selection import cross_val_score\n",
        "\n",
        "print('####### Lasso #######\\n')\n",
        "\n",
        "lasso_alphas = [0.07, 0.1, 0.5, 1, 3]\n",
        "\n",
        "for alpha in lasso_alphas :\n",
        "    lasso = Lasso(alpha = alpha)\n",
        "\n",
        "    neg_mse_scores = cross_val_score(lasso, feature, target, scoring=\"neg_mean_squared_error\", cv = 5)\n",
        "    avg_rmse = np.mean(np.sqrt(-1 * neg_mse_scores))\n",
        "    print('alpha {0} 일 때 5 folds 의 평균 RMSE : {1:.3f} '.format(alpha, avg_rmse))"
      ],
      "metadata": {
        "colab": {
          "base_uri": "https://localhost:8080/"
        },
        "outputId": "6a30eda2-c010-4f86-9530-2a4c464ec7ad",
        "id": "MwNWUqyDduR8"
      },
      "execution_count": null,
      "outputs": [
        {
          "output_type": "stream",
          "name": "stdout",
          "text": [
            "####### Lasso #######\n",
            "\n",
            "alpha 0.07 일 때 5 folds 의 평균 RMSE : 336.335 \n",
            "alpha 0.1 일 때 5 folds 의 평균 RMSE : 336.292 \n",
            "alpha 0.5 일 때 5 folds 의 평균 RMSE : 335.737 \n",
            "alpha 1 일 때 5 folds 의 평균 RMSE : 335.092 \n",
            "alpha 3 일 때 5 folds 의 평균 RMSE : 332.923 \n"
          ]
        }
      ]
    },
    {
      "cell_type": "markdown",
      "source": [
        "<br>"
      ],
      "metadata": {
        "id": "Zvg25EgGtyjE"
      }
    },
    {
      "cell_type": "code",
      "source": [
        "# alpha 값의 변화에 따른 회귀 계수의 변화\n",
        "\n",
        "coeff_df = pd.DataFrame()\n",
        "lasso_alphas = [0.07, 0.1, 0.5, 1, 3]\n",
        "\n",
        "for pos, alpha in enumerate(lasso_alphas) :\n",
        "    lasso = Lasso(alpha = alpha)\n",
        "    lasso.fit(feature, target)\n",
        " \n",
        "    coeff = pd.Series(data=lasso.coef_, index=feature.columns)\n",
        "    colname = 'alpha:'+str(alpha)\n",
        "    coeff_df[colname] = coeff\n",
        "\n",
        "sort_column = 'alpha:'+str(lasso_alphas[0])\n",
        "coeff_df.sort_values(by=sort_column, ascending=False)"
      ],
      "metadata": {
        "colab": {
          "base_uri": "https://localhost:8080/",
          "height": 332
        },
        "outputId": "71ef2de2-a97d-4d0d-89c6-e70e29398877",
        "id": "Jbs7K3ICf1eD"
      },
      "execution_count": null,
      "outputs": [
        {
          "output_type": "execute_result",
          "data": {
            "text/plain": [
              "                     alpha:0.07   alpha:0.1   alpha:0.5     alpha:1  \\\n",
              "Flipper Length (mm)   21.687330   21.714773   22.080431   22.536345   \n",
              "Culmen Length (mm)    -2.178699   -2.163249   -1.954906   -1.690305   \n",
              "Culmen Depth (mm)     -3.513451   -3.561635   -4.203873   -5.005738   \n",
              "Clutch Completion    -46.433493  -46.069377  -41.211136  -35.134500   \n",
              "Delta 13 C (o/oo)    -50.325479  -50.288148  -49.794829  -49.186711   \n",
              "Island              -152.872766 -152.787265 -151.649399 -150.233161   \n",
              "Species             -206.176254 -205.688735 -199.174336 -191.017523   \n",
              "Delta 15 N (o/oo)   -223.403225 -223.284866 -221.719717 -219.788274   \n",
              "Sex                 -552.183289 -551.819425 -546.962061 -540.885352   \n",
              "\n",
              "                        alpha:3  \n",
              "Flipper Length (mm)   24.351787  \n",
              "Culmen Length (mm)    -0.610893  \n",
              "Culmen Depth (mm)     -8.205612  \n",
              "Clutch Completion    -10.815259  \n",
              "Delta 13 C (o/oo)    -46.799919  \n",
              "Island              -144.606550  \n",
              "Species             -158.358386  \n",
              "Delta 15 N (o/oo)   -212.196283  \n",
              "Sex                 -516.569571  "
            ],
            "text/html": [
              "\n",
              "  <div id=\"df-93eeb993-c4c4-4547-808c-508a73fb4b1a\">\n",
              "    <div class=\"colab-df-container\">\n",
              "      <div>\n",
              "<style scoped>\n",
              "    .dataframe tbody tr th:only-of-type {\n",
              "        vertical-align: middle;\n",
              "    }\n",
              "\n",
              "    .dataframe tbody tr th {\n",
              "        vertical-align: top;\n",
              "    }\n",
              "\n",
              "    .dataframe thead th {\n",
              "        text-align: right;\n",
              "    }\n",
              "</style>\n",
              "<table border=\"1\" class=\"dataframe\">\n",
              "  <thead>\n",
              "    <tr style=\"text-align: right;\">\n",
              "      <th></th>\n",
              "      <th>alpha:0.07</th>\n",
              "      <th>alpha:0.1</th>\n",
              "      <th>alpha:0.5</th>\n",
              "      <th>alpha:1</th>\n",
              "      <th>alpha:3</th>\n",
              "    </tr>\n",
              "  </thead>\n",
              "  <tbody>\n",
              "    <tr>\n",
              "      <th>Flipper Length (mm)</th>\n",
              "      <td>21.687330</td>\n",
              "      <td>21.714773</td>\n",
              "      <td>22.080431</td>\n",
              "      <td>22.536345</td>\n",
              "      <td>24.351787</td>\n",
              "    </tr>\n",
              "    <tr>\n",
              "      <th>Culmen Length (mm)</th>\n",
              "      <td>-2.178699</td>\n",
              "      <td>-2.163249</td>\n",
              "      <td>-1.954906</td>\n",
              "      <td>-1.690305</td>\n",
              "      <td>-0.610893</td>\n",
              "    </tr>\n",
              "    <tr>\n",
              "      <th>Culmen Depth (mm)</th>\n",
              "      <td>-3.513451</td>\n",
              "      <td>-3.561635</td>\n",
              "      <td>-4.203873</td>\n",
              "      <td>-5.005738</td>\n",
              "      <td>-8.205612</td>\n",
              "    </tr>\n",
              "    <tr>\n",
              "      <th>Clutch Completion</th>\n",
              "      <td>-46.433493</td>\n",
              "      <td>-46.069377</td>\n",
              "      <td>-41.211136</td>\n",
              "      <td>-35.134500</td>\n",
              "      <td>-10.815259</td>\n",
              "    </tr>\n",
              "    <tr>\n",
              "      <th>Delta 13 C (o/oo)</th>\n",
              "      <td>-50.325479</td>\n",
              "      <td>-50.288148</td>\n",
              "      <td>-49.794829</td>\n",
              "      <td>-49.186711</td>\n",
              "      <td>-46.799919</td>\n",
              "    </tr>\n",
              "    <tr>\n",
              "      <th>Island</th>\n",
              "      <td>-152.872766</td>\n",
              "      <td>-152.787265</td>\n",
              "      <td>-151.649399</td>\n",
              "      <td>-150.233161</td>\n",
              "      <td>-144.606550</td>\n",
              "    </tr>\n",
              "    <tr>\n",
              "      <th>Species</th>\n",
              "      <td>-206.176254</td>\n",
              "      <td>-205.688735</td>\n",
              "      <td>-199.174336</td>\n",
              "      <td>-191.017523</td>\n",
              "      <td>-158.358386</td>\n",
              "    </tr>\n",
              "    <tr>\n",
              "      <th>Delta 15 N (o/oo)</th>\n",
              "      <td>-223.403225</td>\n",
              "      <td>-223.284866</td>\n",
              "      <td>-221.719717</td>\n",
              "      <td>-219.788274</td>\n",
              "      <td>-212.196283</td>\n",
              "    </tr>\n",
              "    <tr>\n",
              "      <th>Sex</th>\n",
              "      <td>-552.183289</td>\n",
              "      <td>-551.819425</td>\n",
              "      <td>-546.962061</td>\n",
              "      <td>-540.885352</td>\n",
              "      <td>-516.569571</td>\n",
              "    </tr>\n",
              "  </tbody>\n",
              "</table>\n",
              "</div>\n",
              "      <button class=\"colab-df-convert\" onclick=\"convertToInteractive('df-93eeb993-c4c4-4547-808c-508a73fb4b1a')\"\n",
              "              title=\"Convert this dataframe to an interactive table.\"\n",
              "              style=\"display:none;\">\n",
              "        \n",
              "  <svg xmlns=\"http://www.w3.org/2000/svg\" height=\"24px\"viewBox=\"0 0 24 24\"\n",
              "       width=\"24px\">\n",
              "    <path d=\"M0 0h24v24H0V0z\" fill=\"none\"/>\n",
              "    <path d=\"M18.56 5.44l.94 2.06.94-2.06 2.06-.94-2.06-.94-.94-2.06-.94 2.06-2.06.94zm-11 1L8.5 8.5l.94-2.06 2.06-.94-2.06-.94L8.5 2.5l-.94 2.06-2.06.94zm10 10l.94 2.06.94-2.06 2.06-.94-2.06-.94-.94-2.06-.94 2.06-2.06.94z\"/><path d=\"M17.41 7.96l-1.37-1.37c-.4-.4-.92-.59-1.43-.59-.52 0-1.04.2-1.43.59L10.3 9.45l-7.72 7.72c-.78.78-.78 2.05 0 2.83L4 21.41c.39.39.9.59 1.41.59.51 0 1.02-.2 1.41-.59l7.78-7.78 2.81-2.81c.8-.78.8-2.07 0-2.86zM5.41 20L4 18.59l7.72-7.72 1.47 1.35L5.41 20z\"/>\n",
              "  </svg>\n",
              "      </button>\n",
              "      \n",
              "  <style>\n",
              "    .colab-df-container {\n",
              "      display:flex;\n",
              "      flex-wrap:wrap;\n",
              "      gap: 12px;\n",
              "    }\n",
              "\n",
              "    .colab-df-convert {\n",
              "      background-color: #E8F0FE;\n",
              "      border: none;\n",
              "      border-radius: 50%;\n",
              "      cursor: pointer;\n",
              "      display: none;\n",
              "      fill: #1967D2;\n",
              "      height: 32px;\n",
              "      padding: 0 0 0 0;\n",
              "      width: 32px;\n",
              "    }\n",
              "\n",
              "    .colab-df-convert:hover {\n",
              "      background-color: #E2EBFA;\n",
              "      box-shadow: 0px 1px 2px rgba(60, 64, 67, 0.3), 0px 1px 3px 1px rgba(60, 64, 67, 0.15);\n",
              "      fill: #174EA6;\n",
              "    }\n",
              "\n",
              "    [theme=dark] .colab-df-convert {\n",
              "      background-color: #3B4455;\n",
              "      fill: #D2E3FC;\n",
              "    }\n",
              "\n",
              "    [theme=dark] .colab-df-convert:hover {\n",
              "      background-color: #434B5C;\n",
              "      box-shadow: 0px 1px 3px 1px rgba(0, 0, 0, 0.15);\n",
              "      filter: drop-shadow(0px 1px 2px rgba(0, 0, 0, 0.3));\n",
              "      fill: #FFFFFF;\n",
              "    }\n",
              "  </style>\n",
              "\n",
              "      <script>\n",
              "        const buttonEl =\n",
              "          document.querySelector('#df-93eeb993-c4c4-4547-808c-508a73fb4b1a button.colab-df-convert');\n",
              "        buttonEl.style.display =\n",
              "          google.colab.kernel.accessAllowed ? 'block' : 'none';\n",
              "\n",
              "        async function convertToInteractive(key) {\n",
              "          const element = document.querySelector('#df-93eeb993-c4c4-4547-808c-508a73fb4b1a');\n",
              "          const dataTable =\n",
              "            await google.colab.kernel.invokeFunction('convertToInteractive',\n",
              "                                                     [key], {});\n",
              "          if (!dataTable) return;\n",
              "\n",
              "          const docLinkHtml = 'Like what you see? Visit the ' +\n",
              "            '<a target=\"_blank\" href=https://colab.research.google.com/notebooks/data_table.ipynb>data table notebook</a>'\n",
              "            + ' to learn more about interactive tables.';\n",
              "          element.innerHTML = '';\n",
              "          dataTable['output_type'] = 'display_data';\n",
              "          await google.colab.output.renderOutput(dataTable, element);\n",
              "          const docLink = document.createElement('div');\n",
              "          docLink.innerHTML = docLinkHtml;\n",
              "          element.appendChild(docLink);\n",
              "        }\n",
              "      </script>\n",
              "    </div>\n",
              "  </div>\n",
              "  "
            ]
          },
          "metadata": {},
          "execution_count": 39
        }
      ]
    },
    {
      "cell_type": "markdown",
      "source": [
        "<br>"
      ],
      "metadata": {
        "id": "8uGlUFs4iYpO"
      }
    },
    {
      "cell_type": "markdown",
      "source": [
        "alpha 값이 0.07, 0.1, 0.5, 1, 3으로 변화함에 따라 평균 RMSE의 값과 회귀 계수가 어떻게 변화하는지 살펴보았습니다.\n",
        "\n",
        "alpha가 3일 때 332.923으로 가장 좋은 평균 RMSE를 보여주며,\n",
        "앞의 릿지 회귀의 평균 RMSE 334.030보다 더 좋은 수치입니다.\n",
        "\n",
        "현재 출력값에는 잘 나타나지 않았지만, 라쏘 회귀의 특성상 불필요한 회귀 계수를 0으로 만들기 때문에 회귀 계수가 0인 경우가 종종 나타납니다."
      ],
      "metadata": {
        "id": "XBHKMRrNfPnA"
      }
    },
    {
      "cell_type": "markdown",
      "source": [
        "<br>"
      ],
      "metadata": {
        "id": "TlLun4wqiHty"
      }
    },
    {
      "cell_type": "markdown",
      "source": [
        "### **3) 엘라스틱넷 회귀 (Elastic Net)**\n"
      ],
      "metadata": {
        "id": "Yp2GeM-qAOn-"
      }
    },
    {
      "cell_type": "markdown",
      "source": [
        "**엘라스틱넷(Elastic Net)** 회귀는 L2 규제와 L1 규제를 결합한 회귀입니다.\n",
        "\n",
        "라쏘 회귀는 서로 상관관계가 높은 피처들의 경우 중요 피처만을 선택하고 다른 피처들의 회귀 계수는 모두 0으로 만드는 성향이 강합니다. 하지만 이러한 성향으로 alpha 값에 따라 회귀 계수의 값이 급격히 변동할 수도 있는데, 이를 완화하기 위해 L2 규제가 추가되었습니다.\n",
        "\n",
        "하지만 엘라스틱넷의 규제는 L1 규제와 L2 규제가 결합된 규제이기 때문에 수행시간이 상대적으로 오래 걸린다는 단점이 있습니다.\n",
        "\n",
        "<br>\n",
        "\n",
        "\n",
        "사이킷런은 **ElasticNet** 클래스를 통해서 엘라스틱넷 회귀를 구현합니다. \n",
        "\n",
        "ElasticNet 클래스의 주요 생성 파라미터는 *alpha*와 *l1_ratio*입니다. 이때 alpha 값은 Ridge와 Lasso 클래스의 alpha 값과는 다릅니다. \n",
        "\n",
        "<br>\n",
        "\n",
        "엘라스틱넷의 규제는 **a * L1 + b * L2** 로 정의됩니다. \n",
        "\n",
        "따라서,ㅤㅤ**alphaㅤㅤ--->ㅤㅤa+b**\n",
        "\n",
        "ㅤㅤㅤㅤㅤ **l1_ratioㅤㅤ--->ㅤㅤa/(a+b)** "
      ],
      "metadata": {
        "id": "obVqg3rliK8-"
      }
    },
    {
      "cell_type": "markdown",
      "source": [
        "<br>"
      ],
      "metadata": {
        "id": "eBQQ3-e8oxaV"
      }
    },
    {
      "cell_type": "markdown",
      "source": [
        "펭귄 몸무게 예측 예제를 ElasticNet 클래스를 이용해 다시 예측해보고, \n",
        "alpha 값의 변화에 따른 RMSE와 엘라스틱넷 회귀 계수 값의 변화를 살펴보겠습니다."
      ],
      "metadata": {
        "id": "ko38tLgHozUr"
      }
    },
    {
      "cell_type": "code",
      "source": [
        "# alpha 값의 변화에 따른 평균 RMSE의 변화\n",
        "\n",
        "from sklearn.linear_model import ElasticNet\n",
        "from sklearn.model_selection import cross_val_score\n",
        "\n",
        "print('####### ElasticNet #######')\n",
        "\n",
        "elastic_alphas = [0.07, 0.1, 0.5, 1, 3]\n",
        "\n",
        "for alpha in elastic_alphas :\n",
        "    elastic = ElasticNet(alpha = alpha, l1_ratio=0.7)\n",
        "\n",
        "    neg_mse_scores = cross_val_score(elastic, feature, target, scoring=\"neg_mean_squared_error\", cv = 5)\n",
        "    avg_rmse = np.mean(np.sqrt(-1 * neg_mse_scores))\n",
        "    print('alpha {0} 일 때 5 folds 의 평균 RMSE : {1:.3f} '.format(alpha, avg_rmse))"
      ],
      "metadata": {
        "colab": {
          "base_uri": "https://localhost:8080/"
        },
        "outputId": "cb22849a-d364-4a25-e4c1-1a5315dc5b89",
        "id": "sPiMCUHMlW4U"
      },
      "execution_count": null,
      "outputs": [
        {
          "output_type": "stream",
          "name": "stdout",
          "text": [
            "####### ElasticNet #######\n",
            "alpha 0.07 일 때 5 folds 의 평균 RMSE : 333.500 \n",
            "alpha 0.1 일 때 5 folds 의 평균 RMSE : 333.745 \n",
            "alpha 0.5 일 때 5 folds 의 평균 RMSE : 347.653 \n",
            "alpha 1 일 때 5 folds 의 평균 RMSE : 360.314 \n",
            "alpha 3 일 때 5 folds 의 평균 RMSE : 377.953 \n"
          ]
        }
      ]
    },
    {
      "cell_type": "markdown",
      "source": [
        "<br>"
      ],
      "metadata": {
        "id": "8JZA8sOptum6"
      }
    },
    {
      "cell_type": "code",
      "source": [
        "# alpha 값의 변화에 따른 회귀 계수의 변화\n",
        "\n",
        "coeff_df = pd.DataFrame()\n",
        "elastic_alphas = [0.07, 0.1, 0.5, 1, 3]\n",
        "\n",
        "for pos, alpha in enumerate(elastic_alphas) :\n",
        "    elastic = ElasticNet(alpha = alpha, l1_ratio=0.7)\n",
        "    elastic.fit(feature, target)\n",
        " \n",
        "    coeff = pd.Series(data=elastic.coef_, index=feature.columns)\n",
        "    colname = 'alpha:'+str(alpha)\n",
        "    coeff_df[colname] = coeff\n",
        "\n",
        "sort_column = 'alpha:'+str(elastic_alphas[0])\n",
        "coeff_df.sort_values(by=sort_column, ascending=False)"
      ],
      "metadata": {
        "colab": {
          "base_uri": "https://localhost:8080/",
          "height": 332
        },
        "outputId": "17a79441-1469-46fc-ce9a-e3f331da8678",
        "id": "x9JxARqxmNmT"
      },
      "execution_count": null,
      "outputs": [
        {
          "output_type": "execute_result",
          "data": {
            "text/plain": [
              "                     alpha:0.07   alpha:0.1   alpha:0.5     alpha:1    alpha:3\n",
              "Flipper Length (mm)   26.052334   27.482199   37.066032   41.441446  45.783000\n",
              "Culmen Length (mm)     1.044152    1.755844    2.363217    0.554862  -1.894230\n",
              "Culmen Depth (mm)     -2.756022   -2.146737    4.178746    7.050860   7.702714\n",
              "Clutch Completion    -33.551503  -29.959142  -13.175329   -7.773628  -1.976309\n",
              "Delta 13 C (o/oo)    -45.304774  -43.239431  -23.329811  -10.569721   5.332503\n",
              "Species             -135.353554 -115.964894  -29.161845   -9.683061  -0.000000\n",
              "Island              -145.936787 -141.931955  -95.463804  -65.219660 -27.261758\n",
              "Delta 15 N (o/oo)   -209.048507 -203.024726 -143.675999 -104.850515 -53.129758\n",
              "Sex                 -464.076666 -435.294167 -246.039561 -162.077506 -69.468636"
            ],
            "text/html": [
              "\n",
              "  <div id=\"df-cdeb6369-4626-4ade-b392-184478068048\">\n",
              "    <div class=\"colab-df-container\">\n",
              "      <div>\n",
              "<style scoped>\n",
              "    .dataframe tbody tr th:only-of-type {\n",
              "        vertical-align: middle;\n",
              "    }\n",
              "\n",
              "    .dataframe tbody tr th {\n",
              "        vertical-align: top;\n",
              "    }\n",
              "\n",
              "    .dataframe thead th {\n",
              "        text-align: right;\n",
              "    }\n",
              "</style>\n",
              "<table border=\"1\" class=\"dataframe\">\n",
              "  <thead>\n",
              "    <tr style=\"text-align: right;\">\n",
              "      <th></th>\n",
              "      <th>alpha:0.07</th>\n",
              "      <th>alpha:0.1</th>\n",
              "      <th>alpha:0.5</th>\n",
              "      <th>alpha:1</th>\n",
              "      <th>alpha:3</th>\n",
              "    </tr>\n",
              "  </thead>\n",
              "  <tbody>\n",
              "    <tr>\n",
              "      <th>Flipper Length (mm)</th>\n",
              "      <td>26.052334</td>\n",
              "      <td>27.482199</td>\n",
              "      <td>37.066032</td>\n",
              "      <td>41.441446</td>\n",
              "      <td>45.783000</td>\n",
              "    </tr>\n",
              "    <tr>\n",
              "      <th>Culmen Length (mm)</th>\n",
              "      <td>1.044152</td>\n",
              "      <td>1.755844</td>\n",
              "      <td>2.363217</td>\n",
              "      <td>0.554862</td>\n",
              "      <td>-1.894230</td>\n",
              "    </tr>\n",
              "    <tr>\n",
              "      <th>Culmen Depth (mm)</th>\n",
              "      <td>-2.756022</td>\n",
              "      <td>-2.146737</td>\n",
              "      <td>4.178746</td>\n",
              "      <td>7.050860</td>\n",
              "      <td>7.702714</td>\n",
              "    </tr>\n",
              "    <tr>\n",
              "      <th>Clutch Completion</th>\n",
              "      <td>-33.551503</td>\n",
              "      <td>-29.959142</td>\n",
              "      <td>-13.175329</td>\n",
              "      <td>-7.773628</td>\n",
              "      <td>-1.976309</td>\n",
              "    </tr>\n",
              "    <tr>\n",
              "      <th>Delta 13 C (o/oo)</th>\n",
              "      <td>-45.304774</td>\n",
              "      <td>-43.239431</td>\n",
              "      <td>-23.329811</td>\n",
              "      <td>-10.569721</td>\n",
              "      <td>5.332503</td>\n",
              "    </tr>\n",
              "    <tr>\n",
              "      <th>Species</th>\n",
              "      <td>-135.353554</td>\n",
              "      <td>-115.964894</td>\n",
              "      <td>-29.161845</td>\n",
              "      <td>-9.683061</td>\n",
              "      <td>-0.000000</td>\n",
              "    </tr>\n",
              "    <tr>\n",
              "      <th>Island</th>\n",
              "      <td>-145.936787</td>\n",
              "      <td>-141.931955</td>\n",
              "      <td>-95.463804</td>\n",
              "      <td>-65.219660</td>\n",
              "      <td>-27.261758</td>\n",
              "    </tr>\n",
              "    <tr>\n",
              "      <th>Delta 15 N (o/oo)</th>\n",
              "      <td>-209.048507</td>\n",
              "      <td>-203.024726</td>\n",
              "      <td>-143.675999</td>\n",
              "      <td>-104.850515</td>\n",
              "      <td>-53.129758</td>\n",
              "    </tr>\n",
              "    <tr>\n",
              "      <th>Sex</th>\n",
              "      <td>-464.076666</td>\n",
              "      <td>-435.294167</td>\n",
              "      <td>-246.039561</td>\n",
              "      <td>-162.077506</td>\n",
              "      <td>-69.468636</td>\n",
              "    </tr>\n",
              "  </tbody>\n",
              "</table>\n",
              "</div>\n",
              "      <button class=\"colab-df-convert\" onclick=\"convertToInteractive('df-cdeb6369-4626-4ade-b392-184478068048')\"\n",
              "              title=\"Convert this dataframe to an interactive table.\"\n",
              "              style=\"display:none;\">\n",
              "        \n",
              "  <svg xmlns=\"http://www.w3.org/2000/svg\" height=\"24px\"viewBox=\"0 0 24 24\"\n",
              "       width=\"24px\">\n",
              "    <path d=\"M0 0h24v24H0V0z\" fill=\"none\"/>\n",
              "    <path d=\"M18.56 5.44l.94 2.06.94-2.06 2.06-.94-2.06-.94-.94-2.06-.94 2.06-2.06.94zm-11 1L8.5 8.5l.94-2.06 2.06-.94-2.06-.94L8.5 2.5l-.94 2.06-2.06.94zm10 10l.94 2.06.94-2.06 2.06-.94-2.06-.94-.94-2.06-.94 2.06-2.06.94z\"/><path d=\"M17.41 7.96l-1.37-1.37c-.4-.4-.92-.59-1.43-.59-.52 0-1.04.2-1.43.59L10.3 9.45l-7.72 7.72c-.78.78-.78 2.05 0 2.83L4 21.41c.39.39.9.59 1.41.59.51 0 1.02-.2 1.41-.59l7.78-7.78 2.81-2.81c.8-.78.8-2.07 0-2.86zM5.41 20L4 18.59l7.72-7.72 1.47 1.35L5.41 20z\"/>\n",
              "  </svg>\n",
              "      </button>\n",
              "      \n",
              "  <style>\n",
              "    .colab-df-container {\n",
              "      display:flex;\n",
              "      flex-wrap:wrap;\n",
              "      gap: 12px;\n",
              "    }\n",
              "\n",
              "    .colab-df-convert {\n",
              "      background-color: #E8F0FE;\n",
              "      border: none;\n",
              "      border-radius: 50%;\n",
              "      cursor: pointer;\n",
              "      display: none;\n",
              "      fill: #1967D2;\n",
              "      height: 32px;\n",
              "      padding: 0 0 0 0;\n",
              "      width: 32px;\n",
              "    }\n",
              "\n",
              "    .colab-df-convert:hover {\n",
              "      background-color: #E2EBFA;\n",
              "      box-shadow: 0px 1px 2px rgba(60, 64, 67, 0.3), 0px 1px 3px 1px rgba(60, 64, 67, 0.15);\n",
              "      fill: #174EA6;\n",
              "    }\n",
              "\n",
              "    [theme=dark] .colab-df-convert {\n",
              "      background-color: #3B4455;\n",
              "      fill: #D2E3FC;\n",
              "    }\n",
              "\n",
              "    [theme=dark] .colab-df-convert:hover {\n",
              "      background-color: #434B5C;\n",
              "      box-shadow: 0px 1px 3px 1px rgba(0, 0, 0, 0.15);\n",
              "      filter: drop-shadow(0px 1px 2px rgba(0, 0, 0, 0.3));\n",
              "      fill: #FFFFFF;\n",
              "    }\n",
              "  </style>\n",
              "\n",
              "      <script>\n",
              "        const buttonEl =\n",
              "          document.querySelector('#df-cdeb6369-4626-4ade-b392-184478068048 button.colab-df-convert');\n",
              "        buttonEl.style.display =\n",
              "          google.colab.kernel.accessAllowed ? 'block' : 'none';\n",
              "\n",
              "        async function convertToInteractive(key) {\n",
              "          const element = document.querySelector('#df-cdeb6369-4626-4ade-b392-184478068048');\n",
              "          const dataTable =\n",
              "            await google.colab.kernel.invokeFunction('convertToInteractive',\n",
              "                                                     [key], {});\n",
              "          if (!dataTable) return;\n",
              "\n",
              "          const docLinkHtml = 'Like what you see? Visit the ' +\n",
              "            '<a target=\"_blank\" href=https://colab.research.google.com/notebooks/data_table.ipynb>data table notebook</a>'\n",
              "            + ' to learn more about interactive tables.';\n",
              "          element.innerHTML = '';\n",
              "          dataTable['output_type'] = 'display_data';\n",
              "          await google.colab.output.renderOutput(dataTable, element);\n",
              "          const docLink = document.createElement('div');\n",
              "          docLink.innerHTML = docLinkHtml;\n",
              "          element.appendChild(docLink);\n",
              "        }\n",
              "      </script>\n",
              "    </div>\n",
              "  </div>\n",
              "  "
            ]
          },
          "metadata": {},
          "execution_count": 41
        }
      ]
    },
    {
      "cell_type": "markdown",
      "source": [
        "<Br>"
      ],
      "metadata": {
        "id": "yaEI5FTSifhS"
      }
    },
    {
      "cell_type": "markdown",
      "source": [
        "alpha 값이 0.07, 0.1, 0.5, 1, 3으로 변화함에 따라 평균 RMSE의 값과 회귀 계수가 어떻게 변화하는지 살펴보았습니다.\n",
        "\n",
        "alpha가 0.07일 때 334.074로 가장 좋은 평균 RMSE를 보여줍니다.\n",
        "\n",
        "릿지 회귀와 라쏘 회귀의 평균 RMSE 값보다는 약간 떨어지는 수치지만, LinearRegression의 평균 RMSE인 336.434보다는 향상되었습니다."
      ],
      "metadata": {
        "id": "xQ3Ix5pol9Ih"
      }
    },
    {
      "cell_type": "markdown",
      "source": [
        "이렇게 규제 선형 회귀의 가장 대표적인 기법인 릿지, 라쏘, 엘라스틱넷 회귀를 살펴보았습니다. \n",
        "\n",
        "이들 중 어떤 것이 가장 좋은지는 상황에 따라 다르기 때문에 각각의 알고리즘에서 하이퍼 파라미터를 변경해 가면서 최적의 예측 성능을 찾아내야 합니다."
      ],
      "metadata": {
        "id": "h4--YqxWsUpN"
      }
    },
    {
      "cell_type": "markdown",
      "source": [
        "<br>"
      ],
      "metadata": {
        "id": "fankT3ltl6uU"
      }
    },
    {
      "cell_type": "markdown",
      "source": [
        "---"
      ],
      "metadata": {
        "id": "MTphXcVyl8mj"
      }
    },
    {
      "cell_type": "markdown",
      "source": [
        "<br>"
      ],
      "metadata": {
        "id": "PMXz3qVvl9VE"
      }
    },
    {
      "cell_type": "markdown",
      "source": [
        "이렇게 선형 회귀(Linear Regression) 방법으로 타겟값을 예측하는 방법에 대해 공부해봤습니다!\n",
        "<br><br>\n",
        "여러 가지 회귀 중에서 선형 회귀가 가장 많이 사용되기 때문에, \n",
        "\n",
        "많은 연습을 통해 선형 회귀에 익숙해진다면 머신러닝 지도학습을 할 때 많은 도움이 될 거예요! 😄\n",
        "<br><br>\n",
        "📣 다음은 결정 트리(Decision Tree)를 다루는 **모델링 사용 설명서 2탄**이 업로드될 예정입니다!\n",
        "<br><br>\n",
        "많은 관심과 애정 부탁드려요💛 감사합니다!"
      ],
      "metadata": {
        "id": "sgSrKGcxl-Wm"
      }
    }
  ]
}