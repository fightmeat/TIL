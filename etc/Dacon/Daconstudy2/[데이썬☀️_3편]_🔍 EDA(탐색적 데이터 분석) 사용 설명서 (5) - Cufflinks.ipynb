{
  "cells": [
    {
      "cell_type": "markdown",
      "id": "5b3166fe",
      "metadata": {
        "id": "5b3166fe"
      },
      "source": [
        "# **✍️ 데이썬의 모든 시리즈 바로가기!**"
      ]
    },
    {
      "cell_type": "markdown",
      "id": "57b35bbf",
      "metadata": {
        "id": "57b35bbf"
      },
      "source": [
        "[데이썬☀️_0편] Python으로 시작하는 데이터 분석 사용 설명서 : https://dacon.io/codeshare/4743?page=1&dtype=tag\n",
        "\n",
        "[데이썬☀️_1편] ✏️ 데이터 분석 사용 설명서 : https://dacon.io/codeshare/4856?page=1&dtype=tag\n",
        "\n",
        "[데이썬☀️_2편] 📖 기초 라이브러리 사용 설명서 (1) - Numpy : https://dacon.io/codeshare/4860?page=1&dtype=tag\n",
        "\n",
        "[데이썬☀️_2편] 📖 기초 라이브러리 사용 설명서 (2) - Pandas: https://dacon.io/codeshare/4861?page=1&dtype=tag\n",
        "\n",
        "[데이썬☀️_2편] 📖 기초 라이브러리 사용 설명서 (3) - Scikit-learn : https://dacon.io/codeshare/4877?page=1&dtype=tag"
      ]
    },
    {
      "cell_type": "markdown",
      "id": "bc6c9681",
      "metadata": {
        "id": "bc6c9681"
      },
      "source": [
        "<br><br>"
      ]
    },
    {
      "cell_type": "markdown",
      "id": "f9a56477",
      "metadata": {
        "id": "f9a56477"
      },
      "source": [
        "# **🔍 EDA(탐색적 데이터 분석) 사용 설명서 5탄**"
      ]
    },
    {
      "cell_type": "markdown",
      "id": "25f006dc",
      "metadata": {
        "id": "25f006dc"
      },
      "source": [
        "1. **Cufflinks란?**\n",
        "\n",
        "\n",
        "2. **사전 준비**\n",
        "\n",
        "\n",
        "ㅤㅤㅤ1) plotly 설치하기\n",
        "    \n",
        "ㅤㅤㅤ2) plotly import하기\n",
        "\n",
        "ㅤㅤㅤ3) 데이터 불러오기\n",
        "\n",
        "\n",
        " 3. **Scatter Plot**\n",
        " \n",
        "\n",
        " 4. **Line Chart**\n",
        " \n",
        "\n",
        " 5. **Bar Chart**\n",
        " \n",
        " \n",
        " 6. **정리하기**"
      ]
    },
    {
      "cell_type": "markdown",
      "id": "d114473c",
      "metadata": {
        "id": "d114473c"
      },
      "source": [
        "<br>"
      ]
    },
    {
      "cell_type": "markdown",
      "id": "3ccb1b73",
      "metadata": {
        "id": "3ccb1b73"
      },
      "source": [
        "---"
      ]
    },
    {
      "cell_type": "markdown",
      "id": "bf2a7504",
      "metadata": {
        "id": "bf2a7504"
      },
      "source": [
        "<br>"
      ]
    },
    {
      "cell_type": "markdown",
      "id": "97999a3b",
      "metadata": {
        "id": "97999a3b"
      },
      "source": [
        "## **1. Cufflinks란?**"
      ]
    },
    {
      "cell_type": "markdown",
      "id": "54af90ad",
      "metadata": {
        "id": "54af90ad"
      },
      "source": [
        "**Cufflinks**는 pandas.DataFrame 형태의 데이터를 plotly를 이용해 쉽게 시각화할 수 있도록 도와주는 라이브러리입니다.\n",
        "\n",
        "pandas의 plot() 함수는 kind를 통해 외부 라이브러리인 matplotlib의 함수를 호출합니다. \n",
        "\n",
        "이때 다른 외부 라이브러리 함수를 호출하는 중간 단계의 함수나 객체인 kind를 wrapper 클래스 혹은 wrapper 함수라고 합니다.\n",
        "\n",
        "이와 같은 역할을 수행하는 것이 cufflinks 라이브러리 입니다. cufflinks는 pandas와 plotly를 함께 사용하기 위해 사용되는 라이브러리로, cufflinks를 설치한 후 iplot() 함수를 사용하면 적절한 plotly 함수를 수행합니다."
      ]
    },
    {
      "cell_type": "markdown",
      "id": "f895b7a5",
      "metadata": {
        "id": "f895b7a5"
      },
      "source": [
        "<br><br>"
      ]
    },
    {
      "cell_type": "markdown",
      "id": "65d2f7ea",
      "metadata": {
        "id": "65d2f7ea"
      },
      "source": [
        "\n",
        "## **2. 사전 준비**"
      ]
    },
    {
      "cell_type": "markdown",
      "id": "29c233ca",
      "metadata": {
        "id": "29c233ca"
      },
      "source": [
        "### **1) cufflinks 설치하기**"
      ]
    },
    {
      "cell_type": "markdown",
      "id": "22a03f39",
      "metadata": {
        "id": "22a03f39"
      },
      "source": [
        "cufflinks가 설치되어 있지 않다면, 다음 명령으로 cufflinks를 설치해주세요."
      ]
    },
    {
      "cell_type": "code",
      "execution_count": null,
      "id": "d91b4db9",
      "metadata": {
        "id": "d91b4db9"
      },
      "outputs": [],
      "source": [
        "pip install cufflinks"
      ]
    },
    {
      "cell_type": "markdown",
      "id": "e8a4822e",
      "metadata": {
        "id": "e8a4822e"
      },
      "source": [
        "<br>"
      ]
    },
    {
      "cell_type": "markdown",
      "id": "4a406ddc",
      "metadata": {
        "id": "4a406ddc"
      },
      "source": [
        "### **2) cufflinks import하기**"
      ]
    },
    {
      "cell_type": "markdown",
      "id": "438f34c9",
      "metadata": {
        "id": "438f34c9"
      },
      "source": [
        "ㅤ✔ㅤpandas.DataFrame 형태의 데이터를 사용하기 위한 pandas 라이브러리와 cufflinks 라이브러리를 \"cf\"라는 별칭으로 import 해줍니다.\n",
        "\n",
        "ㅤ✔ㅤcf.go_offline은 plotly를 오프라인에서 사용하기 위한 명령어입니다.\n"
      ]
    },
    {
      "cell_type": "code",
      "execution_count": null,
      "id": "a1837ac8",
      "metadata": {
        "id": "a1837ac8",
        "outputId": "36bf7717-c134-4b56-b61b-7848c557b36c"
      },
      "outputs": [
        {
          "data": {
            "text/html": [
              "        <script type=\"text/javascript\">\n",
              "        window.PlotlyConfig = {MathJaxConfig: 'local'};\n",
              "        if (window.MathJax) {MathJax.Hub.Config({SVG: {font: \"STIX-Web\"}});}\n",
              "        if (typeof require !== 'undefined') {\n",
              "        require.undef(\"plotly\");\n",
              "        requirejs.config({\n",
              "            paths: {\n",
              "                'plotly': ['https://cdn.plot.ly/plotly-2.11.1.min']\n",
              "            }\n",
              "        });\n",
              "        require(['plotly'], function(Plotly) {\n",
              "            window._Plotly = Plotly;\n",
              "        });\n",
              "        }\n",
              "        </script>\n",
              "        "
            ]
          },
          "metadata": {},
          "output_type": "display_data"
        }
      ],
      "source": [
        "import pandas as pd\n",
        "import cufflinks as cf\n",
        "cf.go_offline()"
      ]
    },
    {
      "cell_type": "markdown",
      "id": "beaf0de0",
      "metadata": {
        "id": "beaf0de0"
      },
      "source": [
        "<br>"
      ]
    },
    {
      "cell_type": "markdown",
      "id": "bc96f925",
      "metadata": {
        "id": "bc96f925"
      },
      "source": [
        "### **3) 데이터 불러오기**"
      ]
    },
    {
      "cell_type": "markdown",
      "id": "e1d03ed1",
      "metadata": {
        "id": "e1d03ed1"
      },
      "source": [
        "pandas.read_csv()를 통해 csv 데이터를 불러와 pandas.DataFrame 형태로 변화시켰습니다."
      ]
    },
    {
      "cell_type": "code",
      "execution_count": null,
      "id": "9f599c67",
      "metadata": {
        "id": "9f599c67",
        "outputId": "fdf5d558-5fe0-43b9-bcd3-087c843ca113"
      },
      "outputs": [
        {
          "data": {
            "text/html": [
              "<div>\n",
              "<style scoped>\n",
              "    .dataframe tbody tr th:only-of-type {\n",
              "        vertical-align: middle;\n",
              "    }\n",
              "\n",
              "    .dataframe tbody tr th {\n",
              "        vertical-align: top;\n",
              "    }\n",
              "\n",
              "    .dataframe thead th {\n",
              "        text-align: right;\n",
              "    }\n",
              "</style>\n",
              "<table border=\"1\" class=\"dataframe\">\n",
              "  <thead>\n",
              "    <tr style=\"text-align: right;\">\n",
              "      <th></th>\n",
              "      <th>carat</th>\n",
              "      <th>cut</th>\n",
              "      <th>color</th>\n",
              "      <th>clarity</th>\n",
              "      <th>depth</th>\n",
              "      <th>table</th>\n",
              "      <th>price</th>\n",
              "      <th>x</th>\n",
              "      <th>y</th>\n",
              "      <th>z</th>\n",
              "    </tr>\n",
              "  </thead>\n",
              "  <tbody>\n",
              "    <tr>\n",
              "      <th>0</th>\n",
              "      <td>0.23</td>\n",
              "      <td>Ideal</td>\n",
              "      <td>E</td>\n",
              "      <td>SI2</td>\n",
              "      <td>61.5</td>\n",
              "      <td>55.0</td>\n",
              "      <td>326</td>\n",
              "      <td>3.95</td>\n",
              "      <td>3.98</td>\n",
              "      <td>2.43</td>\n",
              "    </tr>\n",
              "    <tr>\n",
              "      <th>1</th>\n",
              "      <td>0.21</td>\n",
              "      <td>Premium</td>\n",
              "      <td>E</td>\n",
              "      <td>SI1</td>\n",
              "      <td>59.8</td>\n",
              "      <td>61.0</td>\n",
              "      <td>326</td>\n",
              "      <td>3.89</td>\n",
              "      <td>3.84</td>\n",
              "      <td>2.31</td>\n",
              "    </tr>\n",
              "    <tr>\n",
              "      <th>2</th>\n",
              "      <td>0.23</td>\n",
              "      <td>Good</td>\n",
              "      <td>E</td>\n",
              "      <td>VS1</td>\n",
              "      <td>56.9</td>\n",
              "      <td>65.0</td>\n",
              "      <td>327</td>\n",
              "      <td>4.05</td>\n",
              "      <td>4.07</td>\n",
              "      <td>2.31</td>\n",
              "    </tr>\n",
              "    <tr>\n",
              "      <th>3</th>\n",
              "      <td>0.29</td>\n",
              "      <td>Premium</td>\n",
              "      <td>I</td>\n",
              "      <td>VS2</td>\n",
              "      <td>62.4</td>\n",
              "      <td>58.0</td>\n",
              "      <td>334</td>\n",
              "      <td>4.20</td>\n",
              "      <td>4.23</td>\n",
              "      <td>2.63</td>\n",
              "    </tr>\n",
              "    <tr>\n",
              "      <th>4</th>\n",
              "      <td>0.31</td>\n",
              "      <td>Good</td>\n",
              "      <td>J</td>\n",
              "      <td>SI2</td>\n",
              "      <td>63.3</td>\n",
              "      <td>58.0</td>\n",
              "      <td>335</td>\n",
              "      <td>4.34</td>\n",
              "      <td>4.35</td>\n",
              "      <td>2.75</td>\n",
              "    </tr>\n",
              "  </tbody>\n",
              "</table>\n",
              "</div>"
            ],
            "text/plain": [
              "   carat      cut color clarity  depth  table  price     x     y     z\n",
              "0   0.23    Ideal     E     SI2   61.5   55.0    326  3.95  3.98  2.43\n",
              "1   0.21  Premium     E     SI1   59.8   61.0    326  3.89  3.84  2.31\n",
              "2   0.23     Good     E     VS1   56.9   65.0    327  4.05  4.07  2.31\n",
              "3   0.29  Premium     I     VS2   62.4   58.0    334  4.20  4.23  2.63\n",
              "4   0.31     Good     J     SI2   63.3   58.0    335  4.34  4.35  2.75"
            ]
          },
          "execution_count": 3,
          "metadata": {},
          "output_type": "execute_result"
        }
      ],
      "source": [
        "diamonds = pd.read_csv('https://raw.githubusercontent.com/hadley/ggplot2/master/data-raw/diamonds.csv')\n",
        "diamonds.head()"
      ]
    },
    {
      "cell_type": "code",
      "execution_count": null,
      "id": "d9fdfbd6",
      "metadata": {
        "id": "d9fdfbd6",
        "outputId": "40e720cb-f2f6-4475-cd59-e45d8a684881"
      },
      "outputs": [
        {
          "data": {
            "text/html": [
              "<div>\n",
              "<style scoped>\n",
              "    .dataframe tbody tr th:only-of-type {\n",
              "        vertical-align: middle;\n",
              "    }\n",
              "\n",
              "    .dataframe tbody tr th {\n",
              "        vertical-align: top;\n",
              "    }\n",
              "\n",
              "    .dataframe thead th {\n",
              "        text-align: right;\n",
              "    }\n",
              "</style>\n",
              "<table border=\"1\" class=\"dataframe\">\n",
              "  <thead>\n",
              "    <tr style=\"text-align: right;\">\n",
              "      <th></th>\n",
              "      <th>date</th>\n",
              "      <th>pce</th>\n",
              "      <th>pop</th>\n",
              "      <th>psavert</th>\n",
              "      <th>uempmed</th>\n",
              "      <th>unemploy</th>\n",
              "    </tr>\n",
              "  </thead>\n",
              "  <tbody>\n",
              "    <tr>\n",
              "      <th>0</th>\n",
              "      <td>1967-07-01</td>\n",
              "      <td>506.7</td>\n",
              "      <td>198712.0</td>\n",
              "      <td>12.6</td>\n",
              "      <td>4.5</td>\n",
              "      <td>2944</td>\n",
              "    </tr>\n",
              "    <tr>\n",
              "      <th>1</th>\n",
              "      <td>1967-08-01</td>\n",
              "      <td>509.8</td>\n",
              "      <td>198911.0</td>\n",
              "      <td>12.6</td>\n",
              "      <td>4.7</td>\n",
              "      <td>2945</td>\n",
              "    </tr>\n",
              "    <tr>\n",
              "      <th>2</th>\n",
              "      <td>1967-09-01</td>\n",
              "      <td>515.6</td>\n",
              "      <td>199113.0</td>\n",
              "      <td>11.9</td>\n",
              "      <td>4.6</td>\n",
              "      <td>2958</td>\n",
              "    </tr>\n",
              "    <tr>\n",
              "      <th>3</th>\n",
              "      <td>1967-10-01</td>\n",
              "      <td>512.2</td>\n",
              "      <td>199311.0</td>\n",
              "      <td>12.9</td>\n",
              "      <td>4.9</td>\n",
              "      <td>3143</td>\n",
              "    </tr>\n",
              "    <tr>\n",
              "      <th>4</th>\n",
              "      <td>1967-11-01</td>\n",
              "      <td>517.4</td>\n",
              "      <td>199498.0</td>\n",
              "      <td>12.8</td>\n",
              "      <td>4.7</td>\n",
              "      <td>3066</td>\n",
              "    </tr>\n",
              "  </tbody>\n",
              "</table>\n",
              "</div>"
            ],
            "text/plain": [
              "         date    pce       pop  psavert  uempmed  unemploy\n",
              "0  1967-07-01  506.7  198712.0     12.6      4.5      2944\n",
              "1  1967-08-01  509.8  198911.0     12.6      4.7      2945\n",
              "2  1967-09-01  515.6  199113.0     11.9      4.6      2958\n",
              "3  1967-10-01  512.2  199311.0     12.9      4.9      3143\n",
              "4  1967-11-01  517.4  199498.0     12.8      4.7      3066"
            ]
          },
          "execution_count": 4,
          "metadata": {},
          "output_type": "execute_result"
        }
      ],
      "source": [
        "economics = pd.read_csv('https://raw.githubusercontent.com/hadley/ggplot2/master/data-raw/economics.csv')\n",
        "economics.head()"
      ]
    },
    {
      "cell_type": "code",
      "execution_count": null,
      "id": "c23b06dc",
      "metadata": {
        "id": "c23b06dc",
        "outputId": "823a59e1-f040-4704-9b50-909011a83589"
      },
      "outputs": [
        {
          "data": {
            "text/html": [
              "<div>\n",
              "<style scoped>\n",
              "    .dataframe tbody tr th:only-of-type {\n",
              "        vertical-align: middle;\n",
              "    }\n",
              "\n",
              "    .dataframe tbody tr th {\n",
              "        vertical-align: top;\n",
              "    }\n",
              "\n",
              "    .dataframe thead th {\n",
              "        text-align: right;\n",
              "    }\n",
              "</style>\n",
              "<table border=\"1\" class=\"dataframe\">\n",
              "  <thead>\n",
              "    <tr style=\"text-align: right;\">\n",
              "      <th></th>\n",
              "      <th>sepal_length</th>\n",
              "      <th>sepal_width</th>\n",
              "      <th>petal_length</th>\n",
              "      <th>petal_width</th>\n",
              "      <th>species</th>\n",
              "    </tr>\n",
              "  </thead>\n",
              "  <tbody>\n",
              "    <tr>\n",
              "      <th>0</th>\n",
              "      <td>5.1</td>\n",
              "      <td>3.5</td>\n",
              "      <td>1.4</td>\n",
              "      <td>0.2</td>\n",
              "      <td>setosa</td>\n",
              "    </tr>\n",
              "    <tr>\n",
              "      <th>1</th>\n",
              "      <td>4.9</td>\n",
              "      <td>3.0</td>\n",
              "      <td>1.4</td>\n",
              "      <td>0.2</td>\n",
              "      <td>setosa</td>\n",
              "    </tr>\n",
              "    <tr>\n",
              "      <th>2</th>\n",
              "      <td>4.7</td>\n",
              "      <td>3.2</td>\n",
              "      <td>1.3</td>\n",
              "      <td>0.2</td>\n",
              "      <td>setosa</td>\n",
              "    </tr>\n",
              "    <tr>\n",
              "      <th>3</th>\n",
              "      <td>4.6</td>\n",
              "      <td>3.1</td>\n",
              "      <td>1.5</td>\n",
              "      <td>0.2</td>\n",
              "      <td>setosa</td>\n",
              "    </tr>\n",
              "    <tr>\n",
              "      <th>4</th>\n",
              "      <td>5.0</td>\n",
              "      <td>3.6</td>\n",
              "      <td>1.4</td>\n",
              "      <td>0.2</td>\n",
              "      <td>setosa</td>\n",
              "    </tr>\n",
              "  </tbody>\n",
              "</table>\n",
              "</div>"
            ],
            "text/plain": [
              "   sepal_length  sepal_width  petal_length  petal_width species\n",
              "0           5.1          3.5           1.4          0.2  setosa\n",
              "1           4.9          3.0           1.4          0.2  setosa\n",
              "2           4.7          3.2           1.3          0.2  setosa\n",
              "3           4.6          3.1           1.5          0.2  setosa\n",
              "4           5.0          3.6           1.4          0.2  setosa"
            ]
          },
          "execution_count": 5,
          "metadata": {},
          "output_type": "execute_result"
        }
      ],
      "source": [
        "iris = pd.read_csv('https://raw.githubusercontent.com/mwaskom/seaborn-data/master/iris.csv')\n",
        "iris.head()"
      ]
    },
    {
      "cell_type": "markdown",
      "id": "f7d84e4d",
      "metadata": {
        "id": "f7d84e4d"
      },
      "source": [
        "<br><br>"
      ]
    },
    {
      "cell_type": "markdown",
      "id": "a3bab8cb",
      "metadata": {
        "id": "a3bab8cb"
      },
      "source": [
        "## **3. Scatter Plot**"
      ]
    },
    {
      "cell_type": "markdown",
      "id": "e2fcdc95",
      "metadata": {
        "id": "e2fcdc95"
      },
      "source": [
        "iplot() 함수의 kind 파라미터를 'scatter'로 mode 파라미터를 'markers'로 지정하면 산점도를 그릴 수 있습니다."
      ]
    },
    {
      "cell_type": "code",
      "execution_count": null,
      "id": "2c6c3189",
      "metadata": {
        "scrolled": false,
        "id": "2c6c3189",
        "outputId": "cdb688ef-b7be-4d88-ee73-3761aaeac211"
      },
      "outputs": [
        {
          "name": "stderr",
          "output_type": "stream",
          "text": [
            "C:\\anaconda\\lib\\site-packages\\cufflinks\\plotlytools.py:807: FutureWarning:\n",
            "\n",
            "The pandas.np module is deprecated and will be removed from pandas in a future version. Import numpy directly instead\n",
            "\n",
            "C:\\anaconda\\lib\\site-packages\\cufflinks\\plotlytools.py:810: FutureWarning:\n",
            "\n",
            "The pandas.np module is deprecated and will be removed from pandas in a future version. Import numpy directly instead\n",
            "\n"
          ]
        },
        {
          "data": {
            "application/vnd.plotly.v1+json": {
              "config": {
                "linkText": "Export to plot.ly",
                "plotlyServerURL": "https://plot.ly",
                "showLink": true
              },
              "data": [
                {
                  "marker": {
                    "color": "rgba(255, 153, 51, 1.0)",
                    "line": {
                      "width": 1.3
                    },
                    "opacity": 0.8,
                    "size": 12,
                    "symbol": "circle"
                  },
                  "mode": "markers",
                  "name": "setosa",
                  "textfont": {
                    "color": "#4D5663"
                  },
                  "type": "scatter",
                  "x": [
                    5.1,
                    4.9,
                    4.7,
                    4.6,
                    5,
                    5.4,
                    4.6,
                    5,
                    4.4,
                    4.9,
                    5.4,
                    4.8,
                    4.8,
                    4.3,
                    5.8,
                    5.7,
                    5.4,
                    5.1,
                    5.7,
                    5.1,
                    5.4,
                    5.1,
                    4.6,
                    5.1,
                    4.8,
                    5,
                    5,
                    5.2,
                    5.2,
                    4.7,
                    4.8,
                    5.4,
                    5.2,
                    5.5,
                    4.9,
                    5,
                    5.5,
                    4.9,
                    4.4,
                    5.1,
                    5,
                    4.5,
                    4.4,
                    5,
                    5.1,
                    4.8,
                    5.1,
                    4.6,
                    5.3,
                    5
                  ],
                  "y": [
                    1.4,
                    1.4,
                    1.3,
                    1.5,
                    1.4,
                    1.7,
                    1.4,
                    1.5,
                    1.4,
                    1.5,
                    1.5,
                    1.6,
                    1.4,
                    1.1,
                    1.2,
                    1.5,
                    1.3,
                    1.4,
                    1.7,
                    1.5,
                    1.7,
                    1.5,
                    1,
                    1.7,
                    1.9,
                    1.6,
                    1.6,
                    1.5,
                    1.4,
                    1.6,
                    1.6,
                    1.5,
                    1.5,
                    1.4,
                    1.5,
                    1.2,
                    1.3,
                    1.4,
                    1.3,
                    1.5,
                    1.3,
                    1.3,
                    1.3,
                    1.6,
                    1.9,
                    1.4,
                    1.6,
                    1.4,
                    1.5,
                    1.4
                  ]
                },
                {
                  "marker": {
                    "color": "rgba(55, 128, 191, 1.0)",
                    "line": {
                      "width": 1.3
                    },
                    "opacity": 0.8,
                    "size": 12,
                    "symbol": "circle"
                  },
                  "mode": "markers",
                  "name": "versicolor",
                  "textfont": {
                    "color": "#4D5663"
                  },
                  "type": "scatter",
                  "x": [
                    7,
                    6.4,
                    6.9,
                    5.5,
                    6.5,
                    5.7,
                    6.3,
                    4.9,
                    6.6,
                    5.2,
                    5,
                    5.9,
                    6,
                    6.1,
                    5.6,
                    6.7,
                    5.6,
                    5.8,
                    6.2,
                    5.6,
                    5.9,
                    6.1,
                    6.3,
                    6.1,
                    6.4,
                    6.6,
                    6.8,
                    6.7,
                    6,
                    5.7,
                    5.5,
                    5.5,
                    5.8,
                    6,
                    5.4,
                    6,
                    6.7,
                    6.3,
                    5.6,
                    5.5,
                    5.5,
                    6.1,
                    5.8,
                    5,
                    5.6,
                    5.7,
                    5.7,
                    6.2,
                    5.1,
                    5.7
                  ],
                  "y": [
                    4.7,
                    4.5,
                    4.9,
                    4,
                    4.6,
                    4.5,
                    4.7,
                    3.3,
                    4.6,
                    3.9,
                    3.5,
                    4.2,
                    4,
                    4.7,
                    3.6,
                    4.4,
                    4.5,
                    4.1,
                    4.5,
                    3.9,
                    4.8,
                    4,
                    4.9,
                    4.7,
                    4.3,
                    4.4,
                    4.8,
                    5,
                    4.5,
                    3.5,
                    3.8,
                    3.7,
                    3.9,
                    5.1,
                    4.5,
                    4.5,
                    4.7,
                    4.4,
                    4.1,
                    4,
                    4.4,
                    4.6,
                    4,
                    3.3,
                    4.2,
                    4.2,
                    4.2,
                    4.3,
                    3,
                    4.1
                  ]
                },
                {
                  "marker": {
                    "color": "rgba(50, 171, 96, 1.0)",
                    "line": {
                      "width": 1.3
                    },
                    "opacity": 0.8,
                    "size": 12,
                    "symbol": "circle"
                  },
                  "mode": "markers",
                  "name": "virginica",
                  "textfont": {
                    "color": "#4D5663"
                  },
                  "type": "scatter",
                  "x": [
                    6.3,
                    5.8,
                    7.1,
                    6.3,
                    6.5,
                    7.6,
                    4.9,
                    7.3,
                    6.7,
                    7.2,
                    6.5,
                    6.4,
                    6.8,
                    5.7,
                    5.8,
                    6.4,
                    6.5,
                    7.7,
                    7.7,
                    6,
                    6.9,
                    5.6,
                    7.7,
                    6.3,
                    6.7,
                    7.2,
                    6.2,
                    6.1,
                    6.4,
                    7.2,
                    7.4,
                    7.9,
                    6.4,
                    6.3,
                    6.1,
                    7.7,
                    6.3,
                    6.4,
                    6,
                    6.9,
                    6.7,
                    6.9,
                    5.8,
                    6.8,
                    6.7,
                    6.7,
                    6.3,
                    6.5,
                    6.2,
                    5.9
                  ],
                  "y": [
                    6,
                    5.1,
                    5.9,
                    5.6,
                    5.8,
                    6.6,
                    4.5,
                    6.3,
                    5.8,
                    6.1,
                    5.1,
                    5.3,
                    5.5,
                    5,
                    5.1,
                    5.3,
                    5.5,
                    6.7,
                    6.9,
                    5,
                    5.7,
                    4.9,
                    6.7,
                    4.9,
                    5.7,
                    6,
                    4.8,
                    4.9,
                    5.6,
                    5.8,
                    6.1,
                    6.4,
                    5.6,
                    5.1,
                    5.6,
                    6.1,
                    5.6,
                    5.5,
                    4.8,
                    5.4,
                    5.6,
                    5.1,
                    5.1,
                    5.9,
                    5.7,
                    5.2,
                    5,
                    5.2,
                    5.4,
                    5.1
                  ]
                }
              ],
              "layout": {
                "legend": {
                  "bgcolor": "#F5F6F9",
                  "font": {
                    "color": "#4D5663"
                  }
                },
                "paper_bgcolor": "#F5F6F9",
                "plot_bgcolor": "#F5F6F9",
                "template": {
                  "data": {
                    "bar": [
                      {
                        "error_x": {
                          "color": "#2a3f5f"
                        },
                        "error_y": {
                          "color": "#2a3f5f"
                        },
                        "marker": {
                          "line": {
                            "color": "#E5ECF6",
                            "width": 0.5
                          },
                          "pattern": {
                            "fillmode": "overlay",
                            "size": 10,
                            "solidity": 0.2
                          }
                        },
                        "type": "bar"
                      }
                    ],
                    "barpolar": [
                      {
                        "marker": {
                          "line": {
                            "color": "#E5ECF6",
                            "width": 0.5
                          },
                          "pattern": {
                            "fillmode": "overlay",
                            "size": 10,
                            "solidity": 0.2
                          }
                        },
                        "type": "barpolar"
                      }
                    ],
                    "carpet": [
                      {
                        "aaxis": {
                          "endlinecolor": "#2a3f5f",
                          "gridcolor": "white",
                          "linecolor": "white",
                          "minorgridcolor": "white",
                          "startlinecolor": "#2a3f5f"
                        },
                        "baxis": {
                          "endlinecolor": "#2a3f5f",
                          "gridcolor": "white",
                          "linecolor": "white",
                          "minorgridcolor": "white",
                          "startlinecolor": "#2a3f5f"
                        },
                        "type": "carpet"
                      }
                    ],
                    "choropleth": [
                      {
                        "colorbar": {
                          "outlinewidth": 0,
                          "ticks": ""
                        },
                        "type": "choropleth"
                      }
                    ],
                    "contour": [
                      {
                        "colorbar": {
                          "outlinewidth": 0,
                          "ticks": ""
                        },
                        "colorscale": [
                          [
                            0,
                            "#0d0887"
                          ],
                          [
                            0.1111111111111111,
                            "#46039f"
                          ],
                          [
                            0.2222222222222222,
                            "#7201a8"
                          ],
                          [
                            0.3333333333333333,
                            "#9c179e"
                          ],
                          [
                            0.4444444444444444,
                            "#bd3786"
                          ],
                          [
                            0.5555555555555556,
                            "#d8576b"
                          ],
                          [
                            0.6666666666666666,
                            "#ed7953"
                          ],
                          [
                            0.7777777777777778,
                            "#fb9f3a"
                          ],
                          [
                            0.8888888888888888,
                            "#fdca26"
                          ],
                          [
                            1,
                            "#f0f921"
                          ]
                        ],
                        "type": "contour"
                      }
                    ],
                    "contourcarpet": [
                      {
                        "colorbar": {
                          "outlinewidth": 0,
                          "ticks": ""
                        },
                        "type": "contourcarpet"
                      }
                    ],
                    "heatmap": [
                      {
                        "colorbar": {
                          "outlinewidth": 0,
                          "ticks": ""
                        },
                        "colorscale": [
                          [
                            0,
                            "#0d0887"
                          ],
                          [
                            0.1111111111111111,
                            "#46039f"
                          ],
                          [
                            0.2222222222222222,
                            "#7201a8"
                          ],
                          [
                            0.3333333333333333,
                            "#9c179e"
                          ],
                          [
                            0.4444444444444444,
                            "#bd3786"
                          ],
                          [
                            0.5555555555555556,
                            "#d8576b"
                          ],
                          [
                            0.6666666666666666,
                            "#ed7953"
                          ],
                          [
                            0.7777777777777778,
                            "#fb9f3a"
                          ],
                          [
                            0.8888888888888888,
                            "#fdca26"
                          ],
                          [
                            1,
                            "#f0f921"
                          ]
                        ],
                        "type": "heatmap"
                      }
                    ],
                    "heatmapgl": [
                      {
                        "colorbar": {
                          "outlinewidth": 0,
                          "ticks": ""
                        },
                        "colorscale": [
                          [
                            0,
                            "#0d0887"
                          ],
                          [
                            0.1111111111111111,
                            "#46039f"
                          ],
                          [
                            0.2222222222222222,
                            "#7201a8"
                          ],
                          [
                            0.3333333333333333,
                            "#9c179e"
                          ],
                          [
                            0.4444444444444444,
                            "#bd3786"
                          ],
                          [
                            0.5555555555555556,
                            "#d8576b"
                          ],
                          [
                            0.6666666666666666,
                            "#ed7953"
                          ],
                          [
                            0.7777777777777778,
                            "#fb9f3a"
                          ],
                          [
                            0.8888888888888888,
                            "#fdca26"
                          ],
                          [
                            1,
                            "#f0f921"
                          ]
                        ],
                        "type": "heatmapgl"
                      }
                    ],
                    "histogram": [
                      {
                        "marker": {
                          "pattern": {
                            "fillmode": "overlay",
                            "size": 10,
                            "solidity": 0.2
                          }
                        },
                        "type": "histogram"
                      }
                    ],
                    "histogram2d": [
                      {
                        "colorbar": {
                          "outlinewidth": 0,
                          "ticks": ""
                        },
                        "colorscale": [
                          [
                            0,
                            "#0d0887"
                          ],
                          [
                            0.1111111111111111,
                            "#46039f"
                          ],
                          [
                            0.2222222222222222,
                            "#7201a8"
                          ],
                          [
                            0.3333333333333333,
                            "#9c179e"
                          ],
                          [
                            0.4444444444444444,
                            "#bd3786"
                          ],
                          [
                            0.5555555555555556,
                            "#d8576b"
                          ],
                          [
                            0.6666666666666666,
                            "#ed7953"
                          ],
                          [
                            0.7777777777777778,
                            "#fb9f3a"
                          ],
                          [
                            0.8888888888888888,
                            "#fdca26"
                          ],
                          [
                            1,
                            "#f0f921"
                          ]
                        ],
                        "type": "histogram2d"
                      }
                    ],
                    "histogram2dcontour": [
                      {
                        "colorbar": {
                          "outlinewidth": 0,
                          "ticks": ""
                        },
                        "colorscale": [
                          [
                            0,
                            "#0d0887"
                          ],
                          [
                            0.1111111111111111,
                            "#46039f"
                          ],
                          [
                            0.2222222222222222,
                            "#7201a8"
                          ],
                          [
                            0.3333333333333333,
                            "#9c179e"
                          ],
                          [
                            0.4444444444444444,
                            "#bd3786"
                          ],
                          [
                            0.5555555555555556,
                            "#d8576b"
                          ],
                          [
                            0.6666666666666666,
                            "#ed7953"
                          ],
                          [
                            0.7777777777777778,
                            "#fb9f3a"
                          ],
                          [
                            0.8888888888888888,
                            "#fdca26"
                          ],
                          [
                            1,
                            "#f0f921"
                          ]
                        ],
                        "type": "histogram2dcontour"
                      }
                    ],
                    "mesh3d": [
                      {
                        "colorbar": {
                          "outlinewidth": 0,
                          "ticks": ""
                        },
                        "type": "mesh3d"
                      }
                    ],
                    "parcoords": [
                      {
                        "line": {
                          "colorbar": {
                            "outlinewidth": 0,
                            "ticks": ""
                          }
                        },
                        "type": "parcoords"
                      }
                    ],
                    "pie": [
                      {
                        "automargin": true,
                        "type": "pie"
                      }
                    ],
                    "scatter": [
                      {
                        "fillpattern": {
                          "fillmode": "overlay",
                          "size": 10,
                          "solidity": 0.2
                        },
                        "type": "scatter"
                      }
                    ],
                    "scatter3d": [
                      {
                        "line": {
                          "colorbar": {
                            "outlinewidth": 0,
                            "ticks": ""
                          }
                        },
                        "marker": {
                          "colorbar": {
                            "outlinewidth": 0,
                            "ticks": ""
                          }
                        },
                        "type": "scatter3d"
                      }
                    ],
                    "scattercarpet": [
                      {
                        "marker": {
                          "colorbar": {
                            "outlinewidth": 0,
                            "ticks": ""
                          }
                        },
                        "type": "scattercarpet"
                      }
                    ],
                    "scattergeo": [
                      {
                        "marker": {
                          "colorbar": {
                            "outlinewidth": 0,
                            "ticks": ""
                          }
                        },
                        "type": "scattergeo"
                      }
                    ],
                    "scattergl": [
                      {
                        "marker": {
                          "colorbar": {
                            "outlinewidth": 0,
                            "ticks": ""
                          }
                        },
                        "type": "scattergl"
                      }
                    ],
                    "scattermapbox": [
                      {
                        "marker": {
                          "colorbar": {
                            "outlinewidth": 0,
                            "ticks": ""
                          }
                        },
                        "type": "scattermapbox"
                      }
                    ],
                    "scatterpolar": [
                      {
                        "marker": {
                          "colorbar": {
                            "outlinewidth": 0,
                            "ticks": ""
                          }
                        },
                        "type": "scatterpolar"
                      }
                    ],
                    "scatterpolargl": [
                      {
                        "marker": {
                          "colorbar": {
                            "outlinewidth": 0,
                            "ticks": ""
                          }
                        },
                        "type": "scatterpolargl"
                      }
                    ],
                    "scatterternary": [
                      {
                        "marker": {
                          "colorbar": {
                            "outlinewidth": 0,
                            "ticks": ""
                          }
                        },
                        "type": "scatterternary"
                      }
                    ],
                    "surface": [
                      {
                        "colorbar": {
                          "outlinewidth": 0,
                          "ticks": ""
                        },
                        "colorscale": [
                          [
                            0,
                            "#0d0887"
                          ],
                          [
                            0.1111111111111111,
                            "#46039f"
                          ],
                          [
                            0.2222222222222222,
                            "#7201a8"
                          ],
                          [
                            0.3333333333333333,
                            "#9c179e"
                          ],
                          [
                            0.4444444444444444,
                            "#bd3786"
                          ],
                          [
                            0.5555555555555556,
                            "#d8576b"
                          ],
                          [
                            0.6666666666666666,
                            "#ed7953"
                          ],
                          [
                            0.7777777777777778,
                            "#fb9f3a"
                          ],
                          [
                            0.8888888888888888,
                            "#fdca26"
                          ],
                          [
                            1,
                            "#f0f921"
                          ]
                        ],
                        "type": "surface"
                      }
                    ],
                    "table": [
                      {
                        "cells": {
                          "fill": {
                            "color": "#EBF0F8"
                          },
                          "line": {
                            "color": "white"
                          }
                        },
                        "header": {
                          "fill": {
                            "color": "#C8D4E3"
                          },
                          "line": {
                            "color": "white"
                          }
                        },
                        "type": "table"
                      }
                    ]
                  },
                  "layout": {
                    "annotationdefaults": {
                      "arrowcolor": "#2a3f5f",
                      "arrowhead": 0,
                      "arrowwidth": 1
                    },
                    "autotypenumbers": "strict",
                    "coloraxis": {
                      "colorbar": {
                        "outlinewidth": 0,
                        "ticks": ""
                      }
                    },
                    "colorscale": {
                      "diverging": [
                        [
                          0,
                          "#8e0152"
                        ],
                        [
                          0.1,
                          "#c51b7d"
                        ],
                        [
                          0.2,
                          "#de77ae"
                        ],
                        [
                          0.3,
                          "#f1b6da"
                        ],
                        [
                          0.4,
                          "#fde0ef"
                        ],
                        [
                          0.5,
                          "#f7f7f7"
                        ],
                        [
                          0.6,
                          "#e6f5d0"
                        ],
                        [
                          0.7,
                          "#b8e186"
                        ],
                        [
                          0.8,
                          "#7fbc41"
                        ],
                        [
                          0.9,
                          "#4d9221"
                        ],
                        [
                          1,
                          "#276419"
                        ]
                      ],
                      "sequential": [
                        [
                          0,
                          "#0d0887"
                        ],
                        [
                          0.1111111111111111,
                          "#46039f"
                        ],
                        [
                          0.2222222222222222,
                          "#7201a8"
                        ],
                        [
                          0.3333333333333333,
                          "#9c179e"
                        ],
                        [
                          0.4444444444444444,
                          "#bd3786"
                        ],
                        [
                          0.5555555555555556,
                          "#d8576b"
                        ],
                        [
                          0.6666666666666666,
                          "#ed7953"
                        ],
                        [
                          0.7777777777777778,
                          "#fb9f3a"
                        ],
                        [
                          0.8888888888888888,
                          "#fdca26"
                        ],
                        [
                          1,
                          "#f0f921"
                        ]
                      ],
                      "sequentialminus": [
                        [
                          0,
                          "#0d0887"
                        ],
                        [
                          0.1111111111111111,
                          "#46039f"
                        ],
                        [
                          0.2222222222222222,
                          "#7201a8"
                        ],
                        [
                          0.3333333333333333,
                          "#9c179e"
                        ],
                        [
                          0.4444444444444444,
                          "#bd3786"
                        ],
                        [
                          0.5555555555555556,
                          "#d8576b"
                        ],
                        [
                          0.6666666666666666,
                          "#ed7953"
                        ],
                        [
                          0.7777777777777778,
                          "#fb9f3a"
                        ],
                        [
                          0.8888888888888888,
                          "#fdca26"
                        ],
                        [
                          1,
                          "#f0f921"
                        ]
                      ]
                    },
                    "colorway": [
                      "#636efa",
                      "#EF553B",
                      "#00cc96",
                      "#ab63fa",
                      "#FFA15A",
                      "#19d3f3",
                      "#FF6692",
                      "#B6E880",
                      "#FF97FF",
                      "#FECB52"
                    ],
                    "font": {
                      "color": "#2a3f5f"
                    },
                    "geo": {
                      "bgcolor": "white",
                      "lakecolor": "white",
                      "landcolor": "#E5ECF6",
                      "showlakes": true,
                      "showland": true,
                      "subunitcolor": "white"
                    },
                    "hoverlabel": {
                      "align": "left"
                    },
                    "hovermode": "closest",
                    "mapbox": {
                      "style": "light"
                    },
                    "paper_bgcolor": "white",
                    "plot_bgcolor": "#E5ECF6",
                    "polar": {
                      "angularaxis": {
                        "gridcolor": "white",
                        "linecolor": "white",
                        "ticks": ""
                      },
                      "bgcolor": "#E5ECF6",
                      "radialaxis": {
                        "gridcolor": "white",
                        "linecolor": "white",
                        "ticks": ""
                      }
                    },
                    "scene": {
                      "xaxis": {
                        "backgroundcolor": "#E5ECF6",
                        "gridcolor": "white",
                        "gridwidth": 2,
                        "linecolor": "white",
                        "showbackground": true,
                        "ticks": "",
                        "zerolinecolor": "white"
                      },
                      "yaxis": {
                        "backgroundcolor": "#E5ECF6",
                        "gridcolor": "white",
                        "gridwidth": 2,
                        "linecolor": "white",
                        "showbackground": true,
                        "ticks": "",
                        "zerolinecolor": "white"
                      },
                      "zaxis": {
                        "backgroundcolor": "#E5ECF6",
                        "gridcolor": "white",
                        "gridwidth": 2,
                        "linecolor": "white",
                        "showbackground": true,
                        "ticks": "",
                        "zerolinecolor": "white"
                      }
                    },
                    "shapedefaults": {
                      "line": {
                        "color": "#2a3f5f"
                      }
                    },
                    "ternary": {
                      "aaxis": {
                        "gridcolor": "white",
                        "linecolor": "white",
                        "ticks": ""
                      },
                      "baxis": {
                        "gridcolor": "white",
                        "linecolor": "white",
                        "ticks": ""
                      },
                      "bgcolor": "#E5ECF6",
                      "caxis": {
                        "gridcolor": "white",
                        "linecolor": "white",
                        "ticks": ""
                      }
                    },
                    "title": {
                      "x": 0.05
                    },
                    "xaxis": {
                      "automargin": true,
                      "gridcolor": "white",
                      "linecolor": "white",
                      "ticks": "",
                      "title": {
                        "standoff": 15
                      },
                      "zerolinecolor": "white",
                      "zerolinewidth": 2
                    },
                    "yaxis": {
                      "automargin": true,
                      "gridcolor": "white",
                      "linecolor": "white",
                      "ticks": "",
                      "title": {
                        "standoff": 15
                      },
                      "zerolinecolor": "white",
                      "zerolinewidth": 2
                    }
                  }
                },
                "title": {
                  "font": {
                    "color": "#4D5663"
                  },
                  "text": "Scatter Plot for Iris Data"
                },
                "xaxis": {
                  "gridcolor": "#E1E5ED",
                  "showgrid": true,
                  "tickfont": {
                    "color": "#4D5663"
                  },
                  "title": {
                    "font": {
                      "color": "#4D5663"
                    },
                    "text": ""
                  },
                  "zerolinecolor": "#E1E5ED"
                },
                "yaxis": {
                  "gridcolor": "#E1E5ED",
                  "showgrid": true,
                  "tickfont": {
                    "color": "#4D5663"
                  },
                  "title": {
                    "font": {
                      "color": "#4D5663"
                    },
                    "text": ""
                  },
                  "zerolinecolor": "#E1E5ED"
                }
              }
            },
            "text/html": [
              "<div>                            <div id=\"8c49c6a1-6d17-4749-aa42-4230bd60ef9b\" class=\"plotly-graph-div\" style=\"height:525px; width:100%;\"></div>            <script type=\"text/javascript\">                require([\"plotly\"], function(Plotly) {                    window.PLOTLYENV=window.PLOTLYENV || {};\n",
              "                    window.PLOTLYENV.BASE_URL='https://plot.ly';                                    if (document.getElementById(\"8c49c6a1-6d17-4749-aa42-4230bd60ef9b\")) {                    Plotly.newPlot(                        \"8c49c6a1-6d17-4749-aa42-4230bd60ef9b\",                        [{\"marker\":{\"color\":\"rgba(255, 153, 51, 1.0)\",\"line\":{\"width\":1.3},\"opacity\":0.8,\"size\":12,\"symbol\":\"circle\"},\"mode\":\"markers\",\"name\":\"setosa\",\"textfont\":{\"color\":\"#4D5663\"},\"x\":[5.1,4.9,4.7,4.6,5.0,5.4,4.6,5.0,4.4,4.9,5.4,4.8,4.8,4.3,5.8,5.7,5.4,5.1,5.7,5.1,5.4,5.1,4.6,5.1,4.8,5.0,5.0,5.2,5.2,4.7,4.8,5.4,5.2,5.5,4.9,5.0,5.5,4.9,4.4,5.1,5.0,4.5,4.4,5.0,5.1,4.8,5.1,4.6,5.3,5.0],\"y\":[1.4,1.4,1.3,1.5,1.4,1.7,1.4,1.5,1.4,1.5,1.5,1.6,1.4,1.1,1.2,1.5,1.3,1.4,1.7,1.5,1.7,1.5,1.0,1.7,1.9,1.6,1.6,1.5,1.4,1.6,1.6,1.5,1.5,1.4,1.5,1.2,1.3,1.4,1.3,1.5,1.3,1.3,1.3,1.6,1.9,1.4,1.6,1.4,1.5,1.4],\"type\":\"scatter\"},{\"marker\":{\"color\":\"rgba(55, 128, 191, 1.0)\",\"line\":{\"width\":1.3},\"opacity\":0.8,\"size\":12,\"symbol\":\"circle\"},\"mode\":\"markers\",\"name\":\"versicolor\",\"textfont\":{\"color\":\"#4D5663\"},\"x\":[7.0,6.4,6.9,5.5,6.5,5.7,6.3,4.9,6.6,5.2,5.0,5.9,6.0,6.1,5.6,6.7,5.6,5.8,6.2,5.6,5.9,6.1,6.3,6.1,6.4,6.6,6.8,6.7,6.0,5.7,5.5,5.5,5.8,6.0,5.4,6.0,6.7,6.3,5.6,5.5,5.5,6.1,5.8,5.0,5.6,5.7,5.7,6.2,5.1,5.7],\"y\":[4.7,4.5,4.9,4.0,4.6,4.5,4.7,3.3,4.6,3.9,3.5,4.2,4.0,4.7,3.6,4.4,4.5,4.1,4.5,3.9,4.8,4.0,4.9,4.7,4.3,4.4,4.8,5.0,4.5,3.5,3.8,3.7,3.9,5.1,4.5,4.5,4.7,4.4,4.1,4.0,4.4,4.6,4.0,3.3,4.2,4.2,4.2,4.3,3.0,4.1],\"type\":\"scatter\"},{\"marker\":{\"color\":\"rgba(50, 171, 96, 1.0)\",\"line\":{\"width\":1.3},\"opacity\":0.8,\"size\":12,\"symbol\":\"circle\"},\"mode\":\"markers\",\"name\":\"virginica\",\"textfont\":{\"color\":\"#4D5663\"},\"x\":[6.3,5.8,7.1,6.3,6.5,7.6,4.9,7.3,6.7,7.2,6.5,6.4,6.8,5.7,5.8,6.4,6.5,7.7,7.7,6.0,6.9,5.6,7.7,6.3,6.7,7.2,6.2,6.1,6.4,7.2,7.4,7.9,6.4,6.3,6.1,7.7,6.3,6.4,6.0,6.9,6.7,6.9,5.8,6.8,6.7,6.7,6.3,6.5,6.2,5.9],\"y\":[6.0,5.1,5.9,5.6,5.8,6.6,4.5,6.3,5.8,6.1,5.1,5.3,5.5,5.0,5.1,5.3,5.5,6.7,6.9,5.0,5.7,4.9,6.7,4.9,5.7,6.0,4.8,4.9,5.6,5.8,6.1,6.4,5.6,5.1,5.6,6.1,5.6,5.5,4.8,5.4,5.6,5.1,5.1,5.9,5.7,5.2,5.0,5.2,5.4,5.1],\"type\":\"scatter\"}],                        {\"legend\":{\"bgcolor\":\"#F5F6F9\",\"font\":{\"color\":\"#4D5663\"}},\"paper_bgcolor\":\"#F5F6F9\",\"plot_bgcolor\":\"#F5F6F9\",\"template\":{\"data\":{\"barpolar\":[{\"marker\":{\"line\":{\"color\":\"#E5ECF6\",\"width\":0.5},\"pattern\":{\"fillmode\":\"overlay\",\"size\":10,\"solidity\":0.2}},\"type\":\"barpolar\"}],\"bar\":[{\"error_x\":{\"color\":\"#2a3f5f\"},\"error_y\":{\"color\":\"#2a3f5f\"},\"marker\":{\"line\":{\"color\":\"#E5ECF6\",\"width\":0.5},\"pattern\":{\"fillmode\":\"overlay\",\"size\":10,\"solidity\":0.2}},\"type\":\"bar\"}],\"carpet\":[{\"aaxis\":{\"endlinecolor\":\"#2a3f5f\",\"gridcolor\":\"white\",\"linecolor\":\"white\",\"minorgridcolor\":\"white\",\"startlinecolor\":\"#2a3f5f\"},\"baxis\":{\"endlinecolor\":\"#2a3f5f\",\"gridcolor\":\"white\",\"linecolor\":\"white\",\"minorgridcolor\":\"white\",\"startlinecolor\":\"#2a3f5f\"},\"type\":\"carpet\"}],\"choropleth\":[{\"colorbar\":{\"outlinewidth\":0,\"ticks\":\"\"},\"type\":\"choropleth\"}],\"contourcarpet\":[{\"colorbar\":{\"outlinewidth\":0,\"ticks\":\"\"},\"type\":\"contourcarpet\"}],\"contour\":[{\"colorbar\":{\"outlinewidth\":0,\"ticks\":\"\"},\"colorscale\":[[0.0,\"#0d0887\"],[0.1111111111111111,\"#46039f\"],[0.2222222222222222,\"#7201a8\"],[0.3333333333333333,\"#9c179e\"],[0.4444444444444444,\"#bd3786\"],[0.5555555555555556,\"#d8576b\"],[0.6666666666666666,\"#ed7953\"],[0.7777777777777778,\"#fb9f3a\"],[0.8888888888888888,\"#fdca26\"],[1.0,\"#f0f921\"]],\"type\":\"contour\"}],\"heatmapgl\":[{\"colorbar\":{\"outlinewidth\":0,\"ticks\":\"\"},\"colorscale\":[[0.0,\"#0d0887\"],[0.1111111111111111,\"#46039f\"],[0.2222222222222222,\"#7201a8\"],[0.3333333333333333,\"#9c179e\"],[0.4444444444444444,\"#bd3786\"],[0.5555555555555556,\"#d8576b\"],[0.6666666666666666,\"#ed7953\"],[0.7777777777777778,\"#fb9f3a\"],[0.8888888888888888,\"#fdca26\"],[1.0,\"#f0f921\"]],\"type\":\"heatmapgl\"}],\"heatmap\":[{\"colorbar\":{\"outlinewidth\":0,\"ticks\":\"\"},\"colorscale\":[[0.0,\"#0d0887\"],[0.1111111111111111,\"#46039f\"],[0.2222222222222222,\"#7201a8\"],[0.3333333333333333,\"#9c179e\"],[0.4444444444444444,\"#bd3786\"],[0.5555555555555556,\"#d8576b\"],[0.6666666666666666,\"#ed7953\"],[0.7777777777777778,\"#fb9f3a\"],[0.8888888888888888,\"#fdca26\"],[1.0,\"#f0f921\"]],\"type\":\"heatmap\"}],\"histogram2dcontour\":[{\"colorbar\":{\"outlinewidth\":0,\"ticks\":\"\"},\"colorscale\":[[0.0,\"#0d0887\"],[0.1111111111111111,\"#46039f\"],[0.2222222222222222,\"#7201a8\"],[0.3333333333333333,\"#9c179e\"],[0.4444444444444444,\"#bd3786\"],[0.5555555555555556,\"#d8576b\"],[0.6666666666666666,\"#ed7953\"],[0.7777777777777778,\"#fb9f3a\"],[0.8888888888888888,\"#fdca26\"],[1.0,\"#f0f921\"]],\"type\":\"histogram2dcontour\"}],\"histogram2d\":[{\"colorbar\":{\"outlinewidth\":0,\"ticks\":\"\"},\"colorscale\":[[0.0,\"#0d0887\"],[0.1111111111111111,\"#46039f\"],[0.2222222222222222,\"#7201a8\"],[0.3333333333333333,\"#9c179e\"],[0.4444444444444444,\"#bd3786\"],[0.5555555555555556,\"#d8576b\"],[0.6666666666666666,\"#ed7953\"],[0.7777777777777778,\"#fb9f3a\"],[0.8888888888888888,\"#fdca26\"],[1.0,\"#f0f921\"]],\"type\":\"histogram2d\"}],\"histogram\":[{\"marker\":{\"pattern\":{\"fillmode\":\"overlay\",\"size\":10,\"solidity\":0.2}},\"type\":\"histogram\"}],\"mesh3d\":[{\"colorbar\":{\"outlinewidth\":0,\"ticks\":\"\"},\"type\":\"mesh3d\"}],\"parcoords\":[{\"line\":{\"colorbar\":{\"outlinewidth\":0,\"ticks\":\"\"}},\"type\":\"parcoords\"}],\"pie\":[{\"automargin\":true,\"type\":\"pie\"}],\"scatter3d\":[{\"line\":{\"colorbar\":{\"outlinewidth\":0,\"ticks\":\"\"}},\"marker\":{\"colorbar\":{\"outlinewidth\":0,\"ticks\":\"\"}},\"type\":\"scatter3d\"}],\"scattercarpet\":[{\"marker\":{\"colorbar\":{\"outlinewidth\":0,\"ticks\":\"\"}},\"type\":\"scattercarpet\"}],\"scattergeo\":[{\"marker\":{\"colorbar\":{\"outlinewidth\":0,\"ticks\":\"\"}},\"type\":\"scattergeo\"}],\"scattergl\":[{\"marker\":{\"colorbar\":{\"outlinewidth\":0,\"ticks\":\"\"}},\"type\":\"scattergl\"}],\"scattermapbox\":[{\"marker\":{\"colorbar\":{\"outlinewidth\":0,\"ticks\":\"\"}},\"type\":\"scattermapbox\"}],\"scatterpolargl\":[{\"marker\":{\"colorbar\":{\"outlinewidth\":0,\"ticks\":\"\"}},\"type\":\"scatterpolargl\"}],\"scatterpolar\":[{\"marker\":{\"colorbar\":{\"outlinewidth\":0,\"ticks\":\"\"}},\"type\":\"scatterpolar\"}],\"scatter\":[{\"fillpattern\":{\"fillmode\":\"overlay\",\"size\":10,\"solidity\":0.2},\"type\":\"scatter\"}],\"scatterternary\":[{\"marker\":{\"colorbar\":{\"outlinewidth\":0,\"ticks\":\"\"}},\"type\":\"scatterternary\"}],\"surface\":[{\"colorbar\":{\"outlinewidth\":0,\"ticks\":\"\"},\"colorscale\":[[0.0,\"#0d0887\"],[0.1111111111111111,\"#46039f\"],[0.2222222222222222,\"#7201a8\"],[0.3333333333333333,\"#9c179e\"],[0.4444444444444444,\"#bd3786\"],[0.5555555555555556,\"#d8576b\"],[0.6666666666666666,\"#ed7953\"],[0.7777777777777778,\"#fb9f3a\"],[0.8888888888888888,\"#fdca26\"],[1.0,\"#f0f921\"]],\"type\":\"surface\"}],\"table\":[{\"cells\":{\"fill\":{\"color\":\"#EBF0F8\"},\"line\":{\"color\":\"white\"}},\"header\":{\"fill\":{\"color\":\"#C8D4E3\"},\"line\":{\"color\":\"white\"}},\"type\":\"table\"}]},\"layout\":{\"annotationdefaults\":{\"arrowcolor\":\"#2a3f5f\",\"arrowhead\":0,\"arrowwidth\":1},\"autotypenumbers\":\"strict\",\"coloraxis\":{\"colorbar\":{\"outlinewidth\":0,\"ticks\":\"\"}},\"colorscale\":{\"diverging\":[[0,\"#8e0152\"],[0.1,\"#c51b7d\"],[0.2,\"#de77ae\"],[0.3,\"#f1b6da\"],[0.4,\"#fde0ef\"],[0.5,\"#f7f7f7\"],[0.6,\"#e6f5d0\"],[0.7,\"#b8e186\"],[0.8,\"#7fbc41\"],[0.9,\"#4d9221\"],[1,\"#276419\"]],\"sequential\":[[0.0,\"#0d0887\"],[0.1111111111111111,\"#46039f\"],[0.2222222222222222,\"#7201a8\"],[0.3333333333333333,\"#9c179e\"],[0.4444444444444444,\"#bd3786\"],[0.5555555555555556,\"#d8576b\"],[0.6666666666666666,\"#ed7953\"],[0.7777777777777778,\"#fb9f3a\"],[0.8888888888888888,\"#fdca26\"],[1.0,\"#f0f921\"]],\"sequentialminus\":[[0.0,\"#0d0887\"],[0.1111111111111111,\"#46039f\"],[0.2222222222222222,\"#7201a8\"],[0.3333333333333333,\"#9c179e\"],[0.4444444444444444,\"#bd3786\"],[0.5555555555555556,\"#d8576b\"],[0.6666666666666666,\"#ed7953\"],[0.7777777777777778,\"#fb9f3a\"],[0.8888888888888888,\"#fdca26\"],[1.0,\"#f0f921\"]]},\"colorway\":[\"#636efa\",\"#EF553B\",\"#00cc96\",\"#ab63fa\",\"#FFA15A\",\"#19d3f3\",\"#FF6692\",\"#B6E880\",\"#FF97FF\",\"#FECB52\"],\"font\":{\"color\":\"#2a3f5f\"},\"geo\":{\"bgcolor\":\"white\",\"lakecolor\":\"white\",\"landcolor\":\"#E5ECF6\",\"showlakes\":true,\"showland\":true,\"subunitcolor\":\"white\"},\"hoverlabel\":{\"align\":\"left\"},\"hovermode\":\"closest\",\"mapbox\":{\"style\":\"light\"},\"paper_bgcolor\":\"white\",\"plot_bgcolor\":\"#E5ECF6\",\"polar\":{\"angularaxis\":{\"gridcolor\":\"white\",\"linecolor\":\"white\",\"ticks\":\"\"},\"bgcolor\":\"#E5ECF6\",\"radialaxis\":{\"gridcolor\":\"white\",\"linecolor\":\"white\",\"ticks\":\"\"}},\"scene\":{\"xaxis\":{\"backgroundcolor\":\"#E5ECF6\",\"gridcolor\":\"white\",\"gridwidth\":2,\"linecolor\":\"white\",\"showbackground\":true,\"ticks\":\"\",\"zerolinecolor\":\"white\"},\"yaxis\":{\"backgroundcolor\":\"#E5ECF6\",\"gridcolor\":\"white\",\"gridwidth\":2,\"linecolor\":\"white\",\"showbackground\":true,\"ticks\":\"\",\"zerolinecolor\":\"white\"},\"zaxis\":{\"backgroundcolor\":\"#E5ECF6\",\"gridcolor\":\"white\",\"gridwidth\":2,\"linecolor\":\"white\",\"showbackground\":true,\"ticks\":\"\",\"zerolinecolor\":\"white\"}},\"shapedefaults\":{\"line\":{\"color\":\"#2a3f5f\"}},\"ternary\":{\"aaxis\":{\"gridcolor\":\"white\",\"linecolor\":\"white\",\"ticks\":\"\"},\"baxis\":{\"gridcolor\":\"white\",\"linecolor\":\"white\",\"ticks\":\"\"},\"bgcolor\":\"#E5ECF6\",\"caxis\":{\"gridcolor\":\"white\",\"linecolor\":\"white\",\"ticks\":\"\"}},\"title\":{\"x\":0.05},\"xaxis\":{\"automargin\":true,\"gridcolor\":\"white\",\"linecolor\":\"white\",\"ticks\":\"\",\"title\":{\"standoff\":15},\"zerolinecolor\":\"white\",\"zerolinewidth\":2},\"yaxis\":{\"automargin\":true,\"gridcolor\":\"white\",\"linecolor\":\"white\",\"ticks\":\"\",\"title\":{\"standoff\":15},\"zerolinecolor\":\"white\",\"zerolinewidth\":2}}},\"title\":{\"font\":{\"color\":\"#4D5663\"},\"text\":\"Scatter Plot for Iris Data\"},\"xaxis\":{\"gridcolor\":\"#E1E5ED\",\"showgrid\":true,\"tickfont\":{\"color\":\"#4D5663\"},\"title\":{\"font\":{\"color\":\"#4D5663\"},\"text\":\"\"},\"zerolinecolor\":\"#E1E5ED\"},\"yaxis\":{\"gridcolor\":\"#E1E5ED\",\"showgrid\":true,\"tickfont\":{\"color\":\"#4D5663\"},\"title\":{\"font\":{\"color\":\"#4D5663\"},\"text\":\"\"},\"zerolinecolor\":\"#E1E5ED\"}},                        {\"showLink\": true, \"linkText\": \"Export to plot.ly\", \"plotlyServerURL\": \"https://plot.ly\", \"responsive\": true}                    ).then(function(){\n",
              "                            \n",
              "var gd = document.getElementById('8c49c6a1-6d17-4749-aa42-4230bd60ef9b');\n",
              "var x = new MutationObserver(function (mutations, observer) {{\n",
              "        var display = window.getComputedStyle(gd).display;\n",
              "        if (!display || display === 'none') {{\n",
              "            console.log([gd, 'removed!']);\n",
              "            Plotly.purge(gd);\n",
              "            observer.disconnect();\n",
              "        }}\n",
              "}});\n",
              "\n",
              "// Listen for the removal of the full notebook cells\n",
              "var notebookContainer = gd.closest('#notebook-container');\n",
              "if (notebookContainer) {{\n",
              "    x.observe(notebookContainer, {childList: true});\n",
              "}}\n",
              "\n",
              "// Listen for the clearing of the current output cell\n",
              "var outputEl = gd.closest('.output');\n",
              "if (outputEl) {{\n",
              "    x.observe(outputEl, {childList: true});\n",
              "}}\n",
              "\n",
              "                        })                };                });            </script>        </div>"
            ]
          },
          "metadata": {},
          "output_type": "display_data"
        }
      ],
      "source": [
        "iris.iplot(kind='scatter', mode='markers',\n",
        "           x='sepal_length', y='petal_length',\n",
        "           categories='species', title='Scatter Plot for Iris Data')"
      ]
    },
    {
      "cell_type": "markdown",
      "id": "b72a05de",
      "metadata": {
        "id": "b72a05de"
      },
      "source": [
        "* iris 데이터의 'sepal_length'를 x값, 'petal_length'를 y값으로 지정하여 x와 y의 관계를 나타내는 산점도를 그렸습니다.\n",
        "<br><br>\n",
        "* **categories='species'**\n",
        "\n",
        "    categories 파라미터를 'species'로 지정하여 species별로 다른 색상의 점이 나타납니다.\n",
        "<br><br>\n",
        "* **title='Scatter Plot for Iris Data**\n",
        "\n",
        "    title 파라미터에 문자열을 할당해 차트의 제목을 추가했습니다."
      ]
    },
    {
      "cell_type": "markdown",
      "id": "6dba850d",
      "metadata": {
        "id": "6dba850d"
      },
      "source": [
        "<br>"
      ]
    },
    {
      "cell_type": "code",
      "execution_count": null,
      "id": "a70b8ab8",
      "metadata": {
        "id": "a70b8ab8",
        "outputId": "190591b4-488f-400e-d8be-a0b111938943"
      },
      "outputs": [
        {
          "data": {
            "application/vnd.plotly.v1+json": {
              "config": {
                "linkText": "Export to plot.ly",
                "plotlyServerURL": "https://plot.ly",
                "showLink": true
              },
              "data": [
                {
                  "marker": {
                    "color": "rgba(255, 153, 51, 1.0)",
                    "line": {
                      "width": 1.3
                    },
                    "opacity": 0.8,
                    "size": 12,
                    "symbol": "circle"
                  },
                  "mode": "markers",
                  "name": "setosa",
                  "textfont": {
                    "color": "#4D5663"
                  },
                  "type": "scatter",
                  "x": [
                    5.1,
                    4.9,
                    4.7,
                    4.6,
                    5,
                    5.4,
                    4.6,
                    5,
                    4.4,
                    4.9,
                    5.4,
                    4.8,
                    4.8,
                    4.3,
                    5.8,
                    5.7,
                    5.4,
                    5.1,
                    5.7,
                    5.1,
                    5.4,
                    5.1,
                    4.6,
                    5.1,
                    4.8,
                    5,
                    5,
                    5.2,
                    5.2,
                    4.7,
                    4.8,
                    5.4,
                    5.2,
                    5.5,
                    4.9,
                    5,
                    5.5,
                    4.9,
                    4.4,
                    5.1,
                    5,
                    4.5,
                    4.4,
                    5,
                    5.1,
                    4.8,
                    5.1,
                    4.6,
                    5.3,
                    5
                  ],
                  "xaxis": "x",
                  "y": [
                    1.4,
                    1.4,
                    1.3,
                    1.5,
                    1.4,
                    1.7,
                    1.4,
                    1.5,
                    1.4,
                    1.5,
                    1.5,
                    1.6,
                    1.4,
                    1.1,
                    1.2,
                    1.5,
                    1.3,
                    1.4,
                    1.7,
                    1.5,
                    1.7,
                    1.5,
                    1,
                    1.7,
                    1.9,
                    1.6,
                    1.6,
                    1.5,
                    1.4,
                    1.6,
                    1.6,
                    1.5,
                    1.5,
                    1.4,
                    1.5,
                    1.2,
                    1.3,
                    1.4,
                    1.3,
                    1.5,
                    1.3,
                    1.3,
                    1.3,
                    1.6,
                    1.9,
                    1.4,
                    1.6,
                    1.4,
                    1.5,
                    1.4
                  ],
                  "yaxis": "y"
                },
                {
                  "marker": {
                    "color": "rgba(55, 128, 191, 1.0)",
                    "line": {
                      "width": 1.3
                    },
                    "opacity": 0.8,
                    "size": 12,
                    "symbol": "circle"
                  },
                  "mode": "markers",
                  "name": "versicolor",
                  "textfont": {
                    "color": "#4D5663"
                  },
                  "type": "scatter",
                  "x": [
                    7,
                    6.4,
                    6.9,
                    5.5,
                    6.5,
                    5.7,
                    6.3,
                    4.9,
                    6.6,
                    5.2,
                    5,
                    5.9,
                    6,
                    6.1,
                    5.6,
                    6.7,
                    5.6,
                    5.8,
                    6.2,
                    5.6,
                    5.9,
                    6.1,
                    6.3,
                    6.1,
                    6.4,
                    6.6,
                    6.8,
                    6.7,
                    6,
                    5.7,
                    5.5,
                    5.5,
                    5.8,
                    6,
                    5.4,
                    6,
                    6.7,
                    6.3,
                    5.6,
                    5.5,
                    5.5,
                    6.1,
                    5.8,
                    5,
                    5.6,
                    5.7,
                    5.7,
                    6.2,
                    5.1,
                    5.7
                  ],
                  "xaxis": "x2",
                  "y": [
                    4.7,
                    4.5,
                    4.9,
                    4,
                    4.6,
                    4.5,
                    4.7,
                    3.3,
                    4.6,
                    3.9,
                    3.5,
                    4.2,
                    4,
                    4.7,
                    3.6,
                    4.4,
                    4.5,
                    4.1,
                    4.5,
                    3.9,
                    4.8,
                    4,
                    4.9,
                    4.7,
                    4.3,
                    4.4,
                    4.8,
                    5,
                    4.5,
                    3.5,
                    3.8,
                    3.7,
                    3.9,
                    5.1,
                    4.5,
                    4.5,
                    4.7,
                    4.4,
                    4.1,
                    4,
                    4.4,
                    4.6,
                    4,
                    3.3,
                    4.2,
                    4.2,
                    4.2,
                    4.3,
                    3,
                    4.1
                  ],
                  "yaxis": "y2"
                },
                {
                  "marker": {
                    "color": "rgba(50, 171, 96, 1.0)",
                    "line": {
                      "width": 1.3
                    },
                    "opacity": 0.8,
                    "size": 12,
                    "symbol": "circle"
                  },
                  "mode": "markers",
                  "name": "virginica",
                  "textfont": {
                    "color": "#4D5663"
                  },
                  "type": "scatter",
                  "x": [
                    6.3,
                    5.8,
                    7.1,
                    6.3,
                    6.5,
                    7.6,
                    4.9,
                    7.3,
                    6.7,
                    7.2,
                    6.5,
                    6.4,
                    6.8,
                    5.7,
                    5.8,
                    6.4,
                    6.5,
                    7.7,
                    7.7,
                    6,
                    6.9,
                    5.6,
                    7.7,
                    6.3,
                    6.7,
                    7.2,
                    6.2,
                    6.1,
                    6.4,
                    7.2,
                    7.4,
                    7.9,
                    6.4,
                    6.3,
                    6.1,
                    7.7,
                    6.3,
                    6.4,
                    6,
                    6.9,
                    6.7,
                    6.9,
                    5.8,
                    6.8,
                    6.7,
                    6.7,
                    6.3,
                    6.5,
                    6.2,
                    5.9
                  ],
                  "xaxis": "x3",
                  "y": [
                    6,
                    5.1,
                    5.9,
                    5.6,
                    5.8,
                    6.6,
                    4.5,
                    6.3,
                    5.8,
                    6.1,
                    5.1,
                    5.3,
                    5.5,
                    5,
                    5.1,
                    5.3,
                    5.5,
                    6.7,
                    6.9,
                    5,
                    5.7,
                    4.9,
                    6.7,
                    4.9,
                    5.7,
                    6,
                    4.8,
                    4.9,
                    5.6,
                    5.8,
                    6.1,
                    6.4,
                    5.6,
                    5.1,
                    5.6,
                    6.1,
                    5.6,
                    5.5,
                    4.8,
                    5.4,
                    5.6,
                    5.1,
                    5.1,
                    5.9,
                    5.7,
                    5.2,
                    5,
                    5.2,
                    5.4,
                    5.1
                  ],
                  "yaxis": "y3"
                }
              ],
              "layout": {
                "annotations": [
                  {
                    "font": {
                      "size": 16
                    },
                    "showarrow": false,
                    "text": "setosa",
                    "x": 0.225,
                    "xanchor": "center",
                    "xref": "paper",
                    "y": 1,
                    "yanchor": "bottom",
                    "yref": "paper"
                  },
                  {
                    "font": {
                      "size": 16
                    },
                    "showarrow": false,
                    "text": "versicolor",
                    "x": 0.775,
                    "xanchor": "center",
                    "xref": "paper",
                    "y": 1,
                    "yanchor": "bottom",
                    "yref": "paper"
                  },
                  {
                    "font": {
                      "size": 16
                    },
                    "showarrow": false,
                    "text": "virginica",
                    "x": 0.225,
                    "xanchor": "center",
                    "xref": "paper",
                    "y": 0.375,
                    "yanchor": "bottom",
                    "yref": "paper"
                  }
                ],
                "legend": {
                  "bgcolor": "#F5F6F9",
                  "font": {
                    "color": "#4D5663"
                  }
                },
                "paper_bgcolor": "#F5F6F9",
                "plot_bgcolor": "#F5F6F9",
                "showlegend": false,
                "template": {
                  "data": {
                    "bar": [
                      {
                        "error_x": {
                          "color": "#2a3f5f"
                        },
                        "error_y": {
                          "color": "#2a3f5f"
                        },
                        "marker": {
                          "line": {
                            "color": "#E5ECF6",
                            "width": 0.5
                          },
                          "pattern": {
                            "fillmode": "overlay",
                            "size": 10,
                            "solidity": 0.2
                          }
                        },
                        "type": "bar"
                      }
                    ],
                    "barpolar": [
                      {
                        "marker": {
                          "line": {
                            "color": "#E5ECF6",
                            "width": 0.5
                          },
                          "pattern": {
                            "fillmode": "overlay",
                            "size": 10,
                            "solidity": 0.2
                          }
                        },
                        "type": "barpolar"
                      }
                    ],
                    "carpet": [
                      {
                        "aaxis": {
                          "endlinecolor": "#2a3f5f",
                          "gridcolor": "white",
                          "linecolor": "white",
                          "minorgridcolor": "white",
                          "startlinecolor": "#2a3f5f"
                        },
                        "baxis": {
                          "endlinecolor": "#2a3f5f",
                          "gridcolor": "white",
                          "linecolor": "white",
                          "minorgridcolor": "white",
                          "startlinecolor": "#2a3f5f"
                        },
                        "type": "carpet"
                      }
                    ],
                    "choropleth": [
                      {
                        "colorbar": {
                          "outlinewidth": 0,
                          "ticks": ""
                        },
                        "type": "choropleth"
                      }
                    ],
                    "contour": [
                      {
                        "colorbar": {
                          "outlinewidth": 0,
                          "ticks": ""
                        },
                        "colorscale": [
                          [
                            0,
                            "#0d0887"
                          ],
                          [
                            0.1111111111111111,
                            "#46039f"
                          ],
                          [
                            0.2222222222222222,
                            "#7201a8"
                          ],
                          [
                            0.3333333333333333,
                            "#9c179e"
                          ],
                          [
                            0.4444444444444444,
                            "#bd3786"
                          ],
                          [
                            0.5555555555555556,
                            "#d8576b"
                          ],
                          [
                            0.6666666666666666,
                            "#ed7953"
                          ],
                          [
                            0.7777777777777778,
                            "#fb9f3a"
                          ],
                          [
                            0.8888888888888888,
                            "#fdca26"
                          ],
                          [
                            1,
                            "#f0f921"
                          ]
                        ],
                        "type": "contour"
                      }
                    ],
                    "contourcarpet": [
                      {
                        "colorbar": {
                          "outlinewidth": 0,
                          "ticks": ""
                        },
                        "type": "contourcarpet"
                      }
                    ],
                    "heatmap": [
                      {
                        "colorbar": {
                          "outlinewidth": 0,
                          "ticks": ""
                        },
                        "colorscale": [
                          [
                            0,
                            "#0d0887"
                          ],
                          [
                            0.1111111111111111,
                            "#46039f"
                          ],
                          [
                            0.2222222222222222,
                            "#7201a8"
                          ],
                          [
                            0.3333333333333333,
                            "#9c179e"
                          ],
                          [
                            0.4444444444444444,
                            "#bd3786"
                          ],
                          [
                            0.5555555555555556,
                            "#d8576b"
                          ],
                          [
                            0.6666666666666666,
                            "#ed7953"
                          ],
                          [
                            0.7777777777777778,
                            "#fb9f3a"
                          ],
                          [
                            0.8888888888888888,
                            "#fdca26"
                          ],
                          [
                            1,
                            "#f0f921"
                          ]
                        ],
                        "type": "heatmap"
                      }
                    ],
                    "heatmapgl": [
                      {
                        "colorbar": {
                          "outlinewidth": 0,
                          "ticks": ""
                        },
                        "colorscale": [
                          [
                            0,
                            "#0d0887"
                          ],
                          [
                            0.1111111111111111,
                            "#46039f"
                          ],
                          [
                            0.2222222222222222,
                            "#7201a8"
                          ],
                          [
                            0.3333333333333333,
                            "#9c179e"
                          ],
                          [
                            0.4444444444444444,
                            "#bd3786"
                          ],
                          [
                            0.5555555555555556,
                            "#d8576b"
                          ],
                          [
                            0.6666666666666666,
                            "#ed7953"
                          ],
                          [
                            0.7777777777777778,
                            "#fb9f3a"
                          ],
                          [
                            0.8888888888888888,
                            "#fdca26"
                          ],
                          [
                            1,
                            "#f0f921"
                          ]
                        ],
                        "type": "heatmapgl"
                      }
                    ],
                    "histogram": [
                      {
                        "marker": {
                          "pattern": {
                            "fillmode": "overlay",
                            "size": 10,
                            "solidity": 0.2
                          }
                        },
                        "type": "histogram"
                      }
                    ],
                    "histogram2d": [
                      {
                        "colorbar": {
                          "outlinewidth": 0,
                          "ticks": ""
                        },
                        "colorscale": [
                          [
                            0,
                            "#0d0887"
                          ],
                          [
                            0.1111111111111111,
                            "#46039f"
                          ],
                          [
                            0.2222222222222222,
                            "#7201a8"
                          ],
                          [
                            0.3333333333333333,
                            "#9c179e"
                          ],
                          [
                            0.4444444444444444,
                            "#bd3786"
                          ],
                          [
                            0.5555555555555556,
                            "#d8576b"
                          ],
                          [
                            0.6666666666666666,
                            "#ed7953"
                          ],
                          [
                            0.7777777777777778,
                            "#fb9f3a"
                          ],
                          [
                            0.8888888888888888,
                            "#fdca26"
                          ],
                          [
                            1,
                            "#f0f921"
                          ]
                        ],
                        "type": "histogram2d"
                      }
                    ],
                    "histogram2dcontour": [
                      {
                        "colorbar": {
                          "outlinewidth": 0,
                          "ticks": ""
                        },
                        "colorscale": [
                          [
                            0,
                            "#0d0887"
                          ],
                          [
                            0.1111111111111111,
                            "#46039f"
                          ],
                          [
                            0.2222222222222222,
                            "#7201a8"
                          ],
                          [
                            0.3333333333333333,
                            "#9c179e"
                          ],
                          [
                            0.4444444444444444,
                            "#bd3786"
                          ],
                          [
                            0.5555555555555556,
                            "#d8576b"
                          ],
                          [
                            0.6666666666666666,
                            "#ed7953"
                          ],
                          [
                            0.7777777777777778,
                            "#fb9f3a"
                          ],
                          [
                            0.8888888888888888,
                            "#fdca26"
                          ],
                          [
                            1,
                            "#f0f921"
                          ]
                        ],
                        "type": "histogram2dcontour"
                      }
                    ],
                    "mesh3d": [
                      {
                        "colorbar": {
                          "outlinewidth": 0,
                          "ticks": ""
                        },
                        "type": "mesh3d"
                      }
                    ],
                    "parcoords": [
                      {
                        "line": {
                          "colorbar": {
                            "outlinewidth": 0,
                            "ticks": ""
                          }
                        },
                        "type": "parcoords"
                      }
                    ],
                    "pie": [
                      {
                        "automargin": true,
                        "type": "pie"
                      }
                    ],
                    "scatter": [
                      {
                        "fillpattern": {
                          "fillmode": "overlay",
                          "size": 10,
                          "solidity": 0.2
                        },
                        "type": "scatter"
                      }
                    ],
                    "scatter3d": [
                      {
                        "line": {
                          "colorbar": {
                            "outlinewidth": 0,
                            "ticks": ""
                          }
                        },
                        "marker": {
                          "colorbar": {
                            "outlinewidth": 0,
                            "ticks": ""
                          }
                        },
                        "type": "scatter3d"
                      }
                    ],
                    "scattercarpet": [
                      {
                        "marker": {
                          "colorbar": {
                            "outlinewidth": 0,
                            "ticks": ""
                          }
                        },
                        "type": "scattercarpet"
                      }
                    ],
                    "scattergeo": [
                      {
                        "marker": {
                          "colorbar": {
                            "outlinewidth": 0,
                            "ticks": ""
                          }
                        },
                        "type": "scattergeo"
                      }
                    ],
                    "scattergl": [
                      {
                        "marker": {
                          "colorbar": {
                            "outlinewidth": 0,
                            "ticks": ""
                          }
                        },
                        "type": "scattergl"
                      }
                    ],
                    "scattermapbox": [
                      {
                        "marker": {
                          "colorbar": {
                            "outlinewidth": 0,
                            "ticks": ""
                          }
                        },
                        "type": "scattermapbox"
                      }
                    ],
                    "scatterpolar": [
                      {
                        "marker": {
                          "colorbar": {
                            "outlinewidth": 0,
                            "ticks": ""
                          }
                        },
                        "type": "scatterpolar"
                      }
                    ],
                    "scatterpolargl": [
                      {
                        "marker": {
                          "colorbar": {
                            "outlinewidth": 0,
                            "ticks": ""
                          }
                        },
                        "type": "scatterpolargl"
                      }
                    ],
                    "scatterternary": [
                      {
                        "marker": {
                          "colorbar": {
                            "outlinewidth": 0,
                            "ticks": ""
                          }
                        },
                        "type": "scatterternary"
                      }
                    ],
                    "surface": [
                      {
                        "colorbar": {
                          "outlinewidth": 0,
                          "ticks": ""
                        },
                        "colorscale": [
                          [
                            0,
                            "#0d0887"
                          ],
                          [
                            0.1111111111111111,
                            "#46039f"
                          ],
                          [
                            0.2222222222222222,
                            "#7201a8"
                          ],
                          [
                            0.3333333333333333,
                            "#9c179e"
                          ],
                          [
                            0.4444444444444444,
                            "#bd3786"
                          ],
                          [
                            0.5555555555555556,
                            "#d8576b"
                          ],
                          [
                            0.6666666666666666,
                            "#ed7953"
                          ],
                          [
                            0.7777777777777778,
                            "#fb9f3a"
                          ],
                          [
                            0.8888888888888888,
                            "#fdca26"
                          ],
                          [
                            1,
                            "#f0f921"
                          ]
                        ],
                        "type": "surface"
                      }
                    ],
                    "table": [
                      {
                        "cells": {
                          "fill": {
                            "color": "#EBF0F8"
                          },
                          "line": {
                            "color": "white"
                          }
                        },
                        "header": {
                          "fill": {
                            "color": "#C8D4E3"
                          },
                          "line": {
                            "color": "white"
                          }
                        },
                        "type": "table"
                      }
                    ]
                  },
                  "layout": {
                    "annotationdefaults": {
                      "arrowcolor": "#2a3f5f",
                      "arrowhead": 0,
                      "arrowwidth": 1
                    },
                    "autotypenumbers": "strict",
                    "coloraxis": {
                      "colorbar": {
                        "outlinewidth": 0,
                        "ticks": ""
                      }
                    },
                    "colorscale": {
                      "diverging": [
                        [
                          0,
                          "#8e0152"
                        ],
                        [
                          0.1,
                          "#c51b7d"
                        ],
                        [
                          0.2,
                          "#de77ae"
                        ],
                        [
                          0.3,
                          "#f1b6da"
                        ],
                        [
                          0.4,
                          "#fde0ef"
                        ],
                        [
                          0.5,
                          "#f7f7f7"
                        ],
                        [
                          0.6,
                          "#e6f5d0"
                        ],
                        [
                          0.7,
                          "#b8e186"
                        ],
                        [
                          0.8,
                          "#7fbc41"
                        ],
                        [
                          0.9,
                          "#4d9221"
                        ],
                        [
                          1,
                          "#276419"
                        ]
                      ],
                      "sequential": [
                        [
                          0,
                          "#0d0887"
                        ],
                        [
                          0.1111111111111111,
                          "#46039f"
                        ],
                        [
                          0.2222222222222222,
                          "#7201a8"
                        ],
                        [
                          0.3333333333333333,
                          "#9c179e"
                        ],
                        [
                          0.4444444444444444,
                          "#bd3786"
                        ],
                        [
                          0.5555555555555556,
                          "#d8576b"
                        ],
                        [
                          0.6666666666666666,
                          "#ed7953"
                        ],
                        [
                          0.7777777777777778,
                          "#fb9f3a"
                        ],
                        [
                          0.8888888888888888,
                          "#fdca26"
                        ],
                        [
                          1,
                          "#f0f921"
                        ]
                      ],
                      "sequentialminus": [
                        [
                          0,
                          "#0d0887"
                        ],
                        [
                          0.1111111111111111,
                          "#46039f"
                        ],
                        [
                          0.2222222222222222,
                          "#7201a8"
                        ],
                        [
                          0.3333333333333333,
                          "#9c179e"
                        ],
                        [
                          0.4444444444444444,
                          "#bd3786"
                        ],
                        [
                          0.5555555555555556,
                          "#d8576b"
                        ],
                        [
                          0.6666666666666666,
                          "#ed7953"
                        ],
                        [
                          0.7777777777777778,
                          "#fb9f3a"
                        ],
                        [
                          0.8888888888888888,
                          "#fdca26"
                        ],
                        [
                          1,
                          "#f0f921"
                        ]
                      ]
                    },
                    "colorway": [
                      "#636efa",
                      "#EF553B",
                      "#00cc96",
                      "#ab63fa",
                      "#FFA15A",
                      "#19d3f3",
                      "#FF6692",
                      "#B6E880",
                      "#FF97FF",
                      "#FECB52"
                    ],
                    "font": {
                      "color": "#2a3f5f"
                    },
                    "geo": {
                      "bgcolor": "white",
                      "lakecolor": "white",
                      "landcolor": "#E5ECF6",
                      "showlakes": true,
                      "showland": true,
                      "subunitcolor": "white"
                    },
                    "hoverlabel": {
                      "align": "left"
                    },
                    "hovermode": "closest",
                    "mapbox": {
                      "style": "light"
                    },
                    "paper_bgcolor": "white",
                    "plot_bgcolor": "#E5ECF6",
                    "polar": {
                      "angularaxis": {
                        "gridcolor": "white",
                        "linecolor": "white",
                        "ticks": ""
                      },
                      "bgcolor": "#E5ECF6",
                      "radialaxis": {
                        "gridcolor": "white",
                        "linecolor": "white",
                        "ticks": ""
                      }
                    },
                    "scene": {
                      "xaxis": {
                        "backgroundcolor": "#E5ECF6",
                        "gridcolor": "white",
                        "gridwidth": 2,
                        "linecolor": "white",
                        "showbackground": true,
                        "ticks": "",
                        "zerolinecolor": "white"
                      },
                      "yaxis": {
                        "backgroundcolor": "#E5ECF6",
                        "gridcolor": "white",
                        "gridwidth": 2,
                        "linecolor": "white",
                        "showbackground": true,
                        "ticks": "",
                        "zerolinecolor": "white"
                      },
                      "zaxis": {
                        "backgroundcolor": "#E5ECF6",
                        "gridcolor": "white",
                        "gridwidth": 2,
                        "linecolor": "white",
                        "showbackground": true,
                        "ticks": "",
                        "zerolinecolor": "white"
                      }
                    },
                    "shapedefaults": {
                      "line": {
                        "color": "#2a3f5f"
                      }
                    },
                    "ternary": {
                      "aaxis": {
                        "gridcolor": "white",
                        "linecolor": "white",
                        "ticks": ""
                      },
                      "baxis": {
                        "gridcolor": "white",
                        "linecolor": "white",
                        "ticks": ""
                      },
                      "bgcolor": "#E5ECF6",
                      "caxis": {
                        "gridcolor": "white",
                        "linecolor": "white",
                        "ticks": ""
                      }
                    },
                    "title": {
                      "x": 0.05
                    },
                    "xaxis": {
                      "automargin": true,
                      "gridcolor": "white",
                      "linecolor": "white",
                      "ticks": "",
                      "title": {
                        "standoff": 15
                      },
                      "zerolinecolor": "white",
                      "zerolinewidth": 2
                    },
                    "yaxis": {
                      "automargin": true,
                      "gridcolor": "white",
                      "linecolor": "white",
                      "ticks": "",
                      "title": {
                        "standoff": 15
                      },
                      "zerolinecolor": "white",
                      "zerolinewidth": 2
                    }
                  }
                },
                "title": {
                  "font": {
                    "color": "#4D5663"
                  },
                  "text": "Scatter Plot for Iris Data"
                },
                "xaxis": {
                  "anchor": "y",
                  "domain": [
                    0,
                    0.45
                  ],
                  "gridcolor": "#E1E5ED",
                  "showgrid": true,
                  "tickfont": {
                    "color": "#4D5663"
                  },
                  "title": {
                    "font": {
                      "color": "#4D5663"
                    },
                    "text": ""
                  },
                  "zerolinecolor": "#E1E5ED"
                },
                "xaxis2": {
                  "anchor": "y2",
                  "domain": [
                    0.55,
                    1
                  ],
                  "gridcolor": "#E1E5ED",
                  "showgrid": true,
                  "tickfont": {
                    "color": "#4D5663"
                  },
                  "title": {
                    "font": {
                      "color": "#4D5663"
                    },
                    "text": ""
                  },
                  "zerolinecolor": "#E1E5ED"
                },
                "xaxis3": {
                  "anchor": "y3",
                  "domain": [
                    0,
                    0.45
                  ],
                  "gridcolor": "#E1E5ED",
                  "showgrid": true,
                  "tickfont": {
                    "color": "#4D5663"
                  },
                  "title": {
                    "font": {
                      "color": "#4D5663"
                    },
                    "text": ""
                  },
                  "zerolinecolor": "#E1E5ED"
                },
                "yaxis": {
                  "anchor": "x",
                  "domain": [
                    0.625,
                    1
                  ],
                  "gridcolor": "#E1E5ED",
                  "showgrid": true,
                  "tickfont": {
                    "color": "#4D5663"
                  },
                  "title": {
                    "font": {
                      "color": "#4D5663"
                    },
                    "text": ""
                  },
                  "zerolinecolor": "#E1E5ED"
                },
                "yaxis2": {
                  "anchor": "x2",
                  "domain": [
                    0.625,
                    1
                  ],
                  "gridcolor": "#E1E5ED",
                  "showgrid": true,
                  "tickfont": {
                    "color": "#4D5663"
                  },
                  "title": {
                    "font": {
                      "color": "#4D5663"
                    },
                    "text": ""
                  },
                  "zerolinecolor": "#E1E5ED"
                },
                "yaxis3": {
                  "anchor": "x3",
                  "domain": [
                    0,
                    0.375
                  ],
                  "gridcolor": "#E1E5ED",
                  "showgrid": true,
                  "tickfont": {
                    "color": "#4D5663"
                  },
                  "title": {
                    "font": {
                      "color": "#4D5663"
                    },
                    "text": ""
                  },
                  "zerolinecolor": "#E1E5ED"
                }
              }
            },
            "text/html": [
              "<div>                            <div id=\"dca9aa62-a0cc-4b8b-aedd-4fab5938392f\" class=\"plotly-graph-div\" style=\"height:525px; width:100%;\"></div>            <script type=\"text/javascript\">                require([\"plotly\"], function(Plotly) {                    window.PLOTLYENV=window.PLOTLYENV || {};\n",
              "                    window.PLOTLYENV.BASE_URL='https://plot.ly';                                    if (document.getElementById(\"dca9aa62-a0cc-4b8b-aedd-4fab5938392f\")) {                    Plotly.newPlot(                        \"dca9aa62-a0cc-4b8b-aedd-4fab5938392f\",                        [{\"marker\":{\"color\":\"rgba(255, 153, 51, 1.0)\",\"line\":{\"width\":1.3},\"opacity\":0.8,\"size\":12,\"symbol\":\"circle\"},\"mode\":\"markers\",\"name\":\"setosa\",\"textfont\":{\"color\":\"#4D5663\"},\"x\":[5.1,4.9,4.7,4.6,5.0,5.4,4.6,5.0,4.4,4.9,5.4,4.8,4.8,4.3,5.8,5.7,5.4,5.1,5.7,5.1,5.4,5.1,4.6,5.1,4.8,5.0,5.0,5.2,5.2,4.7,4.8,5.4,5.2,5.5,4.9,5.0,5.5,4.9,4.4,5.1,5.0,4.5,4.4,5.0,5.1,4.8,5.1,4.6,5.3,5.0],\"xaxis\":\"x\",\"y\":[1.4,1.4,1.3,1.5,1.4,1.7,1.4,1.5,1.4,1.5,1.5,1.6,1.4,1.1,1.2,1.5,1.3,1.4,1.7,1.5,1.7,1.5,1.0,1.7,1.9,1.6,1.6,1.5,1.4,1.6,1.6,1.5,1.5,1.4,1.5,1.2,1.3,1.4,1.3,1.5,1.3,1.3,1.3,1.6,1.9,1.4,1.6,1.4,1.5,1.4],\"yaxis\":\"y\",\"type\":\"scatter\"},{\"marker\":{\"color\":\"rgba(55, 128, 191, 1.0)\",\"line\":{\"width\":1.3},\"opacity\":0.8,\"size\":12,\"symbol\":\"circle\"},\"mode\":\"markers\",\"name\":\"versicolor\",\"textfont\":{\"color\":\"#4D5663\"},\"x\":[7.0,6.4,6.9,5.5,6.5,5.7,6.3,4.9,6.6,5.2,5.0,5.9,6.0,6.1,5.6,6.7,5.6,5.8,6.2,5.6,5.9,6.1,6.3,6.1,6.4,6.6,6.8,6.7,6.0,5.7,5.5,5.5,5.8,6.0,5.4,6.0,6.7,6.3,5.6,5.5,5.5,6.1,5.8,5.0,5.6,5.7,5.7,6.2,5.1,5.7],\"xaxis\":\"x2\",\"y\":[4.7,4.5,4.9,4.0,4.6,4.5,4.7,3.3,4.6,3.9,3.5,4.2,4.0,4.7,3.6,4.4,4.5,4.1,4.5,3.9,4.8,4.0,4.9,4.7,4.3,4.4,4.8,5.0,4.5,3.5,3.8,3.7,3.9,5.1,4.5,4.5,4.7,4.4,4.1,4.0,4.4,4.6,4.0,3.3,4.2,4.2,4.2,4.3,3.0,4.1],\"yaxis\":\"y2\",\"type\":\"scatter\"},{\"marker\":{\"color\":\"rgba(50, 171, 96, 1.0)\",\"line\":{\"width\":1.3},\"opacity\":0.8,\"size\":12,\"symbol\":\"circle\"},\"mode\":\"markers\",\"name\":\"virginica\",\"textfont\":{\"color\":\"#4D5663\"},\"x\":[6.3,5.8,7.1,6.3,6.5,7.6,4.9,7.3,6.7,7.2,6.5,6.4,6.8,5.7,5.8,6.4,6.5,7.7,7.7,6.0,6.9,5.6,7.7,6.3,6.7,7.2,6.2,6.1,6.4,7.2,7.4,7.9,6.4,6.3,6.1,7.7,6.3,6.4,6.0,6.9,6.7,6.9,5.8,6.8,6.7,6.7,6.3,6.5,6.2,5.9],\"xaxis\":\"x3\",\"y\":[6.0,5.1,5.9,5.6,5.8,6.6,4.5,6.3,5.8,6.1,5.1,5.3,5.5,5.0,5.1,5.3,5.5,6.7,6.9,5.0,5.7,4.9,6.7,4.9,5.7,6.0,4.8,4.9,5.6,5.8,6.1,6.4,5.6,5.1,5.6,6.1,5.6,5.5,4.8,5.4,5.6,5.1,5.1,5.9,5.7,5.2,5.0,5.2,5.4,5.1],\"yaxis\":\"y3\",\"type\":\"scatter\"}],                        {\"annotations\":[{\"font\":{\"size\":16},\"showarrow\":false,\"text\":\"setosa\",\"x\":0.225,\"xanchor\":\"center\",\"xref\":\"paper\",\"y\":1.0,\"yanchor\":\"bottom\",\"yref\":\"paper\"},{\"font\":{\"size\":16},\"showarrow\":false,\"text\":\"versicolor\",\"x\":0.775,\"xanchor\":\"center\",\"xref\":\"paper\",\"y\":1.0,\"yanchor\":\"bottom\",\"yref\":\"paper\"},{\"font\":{\"size\":16},\"showarrow\":false,\"text\":\"virginica\",\"x\":0.225,\"xanchor\":\"center\",\"xref\":\"paper\",\"y\":0.375,\"yanchor\":\"bottom\",\"yref\":\"paper\"}],\"legend\":{\"bgcolor\":\"#F5F6F9\",\"font\":{\"color\":\"#4D5663\"}},\"paper_bgcolor\":\"#F5F6F9\",\"plot_bgcolor\":\"#F5F6F9\",\"showlegend\":false,\"template\":{\"data\":{\"barpolar\":[{\"marker\":{\"line\":{\"color\":\"#E5ECF6\",\"width\":0.5},\"pattern\":{\"fillmode\":\"overlay\",\"size\":10,\"solidity\":0.2}},\"type\":\"barpolar\"}],\"bar\":[{\"error_x\":{\"color\":\"#2a3f5f\"},\"error_y\":{\"color\":\"#2a3f5f\"},\"marker\":{\"line\":{\"color\":\"#E5ECF6\",\"width\":0.5},\"pattern\":{\"fillmode\":\"overlay\",\"size\":10,\"solidity\":0.2}},\"type\":\"bar\"}],\"carpet\":[{\"aaxis\":{\"endlinecolor\":\"#2a3f5f\",\"gridcolor\":\"white\",\"linecolor\":\"white\",\"minorgridcolor\":\"white\",\"startlinecolor\":\"#2a3f5f\"},\"baxis\":{\"endlinecolor\":\"#2a3f5f\",\"gridcolor\":\"white\",\"linecolor\":\"white\",\"minorgridcolor\":\"white\",\"startlinecolor\":\"#2a3f5f\"},\"type\":\"carpet\"}],\"choropleth\":[{\"colorbar\":{\"outlinewidth\":0,\"ticks\":\"\"},\"type\":\"choropleth\"}],\"contourcarpet\":[{\"colorbar\":{\"outlinewidth\":0,\"ticks\":\"\"},\"type\":\"contourcarpet\"}],\"contour\":[{\"colorbar\":{\"outlinewidth\":0,\"ticks\":\"\"},\"colorscale\":[[0.0,\"#0d0887\"],[0.1111111111111111,\"#46039f\"],[0.2222222222222222,\"#7201a8\"],[0.3333333333333333,\"#9c179e\"],[0.4444444444444444,\"#bd3786\"],[0.5555555555555556,\"#d8576b\"],[0.6666666666666666,\"#ed7953\"],[0.7777777777777778,\"#fb9f3a\"],[0.8888888888888888,\"#fdca26\"],[1.0,\"#f0f921\"]],\"type\":\"contour\"}],\"heatmapgl\":[{\"colorbar\":{\"outlinewidth\":0,\"ticks\":\"\"},\"colorscale\":[[0.0,\"#0d0887\"],[0.1111111111111111,\"#46039f\"],[0.2222222222222222,\"#7201a8\"],[0.3333333333333333,\"#9c179e\"],[0.4444444444444444,\"#bd3786\"],[0.5555555555555556,\"#d8576b\"],[0.6666666666666666,\"#ed7953\"],[0.7777777777777778,\"#fb9f3a\"],[0.8888888888888888,\"#fdca26\"],[1.0,\"#f0f921\"]],\"type\":\"heatmapgl\"}],\"heatmap\":[{\"colorbar\":{\"outlinewidth\":0,\"ticks\":\"\"},\"colorscale\":[[0.0,\"#0d0887\"],[0.1111111111111111,\"#46039f\"],[0.2222222222222222,\"#7201a8\"],[0.3333333333333333,\"#9c179e\"],[0.4444444444444444,\"#bd3786\"],[0.5555555555555556,\"#d8576b\"],[0.6666666666666666,\"#ed7953\"],[0.7777777777777778,\"#fb9f3a\"],[0.8888888888888888,\"#fdca26\"],[1.0,\"#f0f921\"]],\"type\":\"heatmap\"}],\"histogram2dcontour\":[{\"colorbar\":{\"outlinewidth\":0,\"ticks\":\"\"},\"colorscale\":[[0.0,\"#0d0887\"],[0.1111111111111111,\"#46039f\"],[0.2222222222222222,\"#7201a8\"],[0.3333333333333333,\"#9c179e\"],[0.4444444444444444,\"#bd3786\"],[0.5555555555555556,\"#d8576b\"],[0.6666666666666666,\"#ed7953\"],[0.7777777777777778,\"#fb9f3a\"],[0.8888888888888888,\"#fdca26\"],[1.0,\"#f0f921\"]],\"type\":\"histogram2dcontour\"}],\"histogram2d\":[{\"colorbar\":{\"outlinewidth\":0,\"ticks\":\"\"},\"colorscale\":[[0.0,\"#0d0887\"],[0.1111111111111111,\"#46039f\"],[0.2222222222222222,\"#7201a8\"],[0.3333333333333333,\"#9c179e\"],[0.4444444444444444,\"#bd3786\"],[0.5555555555555556,\"#d8576b\"],[0.6666666666666666,\"#ed7953\"],[0.7777777777777778,\"#fb9f3a\"],[0.8888888888888888,\"#fdca26\"],[1.0,\"#f0f921\"]],\"type\":\"histogram2d\"}],\"histogram\":[{\"marker\":{\"pattern\":{\"fillmode\":\"overlay\",\"size\":10,\"solidity\":0.2}},\"type\":\"histogram\"}],\"mesh3d\":[{\"colorbar\":{\"outlinewidth\":0,\"ticks\":\"\"},\"type\":\"mesh3d\"}],\"parcoords\":[{\"line\":{\"colorbar\":{\"outlinewidth\":0,\"ticks\":\"\"}},\"type\":\"parcoords\"}],\"pie\":[{\"automargin\":true,\"type\":\"pie\"}],\"scatter3d\":[{\"line\":{\"colorbar\":{\"outlinewidth\":0,\"ticks\":\"\"}},\"marker\":{\"colorbar\":{\"outlinewidth\":0,\"ticks\":\"\"}},\"type\":\"scatter3d\"}],\"scattercarpet\":[{\"marker\":{\"colorbar\":{\"outlinewidth\":0,\"ticks\":\"\"}},\"type\":\"scattercarpet\"}],\"scattergeo\":[{\"marker\":{\"colorbar\":{\"outlinewidth\":0,\"ticks\":\"\"}},\"type\":\"scattergeo\"}],\"scattergl\":[{\"marker\":{\"colorbar\":{\"outlinewidth\":0,\"ticks\":\"\"}},\"type\":\"scattergl\"}],\"scattermapbox\":[{\"marker\":{\"colorbar\":{\"outlinewidth\":0,\"ticks\":\"\"}},\"type\":\"scattermapbox\"}],\"scatterpolargl\":[{\"marker\":{\"colorbar\":{\"outlinewidth\":0,\"ticks\":\"\"}},\"type\":\"scatterpolargl\"}],\"scatterpolar\":[{\"marker\":{\"colorbar\":{\"outlinewidth\":0,\"ticks\":\"\"}},\"type\":\"scatterpolar\"}],\"scatter\":[{\"fillpattern\":{\"fillmode\":\"overlay\",\"size\":10,\"solidity\":0.2},\"type\":\"scatter\"}],\"scatterternary\":[{\"marker\":{\"colorbar\":{\"outlinewidth\":0,\"ticks\":\"\"}},\"type\":\"scatterternary\"}],\"surface\":[{\"colorbar\":{\"outlinewidth\":0,\"ticks\":\"\"},\"colorscale\":[[0.0,\"#0d0887\"],[0.1111111111111111,\"#46039f\"],[0.2222222222222222,\"#7201a8\"],[0.3333333333333333,\"#9c179e\"],[0.4444444444444444,\"#bd3786\"],[0.5555555555555556,\"#d8576b\"],[0.6666666666666666,\"#ed7953\"],[0.7777777777777778,\"#fb9f3a\"],[0.8888888888888888,\"#fdca26\"],[1.0,\"#f0f921\"]],\"type\":\"surface\"}],\"table\":[{\"cells\":{\"fill\":{\"color\":\"#EBF0F8\"},\"line\":{\"color\":\"white\"}},\"header\":{\"fill\":{\"color\":\"#C8D4E3\"},\"line\":{\"color\":\"white\"}},\"type\":\"table\"}]},\"layout\":{\"annotationdefaults\":{\"arrowcolor\":\"#2a3f5f\",\"arrowhead\":0,\"arrowwidth\":1},\"autotypenumbers\":\"strict\",\"coloraxis\":{\"colorbar\":{\"outlinewidth\":0,\"ticks\":\"\"}},\"colorscale\":{\"diverging\":[[0,\"#8e0152\"],[0.1,\"#c51b7d\"],[0.2,\"#de77ae\"],[0.3,\"#f1b6da\"],[0.4,\"#fde0ef\"],[0.5,\"#f7f7f7\"],[0.6,\"#e6f5d0\"],[0.7,\"#b8e186\"],[0.8,\"#7fbc41\"],[0.9,\"#4d9221\"],[1,\"#276419\"]],\"sequential\":[[0.0,\"#0d0887\"],[0.1111111111111111,\"#46039f\"],[0.2222222222222222,\"#7201a8\"],[0.3333333333333333,\"#9c179e\"],[0.4444444444444444,\"#bd3786\"],[0.5555555555555556,\"#d8576b\"],[0.6666666666666666,\"#ed7953\"],[0.7777777777777778,\"#fb9f3a\"],[0.8888888888888888,\"#fdca26\"],[1.0,\"#f0f921\"]],\"sequentialminus\":[[0.0,\"#0d0887\"],[0.1111111111111111,\"#46039f\"],[0.2222222222222222,\"#7201a8\"],[0.3333333333333333,\"#9c179e\"],[0.4444444444444444,\"#bd3786\"],[0.5555555555555556,\"#d8576b\"],[0.6666666666666666,\"#ed7953\"],[0.7777777777777778,\"#fb9f3a\"],[0.8888888888888888,\"#fdca26\"],[1.0,\"#f0f921\"]]},\"colorway\":[\"#636efa\",\"#EF553B\",\"#00cc96\",\"#ab63fa\",\"#FFA15A\",\"#19d3f3\",\"#FF6692\",\"#B6E880\",\"#FF97FF\",\"#FECB52\"],\"font\":{\"color\":\"#2a3f5f\"},\"geo\":{\"bgcolor\":\"white\",\"lakecolor\":\"white\",\"landcolor\":\"#E5ECF6\",\"showlakes\":true,\"showland\":true,\"subunitcolor\":\"white\"},\"hoverlabel\":{\"align\":\"left\"},\"hovermode\":\"closest\",\"mapbox\":{\"style\":\"light\"},\"paper_bgcolor\":\"white\",\"plot_bgcolor\":\"#E5ECF6\",\"polar\":{\"angularaxis\":{\"gridcolor\":\"white\",\"linecolor\":\"white\",\"ticks\":\"\"},\"bgcolor\":\"#E5ECF6\",\"radialaxis\":{\"gridcolor\":\"white\",\"linecolor\":\"white\",\"ticks\":\"\"}},\"scene\":{\"xaxis\":{\"backgroundcolor\":\"#E5ECF6\",\"gridcolor\":\"white\",\"gridwidth\":2,\"linecolor\":\"white\",\"showbackground\":true,\"ticks\":\"\",\"zerolinecolor\":\"white\"},\"yaxis\":{\"backgroundcolor\":\"#E5ECF6\",\"gridcolor\":\"white\",\"gridwidth\":2,\"linecolor\":\"white\",\"showbackground\":true,\"ticks\":\"\",\"zerolinecolor\":\"white\"},\"zaxis\":{\"backgroundcolor\":\"#E5ECF6\",\"gridcolor\":\"white\",\"gridwidth\":2,\"linecolor\":\"white\",\"showbackground\":true,\"ticks\":\"\",\"zerolinecolor\":\"white\"}},\"shapedefaults\":{\"line\":{\"color\":\"#2a3f5f\"}},\"ternary\":{\"aaxis\":{\"gridcolor\":\"white\",\"linecolor\":\"white\",\"ticks\":\"\"},\"baxis\":{\"gridcolor\":\"white\",\"linecolor\":\"white\",\"ticks\":\"\"},\"bgcolor\":\"#E5ECF6\",\"caxis\":{\"gridcolor\":\"white\",\"linecolor\":\"white\",\"ticks\":\"\"}},\"title\":{\"x\":0.05},\"xaxis\":{\"automargin\":true,\"gridcolor\":\"white\",\"linecolor\":\"white\",\"ticks\":\"\",\"title\":{\"standoff\":15},\"zerolinecolor\":\"white\",\"zerolinewidth\":2},\"yaxis\":{\"automargin\":true,\"gridcolor\":\"white\",\"linecolor\":\"white\",\"ticks\":\"\",\"title\":{\"standoff\":15},\"zerolinecolor\":\"white\",\"zerolinewidth\":2}}},\"title\":{\"font\":{\"color\":\"#4D5663\"},\"text\":\"Scatter Plot for Iris Data\"},\"xaxis\":{\"anchor\":\"y\",\"domain\":[0.0,0.45],\"gridcolor\":\"#E1E5ED\",\"showgrid\":true,\"tickfont\":{\"color\":\"#4D5663\"},\"title\":{\"font\":{\"color\":\"#4D5663\"},\"text\":\"\"},\"zerolinecolor\":\"#E1E5ED\"},\"yaxis\":{\"anchor\":\"x\",\"domain\":[0.625,1.0],\"gridcolor\":\"#E1E5ED\",\"showgrid\":true,\"tickfont\":{\"color\":\"#4D5663\"},\"title\":{\"font\":{\"color\":\"#4D5663\"},\"text\":\"\"},\"zerolinecolor\":\"#E1E5ED\"},\"xaxis2\":{\"anchor\":\"y2\",\"domain\":[0.55,1.0],\"gridcolor\":\"#E1E5ED\",\"showgrid\":true,\"tickfont\":{\"color\":\"#4D5663\"},\"title\":{\"font\":{\"color\":\"#4D5663\"},\"text\":\"\"},\"zerolinecolor\":\"#E1E5ED\"},\"yaxis2\":{\"anchor\":\"x2\",\"domain\":[0.625,1.0],\"gridcolor\":\"#E1E5ED\",\"showgrid\":true,\"tickfont\":{\"color\":\"#4D5663\"},\"title\":{\"font\":{\"color\":\"#4D5663\"},\"text\":\"\"},\"zerolinecolor\":\"#E1E5ED\"},\"xaxis3\":{\"anchor\":\"y3\",\"domain\":[0.0,0.45],\"gridcolor\":\"#E1E5ED\",\"showgrid\":true,\"tickfont\":{\"color\":\"#4D5663\"},\"title\":{\"font\":{\"color\":\"#4D5663\"},\"text\":\"\"},\"zerolinecolor\":\"#E1E5ED\"},\"yaxis3\":{\"anchor\":\"x3\",\"domain\":[0.0,0.375],\"gridcolor\":\"#E1E5ED\",\"showgrid\":true,\"tickfont\":{\"color\":\"#4D5663\"},\"title\":{\"font\":{\"color\":\"#4D5663\"},\"text\":\"\"},\"zerolinecolor\":\"#E1E5ED\"}},                        {\"showLink\": true, \"linkText\": \"Export to plot.ly\", \"plotlyServerURL\": \"https://plot.ly\", \"responsive\": true}                    ).then(function(){\n",
              "                            \n",
              "var gd = document.getElementById('dca9aa62-a0cc-4b8b-aedd-4fab5938392f');\n",
              "var x = new MutationObserver(function (mutations, observer) {{\n",
              "        var display = window.getComputedStyle(gd).display;\n",
              "        if (!display || display === 'none') {{\n",
              "            console.log([gd, 'removed!']);\n",
              "            Plotly.purge(gd);\n",
              "            observer.disconnect();\n",
              "        }}\n",
              "}});\n",
              "\n",
              "// Listen for the removal of the full notebook cells\n",
              "var notebookContainer = gd.closest('#notebook-container');\n",
              "if (notebookContainer) {{\n",
              "    x.observe(notebookContainer, {childList: true});\n",
              "}}\n",
              "\n",
              "// Listen for the clearing of the current output cell\n",
              "var outputEl = gd.closest('.output');\n",
              "if (outputEl) {{\n",
              "    x.observe(outputEl, {childList: true});\n",
              "}}\n",
              "\n",
              "                        })                };                });            </script>        </div>"
            ]
          },
          "metadata": {},
          "output_type": "display_data"
        }
      ],
      "source": [
        "iris.iplot(kind='scatter', mode='markers',\n",
        "           x='sepal_length', y='petal_length',\n",
        "           categories='species', title='Scatter Plot for Iris Data',\n",
        "           subplots=True, subplot_titles=True, legend=False)"
      ]
    },
    {
      "cell_type": "markdown",
      "id": "11a588c4",
      "metadata": {
        "id": "11a588c4"
      },
      "source": [
        "* **subplot=True**  \n",
        "\n",
        "    subplot 파라미터를 True로 설정해 'species'별로 그래프를 나누어서 그렸습니다.\n",
        "<br><br>\n",
        "* **subplot_titles=True** \n",
        "\n",
        "    subplot_titles 파라미터를 True로 설정해 subplot에 소제목을 추가했습니다.\n",
        "<br><br>\n",
        "* **legend=False** \n",
        "\n",
        "    legend 파라미터를 False로 설정해 범례를 삭제했습니다."
      ]
    },
    {
      "cell_type": "markdown",
      "id": "b91058e2",
      "metadata": {
        "id": "b91058e2"
      },
      "source": [
        "<br><br>"
      ]
    },
    {
      "cell_type": "markdown",
      "id": "018b912d",
      "metadata": {
        "id": "018b912d"
      },
      "source": [
        "## **4. Line Chart**"
      ]
    },
    {
      "cell_type": "markdown",
      "id": "68f1cc00",
      "metadata": {
        "id": "68f1cc00"
      },
      "source": [
        "iplot() 함수의 kind 파라미터를 'scatter'로 지정하면 선 그래프를 그릴 수 있습니다."
      ]
    },
    {
      "cell_type": "code",
      "execution_count": null,
      "id": "55b718a5",
      "metadata": {
        "id": "55b718a5",
        "outputId": "208cd4bd-b8a2-4638-c4cd-3068c1a561b5"
      },
      "outputs": [
        {
          "data": {
            "application/vnd.plotly.v1+json": {
              "config": {
                "linkText": "Export to plot.ly",
                "plotlyServerURL": "https://plot.ly",
                "showLink": true
              },
              "data": [
                {
                  "line": {
                    "color": "rgba(255, 153, 51, 1.0)",
                    "dash": "solid",
                    "shape": "linear",
                    "width": 1.3
                  },
                  "mode": "lines",
                  "name": "unemploy",
                  "text": "",
                  "type": "scatter",
                  "x": [
                    "1967-07-01",
                    "1967-08-01",
                    "1967-09-01",
                    "1967-10-01",
                    "1967-11-01",
                    "1967-12-01",
                    "1968-01-01",
                    "1968-02-01",
                    "1968-03-01",
                    "1968-04-01",
                    "1968-05-01",
                    "1968-06-01",
                    "1968-07-01",
                    "1968-08-01",
                    "1968-09-01",
                    "1968-10-01",
                    "1968-11-01",
                    "1968-12-01",
                    "1969-01-01",
                    "1969-02-01",
                    "1969-03-01",
                    "1969-04-01",
                    "1969-05-01",
                    "1969-06-01",
                    "1969-07-01",
                    "1969-08-01",
                    "1969-09-01",
                    "1969-10-01",
                    "1969-11-01",
                    "1969-12-01",
                    "1970-01-01",
                    "1970-02-01",
                    "1970-03-01",
                    "1970-04-01",
                    "1970-05-01",
                    "1970-06-01",
                    "1970-07-01",
                    "1970-08-01",
                    "1970-09-01",
                    "1970-10-01",
                    "1970-11-01",
                    "1970-12-01",
                    "1971-01-01",
                    "1971-02-01",
                    "1971-03-01",
                    "1971-04-01",
                    "1971-05-01",
                    "1971-06-01",
                    "1971-07-01",
                    "1971-08-01",
                    "1971-09-01",
                    "1971-10-01",
                    "1971-11-01",
                    "1971-12-01",
                    "1972-01-01",
                    "1972-02-01",
                    "1972-03-01",
                    "1972-04-01",
                    "1972-05-01",
                    "1972-06-01",
                    "1972-07-01",
                    "1972-08-01",
                    "1972-09-01",
                    "1972-10-01",
                    "1972-11-01",
                    "1972-12-01",
                    "1973-01-01",
                    "1973-02-01",
                    "1973-03-01",
                    "1973-04-01",
                    "1973-05-01",
                    "1973-06-01",
                    "1973-07-01",
                    "1973-08-01",
                    "1973-09-01",
                    "1973-10-01",
                    "1973-11-01",
                    "1973-12-01",
                    "1974-01-01",
                    "1974-02-01",
                    "1974-03-01",
                    "1974-04-01",
                    "1974-05-01",
                    "1974-06-01",
                    "1974-07-01",
                    "1974-08-01",
                    "1974-09-01",
                    "1974-10-01",
                    "1974-11-01",
                    "1974-12-01",
                    "1975-01-01",
                    "1975-02-01",
                    "1975-03-01",
                    "1975-04-01",
                    "1975-05-01",
                    "1975-06-01",
                    "1975-07-01",
                    "1975-08-01",
                    "1975-09-01",
                    "1975-10-01",
                    "1975-11-01",
                    "1975-12-01",
                    "1976-01-01",
                    "1976-02-01",
                    "1976-03-01",
                    "1976-04-01",
                    "1976-05-01",
                    "1976-06-01",
                    "1976-07-01",
                    "1976-08-01",
                    "1976-09-01",
                    "1976-10-01",
                    "1976-11-01",
                    "1976-12-01",
                    "1977-01-01",
                    "1977-02-01",
                    "1977-03-01",
                    "1977-04-01",
                    "1977-05-01",
                    "1977-06-01",
                    "1977-07-01",
                    "1977-08-01",
                    "1977-09-01",
                    "1977-10-01",
                    "1977-11-01",
                    "1977-12-01",
                    "1978-01-01",
                    "1978-02-01",
                    "1978-03-01",
                    "1978-04-01",
                    "1978-05-01",
                    "1978-06-01",
                    "1978-07-01",
                    "1978-08-01",
                    "1978-09-01",
                    "1978-10-01",
                    "1978-11-01",
                    "1978-12-01",
                    "1979-01-01",
                    "1979-02-01",
                    "1979-03-01",
                    "1979-04-01",
                    "1979-05-01",
                    "1979-06-01",
                    "1979-07-01",
                    "1979-08-01",
                    "1979-09-01",
                    "1979-10-01",
                    "1979-11-01",
                    "1979-12-01",
                    "1980-01-01",
                    "1980-02-01",
                    "1980-03-01",
                    "1980-04-01",
                    "1980-05-01",
                    "1980-06-01",
                    "1980-07-01",
                    "1980-08-01",
                    "1980-09-01",
                    "1980-10-01",
                    "1980-11-01",
                    "1980-12-01",
                    "1981-01-01",
                    "1981-02-01",
                    "1981-03-01",
                    "1981-04-01",
                    "1981-05-01",
                    "1981-06-01",
                    "1981-07-01",
                    "1981-08-01",
                    "1981-09-01",
                    "1981-10-01",
                    "1981-11-01",
                    "1981-12-01",
                    "1982-01-01",
                    "1982-02-01",
                    "1982-03-01",
                    "1982-04-01",
                    "1982-05-01",
                    "1982-06-01",
                    "1982-07-01",
                    "1982-08-01",
                    "1982-09-01",
                    "1982-10-01",
                    "1982-11-01",
                    "1982-12-01",
                    "1983-01-01",
                    "1983-02-01",
                    "1983-03-01",
                    "1983-04-01",
                    "1983-05-01",
                    "1983-06-01",
                    "1983-07-01",
                    "1983-08-01",
                    "1983-09-01",
                    "1983-10-01",
                    "1983-11-01",
                    "1983-12-01",
                    "1984-01-01",
                    "1984-02-01",
                    "1984-03-01",
                    "1984-04-01",
                    "1984-05-01",
                    "1984-06-01",
                    "1984-07-01",
                    "1984-08-01",
                    "1984-09-01",
                    "1984-10-01",
                    "1984-11-01",
                    "1984-12-01",
                    "1985-01-01",
                    "1985-02-01",
                    "1985-03-01",
                    "1985-04-01",
                    "1985-05-01",
                    "1985-06-01",
                    "1985-07-01",
                    "1985-08-01",
                    "1985-09-01",
                    "1985-10-01",
                    "1985-11-01",
                    "1985-12-01",
                    "1986-01-01",
                    "1986-02-01",
                    "1986-03-01",
                    "1986-04-01",
                    "1986-05-01",
                    "1986-06-01",
                    "1986-07-01",
                    "1986-08-01",
                    "1986-09-01",
                    "1986-10-01",
                    "1986-11-01",
                    "1986-12-01",
                    "1987-01-01",
                    "1987-02-01",
                    "1987-03-01",
                    "1987-04-01",
                    "1987-05-01",
                    "1987-06-01",
                    "1987-07-01",
                    "1987-08-01",
                    "1987-09-01",
                    "1987-10-01",
                    "1987-11-01",
                    "1987-12-01",
                    "1988-01-01",
                    "1988-02-01",
                    "1988-03-01",
                    "1988-04-01",
                    "1988-05-01",
                    "1988-06-01",
                    "1988-07-01",
                    "1988-08-01",
                    "1988-09-01",
                    "1988-10-01",
                    "1988-11-01",
                    "1988-12-01",
                    "1989-01-01",
                    "1989-02-01",
                    "1989-03-01",
                    "1989-04-01",
                    "1989-05-01",
                    "1989-06-01",
                    "1989-07-01",
                    "1989-08-01",
                    "1989-09-01",
                    "1989-10-01",
                    "1989-11-01",
                    "1989-12-01",
                    "1990-01-01",
                    "1990-02-01",
                    "1990-03-01",
                    "1990-04-01",
                    "1990-05-01",
                    "1990-06-01",
                    "1990-07-01",
                    "1990-08-01",
                    "1990-09-01",
                    "1990-10-01",
                    "1990-11-01",
                    "1990-12-01",
                    "1991-01-01",
                    "1991-02-01",
                    "1991-03-01",
                    "1991-04-01",
                    "1991-05-01",
                    "1991-06-01",
                    "1991-07-01",
                    "1991-08-01",
                    "1991-09-01",
                    "1991-10-01",
                    "1991-11-01",
                    "1991-12-01",
                    "1992-01-01",
                    "1992-02-01",
                    "1992-03-01",
                    "1992-04-01",
                    "1992-05-01",
                    "1992-06-01",
                    "1992-07-01",
                    "1992-08-01",
                    "1992-09-01",
                    "1992-10-01",
                    "1992-11-01",
                    "1992-12-01",
                    "1993-01-01",
                    "1993-02-01",
                    "1993-03-01",
                    "1993-04-01",
                    "1993-05-01",
                    "1993-06-01",
                    "1993-07-01",
                    "1993-08-01",
                    "1993-09-01",
                    "1993-10-01",
                    "1993-11-01",
                    "1993-12-01",
                    "1994-01-01",
                    "1994-02-01",
                    "1994-03-01",
                    "1994-04-01",
                    "1994-05-01",
                    "1994-06-01",
                    "1994-07-01",
                    "1994-08-01",
                    "1994-09-01",
                    "1994-10-01",
                    "1994-11-01",
                    "1994-12-01",
                    "1995-01-01",
                    "1995-02-01",
                    "1995-03-01",
                    "1995-04-01",
                    "1995-05-01",
                    "1995-06-01",
                    "1995-07-01",
                    "1995-08-01",
                    "1995-09-01",
                    "1995-10-01",
                    "1995-11-01",
                    "1995-12-01",
                    "1996-01-01",
                    "1996-02-01",
                    "1996-03-01",
                    "1996-04-01",
                    "1996-05-01",
                    "1996-06-01",
                    "1996-07-01",
                    "1996-08-01",
                    "1996-09-01",
                    "1996-10-01",
                    "1996-11-01",
                    "1996-12-01",
                    "1997-01-01",
                    "1997-02-01",
                    "1997-03-01",
                    "1997-04-01",
                    "1997-05-01",
                    "1997-06-01",
                    "1997-07-01",
                    "1997-08-01",
                    "1997-09-01",
                    "1997-10-01",
                    "1997-11-01",
                    "1997-12-01",
                    "1998-01-01",
                    "1998-02-01",
                    "1998-03-01",
                    "1998-04-01",
                    "1998-05-01",
                    "1998-06-01",
                    "1998-07-01",
                    "1998-08-01",
                    "1998-09-01",
                    "1998-10-01",
                    "1998-11-01",
                    "1998-12-01",
                    "1999-01-01",
                    "1999-02-01",
                    "1999-03-01",
                    "1999-04-01",
                    "1999-05-01",
                    "1999-06-01",
                    "1999-07-01",
                    "1999-08-01",
                    "1999-09-01",
                    "1999-10-01",
                    "1999-11-01",
                    "1999-12-01",
                    "2000-01-01",
                    "2000-02-01",
                    "2000-03-01",
                    "2000-04-01",
                    "2000-05-01",
                    "2000-06-01",
                    "2000-07-01",
                    "2000-08-01",
                    "2000-09-01",
                    "2000-10-01",
                    "2000-11-01",
                    "2000-12-01",
                    "2001-01-01",
                    "2001-02-01",
                    "2001-03-01",
                    "2001-04-01",
                    "2001-05-01",
                    "2001-06-01",
                    "2001-07-01",
                    "2001-08-01",
                    "2001-09-01",
                    "2001-10-01",
                    "2001-11-01",
                    "2001-12-01",
                    "2002-01-01",
                    "2002-02-01",
                    "2002-03-01",
                    "2002-04-01",
                    "2002-05-01",
                    "2002-06-01",
                    "2002-07-01",
                    "2002-08-01",
                    "2002-09-01",
                    "2002-10-01",
                    "2002-11-01",
                    "2002-12-01",
                    "2003-01-01",
                    "2003-02-01",
                    "2003-03-01",
                    "2003-04-01",
                    "2003-05-01",
                    "2003-06-01",
                    "2003-07-01",
                    "2003-08-01",
                    "2003-09-01",
                    "2003-10-01",
                    "2003-11-01",
                    "2003-12-01",
                    "2004-01-01",
                    "2004-02-01",
                    "2004-03-01",
                    "2004-04-01",
                    "2004-05-01",
                    "2004-06-01",
                    "2004-07-01",
                    "2004-08-01",
                    "2004-09-01",
                    "2004-10-01",
                    "2004-11-01",
                    "2004-12-01",
                    "2005-01-01",
                    "2005-02-01",
                    "2005-03-01",
                    "2005-04-01",
                    "2005-05-01",
                    "2005-06-01",
                    "2005-07-01",
                    "2005-08-01",
                    "2005-09-01",
                    "2005-10-01",
                    "2005-11-01",
                    "2005-12-01",
                    "2006-01-01",
                    "2006-02-01",
                    "2006-03-01",
                    "2006-04-01",
                    "2006-05-01",
                    "2006-06-01",
                    "2006-07-01",
                    "2006-08-01",
                    "2006-09-01",
                    "2006-10-01",
                    "2006-11-01",
                    "2006-12-01",
                    "2007-01-01",
                    "2007-02-01",
                    "2007-03-01",
                    "2007-04-01",
                    "2007-05-01",
                    "2007-06-01",
                    "2007-07-01",
                    "2007-08-01",
                    "2007-09-01",
                    "2007-10-01",
                    "2007-11-01",
                    "2007-12-01",
                    "2008-01-01",
                    "2008-02-01",
                    "2008-03-01",
                    "2008-04-01",
                    "2008-05-01",
                    "2008-06-01",
                    "2008-07-01",
                    "2008-08-01",
                    "2008-09-01",
                    "2008-10-01",
                    "2008-11-01",
                    "2008-12-01",
                    "2009-01-01",
                    "2009-02-01",
                    "2009-03-01",
                    "2009-04-01",
                    "2009-05-01",
                    "2009-06-01",
                    "2009-07-01",
                    "2009-08-01",
                    "2009-09-01",
                    "2009-10-01",
                    "2009-11-01",
                    "2009-12-01",
                    "2010-01-01",
                    "2010-02-01",
                    "2010-03-01",
                    "2010-04-01",
                    "2010-05-01",
                    "2010-06-01",
                    "2010-07-01",
                    "2010-08-01",
                    "2010-09-01",
                    "2010-10-01",
                    "2010-11-01",
                    "2010-12-01",
                    "2011-01-01",
                    "2011-02-01",
                    "2011-03-01",
                    "2011-04-01",
                    "2011-05-01",
                    "2011-06-01",
                    "2011-07-01",
                    "2011-08-01",
                    "2011-09-01",
                    "2011-10-01",
                    "2011-11-01",
                    "2011-12-01",
                    "2012-01-01",
                    "2012-02-01",
                    "2012-03-01",
                    "2012-04-01",
                    "2012-05-01",
                    "2012-06-01",
                    "2012-07-01",
                    "2012-08-01",
                    "2012-09-01",
                    "2012-10-01",
                    "2012-11-01",
                    "2012-12-01",
                    "2013-01-01",
                    "2013-02-01",
                    "2013-03-01",
                    "2013-04-01",
                    "2013-05-01",
                    "2013-06-01",
                    "2013-07-01",
                    "2013-08-01",
                    "2013-09-01",
                    "2013-10-01",
                    "2013-11-01",
                    "2013-12-01",
                    "2014-01-01",
                    "2014-02-01",
                    "2014-03-01",
                    "2014-04-01",
                    "2014-05-01",
                    "2014-06-01",
                    "2014-07-01",
                    "2014-08-01",
                    "2014-09-01",
                    "2014-10-01",
                    "2014-11-01",
                    "2014-12-01",
                    "2015-01-01",
                    "2015-02-01",
                    "2015-03-01",
                    "2015-04-01"
                  ],
                  "y": [
                    2944,
                    2945,
                    2958,
                    3143,
                    3066,
                    3018,
                    2878,
                    3001,
                    2877,
                    2709,
                    2740,
                    2938,
                    2883,
                    2768,
                    2686,
                    2689,
                    2715,
                    2685,
                    2718,
                    2692,
                    2712,
                    2758,
                    2713,
                    2816,
                    2868,
                    2856,
                    3040,
                    3049,
                    2856,
                    2884,
                    3201,
                    3453,
                    3635,
                    3797,
                    3919,
                    4071,
                    4175,
                    4256,
                    4456,
                    4591,
                    4898,
                    5076,
                    4986,
                    4903,
                    4987,
                    4959,
                    4996,
                    4949,
                    5035,
                    5134,
                    5042,
                    4954,
                    5161,
                    5154,
                    5019,
                    4928,
                    5038,
                    4959,
                    4922,
                    4923,
                    4913,
                    4939,
                    4849,
                    4875,
                    4602,
                    4543,
                    4326,
                    4452,
                    4394,
                    4459,
                    4329,
                    4363,
                    4305,
                    4305,
                    4350,
                    4144,
                    4396,
                    4489,
                    4644,
                    4731,
                    4634,
                    4618,
                    4705,
                    4927,
                    5063,
                    5022,
                    5437,
                    5523,
                    6140,
                    6636,
                    7501,
                    7520,
                    7978,
                    8210,
                    8433,
                    8220,
                    8127,
                    7928,
                    7923,
                    7897,
                    7794,
                    7744,
                    7534,
                    7326,
                    7230,
                    7330,
                    7053,
                    7322,
                    7490,
                    7518,
                    7380,
                    7430,
                    7620,
                    7545,
                    7280,
                    7443,
                    7307,
                    7059,
                    6911,
                    7134,
                    6829,
                    6925,
                    6751,
                    6763,
                    6815,
                    6386,
                    6489,
                    6318,
                    6337,
                    6180,
                    6127,
                    6028,
                    6309,
                    6080,
                    6125,
                    5947,
                    6077,
                    6228,
                    6109,
                    6173,
                    6109,
                    6069,
                    5840,
                    5959,
                    5996,
                    6320,
                    6190,
                    6296,
                    6238,
                    6325,
                    6683,
                    6702,
                    6729,
                    7358,
                    7984,
                    8098,
                    8363,
                    8281,
                    8021,
                    8088,
                    8023,
                    7718,
                    8071,
                    8051,
                    7982,
                    7869,
                    8174,
                    8098,
                    7863,
                    8036,
                    8230,
                    8646,
                    9029,
                    9267,
                    9397,
                    9705,
                    9895,
                    10244,
                    10335,
                    10538,
                    10849,
                    10881,
                    11217,
                    11529,
                    11938,
                    12051,
                    11534,
                    11545,
                    11408,
                    11268,
                    11154,
                    11246,
                    10548,
                    10623,
                    10282,
                    9887,
                    9499,
                    9331,
                    9008,
                    8791,
                    8746,
                    8762,
                    8456,
                    8226,
                    8537,
                    8519,
                    8367,
                    8381,
                    8198,
                    8358,
                    8423,
                    8321,
                    8339,
                    8395,
                    8302,
                    8460,
                    8513,
                    8196,
                    8248,
                    8298,
                    8128,
                    8138,
                    7795,
                    8402,
                    8383,
                    8364,
                    8439,
                    8508,
                    8319,
                    8135,
                    8310,
                    8243,
                    8159,
                    7883,
                    7892,
                    7865,
                    7862,
                    7542,
                    7574,
                    7398,
                    7268,
                    7261,
                    7102,
                    7227,
                    7035,
                    6936,
                    6953,
                    6929,
                    6876,
                    6601,
                    6779,
                    6546,
                    6605,
                    6843,
                    6604,
                    6568,
                    6537,
                    6518,
                    6682,
                    6359,
                    6205,
                    6468,
                    6375,
                    6577,
                    6495,
                    6511,
                    6590,
                    6630,
                    6725,
                    6667,
                    6752,
                    6651,
                    6598,
                    6797,
                    6742,
                    6590,
                    6922,
                    7188,
                    7368,
                    7459,
                    7764,
                    7901,
                    8015,
                    8265,
                    8586,
                    8439,
                    8736,
                    8692,
                    8586,
                    8666,
                    8722,
                    8842,
                    8931,
                    9198,
                    9283,
                    9454,
                    9460,
                    9415,
                    9744,
                    10040,
                    9850,
                    9787,
                    9781,
                    9398,
                    9565,
                    9557,
                    9325,
                    9183,
                    9056,
                    9110,
                    9149,
                    9121,
                    8930,
                    8763,
                    8714,
                    8750,
                    8542,
                    8477,
                    8630,
                    8583,
                    8470,
                    8331,
                    7915,
                    7927,
                    7946,
                    7933,
                    7734,
                    7632,
                    7375,
                    7230,
                    7375,
                    7187,
                    7153,
                    7645,
                    7430,
                    7427,
                    7527,
                    7484,
                    7478,
                    7328,
                    7426,
                    7423,
                    7491,
                    7313,
                    7318,
                    7415,
                    7423,
                    7095,
                    7337,
                    6882,
                    6979,
                    7031,
                    7236,
                    7253,
                    7158,
                    7102,
                    7000,
                    6873,
                    6655,
                    6799,
                    6655,
                    6608,
                    6656,
                    6454,
                    6308,
                    6476,
                    6368,
                    6306,
                    6422,
                    5941,
                    6047,
                    6212,
                    6259,
                    6179,
                    6300,
                    6280,
                    6100,
                    6032,
                    5976,
                    6111,
                    5783,
                    6004,
                    5796,
                    5951,
                    6025,
                    5838,
                    5915,
                    5778,
                    5716,
                    5653,
                    5708,
                    5858,
                    5733,
                    5481,
                    5758,
                    5651,
                    5747,
                    5853,
                    5625,
                    5534,
                    5639,
                    5634,
                    6023,
                    6089,
                    6141,
                    6271,
                    6226,
                    6484,
                    6583,
                    7042,
                    7142,
                    7694,
                    8003,
                    8258,
                    8182,
                    8215,
                    8304,
                    8599,
                    8399,
                    8393,
                    8390,
                    8304,
                    8251,
                    8307,
                    8520,
                    8640,
                    8520,
                    8618,
                    8588,
                    8842,
                    8957,
                    9266,
                    9011,
                    8896,
                    8921,
                    8732,
                    8576,
                    8317,
                    8370,
                    8167,
                    8491,
                    8170,
                    8212,
                    8286,
                    8136,
                    7990,
                    7927,
                    8061,
                    7932,
                    7934,
                    7784,
                    7980,
                    7737,
                    7672,
                    7651,
                    7524,
                    7406,
                    7345,
                    7553,
                    7453,
                    7566,
                    7279,
                    7064,
                    7184,
                    7072,
                    7120,
                    6980,
                    7001,
                    7175,
                    7091,
                    6847,
                    6727,
                    6872,
                    6762,
                    7116,
                    6927,
                    6731,
                    6850,
                    6766,
                    6979,
                    7149,
                    7067,
                    7170,
                    7237,
                    7240,
                    7645,
                    7685,
                    7497,
                    7822,
                    7637,
                    8395,
                    8575,
                    8937,
                    9438,
                    9494,
                    10074,
                    10538,
                    11286,
                    12058,
                    12898,
                    13426,
                    13853,
                    14499,
                    14707,
                    14601,
                    14814,
                    15009,
                    15352,
                    15219,
                    15098,
                    15046,
                    15113,
                    15202,
                    15325,
                    14849,
                    14474,
                    14512,
                    14648,
                    14579,
                    14516,
                    15081,
                    14348,
                    14013,
                    13820,
                    13737,
                    13957,
                    13855,
                    13962,
                    13763,
                    13818,
                    13948,
                    13594,
                    13302,
                    13093,
                    12797,
                    12813,
                    12713,
                    12646,
                    12660,
                    12692,
                    12656,
                    12471,
                    12115,
                    12124,
                    12005,
                    12298,
                    12471,
                    11950,
                    11689,
                    11760,
                    11654,
                    11751,
                    11335,
                    11279,
                    11270,
                    11136,
                    10787,
                    10404,
                    10202,
                    10349,
                    10380,
                    9702,
                    9859,
                    9460,
                    9608,
                    9599,
                    9262,
                    8990,
                    9090,
                    8717,
                    8903,
                    8610,
                    8504,
                    8526
                  ]
                }
              ],
              "layout": {
                "legend": {
                  "bgcolor": "#F5F6F9",
                  "font": {
                    "color": "#4D5663"
                  }
                },
                "paper_bgcolor": "#F5F6F9",
                "plot_bgcolor": "#F5F6F9",
                "template": {
                  "data": {
                    "bar": [
                      {
                        "error_x": {
                          "color": "#2a3f5f"
                        },
                        "error_y": {
                          "color": "#2a3f5f"
                        },
                        "marker": {
                          "line": {
                            "color": "#E5ECF6",
                            "width": 0.5
                          },
                          "pattern": {
                            "fillmode": "overlay",
                            "size": 10,
                            "solidity": 0.2
                          }
                        },
                        "type": "bar"
                      }
                    ],
                    "barpolar": [
                      {
                        "marker": {
                          "line": {
                            "color": "#E5ECF6",
                            "width": 0.5
                          },
                          "pattern": {
                            "fillmode": "overlay",
                            "size": 10,
                            "solidity": 0.2
                          }
                        },
                        "type": "barpolar"
                      }
                    ],
                    "carpet": [
                      {
                        "aaxis": {
                          "endlinecolor": "#2a3f5f",
                          "gridcolor": "white",
                          "linecolor": "white",
                          "minorgridcolor": "white",
                          "startlinecolor": "#2a3f5f"
                        },
                        "baxis": {
                          "endlinecolor": "#2a3f5f",
                          "gridcolor": "white",
                          "linecolor": "white",
                          "minorgridcolor": "white",
                          "startlinecolor": "#2a3f5f"
                        },
                        "type": "carpet"
                      }
                    ],
                    "choropleth": [
                      {
                        "colorbar": {
                          "outlinewidth": 0,
                          "ticks": ""
                        },
                        "type": "choropleth"
                      }
                    ],
                    "contour": [
                      {
                        "colorbar": {
                          "outlinewidth": 0,
                          "ticks": ""
                        },
                        "colorscale": [
                          [
                            0,
                            "#0d0887"
                          ],
                          [
                            0.1111111111111111,
                            "#46039f"
                          ],
                          [
                            0.2222222222222222,
                            "#7201a8"
                          ],
                          [
                            0.3333333333333333,
                            "#9c179e"
                          ],
                          [
                            0.4444444444444444,
                            "#bd3786"
                          ],
                          [
                            0.5555555555555556,
                            "#d8576b"
                          ],
                          [
                            0.6666666666666666,
                            "#ed7953"
                          ],
                          [
                            0.7777777777777778,
                            "#fb9f3a"
                          ],
                          [
                            0.8888888888888888,
                            "#fdca26"
                          ],
                          [
                            1,
                            "#f0f921"
                          ]
                        ],
                        "type": "contour"
                      }
                    ],
                    "contourcarpet": [
                      {
                        "colorbar": {
                          "outlinewidth": 0,
                          "ticks": ""
                        },
                        "type": "contourcarpet"
                      }
                    ],
                    "heatmap": [
                      {
                        "colorbar": {
                          "outlinewidth": 0,
                          "ticks": ""
                        },
                        "colorscale": [
                          [
                            0,
                            "#0d0887"
                          ],
                          [
                            0.1111111111111111,
                            "#46039f"
                          ],
                          [
                            0.2222222222222222,
                            "#7201a8"
                          ],
                          [
                            0.3333333333333333,
                            "#9c179e"
                          ],
                          [
                            0.4444444444444444,
                            "#bd3786"
                          ],
                          [
                            0.5555555555555556,
                            "#d8576b"
                          ],
                          [
                            0.6666666666666666,
                            "#ed7953"
                          ],
                          [
                            0.7777777777777778,
                            "#fb9f3a"
                          ],
                          [
                            0.8888888888888888,
                            "#fdca26"
                          ],
                          [
                            1,
                            "#f0f921"
                          ]
                        ],
                        "type": "heatmap"
                      }
                    ],
                    "heatmapgl": [
                      {
                        "colorbar": {
                          "outlinewidth": 0,
                          "ticks": ""
                        },
                        "colorscale": [
                          [
                            0,
                            "#0d0887"
                          ],
                          [
                            0.1111111111111111,
                            "#46039f"
                          ],
                          [
                            0.2222222222222222,
                            "#7201a8"
                          ],
                          [
                            0.3333333333333333,
                            "#9c179e"
                          ],
                          [
                            0.4444444444444444,
                            "#bd3786"
                          ],
                          [
                            0.5555555555555556,
                            "#d8576b"
                          ],
                          [
                            0.6666666666666666,
                            "#ed7953"
                          ],
                          [
                            0.7777777777777778,
                            "#fb9f3a"
                          ],
                          [
                            0.8888888888888888,
                            "#fdca26"
                          ],
                          [
                            1,
                            "#f0f921"
                          ]
                        ],
                        "type": "heatmapgl"
                      }
                    ],
                    "histogram": [
                      {
                        "marker": {
                          "pattern": {
                            "fillmode": "overlay",
                            "size": 10,
                            "solidity": 0.2
                          }
                        },
                        "type": "histogram"
                      }
                    ],
                    "histogram2d": [
                      {
                        "colorbar": {
                          "outlinewidth": 0,
                          "ticks": ""
                        },
                        "colorscale": [
                          [
                            0,
                            "#0d0887"
                          ],
                          [
                            0.1111111111111111,
                            "#46039f"
                          ],
                          [
                            0.2222222222222222,
                            "#7201a8"
                          ],
                          [
                            0.3333333333333333,
                            "#9c179e"
                          ],
                          [
                            0.4444444444444444,
                            "#bd3786"
                          ],
                          [
                            0.5555555555555556,
                            "#d8576b"
                          ],
                          [
                            0.6666666666666666,
                            "#ed7953"
                          ],
                          [
                            0.7777777777777778,
                            "#fb9f3a"
                          ],
                          [
                            0.8888888888888888,
                            "#fdca26"
                          ],
                          [
                            1,
                            "#f0f921"
                          ]
                        ],
                        "type": "histogram2d"
                      }
                    ],
                    "histogram2dcontour": [
                      {
                        "colorbar": {
                          "outlinewidth": 0,
                          "ticks": ""
                        },
                        "colorscale": [
                          [
                            0,
                            "#0d0887"
                          ],
                          [
                            0.1111111111111111,
                            "#46039f"
                          ],
                          [
                            0.2222222222222222,
                            "#7201a8"
                          ],
                          [
                            0.3333333333333333,
                            "#9c179e"
                          ],
                          [
                            0.4444444444444444,
                            "#bd3786"
                          ],
                          [
                            0.5555555555555556,
                            "#d8576b"
                          ],
                          [
                            0.6666666666666666,
                            "#ed7953"
                          ],
                          [
                            0.7777777777777778,
                            "#fb9f3a"
                          ],
                          [
                            0.8888888888888888,
                            "#fdca26"
                          ],
                          [
                            1,
                            "#f0f921"
                          ]
                        ],
                        "type": "histogram2dcontour"
                      }
                    ],
                    "mesh3d": [
                      {
                        "colorbar": {
                          "outlinewidth": 0,
                          "ticks": ""
                        },
                        "type": "mesh3d"
                      }
                    ],
                    "parcoords": [
                      {
                        "line": {
                          "colorbar": {
                            "outlinewidth": 0,
                            "ticks": ""
                          }
                        },
                        "type": "parcoords"
                      }
                    ],
                    "pie": [
                      {
                        "automargin": true,
                        "type": "pie"
                      }
                    ],
                    "scatter": [
                      {
                        "fillpattern": {
                          "fillmode": "overlay",
                          "size": 10,
                          "solidity": 0.2
                        },
                        "type": "scatter"
                      }
                    ],
                    "scatter3d": [
                      {
                        "line": {
                          "colorbar": {
                            "outlinewidth": 0,
                            "ticks": ""
                          }
                        },
                        "marker": {
                          "colorbar": {
                            "outlinewidth": 0,
                            "ticks": ""
                          }
                        },
                        "type": "scatter3d"
                      }
                    ],
                    "scattercarpet": [
                      {
                        "marker": {
                          "colorbar": {
                            "outlinewidth": 0,
                            "ticks": ""
                          }
                        },
                        "type": "scattercarpet"
                      }
                    ],
                    "scattergeo": [
                      {
                        "marker": {
                          "colorbar": {
                            "outlinewidth": 0,
                            "ticks": ""
                          }
                        },
                        "type": "scattergeo"
                      }
                    ],
                    "scattergl": [
                      {
                        "marker": {
                          "colorbar": {
                            "outlinewidth": 0,
                            "ticks": ""
                          }
                        },
                        "type": "scattergl"
                      }
                    ],
                    "scattermapbox": [
                      {
                        "marker": {
                          "colorbar": {
                            "outlinewidth": 0,
                            "ticks": ""
                          }
                        },
                        "type": "scattermapbox"
                      }
                    ],
                    "scatterpolar": [
                      {
                        "marker": {
                          "colorbar": {
                            "outlinewidth": 0,
                            "ticks": ""
                          }
                        },
                        "type": "scatterpolar"
                      }
                    ],
                    "scatterpolargl": [
                      {
                        "marker": {
                          "colorbar": {
                            "outlinewidth": 0,
                            "ticks": ""
                          }
                        },
                        "type": "scatterpolargl"
                      }
                    ],
                    "scatterternary": [
                      {
                        "marker": {
                          "colorbar": {
                            "outlinewidth": 0,
                            "ticks": ""
                          }
                        },
                        "type": "scatterternary"
                      }
                    ],
                    "surface": [
                      {
                        "colorbar": {
                          "outlinewidth": 0,
                          "ticks": ""
                        },
                        "colorscale": [
                          [
                            0,
                            "#0d0887"
                          ],
                          [
                            0.1111111111111111,
                            "#46039f"
                          ],
                          [
                            0.2222222222222222,
                            "#7201a8"
                          ],
                          [
                            0.3333333333333333,
                            "#9c179e"
                          ],
                          [
                            0.4444444444444444,
                            "#bd3786"
                          ],
                          [
                            0.5555555555555556,
                            "#d8576b"
                          ],
                          [
                            0.6666666666666666,
                            "#ed7953"
                          ],
                          [
                            0.7777777777777778,
                            "#fb9f3a"
                          ],
                          [
                            0.8888888888888888,
                            "#fdca26"
                          ],
                          [
                            1,
                            "#f0f921"
                          ]
                        ],
                        "type": "surface"
                      }
                    ],
                    "table": [
                      {
                        "cells": {
                          "fill": {
                            "color": "#EBF0F8"
                          },
                          "line": {
                            "color": "white"
                          }
                        },
                        "header": {
                          "fill": {
                            "color": "#C8D4E3"
                          },
                          "line": {
                            "color": "white"
                          }
                        },
                        "type": "table"
                      }
                    ]
                  },
                  "layout": {
                    "annotationdefaults": {
                      "arrowcolor": "#2a3f5f",
                      "arrowhead": 0,
                      "arrowwidth": 1
                    },
                    "autotypenumbers": "strict",
                    "coloraxis": {
                      "colorbar": {
                        "outlinewidth": 0,
                        "ticks": ""
                      }
                    },
                    "colorscale": {
                      "diverging": [
                        [
                          0,
                          "#8e0152"
                        ],
                        [
                          0.1,
                          "#c51b7d"
                        ],
                        [
                          0.2,
                          "#de77ae"
                        ],
                        [
                          0.3,
                          "#f1b6da"
                        ],
                        [
                          0.4,
                          "#fde0ef"
                        ],
                        [
                          0.5,
                          "#f7f7f7"
                        ],
                        [
                          0.6,
                          "#e6f5d0"
                        ],
                        [
                          0.7,
                          "#b8e186"
                        ],
                        [
                          0.8,
                          "#7fbc41"
                        ],
                        [
                          0.9,
                          "#4d9221"
                        ],
                        [
                          1,
                          "#276419"
                        ]
                      ],
                      "sequential": [
                        [
                          0,
                          "#0d0887"
                        ],
                        [
                          0.1111111111111111,
                          "#46039f"
                        ],
                        [
                          0.2222222222222222,
                          "#7201a8"
                        ],
                        [
                          0.3333333333333333,
                          "#9c179e"
                        ],
                        [
                          0.4444444444444444,
                          "#bd3786"
                        ],
                        [
                          0.5555555555555556,
                          "#d8576b"
                        ],
                        [
                          0.6666666666666666,
                          "#ed7953"
                        ],
                        [
                          0.7777777777777778,
                          "#fb9f3a"
                        ],
                        [
                          0.8888888888888888,
                          "#fdca26"
                        ],
                        [
                          1,
                          "#f0f921"
                        ]
                      ],
                      "sequentialminus": [
                        [
                          0,
                          "#0d0887"
                        ],
                        [
                          0.1111111111111111,
                          "#46039f"
                        ],
                        [
                          0.2222222222222222,
                          "#7201a8"
                        ],
                        [
                          0.3333333333333333,
                          "#9c179e"
                        ],
                        [
                          0.4444444444444444,
                          "#bd3786"
                        ],
                        [
                          0.5555555555555556,
                          "#d8576b"
                        ],
                        [
                          0.6666666666666666,
                          "#ed7953"
                        ],
                        [
                          0.7777777777777778,
                          "#fb9f3a"
                        ],
                        [
                          0.8888888888888888,
                          "#fdca26"
                        ],
                        [
                          1,
                          "#f0f921"
                        ]
                      ]
                    },
                    "colorway": [
                      "#636efa",
                      "#EF553B",
                      "#00cc96",
                      "#ab63fa",
                      "#FFA15A",
                      "#19d3f3",
                      "#FF6692",
                      "#B6E880",
                      "#FF97FF",
                      "#FECB52"
                    ],
                    "font": {
                      "color": "#2a3f5f"
                    },
                    "geo": {
                      "bgcolor": "white",
                      "lakecolor": "white",
                      "landcolor": "#E5ECF6",
                      "showlakes": true,
                      "showland": true,
                      "subunitcolor": "white"
                    },
                    "hoverlabel": {
                      "align": "left"
                    },
                    "hovermode": "closest",
                    "mapbox": {
                      "style": "light"
                    },
                    "paper_bgcolor": "white",
                    "plot_bgcolor": "#E5ECF6",
                    "polar": {
                      "angularaxis": {
                        "gridcolor": "white",
                        "linecolor": "white",
                        "ticks": ""
                      },
                      "bgcolor": "#E5ECF6",
                      "radialaxis": {
                        "gridcolor": "white",
                        "linecolor": "white",
                        "ticks": ""
                      }
                    },
                    "scene": {
                      "xaxis": {
                        "backgroundcolor": "#E5ECF6",
                        "gridcolor": "white",
                        "gridwidth": 2,
                        "linecolor": "white",
                        "showbackground": true,
                        "ticks": "",
                        "zerolinecolor": "white"
                      },
                      "yaxis": {
                        "backgroundcolor": "#E5ECF6",
                        "gridcolor": "white",
                        "gridwidth": 2,
                        "linecolor": "white",
                        "showbackground": true,
                        "ticks": "",
                        "zerolinecolor": "white"
                      },
                      "zaxis": {
                        "backgroundcolor": "#E5ECF6",
                        "gridcolor": "white",
                        "gridwidth": 2,
                        "linecolor": "white",
                        "showbackground": true,
                        "ticks": "",
                        "zerolinecolor": "white"
                      }
                    },
                    "shapedefaults": {
                      "line": {
                        "color": "#2a3f5f"
                      }
                    },
                    "ternary": {
                      "aaxis": {
                        "gridcolor": "white",
                        "linecolor": "white",
                        "ticks": ""
                      },
                      "baxis": {
                        "gridcolor": "white",
                        "linecolor": "white",
                        "ticks": ""
                      },
                      "bgcolor": "#E5ECF6",
                      "caxis": {
                        "gridcolor": "white",
                        "linecolor": "white",
                        "ticks": ""
                      }
                    },
                    "title": {
                      "x": 0.05
                    },
                    "xaxis": {
                      "automargin": true,
                      "gridcolor": "white",
                      "linecolor": "white",
                      "ticks": "",
                      "title": {
                        "standoff": 15
                      },
                      "zerolinecolor": "white",
                      "zerolinewidth": 2
                    },
                    "yaxis": {
                      "automargin": true,
                      "gridcolor": "white",
                      "linecolor": "white",
                      "ticks": "",
                      "title": {
                        "standoff": 15
                      },
                      "zerolinecolor": "white",
                      "zerolinewidth": 2
                    }
                  }
                },
                "title": {
                  "font": {
                    "color": "#4D5663"
                  }
                },
                "xaxis": {
                  "gridcolor": "#E1E5ED",
                  "showgrid": true,
                  "tickfont": {
                    "color": "#4D5663"
                  },
                  "title": {
                    "font": {
                      "color": "#4D5663"
                    },
                    "text": ""
                  },
                  "zerolinecolor": "#E1E5ED"
                },
                "yaxis": {
                  "gridcolor": "#E1E5ED",
                  "showgrid": true,
                  "tickfont": {
                    "color": "#4D5663"
                  },
                  "title": {
                    "font": {
                      "color": "#4D5663"
                    },
                    "text": ""
                  },
                  "zerolinecolor": "#E1E5ED"
                }
              }
            },
            "text/html": [
              "<div>                            <div id=\"1113fbf3-8c9e-4d6f-b962-a857630122f9\" class=\"plotly-graph-div\" style=\"height:525px; width:100%;\"></div>            <script type=\"text/javascript\">                require([\"plotly\"], function(Plotly) {                    window.PLOTLYENV=window.PLOTLYENV || {};\n",
              "                    window.PLOTLYENV.BASE_URL='https://plot.ly';                                    if (document.getElementById(\"1113fbf3-8c9e-4d6f-b962-a857630122f9\")) {                    Plotly.newPlot(                        \"1113fbf3-8c9e-4d6f-b962-a857630122f9\",                        [{\"line\":{\"color\":\"rgba(255, 153, 51, 1.0)\",\"dash\":\"solid\",\"shape\":\"linear\",\"width\":1.3},\"mode\":\"lines\",\"name\":\"unemploy\",\"text\":\"\",\"x\":[\"1967-07-01\",\"1967-08-01\",\"1967-09-01\",\"1967-10-01\",\"1967-11-01\",\"1967-12-01\",\"1968-01-01\",\"1968-02-01\",\"1968-03-01\",\"1968-04-01\",\"1968-05-01\",\"1968-06-01\",\"1968-07-01\",\"1968-08-01\",\"1968-09-01\",\"1968-10-01\",\"1968-11-01\",\"1968-12-01\",\"1969-01-01\",\"1969-02-01\",\"1969-03-01\",\"1969-04-01\",\"1969-05-01\",\"1969-06-01\",\"1969-07-01\",\"1969-08-01\",\"1969-09-01\",\"1969-10-01\",\"1969-11-01\",\"1969-12-01\",\"1970-01-01\",\"1970-02-01\",\"1970-03-01\",\"1970-04-01\",\"1970-05-01\",\"1970-06-01\",\"1970-07-01\",\"1970-08-01\",\"1970-09-01\",\"1970-10-01\",\"1970-11-01\",\"1970-12-01\",\"1971-01-01\",\"1971-02-01\",\"1971-03-01\",\"1971-04-01\",\"1971-05-01\",\"1971-06-01\",\"1971-07-01\",\"1971-08-01\",\"1971-09-01\",\"1971-10-01\",\"1971-11-01\",\"1971-12-01\",\"1972-01-01\",\"1972-02-01\",\"1972-03-01\",\"1972-04-01\",\"1972-05-01\",\"1972-06-01\",\"1972-07-01\",\"1972-08-01\",\"1972-09-01\",\"1972-10-01\",\"1972-11-01\",\"1972-12-01\",\"1973-01-01\",\"1973-02-01\",\"1973-03-01\",\"1973-04-01\",\"1973-05-01\",\"1973-06-01\",\"1973-07-01\",\"1973-08-01\",\"1973-09-01\",\"1973-10-01\",\"1973-11-01\",\"1973-12-01\",\"1974-01-01\",\"1974-02-01\",\"1974-03-01\",\"1974-04-01\",\"1974-05-01\",\"1974-06-01\",\"1974-07-01\",\"1974-08-01\",\"1974-09-01\",\"1974-10-01\",\"1974-11-01\",\"1974-12-01\",\"1975-01-01\",\"1975-02-01\",\"1975-03-01\",\"1975-04-01\",\"1975-05-01\",\"1975-06-01\",\"1975-07-01\",\"1975-08-01\",\"1975-09-01\",\"1975-10-01\",\"1975-11-01\",\"1975-12-01\",\"1976-01-01\",\"1976-02-01\",\"1976-03-01\",\"1976-04-01\",\"1976-05-01\",\"1976-06-01\",\"1976-07-01\",\"1976-08-01\",\"1976-09-01\",\"1976-10-01\",\"1976-11-01\",\"1976-12-01\",\"1977-01-01\",\"1977-02-01\",\"1977-03-01\",\"1977-04-01\",\"1977-05-01\",\"1977-06-01\",\"1977-07-01\",\"1977-08-01\",\"1977-09-01\",\"1977-10-01\",\"1977-11-01\",\"1977-12-01\",\"1978-01-01\",\"1978-02-01\",\"1978-03-01\",\"1978-04-01\",\"1978-05-01\",\"1978-06-01\",\"1978-07-01\",\"1978-08-01\",\"1978-09-01\",\"1978-10-01\",\"1978-11-01\",\"1978-12-01\",\"1979-01-01\",\"1979-02-01\",\"1979-03-01\",\"1979-04-01\",\"1979-05-01\",\"1979-06-01\",\"1979-07-01\",\"1979-08-01\",\"1979-09-01\",\"1979-10-01\",\"1979-11-01\",\"1979-12-01\",\"1980-01-01\",\"1980-02-01\",\"1980-03-01\",\"1980-04-01\",\"1980-05-01\",\"1980-06-01\",\"1980-07-01\",\"1980-08-01\",\"1980-09-01\",\"1980-10-01\",\"1980-11-01\",\"1980-12-01\",\"1981-01-01\",\"1981-02-01\",\"1981-03-01\",\"1981-04-01\",\"1981-05-01\",\"1981-06-01\",\"1981-07-01\",\"1981-08-01\",\"1981-09-01\",\"1981-10-01\",\"1981-11-01\",\"1981-12-01\",\"1982-01-01\",\"1982-02-01\",\"1982-03-01\",\"1982-04-01\",\"1982-05-01\",\"1982-06-01\",\"1982-07-01\",\"1982-08-01\",\"1982-09-01\",\"1982-10-01\",\"1982-11-01\",\"1982-12-01\",\"1983-01-01\",\"1983-02-01\",\"1983-03-01\",\"1983-04-01\",\"1983-05-01\",\"1983-06-01\",\"1983-07-01\",\"1983-08-01\",\"1983-09-01\",\"1983-10-01\",\"1983-11-01\",\"1983-12-01\",\"1984-01-01\",\"1984-02-01\",\"1984-03-01\",\"1984-04-01\",\"1984-05-01\",\"1984-06-01\",\"1984-07-01\",\"1984-08-01\",\"1984-09-01\",\"1984-10-01\",\"1984-11-01\",\"1984-12-01\",\"1985-01-01\",\"1985-02-01\",\"1985-03-01\",\"1985-04-01\",\"1985-05-01\",\"1985-06-01\",\"1985-07-01\",\"1985-08-01\",\"1985-09-01\",\"1985-10-01\",\"1985-11-01\",\"1985-12-01\",\"1986-01-01\",\"1986-02-01\",\"1986-03-01\",\"1986-04-01\",\"1986-05-01\",\"1986-06-01\",\"1986-07-01\",\"1986-08-01\",\"1986-09-01\",\"1986-10-01\",\"1986-11-01\",\"1986-12-01\",\"1987-01-01\",\"1987-02-01\",\"1987-03-01\",\"1987-04-01\",\"1987-05-01\",\"1987-06-01\",\"1987-07-01\",\"1987-08-01\",\"1987-09-01\",\"1987-10-01\",\"1987-11-01\",\"1987-12-01\",\"1988-01-01\",\"1988-02-01\",\"1988-03-01\",\"1988-04-01\",\"1988-05-01\",\"1988-06-01\",\"1988-07-01\",\"1988-08-01\",\"1988-09-01\",\"1988-10-01\",\"1988-11-01\",\"1988-12-01\",\"1989-01-01\",\"1989-02-01\",\"1989-03-01\",\"1989-04-01\",\"1989-05-01\",\"1989-06-01\",\"1989-07-01\",\"1989-08-01\",\"1989-09-01\",\"1989-10-01\",\"1989-11-01\",\"1989-12-01\",\"1990-01-01\",\"1990-02-01\",\"1990-03-01\",\"1990-04-01\",\"1990-05-01\",\"1990-06-01\",\"1990-07-01\",\"1990-08-01\",\"1990-09-01\",\"1990-10-01\",\"1990-11-01\",\"1990-12-01\",\"1991-01-01\",\"1991-02-01\",\"1991-03-01\",\"1991-04-01\",\"1991-05-01\",\"1991-06-01\",\"1991-07-01\",\"1991-08-01\",\"1991-09-01\",\"1991-10-01\",\"1991-11-01\",\"1991-12-01\",\"1992-01-01\",\"1992-02-01\",\"1992-03-01\",\"1992-04-01\",\"1992-05-01\",\"1992-06-01\",\"1992-07-01\",\"1992-08-01\",\"1992-09-01\",\"1992-10-01\",\"1992-11-01\",\"1992-12-01\",\"1993-01-01\",\"1993-02-01\",\"1993-03-01\",\"1993-04-01\",\"1993-05-01\",\"1993-06-01\",\"1993-07-01\",\"1993-08-01\",\"1993-09-01\",\"1993-10-01\",\"1993-11-01\",\"1993-12-01\",\"1994-01-01\",\"1994-02-01\",\"1994-03-01\",\"1994-04-01\",\"1994-05-01\",\"1994-06-01\",\"1994-07-01\",\"1994-08-01\",\"1994-09-01\",\"1994-10-01\",\"1994-11-01\",\"1994-12-01\",\"1995-01-01\",\"1995-02-01\",\"1995-03-01\",\"1995-04-01\",\"1995-05-01\",\"1995-06-01\",\"1995-07-01\",\"1995-08-01\",\"1995-09-01\",\"1995-10-01\",\"1995-11-01\",\"1995-12-01\",\"1996-01-01\",\"1996-02-01\",\"1996-03-01\",\"1996-04-01\",\"1996-05-01\",\"1996-06-01\",\"1996-07-01\",\"1996-08-01\",\"1996-09-01\",\"1996-10-01\",\"1996-11-01\",\"1996-12-01\",\"1997-01-01\",\"1997-02-01\",\"1997-03-01\",\"1997-04-01\",\"1997-05-01\",\"1997-06-01\",\"1997-07-01\",\"1997-08-01\",\"1997-09-01\",\"1997-10-01\",\"1997-11-01\",\"1997-12-01\",\"1998-01-01\",\"1998-02-01\",\"1998-03-01\",\"1998-04-01\",\"1998-05-01\",\"1998-06-01\",\"1998-07-01\",\"1998-08-01\",\"1998-09-01\",\"1998-10-01\",\"1998-11-01\",\"1998-12-01\",\"1999-01-01\",\"1999-02-01\",\"1999-03-01\",\"1999-04-01\",\"1999-05-01\",\"1999-06-01\",\"1999-07-01\",\"1999-08-01\",\"1999-09-01\",\"1999-10-01\",\"1999-11-01\",\"1999-12-01\",\"2000-01-01\",\"2000-02-01\",\"2000-03-01\",\"2000-04-01\",\"2000-05-01\",\"2000-06-01\",\"2000-07-01\",\"2000-08-01\",\"2000-09-01\",\"2000-10-01\",\"2000-11-01\",\"2000-12-01\",\"2001-01-01\",\"2001-02-01\",\"2001-03-01\",\"2001-04-01\",\"2001-05-01\",\"2001-06-01\",\"2001-07-01\",\"2001-08-01\",\"2001-09-01\",\"2001-10-01\",\"2001-11-01\",\"2001-12-01\",\"2002-01-01\",\"2002-02-01\",\"2002-03-01\",\"2002-04-01\",\"2002-05-01\",\"2002-06-01\",\"2002-07-01\",\"2002-08-01\",\"2002-09-01\",\"2002-10-01\",\"2002-11-01\",\"2002-12-01\",\"2003-01-01\",\"2003-02-01\",\"2003-03-01\",\"2003-04-01\",\"2003-05-01\",\"2003-06-01\",\"2003-07-01\",\"2003-08-01\",\"2003-09-01\",\"2003-10-01\",\"2003-11-01\",\"2003-12-01\",\"2004-01-01\",\"2004-02-01\",\"2004-03-01\",\"2004-04-01\",\"2004-05-01\",\"2004-06-01\",\"2004-07-01\",\"2004-08-01\",\"2004-09-01\",\"2004-10-01\",\"2004-11-01\",\"2004-12-01\",\"2005-01-01\",\"2005-02-01\",\"2005-03-01\",\"2005-04-01\",\"2005-05-01\",\"2005-06-01\",\"2005-07-01\",\"2005-08-01\",\"2005-09-01\",\"2005-10-01\",\"2005-11-01\",\"2005-12-01\",\"2006-01-01\",\"2006-02-01\",\"2006-03-01\",\"2006-04-01\",\"2006-05-01\",\"2006-06-01\",\"2006-07-01\",\"2006-08-01\",\"2006-09-01\",\"2006-10-01\",\"2006-11-01\",\"2006-12-01\",\"2007-01-01\",\"2007-02-01\",\"2007-03-01\",\"2007-04-01\",\"2007-05-01\",\"2007-06-01\",\"2007-07-01\",\"2007-08-01\",\"2007-09-01\",\"2007-10-01\",\"2007-11-01\",\"2007-12-01\",\"2008-01-01\",\"2008-02-01\",\"2008-03-01\",\"2008-04-01\",\"2008-05-01\",\"2008-06-01\",\"2008-07-01\",\"2008-08-01\",\"2008-09-01\",\"2008-10-01\",\"2008-11-01\",\"2008-12-01\",\"2009-01-01\",\"2009-02-01\",\"2009-03-01\",\"2009-04-01\",\"2009-05-01\",\"2009-06-01\",\"2009-07-01\",\"2009-08-01\",\"2009-09-01\",\"2009-10-01\",\"2009-11-01\",\"2009-12-01\",\"2010-01-01\",\"2010-02-01\",\"2010-03-01\",\"2010-04-01\",\"2010-05-01\",\"2010-06-01\",\"2010-07-01\",\"2010-08-01\",\"2010-09-01\",\"2010-10-01\",\"2010-11-01\",\"2010-12-01\",\"2011-01-01\",\"2011-02-01\",\"2011-03-01\",\"2011-04-01\",\"2011-05-01\",\"2011-06-01\",\"2011-07-01\",\"2011-08-01\",\"2011-09-01\",\"2011-10-01\",\"2011-11-01\",\"2011-12-01\",\"2012-01-01\",\"2012-02-01\",\"2012-03-01\",\"2012-04-01\",\"2012-05-01\",\"2012-06-01\",\"2012-07-01\",\"2012-08-01\",\"2012-09-01\",\"2012-10-01\",\"2012-11-01\",\"2012-12-01\",\"2013-01-01\",\"2013-02-01\",\"2013-03-01\",\"2013-04-01\",\"2013-05-01\",\"2013-06-01\",\"2013-07-01\",\"2013-08-01\",\"2013-09-01\",\"2013-10-01\",\"2013-11-01\",\"2013-12-01\",\"2014-01-01\",\"2014-02-01\",\"2014-03-01\",\"2014-04-01\",\"2014-05-01\",\"2014-06-01\",\"2014-07-01\",\"2014-08-01\",\"2014-09-01\",\"2014-10-01\",\"2014-11-01\",\"2014-12-01\",\"2015-01-01\",\"2015-02-01\",\"2015-03-01\",\"2015-04-01\"],\"y\":[2944,2945,2958,3143,3066,3018,2878,3001,2877,2709,2740,2938,2883,2768,2686,2689,2715,2685,2718,2692,2712,2758,2713,2816,2868,2856,3040,3049,2856,2884,3201,3453,3635,3797,3919,4071,4175,4256,4456,4591,4898,5076,4986,4903,4987,4959,4996,4949,5035,5134,5042,4954,5161,5154,5019,4928,5038,4959,4922,4923,4913,4939,4849,4875,4602,4543,4326,4452,4394,4459,4329,4363,4305,4305,4350,4144,4396,4489,4644,4731,4634,4618,4705,4927,5063,5022,5437,5523,6140,6636,7501,7520,7978,8210,8433,8220,8127,7928,7923,7897,7794,7744,7534,7326,7230,7330,7053,7322,7490,7518,7380,7430,7620,7545,7280,7443,7307,7059,6911,7134,6829,6925,6751,6763,6815,6386,6489,6318,6337,6180,6127,6028,6309,6080,6125,5947,6077,6228,6109,6173,6109,6069,5840,5959,5996,6320,6190,6296,6238,6325,6683,6702,6729,7358,7984,8098,8363,8281,8021,8088,8023,7718,8071,8051,7982,7869,8174,8098,7863,8036,8230,8646,9029,9267,9397,9705,9895,10244,10335,10538,10849,10881,11217,11529,11938,12051,11534,11545,11408,11268,11154,11246,10548,10623,10282,9887,9499,9331,9008,8791,8746,8762,8456,8226,8537,8519,8367,8381,8198,8358,8423,8321,8339,8395,8302,8460,8513,8196,8248,8298,8128,8138,7795,8402,8383,8364,8439,8508,8319,8135,8310,8243,8159,7883,7892,7865,7862,7542,7574,7398,7268,7261,7102,7227,7035,6936,6953,6929,6876,6601,6779,6546,6605,6843,6604,6568,6537,6518,6682,6359,6205,6468,6375,6577,6495,6511,6590,6630,6725,6667,6752,6651,6598,6797,6742,6590,6922,7188,7368,7459,7764,7901,8015,8265,8586,8439,8736,8692,8586,8666,8722,8842,8931,9198,9283,9454,9460,9415,9744,10040,9850,9787,9781,9398,9565,9557,9325,9183,9056,9110,9149,9121,8930,8763,8714,8750,8542,8477,8630,8583,8470,8331,7915,7927,7946,7933,7734,7632,7375,7230,7375,7187,7153,7645,7430,7427,7527,7484,7478,7328,7426,7423,7491,7313,7318,7415,7423,7095,7337,6882,6979,7031,7236,7253,7158,7102,7000,6873,6655,6799,6655,6608,6656,6454,6308,6476,6368,6306,6422,5941,6047,6212,6259,6179,6300,6280,6100,6032,5976,6111,5783,6004,5796,5951,6025,5838,5915,5778,5716,5653,5708,5858,5733,5481,5758,5651,5747,5853,5625,5534,5639,5634,6023,6089,6141,6271,6226,6484,6583,7042,7142,7694,8003,8258,8182,8215,8304,8599,8399,8393,8390,8304,8251,8307,8520,8640,8520,8618,8588,8842,8957,9266,9011,8896,8921,8732,8576,8317,8370,8167,8491,8170,8212,8286,8136,7990,7927,8061,7932,7934,7784,7980,7737,7672,7651,7524,7406,7345,7553,7453,7566,7279,7064,7184,7072,7120,6980,7001,7175,7091,6847,6727,6872,6762,7116,6927,6731,6850,6766,6979,7149,7067,7170,7237,7240,7645,7685,7497,7822,7637,8395,8575,8937,9438,9494,10074,10538,11286,12058,12898,13426,13853,14499,14707,14601,14814,15009,15352,15219,15098,15046,15113,15202,15325,14849,14474,14512,14648,14579,14516,15081,14348,14013,13820,13737,13957,13855,13962,13763,13818,13948,13594,13302,13093,12797,12813,12713,12646,12660,12692,12656,12471,12115,12124,12005,12298,12471,11950,11689,11760,11654,11751,11335,11279,11270,11136,10787,10404,10202,10349,10380,9702,9859,9460,9608,9599,9262,8990,9090,8717,8903,8610,8504,8526],\"type\":\"scatter\"}],                        {\"legend\":{\"bgcolor\":\"#F5F6F9\",\"font\":{\"color\":\"#4D5663\"}},\"paper_bgcolor\":\"#F5F6F9\",\"plot_bgcolor\":\"#F5F6F9\",\"template\":{\"data\":{\"barpolar\":[{\"marker\":{\"line\":{\"color\":\"#E5ECF6\",\"width\":0.5},\"pattern\":{\"fillmode\":\"overlay\",\"size\":10,\"solidity\":0.2}},\"type\":\"barpolar\"}],\"bar\":[{\"error_x\":{\"color\":\"#2a3f5f\"},\"error_y\":{\"color\":\"#2a3f5f\"},\"marker\":{\"line\":{\"color\":\"#E5ECF6\",\"width\":0.5},\"pattern\":{\"fillmode\":\"overlay\",\"size\":10,\"solidity\":0.2}},\"type\":\"bar\"}],\"carpet\":[{\"aaxis\":{\"endlinecolor\":\"#2a3f5f\",\"gridcolor\":\"white\",\"linecolor\":\"white\",\"minorgridcolor\":\"white\",\"startlinecolor\":\"#2a3f5f\"},\"baxis\":{\"endlinecolor\":\"#2a3f5f\",\"gridcolor\":\"white\",\"linecolor\":\"white\",\"minorgridcolor\":\"white\",\"startlinecolor\":\"#2a3f5f\"},\"type\":\"carpet\"}],\"choropleth\":[{\"colorbar\":{\"outlinewidth\":0,\"ticks\":\"\"},\"type\":\"choropleth\"}],\"contourcarpet\":[{\"colorbar\":{\"outlinewidth\":0,\"ticks\":\"\"},\"type\":\"contourcarpet\"}],\"contour\":[{\"colorbar\":{\"outlinewidth\":0,\"ticks\":\"\"},\"colorscale\":[[0.0,\"#0d0887\"],[0.1111111111111111,\"#46039f\"],[0.2222222222222222,\"#7201a8\"],[0.3333333333333333,\"#9c179e\"],[0.4444444444444444,\"#bd3786\"],[0.5555555555555556,\"#d8576b\"],[0.6666666666666666,\"#ed7953\"],[0.7777777777777778,\"#fb9f3a\"],[0.8888888888888888,\"#fdca26\"],[1.0,\"#f0f921\"]],\"type\":\"contour\"}],\"heatmapgl\":[{\"colorbar\":{\"outlinewidth\":0,\"ticks\":\"\"},\"colorscale\":[[0.0,\"#0d0887\"],[0.1111111111111111,\"#46039f\"],[0.2222222222222222,\"#7201a8\"],[0.3333333333333333,\"#9c179e\"],[0.4444444444444444,\"#bd3786\"],[0.5555555555555556,\"#d8576b\"],[0.6666666666666666,\"#ed7953\"],[0.7777777777777778,\"#fb9f3a\"],[0.8888888888888888,\"#fdca26\"],[1.0,\"#f0f921\"]],\"type\":\"heatmapgl\"}],\"heatmap\":[{\"colorbar\":{\"outlinewidth\":0,\"ticks\":\"\"},\"colorscale\":[[0.0,\"#0d0887\"],[0.1111111111111111,\"#46039f\"],[0.2222222222222222,\"#7201a8\"],[0.3333333333333333,\"#9c179e\"],[0.4444444444444444,\"#bd3786\"],[0.5555555555555556,\"#d8576b\"],[0.6666666666666666,\"#ed7953\"],[0.7777777777777778,\"#fb9f3a\"],[0.8888888888888888,\"#fdca26\"],[1.0,\"#f0f921\"]],\"type\":\"heatmap\"}],\"histogram2dcontour\":[{\"colorbar\":{\"outlinewidth\":0,\"ticks\":\"\"},\"colorscale\":[[0.0,\"#0d0887\"],[0.1111111111111111,\"#46039f\"],[0.2222222222222222,\"#7201a8\"],[0.3333333333333333,\"#9c179e\"],[0.4444444444444444,\"#bd3786\"],[0.5555555555555556,\"#d8576b\"],[0.6666666666666666,\"#ed7953\"],[0.7777777777777778,\"#fb9f3a\"],[0.8888888888888888,\"#fdca26\"],[1.0,\"#f0f921\"]],\"type\":\"histogram2dcontour\"}],\"histogram2d\":[{\"colorbar\":{\"outlinewidth\":0,\"ticks\":\"\"},\"colorscale\":[[0.0,\"#0d0887\"],[0.1111111111111111,\"#46039f\"],[0.2222222222222222,\"#7201a8\"],[0.3333333333333333,\"#9c179e\"],[0.4444444444444444,\"#bd3786\"],[0.5555555555555556,\"#d8576b\"],[0.6666666666666666,\"#ed7953\"],[0.7777777777777778,\"#fb9f3a\"],[0.8888888888888888,\"#fdca26\"],[1.0,\"#f0f921\"]],\"type\":\"histogram2d\"}],\"histogram\":[{\"marker\":{\"pattern\":{\"fillmode\":\"overlay\",\"size\":10,\"solidity\":0.2}},\"type\":\"histogram\"}],\"mesh3d\":[{\"colorbar\":{\"outlinewidth\":0,\"ticks\":\"\"},\"type\":\"mesh3d\"}],\"parcoords\":[{\"line\":{\"colorbar\":{\"outlinewidth\":0,\"ticks\":\"\"}},\"type\":\"parcoords\"}],\"pie\":[{\"automargin\":true,\"type\":\"pie\"}],\"scatter3d\":[{\"line\":{\"colorbar\":{\"outlinewidth\":0,\"ticks\":\"\"}},\"marker\":{\"colorbar\":{\"outlinewidth\":0,\"ticks\":\"\"}},\"type\":\"scatter3d\"}],\"scattercarpet\":[{\"marker\":{\"colorbar\":{\"outlinewidth\":0,\"ticks\":\"\"}},\"type\":\"scattercarpet\"}],\"scattergeo\":[{\"marker\":{\"colorbar\":{\"outlinewidth\":0,\"ticks\":\"\"}},\"type\":\"scattergeo\"}],\"scattergl\":[{\"marker\":{\"colorbar\":{\"outlinewidth\":0,\"ticks\":\"\"}},\"type\":\"scattergl\"}],\"scattermapbox\":[{\"marker\":{\"colorbar\":{\"outlinewidth\":0,\"ticks\":\"\"}},\"type\":\"scattermapbox\"}],\"scatterpolargl\":[{\"marker\":{\"colorbar\":{\"outlinewidth\":0,\"ticks\":\"\"}},\"type\":\"scatterpolargl\"}],\"scatterpolar\":[{\"marker\":{\"colorbar\":{\"outlinewidth\":0,\"ticks\":\"\"}},\"type\":\"scatterpolar\"}],\"scatter\":[{\"fillpattern\":{\"fillmode\":\"overlay\",\"size\":10,\"solidity\":0.2},\"type\":\"scatter\"}],\"scatterternary\":[{\"marker\":{\"colorbar\":{\"outlinewidth\":0,\"ticks\":\"\"}},\"type\":\"scatterternary\"}],\"surface\":[{\"colorbar\":{\"outlinewidth\":0,\"ticks\":\"\"},\"colorscale\":[[0.0,\"#0d0887\"],[0.1111111111111111,\"#46039f\"],[0.2222222222222222,\"#7201a8\"],[0.3333333333333333,\"#9c179e\"],[0.4444444444444444,\"#bd3786\"],[0.5555555555555556,\"#d8576b\"],[0.6666666666666666,\"#ed7953\"],[0.7777777777777778,\"#fb9f3a\"],[0.8888888888888888,\"#fdca26\"],[1.0,\"#f0f921\"]],\"type\":\"surface\"}],\"table\":[{\"cells\":{\"fill\":{\"color\":\"#EBF0F8\"},\"line\":{\"color\":\"white\"}},\"header\":{\"fill\":{\"color\":\"#C8D4E3\"},\"line\":{\"color\":\"white\"}},\"type\":\"table\"}]},\"layout\":{\"annotationdefaults\":{\"arrowcolor\":\"#2a3f5f\",\"arrowhead\":0,\"arrowwidth\":1},\"autotypenumbers\":\"strict\",\"coloraxis\":{\"colorbar\":{\"outlinewidth\":0,\"ticks\":\"\"}},\"colorscale\":{\"diverging\":[[0,\"#8e0152\"],[0.1,\"#c51b7d\"],[0.2,\"#de77ae\"],[0.3,\"#f1b6da\"],[0.4,\"#fde0ef\"],[0.5,\"#f7f7f7\"],[0.6,\"#e6f5d0\"],[0.7,\"#b8e186\"],[0.8,\"#7fbc41\"],[0.9,\"#4d9221\"],[1,\"#276419\"]],\"sequential\":[[0.0,\"#0d0887\"],[0.1111111111111111,\"#46039f\"],[0.2222222222222222,\"#7201a8\"],[0.3333333333333333,\"#9c179e\"],[0.4444444444444444,\"#bd3786\"],[0.5555555555555556,\"#d8576b\"],[0.6666666666666666,\"#ed7953\"],[0.7777777777777778,\"#fb9f3a\"],[0.8888888888888888,\"#fdca26\"],[1.0,\"#f0f921\"]],\"sequentialminus\":[[0.0,\"#0d0887\"],[0.1111111111111111,\"#46039f\"],[0.2222222222222222,\"#7201a8\"],[0.3333333333333333,\"#9c179e\"],[0.4444444444444444,\"#bd3786\"],[0.5555555555555556,\"#d8576b\"],[0.6666666666666666,\"#ed7953\"],[0.7777777777777778,\"#fb9f3a\"],[0.8888888888888888,\"#fdca26\"],[1.0,\"#f0f921\"]]},\"colorway\":[\"#636efa\",\"#EF553B\",\"#00cc96\",\"#ab63fa\",\"#FFA15A\",\"#19d3f3\",\"#FF6692\",\"#B6E880\",\"#FF97FF\",\"#FECB52\"],\"font\":{\"color\":\"#2a3f5f\"},\"geo\":{\"bgcolor\":\"white\",\"lakecolor\":\"white\",\"landcolor\":\"#E5ECF6\",\"showlakes\":true,\"showland\":true,\"subunitcolor\":\"white\"},\"hoverlabel\":{\"align\":\"left\"},\"hovermode\":\"closest\",\"mapbox\":{\"style\":\"light\"},\"paper_bgcolor\":\"white\",\"plot_bgcolor\":\"#E5ECF6\",\"polar\":{\"angularaxis\":{\"gridcolor\":\"white\",\"linecolor\":\"white\",\"ticks\":\"\"},\"bgcolor\":\"#E5ECF6\",\"radialaxis\":{\"gridcolor\":\"white\",\"linecolor\":\"white\",\"ticks\":\"\"}},\"scene\":{\"xaxis\":{\"backgroundcolor\":\"#E5ECF6\",\"gridcolor\":\"white\",\"gridwidth\":2,\"linecolor\":\"white\",\"showbackground\":true,\"ticks\":\"\",\"zerolinecolor\":\"white\"},\"yaxis\":{\"backgroundcolor\":\"#E5ECF6\",\"gridcolor\":\"white\",\"gridwidth\":2,\"linecolor\":\"white\",\"showbackground\":true,\"ticks\":\"\",\"zerolinecolor\":\"white\"},\"zaxis\":{\"backgroundcolor\":\"#E5ECF6\",\"gridcolor\":\"white\",\"gridwidth\":2,\"linecolor\":\"white\",\"showbackground\":true,\"ticks\":\"\",\"zerolinecolor\":\"white\"}},\"shapedefaults\":{\"line\":{\"color\":\"#2a3f5f\"}},\"ternary\":{\"aaxis\":{\"gridcolor\":\"white\",\"linecolor\":\"white\",\"ticks\":\"\"},\"baxis\":{\"gridcolor\":\"white\",\"linecolor\":\"white\",\"ticks\":\"\"},\"bgcolor\":\"#E5ECF6\",\"caxis\":{\"gridcolor\":\"white\",\"linecolor\":\"white\",\"ticks\":\"\"}},\"title\":{\"x\":0.05},\"xaxis\":{\"automargin\":true,\"gridcolor\":\"white\",\"linecolor\":\"white\",\"ticks\":\"\",\"title\":{\"standoff\":15},\"zerolinecolor\":\"white\",\"zerolinewidth\":2},\"yaxis\":{\"automargin\":true,\"gridcolor\":\"white\",\"linecolor\":\"white\",\"ticks\":\"\",\"title\":{\"standoff\":15},\"zerolinecolor\":\"white\",\"zerolinewidth\":2}}},\"title\":{\"font\":{\"color\":\"#4D5663\"}},\"xaxis\":{\"gridcolor\":\"#E1E5ED\",\"showgrid\":true,\"tickfont\":{\"color\":\"#4D5663\"},\"title\":{\"font\":{\"color\":\"#4D5663\"},\"text\":\"\"},\"zerolinecolor\":\"#E1E5ED\"},\"yaxis\":{\"gridcolor\":\"#E1E5ED\",\"showgrid\":true,\"tickfont\":{\"color\":\"#4D5663\"},\"title\":{\"font\":{\"color\":\"#4D5663\"},\"text\":\"\"},\"zerolinecolor\":\"#E1E5ED\"}},                        {\"showLink\": true, \"linkText\": \"Export to plot.ly\", \"plotlyServerURL\": \"https://plot.ly\", \"responsive\": true}                    ).then(function(){\n",
              "                            \n",
              "var gd = document.getElementById('1113fbf3-8c9e-4d6f-b962-a857630122f9');\n",
              "var x = new MutationObserver(function (mutations, observer) {{\n",
              "        var display = window.getComputedStyle(gd).display;\n",
              "        if (!display || display === 'none') {{\n",
              "            console.log([gd, 'removed!']);\n",
              "            Plotly.purge(gd);\n",
              "            observer.disconnect();\n",
              "        }}\n",
              "}});\n",
              "\n",
              "// Listen for the removal of the full notebook cells\n",
              "var notebookContainer = gd.closest('#notebook-container');\n",
              "if (notebookContainer) {{\n",
              "    x.observe(notebookContainer, {childList: true});\n",
              "}}\n",
              "\n",
              "// Listen for the clearing of the current output cell\n",
              "var outputEl = gd.closest('.output');\n",
              "if (outputEl) {{\n",
              "    x.observe(outputEl, {childList: true});\n",
              "}}\n",
              "\n",
              "                        })                };                });            </script>        </div>"
            ]
          },
          "metadata": {},
          "output_type": "display_data"
        }
      ],
      "source": [
        "economics.iplot(kind='scatter', x='date', y='unemploy')"
      ]
    },
    {
      "cell_type": "markdown",
      "id": "7106ed41",
      "metadata": {
        "id": "7106ed41"
      },
      "source": [
        "* economics 데이터의 'date'를 x값, 'unemploy'를 y값으로 지정하여 선 그래프를 그렸습니다."
      ]
    },
    {
      "cell_type": "markdown",
      "id": "f8298888",
      "metadata": {
        "id": "f8298888"
      },
      "source": [
        "<br>"
      ]
    },
    {
      "cell_type": "code",
      "execution_count": null,
      "id": "1724cfca",
      "metadata": {
        "id": "1724cfca",
        "outputId": "ebd68f98-b0ee-40d8-a90f-fc4777920434"
      },
      "outputs": [
        {
          "data": {
            "application/vnd.plotly.v1+json": {
              "config": {
                "linkText": "Export to plot.ly",
                "plotlyServerURL": "https://plot.ly",
                "showLink": true
              },
              "data": [
                {
                  "line": {
                    "color": "rgba(255, 153, 51, 1.0)",
                    "dash": "solid",
                    "shape": "linear",
                    "width": 1.3
                  },
                  "mode": "lines",
                  "name": "pce",
                  "text": "",
                  "type": "scatter",
                  "x": [
                    "1967-07-01",
                    "1967-08-01",
                    "1967-09-01",
                    "1967-10-01",
                    "1967-11-01",
                    "1967-12-01",
                    "1968-01-01",
                    "1968-02-01",
                    "1968-03-01",
                    "1968-04-01",
                    "1968-05-01",
                    "1968-06-01",
                    "1968-07-01",
                    "1968-08-01",
                    "1968-09-01",
                    "1968-10-01",
                    "1968-11-01",
                    "1968-12-01",
                    "1969-01-01",
                    "1969-02-01",
                    "1969-03-01",
                    "1969-04-01",
                    "1969-05-01",
                    "1969-06-01",
                    "1969-07-01",
                    "1969-08-01",
                    "1969-09-01",
                    "1969-10-01",
                    "1969-11-01",
                    "1969-12-01",
                    "1970-01-01",
                    "1970-02-01",
                    "1970-03-01",
                    "1970-04-01",
                    "1970-05-01",
                    "1970-06-01",
                    "1970-07-01",
                    "1970-08-01",
                    "1970-09-01",
                    "1970-10-01",
                    "1970-11-01",
                    "1970-12-01",
                    "1971-01-01",
                    "1971-02-01",
                    "1971-03-01",
                    "1971-04-01",
                    "1971-05-01",
                    "1971-06-01",
                    "1971-07-01",
                    "1971-08-01",
                    "1971-09-01",
                    "1971-10-01",
                    "1971-11-01",
                    "1971-12-01",
                    "1972-01-01",
                    "1972-02-01",
                    "1972-03-01",
                    "1972-04-01",
                    "1972-05-01",
                    "1972-06-01",
                    "1972-07-01",
                    "1972-08-01",
                    "1972-09-01",
                    "1972-10-01",
                    "1972-11-01",
                    "1972-12-01",
                    "1973-01-01",
                    "1973-02-01",
                    "1973-03-01",
                    "1973-04-01",
                    "1973-05-01",
                    "1973-06-01",
                    "1973-07-01",
                    "1973-08-01",
                    "1973-09-01",
                    "1973-10-01",
                    "1973-11-01",
                    "1973-12-01",
                    "1974-01-01",
                    "1974-02-01",
                    "1974-03-01",
                    "1974-04-01",
                    "1974-05-01",
                    "1974-06-01",
                    "1974-07-01",
                    "1974-08-01",
                    "1974-09-01",
                    "1974-10-01",
                    "1974-11-01",
                    "1974-12-01",
                    "1975-01-01",
                    "1975-02-01",
                    "1975-03-01",
                    "1975-04-01",
                    "1975-05-01",
                    "1975-06-01",
                    "1975-07-01",
                    "1975-08-01",
                    "1975-09-01",
                    "1975-10-01",
                    "1975-11-01",
                    "1975-12-01",
                    "1976-01-01",
                    "1976-02-01",
                    "1976-03-01",
                    "1976-04-01",
                    "1976-05-01",
                    "1976-06-01",
                    "1976-07-01",
                    "1976-08-01",
                    "1976-09-01",
                    "1976-10-01",
                    "1976-11-01",
                    "1976-12-01",
                    "1977-01-01",
                    "1977-02-01",
                    "1977-03-01",
                    "1977-04-01",
                    "1977-05-01",
                    "1977-06-01",
                    "1977-07-01",
                    "1977-08-01",
                    "1977-09-01",
                    "1977-10-01",
                    "1977-11-01",
                    "1977-12-01",
                    "1978-01-01",
                    "1978-02-01",
                    "1978-03-01",
                    "1978-04-01",
                    "1978-05-01",
                    "1978-06-01",
                    "1978-07-01",
                    "1978-08-01",
                    "1978-09-01",
                    "1978-10-01",
                    "1978-11-01",
                    "1978-12-01",
                    "1979-01-01",
                    "1979-02-01",
                    "1979-03-01",
                    "1979-04-01",
                    "1979-05-01",
                    "1979-06-01",
                    "1979-07-01",
                    "1979-08-01",
                    "1979-09-01",
                    "1979-10-01",
                    "1979-11-01",
                    "1979-12-01",
                    "1980-01-01",
                    "1980-02-01",
                    "1980-03-01",
                    "1980-04-01",
                    "1980-05-01",
                    "1980-06-01",
                    "1980-07-01",
                    "1980-08-01",
                    "1980-09-01",
                    "1980-10-01",
                    "1980-11-01",
                    "1980-12-01",
                    "1981-01-01",
                    "1981-02-01",
                    "1981-03-01",
                    "1981-04-01",
                    "1981-05-01",
                    "1981-06-01",
                    "1981-07-01",
                    "1981-08-01",
                    "1981-09-01",
                    "1981-10-01",
                    "1981-11-01",
                    "1981-12-01",
                    "1982-01-01",
                    "1982-02-01",
                    "1982-03-01",
                    "1982-04-01",
                    "1982-05-01",
                    "1982-06-01",
                    "1982-07-01",
                    "1982-08-01",
                    "1982-09-01",
                    "1982-10-01",
                    "1982-11-01",
                    "1982-12-01",
                    "1983-01-01",
                    "1983-02-01",
                    "1983-03-01",
                    "1983-04-01",
                    "1983-05-01",
                    "1983-06-01",
                    "1983-07-01",
                    "1983-08-01",
                    "1983-09-01",
                    "1983-10-01",
                    "1983-11-01",
                    "1983-12-01",
                    "1984-01-01",
                    "1984-02-01",
                    "1984-03-01",
                    "1984-04-01",
                    "1984-05-01",
                    "1984-06-01",
                    "1984-07-01",
                    "1984-08-01",
                    "1984-09-01",
                    "1984-10-01",
                    "1984-11-01",
                    "1984-12-01",
                    "1985-01-01",
                    "1985-02-01",
                    "1985-03-01",
                    "1985-04-01",
                    "1985-05-01",
                    "1985-06-01",
                    "1985-07-01",
                    "1985-08-01",
                    "1985-09-01",
                    "1985-10-01",
                    "1985-11-01",
                    "1985-12-01",
                    "1986-01-01",
                    "1986-02-01",
                    "1986-03-01",
                    "1986-04-01",
                    "1986-05-01",
                    "1986-06-01",
                    "1986-07-01",
                    "1986-08-01",
                    "1986-09-01",
                    "1986-10-01",
                    "1986-11-01",
                    "1986-12-01",
                    "1987-01-01",
                    "1987-02-01",
                    "1987-03-01",
                    "1987-04-01",
                    "1987-05-01",
                    "1987-06-01",
                    "1987-07-01",
                    "1987-08-01",
                    "1987-09-01",
                    "1987-10-01",
                    "1987-11-01",
                    "1987-12-01",
                    "1988-01-01",
                    "1988-02-01",
                    "1988-03-01",
                    "1988-04-01",
                    "1988-05-01",
                    "1988-06-01",
                    "1988-07-01",
                    "1988-08-01",
                    "1988-09-01",
                    "1988-10-01",
                    "1988-11-01",
                    "1988-12-01",
                    "1989-01-01",
                    "1989-02-01",
                    "1989-03-01",
                    "1989-04-01",
                    "1989-05-01",
                    "1989-06-01",
                    "1989-07-01",
                    "1989-08-01",
                    "1989-09-01",
                    "1989-10-01",
                    "1989-11-01",
                    "1989-12-01",
                    "1990-01-01",
                    "1990-02-01",
                    "1990-03-01",
                    "1990-04-01",
                    "1990-05-01",
                    "1990-06-01",
                    "1990-07-01",
                    "1990-08-01",
                    "1990-09-01",
                    "1990-10-01",
                    "1990-11-01",
                    "1990-12-01",
                    "1991-01-01",
                    "1991-02-01",
                    "1991-03-01",
                    "1991-04-01",
                    "1991-05-01",
                    "1991-06-01",
                    "1991-07-01",
                    "1991-08-01",
                    "1991-09-01",
                    "1991-10-01",
                    "1991-11-01",
                    "1991-12-01",
                    "1992-01-01",
                    "1992-02-01",
                    "1992-03-01",
                    "1992-04-01",
                    "1992-05-01",
                    "1992-06-01",
                    "1992-07-01",
                    "1992-08-01",
                    "1992-09-01",
                    "1992-10-01",
                    "1992-11-01",
                    "1992-12-01",
                    "1993-01-01",
                    "1993-02-01",
                    "1993-03-01",
                    "1993-04-01",
                    "1993-05-01",
                    "1993-06-01",
                    "1993-07-01",
                    "1993-08-01",
                    "1993-09-01",
                    "1993-10-01",
                    "1993-11-01",
                    "1993-12-01",
                    "1994-01-01",
                    "1994-02-01",
                    "1994-03-01",
                    "1994-04-01",
                    "1994-05-01",
                    "1994-06-01",
                    "1994-07-01",
                    "1994-08-01",
                    "1994-09-01",
                    "1994-10-01",
                    "1994-11-01",
                    "1994-12-01",
                    "1995-01-01",
                    "1995-02-01",
                    "1995-03-01",
                    "1995-04-01",
                    "1995-05-01",
                    "1995-06-01",
                    "1995-07-01",
                    "1995-08-01",
                    "1995-09-01",
                    "1995-10-01",
                    "1995-11-01",
                    "1995-12-01",
                    "1996-01-01",
                    "1996-02-01",
                    "1996-03-01",
                    "1996-04-01",
                    "1996-05-01",
                    "1996-06-01",
                    "1996-07-01",
                    "1996-08-01",
                    "1996-09-01",
                    "1996-10-01",
                    "1996-11-01",
                    "1996-12-01",
                    "1997-01-01",
                    "1997-02-01",
                    "1997-03-01",
                    "1997-04-01",
                    "1997-05-01",
                    "1997-06-01",
                    "1997-07-01",
                    "1997-08-01",
                    "1997-09-01",
                    "1997-10-01",
                    "1997-11-01",
                    "1997-12-01",
                    "1998-01-01",
                    "1998-02-01",
                    "1998-03-01",
                    "1998-04-01",
                    "1998-05-01",
                    "1998-06-01",
                    "1998-07-01",
                    "1998-08-01",
                    "1998-09-01",
                    "1998-10-01",
                    "1998-11-01",
                    "1998-12-01",
                    "1999-01-01",
                    "1999-02-01",
                    "1999-03-01",
                    "1999-04-01",
                    "1999-05-01",
                    "1999-06-01",
                    "1999-07-01",
                    "1999-08-01",
                    "1999-09-01",
                    "1999-10-01",
                    "1999-11-01",
                    "1999-12-01",
                    "2000-01-01",
                    "2000-02-01",
                    "2000-03-01",
                    "2000-04-01",
                    "2000-05-01",
                    "2000-06-01",
                    "2000-07-01",
                    "2000-08-01",
                    "2000-09-01",
                    "2000-10-01",
                    "2000-11-01",
                    "2000-12-01",
                    "2001-01-01",
                    "2001-02-01",
                    "2001-03-01",
                    "2001-04-01",
                    "2001-05-01",
                    "2001-06-01",
                    "2001-07-01",
                    "2001-08-01",
                    "2001-09-01",
                    "2001-10-01",
                    "2001-11-01",
                    "2001-12-01",
                    "2002-01-01",
                    "2002-02-01",
                    "2002-03-01",
                    "2002-04-01",
                    "2002-05-01",
                    "2002-06-01",
                    "2002-07-01",
                    "2002-08-01",
                    "2002-09-01",
                    "2002-10-01",
                    "2002-11-01",
                    "2002-12-01",
                    "2003-01-01",
                    "2003-02-01",
                    "2003-03-01",
                    "2003-04-01",
                    "2003-05-01",
                    "2003-06-01",
                    "2003-07-01",
                    "2003-08-01",
                    "2003-09-01",
                    "2003-10-01",
                    "2003-11-01",
                    "2003-12-01",
                    "2004-01-01",
                    "2004-02-01",
                    "2004-03-01",
                    "2004-04-01",
                    "2004-05-01",
                    "2004-06-01",
                    "2004-07-01",
                    "2004-08-01",
                    "2004-09-01",
                    "2004-10-01",
                    "2004-11-01",
                    "2004-12-01",
                    "2005-01-01",
                    "2005-02-01",
                    "2005-03-01",
                    "2005-04-01",
                    "2005-05-01",
                    "2005-06-01",
                    "2005-07-01",
                    "2005-08-01",
                    "2005-09-01",
                    "2005-10-01",
                    "2005-11-01",
                    "2005-12-01",
                    "2006-01-01",
                    "2006-02-01",
                    "2006-03-01",
                    "2006-04-01",
                    "2006-05-01",
                    "2006-06-01",
                    "2006-07-01",
                    "2006-08-01",
                    "2006-09-01",
                    "2006-10-01",
                    "2006-11-01",
                    "2006-12-01",
                    "2007-01-01",
                    "2007-02-01",
                    "2007-03-01",
                    "2007-04-01",
                    "2007-05-01",
                    "2007-06-01",
                    "2007-07-01",
                    "2007-08-01",
                    "2007-09-01",
                    "2007-10-01",
                    "2007-11-01",
                    "2007-12-01",
                    "2008-01-01",
                    "2008-02-01",
                    "2008-03-01",
                    "2008-04-01",
                    "2008-05-01",
                    "2008-06-01",
                    "2008-07-01",
                    "2008-08-01",
                    "2008-09-01",
                    "2008-10-01",
                    "2008-11-01",
                    "2008-12-01",
                    "2009-01-01",
                    "2009-02-01",
                    "2009-03-01",
                    "2009-04-01",
                    "2009-05-01",
                    "2009-06-01",
                    "2009-07-01",
                    "2009-08-01",
                    "2009-09-01",
                    "2009-10-01",
                    "2009-11-01",
                    "2009-12-01",
                    "2010-01-01",
                    "2010-02-01",
                    "2010-03-01",
                    "2010-04-01",
                    "2010-05-01",
                    "2010-06-01",
                    "2010-07-01",
                    "2010-08-01",
                    "2010-09-01",
                    "2010-10-01",
                    "2010-11-01",
                    "2010-12-01",
                    "2011-01-01",
                    "2011-02-01",
                    "2011-03-01",
                    "2011-04-01",
                    "2011-05-01",
                    "2011-06-01",
                    "2011-07-01",
                    "2011-08-01",
                    "2011-09-01",
                    "2011-10-01",
                    "2011-11-01",
                    "2011-12-01",
                    "2012-01-01",
                    "2012-02-01",
                    "2012-03-01",
                    "2012-04-01",
                    "2012-05-01",
                    "2012-06-01",
                    "2012-07-01",
                    "2012-08-01",
                    "2012-09-01",
                    "2012-10-01",
                    "2012-11-01",
                    "2012-12-01",
                    "2013-01-01",
                    "2013-02-01",
                    "2013-03-01",
                    "2013-04-01",
                    "2013-05-01",
                    "2013-06-01",
                    "2013-07-01",
                    "2013-08-01",
                    "2013-09-01",
                    "2013-10-01",
                    "2013-11-01",
                    "2013-12-01",
                    "2014-01-01",
                    "2014-02-01",
                    "2014-03-01",
                    "2014-04-01",
                    "2014-05-01",
                    "2014-06-01",
                    "2014-07-01",
                    "2014-08-01",
                    "2014-09-01",
                    "2014-10-01",
                    "2014-11-01",
                    "2014-12-01",
                    "2015-01-01",
                    "2015-02-01",
                    "2015-03-01",
                    "2015-04-01"
                  ],
                  "xaxis": "x",
                  "y": [
                    506.7,
                    509.8,
                    515.6,
                    512.2,
                    517.4,
                    525.1,
                    530.9,
                    533.6,
                    544.3,
                    544,
                    549.8,
                    556.3,
                    563.2,
                    567,
                    568.2,
                    571.6,
                    576.7,
                    576.5,
                    583.5,
                    588.7,
                    588.9,
                    593.9,
                    600.3,
                    600.9,
                    602.7,
                    609.9,
                    613.2,
                    618.5,
                    620.5,
                    622.8,
                    628.7,
                    634,
                    632.3,
                    636,
                    642.4,
                    646.3,
                    648.5,
                    652.9,
                    659.1,
                    658.3,
                    656.6,
                    665.6,
                    676.1,
                    679.4,
                    682,
                    688.8,
                    691.1,
                    699.8,
                    698.9,
                    704.9,
                    713,
                    715.8,
                    720.9,
                    728.4,
                    731.5,
                    736.2,
                    749.2,
                    752.5,
                    758,
                    761.6,
                    769.9,
                    776.3,
                    781.1,
                    794.9,
                    800.5,
                    806.1,
                    816.5,
                    825.8,
                    832.8,
                    835.7,
                    841.6,
                    844.3,
                    854.1,
                    853.3,
                    869.2,
                    868.2,
                    876.9,
                    876.6,
                    884.5,
                    889.7,
                    901.4,
                    910.8,
                    922.4,
                    928,
                    937.9,
                    954.8,
                    955.1,
                    959.2,
                    956.2,
                    961.8,
                    975.6,
                    989.4,
                    990.6,
                    995,
                    1018.9,
                    1026.8,
                    1039.8,
                    1047,
                    1054.8,
                    1060.9,
                    1075.8,
                    1092.1,
                    1107.1,
                    1107.7,
                    1114.9,
                    1125.4,
                    1122.7,
                    1140.5,
                    1149.6,
                    1158,
                    1168.8,
                    1176.8,
                    1189,
                    1211.5,
                    1215,
                    1231.3,
                    1238.3,
                    1247.3,
                    1257.1,
                    1263.6,
                    1280.5,
                    1285.7,
                    1294.5,
                    1311.4,
                    1327,
                    1336,
                    1329.5,
                    1355.1,
                    1377.5,
                    1396.4,
                    1412,
                    1425.8,
                    1426.8,
                    1447,
                    1452.9,
                    1466.9,
                    1480.6,
                    1496.5,
                    1502.4,
                    1517.8,
                    1531.2,
                    1538.4,
                    1558.8,
                    1575.7,
                    1586.1,
                    1615.6,
                    1633.9,
                    1641.6,
                    1657.3,
                    1666.3,
                    1697.3,
                    1701.4,
                    1708.2,
                    1695.2,
                    1700.1,
                    1718.8,
                    1747.1,
                    1763.8,
                    1780.5,
                    1817.1,
                    1826.8,
                    1851.7,
                    1870,
                    1884.2,
                    1902.9,
                    1904.4,
                    1913.8,
                    1934.5,
                    1942.1,
                    1966.6,
                    1965.5,
                    1963.9,
                    1970.6,
                    1988.8,
                    1997.1,
                    2021.2,
                    2024.1,
                    2026.3,
                    2044.5,
                    2048.1,
                    2072.2,
                    2080.1,
                    2104.6,
                    2125.8,
                    2149.3,
                    2161.6,
                    2174,
                    2177,
                    2202.8,
                    2226.4,
                    2245.9,
                    2276,
                    2304.4,
                    2320.4,
                    2334.9,
                    2357.6,
                    2366.3,
                    2393.6,
                    2419.4,
                    2403.5,
                    2431.6,
                    2457.5,
                    2474.5,
                    2495.6,
                    2494.6,
                    2512.2,
                    2533.8,
                    2531.3,
                    2571.4,
                    2582.6,
                    2618.8,
                    2640.8,
                    2648.5,
                    2659.5,
                    2696.4,
                    2689.4,
                    2715.7,
                    2752.1,
                    2794.7,
                    2755.8,
                    2771.1,
                    2811.3,
                    2827.1,
                    2820.2,
                    2823.6,
                    2835.2,
                    2857.5,
                    2861.7,
                    2881.2,
                    2898.6,
                    2971.8,
                    2932.9,
                    2928.4,
                    2997.1,
                    2935.5,
                    3001.7,
                    3013.3,
                    3038.8,
                    3048.4,
                    3072.8,
                    3094.7,
                    3130.8,
                    3126.5,
                    3134.5,
                    3144.2,
                    3174.1,
                    3213.7,
                    3221.4,
                    3260.5,
                    3263,
                    3293.6,
                    3318.5,
                    3342.7,
                    3368,
                    3375,
                    3413.7,
                    3430.2,
                    3459.7,
                    3483.7,
                    3488,
                    3498.8,
                    3543,
                    3551.8,
                    3566.6,
                    3585.7,
                    3620.6,
                    3621.9,
                    3633.6,
                    3643.3,
                    3684.2,
                    3730.7,
                    3728.2,
                    3754.9,
                    3770,
                    3775.8,
                    3804.5,
                    3821.7,
                    3848.3,
                    3870.1,
                    3870.6,
                    3871.9,
                    3861.3,
                    3841,
                    3866.7,
                    3913,
                    3907.1,
                    3933.2,
                    3940.5,
                    3966,
                    3969.1,
                    3984.7,
                    3976,
                    4003.6,
                    4020.5,
                    4084.7,
                    4099.5,
                    4117,
                    4131.5,
                    4158.4,
                    4177.1,
                    4204.8,
                    4220.9,
                    4255.3,
                    4284.7,
                    4300.5,
                    4336.4,
                    4340.7,
                    4355.3,
                    4352.5,
                    4393.4,
                    4422.4,
                    4440,
                    4468.9,
                    4481.1,
                    4511.5,
                    4532.8,
                    4554.1,
                    4571.1,
                    4585.1,
                    4632.6,
                    4646,
                    4671.1,
                    4669.5,
                    4708.9,
                    4720.6,
                    4762.6,
                    4775,
                    4812.9,
                    4825.6,
                    4841.6,
                    4851.2,
                    4850.8,
                    4885.4,
                    4890.2,
                    4933.1,
                    4977.5,
                    4970.2,
                    5005.3,
                    5020.5,
                    5013.9,
                    5055.6,
                    5097.5,
                    5085.7,
                    5132.8,
                    5173.3,
                    5208,
                    5223.8,
                    5229.8,
                    5251.9,
                    5275,
                    5296.6,
                    5328.5,
                    5351.2,
                    5378.6,
                    5411.1,
                    5434,
                    5454.2,
                    5459.3,
                    5460.2,
                    5494.2,
                    5548.8,
                    5587,
                    5601.7,
                    5637.7,
                    5661.1,
                    5692.1,
                    5689.9,
                    5723.8,
                    5750.3,
                    5788.1,
                    5837.9,
                    5871.7,
                    5890,
                    5925,
                    5965.6,
                    5998.8,
                    6015.4,
                    6070.5,
                    6072.9,
                    6101.8,
                    6132.9,
                    6196.2,
                    6225.7,
                    6254,
                    6281.5,
                    6326.5,
                    6378.8,
                    6402.1,
                    6437.9,
                    6538.7,
                    6535.3,
                    6619.7,
                    6685.8,
                    6671.1,
                    6707.6,
                    6743.9,
                    6764.1,
                    6799.1,
                    6882.9,
                    6888.2,
                    6902.4,
                    6945.7,
                    6977,
                    6995.8,
                    6987.9,
                    7001.2,
                    7047.1,
                    7060.7,
                    7072.2,
                    7108.9,
                    7012.8,
                    7208.4,
                    7167.9,
                    7147.7,
                    7174.3,
                    7218.3,
                    7237.2,
                    7305.4,
                    7282.7,
                    7318.2,
                    7380.4,
                    7401.5,
                    7391,
                    7430.7,
                    7459.7,
                    7512.8,
                    7533.1,
                    7535.9,
                    7598.4,
                    7621,
                    7628.1,
                    7678.6,
                    7738.2,
                    7834.5,
                    7835,
                    7845.7,
                    7899.6,
                    7929.2,
                    7987.4,
                    8019.8,
                    8076,
                    8088.6,
                    8163.2,
                    8147.2,
                    8218.9,
                    8253.1,
                    8321.1,
                    8374.6,
                    8420.6,
                    8481.5,
                    8470.2,
                    8529.2,
                    8569.5,
                    8645.6,
                    8643.9,
                    8724.8,
                    8829.5,
                    8832.4,
                    8885.8,
                    8926.6,
                    8938.5,
                    8969.6,
                    9059.8,
                    9090.1,
                    9122.1,
                    9174.8,
                    9215.1,
                    9240.8,
                    9322.6,
                    9321.8,
                    9354.7,
                    9373.2,
                    9380.2,
                    9469,
                    9516.3,
                    9546.8,
                    9585.1,
                    9615.7,
                    9651.3,
                    9667.3,
                    9709.6,
                    9753.9,
                    9797.9,
                    9827,
                    9897.8,
                    9908.4,
                    9930,
                    9913.4,
                    9959.4,
                    9996.8,
                    10053.8,
                    10107.9,
                    10104.7,
                    10094.7,
                    10043.5,
                    9960.3,
                    9820.8,
                    9730.7,
                    9783.8,
                    9766,
                    9718.5,
                    9724.8,
                    9748.9,
                    9806.9,
                    9841.7,
                    9961,
                    9883.4,
                    9931.9,
                    9940.5,
                    9998.9,
                    10001.8,
                    10030.6,
                    10089.1,
                    10112.9,
                    10131,
                    10151.4,
                    10184.7,
                    10228.2,
                    10249,
                    10304.7,
                    10354.7,
                    10392.1,
                    10435.5,
                    10470.1,
                    10550.5,
                    10587.6,
                    10612,
                    10636.8,
                    10677.5,
                    10700.6,
                    10738.1,
                    10753.1,
                    10759.5,
                    10772.2,
                    10862.1,
                    10953.5,
                    10951.8,
                    10979.7,
                    10968.6,
                    10946.3,
                    10977.2,
                    11004.1,
                    11061.5,
                    11099.8,
                    11136.8,
                    11140.5,
                    11202.8,
                    11239.6,
                    11227.1,
                    11205.4,
                    11244.6,
                    11268.8,
                    11296.7,
                    11329.2,
                    11366.9,
                    11419.8,
                    11487.6,
                    11517.9,
                    11512.5,
                    11566.2,
                    11643,
                    11702.6,
                    11748.4,
                    11817,
                    11860.5,
                    11944.3,
                    11957.4,
                    12023,
                    12051.4,
                    12062,
                    12046,
                    12082.4,
                    12158.3,
                    12193.8
                  ],
                  "yaxis": "y"
                },
                {
                  "line": {
                    "color": "rgba(55, 128, 191, 1.0)",
                    "dash": "solid",
                    "shape": "linear",
                    "width": 1.3
                  },
                  "mode": "lines",
                  "name": "pop",
                  "text": "",
                  "type": "scatter",
                  "x": [
                    "1967-07-01",
                    "1967-08-01",
                    "1967-09-01",
                    "1967-10-01",
                    "1967-11-01",
                    "1967-12-01",
                    "1968-01-01",
                    "1968-02-01",
                    "1968-03-01",
                    "1968-04-01",
                    "1968-05-01",
                    "1968-06-01",
                    "1968-07-01",
                    "1968-08-01",
                    "1968-09-01",
                    "1968-10-01",
                    "1968-11-01",
                    "1968-12-01",
                    "1969-01-01",
                    "1969-02-01",
                    "1969-03-01",
                    "1969-04-01",
                    "1969-05-01",
                    "1969-06-01",
                    "1969-07-01",
                    "1969-08-01",
                    "1969-09-01",
                    "1969-10-01",
                    "1969-11-01",
                    "1969-12-01",
                    "1970-01-01",
                    "1970-02-01",
                    "1970-03-01",
                    "1970-04-01",
                    "1970-05-01",
                    "1970-06-01",
                    "1970-07-01",
                    "1970-08-01",
                    "1970-09-01",
                    "1970-10-01",
                    "1970-11-01",
                    "1970-12-01",
                    "1971-01-01",
                    "1971-02-01",
                    "1971-03-01",
                    "1971-04-01",
                    "1971-05-01",
                    "1971-06-01",
                    "1971-07-01",
                    "1971-08-01",
                    "1971-09-01",
                    "1971-10-01",
                    "1971-11-01",
                    "1971-12-01",
                    "1972-01-01",
                    "1972-02-01",
                    "1972-03-01",
                    "1972-04-01",
                    "1972-05-01",
                    "1972-06-01",
                    "1972-07-01",
                    "1972-08-01",
                    "1972-09-01",
                    "1972-10-01",
                    "1972-11-01",
                    "1972-12-01",
                    "1973-01-01",
                    "1973-02-01",
                    "1973-03-01",
                    "1973-04-01",
                    "1973-05-01",
                    "1973-06-01",
                    "1973-07-01",
                    "1973-08-01",
                    "1973-09-01",
                    "1973-10-01",
                    "1973-11-01",
                    "1973-12-01",
                    "1974-01-01",
                    "1974-02-01",
                    "1974-03-01",
                    "1974-04-01",
                    "1974-05-01",
                    "1974-06-01",
                    "1974-07-01",
                    "1974-08-01",
                    "1974-09-01",
                    "1974-10-01",
                    "1974-11-01",
                    "1974-12-01",
                    "1975-01-01",
                    "1975-02-01",
                    "1975-03-01",
                    "1975-04-01",
                    "1975-05-01",
                    "1975-06-01",
                    "1975-07-01",
                    "1975-08-01",
                    "1975-09-01",
                    "1975-10-01",
                    "1975-11-01",
                    "1975-12-01",
                    "1976-01-01",
                    "1976-02-01",
                    "1976-03-01",
                    "1976-04-01",
                    "1976-05-01",
                    "1976-06-01",
                    "1976-07-01",
                    "1976-08-01",
                    "1976-09-01",
                    "1976-10-01",
                    "1976-11-01",
                    "1976-12-01",
                    "1977-01-01",
                    "1977-02-01",
                    "1977-03-01",
                    "1977-04-01",
                    "1977-05-01",
                    "1977-06-01",
                    "1977-07-01",
                    "1977-08-01",
                    "1977-09-01",
                    "1977-10-01",
                    "1977-11-01",
                    "1977-12-01",
                    "1978-01-01",
                    "1978-02-01",
                    "1978-03-01",
                    "1978-04-01",
                    "1978-05-01",
                    "1978-06-01",
                    "1978-07-01",
                    "1978-08-01",
                    "1978-09-01",
                    "1978-10-01",
                    "1978-11-01",
                    "1978-12-01",
                    "1979-01-01",
                    "1979-02-01",
                    "1979-03-01",
                    "1979-04-01",
                    "1979-05-01",
                    "1979-06-01",
                    "1979-07-01",
                    "1979-08-01",
                    "1979-09-01",
                    "1979-10-01",
                    "1979-11-01",
                    "1979-12-01",
                    "1980-01-01",
                    "1980-02-01",
                    "1980-03-01",
                    "1980-04-01",
                    "1980-05-01",
                    "1980-06-01",
                    "1980-07-01",
                    "1980-08-01",
                    "1980-09-01",
                    "1980-10-01",
                    "1980-11-01",
                    "1980-12-01",
                    "1981-01-01",
                    "1981-02-01",
                    "1981-03-01",
                    "1981-04-01",
                    "1981-05-01",
                    "1981-06-01",
                    "1981-07-01",
                    "1981-08-01",
                    "1981-09-01",
                    "1981-10-01",
                    "1981-11-01",
                    "1981-12-01",
                    "1982-01-01",
                    "1982-02-01",
                    "1982-03-01",
                    "1982-04-01",
                    "1982-05-01",
                    "1982-06-01",
                    "1982-07-01",
                    "1982-08-01",
                    "1982-09-01",
                    "1982-10-01",
                    "1982-11-01",
                    "1982-12-01",
                    "1983-01-01",
                    "1983-02-01",
                    "1983-03-01",
                    "1983-04-01",
                    "1983-05-01",
                    "1983-06-01",
                    "1983-07-01",
                    "1983-08-01",
                    "1983-09-01",
                    "1983-10-01",
                    "1983-11-01",
                    "1983-12-01",
                    "1984-01-01",
                    "1984-02-01",
                    "1984-03-01",
                    "1984-04-01",
                    "1984-05-01",
                    "1984-06-01",
                    "1984-07-01",
                    "1984-08-01",
                    "1984-09-01",
                    "1984-10-01",
                    "1984-11-01",
                    "1984-12-01",
                    "1985-01-01",
                    "1985-02-01",
                    "1985-03-01",
                    "1985-04-01",
                    "1985-05-01",
                    "1985-06-01",
                    "1985-07-01",
                    "1985-08-01",
                    "1985-09-01",
                    "1985-10-01",
                    "1985-11-01",
                    "1985-12-01",
                    "1986-01-01",
                    "1986-02-01",
                    "1986-03-01",
                    "1986-04-01",
                    "1986-05-01",
                    "1986-06-01",
                    "1986-07-01",
                    "1986-08-01",
                    "1986-09-01",
                    "1986-10-01",
                    "1986-11-01",
                    "1986-12-01",
                    "1987-01-01",
                    "1987-02-01",
                    "1987-03-01",
                    "1987-04-01",
                    "1987-05-01",
                    "1987-06-01",
                    "1987-07-01",
                    "1987-08-01",
                    "1987-09-01",
                    "1987-10-01",
                    "1987-11-01",
                    "1987-12-01",
                    "1988-01-01",
                    "1988-02-01",
                    "1988-03-01",
                    "1988-04-01",
                    "1988-05-01",
                    "1988-06-01",
                    "1988-07-01",
                    "1988-08-01",
                    "1988-09-01",
                    "1988-10-01",
                    "1988-11-01",
                    "1988-12-01",
                    "1989-01-01",
                    "1989-02-01",
                    "1989-03-01",
                    "1989-04-01",
                    "1989-05-01",
                    "1989-06-01",
                    "1989-07-01",
                    "1989-08-01",
                    "1989-09-01",
                    "1989-10-01",
                    "1989-11-01",
                    "1989-12-01",
                    "1990-01-01",
                    "1990-02-01",
                    "1990-03-01",
                    "1990-04-01",
                    "1990-05-01",
                    "1990-06-01",
                    "1990-07-01",
                    "1990-08-01",
                    "1990-09-01",
                    "1990-10-01",
                    "1990-11-01",
                    "1990-12-01",
                    "1991-01-01",
                    "1991-02-01",
                    "1991-03-01",
                    "1991-04-01",
                    "1991-05-01",
                    "1991-06-01",
                    "1991-07-01",
                    "1991-08-01",
                    "1991-09-01",
                    "1991-10-01",
                    "1991-11-01",
                    "1991-12-01",
                    "1992-01-01",
                    "1992-02-01",
                    "1992-03-01",
                    "1992-04-01",
                    "1992-05-01",
                    "1992-06-01",
                    "1992-07-01",
                    "1992-08-01",
                    "1992-09-01",
                    "1992-10-01",
                    "1992-11-01",
                    "1992-12-01",
                    "1993-01-01",
                    "1993-02-01",
                    "1993-03-01",
                    "1993-04-01",
                    "1993-05-01",
                    "1993-06-01",
                    "1993-07-01",
                    "1993-08-01",
                    "1993-09-01",
                    "1993-10-01",
                    "1993-11-01",
                    "1993-12-01",
                    "1994-01-01",
                    "1994-02-01",
                    "1994-03-01",
                    "1994-04-01",
                    "1994-05-01",
                    "1994-06-01",
                    "1994-07-01",
                    "1994-08-01",
                    "1994-09-01",
                    "1994-10-01",
                    "1994-11-01",
                    "1994-12-01",
                    "1995-01-01",
                    "1995-02-01",
                    "1995-03-01",
                    "1995-04-01",
                    "1995-05-01",
                    "1995-06-01",
                    "1995-07-01",
                    "1995-08-01",
                    "1995-09-01",
                    "1995-10-01",
                    "1995-11-01",
                    "1995-12-01",
                    "1996-01-01",
                    "1996-02-01",
                    "1996-03-01",
                    "1996-04-01",
                    "1996-05-01",
                    "1996-06-01",
                    "1996-07-01",
                    "1996-08-01",
                    "1996-09-01",
                    "1996-10-01",
                    "1996-11-01",
                    "1996-12-01",
                    "1997-01-01",
                    "1997-02-01",
                    "1997-03-01",
                    "1997-04-01",
                    "1997-05-01",
                    "1997-06-01",
                    "1997-07-01",
                    "1997-08-01",
                    "1997-09-01",
                    "1997-10-01",
                    "1997-11-01",
                    "1997-12-01",
                    "1998-01-01",
                    "1998-02-01",
                    "1998-03-01",
                    "1998-04-01",
                    "1998-05-01",
                    "1998-06-01",
                    "1998-07-01",
                    "1998-08-01",
                    "1998-09-01",
                    "1998-10-01",
                    "1998-11-01",
                    "1998-12-01",
                    "1999-01-01",
                    "1999-02-01",
                    "1999-03-01",
                    "1999-04-01",
                    "1999-05-01",
                    "1999-06-01",
                    "1999-07-01",
                    "1999-08-01",
                    "1999-09-01",
                    "1999-10-01",
                    "1999-11-01",
                    "1999-12-01",
                    "2000-01-01",
                    "2000-02-01",
                    "2000-03-01",
                    "2000-04-01",
                    "2000-05-01",
                    "2000-06-01",
                    "2000-07-01",
                    "2000-08-01",
                    "2000-09-01",
                    "2000-10-01",
                    "2000-11-01",
                    "2000-12-01",
                    "2001-01-01",
                    "2001-02-01",
                    "2001-03-01",
                    "2001-04-01",
                    "2001-05-01",
                    "2001-06-01",
                    "2001-07-01",
                    "2001-08-01",
                    "2001-09-01",
                    "2001-10-01",
                    "2001-11-01",
                    "2001-12-01",
                    "2002-01-01",
                    "2002-02-01",
                    "2002-03-01",
                    "2002-04-01",
                    "2002-05-01",
                    "2002-06-01",
                    "2002-07-01",
                    "2002-08-01",
                    "2002-09-01",
                    "2002-10-01",
                    "2002-11-01",
                    "2002-12-01",
                    "2003-01-01",
                    "2003-02-01",
                    "2003-03-01",
                    "2003-04-01",
                    "2003-05-01",
                    "2003-06-01",
                    "2003-07-01",
                    "2003-08-01",
                    "2003-09-01",
                    "2003-10-01",
                    "2003-11-01",
                    "2003-12-01",
                    "2004-01-01",
                    "2004-02-01",
                    "2004-03-01",
                    "2004-04-01",
                    "2004-05-01",
                    "2004-06-01",
                    "2004-07-01",
                    "2004-08-01",
                    "2004-09-01",
                    "2004-10-01",
                    "2004-11-01",
                    "2004-12-01",
                    "2005-01-01",
                    "2005-02-01",
                    "2005-03-01",
                    "2005-04-01",
                    "2005-05-01",
                    "2005-06-01",
                    "2005-07-01",
                    "2005-08-01",
                    "2005-09-01",
                    "2005-10-01",
                    "2005-11-01",
                    "2005-12-01",
                    "2006-01-01",
                    "2006-02-01",
                    "2006-03-01",
                    "2006-04-01",
                    "2006-05-01",
                    "2006-06-01",
                    "2006-07-01",
                    "2006-08-01",
                    "2006-09-01",
                    "2006-10-01",
                    "2006-11-01",
                    "2006-12-01",
                    "2007-01-01",
                    "2007-02-01",
                    "2007-03-01",
                    "2007-04-01",
                    "2007-05-01",
                    "2007-06-01",
                    "2007-07-01",
                    "2007-08-01",
                    "2007-09-01",
                    "2007-10-01",
                    "2007-11-01",
                    "2007-12-01",
                    "2008-01-01",
                    "2008-02-01",
                    "2008-03-01",
                    "2008-04-01",
                    "2008-05-01",
                    "2008-06-01",
                    "2008-07-01",
                    "2008-08-01",
                    "2008-09-01",
                    "2008-10-01",
                    "2008-11-01",
                    "2008-12-01",
                    "2009-01-01",
                    "2009-02-01",
                    "2009-03-01",
                    "2009-04-01",
                    "2009-05-01",
                    "2009-06-01",
                    "2009-07-01",
                    "2009-08-01",
                    "2009-09-01",
                    "2009-10-01",
                    "2009-11-01",
                    "2009-12-01",
                    "2010-01-01",
                    "2010-02-01",
                    "2010-03-01",
                    "2010-04-01",
                    "2010-05-01",
                    "2010-06-01",
                    "2010-07-01",
                    "2010-08-01",
                    "2010-09-01",
                    "2010-10-01",
                    "2010-11-01",
                    "2010-12-01",
                    "2011-01-01",
                    "2011-02-01",
                    "2011-03-01",
                    "2011-04-01",
                    "2011-05-01",
                    "2011-06-01",
                    "2011-07-01",
                    "2011-08-01",
                    "2011-09-01",
                    "2011-10-01",
                    "2011-11-01",
                    "2011-12-01",
                    "2012-01-01",
                    "2012-02-01",
                    "2012-03-01",
                    "2012-04-01",
                    "2012-05-01",
                    "2012-06-01",
                    "2012-07-01",
                    "2012-08-01",
                    "2012-09-01",
                    "2012-10-01",
                    "2012-11-01",
                    "2012-12-01",
                    "2013-01-01",
                    "2013-02-01",
                    "2013-03-01",
                    "2013-04-01",
                    "2013-05-01",
                    "2013-06-01",
                    "2013-07-01",
                    "2013-08-01",
                    "2013-09-01",
                    "2013-10-01",
                    "2013-11-01",
                    "2013-12-01",
                    "2014-01-01",
                    "2014-02-01",
                    "2014-03-01",
                    "2014-04-01",
                    "2014-05-01",
                    "2014-06-01",
                    "2014-07-01",
                    "2014-08-01",
                    "2014-09-01",
                    "2014-10-01",
                    "2014-11-01",
                    "2014-12-01",
                    "2015-01-01",
                    "2015-02-01",
                    "2015-03-01",
                    "2015-04-01"
                  ],
                  "xaxis": "x2",
                  "y": [
                    198712,
                    198911,
                    199113,
                    199311,
                    199498,
                    199657,
                    199808,
                    199920,
                    200056,
                    200208,
                    200361,
                    200536,
                    200706,
                    200898,
                    201095,
                    201290,
                    201466,
                    201621,
                    201760,
                    201881,
                    202023,
                    202161,
                    202331,
                    202507,
                    202677,
                    202877,
                    203090,
                    203302,
                    203500,
                    203675,
                    203849,
                    204008,
                    204156,
                    204401,
                    204607,
                    204830,
                    205052,
                    205295,
                    205540,
                    205788,
                    206024,
                    206238,
                    206466,
                    206668,
                    206855,
                    207065,
                    207260,
                    207462,
                    207661,
                    207881,
                    208114,
                    208345,
                    208555,
                    208740,
                    208917,
                    209061,
                    209212,
                    209386,
                    209545,
                    209725,
                    209896,
                    210075,
                    210278,
                    210479,
                    210656,
                    210821,
                    210985,
                    211120,
                    211254,
                    211420,
                    211577,
                    211746,
                    211909,
                    212092,
                    212289,
                    212475,
                    212634,
                    212785,
                    212932,
                    213074,
                    213211,
                    213361,
                    213513,
                    213686,
                    213854,
                    214042,
                    214246,
                    214451,
                    214625,
                    214782,
                    214931,
                    215065,
                    215198,
                    215353,
                    215523,
                    215768,
                    215973,
                    216195,
                    216393,
                    216587,
                    216771,
                    216931,
                    217095,
                    217249,
                    217381,
                    217528,
                    217685,
                    217861,
                    218035,
                    218233,
                    218440,
                    218644,
                    218834,
                    219006,
                    219179,
                    219344,
                    219504,
                    219684,
                    219859,
                    220046,
                    220239,
                    220458,
                    220688,
                    220904,
                    221109,
                    221303,
                    221477,
                    221629,
                    221792,
                    221991,
                    222176,
                    222379,
                    222585,
                    222805,
                    223053,
                    223271,
                    223477,
                    223670,
                    223865,
                    224053,
                    224235,
                    224438,
                    224632,
                    224843,
                    225055,
                    225295,
                    225547,
                    225801,
                    226027,
                    226243,
                    226451,
                    226656,
                    226849,
                    227061,
                    227251,
                    227522,
                    227726,
                    227953,
                    228186,
                    228417,
                    228612,
                    228779,
                    228937,
                    229071,
                    229224,
                    229403,
                    229575,
                    229761,
                    229966,
                    230187,
                    230412,
                    230641,
                    230822,
                    230989,
                    231157,
                    231313,
                    231470,
                    231645,
                    231809,
                    231992,
                    232188,
                    232392,
                    232599,
                    232816,
                    232993,
                    233160,
                    233322,
                    233473,
                    233613,
                    233781,
                    233922,
                    234118,
                    234307,
                    234501,
                    234701,
                    234907,
                    235078,
                    235235,
                    235385,
                    235527,
                    235675,
                    235839,
                    235993,
                    236160,
                    236348,
                    236549,
                    236760,
                    236976,
                    237159,
                    237316,
                    237468,
                    237602,
                    237732,
                    237900,
                    238074,
                    238270,
                    238466,
                    238679,
                    238898,
                    239113,
                    239307,
                    239477,
                    239638,
                    239788,
                    239928,
                    240094,
                    240271,
                    240459,
                    240651,
                    240854,
                    241068,
                    241274,
                    241467,
                    241620,
                    241784,
                    241930,
                    242079,
                    242252,
                    242423,
                    242608,
                    242804,
                    243012,
                    243223,
                    243446,
                    243639,
                    243809,
                    243981,
                    244131,
                    244279,
                    244445,
                    244610,
                    244806,
                    245021,
                    245240,
                    245464,
                    245693,
                    245884,
                    246056,
                    246224,
                    246378,
                    246530,
                    246721,
                    246906,
                    247114,
                    247342,
                    247573,
                    247816,
                    248067,
                    248281,
                    248479,
                    248659,
                    248827,
                    249012,
                    249306,
                    249565,
                    249849,
                    250132,
                    250439,
                    250751,
                    251057,
                    251346,
                    251626,
                    251889,
                    252135,
                    252372,
                    252643,
                    252913,
                    253207,
                    253493,
                    253807,
                    254126,
                    254435,
                    254718,
                    254964,
                    255214,
                    255448,
                    255703,
                    255992,
                    256285,
                    256589,
                    256894,
                    257232,
                    257548,
                    257861,
                    258147,
                    258413,
                    258679,
                    258919,
                    259152,
                    259414,
                    259680,
                    259963,
                    260255,
                    260566,
                    260867,
                    261163,
                    261425,
                    261674,
                    261919,
                    262123,
                    262352,
                    262631,
                    262877,
                    263152,
                    263436,
                    263724,
                    264017,
                    264301,
                    264559,
                    264804,
                    265044,
                    265270,
                    265495,
                    265755,
                    265998,
                    266270,
                    266557,
                    266843,
                    267152,
                    267456,
                    267715,
                    267943,
                    268151,
                    268364,
                    268595,
                    268853,
                    269108,
                    269386,
                    269667,
                    269976,
                    270284,
                    270581,
                    270878,
                    271125,
                    271360,
                    271585,
                    271821,
                    272083,
                    272342,
                    272622,
                    272912,
                    273237,
                    273553,
                    273852,
                    274126,
                    274372,
                    274626,
                    274838,
                    275047,
                    275304,
                    275564,
                    275836,
                    276115,
                    276418,
                    276714,
                    277003,
                    277277,
                    277526,
                    277790,
                    277992,
                    278198,
                    278451,
                    278717,
                    279001,
                    279295,
                    279602,
                    279903,
                    280203,
                    280471,
                    280716,
                    280976,
                    281190,
                    281409,
                    281653,
                    281877,
                    282126,
                    282385,
                    282653,
                    282932,
                    283201,
                    283453,
                    283696,
                    283920,
                    284137,
                    284350,
                    284581,
                    284810,
                    285062,
                    285309,
                    285570,
                    285843,
                    286098,
                    286341,
                    286570,
                    286788,
                    286994,
                    287190,
                    287397,
                    287623,
                    287864,
                    288105,
                    288360,
                    288618,
                    288870,
                    289106,
                    289313,
                    289518,
                    289714,
                    289911,
                    290125,
                    290346,
                    290584,
                    290820,
                    291072,
                    291321,
                    291574,
                    291807,
                    292008,
                    292192,
                    292368,
                    292561,
                    292779,
                    292997,
                    293223,
                    293463,
                    293719,
                    293971,
                    294230,
                    294466,
                    294694,
                    294914,
                    295105,
                    295287,
                    295490,
                    295704,
                    295936,
                    296186,
                    296440,
                    296707,
                    296972,
                    297207,
                    297431,
                    297647,
                    297854,
                    298060,
                    298281,
                    298496,
                    298739,
                    298996,
                    299263,
                    299554,
                    299835,
                    300094,
                    300340,
                    300574,
                    300802,
                    301021,
                    301254,
                    301483,
                    301739,
                    302004,
                    302267,
                    302546,
                    302807,
                    303054,
                    303287,
                    303506,
                    303711,
                    303907,
                    304117,
                    304323,
                    304556,
                    304798,
                    305045,
                    305309,
                    305554,
                    305786,
                    306004,
                    306208,
                    306402,
                    306588,
                    306787,
                    306984,
                    307206,
                    307439,
                    307685,
                    307946,
                    308189,
                    308418,
                    308633,
                    308833,
                    309027,
                    309212,
                    309191.211,
                    309369.053,
                    309548.502,
                    309745.698,
                    309957.775,
                    310176.466,
                    310399.958,
                    310595.764,
                    310781.705,
                    310960.74,
                    311113.376,
                    311265.404,
                    311436.238,
                    311607.08,
                    311791.223,
                    311997.049,
                    312205.367,
                    312429.118,
                    312644.159,
                    312829.523,
                    313009.712,
                    313183.179,
                    313338.977,
                    313499.369,
                    313667.127,
                    313830.53,
                    314017.594,
                    314210.786,
                    314422.341,
                    314646.749,
                    314853.978,
                    315053.863,
                    315232.752,
                    315389.595,
                    315520.143,
                    315662.224,
                    315817.855,
                    315983.654,
                    316171.042,
                    316358.778,
                    316580.327,
                    316806.125,
                    317022.27,
                    317228.026,
                    317411.551,
                    317593.923,
                    317753.883,
                    317917.203,
                    318089.218,
                    318269.505,
                    318464.152,
                    318662.368,
                    318893.786,
                    319125.296,
                    319353.734,
                    319564.209,
                    319746.157,
                    319928.646,
                    320074.511,
                    320230.786,
                    320402.295
                  ],
                  "yaxis": "y2"
                },
                {
                  "line": {
                    "color": "rgba(50, 171, 96, 1.0)",
                    "dash": "solid",
                    "shape": "linear",
                    "width": 1.3
                  },
                  "mode": "lines",
                  "name": "psavert",
                  "text": "",
                  "type": "scatter",
                  "x": [
                    "1967-07-01",
                    "1967-08-01",
                    "1967-09-01",
                    "1967-10-01",
                    "1967-11-01",
                    "1967-12-01",
                    "1968-01-01",
                    "1968-02-01",
                    "1968-03-01",
                    "1968-04-01",
                    "1968-05-01",
                    "1968-06-01",
                    "1968-07-01",
                    "1968-08-01",
                    "1968-09-01",
                    "1968-10-01",
                    "1968-11-01",
                    "1968-12-01",
                    "1969-01-01",
                    "1969-02-01",
                    "1969-03-01",
                    "1969-04-01",
                    "1969-05-01",
                    "1969-06-01",
                    "1969-07-01",
                    "1969-08-01",
                    "1969-09-01",
                    "1969-10-01",
                    "1969-11-01",
                    "1969-12-01",
                    "1970-01-01",
                    "1970-02-01",
                    "1970-03-01",
                    "1970-04-01",
                    "1970-05-01",
                    "1970-06-01",
                    "1970-07-01",
                    "1970-08-01",
                    "1970-09-01",
                    "1970-10-01",
                    "1970-11-01",
                    "1970-12-01",
                    "1971-01-01",
                    "1971-02-01",
                    "1971-03-01",
                    "1971-04-01",
                    "1971-05-01",
                    "1971-06-01",
                    "1971-07-01",
                    "1971-08-01",
                    "1971-09-01",
                    "1971-10-01",
                    "1971-11-01",
                    "1971-12-01",
                    "1972-01-01",
                    "1972-02-01",
                    "1972-03-01",
                    "1972-04-01",
                    "1972-05-01",
                    "1972-06-01",
                    "1972-07-01",
                    "1972-08-01",
                    "1972-09-01",
                    "1972-10-01",
                    "1972-11-01",
                    "1972-12-01",
                    "1973-01-01",
                    "1973-02-01",
                    "1973-03-01",
                    "1973-04-01",
                    "1973-05-01",
                    "1973-06-01",
                    "1973-07-01",
                    "1973-08-01",
                    "1973-09-01",
                    "1973-10-01",
                    "1973-11-01",
                    "1973-12-01",
                    "1974-01-01",
                    "1974-02-01",
                    "1974-03-01",
                    "1974-04-01",
                    "1974-05-01",
                    "1974-06-01",
                    "1974-07-01",
                    "1974-08-01",
                    "1974-09-01",
                    "1974-10-01",
                    "1974-11-01",
                    "1974-12-01",
                    "1975-01-01",
                    "1975-02-01",
                    "1975-03-01",
                    "1975-04-01",
                    "1975-05-01",
                    "1975-06-01",
                    "1975-07-01",
                    "1975-08-01",
                    "1975-09-01",
                    "1975-10-01",
                    "1975-11-01",
                    "1975-12-01",
                    "1976-01-01",
                    "1976-02-01",
                    "1976-03-01",
                    "1976-04-01",
                    "1976-05-01",
                    "1976-06-01",
                    "1976-07-01",
                    "1976-08-01",
                    "1976-09-01",
                    "1976-10-01",
                    "1976-11-01",
                    "1976-12-01",
                    "1977-01-01",
                    "1977-02-01",
                    "1977-03-01",
                    "1977-04-01",
                    "1977-05-01",
                    "1977-06-01",
                    "1977-07-01",
                    "1977-08-01",
                    "1977-09-01",
                    "1977-10-01",
                    "1977-11-01",
                    "1977-12-01",
                    "1978-01-01",
                    "1978-02-01",
                    "1978-03-01",
                    "1978-04-01",
                    "1978-05-01",
                    "1978-06-01",
                    "1978-07-01",
                    "1978-08-01",
                    "1978-09-01",
                    "1978-10-01",
                    "1978-11-01",
                    "1978-12-01",
                    "1979-01-01",
                    "1979-02-01",
                    "1979-03-01",
                    "1979-04-01",
                    "1979-05-01",
                    "1979-06-01",
                    "1979-07-01",
                    "1979-08-01",
                    "1979-09-01",
                    "1979-10-01",
                    "1979-11-01",
                    "1979-12-01",
                    "1980-01-01",
                    "1980-02-01",
                    "1980-03-01",
                    "1980-04-01",
                    "1980-05-01",
                    "1980-06-01",
                    "1980-07-01",
                    "1980-08-01",
                    "1980-09-01",
                    "1980-10-01",
                    "1980-11-01",
                    "1980-12-01",
                    "1981-01-01",
                    "1981-02-01",
                    "1981-03-01",
                    "1981-04-01",
                    "1981-05-01",
                    "1981-06-01",
                    "1981-07-01",
                    "1981-08-01",
                    "1981-09-01",
                    "1981-10-01",
                    "1981-11-01",
                    "1981-12-01",
                    "1982-01-01",
                    "1982-02-01",
                    "1982-03-01",
                    "1982-04-01",
                    "1982-05-01",
                    "1982-06-01",
                    "1982-07-01",
                    "1982-08-01",
                    "1982-09-01",
                    "1982-10-01",
                    "1982-11-01",
                    "1982-12-01",
                    "1983-01-01",
                    "1983-02-01",
                    "1983-03-01",
                    "1983-04-01",
                    "1983-05-01",
                    "1983-06-01",
                    "1983-07-01",
                    "1983-08-01",
                    "1983-09-01",
                    "1983-10-01",
                    "1983-11-01",
                    "1983-12-01",
                    "1984-01-01",
                    "1984-02-01",
                    "1984-03-01",
                    "1984-04-01",
                    "1984-05-01",
                    "1984-06-01",
                    "1984-07-01",
                    "1984-08-01",
                    "1984-09-01",
                    "1984-10-01",
                    "1984-11-01",
                    "1984-12-01",
                    "1985-01-01",
                    "1985-02-01",
                    "1985-03-01",
                    "1985-04-01",
                    "1985-05-01",
                    "1985-06-01",
                    "1985-07-01",
                    "1985-08-01",
                    "1985-09-01",
                    "1985-10-01",
                    "1985-11-01",
                    "1985-12-01",
                    "1986-01-01",
                    "1986-02-01",
                    "1986-03-01",
                    "1986-04-01",
                    "1986-05-01",
                    "1986-06-01",
                    "1986-07-01",
                    "1986-08-01",
                    "1986-09-01",
                    "1986-10-01",
                    "1986-11-01",
                    "1986-12-01",
                    "1987-01-01",
                    "1987-02-01",
                    "1987-03-01",
                    "1987-04-01",
                    "1987-05-01",
                    "1987-06-01",
                    "1987-07-01",
                    "1987-08-01",
                    "1987-09-01",
                    "1987-10-01",
                    "1987-11-01",
                    "1987-12-01",
                    "1988-01-01",
                    "1988-02-01",
                    "1988-03-01",
                    "1988-04-01",
                    "1988-05-01",
                    "1988-06-01",
                    "1988-07-01",
                    "1988-08-01",
                    "1988-09-01",
                    "1988-10-01",
                    "1988-11-01",
                    "1988-12-01",
                    "1989-01-01",
                    "1989-02-01",
                    "1989-03-01",
                    "1989-04-01",
                    "1989-05-01",
                    "1989-06-01",
                    "1989-07-01",
                    "1989-08-01",
                    "1989-09-01",
                    "1989-10-01",
                    "1989-11-01",
                    "1989-12-01",
                    "1990-01-01",
                    "1990-02-01",
                    "1990-03-01",
                    "1990-04-01",
                    "1990-05-01",
                    "1990-06-01",
                    "1990-07-01",
                    "1990-08-01",
                    "1990-09-01",
                    "1990-10-01",
                    "1990-11-01",
                    "1990-12-01",
                    "1991-01-01",
                    "1991-02-01",
                    "1991-03-01",
                    "1991-04-01",
                    "1991-05-01",
                    "1991-06-01",
                    "1991-07-01",
                    "1991-08-01",
                    "1991-09-01",
                    "1991-10-01",
                    "1991-11-01",
                    "1991-12-01",
                    "1992-01-01",
                    "1992-02-01",
                    "1992-03-01",
                    "1992-04-01",
                    "1992-05-01",
                    "1992-06-01",
                    "1992-07-01",
                    "1992-08-01",
                    "1992-09-01",
                    "1992-10-01",
                    "1992-11-01",
                    "1992-12-01",
                    "1993-01-01",
                    "1993-02-01",
                    "1993-03-01",
                    "1993-04-01",
                    "1993-05-01",
                    "1993-06-01",
                    "1993-07-01",
                    "1993-08-01",
                    "1993-09-01",
                    "1993-10-01",
                    "1993-11-01",
                    "1993-12-01",
                    "1994-01-01",
                    "1994-02-01",
                    "1994-03-01",
                    "1994-04-01",
                    "1994-05-01",
                    "1994-06-01",
                    "1994-07-01",
                    "1994-08-01",
                    "1994-09-01",
                    "1994-10-01",
                    "1994-11-01",
                    "1994-12-01",
                    "1995-01-01",
                    "1995-02-01",
                    "1995-03-01",
                    "1995-04-01",
                    "1995-05-01",
                    "1995-06-01",
                    "1995-07-01",
                    "1995-08-01",
                    "1995-09-01",
                    "1995-10-01",
                    "1995-11-01",
                    "1995-12-01",
                    "1996-01-01",
                    "1996-02-01",
                    "1996-03-01",
                    "1996-04-01",
                    "1996-05-01",
                    "1996-06-01",
                    "1996-07-01",
                    "1996-08-01",
                    "1996-09-01",
                    "1996-10-01",
                    "1996-11-01",
                    "1996-12-01",
                    "1997-01-01",
                    "1997-02-01",
                    "1997-03-01",
                    "1997-04-01",
                    "1997-05-01",
                    "1997-06-01",
                    "1997-07-01",
                    "1997-08-01",
                    "1997-09-01",
                    "1997-10-01",
                    "1997-11-01",
                    "1997-12-01",
                    "1998-01-01",
                    "1998-02-01",
                    "1998-03-01",
                    "1998-04-01",
                    "1998-05-01",
                    "1998-06-01",
                    "1998-07-01",
                    "1998-08-01",
                    "1998-09-01",
                    "1998-10-01",
                    "1998-11-01",
                    "1998-12-01",
                    "1999-01-01",
                    "1999-02-01",
                    "1999-03-01",
                    "1999-04-01",
                    "1999-05-01",
                    "1999-06-01",
                    "1999-07-01",
                    "1999-08-01",
                    "1999-09-01",
                    "1999-10-01",
                    "1999-11-01",
                    "1999-12-01",
                    "2000-01-01",
                    "2000-02-01",
                    "2000-03-01",
                    "2000-04-01",
                    "2000-05-01",
                    "2000-06-01",
                    "2000-07-01",
                    "2000-08-01",
                    "2000-09-01",
                    "2000-10-01",
                    "2000-11-01",
                    "2000-12-01",
                    "2001-01-01",
                    "2001-02-01",
                    "2001-03-01",
                    "2001-04-01",
                    "2001-05-01",
                    "2001-06-01",
                    "2001-07-01",
                    "2001-08-01",
                    "2001-09-01",
                    "2001-10-01",
                    "2001-11-01",
                    "2001-12-01",
                    "2002-01-01",
                    "2002-02-01",
                    "2002-03-01",
                    "2002-04-01",
                    "2002-05-01",
                    "2002-06-01",
                    "2002-07-01",
                    "2002-08-01",
                    "2002-09-01",
                    "2002-10-01",
                    "2002-11-01",
                    "2002-12-01",
                    "2003-01-01",
                    "2003-02-01",
                    "2003-03-01",
                    "2003-04-01",
                    "2003-05-01",
                    "2003-06-01",
                    "2003-07-01",
                    "2003-08-01",
                    "2003-09-01",
                    "2003-10-01",
                    "2003-11-01",
                    "2003-12-01",
                    "2004-01-01",
                    "2004-02-01",
                    "2004-03-01",
                    "2004-04-01",
                    "2004-05-01",
                    "2004-06-01",
                    "2004-07-01",
                    "2004-08-01",
                    "2004-09-01",
                    "2004-10-01",
                    "2004-11-01",
                    "2004-12-01",
                    "2005-01-01",
                    "2005-02-01",
                    "2005-03-01",
                    "2005-04-01",
                    "2005-05-01",
                    "2005-06-01",
                    "2005-07-01",
                    "2005-08-01",
                    "2005-09-01",
                    "2005-10-01",
                    "2005-11-01",
                    "2005-12-01",
                    "2006-01-01",
                    "2006-02-01",
                    "2006-03-01",
                    "2006-04-01",
                    "2006-05-01",
                    "2006-06-01",
                    "2006-07-01",
                    "2006-08-01",
                    "2006-09-01",
                    "2006-10-01",
                    "2006-11-01",
                    "2006-12-01",
                    "2007-01-01",
                    "2007-02-01",
                    "2007-03-01",
                    "2007-04-01",
                    "2007-05-01",
                    "2007-06-01",
                    "2007-07-01",
                    "2007-08-01",
                    "2007-09-01",
                    "2007-10-01",
                    "2007-11-01",
                    "2007-12-01",
                    "2008-01-01",
                    "2008-02-01",
                    "2008-03-01",
                    "2008-04-01",
                    "2008-05-01",
                    "2008-06-01",
                    "2008-07-01",
                    "2008-08-01",
                    "2008-09-01",
                    "2008-10-01",
                    "2008-11-01",
                    "2008-12-01",
                    "2009-01-01",
                    "2009-02-01",
                    "2009-03-01",
                    "2009-04-01",
                    "2009-05-01",
                    "2009-06-01",
                    "2009-07-01",
                    "2009-08-01",
                    "2009-09-01",
                    "2009-10-01",
                    "2009-11-01",
                    "2009-12-01",
                    "2010-01-01",
                    "2010-02-01",
                    "2010-03-01",
                    "2010-04-01",
                    "2010-05-01",
                    "2010-06-01",
                    "2010-07-01",
                    "2010-08-01",
                    "2010-09-01",
                    "2010-10-01",
                    "2010-11-01",
                    "2010-12-01",
                    "2011-01-01",
                    "2011-02-01",
                    "2011-03-01",
                    "2011-04-01",
                    "2011-05-01",
                    "2011-06-01",
                    "2011-07-01",
                    "2011-08-01",
                    "2011-09-01",
                    "2011-10-01",
                    "2011-11-01",
                    "2011-12-01",
                    "2012-01-01",
                    "2012-02-01",
                    "2012-03-01",
                    "2012-04-01",
                    "2012-05-01",
                    "2012-06-01",
                    "2012-07-01",
                    "2012-08-01",
                    "2012-09-01",
                    "2012-10-01",
                    "2012-11-01",
                    "2012-12-01",
                    "2013-01-01",
                    "2013-02-01",
                    "2013-03-01",
                    "2013-04-01",
                    "2013-05-01",
                    "2013-06-01",
                    "2013-07-01",
                    "2013-08-01",
                    "2013-09-01",
                    "2013-10-01",
                    "2013-11-01",
                    "2013-12-01",
                    "2014-01-01",
                    "2014-02-01",
                    "2014-03-01",
                    "2014-04-01",
                    "2014-05-01",
                    "2014-06-01",
                    "2014-07-01",
                    "2014-08-01",
                    "2014-09-01",
                    "2014-10-01",
                    "2014-11-01",
                    "2014-12-01",
                    "2015-01-01",
                    "2015-02-01",
                    "2015-03-01",
                    "2015-04-01"
                  ],
                  "xaxis": "x3",
                  "y": [
                    12.6,
                    12.6,
                    11.9,
                    12.9,
                    12.8,
                    11.8,
                    11.7,
                    12.3,
                    11.7,
                    12.3,
                    12,
                    11.7,
                    10.7,
                    10.5,
                    10.6,
                    10.8,
                    10.6,
                    11.1,
                    10.3,
                    9.7,
                    10.2,
                    9.7,
                    10.1,
                    11.1,
                    11.8,
                    11.5,
                    11.6,
                    11.4,
                    11.6,
                    11.8,
                    11.8,
                    11.7,
                    12.4,
                    13.3,
                    12.4,
                    12.3,
                    13.5,
                    13.4,
                    12.9,
                    13.1,
                    13.6,
                    13.2,
                    13.3,
                    13.3,
                    13.5,
                    13.2,
                    13.6,
                    14.7,
                    13.8,
                    13.6,
                    13.3,
                    13.3,
                    13.1,
                    13,
                    12.5,
                    12.8,
                    11.8,
                    11.5,
                    11.7,
                    11.7,
                    11.7,
                    12,
                    12.2,
                    13,
                    13.6,
                    13.7,
                    12.4,
                    12.5,
                    12.7,
                    13.2,
                    13.2,
                    13.6,
                    13.2,
                    13.9,
                    13.1,
                    14.4,
                    14.4,
                    14.8,
                    14.3,
                    14.2,
                    13.4,
                    13.1,
                    12.8,
                    12.8,
                    12.8,
                    12.1,
                    12.9,
                    13.4,
                    13.8,
                    14,
                    13.2,
                    12.5,
                    12.7,
                    14.2,
                    17.3,
                    14.3,
                    12.6,
                    13,
                    13,
                    13.4,
                    12.7,
                    12,
                    11.7,
                    12.3,
                    12.2,
                    11.7,
                    12.3,
                    11.4,
                    11.7,
                    11.7,
                    11.4,
                    11.1,
                    11.4,
                    10.6,
                    10.6,
                    9.3,
                    10.5,
                    10.5,
                    10.3,
                    10.6,
                    10.5,
                    10.9,
                    11.1,
                    11,
                    11.2,
                    11.4,
                    11.9,
                    11.1,
                    11,
                    10.8,
                    10.3,
                    10,
                    10.9,
                    10.5,
                    10.6,
                    10.7,
                    10.5,
                    10.4,
                    11.1,
                    11.1,
                    11.2,
                    11,
                    10.3,
                    9.9,
                    10.6,
                    9.7,
                    9.4,
                    9.7,
                    9.7,
                    10.1,
                    9.9,
                    10.1,
                    10.2,
                    11.3,
                    11.4,
                    11.2,
                    11.3,
                    11.3,
                    11.7,
                    11.3,
                    11.6,
                    11.4,
                    10.9,
                    10.8,
                    10.8,
                    10.9,
                    11,
                    10.8,
                    12.3,
                    12,
                    12.4,
                    13,
                    13.2,
                    12.5,
                    12.7,
                    12.1,
                    12.2,
                    12.9,
                    12.3,
                    12.3,
                    12.5,
                    12.6,
                    11.8,
                    11.3,
                    10.9,
                    10.9,
                    11.1,
                    11.1,
                    10.6,
                    10.3,
                    9.9,
                    9.1,
                    9.6,
                    9.2,
                    9.6,
                    9.7,
                    10.3,
                    10.1,
                    10,
                    11.7,
                    11.5,
                    11.5,
                    11.1,
                    11.1,
                    11.6,
                    11.8,
                    11.8,
                    11.7,
                    10.9,
                    11.2,
                    10.3,
                    9.1,
                    8.7,
                    9.9,
                    11.1,
                    9.6,
                    9.1,
                    8.2,
                    7.3,
                    9.1,
                    9,
                    8.6,
                    8.6,
                    9.3,
                    9.9,
                    9.7,
                    9.3,
                    9.4,
                    9.3,
                    9,
                    7.2,
                    8.4,
                    8.8,
                    7,
                    9.7,
                    8.5,
                    8.5,
                    4.5,
                    8.2,
                    7.7,
                    7.5,
                    7.2,
                    7.6,
                    8.3,
                    8.5,
                    8.7,
                    8.1,
                    8.6,
                    8.2,
                    8.8,
                    8.4,
                    8.4,
                    8.6,
                    8.4,
                    8.9,
                    8.6,
                    8.4,
                    8.3,
                    8.5,
                    9,
                    9.5,
                    8.4,
                    8.1,
                    8.2,
                    8.2,
                    7.6,
                    8.1,
                    8.5,
                    8.6,
                    7.8,
                    8,
                    8.6,
                    8.3,
                    8.8,
                    8.7,
                    8.6,
                    8.7,
                    8.1,
                    8.1,
                    7.8,
                    7.9,
                    8.8,
                    9.3,
                    8.8,
                    8,
                    8.6,
                    8.4,
                    8.9,
                    8.2,
                    8.6,
                    8.8,
                    9.3,
                    9,
                    9.7,
                    9.4,
                    9.8,
                    9.7,
                    9.9,
                    9.9,
                    10.1,
                    9.6,
                    9.7,
                    8.7,
                    8,
                    8,
                    10.6,
                    8.6,
                    8.9,
                    8.9,
                    8.7,
                    8.3,
                    7.8,
                    7.6,
                    7.7,
                    6.9,
                    6.3,
                    6.3,
                    9.1,
                    7.1,
                    6.5,
                    6.8,
                    6.4,
                    7.6,
                    6.9,
                    7,
                    6.5,
                    6.8,
                    7.1,
                    7,
                    7.2,
                    7.5,
                    7.8,
                    7.5,
                    6.9,
                    7.1,
                    6.7,
                    7.1,
                    6.7,
                    6.8,
                    7.1,
                    6.6,
                    6.1,
                    6.7,
                    6.7,
                    6.6,
                    5.7,
                    6.7,
                    7.1,
                    6.7,
                    6.6,
                    6.7,
                    6.4,
                    6.4,
                    6.4,
                    6.2,
                    6.2,
                    6.4,
                    6.5,
                    6.8,
                    6.6,
                    6.1,
                    6,
                    6.2,
                    6.2,
                    6.4,
                    6.4,
                    7.4,
                    7.4,
                    7.5,
                    7.2,
                    6.9,
                    6.8,
                    6.9,
                    6.8,
                    6.4,
                    6.2,
                    6.3,
                    5.8,
                    6.4,
                    6.2,
                    5.9,
                    5.2,
                    4.9,
                    4.8,
                    4.8,
                    4.7,
                    4.2,
                    4.6,
                    4.8,
                    4.4,
                    5.4,
                    4.8,
                    4.5,
                    5,
                    4.9,
                    4.9,
                    5.2,
                    5.2,
                    4.5,
                    4.6,
                    4.5,
                    4.2,
                    4.8,
                    4.9,
                    5.3,
                    5,
                    4.5,
                    4.5,
                    5.6,
                    6.8,
                    7,
                    3.4,
                    4.1,
                    4.5,
                    6.1,
                    5.8,
                    5.9,
                    5.8,
                    6.5,
                    6.4,
                    5.5,
                    5.4,
                    5.7,
                    5.7,
                    5.7,
                    5.5,
                    5.5,
                    5.6,
                    5.3,
                    5.3,
                    5.8,
                    5.6,
                    6.3,
                    6,
                    5.2,
                    5.3,
                    5.4,
                    5.4,
                    5,
                    5,
                    4.9,
                    5.3,
                    5.3,
                    5.8,
                    5.3,
                    5.2,
                    4.6,
                    4.5,
                    4.1,
                    6.9,
                    3.7,
                    3.4,
                    3.6,
                    3.1,
                    3.5,
                    2.9,
                    2.2,
                    2.7,
                    2.7,
                    3.1,
                    3.5,
                    3.7,
                    4.2,
                    4.2,
                    4.2,
                    4,
                    3.8,
                    4,
                    3.4,
                    3.6,
                    3.6,
                    3.6,
                    3.9,
                    3.7,
                    3.7,
                    4.1,
                    4.4,
                    4.2,
                    4,
                    3.8,
                    3.7,
                    3.4,
                    3.5,
                    3.4,
                    3.1,
                    3.6,
                    3.7,
                    4.1,
                    4,
                    3.4,
                    7.8,
                    5.5,
                    4.4,
                    3.8,
                    4.7,
                    5.5,
                    6.4,
                    6.4,
                    6.2,
                    5.5,
                    5.9,
                    6.8,
                    8.2,
                    6.7,
                    6,
                    4.9,
                    5.9,
                    5.4,
                    5.9,
                    5.9,
                    6.1,
                    5.8,
                    5.7,
                    6.4,
                    7,
                    6.9,
                    6.8,
                    6.9,
                    6.7,
                    6.6,
                    6.6,
                    7.1,
                    7.4,
                    7.6,
                    7,
                    6.9,
                    6.9,
                    7.2,
                    7.3,
                    7.2,
                    6.8,
                    6.8,
                    7,
                    7.8,
                    8,
                    8,
                    8.5,
                    8.7,
                    8.8,
                    9.1,
                    8.2,
                    8,
                    8.2,
                    8.8,
                    9.7,
                    12,
                    6.3,
                    5.8,
                    5.9,
                    6.4,
                    6.7,
                    6.8,
                    6.6,
                    6.7,
                    6.8,
                    6.3,
                    6.2,
                    6.4,
                    7.1,
                    7.3,
                    7.4,
                    7.4,
                    7.4,
                    7.4,
                    7.5,
                    7.2,
                    7.4,
                    7.2,
                    7.3,
                    7.6,
                    7.7,
                    7.9,
                    7.4,
                    7.6
                  ],
                  "yaxis": "y3"
                },
                {
                  "line": {
                    "color": "rgba(128, 0, 128, 1.0)",
                    "dash": "solid",
                    "shape": "linear",
                    "width": 1.3
                  },
                  "mode": "lines",
                  "name": "uempmed",
                  "text": "",
                  "type": "scatter",
                  "x": [
                    "1967-07-01",
                    "1967-08-01",
                    "1967-09-01",
                    "1967-10-01",
                    "1967-11-01",
                    "1967-12-01",
                    "1968-01-01",
                    "1968-02-01",
                    "1968-03-01",
                    "1968-04-01",
                    "1968-05-01",
                    "1968-06-01",
                    "1968-07-01",
                    "1968-08-01",
                    "1968-09-01",
                    "1968-10-01",
                    "1968-11-01",
                    "1968-12-01",
                    "1969-01-01",
                    "1969-02-01",
                    "1969-03-01",
                    "1969-04-01",
                    "1969-05-01",
                    "1969-06-01",
                    "1969-07-01",
                    "1969-08-01",
                    "1969-09-01",
                    "1969-10-01",
                    "1969-11-01",
                    "1969-12-01",
                    "1970-01-01",
                    "1970-02-01",
                    "1970-03-01",
                    "1970-04-01",
                    "1970-05-01",
                    "1970-06-01",
                    "1970-07-01",
                    "1970-08-01",
                    "1970-09-01",
                    "1970-10-01",
                    "1970-11-01",
                    "1970-12-01",
                    "1971-01-01",
                    "1971-02-01",
                    "1971-03-01",
                    "1971-04-01",
                    "1971-05-01",
                    "1971-06-01",
                    "1971-07-01",
                    "1971-08-01",
                    "1971-09-01",
                    "1971-10-01",
                    "1971-11-01",
                    "1971-12-01",
                    "1972-01-01",
                    "1972-02-01",
                    "1972-03-01",
                    "1972-04-01",
                    "1972-05-01",
                    "1972-06-01",
                    "1972-07-01",
                    "1972-08-01",
                    "1972-09-01",
                    "1972-10-01",
                    "1972-11-01",
                    "1972-12-01",
                    "1973-01-01",
                    "1973-02-01",
                    "1973-03-01",
                    "1973-04-01",
                    "1973-05-01",
                    "1973-06-01",
                    "1973-07-01",
                    "1973-08-01",
                    "1973-09-01",
                    "1973-10-01",
                    "1973-11-01",
                    "1973-12-01",
                    "1974-01-01",
                    "1974-02-01",
                    "1974-03-01",
                    "1974-04-01",
                    "1974-05-01",
                    "1974-06-01",
                    "1974-07-01",
                    "1974-08-01",
                    "1974-09-01",
                    "1974-10-01",
                    "1974-11-01",
                    "1974-12-01",
                    "1975-01-01",
                    "1975-02-01",
                    "1975-03-01",
                    "1975-04-01",
                    "1975-05-01",
                    "1975-06-01",
                    "1975-07-01",
                    "1975-08-01",
                    "1975-09-01",
                    "1975-10-01",
                    "1975-11-01",
                    "1975-12-01",
                    "1976-01-01",
                    "1976-02-01",
                    "1976-03-01",
                    "1976-04-01",
                    "1976-05-01",
                    "1976-06-01",
                    "1976-07-01",
                    "1976-08-01",
                    "1976-09-01",
                    "1976-10-01",
                    "1976-11-01",
                    "1976-12-01",
                    "1977-01-01",
                    "1977-02-01",
                    "1977-03-01",
                    "1977-04-01",
                    "1977-05-01",
                    "1977-06-01",
                    "1977-07-01",
                    "1977-08-01",
                    "1977-09-01",
                    "1977-10-01",
                    "1977-11-01",
                    "1977-12-01",
                    "1978-01-01",
                    "1978-02-01",
                    "1978-03-01",
                    "1978-04-01",
                    "1978-05-01",
                    "1978-06-01",
                    "1978-07-01",
                    "1978-08-01",
                    "1978-09-01",
                    "1978-10-01",
                    "1978-11-01",
                    "1978-12-01",
                    "1979-01-01",
                    "1979-02-01",
                    "1979-03-01",
                    "1979-04-01",
                    "1979-05-01",
                    "1979-06-01",
                    "1979-07-01",
                    "1979-08-01",
                    "1979-09-01",
                    "1979-10-01",
                    "1979-11-01",
                    "1979-12-01",
                    "1980-01-01",
                    "1980-02-01",
                    "1980-03-01",
                    "1980-04-01",
                    "1980-05-01",
                    "1980-06-01",
                    "1980-07-01",
                    "1980-08-01",
                    "1980-09-01",
                    "1980-10-01",
                    "1980-11-01",
                    "1980-12-01",
                    "1981-01-01",
                    "1981-02-01",
                    "1981-03-01",
                    "1981-04-01",
                    "1981-05-01",
                    "1981-06-01",
                    "1981-07-01",
                    "1981-08-01",
                    "1981-09-01",
                    "1981-10-01",
                    "1981-11-01",
                    "1981-12-01",
                    "1982-01-01",
                    "1982-02-01",
                    "1982-03-01",
                    "1982-04-01",
                    "1982-05-01",
                    "1982-06-01",
                    "1982-07-01",
                    "1982-08-01",
                    "1982-09-01",
                    "1982-10-01",
                    "1982-11-01",
                    "1982-12-01",
                    "1983-01-01",
                    "1983-02-01",
                    "1983-03-01",
                    "1983-04-01",
                    "1983-05-01",
                    "1983-06-01",
                    "1983-07-01",
                    "1983-08-01",
                    "1983-09-01",
                    "1983-10-01",
                    "1983-11-01",
                    "1983-12-01",
                    "1984-01-01",
                    "1984-02-01",
                    "1984-03-01",
                    "1984-04-01",
                    "1984-05-01",
                    "1984-06-01",
                    "1984-07-01",
                    "1984-08-01",
                    "1984-09-01",
                    "1984-10-01",
                    "1984-11-01",
                    "1984-12-01",
                    "1985-01-01",
                    "1985-02-01",
                    "1985-03-01",
                    "1985-04-01",
                    "1985-05-01",
                    "1985-06-01",
                    "1985-07-01",
                    "1985-08-01",
                    "1985-09-01",
                    "1985-10-01",
                    "1985-11-01",
                    "1985-12-01",
                    "1986-01-01",
                    "1986-02-01",
                    "1986-03-01",
                    "1986-04-01",
                    "1986-05-01",
                    "1986-06-01",
                    "1986-07-01",
                    "1986-08-01",
                    "1986-09-01",
                    "1986-10-01",
                    "1986-11-01",
                    "1986-12-01",
                    "1987-01-01",
                    "1987-02-01",
                    "1987-03-01",
                    "1987-04-01",
                    "1987-05-01",
                    "1987-06-01",
                    "1987-07-01",
                    "1987-08-01",
                    "1987-09-01",
                    "1987-10-01",
                    "1987-11-01",
                    "1987-12-01",
                    "1988-01-01",
                    "1988-02-01",
                    "1988-03-01",
                    "1988-04-01",
                    "1988-05-01",
                    "1988-06-01",
                    "1988-07-01",
                    "1988-08-01",
                    "1988-09-01",
                    "1988-10-01",
                    "1988-11-01",
                    "1988-12-01",
                    "1989-01-01",
                    "1989-02-01",
                    "1989-03-01",
                    "1989-04-01",
                    "1989-05-01",
                    "1989-06-01",
                    "1989-07-01",
                    "1989-08-01",
                    "1989-09-01",
                    "1989-10-01",
                    "1989-11-01",
                    "1989-12-01",
                    "1990-01-01",
                    "1990-02-01",
                    "1990-03-01",
                    "1990-04-01",
                    "1990-05-01",
                    "1990-06-01",
                    "1990-07-01",
                    "1990-08-01",
                    "1990-09-01",
                    "1990-10-01",
                    "1990-11-01",
                    "1990-12-01",
                    "1991-01-01",
                    "1991-02-01",
                    "1991-03-01",
                    "1991-04-01",
                    "1991-05-01",
                    "1991-06-01",
                    "1991-07-01",
                    "1991-08-01",
                    "1991-09-01",
                    "1991-10-01",
                    "1991-11-01",
                    "1991-12-01",
                    "1992-01-01",
                    "1992-02-01",
                    "1992-03-01",
                    "1992-04-01",
                    "1992-05-01",
                    "1992-06-01",
                    "1992-07-01",
                    "1992-08-01",
                    "1992-09-01",
                    "1992-10-01",
                    "1992-11-01",
                    "1992-12-01",
                    "1993-01-01",
                    "1993-02-01",
                    "1993-03-01",
                    "1993-04-01",
                    "1993-05-01",
                    "1993-06-01",
                    "1993-07-01",
                    "1993-08-01",
                    "1993-09-01",
                    "1993-10-01",
                    "1993-11-01",
                    "1993-12-01",
                    "1994-01-01",
                    "1994-02-01",
                    "1994-03-01",
                    "1994-04-01",
                    "1994-05-01",
                    "1994-06-01",
                    "1994-07-01",
                    "1994-08-01",
                    "1994-09-01",
                    "1994-10-01",
                    "1994-11-01",
                    "1994-12-01",
                    "1995-01-01",
                    "1995-02-01",
                    "1995-03-01",
                    "1995-04-01",
                    "1995-05-01",
                    "1995-06-01",
                    "1995-07-01",
                    "1995-08-01",
                    "1995-09-01",
                    "1995-10-01",
                    "1995-11-01",
                    "1995-12-01",
                    "1996-01-01",
                    "1996-02-01",
                    "1996-03-01",
                    "1996-04-01",
                    "1996-05-01",
                    "1996-06-01",
                    "1996-07-01",
                    "1996-08-01",
                    "1996-09-01",
                    "1996-10-01",
                    "1996-11-01",
                    "1996-12-01",
                    "1997-01-01",
                    "1997-02-01",
                    "1997-03-01",
                    "1997-04-01",
                    "1997-05-01",
                    "1997-06-01",
                    "1997-07-01",
                    "1997-08-01",
                    "1997-09-01",
                    "1997-10-01",
                    "1997-11-01",
                    "1997-12-01",
                    "1998-01-01",
                    "1998-02-01",
                    "1998-03-01",
                    "1998-04-01",
                    "1998-05-01",
                    "1998-06-01",
                    "1998-07-01",
                    "1998-08-01",
                    "1998-09-01",
                    "1998-10-01",
                    "1998-11-01",
                    "1998-12-01",
                    "1999-01-01",
                    "1999-02-01",
                    "1999-03-01",
                    "1999-04-01",
                    "1999-05-01",
                    "1999-06-01",
                    "1999-07-01",
                    "1999-08-01",
                    "1999-09-01",
                    "1999-10-01",
                    "1999-11-01",
                    "1999-12-01",
                    "2000-01-01",
                    "2000-02-01",
                    "2000-03-01",
                    "2000-04-01",
                    "2000-05-01",
                    "2000-06-01",
                    "2000-07-01",
                    "2000-08-01",
                    "2000-09-01",
                    "2000-10-01",
                    "2000-11-01",
                    "2000-12-01",
                    "2001-01-01",
                    "2001-02-01",
                    "2001-03-01",
                    "2001-04-01",
                    "2001-05-01",
                    "2001-06-01",
                    "2001-07-01",
                    "2001-08-01",
                    "2001-09-01",
                    "2001-10-01",
                    "2001-11-01",
                    "2001-12-01",
                    "2002-01-01",
                    "2002-02-01",
                    "2002-03-01",
                    "2002-04-01",
                    "2002-05-01",
                    "2002-06-01",
                    "2002-07-01",
                    "2002-08-01",
                    "2002-09-01",
                    "2002-10-01",
                    "2002-11-01",
                    "2002-12-01",
                    "2003-01-01",
                    "2003-02-01",
                    "2003-03-01",
                    "2003-04-01",
                    "2003-05-01",
                    "2003-06-01",
                    "2003-07-01",
                    "2003-08-01",
                    "2003-09-01",
                    "2003-10-01",
                    "2003-11-01",
                    "2003-12-01",
                    "2004-01-01",
                    "2004-02-01",
                    "2004-03-01",
                    "2004-04-01",
                    "2004-05-01",
                    "2004-06-01",
                    "2004-07-01",
                    "2004-08-01",
                    "2004-09-01",
                    "2004-10-01",
                    "2004-11-01",
                    "2004-12-01",
                    "2005-01-01",
                    "2005-02-01",
                    "2005-03-01",
                    "2005-04-01",
                    "2005-05-01",
                    "2005-06-01",
                    "2005-07-01",
                    "2005-08-01",
                    "2005-09-01",
                    "2005-10-01",
                    "2005-11-01",
                    "2005-12-01",
                    "2006-01-01",
                    "2006-02-01",
                    "2006-03-01",
                    "2006-04-01",
                    "2006-05-01",
                    "2006-06-01",
                    "2006-07-01",
                    "2006-08-01",
                    "2006-09-01",
                    "2006-10-01",
                    "2006-11-01",
                    "2006-12-01",
                    "2007-01-01",
                    "2007-02-01",
                    "2007-03-01",
                    "2007-04-01",
                    "2007-05-01",
                    "2007-06-01",
                    "2007-07-01",
                    "2007-08-01",
                    "2007-09-01",
                    "2007-10-01",
                    "2007-11-01",
                    "2007-12-01",
                    "2008-01-01",
                    "2008-02-01",
                    "2008-03-01",
                    "2008-04-01",
                    "2008-05-01",
                    "2008-06-01",
                    "2008-07-01",
                    "2008-08-01",
                    "2008-09-01",
                    "2008-10-01",
                    "2008-11-01",
                    "2008-12-01",
                    "2009-01-01",
                    "2009-02-01",
                    "2009-03-01",
                    "2009-04-01",
                    "2009-05-01",
                    "2009-06-01",
                    "2009-07-01",
                    "2009-08-01",
                    "2009-09-01",
                    "2009-10-01",
                    "2009-11-01",
                    "2009-12-01",
                    "2010-01-01",
                    "2010-02-01",
                    "2010-03-01",
                    "2010-04-01",
                    "2010-05-01",
                    "2010-06-01",
                    "2010-07-01",
                    "2010-08-01",
                    "2010-09-01",
                    "2010-10-01",
                    "2010-11-01",
                    "2010-12-01",
                    "2011-01-01",
                    "2011-02-01",
                    "2011-03-01",
                    "2011-04-01",
                    "2011-05-01",
                    "2011-06-01",
                    "2011-07-01",
                    "2011-08-01",
                    "2011-09-01",
                    "2011-10-01",
                    "2011-11-01",
                    "2011-12-01",
                    "2012-01-01",
                    "2012-02-01",
                    "2012-03-01",
                    "2012-04-01",
                    "2012-05-01",
                    "2012-06-01",
                    "2012-07-01",
                    "2012-08-01",
                    "2012-09-01",
                    "2012-10-01",
                    "2012-11-01",
                    "2012-12-01",
                    "2013-01-01",
                    "2013-02-01",
                    "2013-03-01",
                    "2013-04-01",
                    "2013-05-01",
                    "2013-06-01",
                    "2013-07-01",
                    "2013-08-01",
                    "2013-09-01",
                    "2013-10-01",
                    "2013-11-01",
                    "2013-12-01",
                    "2014-01-01",
                    "2014-02-01",
                    "2014-03-01",
                    "2014-04-01",
                    "2014-05-01",
                    "2014-06-01",
                    "2014-07-01",
                    "2014-08-01",
                    "2014-09-01",
                    "2014-10-01",
                    "2014-11-01",
                    "2014-12-01",
                    "2015-01-01",
                    "2015-02-01",
                    "2015-03-01",
                    "2015-04-01"
                  ],
                  "xaxis": "x4",
                  "y": [
                    4.5,
                    4.7,
                    4.6,
                    4.9,
                    4.7,
                    4.8,
                    5.1,
                    4.5,
                    4.1,
                    4.6,
                    4.4,
                    4.4,
                    4.5,
                    4.2,
                    4.6,
                    4.8,
                    4.4,
                    4.4,
                    4.4,
                    4.9,
                    4,
                    4,
                    4.2,
                    4.4,
                    4.4,
                    4.4,
                    4.7,
                    4.5,
                    4.8,
                    4.6,
                    4.6,
                    4.5,
                    4.6,
                    4.1,
                    4.7,
                    4.9,
                    5.1,
                    5.4,
                    5.2,
                    5.2,
                    5.6,
                    5.9,
                    6.2,
                    6.3,
                    6.4,
                    6.5,
                    6.7,
                    5.7,
                    6.2,
                    6.4,
                    5.8,
                    6.5,
                    6.4,
                    6.2,
                    6.2,
                    6.6,
                    6.6,
                    6.7,
                    6.6,
                    5.4,
                    6.1,
                    6,
                    5.6,
                    5.7,
                    5.7,
                    6.1,
                    5.7,
                    5.2,
                    5.5,
                    5,
                    4.9,
                    5,
                    5.2,
                    4.9,
                    5.4,
                    5.5,
                    5.1,
                    4.7,
                    5,
                    5.1,
                    4.8,
                    5,
                    4.6,
                    5.3,
                    5.7,
                    5,
                    5.3,
                    5.5,
                    5.2,
                    5.7,
                    6.3,
                    7.1,
                    7.2,
                    8.7,
                    9.4,
                    8.8,
                    8.6,
                    9.2,
                    9.2,
                    8.6,
                    9.5,
                    9,
                    9,
                    8.2,
                    8.7,
                    8.2,
                    8.3,
                    7.8,
                    7.7,
                    7.9,
                    7.8,
                    7.7,
                    8.4,
                    8,
                    7.5,
                    7.2,
                    7.2,
                    7.3,
                    7.9,
                    6.2,
                    7.1,
                    7,
                    6.7,
                    6.9,
                    7,
                    6.8,
                    6.5,
                    6.7,
                    6.2,
                    6.1,
                    5.7,
                    6,
                    5.8,
                    5.8,
                    5.6,
                    5.9,
                    5.5,
                    5.6,
                    5.9,
                    5.9,
                    5.9,
                    5.4,
                    5.6,
                    5.6,
                    5.9,
                    4.8,
                    5.5,
                    5.5,
                    5.3,
                    5.7,
                    5.3,
                    5.8,
                    6,
                    5.8,
                    5.7,
                    6.4,
                    7,
                    7.5,
                    7.7,
                    7.5,
                    7.7,
                    7.5,
                    7.4,
                    7.1,
                    7.1,
                    7.4,
                    6.9,
                    6.6,
                    7.1,
                    7.2,
                    6.8,
                    6.8,
                    6.9,
                    6.9,
                    7.1,
                    7.5,
                    7.7,
                    8.1,
                    8.5,
                    9.5,
                    8.5,
                    8.7,
                    9.5,
                    9.7,
                    10,
                    10.2,
                    11.1,
                    9.8,
                    10.4,
                    10.9,
                    12.3,
                    11.3,
                    10.1,
                    9.3,
                    9.3,
                    9.4,
                    9.3,
                    8.7,
                    9.1,
                    8.3,
                    8.3,
                    8.2,
                    9.1,
                    7.5,
                    7.5,
                    7.3,
                    7.6,
                    7.2,
                    7.2,
                    7.3,
                    6.8,
                    7.1,
                    7.1,
                    6.9,
                    6.9,
                    6.6,
                    6.9,
                    7.1,
                    6.9,
                    7.1,
                    7,
                    6.8,
                    6.7,
                    6.9,
                    6.8,
                    6.7,
                    6.8,
                    7,
                    6.9,
                    7.1,
                    7.4,
                    7,
                    7.1,
                    7.1,
                    6.9,
                    6.6,
                    6.6,
                    7.1,
                    6.6,
                    6.5,
                    6.5,
                    6.4,
                    6,
                    6.3,
                    6.2,
                    6,
                    6.2,
                    6.3,
                    6.4,
                    5.9,
                    5.9,
                    5.8,
                    6.1,
                    5.9,
                    5.7,
                    5.6,
                    5.7,
                    5.9,
                    5.6,
                    5.4,
                    5.4,
                    5.4,
                    5.3,
                    5.4,
                    5.6,
                    5,
                    4.9,
                    4.9,
                    4.8,
                    4.9,
                    5.1,
                    5.3,
                    5.1,
                    4.8,
                    5.2,
                    5.2,
                    5.4,
                    5.4,
                    5.6,
                    5.8,
                    5.7,
                    5.9,
                    6,
                    6.2,
                    6.7,
                    6.6,
                    6.4,
                    6.9,
                    7,
                    7.3,
                    6.8,
                    7.2,
                    7.5,
                    7.8,
                    8.1,
                    8.2,
                    8.3,
                    8.5,
                    8.8,
                    8.7,
                    8.6,
                    8.8,
                    8.6,
                    9,
                    9,
                    9.3,
                    8.6,
                    8.5,
                    8.5,
                    8.4,
                    8.1,
                    8.3,
                    8.2,
                    8.2,
                    8.3,
                    8,
                    8.3,
                    8.3,
                    8.6,
                    9.2,
                    9.3,
                    9.1,
                    9.2,
                    9.3,
                    9,
                    8.9,
                    9.2,
                    10,
                    9,
                    8.7,
                    8,
                    8.1,
                    8.3,
                    8.3,
                    9.1,
                    7.9,
                    8.5,
                    8.3,
                    7.9,
                    8.2,
                    8,
                    8.3,
                    8.3,
                    7.8,
                    8.3,
                    8.6,
                    8.6,
                    8.3,
                    8.3,
                    8.4,
                    8.5,
                    8.3,
                    7.7,
                    7.8,
                    7.8,
                    8.1,
                    7.9,
                    8.3,
                    8,
                    8,
                    8.3,
                    7.8,
                    8.2,
                    7.7,
                    7.6,
                    7.5,
                    7.4,
                    7,
                    6.8,
                    6.7,
                    6,
                    6.9,
                    6.7,
                    6.8,
                    6.7,
                    5.8,
                    6.6,
                    6.8,
                    6.9,
                    6.8,
                    6.8,
                    6.2,
                    6.5,
                    6.3,
                    5.8,
                    6.5,
                    6,
                    6.1,
                    6.2,
                    5.8,
                    5.8,
                    6.1,
                    6,
                    6.1,
                    5.8,
                    5.7,
                    6,
                    6.3,
                    5.2,
                    6.1,
                    6.1,
                    6,
                    5.8,
                    6.1,
                    6.6,
                    5.9,
                    6.3,
                    6,
                    6.8,
                    6.9,
                    7.2,
                    7.3,
                    7.7,
                    8.2,
                    8.4,
                    8.3,
                    8.4,
                    8.9,
                    9.5,
                    11,
                    8.9,
                    9,
                    9.5,
                    9.6,
                    9.3,
                    9.6,
                    9.6,
                    9.5,
                    9.7,
                    10.2,
                    9.9,
                    11.5,
                    10.3,
                    10.1,
                    10.2,
                    10.4,
                    10.3,
                    10.4,
                    10.6,
                    10.2,
                    10.2,
                    9.5,
                    9.9,
                    11,
                    8.9,
                    9.2,
                    9.6,
                    9.5,
                    9.7,
                    9.5,
                    9.4,
                    9.2,
                    9.3,
                    9,
                    9.1,
                    9,
                    8.8,
                    9.2,
                    8.4,
                    8.6,
                    8.5,
                    8.7,
                    8.6,
                    9.1,
                    8.7,
                    8.4,
                    8.5,
                    7.3,
                    8,
                    8.4,
                    8,
                    7.9,
                    8.3,
                    7.5,
                    8.3,
                    8.5,
                    9.1,
                    8.6,
                    8.2,
                    7.7,
                    8.7,
                    8.8,
                    8.7,
                    8.4,
                    8.6,
                    8.4,
                    9,
                    8.7,
                    8.7,
                    9.4,
                    7.9,
                    9,
                    9.7,
                    9.7,
                    10.2,
                    10.4,
                    9.8,
                    10.5,
                    10.7,
                    11.7,
                    12.3,
                    13.1,
                    14.2,
                    17.2,
                    16,
                    16.3,
                    17.8,
                    18.9,
                    19.8,
                    20.1,
                    20,
                    19.9,
                    20.4,
                    22.1,
                    22.3,
                    25.2,
                    22.3,
                    21,
                    20.3,
                    21.2,
                    21,
                    21.9,
                    21.5,
                    21.1,
                    21.5,
                    20.9,
                    21.6,
                    22.4,
                    22,
                    22.4,
                    22,
                    20.6,
                    20.8,
                    20.5,
                    20.8,
                    19.7,
                    19.2,
                    19.1,
                    19.9,
                    20.4,
                    17.5,
                    18.4,
                    18.8,
                    19.9,
                    18.6,
                    17.7,
                    15.8,
                    17.2,
                    17.6,
                    17.1,
                    17.1,
                    17,
                    16.2,
                    16.5,
                    16.5,
                    16.3,
                    17.1,
                    17.3,
                    15.4,
                    15.9,
                    15.8,
                    15.7,
                    14.6,
                    13.8,
                    13.1,
                    12.9,
                    13.4,
                    13.6,
                    13,
                    12.9,
                    13.2,
                    12.9,
                    12,
                    11.5
                  ],
                  "yaxis": "y4"
                },
                {
                  "line": {
                    "color": "rgba(219, 64, 82, 1.0)",
                    "dash": "solid",
                    "shape": "linear",
                    "width": 1.3
                  },
                  "mode": "lines",
                  "name": "unemploy",
                  "text": "",
                  "type": "scatter",
                  "x": [
                    "1967-07-01",
                    "1967-08-01",
                    "1967-09-01",
                    "1967-10-01",
                    "1967-11-01",
                    "1967-12-01",
                    "1968-01-01",
                    "1968-02-01",
                    "1968-03-01",
                    "1968-04-01",
                    "1968-05-01",
                    "1968-06-01",
                    "1968-07-01",
                    "1968-08-01",
                    "1968-09-01",
                    "1968-10-01",
                    "1968-11-01",
                    "1968-12-01",
                    "1969-01-01",
                    "1969-02-01",
                    "1969-03-01",
                    "1969-04-01",
                    "1969-05-01",
                    "1969-06-01",
                    "1969-07-01",
                    "1969-08-01",
                    "1969-09-01",
                    "1969-10-01",
                    "1969-11-01",
                    "1969-12-01",
                    "1970-01-01",
                    "1970-02-01",
                    "1970-03-01",
                    "1970-04-01",
                    "1970-05-01",
                    "1970-06-01",
                    "1970-07-01",
                    "1970-08-01",
                    "1970-09-01",
                    "1970-10-01",
                    "1970-11-01",
                    "1970-12-01",
                    "1971-01-01",
                    "1971-02-01",
                    "1971-03-01",
                    "1971-04-01",
                    "1971-05-01",
                    "1971-06-01",
                    "1971-07-01",
                    "1971-08-01",
                    "1971-09-01",
                    "1971-10-01",
                    "1971-11-01",
                    "1971-12-01",
                    "1972-01-01",
                    "1972-02-01",
                    "1972-03-01",
                    "1972-04-01",
                    "1972-05-01",
                    "1972-06-01",
                    "1972-07-01",
                    "1972-08-01",
                    "1972-09-01",
                    "1972-10-01",
                    "1972-11-01",
                    "1972-12-01",
                    "1973-01-01",
                    "1973-02-01",
                    "1973-03-01",
                    "1973-04-01",
                    "1973-05-01",
                    "1973-06-01",
                    "1973-07-01",
                    "1973-08-01",
                    "1973-09-01",
                    "1973-10-01",
                    "1973-11-01",
                    "1973-12-01",
                    "1974-01-01",
                    "1974-02-01",
                    "1974-03-01",
                    "1974-04-01",
                    "1974-05-01",
                    "1974-06-01",
                    "1974-07-01",
                    "1974-08-01",
                    "1974-09-01",
                    "1974-10-01",
                    "1974-11-01",
                    "1974-12-01",
                    "1975-01-01",
                    "1975-02-01",
                    "1975-03-01",
                    "1975-04-01",
                    "1975-05-01",
                    "1975-06-01",
                    "1975-07-01",
                    "1975-08-01",
                    "1975-09-01",
                    "1975-10-01",
                    "1975-11-01",
                    "1975-12-01",
                    "1976-01-01",
                    "1976-02-01",
                    "1976-03-01",
                    "1976-04-01",
                    "1976-05-01",
                    "1976-06-01",
                    "1976-07-01",
                    "1976-08-01",
                    "1976-09-01",
                    "1976-10-01",
                    "1976-11-01",
                    "1976-12-01",
                    "1977-01-01",
                    "1977-02-01",
                    "1977-03-01",
                    "1977-04-01",
                    "1977-05-01",
                    "1977-06-01",
                    "1977-07-01",
                    "1977-08-01",
                    "1977-09-01",
                    "1977-10-01",
                    "1977-11-01",
                    "1977-12-01",
                    "1978-01-01",
                    "1978-02-01",
                    "1978-03-01",
                    "1978-04-01",
                    "1978-05-01",
                    "1978-06-01",
                    "1978-07-01",
                    "1978-08-01",
                    "1978-09-01",
                    "1978-10-01",
                    "1978-11-01",
                    "1978-12-01",
                    "1979-01-01",
                    "1979-02-01",
                    "1979-03-01",
                    "1979-04-01",
                    "1979-05-01",
                    "1979-06-01",
                    "1979-07-01",
                    "1979-08-01",
                    "1979-09-01",
                    "1979-10-01",
                    "1979-11-01",
                    "1979-12-01",
                    "1980-01-01",
                    "1980-02-01",
                    "1980-03-01",
                    "1980-04-01",
                    "1980-05-01",
                    "1980-06-01",
                    "1980-07-01",
                    "1980-08-01",
                    "1980-09-01",
                    "1980-10-01",
                    "1980-11-01",
                    "1980-12-01",
                    "1981-01-01",
                    "1981-02-01",
                    "1981-03-01",
                    "1981-04-01",
                    "1981-05-01",
                    "1981-06-01",
                    "1981-07-01",
                    "1981-08-01",
                    "1981-09-01",
                    "1981-10-01",
                    "1981-11-01",
                    "1981-12-01",
                    "1982-01-01",
                    "1982-02-01",
                    "1982-03-01",
                    "1982-04-01",
                    "1982-05-01",
                    "1982-06-01",
                    "1982-07-01",
                    "1982-08-01",
                    "1982-09-01",
                    "1982-10-01",
                    "1982-11-01",
                    "1982-12-01",
                    "1983-01-01",
                    "1983-02-01",
                    "1983-03-01",
                    "1983-04-01",
                    "1983-05-01",
                    "1983-06-01",
                    "1983-07-01",
                    "1983-08-01",
                    "1983-09-01",
                    "1983-10-01",
                    "1983-11-01",
                    "1983-12-01",
                    "1984-01-01",
                    "1984-02-01",
                    "1984-03-01",
                    "1984-04-01",
                    "1984-05-01",
                    "1984-06-01",
                    "1984-07-01",
                    "1984-08-01",
                    "1984-09-01",
                    "1984-10-01",
                    "1984-11-01",
                    "1984-12-01",
                    "1985-01-01",
                    "1985-02-01",
                    "1985-03-01",
                    "1985-04-01",
                    "1985-05-01",
                    "1985-06-01",
                    "1985-07-01",
                    "1985-08-01",
                    "1985-09-01",
                    "1985-10-01",
                    "1985-11-01",
                    "1985-12-01",
                    "1986-01-01",
                    "1986-02-01",
                    "1986-03-01",
                    "1986-04-01",
                    "1986-05-01",
                    "1986-06-01",
                    "1986-07-01",
                    "1986-08-01",
                    "1986-09-01",
                    "1986-10-01",
                    "1986-11-01",
                    "1986-12-01",
                    "1987-01-01",
                    "1987-02-01",
                    "1987-03-01",
                    "1987-04-01",
                    "1987-05-01",
                    "1987-06-01",
                    "1987-07-01",
                    "1987-08-01",
                    "1987-09-01",
                    "1987-10-01",
                    "1987-11-01",
                    "1987-12-01",
                    "1988-01-01",
                    "1988-02-01",
                    "1988-03-01",
                    "1988-04-01",
                    "1988-05-01",
                    "1988-06-01",
                    "1988-07-01",
                    "1988-08-01",
                    "1988-09-01",
                    "1988-10-01",
                    "1988-11-01",
                    "1988-12-01",
                    "1989-01-01",
                    "1989-02-01",
                    "1989-03-01",
                    "1989-04-01",
                    "1989-05-01",
                    "1989-06-01",
                    "1989-07-01",
                    "1989-08-01",
                    "1989-09-01",
                    "1989-10-01",
                    "1989-11-01",
                    "1989-12-01",
                    "1990-01-01",
                    "1990-02-01",
                    "1990-03-01",
                    "1990-04-01",
                    "1990-05-01",
                    "1990-06-01",
                    "1990-07-01",
                    "1990-08-01",
                    "1990-09-01",
                    "1990-10-01",
                    "1990-11-01",
                    "1990-12-01",
                    "1991-01-01",
                    "1991-02-01",
                    "1991-03-01",
                    "1991-04-01",
                    "1991-05-01",
                    "1991-06-01",
                    "1991-07-01",
                    "1991-08-01",
                    "1991-09-01",
                    "1991-10-01",
                    "1991-11-01",
                    "1991-12-01",
                    "1992-01-01",
                    "1992-02-01",
                    "1992-03-01",
                    "1992-04-01",
                    "1992-05-01",
                    "1992-06-01",
                    "1992-07-01",
                    "1992-08-01",
                    "1992-09-01",
                    "1992-10-01",
                    "1992-11-01",
                    "1992-12-01",
                    "1993-01-01",
                    "1993-02-01",
                    "1993-03-01",
                    "1993-04-01",
                    "1993-05-01",
                    "1993-06-01",
                    "1993-07-01",
                    "1993-08-01",
                    "1993-09-01",
                    "1993-10-01",
                    "1993-11-01",
                    "1993-12-01",
                    "1994-01-01",
                    "1994-02-01",
                    "1994-03-01",
                    "1994-04-01",
                    "1994-05-01",
                    "1994-06-01",
                    "1994-07-01",
                    "1994-08-01",
                    "1994-09-01",
                    "1994-10-01",
                    "1994-11-01",
                    "1994-12-01",
                    "1995-01-01",
                    "1995-02-01",
                    "1995-03-01",
                    "1995-04-01",
                    "1995-05-01",
                    "1995-06-01",
                    "1995-07-01",
                    "1995-08-01",
                    "1995-09-01",
                    "1995-10-01",
                    "1995-11-01",
                    "1995-12-01",
                    "1996-01-01",
                    "1996-02-01",
                    "1996-03-01",
                    "1996-04-01",
                    "1996-05-01",
                    "1996-06-01",
                    "1996-07-01",
                    "1996-08-01",
                    "1996-09-01",
                    "1996-10-01",
                    "1996-11-01",
                    "1996-12-01",
                    "1997-01-01",
                    "1997-02-01",
                    "1997-03-01",
                    "1997-04-01",
                    "1997-05-01",
                    "1997-06-01",
                    "1997-07-01",
                    "1997-08-01",
                    "1997-09-01",
                    "1997-10-01",
                    "1997-11-01",
                    "1997-12-01",
                    "1998-01-01",
                    "1998-02-01",
                    "1998-03-01",
                    "1998-04-01",
                    "1998-05-01",
                    "1998-06-01",
                    "1998-07-01",
                    "1998-08-01",
                    "1998-09-01",
                    "1998-10-01",
                    "1998-11-01",
                    "1998-12-01",
                    "1999-01-01",
                    "1999-02-01",
                    "1999-03-01",
                    "1999-04-01",
                    "1999-05-01",
                    "1999-06-01",
                    "1999-07-01",
                    "1999-08-01",
                    "1999-09-01",
                    "1999-10-01",
                    "1999-11-01",
                    "1999-12-01",
                    "2000-01-01",
                    "2000-02-01",
                    "2000-03-01",
                    "2000-04-01",
                    "2000-05-01",
                    "2000-06-01",
                    "2000-07-01",
                    "2000-08-01",
                    "2000-09-01",
                    "2000-10-01",
                    "2000-11-01",
                    "2000-12-01",
                    "2001-01-01",
                    "2001-02-01",
                    "2001-03-01",
                    "2001-04-01",
                    "2001-05-01",
                    "2001-06-01",
                    "2001-07-01",
                    "2001-08-01",
                    "2001-09-01",
                    "2001-10-01",
                    "2001-11-01",
                    "2001-12-01",
                    "2002-01-01",
                    "2002-02-01",
                    "2002-03-01",
                    "2002-04-01",
                    "2002-05-01",
                    "2002-06-01",
                    "2002-07-01",
                    "2002-08-01",
                    "2002-09-01",
                    "2002-10-01",
                    "2002-11-01",
                    "2002-12-01",
                    "2003-01-01",
                    "2003-02-01",
                    "2003-03-01",
                    "2003-04-01",
                    "2003-05-01",
                    "2003-06-01",
                    "2003-07-01",
                    "2003-08-01",
                    "2003-09-01",
                    "2003-10-01",
                    "2003-11-01",
                    "2003-12-01",
                    "2004-01-01",
                    "2004-02-01",
                    "2004-03-01",
                    "2004-04-01",
                    "2004-05-01",
                    "2004-06-01",
                    "2004-07-01",
                    "2004-08-01",
                    "2004-09-01",
                    "2004-10-01",
                    "2004-11-01",
                    "2004-12-01",
                    "2005-01-01",
                    "2005-02-01",
                    "2005-03-01",
                    "2005-04-01",
                    "2005-05-01",
                    "2005-06-01",
                    "2005-07-01",
                    "2005-08-01",
                    "2005-09-01",
                    "2005-10-01",
                    "2005-11-01",
                    "2005-12-01",
                    "2006-01-01",
                    "2006-02-01",
                    "2006-03-01",
                    "2006-04-01",
                    "2006-05-01",
                    "2006-06-01",
                    "2006-07-01",
                    "2006-08-01",
                    "2006-09-01",
                    "2006-10-01",
                    "2006-11-01",
                    "2006-12-01",
                    "2007-01-01",
                    "2007-02-01",
                    "2007-03-01",
                    "2007-04-01",
                    "2007-05-01",
                    "2007-06-01",
                    "2007-07-01",
                    "2007-08-01",
                    "2007-09-01",
                    "2007-10-01",
                    "2007-11-01",
                    "2007-12-01",
                    "2008-01-01",
                    "2008-02-01",
                    "2008-03-01",
                    "2008-04-01",
                    "2008-05-01",
                    "2008-06-01",
                    "2008-07-01",
                    "2008-08-01",
                    "2008-09-01",
                    "2008-10-01",
                    "2008-11-01",
                    "2008-12-01",
                    "2009-01-01",
                    "2009-02-01",
                    "2009-03-01",
                    "2009-04-01",
                    "2009-05-01",
                    "2009-06-01",
                    "2009-07-01",
                    "2009-08-01",
                    "2009-09-01",
                    "2009-10-01",
                    "2009-11-01",
                    "2009-12-01",
                    "2010-01-01",
                    "2010-02-01",
                    "2010-03-01",
                    "2010-04-01",
                    "2010-05-01",
                    "2010-06-01",
                    "2010-07-01",
                    "2010-08-01",
                    "2010-09-01",
                    "2010-10-01",
                    "2010-11-01",
                    "2010-12-01",
                    "2011-01-01",
                    "2011-02-01",
                    "2011-03-01",
                    "2011-04-01",
                    "2011-05-01",
                    "2011-06-01",
                    "2011-07-01",
                    "2011-08-01",
                    "2011-09-01",
                    "2011-10-01",
                    "2011-11-01",
                    "2011-12-01",
                    "2012-01-01",
                    "2012-02-01",
                    "2012-03-01",
                    "2012-04-01",
                    "2012-05-01",
                    "2012-06-01",
                    "2012-07-01",
                    "2012-08-01",
                    "2012-09-01",
                    "2012-10-01",
                    "2012-11-01",
                    "2012-12-01",
                    "2013-01-01",
                    "2013-02-01",
                    "2013-03-01",
                    "2013-04-01",
                    "2013-05-01",
                    "2013-06-01",
                    "2013-07-01",
                    "2013-08-01",
                    "2013-09-01",
                    "2013-10-01",
                    "2013-11-01",
                    "2013-12-01",
                    "2014-01-01",
                    "2014-02-01",
                    "2014-03-01",
                    "2014-04-01",
                    "2014-05-01",
                    "2014-06-01",
                    "2014-07-01",
                    "2014-08-01",
                    "2014-09-01",
                    "2014-10-01",
                    "2014-11-01",
                    "2014-12-01",
                    "2015-01-01",
                    "2015-02-01",
                    "2015-03-01",
                    "2015-04-01"
                  ],
                  "xaxis": "x5",
                  "y": [
                    2944,
                    2945,
                    2958,
                    3143,
                    3066,
                    3018,
                    2878,
                    3001,
                    2877,
                    2709,
                    2740,
                    2938,
                    2883,
                    2768,
                    2686,
                    2689,
                    2715,
                    2685,
                    2718,
                    2692,
                    2712,
                    2758,
                    2713,
                    2816,
                    2868,
                    2856,
                    3040,
                    3049,
                    2856,
                    2884,
                    3201,
                    3453,
                    3635,
                    3797,
                    3919,
                    4071,
                    4175,
                    4256,
                    4456,
                    4591,
                    4898,
                    5076,
                    4986,
                    4903,
                    4987,
                    4959,
                    4996,
                    4949,
                    5035,
                    5134,
                    5042,
                    4954,
                    5161,
                    5154,
                    5019,
                    4928,
                    5038,
                    4959,
                    4922,
                    4923,
                    4913,
                    4939,
                    4849,
                    4875,
                    4602,
                    4543,
                    4326,
                    4452,
                    4394,
                    4459,
                    4329,
                    4363,
                    4305,
                    4305,
                    4350,
                    4144,
                    4396,
                    4489,
                    4644,
                    4731,
                    4634,
                    4618,
                    4705,
                    4927,
                    5063,
                    5022,
                    5437,
                    5523,
                    6140,
                    6636,
                    7501,
                    7520,
                    7978,
                    8210,
                    8433,
                    8220,
                    8127,
                    7928,
                    7923,
                    7897,
                    7794,
                    7744,
                    7534,
                    7326,
                    7230,
                    7330,
                    7053,
                    7322,
                    7490,
                    7518,
                    7380,
                    7430,
                    7620,
                    7545,
                    7280,
                    7443,
                    7307,
                    7059,
                    6911,
                    7134,
                    6829,
                    6925,
                    6751,
                    6763,
                    6815,
                    6386,
                    6489,
                    6318,
                    6337,
                    6180,
                    6127,
                    6028,
                    6309,
                    6080,
                    6125,
                    5947,
                    6077,
                    6228,
                    6109,
                    6173,
                    6109,
                    6069,
                    5840,
                    5959,
                    5996,
                    6320,
                    6190,
                    6296,
                    6238,
                    6325,
                    6683,
                    6702,
                    6729,
                    7358,
                    7984,
                    8098,
                    8363,
                    8281,
                    8021,
                    8088,
                    8023,
                    7718,
                    8071,
                    8051,
                    7982,
                    7869,
                    8174,
                    8098,
                    7863,
                    8036,
                    8230,
                    8646,
                    9029,
                    9267,
                    9397,
                    9705,
                    9895,
                    10244,
                    10335,
                    10538,
                    10849,
                    10881,
                    11217,
                    11529,
                    11938,
                    12051,
                    11534,
                    11545,
                    11408,
                    11268,
                    11154,
                    11246,
                    10548,
                    10623,
                    10282,
                    9887,
                    9499,
                    9331,
                    9008,
                    8791,
                    8746,
                    8762,
                    8456,
                    8226,
                    8537,
                    8519,
                    8367,
                    8381,
                    8198,
                    8358,
                    8423,
                    8321,
                    8339,
                    8395,
                    8302,
                    8460,
                    8513,
                    8196,
                    8248,
                    8298,
                    8128,
                    8138,
                    7795,
                    8402,
                    8383,
                    8364,
                    8439,
                    8508,
                    8319,
                    8135,
                    8310,
                    8243,
                    8159,
                    7883,
                    7892,
                    7865,
                    7862,
                    7542,
                    7574,
                    7398,
                    7268,
                    7261,
                    7102,
                    7227,
                    7035,
                    6936,
                    6953,
                    6929,
                    6876,
                    6601,
                    6779,
                    6546,
                    6605,
                    6843,
                    6604,
                    6568,
                    6537,
                    6518,
                    6682,
                    6359,
                    6205,
                    6468,
                    6375,
                    6577,
                    6495,
                    6511,
                    6590,
                    6630,
                    6725,
                    6667,
                    6752,
                    6651,
                    6598,
                    6797,
                    6742,
                    6590,
                    6922,
                    7188,
                    7368,
                    7459,
                    7764,
                    7901,
                    8015,
                    8265,
                    8586,
                    8439,
                    8736,
                    8692,
                    8586,
                    8666,
                    8722,
                    8842,
                    8931,
                    9198,
                    9283,
                    9454,
                    9460,
                    9415,
                    9744,
                    10040,
                    9850,
                    9787,
                    9781,
                    9398,
                    9565,
                    9557,
                    9325,
                    9183,
                    9056,
                    9110,
                    9149,
                    9121,
                    8930,
                    8763,
                    8714,
                    8750,
                    8542,
                    8477,
                    8630,
                    8583,
                    8470,
                    8331,
                    7915,
                    7927,
                    7946,
                    7933,
                    7734,
                    7632,
                    7375,
                    7230,
                    7375,
                    7187,
                    7153,
                    7645,
                    7430,
                    7427,
                    7527,
                    7484,
                    7478,
                    7328,
                    7426,
                    7423,
                    7491,
                    7313,
                    7318,
                    7415,
                    7423,
                    7095,
                    7337,
                    6882,
                    6979,
                    7031,
                    7236,
                    7253,
                    7158,
                    7102,
                    7000,
                    6873,
                    6655,
                    6799,
                    6655,
                    6608,
                    6656,
                    6454,
                    6308,
                    6476,
                    6368,
                    6306,
                    6422,
                    5941,
                    6047,
                    6212,
                    6259,
                    6179,
                    6300,
                    6280,
                    6100,
                    6032,
                    5976,
                    6111,
                    5783,
                    6004,
                    5796,
                    5951,
                    6025,
                    5838,
                    5915,
                    5778,
                    5716,
                    5653,
                    5708,
                    5858,
                    5733,
                    5481,
                    5758,
                    5651,
                    5747,
                    5853,
                    5625,
                    5534,
                    5639,
                    5634,
                    6023,
                    6089,
                    6141,
                    6271,
                    6226,
                    6484,
                    6583,
                    7042,
                    7142,
                    7694,
                    8003,
                    8258,
                    8182,
                    8215,
                    8304,
                    8599,
                    8399,
                    8393,
                    8390,
                    8304,
                    8251,
                    8307,
                    8520,
                    8640,
                    8520,
                    8618,
                    8588,
                    8842,
                    8957,
                    9266,
                    9011,
                    8896,
                    8921,
                    8732,
                    8576,
                    8317,
                    8370,
                    8167,
                    8491,
                    8170,
                    8212,
                    8286,
                    8136,
                    7990,
                    7927,
                    8061,
                    7932,
                    7934,
                    7784,
                    7980,
                    7737,
                    7672,
                    7651,
                    7524,
                    7406,
                    7345,
                    7553,
                    7453,
                    7566,
                    7279,
                    7064,
                    7184,
                    7072,
                    7120,
                    6980,
                    7001,
                    7175,
                    7091,
                    6847,
                    6727,
                    6872,
                    6762,
                    7116,
                    6927,
                    6731,
                    6850,
                    6766,
                    6979,
                    7149,
                    7067,
                    7170,
                    7237,
                    7240,
                    7645,
                    7685,
                    7497,
                    7822,
                    7637,
                    8395,
                    8575,
                    8937,
                    9438,
                    9494,
                    10074,
                    10538,
                    11286,
                    12058,
                    12898,
                    13426,
                    13853,
                    14499,
                    14707,
                    14601,
                    14814,
                    15009,
                    15352,
                    15219,
                    15098,
                    15046,
                    15113,
                    15202,
                    15325,
                    14849,
                    14474,
                    14512,
                    14648,
                    14579,
                    14516,
                    15081,
                    14348,
                    14013,
                    13820,
                    13737,
                    13957,
                    13855,
                    13962,
                    13763,
                    13818,
                    13948,
                    13594,
                    13302,
                    13093,
                    12797,
                    12813,
                    12713,
                    12646,
                    12660,
                    12692,
                    12656,
                    12471,
                    12115,
                    12124,
                    12005,
                    12298,
                    12471,
                    11950,
                    11689,
                    11760,
                    11654,
                    11751,
                    11335,
                    11279,
                    11270,
                    11136,
                    10787,
                    10404,
                    10202,
                    10349,
                    10380,
                    9702,
                    9859,
                    9460,
                    9608,
                    9599,
                    9262,
                    8990,
                    9090,
                    8717,
                    8903,
                    8610,
                    8504,
                    8526
                  ],
                  "yaxis": "y5"
                }
              ],
              "layout": {
                "legend": {
                  "bgcolor": "#F5F6F9",
                  "font": {
                    "color": "#4D5663"
                  }
                },
                "paper_bgcolor": "#F5F6F9",
                "plot_bgcolor": "#F5F6F9",
                "template": {
                  "data": {
                    "bar": [
                      {
                        "error_x": {
                          "color": "#2a3f5f"
                        },
                        "error_y": {
                          "color": "#2a3f5f"
                        },
                        "marker": {
                          "line": {
                            "color": "#E5ECF6",
                            "width": 0.5
                          },
                          "pattern": {
                            "fillmode": "overlay",
                            "size": 10,
                            "solidity": 0.2
                          }
                        },
                        "type": "bar"
                      }
                    ],
                    "barpolar": [
                      {
                        "marker": {
                          "line": {
                            "color": "#E5ECF6",
                            "width": 0.5
                          },
                          "pattern": {
                            "fillmode": "overlay",
                            "size": 10,
                            "solidity": 0.2
                          }
                        },
                        "type": "barpolar"
                      }
                    ],
                    "carpet": [
                      {
                        "aaxis": {
                          "endlinecolor": "#2a3f5f",
                          "gridcolor": "white",
                          "linecolor": "white",
                          "minorgridcolor": "white",
                          "startlinecolor": "#2a3f5f"
                        },
                        "baxis": {
                          "endlinecolor": "#2a3f5f",
                          "gridcolor": "white",
                          "linecolor": "white",
                          "minorgridcolor": "white",
                          "startlinecolor": "#2a3f5f"
                        },
                        "type": "carpet"
                      }
                    ],
                    "choropleth": [
                      {
                        "colorbar": {
                          "outlinewidth": 0,
                          "ticks": ""
                        },
                        "type": "choropleth"
                      }
                    ],
                    "contour": [
                      {
                        "colorbar": {
                          "outlinewidth": 0,
                          "ticks": ""
                        },
                        "colorscale": [
                          [
                            0,
                            "#0d0887"
                          ],
                          [
                            0.1111111111111111,
                            "#46039f"
                          ],
                          [
                            0.2222222222222222,
                            "#7201a8"
                          ],
                          [
                            0.3333333333333333,
                            "#9c179e"
                          ],
                          [
                            0.4444444444444444,
                            "#bd3786"
                          ],
                          [
                            0.5555555555555556,
                            "#d8576b"
                          ],
                          [
                            0.6666666666666666,
                            "#ed7953"
                          ],
                          [
                            0.7777777777777778,
                            "#fb9f3a"
                          ],
                          [
                            0.8888888888888888,
                            "#fdca26"
                          ],
                          [
                            1,
                            "#f0f921"
                          ]
                        ],
                        "type": "contour"
                      }
                    ],
                    "contourcarpet": [
                      {
                        "colorbar": {
                          "outlinewidth": 0,
                          "ticks": ""
                        },
                        "type": "contourcarpet"
                      }
                    ],
                    "heatmap": [
                      {
                        "colorbar": {
                          "outlinewidth": 0,
                          "ticks": ""
                        },
                        "colorscale": [
                          [
                            0,
                            "#0d0887"
                          ],
                          [
                            0.1111111111111111,
                            "#46039f"
                          ],
                          [
                            0.2222222222222222,
                            "#7201a8"
                          ],
                          [
                            0.3333333333333333,
                            "#9c179e"
                          ],
                          [
                            0.4444444444444444,
                            "#bd3786"
                          ],
                          [
                            0.5555555555555556,
                            "#d8576b"
                          ],
                          [
                            0.6666666666666666,
                            "#ed7953"
                          ],
                          [
                            0.7777777777777778,
                            "#fb9f3a"
                          ],
                          [
                            0.8888888888888888,
                            "#fdca26"
                          ],
                          [
                            1,
                            "#f0f921"
                          ]
                        ],
                        "type": "heatmap"
                      }
                    ],
                    "heatmapgl": [
                      {
                        "colorbar": {
                          "outlinewidth": 0,
                          "ticks": ""
                        },
                        "colorscale": [
                          [
                            0,
                            "#0d0887"
                          ],
                          [
                            0.1111111111111111,
                            "#46039f"
                          ],
                          [
                            0.2222222222222222,
                            "#7201a8"
                          ],
                          [
                            0.3333333333333333,
                            "#9c179e"
                          ],
                          [
                            0.4444444444444444,
                            "#bd3786"
                          ],
                          [
                            0.5555555555555556,
                            "#d8576b"
                          ],
                          [
                            0.6666666666666666,
                            "#ed7953"
                          ],
                          [
                            0.7777777777777778,
                            "#fb9f3a"
                          ],
                          [
                            0.8888888888888888,
                            "#fdca26"
                          ],
                          [
                            1,
                            "#f0f921"
                          ]
                        ],
                        "type": "heatmapgl"
                      }
                    ],
                    "histogram": [
                      {
                        "marker": {
                          "pattern": {
                            "fillmode": "overlay",
                            "size": 10,
                            "solidity": 0.2
                          }
                        },
                        "type": "histogram"
                      }
                    ],
                    "histogram2d": [
                      {
                        "colorbar": {
                          "outlinewidth": 0,
                          "ticks": ""
                        },
                        "colorscale": [
                          [
                            0,
                            "#0d0887"
                          ],
                          [
                            0.1111111111111111,
                            "#46039f"
                          ],
                          [
                            0.2222222222222222,
                            "#7201a8"
                          ],
                          [
                            0.3333333333333333,
                            "#9c179e"
                          ],
                          [
                            0.4444444444444444,
                            "#bd3786"
                          ],
                          [
                            0.5555555555555556,
                            "#d8576b"
                          ],
                          [
                            0.6666666666666666,
                            "#ed7953"
                          ],
                          [
                            0.7777777777777778,
                            "#fb9f3a"
                          ],
                          [
                            0.8888888888888888,
                            "#fdca26"
                          ],
                          [
                            1,
                            "#f0f921"
                          ]
                        ],
                        "type": "histogram2d"
                      }
                    ],
                    "histogram2dcontour": [
                      {
                        "colorbar": {
                          "outlinewidth": 0,
                          "ticks": ""
                        },
                        "colorscale": [
                          [
                            0,
                            "#0d0887"
                          ],
                          [
                            0.1111111111111111,
                            "#46039f"
                          ],
                          [
                            0.2222222222222222,
                            "#7201a8"
                          ],
                          [
                            0.3333333333333333,
                            "#9c179e"
                          ],
                          [
                            0.4444444444444444,
                            "#bd3786"
                          ],
                          [
                            0.5555555555555556,
                            "#d8576b"
                          ],
                          [
                            0.6666666666666666,
                            "#ed7953"
                          ],
                          [
                            0.7777777777777778,
                            "#fb9f3a"
                          ],
                          [
                            0.8888888888888888,
                            "#fdca26"
                          ],
                          [
                            1,
                            "#f0f921"
                          ]
                        ],
                        "type": "histogram2dcontour"
                      }
                    ],
                    "mesh3d": [
                      {
                        "colorbar": {
                          "outlinewidth": 0,
                          "ticks": ""
                        },
                        "type": "mesh3d"
                      }
                    ],
                    "parcoords": [
                      {
                        "line": {
                          "colorbar": {
                            "outlinewidth": 0,
                            "ticks": ""
                          }
                        },
                        "type": "parcoords"
                      }
                    ],
                    "pie": [
                      {
                        "automargin": true,
                        "type": "pie"
                      }
                    ],
                    "scatter": [
                      {
                        "fillpattern": {
                          "fillmode": "overlay",
                          "size": 10,
                          "solidity": 0.2
                        },
                        "type": "scatter"
                      }
                    ],
                    "scatter3d": [
                      {
                        "line": {
                          "colorbar": {
                            "outlinewidth": 0,
                            "ticks": ""
                          }
                        },
                        "marker": {
                          "colorbar": {
                            "outlinewidth": 0,
                            "ticks": ""
                          }
                        },
                        "type": "scatter3d"
                      }
                    ],
                    "scattercarpet": [
                      {
                        "marker": {
                          "colorbar": {
                            "outlinewidth": 0,
                            "ticks": ""
                          }
                        },
                        "type": "scattercarpet"
                      }
                    ],
                    "scattergeo": [
                      {
                        "marker": {
                          "colorbar": {
                            "outlinewidth": 0,
                            "ticks": ""
                          }
                        },
                        "type": "scattergeo"
                      }
                    ],
                    "scattergl": [
                      {
                        "marker": {
                          "colorbar": {
                            "outlinewidth": 0,
                            "ticks": ""
                          }
                        },
                        "type": "scattergl"
                      }
                    ],
                    "scattermapbox": [
                      {
                        "marker": {
                          "colorbar": {
                            "outlinewidth": 0,
                            "ticks": ""
                          }
                        },
                        "type": "scattermapbox"
                      }
                    ],
                    "scatterpolar": [
                      {
                        "marker": {
                          "colorbar": {
                            "outlinewidth": 0,
                            "ticks": ""
                          }
                        },
                        "type": "scatterpolar"
                      }
                    ],
                    "scatterpolargl": [
                      {
                        "marker": {
                          "colorbar": {
                            "outlinewidth": 0,
                            "ticks": ""
                          }
                        },
                        "type": "scatterpolargl"
                      }
                    ],
                    "scatterternary": [
                      {
                        "marker": {
                          "colorbar": {
                            "outlinewidth": 0,
                            "ticks": ""
                          }
                        },
                        "type": "scatterternary"
                      }
                    ],
                    "surface": [
                      {
                        "colorbar": {
                          "outlinewidth": 0,
                          "ticks": ""
                        },
                        "colorscale": [
                          [
                            0,
                            "#0d0887"
                          ],
                          [
                            0.1111111111111111,
                            "#46039f"
                          ],
                          [
                            0.2222222222222222,
                            "#7201a8"
                          ],
                          [
                            0.3333333333333333,
                            "#9c179e"
                          ],
                          [
                            0.4444444444444444,
                            "#bd3786"
                          ],
                          [
                            0.5555555555555556,
                            "#d8576b"
                          ],
                          [
                            0.6666666666666666,
                            "#ed7953"
                          ],
                          [
                            0.7777777777777778,
                            "#fb9f3a"
                          ],
                          [
                            0.8888888888888888,
                            "#fdca26"
                          ],
                          [
                            1,
                            "#f0f921"
                          ]
                        ],
                        "type": "surface"
                      }
                    ],
                    "table": [
                      {
                        "cells": {
                          "fill": {
                            "color": "#EBF0F8"
                          },
                          "line": {
                            "color": "white"
                          }
                        },
                        "header": {
                          "fill": {
                            "color": "#C8D4E3"
                          },
                          "line": {
                            "color": "white"
                          }
                        },
                        "type": "table"
                      }
                    ]
                  },
                  "layout": {
                    "annotationdefaults": {
                      "arrowcolor": "#2a3f5f",
                      "arrowhead": 0,
                      "arrowwidth": 1
                    },
                    "autotypenumbers": "strict",
                    "coloraxis": {
                      "colorbar": {
                        "outlinewidth": 0,
                        "ticks": ""
                      }
                    },
                    "colorscale": {
                      "diverging": [
                        [
                          0,
                          "#8e0152"
                        ],
                        [
                          0.1,
                          "#c51b7d"
                        ],
                        [
                          0.2,
                          "#de77ae"
                        ],
                        [
                          0.3,
                          "#f1b6da"
                        ],
                        [
                          0.4,
                          "#fde0ef"
                        ],
                        [
                          0.5,
                          "#f7f7f7"
                        ],
                        [
                          0.6,
                          "#e6f5d0"
                        ],
                        [
                          0.7,
                          "#b8e186"
                        ],
                        [
                          0.8,
                          "#7fbc41"
                        ],
                        [
                          0.9,
                          "#4d9221"
                        ],
                        [
                          1,
                          "#276419"
                        ]
                      ],
                      "sequential": [
                        [
                          0,
                          "#0d0887"
                        ],
                        [
                          0.1111111111111111,
                          "#46039f"
                        ],
                        [
                          0.2222222222222222,
                          "#7201a8"
                        ],
                        [
                          0.3333333333333333,
                          "#9c179e"
                        ],
                        [
                          0.4444444444444444,
                          "#bd3786"
                        ],
                        [
                          0.5555555555555556,
                          "#d8576b"
                        ],
                        [
                          0.6666666666666666,
                          "#ed7953"
                        ],
                        [
                          0.7777777777777778,
                          "#fb9f3a"
                        ],
                        [
                          0.8888888888888888,
                          "#fdca26"
                        ],
                        [
                          1,
                          "#f0f921"
                        ]
                      ],
                      "sequentialminus": [
                        [
                          0,
                          "#0d0887"
                        ],
                        [
                          0.1111111111111111,
                          "#46039f"
                        ],
                        [
                          0.2222222222222222,
                          "#7201a8"
                        ],
                        [
                          0.3333333333333333,
                          "#9c179e"
                        ],
                        [
                          0.4444444444444444,
                          "#bd3786"
                        ],
                        [
                          0.5555555555555556,
                          "#d8576b"
                        ],
                        [
                          0.6666666666666666,
                          "#ed7953"
                        ],
                        [
                          0.7777777777777778,
                          "#fb9f3a"
                        ],
                        [
                          0.8888888888888888,
                          "#fdca26"
                        ],
                        [
                          1,
                          "#f0f921"
                        ]
                      ]
                    },
                    "colorway": [
                      "#636efa",
                      "#EF553B",
                      "#00cc96",
                      "#ab63fa",
                      "#FFA15A",
                      "#19d3f3",
                      "#FF6692",
                      "#B6E880",
                      "#FF97FF",
                      "#FECB52"
                    ],
                    "font": {
                      "color": "#2a3f5f"
                    },
                    "geo": {
                      "bgcolor": "white",
                      "lakecolor": "white",
                      "landcolor": "#E5ECF6",
                      "showlakes": true,
                      "showland": true,
                      "subunitcolor": "white"
                    },
                    "hoverlabel": {
                      "align": "left"
                    },
                    "hovermode": "closest",
                    "mapbox": {
                      "style": "light"
                    },
                    "paper_bgcolor": "white",
                    "plot_bgcolor": "#E5ECF6",
                    "polar": {
                      "angularaxis": {
                        "gridcolor": "white",
                        "linecolor": "white",
                        "ticks": ""
                      },
                      "bgcolor": "#E5ECF6",
                      "radialaxis": {
                        "gridcolor": "white",
                        "linecolor": "white",
                        "ticks": ""
                      }
                    },
                    "scene": {
                      "xaxis": {
                        "backgroundcolor": "#E5ECF6",
                        "gridcolor": "white",
                        "gridwidth": 2,
                        "linecolor": "white",
                        "showbackground": true,
                        "ticks": "",
                        "zerolinecolor": "white"
                      },
                      "yaxis": {
                        "backgroundcolor": "#E5ECF6",
                        "gridcolor": "white",
                        "gridwidth": 2,
                        "linecolor": "white",
                        "showbackground": true,
                        "ticks": "",
                        "zerolinecolor": "white"
                      },
                      "zaxis": {
                        "backgroundcolor": "#E5ECF6",
                        "gridcolor": "white",
                        "gridwidth": 2,
                        "linecolor": "white",
                        "showbackground": true,
                        "ticks": "",
                        "zerolinecolor": "white"
                      }
                    },
                    "shapedefaults": {
                      "line": {
                        "color": "#2a3f5f"
                      }
                    },
                    "ternary": {
                      "aaxis": {
                        "gridcolor": "white",
                        "linecolor": "white",
                        "ticks": ""
                      },
                      "baxis": {
                        "gridcolor": "white",
                        "linecolor": "white",
                        "ticks": ""
                      },
                      "bgcolor": "#E5ECF6",
                      "caxis": {
                        "gridcolor": "white",
                        "linecolor": "white",
                        "ticks": ""
                      }
                    },
                    "title": {
                      "x": 0.05
                    },
                    "xaxis": {
                      "automargin": true,
                      "gridcolor": "white",
                      "linecolor": "white",
                      "ticks": "",
                      "title": {
                        "standoff": 15
                      },
                      "zerolinecolor": "white",
                      "zerolinewidth": 2
                    },
                    "yaxis": {
                      "automargin": true,
                      "gridcolor": "white",
                      "linecolor": "white",
                      "ticks": "",
                      "title": {
                        "standoff": 15
                      },
                      "zerolinecolor": "white",
                      "zerolinewidth": 2
                    }
                  }
                },
                "title": {
                  "font": {
                    "color": "#4D5663"
                  }
                },
                "xaxis": {
                  "anchor": "y",
                  "domain": [
                    0,
                    0.45
                  ],
                  "gridcolor": "#E1E5ED",
                  "showgrid": true,
                  "tickfont": {
                    "color": "#4D5663"
                  },
                  "title": {
                    "font": {
                      "color": "#4D5663"
                    },
                    "text": ""
                  },
                  "zerolinecolor": "#E1E5ED"
                },
                "xaxis2": {
                  "anchor": "y2",
                  "domain": [
                    0.55,
                    1
                  ],
                  "gridcolor": "#E1E5ED",
                  "showgrid": true,
                  "tickfont": {
                    "color": "#4D5663"
                  },
                  "title": {
                    "font": {
                      "color": "#4D5663"
                    },
                    "text": ""
                  },
                  "zerolinecolor": "#E1E5ED"
                },
                "xaxis3": {
                  "anchor": "y3",
                  "domain": [
                    0,
                    0.45
                  ],
                  "gridcolor": "#E1E5ED",
                  "showgrid": true,
                  "tickfont": {
                    "color": "#4D5663"
                  },
                  "title": {
                    "font": {
                      "color": "#4D5663"
                    },
                    "text": ""
                  },
                  "zerolinecolor": "#E1E5ED"
                },
                "xaxis4": {
                  "anchor": "y4",
                  "domain": [
                    0.55,
                    1
                  ],
                  "gridcolor": "#E1E5ED",
                  "showgrid": true,
                  "tickfont": {
                    "color": "#4D5663"
                  },
                  "title": {
                    "font": {
                      "color": "#4D5663"
                    },
                    "text": ""
                  },
                  "zerolinecolor": "#E1E5ED"
                },
                "xaxis5": {
                  "anchor": "y5",
                  "domain": [
                    0,
                    0.45
                  ],
                  "gridcolor": "#E1E5ED",
                  "showgrid": true,
                  "tickfont": {
                    "color": "#4D5663"
                  },
                  "title": {
                    "font": {
                      "color": "#4D5663"
                    },
                    "text": ""
                  },
                  "zerolinecolor": "#E1E5ED"
                },
                "yaxis": {
                  "anchor": "x",
                  "domain": [
                    0.7333333333333333,
                    1
                  ],
                  "gridcolor": "#E1E5ED",
                  "showgrid": true,
                  "tickfont": {
                    "color": "#4D5663"
                  },
                  "title": {
                    "font": {
                      "color": "#4D5663"
                    },
                    "text": ""
                  },
                  "zerolinecolor": "#E1E5ED"
                },
                "yaxis2": {
                  "anchor": "x2",
                  "domain": [
                    0.7333333333333333,
                    1
                  ],
                  "gridcolor": "#E1E5ED",
                  "showgrid": true,
                  "tickfont": {
                    "color": "#4D5663"
                  },
                  "title": {
                    "font": {
                      "color": "#4D5663"
                    },
                    "text": ""
                  },
                  "zerolinecolor": "#E1E5ED"
                },
                "yaxis3": {
                  "anchor": "x3",
                  "domain": [
                    0.36666666666666664,
                    0.6333333333333333
                  ],
                  "gridcolor": "#E1E5ED",
                  "showgrid": true,
                  "tickfont": {
                    "color": "#4D5663"
                  },
                  "title": {
                    "font": {
                      "color": "#4D5663"
                    },
                    "text": ""
                  },
                  "zerolinecolor": "#E1E5ED"
                },
                "yaxis4": {
                  "anchor": "x4",
                  "domain": [
                    0.36666666666666664,
                    0.6333333333333333
                  ],
                  "gridcolor": "#E1E5ED",
                  "showgrid": true,
                  "tickfont": {
                    "color": "#4D5663"
                  },
                  "title": {
                    "font": {
                      "color": "#4D5663"
                    },
                    "text": ""
                  },
                  "zerolinecolor": "#E1E5ED"
                },
                "yaxis5": {
                  "anchor": "x5",
                  "domain": [
                    0,
                    0.26666666666666666
                  ],
                  "gridcolor": "#E1E5ED",
                  "showgrid": true,
                  "tickfont": {
                    "color": "#4D5663"
                  },
                  "title": {
                    "font": {
                      "color": "#4D5663"
                    },
                    "text": ""
                  },
                  "zerolinecolor": "#E1E5ED"
                }
              }
            },
            "text/html": [
              "<div>                            <div id=\"e23c4bc1-709d-4c22-ba2b-d2f2e8018ccd\" class=\"plotly-graph-div\" style=\"height:525px; width:100%;\"></div>            <script type=\"text/javascript\">                require([\"plotly\"], function(Plotly) {                    window.PLOTLYENV=window.PLOTLYENV || {};\n",
              "                    window.PLOTLYENV.BASE_URL='https://plot.ly';                                    if (document.getElementById(\"e23c4bc1-709d-4c22-ba2b-d2f2e8018ccd\")) {                    Plotly.newPlot(                        \"e23c4bc1-709d-4c22-ba2b-d2f2e8018ccd\",                        [{\"line\":{\"color\":\"rgba(255, 153, 51, 1.0)\",\"dash\":\"solid\",\"shape\":\"linear\",\"width\":1.3},\"mode\":\"lines\",\"name\":\"pce\",\"text\":\"\",\"x\":[\"1967-07-01\",\"1967-08-01\",\"1967-09-01\",\"1967-10-01\",\"1967-11-01\",\"1967-12-01\",\"1968-01-01\",\"1968-02-01\",\"1968-03-01\",\"1968-04-01\",\"1968-05-01\",\"1968-06-01\",\"1968-07-01\",\"1968-08-01\",\"1968-09-01\",\"1968-10-01\",\"1968-11-01\",\"1968-12-01\",\"1969-01-01\",\"1969-02-01\",\"1969-03-01\",\"1969-04-01\",\"1969-05-01\",\"1969-06-01\",\"1969-07-01\",\"1969-08-01\",\"1969-09-01\",\"1969-10-01\",\"1969-11-01\",\"1969-12-01\",\"1970-01-01\",\"1970-02-01\",\"1970-03-01\",\"1970-04-01\",\"1970-05-01\",\"1970-06-01\",\"1970-07-01\",\"1970-08-01\",\"1970-09-01\",\"1970-10-01\",\"1970-11-01\",\"1970-12-01\",\"1971-01-01\",\"1971-02-01\",\"1971-03-01\",\"1971-04-01\",\"1971-05-01\",\"1971-06-01\",\"1971-07-01\",\"1971-08-01\",\"1971-09-01\",\"1971-10-01\",\"1971-11-01\",\"1971-12-01\",\"1972-01-01\",\"1972-02-01\",\"1972-03-01\",\"1972-04-01\",\"1972-05-01\",\"1972-06-01\",\"1972-07-01\",\"1972-08-01\",\"1972-09-01\",\"1972-10-01\",\"1972-11-01\",\"1972-12-01\",\"1973-01-01\",\"1973-02-01\",\"1973-03-01\",\"1973-04-01\",\"1973-05-01\",\"1973-06-01\",\"1973-07-01\",\"1973-08-01\",\"1973-09-01\",\"1973-10-01\",\"1973-11-01\",\"1973-12-01\",\"1974-01-01\",\"1974-02-01\",\"1974-03-01\",\"1974-04-01\",\"1974-05-01\",\"1974-06-01\",\"1974-07-01\",\"1974-08-01\",\"1974-09-01\",\"1974-10-01\",\"1974-11-01\",\"1974-12-01\",\"1975-01-01\",\"1975-02-01\",\"1975-03-01\",\"1975-04-01\",\"1975-05-01\",\"1975-06-01\",\"1975-07-01\",\"1975-08-01\",\"1975-09-01\",\"1975-10-01\",\"1975-11-01\",\"1975-12-01\",\"1976-01-01\",\"1976-02-01\",\"1976-03-01\",\"1976-04-01\",\"1976-05-01\",\"1976-06-01\",\"1976-07-01\",\"1976-08-01\",\"1976-09-01\",\"1976-10-01\",\"1976-11-01\",\"1976-12-01\",\"1977-01-01\",\"1977-02-01\",\"1977-03-01\",\"1977-04-01\",\"1977-05-01\",\"1977-06-01\",\"1977-07-01\",\"1977-08-01\",\"1977-09-01\",\"1977-10-01\",\"1977-11-01\",\"1977-12-01\",\"1978-01-01\",\"1978-02-01\",\"1978-03-01\",\"1978-04-01\",\"1978-05-01\",\"1978-06-01\",\"1978-07-01\",\"1978-08-01\",\"1978-09-01\",\"1978-10-01\",\"1978-11-01\",\"1978-12-01\",\"1979-01-01\",\"1979-02-01\",\"1979-03-01\",\"1979-04-01\",\"1979-05-01\",\"1979-06-01\",\"1979-07-01\",\"1979-08-01\",\"1979-09-01\",\"1979-10-01\",\"1979-11-01\",\"1979-12-01\",\"1980-01-01\",\"1980-02-01\",\"1980-03-01\",\"1980-04-01\",\"1980-05-01\",\"1980-06-01\",\"1980-07-01\",\"1980-08-01\",\"1980-09-01\",\"1980-10-01\",\"1980-11-01\",\"1980-12-01\",\"1981-01-01\",\"1981-02-01\",\"1981-03-01\",\"1981-04-01\",\"1981-05-01\",\"1981-06-01\",\"1981-07-01\",\"1981-08-01\",\"1981-09-01\",\"1981-10-01\",\"1981-11-01\",\"1981-12-01\",\"1982-01-01\",\"1982-02-01\",\"1982-03-01\",\"1982-04-01\",\"1982-05-01\",\"1982-06-01\",\"1982-07-01\",\"1982-08-01\",\"1982-09-01\",\"1982-10-01\",\"1982-11-01\",\"1982-12-01\",\"1983-01-01\",\"1983-02-01\",\"1983-03-01\",\"1983-04-01\",\"1983-05-01\",\"1983-06-01\",\"1983-07-01\",\"1983-08-01\",\"1983-09-01\",\"1983-10-01\",\"1983-11-01\",\"1983-12-01\",\"1984-01-01\",\"1984-02-01\",\"1984-03-01\",\"1984-04-01\",\"1984-05-01\",\"1984-06-01\",\"1984-07-01\",\"1984-08-01\",\"1984-09-01\",\"1984-10-01\",\"1984-11-01\",\"1984-12-01\",\"1985-01-01\",\"1985-02-01\",\"1985-03-01\",\"1985-04-01\",\"1985-05-01\",\"1985-06-01\",\"1985-07-01\",\"1985-08-01\",\"1985-09-01\",\"1985-10-01\",\"1985-11-01\",\"1985-12-01\",\"1986-01-01\",\"1986-02-01\",\"1986-03-01\",\"1986-04-01\",\"1986-05-01\",\"1986-06-01\",\"1986-07-01\",\"1986-08-01\",\"1986-09-01\",\"1986-10-01\",\"1986-11-01\",\"1986-12-01\",\"1987-01-01\",\"1987-02-01\",\"1987-03-01\",\"1987-04-01\",\"1987-05-01\",\"1987-06-01\",\"1987-07-01\",\"1987-08-01\",\"1987-09-01\",\"1987-10-01\",\"1987-11-01\",\"1987-12-01\",\"1988-01-01\",\"1988-02-01\",\"1988-03-01\",\"1988-04-01\",\"1988-05-01\",\"1988-06-01\",\"1988-07-01\",\"1988-08-01\",\"1988-09-01\",\"1988-10-01\",\"1988-11-01\",\"1988-12-01\",\"1989-01-01\",\"1989-02-01\",\"1989-03-01\",\"1989-04-01\",\"1989-05-01\",\"1989-06-01\",\"1989-07-01\",\"1989-08-01\",\"1989-09-01\",\"1989-10-01\",\"1989-11-01\",\"1989-12-01\",\"1990-01-01\",\"1990-02-01\",\"1990-03-01\",\"1990-04-01\",\"1990-05-01\",\"1990-06-01\",\"1990-07-01\",\"1990-08-01\",\"1990-09-01\",\"1990-10-01\",\"1990-11-01\",\"1990-12-01\",\"1991-01-01\",\"1991-02-01\",\"1991-03-01\",\"1991-04-01\",\"1991-05-01\",\"1991-06-01\",\"1991-07-01\",\"1991-08-01\",\"1991-09-01\",\"1991-10-01\",\"1991-11-01\",\"1991-12-01\",\"1992-01-01\",\"1992-02-01\",\"1992-03-01\",\"1992-04-01\",\"1992-05-01\",\"1992-06-01\",\"1992-07-01\",\"1992-08-01\",\"1992-09-01\",\"1992-10-01\",\"1992-11-01\",\"1992-12-01\",\"1993-01-01\",\"1993-02-01\",\"1993-03-01\",\"1993-04-01\",\"1993-05-01\",\"1993-06-01\",\"1993-07-01\",\"1993-08-01\",\"1993-09-01\",\"1993-10-01\",\"1993-11-01\",\"1993-12-01\",\"1994-01-01\",\"1994-02-01\",\"1994-03-01\",\"1994-04-01\",\"1994-05-01\",\"1994-06-01\",\"1994-07-01\",\"1994-08-01\",\"1994-09-01\",\"1994-10-01\",\"1994-11-01\",\"1994-12-01\",\"1995-01-01\",\"1995-02-01\",\"1995-03-01\",\"1995-04-01\",\"1995-05-01\",\"1995-06-01\",\"1995-07-01\",\"1995-08-01\",\"1995-09-01\",\"1995-10-01\",\"1995-11-01\",\"1995-12-01\",\"1996-01-01\",\"1996-02-01\",\"1996-03-01\",\"1996-04-01\",\"1996-05-01\",\"1996-06-01\",\"1996-07-01\",\"1996-08-01\",\"1996-09-01\",\"1996-10-01\",\"1996-11-01\",\"1996-12-01\",\"1997-01-01\",\"1997-02-01\",\"1997-03-01\",\"1997-04-01\",\"1997-05-01\",\"1997-06-01\",\"1997-07-01\",\"1997-08-01\",\"1997-09-01\",\"1997-10-01\",\"1997-11-01\",\"1997-12-01\",\"1998-01-01\",\"1998-02-01\",\"1998-03-01\",\"1998-04-01\",\"1998-05-01\",\"1998-06-01\",\"1998-07-01\",\"1998-08-01\",\"1998-09-01\",\"1998-10-01\",\"1998-11-01\",\"1998-12-01\",\"1999-01-01\",\"1999-02-01\",\"1999-03-01\",\"1999-04-01\",\"1999-05-01\",\"1999-06-01\",\"1999-07-01\",\"1999-08-01\",\"1999-09-01\",\"1999-10-01\",\"1999-11-01\",\"1999-12-01\",\"2000-01-01\",\"2000-02-01\",\"2000-03-01\",\"2000-04-01\",\"2000-05-01\",\"2000-06-01\",\"2000-07-01\",\"2000-08-01\",\"2000-09-01\",\"2000-10-01\",\"2000-11-01\",\"2000-12-01\",\"2001-01-01\",\"2001-02-01\",\"2001-03-01\",\"2001-04-01\",\"2001-05-01\",\"2001-06-01\",\"2001-07-01\",\"2001-08-01\",\"2001-09-01\",\"2001-10-01\",\"2001-11-01\",\"2001-12-01\",\"2002-01-01\",\"2002-02-01\",\"2002-03-01\",\"2002-04-01\",\"2002-05-01\",\"2002-06-01\",\"2002-07-01\",\"2002-08-01\",\"2002-09-01\",\"2002-10-01\",\"2002-11-01\",\"2002-12-01\",\"2003-01-01\",\"2003-02-01\",\"2003-03-01\",\"2003-04-01\",\"2003-05-01\",\"2003-06-01\",\"2003-07-01\",\"2003-08-01\",\"2003-09-01\",\"2003-10-01\",\"2003-11-01\",\"2003-12-01\",\"2004-01-01\",\"2004-02-01\",\"2004-03-01\",\"2004-04-01\",\"2004-05-01\",\"2004-06-01\",\"2004-07-01\",\"2004-08-01\",\"2004-09-01\",\"2004-10-01\",\"2004-11-01\",\"2004-12-01\",\"2005-01-01\",\"2005-02-01\",\"2005-03-01\",\"2005-04-01\",\"2005-05-01\",\"2005-06-01\",\"2005-07-01\",\"2005-08-01\",\"2005-09-01\",\"2005-10-01\",\"2005-11-01\",\"2005-12-01\",\"2006-01-01\",\"2006-02-01\",\"2006-03-01\",\"2006-04-01\",\"2006-05-01\",\"2006-06-01\",\"2006-07-01\",\"2006-08-01\",\"2006-09-01\",\"2006-10-01\",\"2006-11-01\",\"2006-12-01\",\"2007-01-01\",\"2007-02-01\",\"2007-03-01\",\"2007-04-01\",\"2007-05-01\",\"2007-06-01\",\"2007-07-01\",\"2007-08-01\",\"2007-09-01\",\"2007-10-01\",\"2007-11-01\",\"2007-12-01\",\"2008-01-01\",\"2008-02-01\",\"2008-03-01\",\"2008-04-01\",\"2008-05-01\",\"2008-06-01\",\"2008-07-01\",\"2008-08-01\",\"2008-09-01\",\"2008-10-01\",\"2008-11-01\",\"2008-12-01\",\"2009-01-01\",\"2009-02-01\",\"2009-03-01\",\"2009-04-01\",\"2009-05-01\",\"2009-06-01\",\"2009-07-01\",\"2009-08-01\",\"2009-09-01\",\"2009-10-01\",\"2009-11-01\",\"2009-12-01\",\"2010-01-01\",\"2010-02-01\",\"2010-03-01\",\"2010-04-01\",\"2010-05-01\",\"2010-06-01\",\"2010-07-01\",\"2010-08-01\",\"2010-09-01\",\"2010-10-01\",\"2010-11-01\",\"2010-12-01\",\"2011-01-01\",\"2011-02-01\",\"2011-03-01\",\"2011-04-01\",\"2011-05-01\",\"2011-06-01\",\"2011-07-01\",\"2011-08-01\",\"2011-09-01\",\"2011-10-01\",\"2011-11-01\",\"2011-12-01\",\"2012-01-01\",\"2012-02-01\",\"2012-03-01\",\"2012-04-01\",\"2012-05-01\",\"2012-06-01\",\"2012-07-01\",\"2012-08-01\",\"2012-09-01\",\"2012-10-01\",\"2012-11-01\",\"2012-12-01\",\"2013-01-01\",\"2013-02-01\",\"2013-03-01\",\"2013-04-01\",\"2013-05-01\",\"2013-06-01\",\"2013-07-01\",\"2013-08-01\",\"2013-09-01\",\"2013-10-01\",\"2013-11-01\",\"2013-12-01\",\"2014-01-01\",\"2014-02-01\",\"2014-03-01\",\"2014-04-01\",\"2014-05-01\",\"2014-06-01\",\"2014-07-01\",\"2014-08-01\",\"2014-09-01\",\"2014-10-01\",\"2014-11-01\",\"2014-12-01\",\"2015-01-01\",\"2015-02-01\",\"2015-03-01\",\"2015-04-01\"],\"xaxis\":\"x\",\"y\":[506.7,509.8,515.6,512.2,517.4,525.1,530.9,533.6,544.3,544.0,549.8,556.3,563.2,567.0,568.2,571.6,576.7,576.5,583.5,588.7,588.9,593.9,600.3,600.9,602.7,609.9,613.2,618.5,620.5,622.8,628.7,634.0,632.3,636.0,642.4,646.3,648.5,652.9,659.1,658.3,656.6,665.6,676.1,679.4,682.0,688.8,691.1,699.8,698.9,704.9,713.0,715.8,720.9,728.4,731.5,736.2,749.2,752.5,758.0,761.6,769.9,776.3,781.1,794.9,800.5,806.1,816.5,825.8,832.8,835.7,841.6,844.3,854.1,853.3,869.2,868.2,876.9,876.6,884.5,889.7,901.4,910.8,922.4,928.0,937.9,954.8,955.1,959.2,956.2,961.8,975.6,989.4,990.6,995.0,1018.9,1026.8,1039.8,1047.0,1054.8,1060.9,1075.8,1092.1,1107.1,1107.7,1114.9,1125.4,1122.7,1140.5,1149.6,1158.0,1168.8,1176.8,1189.0,1211.5,1215.0,1231.3,1238.3,1247.3,1257.1,1263.6,1280.5,1285.7,1294.5,1311.4,1327.0,1336.0,1329.5,1355.1,1377.5,1396.4,1412.0,1425.8,1426.8,1447.0,1452.9,1466.9,1480.6,1496.5,1502.4,1517.8,1531.2,1538.4,1558.8,1575.7,1586.1,1615.6,1633.9,1641.6,1657.3,1666.3,1697.3,1701.4,1708.2,1695.2,1700.1,1718.8,1747.1,1763.8,1780.5,1817.1,1826.8,1851.7,1870.0,1884.2,1902.9,1904.4,1913.8,1934.5,1942.1,1966.6,1965.5,1963.9,1970.6,1988.8,1997.1,2021.2,2024.1,2026.3,2044.5,2048.1,2072.2,2080.1,2104.6,2125.8,2149.3,2161.6,2174.0,2177.0,2202.8,2226.4,2245.9,2276.0,2304.4,2320.4,2334.9,2357.6,2366.3,2393.6,2419.4,2403.5,2431.6,2457.5,2474.5,2495.6,2494.6,2512.2,2533.8,2531.3,2571.4,2582.6,2618.8,2640.8,2648.5,2659.5,2696.4,2689.4,2715.7,2752.1,2794.7,2755.8,2771.1,2811.3,2827.1,2820.2,2823.6,2835.2,2857.5,2861.7,2881.2,2898.6,2971.8,2932.9,2928.4,2997.1,2935.5,3001.7,3013.3,3038.8,3048.4,3072.8,3094.7,3130.8,3126.5,3134.5,3144.2,3174.1,3213.7,3221.4,3260.5,3263.0,3293.6,3318.5,3342.7,3368.0,3375.0,3413.7,3430.2,3459.7,3483.7,3488.0,3498.8,3543.0,3551.8,3566.6,3585.7,3620.6,3621.9,3633.6,3643.3,3684.2,3730.7,3728.2,3754.9,3770.0,3775.8,3804.5,3821.7,3848.3,3870.1,3870.6,3871.9,3861.3,3841.0,3866.7,3913.0,3907.1,3933.2,3940.5,3966.0,3969.1,3984.7,3976.0,4003.6,4020.5,4084.7,4099.5,4117.0,4131.5,4158.4,4177.1,4204.8,4220.9,4255.3,4284.7,4300.5,4336.4,4340.7,4355.3,4352.5,4393.4,4422.4,4440.0,4468.9,4481.1,4511.5,4532.8,4554.1,4571.1,4585.1,4632.6,4646.0,4671.1,4669.5,4708.9,4720.6,4762.6,4775.0,4812.9,4825.6,4841.6,4851.2,4850.8,4885.4,4890.2,4933.1,4977.5,4970.2,5005.3,5020.5,5013.9,5055.6,5097.5,5085.7,5132.8,5173.3,5208.0,5223.8,5229.8,5251.9,5275.0,5296.6,5328.5,5351.2,5378.6,5411.1,5434.0,5454.2,5459.3,5460.2,5494.2,5548.8,5587.0,5601.7,5637.7,5661.1,5692.1,5689.9,5723.8,5750.3,5788.1,5837.9,5871.7,5890.0,5925.0,5965.6,5998.8,6015.4,6070.5,6072.9,6101.8,6132.9,6196.2,6225.7,6254.0,6281.5,6326.5,6378.8,6402.1,6437.9,6538.7,6535.3,6619.7,6685.8,6671.1,6707.6,6743.9,6764.1,6799.1,6882.9,6888.2,6902.4,6945.7,6977.0,6995.8,6987.9,7001.2,7047.1,7060.7,7072.2,7108.9,7012.8,7208.4,7167.9,7147.7,7174.3,7218.3,7237.2,7305.4,7282.7,7318.2,7380.4,7401.5,7391.0,7430.7,7459.7,7512.8,7533.1,7535.9,7598.4,7621.0,7628.1,7678.6,7738.2,7834.5,7835.0,7845.7,7899.6,7929.2,7987.4,8019.8,8076.0,8088.6,8163.2,8147.2,8218.9,8253.1,8321.1,8374.6,8420.6,8481.5,8470.2,8529.2,8569.5,8645.6,8643.9,8724.8,8829.5,8832.4,8885.8,8926.6,8938.5,8969.6,9059.8,9090.1,9122.1,9174.8,9215.1,9240.8,9322.6,9321.8,9354.7,9373.2,9380.2,9469.0,9516.3,9546.8,9585.1,9615.7,9651.3,9667.3,9709.6,9753.9,9797.9,9827.0,9897.8,9908.4,9930.0,9913.4,9959.4,9996.8,10053.8,10107.9,10104.7,10094.7,10043.5,9960.3,9820.8,9730.7,9783.8,9766.0,9718.5,9724.8,9748.9,9806.9,9841.7,9961.0,9883.4,9931.9,9940.5,9998.9,10001.8,10030.6,10089.1,10112.9,10131.0,10151.4,10184.7,10228.2,10249.0,10304.7,10354.7,10392.1,10435.5,10470.1,10550.5,10587.6,10612.0,10636.8,10677.5,10700.6,10738.1,10753.1,10759.5,10772.2,10862.1,10953.5,10951.8,10979.7,10968.6,10946.3,10977.2,11004.1,11061.5,11099.8,11136.8,11140.5,11202.8,11239.6,11227.1,11205.4,11244.6,11268.8,11296.7,11329.2,11366.9,11419.8,11487.6,11517.9,11512.5,11566.2,11643.0,11702.6,11748.4,11817.0,11860.5,11944.3,11957.4,12023.0,12051.4,12062.0,12046.0,12082.4,12158.3,12193.8],\"yaxis\":\"y\",\"type\":\"scatter\"},{\"line\":{\"color\":\"rgba(55, 128, 191, 1.0)\",\"dash\":\"solid\",\"shape\":\"linear\",\"width\":1.3},\"mode\":\"lines\",\"name\":\"pop\",\"text\":\"\",\"x\":[\"1967-07-01\",\"1967-08-01\",\"1967-09-01\",\"1967-10-01\",\"1967-11-01\",\"1967-12-01\",\"1968-01-01\",\"1968-02-01\",\"1968-03-01\",\"1968-04-01\",\"1968-05-01\",\"1968-06-01\",\"1968-07-01\",\"1968-08-01\",\"1968-09-01\",\"1968-10-01\",\"1968-11-01\",\"1968-12-01\",\"1969-01-01\",\"1969-02-01\",\"1969-03-01\",\"1969-04-01\",\"1969-05-01\",\"1969-06-01\",\"1969-07-01\",\"1969-08-01\",\"1969-09-01\",\"1969-10-01\",\"1969-11-01\",\"1969-12-01\",\"1970-01-01\",\"1970-02-01\",\"1970-03-01\",\"1970-04-01\",\"1970-05-01\",\"1970-06-01\",\"1970-07-01\",\"1970-08-01\",\"1970-09-01\",\"1970-10-01\",\"1970-11-01\",\"1970-12-01\",\"1971-01-01\",\"1971-02-01\",\"1971-03-01\",\"1971-04-01\",\"1971-05-01\",\"1971-06-01\",\"1971-07-01\",\"1971-08-01\",\"1971-09-01\",\"1971-10-01\",\"1971-11-01\",\"1971-12-01\",\"1972-01-01\",\"1972-02-01\",\"1972-03-01\",\"1972-04-01\",\"1972-05-01\",\"1972-06-01\",\"1972-07-01\",\"1972-08-01\",\"1972-09-01\",\"1972-10-01\",\"1972-11-01\",\"1972-12-01\",\"1973-01-01\",\"1973-02-01\",\"1973-03-01\",\"1973-04-01\",\"1973-05-01\",\"1973-06-01\",\"1973-07-01\",\"1973-08-01\",\"1973-09-01\",\"1973-10-01\",\"1973-11-01\",\"1973-12-01\",\"1974-01-01\",\"1974-02-01\",\"1974-03-01\",\"1974-04-01\",\"1974-05-01\",\"1974-06-01\",\"1974-07-01\",\"1974-08-01\",\"1974-09-01\",\"1974-10-01\",\"1974-11-01\",\"1974-12-01\",\"1975-01-01\",\"1975-02-01\",\"1975-03-01\",\"1975-04-01\",\"1975-05-01\",\"1975-06-01\",\"1975-07-01\",\"1975-08-01\",\"1975-09-01\",\"1975-10-01\",\"1975-11-01\",\"1975-12-01\",\"1976-01-01\",\"1976-02-01\",\"1976-03-01\",\"1976-04-01\",\"1976-05-01\",\"1976-06-01\",\"1976-07-01\",\"1976-08-01\",\"1976-09-01\",\"1976-10-01\",\"1976-11-01\",\"1976-12-01\",\"1977-01-01\",\"1977-02-01\",\"1977-03-01\",\"1977-04-01\",\"1977-05-01\",\"1977-06-01\",\"1977-07-01\",\"1977-08-01\",\"1977-09-01\",\"1977-10-01\",\"1977-11-01\",\"1977-12-01\",\"1978-01-01\",\"1978-02-01\",\"1978-03-01\",\"1978-04-01\",\"1978-05-01\",\"1978-06-01\",\"1978-07-01\",\"1978-08-01\",\"1978-09-01\",\"1978-10-01\",\"1978-11-01\",\"1978-12-01\",\"1979-01-01\",\"1979-02-01\",\"1979-03-01\",\"1979-04-01\",\"1979-05-01\",\"1979-06-01\",\"1979-07-01\",\"1979-08-01\",\"1979-09-01\",\"1979-10-01\",\"1979-11-01\",\"1979-12-01\",\"1980-01-01\",\"1980-02-01\",\"1980-03-01\",\"1980-04-01\",\"1980-05-01\",\"1980-06-01\",\"1980-07-01\",\"1980-08-01\",\"1980-09-01\",\"1980-10-01\",\"1980-11-01\",\"1980-12-01\",\"1981-01-01\",\"1981-02-01\",\"1981-03-01\",\"1981-04-01\",\"1981-05-01\",\"1981-06-01\",\"1981-07-01\",\"1981-08-01\",\"1981-09-01\",\"1981-10-01\",\"1981-11-01\",\"1981-12-01\",\"1982-01-01\",\"1982-02-01\",\"1982-03-01\",\"1982-04-01\",\"1982-05-01\",\"1982-06-01\",\"1982-07-01\",\"1982-08-01\",\"1982-09-01\",\"1982-10-01\",\"1982-11-01\",\"1982-12-01\",\"1983-01-01\",\"1983-02-01\",\"1983-03-01\",\"1983-04-01\",\"1983-05-01\",\"1983-06-01\",\"1983-07-01\",\"1983-08-01\",\"1983-09-01\",\"1983-10-01\",\"1983-11-01\",\"1983-12-01\",\"1984-01-01\",\"1984-02-01\",\"1984-03-01\",\"1984-04-01\",\"1984-05-01\",\"1984-06-01\",\"1984-07-01\",\"1984-08-01\",\"1984-09-01\",\"1984-10-01\",\"1984-11-01\",\"1984-12-01\",\"1985-01-01\",\"1985-02-01\",\"1985-03-01\",\"1985-04-01\",\"1985-05-01\",\"1985-06-01\",\"1985-07-01\",\"1985-08-01\",\"1985-09-01\",\"1985-10-01\",\"1985-11-01\",\"1985-12-01\",\"1986-01-01\",\"1986-02-01\",\"1986-03-01\",\"1986-04-01\",\"1986-05-01\",\"1986-06-01\",\"1986-07-01\",\"1986-08-01\",\"1986-09-01\",\"1986-10-01\",\"1986-11-01\",\"1986-12-01\",\"1987-01-01\",\"1987-02-01\",\"1987-03-01\",\"1987-04-01\",\"1987-05-01\",\"1987-06-01\",\"1987-07-01\",\"1987-08-01\",\"1987-09-01\",\"1987-10-01\",\"1987-11-01\",\"1987-12-01\",\"1988-01-01\",\"1988-02-01\",\"1988-03-01\",\"1988-04-01\",\"1988-05-01\",\"1988-06-01\",\"1988-07-01\",\"1988-08-01\",\"1988-09-01\",\"1988-10-01\",\"1988-11-01\",\"1988-12-01\",\"1989-01-01\",\"1989-02-01\",\"1989-03-01\",\"1989-04-01\",\"1989-05-01\",\"1989-06-01\",\"1989-07-01\",\"1989-08-01\",\"1989-09-01\",\"1989-10-01\",\"1989-11-01\",\"1989-12-01\",\"1990-01-01\",\"1990-02-01\",\"1990-03-01\",\"1990-04-01\",\"1990-05-01\",\"1990-06-01\",\"1990-07-01\",\"1990-08-01\",\"1990-09-01\",\"1990-10-01\",\"1990-11-01\",\"1990-12-01\",\"1991-01-01\",\"1991-02-01\",\"1991-03-01\",\"1991-04-01\",\"1991-05-01\",\"1991-06-01\",\"1991-07-01\",\"1991-08-01\",\"1991-09-01\",\"1991-10-01\",\"1991-11-01\",\"1991-12-01\",\"1992-01-01\",\"1992-02-01\",\"1992-03-01\",\"1992-04-01\",\"1992-05-01\",\"1992-06-01\",\"1992-07-01\",\"1992-08-01\",\"1992-09-01\",\"1992-10-01\",\"1992-11-01\",\"1992-12-01\",\"1993-01-01\",\"1993-02-01\",\"1993-03-01\",\"1993-04-01\",\"1993-05-01\",\"1993-06-01\",\"1993-07-01\",\"1993-08-01\",\"1993-09-01\",\"1993-10-01\",\"1993-11-01\",\"1993-12-01\",\"1994-01-01\",\"1994-02-01\",\"1994-03-01\",\"1994-04-01\",\"1994-05-01\",\"1994-06-01\",\"1994-07-01\",\"1994-08-01\",\"1994-09-01\",\"1994-10-01\",\"1994-11-01\",\"1994-12-01\",\"1995-01-01\",\"1995-02-01\",\"1995-03-01\",\"1995-04-01\",\"1995-05-01\",\"1995-06-01\",\"1995-07-01\",\"1995-08-01\",\"1995-09-01\",\"1995-10-01\",\"1995-11-01\",\"1995-12-01\",\"1996-01-01\",\"1996-02-01\",\"1996-03-01\",\"1996-04-01\",\"1996-05-01\",\"1996-06-01\",\"1996-07-01\",\"1996-08-01\",\"1996-09-01\",\"1996-10-01\",\"1996-11-01\",\"1996-12-01\",\"1997-01-01\",\"1997-02-01\",\"1997-03-01\",\"1997-04-01\",\"1997-05-01\",\"1997-06-01\",\"1997-07-01\",\"1997-08-01\",\"1997-09-01\",\"1997-10-01\",\"1997-11-01\",\"1997-12-01\",\"1998-01-01\",\"1998-02-01\",\"1998-03-01\",\"1998-04-01\",\"1998-05-01\",\"1998-06-01\",\"1998-07-01\",\"1998-08-01\",\"1998-09-01\",\"1998-10-01\",\"1998-11-01\",\"1998-12-01\",\"1999-01-01\",\"1999-02-01\",\"1999-03-01\",\"1999-04-01\",\"1999-05-01\",\"1999-06-01\",\"1999-07-01\",\"1999-08-01\",\"1999-09-01\",\"1999-10-01\",\"1999-11-01\",\"1999-12-01\",\"2000-01-01\",\"2000-02-01\",\"2000-03-01\",\"2000-04-01\",\"2000-05-01\",\"2000-06-01\",\"2000-07-01\",\"2000-08-01\",\"2000-09-01\",\"2000-10-01\",\"2000-11-01\",\"2000-12-01\",\"2001-01-01\",\"2001-02-01\",\"2001-03-01\",\"2001-04-01\",\"2001-05-01\",\"2001-06-01\",\"2001-07-01\",\"2001-08-01\",\"2001-09-01\",\"2001-10-01\",\"2001-11-01\",\"2001-12-01\",\"2002-01-01\",\"2002-02-01\",\"2002-03-01\",\"2002-04-01\",\"2002-05-01\",\"2002-06-01\",\"2002-07-01\",\"2002-08-01\",\"2002-09-01\",\"2002-10-01\",\"2002-11-01\",\"2002-12-01\",\"2003-01-01\",\"2003-02-01\",\"2003-03-01\",\"2003-04-01\",\"2003-05-01\",\"2003-06-01\",\"2003-07-01\",\"2003-08-01\",\"2003-09-01\",\"2003-10-01\",\"2003-11-01\",\"2003-12-01\",\"2004-01-01\",\"2004-02-01\",\"2004-03-01\",\"2004-04-01\",\"2004-05-01\",\"2004-06-01\",\"2004-07-01\",\"2004-08-01\",\"2004-09-01\",\"2004-10-01\",\"2004-11-01\",\"2004-12-01\",\"2005-01-01\",\"2005-02-01\",\"2005-03-01\",\"2005-04-01\",\"2005-05-01\",\"2005-06-01\",\"2005-07-01\",\"2005-08-01\",\"2005-09-01\",\"2005-10-01\",\"2005-11-01\",\"2005-12-01\",\"2006-01-01\",\"2006-02-01\",\"2006-03-01\",\"2006-04-01\",\"2006-05-01\",\"2006-06-01\",\"2006-07-01\",\"2006-08-01\",\"2006-09-01\",\"2006-10-01\",\"2006-11-01\",\"2006-12-01\",\"2007-01-01\",\"2007-02-01\",\"2007-03-01\",\"2007-04-01\",\"2007-05-01\",\"2007-06-01\",\"2007-07-01\",\"2007-08-01\",\"2007-09-01\",\"2007-10-01\",\"2007-11-01\",\"2007-12-01\",\"2008-01-01\",\"2008-02-01\",\"2008-03-01\",\"2008-04-01\",\"2008-05-01\",\"2008-06-01\",\"2008-07-01\",\"2008-08-01\",\"2008-09-01\",\"2008-10-01\",\"2008-11-01\",\"2008-12-01\",\"2009-01-01\",\"2009-02-01\",\"2009-03-01\",\"2009-04-01\",\"2009-05-01\",\"2009-06-01\",\"2009-07-01\",\"2009-08-01\",\"2009-09-01\",\"2009-10-01\",\"2009-11-01\",\"2009-12-01\",\"2010-01-01\",\"2010-02-01\",\"2010-03-01\",\"2010-04-01\",\"2010-05-01\",\"2010-06-01\",\"2010-07-01\",\"2010-08-01\",\"2010-09-01\",\"2010-10-01\",\"2010-11-01\",\"2010-12-01\",\"2011-01-01\",\"2011-02-01\",\"2011-03-01\",\"2011-04-01\",\"2011-05-01\",\"2011-06-01\",\"2011-07-01\",\"2011-08-01\",\"2011-09-01\",\"2011-10-01\",\"2011-11-01\",\"2011-12-01\",\"2012-01-01\",\"2012-02-01\",\"2012-03-01\",\"2012-04-01\",\"2012-05-01\",\"2012-06-01\",\"2012-07-01\",\"2012-08-01\",\"2012-09-01\",\"2012-10-01\",\"2012-11-01\",\"2012-12-01\",\"2013-01-01\",\"2013-02-01\",\"2013-03-01\",\"2013-04-01\",\"2013-05-01\",\"2013-06-01\",\"2013-07-01\",\"2013-08-01\",\"2013-09-01\",\"2013-10-01\",\"2013-11-01\",\"2013-12-01\",\"2014-01-01\",\"2014-02-01\",\"2014-03-01\",\"2014-04-01\",\"2014-05-01\",\"2014-06-01\",\"2014-07-01\",\"2014-08-01\",\"2014-09-01\",\"2014-10-01\",\"2014-11-01\",\"2014-12-01\",\"2015-01-01\",\"2015-02-01\",\"2015-03-01\",\"2015-04-01\"],\"xaxis\":\"x2\",\"y\":[198712.0,198911.0,199113.0,199311.0,199498.0,199657.0,199808.0,199920.0,200056.0,200208.0,200361.0,200536.0,200706.0,200898.0,201095.0,201290.0,201466.0,201621.0,201760.0,201881.0,202023.0,202161.0,202331.0,202507.0,202677.0,202877.0,203090.0,203302.0,203500.0,203675.0,203849.0,204008.0,204156.0,204401.0,204607.0,204830.0,205052.0,205295.0,205540.0,205788.0,206024.0,206238.0,206466.0,206668.0,206855.0,207065.0,207260.0,207462.0,207661.0,207881.0,208114.0,208345.0,208555.0,208740.0,208917.0,209061.0,209212.0,209386.0,209545.0,209725.0,209896.0,210075.0,210278.0,210479.0,210656.0,210821.0,210985.0,211120.0,211254.0,211420.0,211577.0,211746.0,211909.0,212092.0,212289.0,212475.0,212634.0,212785.0,212932.0,213074.0,213211.0,213361.0,213513.0,213686.0,213854.0,214042.0,214246.0,214451.0,214625.0,214782.0,214931.0,215065.0,215198.0,215353.0,215523.0,215768.0,215973.0,216195.0,216393.0,216587.0,216771.0,216931.0,217095.0,217249.0,217381.0,217528.0,217685.0,217861.0,218035.0,218233.0,218440.0,218644.0,218834.0,219006.0,219179.0,219344.0,219504.0,219684.0,219859.0,220046.0,220239.0,220458.0,220688.0,220904.0,221109.0,221303.0,221477.0,221629.0,221792.0,221991.0,222176.0,222379.0,222585.0,222805.0,223053.0,223271.0,223477.0,223670.0,223865.0,224053.0,224235.0,224438.0,224632.0,224843.0,225055.0,225295.0,225547.0,225801.0,226027.0,226243.0,226451.0,226656.0,226849.0,227061.0,227251.0,227522.0,227726.0,227953.0,228186.0,228417.0,228612.0,228779.0,228937.0,229071.0,229224.0,229403.0,229575.0,229761.0,229966.0,230187.0,230412.0,230641.0,230822.0,230989.0,231157.0,231313.0,231470.0,231645.0,231809.0,231992.0,232188.0,232392.0,232599.0,232816.0,232993.0,233160.0,233322.0,233473.0,233613.0,233781.0,233922.0,234118.0,234307.0,234501.0,234701.0,234907.0,235078.0,235235.0,235385.0,235527.0,235675.0,235839.0,235993.0,236160.0,236348.0,236549.0,236760.0,236976.0,237159.0,237316.0,237468.0,237602.0,237732.0,237900.0,238074.0,238270.0,238466.0,238679.0,238898.0,239113.0,239307.0,239477.0,239638.0,239788.0,239928.0,240094.0,240271.0,240459.0,240651.0,240854.0,241068.0,241274.0,241467.0,241620.0,241784.0,241930.0,242079.0,242252.0,242423.0,242608.0,242804.0,243012.0,243223.0,243446.0,243639.0,243809.0,243981.0,244131.0,244279.0,244445.0,244610.0,244806.0,245021.0,245240.0,245464.0,245693.0,245884.0,246056.0,246224.0,246378.0,246530.0,246721.0,246906.0,247114.0,247342.0,247573.0,247816.0,248067.0,248281.0,248479.0,248659.0,248827.0,249012.0,249306.0,249565.0,249849.0,250132.0,250439.0,250751.0,251057.0,251346.0,251626.0,251889.0,252135.0,252372.0,252643.0,252913.0,253207.0,253493.0,253807.0,254126.0,254435.0,254718.0,254964.0,255214.0,255448.0,255703.0,255992.0,256285.0,256589.0,256894.0,257232.0,257548.0,257861.0,258147.0,258413.0,258679.0,258919.0,259152.0,259414.0,259680.0,259963.0,260255.0,260566.0,260867.0,261163.0,261425.0,261674.0,261919.0,262123.0,262352.0,262631.0,262877.0,263152.0,263436.0,263724.0,264017.0,264301.0,264559.0,264804.0,265044.0,265270.0,265495.0,265755.0,265998.0,266270.0,266557.0,266843.0,267152.0,267456.0,267715.0,267943.0,268151.0,268364.0,268595.0,268853.0,269108.0,269386.0,269667.0,269976.0,270284.0,270581.0,270878.0,271125.0,271360.0,271585.0,271821.0,272083.0,272342.0,272622.0,272912.0,273237.0,273553.0,273852.0,274126.0,274372.0,274626.0,274838.0,275047.0,275304.0,275564.0,275836.0,276115.0,276418.0,276714.0,277003.0,277277.0,277526.0,277790.0,277992.0,278198.0,278451.0,278717.0,279001.0,279295.0,279602.0,279903.0,280203.0,280471.0,280716.0,280976.0,281190.0,281409.0,281653.0,281877.0,282126.0,282385.0,282653.0,282932.0,283201.0,283453.0,283696.0,283920.0,284137.0,284350.0,284581.0,284810.0,285062.0,285309.0,285570.0,285843.0,286098.0,286341.0,286570.0,286788.0,286994.0,287190.0,287397.0,287623.0,287864.0,288105.0,288360.0,288618.0,288870.0,289106.0,289313.0,289518.0,289714.0,289911.0,290125.0,290346.0,290584.0,290820.0,291072.0,291321.0,291574.0,291807.0,292008.0,292192.0,292368.0,292561.0,292779.0,292997.0,293223.0,293463.0,293719.0,293971.0,294230.0,294466.0,294694.0,294914.0,295105.0,295287.0,295490.0,295704.0,295936.0,296186.0,296440.0,296707.0,296972.0,297207.0,297431.0,297647.0,297854.0,298060.0,298281.0,298496.0,298739.0,298996.0,299263.0,299554.0,299835.0,300094.0,300340.0,300574.0,300802.0,301021.0,301254.0,301483.0,301739.0,302004.0,302267.0,302546.0,302807.0,303054.0,303287.0,303506.0,303711.0,303907.0,304117.0,304323.0,304556.0,304798.0,305045.0,305309.0,305554.0,305786.0,306004.0,306208.0,306402.0,306588.0,306787.0,306984.0,307206.0,307439.0,307685.0,307946.0,308189.0,308418.0,308633.0,308833.0,309027.0,309212.0,309191.211,309369.053,309548.502,309745.698,309957.775,310176.466,310399.958,310595.764,310781.705,310960.74,311113.376,311265.404,311436.238,311607.08,311791.223,311997.049,312205.367,312429.118,312644.159,312829.523,313009.712,313183.179,313338.977,313499.369,313667.127,313830.53,314017.594,314210.786,314422.341,314646.749,314853.978,315053.863,315232.752,315389.595,315520.143,315662.224,315817.855,315983.654,316171.042,316358.778,316580.327,316806.125,317022.27,317228.026,317411.551,317593.923,317753.883,317917.203,318089.218,318269.505,318464.152,318662.368,318893.786,319125.296,319353.734,319564.209,319746.157,319928.646,320074.511,320230.786,320402.295],\"yaxis\":\"y2\",\"type\":\"scatter\"},{\"line\":{\"color\":\"rgba(50, 171, 96, 1.0)\",\"dash\":\"solid\",\"shape\":\"linear\",\"width\":1.3},\"mode\":\"lines\",\"name\":\"psavert\",\"text\":\"\",\"x\":[\"1967-07-01\",\"1967-08-01\",\"1967-09-01\",\"1967-10-01\",\"1967-11-01\",\"1967-12-01\",\"1968-01-01\",\"1968-02-01\",\"1968-03-01\",\"1968-04-01\",\"1968-05-01\",\"1968-06-01\",\"1968-07-01\",\"1968-08-01\",\"1968-09-01\",\"1968-10-01\",\"1968-11-01\",\"1968-12-01\",\"1969-01-01\",\"1969-02-01\",\"1969-03-01\",\"1969-04-01\",\"1969-05-01\",\"1969-06-01\",\"1969-07-01\",\"1969-08-01\",\"1969-09-01\",\"1969-10-01\",\"1969-11-01\",\"1969-12-01\",\"1970-01-01\",\"1970-02-01\",\"1970-03-01\",\"1970-04-01\",\"1970-05-01\",\"1970-06-01\",\"1970-07-01\",\"1970-08-01\",\"1970-09-01\",\"1970-10-01\",\"1970-11-01\",\"1970-12-01\",\"1971-01-01\",\"1971-02-01\",\"1971-03-01\",\"1971-04-01\",\"1971-05-01\",\"1971-06-01\",\"1971-07-01\",\"1971-08-01\",\"1971-09-01\",\"1971-10-01\",\"1971-11-01\",\"1971-12-01\",\"1972-01-01\",\"1972-02-01\",\"1972-03-01\",\"1972-04-01\",\"1972-05-01\",\"1972-06-01\",\"1972-07-01\",\"1972-08-01\",\"1972-09-01\",\"1972-10-01\",\"1972-11-01\",\"1972-12-01\",\"1973-01-01\",\"1973-02-01\",\"1973-03-01\",\"1973-04-01\",\"1973-05-01\",\"1973-06-01\",\"1973-07-01\",\"1973-08-01\",\"1973-09-01\",\"1973-10-01\",\"1973-11-01\",\"1973-12-01\",\"1974-01-01\",\"1974-02-01\",\"1974-03-01\",\"1974-04-01\",\"1974-05-01\",\"1974-06-01\",\"1974-07-01\",\"1974-08-01\",\"1974-09-01\",\"1974-10-01\",\"1974-11-01\",\"1974-12-01\",\"1975-01-01\",\"1975-02-01\",\"1975-03-01\",\"1975-04-01\",\"1975-05-01\",\"1975-06-01\",\"1975-07-01\",\"1975-08-01\",\"1975-09-01\",\"1975-10-01\",\"1975-11-01\",\"1975-12-01\",\"1976-01-01\",\"1976-02-01\",\"1976-03-01\",\"1976-04-01\",\"1976-05-01\",\"1976-06-01\",\"1976-07-01\",\"1976-08-01\",\"1976-09-01\",\"1976-10-01\",\"1976-11-01\",\"1976-12-01\",\"1977-01-01\",\"1977-02-01\",\"1977-03-01\",\"1977-04-01\",\"1977-05-01\",\"1977-06-01\",\"1977-07-01\",\"1977-08-01\",\"1977-09-01\",\"1977-10-01\",\"1977-11-01\",\"1977-12-01\",\"1978-01-01\",\"1978-02-01\",\"1978-03-01\",\"1978-04-01\",\"1978-05-01\",\"1978-06-01\",\"1978-07-01\",\"1978-08-01\",\"1978-09-01\",\"1978-10-01\",\"1978-11-01\",\"1978-12-01\",\"1979-01-01\",\"1979-02-01\",\"1979-03-01\",\"1979-04-01\",\"1979-05-01\",\"1979-06-01\",\"1979-07-01\",\"1979-08-01\",\"1979-09-01\",\"1979-10-01\",\"1979-11-01\",\"1979-12-01\",\"1980-01-01\",\"1980-02-01\",\"1980-03-01\",\"1980-04-01\",\"1980-05-01\",\"1980-06-01\",\"1980-07-01\",\"1980-08-01\",\"1980-09-01\",\"1980-10-01\",\"1980-11-01\",\"1980-12-01\",\"1981-01-01\",\"1981-02-01\",\"1981-03-01\",\"1981-04-01\",\"1981-05-01\",\"1981-06-01\",\"1981-07-01\",\"1981-08-01\",\"1981-09-01\",\"1981-10-01\",\"1981-11-01\",\"1981-12-01\",\"1982-01-01\",\"1982-02-01\",\"1982-03-01\",\"1982-04-01\",\"1982-05-01\",\"1982-06-01\",\"1982-07-01\",\"1982-08-01\",\"1982-09-01\",\"1982-10-01\",\"1982-11-01\",\"1982-12-01\",\"1983-01-01\",\"1983-02-01\",\"1983-03-01\",\"1983-04-01\",\"1983-05-01\",\"1983-06-01\",\"1983-07-01\",\"1983-08-01\",\"1983-09-01\",\"1983-10-01\",\"1983-11-01\",\"1983-12-01\",\"1984-01-01\",\"1984-02-01\",\"1984-03-01\",\"1984-04-01\",\"1984-05-01\",\"1984-06-01\",\"1984-07-01\",\"1984-08-01\",\"1984-09-01\",\"1984-10-01\",\"1984-11-01\",\"1984-12-01\",\"1985-01-01\",\"1985-02-01\",\"1985-03-01\",\"1985-04-01\",\"1985-05-01\",\"1985-06-01\",\"1985-07-01\",\"1985-08-01\",\"1985-09-01\",\"1985-10-01\",\"1985-11-01\",\"1985-12-01\",\"1986-01-01\",\"1986-02-01\",\"1986-03-01\",\"1986-04-01\",\"1986-05-01\",\"1986-06-01\",\"1986-07-01\",\"1986-08-01\",\"1986-09-01\",\"1986-10-01\",\"1986-11-01\",\"1986-12-01\",\"1987-01-01\",\"1987-02-01\",\"1987-03-01\",\"1987-04-01\",\"1987-05-01\",\"1987-06-01\",\"1987-07-01\",\"1987-08-01\",\"1987-09-01\",\"1987-10-01\",\"1987-11-01\",\"1987-12-01\",\"1988-01-01\",\"1988-02-01\",\"1988-03-01\",\"1988-04-01\",\"1988-05-01\",\"1988-06-01\",\"1988-07-01\",\"1988-08-01\",\"1988-09-01\",\"1988-10-01\",\"1988-11-01\",\"1988-12-01\",\"1989-01-01\",\"1989-02-01\",\"1989-03-01\",\"1989-04-01\",\"1989-05-01\",\"1989-06-01\",\"1989-07-01\",\"1989-08-01\",\"1989-09-01\",\"1989-10-01\",\"1989-11-01\",\"1989-12-01\",\"1990-01-01\",\"1990-02-01\",\"1990-03-01\",\"1990-04-01\",\"1990-05-01\",\"1990-06-01\",\"1990-07-01\",\"1990-08-01\",\"1990-09-01\",\"1990-10-01\",\"1990-11-01\",\"1990-12-01\",\"1991-01-01\",\"1991-02-01\",\"1991-03-01\",\"1991-04-01\",\"1991-05-01\",\"1991-06-01\",\"1991-07-01\",\"1991-08-01\",\"1991-09-01\",\"1991-10-01\",\"1991-11-01\",\"1991-12-01\",\"1992-01-01\",\"1992-02-01\",\"1992-03-01\",\"1992-04-01\",\"1992-05-01\",\"1992-06-01\",\"1992-07-01\",\"1992-08-01\",\"1992-09-01\",\"1992-10-01\",\"1992-11-01\",\"1992-12-01\",\"1993-01-01\",\"1993-02-01\",\"1993-03-01\",\"1993-04-01\",\"1993-05-01\",\"1993-06-01\",\"1993-07-01\",\"1993-08-01\",\"1993-09-01\",\"1993-10-01\",\"1993-11-01\",\"1993-12-01\",\"1994-01-01\",\"1994-02-01\",\"1994-03-01\",\"1994-04-01\",\"1994-05-01\",\"1994-06-01\",\"1994-07-01\",\"1994-08-01\",\"1994-09-01\",\"1994-10-01\",\"1994-11-01\",\"1994-12-01\",\"1995-01-01\",\"1995-02-01\",\"1995-03-01\",\"1995-04-01\",\"1995-05-01\",\"1995-06-01\",\"1995-07-01\",\"1995-08-01\",\"1995-09-01\",\"1995-10-01\",\"1995-11-01\",\"1995-12-01\",\"1996-01-01\",\"1996-02-01\",\"1996-03-01\",\"1996-04-01\",\"1996-05-01\",\"1996-06-01\",\"1996-07-01\",\"1996-08-01\",\"1996-09-01\",\"1996-10-01\",\"1996-11-01\",\"1996-12-01\",\"1997-01-01\",\"1997-02-01\",\"1997-03-01\",\"1997-04-01\",\"1997-05-01\",\"1997-06-01\",\"1997-07-01\",\"1997-08-01\",\"1997-09-01\",\"1997-10-01\",\"1997-11-01\",\"1997-12-01\",\"1998-01-01\",\"1998-02-01\",\"1998-03-01\",\"1998-04-01\",\"1998-05-01\",\"1998-06-01\",\"1998-07-01\",\"1998-08-01\",\"1998-09-01\",\"1998-10-01\",\"1998-11-01\",\"1998-12-01\",\"1999-01-01\",\"1999-02-01\",\"1999-03-01\",\"1999-04-01\",\"1999-05-01\",\"1999-06-01\",\"1999-07-01\",\"1999-08-01\",\"1999-09-01\",\"1999-10-01\",\"1999-11-01\",\"1999-12-01\",\"2000-01-01\",\"2000-02-01\",\"2000-03-01\",\"2000-04-01\",\"2000-05-01\",\"2000-06-01\",\"2000-07-01\",\"2000-08-01\",\"2000-09-01\",\"2000-10-01\",\"2000-11-01\",\"2000-12-01\",\"2001-01-01\",\"2001-02-01\",\"2001-03-01\",\"2001-04-01\",\"2001-05-01\",\"2001-06-01\",\"2001-07-01\",\"2001-08-01\",\"2001-09-01\",\"2001-10-01\",\"2001-11-01\",\"2001-12-01\",\"2002-01-01\",\"2002-02-01\",\"2002-03-01\",\"2002-04-01\",\"2002-05-01\",\"2002-06-01\",\"2002-07-01\",\"2002-08-01\",\"2002-09-01\",\"2002-10-01\",\"2002-11-01\",\"2002-12-01\",\"2003-01-01\",\"2003-02-01\",\"2003-03-01\",\"2003-04-01\",\"2003-05-01\",\"2003-06-01\",\"2003-07-01\",\"2003-08-01\",\"2003-09-01\",\"2003-10-01\",\"2003-11-01\",\"2003-12-01\",\"2004-01-01\",\"2004-02-01\",\"2004-03-01\",\"2004-04-01\",\"2004-05-01\",\"2004-06-01\",\"2004-07-01\",\"2004-08-01\",\"2004-09-01\",\"2004-10-01\",\"2004-11-01\",\"2004-12-01\",\"2005-01-01\",\"2005-02-01\",\"2005-03-01\",\"2005-04-01\",\"2005-05-01\",\"2005-06-01\",\"2005-07-01\",\"2005-08-01\",\"2005-09-01\",\"2005-10-01\",\"2005-11-01\",\"2005-12-01\",\"2006-01-01\",\"2006-02-01\",\"2006-03-01\",\"2006-04-01\",\"2006-05-01\",\"2006-06-01\",\"2006-07-01\",\"2006-08-01\",\"2006-09-01\",\"2006-10-01\",\"2006-11-01\",\"2006-12-01\",\"2007-01-01\",\"2007-02-01\",\"2007-03-01\",\"2007-04-01\",\"2007-05-01\",\"2007-06-01\",\"2007-07-01\",\"2007-08-01\",\"2007-09-01\",\"2007-10-01\",\"2007-11-01\",\"2007-12-01\",\"2008-01-01\",\"2008-02-01\",\"2008-03-01\",\"2008-04-01\",\"2008-05-01\",\"2008-06-01\",\"2008-07-01\",\"2008-08-01\",\"2008-09-01\",\"2008-10-01\",\"2008-11-01\",\"2008-12-01\",\"2009-01-01\",\"2009-02-01\",\"2009-03-01\",\"2009-04-01\",\"2009-05-01\",\"2009-06-01\",\"2009-07-01\",\"2009-08-01\",\"2009-09-01\",\"2009-10-01\",\"2009-11-01\",\"2009-12-01\",\"2010-01-01\",\"2010-02-01\",\"2010-03-01\",\"2010-04-01\",\"2010-05-01\",\"2010-06-01\",\"2010-07-01\",\"2010-08-01\",\"2010-09-01\",\"2010-10-01\",\"2010-11-01\",\"2010-12-01\",\"2011-01-01\",\"2011-02-01\",\"2011-03-01\",\"2011-04-01\",\"2011-05-01\",\"2011-06-01\",\"2011-07-01\",\"2011-08-01\",\"2011-09-01\",\"2011-10-01\",\"2011-11-01\",\"2011-12-01\",\"2012-01-01\",\"2012-02-01\",\"2012-03-01\",\"2012-04-01\",\"2012-05-01\",\"2012-06-01\",\"2012-07-01\",\"2012-08-01\",\"2012-09-01\",\"2012-10-01\",\"2012-11-01\",\"2012-12-01\",\"2013-01-01\",\"2013-02-01\",\"2013-03-01\",\"2013-04-01\",\"2013-05-01\",\"2013-06-01\",\"2013-07-01\",\"2013-08-01\",\"2013-09-01\",\"2013-10-01\",\"2013-11-01\",\"2013-12-01\",\"2014-01-01\",\"2014-02-01\",\"2014-03-01\",\"2014-04-01\",\"2014-05-01\",\"2014-06-01\",\"2014-07-01\",\"2014-08-01\",\"2014-09-01\",\"2014-10-01\",\"2014-11-01\",\"2014-12-01\",\"2015-01-01\",\"2015-02-01\",\"2015-03-01\",\"2015-04-01\"],\"xaxis\":\"x3\",\"y\":[12.6,12.6,11.9,12.9,12.8,11.8,11.7,12.3,11.7,12.3,12.0,11.7,10.7,10.5,10.6,10.8,10.6,11.1,10.3,9.7,10.2,9.7,10.1,11.1,11.8,11.5,11.6,11.4,11.6,11.8,11.8,11.7,12.4,13.3,12.4,12.3,13.5,13.4,12.9,13.1,13.6,13.2,13.3,13.3,13.5,13.2,13.6,14.7,13.8,13.6,13.3,13.3,13.1,13.0,12.5,12.8,11.8,11.5,11.7,11.7,11.7,12.0,12.2,13.0,13.6,13.7,12.4,12.5,12.7,13.2,13.2,13.6,13.2,13.9,13.1,14.4,14.4,14.8,14.3,14.2,13.4,13.1,12.8,12.8,12.8,12.1,12.9,13.4,13.8,14.0,13.2,12.5,12.7,14.2,17.3,14.3,12.6,13.0,13.0,13.4,12.7,12.0,11.7,12.3,12.2,11.7,12.3,11.4,11.7,11.7,11.4,11.1,11.4,10.6,10.6,9.3,10.5,10.5,10.3,10.6,10.5,10.9,11.1,11.0,11.2,11.4,11.9,11.1,11.0,10.8,10.3,10.0,10.9,10.5,10.6,10.7,10.5,10.4,11.1,11.1,11.2,11.0,10.3,9.9,10.6,9.7,9.4,9.7,9.7,10.1,9.9,10.1,10.2,11.3,11.4,11.2,11.3,11.3,11.7,11.3,11.6,11.4,10.9,10.8,10.8,10.9,11.0,10.8,12.3,12.0,12.4,13.0,13.2,12.5,12.7,12.1,12.2,12.9,12.3,12.3,12.5,12.6,11.8,11.3,10.9,10.9,11.1,11.1,10.6,10.3,9.9,9.1,9.6,9.2,9.6,9.7,10.3,10.1,10.0,11.7,11.5,11.5,11.1,11.1,11.6,11.8,11.8,11.7,10.9,11.2,10.3,9.1,8.7,9.9,11.1,9.6,9.1,8.2,7.3,9.1,9.0,8.6,8.6,9.3,9.9,9.7,9.3,9.4,9.3,9.0,7.2,8.4,8.8,7.0,9.7,8.5,8.5,4.5,8.2,7.7,7.5,7.2,7.6,8.3,8.5,8.7,8.1,8.6,8.2,8.8,8.4,8.4,8.6,8.4,8.9,8.6,8.4,8.3,8.5,9.0,9.5,8.4,8.1,8.2,8.2,7.6,8.1,8.5,8.6,7.8,8.0,8.6,8.3,8.8,8.7,8.6,8.7,8.1,8.1,7.8,7.9,8.8,9.3,8.8,8.0,8.6,8.4,8.9,8.2,8.6,8.8,9.3,9.0,9.7,9.4,9.8,9.7,9.9,9.9,10.1,9.6,9.7,8.7,8.0,8.0,10.6,8.6,8.9,8.9,8.7,8.3,7.8,7.6,7.7,6.9,6.3,6.3,9.1,7.1,6.5,6.8,6.4,7.6,6.9,7.0,6.5,6.8,7.1,7.0,7.2,7.5,7.8,7.5,6.9,7.1,6.7,7.1,6.7,6.8,7.1,6.6,6.1,6.7,6.7,6.6,5.7,6.7,7.1,6.7,6.6,6.7,6.4,6.4,6.4,6.2,6.2,6.4,6.5,6.8,6.6,6.1,6.0,6.2,6.2,6.4,6.4,7.4,7.4,7.5,7.2,6.9,6.8,6.9,6.8,6.4,6.2,6.3,5.8,6.4,6.2,5.9,5.2,4.9,4.8,4.8,4.7,4.2,4.6,4.8,4.4,5.4,4.8,4.5,5.0,4.9,4.9,5.2,5.2,4.5,4.6,4.5,4.2,4.8,4.9,5.3,5.0,4.5,4.5,5.6,6.8,7.0,3.4,4.1,4.5,6.1,5.8,5.9,5.8,6.5,6.4,5.5,5.4,5.7,5.7,5.7,5.5,5.5,5.6,5.3,5.3,5.8,5.6,6.3,6.0,5.2,5.3,5.4,5.4,5.0,5.0,4.9,5.3,5.3,5.8,5.3,5.2,4.6,4.5,4.1,6.9,3.7,3.4,3.6,3.1,3.5,2.9,2.2,2.7,2.7,3.1,3.5,3.7,4.2,4.2,4.2,4.0,3.8,4.0,3.4,3.6,3.6,3.6,3.9,3.7,3.7,4.1,4.4,4.2,4.0,3.8,3.7,3.4,3.5,3.4,3.1,3.6,3.7,4.1,4.0,3.4,7.8,5.5,4.4,3.8,4.7,5.5,6.4,6.4,6.2,5.5,5.9,6.8,8.2,6.7,6.0,4.9,5.9,5.4,5.9,5.9,6.1,5.8,5.7,6.4,7.0,6.9,6.8,6.9,6.7,6.6,6.6,7.1,7.4,7.6,7.0,6.9,6.9,7.2,7.3,7.2,6.8,6.8,7.0,7.8,8.0,8.0,8.5,8.7,8.8,9.1,8.2,8.0,8.2,8.8,9.7,12.0,6.3,5.8,5.9,6.4,6.7,6.8,6.6,6.7,6.8,6.3,6.2,6.4,7.1,7.3,7.4,7.4,7.4,7.4,7.5,7.2,7.4,7.2,7.3,7.6,7.7,7.9,7.4,7.6],\"yaxis\":\"y3\",\"type\":\"scatter\"},{\"line\":{\"color\":\"rgba(128, 0, 128, 1.0)\",\"dash\":\"solid\",\"shape\":\"linear\",\"width\":1.3},\"mode\":\"lines\",\"name\":\"uempmed\",\"text\":\"\",\"x\":[\"1967-07-01\",\"1967-08-01\",\"1967-09-01\",\"1967-10-01\",\"1967-11-01\",\"1967-12-01\",\"1968-01-01\",\"1968-02-01\",\"1968-03-01\",\"1968-04-01\",\"1968-05-01\",\"1968-06-01\",\"1968-07-01\",\"1968-08-01\",\"1968-09-01\",\"1968-10-01\",\"1968-11-01\",\"1968-12-01\",\"1969-01-01\",\"1969-02-01\",\"1969-03-01\",\"1969-04-01\",\"1969-05-01\",\"1969-06-01\",\"1969-07-01\",\"1969-08-01\",\"1969-09-01\",\"1969-10-01\",\"1969-11-01\",\"1969-12-01\",\"1970-01-01\",\"1970-02-01\",\"1970-03-01\",\"1970-04-01\",\"1970-05-01\",\"1970-06-01\",\"1970-07-01\",\"1970-08-01\",\"1970-09-01\",\"1970-10-01\",\"1970-11-01\",\"1970-12-01\",\"1971-01-01\",\"1971-02-01\",\"1971-03-01\",\"1971-04-01\",\"1971-05-01\",\"1971-06-01\",\"1971-07-01\",\"1971-08-01\",\"1971-09-01\",\"1971-10-01\",\"1971-11-01\",\"1971-12-01\",\"1972-01-01\",\"1972-02-01\",\"1972-03-01\",\"1972-04-01\",\"1972-05-01\",\"1972-06-01\",\"1972-07-01\",\"1972-08-01\",\"1972-09-01\",\"1972-10-01\",\"1972-11-01\",\"1972-12-01\",\"1973-01-01\",\"1973-02-01\",\"1973-03-01\",\"1973-04-01\",\"1973-05-01\",\"1973-06-01\",\"1973-07-01\",\"1973-08-01\",\"1973-09-01\",\"1973-10-01\",\"1973-11-01\",\"1973-12-01\",\"1974-01-01\",\"1974-02-01\",\"1974-03-01\",\"1974-04-01\",\"1974-05-01\",\"1974-06-01\",\"1974-07-01\",\"1974-08-01\",\"1974-09-01\",\"1974-10-01\",\"1974-11-01\",\"1974-12-01\",\"1975-01-01\",\"1975-02-01\",\"1975-03-01\",\"1975-04-01\",\"1975-05-01\",\"1975-06-01\",\"1975-07-01\",\"1975-08-01\",\"1975-09-01\",\"1975-10-01\",\"1975-11-01\",\"1975-12-01\",\"1976-01-01\",\"1976-02-01\",\"1976-03-01\",\"1976-04-01\",\"1976-05-01\",\"1976-06-01\",\"1976-07-01\",\"1976-08-01\",\"1976-09-01\",\"1976-10-01\",\"1976-11-01\",\"1976-12-01\",\"1977-01-01\",\"1977-02-01\",\"1977-03-01\",\"1977-04-01\",\"1977-05-01\",\"1977-06-01\",\"1977-07-01\",\"1977-08-01\",\"1977-09-01\",\"1977-10-01\",\"1977-11-01\",\"1977-12-01\",\"1978-01-01\",\"1978-02-01\",\"1978-03-01\",\"1978-04-01\",\"1978-05-01\",\"1978-06-01\",\"1978-07-01\",\"1978-08-01\",\"1978-09-01\",\"1978-10-01\",\"1978-11-01\",\"1978-12-01\",\"1979-01-01\",\"1979-02-01\",\"1979-03-01\",\"1979-04-01\",\"1979-05-01\",\"1979-06-01\",\"1979-07-01\",\"1979-08-01\",\"1979-09-01\",\"1979-10-01\",\"1979-11-01\",\"1979-12-01\",\"1980-01-01\",\"1980-02-01\",\"1980-03-01\",\"1980-04-01\",\"1980-05-01\",\"1980-06-01\",\"1980-07-01\",\"1980-08-01\",\"1980-09-01\",\"1980-10-01\",\"1980-11-01\",\"1980-12-01\",\"1981-01-01\",\"1981-02-01\",\"1981-03-01\",\"1981-04-01\",\"1981-05-01\",\"1981-06-01\",\"1981-07-01\",\"1981-08-01\",\"1981-09-01\",\"1981-10-01\",\"1981-11-01\",\"1981-12-01\",\"1982-01-01\",\"1982-02-01\",\"1982-03-01\",\"1982-04-01\",\"1982-05-01\",\"1982-06-01\",\"1982-07-01\",\"1982-08-01\",\"1982-09-01\",\"1982-10-01\",\"1982-11-01\",\"1982-12-01\",\"1983-01-01\",\"1983-02-01\",\"1983-03-01\",\"1983-04-01\",\"1983-05-01\",\"1983-06-01\",\"1983-07-01\",\"1983-08-01\",\"1983-09-01\",\"1983-10-01\",\"1983-11-01\",\"1983-12-01\",\"1984-01-01\",\"1984-02-01\",\"1984-03-01\",\"1984-04-01\",\"1984-05-01\",\"1984-06-01\",\"1984-07-01\",\"1984-08-01\",\"1984-09-01\",\"1984-10-01\",\"1984-11-01\",\"1984-12-01\",\"1985-01-01\",\"1985-02-01\",\"1985-03-01\",\"1985-04-01\",\"1985-05-01\",\"1985-06-01\",\"1985-07-01\",\"1985-08-01\",\"1985-09-01\",\"1985-10-01\",\"1985-11-01\",\"1985-12-01\",\"1986-01-01\",\"1986-02-01\",\"1986-03-01\",\"1986-04-01\",\"1986-05-01\",\"1986-06-01\",\"1986-07-01\",\"1986-08-01\",\"1986-09-01\",\"1986-10-01\",\"1986-11-01\",\"1986-12-01\",\"1987-01-01\",\"1987-02-01\",\"1987-03-01\",\"1987-04-01\",\"1987-05-01\",\"1987-06-01\",\"1987-07-01\",\"1987-08-01\",\"1987-09-01\",\"1987-10-01\",\"1987-11-01\",\"1987-12-01\",\"1988-01-01\",\"1988-02-01\",\"1988-03-01\",\"1988-04-01\",\"1988-05-01\",\"1988-06-01\",\"1988-07-01\",\"1988-08-01\",\"1988-09-01\",\"1988-10-01\",\"1988-11-01\",\"1988-12-01\",\"1989-01-01\",\"1989-02-01\",\"1989-03-01\",\"1989-04-01\",\"1989-05-01\",\"1989-06-01\",\"1989-07-01\",\"1989-08-01\",\"1989-09-01\",\"1989-10-01\",\"1989-11-01\",\"1989-12-01\",\"1990-01-01\",\"1990-02-01\",\"1990-03-01\",\"1990-04-01\",\"1990-05-01\",\"1990-06-01\",\"1990-07-01\",\"1990-08-01\",\"1990-09-01\",\"1990-10-01\",\"1990-11-01\",\"1990-12-01\",\"1991-01-01\",\"1991-02-01\",\"1991-03-01\",\"1991-04-01\",\"1991-05-01\",\"1991-06-01\",\"1991-07-01\",\"1991-08-01\",\"1991-09-01\",\"1991-10-01\",\"1991-11-01\",\"1991-12-01\",\"1992-01-01\",\"1992-02-01\",\"1992-03-01\",\"1992-04-01\",\"1992-05-01\",\"1992-06-01\",\"1992-07-01\",\"1992-08-01\",\"1992-09-01\",\"1992-10-01\",\"1992-11-01\",\"1992-12-01\",\"1993-01-01\",\"1993-02-01\",\"1993-03-01\",\"1993-04-01\",\"1993-05-01\",\"1993-06-01\",\"1993-07-01\",\"1993-08-01\",\"1993-09-01\",\"1993-10-01\",\"1993-11-01\",\"1993-12-01\",\"1994-01-01\",\"1994-02-01\",\"1994-03-01\",\"1994-04-01\",\"1994-05-01\",\"1994-06-01\",\"1994-07-01\",\"1994-08-01\",\"1994-09-01\",\"1994-10-01\",\"1994-11-01\",\"1994-12-01\",\"1995-01-01\",\"1995-02-01\",\"1995-03-01\",\"1995-04-01\",\"1995-05-01\",\"1995-06-01\",\"1995-07-01\",\"1995-08-01\",\"1995-09-01\",\"1995-10-01\",\"1995-11-01\",\"1995-12-01\",\"1996-01-01\",\"1996-02-01\",\"1996-03-01\",\"1996-04-01\",\"1996-05-01\",\"1996-06-01\",\"1996-07-01\",\"1996-08-01\",\"1996-09-01\",\"1996-10-01\",\"1996-11-01\",\"1996-12-01\",\"1997-01-01\",\"1997-02-01\",\"1997-03-01\",\"1997-04-01\",\"1997-05-01\",\"1997-06-01\",\"1997-07-01\",\"1997-08-01\",\"1997-09-01\",\"1997-10-01\",\"1997-11-01\",\"1997-12-01\",\"1998-01-01\",\"1998-02-01\",\"1998-03-01\",\"1998-04-01\",\"1998-05-01\",\"1998-06-01\",\"1998-07-01\",\"1998-08-01\",\"1998-09-01\",\"1998-10-01\",\"1998-11-01\",\"1998-12-01\",\"1999-01-01\",\"1999-02-01\",\"1999-03-01\",\"1999-04-01\",\"1999-05-01\",\"1999-06-01\",\"1999-07-01\",\"1999-08-01\",\"1999-09-01\",\"1999-10-01\",\"1999-11-01\",\"1999-12-01\",\"2000-01-01\",\"2000-02-01\",\"2000-03-01\",\"2000-04-01\",\"2000-05-01\",\"2000-06-01\",\"2000-07-01\",\"2000-08-01\",\"2000-09-01\",\"2000-10-01\",\"2000-11-01\",\"2000-12-01\",\"2001-01-01\",\"2001-02-01\",\"2001-03-01\",\"2001-04-01\",\"2001-05-01\",\"2001-06-01\",\"2001-07-01\",\"2001-08-01\",\"2001-09-01\",\"2001-10-01\",\"2001-11-01\",\"2001-12-01\",\"2002-01-01\",\"2002-02-01\",\"2002-03-01\",\"2002-04-01\",\"2002-05-01\",\"2002-06-01\",\"2002-07-01\",\"2002-08-01\",\"2002-09-01\",\"2002-10-01\",\"2002-11-01\",\"2002-12-01\",\"2003-01-01\",\"2003-02-01\",\"2003-03-01\",\"2003-04-01\",\"2003-05-01\",\"2003-06-01\",\"2003-07-01\",\"2003-08-01\",\"2003-09-01\",\"2003-10-01\",\"2003-11-01\",\"2003-12-01\",\"2004-01-01\",\"2004-02-01\",\"2004-03-01\",\"2004-04-01\",\"2004-05-01\",\"2004-06-01\",\"2004-07-01\",\"2004-08-01\",\"2004-09-01\",\"2004-10-01\",\"2004-11-01\",\"2004-12-01\",\"2005-01-01\",\"2005-02-01\",\"2005-03-01\",\"2005-04-01\",\"2005-05-01\",\"2005-06-01\",\"2005-07-01\",\"2005-08-01\",\"2005-09-01\",\"2005-10-01\",\"2005-11-01\",\"2005-12-01\",\"2006-01-01\",\"2006-02-01\",\"2006-03-01\",\"2006-04-01\",\"2006-05-01\",\"2006-06-01\",\"2006-07-01\",\"2006-08-01\",\"2006-09-01\",\"2006-10-01\",\"2006-11-01\",\"2006-12-01\",\"2007-01-01\",\"2007-02-01\",\"2007-03-01\",\"2007-04-01\",\"2007-05-01\",\"2007-06-01\",\"2007-07-01\",\"2007-08-01\",\"2007-09-01\",\"2007-10-01\",\"2007-11-01\",\"2007-12-01\",\"2008-01-01\",\"2008-02-01\",\"2008-03-01\",\"2008-04-01\",\"2008-05-01\",\"2008-06-01\",\"2008-07-01\",\"2008-08-01\",\"2008-09-01\",\"2008-10-01\",\"2008-11-01\",\"2008-12-01\",\"2009-01-01\",\"2009-02-01\",\"2009-03-01\",\"2009-04-01\",\"2009-05-01\",\"2009-06-01\",\"2009-07-01\",\"2009-08-01\",\"2009-09-01\",\"2009-10-01\",\"2009-11-01\",\"2009-12-01\",\"2010-01-01\",\"2010-02-01\",\"2010-03-01\",\"2010-04-01\",\"2010-05-01\",\"2010-06-01\",\"2010-07-01\",\"2010-08-01\",\"2010-09-01\",\"2010-10-01\",\"2010-11-01\",\"2010-12-01\",\"2011-01-01\",\"2011-02-01\",\"2011-03-01\",\"2011-04-01\",\"2011-05-01\",\"2011-06-01\",\"2011-07-01\",\"2011-08-01\",\"2011-09-01\",\"2011-10-01\",\"2011-11-01\",\"2011-12-01\",\"2012-01-01\",\"2012-02-01\",\"2012-03-01\",\"2012-04-01\",\"2012-05-01\",\"2012-06-01\",\"2012-07-01\",\"2012-08-01\",\"2012-09-01\",\"2012-10-01\",\"2012-11-01\",\"2012-12-01\",\"2013-01-01\",\"2013-02-01\",\"2013-03-01\",\"2013-04-01\",\"2013-05-01\",\"2013-06-01\",\"2013-07-01\",\"2013-08-01\",\"2013-09-01\",\"2013-10-01\",\"2013-11-01\",\"2013-12-01\",\"2014-01-01\",\"2014-02-01\",\"2014-03-01\",\"2014-04-01\",\"2014-05-01\",\"2014-06-01\",\"2014-07-01\",\"2014-08-01\",\"2014-09-01\",\"2014-10-01\",\"2014-11-01\",\"2014-12-01\",\"2015-01-01\",\"2015-02-01\",\"2015-03-01\",\"2015-04-01\"],\"xaxis\":\"x4\",\"y\":[4.5,4.7,4.6,4.9,4.7,4.8,5.1,4.5,4.1,4.6,4.4,4.4,4.5,4.2,4.6,4.8,4.4,4.4,4.4,4.9,4.0,4.0,4.2,4.4,4.4,4.4,4.7,4.5,4.8,4.6,4.6,4.5,4.6,4.1,4.7,4.9,5.1,5.4,5.2,5.2,5.6,5.9,6.2,6.3,6.4,6.5,6.7,5.7,6.2,6.4,5.8,6.5,6.4,6.2,6.2,6.6,6.6,6.7,6.6,5.4,6.1,6.0,5.6,5.7,5.7,6.1,5.7,5.2,5.5,5.0,4.9,5.0,5.2,4.9,5.4,5.5,5.1,4.7,5.0,5.1,4.8,5.0,4.6,5.3,5.7,5.0,5.3,5.5,5.2,5.7,6.3,7.1,7.2,8.7,9.4,8.8,8.6,9.2,9.2,8.6,9.5,9.0,9.0,8.2,8.7,8.2,8.3,7.8,7.7,7.9,7.8,7.7,8.4,8.0,7.5,7.2,7.2,7.3,7.9,6.2,7.1,7.0,6.7,6.9,7.0,6.8,6.5,6.7,6.2,6.1,5.7,6.0,5.8,5.8,5.6,5.9,5.5,5.6,5.9,5.9,5.9,5.4,5.6,5.6,5.9,4.8,5.5,5.5,5.3,5.7,5.3,5.8,6.0,5.8,5.7,6.4,7.0,7.5,7.7,7.5,7.7,7.5,7.4,7.1,7.1,7.4,6.9,6.6,7.1,7.2,6.8,6.8,6.9,6.9,7.1,7.5,7.7,8.1,8.5,9.5,8.5,8.7,9.5,9.7,10.0,10.2,11.1,9.8,10.4,10.9,12.3,11.3,10.1,9.3,9.3,9.4,9.3,8.7,9.1,8.3,8.3,8.2,9.1,7.5,7.5,7.3,7.6,7.2,7.2,7.3,6.8,7.1,7.1,6.9,6.9,6.6,6.9,7.1,6.9,7.1,7.0,6.8,6.7,6.9,6.8,6.7,6.8,7.0,6.9,7.1,7.4,7.0,7.1,7.1,6.9,6.6,6.6,7.1,6.6,6.5,6.5,6.4,6.0,6.3,6.2,6.0,6.2,6.3,6.4,5.9,5.9,5.8,6.1,5.9,5.7,5.6,5.7,5.9,5.6,5.4,5.4,5.4,5.3,5.4,5.6,5.0,4.9,4.9,4.8,4.9,5.1,5.3,5.1,4.8,5.2,5.2,5.4,5.4,5.6,5.8,5.7,5.9,6.0,6.2,6.7,6.6,6.4,6.9,7.0,7.3,6.8,7.2,7.5,7.8,8.1,8.2,8.3,8.5,8.8,8.7,8.6,8.8,8.6,9.0,9.0,9.3,8.6,8.5,8.5,8.4,8.1,8.3,8.2,8.2,8.3,8.0,8.3,8.3,8.6,9.2,9.3,9.1,9.2,9.3,9.0,8.9,9.2,10.0,9.0,8.7,8.0,8.1,8.3,8.3,9.1,7.9,8.5,8.3,7.9,8.2,8.0,8.3,8.3,7.8,8.3,8.6,8.6,8.3,8.3,8.4,8.5,8.3,7.7,7.8,7.8,8.1,7.9,8.3,8.0,8.0,8.3,7.8,8.2,7.7,7.6,7.5,7.4,7.0,6.8,6.7,6.0,6.9,6.7,6.8,6.7,5.8,6.6,6.8,6.9,6.8,6.8,6.2,6.5,6.3,5.8,6.5,6.0,6.1,6.2,5.8,5.8,6.1,6.0,6.1,5.8,5.7,6.0,6.3,5.2,6.1,6.1,6.0,5.8,6.1,6.6,5.9,6.3,6.0,6.8,6.9,7.2,7.3,7.7,8.2,8.4,8.3,8.4,8.9,9.5,11.0,8.9,9.0,9.5,9.6,9.3,9.6,9.6,9.5,9.7,10.2,9.9,11.5,10.3,10.1,10.2,10.4,10.3,10.4,10.6,10.2,10.2,9.5,9.9,11.0,8.9,9.2,9.6,9.5,9.7,9.5,9.4,9.2,9.3,9.0,9.1,9.0,8.8,9.2,8.4,8.6,8.5,8.7,8.6,9.1,8.7,8.4,8.5,7.3,8.0,8.4,8.0,7.9,8.3,7.5,8.3,8.5,9.1,8.6,8.2,7.7,8.7,8.8,8.7,8.4,8.6,8.4,9.0,8.7,8.7,9.4,7.9,9.0,9.7,9.7,10.2,10.4,9.8,10.5,10.7,11.7,12.3,13.1,14.2,17.2,16.0,16.3,17.8,18.9,19.8,20.1,20.0,19.9,20.4,22.1,22.3,25.2,22.3,21.0,20.3,21.2,21.0,21.9,21.5,21.1,21.5,20.9,21.6,22.4,22.0,22.4,22.0,20.6,20.8,20.5,20.8,19.7,19.2,19.1,19.9,20.4,17.5,18.4,18.8,19.9,18.6,17.7,15.8,17.2,17.6,17.1,17.1,17.0,16.2,16.5,16.5,16.3,17.1,17.3,15.4,15.9,15.8,15.7,14.6,13.8,13.1,12.9,13.4,13.6,13.0,12.9,13.2,12.9,12.0,11.5],\"yaxis\":\"y4\",\"type\":\"scatter\"},{\"line\":{\"color\":\"rgba(219, 64, 82, 1.0)\",\"dash\":\"solid\",\"shape\":\"linear\",\"width\":1.3},\"mode\":\"lines\",\"name\":\"unemploy\",\"text\":\"\",\"x\":[\"1967-07-01\",\"1967-08-01\",\"1967-09-01\",\"1967-10-01\",\"1967-11-01\",\"1967-12-01\",\"1968-01-01\",\"1968-02-01\",\"1968-03-01\",\"1968-04-01\",\"1968-05-01\",\"1968-06-01\",\"1968-07-01\",\"1968-08-01\",\"1968-09-01\",\"1968-10-01\",\"1968-11-01\",\"1968-12-01\",\"1969-01-01\",\"1969-02-01\",\"1969-03-01\",\"1969-04-01\",\"1969-05-01\",\"1969-06-01\",\"1969-07-01\",\"1969-08-01\",\"1969-09-01\",\"1969-10-01\",\"1969-11-01\",\"1969-12-01\",\"1970-01-01\",\"1970-02-01\",\"1970-03-01\",\"1970-04-01\",\"1970-05-01\",\"1970-06-01\",\"1970-07-01\",\"1970-08-01\",\"1970-09-01\",\"1970-10-01\",\"1970-11-01\",\"1970-12-01\",\"1971-01-01\",\"1971-02-01\",\"1971-03-01\",\"1971-04-01\",\"1971-05-01\",\"1971-06-01\",\"1971-07-01\",\"1971-08-01\",\"1971-09-01\",\"1971-10-01\",\"1971-11-01\",\"1971-12-01\",\"1972-01-01\",\"1972-02-01\",\"1972-03-01\",\"1972-04-01\",\"1972-05-01\",\"1972-06-01\",\"1972-07-01\",\"1972-08-01\",\"1972-09-01\",\"1972-10-01\",\"1972-11-01\",\"1972-12-01\",\"1973-01-01\",\"1973-02-01\",\"1973-03-01\",\"1973-04-01\",\"1973-05-01\",\"1973-06-01\",\"1973-07-01\",\"1973-08-01\",\"1973-09-01\",\"1973-10-01\",\"1973-11-01\",\"1973-12-01\",\"1974-01-01\",\"1974-02-01\",\"1974-03-01\",\"1974-04-01\",\"1974-05-01\",\"1974-06-01\",\"1974-07-01\",\"1974-08-01\",\"1974-09-01\",\"1974-10-01\",\"1974-11-01\",\"1974-12-01\",\"1975-01-01\",\"1975-02-01\",\"1975-03-01\",\"1975-04-01\",\"1975-05-01\",\"1975-06-01\",\"1975-07-01\",\"1975-08-01\",\"1975-09-01\",\"1975-10-01\",\"1975-11-01\",\"1975-12-01\",\"1976-01-01\",\"1976-02-01\",\"1976-03-01\",\"1976-04-01\",\"1976-05-01\",\"1976-06-01\",\"1976-07-01\",\"1976-08-01\",\"1976-09-01\",\"1976-10-01\",\"1976-11-01\",\"1976-12-01\",\"1977-01-01\",\"1977-02-01\",\"1977-03-01\",\"1977-04-01\",\"1977-05-01\",\"1977-06-01\",\"1977-07-01\",\"1977-08-01\",\"1977-09-01\",\"1977-10-01\",\"1977-11-01\",\"1977-12-01\",\"1978-01-01\",\"1978-02-01\",\"1978-03-01\",\"1978-04-01\",\"1978-05-01\",\"1978-06-01\",\"1978-07-01\",\"1978-08-01\",\"1978-09-01\",\"1978-10-01\",\"1978-11-01\",\"1978-12-01\",\"1979-01-01\",\"1979-02-01\",\"1979-03-01\",\"1979-04-01\",\"1979-05-01\",\"1979-06-01\",\"1979-07-01\",\"1979-08-01\",\"1979-09-01\",\"1979-10-01\",\"1979-11-01\",\"1979-12-01\",\"1980-01-01\",\"1980-02-01\",\"1980-03-01\",\"1980-04-01\",\"1980-05-01\",\"1980-06-01\",\"1980-07-01\",\"1980-08-01\",\"1980-09-01\",\"1980-10-01\",\"1980-11-01\",\"1980-12-01\",\"1981-01-01\",\"1981-02-01\",\"1981-03-01\",\"1981-04-01\",\"1981-05-01\",\"1981-06-01\",\"1981-07-01\",\"1981-08-01\",\"1981-09-01\",\"1981-10-01\",\"1981-11-01\",\"1981-12-01\",\"1982-01-01\",\"1982-02-01\",\"1982-03-01\",\"1982-04-01\",\"1982-05-01\",\"1982-06-01\",\"1982-07-01\",\"1982-08-01\",\"1982-09-01\",\"1982-10-01\",\"1982-11-01\",\"1982-12-01\",\"1983-01-01\",\"1983-02-01\",\"1983-03-01\",\"1983-04-01\",\"1983-05-01\",\"1983-06-01\",\"1983-07-01\",\"1983-08-01\",\"1983-09-01\",\"1983-10-01\",\"1983-11-01\",\"1983-12-01\",\"1984-01-01\",\"1984-02-01\",\"1984-03-01\",\"1984-04-01\",\"1984-05-01\",\"1984-06-01\",\"1984-07-01\",\"1984-08-01\",\"1984-09-01\",\"1984-10-01\",\"1984-11-01\",\"1984-12-01\",\"1985-01-01\",\"1985-02-01\",\"1985-03-01\",\"1985-04-01\",\"1985-05-01\",\"1985-06-01\",\"1985-07-01\",\"1985-08-01\",\"1985-09-01\",\"1985-10-01\",\"1985-11-01\",\"1985-12-01\",\"1986-01-01\",\"1986-02-01\",\"1986-03-01\",\"1986-04-01\",\"1986-05-01\",\"1986-06-01\",\"1986-07-01\",\"1986-08-01\",\"1986-09-01\",\"1986-10-01\",\"1986-11-01\",\"1986-12-01\",\"1987-01-01\",\"1987-02-01\",\"1987-03-01\",\"1987-04-01\",\"1987-05-01\",\"1987-06-01\",\"1987-07-01\",\"1987-08-01\",\"1987-09-01\",\"1987-10-01\",\"1987-11-01\",\"1987-12-01\",\"1988-01-01\",\"1988-02-01\",\"1988-03-01\",\"1988-04-01\",\"1988-05-01\",\"1988-06-01\",\"1988-07-01\",\"1988-08-01\",\"1988-09-01\",\"1988-10-01\",\"1988-11-01\",\"1988-12-01\",\"1989-01-01\",\"1989-02-01\",\"1989-03-01\",\"1989-04-01\",\"1989-05-01\",\"1989-06-01\",\"1989-07-01\",\"1989-08-01\",\"1989-09-01\",\"1989-10-01\",\"1989-11-01\",\"1989-12-01\",\"1990-01-01\",\"1990-02-01\",\"1990-03-01\",\"1990-04-01\",\"1990-05-01\",\"1990-06-01\",\"1990-07-01\",\"1990-08-01\",\"1990-09-01\",\"1990-10-01\",\"1990-11-01\",\"1990-12-01\",\"1991-01-01\",\"1991-02-01\",\"1991-03-01\",\"1991-04-01\",\"1991-05-01\",\"1991-06-01\",\"1991-07-01\",\"1991-08-01\",\"1991-09-01\",\"1991-10-01\",\"1991-11-01\",\"1991-12-01\",\"1992-01-01\",\"1992-02-01\",\"1992-03-01\",\"1992-04-01\",\"1992-05-01\",\"1992-06-01\",\"1992-07-01\",\"1992-08-01\",\"1992-09-01\",\"1992-10-01\",\"1992-11-01\",\"1992-12-01\",\"1993-01-01\",\"1993-02-01\",\"1993-03-01\",\"1993-04-01\",\"1993-05-01\",\"1993-06-01\",\"1993-07-01\",\"1993-08-01\",\"1993-09-01\",\"1993-10-01\",\"1993-11-01\",\"1993-12-01\",\"1994-01-01\",\"1994-02-01\",\"1994-03-01\",\"1994-04-01\",\"1994-05-01\",\"1994-06-01\",\"1994-07-01\",\"1994-08-01\",\"1994-09-01\",\"1994-10-01\",\"1994-11-01\",\"1994-12-01\",\"1995-01-01\",\"1995-02-01\",\"1995-03-01\",\"1995-04-01\",\"1995-05-01\",\"1995-06-01\",\"1995-07-01\",\"1995-08-01\",\"1995-09-01\",\"1995-10-01\",\"1995-11-01\",\"1995-12-01\",\"1996-01-01\",\"1996-02-01\",\"1996-03-01\",\"1996-04-01\",\"1996-05-01\",\"1996-06-01\",\"1996-07-01\",\"1996-08-01\",\"1996-09-01\",\"1996-10-01\",\"1996-11-01\",\"1996-12-01\",\"1997-01-01\",\"1997-02-01\",\"1997-03-01\",\"1997-04-01\",\"1997-05-01\",\"1997-06-01\",\"1997-07-01\",\"1997-08-01\",\"1997-09-01\",\"1997-10-01\",\"1997-11-01\",\"1997-12-01\",\"1998-01-01\",\"1998-02-01\",\"1998-03-01\",\"1998-04-01\",\"1998-05-01\",\"1998-06-01\",\"1998-07-01\",\"1998-08-01\",\"1998-09-01\",\"1998-10-01\",\"1998-11-01\",\"1998-12-01\",\"1999-01-01\",\"1999-02-01\",\"1999-03-01\",\"1999-04-01\",\"1999-05-01\",\"1999-06-01\",\"1999-07-01\",\"1999-08-01\",\"1999-09-01\",\"1999-10-01\",\"1999-11-01\",\"1999-12-01\",\"2000-01-01\",\"2000-02-01\",\"2000-03-01\",\"2000-04-01\",\"2000-05-01\",\"2000-06-01\",\"2000-07-01\",\"2000-08-01\",\"2000-09-01\",\"2000-10-01\",\"2000-11-01\",\"2000-12-01\",\"2001-01-01\",\"2001-02-01\",\"2001-03-01\",\"2001-04-01\",\"2001-05-01\",\"2001-06-01\",\"2001-07-01\",\"2001-08-01\",\"2001-09-01\",\"2001-10-01\",\"2001-11-01\",\"2001-12-01\",\"2002-01-01\",\"2002-02-01\",\"2002-03-01\",\"2002-04-01\",\"2002-05-01\",\"2002-06-01\",\"2002-07-01\",\"2002-08-01\",\"2002-09-01\",\"2002-10-01\",\"2002-11-01\",\"2002-12-01\",\"2003-01-01\",\"2003-02-01\",\"2003-03-01\",\"2003-04-01\",\"2003-05-01\",\"2003-06-01\",\"2003-07-01\",\"2003-08-01\",\"2003-09-01\",\"2003-10-01\",\"2003-11-01\",\"2003-12-01\",\"2004-01-01\",\"2004-02-01\",\"2004-03-01\",\"2004-04-01\",\"2004-05-01\",\"2004-06-01\",\"2004-07-01\",\"2004-08-01\",\"2004-09-01\",\"2004-10-01\",\"2004-11-01\",\"2004-12-01\",\"2005-01-01\",\"2005-02-01\",\"2005-03-01\",\"2005-04-01\",\"2005-05-01\",\"2005-06-01\",\"2005-07-01\",\"2005-08-01\",\"2005-09-01\",\"2005-10-01\",\"2005-11-01\",\"2005-12-01\",\"2006-01-01\",\"2006-02-01\",\"2006-03-01\",\"2006-04-01\",\"2006-05-01\",\"2006-06-01\",\"2006-07-01\",\"2006-08-01\",\"2006-09-01\",\"2006-10-01\",\"2006-11-01\",\"2006-12-01\",\"2007-01-01\",\"2007-02-01\",\"2007-03-01\",\"2007-04-01\",\"2007-05-01\",\"2007-06-01\",\"2007-07-01\",\"2007-08-01\",\"2007-09-01\",\"2007-10-01\",\"2007-11-01\",\"2007-12-01\",\"2008-01-01\",\"2008-02-01\",\"2008-03-01\",\"2008-04-01\",\"2008-05-01\",\"2008-06-01\",\"2008-07-01\",\"2008-08-01\",\"2008-09-01\",\"2008-10-01\",\"2008-11-01\",\"2008-12-01\",\"2009-01-01\",\"2009-02-01\",\"2009-03-01\",\"2009-04-01\",\"2009-05-01\",\"2009-06-01\",\"2009-07-01\",\"2009-08-01\",\"2009-09-01\",\"2009-10-01\",\"2009-11-01\",\"2009-12-01\",\"2010-01-01\",\"2010-02-01\",\"2010-03-01\",\"2010-04-01\",\"2010-05-01\",\"2010-06-01\",\"2010-07-01\",\"2010-08-01\",\"2010-09-01\",\"2010-10-01\",\"2010-11-01\",\"2010-12-01\",\"2011-01-01\",\"2011-02-01\",\"2011-03-01\",\"2011-04-01\",\"2011-05-01\",\"2011-06-01\",\"2011-07-01\",\"2011-08-01\",\"2011-09-01\",\"2011-10-01\",\"2011-11-01\",\"2011-12-01\",\"2012-01-01\",\"2012-02-01\",\"2012-03-01\",\"2012-04-01\",\"2012-05-01\",\"2012-06-01\",\"2012-07-01\",\"2012-08-01\",\"2012-09-01\",\"2012-10-01\",\"2012-11-01\",\"2012-12-01\",\"2013-01-01\",\"2013-02-01\",\"2013-03-01\",\"2013-04-01\",\"2013-05-01\",\"2013-06-01\",\"2013-07-01\",\"2013-08-01\",\"2013-09-01\",\"2013-10-01\",\"2013-11-01\",\"2013-12-01\",\"2014-01-01\",\"2014-02-01\",\"2014-03-01\",\"2014-04-01\",\"2014-05-01\",\"2014-06-01\",\"2014-07-01\",\"2014-08-01\",\"2014-09-01\",\"2014-10-01\",\"2014-11-01\",\"2014-12-01\",\"2015-01-01\",\"2015-02-01\",\"2015-03-01\",\"2015-04-01\"],\"xaxis\":\"x5\",\"y\":[2944,2945,2958,3143,3066,3018,2878,3001,2877,2709,2740,2938,2883,2768,2686,2689,2715,2685,2718,2692,2712,2758,2713,2816,2868,2856,3040,3049,2856,2884,3201,3453,3635,3797,3919,4071,4175,4256,4456,4591,4898,5076,4986,4903,4987,4959,4996,4949,5035,5134,5042,4954,5161,5154,5019,4928,5038,4959,4922,4923,4913,4939,4849,4875,4602,4543,4326,4452,4394,4459,4329,4363,4305,4305,4350,4144,4396,4489,4644,4731,4634,4618,4705,4927,5063,5022,5437,5523,6140,6636,7501,7520,7978,8210,8433,8220,8127,7928,7923,7897,7794,7744,7534,7326,7230,7330,7053,7322,7490,7518,7380,7430,7620,7545,7280,7443,7307,7059,6911,7134,6829,6925,6751,6763,6815,6386,6489,6318,6337,6180,6127,6028,6309,6080,6125,5947,6077,6228,6109,6173,6109,6069,5840,5959,5996,6320,6190,6296,6238,6325,6683,6702,6729,7358,7984,8098,8363,8281,8021,8088,8023,7718,8071,8051,7982,7869,8174,8098,7863,8036,8230,8646,9029,9267,9397,9705,9895,10244,10335,10538,10849,10881,11217,11529,11938,12051,11534,11545,11408,11268,11154,11246,10548,10623,10282,9887,9499,9331,9008,8791,8746,8762,8456,8226,8537,8519,8367,8381,8198,8358,8423,8321,8339,8395,8302,8460,8513,8196,8248,8298,8128,8138,7795,8402,8383,8364,8439,8508,8319,8135,8310,8243,8159,7883,7892,7865,7862,7542,7574,7398,7268,7261,7102,7227,7035,6936,6953,6929,6876,6601,6779,6546,6605,6843,6604,6568,6537,6518,6682,6359,6205,6468,6375,6577,6495,6511,6590,6630,6725,6667,6752,6651,6598,6797,6742,6590,6922,7188,7368,7459,7764,7901,8015,8265,8586,8439,8736,8692,8586,8666,8722,8842,8931,9198,9283,9454,9460,9415,9744,10040,9850,9787,9781,9398,9565,9557,9325,9183,9056,9110,9149,9121,8930,8763,8714,8750,8542,8477,8630,8583,8470,8331,7915,7927,7946,7933,7734,7632,7375,7230,7375,7187,7153,7645,7430,7427,7527,7484,7478,7328,7426,7423,7491,7313,7318,7415,7423,7095,7337,6882,6979,7031,7236,7253,7158,7102,7000,6873,6655,6799,6655,6608,6656,6454,6308,6476,6368,6306,6422,5941,6047,6212,6259,6179,6300,6280,6100,6032,5976,6111,5783,6004,5796,5951,6025,5838,5915,5778,5716,5653,5708,5858,5733,5481,5758,5651,5747,5853,5625,5534,5639,5634,6023,6089,6141,6271,6226,6484,6583,7042,7142,7694,8003,8258,8182,8215,8304,8599,8399,8393,8390,8304,8251,8307,8520,8640,8520,8618,8588,8842,8957,9266,9011,8896,8921,8732,8576,8317,8370,8167,8491,8170,8212,8286,8136,7990,7927,8061,7932,7934,7784,7980,7737,7672,7651,7524,7406,7345,7553,7453,7566,7279,7064,7184,7072,7120,6980,7001,7175,7091,6847,6727,6872,6762,7116,6927,6731,6850,6766,6979,7149,7067,7170,7237,7240,7645,7685,7497,7822,7637,8395,8575,8937,9438,9494,10074,10538,11286,12058,12898,13426,13853,14499,14707,14601,14814,15009,15352,15219,15098,15046,15113,15202,15325,14849,14474,14512,14648,14579,14516,15081,14348,14013,13820,13737,13957,13855,13962,13763,13818,13948,13594,13302,13093,12797,12813,12713,12646,12660,12692,12656,12471,12115,12124,12005,12298,12471,11950,11689,11760,11654,11751,11335,11279,11270,11136,10787,10404,10202,10349,10380,9702,9859,9460,9608,9599,9262,8990,9090,8717,8903,8610,8504,8526],\"yaxis\":\"y5\",\"type\":\"scatter\"}],                        {\"legend\":{\"bgcolor\":\"#F5F6F9\",\"font\":{\"color\":\"#4D5663\"}},\"paper_bgcolor\":\"#F5F6F9\",\"plot_bgcolor\":\"#F5F6F9\",\"template\":{\"data\":{\"barpolar\":[{\"marker\":{\"line\":{\"color\":\"#E5ECF6\",\"width\":0.5},\"pattern\":{\"fillmode\":\"overlay\",\"size\":10,\"solidity\":0.2}},\"type\":\"barpolar\"}],\"bar\":[{\"error_x\":{\"color\":\"#2a3f5f\"},\"error_y\":{\"color\":\"#2a3f5f\"},\"marker\":{\"line\":{\"color\":\"#E5ECF6\",\"width\":0.5},\"pattern\":{\"fillmode\":\"overlay\",\"size\":10,\"solidity\":0.2}},\"type\":\"bar\"}],\"carpet\":[{\"aaxis\":{\"endlinecolor\":\"#2a3f5f\",\"gridcolor\":\"white\",\"linecolor\":\"white\",\"minorgridcolor\":\"white\",\"startlinecolor\":\"#2a3f5f\"},\"baxis\":{\"endlinecolor\":\"#2a3f5f\",\"gridcolor\":\"white\",\"linecolor\":\"white\",\"minorgridcolor\":\"white\",\"startlinecolor\":\"#2a3f5f\"},\"type\":\"carpet\"}],\"choropleth\":[{\"colorbar\":{\"outlinewidth\":0,\"ticks\":\"\"},\"type\":\"choropleth\"}],\"contourcarpet\":[{\"colorbar\":{\"outlinewidth\":0,\"ticks\":\"\"},\"type\":\"contourcarpet\"}],\"contour\":[{\"colorbar\":{\"outlinewidth\":0,\"ticks\":\"\"},\"colorscale\":[[0.0,\"#0d0887\"],[0.1111111111111111,\"#46039f\"],[0.2222222222222222,\"#7201a8\"],[0.3333333333333333,\"#9c179e\"],[0.4444444444444444,\"#bd3786\"],[0.5555555555555556,\"#d8576b\"],[0.6666666666666666,\"#ed7953\"],[0.7777777777777778,\"#fb9f3a\"],[0.8888888888888888,\"#fdca26\"],[1.0,\"#f0f921\"]],\"type\":\"contour\"}],\"heatmapgl\":[{\"colorbar\":{\"outlinewidth\":0,\"ticks\":\"\"},\"colorscale\":[[0.0,\"#0d0887\"],[0.1111111111111111,\"#46039f\"],[0.2222222222222222,\"#7201a8\"],[0.3333333333333333,\"#9c179e\"],[0.4444444444444444,\"#bd3786\"],[0.5555555555555556,\"#d8576b\"],[0.6666666666666666,\"#ed7953\"],[0.7777777777777778,\"#fb9f3a\"],[0.8888888888888888,\"#fdca26\"],[1.0,\"#f0f921\"]],\"type\":\"heatmapgl\"}],\"heatmap\":[{\"colorbar\":{\"outlinewidth\":0,\"ticks\":\"\"},\"colorscale\":[[0.0,\"#0d0887\"],[0.1111111111111111,\"#46039f\"],[0.2222222222222222,\"#7201a8\"],[0.3333333333333333,\"#9c179e\"],[0.4444444444444444,\"#bd3786\"],[0.5555555555555556,\"#d8576b\"],[0.6666666666666666,\"#ed7953\"],[0.7777777777777778,\"#fb9f3a\"],[0.8888888888888888,\"#fdca26\"],[1.0,\"#f0f921\"]],\"type\":\"heatmap\"}],\"histogram2dcontour\":[{\"colorbar\":{\"outlinewidth\":0,\"ticks\":\"\"},\"colorscale\":[[0.0,\"#0d0887\"],[0.1111111111111111,\"#46039f\"],[0.2222222222222222,\"#7201a8\"],[0.3333333333333333,\"#9c179e\"],[0.4444444444444444,\"#bd3786\"],[0.5555555555555556,\"#d8576b\"],[0.6666666666666666,\"#ed7953\"],[0.7777777777777778,\"#fb9f3a\"],[0.8888888888888888,\"#fdca26\"],[1.0,\"#f0f921\"]],\"type\":\"histogram2dcontour\"}],\"histogram2d\":[{\"colorbar\":{\"outlinewidth\":0,\"ticks\":\"\"},\"colorscale\":[[0.0,\"#0d0887\"],[0.1111111111111111,\"#46039f\"],[0.2222222222222222,\"#7201a8\"],[0.3333333333333333,\"#9c179e\"],[0.4444444444444444,\"#bd3786\"],[0.5555555555555556,\"#d8576b\"],[0.6666666666666666,\"#ed7953\"],[0.7777777777777778,\"#fb9f3a\"],[0.8888888888888888,\"#fdca26\"],[1.0,\"#f0f921\"]],\"type\":\"histogram2d\"}],\"histogram\":[{\"marker\":{\"pattern\":{\"fillmode\":\"overlay\",\"size\":10,\"solidity\":0.2}},\"type\":\"histogram\"}],\"mesh3d\":[{\"colorbar\":{\"outlinewidth\":0,\"ticks\":\"\"},\"type\":\"mesh3d\"}],\"parcoords\":[{\"line\":{\"colorbar\":{\"outlinewidth\":0,\"ticks\":\"\"}},\"type\":\"parcoords\"}],\"pie\":[{\"automargin\":true,\"type\":\"pie\"}],\"scatter3d\":[{\"line\":{\"colorbar\":{\"outlinewidth\":0,\"ticks\":\"\"}},\"marker\":{\"colorbar\":{\"outlinewidth\":0,\"ticks\":\"\"}},\"type\":\"scatter3d\"}],\"scattercarpet\":[{\"marker\":{\"colorbar\":{\"outlinewidth\":0,\"ticks\":\"\"}},\"type\":\"scattercarpet\"}],\"scattergeo\":[{\"marker\":{\"colorbar\":{\"outlinewidth\":0,\"ticks\":\"\"}},\"type\":\"scattergeo\"}],\"scattergl\":[{\"marker\":{\"colorbar\":{\"outlinewidth\":0,\"ticks\":\"\"}},\"type\":\"scattergl\"}],\"scattermapbox\":[{\"marker\":{\"colorbar\":{\"outlinewidth\":0,\"ticks\":\"\"}},\"type\":\"scattermapbox\"}],\"scatterpolargl\":[{\"marker\":{\"colorbar\":{\"outlinewidth\":0,\"ticks\":\"\"}},\"type\":\"scatterpolargl\"}],\"scatterpolar\":[{\"marker\":{\"colorbar\":{\"outlinewidth\":0,\"ticks\":\"\"}},\"type\":\"scatterpolar\"}],\"scatter\":[{\"fillpattern\":{\"fillmode\":\"overlay\",\"size\":10,\"solidity\":0.2},\"type\":\"scatter\"}],\"scatterternary\":[{\"marker\":{\"colorbar\":{\"outlinewidth\":0,\"ticks\":\"\"}},\"type\":\"scatterternary\"}],\"surface\":[{\"colorbar\":{\"outlinewidth\":0,\"ticks\":\"\"},\"colorscale\":[[0.0,\"#0d0887\"],[0.1111111111111111,\"#46039f\"],[0.2222222222222222,\"#7201a8\"],[0.3333333333333333,\"#9c179e\"],[0.4444444444444444,\"#bd3786\"],[0.5555555555555556,\"#d8576b\"],[0.6666666666666666,\"#ed7953\"],[0.7777777777777778,\"#fb9f3a\"],[0.8888888888888888,\"#fdca26\"],[1.0,\"#f0f921\"]],\"type\":\"surface\"}],\"table\":[{\"cells\":{\"fill\":{\"color\":\"#EBF0F8\"},\"line\":{\"color\":\"white\"}},\"header\":{\"fill\":{\"color\":\"#C8D4E3\"},\"line\":{\"color\":\"white\"}},\"type\":\"table\"}]},\"layout\":{\"annotationdefaults\":{\"arrowcolor\":\"#2a3f5f\",\"arrowhead\":0,\"arrowwidth\":1},\"autotypenumbers\":\"strict\",\"coloraxis\":{\"colorbar\":{\"outlinewidth\":0,\"ticks\":\"\"}},\"colorscale\":{\"diverging\":[[0,\"#8e0152\"],[0.1,\"#c51b7d\"],[0.2,\"#de77ae\"],[0.3,\"#f1b6da\"],[0.4,\"#fde0ef\"],[0.5,\"#f7f7f7\"],[0.6,\"#e6f5d0\"],[0.7,\"#b8e186\"],[0.8,\"#7fbc41\"],[0.9,\"#4d9221\"],[1,\"#276419\"]],\"sequential\":[[0.0,\"#0d0887\"],[0.1111111111111111,\"#46039f\"],[0.2222222222222222,\"#7201a8\"],[0.3333333333333333,\"#9c179e\"],[0.4444444444444444,\"#bd3786\"],[0.5555555555555556,\"#d8576b\"],[0.6666666666666666,\"#ed7953\"],[0.7777777777777778,\"#fb9f3a\"],[0.8888888888888888,\"#fdca26\"],[1.0,\"#f0f921\"]],\"sequentialminus\":[[0.0,\"#0d0887\"],[0.1111111111111111,\"#46039f\"],[0.2222222222222222,\"#7201a8\"],[0.3333333333333333,\"#9c179e\"],[0.4444444444444444,\"#bd3786\"],[0.5555555555555556,\"#d8576b\"],[0.6666666666666666,\"#ed7953\"],[0.7777777777777778,\"#fb9f3a\"],[0.8888888888888888,\"#fdca26\"],[1.0,\"#f0f921\"]]},\"colorway\":[\"#636efa\",\"#EF553B\",\"#00cc96\",\"#ab63fa\",\"#FFA15A\",\"#19d3f3\",\"#FF6692\",\"#B6E880\",\"#FF97FF\",\"#FECB52\"],\"font\":{\"color\":\"#2a3f5f\"},\"geo\":{\"bgcolor\":\"white\",\"lakecolor\":\"white\",\"landcolor\":\"#E5ECF6\",\"showlakes\":true,\"showland\":true,\"subunitcolor\":\"white\"},\"hoverlabel\":{\"align\":\"left\"},\"hovermode\":\"closest\",\"mapbox\":{\"style\":\"light\"},\"paper_bgcolor\":\"white\",\"plot_bgcolor\":\"#E5ECF6\",\"polar\":{\"angularaxis\":{\"gridcolor\":\"white\",\"linecolor\":\"white\",\"ticks\":\"\"},\"bgcolor\":\"#E5ECF6\",\"radialaxis\":{\"gridcolor\":\"white\",\"linecolor\":\"white\",\"ticks\":\"\"}},\"scene\":{\"xaxis\":{\"backgroundcolor\":\"#E5ECF6\",\"gridcolor\":\"white\",\"gridwidth\":2,\"linecolor\":\"white\",\"showbackground\":true,\"ticks\":\"\",\"zerolinecolor\":\"white\"},\"yaxis\":{\"backgroundcolor\":\"#E5ECF6\",\"gridcolor\":\"white\",\"gridwidth\":2,\"linecolor\":\"white\",\"showbackground\":true,\"ticks\":\"\",\"zerolinecolor\":\"white\"},\"zaxis\":{\"backgroundcolor\":\"#E5ECF6\",\"gridcolor\":\"white\",\"gridwidth\":2,\"linecolor\":\"white\",\"showbackground\":true,\"ticks\":\"\",\"zerolinecolor\":\"white\"}},\"shapedefaults\":{\"line\":{\"color\":\"#2a3f5f\"}},\"ternary\":{\"aaxis\":{\"gridcolor\":\"white\",\"linecolor\":\"white\",\"ticks\":\"\"},\"baxis\":{\"gridcolor\":\"white\",\"linecolor\":\"white\",\"ticks\":\"\"},\"bgcolor\":\"#E5ECF6\",\"caxis\":{\"gridcolor\":\"white\",\"linecolor\":\"white\",\"ticks\":\"\"}},\"title\":{\"x\":0.05},\"xaxis\":{\"automargin\":true,\"gridcolor\":\"white\",\"linecolor\":\"white\",\"ticks\":\"\",\"title\":{\"standoff\":15},\"zerolinecolor\":\"white\",\"zerolinewidth\":2},\"yaxis\":{\"automargin\":true,\"gridcolor\":\"white\",\"linecolor\":\"white\",\"ticks\":\"\",\"title\":{\"standoff\":15},\"zerolinecolor\":\"white\",\"zerolinewidth\":2}}},\"title\":{\"font\":{\"color\":\"#4D5663\"}},\"xaxis\":{\"anchor\":\"y\",\"domain\":[0.0,0.45],\"gridcolor\":\"#E1E5ED\",\"showgrid\":true,\"tickfont\":{\"color\":\"#4D5663\"},\"title\":{\"font\":{\"color\":\"#4D5663\"},\"text\":\"\"},\"zerolinecolor\":\"#E1E5ED\"},\"yaxis\":{\"anchor\":\"x\",\"domain\":[0.7333333333333333,1.0],\"gridcolor\":\"#E1E5ED\",\"showgrid\":true,\"tickfont\":{\"color\":\"#4D5663\"},\"title\":{\"font\":{\"color\":\"#4D5663\"},\"text\":\"\"},\"zerolinecolor\":\"#E1E5ED\"},\"xaxis2\":{\"anchor\":\"y2\",\"domain\":[0.55,1.0],\"gridcolor\":\"#E1E5ED\",\"showgrid\":true,\"tickfont\":{\"color\":\"#4D5663\"},\"title\":{\"font\":{\"color\":\"#4D5663\"},\"text\":\"\"},\"zerolinecolor\":\"#E1E5ED\"},\"yaxis2\":{\"anchor\":\"x2\",\"domain\":[0.7333333333333333,1.0],\"gridcolor\":\"#E1E5ED\",\"showgrid\":true,\"tickfont\":{\"color\":\"#4D5663\"},\"title\":{\"font\":{\"color\":\"#4D5663\"},\"text\":\"\"},\"zerolinecolor\":\"#E1E5ED\"},\"xaxis3\":{\"anchor\":\"y3\",\"domain\":[0.0,0.45],\"gridcolor\":\"#E1E5ED\",\"showgrid\":true,\"tickfont\":{\"color\":\"#4D5663\"},\"title\":{\"font\":{\"color\":\"#4D5663\"},\"text\":\"\"},\"zerolinecolor\":\"#E1E5ED\"},\"yaxis3\":{\"anchor\":\"x3\",\"domain\":[0.36666666666666664,0.6333333333333333],\"gridcolor\":\"#E1E5ED\",\"showgrid\":true,\"tickfont\":{\"color\":\"#4D5663\"},\"title\":{\"font\":{\"color\":\"#4D5663\"},\"text\":\"\"},\"zerolinecolor\":\"#E1E5ED\"},\"xaxis4\":{\"anchor\":\"y4\",\"domain\":[0.55,1.0],\"gridcolor\":\"#E1E5ED\",\"showgrid\":true,\"tickfont\":{\"color\":\"#4D5663\"},\"title\":{\"font\":{\"color\":\"#4D5663\"},\"text\":\"\"},\"zerolinecolor\":\"#E1E5ED\"},\"yaxis4\":{\"anchor\":\"x4\",\"domain\":[0.36666666666666664,0.6333333333333333],\"gridcolor\":\"#E1E5ED\",\"showgrid\":true,\"tickfont\":{\"color\":\"#4D5663\"},\"title\":{\"font\":{\"color\":\"#4D5663\"},\"text\":\"\"},\"zerolinecolor\":\"#E1E5ED\"},\"xaxis5\":{\"anchor\":\"y5\",\"domain\":[0.0,0.45],\"gridcolor\":\"#E1E5ED\",\"showgrid\":true,\"tickfont\":{\"color\":\"#4D5663\"},\"title\":{\"font\":{\"color\":\"#4D5663\"},\"text\":\"\"},\"zerolinecolor\":\"#E1E5ED\"},\"yaxis5\":{\"anchor\":\"x5\",\"domain\":[0.0,0.26666666666666666],\"gridcolor\":\"#E1E5ED\",\"showgrid\":true,\"tickfont\":{\"color\":\"#4D5663\"},\"title\":{\"font\":{\"color\":\"#4D5663\"},\"text\":\"\"},\"zerolinecolor\":\"#E1E5ED\"}},                        {\"showLink\": true, \"linkText\": \"Export to plot.ly\", \"plotlyServerURL\": \"https://plot.ly\", \"responsive\": true}                    ).then(function(){\n",
              "                            \n",
              "var gd = document.getElementById('e23c4bc1-709d-4c22-ba2b-d2f2e8018ccd');\n",
              "var x = new MutationObserver(function (mutations, observer) {{\n",
              "        var display = window.getComputedStyle(gd).display;\n",
              "        if (!display || display === 'none') {{\n",
              "            console.log([gd, 'removed!']);\n",
              "            Plotly.purge(gd);\n",
              "            observer.disconnect();\n",
              "        }}\n",
              "}});\n",
              "\n",
              "// Listen for the removal of the full notebook cells\n",
              "var notebookContainer = gd.closest('#notebook-container');\n",
              "if (notebookContainer) {{\n",
              "    x.observe(notebookContainer, {childList: true});\n",
              "}}\n",
              "\n",
              "// Listen for the clearing of the current output cell\n",
              "var outputEl = gd.closest('.output');\n",
              "if (outputEl) {{\n",
              "    x.observe(outputEl, {childList: true});\n",
              "}}\n",
              "\n",
              "                        })                };                });            </script>        </div>"
            ]
          },
          "metadata": {},
          "output_type": "display_data"
        }
      ],
      "source": [
        "economics.iplot(kind='scatter', x='date', subplots=True)"
      ]
    },
    {
      "cell_type": "markdown",
      "id": "a1817342",
      "metadata": {
        "id": "a1817342"
      },
      "source": [
        "* **subplots=True**\n",
        "\n",
        "    subplots 파라미터를 True로 설정하여 나머지 변수에 따른 선 그래프를 나누어서 그렸습니다."
      ]
    },
    {
      "cell_type": "markdown",
      "id": "33a631fa",
      "metadata": {
        "id": "33a631fa"
      },
      "source": [
        "<br><br>"
      ]
    },
    {
      "cell_type": "markdown",
      "id": "669664c9",
      "metadata": {
        "id": "669664c9"
      },
      "source": [
        "## **5. Bar Chart**"
      ]
    },
    {
      "cell_type": "markdown",
      "id": "fa8b2f4d",
      "metadata": {
        "id": "fa8b2f4d"
      },
      "source": [
        "iplot() 함수의 kind 파라미터를 'bar'로 지정하면 막대 그래프를 그릴 수 있습니다."
      ]
    },
    {
      "cell_type": "code",
      "execution_count": null,
      "id": "c5d29cde",
      "metadata": {
        "id": "c5d29cde",
        "outputId": "9ef2a87c-7d82-4899-8cb7-345a8d5aec04"
      },
      "outputs": [
        {
          "data": {
            "text/plain": [
              "cut\n",
              "Fair          1610\n",
              "Good          4906\n",
              "Very Good    12082\n",
              "Premium      13791\n",
              "Ideal        21551\n",
              "dtype: int64"
            ]
          },
          "execution_count": 10,
          "metadata": {},
          "output_type": "execute_result"
        }
      ],
      "source": [
        "df = (diamonds\n",
        " .groupby('cut')\n",
        " .size()\n",
        " .sort_values()\n",
        ")\n",
        "\n",
        "df"
      ]
    },
    {
      "cell_type": "markdown",
      "id": "471db9ce",
      "metadata": {
        "id": "471db9ce"
      },
      "source": [
        "* diamonds 데이터를 'cut'으로 그룹화한 데이터의 개수를 오름차순 정렬하여 df에 저장했습니다."
      ]
    },
    {
      "cell_type": "markdown",
      "id": "b71b5ff4",
      "metadata": {
        "id": "b71b5ff4"
      },
      "source": [
        "<br>"
      ]
    },
    {
      "cell_type": "code",
      "execution_count": null,
      "id": "d2044608",
      "metadata": {
        "id": "d2044608",
        "outputId": "b4c76049-4d41-44f3-8737-01c75f93b558"
      },
      "outputs": [
        {
          "data": {
            "application/vnd.plotly.v1+json": {
              "config": {
                "linkText": "Export to plot.ly",
                "plotlyServerURL": "https://plot.ly",
                "showLink": true
              },
              "data": [
                {
                  "marker": {
                    "color": "rgba(0, 128, 0, 0.6)",
                    "line": {
                      "color": "rgba(0, 128, 0, 1.0)",
                      "width": 1
                    }
                  },
                  "name": "None",
                  "orientation": "v",
                  "text": "",
                  "type": "bar",
                  "x": [
                    "Fair",
                    "Good",
                    "Very Good",
                    "Premium",
                    "Ideal"
                  ],
                  "y": [
                    1610,
                    4906,
                    12082,
                    13791,
                    21551
                  ]
                }
              ],
              "layout": {
                "legend": {
                  "bgcolor": "#F5F6F9",
                  "font": {
                    "color": "#4D5663"
                  }
                },
                "paper_bgcolor": "#F5F6F9",
                "plot_bgcolor": "#F5F6F9",
                "template": {
                  "data": {
                    "bar": [
                      {
                        "error_x": {
                          "color": "#2a3f5f"
                        },
                        "error_y": {
                          "color": "#2a3f5f"
                        },
                        "marker": {
                          "line": {
                            "color": "#E5ECF6",
                            "width": 0.5
                          },
                          "pattern": {
                            "fillmode": "overlay",
                            "size": 10,
                            "solidity": 0.2
                          }
                        },
                        "type": "bar"
                      }
                    ],
                    "barpolar": [
                      {
                        "marker": {
                          "line": {
                            "color": "#E5ECF6",
                            "width": 0.5
                          },
                          "pattern": {
                            "fillmode": "overlay",
                            "size": 10,
                            "solidity": 0.2
                          }
                        },
                        "type": "barpolar"
                      }
                    ],
                    "carpet": [
                      {
                        "aaxis": {
                          "endlinecolor": "#2a3f5f",
                          "gridcolor": "white",
                          "linecolor": "white",
                          "minorgridcolor": "white",
                          "startlinecolor": "#2a3f5f"
                        },
                        "baxis": {
                          "endlinecolor": "#2a3f5f",
                          "gridcolor": "white",
                          "linecolor": "white",
                          "minorgridcolor": "white",
                          "startlinecolor": "#2a3f5f"
                        },
                        "type": "carpet"
                      }
                    ],
                    "choropleth": [
                      {
                        "colorbar": {
                          "outlinewidth": 0,
                          "ticks": ""
                        },
                        "type": "choropleth"
                      }
                    ],
                    "contour": [
                      {
                        "colorbar": {
                          "outlinewidth": 0,
                          "ticks": ""
                        },
                        "colorscale": [
                          [
                            0,
                            "#0d0887"
                          ],
                          [
                            0.1111111111111111,
                            "#46039f"
                          ],
                          [
                            0.2222222222222222,
                            "#7201a8"
                          ],
                          [
                            0.3333333333333333,
                            "#9c179e"
                          ],
                          [
                            0.4444444444444444,
                            "#bd3786"
                          ],
                          [
                            0.5555555555555556,
                            "#d8576b"
                          ],
                          [
                            0.6666666666666666,
                            "#ed7953"
                          ],
                          [
                            0.7777777777777778,
                            "#fb9f3a"
                          ],
                          [
                            0.8888888888888888,
                            "#fdca26"
                          ],
                          [
                            1,
                            "#f0f921"
                          ]
                        ],
                        "type": "contour"
                      }
                    ],
                    "contourcarpet": [
                      {
                        "colorbar": {
                          "outlinewidth": 0,
                          "ticks": ""
                        },
                        "type": "contourcarpet"
                      }
                    ],
                    "heatmap": [
                      {
                        "colorbar": {
                          "outlinewidth": 0,
                          "ticks": ""
                        },
                        "colorscale": [
                          [
                            0,
                            "#0d0887"
                          ],
                          [
                            0.1111111111111111,
                            "#46039f"
                          ],
                          [
                            0.2222222222222222,
                            "#7201a8"
                          ],
                          [
                            0.3333333333333333,
                            "#9c179e"
                          ],
                          [
                            0.4444444444444444,
                            "#bd3786"
                          ],
                          [
                            0.5555555555555556,
                            "#d8576b"
                          ],
                          [
                            0.6666666666666666,
                            "#ed7953"
                          ],
                          [
                            0.7777777777777778,
                            "#fb9f3a"
                          ],
                          [
                            0.8888888888888888,
                            "#fdca26"
                          ],
                          [
                            1,
                            "#f0f921"
                          ]
                        ],
                        "type": "heatmap"
                      }
                    ],
                    "heatmapgl": [
                      {
                        "colorbar": {
                          "outlinewidth": 0,
                          "ticks": ""
                        },
                        "colorscale": [
                          [
                            0,
                            "#0d0887"
                          ],
                          [
                            0.1111111111111111,
                            "#46039f"
                          ],
                          [
                            0.2222222222222222,
                            "#7201a8"
                          ],
                          [
                            0.3333333333333333,
                            "#9c179e"
                          ],
                          [
                            0.4444444444444444,
                            "#bd3786"
                          ],
                          [
                            0.5555555555555556,
                            "#d8576b"
                          ],
                          [
                            0.6666666666666666,
                            "#ed7953"
                          ],
                          [
                            0.7777777777777778,
                            "#fb9f3a"
                          ],
                          [
                            0.8888888888888888,
                            "#fdca26"
                          ],
                          [
                            1,
                            "#f0f921"
                          ]
                        ],
                        "type": "heatmapgl"
                      }
                    ],
                    "histogram": [
                      {
                        "marker": {
                          "pattern": {
                            "fillmode": "overlay",
                            "size": 10,
                            "solidity": 0.2
                          }
                        },
                        "type": "histogram"
                      }
                    ],
                    "histogram2d": [
                      {
                        "colorbar": {
                          "outlinewidth": 0,
                          "ticks": ""
                        },
                        "colorscale": [
                          [
                            0,
                            "#0d0887"
                          ],
                          [
                            0.1111111111111111,
                            "#46039f"
                          ],
                          [
                            0.2222222222222222,
                            "#7201a8"
                          ],
                          [
                            0.3333333333333333,
                            "#9c179e"
                          ],
                          [
                            0.4444444444444444,
                            "#bd3786"
                          ],
                          [
                            0.5555555555555556,
                            "#d8576b"
                          ],
                          [
                            0.6666666666666666,
                            "#ed7953"
                          ],
                          [
                            0.7777777777777778,
                            "#fb9f3a"
                          ],
                          [
                            0.8888888888888888,
                            "#fdca26"
                          ],
                          [
                            1,
                            "#f0f921"
                          ]
                        ],
                        "type": "histogram2d"
                      }
                    ],
                    "histogram2dcontour": [
                      {
                        "colorbar": {
                          "outlinewidth": 0,
                          "ticks": ""
                        },
                        "colorscale": [
                          [
                            0,
                            "#0d0887"
                          ],
                          [
                            0.1111111111111111,
                            "#46039f"
                          ],
                          [
                            0.2222222222222222,
                            "#7201a8"
                          ],
                          [
                            0.3333333333333333,
                            "#9c179e"
                          ],
                          [
                            0.4444444444444444,
                            "#bd3786"
                          ],
                          [
                            0.5555555555555556,
                            "#d8576b"
                          ],
                          [
                            0.6666666666666666,
                            "#ed7953"
                          ],
                          [
                            0.7777777777777778,
                            "#fb9f3a"
                          ],
                          [
                            0.8888888888888888,
                            "#fdca26"
                          ],
                          [
                            1,
                            "#f0f921"
                          ]
                        ],
                        "type": "histogram2dcontour"
                      }
                    ],
                    "mesh3d": [
                      {
                        "colorbar": {
                          "outlinewidth": 0,
                          "ticks": ""
                        },
                        "type": "mesh3d"
                      }
                    ],
                    "parcoords": [
                      {
                        "line": {
                          "colorbar": {
                            "outlinewidth": 0,
                            "ticks": ""
                          }
                        },
                        "type": "parcoords"
                      }
                    ],
                    "pie": [
                      {
                        "automargin": true,
                        "type": "pie"
                      }
                    ],
                    "scatter": [
                      {
                        "fillpattern": {
                          "fillmode": "overlay",
                          "size": 10,
                          "solidity": 0.2
                        },
                        "type": "scatter"
                      }
                    ],
                    "scatter3d": [
                      {
                        "line": {
                          "colorbar": {
                            "outlinewidth": 0,
                            "ticks": ""
                          }
                        },
                        "marker": {
                          "colorbar": {
                            "outlinewidth": 0,
                            "ticks": ""
                          }
                        },
                        "type": "scatter3d"
                      }
                    ],
                    "scattercarpet": [
                      {
                        "marker": {
                          "colorbar": {
                            "outlinewidth": 0,
                            "ticks": ""
                          }
                        },
                        "type": "scattercarpet"
                      }
                    ],
                    "scattergeo": [
                      {
                        "marker": {
                          "colorbar": {
                            "outlinewidth": 0,
                            "ticks": ""
                          }
                        },
                        "type": "scattergeo"
                      }
                    ],
                    "scattergl": [
                      {
                        "marker": {
                          "colorbar": {
                            "outlinewidth": 0,
                            "ticks": ""
                          }
                        },
                        "type": "scattergl"
                      }
                    ],
                    "scattermapbox": [
                      {
                        "marker": {
                          "colorbar": {
                            "outlinewidth": 0,
                            "ticks": ""
                          }
                        },
                        "type": "scattermapbox"
                      }
                    ],
                    "scatterpolar": [
                      {
                        "marker": {
                          "colorbar": {
                            "outlinewidth": 0,
                            "ticks": ""
                          }
                        },
                        "type": "scatterpolar"
                      }
                    ],
                    "scatterpolargl": [
                      {
                        "marker": {
                          "colorbar": {
                            "outlinewidth": 0,
                            "ticks": ""
                          }
                        },
                        "type": "scatterpolargl"
                      }
                    ],
                    "scatterternary": [
                      {
                        "marker": {
                          "colorbar": {
                            "outlinewidth": 0,
                            "ticks": ""
                          }
                        },
                        "type": "scatterternary"
                      }
                    ],
                    "surface": [
                      {
                        "colorbar": {
                          "outlinewidth": 0,
                          "ticks": ""
                        },
                        "colorscale": [
                          [
                            0,
                            "#0d0887"
                          ],
                          [
                            0.1111111111111111,
                            "#46039f"
                          ],
                          [
                            0.2222222222222222,
                            "#7201a8"
                          ],
                          [
                            0.3333333333333333,
                            "#9c179e"
                          ],
                          [
                            0.4444444444444444,
                            "#bd3786"
                          ],
                          [
                            0.5555555555555556,
                            "#d8576b"
                          ],
                          [
                            0.6666666666666666,
                            "#ed7953"
                          ],
                          [
                            0.7777777777777778,
                            "#fb9f3a"
                          ],
                          [
                            0.8888888888888888,
                            "#fdca26"
                          ],
                          [
                            1,
                            "#f0f921"
                          ]
                        ],
                        "type": "surface"
                      }
                    ],
                    "table": [
                      {
                        "cells": {
                          "fill": {
                            "color": "#EBF0F8"
                          },
                          "line": {
                            "color": "white"
                          }
                        },
                        "header": {
                          "fill": {
                            "color": "#C8D4E3"
                          },
                          "line": {
                            "color": "white"
                          }
                        },
                        "type": "table"
                      }
                    ]
                  },
                  "layout": {
                    "annotationdefaults": {
                      "arrowcolor": "#2a3f5f",
                      "arrowhead": 0,
                      "arrowwidth": 1
                    },
                    "autotypenumbers": "strict",
                    "coloraxis": {
                      "colorbar": {
                        "outlinewidth": 0,
                        "ticks": ""
                      }
                    },
                    "colorscale": {
                      "diverging": [
                        [
                          0,
                          "#8e0152"
                        ],
                        [
                          0.1,
                          "#c51b7d"
                        ],
                        [
                          0.2,
                          "#de77ae"
                        ],
                        [
                          0.3,
                          "#f1b6da"
                        ],
                        [
                          0.4,
                          "#fde0ef"
                        ],
                        [
                          0.5,
                          "#f7f7f7"
                        ],
                        [
                          0.6,
                          "#e6f5d0"
                        ],
                        [
                          0.7,
                          "#b8e186"
                        ],
                        [
                          0.8,
                          "#7fbc41"
                        ],
                        [
                          0.9,
                          "#4d9221"
                        ],
                        [
                          1,
                          "#276419"
                        ]
                      ],
                      "sequential": [
                        [
                          0,
                          "#0d0887"
                        ],
                        [
                          0.1111111111111111,
                          "#46039f"
                        ],
                        [
                          0.2222222222222222,
                          "#7201a8"
                        ],
                        [
                          0.3333333333333333,
                          "#9c179e"
                        ],
                        [
                          0.4444444444444444,
                          "#bd3786"
                        ],
                        [
                          0.5555555555555556,
                          "#d8576b"
                        ],
                        [
                          0.6666666666666666,
                          "#ed7953"
                        ],
                        [
                          0.7777777777777778,
                          "#fb9f3a"
                        ],
                        [
                          0.8888888888888888,
                          "#fdca26"
                        ],
                        [
                          1,
                          "#f0f921"
                        ]
                      ],
                      "sequentialminus": [
                        [
                          0,
                          "#0d0887"
                        ],
                        [
                          0.1111111111111111,
                          "#46039f"
                        ],
                        [
                          0.2222222222222222,
                          "#7201a8"
                        ],
                        [
                          0.3333333333333333,
                          "#9c179e"
                        ],
                        [
                          0.4444444444444444,
                          "#bd3786"
                        ],
                        [
                          0.5555555555555556,
                          "#d8576b"
                        ],
                        [
                          0.6666666666666666,
                          "#ed7953"
                        ],
                        [
                          0.7777777777777778,
                          "#fb9f3a"
                        ],
                        [
                          0.8888888888888888,
                          "#fdca26"
                        ],
                        [
                          1,
                          "#f0f921"
                        ]
                      ]
                    },
                    "colorway": [
                      "#636efa",
                      "#EF553B",
                      "#00cc96",
                      "#ab63fa",
                      "#FFA15A",
                      "#19d3f3",
                      "#FF6692",
                      "#B6E880",
                      "#FF97FF",
                      "#FECB52"
                    ],
                    "font": {
                      "color": "#2a3f5f"
                    },
                    "geo": {
                      "bgcolor": "white",
                      "lakecolor": "white",
                      "landcolor": "#E5ECF6",
                      "showlakes": true,
                      "showland": true,
                      "subunitcolor": "white"
                    },
                    "hoverlabel": {
                      "align": "left"
                    },
                    "hovermode": "closest",
                    "mapbox": {
                      "style": "light"
                    },
                    "paper_bgcolor": "white",
                    "plot_bgcolor": "#E5ECF6",
                    "polar": {
                      "angularaxis": {
                        "gridcolor": "white",
                        "linecolor": "white",
                        "ticks": ""
                      },
                      "bgcolor": "#E5ECF6",
                      "radialaxis": {
                        "gridcolor": "white",
                        "linecolor": "white",
                        "ticks": ""
                      }
                    },
                    "scene": {
                      "xaxis": {
                        "backgroundcolor": "#E5ECF6",
                        "gridcolor": "white",
                        "gridwidth": 2,
                        "linecolor": "white",
                        "showbackground": true,
                        "ticks": "",
                        "zerolinecolor": "white"
                      },
                      "yaxis": {
                        "backgroundcolor": "#E5ECF6",
                        "gridcolor": "white",
                        "gridwidth": 2,
                        "linecolor": "white",
                        "showbackground": true,
                        "ticks": "",
                        "zerolinecolor": "white"
                      },
                      "zaxis": {
                        "backgroundcolor": "#E5ECF6",
                        "gridcolor": "white",
                        "gridwidth": 2,
                        "linecolor": "white",
                        "showbackground": true,
                        "ticks": "",
                        "zerolinecolor": "white"
                      }
                    },
                    "shapedefaults": {
                      "line": {
                        "color": "#2a3f5f"
                      }
                    },
                    "ternary": {
                      "aaxis": {
                        "gridcolor": "white",
                        "linecolor": "white",
                        "ticks": ""
                      },
                      "baxis": {
                        "gridcolor": "white",
                        "linecolor": "white",
                        "ticks": ""
                      },
                      "bgcolor": "#E5ECF6",
                      "caxis": {
                        "gridcolor": "white",
                        "linecolor": "white",
                        "ticks": ""
                      }
                    },
                    "title": {
                      "x": 0.05
                    },
                    "xaxis": {
                      "automargin": true,
                      "gridcolor": "white",
                      "linecolor": "white",
                      "ticks": "",
                      "title": {
                        "standoff": 15
                      },
                      "zerolinecolor": "white",
                      "zerolinewidth": 2
                    },
                    "yaxis": {
                      "automargin": true,
                      "gridcolor": "white",
                      "linecolor": "white",
                      "ticks": "",
                      "title": {
                        "standoff": 15
                      },
                      "zerolinecolor": "white",
                      "zerolinewidth": 2
                    }
                  }
                },
                "title": {
                  "font": {
                    "color": "#4D5663"
                  },
                  "text": "다이아몬드 막대 그래프"
                },
                "xaxis": {
                  "gridcolor": "#E1E5ED",
                  "showgrid": true,
                  "tickfont": {
                    "color": "#4D5663"
                  },
                  "title": {
                    "font": {
                      "color": "#4D5663"
                    },
                    "text": ""
                  },
                  "zerolinecolor": "#E1E5ED"
                },
                "yaxis": {
                  "gridcolor": "#E1E5ED",
                  "showgrid": true,
                  "tickfont": {
                    "color": "#4D5663"
                  },
                  "title": {
                    "font": {
                      "color": "#4D5663"
                    },
                    "text": ""
                  },
                  "zerolinecolor": "#E1E5ED"
                }
              }
            },
            "text/html": [
              "<div>                            <div id=\"ebfc8507-86a3-41c6-8d4e-629060f7578c\" class=\"plotly-graph-div\" style=\"height:525px; width:100%;\"></div>            <script type=\"text/javascript\">                require([\"plotly\"], function(Plotly) {                    window.PLOTLYENV=window.PLOTLYENV || {};\n",
              "                    window.PLOTLYENV.BASE_URL='https://plot.ly';                                    if (document.getElementById(\"ebfc8507-86a3-41c6-8d4e-629060f7578c\")) {                    Plotly.newPlot(                        \"ebfc8507-86a3-41c6-8d4e-629060f7578c\",                        [{\"marker\":{\"color\":\"rgba(0, 128, 0, 0.6)\",\"line\":{\"color\":\"rgba(0, 128, 0, 1.0)\",\"width\":1}},\"name\":\"None\",\"orientation\":\"v\",\"text\":\"\",\"x\":[\"Fair\",\"Good\",\"Very Good\",\"Premium\",\"Ideal\"],\"y\":[1610,4906,12082,13791,21551],\"type\":\"bar\"}],                        {\"legend\":{\"bgcolor\":\"#F5F6F9\",\"font\":{\"color\":\"#4D5663\"}},\"paper_bgcolor\":\"#F5F6F9\",\"plot_bgcolor\":\"#F5F6F9\",\"template\":{\"data\":{\"barpolar\":[{\"marker\":{\"line\":{\"color\":\"#E5ECF6\",\"width\":0.5},\"pattern\":{\"fillmode\":\"overlay\",\"size\":10,\"solidity\":0.2}},\"type\":\"barpolar\"}],\"bar\":[{\"error_x\":{\"color\":\"#2a3f5f\"},\"error_y\":{\"color\":\"#2a3f5f\"},\"marker\":{\"line\":{\"color\":\"#E5ECF6\",\"width\":0.5},\"pattern\":{\"fillmode\":\"overlay\",\"size\":10,\"solidity\":0.2}},\"type\":\"bar\"}],\"carpet\":[{\"aaxis\":{\"endlinecolor\":\"#2a3f5f\",\"gridcolor\":\"white\",\"linecolor\":\"white\",\"minorgridcolor\":\"white\",\"startlinecolor\":\"#2a3f5f\"},\"baxis\":{\"endlinecolor\":\"#2a3f5f\",\"gridcolor\":\"white\",\"linecolor\":\"white\",\"minorgridcolor\":\"white\",\"startlinecolor\":\"#2a3f5f\"},\"type\":\"carpet\"}],\"choropleth\":[{\"colorbar\":{\"outlinewidth\":0,\"ticks\":\"\"},\"type\":\"choropleth\"}],\"contourcarpet\":[{\"colorbar\":{\"outlinewidth\":0,\"ticks\":\"\"},\"type\":\"contourcarpet\"}],\"contour\":[{\"colorbar\":{\"outlinewidth\":0,\"ticks\":\"\"},\"colorscale\":[[0.0,\"#0d0887\"],[0.1111111111111111,\"#46039f\"],[0.2222222222222222,\"#7201a8\"],[0.3333333333333333,\"#9c179e\"],[0.4444444444444444,\"#bd3786\"],[0.5555555555555556,\"#d8576b\"],[0.6666666666666666,\"#ed7953\"],[0.7777777777777778,\"#fb9f3a\"],[0.8888888888888888,\"#fdca26\"],[1.0,\"#f0f921\"]],\"type\":\"contour\"}],\"heatmapgl\":[{\"colorbar\":{\"outlinewidth\":0,\"ticks\":\"\"},\"colorscale\":[[0.0,\"#0d0887\"],[0.1111111111111111,\"#46039f\"],[0.2222222222222222,\"#7201a8\"],[0.3333333333333333,\"#9c179e\"],[0.4444444444444444,\"#bd3786\"],[0.5555555555555556,\"#d8576b\"],[0.6666666666666666,\"#ed7953\"],[0.7777777777777778,\"#fb9f3a\"],[0.8888888888888888,\"#fdca26\"],[1.0,\"#f0f921\"]],\"type\":\"heatmapgl\"}],\"heatmap\":[{\"colorbar\":{\"outlinewidth\":0,\"ticks\":\"\"},\"colorscale\":[[0.0,\"#0d0887\"],[0.1111111111111111,\"#46039f\"],[0.2222222222222222,\"#7201a8\"],[0.3333333333333333,\"#9c179e\"],[0.4444444444444444,\"#bd3786\"],[0.5555555555555556,\"#d8576b\"],[0.6666666666666666,\"#ed7953\"],[0.7777777777777778,\"#fb9f3a\"],[0.8888888888888888,\"#fdca26\"],[1.0,\"#f0f921\"]],\"type\":\"heatmap\"}],\"histogram2dcontour\":[{\"colorbar\":{\"outlinewidth\":0,\"ticks\":\"\"},\"colorscale\":[[0.0,\"#0d0887\"],[0.1111111111111111,\"#46039f\"],[0.2222222222222222,\"#7201a8\"],[0.3333333333333333,\"#9c179e\"],[0.4444444444444444,\"#bd3786\"],[0.5555555555555556,\"#d8576b\"],[0.6666666666666666,\"#ed7953\"],[0.7777777777777778,\"#fb9f3a\"],[0.8888888888888888,\"#fdca26\"],[1.0,\"#f0f921\"]],\"type\":\"histogram2dcontour\"}],\"histogram2d\":[{\"colorbar\":{\"outlinewidth\":0,\"ticks\":\"\"},\"colorscale\":[[0.0,\"#0d0887\"],[0.1111111111111111,\"#46039f\"],[0.2222222222222222,\"#7201a8\"],[0.3333333333333333,\"#9c179e\"],[0.4444444444444444,\"#bd3786\"],[0.5555555555555556,\"#d8576b\"],[0.6666666666666666,\"#ed7953\"],[0.7777777777777778,\"#fb9f3a\"],[0.8888888888888888,\"#fdca26\"],[1.0,\"#f0f921\"]],\"type\":\"histogram2d\"}],\"histogram\":[{\"marker\":{\"pattern\":{\"fillmode\":\"overlay\",\"size\":10,\"solidity\":0.2}},\"type\":\"histogram\"}],\"mesh3d\":[{\"colorbar\":{\"outlinewidth\":0,\"ticks\":\"\"},\"type\":\"mesh3d\"}],\"parcoords\":[{\"line\":{\"colorbar\":{\"outlinewidth\":0,\"ticks\":\"\"}},\"type\":\"parcoords\"}],\"pie\":[{\"automargin\":true,\"type\":\"pie\"}],\"scatter3d\":[{\"line\":{\"colorbar\":{\"outlinewidth\":0,\"ticks\":\"\"}},\"marker\":{\"colorbar\":{\"outlinewidth\":0,\"ticks\":\"\"}},\"type\":\"scatter3d\"}],\"scattercarpet\":[{\"marker\":{\"colorbar\":{\"outlinewidth\":0,\"ticks\":\"\"}},\"type\":\"scattercarpet\"}],\"scattergeo\":[{\"marker\":{\"colorbar\":{\"outlinewidth\":0,\"ticks\":\"\"}},\"type\":\"scattergeo\"}],\"scattergl\":[{\"marker\":{\"colorbar\":{\"outlinewidth\":0,\"ticks\":\"\"}},\"type\":\"scattergl\"}],\"scattermapbox\":[{\"marker\":{\"colorbar\":{\"outlinewidth\":0,\"ticks\":\"\"}},\"type\":\"scattermapbox\"}],\"scatterpolargl\":[{\"marker\":{\"colorbar\":{\"outlinewidth\":0,\"ticks\":\"\"}},\"type\":\"scatterpolargl\"}],\"scatterpolar\":[{\"marker\":{\"colorbar\":{\"outlinewidth\":0,\"ticks\":\"\"}},\"type\":\"scatterpolar\"}],\"scatter\":[{\"fillpattern\":{\"fillmode\":\"overlay\",\"size\":10,\"solidity\":0.2},\"type\":\"scatter\"}],\"scatterternary\":[{\"marker\":{\"colorbar\":{\"outlinewidth\":0,\"ticks\":\"\"}},\"type\":\"scatterternary\"}],\"surface\":[{\"colorbar\":{\"outlinewidth\":0,\"ticks\":\"\"},\"colorscale\":[[0.0,\"#0d0887\"],[0.1111111111111111,\"#46039f\"],[0.2222222222222222,\"#7201a8\"],[0.3333333333333333,\"#9c179e\"],[0.4444444444444444,\"#bd3786\"],[0.5555555555555556,\"#d8576b\"],[0.6666666666666666,\"#ed7953\"],[0.7777777777777778,\"#fb9f3a\"],[0.8888888888888888,\"#fdca26\"],[1.0,\"#f0f921\"]],\"type\":\"surface\"}],\"table\":[{\"cells\":{\"fill\":{\"color\":\"#EBF0F8\"},\"line\":{\"color\":\"white\"}},\"header\":{\"fill\":{\"color\":\"#C8D4E3\"},\"line\":{\"color\":\"white\"}},\"type\":\"table\"}]},\"layout\":{\"annotationdefaults\":{\"arrowcolor\":\"#2a3f5f\",\"arrowhead\":0,\"arrowwidth\":1},\"autotypenumbers\":\"strict\",\"coloraxis\":{\"colorbar\":{\"outlinewidth\":0,\"ticks\":\"\"}},\"colorscale\":{\"diverging\":[[0,\"#8e0152\"],[0.1,\"#c51b7d\"],[0.2,\"#de77ae\"],[0.3,\"#f1b6da\"],[0.4,\"#fde0ef\"],[0.5,\"#f7f7f7\"],[0.6,\"#e6f5d0\"],[0.7,\"#b8e186\"],[0.8,\"#7fbc41\"],[0.9,\"#4d9221\"],[1,\"#276419\"]],\"sequential\":[[0.0,\"#0d0887\"],[0.1111111111111111,\"#46039f\"],[0.2222222222222222,\"#7201a8\"],[0.3333333333333333,\"#9c179e\"],[0.4444444444444444,\"#bd3786\"],[0.5555555555555556,\"#d8576b\"],[0.6666666666666666,\"#ed7953\"],[0.7777777777777778,\"#fb9f3a\"],[0.8888888888888888,\"#fdca26\"],[1.0,\"#f0f921\"]],\"sequentialminus\":[[0.0,\"#0d0887\"],[0.1111111111111111,\"#46039f\"],[0.2222222222222222,\"#7201a8\"],[0.3333333333333333,\"#9c179e\"],[0.4444444444444444,\"#bd3786\"],[0.5555555555555556,\"#d8576b\"],[0.6666666666666666,\"#ed7953\"],[0.7777777777777778,\"#fb9f3a\"],[0.8888888888888888,\"#fdca26\"],[1.0,\"#f0f921\"]]},\"colorway\":[\"#636efa\",\"#EF553B\",\"#00cc96\",\"#ab63fa\",\"#FFA15A\",\"#19d3f3\",\"#FF6692\",\"#B6E880\",\"#FF97FF\",\"#FECB52\"],\"font\":{\"color\":\"#2a3f5f\"},\"geo\":{\"bgcolor\":\"white\",\"lakecolor\":\"white\",\"landcolor\":\"#E5ECF6\",\"showlakes\":true,\"showland\":true,\"subunitcolor\":\"white\"},\"hoverlabel\":{\"align\":\"left\"},\"hovermode\":\"closest\",\"mapbox\":{\"style\":\"light\"},\"paper_bgcolor\":\"white\",\"plot_bgcolor\":\"#E5ECF6\",\"polar\":{\"angularaxis\":{\"gridcolor\":\"white\",\"linecolor\":\"white\",\"ticks\":\"\"},\"bgcolor\":\"#E5ECF6\",\"radialaxis\":{\"gridcolor\":\"white\",\"linecolor\":\"white\",\"ticks\":\"\"}},\"scene\":{\"xaxis\":{\"backgroundcolor\":\"#E5ECF6\",\"gridcolor\":\"white\",\"gridwidth\":2,\"linecolor\":\"white\",\"showbackground\":true,\"ticks\":\"\",\"zerolinecolor\":\"white\"},\"yaxis\":{\"backgroundcolor\":\"#E5ECF6\",\"gridcolor\":\"white\",\"gridwidth\":2,\"linecolor\":\"white\",\"showbackground\":true,\"ticks\":\"\",\"zerolinecolor\":\"white\"},\"zaxis\":{\"backgroundcolor\":\"#E5ECF6\",\"gridcolor\":\"white\",\"gridwidth\":2,\"linecolor\":\"white\",\"showbackground\":true,\"ticks\":\"\",\"zerolinecolor\":\"white\"}},\"shapedefaults\":{\"line\":{\"color\":\"#2a3f5f\"}},\"ternary\":{\"aaxis\":{\"gridcolor\":\"white\",\"linecolor\":\"white\",\"ticks\":\"\"},\"baxis\":{\"gridcolor\":\"white\",\"linecolor\":\"white\",\"ticks\":\"\"},\"bgcolor\":\"#E5ECF6\",\"caxis\":{\"gridcolor\":\"white\",\"linecolor\":\"white\",\"ticks\":\"\"}},\"title\":{\"x\":0.05},\"xaxis\":{\"automargin\":true,\"gridcolor\":\"white\",\"linecolor\":\"white\",\"ticks\":\"\",\"title\":{\"standoff\":15},\"zerolinecolor\":\"white\",\"zerolinewidth\":2},\"yaxis\":{\"automargin\":true,\"gridcolor\":\"white\",\"linecolor\":\"white\",\"ticks\":\"\",\"title\":{\"standoff\":15},\"zerolinecolor\":\"white\",\"zerolinewidth\":2}}},\"title\":{\"font\":{\"color\":\"#4D5663\"},\"text\":\"\\ub2e4\\uc774\\uc544\\ubaac\\ub4dc \\ub9c9\\ub300 \\uadf8\\ub798\\ud504\"},\"xaxis\":{\"gridcolor\":\"#E1E5ED\",\"showgrid\":true,\"tickfont\":{\"color\":\"#4D5663\"},\"title\":{\"font\":{\"color\":\"#4D5663\"},\"text\":\"\"},\"zerolinecolor\":\"#E1E5ED\"},\"yaxis\":{\"gridcolor\":\"#E1E5ED\",\"showgrid\":true,\"tickfont\":{\"color\":\"#4D5663\"},\"title\":{\"font\":{\"color\":\"#4D5663\"},\"text\":\"\"},\"zerolinecolor\":\"#E1E5ED\"}},                        {\"showLink\": true, \"linkText\": \"Export to plot.ly\", \"plotlyServerURL\": \"https://plot.ly\", \"responsive\": true}                    ).then(function(){\n",
              "                            \n",
              "var gd = document.getElementById('ebfc8507-86a3-41c6-8d4e-629060f7578c');\n",
              "var x = new MutationObserver(function (mutations, observer) {{\n",
              "        var display = window.getComputedStyle(gd).display;\n",
              "        if (!display || display === 'none') {{\n",
              "            console.log([gd, 'removed!']);\n",
              "            Plotly.purge(gd);\n",
              "            observer.disconnect();\n",
              "        }}\n",
              "}});\n",
              "\n",
              "// Listen for the removal of the full notebook cells\n",
              "var notebookContainer = gd.closest('#notebook-container');\n",
              "if (notebookContainer) {{\n",
              "    x.observe(notebookContainer, {childList: true});\n",
              "}}\n",
              "\n",
              "// Listen for the clearing of the current output cell\n",
              "var outputEl = gd.closest('.output');\n",
              "if (outputEl) {{\n",
              "    x.observe(outputEl, {childList: true});\n",
              "}}\n",
              "\n",
              "                        })                };                });            </script>        </div>"
            ]
          },
          "metadata": {},
          "output_type": "display_data"
        }
      ],
      "source": [
        "df.iplot(kind='bar', title='다이아몬드 막대 그래프', color='green')"
      ]
    },
    {
      "cell_type": "markdown",
      "id": "67f55fd9",
      "metadata": {
        "id": "67f55fd9"
      },
      "source": [
        "* **title='다이아몬드 막대 그래프'**\n",
        "\n",
        "    title 파라미터에 문자열을 지정해 차트 제목을 추가했습니다.\n",
        "<br><br>\n",
        "* **color='teal'**\n",
        "\n",
        "    color 파라미터를 'teal'로 지정해 막대의 색상을 초록색으로 설정했습니다."
      ]
    },
    {
      "cell_type": "markdown",
      "id": "b6fef2f0",
      "metadata": {
        "id": "b6fef2f0"
      },
      "source": [
        "<br>"
      ]
    },
    {
      "cell_type": "code",
      "execution_count": null,
      "id": "a289a7e1",
      "metadata": {
        "id": "a289a7e1",
        "outputId": "9bd526bb-6646-439c-8822-41e9499d2ae7"
      },
      "outputs": [
        {
          "data": {
            "application/vnd.plotly.v1+json": {
              "config": {
                "linkText": "Export to plot.ly",
                "plotlyServerURL": "https://plot.ly",
                "showLink": true
              },
              "data": [
                {
                  "marker": {
                    "color": "rgba(255, 153, 51, 0.6)",
                    "line": {
                      "color": "rgba(255, 153, 51, 1.0)",
                      "width": 1
                    }
                  },
                  "name": "None",
                  "orientation": "h",
                  "text": "",
                  "type": "bar",
                  "x": [
                    1610,
                    4906,
                    12082,
                    13791,
                    21551
                  ],
                  "y": [
                    "Fair",
                    "Good",
                    "Very Good",
                    "Premium",
                    "Ideal"
                  ]
                }
              ],
              "layout": {
                "legend": {
                  "bgcolor": "#F5F6F9",
                  "font": {
                    "color": "#4D5663"
                  }
                },
                "paper_bgcolor": "#F5F6F9",
                "plot_bgcolor": "#F5F6F9",
                "template": {
                  "data": {
                    "bar": [
                      {
                        "error_x": {
                          "color": "#2a3f5f"
                        },
                        "error_y": {
                          "color": "#2a3f5f"
                        },
                        "marker": {
                          "line": {
                            "color": "#E5ECF6",
                            "width": 0.5
                          },
                          "pattern": {
                            "fillmode": "overlay",
                            "size": 10,
                            "solidity": 0.2
                          }
                        },
                        "type": "bar"
                      }
                    ],
                    "barpolar": [
                      {
                        "marker": {
                          "line": {
                            "color": "#E5ECF6",
                            "width": 0.5
                          },
                          "pattern": {
                            "fillmode": "overlay",
                            "size": 10,
                            "solidity": 0.2
                          }
                        },
                        "type": "barpolar"
                      }
                    ],
                    "carpet": [
                      {
                        "aaxis": {
                          "endlinecolor": "#2a3f5f",
                          "gridcolor": "white",
                          "linecolor": "white",
                          "minorgridcolor": "white",
                          "startlinecolor": "#2a3f5f"
                        },
                        "baxis": {
                          "endlinecolor": "#2a3f5f",
                          "gridcolor": "white",
                          "linecolor": "white",
                          "minorgridcolor": "white",
                          "startlinecolor": "#2a3f5f"
                        },
                        "type": "carpet"
                      }
                    ],
                    "choropleth": [
                      {
                        "colorbar": {
                          "outlinewidth": 0,
                          "ticks": ""
                        },
                        "type": "choropleth"
                      }
                    ],
                    "contour": [
                      {
                        "colorbar": {
                          "outlinewidth": 0,
                          "ticks": ""
                        },
                        "colorscale": [
                          [
                            0,
                            "#0d0887"
                          ],
                          [
                            0.1111111111111111,
                            "#46039f"
                          ],
                          [
                            0.2222222222222222,
                            "#7201a8"
                          ],
                          [
                            0.3333333333333333,
                            "#9c179e"
                          ],
                          [
                            0.4444444444444444,
                            "#bd3786"
                          ],
                          [
                            0.5555555555555556,
                            "#d8576b"
                          ],
                          [
                            0.6666666666666666,
                            "#ed7953"
                          ],
                          [
                            0.7777777777777778,
                            "#fb9f3a"
                          ],
                          [
                            0.8888888888888888,
                            "#fdca26"
                          ],
                          [
                            1,
                            "#f0f921"
                          ]
                        ],
                        "type": "contour"
                      }
                    ],
                    "contourcarpet": [
                      {
                        "colorbar": {
                          "outlinewidth": 0,
                          "ticks": ""
                        },
                        "type": "contourcarpet"
                      }
                    ],
                    "heatmap": [
                      {
                        "colorbar": {
                          "outlinewidth": 0,
                          "ticks": ""
                        },
                        "colorscale": [
                          [
                            0,
                            "#0d0887"
                          ],
                          [
                            0.1111111111111111,
                            "#46039f"
                          ],
                          [
                            0.2222222222222222,
                            "#7201a8"
                          ],
                          [
                            0.3333333333333333,
                            "#9c179e"
                          ],
                          [
                            0.4444444444444444,
                            "#bd3786"
                          ],
                          [
                            0.5555555555555556,
                            "#d8576b"
                          ],
                          [
                            0.6666666666666666,
                            "#ed7953"
                          ],
                          [
                            0.7777777777777778,
                            "#fb9f3a"
                          ],
                          [
                            0.8888888888888888,
                            "#fdca26"
                          ],
                          [
                            1,
                            "#f0f921"
                          ]
                        ],
                        "type": "heatmap"
                      }
                    ],
                    "heatmapgl": [
                      {
                        "colorbar": {
                          "outlinewidth": 0,
                          "ticks": ""
                        },
                        "colorscale": [
                          [
                            0,
                            "#0d0887"
                          ],
                          [
                            0.1111111111111111,
                            "#46039f"
                          ],
                          [
                            0.2222222222222222,
                            "#7201a8"
                          ],
                          [
                            0.3333333333333333,
                            "#9c179e"
                          ],
                          [
                            0.4444444444444444,
                            "#bd3786"
                          ],
                          [
                            0.5555555555555556,
                            "#d8576b"
                          ],
                          [
                            0.6666666666666666,
                            "#ed7953"
                          ],
                          [
                            0.7777777777777778,
                            "#fb9f3a"
                          ],
                          [
                            0.8888888888888888,
                            "#fdca26"
                          ],
                          [
                            1,
                            "#f0f921"
                          ]
                        ],
                        "type": "heatmapgl"
                      }
                    ],
                    "histogram": [
                      {
                        "marker": {
                          "pattern": {
                            "fillmode": "overlay",
                            "size": 10,
                            "solidity": 0.2
                          }
                        },
                        "type": "histogram"
                      }
                    ],
                    "histogram2d": [
                      {
                        "colorbar": {
                          "outlinewidth": 0,
                          "ticks": ""
                        },
                        "colorscale": [
                          [
                            0,
                            "#0d0887"
                          ],
                          [
                            0.1111111111111111,
                            "#46039f"
                          ],
                          [
                            0.2222222222222222,
                            "#7201a8"
                          ],
                          [
                            0.3333333333333333,
                            "#9c179e"
                          ],
                          [
                            0.4444444444444444,
                            "#bd3786"
                          ],
                          [
                            0.5555555555555556,
                            "#d8576b"
                          ],
                          [
                            0.6666666666666666,
                            "#ed7953"
                          ],
                          [
                            0.7777777777777778,
                            "#fb9f3a"
                          ],
                          [
                            0.8888888888888888,
                            "#fdca26"
                          ],
                          [
                            1,
                            "#f0f921"
                          ]
                        ],
                        "type": "histogram2d"
                      }
                    ],
                    "histogram2dcontour": [
                      {
                        "colorbar": {
                          "outlinewidth": 0,
                          "ticks": ""
                        },
                        "colorscale": [
                          [
                            0,
                            "#0d0887"
                          ],
                          [
                            0.1111111111111111,
                            "#46039f"
                          ],
                          [
                            0.2222222222222222,
                            "#7201a8"
                          ],
                          [
                            0.3333333333333333,
                            "#9c179e"
                          ],
                          [
                            0.4444444444444444,
                            "#bd3786"
                          ],
                          [
                            0.5555555555555556,
                            "#d8576b"
                          ],
                          [
                            0.6666666666666666,
                            "#ed7953"
                          ],
                          [
                            0.7777777777777778,
                            "#fb9f3a"
                          ],
                          [
                            0.8888888888888888,
                            "#fdca26"
                          ],
                          [
                            1,
                            "#f0f921"
                          ]
                        ],
                        "type": "histogram2dcontour"
                      }
                    ],
                    "mesh3d": [
                      {
                        "colorbar": {
                          "outlinewidth": 0,
                          "ticks": ""
                        },
                        "type": "mesh3d"
                      }
                    ],
                    "parcoords": [
                      {
                        "line": {
                          "colorbar": {
                            "outlinewidth": 0,
                            "ticks": ""
                          }
                        },
                        "type": "parcoords"
                      }
                    ],
                    "pie": [
                      {
                        "automargin": true,
                        "type": "pie"
                      }
                    ],
                    "scatter": [
                      {
                        "fillpattern": {
                          "fillmode": "overlay",
                          "size": 10,
                          "solidity": 0.2
                        },
                        "type": "scatter"
                      }
                    ],
                    "scatter3d": [
                      {
                        "line": {
                          "colorbar": {
                            "outlinewidth": 0,
                            "ticks": ""
                          }
                        },
                        "marker": {
                          "colorbar": {
                            "outlinewidth": 0,
                            "ticks": ""
                          }
                        },
                        "type": "scatter3d"
                      }
                    ],
                    "scattercarpet": [
                      {
                        "marker": {
                          "colorbar": {
                            "outlinewidth": 0,
                            "ticks": ""
                          }
                        },
                        "type": "scattercarpet"
                      }
                    ],
                    "scattergeo": [
                      {
                        "marker": {
                          "colorbar": {
                            "outlinewidth": 0,
                            "ticks": ""
                          }
                        },
                        "type": "scattergeo"
                      }
                    ],
                    "scattergl": [
                      {
                        "marker": {
                          "colorbar": {
                            "outlinewidth": 0,
                            "ticks": ""
                          }
                        },
                        "type": "scattergl"
                      }
                    ],
                    "scattermapbox": [
                      {
                        "marker": {
                          "colorbar": {
                            "outlinewidth": 0,
                            "ticks": ""
                          }
                        },
                        "type": "scattermapbox"
                      }
                    ],
                    "scatterpolar": [
                      {
                        "marker": {
                          "colorbar": {
                            "outlinewidth": 0,
                            "ticks": ""
                          }
                        },
                        "type": "scatterpolar"
                      }
                    ],
                    "scatterpolargl": [
                      {
                        "marker": {
                          "colorbar": {
                            "outlinewidth": 0,
                            "ticks": ""
                          }
                        },
                        "type": "scatterpolargl"
                      }
                    ],
                    "scatterternary": [
                      {
                        "marker": {
                          "colorbar": {
                            "outlinewidth": 0,
                            "ticks": ""
                          }
                        },
                        "type": "scatterternary"
                      }
                    ],
                    "surface": [
                      {
                        "colorbar": {
                          "outlinewidth": 0,
                          "ticks": ""
                        },
                        "colorscale": [
                          [
                            0,
                            "#0d0887"
                          ],
                          [
                            0.1111111111111111,
                            "#46039f"
                          ],
                          [
                            0.2222222222222222,
                            "#7201a8"
                          ],
                          [
                            0.3333333333333333,
                            "#9c179e"
                          ],
                          [
                            0.4444444444444444,
                            "#bd3786"
                          ],
                          [
                            0.5555555555555556,
                            "#d8576b"
                          ],
                          [
                            0.6666666666666666,
                            "#ed7953"
                          ],
                          [
                            0.7777777777777778,
                            "#fb9f3a"
                          ],
                          [
                            0.8888888888888888,
                            "#fdca26"
                          ],
                          [
                            1,
                            "#f0f921"
                          ]
                        ],
                        "type": "surface"
                      }
                    ],
                    "table": [
                      {
                        "cells": {
                          "fill": {
                            "color": "#EBF0F8"
                          },
                          "line": {
                            "color": "white"
                          }
                        },
                        "header": {
                          "fill": {
                            "color": "#C8D4E3"
                          },
                          "line": {
                            "color": "white"
                          }
                        },
                        "type": "table"
                      }
                    ]
                  },
                  "layout": {
                    "annotationdefaults": {
                      "arrowcolor": "#2a3f5f",
                      "arrowhead": 0,
                      "arrowwidth": 1
                    },
                    "autotypenumbers": "strict",
                    "coloraxis": {
                      "colorbar": {
                        "outlinewidth": 0,
                        "ticks": ""
                      }
                    },
                    "colorscale": {
                      "diverging": [
                        [
                          0,
                          "#8e0152"
                        ],
                        [
                          0.1,
                          "#c51b7d"
                        ],
                        [
                          0.2,
                          "#de77ae"
                        ],
                        [
                          0.3,
                          "#f1b6da"
                        ],
                        [
                          0.4,
                          "#fde0ef"
                        ],
                        [
                          0.5,
                          "#f7f7f7"
                        ],
                        [
                          0.6,
                          "#e6f5d0"
                        ],
                        [
                          0.7,
                          "#b8e186"
                        ],
                        [
                          0.8,
                          "#7fbc41"
                        ],
                        [
                          0.9,
                          "#4d9221"
                        ],
                        [
                          1,
                          "#276419"
                        ]
                      ],
                      "sequential": [
                        [
                          0,
                          "#0d0887"
                        ],
                        [
                          0.1111111111111111,
                          "#46039f"
                        ],
                        [
                          0.2222222222222222,
                          "#7201a8"
                        ],
                        [
                          0.3333333333333333,
                          "#9c179e"
                        ],
                        [
                          0.4444444444444444,
                          "#bd3786"
                        ],
                        [
                          0.5555555555555556,
                          "#d8576b"
                        ],
                        [
                          0.6666666666666666,
                          "#ed7953"
                        ],
                        [
                          0.7777777777777778,
                          "#fb9f3a"
                        ],
                        [
                          0.8888888888888888,
                          "#fdca26"
                        ],
                        [
                          1,
                          "#f0f921"
                        ]
                      ],
                      "sequentialminus": [
                        [
                          0,
                          "#0d0887"
                        ],
                        [
                          0.1111111111111111,
                          "#46039f"
                        ],
                        [
                          0.2222222222222222,
                          "#7201a8"
                        ],
                        [
                          0.3333333333333333,
                          "#9c179e"
                        ],
                        [
                          0.4444444444444444,
                          "#bd3786"
                        ],
                        [
                          0.5555555555555556,
                          "#d8576b"
                        ],
                        [
                          0.6666666666666666,
                          "#ed7953"
                        ],
                        [
                          0.7777777777777778,
                          "#fb9f3a"
                        ],
                        [
                          0.8888888888888888,
                          "#fdca26"
                        ],
                        [
                          1,
                          "#f0f921"
                        ]
                      ]
                    },
                    "colorway": [
                      "#636efa",
                      "#EF553B",
                      "#00cc96",
                      "#ab63fa",
                      "#FFA15A",
                      "#19d3f3",
                      "#FF6692",
                      "#B6E880",
                      "#FF97FF",
                      "#FECB52"
                    ],
                    "font": {
                      "color": "#2a3f5f"
                    },
                    "geo": {
                      "bgcolor": "white",
                      "lakecolor": "white",
                      "landcolor": "#E5ECF6",
                      "showlakes": true,
                      "showland": true,
                      "subunitcolor": "white"
                    },
                    "hoverlabel": {
                      "align": "left"
                    },
                    "hovermode": "closest",
                    "mapbox": {
                      "style": "light"
                    },
                    "paper_bgcolor": "white",
                    "plot_bgcolor": "#E5ECF6",
                    "polar": {
                      "angularaxis": {
                        "gridcolor": "white",
                        "linecolor": "white",
                        "ticks": ""
                      },
                      "bgcolor": "#E5ECF6",
                      "radialaxis": {
                        "gridcolor": "white",
                        "linecolor": "white",
                        "ticks": ""
                      }
                    },
                    "scene": {
                      "xaxis": {
                        "backgroundcolor": "#E5ECF6",
                        "gridcolor": "white",
                        "gridwidth": 2,
                        "linecolor": "white",
                        "showbackground": true,
                        "ticks": "",
                        "zerolinecolor": "white"
                      },
                      "yaxis": {
                        "backgroundcolor": "#E5ECF6",
                        "gridcolor": "white",
                        "gridwidth": 2,
                        "linecolor": "white",
                        "showbackground": true,
                        "ticks": "",
                        "zerolinecolor": "white"
                      },
                      "zaxis": {
                        "backgroundcolor": "#E5ECF6",
                        "gridcolor": "white",
                        "gridwidth": 2,
                        "linecolor": "white",
                        "showbackground": true,
                        "ticks": "",
                        "zerolinecolor": "white"
                      }
                    },
                    "shapedefaults": {
                      "line": {
                        "color": "#2a3f5f"
                      }
                    },
                    "ternary": {
                      "aaxis": {
                        "gridcolor": "white",
                        "linecolor": "white",
                        "ticks": ""
                      },
                      "baxis": {
                        "gridcolor": "white",
                        "linecolor": "white",
                        "ticks": ""
                      },
                      "bgcolor": "#E5ECF6",
                      "caxis": {
                        "gridcolor": "white",
                        "linecolor": "white",
                        "ticks": ""
                      }
                    },
                    "title": {
                      "x": 0.05
                    },
                    "xaxis": {
                      "automargin": true,
                      "gridcolor": "white",
                      "linecolor": "white",
                      "ticks": "",
                      "title": {
                        "standoff": 15
                      },
                      "zerolinecolor": "white",
                      "zerolinewidth": 2
                    },
                    "yaxis": {
                      "automargin": true,
                      "gridcolor": "white",
                      "linecolor": "white",
                      "ticks": "",
                      "title": {
                        "standoff": 15
                      },
                      "zerolinecolor": "white",
                      "zerolinewidth": 2
                    }
                  }
                },
                "title": {
                  "font": {
                    "color": "#4D5663"
                  }
                },
                "xaxis": {
                  "gridcolor": "#E1E5ED",
                  "showgrid": true,
                  "tickfont": {
                    "color": "#4D5663"
                  },
                  "title": {
                    "font": {
                      "color": "#4D5663"
                    },
                    "text": ""
                  },
                  "zerolinecolor": "#E1E5ED"
                },
                "yaxis": {
                  "gridcolor": "#E1E5ED",
                  "showgrid": true,
                  "tickfont": {
                    "color": "#4D5663"
                  },
                  "title": {
                    "font": {
                      "color": "#4D5663"
                    },
                    "text": ""
                  },
                  "zerolinecolor": "#E1E5ED"
                }
              }
            },
            "text/html": [
              "<div>                            <div id=\"6cc55dde-a7e8-4a1d-968d-35ca30e8fc8c\" class=\"plotly-graph-div\" style=\"height:525px; width:100%;\"></div>            <script type=\"text/javascript\">                require([\"plotly\"], function(Plotly) {                    window.PLOTLYENV=window.PLOTLYENV || {};\n",
              "                    window.PLOTLYENV.BASE_URL='https://plot.ly';                                    if (document.getElementById(\"6cc55dde-a7e8-4a1d-968d-35ca30e8fc8c\")) {                    Plotly.newPlot(                        \"6cc55dde-a7e8-4a1d-968d-35ca30e8fc8c\",                        [{\"marker\":{\"color\":\"rgba(255, 153, 51, 0.6)\",\"line\":{\"color\":\"rgba(255, 153, 51, 1.0)\",\"width\":1}},\"name\":\"None\",\"orientation\":\"h\",\"text\":\"\",\"x\":[1610,4906,12082,13791,21551],\"y\":[\"Fair\",\"Good\",\"Very Good\",\"Premium\",\"Ideal\"],\"type\":\"bar\"}],                        {\"legend\":{\"bgcolor\":\"#F5F6F9\",\"font\":{\"color\":\"#4D5663\"}},\"paper_bgcolor\":\"#F5F6F9\",\"plot_bgcolor\":\"#F5F6F9\",\"template\":{\"data\":{\"barpolar\":[{\"marker\":{\"line\":{\"color\":\"#E5ECF6\",\"width\":0.5},\"pattern\":{\"fillmode\":\"overlay\",\"size\":10,\"solidity\":0.2}},\"type\":\"barpolar\"}],\"bar\":[{\"error_x\":{\"color\":\"#2a3f5f\"},\"error_y\":{\"color\":\"#2a3f5f\"},\"marker\":{\"line\":{\"color\":\"#E5ECF6\",\"width\":0.5},\"pattern\":{\"fillmode\":\"overlay\",\"size\":10,\"solidity\":0.2}},\"type\":\"bar\"}],\"carpet\":[{\"aaxis\":{\"endlinecolor\":\"#2a3f5f\",\"gridcolor\":\"white\",\"linecolor\":\"white\",\"minorgridcolor\":\"white\",\"startlinecolor\":\"#2a3f5f\"},\"baxis\":{\"endlinecolor\":\"#2a3f5f\",\"gridcolor\":\"white\",\"linecolor\":\"white\",\"minorgridcolor\":\"white\",\"startlinecolor\":\"#2a3f5f\"},\"type\":\"carpet\"}],\"choropleth\":[{\"colorbar\":{\"outlinewidth\":0,\"ticks\":\"\"},\"type\":\"choropleth\"}],\"contourcarpet\":[{\"colorbar\":{\"outlinewidth\":0,\"ticks\":\"\"},\"type\":\"contourcarpet\"}],\"contour\":[{\"colorbar\":{\"outlinewidth\":0,\"ticks\":\"\"},\"colorscale\":[[0.0,\"#0d0887\"],[0.1111111111111111,\"#46039f\"],[0.2222222222222222,\"#7201a8\"],[0.3333333333333333,\"#9c179e\"],[0.4444444444444444,\"#bd3786\"],[0.5555555555555556,\"#d8576b\"],[0.6666666666666666,\"#ed7953\"],[0.7777777777777778,\"#fb9f3a\"],[0.8888888888888888,\"#fdca26\"],[1.0,\"#f0f921\"]],\"type\":\"contour\"}],\"heatmapgl\":[{\"colorbar\":{\"outlinewidth\":0,\"ticks\":\"\"},\"colorscale\":[[0.0,\"#0d0887\"],[0.1111111111111111,\"#46039f\"],[0.2222222222222222,\"#7201a8\"],[0.3333333333333333,\"#9c179e\"],[0.4444444444444444,\"#bd3786\"],[0.5555555555555556,\"#d8576b\"],[0.6666666666666666,\"#ed7953\"],[0.7777777777777778,\"#fb9f3a\"],[0.8888888888888888,\"#fdca26\"],[1.0,\"#f0f921\"]],\"type\":\"heatmapgl\"}],\"heatmap\":[{\"colorbar\":{\"outlinewidth\":0,\"ticks\":\"\"},\"colorscale\":[[0.0,\"#0d0887\"],[0.1111111111111111,\"#46039f\"],[0.2222222222222222,\"#7201a8\"],[0.3333333333333333,\"#9c179e\"],[0.4444444444444444,\"#bd3786\"],[0.5555555555555556,\"#d8576b\"],[0.6666666666666666,\"#ed7953\"],[0.7777777777777778,\"#fb9f3a\"],[0.8888888888888888,\"#fdca26\"],[1.0,\"#f0f921\"]],\"type\":\"heatmap\"}],\"histogram2dcontour\":[{\"colorbar\":{\"outlinewidth\":0,\"ticks\":\"\"},\"colorscale\":[[0.0,\"#0d0887\"],[0.1111111111111111,\"#46039f\"],[0.2222222222222222,\"#7201a8\"],[0.3333333333333333,\"#9c179e\"],[0.4444444444444444,\"#bd3786\"],[0.5555555555555556,\"#d8576b\"],[0.6666666666666666,\"#ed7953\"],[0.7777777777777778,\"#fb9f3a\"],[0.8888888888888888,\"#fdca26\"],[1.0,\"#f0f921\"]],\"type\":\"histogram2dcontour\"}],\"histogram2d\":[{\"colorbar\":{\"outlinewidth\":0,\"ticks\":\"\"},\"colorscale\":[[0.0,\"#0d0887\"],[0.1111111111111111,\"#46039f\"],[0.2222222222222222,\"#7201a8\"],[0.3333333333333333,\"#9c179e\"],[0.4444444444444444,\"#bd3786\"],[0.5555555555555556,\"#d8576b\"],[0.6666666666666666,\"#ed7953\"],[0.7777777777777778,\"#fb9f3a\"],[0.8888888888888888,\"#fdca26\"],[1.0,\"#f0f921\"]],\"type\":\"histogram2d\"}],\"histogram\":[{\"marker\":{\"pattern\":{\"fillmode\":\"overlay\",\"size\":10,\"solidity\":0.2}},\"type\":\"histogram\"}],\"mesh3d\":[{\"colorbar\":{\"outlinewidth\":0,\"ticks\":\"\"},\"type\":\"mesh3d\"}],\"parcoords\":[{\"line\":{\"colorbar\":{\"outlinewidth\":0,\"ticks\":\"\"}},\"type\":\"parcoords\"}],\"pie\":[{\"automargin\":true,\"type\":\"pie\"}],\"scatter3d\":[{\"line\":{\"colorbar\":{\"outlinewidth\":0,\"ticks\":\"\"}},\"marker\":{\"colorbar\":{\"outlinewidth\":0,\"ticks\":\"\"}},\"type\":\"scatter3d\"}],\"scattercarpet\":[{\"marker\":{\"colorbar\":{\"outlinewidth\":0,\"ticks\":\"\"}},\"type\":\"scattercarpet\"}],\"scattergeo\":[{\"marker\":{\"colorbar\":{\"outlinewidth\":0,\"ticks\":\"\"}},\"type\":\"scattergeo\"}],\"scattergl\":[{\"marker\":{\"colorbar\":{\"outlinewidth\":0,\"ticks\":\"\"}},\"type\":\"scattergl\"}],\"scattermapbox\":[{\"marker\":{\"colorbar\":{\"outlinewidth\":0,\"ticks\":\"\"}},\"type\":\"scattermapbox\"}],\"scatterpolargl\":[{\"marker\":{\"colorbar\":{\"outlinewidth\":0,\"ticks\":\"\"}},\"type\":\"scatterpolargl\"}],\"scatterpolar\":[{\"marker\":{\"colorbar\":{\"outlinewidth\":0,\"ticks\":\"\"}},\"type\":\"scatterpolar\"}],\"scatter\":[{\"fillpattern\":{\"fillmode\":\"overlay\",\"size\":10,\"solidity\":0.2},\"type\":\"scatter\"}],\"scatterternary\":[{\"marker\":{\"colorbar\":{\"outlinewidth\":0,\"ticks\":\"\"}},\"type\":\"scatterternary\"}],\"surface\":[{\"colorbar\":{\"outlinewidth\":0,\"ticks\":\"\"},\"colorscale\":[[0.0,\"#0d0887\"],[0.1111111111111111,\"#46039f\"],[0.2222222222222222,\"#7201a8\"],[0.3333333333333333,\"#9c179e\"],[0.4444444444444444,\"#bd3786\"],[0.5555555555555556,\"#d8576b\"],[0.6666666666666666,\"#ed7953\"],[0.7777777777777778,\"#fb9f3a\"],[0.8888888888888888,\"#fdca26\"],[1.0,\"#f0f921\"]],\"type\":\"surface\"}],\"table\":[{\"cells\":{\"fill\":{\"color\":\"#EBF0F8\"},\"line\":{\"color\":\"white\"}},\"header\":{\"fill\":{\"color\":\"#C8D4E3\"},\"line\":{\"color\":\"white\"}},\"type\":\"table\"}]},\"layout\":{\"annotationdefaults\":{\"arrowcolor\":\"#2a3f5f\",\"arrowhead\":0,\"arrowwidth\":1},\"autotypenumbers\":\"strict\",\"coloraxis\":{\"colorbar\":{\"outlinewidth\":0,\"ticks\":\"\"}},\"colorscale\":{\"diverging\":[[0,\"#8e0152\"],[0.1,\"#c51b7d\"],[0.2,\"#de77ae\"],[0.3,\"#f1b6da\"],[0.4,\"#fde0ef\"],[0.5,\"#f7f7f7\"],[0.6,\"#e6f5d0\"],[0.7,\"#b8e186\"],[0.8,\"#7fbc41\"],[0.9,\"#4d9221\"],[1,\"#276419\"]],\"sequential\":[[0.0,\"#0d0887\"],[0.1111111111111111,\"#46039f\"],[0.2222222222222222,\"#7201a8\"],[0.3333333333333333,\"#9c179e\"],[0.4444444444444444,\"#bd3786\"],[0.5555555555555556,\"#d8576b\"],[0.6666666666666666,\"#ed7953\"],[0.7777777777777778,\"#fb9f3a\"],[0.8888888888888888,\"#fdca26\"],[1.0,\"#f0f921\"]],\"sequentialminus\":[[0.0,\"#0d0887\"],[0.1111111111111111,\"#46039f\"],[0.2222222222222222,\"#7201a8\"],[0.3333333333333333,\"#9c179e\"],[0.4444444444444444,\"#bd3786\"],[0.5555555555555556,\"#d8576b\"],[0.6666666666666666,\"#ed7953\"],[0.7777777777777778,\"#fb9f3a\"],[0.8888888888888888,\"#fdca26\"],[1.0,\"#f0f921\"]]},\"colorway\":[\"#636efa\",\"#EF553B\",\"#00cc96\",\"#ab63fa\",\"#FFA15A\",\"#19d3f3\",\"#FF6692\",\"#B6E880\",\"#FF97FF\",\"#FECB52\"],\"font\":{\"color\":\"#2a3f5f\"},\"geo\":{\"bgcolor\":\"white\",\"lakecolor\":\"white\",\"landcolor\":\"#E5ECF6\",\"showlakes\":true,\"showland\":true,\"subunitcolor\":\"white\"},\"hoverlabel\":{\"align\":\"left\"},\"hovermode\":\"closest\",\"mapbox\":{\"style\":\"light\"},\"paper_bgcolor\":\"white\",\"plot_bgcolor\":\"#E5ECF6\",\"polar\":{\"angularaxis\":{\"gridcolor\":\"white\",\"linecolor\":\"white\",\"ticks\":\"\"},\"bgcolor\":\"#E5ECF6\",\"radialaxis\":{\"gridcolor\":\"white\",\"linecolor\":\"white\",\"ticks\":\"\"}},\"scene\":{\"xaxis\":{\"backgroundcolor\":\"#E5ECF6\",\"gridcolor\":\"white\",\"gridwidth\":2,\"linecolor\":\"white\",\"showbackground\":true,\"ticks\":\"\",\"zerolinecolor\":\"white\"},\"yaxis\":{\"backgroundcolor\":\"#E5ECF6\",\"gridcolor\":\"white\",\"gridwidth\":2,\"linecolor\":\"white\",\"showbackground\":true,\"ticks\":\"\",\"zerolinecolor\":\"white\"},\"zaxis\":{\"backgroundcolor\":\"#E5ECF6\",\"gridcolor\":\"white\",\"gridwidth\":2,\"linecolor\":\"white\",\"showbackground\":true,\"ticks\":\"\",\"zerolinecolor\":\"white\"}},\"shapedefaults\":{\"line\":{\"color\":\"#2a3f5f\"}},\"ternary\":{\"aaxis\":{\"gridcolor\":\"white\",\"linecolor\":\"white\",\"ticks\":\"\"},\"baxis\":{\"gridcolor\":\"white\",\"linecolor\":\"white\",\"ticks\":\"\"},\"bgcolor\":\"#E5ECF6\",\"caxis\":{\"gridcolor\":\"white\",\"linecolor\":\"white\",\"ticks\":\"\"}},\"title\":{\"x\":0.05},\"xaxis\":{\"automargin\":true,\"gridcolor\":\"white\",\"linecolor\":\"white\",\"ticks\":\"\",\"title\":{\"standoff\":15},\"zerolinecolor\":\"white\",\"zerolinewidth\":2},\"yaxis\":{\"automargin\":true,\"gridcolor\":\"white\",\"linecolor\":\"white\",\"ticks\":\"\",\"title\":{\"standoff\":15},\"zerolinecolor\":\"white\",\"zerolinewidth\":2}}},\"title\":{\"font\":{\"color\":\"#4D5663\"}},\"xaxis\":{\"gridcolor\":\"#E1E5ED\",\"showgrid\":true,\"tickfont\":{\"color\":\"#4D5663\"},\"title\":{\"font\":{\"color\":\"#4D5663\"},\"text\":\"\"},\"zerolinecolor\":\"#E1E5ED\"},\"yaxis\":{\"gridcolor\":\"#E1E5ED\",\"showgrid\":true,\"tickfont\":{\"color\":\"#4D5663\"},\"title\":{\"font\":{\"color\":\"#4D5663\"},\"text\":\"\"},\"zerolinecolor\":\"#E1E5ED\"}},                        {\"showLink\": true, \"linkText\": \"Export to plot.ly\", \"plotlyServerURL\": \"https://plot.ly\", \"responsive\": true}                    ).then(function(){\n",
              "                            \n",
              "var gd = document.getElementById('6cc55dde-a7e8-4a1d-968d-35ca30e8fc8c');\n",
              "var x = new MutationObserver(function (mutations, observer) {{\n",
              "        var display = window.getComputedStyle(gd).display;\n",
              "        if (!display || display === 'none') {{\n",
              "            console.log([gd, 'removed!']);\n",
              "            Plotly.purge(gd);\n",
              "            observer.disconnect();\n",
              "        }}\n",
              "}});\n",
              "\n",
              "// Listen for the removal of the full notebook cells\n",
              "var notebookContainer = gd.closest('#notebook-container');\n",
              "if (notebookContainer) {{\n",
              "    x.observe(notebookContainer, {childList: true});\n",
              "}}\n",
              "\n",
              "// Listen for the clearing of the current output cell\n",
              "var outputEl = gd.closest('.output');\n",
              "if (outputEl) {{\n",
              "    x.observe(outputEl, {childList: true});\n",
              "}}\n",
              "\n",
              "                        })                };                });            </script>        </div>"
            ]
          },
          "metadata": {},
          "output_type": "display_data"
        }
      ],
      "source": [
        "df.iplot(kind='barh')"
      ]
    },
    {
      "cell_type": "markdown",
      "id": "c98a9676",
      "metadata": {
        "id": "c98a9676"
      },
      "source": [
        "* **kind='barh'**\n",
        "\n",
        "    kind 파라미터를 'barh'로 지정하면 수평 막대 그래프를 그릴 수 있습니다."
      ]
    },
    {
      "cell_type": "markdown",
      "id": "ca5f36b7",
      "metadata": {
        "id": "ca5f36b7"
      },
      "source": [
        "<br><br>"
      ]
    },
    {
      "cell_type": "markdown",
      "id": "0d1b86d6",
      "metadata": {
        "id": "0d1b86d6"
      },
      "source": [
        "## **6. 정리하기**"
      ]
    },
    {
      "cell_type": "markdown",
      "id": "28165099",
      "metadata": {
        "id": "28165099"
      },
      "source": [
        "* **cufflinks import**\n",
        "\n",
        "    `import pandas as pd`\n",
        "    \n",
        "    `import cufflinks as cf`\n",
        "    \n",
        "    `cf.go_offline()`\n",
        "\n",
        "\n",
        "* **scatter plot**\n",
        "\n",
        "    `df.iplot(kind='scatter', mode='markers', x=, y=, categories=, title=, subplots=True, subplot_titles=True, legend=False)`\n",
        "    \n",
        "    \n",
        "* **line chart**\n",
        "\n",
        "    `df.iplot(kind='scatter', x=, y=)`\n",
        "    \n",
        "    \n",
        "* **bar chart**\n",
        "\n",
        "    `df.iplot(kind='bar', title=, color=)`\n",
        "    \n",
        "    `df.iplot(kind='barh')`"
      ]
    },
    {
      "cell_type": "markdown",
      "id": "91373a61",
      "metadata": {
        "id": "91373a61"
      },
      "source": [
        "<br>"
      ]
    },
    {
      "cell_type": "markdown",
      "id": "0f7d6c22",
      "metadata": {
        "id": "0f7d6c22"
      },
      "source": [
        "---"
      ]
    },
    {
      "cell_type": "markdown",
      "id": "f8c42674",
      "metadata": {
        "id": "f8c42674"
      },
      "source": [
        "<br>"
      ]
    },
    {
      "cell_type": "markdown",
      "id": "e826da17",
      "metadata": {
        "id": "e826da17"
      },
      "source": [
        "이렇게 pandas DataFrame 형태의 데이터로 Plotly를 이용해 시각화하는 것을 도와주는 라이브러리인 Cufflinks에 대해 공부해봤습니다!\n",
        "\n",
        "Pandas 라이브러리로 핸들링된 데이터를 Cufflinks 라이브러리 통해 Plotly의 세련되고 반응적인 그래프를 손쉽게 그릴 수 있습니다. \n",
        "\n",
        "끝으로 데이터 분석 결과를 효과적으로 표현할 수 있는 수단인 '시각화'를 할 수 있는 4가지 라이브러리를 모두 살펴보았습니다. 많은 양의 데이터를 한눈에 파악하기 위해 시각화 라이브러리를 사용하는 것은 필수인 것 같습니다.\n",
        "\n",
        "<br><br>\n",
        "📣 다음은 'Python으로 시작하는 데이터 분석 사용 설명서 네 번째 포스팅 주제인 \n",
        "\n",
        "**'전처리 사용 설명서' 1탄**이 업로드될 예정입니다!\n",
        "\n",
        "많은 관심과 애정 부탁드려요💛 감사합니다!"
      ]
    }
  ],
  "metadata": {
    "kernelspec": {
      "display_name": "Python 3 (ipykernel)",
      "language": "python",
      "name": "python3"
    },
    "language_info": {
      "codemirror_mode": {
        "name": "ipython",
        "version": 3
      },
      "file_extension": ".py",
      "mimetype": "text/x-python",
      "name": "python",
      "nbconvert_exporter": "python",
      "pygments_lexer": "ipython3",
      "version": "3.9.7"
    },
    "colab": {
      "name": "데이썬_시각화 (cufflinks)_수정2.ipynb",
      "provenance": [],
      "collapsed_sections": []
    }
  },
  "nbformat": 4,
  "nbformat_minor": 5
}