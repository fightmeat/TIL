{
  "nbformat": 4,
  "nbformat_minor": 0,
  "metadata": {
    "colab": {
      "name": "데이썬_시각화 (Matplotlib)의 사본",
      "provenance": [],
      "collapsed_sections": []
    },
    "kernelspec": {
      "name": "python3",
      "display_name": "Python 3"
    },
    "language_info": {
      "name": "python"
    }
  },
  "cells": [
    {
      "cell_type": "markdown",
      "source": [
        "# **🔍 EDA(탐색적 데이터 분석) 사용 설명서 2탄**\n",
        "\n"
      ],
      "metadata": {
        "id": "jtD5mjwtnBaP"
      }
    },
    {
      "cell_type": "markdown",
      "source": [
        "1. **Matplotlib이란?**\n",
        "\n",
        "2. **사전 준비**\n",
        "\n",
        "  1) matplotlib 설치하기\n",
        "\n",
        "  2) matplotlib import하기\n",
        "\n",
        "3. **Matplotlib 기초 사용법**\n",
        "\n",
        "  1) 기본 그래프ㅤㅤㅤㅤㅤㅤ ㅤㅤ5) 선 종류 지정하기\n",
        "\n",
        "  2) 축 레이블 설정하기ㅤㅤㅤㅤㅤ6) 마커 지정하기\n",
        "\n",
        "  3) 범례 표시하기ㅤㅤㅤㅤㅤ ㅤㅤ7) 색상 지정하기\n",
        "\n",
        "  4) 축 범위 지정하기\n",
        "\n",
        "\n",
        "4. **정리하기**"
      ],
      "metadata": {
        "id": "7KgCrhCkD6pK"
      }
    },
    {
      "cell_type": "markdown",
      "source": [
        " ㅤ"
      ],
      "metadata": {
        "id": "13sxiIkAD_Ya"
      }
    },
    {
      "cell_type": "markdown",
      "source": [
        "\n",
        "\n",
        "---\n",
        "\n"
      ],
      "metadata": {
        "id": "orA-vx0z2mTR"
      }
    },
    {
      "cell_type": "markdown",
      "source": [
        "## **1. Matplotlib이란?**"
      ],
      "metadata": {
        "id": "IRRCeUW3DZYE"
      }
    },
    {
      "cell_type": "markdown",
      "source": [
        "**Matplotlib**은 Python 프로그래밍 언어 및 수학적 확장 Numpy 라이브러리를 활용한 플롯팅 라이브러리입니다. \n",
        "\n",
        "matplotlib은 <u>**저수준의 라이브러리**</u>이기 때문에 범례와 제목, 눈금 라벨, 주석과 같은 기본 컴포넌트로 그래프를 작성해야 하기때문에 원하는 대로 그래프를 제어할 수 있지만, 복잡한 코드를 작성해야 한다는 단점이 있습니다. \n",
        "\n",
        "따라서 데이터 입문자인 저희는 내부적으로 matplotlib을 사용하는 데이터 시각화 도구인 ***seaborn*** 라이브러리를 주로 이용해 시각화를 하기로 하고, matplotlib은 간단히 기초 사용법에 대해서만 살펴보려고 합니다."
      ],
      "metadata": {
        "id": "zKEscLJZhzUP"
      }
    },
    {
      "cell_type": "markdown",
      "source": [
        "ㅤ"
      ],
      "metadata": {
        "id": "rG7wReMiENw7"
      }
    },
    {
      "cell_type": "markdown",
      "source": [
        "## **2. 사전 준비**\n"
      ],
      "metadata": {
        "id": "FRTfYbwfmKAu"
      }
    },
    {
      "cell_type": "markdown",
      "source": [
        "### **1) matplotlib 설치하기**\n",
        "\n"
      ],
      "metadata": {
        "id": "VVW5xIbXx9-6"
      }
    },
    {
      "cell_type": "markdown",
      "source": [
        "다음 명령으로 matplotlib 라이브러리를 설치합니다."
      ],
      "metadata": {
        "id": "yMv1xt-gGwGE"
      }
    },
    {
      "cell_type": "code",
      "source": [
        "pip install matplotlib"
      ],
      "metadata": {
        "id": "VDY67FZXEfGH"
      },
      "execution_count": null,
      "outputs": []
    },
    {
      "cell_type": "markdown",
      "source": [
        "ㅤ"
      ],
      "metadata": {
        "id": "d3NR5F44o9Dn"
      }
    },
    {
      "cell_type": "markdown",
      "source": [
        "### **2) matplotlib import하기**\n",
        "\n"
      ],
      "metadata": {
        "id": "MvPQBa51RBDB"
      }
    },
    {
      "cell_type": "markdown",
      "source": [
        "matplotlib의 pyplot이라는 서브패키지를 \"**plt**\"라는 별칭으로 import 해줍니다."
      ],
      "metadata": {
        "id": "yN2jz-BcGyoB"
      }
    },
    {
      "cell_type": "code",
      "execution_count": null,
      "metadata": {
        "id": "JfNzxgeKDX_8"
      },
      "outputs": [],
      "source": [
        "import matplotlib.pyplot as plt"
      ]
    },
    {
      "cell_type": "markdown",
      "source": [
        "ㅤ"
      ],
      "metadata": {
        "id": "aMZ1Cv6gEpLc"
      }
    },
    {
      "cell_type": "markdown",
      "source": [
        "## **3. Matplotlib 기초 사용법** \n",
        "\n"
      ],
      "metadata": {
        "id": "aIObRqrIda6S"
      }
    },
    {
      "cell_type": "markdown",
      "source": [
        "### **1) 기본 그래프**\n",
        "\n"
      ],
      "metadata": {
        "id": "PrPmxdRmRkfh"
      }
    },
    {
      "cell_type": "markdown",
      "source": [
        "plot()함수를 이용해 선 그래프를 그려보도록 하겠습니다. "
      ],
      "metadata": {
        "id": "go8ihHA8G1dO"
      }
    },
    {
      "cell_type": "code",
      "source": [
        "plt.plot([1,2,3,4])\n",
        "plt.show()"
      ],
      "metadata": {
        "colab": {
          "base_uri": "https://localhost:8080/",
          "height": 265
        },
        "id": "mtPc5SWMReZd",
        "outputId": "c57ed0ba-926e-4dcc-aeaa-f0ebdbf6b9f8"
      },
      "execution_count": null,
      "outputs": [
        {
          "output_type": "display_data",
          "data": {
            "text/plain": [
              "<Figure size 432x288 with 1 Axes>"
            ],
            "image/png": "[encoded data removed]"
          },
          "metadata": {
            "needs_background": "light"
          }
        }
      ]
    },
    {
      "cell_type": "markdown",
      "source": [
        "* plot() 함수는 리스트의 값들이 y값이라고 가정하고 x값을 자동으로 만들어냅니다. 따라서 리스트 [1, 2, 3, 4] 를 y값이라고 가정하고 0, 1, 2, 3을 x값으로 자동으로 부여합니다. \n",
        "\n",
        "* x값과 y값을 모두 입력할 수도 있습니다. x값과 y값이 모두 입력되면, 해당 점들을 이은 꺾은선 그래프가 그려집니다.\n",
        "\n",
        "* plot() 함수의 데이터는 **리스트** 뿐만 아니라 **튜플**, **nparray** 형태로도 입력할 수 있습니다.\n",
        "\n",
        "* show() 함수는 그래프가 화면에 나타나게 하는 함수입니다."
      ],
      "metadata": {
        "id": "vkSqIxR2Rx2_"
      }
    },
    {
      "cell_type": "markdown",
      "source": [
        "ㅤ"
      ],
      "metadata": {
        "id": "xu9feokpEu_Z"
      }
    },
    {
      "cell_type": "markdown",
      "source": [
        "plot() 함수에 **딕셔너리** 데이터를 입력해 그래프를 그릴 수도 있습니다."
      ],
      "metadata": {
        "id": "XUFLZfcU1KMi"
      }
    },
    {
      "cell_type": "code",
      "source": [
        "data_dict = {'x':[1,2,3,4], 'y':[1,3,7,13]}\n",
        "plt.plot('x', 'y', data=data_dict)\n",
        "plt.show()"
      ],
      "metadata": {
        "colab": {
          "base_uri": "https://localhost:8080/",
          "height": 321
        },
        "id": "M1YxybGcbI7k",
        "outputId": "bfd75d38-bf59-4712-c165-7595dc1cbfde"
      },
      "execution_count": null,
      "outputs": [
        {
          "output_type": "stream",
          "name": "stderr",
          "text": [
            "/usr/local/lib/python3.7/dist-packages/ipykernel_launcher.py:2: RuntimeWarning: Second argument 'y' is ambiguous: could be a format string but is in 'data'; using as data.  If it was intended as data, set the format string to an empty string to suppress this warning.  If it was intended as a format string, explicitly pass the x-values as well.  Alternatively, rename the entry in 'data'.\n",
            "  \n"
          ]
        },
        {
          "output_type": "display_data",
          "data": {
            "text/plain": [
              "<Figure size 432x288 with 1 Axes>"
            ],
            "image/png": "[encoded data removed]"
          },
          "metadata": {
            "needs_background": "light"
          }
        }
      ]
    },
    {
      "cell_type": "markdown",
      "source": [
        "\n",
        "* 'x'와 'y'를 key, x값과 y값을 value로 지정한 딕셔너리형 데이터를 형성해 data_dict에 저장했습니다. \n",
        "\n",
        "* plot() 함수에 key값과 데이터를 입력하면, x값에 [1,2,3,4], y값에 [1,3,7,13]를 입력한 그래프와 동일한 그래프가 그려집니다."
      ],
      "metadata": {
        "id": "7P3a7uFDbl43"
      }
    },
    {
      "cell_type": "markdown",
      "source": [
        "ㅤ"
      ],
      "metadata": {
        "id": "Gbb6EQ6HE5wm"
      }
    },
    {
      "cell_type": "markdown",
      "source": [
        "plot() 함수로 **여러 개의 곡선**을 하나의 그래프로 그릴 수 있습니다.\n",
        "<br><br>\n",
        "matplotlib에서는 일반적으로 nparray를 이용하기 때문에, 모든 시퀀스는 내부적으로 nparray로 변환합니다. 따라서 numpy를 import하고, numpy의 arange 함수를 이용해 0부터 5까지 0.2간격인 데이터(0, 0.2, 0.4, 0.6, ..., 5)를 형성해 여러 개의 곡선을 그려보도록 하겠습니다."
      ],
      "metadata": {
        "id": "osxy64KEYFry"
      }
    },
    {
      "cell_type": "code",
      "source": [
        "import numpy as np\n",
        "t = np.arange(0., 5., 0.2)\n",
        "plt.plot(t, t, 'r--', t, t**2, 'bs', t, t**3, 'g^')\n",
        "plt.show()"
      ],
      "metadata": {
        "colab": {
          "base_uri": "https://localhost:8080/",
          "height": 265
        },
        "id": "VM12yA3JXnBu",
        "outputId": "408b2a2c-b265-4e05-d32f-ae363b55b271"
      },
      "execution_count": null,
      "outputs": [
        {
          "output_type": "display_data",
          "data": {
            "text/plain": [
              "<Figure size 432x288 with 1 Axes>"
            ],
            "image/png": "[encoded data removed]"
          },
          "metadata": {
            "needs_background": "light"
          }
        }
      ]
    },
    {
      "cell_type": "markdown",
      "source": [
        "* (t, t, 'r--'), (t, t\\*\\*2, 'bs'), (t, t**3, 'g^')가 3개의 곡선 각각의 인자에 해당합니다. 즉, 한 곡선에 해당하는 인자를 연속으로 입력하면, 여러 곡선이 한 그래프에 나타나게 됩니다.\n",
        "\n",
        "* 이때, 각 곡선의 세번째 인자는 선의 색상과 형태를 지정합니다. 　　***'r--' (빨간 대쉬), 'bs' (파란 사각형), 'g^' (녹색 삼각형)***"
      ],
      "metadata": {
        "id": "iu3E1OUlG9SR"
      }
    },
    {
      "cell_type": "markdown",
      "source": [
        "ㅤ"
      ],
      "metadata": {
        "id": "XSMiMwU5FIDf"
      }
    },
    {
      "cell_type": "markdown",
      "source": [
        "### **2) 축 레이블 설정하기**\n",
        "\n"
      ],
      "metadata": {
        "id": "Df6l08wnceYp"
      }
    },
    {
      "cell_type": "markdown",
      "source": [
        "xlabel(), ylabel() 함수를 사용하면 x축, y축에 대한 레이블을 표시할 수 있습니다."
      ],
      "metadata": {
        "id": "f8t_ivrsHXsX"
      }
    },
    {
      "cell_type": "code",
      "source": [
        "plt.plot([1,2,3,4], [1,3,7,13])\n",
        "plt.xlabel('x_label', labelpad=15)\n",
        "plt.ylabel('y_label', labelpad=15)\n",
        "plt.show()"
      ],
      "metadata": {
        "colab": {
          "base_uri": "https://localhost:8080/",
          "height": 291
        },
        "id": "SeweRV2PdIbZ",
        "outputId": "c1abe86c-9ac7-4132-a18d-a5fafe6fa40d"
      },
      "execution_count": null,
      "outputs": [
        {
          "output_type": "display_data",
          "data": {
            "text/plain": [
              "<Figure size 432x288 with 1 Axes>"
            ],
            "image/png": "[encoded data removed]"
          },
          "metadata": {
            "needs_background": "light"
          }
        }
      ]
    },
    {
      "cell_type": "markdown",
      "source": [
        "\n",
        "* xlabel(), ylabel() 함수를 이용해 x축의 레이블은 'x_label', y축의 레이블은 'y_label'로 설정했습니다.\n",
        "* **labelpad=15** \n",
        "\n",
        "  labelpad 파라미터는 축 레이블의 여백을 지정합니다.\n"
      ],
      "metadata": {
        "id": "qttKUy_Hev7c"
      }
    },
    {
      "cell_type": "markdown",
      "source": [
        "ㅤ"
      ],
      "metadata": {
        "id": "kHP-E5NDF_ie"
      }
    },
    {
      "cell_type": "markdown",
      "source": [
        "### **3) 범례 표시하기**\n",
        "\n"
      ],
      "metadata": {
        "id": "ScwSG3pNc2Xm"
      }
    },
    {
      "cell_type": "markdown",
      "source": [
        "legend() 함수를 사용하면 그래프에 범례를 표시할 수 있습니다. plot() 함수에서 label 문자열을 지정하고, legend() 함수를 호출하면 그래프에 범례가 표시됩니다."
      ],
      "metadata": {
        "id": "tpwpZ0NvHbDD"
      }
    },
    {
      "cell_type": "code",
      "source": [
        "plt.plot([1,2,3,4], [1,3,7,13], label='Price ($)')\n",
        "plt.legend(loc='lower right')\n",
        "plt.show()"
      ],
      "metadata": {
        "colab": {
          "base_uri": "https://localhost:8080/",
          "height": 265
        },
        "id": "RcT1ktpFfNhH",
        "outputId": "dbd737d0-7f37-4203-9cc5-59779a4bd3d9"
      },
      "execution_count": null,
      "outputs": [
        {
          "output_type": "display_data",
          "data": {
            "text/plain": [
              "<Figure size 432x288 with 1 Axes>"
            ],
            "image/png": "[encoded data removed]"
          },
          "metadata": {
            "needs_background": "light"
          }
        }
      ]
    },
    {
      "cell_type": "markdown",
      "source": [
        "\n",
        "\n",
        "* **loc='lower right** \n",
        "\n",
        "  loc 파라미터는 범례의 위치를 설정합니다.\n",
        "\n",
        "  * 'best' : 범례의 최적의 위치 / 'center' : 중앙\n",
        "  * 'lower left' : 왼쪽 하단 / 'lower right' : 오른쪽 하단\n",
        "  * 'upper left' : 왼쪽 상단 / 'upper right' : 오른쪽 상단\n",
        "  * 'center left' : 왼쪽 중앙 / 'center left' : 오른쪽 중앙"
      ],
      "metadata": {
        "id": "XMNpdrSXgBlK"
      }
    },
    {
      "cell_type": "markdown",
      "source": [
        "ㅤ"
      ],
      "metadata": {
        "id": "rKxDzThXHoZH"
      }
    },
    {
      "cell_type": "markdown",
      "source": [
        "### **4) 축 범위 지정하기**\n",
        "\n"
      ],
      "metadata": {
        "id": "WMOB9VUNc4Ix"
      }
    },
    {
      "cell_type": "markdown",
      "source": [
        "xlim(), ylim() 함수를 사용하면 x축, y축의 범위를 지정할 수 있습니다."
      ],
      "metadata": {
        "id": "XPGLh4cAHgfj"
      }
    },
    {
      "cell_type": "code",
      "source": [
        "plt.plot([1,2,3,4], [1,3,7,13])\n",
        "plt.xlim((0, 5))\n",
        "plt.ylim([0, 16])\n",
        "plt.show()"
      ],
      "metadata": {
        "colab": {
          "base_uri": "https://localhost:8080/",
          "height": 269
        },
        "id": "UTLgYJJ9giU_",
        "outputId": "197fa3b8-d635-4591-83bc-19527b8285eb"
      },
      "execution_count": null,
      "outputs": [
        {
          "output_type": "display_data",
          "data": {
            "text/plain": [
              "<Figure size 432x288 with 1 Axes>"
            ],
            "image/png": "[encoded data removed]"
          },
          "metadata": {
            "needs_background": "light"
          }
        }
      ]
    },
    {
      "cell_type": "markdown",
      "source": [
        "\n",
        "\n",
        "* xlim() 함수에 xmin, xmax 값을 리스트 또는 튜플의 형태로 입력하면 x축의 범위가 xmin부터 xmax까지로 지정됩니다.\n",
        "\n",
        "* ylim() 함수에 ymin, ymax 값을 리스트 또는 튜플의 형태로 입력하면 y축의 범위가 ymin부터 ymax까지로 지정됩니다.\n",
        "\n",
        "* 입력값이 없으면 데이터에 맞게 자동으로 범위를 지정합니다."
      ],
      "metadata": {
        "id": "9IB4a4VmGhmF"
      }
    },
    {
      "cell_type": "markdown",
      "source": [
        "ㅤ"
      ],
      "metadata": {
        "id": "gZQOn-YShQTV"
      }
    },
    {
      "cell_type": "markdown",
      "source": [
        "axis() 함수를 사용해서 x축, y축의 범위를 지정할 수도 있습니다."
      ],
      "metadata": {
        "id": "f0RJpKtZFQi5"
      }
    },
    {
      "cell_type": "code",
      "source": [
        "plt.plot([1,2,3,4], [1,3,7,13])\n",
        "plt.axis([0, 5, 0, 16])\n",
        "plt.show()"
      ],
      "metadata": {
        "colab": {
          "base_uri": "https://localhost:8080/",
          "height": 269
        },
        "id": "8ynk63hcg94O",
        "outputId": "4ff49b34-42e4-40f5-9e98-8a58b4990575"
      },
      "execution_count": null,
      "outputs": [
        {
          "output_type": "display_data",
          "data": {
            "text/plain": [
              "<Figure size 432x288 with 1 Axes>"
            ],
            "image/png": "[encoded data removed]"
          },
          "metadata": {
            "needs_background": "light"
          }
        }
      ]
    },
    {
      "cell_type": "markdown",
      "source": [
        "* **plt.axis([0, 5, 0, 16])**\n",
        "\n",
        "  axis( [xmin, xmax, ymin, ymax] ) 함수에 xmin, xmax, ymin, ymax 값을 입력하면 x축의 범위를 xmin부터 xmax까지, y축의 범위를 ymin부터 ymax까지로 범위를 지정할 수 있습니다."
      ],
      "metadata": {
        "id": "O9aKPAiFhwsu"
      }
    },
    {
      "cell_type": "markdown",
      "source": [
        "ㅤㅤ"
      ],
      "metadata": {
        "id": "r0r-ZAJsGb-K"
      }
    },
    {
      "cell_type": "markdown",
      "source": [
        "### **5) 선 종류 지정하기**"
      ],
      "metadata": {
        "id": "Jlr_hOOci0Us"
      }
    },
    {
      "cell_type": "markdown",
      "source": [
        "plot() 함수로 선 종류를 지정하는 3가지 방법을 소개하려고 합니다.\n",
        "<br><br>\n",
        "\n",
        "ㅤ① 기본 사용 : **'-'** (solid),ㅤ**'--'** (dashed),ㅤ**':'** (dotted),ㅤ**'-.'** (dash-dot)\n",
        "\n",
        "ㅤex)ㅤ`plt.plot([1,2,3,4], [1,3,7,13], '--')`\n",
        "<br><br>\n",
        "ㅤ② linestyle 파라미터 사용 : **'solid',ㅤ'dashed',ㅤ'dotted',ㅤ'dash-dot'**\n",
        "\n",
        "ㅤex)ㅤ`plt.plot([1,2,3,4], [1,3,7,13], 'dashed')`\n",
        "<br><br>\n",
        "\n",
        "ㅤ③ 튜플 사용 : **(0, (1, 1))** (solid),ㅤ**(0, (1, 5))** (dashed),ㅤ**(0, (5, 1))** (dotted),ㅤ**(0, (3, 5, 1, 5))** (dash-dot)\n",
        "\n",
        "ㅤex)ㅤ`plt.plot([1,2,3,4], [1,3,7,13], (0,(1,5)))`\n",
        "<br><br>"
      ],
      "metadata": {
        "id": "TzCmOsMaHwPB"
      }
    },
    {
      "cell_type": "code",
      "source": [
        "plt.plot([1,2,3,4], [1,3,7,13], '--')\n",
        "#plt.plot([1,2,3,4], [1,3,7,13], linestyle='dashed')\n",
        "#plt.plot([1,2,3,4], [1,3,7,13], linestyle=(0,(1,5)))\n",
        "plt.show()"
      ],
      "metadata": {
        "colab": {
          "base_uri": "https://localhost:8080/",
          "height": 265
        },
        "id": "Xxaz4-qmi4Do",
        "outputId": "d76825ee-cf7d-4ea9-d60a-44d5c9603024"
      },
      "execution_count": null,
      "outputs": [
        {
          "output_type": "display_data",
          "data": {
            "text/plain": [
              "<Figure size 432x288 with 1 Axes>"
            ],
            "image/png": "[encoded data removed]"
          },
          "metadata": {
            "needs_background": "light"
          }
        }
      ]
    },
    {
      "cell_type": "markdown",
      "source": [
        "* 위와 같이 plot() 함수의 세번째 인자로 선의 종류를 지정할 수 있습니다.\n",
        "\n",
        "* '--',　linestyle='dashed',　linestyle=(0,(1,5)) 모두 선 스타일을 'dashed'로 설정합니다."
      ],
      "metadata": {
        "id": "ISNEk0pylGpu"
      }
    },
    {
      "cell_type": "markdown",
      "source": [
        "　ㅤ"
      ],
      "metadata": {
        "id": "UItOvP7oH4Jq"
      }
    },
    {
      "cell_type": "markdown",
      "source": [
        "### **6) 마커 지정하기**\n",
        "\n"
      ],
      "metadata": {
        "id": "Dlz9o1RFc6Uk"
      }
    },
    {
      "cell_type": "markdown",
      "source": [
        "특별한 설정이 없으면 그래프가 실선으로 그려지지만, plot() 함수의 포맷 문자열을 사용하면 마커 형태의 그래프를 그릴 수 있고, 마커 및 선의 스타일을 지정할 수 있습니다."
      ],
      "metadata": {
        "id": "xoGPxdByIm4e"
      }
    },
    {
      "cell_type": "code",
      "source": [
        "plt.plot([1,2,3,4], [1,3,7,13], 'ro')\n",
        "#plt.plot([1,2,3,4], [1,3,7,13], 'bo--')\n",
        "#plt.plot([1,2,3,4], [1,3,7,13], marker='v')\n",
        "plt.show()"
      ],
      "metadata": {
        "colab": {
          "base_uri": "https://localhost:8080/",
          "height": 265
        },
        "id": "nydHfbrGmQVE",
        "outputId": "a7ba3b24-5a1e-4184-d7f5-0983b4d52880"
      },
      "execution_count": null,
      "outputs": [
        {
          "output_type": "display_data",
          "data": {
            "text/plain": [
              "<Figure size 432x288 with 1 Axes>"
            ],
            "image/png": "[encoded data removed]"
          },
          "metadata": {
            "needs_background": "light"
          }
        }
      ]
    },
    {
      "cell_type": "markdown",
      "source": [
        "* plot() 함수의 세번째 인자에 **포맷 문자열**을 대입해 마커 및 선의 스타일을 설정했습니다.\n",
        "  *   'ro' : 빨간색(r) 원형(o)마커\n",
        "\n",
        "  *   'bo--' : 파란색(b) 원형(o)마커와 dashed line(--)\n",
        "\n",
        "  *   marker='v' : triangle_down 마커\n",
        "\n",
        "\n"
      ],
      "metadata": {
        "id": "tbASQnPrmryx"
      }
    },
    {
      "cell_type": "markdown",
      "source": [
        "ㅤ"
      ],
      "metadata": {
        "id": "jqYWdC7_Jq9c"
      }
    },
    {
      "cell_type": "markdown",
      "source": [
        "### **7) 색상 지정하기**\n",
        "\n"
      ],
      "metadata": {
        "id": "1JNk7-QRc9n_"
      }
    },
    {
      "cell_type": "markdown",
      "source": [
        "plot() 함수로 선 종류를 지정하는 3가지 방법을 소개하려고 합니다.\n",
        "<br><br>\n",
        "ㅤ① plot() 함수의 포맷 문자열 사용ㅤㅤ*ex) 'r', 'b', 'g'*\n",
        "\n",
        "ㅤ② color 키워드 인자 사용ㅤㅤ*ex) color='violet', color='red'*\n",
        "\n",
        "ㅤ③ Hex code 사용ㅤㅤ*ex) color='#e35f62'*\n",
        "<br><br>"
      ],
      "metadata": {
        "id": "DmoCx8jpJ0hl"
      }
    },
    {
      "cell_type": "code",
      "source": [
        "#plt.plot([1,2,3,4], [1,3,7,13], 'r')\n",
        "#plt.plot([1,2,3,4], [1,3,7,13], color='red')\n",
        "plt.plot([1,2,3,4], [1,3,7,13], color='#ff0000')\n",
        "plt.show()"
      ],
      "metadata": {
        "colab": {
          "base_uri": "https://localhost:8080/",
          "height": 265
        },
        "id": "Q9296YSwclEi",
        "outputId": "f93ee430-2a27-4426-ab1a-4c23dc7933e8"
      },
      "execution_count": null,
      "outputs": [
        {
          "output_type": "display_data",
          "data": {
            "text/plain": [
              "<Figure size 432x288 with 1 Axes>"
            ],
            "image/png": "[encoded data removed]"
          },
          "metadata": {
            "needs_background": "light"
          }
        }
      ]
    },
    {
      "cell_type": "markdown",
      "source": [
        "\n",
        "* plot() 함수의 세번째 인자에 포맷 문자열 **'r'**을 입력하여 선의 색상을 빨간색으로 설정했습니다.\n",
        "\n",
        "* plot() 함수의 color 파라미터에 색상의 키워드 인자 **'red'**를 입력하여 선의 색상을 빨간색으로 설정했습니다.\n",
        "\n",
        "* plot() 함수의 color 파라미터에 빨간색의 hex code **#ff0000**를 입력하여 선의 색상을 빨간색으로 설정했습니다.\n",
        "<br><br>\n",
        "\n",
        ">**Hex code란?**\n",
        "<br>RGB 방식 색상 코드 표기법으로, # 뒤에 여섯 자리 또는 세 자리의 숫자를 붙여 색상을 표기하는 방식"
      ],
      "metadata": {
        "id": "pfTciSszogQ3"
      }
    },
    {
      "cell_type": "markdown",
      "source": [
        "ㅤ"
      ],
      "metadata": {
        "id": "IiEXr5npJPOl"
      }
    },
    {
      "cell_type": "markdown",
      "source": [
        "\n",
        "## **4. 정리하기**\n"
      ],
      "metadata": {
        "id": "_Oj5MxbJMbAs"
      }
    },
    {
      "cell_type": "markdown",
      "source": [
        "* **matplotlib의 서브패키지 pyplot import하기**\n",
        "\n",
        "  `import matplotlib.pyplot as plt`\n",
        "\n",
        "\n",
        "* **기본 그래프 그리기**\n",
        "\n",
        "  `plt.plot([1,2,3,4], [1,3,7,13])`\n",
        "\n",
        "* **축 레이블 설정하기**\n",
        "\n",
        "    `plt.xlabel('x_label', labelpad=15)`\n",
        "\n",
        "    `plt.ylabel('y_label', labelpad=15)`\n",
        "\n",
        "\n",
        "* **범례 표시하기**\n",
        "\n",
        "  `plt.plot([1,2,3,4], [1,3,7,13], label='Price($)')` \n",
        "  \n",
        "  `plt.legend(loc='lower right')`\n",
        "\n",
        "* **축 범위 지정하기**\n",
        "\n",
        "  `plt.xlim((0,5))`\n",
        "\n",
        "  `plt.ylim([0,16])` or\n",
        "\n",
        "  `plt.axis([0,5,0,16])`\n",
        "\n",
        "* **선 종류 지정하기**\n",
        "\n",
        "  `plt.plot([1,2,3,4], [1,3,7,13], '--')` or\n",
        "  \n",
        "  `plt.plot([1,2,3,4], [1,3,7,13], linestyle='dashed')` or\n",
        "\n",
        "  `plt.plot([1,2,3,4], [1,3,7,13], linestyle=(0,(1,5)))`\n",
        "\n",
        "\n",
        "* **마커 지정하기**\n",
        "\n",
        "  `plt.plot([1,2,3,4], [1,3,7,13], 'ro')` or\n",
        "\n",
        "  `plt.plot([1,2,3,4], [1,3,7,13], 'bo--')` or\n",
        "\n",
        "  `plt.plot([1,2,3,4], [1,3,7,13], marker='v')`\n",
        "\n",
        "* **색상 지정하기**\n",
        "\n",
        "  `plt.plot([1,2,3,4], [1,3,7,13], 'r')` or\n",
        "\n",
        "  `plt.plot([1,2,3,4], [1,3,7,13], color='red')` or\n",
        "\n",
        "  `plt.plot([1,2,3,4], [1,3,7,13], color='#ff0000')`"
      ],
      "metadata": {
        "id": "ylYMJInIPKdM"
      }
    },
    {
      "cell_type": "markdown",
      "source": [
        "ㅤ"
      ],
      "metadata": {
        "id": "f3016LyZJSqT"
      }
    },
    {
      "cell_type": "markdown",
      "source": [
        "---"
      ],
      "metadata": {
        "id": "qO6Ln4x338fp"
      }
    },
    {
      "cell_type": "markdown",
      "source": [
        "이렇게 Matplotlib 라이브러리로 기본 그래프를 플롯팅하고, 그래프의 여러 요소들을 설정하는 방법에 대해 공부해봤습니다!\n",
        "<br><br>\n",
        "\n",
        "데이터 분석 결과를 시각화로 표현한다면, 이해하기 쉽고 효과적으로 전달할 수 있습니다. \n",
        "\n",
        "matplolib 라이브러리에 대해 더 자세하게 알고싶으신 분들은 matplotlib 홈페이지를 참고해주세요!\n",
        "\n",
        "**→** [Matplotlib 홈페이지](https://matplotlib.org/)\n",
        "<br><br>\n",
        "\n",
        "📣  다음은 그래프를 더 쉽게 플롯팅할 수 있는 라이브러리인 Seaborn을 다루는 \n",
        "\n",
        "'**EDA (탐색적 데이터 분석) 사용 설명서**' **3탄**이 업로드될 예정입니다!\n",
        "\n",
        "많은 관심과 애정 부탁드려요💛 감사합니다!"
      ],
      "metadata": {
        "id": "tGZAoEzoKq9D"
      }
    }
  ]
}