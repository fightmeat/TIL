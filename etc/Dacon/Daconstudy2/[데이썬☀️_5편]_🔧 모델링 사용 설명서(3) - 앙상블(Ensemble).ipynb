{
  "nbformat": 4,
  "nbformat_minor": 0,
  "metadata": {
    "colab": {
      "name": "앙상블.ipynb의 사본",
      "provenance": [],
      "collapsed_sections": []
    },
    "kernelspec": {
      "name": "python3",
      "display_name": "Python 3"
    },
    "language_info": {
      "name": "python"
    }
  },
  "cells": [
    {
      "cell_type": "markdown",
      "source": [
        "# **✍️ 데이썬의 모든 시리즈 바로가기!**"
      ],
      "metadata": {
        "id": "43UG-MIjYh3i"
      }
    },
    {
      "cell_type": "markdown",
      "source": [
        "\n",
        "[[데이썬☀️_0편] Python으로 시작하는 데이터 분석 사용 설명서](https://dacon.io/codeshare/4743)\n",
        "<br><br>\n",
        "\n",
        "[[데이썬☀️_1편] ✏️ 데이터 분석 사용 설명서](https://dacon.io/codeshare/4856)\n",
        "<br><br>\n",
        "\n",
        "[[데이썬☀️_2편] 📖 기초 라이브러리 사용 설명서 (1) - Numpy](https://dacon.io/codeshare/4860)\n",
        "\n",
        "[[데이썬☀️_2편] 📖 기초 라이브러리 사용 설명서 (2) - Pandas](https://dacon.io/codeshare/4861)\n",
        "\n",
        "[[데이썬☀️_2편] 📖 기초 라이브러리 사용 설명서 (3) - Scikit-learn](https://dacon.io/codeshare/4877)\n",
        "<br><br>\n",
        "\n",
        "[[데이썬☀️_3편] 🔍 EDA (탐색적 데이터 분석) 사용 설명서 (1) - EDA & 통계치 분석](https://dacon.io/codeshare/4899)\n",
        "\n",
        "[[데이썬☀️_3편] 🔍 EDA (탐색적 데이터 분석) 사용 설명서 (2) - Matplotlib](https://dacon.io/codeshare/4906)\n",
        "\n",
        "[[데이썬☀️_3편] 🔍 EDA (탐색적 데이터 분석) 사용 설명서 (3) - Seaborn](https://dacon.io/codeshare/4905)\n",
        "\n",
        "[[데이썬☀️_3편] 🔍 EDA (탐색적 데이터 분석) 사용 설명서 (4) - Plotly](https://dacon.io/codeshare/4942)\n",
        "\n",
        "[[데이썬☀️_3편] 🔍 EDA (탐색적 데이터 분석) 사용 설명서 (5) - Cufflinks](https://dacon.io/codeshare/4945)\n",
        "<br><br>\n",
        "\n",
        "[[데이썬☀️_4편] 🛠 전처리 사용 설명서](https://dacon.io/codeshare/4992) \n",
        "<br><br>\n",
        "\n",
        "[[데이썬☀️_5편] 🔧 모델링 사용 설명서 (1) - Linear Regression](https://dacon.io/codeshare/4993)  \n",
        "\n",
        "\n",
        "[[데이썬☀️_6편] 🔧 모델링 사용 설명서 (2) - Decision Tree](https://dacon.io/codeshare/5009?dtype=recent)"
      ],
      "metadata": {
        "id": "ib6TCqvwYm2T"
      }
    },
    {
      "cell_type": "markdown",
      "source": [
        "<br>"
      ],
      "metadata": {
        "id": "vFQRj5njf2Eo"
      }
    },
    {
      "cell_type": "markdown",
      "source": [
        "## **🔧 모델링 사용 설명서(3) - Ensemble**\n"
      ],
      "metadata": {
        "id": "P_up8GuVY2tN"
      }
    },
    {
      "cell_type": "markdown",
      "source": [
        "\n",
        "1. **Ensemble의 개요**\n",
        "\n",
        "  1) Ensemble이란?\n",
        "\n",
        "<br>\n",
        "\n",
        "2. **Ensemble의 종류**\n",
        " \n",
        "  1) Voting\n",
        " \n",
        "  2) Bagging\n",
        "  \n",
        "  3) Boosting\n",
        "\n",
        "<br>\n",
        "\n",
        "3. **모듈 - VotingClassifie 클래스**\n",
        "<br><br>\n",
        "\n"
      ],
      "metadata": {
        "id": "_wROvsOtZf7s"
      }
    },
    {
      "cell_type": "markdown",
      "source": [
        "\n",
        "\n",
        "---\n",
        "\n"
      ],
      "metadata": {
        "id": "9GH1FEyogaaa"
      }
    },
    {
      "cell_type": "markdown",
      "source": [
        "## **1. Ensemble 개요**"
      ],
      "metadata": {
        "id": "WFU0bMKhi11_"
      }
    },
    {
      "cell_type": "markdown",
      "source": [
        "###  **1) Ensemble 이란?**\n"
      ],
      "metadata": {
        "id": "hHiAn6NHrO-b"
      }
    },
    {
      "cell_type": "markdown",
      "source": [
        "앙상블이란 **약한 분류기**들을 결합하여 **강 분류기**로 만드는 것 입니다.   \n",
        "<br> \n",
        "앙상블의 주요 특징에는 2가지가 있습니다.\n",
        "<br>\n",
        "\n",
        "-  약한 분류기들을 모아 학습/ 예측 실시합니다.\n",
        "\n",
        "-  예측을 **결합** 하여 정확한 최종 예측을 산출하는 기법입니다.\n",
        "<br><br>\n",
        "\n",
        "\n",
        "❓ 앙상블 기법은 **왜(why)** 사용하는 걸까요? \n",
        "<br><br>\n",
        "\n",
        "- 머신러닝의 알고리즘의 가장 문제 중 하나인 **과적합(Overfitting)**을 해결하기 위하여 사용합니다. \n",
        "<br>\n",
        "- ML 알고리즘이 세부적으로 학습을 할 수록 **과적합** 현상이 발생 할 수 있습니다.\n",
        "<br>\n",
        "- 세부적으로 학습하지 않으면 예측 성능이 떨어지는 **과소적합 현상** 발생합니다.<br><Br>\n",
        "\n",
        "**[문제 해결]**\n",
        "<br>\n",
        "\n",
        "1) **약한 분류기**로 학습을 진행하여 **과적합** 문제를 해결합니다.  \n",
        "\n",
        "2) 여러개의 분류기 예측을 **결합** 하여 성능을 향상시켜 **과소적합** 문제를 해결합니다."
      ],
      "metadata": {
        "id": "peh1xylqrT0M"
      }
    },
    {
      "cell_type": "markdown",
      "source": [
        "<br>"
      ],
      "metadata": {
        "id": "nVrjZOAabDh_"
      }
    },
    {
      "cell_type": "markdown",
      "source": [
        "## **2. Ensemble의 종류**  \n",
        "\n"
      ],
      "metadata": {
        "id": "-c-YyLmrrspS"
      }
    },
    {
      "cell_type": "markdown",
      "source": [
        "**Ensemble**의 유형에는"
      ],
      "metadata": {
        "id": "EnaZfe3lgOnq"
      }
    },
    {
      "cell_type": "markdown",
      "source": [
        "**1. Voting**  \n",
        "\n",
        "**2. Bagging**  \n",
        "\n",
        "**3. Boosting**  \n",
        "\n",
        "이 있습니다."
      ],
      "metadata": {
        "id": "_I6mG2aFbePn"
      }
    },
    {
      "cell_type": "markdown",
      "source": [
        "**Voting**과 **Bagging**은 **여러 개의 분류기**가 투표를 통해 최종 예측 결과를 결정하는 방식입니다.\n",
        "단, Voting은 **여러 알고리즘**을 사용하여 알고리즘에 차이를 두고,  Bagging 같은 알고리즘을 사용하며 **입력하는 데이터**에 차이를 준다는 점에서 차이점이 있습니다."
      ],
      "metadata": {
        "id": "qoQ8qGNP9w8n"
      }
    },
    {
      "cell_type": "markdown",
      "source": [
        "<br>"
      ],
      "metadata": {
        "id": "P8VNt71VgdNZ"
      }
    },
    {
      "cell_type": "markdown",
      "source": [
        "### **1) Voting**\n",
        "\n",
        "각각 **다른 알고리즘**을 이용한 분류기를 결합하는 방식으로 최종 예측 값을 투표하는 방식입니다.\n",
        "<br>\n",
        "\n",
        "**[Hard Voting]**  \n",
        "\n",
        "\n",
        "예측한 결과값 중 다수의 분류기가 결정한 값을 최종 예측값으로 선정합니다."
      ],
      "metadata": {
        "id": "La_XpnYb8OWz"
      }
    },
    {
      "cell_type": "markdown",
      "source": [
        "![image.png](data:image/png;base64,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)"
      ],
      "metadata": {
        "id": "RaN470PPLkWA"
      }
    },
    {
      "cell_type": "markdown",
      "source": [
        "<br>"
      ],
      "metadata": {
        "id": "2mLB5Hoobp7l"
      }
    },
    {
      "cell_type": "markdown",
      "source": [
        "**[Soft Voting]**  \n",
        "\n",
        "분류기가 예측한 확률 값의 **평균**으로 결정합니다.\n"
      ],
      "metadata": {
        "id": "yJj5-oTG9C17"
      }
    },
    {
      "cell_type": "markdown",
      "source": [
        "![image.png](data:image/png;base64,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)"
      ],
      "metadata": {
        "id": "FZ-YcB4A9C9R"
      }
    },
    {
      "cell_type": "markdown",
      "source": [
        "<Br>"
      ],
      "metadata": {
        "id": "KXG1Hi-mbrqw"
      }
    },
    {
      "cell_type": "markdown",
      "source": [
        "### **2) Bagging**\n",
        "\n",
        "- Bootstrap + Aggregation 으로 나눌 수 있습니다.\n",
        "- 약한 분류기들을 결합하여 강 분류기로 만드는 과정 입니다.\n",
        "- 서로 같은 알고리즘을 이용한 분류기가 **데이터 샘플링을 서로 다르게** 가져가면서 학습을 수행하는 방식입니다. (ex. 랜덤 포레스트)\n",
        "-개별 분류기가 **부트스트래핑 방식**으로 샘플링된 데이터 세트에 대해 학습을 통해 **개별적인 예측**을 수행한 결과를 voting을 통해 최종 예측 결과를 선정하는 방식을 **'배깅 앙상블 방식'**이라고 합니다.\n"
      ],
      "metadata": {
        "id": "dwK6S7sZrx4Q"
      }
    },
    {
      "cell_type": "markdown",
      "source": [
        "<br>"
      ],
      "metadata": {
        "id": "ZRr_pZVkbyA2"
      }
    },
    {
      "cell_type": "markdown",
      "source": [
        "**[Bootstrap]**\n",
        "\n",
        "- Train Data 에서 여러 번 **복원 추출**하는 Random Sampling 기법입니다.\n",
        "- 추출된 샘플들을 **부트스트랩 샘플**이라고 부릅니다.\n",
        "\n",
        "\n"
      ],
      "metadata": {
        "id": "FuUJDc3esJOu"
      }
    },
    {
      "cell_type": "markdown",
      "source": [
        "<br>"
      ],
      "metadata": {
        "id": "DNJ_ROluhPmv"
      }
    },
    {
      "cell_type": "markdown",
      "source": [
        "![image.png](data:image/png;base64,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)"
      ],
      "metadata": {
        "id": "RC-u4hcN-lLP"
      }
    },
    {
      "cell_type": "markdown",
      "source": [
        "이론적으로 36.8% 의 샘플이 뽑히지 않게 됨 (Out-Of-Bag 샘플)"
      ],
      "metadata": {
        "id": "EANw9vsy-puw"
      }
    },
    {
      "cell_type": "markdown",
      "source": [
        "<br>"
      ],
      "metadata": {
        "id": "ci7QFzkwb2G9"
      }
    },
    {
      "cell_type": "markdown",
      "source": [
        "![image.png](data:image/png;base64,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)"
      ],
      "metadata": {
        "id": "IXywIFKw-tD5"
      }
    },
    {
      "cell_type": "markdown",
      "source": [
        "OOB (Out-Of-Bag) 평가\n",
        "추출되지 않는 샘플을 이용해 **Cross Validation(교차 검증)**에서 Valid 데이터로 사용할 수 있다.  \n",
        "\n",
        "테스트 데이터는 학습되지 않은 샘플을 이용하여야 하므로, 추출되지 않은 샘플을 이용하여 valid 데이터로 사용 가능"
      ],
      "metadata": {
        "id": "pID9u1bYsLT9"
      }
    },
    {
      "cell_type": "markdown",
      "source": [
        "<br>"
      ],
      "metadata": {
        "id": "nxqFKUr9b48b"
      }
    },
    {
      "cell_type": "markdown",
      "source": [
        "**[약분류기 생성]**\n",
        "\n",
        "추출된 부트스트랩 샘플마다 약분류기를 학습(같은 알고리즘 사용)"
      ],
      "metadata": {
        "id": "SSzgotAHsWdr"
      }
    },
    {
      "cell_type": "markdown",
      "source": [
        "![image.png](data:image/png;base64,iVBORw0KGgoAAAANSUhEUgAABBMAAAIrCAMAAACK4SGVAAAAAXNSR0IArs4c6QAAAARnQU1BAACxjwv8YQUAAAEpUExURQAAAAAAAL/f/wAAAL/P/wAAALXV/wAAALfP/wAAALnS/wAAALrP/wAAALbR/7nS/7nW/wAAALfP/wAAALjR/wAAALnP/wAAALnR/wAAALfP/wAAALjQ/wAAALjP/wAAALnQ/wAAALnP/wAAALnS/wAAALnR/wAAALrR/wAAALrQ/wAAALnR/wAAALnQ/wAAALnR/wAAALrQ/wAAALrR/wAAALnQ/wAAALnR/wAAALnQ/wAAALnR/wAAALnQ/wAAALnR/wAAALnQ/7vR/73T/8DU/8LW/8TX/8bZ/8ja/8vc/83d/8/f/9Hg/9Pi/9bj/9jl/9rm/9zo/97p/+Dq/+Ls/+Xt/+fv/+nw/+vy/+3z//D1//L2//T4//b5//j7//v8//3+/////7l2OvUAAABBdFJOUwAICBAQGBggICgoMDA4OD4+QEBISFBQWFhgYGhocHB4eICAh4ePj5eXn5+np6+vt7e/v8fHz8/X19/f5+fv7/f3FdC5nQAAAAlwSFlzAAAXEQAAFxEByibzPwAAUuJJREFUeF7tnQtbFEfz9iHEEDXm/y7GGOJxMWg8Z8ljCEFCFvCEiroiKh6A/f4f4q2qrp7pmZ1TLwMs0/fvuhLnzFZ19d3VPT0zY+B48MMUc3XGcn2uOr/rOcTPcpkf9KIAgGPAd1xrf5IaLDX64cpB8Tdd/R7/Hf6L3+mfBwAcOawCVDNvURX9T6vr0cAi8ZvRiFP62wAAhwR1Bq7O/DY395fWx9Hjn7m566wPP+ovBgDUD6UEMzN3/IXgIfciTCNuuMr5fkUu6jnEH3KZv/Wqlfmb+xg/TX2vVgAA9sv3VDHvzf2rVayQ/1Gl/UMqsFRovcBB8CNdXgYuuNdS7cf9Rz/tMsYoARieH3+euV7WLv9lbg1QDT3qhphUgkWCb2rob8vh4dytmV+mvtHTAADlnJq6en3uH61CGciQ/8VRHu//ZmrqF8kh8jOIf0nMMBwJQAnfTl29kzdg8HBujicJHLdqJMMg93Lznb/uzEx9q4cCABy++2nmj8zcwOTaDag31LfI6Qs9/GPmZwxCAhDz/a+3MurK33MzlxuYXX839evMvf+pjQ4P71zGrUsASA8u3klPNwyiq/3d1OXfBgZN/pubgS6AoPnxeio/+PvO1bCG5H+8+HvqPsW/t37BTQkQJr/cSozK/3Xr8kHOKBhlfvj1t6Qw3LuIcUcQGqd+dwVhbuan4CvBj1f/cFzy362fdDsAAfDNReeG4x8YWov44eKd+FGuf64iWQCB8HM0tPbw95/Rd07x0/XIPf9e1m0ANJkf7X24h79h8n82p67aodd/ftZNADSW6xrtd9BfLuJHOwB7Dx0I0Gi+MePr/83g3URlfHPRzNv4C6IAmswdCfM7UIQqfPubDDj+T1cBaCA/cYw/xH2GqpyS+zO/6hoAzYPThH+QC1fnGx6Q/UtXAGgePJz+f7oMqvAdJwq6DEDz4AD/f7oMqgBNAM2GAxzj6B588wc0ATQaDvCVvzFVqSrfmVu3ugZA85AIX1m5jlShCt9c1XlLug5A8zAhzhP58ZhDKb9Ezz3oBgCah8Y48d8tzFIo4tRvztundBsAzYMDfMo+J/33RbzKPJvvfo2eE/uF/6+bAWgeJsB1Ij/xD56VHuCHq9HLJf6b+UZdBkBD0QD/9qrzctI/rob6yrVBTv16K+4yPPyNHwvhJbMTgAYSB/iPt9xvw8/N/BR8vvDj1XvuC6zv/WI287JZAqCBuAH+7a/3XFlY+d/vF0Mddvzx1+vJd7T+cTl6cpRXdRGA5pEO8J9/T33h4K9bgb3LferyrdT3Xx4m3+XOm3QRgOaREeCnkikz83Du+uUR/kBsPXyb9c2Xf/+4mp7kyZt1EYDmkRPgpzK/DTd3a+bnBn5f9Zupn2Z+n0t0m4SH9y5nTfrmXboIQPMoCPDvfpq5l242hb/mrpM2HP8OBWvBb3MZH4rkj+HN/JI3V4P36yIAzaMswL+Zunor71vz/8z9cRy/Nf89SUHBt+b/vjdT3E3ig3QRgOZRLcBPTVFynfhuXIL/5ubuzcxcnBrhIYdvp6Z+mZm5M5fRRYiYuzPzc4UnRPlQXQSgefgE+LdTF6l9zZcG4a+5ud9nZmampqa+19OOCvoJlBDMXJ+bS30TNs1/lO9cra5nfIouAtA8hgnwH6Yukzak701kQvVxbu43qplU6ZiD62f8SFf/mf/QLf6TBdlAjNEC7ykYfKouAtA89hPglI9fpSqYOUhXzP9EK+5wFVaMZJRxWY9mqB/A5A125PM3d3R+Gj6N4WvoIgDNo54AP8XqMDNMBT0s/pmbu85KUMPETL6cLgLQPGoP8O+oOadW/Hdqwisl8AfG3/QLSAZ4ZKPeHgtfXBcBaB4HHODUvTAjfZxFEJnzHWrgIV/8D/4zF/kvHuj9D/57ughA8ziaAOcBQbk5GPGbSEYZfEfDIpV/6gimTkETQKNBgHsDl4FGgwD3Bi4DjQYB7g1cBhoNAtwbuAw0GgS4N3AZaDQIcG/gMtBoEODewGWg0SDAvYHLQKNBgHsDl4FGgwD3Bi4DjQYB7g1cBhoNAtwbuAw0GgS4N3AZaDQIcG/gMtBoEODewGWg0SDAvYHLQKNBgHsDl4FGc4QBfrp1RpeOF9AE0GiOLsBnu93u3XFdOU5AE0Cj2XeAU80eYEH3FXFGjryka6W05XBhudNpnz1CMYEmgEZzZJowLUfe0LVSHE0QlmYndc+hA00AjebINOHkMh85rWulpDWB0oXSHOP0lT/bulgn0ATQaI5ME8aml7oL1avsoCZ0u3d1XzYXFugQaAIAnuw7wNuGm1JLdaXiKIFP9i+asMQXv9lZkr9FzOrOTOQXQRMA8KSuAG9JJdWVA0A0weYfp/+Uv9btntMNWUATABiGY6kJ0vFgHuhqFtAEAIbhYDShxUxQ72C6rU35RGua8v7zrfgeohwjq7JER4+dp0NaJ3jTAClN0NsW3Zaupi9/ptW6z/tv8qV12+BPGA5oAmg0B6MJstKSaUm8bXzaJvvdxbPmCD1GhhRkqTV2wbT9S+dld4q0Jox15GDJAzIuz+OLEbwh8ycMBzQBNJqD1ASRBN4mFdpy0xwyoAnmaCYr4R/QhEk5tMOLGZcf0ITMnzAc0ATQaA5QEy7J/wc0wQ4MynKsCebGhbCc0X0Y0ISxRTmUlzIuX6wJhWOTpUATQKM5QE2QSms14e6l1sT4WUn4F0yHXnbGmkDbZ9s3ZCJT95ockGBQE0znga+VcfnbnY78+YUOwUdn/oThgCaARnOAmtDt3jgz1uKOQPvuabN9XCqqeRxSjnA04TaPMp4WUZBanGRQE27wFrlA5uVT9x2yjxkKaAJoNAepCVFzH7fK13i7GUSUQ2JNWDQHSU1P1H3DoCbIFrlA5uVTmpB9zFBAE0CjOUBN0FruMiEV0lRUOSbWBBWQs7Jill3y8oTE0IN7+bz5CYljhgKaABrNAWpC4pnHiXPt+2YEwA77y2KsCdpyn5QV2ZxgUBPMvUVdGbz8oCZkHDMU0ATQaA5QE5ynHs5EkwOYTE3QmUXmFmMVTZDZDGZL1uXTmpB5zFBAE0CjOUBNiKcGmTQ/ohZNOC0HyqUyL5/ShOxjhgKaABrNAWqCnVM8dl5W/2yfa03IlORaNMH0ArjHkX35pCbkHDMU0ATQaA5DE+Tun8kaatMEU8llGDP78klNyDlmKKAJoNEcgiZINb9tlmXQvwZNOCOVvHuBFnMun9CEvGOGApoAGs0haMI5XtHXnzzg5X1rgrmfSH0BXsm5vNEEXc47ZiigCaDRHIImyJQDM1nhguzYlyacaF2ZNUlCd4FnPuZdfuxKvD33mKGAJoBGcwiacELWbp8bO6OD/0NrQpIFc1TO5e2w4rlp6jPkHTMU0ATQaA5BE8bmZVWQxXo04a5kCUT25cdOmOepiPxjhgKaABrNYWiC+bwL09nffQeH+fgt8NmXNx+aEmg575hhgCaARnMYmmDfnkhNez2aMH8j8QKEzMuPjU3IKCPBKznHDAM0ATSaugJ8Ql6qqCvxGxaViSs3O52bZ3iEkDgp2+QYGfaTJT16XFbMyKDLpGwXBp9zzro8c7bd6XRUP/KO8QeaABoNAtwbuAw0GgS4N3AZaDQIcG/gMtBoEODewGWg0SDAvYHLQKNBgHsDl4FGgwD3Bi4DjQYB7g1cBhoNAtwbuAw0GgS4N3AZaDQIcG/gMtBoEODewGWg0SDAvYHLQKNBgHsDl4FGgwD3Bi4DjQYB7g1cBhrNQwrwU7oMqvANNAE0mj8owG/pMqjCDHnsX10GoHlc5lbv9290DZQiDruuKwA0j2/+4Rj/a0pXQTGnOK9a+fc7XQWggfzwL0f5yr3vdR3k8+118dV/P+k6AI3kB8kUVlbu/KwbQDY/3vpPHPUvJAE0HG39VlYe/oZkIY/vrv6tXrqHjgNoPqaXzPx9HY3gID9c/Z/6ByMvIBR+ioJ+5b97FzFhIebbn3/nORyGf37VrQA0n1PX49Bf+ffe5R91e8ic+vX3v9QjxH+34BMQGL/c0+gX/vtjZupb3RMe305dveeI5MrK3K/hOgMEzDduosw8/GPm59AGHr/7aeae3otR/r31CwQBhMsPV+e0Klj+nbt+eSqE0fZvpy7/Nmfma8T87zd0GQCgxDldNSh7vjXz0w96QNM4NTVza85MP3CZm8FtBgAspy7+Ht+MiPl37t7M5ammaMOpqYszd+aS/SXD3/euIj8AYIAffv0to/lk/p2bm5n5eep43rb8fuqnmZk/MrWAmPv9MtIDAAr4fmrm94Fudszc3O8zM1NTo9+q/jA1dXXm+lyOyDFzd5rbPQKgbr6lNHvOuV2fAeUOt2Zmfp2aGplm9hv6Lb/MsBAk7ySk+Xvu+tUghlEBqJ1vp36mKlasDcLDubm532ZmZi5TtZw6rPrGf4o0gDsGc+nbJ1n8TTnOLxADAGrgW07Eb81lDUPmQxWVoFyCEa0QfLodp/Qc4rK5zu/mqvmdm0H+nrs3M/MTtACAA+EHbplv+VXKI2GOleDi6HRsAGg+P/J4Puft9sHio+Z/lEDQL/plagqvlwPgqPlhShTC5PYVBiDSdLu6UB3+S5QLmHFO9AwAGHX4LgBxkWvtzAxXYEO2YGRrwt96DnFdLmPGMAN+XAuAUOh2dQEAAAhoAgDABZoAAHCBJgAAXKAJAAAXaAIAwAWaAABwgSYAAFygCQAAF2gCAMAFmgAAcIEmAABcoAkAABdoAgDABZoAAHCBJgAAXKAJAAAXaAIAwAWaAABwgSYAAFygCQAAF2gCAMAFmgAAcIEmAABcoAkAABdoAgDABZoAAHCBJgAAXKAJAAAXaAIAwAWaAABwgSYAAFygCQAAF2gCAMAFmgAAcIEmAABcoAkAABdoAgDABZoAAHCBJgAAXKAJAAAXaAIAwAWaAABwgSYAAFygCeD40gUAFNHSqhIKajYAIIfwNEEXAABZBFdFoAlFwDsAmgBc4B0ATQAu8A6AJgAXeAdAE4ALvAOgCcAF3gHQBOAC7wBoAnCBdwA0AbjAOwCaAFzgHQBNAC7wDoAmABd4B0ATgAu8A6AJwAXeAdAE4ALvAGgCcIF3ADQBuMA7AJoAXOAdAE0ALvAOgCYAF3gHQBOAC7wDoAnABd4B0ATgAu8AaAJwgXcANAG4wDsAmgBc4B0ATQAu8A6AJgAXeAdAE4ALvAOgCcAF3gHQBOAC7wBoAnCBd0BIQTDRYrpd+WdCN4IE0AQQUhCML3YjFsd1I0gATQia8JrNSyoIxCXdBCzIokCAzWZsMdKEAZBFgRCbzchipAmDIIsCATab1mK0gxkgiwIhNptqMdrBLJBFgQCbTWMx2sFMkEWBEJtNsRjtYDbIokCAzSZbjHYwB2RRIMRmkyxGO5gHsihwpM3md7dWAuLOD2r2KIMsChxps3lPa0sg/KVmjzTIogC1DEfWLmhdCQY1e6Q5wnAAI8OlI2sXtKoEg5pdEfSswFExfmTtgoZDMKjZFUHPCoSHRkMwqNkV0ZOCQc0GLsEli7oUDFrOFdGTgkHNBi7BJYu6EAxazhXRk4JBzQYu6ptgQNQXoicFg5oNXNQ3wYCoL0RPCgY1G7iob4IBUV+InhQMajZwUd8EA6K+ED0pGNRs4KK+CQZEfSF6UjCo2cBFfRMMiPpC9KRgULOBi/omGBD1hehJwaBmAxf1TTAg6gvRk4JBzQYu6ptgQNQXoicFg5oNXNQ3wYCoL0RPCgY1G7iob4IBUV+InhQMajZwUd8EA6K+ED0pGNRs4KK+CQZEfSF6UjCo2cBFfRMMiPpC9KRgULOBi/omGBD1hehJwaBmAxf1TTAg6gvRk4JBzQYu6ptgQNQXoicFg5oNXNQ3wYCoL0RPCgY1G7iob4IBUV+InhQMajZwUd8EA6K+ED0pGNRs4KK+CQZEfSF6UjCo2cBFfRMMiPpC9KRgULOBi/omGBD1hehJwaBmAxf1TTAg6gvRk4JBzQYu6ptgQNQXoicFg5oNXNQ3wVDZ4LV1ZU03HFO0nCuiJwWDmg1c1DfBUNng9X7Eh3XddhzRcq6InhQMajZwUd8EwzCa0O9vr+pWfwrTjEPIQbScK6InBYOaDVzUN8Hgowmfe8S77T0ShQ+61ZP1rd38HKNwZ21oOVdETyqHXcNsHO++lZoNXNQ3weCjCVtm6dE7EoUNs+zJdr+fX+0Ld9aGlnNF9KRyJH0ybD3WbccQNRu4qG+CYQhNkNr7Xhf9CEIT+v0XutGbx091IYvCnTWhZgMX9U0pj7aV3utnuulYMpQmbPT7X3TRjyZrwg7flHne+0CasPdEt/qx/rnf08VBCnfWhpoNXNQ3pTw2LYLw+RBC+aAYShNoGZqQpN//qktPdvv9bV32o9cvqPaFO2tDzQYu6ptSXE3o91/pVm/Wi2pB4c6aGEoTXvb7H3WReLTR2/76+X0vlS+lN6/1er2vdBEeiTPjcKuvtrb3Pm33KCdO79zo9ahX/nxr+6PpnD/vffy0u731UlYYc8CjN9tfv7x/7dOB13KuiJ5UTqwJnEXt6qIf0ITRRH1TCmkCB8Ha+vq7PUoWh+s/bOwUlHPhztoYShPe9fuvdZF+J7WLho/ukPvAZldFpRL3oiMGd0rOwGk4pw6rG19kB/HxEZ9pD3jFt0CIPQ9N1nKuiJ5UjqMJa/SLfFQqApowmqhvSlFNkMWdRLPpwSgEgf5biqMJz/b6O3aCwqOPXCe3N7fJCdSl1q1Zm9PV/i39+3l7m29tZmsC394QTaA/TU3v9jYlEv3PfCk9YJP/xLtPvLf6kKeWc0X0pHIcTaDlfvKG5Fq2RKQ3D5b4EyuB5eGQ3SqteY5sqNnARX1TiqMJnEof32RR/y0l1oSXO/3daAic6uauyeifUpXdcZrxnM1WNthpZvnFJ/nH3cnLr/tfX66tPKV6s97ffSVX4LxAx/TpgM3+ntwRXX1PlTDuVZSg5VwRPakcJxyeJMLhyeY25UMkj8naObD5vWjeVx62fi4bHm9+ZrX78pb0JbVzY3ubLH9F2ZMkSKuvRHp3P0R/whzwdItT2O3XHhPM1Gzgor4pxdUEbuSyW4ISjpkmyJylbYrEr5EkvKAVG4lr1GJvmsWczW613xqoxylN2Plqfbr+zja7lBloRkYH9Hfsn6CUI0pcytByroieVI4TDm9ie2lFuzdUOd0OzuBmToIUUToyVSGnpHZKaEjPiiPkbdQH27M9OjmAfofhc6QVpajZwEV9U4qrCdyBTCaL6+uZIZrePFDtH6+vR+KSpQlP4/Ofrmdli2u+zyj5aIJlO8poV6l9im/GP6WoFLXI2Zyo9tQIRspiSGlC1l1+aoLV63yA1B2G/148wFGMlnNF9KRy4nCgntWuddAj7thsv914s8UjItHkz6zNqVSASl9GXN/vsFMGd/ZIB79uf+EIoSN3tnu9Tc4V1KV8AP336e1G7yOpT5zWlaFmAxf1TSmuJjxzlldWnku/t//1Y7LODmxOaT9dRpS/v/ueZCG1U/RhlXvgIhOP35r9X02WScgB9Dd465f3HrIwjCZQsKkR1AGwHXyGDHjL/+ZsTlR7qhapkcGUJrhXiKC/bWSRDtAuB/O6+oiClnNF9KRybAis9UgSoipIvZpdLSMuPGtwzmZTiALpqF5l9ZX519nJy+/2JFlj8bFhwAmZyg4dsN3fNaL6jLSi8r1RNRu4qG9KcTXBHYZfo5zY8jZu1TM2pzXBKAJDNSNDE1a5cZG44P6zYpNUOcAMyhE72QNOWfhowkeelfOyx71UjWOKaLdiU5dBqmbO5kS1p2NSPzOlCVENiFldpzTZJFJ0QJygsypnSkgGWs4V0ZPKoVyIW3FO47cjSaCftRPlfRtRBydns1vtSeRURi3OTl7ei6/Qs2FGQqKKSQf09+wBj6m8MnKuTNRs4KK+KcXRhOe0aIvlCYny3tbr9ec9Ctr+56LNqXyQRGN388X6q95nrhkZySLV+O33OxwXHHfvXq+/4TEorVZ8wJb8iY1Njktthcrx0QR734EfeDC9AdKxqBoTFJRSNXM2J6r9I1aWraj6EM5OXnZVhf58b0sevnI0wTngETlPF8vQcq6InlSO/DTh66uotlIBOV0aWjMylrPZrfZuM2NwdkqVz+orUU/EDB3wAW9kidlM5FSFqNnARX1TSqQJT6nVjkbDuDbYATgeJLcFl7PZKWfuf+hVnpt/U0Hwbu8zdwlYTvqfzLVWP0aVjQ740v9qBOIJRVnVVnMoTRB7ZKyPgjAynVjTqpmzOVntn3Bfur8dt2ApTXCatif09yLMld2DCdoeDXIUo+VcET2pHPPblC3TeXti5d9A6ZIUS87mRIm/GajGqXDIHFONvJY84MAUMxDUN6WQJlj2NqNwpPLdiTrzvGL25Gx2y5mSxajIDakg2IuvEI2tJZPFeGTLJ1nUf0tJaAKFtfxh+kOJ2KTN/E/O5lRNXnvNo2LxoEhKE+IDN+h6PBOh92KdzsjShFU6IPEX89FyroieVA7Zwf+srr9g/foiP4ZK2unf8I+UqpmzOVHiXLKqLEoqHAZHCJ5I4mhigw5wJYUyx8S18lGzgYv6phRHE76+tVG9Sk2fUxmpiKRTmLM5Uc5DJ4smZeAD4lx6sJXJZThN4CjjP0x/373PRQ2SPAeRszldk1dWX8m4iWa5eZrwhCThva7R8Vma4I7ulKDlXBE9qRznB/ADD1LpqRgSHSDazrKdszlZ4jz+tLvpZFupcHDKghTk9QcKKiHShHeyYKCdmqWWoWYDF/VNKRSFPKhE0c/o3bm44yxQgyBynrM5Uc7DJYvUeYiTRVkQqOnZ08UyhtQEaq+5o0JtopuQUAdIBr5zNg9oAvGCVcH0efI0gYyM2lWqP5EmOH+CflzVmaRazhXRk8pxRYl+jQzwUb1OjOtQ1WRLczYnS5wTR+K92UOkwsEZgXymQShEmhBfKcvteajZwEV9U0rcMskDDyZvp9rujhZTP1oqas7mRNFxY/gxMbckFQQDyeKj9dc9qppRELiVgrbbjkQJw2mCnZHx1h3KWll5pYbmbM4MTr6dYhQjTxMcYyjjiDXB8SkpqtsuFqHlXBE9qZxEokLKxYJFYhZVaUYrf87mdE1+tMldpughklQ4xAe+5KM+vX21/pjVJlMTkCfsC/VNKW62yg88yM22jKyQSzRnc7Lo6CCqHE6NSQWBmyw+erEpNyaZKAjcPirtTYRdPsNpAtVy6Q1QPLr5C8WetIA5m6U6JJpIhi5ssih3p6MJrD+6KPEfaUKcVyXnSBWj5VwRPamchCaQJayJm7Z0FPqVXO45mwdq8soj1vz+18GOhbv8iKLJDmjlaUL0F0pRs4GL+qaURA+WkmPpQL9PNYOqzzmbU0X3ggOg/zma8JsXBCvxI4df6JTMIHCb2WKG0oSn1IKZVppMiZtryoc0WcnZzKMmierAUM/K5EDuTseAVfpjGvOr3NGINCEWWsqz3c5ZIVrOFdGTyklrAo/+xPmRQD06yQ9zNg8UIrHaI+ON2/PCgRQmKhf6u1E4OG1IPIpZipoNXNQ3pSRHtahucl2mfnS68rNU5GxOB8GqGYf/bII+Nwh4pf91i3PF3IYhNchXwBCasPaWAvWTyQN4fNz+4Ze70TyZnM2cDOnIwsoHm81SUJsq4uxMiFokMPKwk6MJdi4g396tKIGHowlUjvx7ogzIQC2HaGPO5oFCFDbs0FBeOLhjN24T4fwJEuWqkqlmAxf1TSlJTaCC4UJKzd/jTgJXnZzNg0GwukHx398dFAx3mRtpe7k8TaBDdKkMH03Y4SlUZubQrq3lVKP7nzaerTx9yRU2GkXI2UxasffmyZM31O6TALxaX3v6nParwc7OhCZwr2qLLrXxpf/Bve9ATt9aX3v8kpzgtoolaDlXRE8qxw0HqoOSq69RHXW6NPR75d5RzmZJd9wOoIGCRbIkd6db2iT/1lOsxFE42EdMCAqqrJtWWajZwEV9U0pSEyhCs5NF6XXnbB6oyQy1qtpaujvd5ahdJdxk0ZnwH9/8K8VHE2LeaTJPxO9O6e84YwU5m6kCMFSvzQKzZ2M63pnQBMkJhM9riXuRkjYI7ohmCVrOFdGTynHC4RmZbjSKCv5r1JGnfEBb65zNrCW2EKPRGOo5mbzf2ZkIB3KabSG4QYnCIU4NUqM7hajZwEV9U0pSEygKeEzPKV/GdqRzNifL1vK8LFn85AzFucmiowLUptgefBn+mrCz/TYxiP2EhElIPnqVvfmRqcdUr9/oHbS9+CZ8vDOpCavcWaEj362m5ie8NsLzueJ4qqDlXBE9qRwbDk9EqcycJamlOrlUOjjWbzmbOVFSZ33c1AUqWFOUzs5EOPBzI7J97UOfrhVrgn0nFd/UPKC3SwSC+qaUhCaw2zkKUs/sUtFLYeRsHjJZpGphxwpIP5wgiCqR1zC8/rsvnr7s6YTsBJmbH6+/0urwdP1N70Xy0e54Z5LH6697ySONaKyu917H2lEJLeeK6EnlkP9johc78HMu/Q+95xtvuQ2PspmczRwZX968fE9lt93f/djb2OhRA2Cfsox3JsKB7zvsbj7f2Nzpb7tdyXc7/Z3NjRdv+QaVk0KWoGYDF/VNKa4mvCR9NmVEKUDiiTedVJCz2c0Ho2Scehbmws7ORBBQbdBkkedHOppgGyduOty8pJBaNOEISCQSPmg5V0RPKof8b9mLHlSkxjvu33xx1C5nMxU5Q0VK5il2INXZmQgHiT7hEz98G4VDj5+RFg7ubZWBoL4phTRBXui/vv6KlViH4bmDr+8c45oZvec/ZzPng6oV2/bFWVSupjPq7EwEwSZdS4598qlPxR4FwV7/i7nEO/o9VdMEaEIxelI5MvxKfOy9jMdamJcf+Qbq7ja/Qs0he/O6xBKpwGN+izXx1XlxWrRTX61mMb20r29WV96Yp2g1Xh7JQ+2fE8+elqFmAxf1TSmkCQ72/qF52O/TVq/3gRb2om5czmbOB3d7vU+mYdh+b16Wo5NUnJ0JTXjE+v+u19ve7W+5DcPml/7ex17vPQeTO6RZDDShED1pf6yuJ2VCyd5s2wtait+5ZYl3JnmceruWjZenvj5Ss4GL+qYUVxN2nORMXoZk+OSUYM7m5ybvM5qgRC8yjHcmNGHluRlZox7paiJZfMzCw0TpZgWgCYXoSceNRLz4oGYDF/VNKfyREsNG6iWLz97y23a2t1K9uOzNTz587X95T9nd6sZHrupfPzpZf7RzZb3Xc2rA2juu/Zw+vujxB1MICYLVN5Qj7HzsZbZKOUATCtGTjhvQhDpR3xw3hg8C/fe4AU0oAppQJ+qb4wY0oSpazhXRk44b0IQ6Ud8cN6AJVdFyroiedNyAJtSJ+ua4EZwmDI2Wc0X0pOMGNKFO1DfHDWhCVbScK6InHTegCXWivjluQBOqouVcET3puJGc1OSBmg1c1DfHDWhCVbScK6InBYOaDVzUN8cNaEJVtJwroicFg5oNXNQ3x43kpCYPEPWF6EnBoGYDF/VNMCDqC9GTgkHNBi7qm2AYKYM3t+Pvrx4UWs4V0ZOCQc0GLuqbYPA2eP1Nb3v7fe/1wDN7NeA9EenlnvfwupZzRfSkYFCzgYv6Jhg8Dd4wj/Uz1Z/HroynJsTvEPFAy7kielIwqNnARX0TDF4GR09jM9VflVwZL01YfcUvkghIE4a+t+SBmg1c1DfB4GMwvzW5//75+sr6eu/jEWvCo7fm1WKjpQlrr99v7/KHRA+ia+WjCc/47T2fPjhvaaqGmg1c1DejweP1wVft1IyPwVRlv0a/50n8tqjaqK4J/H65/h5p1ChpwlrPvu2GHKXbaqS6JjyiTpUh+pB/RdTso2H82vzCjQldifHbfACob0aDQ8gWPQzmDzcerERV1wTOWD49Ha3xhMdmrOWzCMNRaoK8iGv73Xv5PI+fg9Tso+Fml+joSozf5gNAfVOZJ1v8+qR+f+edz+hYRSpGwXt9P2iMx8u79d8KpL5pdgD4aAK/p3KkNGHtC0XBW3nH1dONz0epCXSg+R2P+N3APm/dOlpNWOZa3j2haxF+mw8A9U1Fnuqni5iji4L4XoCl+m/xMNj9nuPBUF0TTH99pDSBfkzcs1o5gHkW1TUhfiEnebR6+0Co2UfDktTyge6A3+YDQH1TDf50Y7//ZVtShcZrwksyVReTPO99/LS7vRUPMGz0elQ7Xr6nrTrK9fLjZ/f7UeaAR2+2v3557wzHJTThyeutL5+33sR7BxkpTaA04QBSRYfKmvAi9tnjvDLLQc0+GtpcyW/oSozf5gNAfVOJxzvk8Q0T9M/eH2W2aCAx0KXqeBjMnygdHFhc3YhuUOrHyEzdfkT/Y3ZICB7z546I6OsjUvn5s2iJrQlN4C/Hyt6CWj9KmrBGP9V3lN8Pz2gwUIj6/Co1+4g4f/f+tC66+G2uH/VNJd5TBzt+r75Xv60ao6UJ8uWagY/JyHckd7e3OVmxww1Ut59/6e9+eM9asPuIv0jx+Z2MeOnpXPk3qRJtv+PvmETpbawJa/wdk68mARv8fJ5llDThGZmji4NkfvAusTXziLXE9xzS0bBalEJZyKVVDrOo2cBFfVMJqgYHOz1/xDThCdfQrZT2rfd3X8kmbvbjKv/FzF/gIfDNj/2v7CfOHFQ1aGlTM4BV/kyaph+xJpAkmI+m8VVzU/IRyxMyo2H11TbPpNi13/nSF56syjd0P4vD1t7wEV82bYNu3ojylD/jtGc7X0QiGp5v8SeBtt+UJQF0VPJzMMWo2cBFfVMF6quZz4AfGCOmCStPORnYS33O7J1dpYZfv2ZNdbv/zizKVw7Nh4/5u+n6SWw+IPrQ6ltaNqEdaQKd9VmjnRfN0iAjNZ5AvrHfAXV4K3elmD37GWEu1ceSHxFUvtHsUPs1MSl223fqf7Z+cqMh+oTQp5IsYLcge8lAzQYu6psq8Acd82T66XpWMvh0PW5J1tcTiaFhbT3xka+0JjxNfV4mBYWILlXHSxP4e+bErvORbIcn0dgm1e09m05wwNvj39mPKLMmRLU5/uy21YTVr/E3Nbmly5t4M1KawOq3PdCBpI072+abfzaNoFJ9+6n/ufdSvgn5am2nv7v1ssee1ds6XOz036e3G72PJKP2w9JxNKyRoux96PW26KrF9xrpR33SxUqo2cBFfVOFVSrFrLT28Vsua6ogUShLaa694yZjR6LffN6z/94KgCnu51xV+l+irU4UEC+lQ/51yxWNJLRbl6rjpwn0G6VR+5JZS2lH1N5HgwBUb3etkm3Y9IEOcEL1tR1RsJpAx8Uzp2lvtgaNmCbwryG5TKm2jQKuxnGV3zV+4G/77bzXb/++oOI1tZ8O2LYjN/x1aE0/4mig08wXBnnYpfBeIynNwAhQEWo2cFHfVIKK+ctgDY0/Ix5VDC5NybsZivanNqHkQXl7wKrM12V2bI4RR4HzdfKvmcNRDO3Uper4agLVUW7ybNfAYXWdrDKZLNXt6F4CZbnao5BWy9QLVzRkeM50D6wmUC8kvsFBJw3+McNoaQIXFxVe8hdF353nuzZmmQ9TeeAUKUqpqISNoXxA9EnxxyQVplpH0UCX+qqX5QvEuecApKf2yGqo2cBFfVOJ51R2XwZKhDZuv3u9/obH3LX6Umm+/dLf2lh/zcPprx/t9r++WX+5SaWtXWUu7q3+3tbr9Y1N1gtthqMokA9T7/ZevujRv3t5QUAn6lJ1/DVhZfU1/8SPTqyt97YkiXE0wc2Rouq/bts8VzQoayLbZMFqAnlpU7/GSQmyIyopRkwTNIn6nJU8SifK9IfII1E95mXrnsg7vNH0sRgSSJNTRdFAkRW1C1Tr8xRT8q3cYMlGzQYu6ptq8EjP3maqQ9f/ZIphlSI7rvJ7WgmohHc+9rclvXjmNgFfbALwhIrckQqzRDmgufu/ShfIm01Iv0aXqjOEJpg7CFF2/8SZyxlrQlQvYhuSmuBWHDpRjLObbUplyZv6MWqasLL6RjLAD1l9fDIuKuxoMJJqbXSv8LE1lA7QQVcmUkzrSUoT4lHXJ/mKKeHp1XOAJmSivqmITLvZ6yU6EFGUJrNFbQ0kW7QlTr0F0xvkA6LBokeD2SIPvtsoIcnI0X66iC5VZyhNEL3TX7EhLth+13uxTqYNpQk8MCPW2c0m54g5NppAhcfZX3833b97Inmj+bHkkWi0hDwS3bsiN5h7BHSAOzBIMiMBZj350vEon5TjnUfUtR2cTlKCmg1c1DdVeUphTHU8+7lhyhZNvaHSjMbh+R6THTOjjnScLcbJNB2SzBZXo7yToJDIyRbpIrpUneE0ge8MGJV7QlXgvdZv2jaUJkQNpN1M5uaPpDqMoCZQXaRf1d+LB2Gfvv7A3Ugm0gTXI3H1pyPkXzrALWHbCNjzqPn/os+6EXRSnFM48MwQmRbihZoNXNQ31Xkhie6nrIE/akwHs0Wq0lHAJ7JFWRDcBkOiINIOhk6KVxLYmPJhSE3gFEd+BXf9ZQNBUVhdE5wWjDab/NeeRxfN8ucAI6kJ5g6CzfqeyRCDkqkJcWHSEfKvewBhvWI3O4PYBtv5cOF+w8dKwppAzQYu6hsPVmUgfi+VpT1af92j7ZnZYlz96UT5lw5we4V0ooSUjYJEtkgn5WSL9mo+DKsJ1BGWTq39qQR1fD00wXmdI+VFpl20520mhiDzGVFNWHlOomCUkluA/qe3r9Yfxz820yOMEw1OcQ/kCR/I9ZokGGwBxKzSMXvxMGV11Gzgor7xYvUt9yGj6Hz0YtPOUvOIgqi1Jeh0aSfteSz6CXjjILk7ChhWE+gncT3mGb1mg4n/6poQp8w8xGIU1Z73yh1FK2BUNYFFTR5HfESpkx2DHloTyD2J8QS6eHZfNYKHe6Ib2l6o2cBFfePJE+pA2BGDDRl6Jr64eYJXFNi6YTe7I/sCbxwkd0cBHga/dHLUVWq8uCnn6cpqNw8xeGhCnAm8jhTAnscq4SQKmf1lZmQ1gQyVekzVN0oQqZ5Wj4boLLLeDkPa88hfJe/MJr98GUweqqBmAxf1jS/83i1TjlRy/a9bnCwO3zLYIUW7mTRhS+/WG3jjIPZqPngYvNXfsqrADy7tygppgwlQeZbJRxPsiz+cp5yi8yjsd21tf/Q+x9wR1oQn1ESwklHBRX1KrxbCSZP4npMs2POeF9x+FOgMUzj+qNnARX3jDRWY9PL5NSu2iRtaE+ga8q/dTIl6lf61vZoPXppAGf/73vp6T2ZpmyrNt1G2nq083fjS/+B134F1bn3t8Uu+qm0V4/N4pP7ji6crzzY29xKuSTCymmDrMYm7dQTfma4eDc5UI3KFuU9lz+N71YU3FOivpka3KqNmAxf1jTfPtEApW4wSO69s0Zm2/kh7o9F51L92hxvysFfzwVMTIqJmnJt84TO/6r26JqzHw+fRYFh8nnnYyrCX23seJU144cxSWSVDZNSUrLBizipXPRriROFlNJ0lOo9izMkjBsYN1qh0dNEbNRu4qG+8oWxRCuKTM63XK1t0XpFFmbNJDu15lC3G5+Rjr+aDh8Grr6Kh0503UQUwA6z9vXervvMTZIo0hXcc1O558kUXYmCeqMMoacJGf7env/QxyZ1p6CnBM8+Jk8aRmzw0wb60imLBjihG5/HIpXkGitKPTwORkbhz7YmaDVzUN96QnEs9pnphZxfx4xAeURDVhngc3p7H2WI8CSYXezUfPA1+tv6m9zL1lPfj9de9xCPe5ZjKv7reex1ZPcja+pvXWQ+U7w8t54roSRXgWcr9ve3N3gdRTlOAXHt3N59vbO70tyMBqxIN73b6O5sbL97ytWwGGZ/Hf2tvq7f+apMcOVD/5f6nQ86d60zUbOCivqnCxtt4QJxf5C19BiokzRZ58qGPJnyxV6PGRVPD6DxqLaLdK6t58mCv5sPQIrgv3ITgkNFyroieVAGekxDx1fbnX9qtn+KPW1aJhh4/Iy3Eb6t0zuNp5ErqOUyCg8kFmrBP1DdV2OjvvNWXnDwnPf8qyR719XalbXvyqe/Vd9jTx+jlE0caUtF5nDrY1zE8/zrQMij2aj5AEwrRk6rw6PVHU1P3PjoDIE8+8qavb1ZX3mxvmxI0r1YzPN3ejkeKtrdNyUqxm1dsfN6KRxPd89bekQsp1OItMXRcgsIXLKRQs4GL+qYKki32d8jr1GGwI8X8PtL+u15ve7e/5dUybH6hYOr13vO17ChlfB5Pl+VB/7f8t6AJ+0DLuSJ6UmWeZHR2Hnt2rKJif1rsoydDzUoqRs0GLuqbKkTpHfPRFpB8mIv5wG/Rqa4Jvei1fPEXO5zz+Alq5TP6DvtAy7kietLh4obLIaNmAxf1TSVWX7wz7+Tdfu/cL157x5Wbk7oXvZ7Zvt7rRVXgca8X53t2+pFEweobygF2PtrRa8I9b/X1e7ru3vaH/MqUO5mpAGhCIXrS4QJNGC3UN4fM0UUBNKEQPelwgSaMFuqbQwaacGhoOVdETzpcoAmjhfrmkIEmHBpazhXRkw4XaMJoob45ZELThCNEy7kietLhAk0YLdQ3hww04dDQcq6InnS4QBNGC/XNIQNNODS0nCuiJx0u7uSkQ0bNBi7qm0MGmnBoaDlXRE8KBjUbuKhvDhlowqGh5VwRPSkY1Gzgor45ZNzJSYcLor4QPSkY1Gzgor4JBkR9IXpSMKjZwEV9EwyI+kL0pGBQs4GL+iYYEPWF6EnBoGYDF/VNMCDqC9GTgkHNBi7qm2BA1BeiJwWDmg1c1DfBgKgvRE8KBjUbuKhvggFRX4ieFAxqNnBR3wQDor4QPSkY1Gzgor4JBkR9IXpSMKjZwEV9EwyI+kL0pGBQs4GL+iYYEPWF6EnBoGYDF/VNMCDqC9GTgkHNBi7qm2BA1BeiJwWDmg1c1DfBgKgvRE8KBjUbuKhvggFRX4ieFAxqNnBR3wTD2F+6EAgPtZwromcFg5oNXNQ3wTA29Y8uBcG/F7WcK6KnBYOaDVzUN8GgZoNs1EvBoGYDF/VNMKjZIBv0rAA0AbigZwXQMAAAEqBhAAAAAAAAAAAAAAAAAAAAAAAAAAAAAAAAAAAAAAAAAAAAAAAAAAAAAAAAAAAAAAAAAAAAAAAAAAAAAAAAAAAAAAAAAAAAAAAAAAAAAAAAAAAAAAAAAAAAAAAAAAAAcGz47tZKQNz5Qc0GAORwT2tLIPylZgMActC6EgxqdhXCSqGQQwFFAyIY1OwqBJZCIYcCBg4GXWw8nrby4UGhdoPACSkWPG3lw4NC7QaBE1IseNoakmvCMhYUElIseNoakmugCSAipFjwtDUk10ATQERIseBpa0iugSaAiJBiwdPWkFwDTQARIcWCp60huQaaACJCigVPW0NyDTQhn+AeCeJ/1PbG42lrSK6BJuQT3CNB/H+1vfF42hqSa6AJ+bBrQgKakE9IroEm5MOuCQloQj4huQaakE9IrhFbgzO4OiG5Jixj/QjJNWJrcAZXJyTXhGWsHyG5RmwNzuDqhOSasIz1IyTXiK3BGVydkFwTlrF+hOQasTU4g6sTkmvCMtaPkFwjtgZncHVCck1YxvoRkmvE1uAMrk5IrgnLWD9Cco3YGpzB1QnJNWEZ60dIrhFbgzO4OiG5Jixj/QjJNWJrcAZXJyTXhGWsHyG5RmwNzuDqhOSasIz1IyTXiK3BGVydkFwTlrF+hOQasTU4g6sTkmvCMtaPkFwjtgZncHVCck1YxvoRkmvE1uAMrk5IrgnLWD9Cco3YOqIGn261JnSxPjxtHVHXHAxBGetHSK4RW0fU4E6329LF+vC0dURdM9FqndbFGhlRY0eBkFwjttZm8OlOpzOuy8z4/eT6hU5nVhcrAE3IpdXtdnSxRkbU2FEgJNeIrbUZPL7c7Z7TZYZCN7H+oNtt62IFmqUJNzqdC7oonE+uj5OcntHlcqAJh0xIrhFb6zP4brd7QxeZa6QJTmIwQavV475hmtBOVeP7yXWq5cvVR0+gCYdMSK4RW+szeLrbXdBFZp5EwFk/1+0u6WIVmqUJnDM5lZ5TKlcE0pJRDDThkAnJNWJrfQZPUuBP6rKsUeTH6ze63Zu6WIWGjScsJfpRpI+JdepWXdHFCkATDpmQXCO21mgwhfYlXRwbu9Dt3u52p3VtbGzBXSmnYZpwM6GIN1gu434Wd6s87iRAEw6ZkFwjttZoMKXAd3VRRheoOYzWOYk4octVaJgmnE/0oxa695ecdfLToi5WAZpwyITkGrG1RoPPUHfB3n2kLvODE84QwnS3+0AXicnz5+JeheHM2UstZ1vDNIFTgZO6PHay25390+lXeXaroAmHTEiuEVvrNHgxrshn+aYDdSbsOvUj7J3IidvUuyb5uBHPXjhPVYSZj+5MxJowTldZqmeSjqetdbqG7In6VZeoG0WdiWidulXndZGYbA3kU5OtljPTA5pwyITkGrG1ToMp0O3dx1mu09diISAZ0Dp+hpTDMK8t50mqFBZbUSJNGL9fmyT42lqna644/Siy7QTlTXadu1X2JsSZu+ydpftRTjE2cYE0kbdFo5COJpxd7nbv6/I+qdPYhhGSa8TWOg2mXrPtICxwN4Ki90+zejrqRtAx3fvTrdaleepFm9aPDlu4canVmqZNy9pIRppwtz5J8LW1TtdQf8H2qyaoW8WdiSVdJ3mwdZyUw7Bsx2OvSE4l/KnHx5pwmnbedzKI/VCnsQ1jRF3T9poEWBGxtU6DKdq1l0xtHzWDfB/etIAU7Ldl4cSSjfcJqu0mq2gtt01gT1CTqImG1QRKPZZrm93vaWudruEOgiZK56Qsqbek6+QHU7acEnVnL7Ta/K/OcyQ/PLjdbl2gg+z9ykgTJmuUhFEN/FGgNteMt9vtRMdwOrk+Sfurl+fx0ASOYFPhqcvMQc03H2Q92nEjNuTEsmYFk9FoG1UXTTRUE8ju5bNmSw142lqra6gzdc0skcyRaXGJUs02qkdO0wGV6WWbQ3UWdR4De8LEj9WESZKZ2iShXmObRX2uoRKL79YTVPTuOgWAO+uvhGOiCWSU6SVTS8cV/YKOqHPCIAFNfYj49gPpQ2rKAmfUZsloAqUXNUqCr621uuZsZPmC2Eg126yTS8ydSNZIq46kICZYzttKP77Y7RpXqCZMUE/rQfUZ0WXUamyzqM81VKzu8A+VZDzKRFAT6j4dUMIx0QTqMkidJg2Y13URvqgCUCWP7aCOtDadEVY7jCbQAXVKgq+ttbrGlUXpRlEbITWaXGLuRFL+ED0YdYJSBl20kIIamTCawLdjapSEeo1tFvW5hhqG6G49QbU6sU4h4T41WMIx0QTba6Y+gBkXoLaMh9Cv2dp/252xR8FtBhmEydaVa51oQII1gTzo46NyPG2t1zXUCEhWREUp/9pZnlG3itKEOD7IkbpkIe3Q4RfWBB57qFMSaja2UdTnGm4YdBSJkTtK8ToVrKsQZRwXTaDkiH8ntWnGVM2ByXizbu6rxWg6fbpNNUOJNOEaOTDVt9gnnrbW6xpKeiQfIMskX9D1aByWUgO9ncDQUdEoCx3Umm7/afMJ0QRSmPk6JaFmYxtFja6hYrN366XEqVDjVJkquRMBpRwXTaB45buPcidS16kDFd94o+wogfQsJihrFh4k8gTCVILa8LS1XtforE7yhRFCWmfr1WOSVyYxKjrearNXhFgTyGMLjmbUQL3GNooaXUMNgTaDBK1cctcp5j0ehTs2mjAuveST0dAJtYKkDuej9UWyw0V6yDyJ8e4Vmb5HKXOkCawUDcoTOEeifhP5QkvSrEfzuig8kogmnNQZnt1F6oZFmkAsx9OaaqFmY5tEja6hhiDO/7gjTfXFDKBRa0HS73Pb/bhoguk1U9fXjpbReotHz7RyU4QPxDIdHbV5ria0aEe9ouBpa82uMWVIvtAeJK2TJJIymPuPpAkdVUoDO+IMxckS6SXFiu17sCbMk5/quw0p1Gxsk6jTNVTcUUgvdRejUSbinKbNzMn23YWlzjVnyvvYuZudhe58px31GB1NOE3holG1T8TWOg0mJHKdzjBF+rW4prM0DowaUgNo7RmPZJQ1ga2uVRQ8ba3ZNWeku7hk77ZKH8C5+0p9B2fE1TBOvrmhQeBqQqfW6UpCzcY2iTpdQyFtS5nK8WZcqjL2Zhcv2d7ibasAF6gOGRbtnbhYE2qczyq21mkwwb1keyeSmaQOE/+nq2RHPMaikP3WntNks6MJ8v62GkXB09aaXUMdp+UJEgYbE9TPWh6nroQGAnW44q6lQk2HTg537lmKltQYBoa6jW0QdbqGyt+2CVQXzkd37wnSf9Ne8gzf7vzNWR5HWtCeBavB/N32fSp2O/0/0oRJ6pEnXoe8D8TWOg1mqHcQ3YlkSN8o7u3gKlX6aF6Owl0sa9ANWnY1gTPtGm9Hetpat2vImHNUkJHIcb8qnrdFOdLAnajo/iNBKZajCWOnKWDqFIW6jW0QtbqG6q8+/EvdCMoCSAnMIAKpg76Pj+LEJAMnaaeWf3fJTE7hTdqIWE3g+ay13ZYWW2s1mKBfStEbd24oI9L6LVA9iCP5tFR38pLuJhFNaQL7p75pS5621u0a0so22W/HlDhvbJvAEGgxPYWLrLddxhPUQriaIM9EupPg9kndxjaIWl0TFSm1hVyMVD/MzQaKBnMnkie2aozw00Fm8aaNGgoinbmimsAPCdU3U0VsrdVggtN/t8GTW2zx+kmKZJ3UPzFrvEPVZF6EYHp5kQI/qQk8N6c2UfC0tW7XTCx37y45HQRqGe7zM5IK51DxAKzIJeUJttpTLCU1QURBm4waqNvYBlGra6hOm6rPLQL9Y0uTC9iIA9XxKDWW4bgk1ISaKDGaUPN8VrG1VoMZ+s1u+8Vzctz1C7z+gHpGPGgimsAy0b3fvksbztF/SU2oVRQ8ba3dNZ0uaZ7YbHjA72WM10kcl7QjcbIjjQE3CjL2PHGzS35NaoI8dl6bKNRubHOo1TV8x1GqMN+JpH/M3XqCylc6EZQsx9Pa47v6EVQzTHUQTah7PqvYWqvBDDdo7gdN6Ecn1s9Qj8iwNGsSovNUU5jl88l7kbIgQliTKHjaWrtrZAqCmsXwEKqzLu+WeXCz3b5NJpsEkdxActm+vdCdt8+TxZrATU1tolC7sc2hXtdQkXIaMM53IhlqCXidewyyTuUcj8aNU0DoouF0i2LDNByiCXT2Qo2SYGyt12CC75VGXWailVofm7gw21le7Ny8FNly4kZnqdu5Rmpwqa33X6fN/Xlmgi5wpZbRNE9ba3cNdRaiUWaGandifYLaDmXRDClNWgGdn4zuWsWaICJTkyjUbmxzqNc1VGZcZFSKpuRonTVAN8sAw3wngtpD2UrycO5aR6Mh1gRqgOudzyq21mvwaONpa/2uudJuR3cdCH7HhrtOKdMNnrf4ZyfeeoU3zF+ZYK013cxJ5ySSzrbP3Ld86je2MdTrGmoYeGoS5YhmRpKuUzpt1qnlTyJbT7ibI02gBPsgprjXa/Bo42lrSK4Jy1g/anYNNfYn7Z1IRvrL0aNw0l1MwBtb3L1e6lxrt85QahBpAp1a68sEoAllhOSasIz1o2bXyLPClB3Y2Wi0fsHpEFKdd6c0CxOL3e59zQddTWjTufWKgthas8EjjaetIbkmLGP9qNk1VP3v2zuRzFm+tyADhsKVwduPvDd6PxN1ImJNYIWoVRTE1poNHmk8bQ3JNWEZ60fNrpE57VSz7bdMqNuwxF0JzQPODd5+5MGGaMoCdT0cTeBd9b3EGJpQRkiuCctYP+p2Dc9MWHRuOHVIH5ajzwPyW//Tzw4vxI8T0+6EJvAEhdo+dgBNKCMk14RlrB91u4b6DdEDbcwl6i046zecjsLYmNzGpyzC5gk83cfVhDq/k0aIrXUbPMp42hqSa8Iy1o+6XcPPDtuKzVDTv+Ssn1gmgdB7EiduyMgjyYT54s/4LE99TWiCPPBQ72eR6jZ4lPG0NSTXhGWsH7W7Rt6dFc3Yk66Bu06VvbvYPttqXbm5ZO5G8MOBC+dpw4Pun9TzSGqCPBhZ6+cTazd4hPG0NSTXhGWsH7W7hit99F4Mgl8R4K5P62R/xlR7PkNYmEzci5SFOkVBbK3d4BHG09aQXBOWsX7U7hp+dlirs8CPurnrYyflU8Ld7vKsnaV4VqY1L1OfIkMT5A079YiC2Fq7wSOMp60huSYsY/04EtecaLVaiYd8BjYcCGLrkRh8RHjaGpJrwjLWj5BcI7YGZ3B1QnJNWMb6EZJrxNbgDK5OSK4Jy1g/QnKN2DqswadbLeduyn4Yn77WuRHdnT1IPG0d1jXHkqCM9SMk14itHgafdGWgk3hjkCfn5m9Hr1kx713qJDcOwfiV0oFXD1sZz8MjJlr8jZZaOHG+3Y7fPXOQDGtsAITkGrG1osGtGzKxottduHleYnQ/mjC+GL9fSt7G2FnqJDYOwckH8UywPCraavE8PMJ5EZI/41fuxs+5mRvVreTGg2FYYwMgJNeIrZUMPiMzryyiBXVpAl15dnxsbHJ/mjB+JZryWUAlW2OqHn7uhrmb/KfK5b40YbobfdSDn6xnWomNfpy51iFdeXDXPoSXi6dvQiIk14itVQyW2FzuzLZn5Y1w+9YE7iboc16n45dQxht9mbgkSczRaMK0EQSDaMG+NOEKXSX2zdI5+mfC3ehF9MXubvdaSQ/E0zchEZJrxNZyg8f5zaEP7HNZJ67M718TYuLPLA/NyZvc/SCOQhNOSAa1xK/TlE4Qb9uXJpz4c8k65K58ZJZxNvrAHw3r3my3Z1nJBz5GmcTTNyERkmvE1nKDua3R2HSoSROuJV/0Pgz087rdG9GjIQWU25qgwuGnOUG5rY6YmP5z/5rgQDV5fxPX6IfcMF0O/ijpwBu9Enj6JiRCco3YWmow9WWzaltNmhDN3h4e+n3zZytdqNTWJOWHc0O84LpBamBdmsDv39kXreVIBy7QD9XFbDx9ExIhuUZsLTOYn+a+ocsuo6MJyzf5hxyFJoxTxyHjXdo1aYK+5HsfnHTGICjpKByl9PRNSITkGrG1zOBZ6i1nBVNSE86cvdRKVY7J1pWz7kMb6XVDflWePH9usLqdbA0OoJvBs6PQBP6OU8ZMhJHRBBfqWxXezvT0TUiE5BqxtcRgThMGBxMIRxPO651K/TYsM3HFjMYv6+smU+t6sk55IDj4XZWZuC135pdvWBGRnXJL1FEilyPQBPZN1t3TlCZMDj7Plp7VlDnLqUATJlsZMj1ZmAe0S/zj6ZuQCMk1YmuJwdNU1TMHuqIaLF85VKx6nIxfCpG5XqYJZ6L7e/Oa/vLO0zyyP0KaQGmC/Sh4AkcTJi48EDOWzCeDhclZsaN7Xy1JruvJPIqjkFkJlTkjD9cv3bcdA7OTpze5SpSG8r3o1b9ZePomJEbBNYk5xAeI2FpiMFW17JtYUQ2mkFy4canVmqYeq06s4fe+dM615F1RWev25EvtNlWZu+12m8Uk1gT+YPL96VbrEl1y0SgS7Ty72J2fbd/VY9IcgSbQb89MoeIafCXWQvM+PYK/8WgwtxdT66WawHMVhGW1V3bKFJIiTbif2c2J8fRNSAzrGuelJ0Nwfjpuiyn0CVpwNx4IYmuJwVQrs+2KNWG5bX4nvyvSpNLkDCsk0odNrzvV36nK0cYTSzbeJ+7aS9LOu4UePnxNmKBiyqxmcQ2mX/3gdrt1gT/2p5kCV/ab063zbTUnva4nn+10qKO0zPMeyGXxFfnV3d3ZC602/2vu4vJOUtEHs/ed1/2moX6OqmsOnr4JiaqumZi+xuV1ra196H1pAp3svsmZSW7043z7dqdzI/oucy5ia4nBJFDZ97WjGjwZ/Z1zdk4ixWtiKDC9XqIJ5ALrSwplk3vQzszbHxGHrwn8xqzMauZowqLm61SYmkORQTrWd1KsTa/HJzvjCfFGyip02Gba1nLe+UDevFVQ6SmPKJ447umbkKjmmhartLJkm8LhNYFaBPvFByrg5XbrPJWfs9GH8Wu2L75caTpricF0neyUM67WEdRwmhvqlFwk9qXXizXBme4s+iD7aWfxjP/D1wQeatHFJHENPm9rKT/MIXFCxuk+Q3q9RBNYI60GUzWXrguHTEpzByD9yrx7FOPpm5Co4hrOaB0kFPelCRfiT8SREmi77Gz0gSKJ6lRHhraiPmw2YmuxweN0lex8I0MTqM0z98DJP4lBiPR6sSZQhzl2JVU88QLtLEwTjkATqMgHPuIlxNU6hrRNKjAl+YmT0uslmkBWRtM+T6gm0c6cHxJxlkpGs5E8PH0TEhVcIwPt81d42PdEa/rPGjRhbNKOIVMdjNqeaKMXk92O1KxxHt+qkC6WGEymZgdTShMmW1eu8Yx/ERDOqu87UpJeL9YE/nSWbGAo4EVOaKczdJ/BkWhCtkxlaQIJnRTGmVSDnV4v0QRKE2Kdpzjkf1gTCocPZVgyczTUwdM3IVHumkmqa4tOH/uklMf+NCGCUsmCgaIqnIjuOPHoVWHvQWwtMZhy3uznERxNON2mFcXUfKqg1HbFmpFeL9QEc/cuRjoStLO4yh+JJmSXVVoTxlvTbcr/ZHRonCryvKOy6fViTaDUwLky+YTdzZpgNmQzQR1de48iH0/fhESpa8apc/zAbfMMNWkCpZJDDixmQL+0MGEUW0sMju4lpImqdfQ87oMoT6COjwxqPIgiMbVeqAnx/TuDVIz4jBwOXxMu5Q34OJow3mrL85KMKdgWr8aOGVwv0oSzciEH9gnttMdlwXM9FkuGGwhP34REqWso9rImqtSkCdS216cJlIQX5ttia4nBs4mWySGqpNQCdu9ekYl11OZZtRy/JCrwp3VVcr1QE+jAtotkvSOoCdwjyszD4mp9kp3DLJI+a8GelDxoMXqjWmq9UBPiuQyKakJ2EQl8SlQKBXj6JiTKXEPJfWbXbBQ1oew5ZLG1xGAO/MxGxlZS6qtGjwE5mkBMc7AvxN1fZ71QE6geDY6kjKAmlM9POEM5wBLpJR3lFuw5UYGlyJ7EepkmdFQpDezuQk3gW9uVAtPTNyFR5pq7lOjpYgJXE87d7Cx05zttpxEZv8R3AubvTuu25Hqr3eaAONdu8+W5rGmzbjScbN9dWOpci4YxzM6ztzudgopAF9t334FvomUabCupc59x4CbFNNUJNyCj9UJNoPRmcBbuCGoC96uSt1MUW0m5m3lDCzwp9mepaNyJH856oSZQ32HwLxZpAvky1p5CPH0TEiWuGaeozvRxrAkXqLU0LEY18rwkzow5ObWuJ1NYW6hquSrDr8QQbmuIyU453q1zSag6V5i6VmKw5J5Z2YatpPTL7B/hHCqhCZxEJMLVrhdqAtk2OIQxiprArsn6UbaSUo4VfRmULE8kgGdIUNzSidYLNeFklkAXaAL91cWKd688fRMSJa4h/2ePK8U1mCvq/N32/aV4lg3fAXgw275PWbHEUHq9RBNkPsT8zVkerVowl+Sd9F93sUAT7C3xXMTWEoOlscv6PKVW0hP0I2xoc56a1ASK4cS0HrteqAkkLdG8nIhR1ARuILJyKFtJqUZG4kYNdrJTeILiw+2U2fVCTaBMzLkXqeRrwsnl7nKx12I8fRMSJa6heuh+FDomrsHdJVMTT0bDSlQTNBuevMHFnl53TnZSzHgjhbtJOfiSJspo57VlfoGn+9qMBJMUhbcH4ieB2FpiMP0FFjfn3uuYeVGCraSU8WjY8UfyjSZEEkItJZuTXi/WBO7z3I9++WnjqVHUBK70WfPKbCWln2QVm2t8UhPYSterdr1QE7i7MvAH8zWhbJDZxdM3IVHiGirmVNEqTg22g7w8PCcLVNETk1vS6yWaQO2mvdPBTwfJIu1czPu4dKvdbt+kOrRcNg1SbC0xmDhL8dz907ymfOzkhXlTOW0lpVCeFyGYXl6kA2Wxe9e08zy7i/sd6fUSTeBPPuik/olZdcJIagIb373pCq/8altJSTLs/EL6daZgbXDIUCoVYHq9RBM4h4pbASOX+ZpATUhOjAzi6ZuQKHHN/Tzljat1DDWhUn6UUyd65On1Ek2gtsEUPkFdWKnptDO3CeB9hB3dykdsLTGYOc2iQCJkXk2sldNWUvlmy/32Xaru5+x9Bzl49i5FuRkSS6+XaMLYBb7mA+p/8dDMKGsCPwraXZy2it1elMppKyk3CpIKTNykTp4p2PYDHWSikuaHQ9LrJZrAKrSkdp7smCYnVxO4p6GL5Xj6JiRKXEOhmUj4IrI0gQ6WAqd9ieQive6cnKEJlJLHfXLqdkjTQztzHwmifcJS2afWxNYSg4WJthEDYemm1Puokp43isH9C6sJuoW2mfckpdedGp6pCfq9OGZp1hjh7MzmSDTBPLpM+tXpmCdMEprAP5rksn17oTt/wWoCHUyb2mwgB0d6vUwTZGL9g5t0Uf57silXE3jMN4HJ1rLx9E1IlLiGSjl73M7W4JjTLSo1CVOefXbFyTDT687JGZpA0RQPw5P0y6gW7cyOA8Nkq3WNKqJtUXIQW0sMVibO3+xQv6XTmbWP+k2bm+PEiRu0q3ON1i7JTVT6lefvUkrxoHNNRSm97px8rt226W28kf7ehdnO8mLnZjSzx92ZiXOhXKrZGlHp8MQnXxYld4sq6aSVtvlJW7BUcIopnPR6mSaMTdzW4+mvmVDM1QR+NU2CIg96+iYkSlxDzUL2cy9xtaYqcO6afC+JMOXMxbjgfAo0vR6fnKEJsxRS/KoGg6aDtDPz1rjDOIdbYdsqtpYY3Cg8ba12+Pj5myILC52b2sWbbLetGF/h/tL8lYmx0+222XuWsgYSgM4l1db0enzyhE7hJJwrUlW/wRf9M5qZktjpQn8zSVFv0tM3IVHiGspQy+47nOCBJ4sprHF5M9ZS2zaT6fVCTXAvJ+jOshFEmcfoTCMcRGwtMbhReNoakmvCMtaPEtdQIl8yP6HFneelzrV264zTxT0tNTu+E5BcL9QE7pQmcHcWQz+lKJ8WW0sMbhSetobkmrCM9aPENdTHy87HbSWdoDzyvlbExLDXafmqYSdqt931Qk2gqwwOa1bTBBKe7KzSILaWGNwoPG0NyTVhGetHmWse6CBfGltJ6d/oofpUlTxBtdvN+OP1Qk24ktVNqKYJ9u1cOYitZQY3CU9bQ3JNWMb6UeYaHsvNqme2kt53JhPMp5tpqt6JLwDa9UJNOBfPfImppgkkSmbqTzZia5nBTcLT1pBcE5axfpS5ht+LU/T+BNpt55nxFOakJvCDg+65dr1QE+gyztQ1pZomUD8GY4wOnraG5JqwjPWj1DXyTHx+B5/6FjZP4OksA5qQyBPseqEm8LRH5x1fRlNyNWHCEYFreTdJFLG11OAG4WlrSK4Jy1g/yl1zgaq6M8n93H2p97aSUgU2b0sen+2Sesi+2/beM9V47gak10s0gT9LeFNvLZ+4Yaan5GpCazGaNs09k7wnpASxtdzg5uBpa0iuCctYPyq45jzfMFi+275wti0z8hOawA8HLpyXr6D9eVv3dboL7elW6+wNfXQ1vV6iCbzUXWyfpYveXNIpa/maQH/+2gX+DBtPhYmGNjIRWysY3Bg8bQ3JNWEZ60cV15xJThmQihdVUq7AwsKkvRfpHC6djvS6U8MzNUG+D2qJ/kquJkQsZD+aESG2VjG4KXjaGpJrwjLWj2quOWc+hU7MX0l38M/KtOZlyvatJpyRqQi0bdZMOE+vl2rC2En5lHDmGWnsxbvzRbchBbG1msHNwNPWkFwTlrF+VHbNGcrPW9nd9RO0xxnqY07TJvcJlPR6ORkXzYMPLRxIUMTWygY3AE9bQ3JNWMb6EZJrxNbgDK5OSK4Jy1g/QnKN2BqcwdUJyTVhGetHSK4RW4MzuDohuSYsY/0IyTVia3AGVyck14RlrB8huUZsDc7g6oTkmrCM9SMk14itwRlcnZBcE5axfoTkGrE1OIOrE5JrwjLWj5BcI7YGZ3B1QnJNWMb6EZJrxNbgDK5OSK4Jy1g/QooDsTU4g6sTkmvCMtaPkFwjtgZncHVCck1YxvoRkmvE1uAMrk5IrgnLWD9Cco3YGpzB1QnJNWEZ60dIrhFbgzO4OiG5Jixj/QjJNWIr/y8k1PYqeB5+vAnKWD9Cco3Yyv8LCbW9CnpGOKjdIElIrhFb/+L/h8NDtb0Keko4qN0gSUiuEVun/uF/QuHfi2p7FQKTSy+9DAn2jS42npBsHYaw5NJPL0OCnaOLjSckWwEYFmgCAMAFmgAAcIEmAABcoAkAABdoAgDABZoAAHCBJgAAXLiehISaDQDIQatKMKjZAIAc8EgQAMAlrDnu/178/9O1zOWhWSWpAAAAAElFTkSuQmCC)"
      ],
      "metadata": {
        "id": "xK5c7x6x-3ZD"
      }
    },
    {
      "cell_type": "markdown",
      "source": [
        "<br>"
      ],
      "metadata": {
        "id": "118qk8n4b_u0"
      }
    },
    {
      "cell_type": "markdown",
      "source": [
        "**[Aggregation]**  \n",
        "\n",
        "생성된 약 분류기들의 예측 결과를 **Voting**을 통해 결합한다."
      ],
      "metadata": {
        "id": "Swwxab-x-6qm"
      }
    },
    {
      "cell_type": "markdown",
      "source": [
        "<br>"
      ],
      "metadata": {
        "id": "eOlrTPqFcFle"
      }
    },
    {
      "cell_type": "markdown",
      "source": [
        "### **3) Boosting**\n",
        "\n",
        "- 앞에서 예측한 분류기의 틀린 부분에 대한 **가중치**를 부여하는 방식  \n",
        "- 가중치를 부여하여 틀린 부분을 더 잘 맞추는데 집중한 방식\n",
        "<br><br>\n",
        "\n",
        "**[bagging 과의 차이]**  \n",
        "\n",
        "- Bagging 과 비슷하지만 가중치를 부여한다는 점에서 차이\n",
        "\n",
        "- Bagging은 일반적인 학습 모델에 , Boosting은 어려운 문제를 맞추는 것에 더 적합\n"
      ],
      "metadata": {
        "id": "qKCAUVlslrBh"
      }
    },
    {
      "cell_type": "markdown",
      "source": [
        "<br>"
      ],
      "metadata": {
        "id": "xDuxRAHwck_V"
      }
    },
    {
      "cell_type": "markdown",
      "source": [
        "## **3.모듈**\n",
        "\n",
        "사이킷런은 보팅 방식의 앙상블을 구현한 **VotingClassifier 클래스**를 제공"
      ],
      "metadata": {
        "id": "gVKdyxdOA2Qs"
      }
    },
    {
      "cell_type": "markdown",
      "source": [
        "<br>"
      ],
      "metadata": {
        "id": "C50I2V4piqPw"
      }
    },
    {
      "cell_type": "code",
      "source": [
        "import pandas as pd\n",
        "from sklearn.datasets import load_breast_cancer\n",
        "from sklearn.model_selection import train_test_split\n",
        "\n",
        "# 데이터 로드\n",
        "cancer = load_breast_cancer()\n",
        "\n",
        "# 데이터 프레임 만들기\n",
        "data_df = pd.DataFrame(cancer.data, columns = cancer.feature_names)\n",
        "\n",
        "# 데이터를 훈련셋과 테스트셋으로 나누기\n",
        "X_train, X_test, y_train, y_test = train_test_split(cancer.data,cancer.target,test_size=0.2,random_state=156)"
      ],
      "metadata": {
        "id": "uu_EJ11OA1SP"
      },
      "execution_count": null,
      "outputs": []
    },
    {
      "cell_type": "markdown",
      "source": [
        "유방암 데이터셋을 불러와 훈련셋과 테스트셋으로 나누었다."
      ],
      "metadata": {
        "id": "KhHuHQuABo_K"
      }
    },
    {
      "cell_type": "markdown",
      "source": [
        "<br>"
      ],
      "metadata": {
        "id": "-eQ1g7VFcrMI"
      }
    },
    {
      "cell_type": "code",
      "source": [
        "from sklearn.ensemble import VotingClassifier\n",
        "from sklearn.linear_model import LogisticRegression\n",
        "from sklearn.neighbors import KNeighborsClassifier\n",
        "from sklearn.metrics import accuracy_score\n",
        "\n",
        "# 보팅모델에 넣기 위한 개별 모델은 로지스틱 회귀와 KNN\n",
        "logistic_regression = LogisticRegression()\n",
        "knn = KNeighborsClassifier(n_neighbors=8)\n",
        "\n",
        "voting_model = VotingClassifier(estimators=[ ('LogisticRegression', logistic_regression),\n",
        "                                            ('KNN', knn) ], voting='soft')"
      ],
      "metadata": {
        "id": "F8YNIIFPA9ir"
      },
      "execution_count": null,
      "outputs": []
    },
    {
      "cell_type": "markdown",
      "source": [
        "사이킷런에서 선형회귀모델과 KNN모델을 불러오고, Voting분류기 모델에 포함시켰다.\n",
        "보팅방식은 소프트보팅으로 선택했다."
      ],
      "metadata": {
        "id": "7fP6_Pm8Brfp"
      }
    },
    {
      "cell_type": "markdown",
      "source": [
        "<br>"
      ],
      "metadata": {
        "id": "70TVWjckcsmZ"
      }
    },
    {
      "cell_type": "code",
      "source": [
        "classifiers = [logistic_regression, knn]\n",
        "\n",
        "# 두 알고리즘 학습 후 테스트\n",
        "for classifier in classifiers:\n",
        "    classifier.fit(X_train, y_train)\n",
        "    pred = classifier.predict(X_test)\n",
        "    class_name = classifier.__class__.__name__\n",
        "    print('{0} 정확도: {1:.4f}'.format(class_name, accuracy_score(y_test, pred)))\n",
        "\n",
        "# 보팅 분류기로 학습 후 테스트\n",
        "voting_model.fit(X_train, y_train)\n",
        "pred = voting_model.predict(X_test)\n",
        "print('보팅 분류기의 정확도: {0: .4f}'.format(accuracy_score(y_test, pred)))"
      ],
      "metadata": {
        "colab": {
          "base_uri": "https://localhost:8080/"
        },
        "id": "DuQE5XZrBB0K",
        "outputId": "3798c296-d64e-47b4-897c-41e1495f55d0"
      },
      "execution_count": null,
      "outputs": [
        {
          "output_type": "stream",
          "name": "stderr",
          "text": [
            "/usr/local/lib/python3.7/dist-packages/sklearn/linear_model/_logistic.py:818: ConvergenceWarning: lbfgs failed to converge (status=1):\n",
            "STOP: TOTAL NO. of ITERATIONS REACHED LIMIT.\n",
            "\n",
            "Increase the number of iterations (max_iter) or scale the data as shown in:\n",
            "    https://scikit-learn.org/stable/modules/preprocessing.html\n",
            "Please also refer to the documentation for alternative solver options:\n",
            "    https://scikit-learn.org/stable/modules/linear_model.html#logistic-regression\n",
            "  extra_warning_msg=_LOGISTIC_SOLVER_CONVERGENCE_MSG,\n"
          ]
        },
        {
          "output_type": "stream",
          "name": "stdout",
          "text": [
            "LogisticRegression 정확도: 0.9386\n",
            "KNeighborsClassifier 정확도: 0.9386\n",
            "보팅 분류기의 정확도:  0.9474\n"
          ]
        },
        {
          "output_type": "stream",
          "name": "stderr",
          "text": [
            "/usr/local/lib/python3.7/dist-packages/sklearn/linear_model/_logistic.py:818: ConvergenceWarning: lbfgs failed to converge (status=1):\n",
            "STOP: TOTAL NO. of ITERATIONS REACHED LIMIT.\n",
            "\n",
            "Increase the number of iterations (max_iter) or scale the data as shown in:\n",
            "    https://scikit-learn.org/stable/modules/preprocessing.html\n",
            "Please also refer to the documentation for alternative solver options:\n",
            "    https://scikit-learn.org/stable/modules/linear_model.html#logistic-regression\n",
            "  extra_warning_msg=_LOGISTIC_SOLVER_CONVERGENCE_MSG,\n"
          ]
        }
      ]
    },
    {
      "cell_type": "markdown",
      "source": [
        "- 두 모델과 보팅 분류기 모델을 학습시키고(fit) 평가\n",
        "\n",
        "- 보팅 분류기가 더 우수한 성능을 보임을 알 수 있음\n",
        "\n",
        "- 하지만 단순히 여러 알고리즘을 마구잡이로 결합한다고해서 항상 성능이 향상되는 것은 아님에 유의"
      ],
      "metadata": {
        "id": "cJtDfvO7BnJD"
      }
    },
    {
      "cell_type": "markdown",
      "source": [
        "<br>"
      ],
      "metadata": {
        "id": "j8hQpLHzBoD4"
      }
    },
    {
      "cell_type": "markdown",
      "source": [
        "\n",
        "\n",
        "---\n",
        "\n",
        "\n",
        "\n"
      ],
      "metadata": {
        "id": "Y5g652MTc4GP"
      }
    },
    {
      "cell_type": "markdown",
      "source": [
        "이렇게 Ensemble에 대해 알아보았습니다!\n",
        "\n",
        "Ensemble의 종류의 특징과 차이점을 잘 이해해 놓는다면 데이터 분석을 하는 것에 많은 도움이 될 것 같습니다 :)\n",
        "\n",
        "<br>\n",
        "\n",
        "다음 게시글에서는 **모델 검증 사용 설명서**가 업로드 될 예정입니다.\n",
        "\n",
        "다음 게시글에도 많은 관심과 애정 부탁드려요! 감사합니다💛"
      ],
      "metadata": {
        "id": "qRmBvGkRdDBg"
      }
    }
  ]
}