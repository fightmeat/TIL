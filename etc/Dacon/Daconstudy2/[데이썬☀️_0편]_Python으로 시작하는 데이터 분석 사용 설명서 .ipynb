{
  "nbformat": 4,
  "nbformat_minor": 0,
  "metadata": {
    "colab": {
      "name": "데이썬 0편.ipynb",
      "provenance": [],
      "collapsed_sections": []
    },
    "kernelspec": {
      "name": "python3",
      "display_name": "Python 3"
    },
    "language_info": {
      "name": "python"
    }
  },
  "cells": [
    {
      "cell_type": "markdown",
      "source": [
        "# 팀 소개"
      ],
      "metadata": {
        "id": "TNBasZeDfdwF"
      }
    },
    {
      "cell_type": "markdown",
      "source": [
        "\n",
        "안녕하세요. 데이크루 2기 데이썬☀️ 입니다.\n",
        "\n",
        "데이썬☀️은 **데이콘(Dacon)**의 데이(Da)와 **파이썬(Python)**의 썬(thon)의 합성어로, **매일 꾸준하게 파이썬을 공부하자**라는 이중적인 의미입니다.\n",
        "\n",
        "우리 데이썬은 3달의 기간 동안 **데이터 분석을 하기위한 기초 과정을 학습하는 스터디 그룹**으로, 공부한 내용을 바탕으로 코드공유 게시판에 게시물을 업로드할 예정입니다.\n",
        "\n",
        "\n",
        "\n",
        "\n",
        "\n"
      ],
      "metadata": {
        "id": "bi4wy5BhLlbJ"
      }
    },
    {
      "cell_type": "markdown",
      "source": [
        "ㅤ"
      ],
      "metadata": {
        "id": "vvUeO9oclBZ5"
      }
    },
    {
      "cell_type": "markdown",
      "source": [
        "# 팀원 소개\n",
        "\n",
        "팀 데이썬은 **다양한 전공**을 가진 사람들이 데이터 분석이라는 공통 관심사로 만나게 되었습니다.\n",
        "\n",
        "그렇기에 서로 부족한 부분을 채우며 시너지를 주는 팀원들로 구성되었습니다.\n",
        "</br></br>\n",
        "\n",
        "재밌게 활동하자는 의미로 팀장과 팀원들의 프로필은 **지브리 컨셉**으로, 이름은 **애너그램**으로 지정했습니다! "
      ],
      "metadata": {
        "id": "tFj-hF95f0b7"
      }
    },
    {
      "cell_type": "markdown",
      "source": [
        "팀장\n",
        "\n",
        "*   [므인](https://dacon.io/myprofile/428400/home)\n",
        "\n",
        "\n",
        "\n",
        "팀원\n",
        "\n",
        "*   [셔온](https://dacon.io/myprofile/445202/home)\n",
        "\n",
        "\n",
        "*   [셔휘](https://dacon.io/myprofile/445268/home)\n",
        "\n",
        "*   [셔밍](https://dacon.io/myprofile/401269/home)\n",
        "\n",
        "*   [졔이](https://dacon.io/myprofile/444669/home)\n",
        "\n",
        "\n"
      ],
      "metadata": {
        "id": "hXTfaDTtfFCx"
      }
    },
    {
      "cell_type": "markdown",
      "source": [
        "ㅤ"
      ],
      "metadata": {
        "id": "KLAlgDbQk-iN"
      }
    },
    {
      "cell_type": "markdown",
      "source": [
        "# 콘텐츠 소개"
      ],
      "metadata": {
        "id": "0yHX2C3yY2gL"
      }
    },
    {
      "cell_type": "markdown",
      "source": [
        "데이썬의 콘텐츠는 **\"사용 설명서\"** 시리즈로 발간할 예정입니다.\n",
        "\n",
        "본 콘텐츠는 데이터 분석의 기초를 다루지만, **파이썬의 기본 문법들은 이미 숙지하고 있다는 가정**하에 진행됩니다.\n",
        "\n",
        "파이썬의 기본 문법들을 모르신다면 아래 팀장의 코드 공유 게시판을 참고하시거나 데이콘 코드 공유 게시판에 **\"파이썬 기초\"**를 검색해주세요!\n",
        "\n",
        "[므인's 코드공유 게시판](https://dacon.io/myprofile/428400/codeshare)  \n",
        "</br></br>\n",
        "\n",
        "또한 **<파이썬 머신러닝 완벽 가이드>** 교재와 구글링을 참고하여 스터디 진행 및 콘텐츠를 제작할 예정입니다.\n",
        "\n",
        "Dacon Basic 대회인 **<펭귄 몸무게 예측 경진대회>** 데이터를 사용합니다. \n",
        "\n",
        "https://dacon.io/competitions/official/235862/overview/description"
      ],
      "metadata": {
        "id": "nwrSk5TyPFyT"
      }
    },
    {
      "cell_type": "markdown",
      "source": [
        "ㅤ"
      ],
      "metadata": {
        "id": "nccxchOXYyRa"
      }
    },
    {
      "cell_type": "markdown",
      "source": [
        "**💛 이런 분들에게 추천합니다!! 💛**\n",
        "\n",
        "\n",
        "\n"
      ],
      "metadata": {
        "id": "-voB1aGyO6Dc"
      }
    },
    {
      "cell_type": "markdown",
      "source": [
        "🐣 데이터 분석에 관심있는 데이커!\n",
        "\n",
        "🐣 파이썬으로 데이터 분석을 하고 싶은 데이커!\n",
        "\n",
        "🐣 어디서부터 공부해야할지 막막해 시작조차 못한 데이커!\n",
        "</br></br>\n",
        "\n",
        "저희와 함께 3달 동안 공부해봐요!\n",
        "\n",
        "\n",
        "많은 관심과 애정 부탁드려요 :)"
      ],
      "metadata": {
        "id": "SDKJc1ofTHbN"
      }
    },
    {
      "cell_type": "markdown",
      "source": [
        "ㅤ"
      ],
      "metadata": {
        "id": "z3r9mDDTY7j0"
      }
    },
    {
      "cell_type": "markdown",
      "source": [
        "본 포스팅은 데이콘 서포터즈 “데이크루\" 2기 활동의 일환입니다."
      ],
      "metadata": {
        "id": "ustyDXqlT85L"
      }
    },
    {
      "cell_type": "markdown",
      "source": [
        "\n",
        "\n",
        "---\n",
        "\n"
      ],
      "metadata": {
        "id": "qq9vKI4OS5a7"
      }
    },
    {
      "cell_type": "markdown",
      "source": [
        "# 📖 사용 설명서"
      ],
      "metadata": {
        "id": "YYZKDsb-X9Wk"
      }
    },
    {
      "cell_type": "markdown",
      "source": [
        "\n",
        "\n",
        "1. 데이터 분석 사용 설명서\n",
        "    1. 정의\n",
        "    2. 필요성\n",
        "    3. 데이터 분석 프로세스\n",
        "\n",
        "2. 기초 라이브러리 사용 설명서 \n",
        "    1. numpy\n",
        "    2. pandas\n",
        "    3. scikit-learn \n",
        "\n",
        "2. EDA (탐색적 데이터 분석) 사용 설명서\n",
        "    1. EDA란?\n",
        "    2. 통계치 분석 \n",
        "    3. 시각화 \n",
        "\n",
        "3. 전처리 사용 설명서\n",
        "    1. 소개 및 필요성\n",
        "    2. 결측치 처리\n",
        "    3. Drop\n",
        "    4. Merge\n",
        "    5. Datetime형 처리\n",
        "    6. label encoding\n",
        "    7. one-hot encoding\n",
        "    8. scaling\n",
        "\n",
        "4. 모델링 사용 설명서\n",
        "    1. linear regression \n",
        "    2. Decision Tree \n",
        "    3. Ensemble \n",
        "\n",
        "5. 모델 검증(validation) 사용 설명서\n",
        "    1. 모델 검증의 필요성\n",
        "    2. train test split\n",
        "    3. 교차 검증\n",
        "    4. metrics\n",
        "\n",
        "6. 모델 최적화 사용 설명서\n",
        "    1. 하이퍼 파라미터 튜닝\n",
        "    2. grid search\n",
        "\n",
        "7. Dacon Basic 실습\n"
      ],
      "metadata": {
        "id": "q26r6662Uxg1"
      }
    },
    {
      "cell_type": "markdown",
      "source": [
        "ㅤ"
      ],
      "metadata": {
        "id": "F91x9zfNYkU6"
      }
    }
  ]
}