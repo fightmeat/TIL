{
 "cells": [
  {
   "cell_type": "markdown",
   "id": "8363bba0",
   "metadata": {},
   "source": [
    "# 객체(Object) \n",
    "\n",
    "- 자료구조(Data Structure) : 하나 이상의 데이터를 효율적으로 관리할 목적으로 구현된 틀\n",
    "- 변수 : 하나의 데이터를 저장하는 자료구조\n",
    "- 리스트, 튜플, 사전, 집합 : 하나 이상의 데이터를 묶어서 저장하는 자료구조\n",
    "- 프로그램은 어떤 작업을 수행하기 위해 데이터와 데이터를 조작하는 행위\n",
    "- 함수(Function) : 행위나 동작을 기술하는 틀\n",
    "- 객체(object, instance)는 서로 연관되어있는 데이터와 그 데이터를 조작하는 함수를 모아놓은 자료구조"
   ]
  },
  {
   "cell_type": "markdown",
   "id": "525d3f6d",
   "metadata": {},
   "source": [
    "## 객체지향을 사용하지 않는 표현\n",
    "- 가로와 세로의 길이를 이용하여 사각형의 면적을 구하는 프로그램"
   ]
  },
  {
   "cell_type": "code",
   "execution_count": 1,
   "id": "8ad703e3",
   "metadata": {
    "ExecuteTime": {
     "end_time": "2023-08-30T07:18:30.743916Z",
     "start_time": "2023-08-30T07:18:30.734965Z"
    }
   },
   "outputs": [
    {
     "name": "stdout",
     "output_type": "stream",
     "text": [
      "200\n"
     ]
    }
   ],
   "source": [
    "h = 10\n",
    "w = 20\n",
    "\n",
    "def area(h, w):\n",
    "    return h * w\n",
    "\n",
    "result = area(h, w)\n",
    "print(result)"
   ]
  },
  {
   "cell_type": "code",
   "execution_count": 2,
   "id": "ce59a2ef",
   "metadata": {
    "ExecuteTime": {
     "end_time": "2023-08-30T07:20:18.163972Z",
     "start_time": "2023-08-30T07:20:13.437331Z"
    }
   },
   "outputs": [
    {
     "name": "stdout",
     "output_type": "stream",
     "text": [
      "가로 = 3\n",
      "세로 = 5\n",
      "15\n"
     ]
    }
   ],
   "source": [
    "h = eval(input('가로 = '))\n",
    "w = eval(input('세로 = '))\n",
    "\n",
    "a = area(h, w)\n",
    "print(a)"
   ]
  },
  {
   "cell_type": "markdown",
   "id": "cff58b75",
   "metadata": {},
   "source": [
    "## 객체지향적인 표현"
   ]
  },
  {
   "cell_type": "code",
   "execution_count": 3,
   "id": "19b55ab5",
   "metadata": {
    "ExecuteTime": {
     "end_time": "2023-08-30T07:28:27.332286Z",
     "start_time": "2023-08-30T07:28:27.314213Z"
    }
   },
   "outputs": [],
   "source": [
    "class Rect:\n",
    "    # 멤버 메서드 : 인스턴스 메서드\n",
    "    def area(self):\n",
    "        return self.h * self.w"
   ]
  },
  {
   "cell_type": "code",
   "execution_count": 5,
   "id": "9af3432d",
   "metadata": {
    "ExecuteTime": {
     "end_time": "2023-08-30T07:30:08.800595Z",
     "start_time": "2023-08-30T07:30:08.792585Z"
    }
   },
   "outputs": [
    {
     "name": "stdout",
     "output_type": "stream",
     "text": [
      "면적 :  28\n"
     ]
    }
   ],
   "source": [
    "obj = Rect()\n",
    "obj.h = 4\n",
    "obj.w = 7\n",
    "print(\"면적 : \", obj.area())"
   ]
  },
  {
   "cell_type": "code",
   "execution_count": 6,
   "id": "bc2a291e",
   "metadata": {
    "ExecuteTime": {
     "end_time": "2023-08-30T07:31:11.600823Z",
     "start_time": "2023-08-30T07:31:08.350062Z"
    }
   },
   "outputs": [
    {
     "name": "stdout",
     "output_type": "stream",
     "text": [
      "가로 = 4\n",
      "세로 = 8\n",
      "면적 :  32\n"
     ]
    }
   ],
   "source": [
    "obj = Rect()\n",
    "obj.h = int(input('가로 = '))\n",
    "obj.w = int(input('세로 = '))\n",
    "print(\"면적 : \", obj.area())"
   ]
  },
  {
   "cell_type": "code",
   "execution_count": 7,
   "id": "19c091f0",
   "metadata": {
    "ExecuteTime": {
     "end_time": "2023-08-30T07:32:52.362973Z",
     "start_time": "2023-08-30T07:32:52.359007Z"
    }
   },
   "outputs": [],
   "source": [
    "class Rect:\n",
    "    # 생성자 메서드 - 멤버 필드를 초기화시켜주는 역할\n",
    "    def __init__(self):\n",
    "        self.h = int(input('가로 = '))\n",
    "        self.w = int(input('세로 = '))\n",
    "    \n",
    "    # 멤버 메서드 : 인스턴스 메서드\n",
    "    def area(self):\n",
    "        return self.h * self.w"
   ]
  },
  {
   "cell_type": "code",
   "execution_count": 8,
   "id": "dd59e4bf",
   "metadata": {
    "ExecuteTime": {
     "end_time": "2023-08-30T07:33:30.665393Z",
     "start_time": "2023-08-30T07:33:27.673674Z"
    }
   },
   "outputs": [
    {
     "name": "stdout",
     "output_type": "stream",
     "text": [
      "가로 = 8\n",
      "세로 = 4\n",
      "면적 :  32\n"
     ]
    }
   ],
   "source": [
    "obj1 = Rect()\n",
    "print(\"면적 : \", obj.area())"
   ]
  },
  {
   "cell_type": "code",
   "execution_count": 9,
   "id": "fbc6fee7",
   "metadata": {
    "ExecuteTime": {
     "end_time": "2023-08-30T07:35:59.713566Z",
     "start_time": "2023-08-30T07:35:47.080373Z"
    }
   },
   "outputs": [
    {
     "name": "stdout",
     "output_type": "stream",
     "text": [
      "가로 = 1\n",
      "세로 = 1\n",
      "가로 = 2\n",
      "세로 = 2\n",
      "가로 = 3\n",
      "세로 = 3\n",
      "면적 :  1\n",
      "면적 :  4\n",
      "면적 :  9\n"
     ]
    }
   ],
   "source": [
    "r1 = Rect()\n",
    "r2 = Rect()\n",
    "r3 = Rect()\n",
    "\n",
    "print(\"면적 : \", r1.area())\n",
    "print(\"면적 : \", r2.area())\n",
    "print(\"면적 : \", r3.area())"
   ]
  },
  {
   "cell_type": "code",
   "execution_count": 10,
   "id": "c01b10f9",
   "metadata": {
    "ExecuteTime": {
     "end_time": "2023-08-30T07:39:50.985655Z",
     "start_time": "2023-08-30T07:39:41.439642Z"
    }
   },
   "outputs": [
    {
     "name": "stdout",
     "output_type": "stream",
     "text": [
      "가로 = 1\n",
      "세로 = 1\n",
      "가로 = 2\n",
      "세로 = 2\n",
      "가로 = 3\n",
      "세로 = 3\n",
      "면적 :  1\n",
      "면적 :  4\n",
      "면적 :  9\n"
     ]
    }
   ],
   "source": [
    "obj = []\n",
    "for i in range(3):\n",
    "    obj.append(Rect())\n",
    "    \n",
    "for i in obj:\n",
    "    print(\"면적 : \", i.area())"
   ]
  },
  {
   "cell_type": "code",
   "execution_count": 11,
   "id": "09897e78",
   "metadata": {
    "ExecuteTime": {
     "end_time": "2023-08-30T07:41:13.975531Z",
     "start_time": "2023-08-30T07:41:13.967553Z"
    }
   },
   "outputs": [
    {
     "name": "stdout",
     "output_type": "stream",
     "text": [
      "면적 :  1\n",
      "면적 :  4\n",
      "면적 :  9\n"
     ]
    }
   ],
   "source": [
    "for i in range(3): # 0, 1, 2\n",
    "    print(\"면적 : \", obj[i].area())"
   ]
  },
  {
   "cell_type": "markdown",
   "id": "9aed293c",
   "metadata": {},
   "source": [
    "# 성적처리 프로그램"
   ]
  },
  {
   "cell_type": "markdown",
   "id": "d4d6f56c",
   "metadata": {},
   "source": [
    "## 한명의 성적을 계산하여 출력하는 프로그램\n",
    "- 국어, 영어, 수학, 사회과목의 점수를 이용하여 총점과 평균을 계산하여 출력하는 프로그램"
   ]
  },
  {
   "cell_type": "code",
   "execution_count": 12,
   "id": "bf6daed8",
   "metadata": {
    "ExecuteTime": {
     "end_time": "2023-08-30T07:45:32.387669Z",
     "start_time": "2023-08-30T07:45:32.382697Z"
    }
   },
   "outputs": [
    {
     "name": "stdout",
     "output_type": "stream",
     "text": [
      "총점 : 329, 평균 : 82.25\n"
     ]
    }
   ],
   "source": [
    "name = \"홍길동\"\n",
    "kor = 88\n",
    "eng = 79\n",
    "math = 88\n",
    "soc = 74\n",
    "\n",
    "tot = kor + eng + math + soc\n",
    "avg = tot / 4\n",
    "\n",
    "print(\"총점 : {0}, 평균 : {1:.2f}\".format(tot, avg))"
   ]
  },
  {
   "cell_type": "markdown",
   "id": "abfd1558",
   "metadata": {},
   "source": [
    "## 세명의 성적을 처리하는 프로그램"
   ]
  },
  {
   "cell_type": "code",
   "execution_count": 13,
   "id": "d57ad870",
   "metadata": {
    "ExecuteTime": {
     "end_time": "2023-08-30T07:53:07.978713Z",
     "start_time": "2023-08-30T07:53:07.959187Z"
    }
   },
   "outputs": [
    {
     "name": "stdout",
     "output_type": "stream",
     "text": [
      "이름 : 홍길동, 총점 : 329, 평균 : 82.25\n",
      "이름 : 장보고, 총점 : 334, 평균 : 83.50\n",
      "이름 : 이순신, 총점 : 367, 평균 : 91.75\n"
     ]
    }
   ],
   "source": [
    "name_1 = \"홍길동\"\n",
    "kor_1 = 88\n",
    "eng_1 = 79\n",
    "math_1 = 88\n",
    "soc_1 = 74\n",
    "\n",
    "name_2 = \"장보고\"\n",
    "kor_2 = 79\n",
    "eng_2 = 80\n",
    "math_2 = 92\n",
    "soc_2 = 83\n",
    "\n",
    "name_3 = \"이순신\"\n",
    "kor_3 = 90\n",
    "eng_3 = 82\n",
    "math_3 = 95\n",
    "soc_3 = 100\n",
    "\n",
    "def get_tot(kor, eng, math, soc):\n",
    "    return kor + eng + math + soc\n",
    "\n",
    "def get_avg(tot):\n",
    "    return tot / 4\n",
    "\n",
    "tot1 = get_tot(kor_1, eng_1, math_1, soc_1)\n",
    "tot2 = get_tot(kor_2, eng_2, math_2, soc_2)\n",
    "tot3 = get_tot(kor_3, eng_3, math_3, soc_3)\n",
    "\n",
    "avg1 = get_avg(tot1)\n",
    "avg2 = get_avg(tot2)\n",
    "avg3 = get_avg(tot3)\n",
    "\n",
    "print(\"이름 : {0}, 총점 : {1}, 평균 : {2:.2f}\".format(name_1, tot1, avg1))\n",
    "print(\"이름 : {0}, 총점 : {1}, 평균 : {2:.2f}\".format(name_2, tot2, avg2))\n",
    "print(\"이름 : {0}, 총점 : {1}, 평균 : {2:.2f}\".format(name_3, tot3, avg3))"
   ]
  },
  {
   "cell_type": "code",
   "execution_count": 14,
   "id": "d1492f5d",
   "metadata": {
    "ExecuteTime": {
     "end_time": "2023-08-30T07:58:00.972228Z",
     "start_time": "2023-08-30T07:58:00.965261Z"
    }
   },
   "outputs": [
    {
     "name": "stdout",
     "output_type": "stream",
     "text": [
      "이름 : 홍길동, 총점 : 342, 평균 : 85.50\n",
      "이름 : 장보고, 총점 : 347, 평균 : 86.75\n",
      "이름 : 이순신, 총점 : 361, 평균 : 90.25\n"
     ]
    }
   ],
   "source": [
    "stu1 = [\"홍길동\", 88, 78, 92, 84]\n",
    "stu2 = [\"장보고\", 90, 76, 82, 99]\n",
    "stu3 = [\"이순신\", 90, 89, 94, 88]\n",
    "\n",
    "tot1 = get_tot(stu1[1], stu1[2], stu1[3], stu1[4])\n",
    "tot2 = get_tot(stu2[1], stu2[2], stu2[3], stu2[4])\n",
    "tot3 = get_tot(stu3[1], stu3[2], stu3[3], stu3[4])\n",
    "\n",
    "avg1 = get_avg(tot1)\n",
    "avg2 = get_avg(tot2)\n",
    "avg3 = get_avg(tot3)\n",
    "\n",
    "print(\"이름 : {0}, 총점 : {1}, 평균 : {2:.2f}\".format(stu1[0], tot1, avg1))\n",
    "print(\"이름 : {0}, 총점 : {1}, 평균 : {2:.2f}\".format(stu2[0], tot2, avg2))\n",
    "print(\"이름 : {0}, 총점 : {1}, 평균 : {2:.2f}\".format(stu3[0], tot3, avg3))"
   ]
  },
  {
   "cell_type": "code",
   "execution_count": null,
   "id": "be23a82b",
   "metadata": {},
   "outputs": [],
   "source": [
    "students = [\n",
    "    [\"홍길동\", 88, 78, 92, 84], \n",
    "    [\"장보고\", 90, 76, 82, 99], \n",
    "    [\"이순신\", 90, 89, 94, 88]\n",
    "]\n",
    "\n",
    "def get_tot(student):\n",
    "    tot = 0\n",
    "    for i in range(1, 5):\n",
    "        tot += i\n",
    "    return tot\n",
    "\n",
    "def get_avg(tot):\n",
    "    return tot / 4"
   ]
  },
  {
   "cell_type": "code",
   "execution_count": 15,
   "id": "42c0dea1",
   "metadata": {
    "ExecuteTime": {
     "end_time": "2023-08-30T08:01:42.948143Z",
     "start_time": "2023-08-30T08:01:42.935179Z"
    }
   },
   "outputs": [
    {
     "data": {
      "text/plain": [
       "[['홍길동', 88, 78, 92, 84], ['장보고', 90, 76, 82, 99], ['이순신', 90, 89, 94, 88]]"
      ]
     },
     "execution_count": 15,
     "metadata": {},
     "output_type": "execute_result"
    }
   ],
   "source": [
    "students = [\n",
    "    [\"홍길동\", 88, 78, 92, 84], \n",
    "    [\"장보고\", 90, 76, 82, 99], \n",
    "    [\"이순신\", 90, 89, 94, 88]\n",
    "]\n",
    "\n",
    "students"
   ]
  },
  {
   "cell_type": "code",
   "execution_count": 17,
   "id": "f99e4e14",
   "metadata": {
    "ExecuteTime": {
     "end_time": "2023-08-30T08:03:22.339494Z",
     "start_time": "2023-08-30T08:03:22.323524Z"
    }
   },
   "outputs": [
    {
     "name": "stdout",
     "output_type": "stream",
     "text": [
      "['홍길동', 88, 78, 92, 84]\n",
      "['장보고', 90, 76, 82, 99]\n",
      "['이순신', 90, 89, 94, 88]\n"
     ]
    }
   ],
   "source": [
    "for i in students:\n",
    "    print(i)"
   ]
  },
  {
   "cell_type": "code",
   "execution_count": 18,
   "id": "60e1fee3",
   "metadata": {
    "ExecuteTime": {
     "end_time": "2023-08-30T08:04:23.473964Z",
     "start_time": "2023-08-30T08:04:23.459930Z"
    }
   },
   "outputs": [
    {
     "name": "stdout",
     "output_type": "stream",
     "text": [
      "342\n",
      "347\n",
      "361\n"
     ]
    }
   ],
   "source": [
    "for i in students:\n",
    "    tot = 0\n",
    "    for j in range(1, 5):\n",
    "        tot += i[j]\n",
    "    print(tot)"
   ]
  },
  {
   "cell_type": "code",
   "execution_count": 19,
   "id": "3ca6fccf",
   "metadata": {
    "ExecuteTime": {
     "end_time": "2023-08-30T08:09:00.867343Z",
     "start_time": "2023-08-30T08:09:00.857312Z"
    }
   },
   "outputs": [],
   "source": [
    "class Student:\n",
    "    def __init__(self, name, kor, eng, math, soc):\n",
    "        self.name = name\n",
    "        self.kor = kor\n",
    "        self.eng = eng\n",
    "        self.math = math\n",
    "        self.soc = soc\n",
    "        \n",
    "    def get_tot(self):\n",
    "        return self.kor + self.eng + self.math + self.soc\n",
    "    \n",
    "    def get_avg(self):\n",
    "        return self.get_tot() / 4\n",
    "    \n",
    "    def show(self):\n",
    "        print(\"이름 : {0}, 총점 : {1}, 평균 : {2:.2f}\".format(self.name, self.get_tot(), \\\n",
    "                                                        self.get_avg()))"
   ]
  },
  {
   "cell_type": "code",
   "execution_count": 20,
   "id": "937c2c2a",
   "metadata": {
    "ExecuteTime": {
     "end_time": "2023-08-30T08:11:23.416441Z",
     "start_time": "2023-08-30T08:11:23.401583Z"
    }
   },
   "outputs": [
    {
     "name": "stdout",
     "output_type": "stream",
     "text": [
      "이름 : 홍길동, 총점 : 342, 평균 : 85.50\n",
      "이름 : 장보고, 총점 : 347, 평균 : 86.75\n",
      "이름 : 이순신, 총점 : 361, 평균 : 90.25\n"
     ]
    }
   ],
   "source": [
    "students = [\n",
    "    Student(\"홍길동\", 88, 78, 92, 84), \n",
    "    Student(\"장보고\", 90, 76, 82, 99), \n",
    "    Student(\"이순신\", 90, 89, 94, 88)\n",
    "]\n",
    "\n",
    "for stu in students:\n",
    "    stu.show()"
   ]
  },
  {
   "cell_type": "markdown",
   "id": "3c9d9d5b",
   "metadata": {},
   "source": [
    "# 은행 계좌관리 프로그램\n",
    "- 둘 이상의 고객에 대한 계좌정보를 관리할 목적으로 프로그램을 구현할 것.\n",
    "- 고객정보는 고객이름, 계좌번호, 예금금액을 관리할 것.\n",
    "- 계좌번호를 이용하여 고객을 식별할 것.\n",
    "- 계좌개설, 입금처리, 출금처리, 계좌정보출력, 전체계좌정보 출력의 기능을 제공할것\n",
    "- 사용자가 원하는 작업을 수행할 수 있도록 구현할 것\n",
    "- 객체 지향적인 프로그래밍 기법을 활용할 것.\n",
    "- 기타 조건은 일반적인 흐름에 맞게 구현할 것."
   ]
  },
  {
   "cell_type": "code",
   "execution_count": 36,
   "id": "2bdb61ee",
   "metadata": {
    "ExecuteTime": {
     "end_time": "2023-08-30T08:50:13.673306Z",
     "start_time": "2023-08-30T08:50:13.658339Z"
    }
   },
   "outputs": [],
   "source": [
    "# 한 명의 고객에 대한 계좌정보를 관리할 목적의 클래스 선언부\n",
    "class Account:\n",
    "    \n",
    "    def __init__(self, name, acid, balance):\n",
    "        self.name = name\n",
    "        self.acid = acid\n",
    "        self.balance = balance\n",
    "        \n",
    "    # 입금처리\n",
    "    def inMoney(self, money):\n",
    "        self.balance += money\n",
    "        \n",
    "    # 출금처리\n",
    "    def outMoney(self, money):\n",
    "        if self.balance < money:\n",
    "               print(\"잔액이 부족합니다.\")\n",
    "        else:\n",
    "            self.balance -= money\n",
    "            print(\"출금처리가 완료되었습니다.\")\n",
    "            print(\"현재잔액 : \", self.balance)\n",
    "  \n",
    "    # 고객정보출력\n",
    "    def show(self):\n",
    "        print(f\"{self.acid} : {self.name} : {self.balance}\")\n",
    "        \n",
    "    # 계좌번호를 반환\n",
    "    def get_id(self):\n",
    "        return self.acid"
   ]
  },
  {
   "cell_type": "code",
   "execution_count": 37,
   "id": "f613af7b",
   "metadata": {
    "ExecuteTime": {
     "end_time": "2023-08-30T08:50:15.844273Z",
     "start_time": "2023-08-30T08:50:15.828770Z"
    }
   },
   "outputs": [
    {
     "name": "stdout",
     "output_type": "stream",
     "text": [
      "1234 : aaa : 1000\n"
     ]
    }
   ],
   "source": [
    "acc = Account('aaa', '1234', 1000)\n",
    "acc.show()"
   ]
  },
  {
   "cell_type": "code",
   "execution_count": 38,
   "id": "3eaa5267",
   "metadata": {
    "ExecuteTime": {
     "end_time": "2023-08-30T08:50:21.330032Z",
     "start_time": "2023-08-30T08:50:21.326029Z"
    }
   },
   "outputs": [
    {
     "name": "stdout",
     "output_type": "stream",
     "text": [
      "1234 : aaa : 1500\n"
     ]
    }
   ],
   "source": [
    "# 500저축\n",
    "acc.inMoney(500)\n",
    "acc.show()"
   ]
  },
  {
   "cell_type": "code",
   "execution_count": 39,
   "id": "dffd2fdd",
   "metadata": {
    "ExecuteTime": {
     "end_time": "2023-08-30T08:50:23.383387Z",
     "start_time": "2023-08-30T08:50:23.365418Z"
    }
   },
   "outputs": [
    {
     "name": "stdout",
     "output_type": "stream",
     "text": [
      "출금처리가 완료되었습니다.\n",
      "현재잔액 :  700\n",
      "1234 : aaa : 700\n"
     ]
    }
   ],
   "source": [
    "# 800출금\n",
    "acc.outMoney(800)\n",
    "acc.show()"
   ]
  },
  {
   "cell_type": "code",
   "execution_count": 40,
   "id": "d3ea82e1",
   "metadata": {
    "ExecuteTime": {
     "end_time": "2023-08-30T08:50:26.107155Z",
     "start_time": "2023-08-30T08:50:26.091208Z"
    }
   },
   "outputs": [
    {
     "name": "stdout",
     "output_type": "stream",
     "text": [
      "잔액이 부족합니다.\n"
     ]
    }
   ],
   "source": [
    "acc.outMoney(1000)"
   ]
  },
  {
   "cell_type": "code",
   "execution_count": 41,
   "id": "52639c6b",
   "metadata": {
    "ExecuteTime": {
     "end_time": "2023-08-30T08:50:28.579656Z",
     "start_time": "2023-08-30T08:50:28.560699Z"
    }
   },
   "outputs": [
    {
     "name": "stdout",
     "output_type": "stream",
     "text": [
      "3456 : bbb : 1000\n"
     ]
    }
   ],
   "source": [
    "acc2 = Account('bbb', '3456', 1000)\n",
    "acc2.show()"
   ]
  },
  {
   "cell_type": "code",
   "execution_count": 42,
   "id": "bdc30fef",
   "metadata": {
    "ExecuteTime": {
     "end_time": "2023-08-30T08:50:43.979923Z",
     "start_time": "2023-08-30T08:50:31.927617Z"
    }
   },
   "outputs": [
    {
     "name": "stdout",
     "output_type": "stream",
     "text": [
      "입금처리\n",
      "계좌번호 = 1234\n",
      "입금금액 = 1000\n"
     ]
    }
   ],
   "source": [
    "print(\"입금처리\")\n",
    "acid = input(\"계좌번호 = \")\n",
    "\n",
    "# 입력받은 계좌번호가 존재해야 입금과 출금처리 가능\n",
    "## acc, acc2\n",
    "if acid == acc.get_id():\n",
    "    money = int(input('입금금액 = '))\n",
    "    acc.inMoney(money)\n",
    "elif acid == acc2.get_id():\n",
    "    money = int(input('입금금액 = '))\n",
    "    acc2.inMoney(money)\n",
    "else:\n",
    "    print(\"해당 계좌번호가 존재하지 않습니다.\")"
   ]
  },
  {
   "cell_type": "code",
   "execution_count": 43,
   "id": "b15184fd",
   "metadata": {
    "ExecuteTime": {
     "end_time": "2023-08-30T08:50:53.859246Z",
     "start_time": "2023-08-30T08:50:53.846304Z"
    }
   },
   "outputs": [
    {
     "name": "stdout",
     "output_type": "stream",
     "text": [
      "1234 : aaa : 1700\n"
     ]
    }
   ],
   "source": [
    "acc.show()"
   ]
  },
  {
   "cell_type": "code",
   "execution_count": 35,
   "id": "a513df5d",
   "metadata": {
    "ExecuteTime": {
     "end_time": "2023-08-30T08:49:33.465871Z",
     "start_time": "2023-08-30T08:49:33.455835Z"
    }
   },
   "outputs": [
    {
     "name": "stdout",
     "output_type": "stream",
     "text": [
      "True\n"
     ]
    }
   ],
   "source": [
    "a = \"korea\"\n",
    "b = \"korea\"\n",
    "\n",
    "if a == b:\n",
    "    print(True)\n",
    "else:\n",
    "    print(False)"
   ]
  },
  {
   "cell_type": "code",
   "execution_count": null,
   "id": "b329085d",
   "metadata": {},
   "outputs": [],
   "source": []
  }
 ],
 "metadata": {
  "kernelspec": {
   "display_name": "Python 3 (ipykernel)",
   "language": "python",
   "name": "python3"
  },
  "language_info": {
   "codemirror_mode": {
    "name": "ipython",
    "version": 3
   },
   "file_extension": ".py",
   "mimetype": "text/x-python",
   "name": "python",
   "nbconvert_exporter": "python",
   "pygments_lexer": "ipython3",
   "version": "3.9.7"
  },
  "toc": {
   "base_numbering": 1,
   "nav_menu": {},
   "number_sections": true,
   "sideBar": true,
   "skip_h1_title": false,
   "title_cell": "Table of Contents",
   "title_sidebar": "Contents",
   "toc_cell": false,
   "toc_position": {
    "height": "calc(100% - 180px)",
    "left": "10px",
    "top": "150px",
    "width": "256px"
   },
   "toc_section_display": true,
   "toc_window_display": true
  },
  "varInspector": {
   "cols": {
    "lenName": 16,
    "lenType": 16,
    "lenVar": 40
   },
   "kernels_config": {
    "python": {
     "delete_cmd_postfix": "",
     "delete_cmd_prefix": "del ",
     "library": "var_list.py",
     "varRefreshCmd": "print(var_dic_list())"
    },
    "r": {
     "delete_cmd_postfix": ") ",
     "delete_cmd_prefix": "rm(",
     "library": "var_list.r",
     "varRefreshCmd": "cat(var_dic_list()) "
    }
   },
   "types_to_exclude": [
    "module",
    "function",
    "builtin_function_or_method",
    "instance",
    "_Feature"
   ],
   "window_display": false
  }
 },
 "nbformat": 4,
 "nbformat_minor": 5
}
