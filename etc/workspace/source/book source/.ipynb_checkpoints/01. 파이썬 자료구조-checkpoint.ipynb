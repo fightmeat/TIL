{
 "cells": [
  {
   "cell_type": "markdown",
   "id": "2c5cc1e0",
   "metadata": {},
   "source": [
    "- 여러 개의 자료가 순서가 있을 때 리스트(list) 자료형 사용\n",
    "- 여러 개의 자료가 이름이 있을 때 딕셔너리(dictionary) 자료형 사용"
   ]
  },
  {
   "cell_type": "markdown",
   "id": "63f9690e",
   "metadata": {},
   "source": [
    "# 자료의 순서만 가지는 리스트 자료형"
   ]
  },
  {
   "cell_type": "code",
   "execution_count": 1,
   "id": "110a1af0",
   "metadata": {
    "ExecuteTime": {
     "end_time": "2023-08-30T02:52:23.553686Z",
     "start_time": "2023-08-30T02:52:23.548658Z"
    }
   },
   "outputs": [
    {
     "name": "stdout",
     "output_type": "stream",
     "text": [
      "[88, 90, 100]\n"
     ]
    }
   ],
   "source": [
    "x = [88, 90, 100]\n",
    "print(x)"
   ]
  },
  {
   "cell_type": "markdown",
   "id": "d21c9fea",
   "metadata": {},
   "source": [
    "- range() : R의 seq() 함수와 동일하다.\n",
    "- range(n) : 0부터 1씩 증가한 n개의 데이터, range(5) = 0, 1, 2, 3, 4\n",
    "- range(n, m) : n부터 1씩 증가하여 m-1까지의 데이터\n",
    "- range(n, m, k) : n부터 k만큼 증가 또는 감소하여 m-1"
   ]
  },
  {
   "cell_type": "code",
   "execution_count": 2,
   "id": "83da7ff1",
   "metadata": {
    "ExecuteTime": {
     "end_time": "2023-08-30T02:56:07.194699Z",
     "start_time": "2023-08-30T02:56:07.184732Z"
    }
   },
   "outputs": [
    {
     "name": "stdout",
     "output_type": "stream",
     "text": [
      "range(0, 5)\n"
     ]
    }
   ],
   "source": [
    "print(range(5))"
   ]
  },
  {
   "cell_type": "code",
   "execution_count": 3,
   "id": "55f00a69",
   "metadata": {
    "ExecuteTime": {
     "end_time": "2023-08-30T02:56:34.211517Z",
     "start_time": "2023-08-30T02:56:34.195563Z"
    }
   },
   "outputs": [
    {
     "data": {
      "text/plain": [
       "range(0, 5)"
      ]
     },
     "execution_count": 3,
     "metadata": {},
     "output_type": "execute_result"
    }
   ],
   "source": [
    "range(5)"
   ]
  },
  {
   "cell_type": "code",
   "execution_count": 4,
   "id": "7f8965a5",
   "metadata": {
    "ExecuteTime": {
     "end_time": "2023-08-30T02:56:58.710793Z",
     "start_time": "2023-08-30T02:56:58.695278Z"
    }
   },
   "outputs": [
    {
     "data": {
      "text/plain": [
       "[0, 1, 2, 3, 4]"
      ]
     },
     "execution_count": 4,
     "metadata": {},
     "output_type": "execute_result"
    }
   ],
   "source": [
    "list(range(5))"
   ]
  },
  {
   "cell_type": "code",
   "execution_count": 5,
   "id": "04224b53",
   "metadata": {
    "ExecuteTime": {
     "end_time": "2023-08-30T02:57:10.944526Z",
     "start_time": "2023-08-30T02:57:10.936526Z"
    }
   },
   "outputs": [
    {
     "data": {
      "text/plain": [
       "(0, 1, 2, 3, 4)"
      ]
     },
     "execution_count": 5,
     "metadata": {},
     "output_type": "execute_result"
    }
   ],
   "source": [
    "tuple(range(5))"
   ]
  },
  {
   "cell_type": "markdown",
   "id": "79b47609",
   "metadata": {},
   "source": [
    "## 인덱싱"
   ]
  },
  {
   "cell_type": "code",
   "execution_count": 6,
   "id": "58988247",
   "metadata": {
    "ExecuteTime": {
     "end_time": "2023-08-30T03:10:49.555952Z",
     "start_time": "2023-08-30T03:10:49.538890Z"
    }
   },
   "outputs": [
    {
     "name": "stdout",
     "output_type": "stream",
     "text": [
      "88\n"
     ]
    }
   ],
   "source": [
    "print(x[0])"
   ]
  },
  {
   "cell_type": "code",
   "execution_count": 7,
   "id": "e887155b",
   "metadata": {
    "ExecuteTime": {
     "end_time": "2023-08-30T03:10:55.290721Z",
     "start_time": "2023-08-30T03:10:55.277659Z"
    }
   },
   "outputs": [
    {
     "data": {
      "text/plain": [
       "90"
      ]
     },
     "execution_count": 7,
     "metadata": {},
     "output_type": "execute_result"
    }
   ],
   "source": [
    "x[1]"
   ]
  },
  {
   "cell_type": "code",
   "execution_count": 8,
   "id": "1c31745e",
   "metadata": {
    "ExecuteTime": {
     "end_time": "2023-08-30T03:11:16.447118Z",
     "start_time": "2023-08-30T03:11:16.442187Z"
    }
   },
   "outputs": [
    {
     "data": {
      "text/plain": [
       "89.0"
      ]
     },
     "execution_count": 8,
     "metadata": {},
     "output_type": "execute_result"
    }
   ],
   "source": [
    "(x[0] + x[1]) / 2"
   ]
  },
  {
   "cell_type": "markdown",
   "id": "4a899284",
   "metadata": {},
   "source": [
    "## 자료의 이름(key)만 가지는 딕셔너리 자료형\n",
    "- key와 value가 쌍으로 저장된다.\n",
    "- key를 통해 value를 얻어온다.\n",
    "- key는 중복값을 허용하지 않는다."
   ]
  },
  {
   "cell_type": "code",
   "execution_count": 9,
   "id": "9937c2b0",
   "metadata": {
    "ExecuteTime": {
     "end_time": "2023-08-30T03:13:31.261792Z",
     "start_time": "2023-08-30T03:13:31.248810Z"
    }
   },
   "outputs": [
    {
     "data": {
      "text/plain": [
       "{'kor': 88, 'eng': 90, 'math': 100}"
      ]
     },
     "execution_count": 9,
     "metadata": {},
     "output_type": "execute_result"
    }
   ],
   "source": [
    "y = {'kor':88, 'eng':90, 'math':100}\n",
    "y"
   ]
  },
  {
   "cell_type": "code",
   "execution_count": 10,
   "id": "b993f9ca",
   "metadata": {
    "ExecuteTime": {
     "end_time": "2023-08-30T03:14:11.015968Z",
     "start_time": "2023-08-30T03:14:11.009968Z"
    }
   },
   "outputs": [
    {
     "data": {
      "text/plain": [
       "88"
      ]
     },
     "execution_count": 10,
     "metadata": {},
     "output_type": "execute_result"
    }
   ],
   "source": [
    "y[\"kor\"]"
   ]
  },
  {
   "cell_type": "code",
   "execution_count": 11,
   "id": "7b0b5b99",
   "metadata": {
    "ExecuteTime": {
     "end_time": "2023-08-30T03:14:34.213203Z",
     "start_time": "2023-08-30T03:14:34.209270Z"
    }
   },
   "outputs": [
    {
     "data": {
      "text/plain": [
       "88"
      ]
     },
     "execution_count": 11,
     "metadata": {},
     "output_type": "execute_result"
    }
   ],
   "source": [
    "y.get(\"kor\")"
   ]
  },
  {
   "cell_type": "code",
   "execution_count": 12,
   "id": "5f5307cc",
   "metadata": {
    "ExecuteTime": {
     "end_time": "2023-08-30T03:15:05.859339Z",
     "start_time": "2023-08-30T03:15:05.841345Z"
    }
   },
   "outputs": [
    {
     "data": {
      "text/plain": [
       "{1: 10, 2: 20}"
      ]
     },
     "execution_count": 12,
     "metadata": {},
     "output_type": "execute_result"
    }
   ],
   "source": [
    "z = {1:10, 2:20}\n",
    "z"
   ]
  },
  {
   "cell_type": "code",
   "execution_count": 13,
   "id": "d8347847",
   "metadata": {
    "ExecuteTime": {
     "end_time": "2023-08-30T03:15:13.242518Z",
     "start_time": "2023-08-30T03:15:13.223531Z"
    }
   },
   "outputs": [
    {
     "data": {
      "text/plain": [
       "10"
      ]
     },
     "execution_count": 13,
     "metadata": {},
     "output_type": "execute_result"
    }
   ],
   "source": [
    "z[1]"
   ]
  },
  {
   "cell_type": "code",
   "execution_count": 14,
   "id": "e35ff053",
   "metadata": {
    "ExecuteTime": {
     "end_time": "2023-08-30T03:16:12.399633Z",
     "start_time": "2023-08-30T03:16:12.386630Z"
    }
   },
   "outputs": [
    {
     "data": {
      "text/plain": [
       "[[1, 10], [2, 20]]"
      ]
     },
     "execution_count": 14,
     "metadata": {},
     "output_type": "execute_result"
    }
   ],
   "source": [
    "a = [[1, 10],[2, 20]]\n",
    "a"
   ]
  },
  {
   "cell_type": "code",
   "execution_count": 15,
   "id": "b20c5f54",
   "metadata": {
    "ExecuteTime": {
     "end_time": "2023-08-30T03:16:35.871299Z",
     "start_time": "2023-08-30T03:16:35.853902Z"
    }
   },
   "outputs": [
    {
     "data": {
      "text/plain": [
       "[1, 10]"
      ]
     },
     "execution_count": 15,
     "metadata": {},
     "output_type": "execute_result"
    }
   ],
   "source": [
    "a[0]"
   ]
  },
  {
   "cell_type": "code",
   "execution_count": 16,
   "id": "cc06b176",
   "metadata": {
    "ExecuteTime": {
     "end_time": "2023-08-30T03:16:56.250616Z",
     "start_time": "2023-08-30T03:16:56.242637Z"
    }
   },
   "outputs": [
    {
     "data": {
      "text/plain": [
       "10"
      ]
     },
     "execution_count": 16,
     "metadata": {},
     "output_type": "execute_result"
    }
   ],
   "source": [
    "a[0][1]"
   ]
  },
  {
   "cell_type": "code",
   "execution_count": 17,
   "id": "0e0f8b05",
   "metadata": {
    "ExecuteTime": {
     "end_time": "2023-08-30T03:17:49.470593Z",
     "start_time": "2023-08-30T03:17:49.455104Z"
    }
   },
   "outputs": [
    {
     "data": {
      "text/plain": [
       "[{0: 0, 1: 1}, {0: 1, 1: 2}]"
      ]
     },
     "execution_count": 17,
     "metadata": {},
     "output_type": "execute_result"
    }
   ],
   "source": [
    "b = [{0:0, 1:1}, {0:1, 1:2}]\n",
    "b"
   ]
  },
  {
   "cell_type": "code",
   "execution_count": 18,
   "id": "735029b7",
   "metadata": {
    "ExecuteTime": {
     "end_time": "2023-08-30T03:17:59.523806Z",
     "start_time": "2023-08-30T03:17:59.508732Z"
    }
   },
   "outputs": [
    {
     "data": {
      "text/plain": [
       "{0: 0, 1: 1}"
      ]
     },
     "execution_count": 18,
     "metadata": {},
     "output_type": "execute_result"
    }
   ],
   "source": [
    "b[0]"
   ]
  },
  {
   "cell_type": "code",
   "execution_count": 19,
   "id": "374e59ff",
   "metadata": {
    "ExecuteTime": {
     "end_time": "2023-08-30T03:18:25.197099Z",
     "start_time": "2023-08-30T03:18:25.190024Z"
    }
   },
   "outputs": [
    {
     "data": {
      "text/plain": [
       "1"
      ]
     },
     "execution_count": 19,
     "metadata": {},
     "output_type": "execute_result"
    }
   ],
   "source": [
    "b[0][1]"
   ]
  },
  {
   "cell_type": "code",
   "execution_count": 20,
   "id": "8e34674b",
   "metadata": {
    "ExecuteTime": {
     "end_time": "2023-08-30T03:19:17.655398Z",
     "start_time": "2023-08-30T03:19:17.638433Z"
    }
   },
   "outputs": [
    {
     "data": {
      "text/plain": [
       "{'a': [1, 2, 3], 'b': {0: 1, 1: 2}}"
      ]
     },
     "execution_count": 20,
     "metadata": {},
     "output_type": "execute_result"
    }
   ],
   "source": [
    "c = {'a':[1, 2, 3], 'b':{0:1, 1:2}}\n",
    "c"
   ]
  },
  {
   "cell_type": "code",
   "execution_count": 21,
   "id": "d5cf5725",
   "metadata": {
    "ExecuteTime": {
     "end_time": "2023-08-30T03:19:36.021149Z",
     "start_time": "2023-08-30T03:19:36.005556Z"
    }
   },
   "outputs": [
    {
     "data": {
      "text/plain": [
       "[1, 2, 3]"
      ]
     },
     "execution_count": 21,
     "metadata": {},
     "output_type": "execute_result"
    }
   ],
   "source": [
    "c[\"a\"]"
   ]
  },
  {
   "cell_type": "code",
   "execution_count": 22,
   "id": "c39f7d25",
   "metadata": {
    "ExecuteTime": {
     "end_time": "2023-08-30T03:19:49.867740Z",
     "start_time": "2023-08-30T03:19:49.855755Z"
    }
   },
   "outputs": [
    {
     "data": {
      "text/plain": [
       "2"
      ]
     },
     "execution_count": 22,
     "metadata": {},
     "output_type": "execute_result"
    }
   ],
   "source": [
    "c[\"a\"][1]"
   ]
  },
  {
   "cell_type": "code",
   "execution_count": 23,
   "id": "2a8cce29",
   "metadata": {
    "ExecuteTime": {
     "end_time": "2023-08-30T03:20:00.679436Z",
     "start_time": "2023-08-30T03:20:00.672394Z"
    }
   },
   "outputs": [
    {
     "data": {
      "text/plain": [
       "{0: 1, 1: 2}"
      ]
     },
     "execution_count": 23,
     "metadata": {},
     "output_type": "execute_result"
    }
   ],
   "source": [
    "c[\"b\"]"
   ]
  },
  {
   "cell_type": "code",
   "execution_count": 24,
   "id": "ac9dbaa3",
   "metadata": {
    "ExecuteTime": {
     "end_time": "2023-08-30T03:20:17.597411Z",
     "start_time": "2023-08-30T03:20:17.587359Z"
    }
   },
   "outputs": [
    {
     "data": {
      "text/plain": [
       "2"
      ]
     },
     "execution_count": 24,
     "metadata": {},
     "output_type": "execute_result"
    }
   ],
   "source": [
    "c[\"b\"][1]"
   ]
  },
  {
   "cell_type": "markdown",
   "id": "67529e7d",
   "metadata": {},
   "source": [
    "# 리스트 자료형을 다루는 주요 함수"
   ]
  },
  {
   "cell_type": "markdown",
   "id": "1473cd8e",
   "metadata": {},
   "source": [
    "## 자료의 개수 : len"
   ]
  },
  {
   "cell_type": "code",
   "execution_count": 25,
   "id": "785eb38d",
   "metadata": {
    "ExecuteTime": {
     "end_time": "2023-08-30T03:21:30.977804Z",
     "start_time": "2023-08-30T03:21:30.968832Z"
    }
   },
   "outputs": [
    {
     "data": {
      "text/plain": [
       "5"
      ]
     },
     "execution_count": 25,
     "metadata": {},
     "output_type": "execute_result"
    }
   ],
   "source": [
    "a = [1, 2, 3, 4, 5]\n",
    "len(a)"
   ]
  },
  {
   "cell_type": "markdown",
   "id": "c72268f9",
   "metadata": {},
   "source": [
    "## 수열 생성 : 순차적인 자료, range()"
   ]
  },
  {
   "cell_type": "code",
   "execution_count": 26,
   "id": "8d17cf52",
   "metadata": {
    "ExecuteTime": {
     "end_time": "2023-08-30T03:22:36.858730Z",
     "start_time": "2023-08-30T03:22:36.839729Z"
    }
   },
   "outputs": [
    {
     "data": {
      "text/plain": [
       "range(0, 10)"
      ]
     },
     "execution_count": 26,
     "metadata": {},
     "output_type": "execute_result"
    }
   ],
   "source": [
    "b = range(10)\n",
    "b"
   ]
  },
  {
   "cell_type": "code",
   "execution_count": 27,
   "id": "e541fa32",
   "metadata": {
    "ExecuteTime": {
     "end_time": "2023-08-30T03:22:47.470160Z",
     "start_time": "2023-08-30T03:22:47.460130Z"
    }
   },
   "outputs": [
    {
     "data": {
      "text/plain": [
       "[0, 1, 2, 3, 4, 5, 6, 7, 8, 9]"
      ]
     },
     "execution_count": 27,
     "metadata": {},
     "output_type": "execute_result"
    }
   ],
   "source": [
    "list(b)"
   ]
  },
  {
   "cell_type": "code",
   "execution_count": 28,
   "id": "431e8b2d",
   "metadata": {
    "ExecuteTime": {
     "end_time": "2023-08-30T03:23:19.978049Z",
     "start_time": "2023-08-30T03:23:19.965049Z"
    }
   },
   "outputs": [
    {
     "data": {
      "text/plain": [
       "[1, 2, 3, 4, 5, 6, 7, 8, 9]"
      ]
     },
     "execution_count": 28,
     "metadata": {},
     "output_type": "execute_result"
    }
   ],
   "source": [
    "c = range(1, 10)\n",
    "list(c)"
   ]
  },
  {
   "cell_type": "code",
   "execution_count": 32,
   "id": "035bf1a8",
   "metadata": {
    "ExecuteTime": {
     "end_time": "2023-08-30T03:26:06.199263Z",
     "start_time": "2023-08-30T03:26:06.189263Z"
    }
   },
   "outputs": [
    {
     "data": {
      "text/plain": [
       "[1, 4, 7]"
      ]
     },
     "execution_count": 32,
     "metadata": {},
     "output_type": "execute_result"
    }
   ],
   "source": [
    "d = list(range(1, 10, 3))\n",
    "d"
   ]
  },
  {
   "cell_type": "markdown",
   "id": "ec96e71a",
   "metadata": {},
   "source": [
    "## 값을 변경 : update\n",
    "- 변수는 하나의 데이터를 담는 기억장소이다.\n",
    "- 변수에 새로운 데이터가 들어오면 전에 기억된 값이 지워진다."
   ]
  },
  {
   "cell_type": "code",
   "execution_count": 33,
   "id": "5c2847b2",
   "metadata": {
    "ExecuteTime": {
     "end_time": "2023-08-30T03:26:09.377591Z",
     "start_time": "2023-08-30T03:26:09.372591Z"
    }
   },
   "outputs": [
    {
     "data": {
      "text/plain": [
       "1"
      ]
     },
     "execution_count": 33,
     "metadata": {},
     "output_type": "execute_result"
    }
   ],
   "source": [
    "d[0]"
   ]
  },
  {
   "cell_type": "code",
   "execution_count": 34,
   "id": "c9d3afba",
   "metadata": {
    "ExecuteTime": {
     "end_time": "2023-08-30T03:26:14.597626Z",
     "start_time": "2023-08-30T03:26:14.581970Z"
    }
   },
   "outputs": [
    {
     "data": {
      "text/plain": [
       "[100, 4, 7]"
      ]
     },
     "execution_count": 34,
     "metadata": {},
     "output_type": "execute_result"
    }
   ],
   "source": [
    "d[0] = 100\n",
    "d"
   ]
  },
  {
   "cell_type": "markdown",
   "id": "d844b4f2",
   "metadata": {},
   "source": [
    "## 값을 추가 : append, insert\n",
    "- append(값) : 리스트의 자료의 마지막 위치에 값이 추가되는 메서드\n",
    "- insert(인덱스, 값) : 주어진 인덱스위치에 값을 추가하는 메소드"
   ]
  },
  {
   "cell_type": "code",
   "execution_count": 35,
   "id": "be5f2845",
   "metadata": {
    "ExecuteTime": {
     "end_time": "2023-08-30T03:27:21.376410Z",
     "start_time": "2023-08-30T03:27:21.361410Z"
    }
   },
   "outputs": [
    {
     "data": {
      "text/plain": [
       "[0, 1, 2, 3]"
      ]
     },
     "execution_count": 35,
     "metadata": {},
     "output_type": "execute_result"
    }
   ],
   "source": [
    "xx = list(range(4))\n",
    "xx"
   ]
  },
  {
   "cell_type": "code",
   "execution_count": 36,
   "id": "da58adac",
   "metadata": {
    "ExecuteTime": {
     "end_time": "2023-08-30T03:27:42.779608Z",
     "start_time": "2023-08-30T03:27:42.769636Z"
    }
   },
   "outputs": [
    {
     "data": {
      "text/plain": [
       "[0, 1, 2, 3, 4]"
      ]
     },
     "execution_count": 36,
     "metadata": {},
     "output_type": "execute_result"
    }
   ],
   "source": [
    "xx.append(4)\n",
    "xx"
   ]
  },
  {
   "cell_type": "code",
   "execution_count": 37,
   "id": "958a0a3a",
   "metadata": {
    "ExecuteTime": {
     "end_time": "2023-08-30T03:27:54.101674Z",
     "start_time": "2023-08-30T03:27:54.098037Z"
    }
   },
   "outputs": [
    {
     "data": {
      "text/plain": [
       "[0, 1, 2, 3, 4, 10]"
      ]
     },
     "execution_count": 37,
     "metadata": {},
     "output_type": "execute_result"
    }
   ],
   "source": [
    "xx.append(10)\n",
    "xx"
   ]
  },
  {
   "cell_type": "code",
   "execution_count": 38,
   "id": "81a1816e",
   "metadata": {
    "ExecuteTime": {
     "end_time": "2023-08-30T03:28:48.669540Z",
     "start_time": "2023-08-30T03:28:48.648574Z"
    }
   },
   "outputs": [
    {
     "ename": "IndexError",
     "evalue": "list assignment index out of range",
     "output_type": "error",
     "traceback": [
      "\u001b[1;31m---------------------------------------------------------------------------\u001b[0m",
      "\u001b[1;31mIndexError\u001b[0m                                Traceback (most recent call last)",
      "\u001b[1;32m~\\AppData\\Local\\Temp/ipykernel_5924/651063453.py\u001b[0m in \u001b[0;36m<module>\u001b[1;34m\u001b[0m\n\u001b[1;32m----> 1\u001b[1;33m \u001b[0mxx\u001b[0m\u001b[1;33m[\u001b[0m\u001b[1;36m6\u001b[0m\u001b[1;33m]\u001b[0m \u001b[1;33m=\u001b[0m \u001b[1;36m20\u001b[0m\u001b[1;33m\u001b[0m\u001b[1;33m\u001b[0m\u001b[0m\n\u001b[0m",
      "\u001b[1;31mIndexError\u001b[0m: list assignment index out of range"
     ]
    }
   ],
   "source": [
    "xx[6] = 20"
   ]
  },
  {
   "cell_type": "code",
   "execution_count": 39,
   "id": "2a1b54fc",
   "metadata": {
    "ExecuteTime": {
     "end_time": "2023-08-30T03:29:25.191207Z",
     "start_time": "2023-08-30T03:29:25.175238Z"
    }
   },
   "outputs": [
    {
     "ename": "TypeError",
     "evalue": "list.append() takes exactly one argument (3 given)",
     "output_type": "error",
     "traceback": [
      "\u001b[1;31m---------------------------------------------------------------------------\u001b[0m",
      "\u001b[1;31mTypeError\u001b[0m                                 Traceback (most recent call last)",
      "\u001b[1;32m~\\AppData\\Local\\Temp/ipykernel_5924/2816489081.py\u001b[0m in \u001b[0;36m<module>\u001b[1;34m\u001b[0m\n\u001b[1;32m----> 1\u001b[1;33m \u001b[0mxx\u001b[0m\u001b[1;33m.\u001b[0m\u001b[0mappend\u001b[0m\u001b[1;33m(\u001b[0m\u001b[1;36m20\u001b[0m\u001b[1;33m,\u001b[0m \u001b[1;36m30\u001b[0m\u001b[1;33m,\u001b[0m \u001b[1;36m40\u001b[0m\u001b[1;33m)\u001b[0m\u001b[1;33m\u001b[0m\u001b[1;33m\u001b[0m\u001b[0m\n\u001b[0m\u001b[0;32m      2\u001b[0m \u001b[0mxx\u001b[0m\u001b[1;33m\u001b[0m\u001b[1;33m\u001b[0m\u001b[0m\n",
      "\u001b[1;31mTypeError\u001b[0m: list.append() takes exactly one argument (3 given)"
     ]
    }
   ],
   "source": [
    "xx.append(20, 30, 40)\n",
    "xx"
   ]
  },
  {
   "cell_type": "code",
   "execution_count": 40,
   "id": "10b75075",
   "metadata": {
    "ExecuteTime": {
     "end_time": "2023-08-30T03:29:52.067416Z",
     "start_time": "2023-08-30T03:29:52.058416Z"
    }
   },
   "outputs": [
    {
     "data": {
      "text/plain": [
       "[0, 1, 2, 3, 4, 10, [20, 30, 40]]"
      ]
     },
     "execution_count": 40,
     "metadata": {},
     "output_type": "execute_result"
    }
   ],
   "source": [
    "xx.append([20, 30, 40])\n",
    "xx"
   ]
  },
  {
   "cell_type": "code",
   "execution_count": 41,
   "id": "4c041207",
   "metadata": {
    "ExecuteTime": {
     "end_time": "2023-08-30T03:30:29.009132Z",
     "start_time": "2023-08-30T03:30:28.994164Z"
    }
   },
   "outputs": [
    {
     "data": {
      "text/plain": [
       "[0, 1, 2, 3, 4, 10, [20, 30, 40], 20, 30, 40]"
      ]
     },
     "execution_count": 41,
     "metadata": {},
     "output_type": "execute_result"
    }
   ],
   "source": [
    "xx.extend([20, 30, 40])\n",
    "xx"
   ]
  },
  {
   "cell_type": "code",
   "execution_count": 136,
   "id": "ba27719c",
   "metadata": {
    "ExecuteTime": {
     "end_time": "2023-08-30T06:33:12.087736Z",
     "start_time": "2023-08-30T06:33:12.072775Z"
    }
   },
   "outputs": [
    {
     "data": {
      "text/plain": [
       "[1, 2, 3, 4, 5]"
      ]
     },
     "execution_count": 136,
     "metadata": {},
     "output_type": "execute_result"
    }
   ],
   "source": [
    "sam = [1, 2, 3]\n",
    "sam.append(4)\n",
    "sam.append(5)\n",
    "sam"
   ]
  },
  {
   "cell_type": "code",
   "execution_count": 137,
   "id": "16e8fb83",
   "metadata": {
    "ExecuteTime": {
     "end_time": "2023-08-30T06:33:44.865881Z",
     "start_time": "2023-08-30T06:33:44.850908Z"
    }
   },
   "outputs": [
    {
     "data": {
      "text/plain": [
       "[10, 1, 2, 3, 4, 5]"
      ]
     },
     "execution_count": 137,
     "metadata": {},
     "output_type": "execute_result"
    }
   ],
   "source": [
    "sam.insert(0, 10)\n",
    "sam"
   ]
  },
  {
   "cell_type": "markdown",
   "id": "6c4abf50",
   "metadata": {},
   "source": [
    "## 값을 삭제 : del, remove(), pop(), clear()\n",
    "- del 명령어 : del 객체[인덱스]\n",
    "- remove 메서드 : remove(값)\n",
    "- pop 메서드 : 리스트의 마지막 요소 추출\n",
    "- 리스트명.pop() : 마지막 요소 추출\n",
    "- 리스트명.pop(인덱스) : 해당 인덱스 요소 추출\n",
    "- 리스트명.clear() : 리스트 내부의 모든 요소를 제거"
   ]
  },
  {
   "cell_type": "code",
   "execution_count": 42,
   "id": "310d3218",
   "metadata": {
    "ExecuteTime": {
     "end_time": "2023-08-30T03:33:01.204229Z",
     "start_time": "2023-08-30T03:33:01.199262Z"
    }
   },
   "outputs": [
    {
     "data": {
      "text/plain": [
       "[0, 1, 2, 3, 4]"
      ]
     },
     "execution_count": 42,
     "metadata": {},
     "output_type": "execute_result"
    }
   ],
   "source": [
    "yy = list(range(5))\n",
    "yy"
   ]
  },
  {
   "cell_type": "code",
   "execution_count": 43,
   "id": "852ef94f",
   "metadata": {
    "ExecuteTime": {
     "end_time": "2023-08-30T03:33:08.589526Z",
     "start_time": "2023-08-30T03:33:08.582528Z"
    }
   },
   "outputs": [
    {
     "data": {
      "text/plain": [
       "0"
      ]
     },
     "execution_count": 43,
     "metadata": {},
     "output_type": "execute_result"
    }
   ],
   "source": [
    "yy[0]"
   ]
  },
  {
   "cell_type": "code",
   "execution_count": 44,
   "id": "c506c8a4",
   "metadata": {
    "ExecuteTime": {
     "end_time": "2023-08-30T03:33:23.888777Z",
     "start_time": "2023-08-30T03:33:23.872755Z"
    }
   },
   "outputs": [
    {
     "data": {
      "text/plain": [
       "[1, 2, 3, 4]"
      ]
     },
     "execution_count": 44,
     "metadata": {},
     "output_type": "execute_result"
    }
   ],
   "source": [
    "del yy[0]\n",
    "yy"
   ]
  },
  {
   "cell_type": "code",
   "execution_count": 45,
   "id": "901f5146",
   "metadata": {
    "ExecuteTime": {
     "end_time": "2023-08-30T03:33:46.003888Z",
     "start_time": "2023-08-30T03:33:45.984922Z"
    }
   },
   "outputs": [
    {
     "data": {
      "text/plain": [
       "[1, 1, 2, 3, 3, 3, 4, 4, 4, 4]"
      ]
     },
     "execution_count": 45,
     "metadata": {},
     "output_type": "execute_result"
    }
   ],
   "source": [
    "zz = [1, 1, 2, 3, 3, 3, 4, 4, 4, 4]\n",
    "zz"
   ]
  },
  {
   "cell_type": "code",
   "execution_count": 46,
   "id": "11d98154",
   "metadata": {
    "ExecuteTime": {
     "end_time": "2023-08-30T03:33:53.076901Z",
     "start_time": "2023-08-30T03:33:53.062859Z"
    }
   },
   "outputs": [
    {
     "data": {
      "text/plain": [
       "1"
      ]
     },
     "execution_count": 46,
     "metadata": {},
     "output_type": "execute_result"
    }
   ],
   "source": [
    "zz[0]"
   ]
  },
  {
   "cell_type": "code",
   "execution_count": 47,
   "id": "8d99d2eb",
   "metadata": {
    "ExecuteTime": {
     "end_time": "2023-08-30T03:33:56.981642Z",
     "start_time": "2023-08-30T03:33:56.972635Z"
    }
   },
   "outputs": [
    {
     "data": {
      "text/plain": [
       "1"
      ]
     },
     "execution_count": 47,
     "metadata": {},
     "output_type": "execute_result"
    }
   ],
   "source": [
    "zz[1]"
   ]
  },
  {
   "cell_type": "code",
   "execution_count": 48,
   "id": "bb40d6c2",
   "metadata": {
    "ExecuteTime": {
     "end_time": "2023-08-30T03:34:05.848781Z",
     "start_time": "2023-08-30T03:34:05.838813Z"
    }
   },
   "outputs": [],
   "source": [
    "del zz[0]"
   ]
  },
  {
   "cell_type": "code",
   "execution_count": 49,
   "id": "de6d9afc",
   "metadata": {
    "ExecuteTime": {
     "end_time": "2023-08-30T03:34:08.395800Z",
     "start_time": "2023-08-30T03:34:08.381831Z"
    }
   },
   "outputs": [
    {
     "data": {
      "text/plain": [
       "[1, 2, 3, 3, 3, 4, 4, 4, 4]"
      ]
     },
     "execution_count": 49,
     "metadata": {},
     "output_type": "execute_result"
    }
   ],
   "source": [
    "zz"
   ]
  },
  {
   "cell_type": "code",
   "execution_count": 50,
   "id": "fdf08605",
   "metadata": {
    "ExecuteTime": {
     "end_time": "2023-08-30T03:34:37.107300Z",
     "start_time": "2023-08-30T03:34:37.103332Z"
    }
   },
   "outputs": [
    {
     "data": {
      "text/plain": [
       "[1, 2, 3, 3, 4, 4, 4, 4]"
      ]
     },
     "execution_count": 50,
     "metadata": {},
     "output_type": "execute_result"
    }
   ],
   "source": [
    "zz.remove(3)\n",
    "zz"
   ]
  },
  {
   "cell_type": "markdown",
   "id": "c25aa264",
   "metadata": {},
   "source": [
    "## 슬라이싱(slicing)\n",
    "- 시작인덱스:마지막인덱스(마지막인덱스-1)"
   ]
  },
  {
   "cell_type": "code",
   "execution_count": 51,
   "id": "ac034d7f",
   "metadata": {
    "ExecuteTime": {
     "end_time": "2023-08-30T03:36:41.035592Z",
     "start_time": "2023-08-30T03:36:41.029593Z"
    }
   },
   "outputs": [
    {
     "data": {
      "text/plain": [
       "[0, 1, 2, 3, 4, 5, 6, 7, 8, 9, 10, 11, 12, 13, 14, 15, 16, 17, 18, 19]"
      ]
     },
     "execution_count": 51,
     "metadata": {},
     "output_type": "execute_result"
    }
   ],
   "source": [
    "a = list(range(20))\n",
    "a"
   ]
  },
  {
   "cell_type": "code",
   "execution_count": 52,
   "id": "16e11f09",
   "metadata": {
    "ExecuteTime": {
     "end_time": "2023-08-30T03:36:52.071900Z",
     "start_time": "2023-08-30T03:36:52.062934Z"
    }
   },
   "outputs": [
    {
     "data": {
      "text/plain": [
       "0"
      ]
     },
     "execution_count": 52,
     "metadata": {},
     "output_type": "execute_result"
    }
   ],
   "source": [
    "a[0]"
   ]
  },
  {
   "cell_type": "code",
   "execution_count": 53,
   "id": "4c10c022",
   "metadata": {
    "ExecuteTime": {
     "end_time": "2023-08-30T03:37:13.152692Z",
     "start_time": "2023-08-30T03:37:13.138721Z"
    }
   },
   "outputs": [
    {
     "data": {
      "text/plain": [
       "[0, 1, 2, 3, 4]"
      ]
     },
     "execution_count": 53,
     "metadata": {},
     "output_type": "execute_result"
    }
   ],
   "source": [
    "a[0:5]"
   ]
  },
  {
   "cell_type": "code",
   "execution_count": 54,
   "id": "8b57df8b",
   "metadata": {
    "ExecuteTime": {
     "end_time": "2023-08-30T03:37:25.074123Z",
     "start_time": "2023-08-30T03:37:25.061101Z"
    }
   },
   "outputs": [
    {
     "data": {
      "text/plain": [
       "[0, 1, 2, 3, 4]"
      ]
     },
     "execution_count": 54,
     "metadata": {},
     "output_type": "execute_result"
    }
   ],
   "source": [
    "a[:5]"
   ]
  },
  {
   "cell_type": "code",
   "execution_count": 55,
   "id": "6a1bbfa6",
   "metadata": {
    "ExecuteTime": {
     "end_time": "2023-08-30T03:38:40.881755Z",
     "start_time": "2023-08-30T03:38:40.875793Z"
    }
   },
   "outputs": [
    {
     "data": {
      "text/plain": [
       "[10, 11, 12, 13, 14]"
      ]
     },
     "execution_count": 55,
     "metadata": {},
     "output_type": "execute_result"
    }
   ],
   "source": [
    "# 11번째에서 15번째 자료를 추출\n",
    "a[10:15]"
   ]
  },
  {
   "cell_type": "markdown",
   "id": "bb75020d",
   "metadata": {},
   "source": [
    "## 역 인덱싱(음수 인덱싱) = 리버스 인덱싱"
   ]
  },
  {
   "cell_type": "code",
   "execution_count": 57,
   "id": "6e4e16fa",
   "metadata": {
    "ExecuteTime": {
     "end_time": "2023-08-30T03:39:29.069165Z",
     "start_time": "2023-08-30T03:39:29.049126Z"
    }
   },
   "outputs": [
    {
     "data": {
      "text/plain": [
       "[0, 1, 2, 3, 4, 5, 6, 7, 8, 9, 10, 11, 12, 13, 14, 15, 16, 17, 18, 19]"
      ]
     },
     "execution_count": 57,
     "metadata": {},
     "output_type": "execute_result"
    }
   ],
   "source": [
    "a"
   ]
  },
  {
   "cell_type": "code",
   "execution_count": 58,
   "id": "5eb38353",
   "metadata": {
    "ExecuteTime": {
     "end_time": "2023-08-30T03:39:56.878665Z",
     "start_time": "2023-08-30T03:39:56.865686Z"
    }
   },
   "outputs": [
    {
     "data": {
      "text/plain": [
       "19"
      ]
     },
     "execution_count": 58,
     "metadata": {},
     "output_type": "execute_result"
    }
   ],
   "source": [
    "a[len(a)-1]"
   ]
  },
  {
   "cell_type": "code",
   "execution_count": 60,
   "id": "63cd1380",
   "metadata": {
    "ExecuteTime": {
     "end_time": "2023-08-30T03:40:16.922701Z",
     "start_time": "2023-08-30T03:40:16.904721Z"
    }
   },
   "outputs": [
    {
     "data": {
      "text/plain": [
       "19"
      ]
     },
     "execution_count": 60,
     "metadata": {},
     "output_type": "execute_result"
    }
   ],
   "source": [
    "a[19]"
   ]
  },
  {
   "cell_type": "code",
   "execution_count": 61,
   "id": "e77e3b28",
   "metadata": {
    "ExecuteTime": {
     "end_time": "2023-08-30T03:40:42.075719Z",
     "start_time": "2023-08-30T03:40:42.063710Z"
    }
   },
   "outputs": [
    {
     "data": {
      "text/plain": [
       "19"
      ]
     },
     "execution_count": 61,
     "metadata": {},
     "output_type": "execute_result"
    }
   ],
   "source": [
    "a[-1]"
   ]
  },
  {
   "cell_type": "code",
   "execution_count": 62,
   "id": "86ea82d0",
   "metadata": {
    "ExecuteTime": {
     "end_time": "2023-08-30T03:41:23.223177Z",
     "start_time": "2023-08-30T03:41:23.216080Z"
    }
   },
   "outputs": [
    {
     "data": {
      "text/plain": [
       "[15, 16, 17]"
      ]
     },
     "execution_count": 62,
     "metadata": {},
     "output_type": "execute_result"
    }
   ],
   "source": [
    "a[-5:-2]"
   ]
  },
  {
   "cell_type": "code",
   "execution_count": 63,
   "id": "53ba23b7",
   "metadata": {
    "ExecuteTime": {
     "end_time": "2023-08-30T03:41:32.585441Z",
     "start_time": "2023-08-30T03:41:32.566396Z"
    }
   },
   "outputs": [
    {
     "data": {
      "text/plain": [
       "[17, 18, 19]"
      ]
     },
     "execution_count": 63,
     "metadata": {},
     "output_type": "execute_result"
    }
   ],
   "source": [
    "a[-3:]"
   ]
  },
  {
   "cell_type": "code",
   "execution_count": 64,
   "id": "7012c679",
   "metadata": {
    "ExecuteTime": {
     "end_time": "2023-08-30T03:41:45.824048Z",
     "start_time": "2023-08-30T03:41:45.806068Z"
    }
   },
   "outputs": [
    {
     "data": {
      "text/plain": [
       "[17, 18]"
      ]
     },
     "execution_count": 64,
     "metadata": {},
     "output_type": "execute_result"
    }
   ],
   "source": [
    "a[-3:-1]"
   ]
  },
  {
   "cell_type": "markdown",
   "id": "7627afc1",
   "metadata": {},
   "source": [
    "## packing/unpacking, 복수할당"
   ]
  },
  {
   "cell_type": "code",
   "execution_count": 65,
   "id": "c24a114d",
   "metadata": {
    "ExecuteTime": {
     "end_time": "2023-08-30T03:42:58.124804Z",
     "start_time": "2023-08-30T03:42:58.114800Z"
    }
   },
   "outputs": [
    {
     "data": {
      "text/plain": [
       "[1, 2, 3]"
      ]
     },
     "execution_count": 65,
     "metadata": {},
     "output_type": "execute_result"
    }
   ],
   "source": [
    "a = [1, 2, 3]\n",
    "a"
   ]
  },
  {
   "cell_type": "code",
   "execution_count": 66,
   "id": "1e049548",
   "metadata": {
    "ExecuteTime": {
     "end_time": "2023-08-30T03:43:26.065388Z",
     "start_time": "2023-08-30T03:43:26.048411Z"
    }
   },
   "outputs": [
    {
     "name": "stdout",
     "output_type": "stream",
     "text": [
      "1 2 3\n"
     ]
    }
   ],
   "source": [
    "h1, h2, h3 = a\n",
    "print(h1, h2, h3)"
   ]
  },
  {
   "cell_type": "code",
   "execution_count": 67,
   "id": "b8922061",
   "metadata": {
    "ExecuteTime": {
     "end_time": "2023-08-30T03:43:39.736189Z",
     "start_time": "2023-08-30T03:43:39.724150Z"
    }
   },
   "outputs": [
    {
     "ename": "ValueError",
     "evalue": "too many values to unpack (expected 2)",
     "output_type": "error",
     "traceback": [
      "\u001b[1;31m---------------------------------------------------------------------------\u001b[0m",
      "\u001b[1;31mValueError\u001b[0m                                Traceback (most recent call last)",
      "\u001b[1;32m~\\AppData\\Local\\Temp/ipykernel_5924/2305405483.py\u001b[0m in \u001b[0;36m<module>\u001b[1;34m\u001b[0m\n\u001b[1;32m----> 1\u001b[1;33m \u001b[0mh1\u001b[0m\u001b[1;33m,\u001b[0m \u001b[0mh2\u001b[0m \u001b[1;33m=\u001b[0m \u001b[0ma\u001b[0m\u001b[1;33m\u001b[0m\u001b[1;33m\u001b[0m\u001b[0m\n\u001b[0m\u001b[0;32m      2\u001b[0m \u001b[0mprint\u001b[0m\u001b[1;33m(\u001b[0m\u001b[0mh1\u001b[0m\u001b[1;33m,\u001b[0m \u001b[0mh2\u001b[0m\u001b[1;33m)\u001b[0m\u001b[1;33m\u001b[0m\u001b[1;33m\u001b[0m\u001b[0m\n",
      "\u001b[1;31mValueError\u001b[0m: too many values to unpack (expected 2)"
     ]
    }
   ],
   "source": [
    "h1, h2 = a\n",
    "print(h1, h2)"
   ]
  },
  {
   "cell_type": "code",
   "execution_count": 68,
   "id": "fb1119b9",
   "metadata": {
    "ExecuteTime": {
     "end_time": "2023-08-30T03:44:15.789218Z",
     "start_time": "2023-08-30T03:44:15.779219Z"
    }
   },
   "outputs": [
    {
     "name": "stdout",
     "output_type": "stream",
     "text": [
      "1 2 3\n"
     ]
    }
   ],
   "source": [
    "h1, *h2 = a\n",
    "print(h1, *h2)"
   ]
  },
  {
   "cell_type": "markdown",
   "id": "d0c126b6",
   "metadata": {},
   "source": [
    "# 리스트의 반복문 처리"
   ]
  },
  {
   "cell_type": "code",
   "execution_count": 69,
   "id": "b2dcfd11",
   "metadata": {
    "ExecuteTime": {
     "end_time": "2023-08-30T03:45:39.979115Z",
     "start_time": "2023-08-30T03:45:39.968116Z"
    }
   },
   "outputs": [
    {
     "data": {
      "text/plain": [
       "[90, 85, 95, 80, 90, 100, 85, 75, 80, 95]"
      ]
     },
     "execution_count": 69,
     "metadata": {},
     "output_type": "execute_result"
    }
   ],
   "source": [
    "score = [90, 85, 95, 80, 90, 100, 85, 75, 80, 95]\n",
    "score"
   ]
  },
  {
   "cell_type": "code",
   "execution_count": 70,
   "id": "bd5ed8df",
   "metadata": {
    "ExecuteTime": {
     "end_time": "2023-08-30T03:46:01.625852Z",
     "start_time": "2023-08-30T03:46:01.617859Z"
    }
   },
   "outputs": [
    {
     "data": {
      "text/plain": [
       "10"
      ]
     },
     "execution_count": 70,
     "metadata": {},
     "output_type": "execute_result"
    }
   ],
   "source": [
    "len(score)"
   ]
  },
  {
   "cell_type": "code",
   "execution_count": 71,
   "id": "69305257",
   "metadata": {
    "ExecuteTime": {
     "end_time": "2023-08-30T03:46:18.138665Z",
     "start_time": "2023-08-30T03:46:18.123616Z"
    }
   },
   "outputs": [
    {
     "data": {
      "text/plain": [
       "875"
      ]
     },
     "execution_count": 71,
     "metadata": {},
     "output_type": "execute_result"
    }
   ],
   "source": [
    "sum(score)"
   ]
  },
  {
   "cell_type": "code",
   "execution_count": 72,
   "id": "292d790a",
   "metadata": {
    "ExecuteTime": {
     "end_time": "2023-08-30T03:49:26.043513Z",
     "start_time": "2023-08-30T03:49:26.028514Z"
    }
   },
   "outputs": [
    {
     "name": "stdout",
     "output_type": "stream",
     "text": [
      "875\n"
     ]
    }
   ],
   "source": [
    "# 누적변수는 초기화\n",
    "tot = 0\n",
    "\n",
    "# for 개별변수 in 집합변수:\n",
    "for i in score:\n",
    "    tot += i\n",
    "    \n",
    "print(tot)"
   ]
  },
  {
   "cell_type": "code",
   "execution_count": 74,
   "id": "02525812",
   "metadata": {
    "ExecuteTime": {
     "end_time": "2023-08-30T03:50:50.266667Z",
     "start_time": "2023-08-30T03:50:50.251764Z"
    }
   },
   "outputs": [
    {
     "name": "stdout",
     "output_type": "stream",
     "text": [
      "875\n"
     ]
    }
   ],
   "source": [
    "# 누적변수는 초기화\n",
    "tot = 0\n",
    "\n",
    "# for 개별변수 in 집합변수:\n",
    "for i in range(len(score)):\n",
    "    tot += score[i]\n",
    "    \n",
    "print(tot)"
   ]
  },
  {
   "cell_type": "code",
   "execution_count": 75,
   "id": "936c017f",
   "metadata": {
    "ExecuteTime": {
     "end_time": "2023-08-30T05:05:27.742262Z",
     "start_time": "2023-08-30T05:05:27.736296Z"
    }
   },
   "outputs": [
    {
     "data": {
      "text/plain": [
       "[[1, 2, 3], [4, 5, 6]]"
      ]
     },
     "execution_count": 75,
     "metadata": {},
     "output_type": "execute_result"
    }
   ],
   "source": [
    "x = [[1, 2, 3], [4, 5, 6]]\n",
    "x"
   ]
  },
  {
   "cell_type": "code",
   "execution_count": 76,
   "id": "346be958",
   "metadata": {
    "ExecuteTime": {
     "end_time": "2023-08-30T05:05:52.548290Z",
     "start_time": "2023-08-30T05:05:52.534321Z"
    }
   },
   "outputs": [
    {
     "data": {
      "text/plain": [
       "[1, 2, 3]"
      ]
     },
     "execution_count": 76,
     "metadata": {},
     "output_type": "execute_result"
    }
   ],
   "source": [
    "x[0]"
   ]
  },
  {
   "cell_type": "code",
   "execution_count": 77,
   "id": "839e73ee",
   "metadata": {
    "ExecuteTime": {
     "end_time": "2023-08-30T05:05:56.835381Z",
     "start_time": "2023-08-30T05:05:56.823406Z"
    }
   },
   "outputs": [
    {
     "data": {
      "text/plain": [
       "[4, 5, 6]"
      ]
     },
     "execution_count": 77,
     "metadata": {},
     "output_type": "execute_result"
    }
   ],
   "source": [
    "x[1]"
   ]
  },
  {
   "cell_type": "code",
   "execution_count": 78,
   "id": "4631b190",
   "metadata": {
    "ExecuteTime": {
     "end_time": "2023-08-30T05:06:43.587521Z",
     "start_time": "2023-08-30T05:06:43.574553Z"
    }
   },
   "outputs": [
    {
     "name": "stdout",
     "output_type": "stream",
     "text": [
      "[1, 2, 3]\n",
      "[4, 5, 6]\n"
     ]
    }
   ],
   "source": [
    "for i in x:\n",
    "    print(i)"
   ]
  },
  {
   "cell_type": "code",
   "execution_count": 80,
   "id": "b7d5b4f7",
   "metadata": {
    "ExecuteTime": {
     "end_time": "2023-08-30T05:08:29.142475Z",
     "start_time": "2023-08-30T05:08:29.131439Z"
    }
   },
   "outputs": [
    {
     "name": "stdout",
     "output_type": "stream",
     "text": [
      "123\n",
      "456\n"
     ]
    }
   ],
   "source": [
    "for a in x:\n",
    "    for b in a:\n",
    "        print(b, end = '')\n",
    "    print()"
   ]
  },
  {
   "cell_type": "code",
   "execution_count": 81,
   "id": "1ecd1420",
   "metadata": {
    "ExecuteTime": {
     "end_time": "2023-08-30T05:09:55.430323Z",
     "start_time": "2023-08-30T05:09:55.415026Z"
    }
   },
   "outputs": [
    {
     "data": {
      "text/plain": [
       "[1, 2, 3, 4, 5, 6]"
      ]
     },
     "execution_count": 81,
     "metadata": {},
     "output_type": "execute_result"
    }
   ],
   "source": [
    "x = [1, 2, 3]\n",
    "y = [4, 5, 6]\n",
    "\n",
    "# x의 각 요소와 y의 각 요소를 더하는 작업, 이때 같은 위치의 요소들끼리 합을 구하는 작업\n",
    "# 출력 : 5 7 9"
   ]
  },
  {
   "cell_type": "code",
   "execution_count": 82,
   "id": "ef93b3be",
   "metadata": {
    "ExecuteTime": {
     "end_time": "2023-08-30T05:11:13.386653Z",
     "start_time": "2023-08-30T05:11:13.372604Z"
    }
   },
   "outputs": [
    {
     "name": "stdout",
     "output_type": "stream",
     "text": [
      "5 7 9\n"
     ]
    }
   ],
   "source": [
    "print(x[0]+y[0], x[1]+y[1], x[2]+y[2])"
   ]
  },
  {
   "cell_type": "code",
   "execution_count": 83,
   "id": "3940bd9a",
   "metadata": {
    "ExecuteTime": {
     "end_time": "2023-08-30T05:12:48.068378Z",
     "start_time": "2023-08-30T05:12:48.054414Z"
    }
   },
   "outputs": [
    {
     "name": "stdout",
     "output_type": "stream",
     "text": [
      "5 7 9 "
     ]
    }
   ],
   "source": [
    "for i in range(3):\n",
    "    print(x[i] + y[i], end =' ')"
   ]
  },
  {
   "cell_type": "code",
   "execution_count": 84,
   "id": "3cab5e0f",
   "metadata": {
    "ExecuteTime": {
     "end_time": "2023-08-30T05:15:06.203842Z",
     "start_time": "2023-08-30T05:15:06.196844Z"
    }
   },
   "outputs": [
    {
     "data": {
      "text/plain": [
       "[5, 7, 9]"
      ]
     },
     "execution_count": 84,
     "metadata": {},
     "output_type": "execute_result"
    }
   ],
   "source": [
    "s = []\n",
    "x = [1, 2, 3]\n",
    "y = [4, 5, 6]\n",
    "for i in range(3):\n",
    "    s.append(x[i]+y[i])\n",
    "    \n",
    "s"
   ]
  },
  {
   "cell_type": "markdown",
   "id": "9e1a6ef2",
   "metadata": {},
   "source": [
    "## enumerate 함수\n",
    "\n",
    "- 리스트의 각 요소의 값과 인덱스를 리턴하는 함수"
   ]
  },
  {
   "cell_type": "code",
   "execution_count": 85,
   "id": "4e04fac3",
   "metadata": {
    "ExecuteTime": {
     "end_time": "2023-08-30T05:18:47.704514Z",
     "start_time": "2023-08-30T05:18:47.688522Z"
    }
   },
   "outputs": [
    {
     "name": "stdout",
     "output_type": "stream",
     "text": [
      "0 : a\n",
      "1 : b\n",
      "2 : c\n"
     ]
    }
   ],
   "source": [
    "data = ['a', 'b', 'c']\n",
    "# 0:a, 1:b, 2:c\n",
    "for i in range(len(data)):\n",
    "    #print(f\"{i} : {data[i]}\")\n",
    "    print(\"%d : %s\" % (i, data[i]))"
   ]
  },
  {
   "cell_type": "code",
   "execution_count": 86,
   "id": "b7a6a62e",
   "metadata": {
    "ExecuteTime": {
     "end_time": "2023-08-30T05:20:29.074904Z",
     "start_time": "2023-08-30T05:20:29.071367Z"
    }
   },
   "outputs": [
    {
     "name": "stdout",
     "output_type": "stream",
     "text": [
      "0 : a\n",
      "1 : b\n",
      "2 : c\n"
     ]
    }
   ],
   "source": [
    "for idx, value in enumerate(data):\n",
    "    print(\"%d : %s\" % (idx, value))"
   ]
  },
  {
   "cell_type": "code",
   "execution_count": 101,
   "id": "24b8596a",
   "metadata": {
    "ExecuteTime": {
     "end_time": "2023-08-30T05:31:12.295535Z",
     "start_time": "2023-08-30T05:31:12.282522Z"
    }
   },
   "outputs": [
    {
     "data": {
      "text/plain": [
       "[5, 7, 9]"
      ]
     },
     "execution_count": 101,
     "metadata": {},
     "output_type": "execute_result"
    }
   ],
   "source": [
    "# zip(L1, L2)\n",
    "\n",
    "s = [0, 0, 0]\n",
    "x1 = [1, 2, 3]\n",
    "x2 = [4, 5, 6]\n",
    "\n",
    "for idx, (a, b) in enumerate(zip(x1, x2)):\n",
    "    s[idx] = a + b\n",
    "    \n",
    "s"
   ]
  },
  {
   "cell_type": "code",
   "execution_count": 91,
   "id": "d5f24746",
   "metadata": {
    "ExecuteTime": {
     "end_time": "2023-08-30T05:23:39.109976Z",
     "start_time": "2023-08-30T05:23:39.103948Z"
    }
   },
   "outputs": [
    {
     "data": {
      "text/plain": [
       "[9, 8, 7, 6, 5, 4, 3, 2, 1, 0]"
      ]
     },
     "execution_count": 91,
     "metadata": {},
     "output_type": "execute_result"
    }
   ],
   "source": [
    "list(range(9, -1, -1))"
   ]
  },
  {
   "cell_type": "code",
   "execution_count": 95,
   "id": "7d78b59e",
   "metadata": {
    "ExecuteTime": {
     "end_time": "2023-08-30T05:26:06.320999Z",
     "start_time": "2023-08-30T05:26:06.308010Z"
    }
   },
   "outputs": [
    {
     "data": {
      "text/plain": [
       "[0, 0, 0, 0, 0, 0, 0, 0, 0, 0]"
      ]
     },
     "execution_count": 95,
     "metadata": {},
     "output_type": "execute_result"
    }
   ],
   "source": [
    "s = [0] * 10\n",
    "s"
   ]
  },
  {
   "cell_type": "code",
   "execution_count": 93,
   "id": "cc77962a",
   "metadata": {
    "ExecuteTime": {
     "end_time": "2023-08-30T05:25:11.099657Z",
     "start_time": "2023-08-30T05:25:11.083864Z"
    }
   },
   "outputs": [
    {
     "data": {
      "text/plain": [
       "[1, 2, 3, 1, 2, 3, 1, 2, 3]"
      ]
     },
     "execution_count": 93,
     "metadata": {},
     "output_type": "execute_result"
    }
   ],
   "source": [
    "[1, 2, 3] * 3"
   ]
  },
  {
   "cell_type": "code",
   "execution_count": 98,
   "id": "c55533a9",
   "metadata": {
    "ExecuteTime": {
     "end_time": "2023-08-30T05:28:42.766744Z",
     "start_time": "2023-08-30T05:28:42.751717Z"
    }
   },
   "outputs": [
    {
     "data": {
      "text/plain": [
       "[]"
      ]
     },
     "execution_count": 98,
     "metadata": {},
     "output_type": "execute_result"
    }
   ],
   "source": [
    "x1 = list(range(10))\n",
    "x2 = list(range(9, -1))\n",
    "a = list(zip(x1, x2))\n",
    "a"
   ]
  },
  {
   "cell_type": "code",
   "execution_count": 102,
   "id": "6b4ad179",
   "metadata": {
    "ExecuteTime": {
     "end_time": "2023-08-30T05:32:48.958161Z",
     "start_time": "2023-08-30T05:32:48.953142Z"
    }
   },
   "outputs": [
    {
     "data": {
      "text/plain": [
       "[(1, 4), (2, 5), (3, 6)]"
      ]
     },
     "execution_count": 102,
     "metadata": {},
     "output_type": "execute_result"
    }
   ],
   "source": [
    "x = [1, 2, 3]\n",
    "y = [4, 5, 6]\n",
    "result = list(zip(x, y)) # [(1, 4), (2, 5), (3, 6)]\n",
    "result"
   ]
  },
  {
   "cell_type": "markdown",
   "id": "42763751",
   "metadata": {},
   "source": [
    "## 오일러 프로젝트 1단계 문제\n",
    "- Find the sum of all the multiples of  3 or 5 below  1000.\n",
    "- 1000 보다 작은 자연수 중 3과 5의 배수의 합을 구해라.\n",
    "- 10 보다 작은 자연수 3과 5의 배수의 합 : 3, 6, 9, 5 = 23"
   ]
  },
  {
   "cell_type": "code",
   "execution_count": 108,
   "id": "ffbe7ffb",
   "metadata": {
    "ExecuteTime": {
     "end_time": "2023-08-30T05:53:43.875905Z",
     "start_time": "2023-08-30T05:53:43.865972Z"
    }
   },
   "outputs": [
    {
     "name": "stdout",
     "output_type": "stream",
     "text": [
      "33\n"
     ]
    }
   ],
   "source": [
    "# 1부터 100까지의 3의 배수 이거나 5의 배수의 합\n",
    "\n",
    "tot = 0\n",
    "for i in range(1, 10):\n",
    "    if i % 3 == 0 or i % 5 == 0:\n",
    "        tot += i\n",
    "    \n",
    "print(tot)"
   ]
  },
  {
   "cell_type": "code",
   "execution_count": 109,
   "id": "58f119af",
   "metadata": {
    "ExecuteTime": {
     "end_time": "2023-08-30T05:54:01.238378Z",
     "start_time": "2023-08-30T05:54:01.226379Z"
    }
   },
   "outputs": [
    {
     "name": "stdout",
     "output_type": "stream",
     "text": [
      "233168\n"
     ]
    }
   ],
   "source": [
    "tot = 0\n",
    "for i in range(1, 1000):\n",
    "    if i % 3 == 0 or i % 5 == 0:\n",
    "        tot += i\n",
    "    \n",
    "print(tot)"
   ]
  },
  {
   "cell_type": "markdown",
   "id": "1c06fc02",
   "metadata": {},
   "source": [
    "# 딕셔너리 자료형 "
   ]
  },
  {
   "cell_type": "markdown",
   "id": "c1ca7ea5",
   "metadata": {},
   "source": [
    "## 자료의 개수 : len"
   ]
  },
  {
   "cell_type": "code",
   "execution_count": 110,
   "id": "38f7b5cc",
   "metadata": {
    "ExecuteTime": {
     "end_time": "2023-08-30T06:14:17.728927Z",
     "start_time": "2023-08-30T06:14:17.723918Z"
    }
   },
   "outputs": [
    {
     "data": {
      "text/plain": [
       "{'a': 10, 'b': 20}"
      ]
     },
     "execution_count": 110,
     "metadata": {},
     "output_type": "execute_result"
    }
   ],
   "source": [
    "x = {'a':10, 'b':20}\n",
    "x"
   ]
  },
  {
   "cell_type": "code",
   "execution_count": 111,
   "id": "60217bdb",
   "metadata": {
    "ExecuteTime": {
     "end_time": "2023-08-30T06:14:34.538436Z",
     "start_time": "2023-08-30T06:14:34.529464Z"
    }
   },
   "outputs": [
    {
     "name": "stdout",
     "output_type": "stream",
     "text": [
      "<class 'dict'>\n"
     ]
    }
   ],
   "source": [
    "# 자료형 확인\n",
    "print(type(x))"
   ]
  },
  {
   "cell_type": "code",
   "execution_count": 112,
   "id": "d8522a15",
   "metadata": {
    "ExecuteTime": {
     "end_time": "2023-08-30T06:15:02.149103Z",
     "start_time": "2023-08-30T06:15:02.134202Z"
    }
   },
   "outputs": [
    {
     "data": {
      "text/plain": [
       "2"
      ]
     },
     "execution_count": 112,
     "metadata": {},
     "output_type": "execute_result"
    }
   ],
   "source": [
    "len(x)"
   ]
  },
  {
   "cell_type": "markdown",
   "id": "02555a6d",
   "metadata": {},
   "source": [
    "## 갱신, 추가, 삭제"
   ]
  },
  {
   "cell_type": "code",
   "execution_count": 113,
   "id": "58b809f2",
   "metadata": {
    "ExecuteTime": {
     "end_time": "2023-08-30T06:15:39.842297Z",
     "start_time": "2023-08-30T06:15:39.831263Z"
    }
   },
   "outputs": [
    {
     "data": {
      "text/plain": [
       "10"
      ]
     },
     "execution_count": 113,
     "metadata": {},
     "output_type": "execute_result"
    }
   ],
   "source": [
    "x['a']"
   ]
  },
  {
   "cell_type": "code",
   "execution_count": 114,
   "id": "4499b2be",
   "metadata": {
    "ExecuteTime": {
     "end_time": "2023-08-30T06:15:57.346252Z",
     "start_time": "2023-08-30T06:15:57.339265Z"
    }
   },
   "outputs": [
    {
     "data": {
      "text/plain": [
       "{'a': 30, 'b': 20}"
      ]
     },
     "execution_count": 114,
     "metadata": {},
     "output_type": "execute_result"
    }
   ],
   "source": [
    "x['a'] = 30\n",
    "x"
   ]
  },
  {
   "cell_type": "code",
   "execution_count": 115,
   "id": "8a4fc062",
   "metadata": {
    "ExecuteTime": {
     "end_time": "2023-08-30T06:16:23.968911Z",
     "start_time": "2023-08-30T06:16:23.955939Z"
    }
   },
   "outputs": [
    {
     "data": {
      "text/plain": [
       "[1, 2, 3]"
      ]
     },
     "execution_count": 115,
     "metadata": {},
     "output_type": "execute_result"
    }
   ],
   "source": [
    "y = [1, 2, 3]\n",
    "y"
   ]
  },
  {
   "cell_type": "code",
   "execution_count": 116,
   "id": "0d8cce72",
   "metadata": {
    "ExecuteTime": {
     "end_time": "2023-08-30T06:16:31.901939Z",
     "start_time": "2023-08-30T06:16:31.883957Z"
    }
   },
   "outputs": [
    {
     "data": {
      "text/plain": [
       "[1, 2, 30]"
      ]
     },
     "execution_count": 116,
     "metadata": {},
     "output_type": "execute_result"
    }
   ],
   "source": [
    "y[2] = 30\n",
    "y"
   ]
  },
  {
   "cell_type": "code",
   "execution_count": 117,
   "id": "ec1fd207",
   "metadata": {
    "ExecuteTime": {
     "end_time": "2023-08-30T06:16:51.378106Z",
     "start_time": "2023-08-30T06:16:51.368145Z"
    }
   },
   "outputs": [
    {
     "ename": "IndexError",
     "evalue": "list assignment index out of range",
     "output_type": "error",
     "traceback": [
      "\u001b[1;31m---------------------------------------------------------------------------\u001b[0m",
      "\u001b[1;31mIndexError\u001b[0m                                Traceback (most recent call last)",
      "\u001b[1;32m~\\AppData\\Local\\Temp/ipykernel_5924/4182871315.py\u001b[0m in \u001b[0;36m<module>\u001b[1;34m\u001b[0m\n\u001b[1;32m----> 1\u001b[1;33m \u001b[0my\u001b[0m\u001b[1;33m[\u001b[0m\u001b[1;36m3\u001b[0m\u001b[1;33m]\u001b[0m \u001b[1;33m=\u001b[0m \u001b[1;36m4\u001b[0m\u001b[1;33m\u001b[0m\u001b[1;33m\u001b[0m\u001b[0m\n\u001b[0m\u001b[0;32m      2\u001b[0m \u001b[0my\u001b[0m\u001b[1;33m\u001b[0m\u001b[1;33m\u001b[0m\u001b[0m\n",
      "\u001b[1;31mIndexError\u001b[0m: list assignment index out of range"
     ]
    }
   ],
   "source": [
    "y[3] = 4\n",
    "y"
   ]
  },
  {
   "cell_type": "code",
   "execution_count": 118,
   "id": "247fbb8d",
   "metadata": {
    "ExecuteTime": {
     "end_time": "2023-08-30T06:17:07.459188Z",
     "start_time": "2023-08-30T06:17:07.446257Z"
    }
   },
   "outputs": [
    {
     "data": {
      "text/plain": [
       "[1, 2, 30, 4]"
      ]
     },
     "execution_count": 118,
     "metadata": {},
     "output_type": "execute_result"
    }
   ],
   "source": [
    "y.append(4)\n",
    "y"
   ]
  },
  {
   "cell_type": "code",
   "execution_count": 119,
   "id": "dc0a82cd",
   "metadata": {
    "ExecuteTime": {
     "end_time": "2023-08-30T06:17:32.125934Z",
     "start_time": "2023-08-30T06:17:32.111907Z"
    }
   },
   "outputs": [
    {
     "data": {
      "text/plain": [
       "{'a': 30, 'b': 20, 'c': 40}"
      ]
     },
     "execution_count": 119,
     "metadata": {},
     "output_type": "execute_result"
    }
   ],
   "source": [
    "x['c'] = 40\n",
    "x"
   ]
  },
  {
   "cell_type": "code",
   "execution_count": 120,
   "id": "e573299c",
   "metadata": {
    "ExecuteTime": {
     "end_time": "2023-08-30T06:18:14.076813Z",
     "start_time": "2023-08-30T06:18:14.071865Z"
    }
   },
   "outputs": [
    {
     "data": {
      "text/plain": [
       "{'a': 30, 'c': 40}"
      ]
     },
     "execution_count": 120,
     "metadata": {},
     "output_type": "execute_result"
    }
   ],
   "source": [
    "del x['b']\n",
    "x"
   ]
  },
  {
   "cell_type": "markdown",
   "id": "99f70978",
   "metadata": {},
   "source": [
    "## in / not in\n",
    "- in : 포함여부를 판단하는 명령\n",
    "- not in : 포함하지 않는지를 판단하는 명령"
   ]
  },
  {
   "cell_type": "code",
   "execution_count": 121,
   "id": "780e1d3a",
   "metadata": {
    "ExecuteTime": {
     "end_time": "2023-08-30T06:19:51.197076Z",
     "start_time": "2023-08-30T06:19:51.193107Z"
    }
   },
   "outputs": [
    {
     "data": {
      "text/plain": [
       "True"
      ]
     },
     "execution_count": 121,
     "metadata": {},
     "output_type": "execute_result"
    }
   ],
   "source": [
    "1 in [1, 2, 3, 4, 5]"
   ]
  },
  {
   "cell_type": "code",
   "execution_count": 122,
   "id": "403fd7bb",
   "metadata": {
    "ExecuteTime": {
     "end_time": "2023-08-30T06:20:01.701690Z",
     "start_time": "2023-08-30T06:20:01.692685Z"
    }
   },
   "outputs": [
    {
     "data": {
      "text/plain": [
       "{'a': 30, 'c': 40}"
      ]
     },
     "execution_count": 122,
     "metadata": {},
     "output_type": "execute_result"
    }
   ],
   "source": [
    "x"
   ]
  },
  {
   "cell_type": "code",
   "execution_count": 123,
   "id": "335d6328",
   "metadata": {
    "ExecuteTime": {
     "end_time": "2023-08-30T06:20:16.768296Z",
     "start_time": "2023-08-30T06:20:16.758330Z"
    }
   },
   "outputs": [
    {
     "data": {
      "text/plain": [
       "True"
      ]
     },
     "execution_count": 123,
     "metadata": {},
     "output_type": "execute_result"
    }
   ],
   "source": [
    "'a' in x"
   ]
  },
  {
   "cell_type": "code",
   "execution_count": 124,
   "id": "aa007e4a",
   "metadata": {
    "ExecuteTime": {
     "end_time": "2023-08-30T06:20:27.733766Z",
     "start_time": "2023-08-30T06:20:27.719766Z"
    }
   },
   "outputs": [
    {
     "data": {
      "text/plain": [
       "False"
      ]
     },
     "execution_count": 124,
     "metadata": {},
     "output_type": "execute_result"
    }
   ],
   "source": [
    "'d' in x"
   ]
  },
  {
   "cell_type": "markdown",
   "id": "eaf445c9",
   "metadata": {},
   "source": [
    "## 딕셔너리의 반복문 처리\n",
    "\n",
    "- keys() : key만 추출해서 리스트 객체로 반환\n",
    "- values() : value만 추출해서 리스트 객체로 반환\n",
    "- items() : item(key, value)만 추출"
   ]
  },
  {
   "cell_type": "code",
   "execution_count": 126,
   "id": "499c5dd6",
   "metadata": {
    "ExecuteTime": {
     "end_time": "2023-08-30T06:23:11.154931Z",
     "start_time": "2023-08-30T06:23:11.142877Z"
    }
   },
   "outputs": [
    {
     "data": {
      "text/plain": [
       "{'a': 30, 'c': 40}"
      ]
     },
     "execution_count": 126,
     "metadata": {},
     "output_type": "execute_result"
    }
   ],
   "source": [
    "x"
   ]
  },
  {
   "cell_type": "code",
   "execution_count": 127,
   "id": "b5efadcf",
   "metadata": {
    "ExecuteTime": {
     "end_time": "2023-08-30T06:23:38.665927Z",
     "start_time": "2023-08-30T06:23:38.652896Z"
    }
   },
   "outputs": [
    {
     "name": "stdout",
     "output_type": "stream",
     "text": [
      "a\n",
      "c\n"
     ]
    }
   ],
   "source": [
    "for key in x:\n",
    "    print(key)"
   ]
  },
  {
   "cell_type": "code",
   "execution_count": 128,
   "id": "fe6e1680",
   "metadata": {
    "ExecuteTime": {
     "end_time": "2023-08-30T06:23:55.872214Z",
     "start_time": "2023-08-30T06:23:55.857215Z"
    }
   },
   "outputs": [
    {
     "data": {
      "text/plain": [
       "dict_keys(['a', 'c'])"
      ]
     },
     "execution_count": 128,
     "metadata": {},
     "output_type": "execute_result"
    }
   ],
   "source": [
    "x.keys()"
   ]
  },
  {
   "cell_type": "code",
   "execution_count": 129,
   "id": "6f309c53",
   "metadata": {
    "ExecuteTime": {
     "end_time": "2023-08-30T06:24:27.491705Z",
     "start_time": "2023-08-30T06:24:27.480379Z"
    }
   },
   "outputs": [
    {
     "name": "stdout",
     "output_type": "stream",
     "text": [
      "a\n",
      "c\n"
     ]
    }
   ],
   "source": [
    "for key in x.keys():\n",
    "    print(key)"
   ]
  },
  {
   "cell_type": "code",
   "execution_count": 130,
   "id": "d2f9ff86",
   "metadata": {
    "ExecuteTime": {
     "end_time": "2023-08-30T06:24:56.741626Z",
     "start_time": "2023-08-30T06:24:56.724661Z"
    }
   },
   "outputs": [
    {
     "data": {
      "text/plain": [
       "dict_values([30, 40])"
      ]
     },
     "execution_count": 130,
     "metadata": {},
     "output_type": "execute_result"
    }
   ],
   "source": [
    "x.values()"
   ]
  },
  {
   "cell_type": "code",
   "execution_count": 131,
   "id": "de9fbc78",
   "metadata": {
    "ExecuteTime": {
     "end_time": "2023-08-30T06:25:17.640760Z",
     "start_time": "2023-08-30T06:25:17.628826Z"
    }
   },
   "outputs": [
    {
     "name": "stdout",
     "output_type": "stream",
     "text": [
      "30\n",
      "40\n"
     ]
    }
   ],
   "source": [
    "for v in x.values():\n",
    "    print(v)"
   ]
  },
  {
   "cell_type": "code",
   "execution_count": 132,
   "id": "8203b8dd",
   "metadata": {
    "ExecuteTime": {
     "end_time": "2023-08-30T06:25:41.394782Z",
     "start_time": "2023-08-30T06:25:41.376747Z"
    }
   },
   "outputs": [
    {
     "data": {
      "text/plain": [
       "dict_items([('a', 30), ('c', 40)])"
      ]
     },
     "execution_count": 132,
     "metadata": {},
     "output_type": "execute_result"
    }
   ],
   "source": [
    "x.items()"
   ]
  },
  {
   "cell_type": "code",
   "execution_count": 133,
   "id": "c2cf335d",
   "metadata": {
    "ExecuteTime": {
     "end_time": "2023-08-30T06:26:08.564637Z",
     "start_time": "2023-08-30T06:26:08.556662Z"
    }
   },
   "outputs": [
    {
     "name": "stdout",
     "output_type": "stream",
     "text": [
      "('a', 30)\n",
      "('c', 40)\n"
     ]
    }
   ],
   "source": [
    "for i in x.items():\n",
    "    print(i)"
   ]
  },
  {
   "cell_type": "code",
   "execution_count": 134,
   "id": "a894c793",
   "metadata": {
    "ExecuteTime": {
     "end_time": "2023-08-30T06:27:01.830063Z",
     "start_time": "2023-08-30T06:27:01.824082Z"
    }
   },
   "outputs": [
    {
     "name": "stdout",
     "output_type": "stream",
     "text": [
      "key[a] => value[30]\n",
      "key[c] => value[40]\n"
     ]
    }
   ],
   "source": [
    "for k, v in x.items():\n",
    "    print(\"key[%s] => value[%d]\" % (k, v))"
   ]
  },
  {
   "cell_type": "code",
   "execution_count": 135,
   "id": "13a7c12c",
   "metadata": {
    "ExecuteTime": {
     "end_time": "2023-08-30T06:28:14.995325Z",
     "start_time": "2023-08-30T06:28:14.991356Z"
    }
   },
   "outputs": [
    {
     "data": {
      "text/plain": [
       "{'a': 30, 'b': 20, 'c': 40}"
      ]
     },
     "execution_count": 135,
     "metadata": {},
     "output_type": "execute_result"
    }
   ],
   "source": [
    "xx = {'a': 10, 'b':20, 'a':30, 'c':40}\n",
    "xx"
   ]
  },
  {
   "cell_type": "markdown",
   "id": "72ccb1a2",
   "metadata": {},
   "source": [
    "## 딕셔너리 요소 접근 예제"
   ]
  },
  {
   "cell_type": "code",
   "execution_count": 139,
   "id": "d65df5e0",
   "metadata": {
    "ExecuteTime": {
     "end_time": "2023-08-30T06:42:01.241718Z",
     "start_time": "2023-08-30T06:42:01.235685Z"
    }
   },
   "outputs": [],
   "source": [
    "dt = {\n",
    "    'name':'건조 망고',\n",
    "    'type': '당절임',\n",
    "    'ingredient' : ['망고', '설탕', '치자황색소', '나트륨'],\n",
    "    'country':'필리핀'\n",
    "}"
   ]
  },
  {
   "cell_type": "code",
   "execution_count": 141,
   "id": "68d9341a",
   "metadata": {
    "ExecuteTime": {
     "end_time": "2023-08-30T06:43:01.922823Z",
     "start_time": "2023-08-30T06:43:01.903821Z"
    }
   },
   "outputs": [
    {
     "name": "stdout",
     "output_type": "stream",
     "text": [
      "name :  건조 망고\n",
      "type :  당절임\n",
      "ingredient :  ['망고', '설탕', '치자황색소', '나트륨']\n",
      "country :  필리핀\n"
     ]
    }
   ],
   "source": [
    "# 사전에 요소를 출력하는 구문\n",
    "print(\"name : \", dt['name'])\n",
    "print(\"type : \", dt['type'])\n",
    "print(\"ingredient : \", dt['ingredient'])\n",
    "print(\"country : \", dt['country'])"
   ]
  },
  {
   "cell_type": "code",
   "execution_count": 142,
   "id": "b7b2fd50",
   "metadata": {
    "ExecuteTime": {
     "end_time": "2023-08-30T06:44:15.118917Z",
     "start_time": "2023-08-30T06:44:15.100609Z"
    }
   },
   "outputs": [
    {
     "name": "stdout",
     "output_type": "stream",
     "text": [
      "name : 건조 망고\n",
      "type : 당절임\n",
      "ingredient : ['망고', '설탕', '치자황색소', '나트륨']\n",
      "country : 필리핀\n"
     ]
    }
   ],
   "source": [
    "for key, value in dt.items():\n",
    "    print(f\"{key} : {value}\")"
   ]
  },
  {
   "cell_type": "code",
   "execution_count": 143,
   "id": "9493baa7",
   "metadata": {
    "ExecuteTime": {
     "end_time": "2023-08-30T06:44:51.468327Z",
     "start_time": "2023-08-30T06:44:51.464326Z"
    }
   },
   "outputs": [
    {
     "data": {
      "text/plain": [
       "{'name': '단무지',\n",
       " 'type': '당절임',\n",
       " 'ingredient': ['망고', '설탕', '치자황색소', '나트륨'],\n",
       " 'country': '필리핀'}"
      ]
     },
     "execution_count": 143,
     "metadata": {},
     "output_type": "execute_result"
    }
   ],
   "source": [
    "dt['name'] = '단무지'\n",
    "dt"
   ]
  },
  {
   "cell_type": "code",
   "execution_count": 145,
   "id": "bc5ed284",
   "metadata": {
    "ExecuteTime": {
     "end_time": "2023-08-30T06:45:52.705332Z",
     "start_time": "2023-08-30T06:45:52.691361Z"
    }
   },
   "outputs": [
    {
     "data": {
      "text/plain": [
       "'설탕'"
      ]
     },
     "execution_count": 145,
     "metadata": {},
     "output_type": "execute_result"
    }
   ],
   "source": [
    "dt['ingredient'][1]"
   ]
  },
  {
   "cell_type": "code",
   "execution_count": null,
   "id": "ee107928",
   "metadata": {},
   "outputs": [],
   "source": []
  }
 ],
 "metadata": {
  "kernelspec": {
   "display_name": "Python 3 (ipykernel)",
   "language": "python",
   "name": "python3"
  },
  "language_info": {
   "codemirror_mode": {
    "name": "ipython",
    "version": 3
   },
   "file_extension": ".py",
   "mimetype": "text/x-python",
   "name": "python",
   "nbconvert_exporter": "python",
   "pygments_lexer": "ipython3",
   "version": "3.9.7"
  },
  "toc": {
   "base_numbering": 1,
   "nav_menu": {},
   "number_sections": true,
   "sideBar": true,
   "skip_h1_title": false,
   "title_cell": "Table of Contents",
   "title_sidebar": "Contents",
   "toc_cell": false,
   "toc_position": {
    "height": "calc(100% - 180px)",
    "left": "10px",
    "top": "150px",
    "width": "256px"
   },
   "toc_section_display": true,
   "toc_window_display": true
  },
  "varInspector": {
   "cols": {
    "lenName": 16,
    "lenType": 16,
    "lenVar": 40
   },
   "kernels_config": {
    "python": {
     "delete_cmd_postfix": "",
     "delete_cmd_prefix": "del ",
     "library": "var_list.py",
     "varRefreshCmd": "print(var_dic_list())"
    },
    "r": {
     "delete_cmd_postfix": ") ",
     "delete_cmd_prefix": "rm(",
     "library": "var_list.r",
     "varRefreshCmd": "cat(var_dic_list()) "
    }
   },
   "types_to_exclude": [
    "module",
    "function",
    "builtin_function_or_method",
    "instance",
    "_Feature"
   ],
   "window_display": false
  }
 },
 "nbformat": 4,
 "nbformat_minor": 5
}
