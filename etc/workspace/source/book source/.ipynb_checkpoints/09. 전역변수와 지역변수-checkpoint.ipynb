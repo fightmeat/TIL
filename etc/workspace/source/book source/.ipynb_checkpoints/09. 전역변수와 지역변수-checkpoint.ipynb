{
 "cells": [
  {
   "cell_type": "markdown",
   "id": "9c08e877",
   "metadata": {},
   "source": [
    "# 전역변수(Global Variable)\n",
    "- 범위 또는 영역 : scope"
   ]
  },
  {
   "cell_type": "code",
   "execution_count": 1,
   "id": "7fc98742",
   "metadata": {
    "ExecuteTime": {
     "end_time": "2023-09-01T03:14:40.334749Z",
     "start_time": "2023-09-01T03:14:40.328785Z"
    }
   },
   "outputs": [
    {
     "name": "stdout",
     "output_type": "stream",
     "text": [
      "x =  1\n",
      "x =  1\n"
     ]
    }
   ],
   "source": [
    "x = 1\n",
    "\n",
    "def func():\n",
    "    print(\"x = \", x)\n",
    "    \n",
    "func()\n",
    "print(\"x = \", x)"
   ]
  },
  {
   "cell_type": "code",
   "execution_count": 2,
   "id": "9ec7ee5f",
   "metadata": {
    "ExecuteTime": {
     "end_time": "2023-09-01T03:15:28.517105Z",
     "start_time": "2023-09-01T03:15:28.510574Z"
    }
   },
   "outputs": [
    {
     "name": "stdout",
     "output_type": "stream",
     "text": [
      "x =  1\n",
      "x =  2\n"
     ]
    }
   ],
   "source": [
    "x = 1\n",
    "\n",
    "def func():\n",
    "    print(\"x = \", x)\n",
    "    \n",
    "func()\n",
    "\n",
    "x = 2\n",
    "\n",
    "print(\"x = \", x)"
   ]
  },
  {
   "cell_type": "code",
   "execution_count": 3,
   "id": "5eaf6908",
   "metadata": {
    "ExecuteTime": {
     "end_time": "2023-09-01T03:17:09.533995Z",
     "start_time": "2023-09-01T03:17:09.526910Z"
    }
   },
   "outputs": [
    {
     "name": "stdout",
     "output_type": "stream",
     "text": [
      "x =  2\n",
      "x =  2\n"
     ]
    }
   ],
   "source": [
    "x = 1\n",
    "\n",
    "def func():\n",
    "    print(\"x = \", x)\n",
    "\n",
    "x = 2\n",
    "func()\n",
    "print(\"x = \", x)"
   ]
  },
  {
   "cell_type": "markdown",
   "id": "4cd330d7",
   "metadata": {},
   "source": [
    "# 지역변수(Local Variable)\n",
    "- 선언된 곳에서만 사용이 가능한 변수\n",
    "- 특정 지역에서만 사용하는 변수"
   ]
  },
  {
   "cell_type": "code",
   "execution_count": 5,
   "id": "f16e14e2",
   "metadata": {
    "ExecuteTime": {
     "end_time": "2023-09-01T03:19:17.753304Z",
     "start_time": "2023-09-01T03:19:17.635602Z"
    }
   },
   "outputs": [
    {
     "name": "stdout",
     "output_type": "stream",
     "text": [
      "y =  1\n"
     ]
    },
    {
     "ename": "NameError",
     "evalue": "name 'y' is not defined",
     "output_type": "error",
     "traceback": [
      "\u001b[1;31m---------------------------------------------------------------------------\u001b[0m",
      "\u001b[1;31mNameError\u001b[0m                                 Traceback (most recent call last)",
      "\u001b[1;32m~\\AppData\\Local\\Temp/ipykernel_2760/3364134308.py\u001b[0m in \u001b[0;36m<module>\u001b[1;34m\u001b[0m\n\u001b[0;32m      4\u001b[0m \u001b[1;33m\u001b[0m\u001b[0m\n\u001b[0;32m      5\u001b[0m \u001b[0mfunc\u001b[0m\u001b[1;33m(\u001b[0m\u001b[1;33m)\u001b[0m\u001b[1;33m\u001b[0m\u001b[1;33m\u001b[0m\u001b[0m\n\u001b[1;32m----> 6\u001b[1;33m \u001b[0mprint\u001b[0m\u001b[1;33m(\u001b[0m\u001b[1;34m\"y = \"\u001b[0m\u001b[1;33m,\u001b[0m \u001b[0my\u001b[0m\u001b[1;33m)\u001b[0m\u001b[1;33m\u001b[0m\u001b[1;33m\u001b[0m\u001b[0m\n\u001b[0m",
      "\u001b[1;31mNameError\u001b[0m: name 'y' is not defined"
     ]
    }
   ],
   "source": [
    "def func():\n",
    "    y = 1\n",
    "    print(\"y = \", y)\n",
    "\n",
    "func()\n",
    "print(\"y = \", y)"
   ]
  },
  {
   "cell_type": "code",
   "execution_count": 6,
   "id": "d5425205",
   "metadata": {
    "ExecuteTime": {
     "end_time": "2023-09-01T03:21:02.412800Z",
     "start_time": "2023-09-01T03:21:02.404828Z"
    }
   },
   "outputs": [
    {
     "name": "stdout",
     "output_type": "stream",
     "text": [
      "a =  2\n",
      "a =  1\n"
     ]
    }
   ],
   "source": [
    "a = 1 # 전역변수\n",
    "\n",
    "def func():\n",
    "    a = 2 # 지역변수\n",
    "    print(\"a = \", a)\n",
    "    \n",
    "func()\n",
    "\n",
    "print(\"a = \", a)"
   ]
  },
  {
   "cell_type": "code",
   "execution_count": 7,
   "id": "7de04997",
   "metadata": {
    "ExecuteTime": {
     "end_time": "2023-09-01T03:22:17.811990Z",
     "start_time": "2023-09-01T03:22:17.799992Z"
    }
   },
   "outputs": [
    {
     "name": "stdout",
     "output_type": "stream",
     "text": [
      "a =  2\n",
      "a =  2\n"
     ]
    }
   ],
   "source": [
    "a = 1 # 전역변수\n",
    "\n",
    "def func():\n",
    "    global a\n",
    "    a = 2 # 전역변수의 값을 변경\n",
    "    print(\"a = \", a)\n",
    "    \n",
    "func()\n",
    "\n",
    "print(\"a = \", a)"
   ]
  },
  {
   "cell_type": "code",
   "execution_count": 8,
   "id": "a17d0c05",
   "metadata": {
    "ExecuteTime": {
     "end_time": "2023-09-01T03:23:11.409978Z",
     "start_time": "2023-09-01T03:23:11.394951Z"
    }
   },
   "outputs": [
    {
     "ename": "SyntaxError",
     "evalue": "invalid syntax (Temp/ipykernel_2760/802451828.py, line 4)",
     "output_type": "error",
     "traceback": [
      "\u001b[1;36m  File \u001b[1;32m\"C:\\Users\\USER\\AppData\\Local\\Temp/ipykernel_2760/802451828.py\"\u001b[1;36m, line \u001b[1;32m4\u001b[0m\n\u001b[1;33m    global a = 2\u001b[0m\n\u001b[1;37m             ^\u001b[0m\n\u001b[1;31mSyntaxError\u001b[0m\u001b[1;31m:\u001b[0m invalid syntax\n"
     ]
    }
   ],
   "source": [
    "a = 1 # 전역변수\n",
    "\n",
    "def func():\n",
    "    global a = 2 # error, 전역변수는 반드시 선언하고 사용\n",
    "    #a = 2 # 전역변수의 값을 변경\n",
    "    print(\"a = \", a)\n",
    "    \n",
    "func()\n",
    "\n",
    "print(\"a = \", a)"
   ]
  },
  {
   "cell_type": "code",
   "execution_count": 9,
   "id": "257f883b",
   "metadata": {
    "ExecuteTime": {
     "end_time": "2023-09-01T03:24:58.902327Z",
     "start_time": "2023-09-01T03:24:58.887354Z"
    }
   },
   "outputs": [
    {
     "name": "stdout",
     "output_type": "stream",
     "text": [
      "10\n",
      "10\n"
     ]
    }
   ],
   "source": [
    "def func():\n",
    "    global b\n",
    "    b = 10\n",
    "    print(b)\n",
    "    \n",
    "func()\n",
    "print(b)"
   ]
  },
  {
   "cell_type": "markdown",
   "id": "89ca63a0",
   "metadata": {},
   "source": [
    "# 클로저(Closure)\n",
    "- 어떤 함수의 내부 함수가 외부 함수의 변수(프리변수)를 참조할 때, 외부함수가 종료된 후에더 내부 함수가 외부 함수의\n",
    "- 변수를 참조할 수 있도록 어딘가에 저장하는 함수\n",
    "- 조건\n",
    "  1. 반드시 어떤 함수의 내부에 있는 함수\n",
    "  2. 그 내부의 함수가 외부의 함수의 변수를 참조할 것\n",
    "  3. 외부 함수가 내부함수를 리턴할 것\n",
    "  \n",
    "- 프리변수(free variable) : 어떤 함수에서 사용되지만 그 함수 내부에서 선언되지 않은 변수를 의미한다."
   ]
  },
  {
   "cell_type": "code",
   "execution_count": 12,
   "id": "eff40154",
   "metadata": {
    "ExecuteTime": {
     "end_time": "2023-09-01T03:32:45.781314Z",
     "start_time": "2023-09-01T03:32:45.769278Z"
    }
   },
   "outputs": [],
   "source": [
    "def hello(name):\n",
    "    message = \"Hi, \" + name\n",
    "    \n",
    "    def say():\n",
    "        print(message)\n",
    "        \n",
    "    return say"
   ]
  },
  {
   "cell_type": "code",
   "execution_count": 13,
   "id": "d9db4e35",
   "metadata": {
    "ExecuteTime": {
     "end_time": "2023-09-01T03:32:48.302449Z",
     "start_time": "2023-09-01T03:32:48.291493Z"
    }
   },
   "outputs": [
    {
     "name": "stdout",
     "output_type": "stream",
     "text": [
      "Hi, 네네\n"
     ]
    }
   ],
   "source": [
    "f = hello('네네') # 클로저 생성, 객체복사\n",
    "f()"
   ]
  },
  {
   "cell_type": "code",
   "execution_count": null,
   "id": "291e55be",
   "metadata": {},
   "outputs": [],
   "source": []
  }
 ],
 "metadata": {
  "kernelspec": {
   "display_name": "Python 3 (ipykernel)",
   "language": "python",
   "name": "python3"
  },
  "language_info": {
   "codemirror_mode": {
    "name": "ipython",
    "version": 3
   },
   "file_extension": ".py",
   "mimetype": "text/x-python",
   "name": "python",
   "nbconvert_exporter": "python",
   "pygments_lexer": "ipython3",
   "version": "3.9.7"
  },
  "toc": {
   "base_numbering": 1,
   "nav_menu": {},
   "number_sections": true,
   "sideBar": true,
   "skip_h1_title": false,
   "title_cell": "Table of Contents",
   "title_sidebar": "Contents",
   "toc_cell": false,
   "toc_position": {
    "height": "calc(100% - 180px)",
    "left": "10px",
    "top": "150px",
    "width": "256px"
   },
   "toc_section_display": true,
   "toc_window_display": true
  },
  "varInspector": {
   "cols": {
    "lenName": 16,
    "lenType": 16,
    "lenVar": 40
   },
   "kernels_config": {
    "python": {
     "delete_cmd_postfix": "",
     "delete_cmd_prefix": "del ",
     "library": "var_list.py",
     "varRefreshCmd": "print(var_dic_list())"
    },
    "r": {
     "delete_cmd_postfix": ") ",
     "delete_cmd_prefix": "rm(",
     "library": "var_list.r",
     "varRefreshCmd": "cat(var_dic_list()) "
    }
   },
   "types_to_exclude": [
    "module",
    "function",
    "builtin_function_or_method",
    "instance",
    "_Feature"
   ],
   "window_display": false
  }
 },
 "nbformat": 4,
 "nbformat_minor": 5
}
