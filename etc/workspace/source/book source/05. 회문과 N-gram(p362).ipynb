{
 "cells": [
  {
   "cell_type": "markdown",
   "id": "b2ea159c",
   "metadata": {},
   "source": [
    "# 회문(Palindrome) \n",
    "- 순서를 바꿔도 제대로 읽은것과 같은 단어나 문장\n",
    "- ex: level, sos, ses, rotator, racecar\n",
    "- 주어진 문자열의 개숫가 짝수일때와 홀수일때 "
   ]
  },
  {
   "cell_type": "markdown",
   "id": "5d66cca3",
   "metadata": {},
   "source": [
    "## 반복문 활용"
   ]
  },
  {
   "cell_type": "code",
   "execution_count": 2,
   "id": "eac4ceaa",
   "metadata": {
    "ExecuteTime": {
     "end_time": "2023-08-31T05:08:08.430674Z",
     "start_time": "2023-08-31T05:08:08.420496Z"
    }
   },
   "outputs": [
    {
     "name": "stdout",
     "output_type": "stream",
     "text": [
      "level\n"
     ]
    }
   ],
   "source": [
    "# 입력 : level\n",
    "a = \"level\"\n",
    "\n",
    "print(a)"
   ]
  },
  {
   "cell_type": "code",
   "execution_count": 10,
   "id": "b2134c40",
   "metadata": {
    "ExecuteTime": {
     "end_time": "2023-08-31T05:11:58.493058Z",
     "start_time": "2023-08-31T05:11:58.482614Z"
    }
   },
   "outputs": [
    {
     "data": {
      "text/plain": [
       "'level'"
      ]
     },
     "execution_count": 10,
     "metadata": {},
     "output_type": "execute_result"
    }
   ],
   "source": [
    "a[-1::-1]"
   ]
  },
  {
   "cell_type": "code",
   "execution_count": 11,
   "id": "2c0f9dc2",
   "metadata": {
    "ExecuteTime": {
     "end_time": "2023-08-31T05:12:47.074529Z",
     "start_time": "2023-08-31T05:12:47.068567Z"
    }
   },
   "outputs": [
    {
     "data": {
      "text/plain": [
       "'level'"
      ]
     },
     "execution_count": 11,
     "metadata": {},
     "output_type": "execute_result"
    }
   ],
   "source": [
    "b = a[-5:]"
   ]
  },
  {
   "cell_type": "code",
   "execution_count": 14,
   "id": "44eaee6f",
   "metadata": {
    "ExecuteTime": {
     "end_time": "2023-08-31T05:35:16.167528Z",
     "start_time": "2023-08-31T05:35:12.273910Z"
    }
   },
   "outputs": [
    {
     "name": "stdout",
     "output_type": "stream",
     "text": [
      "단어를 입력하세요 : aaaaaa\n",
      "True\n"
     ]
    }
   ],
   "source": [
    "word = input(\"단어를 입력하세요 : \")\n",
    "\n",
    "# sw : 0과 1 or True와 False\n",
    "sw = True\n",
    "for i in range(len(word)//2):\n",
    "    if word[i] != word[-1-i]: # i = 0, 1\n",
    "        sw = False\n",
    "        break\n",
    "        \n",
    "print(sw)"
   ]
  },
  {
   "cell_type": "code",
   "execution_count": 17,
   "id": "468f45ad",
   "metadata": {
    "ExecuteTime": {
     "end_time": "2023-08-31T05:36:14.443893Z",
     "start_time": "2023-08-31T05:36:11.678254Z"
    }
   },
   "outputs": [
    {
     "name": "stdout",
     "output_type": "stream",
     "text": [
      "단어를 입력하세요 : banana\n",
      "False\n"
     ]
    }
   ],
   "source": [
    "word = input(\"단어를 입력하세요 : \")\n",
    "\n",
    "print(word == word[::-1])"
   ]
  },
  {
   "cell_type": "code",
   "execution_count": 18,
   "id": "aaa7d25c",
   "metadata": {
    "ExecuteTime": {
     "end_time": "2023-08-31T05:36:25.652895Z",
     "start_time": "2023-08-31T05:36:25.646925Z"
    }
   },
   "outputs": [
    {
     "data": {
      "text/plain": [
       "'ananab'"
      ]
     },
     "execution_count": 18,
     "metadata": {},
     "output_type": "execute_result"
    }
   ],
   "source": [
    "word[::-1]"
   ]
  },
  {
   "cell_type": "code",
   "execution_count": 21,
   "id": "5e5fa49c",
   "metadata": {
    "ExecuteTime": {
     "end_time": "2023-08-31T05:38:16.062308Z",
     "start_time": "2023-08-31T05:38:13.199221Z"
    }
   },
   "outputs": [
    {
     "name": "stdout",
     "output_type": "stream",
     "text": [
      "단어를 입력하세요 : korea\n",
      "False\n"
     ]
    }
   ],
   "source": [
    "word = input(\"단어를 입력하세요 : \")\n",
    "print(list(word) == list(reversed(word)))"
   ]
  },
  {
   "cell_type": "code",
   "execution_count": 28,
   "id": "c6aeccdb",
   "metadata": {
    "ExecuteTime": {
     "end_time": "2023-08-31T05:41:06.797183Z",
     "start_time": "2023-08-31T05:41:06.790223Z"
    }
   },
   "outputs": [
    {
     "data": {
      "text/plain": [
       "True"
      ]
     },
     "execution_count": 28,
     "metadata": {},
     "output_type": "execute_result"
    }
   ],
   "source": [
    "word = 'racecar'\n",
    "#print(''.join(reversed(word)))\n",
    "word == ''.join(reversed(word))"
   ]
  },
  {
   "cell_type": "markdown",
   "id": "3be5a095",
   "metadata": {},
   "source": [
    "# N-gram\n",
    "- 문자열을 n개의 연속된 개수로 추출\n",
    "- 예: korea : 2-gram : ko - or - re - ea\n",
    "- 0, 1 => 1, 2 => 2, 3 => 3, 4  "
   ]
  },
  {
   "cell_type": "code",
   "execution_count": 30,
   "id": "f9c7e813",
   "metadata": {
    "ExecuteTime": {
     "end_time": "2023-08-31T05:46:07.630997Z",
     "start_time": "2023-08-31T05:46:07.620025Z"
    }
   },
   "outputs": [
    {
     "name": "stdout",
     "output_type": "stream",
     "text": [
      "b  a\n",
      "a  n\n",
      "n  a\n",
      "a  n\n",
      "n  a\n"
     ]
    }
   ],
   "source": [
    "word = \"banana\"\n",
    "\n",
    "for i in range(len(word)-1):\n",
    "    print(word[i], word[i+1], sep=\"  \")"
   ]
  },
  {
   "cell_type": "code",
   "execution_count": 31,
   "id": "4cb30ed4",
   "metadata": {
    "ExecuteTime": {
     "end_time": "2023-08-31T05:50:01.289553Z",
     "start_time": "2023-08-31T05:50:01.274052Z"
    }
   },
   "outputs": [
    {
     "name": "stdout",
     "output_type": "stream",
     "text": [
      "w\to\tr\n",
      "o\tr\td\n",
      "r\td\tc\n",
      "d\tc\tu\n",
      "c\tu\tp\n"
     ]
    }
   ],
   "source": [
    "# wordcup : 7\n",
    "## wor - 012\n",
    "## ord - 123\n",
    "## rdc - 234\n",
    "## dcu - 345\n",
    "## cup - 456\n",
    "text = \"wordcup\"\n",
    "\n",
    "# 3-gram\n",
    "for i in range(len(text)-2):\n",
    "    print(text[i], text[i+1], text[i+2], sep='\\t')"
   ]
  },
  {
   "cell_type": "markdown",
   "id": "6aea8c91",
   "metadata": {},
   "source": [
    "## zip 함수"
   ]
  },
  {
   "cell_type": "code",
   "execution_count": 32,
   "id": "d3b4fc9a",
   "metadata": {
    "ExecuteTime": {
     "end_time": "2023-08-31T06:40:36.604757Z",
     "start_time": "2023-08-31T06:40:36.595778Z"
    }
   },
   "outputs": [
    {
     "data": {
      "text/plain": [
       "[(1, 'a'), (2, 'b'), (3, 'c')]"
      ]
     },
     "execution_count": 32,
     "metadata": {},
     "output_type": "execute_result"
    }
   ],
   "source": [
    "a = [1, 2, 3]\n",
    "b = ['a', 'b', 'c']\n",
    "\n",
    "c = list(zip(a, b))\n",
    "c"
   ]
  },
  {
   "cell_type": "code",
   "execution_count": 34,
   "id": "6dc69e3c",
   "metadata": {
    "ExecuteTime": {
     "end_time": "2023-08-31T06:49:36.766034Z",
     "start_time": "2023-08-31T06:49:36.761028Z"
    }
   },
   "outputs": [
    {
     "name": "stdout",
     "output_type": "stream",
     "text": [
      "p y\n",
      "y t\n",
      "t h\n",
      "h o\n",
      "o n\n"
     ]
    }
   ],
   "source": [
    "text = 'python'\n",
    "word = zip(text, text[1:])\n",
    "for i in word:\n",
    "    print(i[0], i[1])"
   ]
  },
  {
   "cell_type": "code",
   "execution_count": null,
   "id": "de08f027",
   "metadata": {},
   "outputs": [],
   "source": []
  }
 ],
 "metadata": {
  "kernelspec": {
   "display_name": "Python 3 (ipykernel)",
   "language": "python",
   "name": "python3"
  },
  "language_info": {
   "codemirror_mode": {
    "name": "ipython",
    "version": 3
   },
   "file_extension": ".py",
   "mimetype": "text/x-python",
   "name": "python",
   "nbconvert_exporter": "python",
   "pygments_lexer": "ipython3",
   "version": "3.9.7"
  },
  "toc": {
   "base_numbering": 1,
   "nav_menu": {},
   "number_sections": true,
   "sideBar": true,
   "skip_h1_title": false,
   "title_cell": "Table of Contents",
   "title_sidebar": "Contents",
   "toc_cell": false,
   "toc_position": {
    "height": "calc(100% - 180px)",
    "left": "10px",
    "top": "150px",
    "width": "256px"
   },
   "toc_section_display": true,
   "toc_window_display": true
  },
  "varInspector": {
   "cols": {
    "lenName": 16,
    "lenType": 16,
    "lenVar": 40
   },
   "kernels_config": {
    "python": {
     "delete_cmd_postfix": "",
     "delete_cmd_prefix": "del ",
     "library": "var_list.py",
     "varRefreshCmd": "print(var_dic_list())"
    },
    "r": {
     "delete_cmd_postfix": ") ",
     "delete_cmd_prefix": "rm(",
     "library": "var_list.r",
     "varRefreshCmd": "cat(var_dic_list()) "
    }
   },
   "types_to_exclude": [
    "module",
    "function",
    "builtin_function_or_method",
    "instance",
    "_Feature"
   ],
   "window_display": false
  }
 },
 "nbformat": 4,
 "nbformat_minor": 5
}
