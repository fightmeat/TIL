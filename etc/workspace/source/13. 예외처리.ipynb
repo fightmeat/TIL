{
 "cells": [
  {
   "cell_type": "markdown",
   "id": "f7c4519c",
   "metadata": {},
   "source": [
    "# 에러와 예외\n",
    "\n",
    "1. 에러(Syntax Error)<br>\n",
    "  - 문법적 에러<br>\n",
    "  - 파이썬은 상대적으로 언어적 문법이 간단하므로 구문 자체의 에러 발생 비율이 낮다<br>\n",
    "<br>\n",
    "2. 예외(Exception)<br>\n",
    "  - 구문 에러는 없으나 프로그램 실행 중 더 이상 진행할 수 없는 상황<br>\n",
    "  - 예외가 발생하면 프로그램은 바로 종료된다.<br>\n",
    "  - 개발자에 의해 임의로 또는 강제로 발생시키는 에러 : raise구문<br>\n",
    "<br>  \n",
    "3. 예외처리 방법<br>\n",
    "  try 구문 : 예외가 발생할 만한 문구를 기술<br>\n",
    "  except Exception : 예외가 발생했을 때 실행할 문장 기술<br>\n",
    "  else : 예외가 발생하지 않았을 때 실행할 문장 기술<br>\n",
    "  finally : 예외와 상관없이 실행할 문장을 기술<br>"
   ]
  },
  {
   "cell_type": "code",
   "execution_count": 1,
   "id": "05fa85cd",
   "metadata": {
    "ExecuteTime": {
     "end_time": "2023-08-29T00:15:11.243257Z",
     "start_time": "2023-08-29T00:15:11.117096Z"
    }
   },
   "outputs": [
    {
     "name": "stdout",
     "output_type": "stream",
     "text": [
      "start\n"
     ]
    },
    {
     "ename": "ZeroDivisionError",
     "evalue": "division by zero",
     "output_type": "error",
     "traceback": [
      "\u001b[1;31m---------------------------------------------------------------------------\u001b[0m",
      "\u001b[1;31mZeroDivisionError\u001b[0m                         Traceback (most recent call last)",
      "\u001b[1;32m~\\AppData\\Local\\Temp/ipykernel_6264/3414045133.py\u001b[0m in \u001b[0;36m<module>\u001b[1;34m\u001b[0m\n\u001b[0;32m      1\u001b[0m \u001b[1;31m# 일반적인 프로그램의 흐름은 위에서 아래로, 좌에서 우로 진행된다.\u001b[0m\u001b[1;33m\u001b[0m\u001b[1;33m\u001b[0m\u001b[0m\n\u001b[0;32m      2\u001b[0m \u001b[0mprint\u001b[0m\u001b[1;33m(\u001b[0m\u001b[1;34m\"start\"\u001b[0m\u001b[1;33m)\u001b[0m\u001b[1;33m\u001b[0m\u001b[1;33m\u001b[0m\u001b[0m\n\u001b[1;32m----> 3\u001b[1;33m \u001b[1;36m4\u001b[0m\u001b[1;33m/\u001b[0m\u001b[1;36m0\u001b[0m\u001b[1;33m\u001b[0m\u001b[1;33m\u001b[0m\u001b[0m\n\u001b[0m\u001b[0;32m      4\u001b[0m \u001b[0mprint\u001b[0m\u001b[1;33m(\u001b[0m\u001b[1;34m\"end\"\u001b[0m\u001b[1;33m)\u001b[0m\u001b[1;33m\u001b[0m\u001b[1;33m\u001b[0m\u001b[0m\n",
      "\u001b[1;31mZeroDivisionError\u001b[0m: division by zero"
     ]
    }
   ],
   "source": [
    "# 일반적인 프로그램의 흐름은 위에서 아래로, 좌에서 우로 진행된다.\n",
    "print(\"start\")\n",
    "4/0\n",
    "print(\"end\")"
   ]
  },
  {
   "cell_type": "markdown",
   "id": "498b09cc",
   "metadata": {},
   "source": [
    "- 파이썬 내장 예외의 종류\n",
    "https://docs.python.org/3/library/exceptions.html"
   ]
  },
  {
   "cell_type": "code",
   "execution_count": 4,
   "id": "35c06f66",
   "metadata": {
    "ExecuteTime": {
     "end_time": "2023-08-29T00:19:03.019388Z",
     "start_time": "2023-08-29T00:19:03.013388Z"
    }
   },
   "outputs": [
    {
     "name": "stdout",
     "output_type": "stream",
     "text": [
      "start\n",
      "에러메시지 :  division by zero\n",
      "0으로 나누니깐 그러지 바보야\n",
      "end\n"
     ]
    }
   ],
   "source": [
    "print(\"start\")\n",
    "\n",
    "try:\n",
    "    4/0\n",
    "    \n",
    "except ZeroDivisionError as e:\n",
    "    print(\"에러메시지 : \", e) # e.message\n",
    "    print(\"0으로 나누니깐 그러지 바보야\")\n",
    "    \n",
    "print(\"end\")"
   ]
  },
  {
   "cell_type": "code",
   "execution_count": 7,
   "id": "8d391ea9",
   "metadata": {
    "ExecuteTime": {
     "end_time": "2023-08-29T00:21:28.185054Z",
     "start_time": "2023-08-29T00:21:15.877867Z"
    }
   },
   "outputs": [
    {
     "name": "stdout",
     "output_type": "stream",
     "text": [
      "종료하려면 q를 입력하세요.\n",
      "\n",
      "분자 = 5\n",
      "분모 = a\n"
     ]
    },
    {
     "ename": "ValueError",
     "evalue": "invalid literal for int() with base 10: 'a'",
     "output_type": "error",
     "traceback": [
      "\u001b[1;31m---------------------------------------------------------------------------\u001b[0m",
      "\u001b[1;31mValueError\u001b[0m                                Traceback (most recent call last)",
      "\u001b[1;32m~\\AppData\\Local\\Temp/ipykernel_6264/2097508692.py\u001b[0m in \u001b[0;36m<module>\u001b[1;34m\u001b[0m\n\u001b[0;32m      7\u001b[0m     \u001b[0mnum2\u001b[0m \u001b[1;33m=\u001b[0m \u001b[0minput\u001b[0m\u001b[1;33m(\u001b[0m\u001b[1;34m\"분모 = \"\u001b[0m\u001b[1;33m)\u001b[0m\u001b[1;33m\u001b[0m\u001b[1;33m\u001b[0m\u001b[0m\n\u001b[0;32m      8\u001b[0m \u001b[1;33m\u001b[0m\u001b[0m\n\u001b[1;32m----> 9\u001b[1;33m     \u001b[0mresult\u001b[0m \u001b[1;33m=\u001b[0m \u001b[0mint\u001b[0m\u001b[1;33m(\u001b[0m\u001b[0mnum1\u001b[0m\u001b[1;33m)\u001b[0m \u001b[1;33m/\u001b[0m \u001b[0mint\u001b[0m\u001b[1;33m(\u001b[0m\u001b[0mnum2\u001b[0m\u001b[1;33m)\u001b[0m\u001b[1;33m\u001b[0m\u001b[1;33m\u001b[0m\u001b[0m\n\u001b[0m\u001b[0;32m     10\u001b[0m \u001b[1;33m\u001b[0m\u001b[0m\n\u001b[0;32m     11\u001b[0m     \u001b[0mprint\u001b[0m\u001b[1;33m(\u001b[0m\u001b[1;34mf\"{num1} / {num2} = {result}\"\u001b[0m\u001b[1;33m)\u001b[0m\u001b[1;33m\u001b[0m\u001b[1;33m\u001b[0m\u001b[0m\n",
      "\u001b[1;31mValueError\u001b[0m: invalid literal for int() with base 10: 'a'"
     ]
    }
   ],
   "source": [
    "print(\"종료하려면 q를 입력하세요.\")\n",
    "\n",
    "while True:\n",
    "    num1 = input(\"\\n분자 = \")\n",
    "    if num1 == \"q\":\n",
    "        break\n",
    "    num2 = input(\"분모 = \")\n",
    "    \n",
    "    result = int(num1) / int(num2)\n",
    "    \n",
    "    print(f\"{num1} / {num2} = {result}\")\n",
    "    \n",
    "print(\"프로그램을 종료합니다.\")"
   ]
  },
  {
   "cell_type": "code",
   "execution_count": 8,
   "id": "f920f352",
   "metadata": {
    "ExecuteTime": {
     "end_time": "2023-08-29T00:25:02.052995Z",
     "start_time": "2023-08-29T00:24:16.304699Z"
    }
   },
   "outputs": [
    {
     "name": "stdout",
     "output_type": "stream",
     "text": [
      "종료하려면 q를 입력하세요.\n",
      "\n",
      "분자 = 4\n",
      "분모 = 2\n",
      "4 / 2 = 2.0\n",
      "\n",
      "분자 = 10\n",
      "분모 = a\n",
      "나누기는 숫자로만 처리됩니다.\n",
      "오류메시지 :  invalid literal for int() with base 10: 'a'\n",
      "\n",
      "분자 = 3\n",
      "분모 = 2\n",
      "3 / 2 = 1.5\n",
      "\n",
      "분자 = 3\n",
      "분모 = 0\n",
      "분모에 0이 입력될 수 없습니다.\n",
      "오류메시지 :  division by zero\n",
      "\n",
      "분자 = q\n",
      "프로그램을 종료합니다.\n"
     ]
    }
   ],
   "source": [
    "print(\"종료하려면 q를 입력하세요.\")\n",
    "\n",
    "while True:\n",
    "    num1 = input(\"\\n분자 = \")\n",
    "    if num1 == \"q\":\n",
    "        break\n",
    "    num2 = input(\"분모 = \")\n",
    "    \n",
    "    try:\n",
    "        result = int(num1) / int(num2)    \n",
    "        print(f\"{num1} / {num2} = {result}\")\n",
    "    except ZeroDivisionError as e:\n",
    "        print(\"분모에 0이 입력될 수 없습니다.\")\n",
    "        print(\"오류메시지 : \", e)\n",
    "    except ValueError as e:\n",
    "        print(\"나누기는 숫자로만 처리됩니다.\")\n",
    "        print(\"오류메시지 : \", e)\n",
    "        \n",
    "print(\"프로그램을 종료합니다.\")"
   ]
  },
  {
   "cell_type": "code",
   "execution_count": 9,
   "id": "128819ea",
   "metadata": {
    "ExecuteTime": {
     "end_time": "2023-08-29T00:26:13.139257Z",
     "start_time": "2023-08-29T00:26:13.134271Z"
    }
   },
   "outputs": [],
   "source": [
    "def exception_test():\n",
    "    print(\"start\")\n",
    "    print(2 + \"2\")\n",
    "    print(\"end\")"
   ]
  },
  {
   "cell_type": "code",
   "execution_count": 10,
   "id": "52deed31",
   "metadata": {
    "ExecuteTime": {
     "end_time": "2023-08-29T00:26:19.322598Z",
     "start_time": "2023-08-29T00:26:19.306527Z"
    }
   },
   "outputs": [
    {
     "name": "stdout",
     "output_type": "stream",
     "text": [
      "start\n"
     ]
    },
    {
     "ename": "TypeError",
     "evalue": "unsupported operand type(s) for +: 'int' and 'str'",
     "output_type": "error",
     "traceback": [
      "\u001b[1;31m---------------------------------------------------------------------------\u001b[0m",
      "\u001b[1;31mTypeError\u001b[0m                                 Traceback (most recent call last)",
      "\u001b[1;32m~\\AppData\\Local\\Temp/ipykernel_6264/3072832011.py\u001b[0m in \u001b[0;36m<module>\u001b[1;34m\u001b[0m\n\u001b[1;32m----> 1\u001b[1;33m \u001b[0mexception_test\u001b[0m\u001b[1;33m(\u001b[0m\u001b[1;33m)\u001b[0m\u001b[1;33m\u001b[0m\u001b[1;33m\u001b[0m\u001b[0m\n\u001b[0m",
      "\u001b[1;32m~\\AppData\\Local\\Temp/ipykernel_6264/1709683941.py\u001b[0m in \u001b[0;36mexception_test\u001b[1;34m()\u001b[0m\n\u001b[0;32m      1\u001b[0m \u001b[1;32mdef\u001b[0m \u001b[0mexception_test\u001b[0m\u001b[1;33m(\u001b[0m\u001b[1;33m)\u001b[0m\u001b[1;33m:\u001b[0m\u001b[1;33m\u001b[0m\u001b[1;33m\u001b[0m\u001b[0m\n\u001b[0;32m      2\u001b[0m     \u001b[0mprint\u001b[0m\u001b[1;33m(\u001b[0m\u001b[1;34m\"start\"\u001b[0m\u001b[1;33m)\u001b[0m\u001b[1;33m\u001b[0m\u001b[1;33m\u001b[0m\u001b[0m\n\u001b[1;32m----> 3\u001b[1;33m     \u001b[0mprint\u001b[0m\u001b[1;33m(\u001b[0m\u001b[1;36m2\u001b[0m \u001b[1;33m+\u001b[0m \u001b[1;34m\"2\"\u001b[0m\u001b[1;33m)\u001b[0m\u001b[1;33m\u001b[0m\u001b[1;33m\u001b[0m\u001b[0m\n\u001b[0m\u001b[0;32m      4\u001b[0m     \u001b[0mprint\u001b[0m\u001b[1;33m(\u001b[0m\u001b[1;34m\"end\"\u001b[0m\u001b[1;33m)\u001b[0m\u001b[1;33m\u001b[0m\u001b[1;33m\u001b[0m\u001b[0m\n",
      "\u001b[1;31mTypeError\u001b[0m: unsupported operand type(s) for +: 'int' and 'str'"
     ]
    }
   ],
   "source": [
    "exception_test()"
   ]
  },
  {
   "cell_type": "code",
   "execution_count": 11,
   "id": "03d9c4c9",
   "metadata": {
    "ExecuteTime": {
     "end_time": "2023-08-29T00:27:04.148138Z",
     "start_time": "2023-08-29T00:27:04.136163Z"
    }
   },
   "outputs": [],
   "source": [
    "def exception_test():\n",
    "    print(\"start\")\n",
    "    try:\n",
    "        print(2 + \"2\")\n",
    "    except TypeError as e:\n",
    "        print(\"에러 : {}\".format(e))\n",
    "        print(\"자료형이 일치하지 않습니다.\")\n",
    "    print(\"end\")"
   ]
  },
  {
   "cell_type": "code",
   "execution_count": 12,
   "id": "b21fd5f0",
   "metadata": {
    "ExecuteTime": {
     "end_time": "2023-08-29T00:27:07.823753Z",
     "start_time": "2023-08-29T00:27:07.809774Z"
    }
   },
   "outputs": [
    {
     "name": "stdout",
     "output_type": "stream",
     "text": [
      "start\n",
      "에러 : unsupported operand type(s) for +: 'int' and 'str'\n",
      "자료형이 일치하지 않습니다.\n",
      "end\n"
     ]
    }
   ],
   "source": [
    "exception_test()"
   ]
  },
  {
   "cell_type": "code",
   "execution_count": null,
   "id": "b5cf6838",
   "metadata": {
    "ExecuteTime": {
     "end_time": "2023-08-29T00:09:47.552468Z",
     "start_time": "2023-08-29T00:09:47.543499Z"
    }
   },
   "outputs": [],
   "source": [
    "print(\"Hello Python\")"
   ]
  },
  {
   "cell_type": "code",
   "execution_count": 15,
   "id": "db1e7bd3",
   "metadata": {
    "ExecuteTime": {
     "end_time": "2023-08-29T00:37:06.135349Z",
     "start_time": "2023-08-29T00:37:06.122862Z"
    }
   },
   "outputs": [
    {
     "name": "stdout",
     "output_type": "stream",
     "text": [
      "에러메시지 :  [Errno 2] No such file or directory: 'test2.txt'\n",
      "해당 파일이 존재하지 않습니다.\n"
     ]
    }
   ],
   "source": [
    "# step1. 파일객체생성과 파일오픈\n",
    "## open(파일이름, 모드), 모드 - r, w, a\n",
    "try:\n",
    "    f = open(\"test2.txt\", \"r\")\n",
    "    \n",
    "except FileNotFoundError as e:\n",
    "    print(\"에러메시지 : \", e)\n",
    "    print(\"해당 파일이 존재하지 않습니다.\")\n",
    "\n",
    "else:\n",
    "    # step2. 실제처리할 작업을 기술(비즈니스 로직)\n",
    "    while True:\n",
    "        line = f.readline()\n",
    "        if not line:\n",
    "            break\n",
    "        print(line, end='')\n",
    "       \n",
    "\n",
    "    # step3. 파일객체 닫기\n",
    "    f.close()"
   ]
  },
  {
   "cell_type": "markdown",
   "id": "231d52e2",
   "metadata": {},
   "source": [
    "## 처리조건 : 계산기 프로그램\n",
    "1. 두 개의 숫자와 하나의 연산자를 입력받아 사칙연산을 수행하는 프로그램을 구현하시오.\n",
    "2. 연산자는 +, -, *, /만 입력되도록 한다. 단, 이외의 연산자가 들어오면 예외처리 문구를 기술한다.\n",
    "3. 연산자가 '/'이고, 두번째로 입력받은 숫자가 0이면 예외처리 문구를 기술한다.\n",
    "4. 계산을 수행할 값이 숫자가 아닌값이 들어오면 예외처리를 수행한다.\n",
    "5. 주어진 입출력형식에 맞게 프로그램을 구현한다.\n",
    "6. 사용자가 원하는 연산을 수행할 수 있도록 구현한다.\n",
    "7. 첫번째수로 q이 입력되면 프로그램을 종료한다.\n",
    "\n",
    "## 입출력형식\n",
    "첫번째수 =  \n",
    "연산자(+, -, *, /) =  \n",
    "두번째수 =  \n",
    "\n",
    "10 - 4 = 6\n"
   ]
  },
  {
   "cell_type": "code",
   "execution_count": null,
   "id": "3b948252",
   "metadata": {},
   "outputs": [],
   "source": []
  },
  {
   "cell_type": "code",
   "execution_count": null,
   "id": "7008527f",
   "metadata": {},
   "outputs": [],
   "source": []
  }
 ],
 "metadata": {
  "kernelspec": {
   "display_name": "Python 3 (ipykernel)",
   "language": "python",
   "name": "python3"
  },
  "language_info": {
   "codemirror_mode": {
    "name": "ipython",
    "version": 3
   },
   "file_extension": ".py",
   "mimetype": "text/x-python",
   "name": "python",
   "nbconvert_exporter": "python",
   "pygments_lexer": "ipython3",
   "version": "3.9.7"
  },
  "toc": {
   "base_numbering": 1,
   "nav_menu": {},
   "number_sections": true,
   "sideBar": true,
   "skip_h1_title": false,
   "title_cell": "Table of Contents",
   "title_sidebar": "Contents",
   "toc_cell": false,
   "toc_position": {
    "height": "calc(100% - 180px)",
    "left": "10px",
    "top": "150px",
    "width": "256px"
   },
   "toc_section_display": true,
   "toc_window_display": true
  },
  "varInspector": {
   "cols": {
    "lenName": 16,
    "lenType": 16,
    "lenVar": 40
   },
   "kernels_config": {
    "python": {
     "delete_cmd_postfix": "",
     "delete_cmd_prefix": "del ",
     "library": "var_list.py",
     "varRefreshCmd": "print(var_dic_list())"
    },
    "r": {
     "delete_cmd_postfix": ") ",
     "delete_cmd_prefix": "rm(",
     "library": "var_list.r",
     "varRefreshCmd": "cat(var_dic_list()) "
    }
   },
   "types_to_exclude": [
    "module",
    "function",
    "builtin_function_or_method",
    "instance",
    "_Feature"
   ],
   "window_display": false
  }
 },
 "nbformat": 4,
 "nbformat_minor": 5
}
