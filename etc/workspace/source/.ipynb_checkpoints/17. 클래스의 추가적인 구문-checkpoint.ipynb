{
 "cells": [
  {
   "cell_type": "markdown",
   "id": "470272a0",
   "metadata": {},
   "source": [
    "# isinstance(), 클래스 변수, 클래스 함수"
   ]
  },
  {
   "cell_type": "markdown",
   "id": "f2b92dc3",
   "metadata": {},
   "source": [
    "## 상속(Inheritance) : 부모클래스로부터 자녀클래스로 자원을 물려주는 것\n",
    "- 재활용을 극대화하는 목적으로 구현된다."
   ]
  },
  {
   "cell_type": "code",
   "execution_count": 1,
   "id": "8c83c8df",
   "metadata": {
    "ExecuteTime": {
     "end_time": "2023-08-30T00:09:46.404841Z",
     "start_time": "2023-08-30T00:09:46.400773Z"
    }
   },
   "outputs": [],
   "source": [
    "# isinstance() : 해당 객체가 어떤 클래스로부터 만들어졌는지 확인하는 메서드\n",
    "\n",
    "class Student:\n",
    "    def __init__(self):\n",
    "        pass"
   ]
  },
  {
   "cell_type": "code",
   "execution_count": 2,
   "id": "e4e9d056",
   "metadata": {
    "ExecuteTime": {
     "end_time": "2023-08-30T00:10:05.691322Z",
     "start_time": "2023-08-30T00:10:05.682289Z"
    }
   },
   "outputs": [],
   "source": [
    "student = Student()"
   ]
  },
  {
   "cell_type": "code",
   "execution_count": 3,
   "id": "74b43717",
   "metadata": {
    "ExecuteTime": {
     "end_time": "2023-08-30T00:11:13.577247Z",
     "start_time": "2023-08-30T00:11:13.562271Z"
    }
   },
   "outputs": [
    {
     "name": "stdout",
     "output_type": "stream",
     "text": [
      "isinstance(student, Student) :  True\n"
     ]
    }
   ],
   "source": [
    "print(\"isinstance(student, Student) : \", isinstance(student, Student))"
   ]
  },
  {
   "cell_type": "code",
   "execution_count": 4,
   "id": "38257f2d",
   "metadata": {
    "ExecuteTime": {
     "end_time": "2023-08-30T00:13:04.273255Z",
     "start_time": "2023-08-30T00:13:04.264246Z"
    }
   },
   "outputs": [],
   "source": [
    "class Student:\n",
    "    def study(self):\n",
    "        print(\"공부를 합니다.\")\n",
    "        \n",
    "class Teacher:\n",
    "    def teach(self):\n",
    "        print(\"학생을 가르칩니다.\")"
   ]
  },
  {
   "cell_type": "code",
   "execution_count": 5,
   "id": "a8baaa38",
   "metadata": {
    "ExecuteTime": {
     "end_time": "2023-08-30T00:14:47.951500Z",
     "start_time": "2023-08-30T00:14:47.938969Z"
    }
   },
   "outputs": [],
   "source": [
    "# 컨테이너 : 여러개의 데이터를 담는 자료구조, 리스트, 튜플, 사전, 집합...\n",
    "classroom = [Student(), Student(), Teacher(), Teacher(), Student(), Teacher()]"
   ]
  },
  {
   "cell_type": "code",
   "execution_count": 6,
   "id": "171c0e57",
   "metadata": {
    "ExecuteTime": {
     "end_time": "2023-08-30T00:18:08.012857Z",
     "start_time": "2023-08-30T00:18:08.002884Z"
    }
   },
   "outputs": [
    {
     "name": "stdout",
     "output_type": "stream",
     "text": [
      "공부를 합니다.\n",
      "공부를 합니다.\n",
      "학생을 가르칩니다.\n",
      "학생을 가르칩니다.\n",
      "공부를 합니다.\n",
      "학생을 가르칩니다.\n"
     ]
    }
   ],
   "source": [
    "# for 개별변수 in 집합변수:\n",
    "for obj in classroom:\n",
    "    if isinstance(obj, Student):\n",
    "        obj.study()\n",
    "    elif isinstance(obj, Teacher):\n",
    "        obj.teach()"
   ]
  },
  {
   "cell_type": "markdown",
   "id": "0836e9b5",
   "metadata": {},
   "source": [
    "## toString() : 문자열을 반환할 목적으로 구현하는 메서드 - 자바\n",
    "- __str()__\n",
    "- __init__() : 생성자 메서드\n",
    "- __del__() : 소멸자 메서드\n",
    "- 특수한 상황에 자동으로 호출되도록 만들어진 메서드"
   ]
  },
  {
   "cell_type": "code",
   "execution_count": 7,
   "id": "782e283d",
   "metadata": {
    "ExecuteTime": {
     "end_time": "2023-08-30T00:29:53.669321Z",
     "start_time": "2023-08-30T00:29:53.655366Z"
    }
   },
   "outputs": [],
   "source": [
    "class Student:\n",
    "    # 멤버 필드\n",
    "    \n",
    "    # 생성자 메서드\n",
    "    def __init__(self, name, kor, eng, math):\n",
    "        self.name = name\n",
    "        self.kor = kor\n",
    "        self.eng = eng\n",
    "        self.math = math\n",
    "    \n",
    "    # 멤버 메서드 : getter(get), setter(set)\n",
    "    ## 총점을 계산하여 반환하는 메서드\n",
    "    def get_sum(self):\n",
    "        return self.kor + self.eng + self.math\n",
    "    \n",
    "    ## 평균을 계산하여 반환하는 메서드\n",
    "    def get_average(self):\n",
    "        return self.get_sum() / 3\n",
    "    \n",
    "    ## 출력할 메서드\n",
    "    def disp(self):\n",
    "        return \"{}\\t{}\\t{}\".format(self.name, self.get_sum(), self.get_average())\n",
    "    \n",
    "    def __str__(self):\n",
    "        return \"{}\\t{}\\t{}\".format(self.name, self.get_sum(), self.get_average())\n",
    "    \n",
    "    # 소멸자 메서드\n",
    "    def __del__(self):\n",
    "        pass"
   ]
  },
  {
   "cell_type": "code",
   "execution_count": 9,
   "id": "1d096249",
   "metadata": {
    "ExecuteTime": {
     "end_time": "2023-08-30T00:35:22.420087Z",
     "start_time": "2023-08-30T00:35:22.410120Z"
    }
   },
   "outputs": [
    {
     "name": "stdout",
     "output_type": "stream",
     "text": [
      "이름\t총점\t평균\n",
      "aaa\t250\t83.33333333333333\n",
      "bbb\t276\t92.0\n",
      "ccc\t257\t85.66666666666667\n",
      "ddd\t256\t85.33333333333333\n",
      "eee\t248\t82.66666666666667\n"
     ]
    }
   ],
   "source": [
    "students = [\n",
    "    Student('aaa', 88, 97, 65), \n",
    "    Student('bbb', 92, 94, 90), \n",
    "    Student('ccc', 85, 88, 84), \n",
    "    Student('ddd', 79, 89, 88), \n",
    "    Student('eee', 80, 76, 92)\n",
    "]\n",
    "\n",
    "print(\"이름\", \"총점\", \"평균\", sep=\"\\t\")\n",
    "for student in students:\n",
    "    #print(student.disp())\n",
    "    print(str(student)) # student.__str__() 호출된다"
   ]
  },
  {
   "cell_type": "markdown",
   "id": "25aea38b",
   "metadata": {},
   "source": [
    "## 특수한 메서드\n",
    "- eq(=equal) : 같다\n",
    "- ne(not equal) : 다르다\n",
    "- gt(greater than) : 크다\n",
    "- ge(greater than equal) : 크거나 같다\n",
    "- lt(less than) : 작다\n",
    "- le(less than equal) : 작거나 같다"
   ]
  },
  {
   "cell_type": "code",
   "execution_count": 10,
   "id": "a1369e4c",
   "metadata": {
    "ExecuteTime": {
     "end_time": "2023-08-30T00:41:58.659826Z",
     "start_time": "2023-08-30T00:41:58.639862Z"
    }
   },
   "outputs": [],
   "source": [
    "class Student:\n",
    "    # 멤버 필드\n",
    "    \n",
    "    # 생성자 메서드\n",
    "    def __init__(self, name, kor, eng, math):\n",
    "        self.name = name\n",
    "        self.kor = kor\n",
    "        self.eng = eng\n",
    "        self.math = math\n",
    "    \n",
    "    # 멤버 메서드 : getter(get), setter(set)\n",
    "    ## 총점을 계산하여 반환하는 메서드\n",
    "    def get_sum(self):\n",
    "        return self.kor + self.eng + self.math\n",
    "    \n",
    "    ## 평균을 계산하여 반환하는 메서드\n",
    "    def get_average(self):\n",
    "        return self.get_sum() / 3\n",
    "    \n",
    "    def __str__(self):\n",
    "        return \"{}\\t{}\\t{}\".format(self.name, self.get_sum(), self.get_average())\n",
    "    \n",
    "    # 특수한 목적을 가지고 있는 메서드 : 매직메서드\n",
    "    def __eq__(self, value):\n",
    "        return self.get_sum() == value.get_sum()\n",
    "    \n",
    "    def __ne__(self, value):\n",
    "        return self.get_sum() != value.get_sum()\n",
    "    \n",
    "    def __gt__(self, value):\n",
    "        return self.get_sum() > value.get_sum()\n",
    "    \n",
    "    def __ge__(self, value):\n",
    "        return self.get_sum() >= value.get_sum()\n",
    "    \n",
    "    def __lt__(self, value):\n",
    "        return self.get_sum() < value.get_sum()\n",
    "    \n",
    "    def __le__(self, value):\n",
    "        return self.get_sum() <= value.get_sum()"
   ]
  },
  {
   "cell_type": "code",
   "execution_count": 11,
   "id": "6d57df0c",
   "metadata": {
    "ExecuteTime": {
     "end_time": "2023-08-30T00:43:26.558614Z",
     "start_time": "2023-08-30T00:43:26.544609Z"
    }
   },
   "outputs": [
    {
     "data": {
      "text/plain": [
       "False"
      ]
     },
     "execution_count": 11,
     "metadata": {},
     "output_type": "execute_result"
    }
   ],
   "source": [
    "stu_a = Student('aaa', 88, 97, 65) \n",
    "stu_b = Student('bbb', 92, 94, 90) \n",
    "\n",
    "stu_a == stu_b"
   ]
  },
  {
   "cell_type": "markdown",
   "id": "2e6a9168",
   "metadata": {},
   "source": [
    "## 클래스 변수와 클래스 메서드"
   ]
  },
  {
   "cell_type": "markdown",
   "id": "ffb1f453",
   "metadata": {
    "ExecuteTime": {
     "end_time": "2023-08-30T00:46:05.222718Z",
     "start_time": "2023-08-30T00:46:05.207720Z"
    }
   },
   "source": [
    "<code>\n",
    "class 클래스이름:\n",
    "    클래스변수 = 값\n",
    "    \n",
    "클래스이름.클래스변수\n",
    "</code>"
   ]
  },
  {
   "cell_type": "code",
   "execution_count": 13,
   "id": "aaa6daa1",
   "metadata": {
    "ExecuteTime": {
     "end_time": "2023-08-30T00:50:32.381884Z",
     "start_time": "2023-08-30T00:50:32.372927Z"
    }
   },
   "outputs": [],
   "source": [
    "class Student:\n",
    "    # 멤버 필드 : 클래스 변수\n",
    "    count = 0 # 학생수를 카운팅할 목적으로 사용\n",
    "    \n",
    "    # 생성자 메서드\n",
    "    def __init__(self, name, kor, eng, math):\n",
    "        self.name = name\n",
    "        self.kor = kor\n",
    "        self.eng = eng\n",
    "        self.math = math\n",
    "        \n",
    "        # 클래스 변수 설정\n",
    "        Student.count += 1\n",
    "        print(\"{}번째 학생이 생성되었습니다.\".format(Student.count))\n",
    "    \n",
    "    # 멤버 메서드 : getter(get), setter(set)\n",
    "    ## 총점을 계산하여 반환하는 메서드\n",
    "    def get_sum(self):\n",
    "        return self.kor + self.eng + self.math\n",
    "    \n",
    "    ## 평균을 계산하여 반환하는 메서드\n",
    "    def get_average(self):\n",
    "        return self.get_sum() / 3\n",
    "    \n",
    "    def __str__(self):\n",
    "        return \"{}\\t{}\\t{}\".format(self.name, self.get_sum(), self.get_average())    \n",
    "    "
   ]
  },
  {
   "cell_type": "code",
   "execution_count": 14,
   "id": "0ac4644d",
   "metadata": {
    "ExecuteTime": {
     "end_time": "2023-08-30T00:52:00.134341Z",
     "start_time": "2023-08-30T00:52:00.118691Z"
    }
   },
   "outputs": [
    {
     "name": "stdout",
     "output_type": "stream",
     "text": [
      "1번째 학생이 생성되었습니다.\n",
      "2번째 학생이 생성되었습니다.\n",
      "3번째 학생이 생성되었습니다.\n",
      "4번째 학생이 생성되었습니다.\n",
      "5번째 학생이 생성되었습니다.\n",
      "현재 생성된 총 학생수는 5명입니다.\n"
     ]
    }
   ],
   "source": [
    "students = [\n",
    "    Student('aaa', 88, 97, 65), \n",
    "    Student('bbb', 92, 94, 90), \n",
    "    Student('ccc', 85, 88, 84), \n",
    "    Student('ddd', 79, 89, 88), \n",
    "    Student('eee', 80, 76, 92)\n",
    "]\n",
    "\n",
    "print(\"현재 생성된 총 학생수는 {}명입니다.\".format(Student.count))"
   ]
  },
  {
   "cell_type": "markdown",
   "id": "7e7dc1e8",
   "metadata": {},
   "source": [
    "- 클래스 함수 : 클래스가 가진 함수\n",
    "- 데코레이터(decorator) : @classmethod\n",
    "- def 함수명(self):\n",
    "- def 함수명(cls):    "
   ]
  },
  {
   "cell_type": "code",
   "execution_count": 23,
   "id": "fdceb214",
   "metadata": {
    "ExecuteTime": {
     "end_time": "2023-08-30T01:18:24.120520Z",
     "start_time": "2023-08-30T01:18:24.113451Z"
    }
   },
   "outputs": [],
   "source": [
    "class Student:\n",
    "    # 멤버 필드 : 클래스 변수\n",
    "    count = 0 # 학생수를 카운팅할 목적으로 사용\n",
    "    students = []\n",
    "    \n",
    "    # 클래스 함수\n",
    "    @classmethod\n",
    "    def print(cls):\n",
    "        print(\"------- 학생목록 출력 -------\")\n",
    "        print(\"이름\", \"총점\", \"평균\", sep=\"\\t\")\n",
    "        for student in cls.students:\n",
    "            print(str(student)) \n",
    "        print(\"------- ----------- -------\")\n",
    "        \n",
    "    # 생성자 메서드\n",
    "    def __init__(self, name, kor, eng, math):\n",
    "        self.name = name\n",
    "        self.kor = kor\n",
    "        self.eng = eng\n",
    "        self.math = math  \n",
    "        \n",
    "        Student.students.append(self)\n",
    "        \n",
    "    # 멤버 메서드 : getter(get), setter(set)\n",
    "    ## 총점을 계산하여 반환하는 메서드\n",
    "    def get_sum(self):\n",
    "        return self.kor + self.eng + self.math\n",
    "    \n",
    "    ## 평균을 계산하여 반환하는 메서드\n",
    "    def get_average(self):\n",
    "        return self.get_sum() / 3\n",
    "    \n",
    "    def __str__(self):\n",
    "        return \"{}\\t{}\\t{}\".format(self.name, self.get_sum(), self.get_average())    \n",
    "    \n"
   ]
  },
  {
   "cell_type": "code",
   "execution_count": 24,
   "id": "6053dfb3",
   "metadata": {
    "ExecuteTime": {
     "end_time": "2023-08-30T01:18:24.974503Z",
     "start_time": "2023-08-30T01:18:24.961525Z"
    }
   },
   "outputs": [
    {
     "name": "stdout",
     "output_type": "stream",
     "text": [
      "------- 학생목록 출력 -------\n",
      "이름\t총점\t평균\n",
      "aaa\t250\t83.33333333333333\n",
      "bbb\t276\t92.0\n",
      "ccc\t257\t85.66666666666667\n",
      "ddd\t256\t85.33333333333333\n",
      "eee\t248\t82.66666666666667\n",
      "------- ----------- -------\n"
     ]
    }
   ],
   "source": [
    "# 학생 리스트 선언\n",
    "Student('aaa', 88, 97, 65) \n",
    "Student('bbb', 92, 94, 90) \n",
    "Student('ccc', 85, 88, 84) \n",
    "Student('ddd', 79, 89, 88) \n",
    "Student('eee', 80, 76, 92)    \n",
    "\n",
    "# 현재 생성된 학생 출력\n",
    "Student.print()"
   ]
  },
  {
   "cell_type": "markdown",
   "id": "9de86c5c",
   "metadata": {},
   "source": [
    "# 프라이빗 변수와 getter/setter 메서드"
   ]
  },
  {
   "cell_type": "code",
   "execution_count": 34,
   "id": "892b038d",
   "metadata": {
    "ExecuteTime": {
     "end_time": "2023-08-30T01:33:49.720947Z",
     "start_time": "2023-08-30T01:33:49.712960Z"
    }
   },
   "outputs": [],
   "source": [
    "# 모듈\n",
    "import math\n",
    "\n",
    "# 원을 추상화하는 클래스\n",
    "class Circle:\n",
    "    def __init__(self, radius):\n",
    "        self.__radius = radius\n",
    "        \n",
    "    def get_area(self):\n",
    "        return math.pi * (self.__radius ** 2)\n",
    "    \n",
    "    def get_side(self):\n",
    "        return 2 * math.pi * self.__radius\n",
    "    \n",
    "    # getter/setter : private한 변수에 접근을 하기 위한 목적으로 구현하는 메서드\n",
    "    @property\n",
    "    def get_radius(self):\n",
    "        return self.__radius\n",
    "    \n",
    "    @property\n",
    "    def set_radius(self, radius):\n",
    "        self.__radius = radius"
   ]
  },
  {
   "cell_type": "code",
   "execution_count": 35,
   "id": "2f9fec26",
   "metadata": {
    "ExecuteTime": {
     "end_time": "2023-08-30T01:33:52.483601Z",
     "start_time": "2023-08-30T01:33:52.464541Z"
    }
   },
   "outputs": [
    {
     "name": "stdout",
     "output_type": "stream",
     "text": [
      "원의 둘레 :  62.83185307179586\n",
      "원의 면적 :  314.1592653589793\n"
     ]
    },
    {
     "ename": "AttributeError",
     "evalue": "'Circle' object has no attribute '__radius'",
     "output_type": "error",
     "traceback": [
      "\u001b[1;31m---------------------------------------------------------------------------\u001b[0m",
      "\u001b[1;31mAttributeError\u001b[0m                            Traceback (most recent call last)",
      "\u001b[1;32m~\\AppData\\Local\\Temp/ipykernel_11460/373918360.py\u001b[0m in \u001b[0;36m<module>\u001b[1;34m\u001b[0m\n\u001b[0;32m      2\u001b[0m \u001b[0mprint\u001b[0m\u001b[1;33m(\u001b[0m\u001b[1;34m\"원의 둘레 : \"\u001b[0m\u001b[1;33m,\u001b[0m \u001b[0map\u001b[0m\u001b[1;33m.\u001b[0m\u001b[0mget_side\u001b[0m\u001b[1;33m(\u001b[0m\u001b[1;33m)\u001b[0m\u001b[1;33m)\u001b[0m\u001b[1;33m\u001b[0m\u001b[1;33m\u001b[0m\u001b[0m\n\u001b[0;32m      3\u001b[0m \u001b[0mprint\u001b[0m\u001b[1;33m(\u001b[0m\u001b[1;34m\"원의 면적 : \"\u001b[0m\u001b[1;33m,\u001b[0m \u001b[0map\u001b[0m\u001b[1;33m.\u001b[0m\u001b[0mget_area\u001b[0m\u001b[1;33m(\u001b[0m\u001b[1;33m)\u001b[0m\u001b[1;33m)\u001b[0m\u001b[1;33m\u001b[0m\u001b[1;33m\u001b[0m\u001b[0m\n\u001b[1;32m----> 4\u001b[1;33m \u001b[0mprint\u001b[0m\u001b[1;33m(\u001b[0m\u001b[1;34m\"반지름 : \"\u001b[0m \u001b[1;33m,\u001b[0m \u001b[0map\u001b[0m\u001b[1;33m.\u001b[0m\u001b[0m__radius\u001b[0m\u001b[1;33m)\u001b[0m\u001b[1;33m\u001b[0m\u001b[1;33m\u001b[0m\u001b[0m\n\u001b[0m",
      "\u001b[1;31mAttributeError\u001b[0m: 'Circle' object has no attribute '__radius'"
     ]
    }
   ],
   "source": [
    "ap = Circle(10)\n",
    "print(\"원의 둘레 : \", ap.get_side())\n",
    "print(\"원의 면적 : \", ap.get_area())\n",
    "print(\"반지름 : \" , ap.__radius)"
   ]
  },
  {
   "cell_type": "code",
   "execution_count": 36,
   "id": "38406002",
   "metadata": {
    "ExecuteTime": {
     "end_time": "2023-08-30T01:33:55.513347Z",
     "start_time": "2023-08-30T01:33:55.506378Z"
    }
   },
   "outputs": [
    {
     "name": "stdout",
     "output_type": "stream",
     "text": [
      "반지름 :  10\n"
     ]
    }
   ],
   "source": [
    "print(\"반지름 : \" , ap.get_radius())"
   ]
  },
  {
   "cell_type": "code",
   "execution_count": 37,
   "id": "310892ee",
   "metadata": {
    "ExecuteTime": {
     "end_time": "2023-08-30T01:34:16.635808Z",
     "start_time": "2023-08-30T01:34:16.629836Z"
    }
   },
   "outputs": [
    {
     "name": "stdout",
     "output_type": "stream",
     "text": [
      "반지름 :  10\n"
     ]
    }
   ],
   "source": [
    "ap.__radius = 5\n",
    "print(\"반지름 : \" , ap.get_radius())"
   ]
  },
  {
   "cell_type": "code",
   "execution_count": 38,
   "id": "d64c0d03",
   "metadata": {
    "ExecuteTime": {
     "end_time": "2023-08-30T01:34:42.534648Z",
     "start_time": "2023-08-30T01:34:42.523680Z"
    }
   },
   "outputs": [
    {
     "name": "stdout",
     "output_type": "stream",
     "text": [
      "반지름 :  5\n"
     ]
    }
   ],
   "source": [
    "ap.set_radius(5)\n",
    "print(\"반지름 : \" , ap.get_radius())"
   ]
  },
  {
   "cell_type": "code",
   "execution_count": null,
   "id": "fade30e0",
   "metadata": {},
   "outputs": [],
   "source": []
  }
 ],
 "metadata": {
  "kernelspec": {
   "display_name": "Python 3 (ipykernel)",
   "language": "python",
   "name": "python3"
  },
  "language_info": {
   "codemirror_mode": {
    "name": "ipython",
    "version": 3
   },
   "file_extension": ".py",
   "mimetype": "text/x-python",
   "name": "python",
   "nbconvert_exporter": "python",
   "pygments_lexer": "ipython3",
   "version": "3.9.7"
  },
  "toc": {
   "base_numbering": 1,
   "nav_menu": {},
   "number_sections": true,
   "sideBar": true,
   "skip_h1_title": false,
   "title_cell": "Table of Contents",
   "title_sidebar": "Contents",
   "toc_cell": false,
   "toc_position": {
    "height": "calc(100% - 180px)",
    "left": "10px",
    "top": "150px",
    "width": "256px"
   },
   "toc_section_display": true,
   "toc_window_display": true
  },
  "varInspector": {
   "cols": {
    "lenName": 16,
    "lenType": 16,
    "lenVar": 40
   },
   "kernels_config": {
    "python": {
     "delete_cmd_postfix": "",
     "delete_cmd_prefix": "del ",
     "library": "var_list.py",
     "varRefreshCmd": "print(var_dic_list())"
    },
    "r": {
     "delete_cmd_postfix": ") ",
     "delete_cmd_prefix": "rm(",
     "library": "var_list.r",
     "varRefreshCmd": "cat(var_dic_list()) "
    }
   },
   "types_to_exclude": [
    "module",
    "function",
    "builtin_function_or_method",
    "instance",
    "_Feature"
   ],
   "window_display": false
  }
 },
 "nbformat": 4,
 "nbformat_minor": 5
}
