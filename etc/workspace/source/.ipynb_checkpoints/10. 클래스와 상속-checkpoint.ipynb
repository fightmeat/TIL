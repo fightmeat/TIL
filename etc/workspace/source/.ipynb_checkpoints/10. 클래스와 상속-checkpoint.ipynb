{
 "cells": [
  {
   "cell_type": "markdown",
   "id": "199829f2",
   "metadata": {},
   "source": [
    "# 클래스"
   ]
  },
  {
   "cell_type": "code",
   "execution_count": 1,
   "id": "5b105303",
   "metadata": {
    "ExecuteTime": {
     "end_time": "2023-08-28T00:13:49.631013Z",
     "start_time": "2023-08-28T00:13:49.626674Z"
    }
   },
   "outputs": [],
   "source": [
    "# 사람 객체를 추상화할 목적으로 구현된 클래스\n",
    "class Person:\n",
    "    # 멤버 필드 : 변수, 인스턴스 변수(개별적인), 클래스 변수(공유목적)\n",
    "    ## self : 인스턴스 자신의 주소값을 가르키는 키워드, 자기 자신, this\n",
    "    ## super : 부모객체를 가르키는 키워드\n",
    "    \n",
    "    # 생성자 메서드 : 인스턴스 객체 생성시 자동으로 호출되는 메서드, 생략가능\n",
    "    ## 멤버 필드를 초기화할 목적, 객체가 생성될 때 처음으로 해야할 작업을 기술\n",
    "    def __init__(self):\n",
    "        print(\"객체 생성\")\n",
    "    \n",
    "    # 멤버 메서드 : 함수, 행위나 동작등을 기술할 때 사용\n",
    "    def walk(self):\n",
    "        print(\"사람이 걸어갑니다.\")\n",
    "        \n",
    "    def run(self):\n",
    "        print(\"사람이 달려갑니다.\")\n",
    "    \n",
    "    # 소멸자 메서드 : 객체가 소멸될 때 자동으로 호출되는 메서드, 생략가능\n",
    "    def __del__(self):\n",
    "        print(\"객체 소멸\")"
   ]
  },
  {
   "cell_type": "markdown",
   "id": "90dcff37",
   "metadata": {},
   "source": [
    "## 인스턴스 객체 생성"
   ]
  },
  {
   "cell_type": "code",
   "execution_count": 2,
   "id": "3b82d977",
   "metadata": {
    "ExecuteTime": {
     "end_time": "2023-08-28T00:16:25.120883Z",
     "start_time": "2023-08-28T00:16:25.107883Z"
    }
   },
   "outputs": [
    {
     "name": "stdout",
     "output_type": "stream",
     "text": [
      "객체 생성\n",
      "사람이 걸어갑니다.\n",
      "사람이 달려갑니다.\n"
     ]
    }
   ],
   "source": [
    "p = Person() # default 생성자 \n",
    "p.walk()\n",
    "p.run()"
   ]
  },
  {
   "cell_type": "code",
   "execution_count": 3,
   "id": "a892a7ab",
   "metadata": {
    "ExecuteTime": {
     "end_time": "2023-08-28T00:17:04.361495Z",
     "start_time": "2023-08-28T00:17:04.349494Z"
    }
   },
   "outputs": [
    {
     "name": "stdout",
     "output_type": "stream",
     "text": [
      "객체 생성\n",
      "사람이 걸어갑니다.\n",
      "사람이 달려갑니다.\n"
     ]
    }
   ],
   "source": [
    "p1 = Person()\n",
    "p1.walk()\n",
    "p1.run()"
   ]
  },
  {
   "cell_type": "markdown",
   "id": "bbd73cd7",
   "metadata": {},
   "source": [
    "## Member Field "
   ]
  },
  {
   "cell_type": "code",
   "execution_count": 10,
   "id": "a8213e98",
   "metadata": {
    "ExecuteTime": {
     "end_time": "2023-08-28T00:25:08.467080Z",
     "start_time": "2023-08-28T00:25:08.458113Z"
    }
   },
   "outputs": [],
   "source": [
    "# 사람 객체를 추상화할 목적으로 구현된 클래스\n",
    "class Person:\n",
    "    # 멤버 필드 : 변수, 인스턴스 변수(개별적인), 클래스 변수(공유목적)\n",
    "    ## self : 인스턴스 자신의 주소값을 가르키는 키워드, 자기 자신, this\n",
    "    ## super : 부모객체를 가르키는 키워드\n",
    "     #name = \"\"\n",
    "    \n",
    "    # 생성자 메서드 : 인스턴스 객체 생성시 자동으로 호출되는 메서드, 생략가능\n",
    "    ## 멤버 필드를 초기화할 목적, 객체가 생성될 때 처음으로 해야할 작업을 기술\n",
    "    def __init__(self):\n",
    "        print(\"객체 생성\")\n",
    "    \n",
    "    # 멤버 메서드 : 함수, 행위나 동작등을 기술할 때 사용\n",
    "    def walk(self):\n",
    "        print(self.name + \"이 걸어갑니다.\")\n",
    "        \n",
    "    def run(self):\n",
    "        print(self.name + \"이 달려갑니다.\")\n",
    "    \n",
    "    # 소멸자 메서드 : 객체가 소멸될 때 자동으로 호출되는 메서드, 생략가능\n",
    "    def __del__(self):\n",
    "        print(\"객체 소멸\")"
   ]
  },
  {
   "cell_type": "code",
   "execution_count": 11,
   "id": "656d01a1",
   "metadata": {
    "ExecuteTime": {
     "end_time": "2023-08-28T00:25:11.803897Z",
     "start_time": "2023-08-28T00:25:11.792924Z"
    }
   },
   "outputs": [
    {
     "name": "stdout",
     "output_type": "stream",
     "text": [
      "객체 생성\n",
      "객체 소멸\n",
      "홍길동이 걸어갑니다.\n",
      "홍길동이 달려갑니다.\n"
     ]
    }
   ],
   "source": [
    "p2 = Person()\n",
    "# 멤버 필드를 초기화시켜야 한다.\n",
    "p2.name = \"홍길동\"\n",
    "p2.walk()\n",
    "p2.run()"
   ]
  },
  {
   "cell_type": "code",
   "execution_count": 12,
   "id": "4f1a4f43",
   "metadata": {
    "ExecuteTime": {
     "end_time": "2023-08-28T00:26:22.799597Z",
     "start_time": "2023-08-28T00:26:22.783994Z"
    }
   },
   "outputs": [
    {
     "name": "stdout",
     "output_type": "stream",
     "text": [
      "객체 생성\n",
      "장보고이 걸어갑니다.\n",
      "장보고이 달려갑니다.\n"
     ]
    }
   ],
   "source": [
    "p3 = Person()\n",
    "# 멤버 필드 초기화 작업\n",
    "p3.name = \"장보고\"\n",
    "p3.walk()\n",
    "p3.run()"
   ]
  },
  {
   "cell_type": "markdown",
   "id": "05f62cf2",
   "metadata": {},
   "source": [
    "## 생성자 메서드"
   ]
  },
  {
   "cell_type": "code",
   "execution_count": 13,
   "id": "f0c37035",
   "metadata": {
    "ExecuteTime": {
     "end_time": "2023-08-28T00:28:19.648997Z",
     "start_time": "2023-08-28T00:28:19.636078Z"
    }
   },
   "outputs": [],
   "source": [
    "# 사람 객체를 추상화할 목적으로 구현된 클래스\n",
    "class Person:\n",
    "    # 멤버 필드 : 변수, 인스턴스 변수(개별적인), 클래스 변수(공유목적)\n",
    "    ## self : 인스턴스 자신의 주소값을 가르키는 키워드, 자기 자신, this\n",
    "    ## super : 부모객체를 가르키는 키워드\n",
    "     #name = \"\"\n",
    "    \n",
    "    # 생성자 메서드 : 인스턴스 객체 생성시 자동으로 호출되는 메서드, 생략가능\n",
    "    ## 멤버 필드를 초기화할 목적, 객체가 생성될 때 처음으로 해야할 작업을 기술\n",
    "    def __init__(self, name):\n",
    "        print(\"객체 생성\")\n",
    "        self.name = name\n",
    "    \n",
    "    # 멤버 메서드 : 함수, 행위나 동작등을 기술할 때 사용\n",
    "    def walk(self):\n",
    "        print(self.name + \"이 걸어갑니다.\")\n",
    "        \n",
    "    def run(self):\n",
    "        print(self.name + \"이 달려갑니다.\")\n",
    "    \n",
    "    # 소멸자 메서드 : 객체가 소멸될 때 자동으로 호출되는 메서드, 생략가능\n",
    "    def __del__(self):\n",
    "        print(\"객체 소멸\")"
   ]
  },
  {
   "cell_type": "code",
   "execution_count": 14,
   "id": "f3b7aa67",
   "metadata": {
    "ExecuteTime": {
     "end_time": "2023-08-28T00:29:25.423671Z",
     "start_time": "2023-08-28T00:29:25.410092Z"
    }
   },
   "outputs": [
    {
     "name": "stdout",
     "output_type": "stream",
     "text": [
      "객체 생성\n",
      "이순신이 걸어갑니다.\n",
      "이순신이 달려갑니다.\n"
     ]
    }
   ],
   "source": [
    "p4 = Person(\"이순신\")\n",
    "p4.walk()\n",
    "p4.run()"
   ]
  },
  {
   "cell_type": "markdown",
   "id": "44fa21a3",
   "metadata": {},
   "source": [
    "## Person 객체가 생성될 때 해당 클래스로 만든 객체의 수를 카운트하는 값"
   ]
  },
  {
   "cell_type": "code",
   "execution_count": 20,
   "id": "5973b01b",
   "metadata": {
    "ExecuteTime": {
     "end_time": "2023-08-28T00:38:17.871147Z",
     "start_time": "2023-08-28T00:38:17.860148Z"
    }
   },
   "outputs": [],
   "source": [
    "# 사람 객체를 추상화할 목적으로 구현된 클래스\n",
    "class Person:\n",
    "    # 멤버 필드 : 변수, 인스턴스 변수(개별적인), 클래스 변수(공유목적)\n",
    "    ## self : 인스턴스 자신의 주소값을 가르키는 키워드, 자기 자신, this\n",
    "    ## super : 부모객체를 가르키는 키워드\n",
    "     #name = \"\"\n",
    "    count = 0 # 객체가 생성될 때 마다 1씩 증가하는 누적변수\n",
    "    \n",
    "    # 생성자 메서드 : 인스턴스 객체 생성시 자동으로 호출되는 메서드, 생략가능\n",
    "    ## 멤버 필드를 초기화할 목적, 객체가 생성될 때 처음으로 해야할 작업을 기술\n",
    "    def __init__(self, name):\n",
    "        print(\"객체 생성\")\n",
    "        self.name = name\n",
    "        Person.count += 1  # self.count = self.count + self.count\n",
    "    \n",
    "    # 멤버 메서드 : 함수, 행위나 동작등을 기술할 때 사용\n",
    "    def walk(self):\n",
    "        print(self.name + \"이 걸어갑니다.\")\n",
    "        \n",
    "    def run(self):\n",
    "        print(self.name + \"이 달려갑니다.\")\n",
    "        \n",
    "    def show(self):\n",
    "        print(\"생성된 객체수 : \", Person.count)\n",
    "    \n",
    "    # 소멸자 메서드 : 객체가 소멸될 때 자동으로 호출되는 메서드, 생략가능\n",
    "    def __del__(self):\n",
    "        print(\"객체 소멸\")"
   ]
  },
  {
   "cell_type": "code",
   "execution_count": 21,
   "id": "98bfd978",
   "metadata": {
    "ExecuteTime": {
     "end_time": "2023-08-28T00:38:19.977197Z",
     "start_time": "2023-08-28T00:38:19.972173Z"
    }
   },
   "outputs": [
    {
     "name": "stdout",
     "output_type": "stream",
     "text": [
      "객체 생성\n",
      "객체 소멸\n",
      "생성된 객체수 :  1\n"
     ]
    }
   ],
   "source": [
    "p1 = Person(\"aaa\")\n",
    "p1.show()"
   ]
  },
  {
   "cell_type": "code",
   "execution_count": 22,
   "id": "685bd3a3",
   "metadata": {
    "ExecuteTime": {
     "end_time": "2023-08-28T00:38:23.688271Z",
     "start_time": "2023-08-28T00:38:23.679298Z"
    }
   },
   "outputs": [
    {
     "name": "stdout",
     "output_type": "stream",
     "text": [
      "객체 생성\n",
      "객체 소멸\n",
      "객체 생성\n",
      "객체 소멸\n",
      "생성된 객체수 :  3\n"
     ]
    }
   ],
   "source": [
    "p1 = Person(\"aaa\")\n",
    "p2 = Person(\"bbb\")\n",
    "p1.show()"
   ]
  },
  {
   "cell_type": "markdown",
   "id": "0ad68052",
   "metadata": {},
   "source": [
    "## 클래스 변수 : 모든 인스턴스가 공유할 목적으로 구현하는 변수"
   ]
  },
  {
   "cell_type": "code",
   "execution_count": 23,
   "id": "fbdc8eb2",
   "metadata": {
    "ExecuteTime": {
     "end_time": "2023-08-28T00:43:47.551850Z",
     "start_time": "2023-08-28T00:43:47.542810Z"
    }
   },
   "outputs": [],
   "source": [
    "class Person:\n",
    "    # 멤버 필드 = 프로퍼티(Prtperity)\n",
    "    name = \"kim\"\n",
    "    age = 20\n",
    "    height = 180.5\n",
    "    \n",
    "    # 멤버 메서드\n",
    "    def disp(self):   \n",
    "        ## self.변수 : 인스턴스 변수 - 개별적인 값\n",
    "        print(\"이름 : \", self.name)\n",
    "        print(\"나이 : \", self.age)\n",
    "        print(\"신장 : \", self.height)\n",
    "        print(\"-\" * 50)\n",
    "        ## class명.변수 : 클래스 변수 - 공통적인 값\n",
    "        print(\"이름 : \", Person.name)\n",
    "        print(\"나이 : \", Person.age)\n",
    "        print(\"신장 : \", Person.height)"
   ]
  },
  {
   "cell_type": "code",
   "execution_count": 24,
   "id": "79ff09c4",
   "metadata": {
    "ExecuteTime": {
     "end_time": "2023-08-28T00:44:29.870029Z",
     "start_time": "2023-08-28T00:44:29.864069Z"
    }
   },
   "outputs": [
    {
     "name": "stdout",
     "output_type": "stream",
     "text": [
      "객체 소멸\n",
      "이름 :  kim\n",
      "나이 :  20\n",
      "신장 :  180.5\n",
      "--------------------------------------------------\n",
      "이름 :  kim\n",
      "나이 :  20\n",
      "신장 :  180.5\n"
     ]
    }
   ],
   "source": [
    "p1 = Person()\n",
    "p1.disp()"
   ]
  },
  {
   "cell_type": "code",
   "execution_count": 25,
   "id": "8260194a",
   "metadata": {
    "ExecuteTime": {
     "end_time": "2023-08-28T00:45:36.402322Z",
     "start_time": "2023-08-28T00:45:36.383357Z"
    }
   },
   "outputs": [
    {
     "name": "stdout",
     "output_type": "stream",
     "text": [
      "객체 소멸\n",
      "이름 :  park\n",
      "나이 :  15\n",
      "신장 :  160.3\n",
      "--------------------------------------------------\n",
      "이름 :  kim\n",
      "나이 :  20\n",
      "신장 :  180.5\n"
     ]
    }
   ],
   "source": [
    "p2 = Person()\n",
    "p2.name = \"park\"\n",
    "p2.age = 15\n",
    "p2.height = 160.3\n",
    "p2.disp()"
   ]
  },
  {
   "cell_type": "code",
   "execution_count": 26,
   "id": "257f0456",
   "metadata": {
    "ExecuteTime": {
     "end_time": "2023-08-28T00:46:42.223393Z",
     "start_time": "2023-08-28T00:46:42.206397Z"
    }
   },
   "outputs": [
    {
     "name": "stdout",
     "output_type": "stream",
     "text": [
      "객체 소멸\n",
      "이름 :  park\n",
      "나이 :  15\n",
      "신장 :  160.3\n",
      "--------------------------------------------------\n",
      "이름 :  kim\n",
      "나이 :  20\n",
      "신장 :  180.5\n"
     ]
    }
   ],
   "source": [
    "p3 = p2 # 객체 복사\n",
    "p3.disp()"
   ]
  },
  {
   "cell_type": "code",
   "execution_count": 27,
   "id": "2e297de3",
   "metadata": {
    "ExecuteTime": {
     "end_time": "2023-08-28T00:47:13.589322Z",
     "start_time": "2023-08-28T00:47:13.579355Z"
    }
   },
   "outputs": [
    {
     "name": "stdout",
     "output_type": "stream",
     "text": [
      "이름 :  hong\n",
      "나이 :  15\n",
      "신장 :  160.3\n",
      "--------------------------------------------------\n",
      "이름 :  kim\n",
      "나이 :  20\n",
      "신장 :  180.5\n"
     ]
    }
   ],
   "source": [
    "p3.name = \"hong\"\n",
    "p3.disp()"
   ]
  },
  {
   "cell_type": "code",
   "execution_count": 28,
   "id": "cb218b88",
   "metadata": {
    "ExecuteTime": {
     "end_time": "2023-08-28T00:47:24.370225Z",
     "start_time": "2023-08-28T00:47:24.355049Z"
    }
   },
   "outputs": [
    {
     "name": "stdout",
     "output_type": "stream",
     "text": [
      "이름 :  hong\n",
      "나이 :  15\n",
      "신장 :  160.3\n",
      "--------------------------------------------------\n",
      "이름 :  kim\n",
      "나이 :  20\n",
      "신장 :  180.5\n"
     ]
    }
   ],
   "source": [
    "p2.disp()"
   ]
  },
  {
   "cell_type": "markdown",
   "id": "bf182607",
   "metadata": {},
   "source": [
    "## default parameter : 매개변수의 초기화"
   ]
  },
  {
   "cell_type": "code",
   "execution_count": 29,
   "id": "a02b9dfd",
   "metadata": {
    "ExecuteTime": {
     "end_time": "2023-08-28T01:01:54.574599Z",
     "start_time": "2023-08-28T01:01:54.563628Z"
    }
   },
   "outputs": [],
   "source": [
    "class Member:\n",
    "    # 생성자 메서드\n",
    "    def __init__(self, userid, pwd, name):\n",
    "        self.userid = userid\n",
    "        self.pwd = pwd\n",
    "        self.name = name\n",
    "        \n",
    "    def show(self):\n",
    "        print(\"id : \", self.userid)\n",
    "        print(\"pass : \", self.pwd)\n",
    "        print(\"name : \", self.name)"
   ]
  },
  {
   "cell_type": "code",
   "execution_count": 30,
   "id": "95b7c2bd",
   "metadata": {
    "ExecuteTime": {
     "end_time": "2023-08-28T01:02:42.947674Z",
     "start_time": "2023-08-28T01:02:42.928676Z"
    }
   },
   "outputs": [
    {
     "name": "stdout",
     "output_type": "stream",
     "text": [
      "id :  aaa\n",
      "pass :  1234\n",
      "name :  홍길동\n"
     ]
    }
   ],
   "source": [
    "m = Member('aaa', '1234', '홍길동')\n",
    "m.show()"
   ]
  },
  {
   "cell_type": "code",
   "execution_count": 31,
   "id": "941c6432",
   "metadata": {
    "ExecuteTime": {
     "end_time": "2023-08-28T01:04:06.250276Z",
     "start_time": "2023-08-28T01:04:06.237314Z"
    }
   },
   "outputs": [],
   "source": [
    "class Member:\n",
    "    # 생성자 메서드\n",
    "    def __init__(self, userid, pwd, name = \"\", age = 0):\n",
    "        self.userid = userid\n",
    "        self.pwd = pwd\n",
    "        self.name = name\n",
    "        self.age = age\n",
    "        \n",
    "    def show(self):\n",
    "        print(\"id : \", self.userid)\n",
    "        print(\"pass : \", self.pwd)\n",
    "        print(\"name : \", self.name)\n",
    "        print(\"age : \", self.age)"
   ]
  },
  {
   "cell_type": "code",
   "execution_count": 32,
   "id": "e3b341c5",
   "metadata": {
    "ExecuteTime": {
     "end_time": "2023-08-28T01:04:53.201739Z",
     "start_time": "2023-08-28T01:04:53.192831Z"
    }
   },
   "outputs": [
    {
     "name": "stdout",
     "output_type": "stream",
     "text": [
      "id :  bbb\n",
      "pass :  1234\n",
      "name :  \n",
      "age :  0\n"
     ]
    }
   ],
   "source": [
    "m1 = Member('bbb', '1234')\n",
    "m1.show()"
   ]
  },
  {
   "cell_type": "code",
   "execution_count": 33,
   "id": "385d19b8",
   "metadata": {
    "ExecuteTime": {
     "end_time": "2023-08-28T01:05:29.832849Z",
     "start_time": "2023-08-28T01:05:29.801649Z"
    }
   },
   "outputs": [
    {
     "name": "stdout",
     "output_type": "stream",
     "text": [
      "id :  ccc\n",
      "pass :  1234\n",
      "name :  강아지\n",
      "age :  4\n"
     ]
    }
   ],
   "source": [
    "m2 = Member('ccc', '1234', '강아지', 4)\n",
    "m2.show()"
   ]
  },
  {
   "cell_type": "markdown",
   "id": "9a957657",
   "metadata": {},
   "source": [
    "# 상속\n",
    "\n",
    "- 기반클래스, 부모클래스, 슈퍼클래스\n",
    "- 파생클래스, 자녀클래스, 서브클래스"
   ]
  },
  {
   "cell_type": "code",
   "execution_count": 34,
   "id": "e51d85de",
   "metadata": {
    "ExecuteTime": {
     "end_time": "2023-08-28T01:07:34.970597Z",
     "start_time": "2023-08-28T01:07:34.955559Z"
    }
   },
   "outputs": [],
   "source": [
    "# 상속의 기본구문\n",
    "class 기반클래스이름:\n",
    "    pass\n",
    "\n",
    "class 파생클래스이름(기반클래스이름):\n",
    "    pass"
   ]
  },
  {
   "cell_type": "code",
   "execution_count": 35,
   "id": "71ef41a5",
   "metadata": {
    "ExecuteTime": {
     "end_time": "2023-08-28T01:09:10.988167Z",
     "start_time": "2023-08-28T01:09:10.984196Z"
    }
   },
   "outputs": [],
   "source": [
    "class Person:\n",
    "    def greeting(self):\n",
    "        print('안녕하세요')\n",
    "        \n",
    "class Student(Person):\n",
    "    def study(self):\n",
    "        print('공부하기')"
   ]
  },
  {
   "cell_type": "code",
   "execution_count": 36,
   "id": "690b1a21",
   "metadata": {
    "ExecuteTime": {
     "end_time": "2023-08-28T01:10:06.208760Z",
     "start_time": "2023-08-28T01:10:06.193588Z"
    }
   },
   "outputs": [
    {
     "name": "stdout",
     "output_type": "stream",
     "text": [
      "안녕하세요\n",
      "공부하기\n"
     ]
    }
   ],
   "source": [
    "# 상속의 기본 : 자식 객체를 이용해 부모 객체에 접근이 허용된다.\n",
    "a = Student()\n",
    "a.greeting()\n",
    "a.study()"
   ]
  },
  {
   "cell_type": "code",
   "execution_count": 37,
   "id": "714dcdb7",
   "metadata": {
    "ExecuteTime": {
     "end_time": "2023-08-28T01:10:48.682388Z",
     "start_time": "2023-08-28T01:10:48.661111Z"
    }
   },
   "outputs": [
    {
     "data": {
      "text/plain": [
       "True"
      ]
     },
     "execution_count": 37,
     "metadata": {},
     "output_type": "execute_result"
    }
   ],
   "source": [
    "# 상속관계확인\n",
    "issubclass(Student, Person)"
   ]
  },
  {
   "cell_type": "code",
   "execution_count": 41,
   "id": "54bbd67a",
   "metadata": {
    "ExecuteTime": {
     "end_time": "2023-08-28T01:19:03.335603Z",
     "start_time": "2023-08-28T01:19:03.323626Z"
    }
   },
   "outputs": [],
   "source": [
    "# 반드시 자식객체는 부모객체의 멤버를 초기화시킬 의무가 있다.\n",
    "## 부모객체가 생성자 메서드를 가지고 있다면 반드시 자식 객체도 생성자 메서드를 기술해야 한다.\n",
    "class Person:\n",
    "    def __init__(self):\n",
    "        print('Person.__init__')\n",
    "        self.hello = '안녕하세요'\n",
    "        \n",
    "class Student(Person):\n",
    "    def __init__(self): \n",
    "        #Person.__init__()\n",
    "        super().__init__()\n",
    "        print('Student.__init__')\n",
    "        self.school = '파이썬 공부'"
   ]
  },
  {
   "cell_type": "code",
   "execution_count": 42,
   "id": "1d5aa5b5",
   "metadata": {
    "ExecuteTime": {
     "end_time": "2023-08-28T01:19:06.160353Z",
     "start_time": "2023-08-28T01:19:06.147365Z"
    }
   },
   "outputs": [
    {
     "name": "stdout",
     "output_type": "stream",
     "text": [
      "Person.__init__\n",
      "Student.__init__\n",
      "파이썬 공부\n",
      "안녕하세요\n"
     ]
    }
   ],
   "source": [
    "b = Student()\n",
    "print(b.school)\n",
    "print(b.hello)"
   ]
  },
  {
   "cell_type": "markdown",
   "id": "ebd29c22",
   "metadata": {},
   "source": [
    "## 오버라이딩(Overriding) : 재정의"
   ]
  },
  {
   "cell_type": "code",
   "execution_count": 47,
   "id": "f3c87bf7",
   "metadata": {
    "ExecuteTime": {
     "end_time": "2023-08-28T01:24:42.223306Z",
     "start_time": "2023-08-28T01:24:42.206357Z"
    }
   },
   "outputs": [],
   "source": [
    "class Person:\n",
    "    def greeting(self):\n",
    "        print('안녕하세요')\n",
    "        \n",
    "class Student(Person):\n",
    "    def greeting(self):\n",
    "        super().greeting()\n",
    "        print('나는 파이썬을 공부하는 학생입니다.')"
   ]
  },
  {
   "cell_type": "code",
   "execution_count": 48,
   "id": "7807f788",
   "metadata": {
    "ExecuteTime": {
     "end_time": "2023-08-28T01:24:42.877199Z",
     "start_time": "2023-08-28T01:24:42.862204Z"
    }
   },
   "outputs": [
    {
     "name": "stdout",
     "output_type": "stream",
     "text": [
      "안녕하세요\n",
      "나는 파이썬을 공부하는 학생입니다.\n"
     ]
    }
   ],
   "source": [
    "# 부모와 자식객체가 같은 이름의 메서드를 가질 수 있다.\n",
    "# 해당 메서드를 호출하면 자식 객체의 메서드가 호출된다.\n",
    "c = Student()\n",
    "c.greeting()"
   ]
  },
  {
   "cell_type": "markdown",
   "id": "29ed70f9",
   "metadata": {},
   "source": [
    "# 도형을 입력받아 출력하는 프로그램\n",
    "\n",
    "### 처리조건\n",
    "1. 10개의 도형을 입력받아 출력하는 프로그램을 구현한다.\n",
    "2. 도형은 사용자가 원하는 객체를 받아서 처리하도록 구현한다.\n",
    "3. 점, 원, 사각형 중 선택하여 입력받되, 10개가 넘으면 입력을 받을 수 없도록 구현한다.\n",
    "4. 주어진 입출력 형식에 맞게 프로그램을 구현할 것\n",
    "\n",
    "### 입력 및 출력형식\n",
    "입력(1.원  2.사각형  3.도형출력  4.종료)\n",
    "선택 = 1\n",
    "x = 6\n",
    "y = 9\n",
    "r = 5\n",
    "\n",
    "입력(1.원  2.사각형  3.도형출력  4.종료)\n",
    "선택 = 2\n",
    "x = 3\n",
    "y = 3\n",
    "h = 7\n",
    "w = 20\n",
    "\n",
    "입력(1.원  2.사각형  3.도형출력  4.종료)\n",
    "선택 = 3\n",
    "점(x, y) = (6, 9)\n",
    "반지름(r) = 5\n",
    "\n",
    "점(x, y) = (3, 3)\n",
    "높이(h) = 7, 너비(w) = 20\n",
    "\n",
    "입력(1.원  2.사각형  3.도형출력  4.종료)\n",
    "선택 =  "
   ]
  },
  {
   "cell_type": "code",
   "execution_count": 49,
   "id": "b0676c38",
   "metadata": {
    "ExecuteTime": {
     "end_time": "2023-08-28T01:36:02.731898Z",
     "start_time": "2023-08-28T01:36:02.717897Z"
    }
   },
   "outputs": [],
   "source": [
    "# 기반 클래스\n",
    "## 평면위의 한 점을 추상화하는 클래스 \n",
    "class Point:\n",
    "    # 멤버 필드\n",
    "    \n",
    "    # 생성자 메서드\n",
    "    def __init__(self):\n",
    "        self.x = eval(input('x = '))\n",
    "        self.y = eval(input('y = '))\n",
    "        \n",
    "    # 멤버 메서드\n",
    "    def disp(self):\n",
    "        print(f\"점(x, y) = ({self.x}, {self.y})\")"
   ]
  },
  {
   "cell_type": "code",
   "execution_count": 50,
   "id": "acb3b726",
   "metadata": {
    "ExecuteTime": {
     "end_time": "2023-08-28T01:37:05.950294Z",
     "start_time": "2023-08-28T01:36:58.785042Z"
    }
   },
   "outputs": [
    {
     "name": "stdout",
     "output_type": "stream",
     "text": [
      "x = 4\n",
      "y = 4\n",
      "점(x, y) = (4, 4)\n"
     ]
    }
   ],
   "source": [
    "ap = Point()  # __init__() 호출\n",
    "ap.disp()"
   ]
  },
  {
   "cell_type": "code",
   "execution_count": 51,
   "id": "e2af410f",
   "metadata": {
    "ExecuteTime": {
     "end_time": "2023-08-28T01:40:37.132135Z",
     "start_time": "2023-08-28T01:40:37.116176Z"
    }
   },
   "outputs": [
    {
     "name": "stdout",
     "output_type": "stream",
     "text": [
      "객체 소멸\n"
     ]
    }
   ],
   "source": [
    "# 파생 클래스\n",
    "## 반지름을 입력받아 원을 추상화하는 클래스\n",
    "class Circle(Point):\n",
    "    # 생성자 메서드\n",
    "    def __init__(self):\n",
    "        Point.__init__(self)\n",
    "        self.r = eval(input(\"r = \"))\n",
    "        \n",
    "    # 멤버 메서드 : 오버라이딩\n",
    "    def disp(self):\n",
    "        Point.disp(self)\n",
    "        print(f\"반지름(r) = {self.r}\")"
   ]
  },
  {
   "cell_type": "code",
   "execution_count": 52,
   "id": "d5534b9a",
   "metadata": {
    "ExecuteTime": {
     "end_time": "2023-08-28T01:41:33.463406Z",
     "start_time": "2023-08-28T01:41:27.307310Z"
    }
   },
   "outputs": [
    {
     "name": "stdout",
     "output_type": "stream",
     "text": [
      "x = 3\n",
      "y = 3\n",
      "r = 5\n",
      "점(x, y) = (3, 3)\n",
      "반지름(r) = 5\n"
     ]
    }
   ],
   "source": [
    "ac = Circle()\n",
    "ac.disp()"
   ]
  },
  {
   "cell_type": "code",
   "execution_count": 53,
   "id": "cf9bf7e0",
   "metadata": {
    "ExecuteTime": {
     "end_time": "2023-08-28T01:45:40.496114Z",
     "start_time": "2023-08-28T01:45:40.486145Z"
    }
   },
   "outputs": [],
   "source": [
    "# 파생클래스\n",
    "## 가로와 세로 길이를 이용한 사각형을 추상화하는 클래스\n",
    "class Rect(Point):\n",
    "    def __init__(self):\n",
    "        Point.__init__(self)\n",
    "        self.h = eval(input(\"h = \"))\n",
    "        self.w = eval(input(\"w = \"))\n",
    "        \n",
    "    def disp(self):\n",
    "        Point.disp(self)\n",
    "        print(f\"높이(h) = {self.h}, 너비(w) = {self.w}\")"
   ]
  },
  {
   "cell_type": "code",
   "execution_count": 54,
   "id": "20e70c34",
   "metadata": {
    "ExecuteTime": {
     "end_time": "2023-08-28T01:46:13.408568Z",
     "start_time": "2023-08-28T01:46:05.671945Z"
    }
   },
   "outputs": [
    {
     "name": "stdout",
     "output_type": "stream",
     "text": [
      "x = 3\n",
      "y = 3\n",
      "h = 10\n",
      "w = 9\n",
      "점(x, y) = (3, 3)\n",
      "높이(h) = 10, 너비(w) = 9\n"
     ]
    }
   ],
   "source": [
    "ar = Rect()\n",
    "ar.disp()"
   ]
  },
  {
   "cell_type": "code",
   "execution_count": 55,
   "id": "e56f44b5",
   "metadata": {
    "ExecuteTime": {
     "end_time": "2023-08-28T02:12:08.708823Z",
     "start_time": "2023-08-28T02:11:37.104250Z"
    }
   },
   "outputs": [
    {
     "name": "stdout",
     "output_type": "stream",
     "text": [
      "\n",
      "도형(1.원  2.사각형  3.도형출력  4.종료) = \n",
      "선택 = 1\n",
      "x = 3\n",
      "y = 3\n",
      "r = 5\n",
      "도형이 입력되었습니다.\n",
      "\n",
      "도형(1.원  2.사각형  3.도형출력  4.종료) = \n",
      "선택 = 2\n",
      "x = 10\n",
      "y = 10\n",
      "h = 20\n",
      "w = 30\n",
      "도형이 입력되었습니다.\n",
      "\n",
      "도형(1.원  2.사각형  3.도형출력  4.종료) = \n",
      "선택 = 3\n",
      "점(x, y) = (3, 3)\n",
      "반지름(r) = 5\n",
      "점(x, y) = (10, 10)\n",
      "높이(h) = 20, 너비(w) = 30\n",
      "\n",
      "도형(1.원  2.사각형  3.도형출력  4.종료) = \n",
      "선택 = 4\n",
      "프로그램을 종료합니다.\n"
     ]
    }
   ],
   "source": [
    "# main processor\n",
    "\n",
    "## 컨테이너 객체 \n",
    "data = list()\n",
    "\n",
    "for i in range(10):\n",
    "    # 메뉴 출력\n",
    "    print(\"\\n도형(1.원  2.사각형  3.도형출력  4.종료) = \")\n",
    "    menu = int(input('선택 = '))\n",
    "    \n",
    "    # 선택에 따른 로직 구현\n",
    "    if menu == 1:\n",
    "        c = Circle()\n",
    "        data.append(c)\n",
    "        print(\"도형이 입력되었습니다.\")\n",
    "    elif menu == 2:\n",
    "        r = Rect()\n",
    "        data.append(r)\n",
    "        print(\"도형이 입력되었습니다.\")\n",
    "    elif menu == 3:\n",
    "        if len(data) == 0:\n",
    "            print(\"입력된 도형이 존재하지 않습니다.\")\n",
    "        else:\n",
    "            for a in data:\n",
    "                a.disp()\n",
    "        # i가 누적된걸 빼줘야 한다. 도형입력이 아니니깐\n",
    "        i -= 1\n",
    "    elif menu == 4:\n",
    "        # 리스트 객체 삭제\n",
    "        data.clear()\n",
    "        break\n",
    "    else:\n",
    "        print(\"메뉴의 선택이 올바르지 않습니다.\")\n",
    "        # i가 누적된걸 빼줘야 한다. 도형입력이 아니니깐\n",
    "        i -= 1\n",
    "        \n",
    "# 작업종료\n",
    "print(\"프로그램을 종료합니다.\")"
   ]
  },
  {
   "cell_type": "markdown",
   "id": "be34017f",
   "metadata": {},
   "source": [
    "## 다중상속"
   ]
  },
  {
   "cell_type": "code",
   "execution_count": 56,
   "id": "10652b29",
   "metadata": {
    "ExecuteTime": {
     "end_time": "2023-08-28T02:20:38.162649Z",
     "start_time": "2023-08-28T02:20:38.147686Z"
    }
   },
   "outputs": [],
   "source": [
    "class Phone:\n",
    "    def call(self):\n",
    "        print('통화 가능')\n",
    "        \n",
    "class Camera:\n",
    "    def picture(self):\n",
    "        print('촬영 가능')\n",
    "\n",
    "# 다중상속 구문\n",
    "class CameraPhone(Phone, Camera):   \n",
    "    def pictureCall(self):\n",
    "        print('영상통화 가능')"
   ]
  },
  {
   "cell_type": "code",
   "execution_count": 57,
   "id": "8039450a",
   "metadata": {
    "ExecuteTime": {
     "end_time": "2023-08-28T02:21:23.557149Z",
     "start_time": "2023-08-28T02:21:23.553170Z"
    }
   },
   "outputs": [
    {
     "name": "stdout",
     "output_type": "stream",
     "text": [
      "객체 소멸\n",
      "영상통화 가능\n",
      "촬영 가능\n",
      "통화 가능\n"
     ]
    }
   ],
   "source": [
    "p = CameraPhone()\n",
    "p.pictureCall()\n",
    "p.picture()\n",
    "p.call()"
   ]
  },
  {
   "cell_type": "markdown",
   "id": "d20de22b",
   "metadata": {},
   "source": [
    "# 파이썬 언더바, 언더스코어, 밑줄 개념"
   ]
  },
  {
   "cell_type": "markdown",
   "id": "92883108",
   "metadata": {},
   "source": [
    "## 언더바(언더스코어, 밑줄)\n",
    "- 인터프리터에서의 마지막 값\n",
    "- 무시하는 값\n",
    "- 숫자 자릿수 구분\n",
    "- (앞 언더바 1개) 모듈내에서만 변수/함수를 사용할 때\n",
    "- (뒤 언더바 1개) 파이썬 변수/함수명 충돌을 피하기 위해\n",
    "- (앞 언더바 2개) 네임 맹글링\n",
    "- (앞뒤 언더바 2개씩) 매직 메소드"
   ]
  },
  {
   "cell_type": "code",
   "execution_count": 58,
   "id": "cb1124f7",
   "metadata": {
    "ExecuteTime": {
     "end_time": "2023-08-28T02:27:03.650503Z",
     "start_time": "2023-08-28T02:27:03.636499Z"
    }
   },
   "outputs": [
    {
     "data": {
      "text/plain": [
       "7"
      ]
     },
     "execution_count": 58,
     "metadata": {},
     "output_type": "execute_result"
    }
   ],
   "source": [
    "3 + 4"
   ]
  },
  {
   "cell_type": "code",
   "execution_count": 59,
   "id": "1cee4679",
   "metadata": {
    "ExecuteTime": {
     "end_time": "2023-08-28T02:27:07.856354Z",
     "start_time": "2023-08-28T02:27:07.847390Z"
    }
   },
   "outputs": [
    {
     "data": {
      "text/plain": [
       "10"
      ]
     },
     "execution_count": 59,
     "metadata": {},
     "output_type": "execute_result"
    }
   ],
   "source": [
    "_ + 3"
   ]
  },
  {
   "cell_type": "code",
   "execution_count": 61,
   "id": "0c7a21e6",
   "metadata": {
    "ExecuteTime": {
     "end_time": "2023-08-28T02:28:49.706026Z",
     "start_time": "2023-08-28T02:28:49.689091Z"
    }
   },
   "outputs": [
    {
     "name": "stdout",
     "output_type": "stream",
     "text": [
      "hi\n",
      "hi\n",
      "hi\n",
      "hi\n",
      "hi\n"
     ]
    }
   ],
   "source": [
    "for _ in range(5): # 0, 1, 2, 3, 4\n",
    "    print('hi')"
   ]
  },
  {
   "cell_type": "code",
   "execution_count": 62,
   "id": "34aa1b17",
   "metadata": {
    "ExecuteTime": {
     "end_time": "2023-08-28T02:30:38.981236Z",
     "start_time": "2023-08-28T02:30:38.975235Z"
    }
   },
   "outputs": [
    {
     "name": "stdout",
     "output_type": "stream",
     "text": [
      "1\n",
      "2\n",
      "3\n",
      "4\n",
      "5\n"
     ]
    }
   ],
   "source": [
    "a = [1, 2, 3, 4, 5] # packing(패킹)\n",
    "aa, bb, _, dd, ee = a # unpacking(언패킹)\n",
    "print(aa)\n",
    "print(bb)\n",
    "print(_)\n",
    "print(dd)\n",
    "print(ee)"
   ]
  },
  {
   "cell_type": "code",
   "execution_count": 63,
   "id": "2450e410",
   "metadata": {
    "ExecuteTime": {
     "end_time": "2023-08-28T02:32:22.235288Z",
     "start_time": "2023-08-28T02:32:22.220331Z"
    }
   },
   "outputs": [
    {
     "name": "stdout",
     "output_type": "stream",
     "text": [
      "1\n",
      "2 3 4\n",
      "5\n"
     ]
    }
   ],
   "source": [
    "# 가변길이 매개변수 : *변수명\n",
    "list01 = [1, 2, 3, 4, 5]\n",
    "a, *_, e = list01\n",
    "print(a)\n",
    "print(*_)\n",
    "print(e)"
   ]
  },
  {
   "cell_type": "code",
   "execution_count": 64,
   "id": "fa65af6e",
   "metadata": {
    "ExecuteTime": {
     "end_time": "2023-08-28T02:33:52.481472Z",
     "start_time": "2023-08-28T02:33:52.469435Z"
    }
   },
   "outputs": [
    {
     "name": "stdout",
     "output_type": "stream",
     "text": [
      "100000\n",
      "100000\n",
      "100000\n"
     ]
    }
   ],
   "source": [
    "num1 = 100000\n",
    "num2 = 100_000\n",
    "num3 = 10_0_00_0\n",
    "print(num1)\n",
    "print(num2)\n",
    "print(num3)"
   ]
  },
  {
   "cell_type": "code",
   "execution_count": null,
   "id": "5752ab9a",
   "metadata": {},
   "outputs": [],
   "source": []
  }
 ],
 "metadata": {
  "kernelspec": {
   "display_name": "Python 3 (ipykernel)",
   "language": "python",
   "name": "python3"
  },
  "language_info": {
   "codemirror_mode": {
    "name": "ipython",
    "version": 3
   },
   "file_extension": ".py",
   "mimetype": "text/x-python",
   "name": "python",
   "nbconvert_exporter": "python",
   "pygments_lexer": "ipython3",
   "version": "3.9.7"
  },
  "toc": {
   "base_numbering": 1,
   "nav_menu": {},
   "number_sections": true,
   "sideBar": true,
   "skip_h1_title": false,
   "title_cell": "Table of Contents",
   "title_sidebar": "Contents",
   "toc_cell": false,
   "toc_position": {
    "height": "calc(100% - 180px)",
    "left": "10px",
    "top": "150px",
    "width": "256px"
   },
   "toc_section_display": true,
   "toc_window_display": true
  },
  "varInspector": {
   "cols": {
    "lenName": 16,
    "lenType": 16,
    "lenVar": 40
   },
   "kernels_config": {
    "python": {
     "delete_cmd_postfix": "",
     "delete_cmd_prefix": "del ",
     "library": "var_list.py",
     "varRefreshCmd": "print(var_dic_list())"
    },
    "r": {
     "delete_cmd_postfix": ") ",
     "delete_cmd_prefix": "rm(",
     "library": "var_list.r",
     "varRefreshCmd": "cat(var_dic_list()) "
    }
   },
   "types_to_exclude": [
    "module",
    "function",
    "builtin_function_or_method",
    "instance",
    "_Feature"
   ],
   "window_display": false
  }
 },
 "nbformat": 4,
 "nbformat_minor": 5
}
