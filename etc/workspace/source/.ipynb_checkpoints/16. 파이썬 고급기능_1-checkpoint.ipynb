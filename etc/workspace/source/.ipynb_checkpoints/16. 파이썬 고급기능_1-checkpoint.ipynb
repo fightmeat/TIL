{
 "cells": [
  {
   "cell_type": "markdown",
   "id": "cce84f38",
   "metadata": {},
   "source": [
    "#  언더바 or 언더스코어 or 밑줄\n",
    "\n",
    "1. 인터프리터에서의 마지막 값\n",
    "2. 무시하는 값\n",
    "3. 숫자의 자릿수를 나타낼 때 - 큰 의미 없음\n",
    "4. 앞 언더바 1개 : 모듈내에서만 접근이 허용되는 객체\n",
    "5. 뒤 언더바 1개 : 같은 이름의 충돌을 막기위해 사용\n",
    "6. 앞 언더바 2개 : 네임 맹글링\n",
    "7. 앞뒤에 언더바 2개 : 이미 정의되어있는 변수 or 매직메서드"
   ]
  },
  {
   "cell_type": "markdown",
   "id": "bb1afab1",
   "metadata": {},
   "source": [
    "## 인터프리터에서의 마지막 값"
   ]
  },
  {
   "cell_type": "code",
   "execution_count": 1,
   "id": "a6ecf98b",
   "metadata": {
    "ExecuteTime": {
     "end_time": "2023-08-29T07:26:44.664154Z",
     "start_time": "2023-08-29T07:26:44.648184Z"
    }
   },
   "outputs": [
    {
     "data": {
      "text/plain": [
       "17"
      ]
     },
     "execution_count": 1,
     "metadata": {},
     "output_type": "execute_result"
    }
   ],
   "source": [
    "10 + 7"
   ]
  },
  {
   "cell_type": "code",
   "execution_count": 2,
   "id": "7bc7fa57",
   "metadata": {
    "ExecuteTime": {
     "end_time": "2023-08-29T07:27:04.409445Z",
     "start_time": "2023-08-29T07:27:04.399468Z"
    }
   },
   "outputs": [
    {
     "data": {
      "text/plain": [
       "20"
      ]
     },
     "execution_count": 2,
     "metadata": {},
     "output_type": "execute_result"
    }
   ],
   "source": [
    "_ + 3"
   ]
  },
  {
   "cell_type": "markdown",
   "id": "c0deeea6",
   "metadata": {},
   "source": [
    "## 무시하는 값\n",
    "\n",
    "- 변수는 기본적으로 기억장소를 할당받아 생성된다.\n",
    "- 기억장소의 낭비를 최소화하기 위해 필요없는 변수는 굳이 생성하지 않는다."
   ]
  },
  {
   "cell_type": "code",
   "execution_count": 3,
   "id": "4b69a3bb",
   "metadata": {
    "ExecuteTime": {
     "end_time": "2023-08-29T07:28:44.703539Z",
     "start_time": "2023-08-29T07:28:44.692531Z"
    }
   },
   "outputs": [
    {
     "name": "stdout",
     "output_type": "stream",
     "text": [
      "0\n",
      "1\n",
      "2\n",
      "3\n",
      "4\n"
     ]
    }
   ],
   "source": [
    "# range(5) : 0, 1, 2, 3, 4  \n",
    "for i in range(5):\n",
    "    print(i)"
   ]
  },
  {
   "cell_type": "code",
   "execution_count": 4,
   "id": "cf0993e1",
   "metadata": {
    "ExecuteTime": {
     "end_time": "2023-08-29T07:29:16.516823Z",
     "start_time": "2023-08-29T07:29:16.511809Z"
    }
   },
   "outputs": [
    {
     "name": "stdout",
     "output_type": "stream",
     "text": [
      "0\n",
      "1\n",
      "2\n",
      "3\n",
      "4\n"
     ]
    }
   ],
   "source": [
    "for _ in range(5):\n",
    "    print(_)"
   ]
  },
  {
   "cell_type": "code",
   "execution_count": 5,
   "id": "b7b5ee59",
   "metadata": {
    "ExecuteTime": {
     "end_time": "2023-08-29T07:31:25.776828Z",
     "start_time": "2023-08-29T07:31:25.758832Z"
    }
   },
   "outputs": [
    {
     "name": "stdout",
     "output_type": "stream",
     "text": [
      "[1, 2, 3, 4, 5] 1 2 3 4 5\n"
     ]
    }
   ],
   "source": [
    "# packing : 하나의 변수에 여러개의 값을 담는 행위\n",
    "a = [1, 2, 3, 4, 5]\n",
    "\n",
    "# unpacking : 여러개의 값을 담은 변수를 각각의 변수에 풀어내는 행위\n",
    "aa, bb, cc, dd, ee = a\n",
    "\n",
    "print(a, aa, bb, cc, dd, ee)"
   ]
  },
  {
   "cell_type": "code",
   "execution_count": 6,
   "id": "8c757f5d",
   "metadata": {
    "ExecuteTime": {
     "end_time": "2023-08-29T07:32:11.307152Z",
     "start_time": "2023-08-29T07:32:11.301181Z"
    }
   },
   "outputs": [
    {
     "name": "stdout",
     "output_type": "stream",
     "text": [
      "(1, 2, 3, 4, 5)\n"
     ]
    }
   ],
   "source": [
    "b = 1, 2, 3, 4, 5\n",
    "print(b)"
   ]
  },
  {
   "cell_type": "code",
   "execution_count": 7,
   "id": "36b18dc8",
   "metadata": {
    "ExecuteTime": {
     "end_time": "2023-08-29T07:33:12.109098Z",
     "start_time": "2023-08-29T07:33:12.100128Z"
    }
   },
   "outputs": [
    {
     "name": "stdout",
     "output_type": "stream",
     "text": [
      "(1, 2, 3, 4, 5) 1 2 3 4 5\n"
     ]
    }
   ],
   "source": [
    "aa, bb, _, dd, ee = b\n",
    "print(b, aa, bb, _, dd, ee)"
   ]
  },
  {
   "cell_type": "code",
   "execution_count": 8,
   "id": "cefa7514",
   "metadata": {
    "ExecuteTime": {
     "end_time": "2023-08-29T07:34:14.606918Z",
     "start_time": "2023-08-29T07:34:14.589941Z"
    }
   },
   "outputs": [],
   "source": [
    "# 가변길이 매개변수 : *변수명\n",
    "def adder(a, b):\n",
    "    return a + b"
   ]
  },
  {
   "cell_type": "code",
   "execution_count": 9,
   "id": "04fc2f3b",
   "metadata": {
    "ExecuteTime": {
     "end_time": "2023-08-29T07:34:20.593426Z",
     "start_time": "2023-08-29T07:34:20.584463Z"
    }
   },
   "outputs": [
    {
     "data": {
      "text/plain": [
       "7"
      ]
     },
     "execution_count": 9,
     "metadata": {},
     "output_type": "execute_result"
    }
   ],
   "source": [
    "adder(3, 4)"
   ]
  },
  {
   "cell_type": "code",
   "execution_count": 10,
   "id": "2b37e0c4",
   "metadata": {
    "ExecuteTime": {
     "end_time": "2023-08-29T07:34:29.234467Z",
     "start_time": "2023-08-29T07:34:29.226495Z"
    }
   },
   "outputs": [
    {
     "ename": "TypeError",
     "evalue": "adder() takes 2 positional arguments but 3 were given",
     "output_type": "error",
     "traceback": [
      "\u001b[1;31m---------------------------------------------------------------------------\u001b[0m",
      "\u001b[1;31mTypeError\u001b[0m                                 Traceback (most recent call last)",
      "\u001b[1;32m~\\AppData\\Local\\Temp/ipykernel_8672/278407569.py\u001b[0m in \u001b[0;36m<module>\u001b[1;34m\u001b[0m\n\u001b[1;32m----> 1\u001b[1;33m \u001b[0madder\u001b[0m\u001b[1;33m(\u001b[0m\u001b[1;36m3\u001b[0m\u001b[1;33m,\u001b[0m \u001b[1;36m4\u001b[0m\u001b[1;33m,\u001b[0m \u001b[1;36m5\u001b[0m\u001b[1;33m)\u001b[0m\u001b[1;33m\u001b[0m\u001b[1;33m\u001b[0m\u001b[0m\n\u001b[0m",
      "\u001b[1;31mTypeError\u001b[0m: adder() takes 2 positional arguments but 3 were given"
     ]
    }
   ],
   "source": [
    "adder(3, 4, 5)"
   ]
  },
  {
   "cell_type": "code",
   "execution_count": 15,
   "id": "f8edacbd",
   "metadata": {
    "ExecuteTime": {
     "end_time": "2023-08-29T07:37:25.434444Z",
     "start_time": "2023-08-29T07:37:25.417447Z"
    }
   },
   "outputs": [],
   "source": [
    "def adder(*ar):\n",
    "    print(type(ar))\n",
    "    tot = 0\n",
    "    for i in ar:\n",
    "        tot += i        \n",
    "    return tot"
   ]
  },
  {
   "cell_type": "code",
   "execution_count": 16,
   "id": "3a6221ff",
   "metadata": {
    "ExecuteTime": {
     "end_time": "2023-08-29T07:37:27.170051Z",
     "start_time": "2023-08-29T07:37:27.153085Z"
    }
   },
   "outputs": [
    {
     "name": "stdout",
     "output_type": "stream",
     "text": [
      "<class 'tuple'>\n"
     ]
    },
    {
     "data": {
      "text/plain": [
       "7"
      ]
     },
     "execution_count": 16,
     "metadata": {},
     "output_type": "execute_result"
    }
   ],
   "source": [
    "adder(3, 4)"
   ]
  },
  {
   "cell_type": "code",
   "execution_count": 13,
   "id": "762ce635",
   "metadata": {
    "ExecuteTime": {
     "end_time": "2023-08-29T07:36:26.609064Z",
     "start_time": "2023-08-29T07:36:26.597062Z"
    }
   },
   "outputs": [
    {
     "data": {
      "text/plain": [
       "12"
      ]
     },
     "execution_count": 13,
     "metadata": {},
     "output_type": "execute_result"
    }
   ],
   "source": [
    "adder(3, 4, 5)"
   ]
  },
  {
   "cell_type": "code",
   "execution_count": 14,
   "id": "a7cb9be9",
   "metadata": {
    "ExecuteTime": {
     "end_time": "2023-08-29T07:36:37.124019Z",
     "start_time": "2023-08-29T07:36:37.119047Z"
    }
   },
   "outputs": [
    {
     "data": {
      "text/plain": [
       "30"
      ]
     },
     "execution_count": 14,
     "metadata": {},
     "output_type": "execute_result"
    }
   ],
   "source": [
    "adder(4, 5, 6, 7, 8)"
   ]
  },
  {
   "cell_type": "code",
   "execution_count": 17,
   "id": "1e4995ec",
   "metadata": {
    "ExecuteTime": {
     "end_time": "2023-08-29T07:38:09.057704Z",
     "start_time": "2023-08-29T07:38:09.043702Z"
    }
   },
   "outputs": [],
   "source": [
    "def sample(**ar):\n",
    "    print(type(ar))\n",
    "    pass"
   ]
  },
  {
   "cell_type": "code",
   "execution_count": 18,
   "id": "f5f42ac4",
   "metadata": {
    "ExecuteTime": {
     "end_time": "2023-08-29T07:38:22.135919Z",
     "start_time": "2023-08-29T07:38:22.130950Z"
    }
   },
   "outputs": [
    {
     "name": "stdout",
     "output_type": "stream",
     "text": [
      "<class 'dict'>\n"
     ]
    }
   ],
   "source": [
    "sample(a=100, b=200)"
   ]
  },
  {
   "cell_type": "code",
   "execution_count": 19,
   "id": "557643f2",
   "metadata": {
    "ExecuteTime": {
     "end_time": "2023-08-29T07:39:38.780962Z",
     "start_time": "2023-08-29T07:39:38.763994Z"
    }
   },
   "outputs": [
    {
     "name": "stdout",
     "output_type": "stream",
     "text": [
      "1 [2, 3, 4] 5\n"
     ]
    }
   ],
   "source": [
    "x = [1, 2, 3, 4, 5]\n",
    "a, *_, c = x\n",
    "print(a, _, c)"
   ]
  },
  {
   "cell_type": "markdown",
   "id": "a70c0525",
   "metadata": {},
   "source": [
    "## 앞 언더바 1개인 변수 or 함수"
   ]
  },
  {
   "cell_type": "code",
   "execution_count": 23,
   "id": "ca6920f2",
   "metadata": {
    "ExecuteTime": {
     "end_time": "2023-08-29T07:44:34.433502Z",
     "start_time": "2023-08-29T07:44:34.415527Z"
    }
   },
   "outputs": [
    {
     "name": "stdout",
     "output_type": "stream",
     "text": [
      "hi\n"
     ]
    }
   ],
   "source": [
    "from greeting import *\n",
    "hi()"
   ]
  },
  {
   "cell_type": "code",
   "execution_count": 24,
   "id": "90f98095",
   "metadata": {
    "ExecuteTime": {
     "end_time": "2023-08-29T07:44:38.266934Z",
     "start_time": "2023-08-29T07:44:38.249966Z"
    }
   },
   "outputs": [
    {
     "ename": "NameError",
     "evalue": "name 'hello' is not defined",
     "output_type": "error",
     "traceback": [
      "\u001b[1;31m---------------------------------------------------------------------------\u001b[0m",
      "\u001b[1;31mNameError\u001b[0m                                 Traceback (most recent call last)",
      "\u001b[1;32m~\\AppData\\Local\\Temp/ipykernel_8672/2674044599.py\u001b[0m in \u001b[0;36m<module>\u001b[1;34m\u001b[0m\n\u001b[1;32m----> 1\u001b[1;33m \u001b[0mhello\u001b[0m\u001b[1;33m(\u001b[0m\u001b[1;33m)\u001b[0m\u001b[1;33m\u001b[0m\u001b[1;33m\u001b[0m\u001b[0m\n\u001b[0m",
      "\u001b[1;31mNameError\u001b[0m: name 'hello' is not defined"
     ]
    }
   ],
   "source": [
    "hello()"
   ]
  },
  {
   "cell_type": "code",
   "execution_count": 25,
   "id": "0fbf840c",
   "metadata": {
    "ExecuteTime": {
     "end_time": "2023-08-29T07:44:40.948115Z",
     "start_time": "2023-08-29T07:44:40.926067Z"
    }
   },
   "outputs": [
    {
     "ename": "NameError",
     "evalue": "name '_hello' is not defined",
     "output_type": "error",
     "traceback": [
      "\u001b[1;31m---------------------------------------------------------------------------\u001b[0m",
      "\u001b[1;31mNameError\u001b[0m                                 Traceback (most recent call last)",
      "\u001b[1;32m~\\AppData\\Local\\Temp/ipykernel_8672/2843232476.py\u001b[0m in \u001b[0;36m<module>\u001b[1;34m\u001b[0m\n\u001b[1;32m----> 1\u001b[1;33m \u001b[0m_hello\u001b[0m\u001b[1;33m(\u001b[0m\u001b[1;33m)\u001b[0m\u001b[1;33m\u001b[0m\u001b[1;33m\u001b[0m\u001b[0m\n\u001b[0m",
      "\u001b[1;31mNameError\u001b[0m: name '_hello' is not defined"
     ]
    }
   ],
   "source": [
    "_hello()"
   ]
  },
  {
   "cell_type": "code",
   "execution_count": 26,
   "id": "107268bc",
   "metadata": {
    "ExecuteTime": {
     "end_time": "2023-08-29T07:44:48.575158Z",
     "start_time": "2023-08-29T07:44:48.560165Z"
    }
   },
   "outputs": [
    {
     "ename": "NameError",
     "evalue": "name 'show' is not defined",
     "output_type": "error",
     "traceback": [
      "\u001b[1;31m---------------------------------------------------------------------------\u001b[0m",
      "\u001b[1;31mNameError\u001b[0m                                 Traceback (most recent call last)",
      "\u001b[1;32m~\\AppData\\Local\\Temp/ipykernel_8672/2152131889.py\u001b[0m in \u001b[0;36m<module>\u001b[1;34m\u001b[0m\n\u001b[1;32m----> 1\u001b[1;33m \u001b[0mshow\u001b[0m\u001b[1;33m(\u001b[0m\u001b[1;33m)\u001b[0m\u001b[1;33m\u001b[0m\u001b[1;33m\u001b[0m\u001b[0m\n\u001b[0m",
      "\u001b[1;31mNameError\u001b[0m: name 'show' is not defined"
     ]
    }
   ],
   "source": [
    "show()"
   ]
  },
  {
   "cell_type": "code",
   "execution_count": 27,
   "id": "08a64776",
   "metadata": {
    "ExecuteTime": {
     "end_time": "2023-08-29T07:45:19.936619Z",
     "start_time": "2023-08-29T07:45:19.923656Z"
    }
   },
   "outputs": [],
   "source": [
    "from greeting import *"
   ]
  },
  {
   "cell_type": "code",
   "execution_count": 28,
   "id": "d546a211",
   "metadata": {
    "ExecuteTime": {
     "end_time": "2023-08-29T07:45:24.296352Z",
     "start_time": "2023-08-29T07:45:24.274348Z"
    }
   },
   "outputs": [
    {
     "ename": "NameError",
     "evalue": "name 'show' is not defined",
     "output_type": "error",
     "traceback": [
      "\u001b[1;31m---------------------------------------------------------------------------\u001b[0m",
      "\u001b[1;31mNameError\u001b[0m                                 Traceback (most recent call last)",
      "\u001b[1;32m~\\AppData\\Local\\Temp/ipykernel_8672/2152131889.py\u001b[0m in \u001b[0;36m<module>\u001b[1;34m\u001b[0m\n\u001b[1;32m----> 1\u001b[1;33m \u001b[0mshow\u001b[0m\u001b[1;33m(\u001b[0m\u001b[1;33m)\u001b[0m\u001b[1;33m\u001b[0m\u001b[1;33m\u001b[0m\u001b[0m\n\u001b[0m",
      "\u001b[1;31mNameError\u001b[0m: name 'show' is not defined"
     ]
    }
   ],
   "source": [
    "show()"
   ]
  },
  {
   "cell_type": "code",
   "execution_count": 29,
   "id": "1e5297e1",
   "metadata": {
    "ExecuteTime": {
     "end_time": "2023-08-29T07:46:14.813928Z",
     "start_time": "2023-08-29T07:46:14.809928Z"
    }
   },
   "outputs": [],
   "source": [
    "import greeting"
   ]
  },
  {
   "cell_type": "code",
   "execution_count": 30,
   "id": "76adea83",
   "metadata": {
    "ExecuteTime": {
     "end_time": "2023-08-29T07:46:22.168414Z",
     "start_time": "2023-08-29T07:46:22.160444Z"
    }
   },
   "outputs": [
    {
     "name": "stdout",
     "output_type": "stream",
     "text": [
      "hi\n"
     ]
    }
   ],
   "source": [
    "greeting.hi()"
   ]
  },
  {
   "cell_type": "code",
   "execution_count": 31,
   "id": "1728f8e0",
   "metadata": {
    "ExecuteTime": {
     "end_time": "2023-08-29T07:46:30.981253Z",
     "start_time": "2023-08-29T07:46:30.967252Z"
    }
   },
   "outputs": [
    {
     "name": "stdout",
     "output_type": "stream",
     "text": [
      "hello\n"
     ]
    }
   ],
   "source": [
    "greeting._hello()"
   ]
  },
  {
   "cell_type": "code",
   "execution_count": 32,
   "id": "55810642",
   "metadata": {
    "ExecuteTime": {
     "end_time": "2023-08-29T07:46:51.931217Z",
     "start_time": "2023-08-29T07:46:51.922249Z"
    }
   },
   "outputs": [],
   "source": [
    "from greeting import hi, _hello"
   ]
  },
  {
   "cell_type": "code",
   "execution_count": 33,
   "id": "ea56d566",
   "metadata": {
    "ExecuteTime": {
     "end_time": "2023-08-29T07:46:55.978176Z",
     "start_time": "2023-08-29T07:46:55.967247Z"
    }
   },
   "outputs": [
    {
     "name": "stdout",
     "output_type": "stream",
     "text": [
      "hi\n"
     ]
    }
   ],
   "source": [
    "hi()"
   ]
  },
  {
   "cell_type": "code",
   "execution_count": 34,
   "id": "6b4c655a",
   "metadata": {
    "ExecuteTime": {
     "end_time": "2023-08-29T07:47:00.286367Z",
     "start_time": "2023-08-29T07:47:00.278400Z"
    }
   },
   "outputs": [
    {
     "name": "stdout",
     "output_type": "stream",
     "text": [
      "hello\n"
     ]
    }
   ],
   "source": [
    "_hello()"
   ]
  },
  {
   "cell_type": "markdown",
   "id": "a217454c",
   "metadata": {},
   "source": [
    "## 뒤 언더바 1개 : 충돌회피용"
   ]
  },
  {
   "cell_type": "code",
   "execution_count": 35,
   "id": "90b52229",
   "metadata": {
    "ExecuteTime": {
     "end_time": "2023-08-29T07:49:16.740958Z",
     "start_time": "2023-08-29T07:49:16.726890Z"
    }
   },
   "outputs": [
    {
     "name": "stdout",
     "output_type": "stream",
     "text": [
      "a =  100\n",
      "a =  100\n",
      "a =  1\n"
     ]
    }
   ],
   "source": [
    "a = 100\n",
    "print(\"a = \", a)\n",
    "\n",
    "a_ = 1\n",
    "print(\"a = \", a)\n",
    "print(\"a = \", a_)"
   ]
  },
  {
   "cell_type": "markdown",
   "id": "5edd415d",
   "metadata": {},
   "source": [
    "## Name Mangling - 앞 언더바 2개 : 네임 맹글링\n",
    "\n",
    "- 외부에서 클래스 속성값에 접근을 하지 못하도록 막을 때\n",
    "- 오버라이딩 방지용"
   ]
  },
  {
   "cell_type": "code",
   "execution_count": 47,
   "id": "80f32dd1",
   "metadata": {
    "ExecuteTime": {
     "end_time": "2023-08-29T07:57:17.093487Z",
     "start_time": "2023-08-29T07:57:17.089462Z"
    }
   },
   "outputs": [],
   "source": [
    "class Person:\n",
    "    def __init__(self):\n",
    "        self.name = \"홍길동\"\n",
    "        self.age = 25\n",
    "        self.__hobby = \"도둑질\"\n",
    "        \n",
    "class People(Person):\n",
    "    def __init__(self):\n",
    "        Person.__init__(self)\n",
    "        self.name = \"장보고\"\n",
    "        self.age = 30\n",
    "        #self.__hobby = \"착한짓\""
   ]
  },
  {
   "cell_type": "code",
   "execution_count": 48,
   "id": "308d8764",
   "metadata": {
    "ExecuteTime": {
     "end_time": "2023-08-29T07:57:19.692713Z",
     "start_time": "2023-08-29T07:57:19.678683Z"
    }
   },
   "outputs": [
    {
     "name": "stdout",
     "output_type": "stream",
     "text": [
      "장보고\n"
     ]
    }
   ],
   "source": [
    "c = People()\n",
    "print(c.name)"
   ]
  },
  {
   "cell_type": "code",
   "execution_count": 49,
   "id": "3df5ff20",
   "metadata": {
    "ExecuteTime": {
     "end_time": "2023-08-29T07:57:21.894340Z",
     "start_time": "2023-08-29T07:57:21.891370Z"
    }
   },
   "outputs": [
    {
     "data": {
      "text/plain": [
       "30"
      ]
     },
     "execution_count": 49,
     "metadata": {},
     "output_type": "execute_result"
    }
   ],
   "source": [
    "c.age"
   ]
  },
  {
   "cell_type": "code",
   "execution_count": 50,
   "id": "bdba8f51",
   "metadata": {
    "ExecuteTime": {
     "end_time": "2023-08-29T07:57:24.126257Z",
     "start_time": "2023-08-29T07:57:24.119248Z"
    }
   },
   "outputs": [
    {
     "ename": "AttributeError",
     "evalue": "'People' object has no attribute '__hobby'",
     "output_type": "error",
     "traceback": [
      "\u001b[1;31m---------------------------------------------------------------------------\u001b[0m",
      "\u001b[1;31mAttributeError\u001b[0m                            Traceback (most recent call last)",
      "\u001b[1;32m~\\AppData\\Local\\Temp/ipykernel_8672/598822737.py\u001b[0m in \u001b[0;36m<module>\u001b[1;34m\u001b[0m\n\u001b[1;32m----> 1\u001b[1;33m \u001b[0mc\u001b[0m\u001b[1;33m.\u001b[0m\u001b[0m__hobby\u001b[0m\u001b[1;33m\u001b[0m\u001b[1;33m\u001b[0m\u001b[0m\n\u001b[0m",
      "\u001b[1;31mAttributeError\u001b[0m: 'People' object has no attribute '__hobby'"
     ]
    }
   ],
   "source": [
    "c.__hobby"
   ]
  },
  {
   "cell_type": "code",
   "execution_count": 51,
   "id": "a2fcd24d",
   "metadata": {
    "ExecuteTime": {
     "end_time": "2023-08-29T08:18:23.757222Z",
     "start_time": "2023-08-29T08:18:23.750241Z"
    }
   },
   "outputs": [],
   "source": [
    "class Book:\n",
    "    # 멤버필드\n",
    "    __country = \"korea\"  # private String country\n",
    "    city = \"seoul\"\n",
    "    \n",
    "    # 멤버메서드\n",
    "    def updateCountry(self, country):\n",
    "        self.__country = country\n",
    "        \n",
    "    def getCountry(self):\n",
    "        return self.__country"
   ]
  },
  {
   "cell_type": "code",
   "execution_count": 52,
   "id": "4bc0450d",
   "metadata": {
    "ExecuteTime": {
     "end_time": "2023-08-29T08:18:50.006920Z",
     "start_time": "2023-08-29T08:18:49.992994Z"
    }
   },
   "outputs": [
    {
     "name": "stdout",
     "output_type": "stream",
     "text": [
      "['_Book__country', '__class__', '__delattr__', '__dict__', '__dir__', '__doc__', '__eq__', '__format__', '__ge__', '__getattribute__', '__gt__', '__hash__', '__init__', '__init_subclass__', '__le__', '__lt__', '__module__', '__ne__', '__new__', '__reduce__', '__reduce_ex__', '__repr__', '__setattr__', '__sizeof__', '__str__', '__subclasshook__', '__weakref__', 'city', 'getCountry', 'updateCountry']\n"
     ]
    }
   ],
   "source": [
    "print(dir(Book))"
   ]
  },
  {
   "cell_type": "code",
   "execution_count": 57,
   "id": "b76b85b9",
   "metadata": {
    "ExecuteTime": {
     "end_time": "2023-08-29T08:24:22.711215Z",
     "start_time": "2023-08-29T08:24:22.699228Z"
    }
   },
   "outputs": [
    {
     "name": "stdout",
     "output_type": "stream",
     "text": [
      "USA\n",
      "워싱턴\n"
     ]
    }
   ],
   "source": [
    "br = Book()\n",
    "br.__country = \"USA\"\n",
    "br.city = \"워싱턴\"\n",
    "\n",
    "print(br.__country)\n",
    "print(br.city)"
   ]
  },
  {
   "cell_type": "code",
   "execution_count": 60,
   "id": "a4897845",
   "metadata": {
    "ExecuteTime": {
     "end_time": "2023-08-29T08:31:02.600553Z",
     "start_time": "2023-08-29T08:31:02.587585Z"
    }
   },
   "outputs": [],
   "source": [
    "class Book:\n",
    "    # 멤버필드\n",
    "#     __country = \"korea\"  # private String country\n",
    "#     city = \"seoul\"\n",
    "    def __init__(self):\n",
    "        self.__country = \"korea\"  \n",
    "        self.city = \"seoul\"\n",
    "\n",
    "    # 멤버메서드\n",
    "    def updateCountry(self, country):\n",
    "        self.__country = country\n",
    "        \n",
    "    def getCountry(self):\n",
    "        return self.__country"
   ]
  },
  {
   "cell_type": "code",
   "execution_count": 61,
   "id": "a700b286",
   "metadata": {
    "ExecuteTime": {
     "end_time": "2023-08-29T08:31:05.684019Z",
     "start_time": "2023-08-29T08:31:05.670118Z"
    }
   },
   "outputs": [
    {
     "name": "stdout",
     "output_type": "stream",
     "text": [
      "japan\n",
      "동경\n"
     ]
    }
   ],
   "source": [
    "book = Book()\n",
    "book.__country = \"japan\"\n",
    "book.city = \"동경\"\n",
    "print(book.__country)\n",
    "print(book.city)"
   ]
  },
  {
   "cell_type": "markdown",
   "id": "be514471",
   "metadata": {},
   "source": [
    "# 클로저\n",
    "\n",
    "- 중첩함수 : 함수안에 또 다른 함수를 포함하고 있는 것"
   ]
  },
  {
   "cell_type": "code",
   "execution_count": 62,
   "id": "9120ea6f",
   "metadata": {
    "ExecuteTime": {
     "end_time": "2023-08-29T08:35:21.081821Z",
     "start_time": "2023-08-29T08:35:21.064819Z"
    }
   },
   "outputs": [],
   "source": [
    "def calc():\n",
    "    a = 3\n",
    "    b = 5\n",
    "    \n",
    "    def mul_add(x):\n",
    "        return a * x + b\n",
    "    \n",
    "    return mul_add"
   ]
  },
  {
   "cell_type": "code",
   "execution_count": 63,
   "id": "8c19f1f4",
   "metadata": {
    "ExecuteTime": {
     "end_time": "2023-08-29T08:36:26.366294Z",
     "start_time": "2023-08-29T08:36:26.362323Z"
    }
   },
   "outputs": [
    {
     "name": "stdout",
     "output_type": "stream",
     "text": [
      "<function calc.<locals>.mul_add at 0x00000128860EA550>\n"
     ]
    }
   ],
   "source": [
    "c = calc()\n",
    "print(c)"
   ]
  },
  {
   "cell_type": "code",
   "execution_count": 65,
   "id": "1d796c4c",
   "metadata": {
    "ExecuteTime": {
     "end_time": "2023-08-29T08:38:35.196638Z",
     "start_time": "2023-08-29T08:38:35.190669Z"
    }
   },
   "outputs": [],
   "source": [
    "def calc():\n",
    "    a = 3\n",
    "    b = 5\n",
    "        \n",
    "    return lambda x : a * x + b"
   ]
  },
  {
   "cell_type": "code",
   "execution_count": 66,
   "id": "d8a8c653",
   "metadata": {
    "ExecuteTime": {
     "end_time": "2023-08-29T08:39:20.674670Z",
     "start_time": "2023-08-29T08:39:20.659632Z"
    }
   },
   "outputs": [
    {
     "data": {
      "text/plain": [
       "8"
      ]
     },
     "execution_count": 66,
     "metadata": {},
     "output_type": "execute_result"
    }
   ],
   "source": [
    "c = calc()\n",
    "c(1)"
   ]
  },
  {
   "cell_type": "code",
   "execution_count": null,
   "id": "c03f508d",
   "metadata": {},
   "outputs": [],
   "source": []
  }
 ],
 "metadata": {
  "kernelspec": {
   "display_name": "Python 3 (ipykernel)",
   "language": "python",
   "name": "python3"
  },
  "language_info": {
   "codemirror_mode": {
    "name": "ipython",
    "version": 3
   },
   "file_extension": ".py",
   "mimetype": "text/x-python",
   "name": "python",
   "nbconvert_exporter": "python",
   "pygments_lexer": "ipython3",
   "version": "3.9.7"
  },
  "toc": {
   "base_numbering": 1,
   "nav_menu": {},
   "number_sections": true,
   "sideBar": true,
   "skip_h1_title": false,
   "title_cell": "Table of Contents",
   "title_sidebar": "Contents",
   "toc_cell": false,
   "toc_position": {
    "height": "calc(100% - 180px)",
    "left": "10px",
    "top": "150px",
    "width": "256px"
   },
   "toc_section_display": true,
   "toc_window_display": true
  },
  "varInspector": {
   "cols": {
    "lenName": 16,
    "lenType": 16,
    "lenVar": 40
   },
   "kernels_config": {
    "python": {
     "delete_cmd_postfix": "",
     "delete_cmd_prefix": "del ",
     "library": "var_list.py",
     "varRefreshCmd": "print(var_dic_list())"
    },
    "r": {
     "delete_cmd_postfix": ") ",
     "delete_cmd_prefix": "rm(",
     "library": "var_list.r",
     "varRefreshCmd": "cat(var_dic_list()) "
    }
   },
   "types_to_exclude": [
    "module",
    "function",
    "builtin_function_or_method",
    "instance",
    "_Feature"
   ],
   "window_display": false
  }
 },
 "nbformat": 4,
 "nbformat_minor": 5
}
