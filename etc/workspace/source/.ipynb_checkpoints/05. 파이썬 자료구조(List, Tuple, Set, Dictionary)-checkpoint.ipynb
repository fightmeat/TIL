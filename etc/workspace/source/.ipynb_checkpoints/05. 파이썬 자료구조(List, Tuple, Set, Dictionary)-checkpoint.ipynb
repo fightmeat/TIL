{
 "cells": [
  {
   "cell_type": "markdown",
   "id": "81f37d9e",
   "metadata": {},
   "source": [
    "# 리스트(List)\n",
    "- 임의의 객체를 순차적으로 저장하고 집합적 자료형(시퀀스 자료형, sequence dataType)\n",
    "- 1차원 가변배열 : 크기가 정해져 있지 않은 배열\n",
    "- 각 값에 인덱스가 부여된다.(인덱스의 시작은 0부터다)\n",
    "- 값을 변경할 수 있다.\n",
    "- 생성 : [], list()\n",
    "- 대표적인 함수 : range(), seq()\n",
    "  - range(1, 10) : 1부터 1씩 증가해서 10-1까지 순차적인 값을 생성\n",
    "  - range(10) : 0부터 시작해서 10-1까지 순차적으로 값을 생성"
   ]
  },
  {
   "cell_type": "markdown",
   "id": "6efa62e4",
   "metadata": {},
   "source": [
    "## 리스트 생성"
   ]
  },
  {
   "cell_type": "code",
   "execution_count": 1,
   "id": "92c450b2",
   "metadata": {
    "ExecuteTime": {
     "end_time": "2023-08-23T00:33:56.880675Z",
     "start_time": "2023-08-23T00:33:56.866690Z"
    }
   },
   "outputs": [
    {
     "name": "stdout",
     "output_type": "stream",
     "text": [
      "[]\n",
      "[]\n"
     ]
    }
   ],
   "source": [
    "# 빈리스트 생성\n",
    "a = []\n",
    "b = list()\n",
    "\n",
    "print(a)\n",
    "print(b)"
   ]
  },
  {
   "cell_type": "code",
   "execution_count": 4,
   "id": "37563de5",
   "metadata": {
    "ExecuteTime": {
     "end_time": "2023-08-23T00:35:03.561388Z",
     "start_time": "2023-08-23T00:35:03.545387Z"
    }
   },
   "outputs": [
    {
     "name": "stdout",
     "output_type": "stream",
     "text": [
      "<class 'list'>\n",
      "<class 'list'>\n"
     ]
    }
   ],
   "source": [
    "# 자료형을 확인하는 함수\n",
    "print(type(a))\n",
    "print(type(b))"
   ]
  },
  {
   "cell_type": "code",
   "execution_count": 8,
   "id": "ceecf20b",
   "metadata": {
    "ExecuteTime": {
     "end_time": "2023-08-23T00:48:34.351713Z",
     "start_time": "2023-08-23T00:48:34.343693Z"
    }
   },
   "outputs": [
    {
     "name": "stdout",
     "output_type": "stream",
     "text": [
      "[1, 3, 5, 7, 9]\n",
      "<class 'list'>\n",
      "1\n",
      "3\n",
      "9\n",
      "9\n",
      "[10, 3, 5, 7, 9]\n",
      "[3, 5, 7]\n",
      "[10, 3, 5]\n",
      "[5, 7, 9]\n",
      "[10, 3, 5, 7, 9]\n",
      "[10, 3, 5, 7, 9]\n"
     ]
    }
   ],
   "source": [
    "# 리스트 생성\n",
    "l1 = [1, 3, 5, 7, 9]\n",
    "print(l1)\n",
    "print(type(l1))\n",
    "\n",
    "# Indexing(인덱싱) : 특정 위치의 값을 추출하는 기능, [index]\n",
    "## 리스트의 첫번째 요소\n",
    "print(l1[0])\n",
    "print(l1[1])\n",
    "print(l1[4])\n",
    "## 리버스 인덱스(reverse index) : 리스트의 마지막 인덱스를 시작값으로 처리하는 인덱스, -1\n",
    "print(l1[-1])\n",
    "\n",
    "# 변경가능\n",
    "l1[0] = 10\n",
    "print(l1)\n",
    "\n",
    "# Slicing(슬라이싱) : 일부분의 값을 추출하는 기능, [시작위치:마지막위치], 실제추출(마지막위치-1)\n",
    "## 3, 5, 7 요소 추출\n",
    "print(l1[1:4])\n",
    "## 시작위치값을 생략하면 처음부터 추출\n",
    "print(l1[:3])\n",
    "## 마지막위치값을 생략하면 마지막까지 추출\n",
    "print(l1[2:])\n",
    "## 모든 자료 추출\n",
    "print(l1)\n",
    "print(l1[:])"
   ]
  },
  {
   "cell_type": "code",
   "execution_count": 9,
   "id": "f8754e78",
   "metadata": {
    "ExecuteTime": {
     "end_time": "2023-08-23T00:49:07.509477Z",
     "start_time": "2023-08-23T00:49:07.497517Z"
    }
   },
   "outputs": [],
   "source": [
    "# 숫자값을 담고 있는 리스트\n",
    "x = [1, 2, 3, 4, 5]\n",
    "y = ['python', 'c++', 'java']\n",
    "z = ['python', 1, -100]\n",
    "w = [1, 2, [3, 4, 5]]\n",
    "k = [[1, 2], [3, 4, 5]]"
   ]
  },
  {
   "cell_type": "code",
   "execution_count": 10,
   "id": "c4a3242a",
   "metadata": {
    "ExecuteTime": {
     "end_time": "2023-08-23T00:49:12.652828Z",
     "start_time": "2023-08-23T00:49:12.646853Z"
    }
   },
   "outputs": [
    {
     "data": {
      "text/plain": [
       "[1, 2, 3, 4, 5]"
      ]
     },
     "execution_count": 10,
     "metadata": {},
     "output_type": "execute_result"
    }
   ],
   "source": [
    "x"
   ]
  },
  {
   "cell_type": "code",
   "execution_count": 11,
   "id": "c8a7e58e",
   "metadata": {
    "ExecuteTime": {
     "end_time": "2023-08-23T00:49:13.856967Z",
     "start_time": "2023-08-23T00:49:13.841954Z"
    }
   },
   "outputs": [
    {
     "data": {
      "text/plain": [
       "['python', 'c++', 'java']"
      ]
     },
     "execution_count": 11,
     "metadata": {},
     "output_type": "execute_result"
    }
   ],
   "source": [
    "y"
   ]
  },
  {
   "cell_type": "code",
   "execution_count": 12,
   "id": "c9de7655",
   "metadata": {
    "ExecuteTime": {
     "end_time": "2023-08-23T00:49:16.099254Z",
     "start_time": "2023-08-23T00:49:16.087252Z"
    }
   },
   "outputs": [
    {
     "data": {
      "text/plain": [
       "['python', 1, -100]"
      ]
     },
     "execution_count": 12,
     "metadata": {},
     "output_type": "execute_result"
    }
   ],
   "source": [
    "z"
   ]
  },
  {
   "cell_type": "code",
   "execution_count": 13,
   "id": "fc6d8a83",
   "metadata": {
    "ExecuteTime": {
     "end_time": "2023-08-23T00:49:38.995619Z",
     "start_time": "2023-08-23T00:49:38.980403Z"
    }
   },
   "outputs": [
    {
     "data": {
      "text/plain": [
       "[1, 2, [3, 4, 5]]"
      ]
     },
     "execution_count": 13,
     "metadata": {},
     "output_type": "execute_result"
    }
   ],
   "source": [
    "w"
   ]
  },
  {
   "cell_type": "code",
   "execution_count": 14,
   "id": "50175096",
   "metadata": {
    "ExecuteTime": {
     "end_time": "2023-08-23T00:49:41.510895Z",
     "start_time": "2023-08-23T00:49:41.503860Z"
    }
   },
   "outputs": [
    {
     "data": {
      "text/plain": [
       "['python', 1, -100]"
      ]
     },
     "execution_count": 14,
     "metadata": {},
     "output_type": "execute_result"
    }
   ],
   "source": [
    "z"
   ]
  },
  {
   "cell_type": "code",
   "execution_count": 15,
   "id": "30d0fd73",
   "metadata": {
    "ExecuteTime": {
     "end_time": "2023-08-23T00:49:44.019872Z",
     "start_time": "2023-08-23T00:49:44.005899Z"
    }
   },
   "outputs": [
    {
     "data": {
      "text/plain": [
       "[[1, 2], [3, 4, 5]]"
      ]
     },
     "execution_count": 15,
     "metadata": {},
     "output_type": "execute_result"
    }
   ],
   "source": [
    "k"
   ]
  },
  {
   "cell_type": "code",
   "execution_count": 17,
   "id": "d3c4fd2b",
   "metadata": {
    "ExecuteTime": {
     "end_time": "2023-08-23T00:54:00.060085Z",
     "start_time": "2023-08-23T00:54:00.046083Z"
    }
   },
   "outputs": [
    {
     "name": "stdout",
     "output_type": "stream",
     "text": [
      "[1, 2, 3, ['a', 'b', 'c']]\n",
      "3\n",
      "['a', 'b', 'c']\n",
      "b\n",
      "b\n"
     ]
    }
   ],
   "source": [
    "# 중첩 리스트 : 리스트 안에 리스트를 가지고 있는 리스트\n",
    "x = [1, 2, 3, ['a', 'b', 'c']]\n",
    "print(x)\n",
    "\n",
    "# 리스트[행][열]\n",
    "print(x[2])\n",
    "print(x[3])\n",
    "print(x[3][1])\n",
    "print(x[-1][1])"
   ]
  },
  {
   "cell_type": "markdown",
   "id": "7b17b0e1",
   "metadata": {},
   "source": [
    "## 리스트 연산"
   ]
  },
  {
   "cell_type": "code",
   "execution_count": 19,
   "id": "c7f48609",
   "metadata": {
    "ExecuteTime": {
     "end_time": "2023-08-23T01:10:47.548198Z",
     "start_time": "2023-08-23T01:10:47.535226Z"
    }
   },
   "outputs": [
    {
     "name": "stdout",
     "output_type": "stream",
     "text": [
      "c :  [1, 2, 3, 4, 5]\n",
      "d :  [3, 4, 5, 1, 2]\n",
      "e :  [1, 2, 1, 2, 1, 2]\n",
      "f :  [1, 2, 1, 2, 3, 4, 5, 3, 4, 5, 3, 4, 5]\n"
     ]
    }
   ],
   "source": [
    "# +와 *\n",
    "## 더하기(+) : 리스트를 합치는 기능\n",
    "## 반복하기(*) : 리스트 * 상수\n",
    "a = [1, 2]\n",
    "b = [3, 4, 5]\n",
    "\n",
    "c = a + b # [1, 2, 3, 4, 5]\n",
    "d = b + a # [3, 4, 5, 1, 2]\n",
    "\n",
    "e = a * 3 # [1, 2, 1, 2, 1, 2]\n",
    "f = a * 2 + b * 3 # [1, 2, 1, 2, 3, 4, 5, 3, 4, 5, 3, 4, 5]\n",
    "\n",
    "print(\"c : \", c)\n",
    "print(\"d : \", d)\n",
    "print(\"e : \", e)\n",
    "print(\"f : \", f)"
   ]
  },
  {
   "cell_type": "markdown",
   "id": "888d6604",
   "metadata": {},
   "source": [
    "## 리스트의 인덱싱과 슬라이싱\n",
    "\n",
    "- 인덱싱(Indexing) : 특정 위치값 반환, 인덱스의 시작은 0부터, 음수일경우 뒤에서부터 \n",
    "- 슬라이싱(Slicing) : 일부분반환, 시작값:마지막값(마지막값-1)"
   ]
  },
  {
   "cell_type": "code",
   "execution_count": 20,
   "id": "2f650fbc",
   "metadata": {
    "ExecuteTime": {
     "end_time": "2023-08-23T01:11:13.482950Z",
     "start_time": "2023-08-23T01:11:13.467490Z"
    }
   },
   "outputs": [
    {
     "name": "stdout",
     "output_type": "stream",
     "text": [
      "[1, 2, [3, 4, 5], 'python']\n"
     ]
    }
   ],
   "source": [
    "# [index]\n",
    "a = [1, 2, [3, 4, 5], 'python']\n",
    "print(a)"
   ]
  },
  {
   "cell_type": "code",
   "execution_count": 21,
   "id": "4af03b8d",
   "metadata": {
    "ExecuteTime": {
     "end_time": "2023-08-23T01:11:19.348139Z",
     "start_time": "2023-08-23T01:11:19.334138Z"
    }
   },
   "outputs": [
    {
     "name": "stdout",
     "output_type": "stream",
     "text": [
      "1\n",
      "python\n",
      "[3, 4, 5]\n",
      "4\n",
      "t\n"
     ]
    }
   ],
   "source": [
    "print(a[0]) # 1\n",
    "print(a[-1]) # python\n",
    "print(a[2]) # [3, 4, 5]\n",
    "print(a[2][1]) # 4\n",
    "print(a[3][2]) # t"
   ]
  },
  {
   "cell_type": "code",
   "execution_count": 22,
   "id": "233749d9",
   "metadata": {
    "ExecuteTime": {
     "end_time": "2023-08-23T01:11:40.327994Z",
     "start_time": "2023-08-23T01:11:40.315993Z"
    }
   },
   "outputs": [
    {
     "name": "stdout",
     "output_type": "stream",
     "text": [
      "[1, 2]\n",
      "[1, 2, [3, 4, 5]]\n",
      "[[3, 4, 5], 'python']\n",
      "[4, 5]\n",
      "pyt\n"
     ]
    }
   ],
   "source": [
    "# [start:stop], start시작해서 stop-1까지 처리된다.\n",
    "a = [1, 2, [3, 4, 5], 'python']\n",
    "print(a[:2]) # start를 생략하면 처음부터 읽어온다., 0, 1\n",
    "print(a[0:3]) # 0, 1, 2\n",
    "print(a[2:]) # stop생략하면 끝까지 읽어온다.\n",
    "print(a[2][1:])\n",
    "print(a[3][:3])"
   ]
  },
  {
   "cell_type": "markdown",
   "id": "725509b5",
   "metadata": {},
   "source": [
    "## 리스트의 수정, 변경, 삭제"
   ]
  },
  {
   "cell_type": "code",
   "execution_count": 23,
   "id": "b1ef5bf5",
   "metadata": {
    "ExecuteTime": {
     "end_time": "2023-08-23T01:12:31.989346Z",
     "start_time": "2023-08-23T01:12:31.985377Z"
    }
   },
   "outputs": [
    {
     "name": "stdout",
     "output_type": "stream",
     "text": [
      "[1, 2, -100, 4, 5]\n"
     ]
    }
   ],
   "source": [
    "a = [1, 2, 3, 4, 5]\n",
    "a[2] = -100\n",
    "print(a)"
   ]
  },
  {
   "cell_type": "code",
   "execution_count": 24,
   "id": "fb8ac3cd",
   "metadata": {
    "ExecuteTime": {
     "end_time": "2023-08-23T01:13:01.636550Z",
     "start_time": "2023-08-23T01:13:01.627511Z"
    }
   },
   "outputs": [
    {
     "name": "stdout",
     "output_type": "stream",
     "text": [
      "[1, 'a', 'b', 'c', 3]\n"
     ]
    }
   ],
   "source": [
    "a = [1, 2, 3]\n",
    "a[1:2] = ['a', 'b', 'c']\n",
    "print(a)"
   ]
  },
  {
   "cell_type": "code",
   "execution_count": 25,
   "id": "76880a48",
   "metadata": {
    "ExecuteTime": {
     "end_time": "2023-08-23T01:14:04.362738Z",
     "start_time": "2023-08-23T01:14:04.345715Z"
    }
   },
   "outputs": [
    {
     "name": "stdout",
     "output_type": "stream",
     "text": [
      "a :  [10, 2, 3, 4, 5]\n",
      "b :  [10, 2, 3, 4, 5]\n"
     ]
    }
   ],
   "source": [
    "# 파이썬의 메모리 관리 방식\n",
    "# 리스트(List) : 1차원 배열\n",
    "## 깊은복사와 얕은복사\n",
    "\n",
    "a = [1, 2, 3, 4, 5]\n",
    "b = a  # a가 가르키는 것은 주소, b는 a의 주소를 참조(얕은복사)\n",
    "b[0] = 10\n",
    "\n",
    "print(\"a : \", a)\n",
    "print(\"b : \", b)"
   ]
  },
  {
   "cell_type": "code",
   "execution_count": 26,
   "id": "c8ee0d9f",
   "metadata": {
    "ExecuteTime": {
     "end_time": "2023-08-23T01:14:31.914816Z",
     "start_time": "2023-08-23T01:14:31.911846Z"
    }
   },
   "outputs": [
    {
     "name": "stdout",
     "output_type": "stream",
     "text": [
      "1988942580480\n",
      "1988942580480\n"
     ]
    }
   ],
   "source": [
    "# id() : 주소를 반환하는 함수\n",
    "print(id(a))\n",
    "print(id(b))"
   ]
  },
  {
   "cell_type": "code",
   "execution_count": 27,
   "id": "b2774490",
   "metadata": {
    "ExecuteTime": {
     "end_time": "2023-08-23T01:15:11.367641Z",
     "start_time": "2023-08-23T01:15:11.354670Z"
    }
   },
   "outputs": [
    {
     "name": "stdout",
     "output_type": "stream",
     "text": [
      "a :  [1, 2, 3, 4, 5]\n",
      "b :  [10, 2, 3, 4, 5]\n",
      "1988942522816\n",
      "1988942546048\n"
     ]
    }
   ],
   "source": [
    "a = [1, 2, 3, 4, 5]\n",
    "b = a[:] # 주소가 아니라 값을 복사(깊은복사)\n",
    "\n",
    "b[0] = 10\n",
    "print(\"a : \", a)\n",
    "print(\"b : \", b)\n",
    "\n",
    "print(id(a))\n",
    "print(id(b))"
   ]
  },
  {
   "cell_type": "code",
   "execution_count": 28,
   "id": "8a012d25",
   "metadata": {
    "ExecuteTime": {
     "end_time": "2023-08-23T01:15:29.858006Z",
     "start_time": "2023-08-23T01:15:29.842989Z"
    }
   },
   "outputs": [
    {
     "name": "stdout",
     "output_type": "stream",
     "text": [
      "[1, [], 3]\n"
     ]
    }
   ],
   "source": [
    "# 삭제\n",
    "a = [1, 2, 3]\n",
    "a[1] = []\n",
    "print(a)"
   ]
  },
  {
   "cell_type": "code",
   "execution_count": 29,
   "id": "0d6300e4",
   "metadata": {
    "ExecuteTime": {
     "end_time": "2023-08-23T01:15:38.774103Z",
     "start_time": "2023-08-23T01:15:38.758133Z"
    }
   },
   "outputs": [
    {
     "name": "stdout",
     "output_type": "stream",
     "text": [
      "[1, 3]\n"
     ]
    }
   ],
   "source": [
    "a[1:2] = []\n",
    "print(a)"
   ]
  },
  {
   "cell_type": "code",
   "execution_count": 30,
   "id": "d916cf28",
   "metadata": {
    "ExecuteTime": {
     "end_time": "2023-08-23T01:16:08.626499Z",
     "start_time": "2023-08-23T01:16:08.610863Z"
    }
   },
   "outputs": [
    {
     "name": "stdout",
     "output_type": "stream",
     "text": [
      "[1, 3]\n"
     ]
    }
   ],
   "source": [
    "a = [1, 2, 3]\n",
    "# del 명령어\n",
    "del a[1]\n",
    "print(a)"
   ]
  },
  {
   "cell_type": "code",
   "execution_count": 31,
   "id": "429acfd0",
   "metadata": {
    "ExecuteTime": {
     "end_time": "2023-08-23T01:16:37.076751Z",
     "start_time": "2023-08-23T01:16:37.073787Z"
    }
   },
   "outputs": [
    {
     "name": "stdout",
     "output_type": "stream",
     "text": [
      "[1, 4, 5]\n"
     ]
    }
   ],
   "source": [
    "a = [1, 2, 3, 4, 5]\n",
    "del a[1:3]\n",
    "print(a)"
   ]
  },
  {
   "cell_type": "markdown",
   "id": "4d26663a",
   "metadata": {},
   "source": [
    "## 리스트 관련 함수"
   ]
  },
  {
   "cell_type": "code",
   "execution_count": 32,
   "id": "b8721464",
   "metadata": {
    "ExecuteTime": {
     "end_time": "2023-08-23T01:17:16.918200Z",
     "start_time": "2023-08-23T01:17:16.899313Z"
    }
   },
   "outputs": [
    {
     "name": "stdout",
     "output_type": "stream",
     "text": [
      "[1, 2, 3, 4, 5, 6]\n"
     ]
    }
   ],
   "source": [
    "# append() : 리스트의 맨 뒤에 추가\n",
    "a = [1, 2, 3, 4, 5]\n",
    "a.append(6)\n",
    "print(a)"
   ]
  },
  {
   "cell_type": "code",
   "execution_count": 33,
   "id": "70956bcd",
   "metadata": {
    "ExecuteTime": {
     "end_time": "2023-08-23T01:17:39.194580Z",
     "start_time": "2023-08-23T01:17:39.186519Z"
    }
   },
   "outputs": [
    {
     "name": "stdout",
     "output_type": "stream",
     "text": [
      "[1, 2, 3, 4, 5]\n"
     ]
    }
   ],
   "source": [
    "a = [1, 2]\n",
    "b = [3, 4, 5]\n",
    "print(a + b) # append"
   ]
  },
  {
   "cell_type": "code",
   "execution_count": 34,
   "id": "93c2322a",
   "metadata": {
    "ExecuteTime": {
     "end_time": "2023-08-23T01:17:50.812268Z",
     "start_time": "2023-08-23T01:17:50.808268Z"
    }
   },
   "outputs": [
    {
     "name": "stdout",
     "output_type": "stream",
     "text": [
      "[1, 2, [3, 4, 5]]\n"
     ]
    }
   ],
   "source": [
    "a.append([3, 4, 5]) # 중첩 리스트\n",
    "print(a)"
   ]
  },
  {
   "cell_type": "code",
   "execution_count": 35,
   "id": "0dcd2946",
   "metadata": {
    "ExecuteTime": {
     "end_time": "2023-08-23T01:18:15.181481Z",
     "start_time": "2023-08-23T01:18:15.166498Z"
    }
   },
   "outputs": [
    {
     "name": "stdout",
     "output_type": "stream",
     "text": [
      "[1, 2, 3, 4, 5]\n"
     ]
    }
   ],
   "source": [
    "# extend : 리스트의 뒤에 여러개의 값을 추가하는 함수\n",
    "a = [1, 2]\n",
    "a.extend([3, 4, 5])\n",
    "print(a)"
   ]
  },
  {
   "cell_type": "code",
   "execution_count": 36,
   "id": "ab134255",
   "metadata": {
    "ExecuteTime": {
     "end_time": "2023-08-23T01:18:47.060600Z",
     "start_time": "2023-08-23T01:18:47.054601Z"
    }
   },
   "outputs": [
    {
     "name": "stdout",
     "output_type": "stream",
     "text": [
      "15\n"
     ]
    }
   ],
   "source": [
    "# sum : 합계\n",
    "a = [1, 2, 3, 4, 5]\n",
    "print(sum(a))"
   ]
  },
  {
   "cell_type": "code",
   "execution_count": 37,
   "id": "ad8d423c",
   "metadata": {
    "ExecuteTime": {
     "end_time": "2023-08-23T01:18:49.739823Z",
     "start_time": "2023-08-23T01:18:49.722632Z"
    }
   },
   "outputs": [
    {
     "name": "stdout",
     "output_type": "stream",
     "text": [
      "5\n",
      "1\n"
     ]
    }
   ],
   "source": [
    "# max/min : 최대값과 최소값을 반환\n",
    "print(max(a))\n",
    "print(min(a))"
   ]
  },
  {
   "cell_type": "code",
   "execution_count": 38,
   "id": "a8569da3",
   "metadata": {
    "ExecuteTime": {
     "end_time": "2023-08-23T01:19:17.209626Z",
     "start_time": "2023-08-23T01:19:17.205648Z"
    }
   },
   "outputs": [
    {
     "name": "stdout",
     "output_type": "stream",
     "text": [
      "5\n"
     ]
    }
   ],
   "source": [
    "# len() : 원소의 개수 반환, 튜플, 사전\n",
    "print(len(a))"
   ]
  },
  {
   "cell_type": "code",
   "execution_count": 39,
   "id": "8b93969c",
   "metadata": {
    "ExecuteTime": {
     "end_time": "2023-08-23T01:19:49.956278Z",
     "start_time": "2023-08-23T01:19:49.950277Z"
    }
   },
   "outputs": [
    {
     "name": "stdout",
     "output_type": "stream",
     "text": [
      "[1, 3, 2, 4, 5]\n"
     ]
    }
   ],
   "source": [
    "# sort() : 오름차순정렬\n",
    "# sort(reverse=True) : 내림차순\n",
    "a = [1, 3, 2, 4, 5]\n",
    "print(a)"
   ]
  },
  {
   "cell_type": "code",
   "execution_count": 40,
   "id": "ebca8218",
   "metadata": {
    "ExecuteTime": {
     "end_time": "2023-08-23T01:20:06.948661Z",
     "start_time": "2023-08-23T01:20:06.931706Z"
    }
   },
   "outputs": [
    {
     "name": "stdout",
     "output_type": "stream",
     "text": [
      "[1, 2, 3, 4, 5]\n"
     ]
    }
   ],
   "source": [
    "a.sort() # a값이 변경된다.\n",
    "print(a)"
   ]
  },
  {
   "cell_type": "code",
   "execution_count": 41,
   "id": "d2bd7e75",
   "metadata": {
    "ExecuteTime": {
     "end_time": "2023-08-23T01:20:53.667246Z",
     "start_time": "2023-08-23T01:20:53.652211Z"
    }
   },
   "outputs": [
    {
     "name": "stdout",
     "output_type": "stream",
     "text": [
      "[5, 4, 3, 2, 1]\n"
     ]
    }
   ],
   "source": [
    "a = [1, 3, 2, 4, 5]\n",
    "a.sort(reverse = True)\n",
    "print(a)"
   ]
  },
  {
   "cell_type": "code",
   "execution_count": 42,
   "id": "c8dba38b",
   "metadata": {
    "ExecuteTime": {
     "end_time": "2023-08-23T01:21:04.175479Z",
     "start_time": "2023-08-23T01:21:04.159486Z"
    }
   },
   "outputs": [
    {
     "name": "stdout",
     "output_type": "stream",
     "text": [
      "[5, 4, 3, 2, 1]\n"
     ]
    }
   ],
   "source": [
    "a.sort(reverse=True)\n",
    "print(a)"
   ]
  },
  {
   "cell_type": "code",
   "execution_count": 43,
   "id": "c6bf6d1a",
   "metadata": {
    "ExecuteTime": {
     "end_time": "2023-08-23T01:22:34.857761Z",
     "start_time": "2023-08-23T01:22:34.845796Z"
    }
   },
   "outputs": [
    {
     "name": "stdout",
     "output_type": "stream",
     "text": [
      "[5, 4, 2, 3, 1]\n"
     ]
    }
   ],
   "source": [
    "a = [1, 3, 2, 4, 5]\n",
    "# reverse() : 리스트를 역순으로 뒤집는 함수\n",
    "a.reverse()\n",
    "print(a)"
   ]
  },
  {
   "cell_type": "code",
   "execution_count": 44,
   "id": "d0898730",
   "metadata": {
    "ExecuteTime": {
     "end_time": "2023-08-23T01:23:17.294349Z",
     "start_time": "2023-08-23T01:23:17.285382Z"
    }
   },
   "outputs": [
    {
     "name": "stdout",
     "output_type": "stream",
     "text": [
      "[1, 3, 4, 5]\n"
     ]
    }
   ],
   "source": [
    "# remove : 값을 삭제하는 함수, \n",
    "a = [1, 2, 3, 4, 5]\n",
    "a.remove(2)\n",
    "print(a)"
   ]
  },
  {
   "cell_type": "code",
   "execution_count": 45,
   "id": "67ff4e45",
   "metadata": {
    "ExecuteTime": {
     "end_time": "2023-08-23T01:24:12.859840Z",
     "start_time": "2023-08-23T01:24:12.848811Z"
    }
   },
   "outputs": [
    {
     "name": "stdout",
     "output_type": "stream",
     "text": [
      "[1, 2, 1, 2, 3]\n"
     ]
    }
   ],
   "source": [
    "# 리스트 요소를 삭제하는 remove 함수는 첫번째 나오는 값을 삭제한다.\n",
    "a = [1, 2, 3, 1, 2, 3]\n",
    "a.remove(3)\n",
    "print(a)"
   ]
  },
  {
   "cell_type": "code",
   "execution_count": null,
   "id": "f1b6b1e0",
   "metadata": {
    "ExecuteTime": {
     "end_time": "2023-08-22T08:30:27.657141Z",
     "start_time": "2023-08-22T08:30:27.651171Z"
    }
   },
   "outputs": [],
   "source": [
    "# pop() : 마지막에 입력된값을 추출\n",
    "a = [1, 2, 3, 4, 5]\n",
    "a.pop()\n",
    "print(a)"
   ]
  },
  {
   "cell_type": "code",
   "execution_count": 46,
   "id": "086687df",
   "metadata": {
    "ExecuteTime": {
     "end_time": "2023-08-23T01:25:25.559082Z",
     "start_time": "2023-08-23T01:25:25.555077Z"
    }
   },
   "outputs": [
    {
     "name": "stdout",
     "output_type": "stream",
     "text": [
      "5\n"
     ]
    }
   ],
   "source": [
    "# pop() 리스트의 마지막 요소를 추출(삭제)\n",
    "a = [1, 2, 3, 4, 5]\n",
    "xx = a.pop()\n",
    "print(xx)"
   ]
  },
  {
   "cell_type": "code",
   "execution_count": 48,
   "id": "75e64c43",
   "metadata": {
    "ExecuteTime": {
     "end_time": "2023-08-23T01:26:18.733278Z",
     "start_time": "2023-08-23T01:26:18.729277Z"
    }
   },
   "outputs": [
    {
     "name": "stdout",
     "output_type": "stream",
     "text": [
      "[1, 2, 3, 4]\n"
     ]
    }
   ],
   "source": [
    "a = [1, 2, 3, 4, 5]\n",
    "a.pop()\n",
    "print(a)"
   ]
  },
  {
   "cell_type": "code",
   "execution_count": 47,
   "id": "19258364",
   "metadata": {
    "ExecuteTime": {
     "end_time": "2023-08-23T01:25:34.441955Z",
     "start_time": "2023-08-23T01:25:34.424053Z"
    }
   },
   "outputs": [
    {
     "name": "stdout",
     "output_type": "stream",
     "text": [
      "[2, 3, 4]\n"
     ]
    }
   ],
   "source": [
    "# pop(index)\n",
    "a.pop(0)\n",
    "print(a)"
   ]
  },
  {
   "cell_type": "code",
   "execution_count": 49,
   "id": "709b1cc9",
   "metadata": {
    "ExecuteTime": {
     "end_time": "2023-08-23T01:26:44.734083Z",
     "start_time": "2023-08-23T01:26:44.728061Z"
    }
   },
   "outputs": [
    {
     "name": "stdout",
     "output_type": "stream",
     "text": [
      "[1, 2, 3, 4, 5]\n",
      "[]\n"
     ]
    }
   ],
   "source": [
    "# clear() : 리스트의 모든 요소 제거\n",
    "a = [1, 2, 3, 4, 5]\n",
    "print(a)\n",
    "a.clear()\n",
    "print(a)"
   ]
  },
  {
   "cell_type": "code",
   "execution_count": 50,
   "id": "286445e3",
   "metadata": {
    "ExecuteTime": {
     "end_time": "2023-08-23T01:28:08.617202Z",
     "start_time": "2023-08-23T01:28:08.605237Z"
    }
   },
   "outputs": [
    {
     "data": {
      "text/plain": [
       "3"
      ]
     },
     "execution_count": 50,
     "metadata": {},
     "output_type": "execute_result"
    }
   ],
   "source": [
    "# count(x) : 해당 리스트에서 x의 개수를 반환해주는 함수\n",
    "a = [1, 1, 2, 2, 2, 3, 3, 3, 3, 4, 4, 4, 4, 4, 5]\n",
    "a.count(2)"
   ]
  },
  {
   "cell_type": "markdown",
   "id": "1bffd388",
   "metadata": {},
   "source": [
    "# 튜플(Tuple)\n",
    "\n",
    "- 리스트와 유사한 자료구조 유일하게 다른 점은 변경이 불가능하다.\n",
    "- 읽기전용 자료를 보관할 때 사용\n",
    "- 각 값에 인덱스가 부여된다.\n",
    "- 생성 : (), tuple()\n",
    "- 리스트관련함수도 함께 사용가능"
   ]
  },
  {
   "cell_type": "markdown",
   "id": "979ffe6d",
   "metadata": {},
   "source": [
    "## 튜플 생성"
   ]
  },
  {
   "cell_type": "code",
   "execution_count": 51,
   "id": "5c092627",
   "metadata": {
    "ExecuteTime": {
     "end_time": "2023-08-23T01:29:58.152365Z",
     "start_time": "2023-08-23T01:29:58.145383Z"
    }
   },
   "outputs": [
    {
     "name": "stdout",
     "output_type": "stream",
     "text": [
      "[1, 2, 3, 4, 5] <class 'list'>\n",
      "(1, 2, 3, 4, 5) <class 'tuple'>\n",
      "(1, 2, 3, 4, 5) <class 'tuple'>\n"
     ]
    }
   ],
   "source": [
    "a = [1, 2, 3, 4, 5]\n",
    "b = (1, 2, 3, 4, 5)\n",
    "# 파이썬의 기본자료형은 튜플이다.\n",
    "c = 1, 2, 3, 4, 5 # 패킹(packing) - 여러개의 값을 하나의 변수에 담는 기능\n",
    "\n",
    "print(a, type(a))\n",
    "print(b, type(b))\n",
    "print(c, type(c))"
   ]
  },
  {
   "cell_type": "code",
   "execution_count": 52,
   "id": "9e356c0c",
   "metadata": {
    "ExecuteTime": {
     "end_time": "2023-08-23T01:30:11.133055Z",
     "start_time": "2023-08-23T01:30:11.122022Z"
    }
   },
   "outputs": [
    {
     "name": "stdout",
     "output_type": "stream",
     "text": [
      "(1, 2, 3, 4, 5) <class 'tuple'>\n"
     ]
    }
   ],
   "source": [
    "a = 1, 2, 3, 4, 5\n",
    "print(a, type(a)) # 파이썬의 기본 자료구조는 튜플이다."
   ]
  },
  {
   "cell_type": "code",
   "execution_count": 53,
   "id": "6d507e84",
   "metadata": {
    "ExecuteTime": {
     "end_time": "2023-08-23T01:30:29.389834Z",
     "start_time": "2023-08-23T01:30:29.382871Z"
    }
   },
   "outputs": [
    {
     "name": "stdout",
     "output_type": "stream",
     "text": [
      "2\n",
      "(2, 3)\n"
     ]
    }
   ],
   "source": [
    "a = (1, 2, 3, 4, 5)\n",
    "# [index]\n",
    "\n",
    "# slicing[start:stop]\n",
    "print(a[1])\n",
    "print(a[1:3])"
   ]
  },
  {
   "cell_type": "code",
   "execution_count": 54,
   "id": "c276f651",
   "metadata": {
    "ExecuteTime": {
     "end_time": "2023-08-23T01:30:33.016147Z",
     "start_time": "2023-08-23T01:30:33.010145Z"
    }
   },
   "outputs": [
    {
     "data": {
      "text/plain": [
       "3"
      ]
     },
     "execution_count": 54,
     "metadata": {},
     "output_type": "execute_result"
    }
   ],
   "source": [
    "a[2]"
   ]
  },
  {
   "cell_type": "code",
   "execution_count": 55,
   "id": "728d1c35",
   "metadata": {
    "ExecuteTime": {
     "end_time": "2023-08-23T01:30:37.994257Z",
     "start_time": "2023-08-23T01:30:37.985257Z"
    }
   },
   "outputs": [
    {
     "ename": "TypeError",
     "evalue": "'tuple' object does not support item assignment",
     "output_type": "error",
     "traceback": [
      "\u001b[1;31m---------------------------------------------------------------------------\u001b[0m",
      "\u001b[1;31mTypeError\u001b[0m                                 Traceback (most recent call last)",
      "\u001b[1;32m~\\AppData\\Local\\Temp/ipykernel_6208/1815906307.py\u001b[0m in \u001b[0;36m<module>\u001b[1;34m\u001b[0m\n\u001b[1;32m----> 1\u001b[1;33m \u001b[0ma\u001b[0m\u001b[1;33m[\u001b[0m\u001b[1;36m2\u001b[0m\u001b[1;33m]\u001b[0m \u001b[1;33m=\u001b[0m \u001b[1;36m100\u001b[0m \u001b[1;31m# 튜플은 변경이 불가능하다.\u001b[0m\u001b[1;33m\u001b[0m\u001b[1;33m\u001b[0m\u001b[0m\n\u001b[0m",
      "\u001b[1;31mTypeError\u001b[0m: 'tuple' object does not support item assignment"
     ]
    }
   ],
   "source": [
    "a[2] = 100 # 튜플은 변경이 불가능하다."
   ]
  },
  {
   "cell_type": "code",
   "execution_count": 56,
   "id": "1a1f800f",
   "metadata": {
    "ExecuteTime": {
     "end_time": "2023-08-23T01:30:50.071593Z",
     "start_time": "2023-08-23T01:30:50.057624Z"
    }
   },
   "outputs": [
    {
     "ename": "TypeError",
     "evalue": "'tuple' object doesn't support item deletion",
     "output_type": "error",
     "traceback": [
      "\u001b[1;31m---------------------------------------------------------------------------\u001b[0m",
      "\u001b[1;31mTypeError\u001b[0m                                 Traceback (most recent call last)",
      "\u001b[1;32m~\\AppData\\Local\\Temp/ipykernel_6208/1251506871.py\u001b[0m in \u001b[0;36m<module>\u001b[1;34m\u001b[0m\n\u001b[1;32m----> 1\u001b[1;33m \u001b[1;32mdel\u001b[0m \u001b[0ma\u001b[0m\u001b[1;33m[\u001b[0m\u001b[1;36m2\u001b[0m\u001b[1;33m]\u001b[0m\u001b[1;33m\u001b[0m\u001b[1;33m\u001b[0m\u001b[0m\n\u001b[0m",
      "\u001b[1;31mTypeError\u001b[0m: 'tuple' object doesn't support item deletion"
     ]
    }
   ],
   "source": [
    "del a[2]"
   ]
  },
  {
   "cell_type": "code",
   "execution_count": 57,
   "id": "cccbcc40",
   "metadata": {
    "ExecuteTime": {
     "end_time": "2023-08-23T01:30:56.700159Z",
     "start_time": "2023-08-23T01:30:56.684629Z"
    }
   },
   "outputs": [
    {
     "name": "stdout",
     "output_type": "stream",
     "text": [
      "15\n",
      "1\n",
      "5\n"
     ]
    }
   ],
   "source": [
    "print(sum(a))\n",
    "print(min(a))\n",
    "print(max(a))"
   ]
  },
  {
   "cell_type": "code",
   "execution_count": 58,
   "id": "3771928d",
   "metadata": {
    "ExecuteTime": {
     "end_time": "2023-08-23T01:30:59.329473Z",
     "start_time": "2023-08-23T01:30:59.308470Z"
    }
   },
   "outputs": [
    {
     "name": "stdout",
     "output_type": "stream",
     "text": [
      "(1, 2, 3, 4, 5)\n",
      "(3, 4, 5, 3, 4, 5, 3, 4, 5)\n"
     ]
    }
   ],
   "source": [
    "a = (1, 2)\n",
    "b = (3, 4, 5)\n",
    "\n",
    "print(a + b)\n",
    "print(b * 3)"
   ]
  },
  {
   "cell_type": "code",
   "execution_count": 61,
   "id": "144c947f",
   "metadata": {
    "ExecuteTime": {
     "end_time": "2023-08-23T01:32:43.292402Z",
     "start_time": "2023-08-23T01:32:43.279433Z"
    }
   },
   "outputs": [
    {
     "name": "stdout",
     "output_type": "stream",
     "text": [
      "(1, 2, 'a', 'b', 3, 4)\n"
     ]
    }
   ],
   "source": [
    "# 튜플 연산 : +, *\n",
    "t1 = (1, 2, 'a', 'b')\n",
    "t2 = (3, 4)\n",
    "\n",
    "t3 = t1 + t2\n",
    "print(t3)"
   ]
  },
  {
   "cell_type": "code",
   "execution_count": 62,
   "id": "a34ce089",
   "metadata": {
    "ExecuteTime": {
     "end_time": "2023-08-23T01:33:49.106885Z",
     "start_time": "2023-08-23T01:33:49.095838Z"
    }
   },
   "outputs": [
    {
     "name": "stdout",
     "output_type": "stream",
     "text": [
      "[1, 2, 3, 4, 5] <class 'list'>\n",
      "(1, 2, 3, 4, 5) <class 'tuple'>\n"
     ]
    }
   ],
   "source": [
    "# 형변환\n",
    "a = [1, 2, 3, 4, 5]\n",
    "b = tuple(a)\n",
    "\n",
    "print(a, type(a))\n",
    "print(b, type(b))"
   ]
  },
  {
   "cell_type": "code",
   "execution_count": 63,
   "id": "3db63b3e",
   "metadata": {
    "ExecuteTime": {
     "end_time": "2023-08-23T01:34:43.651902Z",
     "start_time": "2023-08-23T01:34:43.647868Z"
    }
   },
   "outputs": [
    {
     "name": "stdout",
     "output_type": "stream",
     "text": [
      "(3, 4, 3, 4, 3, 4)\n"
     ]
    }
   ],
   "source": [
    "print(t2 * 3)"
   ]
  },
  {
   "cell_type": "markdown",
   "id": "9faf9821",
   "metadata": {},
   "source": [
    "# 사전(Dictionary)\n",
    "\n",
    "- 파이썬에서 가장 많이 사용되는 자료구조\n",
    "- 데이터분석을 위한 라이브러리 pandas : 시리즈와 데이터프레임\n",
    "- 키와 값을 쌍으로 관리하는 자료구조\n",
    "- 키는 중복을 허용하지 않지만 값은 중복을 허용한다.\n",
    "- 순서가 중요하지 않다.\n",
    "- 키(key)를 통해 데이터를 읽어온다.\n",
    "- 생성 : {}, dict()\n",
    "- 주요함수\n",
    "  - 사전.keys() : key만 추출\n",
    "  - 사전.values() : values만 추출\n",
    "  - 사전.items() : item(key:value)단위로 추출\n",
    "  - keys(), values(), items()의 결과는 모두 리스트로 반환된다."
   ]
  },
  {
   "cell_type": "code",
   "execution_count": 64,
   "id": "bef8c47a",
   "metadata": {
    "ExecuteTime": {
     "end_time": "2023-08-23T01:38:05.159807Z",
     "start_time": "2023-08-23T01:38:05.141829Z"
    }
   },
   "outputs": [
    {
     "name": "stdout",
     "output_type": "stream",
     "text": [
      "{} <class 'dict'>\n"
     ]
    }
   ],
   "source": [
    "a = {}\n",
    "print(a, type(a))"
   ]
  },
  {
   "cell_type": "code",
   "execution_count": 65,
   "id": "2baa2d2a",
   "metadata": {
    "ExecuteTime": {
     "end_time": "2023-08-23T01:38:51.660558Z",
     "start_time": "2023-08-23T01:38:51.654582Z"
    }
   },
   "outputs": [
    {
     "name": "stdout",
     "output_type": "stream",
     "text": [
      "{} <class 'dict'>\n"
     ]
    }
   ],
   "source": [
    "b = dict()\n",
    "print(b, type(b))"
   ]
  },
  {
   "cell_type": "code",
   "execution_count": 66,
   "id": "043e34fc",
   "metadata": {
    "ExecuteTime": {
     "end_time": "2023-08-23T01:41:01.051703Z",
     "start_time": "2023-08-23T01:41:01.043666Z"
    }
   },
   "outputs": [
    {
     "name": "stdout",
     "output_type": "stream",
     "text": [
      "{'name': '홍길동', 'phone': '010-9999-1234', 'birth': '2023-08-23'}\n"
     ]
    }
   ],
   "source": [
    "dic = {'name':'홍길동', 'phone':'010-9999-1234', 'birth':'2023-08-23'}\n",
    "print(dic)"
   ]
  },
  {
   "cell_type": "code",
   "execution_count": 67,
   "id": "116f7805",
   "metadata": {
    "ExecuteTime": {
     "end_time": "2023-08-23T01:41:46.062342Z",
     "start_time": "2023-08-23T01:41:46.043382Z"
    }
   },
   "outputs": [
    {
     "name": "stdout",
     "output_type": "stream",
     "text": [
      "홍길동\n"
     ]
    }
   ],
   "source": [
    "print(dic['name'])"
   ]
  },
  {
   "cell_type": "code",
   "execution_count": 69,
   "id": "148dc3fd",
   "metadata": {
    "ExecuteTime": {
     "end_time": "2023-08-23T01:42:38.526576Z",
     "start_time": "2023-08-23T01:42:38.523579Z"
    }
   },
   "outputs": [
    {
     "name": "stdout",
     "output_type": "stream",
     "text": [
      "{'name': '장보고', 'phone': '010-9999-1234', 'birth': '2023-08-23'}\n"
     ]
    }
   ],
   "source": [
    "dic['name'] = '장보고'\n",
    "print(dic)"
   ]
  },
  {
   "cell_type": "code",
   "execution_count": 70,
   "id": "d1e3e12a",
   "metadata": {
    "ExecuteTime": {
     "end_time": "2023-08-23T01:43:20.688454Z",
     "start_time": "2023-08-23T01:43:20.673466Z"
    }
   },
   "outputs": [
    {
     "name": "stdout",
     "output_type": "stream",
     "text": [
      "{'name': '장보고', 'phone': '010-9999-1234'}\n"
     ]
    }
   ],
   "source": [
    "del dic['birth']\n",
    "print(dic)"
   ]
  },
  {
   "cell_type": "code",
   "execution_count": 71,
   "id": "6d28c089",
   "metadata": {
    "ExecuteTime": {
     "end_time": "2023-08-23T01:43:56.619740Z",
     "start_time": "2023-08-23T01:43:56.612673Z"
    }
   },
   "outputs": [
    {
     "name": "stdout",
     "output_type": "stream",
     "text": [
      "{'name': '장보고', 'phone': '010-9999-1234', 'gender': 'M'}\n"
     ]
    }
   ],
   "source": [
    "dic['gender'] = 'M'\n",
    "print(dic)"
   ]
  },
  {
   "cell_type": "code",
   "execution_count": 72,
   "id": "c3d0871e",
   "metadata": {
    "ExecuteTime": {
     "end_time": "2023-08-23T01:44:46.095911Z",
     "start_time": "2023-08-23T01:44:46.091907Z"
    }
   },
   "outputs": [
    {
     "data": {
      "text/plain": [
       "dict_keys(['name', 'phone', 'gender'])"
      ]
     },
     "execution_count": 72,
     "metadata": {},
     "output_type": "execute_result"
    }
   ],
   "source": [
    "# key만 추출\n",
    "dic.keys()"
   ]
  },
  {
   "cell_type": "code",
   "execution_count": 73,
   "id": "4d1c19d5",
   "metadata": {
    "ExecuteTime": {
     "end_time": "2023-08-23T01:46:39.011304Z",
     "start_time": "2023-08-23T01:46:38.999334Z"
    }
   },
   "outputs": [
    {
     "name": "stdout",
     "output_type": "stream",
     "text": [
      "name\n",
      "phone\n",
      "gender\n"
     ]
    }
   ],
   "source": [
    "# for 개별변수 in 집합변수:\n",
    "for key in dic.keys():\n",
    "    print(key)"
   ]
  },
  {
   "cell_type": "code",
   "execution_count": 74,
   "id": "4b368018",
   "metadata": {
    "ExecuteTime": {
     "end_time": "2023-08-23T01:47:17.202875Z",
     "start_time": "2023-08-23T01:47:17.187378Z"
    }
   },
   "outputs": [
    {
     "data": {
      "text/plain": [
       "dict_values(['장보고', '010-9999-1234', 'M'])"
      ]
     },
     "execution_count": 74,
     "metadata": {},
     "output_type": "execute_result"
    }
   ],
   "source": [
    "dic.values()"
   ]
  },
  {
   "cell_type": "code",
   "execution_count": 75,
   "id": "6482ce91",
   "metadata": {
    "ExecuteTime": {
     "end_time": "2023-08-23T01:47:37.978049Z",
     "start_time": "2023-08-23T01:47:37.969049Z"
    }
   },
   "outputs": [
    {
     "data": {
      "text/plain": [
       "['장보고', '010-9999-1234', 'M']"
      ]
     },
     "execution_count": 75,
     "metadata": {},
     "output_type": "execute_result"
    }
   ],
   "source": [
    "list(dic.values())"
   ]
  },
  {
   "cell_type": "code",
   "execution_count": 76,
   "id": "1d0c5383",
   "metadata": {
    "ExecuteTime": {
     "end_time": "2023-08-23T01:47:53.906039Z",
     "start_time": "2023-08-23T01:47:53.891038Z"
    }
   },
   "outputs": [
    {
     "data": {
      "text/plain": [
       "dict_items([('name', '장보고'), ('phone', '010-9999-1234'), ('gender', 'M')])"
      ]
     },
     "execution_count": 76,
     "metadata": {},
     "output_type": "execute_result"
    }
   ],
   "source": [
    "dic.items()"
   ]
  },
  {
   "cell_type": "code",
   "execution_count": 77,
   "id": "1bd33ad4",
   "metadata": {
    "ExecuteTime": {
     "end_time": "2023-08-23T01:49:08.978948Z",
     "start_time": "2023-08-23T01:49:08.972944Z"
    }
   },
   "outputs": [
    {
     "name": "stdout",
     "output_type": "stream",
     "text": [
      "name : 장보고\n",
      "phone : 010-9999-1234\n",
      "gender : M\n"
     ]
    }
   ],
   "source": [
    "for key, value in dic.items():\n",
    "    print(f\"{key} : {value}\")"
   ]
  },
  {
   "cell_type": "code",
   "execution_count": 78,
   "id": "2046dd81",
   "metadata": {
    "ExecuteTime": {
     "end_time": "2023-08-23T01:50:56.668367Z",
     "start_time": "2023-08-23T01:50:56.661331Z"
    }
   },
   "outputs": [
    {
     "name": "stdout",
     "output_type": "stream",
     "text": [
      "장보고\n",
      "장보고\n"
     ]
    }
   ],
   "source": [
    "# get() : key를 이용해서 value를 얻어오는 함수\n",
    "print(dic['name'])\n",
    "print(dic.get('name'))"
   ]
  },
  {
   "cell_type": "markdown",
   "id": "e01adf21",
   "metadata": {},
   "source": [
    "# 집합(Set)\n",
    "\n",
    "- 인덱스가 없고, 값만 저장되는 자료구조\n",
    "- 순서는 의미가 없다.\n",
    "- 생성 : set()\n",
    "- 콤마(,)를 기준으로 아이템 구분\n",
    "- 중복값을 허용하지 않는다."
   ]
  },
  {
   "cell_type": "code",
   "execution_count": 79,
   "id": "304906fa",
   "metadata": {
    "ExecuteTime": {
     "end_time": "2023-08-23T01:51:48.104526Z",
     "start_time": "2023-08-23T01:51:48.084550Z"
    }
   },
   "outputs": [
    {
     "ename": "TypeError",
     "evalue": "set expected at most 1 argument, got 3",
     "output_type": "error",
     "traceback": [
      "\u001b[1;31m---------------------------------------------------------------------------\u001b[0m",
      "\u001b[1;31mTypeError\u001b[0m                                 Traceback (most recent call last)",
      "\u001b[1;32m~\\AppData\\Local\\Temp/ipykernel_6208/1359710438.py\u001b[0m in \u001b[0;36m<module>\u001b[1;34m\u001b[0m\n\u001b[1;32m----> 1\u001b[1;33m \u001b[0ms1\u001b[0m \u001b[1;33m=\u001b[0m \u001b[0mset\u001b[0m\u001b[1;33m(\u001b[0m\u001b[1;36m1\u001b[0m\u001b[1;33m,\u001b[0m \u001b[1;36m2\u001b[0m\u001b[1;33m,\u001b[0m \u001b[1;36m3\u001b[0m\u001b[1;33m)\u001b[0m\u001b[1;33m\u001b[0m\u001b[1;33m\u001b[0m\u001b[0m\n\u001b[0m\u001b[0;32m      2\u001b[0m \u001b[0mprint\u001b[0m\u001b[1;33m(\u001b[0m\u001b[0ms1\u001b[0m\u001b[1;33m)\u001b[0m\u001b[1;33m\u001b[0m\u001b[1;33m\u001b[0m\u001b[0m\n",
      "\u001b[1;31mTypeError\u001b[0m: set expected at most 1 argument, got 3"
     ]
    }
   ],
   "source": [
    "s1 = set(1, 2, 3)\n",
    "print(s1)"
   ]
  },
  {
   "cell_type": "code",
   "execution_count": 80,
   "id": "e36702a4",
   "metadata": {
    "ExecuteTime": {
     "end_time": "2023-08-23T01:52:44.335058Z",
     "start_time": "2023-08-23T01:52:44.330093Z"
    }
   },
   "outputs": [
    {
     "name": "stdout",
     "output_type": "stream",
     "text": [
      "{1, 2, 3}\n"
     ]
    }
   ],
   "source": [
    "s1 = set([1, 2, 3])\n",
    "print(s1)"
   ]
  },
  {
   "cell_type": "code",
   "execution_count": 81,
   "id": "a448e0fc",
   "metadata": {
    "ExecuteTime": {
     "end_time": "2023-08-23T01:52:51.279867Z",
     "start_time": "2023-08-23T01:52:51.264789Z"
    }
   },
   "outputs": [
    {
     "name": "stdout",
     "output_type": "stream",
     "text": [
      "<class 'set'>\n"
     ]
    }
   ],
   "source": [
    "print(type(s1))"
   ]
  },
  {
   "cell_type": "code",
   "execution_count": 82,
   "id": "5fc7b471",
   "metadata": {
    "ExecuteTime": {
     "end_time": "2023-08-23T01:53:26.456065Z",
     "start_time": "2023-08-23T01:53:26.447034Z"
    }
   },
   "outputs": [
    {
     "name": "stdout",
     "output_type": "stream",
     "text": [
      "{'o', 'h', 'n', 't', 'P', 'y'}\n"
     ]
    }
   ],
   "source": [
    "s2 = set(\"Python\")\n",
    "print(s2)"
   ]
  },
  {
   "cell_type": "code",
   "execution_count": 83,
   "id": "d2c0f83e",
   "metadata": {
    "ExecuteTime": {
     "end_time": "2023-08-23T01:54:22.255551Z",
     "start_time": "2023-08-23T01:54:22.248590Z"
    }
   },
   "outputs": [
    {
     "name": "stdout",
     "output_type": "stream",
     "text": [
      "['o', 'h', 'n', 't', 'P', 'y']\n"
     ]
    }
   ],
   "source": [
    "a = list(s2)\n",
    "print(a)"
   ]
  },
  {
   "cell_type": "code",
   "execution_count": 84,
   "id": "1fb6a544",
   "metadata": {
    "ExecuteTime": {
     "end_time": "2023-08-23T01:54:38.884178Z",
     "start_time": "2023-08-23T01:54:38.868115Z"
    }
   },
   "outputs": [
    {
     "name": "stdout",
     "output_type": "stream",
     "text": [
      "(1, 2, 3)\n"
     ]
    }
   ],
   "source": [
    "b = tuple(s1)\n",
    "print(b)"
   ]
  },
  {
   "cell_type": "code",
   "execution_count": 85,
   "id": "8ce3f4ec",
   "metadata": {
    "ExecuteTime": {
     "end_time": "2023-08-23T01:56:15.899905Z",
     "start_time": "2023-08-23T01:56:15.891835Z"
    }
   },
   "outputs": [
    {
     "name": "stdout",
     "output_type": "stream",
     "text": [
      "[1, 2, 3, 3, 4, 5, 6, 6, 7] <class 'list'>\n",
      "{1, 2, 3, 4, 5, 6, 7} <class 'set'>\n"
     ]
    }
   ],
   "source": [
    "a = [1, 2, 3, 3, 4, 5, 6, 6, 7]\n",
    "print(a, type(a))\n",
    "\n",
    "# 집합은 중복을 허용하지 않는다.\n",
    "b = set(a)\n",
    "print(b, type(b))"
   ]
  },
  {
   "cell_type": "markdown",
   "id": "5ff592e8",
   "metadata": {},
   "source": [
    "## 교집합, 합집합, 차집합"
   ]
  },
  {
   "cell_type": "code",
   "execution_count": 86,
   "id": "bf9d8ce6",
   "metadata": {
    "ExecuteTime": {
     "end_time": "2023-08-23T01:58:53.663301Z",
     "start_time": "2023-08-23T01:58:53.644357Z"
    }
   },
   "outputs": [
    {
     "name": "stdout",
     "output_type": "stream",
     "text": [
      "{1, 2, 3, 4, 5, 6, 7, 8, 9}\n",
      "{1, 2, 3, 4, 5, 6, 7, 8, 9}\n"
     ]
    }
   ],
   "source": [
    "s1 = set([1, 2, 3, 4, 5, 6])\n",
    "s2 = set([4, 5, 6, 7, 8, 9])\n",
    "\n",
    "## 합집합 : '|' or union()\n",
    "print(s1 | s2)\n",
    "print(s1.union(s2))"
   ]
  },
  {
   "cell_type": "code",
   "execution_count": 87,
   "id": "26c58bb0",
   "metadata": {
    "ExecuteTime": {
     "end_time": "2023-08-23T02:00:03.311918Z",
     "start_time": "2023-08-23T02:00:03.294918Z"
    }
   },
   "outputs": [
    {
     "name": "stdout",
     "output_type": "stream",
     "text": [
      "{4, 5, 6}\n",
      "{4, 5, 6}\n"
     ]
    }
   ],
   "source": [
    "# 교집합 : '&' intersection()\n",
    "print(s1 & s2)\n",
    "print(s1.intersection(s2))"
   ]
  },
  {
   "cell_type": "code",
   "execution_count": 88,
   "id": "a80daa04",
   "metadata": {
    "ExecuteTime": {
     "end_time": "2023-08-23T02:01:18.705464Z",
     "start_time": "2023-08-23T02:01:18.699429Z"
    }
   },
   "outputs": [
    {
     "name": "stdout",
     "output_type": "stream",
     "text": [
      "{1, 2, 3}\n",
      "{8, 9, 7}\n",
      "{1, 2, 3}\n"
     ]
    }
   ],
   "source": [
    "# 차집합 : '-' or difference()\n",
    "print(s1 - s2)\n",
    "print(s2 - s1)\n",
    "\n",
    "print(s1.difference(s2))"
   ]
  },
  {
   "cell_type": "code",
   "execution_count": 89,
   "id": "f8717b0f",
   "metadata": {
    "ExecuteTime": {
     "end_time": "2023-08-23T02:02:06.297519Z",
     "start_time": "2023-08-23T02:02:06.290515Z"
    }
   },
   "outputs": [
    {
     "name": "stdout",
     "output_type": "stream",
     "text": [
      "{1, 2, 3, 4}\n"
     ]
    }
   ],
   "source": [
    "# add() : 하나의 값을 추가하는 함수\n",
    "s1 = set([1, 2, 3])\n",
    "s1.add(4)\n",
    "print(s1)"
   ]
  },
  {
   "cell_type": "code",
   "execution_count": 90,
   "id": "7fb4b347",
   "metadata": {
    "ExecuteTime": {
     "end_time": "2023-08-23T02:03:01.182072Z",
     "start_time": "2023-08-23T02:03:01.172071Z"
    }
   },
   "outputs": [
    {
     "name": "stdout",
     "output_type": "stream",
     "text": [
      "{1, 2, 3, 4, 5, 6}\n"
     ]
    }
   ],
   "source": [
    "# update() : 여러 개의 값을 추가하는 함수\n",
    "s1 = set([1, 2, 3])\n",
    "s1.update([4, 5, 6])\n",
    "print(s1)"
   ]
  },
  {
   "cell_type": "code",
   "execution_count": 91,
   "id": "a1a65001",
   "metadata": {
    "ExecuteTime": {
     "end_time": "2023-08-23T02:03:40.337467Z",
     "start_time": "2023-08-23T02:03:40.334447Z"
    }
   },
   "outputs": [
    {
     "name": "stdout",
     "output_type": "stream",
     "text": [
      "{1, 3}\n"
     ]
    }
   ],
   "source": [
    "# remove() : 특정 값을 제거하는 함수\n",
    "s1 = set([1, 2, 3])\n",
    "s1.remove(2)\n",
    "print(s1)"
   ]
  },
  {
   "cell_type": "code",
   "execution_count": 92,
   "id": "189d6448",
   "metadata": {
    "ExecuteTime": {
     "end_time": "2023-08-23T02:20:30.457029Z",
     "start_time": "2023-08-23T02:20:30.451064Z"
    }
   },
   "outputs": [
    {
     "name": "stdout",
     "output_type": "stream",
     "text": [
      "NamespaceMagics\t a\t b\t c\t d\t dic\t e\t f\t get_ipython\t \n",
      "getsizeof\t json\t k\t key\t l1\t np\t s1\t s2\t t1\t \n",
      "t2\t t3\t value\t var_dic_list\t w\t x\t xx\t y\t z\t \n",
      "\n"
     ]
    }
   ],
   "source": [
    "# 매직명령어 : 주피터 노트북에서 사용하는 명령어\n",
    "## 변수 목록 확인\n",
    "%who"
   ]
  },
  {
   "cell_type": "code",
   "execution_count": null,
   "id": "0ae30388",
   "metadata": {},
   "outputs": [],
   "source": []
  }
 ],
 "metadata": {
  "kernelspec": {
   "display_name": "Python 3 (ipykernel)",
   "language": "python",
   "name": "python3"
  },
  "language_info": {
   "codemirror_mode": {
    "name": "ipython",
    "version": 3
   },
   "file_extension": ".py",
   "mimetype": "text/x-python",
   "name": "python",
   "nbconvert_exporter": "python",
   "pygments_lexer": "ipython3",
   "version": "3.9.7"
  },
  "toc": {
   "base_numbering": 1,
   "nav_menu": {},
   "number_sections": true,
   "sideBar": true,
   "skip_h1_title": false,
   "title_cell": "Table of Contents",
   "title_sidebar": "Contents",
   "toc_cell": false,
   "toc_position": {
    "height": "calc(100% - 180px)",
    "left": "10px",
    "top": "150px",
    "width": "256px"
   },
   "toc_section_display": true,
   "toc_window_display": true
  },
  "varInspector": {
   "cols": {
    "lenName": 16,
    "lenType": 16,
    "lenVar": 40
   },
   "kernels_config": {
    "python": {
     "delete_cmd_postfix": "",
     "delete_cmd_prefix": "del ",
     "library": "var_list.py",
     "varRefreshCmd": "print(var_dic_list())"
    },
    "r": {
     "delete_cmd_postfix": ") ",
     "delete_cmd_prefix": "rm(",
     "library": "var_list.r",
     "varRefreshCmd": "cat(var_dic_list()) "
    }
   },
   "types_to_exclude": [
    "module",
    "function",
    "builtin_function_or_method",
    "instance",
    "_Feature"
   ],
   "window_display": false
  }
 },
 "nbformat": 4,
 "nbformat_minor": 5
}
