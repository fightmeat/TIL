{
 "cells": [
  {
   "cell_type": "markdown",
   "id": "89d76bae",
   "metadata": {},
   "source": [
    "<code>\n",
    "    == 학적관리 프로그램 ==\n",
    "    1. 신규학생등록\n",
    "    2. 학생정보수정\n",
    "    3. 전체학생출력\n",
    "    4. 학생정보조회\n",
    "    5. 프로그램종료\n",
    "    =====================\n",
    "    선택 =\n",
    "</code>\n",
    "\n",
    "처리조건\n",
    "- 한 명 이상의 학생정보를 받아서 처리한다.\n",
    "- 학생 정보는 이름, 국어, 영어, 수학 점수를 받아서 등록한다.\n",
    "- 등록된 학생의 점수를 이용하여 총점과 평균 그리고 학점을 계산한다.'\n",
    "- 사용자가 원하는 작업을 수행할 수 있도록 구현한다.\n",
    "- 언제든 사용자가 원하면 프로그램을 종료 할 수 있도록 구현한다.\n",
    "- 기타 조건은 프로그램에 흐름에 따라 구현되도록 한다."
   ]
  },
  {
   "cell_type": "markdown",
   "id": "9e77c779",
   "metadata": {},
   "source": [
    "## 함수 내용 정의부"
   ]
  },
  {
   "cell_type": "code",
   "execution_count": 1,
   "id": "c4acb27b",
   "metadata": {
    "ExecuteTime": {
     "end_time": "2023-08-24T05:06:40.187796Z",
     "start_time": "2023-08-24T05:06:40.184141Z"
    }
   },
   "outputs": [],
   "source": [
    "def showMenu():\n",
    "    print(\"== 학적관리 프로그램 ==\")\n",
    "    print(\"1. 신규학생등록\")\n",
    "    print(\"2. 학생정보수정\")\n",
    "    print(\"3. 전체학생출력\")\n",
    "    print(\"4. 학생정보조회\")\n",
    "    print(\"5. 프로그램종료\")\n",
    "    print(\"=====================\")"
   ]
  },
  {
   "cell_type": "code",
   "execution_count": 9,
   "id": "1db45624",
   "metadata": {
    "ExecuteTime": {
     "end_time": "2023-08-24T05:45:34.227610Z",
     "start_time": "2023-08-24T05:45:34.213640Z"
    }
   },
   "outputs": [],
   "source": [
    "def makeStudent():\n",
    "    # 한 명의 학생정보를 담을 객체 \n",
    "    student = dict()\n",
    "        \n",
    "    # 키보드를 통해 사용자로부터 학생정보 입력\n",
    "    student['name'] = input('name = ')\n",
    "    student['kor'] = int(input('kor = '))\n",
    "    student['eng'] = int(input('eng = '))\n",
    "    student['math'] = int(input('math = '))\n",
    "    \n",
    "    # 총점과 평균 그리고 학점을 처리하는 로직 호출\n",
    "    process(student)\n",
    "    \n",
    "    # 해당 학생 객체를 반환\n",
    "    return student"
   ]
  },
  {
   "cell_type": "code",
   "execution_count": 4,
   "id": "ca20ec5b",
   "metadata": {
    "ExecuteTime": {
     "end_time": "2023-08-24T05:16:50.373306Z",
     "start_time": "2023-08-24T05:16:50.366342Z"
    }
   },
   "outputs": [],
   "source": [
    "def process(stu):\n",
    "    stu['tot'] = stu['kor'] + stu['eng'] + stu['math']\n",
    "    stu['avg'] = stu['tot'] / 3\n",
    "    \n",
    "    if stu['avg'] >= 90:\n",
    "        stu['grade'] = 'A'\n",
    "    elif stu['avg'] >= 80:\n",
    "        stu['grade'] = 'B'\n",
    "    elif stu['avg'] >= 70:\n",
    "        stu['grade'] = 'C'\n",
    "    elif stu['avg'] >= 60:\n",
    "        stu['grade'] = 'D'\n",
    "    else:\n",
    "        stu['grade'] = 'F'"
   ]
  },
  {
   "cell_type": "code",
   "execution_count": 13,
   "id": "620160ae",
   "metadata": {
    "ExecuteTime": {
     "end_time": "2023-08-24T05:51:46.859321Z",
     "start_time": "2023-08-24T05:51:46.845386Z"
    }
   },
   "outputs": [],
   "source": [
    "def modify(students):\n",
    "    # 이름을 입력받아 해당 학생의 정보를 수정하는 작업\n",
    "    print(\"수정할 학생의 정보를 입력하세요.\")\n",
    "    name = input(\"이름 = \")\n",
    "    \n",
    "    # 입력한 이름이 존재하는지 여부를 판정하여 처리하는 작업\n",
    "    for i in students:\n",
    "        # 입력받은 학생 이름이 학생정보에 존재한다면\n",
    "        if i['name'] == name:\n",
    "            i['kor'] = int(input('국어 = '))\n",
    "            i['eng'] = int(input('영어 = '))\n",
    "            i['math'] = int(input('수학 = '))\n",
    "            # 수정한 정보를 이용하여 총점과 평균, 학점을 다시 계산한다.\n",
    "            process(i)\n",
    "            return\n",
    "        \n",
    "    print(f\"입력한 {name} 정보가 존재하지 않습니다.\")   "
   ]
  },
  {
   "cell_type": "code",
   "execution_count": 6,
   "id": "b66e6d8a",
   "metadata": {
    "ExecuteTime": {
     "end_time": "2023-08-24T05:28:36.874801Z",
     "start_time": "2023-08-24T05:28:36.868845Z"
    }
   },
   "outputs": [],
   "source": [
    "def showStudents():\n",
    "    print()\n",
    "    for i in students:\n",
    "        print(i)"
   ]
  },
  {
   "cell_type": "code",
   "execution_count": 19,
   "id": "b9491f85",
   "metadata": {
    "ExecuteTime": {
     "end_time": "2023-08-24T05:59:24.509200Z",
     "start_time": "2023-08-24T05:59:24.504200Z"
    }
   },
   "outputs": [],
   "source": [
    "def show():\n",
    "    # 이름을 입력받아 해당 학생의 정보를 수정하는 작업\n",
    "    print(\"검색할 학생의 정보를 입력하세요.\")\n",
    "    name = input(\"이름 = \")\n",
    "    \n",
    "    # 입력한 이름이 존재하는지 여부를 판정하여 처리하는 작업\n",
    "    for i in range(len(students)): # 0 1 2\n",
    "        # 입력받은 학생 이름이 학생정보에 존재한다면\n",
    "        if students[i]['name'] == name:\n",
    "            print(students[i])\n",
    "            check = input(\"삭제(y/n) = \")\n",
    "            if check == 'y' or check == 'Y':\n",
    "                del students[i]\n",
    "            return\n",
    "        \n",
    "    print(f\"입력한 {name} 정보가 존재하지 않습니다.\")  "
   ]
  },
  {
   "cell_type": "markdown",
   "id": "77ce3e25",
   "metadata": {},
   "source": [
    "## main"
   ]
  },
  {
   "cell_type": "code",
   "execution_count": 20,
   "id": "33921201",
   "metadata": {
    "ExecuteTime": {
     "end_time": "2023-08-24T06:00:39.932912Z",
     "start_time": "2023-08-24T05:59:28.523628Z"
    }
   },
   "outputs": [
    {
     "name": "stdout",
     "output_type": "stream",
     "text": [
      "\n",
      "== 학적관리 프로그램 ==\n",
      "1. 신규학생등록\n",
      "2. 학생정보수정\n",
      "3. 전체학생출력\n",
      "4. 학생정보조회\n",
      "5. 프로그램종료\n",
      "=====================\n",
      "선택 = 1\n",
      "name = aaa\n",
      "kor = 89\n",
      "eng = 90\n",
      "math = 77\n",
      "학생 등록이 완료되었습니다.\n",
      "\n",
      "== 학적관리 프로그램 ==\n",
      "1. 신규학생등록\n",
      "2. 학생정보수정\n",
      "3. 전체학생출력\n",
      "4. 학생정보조회\n",
      "5. 프로그램종료\n",
      "=====================\n",
      "선택 = 3\n",
      "\n",
      "{'name': 'aaa', 'kor': 89, 'eng': 90, 'math': 77, 'tot': 256, 'avg': 85.33333333333333, 'grade': 'B'}\n",
      "\n",
      "== 학적관리 프로그램 ==\n",
      "1. 신규학생등록\n",
      "2. 학생정보수정\n",
      "3. 전체학생출력\n",
      "4. 학생정보조회\n",
      "5. 프로그램종료\n",
      "=====================\n",
      "선택 = 2\n",
      "수정할 학생의 정보를 입력하세요.\n",
      "이름 = aaa\n",
      "국어 = 88\n",
      "영어 = 75\n",
      "수학 = 77\n",
      "\n",
      "== 학적관리 프로그램 ==\n",
      "1. 신규학생등록\n",
      "2. 학생정보수정\n",
      "3. 전체학생출력\n",
      "4. 학생정보조회\n",
      "5. 프로그램종료\n",
      "=====================\n",
      "선택 = 3\n",
      "\n",
      "{'name': 'aaa', 'kor': 88, 'eng': 75, 'math': 77, 'tot': 240, 'avg': 80.0, 'grade': 'B'}\n",
      "\n",
      "== 학적관리 프로그램 ==\n",
      "1. 신규학생등록\n",
      "2. 학생정보수정\n",
      "3. 전체학생출력\n",
      "4. 학생정보조회\n",
      "5. 프로그램종료\n",
      "=====================\n",
      "선택 = 4\n",
      "검색할 학생의 정보를 입력하세요.\n",
      "이름 = aaa\n",
      "{'name': 'aaa', 'kor': 88, 'eng': 75, 'math': 77, 'tot': 240, 'avg': 80.0, 'grade': 'B'}\n",
      "삭제(y/n) = y\n",
      "\n",
      "== 학적관리 프로그램 ==\n",
      "1. 신규학생등록\n",
      "2. 학생정보수정\n",
      "3. 전체학생출력\n",
      "4. 학생정보조회\n",
      "5. 프로그램종료\n",
      "=====================\n",
      "선택 = 3\n",
      "\n",
      "\n",
      "== 학적관리 프로그램 ==\n",
      "1. 신규학생등록\n",
      "2. 학생정보수정\n",
      "3. 전체학생출력\n",
      "4. 학생정보조회\n",
      "5. 프로그램종료\n",
      "=====================\n",
      "선택 = 5\n",
      "학적관리 프로그램을 종료합니다.\n"
     ]
    }
   ],
   "source": [
    "students = list()\n",
    "\n",
    "# 무한Loop\n",
    "while True:\n",
    "    print()\n",
    "    \n",
    "    # 메뉴출력\n",
    "    showMenu()\n",
    "    \n",
    "    # 사용자입력\n",
    "    menu = int(input(\"선택 = \"))\n",
    "    \n",
    "    # 비즈니스 로직\n",
    "    if menu == 1:\n",
    "        student = makeStudent()\n",
    "        students.append(student)\n",
    "        print(\"학생 등록이 완료되었습니다.\")\n",
    "    elif menu == 2:        \n",
    "        modify(students)\n",
    "    elif menu == 3:\n",
    "        showStudents()\n",
    "    elif menu == 4:\n",
    "        show()        \n",
    "    elif menu == 5:\n",
    "        break\n",
    "    else:\n",
    "        print(\"선택이 올바르지 않습니다.\")\n",
    "        \n",
    "print(\"학적관리 프로그램을 종료합니다.\")"
   ]
  },
  {
   "cell_type": "code",
   "execution_count": 16,
   "id": "786cc067",
   "metadata": {
    "ExecuteTime": {
     "end_time": "2023-08-24T05:56:01.350059Z",
     "start_time": "2023-08-24T05:56:01.338103Z"
    }
   },
   "outputs": [
    {
     "name": "stdout",
     "output_type": "stream",
     "text": [
      "[1, 2, 3]\n",
      "['a', 'b']\n",
      "[4, 5, 6]\n"
     ]
    }
   ],
   "source": [
    "aa = [[1, 2, 3], ['a', 'b'], [4, 5, 6]]\n",
    "\n",
    "for i in aa:\n",
    "    print(i)"
   ]
  },
  {
   "cell_type": "code",
   "execution_count": 18,
   "id": "f98dde51",
   "metadata": {
    "ExecuteTime": {
     "end_time": "2023-08-24T05:56:55.864559Z",
     "start_time": "2023-08-24T05:56:55.850646Z"
    }
   },
   "outputs": [
    {
     "name": "stdout",
     "output_type": "stream",
     "text": [
      "2\n",
      "b\n",
      "5\n"
     ]
    }
   ],
   "source": [
    "for i in range(len(aa)):\n",
    "    print(aa[i][1])"
   ]
  },
  {
   "cell_type": "code",
   "execution_count": null,
   "id": "ef5fb351",
   "metadata": {},
   "outputs": [],
   "source": []
  }
 ],
 "metadata": {
  "kernelspec": {
   "display_name": "Python 3 (ipykernel)",
   "language": "python",
   "name": "python3"
  },
  "language_info": {
   "codemirror_mode": {
    "name": "ipython",
    "version": 3
   },
   "file_extension": ".py",
   "mimetype": "text/x-python",
   "name": "python",
   "nbconvert_exporter": "python",
   "pygments_lexer": "ipython3",
   "version": "3.9.7"
  },
  "toc": {
   "base_numbering": 1,
   "nav_menu": {},
   "number_sections": true,
   "sideBar": true,
   "skip_h1_title": false,
   "title_cell": "Table of Contents",
   "title_sidebar": "Contents",
   "toc_cell": false,
   "toc_position": {
    "height": "calc(100% - 180px)",
    "left": "10px",
    "top": "150px",
    "width": "256px"
   },
   "toc_section_display": true,
   "toc_window_display": true
  },
  "varInspector": {
   "cols": {
    "lenName": 16,
    "lenType": 16,
    "lenVar": 40
   },
   "kernels_config": {
    "python": {
     "delete_cmd_postfix": "",
     "delete_cmd_prefix": "del ",
     "library": "var_list.py",
     "varRefreshCmd": "print(var_dic_list())"
    },
    "r": {
     "delete_cmd_postfix": ") ",
     "delete_cmd_prefix": "rm(",
     "library": "var_list.r",
     "varRefreshCmd": "cat(var_dic_list()) "
    }
   },
   "types_to_exclude": [
    "module",
    "function",
    "builtin_function_or_method",
    "instance",
    "_Feature"
   ],
   "window_display": false
  }
 },
 "nbformat": 4,
 "nbformat_minor": 5
}
