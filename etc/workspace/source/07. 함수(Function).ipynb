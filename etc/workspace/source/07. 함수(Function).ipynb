{
 "cells": [
  {
   "cell_type": "markdown",
   "id": "1af4689d",
   "metadata": {},
   "source": [
    "# 함수(Function)란?\n",
    "<br>\n",
    "1. 함수의 정의<br>  \n",
    "  - 자주 반복적으로 수행하는 기능이나 명령어를 묶어서 관리하는 기능<br>  \n",
    "  - 여러개의 명령어를 묶어놓은 명령어 집합<br>  \n",
    "<br>\n",
    "2. 함수의 장점<br>  \n",
    "  - 재사용 가능<br>  \n",
    "  - 코드의 간결성<br>  \n",
    "  - 유지보수가 효율성<br>  \n",
    "<br>\n",
    "3. 함수의 구조<br>  \n",
    "  def 함수명(입력매개변수):<br>  \n",
    "  &nbsp;&nbsp;&nbsp;&nbsp; 함수의 내용정의부<br>    \n",
    "  &nbsp;&nbsp;&nbsp;&nbsp; return 반환값 or 수식<br>  \n",
    "<br>\n",
    "4. 함수의 종류<br>  \n",
    "  - 내장 함수 : 파이썬에서 미리 만들어 놓은 함수, 각 라이브러리(패키지)마다 만들어 놓은 함수<br>  \n",
    "  - 사용자 정의 함수 : 사용자에 의해 임의로 생성한 함수<br>  "
   ]
  },
  {
   "cell_type": "markdown",
   "id": "f61f0cba",
   "metadata": {},
   "source": [
    "## 함수의 형태\n",
    "\n",
    "1. 입력값과 반환값이 없는 함수 => 매개변수와 return값이 없는 함수\n",
    "2. 매개변수는 있고 반환값이 없는 함수\n",
    "3. 매개변수 없고 반환값이 있는 함수\n",
    "4. 매개변수와 반환값이 있는 함수"
   ]
  },
  {
   "cell_type": "code",
   "execution_count": 1,
   "id": "01e14d3b",
   "metadata": {
    "ExecuteTime": {
     "end_time": "2023-08-23T08:25:31.450126Z",
     "start_time": "2023-08-23T08:25:31.438171Z"
    }
   },
   "outputs": [],
   "source": [
    "# 매개변수와 반환값(return)이 없는 함수\n",
    "## 함수정의 : def = define\n",
    "def show():\n",
    "    print(\"Hello Function\")"
   ]
  },
  {
   "cell_type": "code",
   "execution_count": 2,
   "id": "52015b5f",
   "metadata": {
    "ExecuteTime": {
     "end_time": "2023-08-23T08:26:36.908662Z",
     "start_time": "2023-08-23T08:26:36.896272Z"
    }
   },
   "outputs": [
    {
     "name": "stdout",
     "output_type": "stream",
     "text": [
      "Hello Function\n"
     ]
    }
   ],
   "source": [
    "# 함수 호출 : Call by Name\n",
    "show()"
   ]
  },
  {
   "cell_type": "code",
   "execution_count": 3,
   "id": "40e1c2d9",
   "metadata": {
    "ExecuteTime": {
     "end_time": "2023-08-23T08:27:49.310779Z",
     "start_time": "2023-08-23T08:27:49.301780Z"
    }
   },
   "outputs": [],
   "source": [
    "# 매개변수는 없고 반환값은 있는 함수\n",
    "def aaa():\n",
    "    return 100 "
   ]
  },
  {
   "cell_type": "code",
   "execution_count": 4,
   "id": "22cbbd1a",
   "metadata": {
    "ExecuteTime": {
     "end_time": "2023-08-23T08:28:04.566700Z",
     "start_time": "2023-08-23T08:28:04.556659Z"
    }
   },
   "outputs": [
    {
     "data": {
      "text/plain": [
       "100"
      ]
     },
     "execution_count": 4,
     "metadata": {},
     "output_type": "execute_result"
    }
   ],
   "source": [
    "aaa()"
   ]
  },
  {
   "cell_type": "code",
   "execution_count": 5,
   "id": "290281c2",
   "metadata": {
    "ExecuteTime": {
     "end_time": "2023-08-23T08:29:24.732712Z",
     "start_time": "2023-08-23T08:29:24.724046Z"
    }
   },
   "outputs": [],
   "source": [
    "# 매개변수는 있고 리턴값은 없는 함수\n",
    "def disp(a):\n",
    "    print(\"a = \", a)"
   ]
  },
  {
   "cell_type": "code",
   "execution_count": 6,
   "id": "33073223",
   "metadata": {
    "ExecuteTime": {
     "end_time": "2023-08-23T08:30:30.148523Z",
     "start_time": "2023-08-23T08:30:30.136557Z"
    }
   },
   "outputs": [
    {
     "name": "stdout",
     "output_type": "stream",
     "text": [
      "a =  10\n"
     ]
    }
   ],
   "source": [
    "# 값에 의한 호출 : Call by Value\n",
    "disp(10) # a = 10"
   ]
  },
  {
   "cell_type": "code",
   "execution_count": 7,
   "id": "522c806f",
   "metadata": {
    "ExecuteTime": {
     "end_time": "2023-08-23T08:31:32.915017Z",
     "start_time": "2023-08-23T08:31:32.903019Z"
    }
   },
   "outputs": [],
   "source": [
    "# 매개변수도 있고, 반환값도 있는 함수\n",
    "def add(a, b):\n",
    "    return a + b"
   ]
  },
  {
   "cell_type": "code",
   "execution_count": 8,
   "id": "6df88dd5",
   "metadata": {
    "ExecuteTime": {
     "end_time": "2023-08-23T08:32:03.760136Z",
     "start_time": "2023-08-23T08:32:03.750224Z"
    }
   },
   "outputs": [
    {
     "data": {
      "text/plain": [
       "30"
      ]
     },
     "execution_count": 8,
     "metadata": {},
     "output_type": "execute_result"
    }
   ],
   "source": [
    "add(10, 20)"
   ]
  },
  {
   "cell_type": "markdown",
   "id": "087d5cea",
   "metadata": {},
   "source": [
    "## 함수의 사용\n",
    "\n",
    "- 함수는 호출에 의해 동작한다.\n",
    "- 함수를 호출하는 방식 : Call by Name, Call by Value, Call by Reference\n",
    "- Call by Name(이름에 의한 호출)\n",
    "- Call by Value(값에 의한 호출)\n",
    "- Call by Reference(참조=주소에 의한 호출)"
   ]
  },
  {
   "cell_type": "code",
   "execution_count": 9,
   "id": "a9ce4efa",
   "metadata": {
    "ExecuteTime": {
     "end_time": "2023-08-23T08:34:40.595705Z",
     "start_time": "2023-08-23T08:34:40.584705Z"
    }
   },
   "outputs": [
    {
     "name": "stdout",
     "output_type": "stream",
     "text": [
      "hello\n",
      "a =  hello\n"
     ]
    }
   ],
   "source": [
    "def say():\n",
    "    return \"hello\"\n",
    "\n",
    "print(say())\n",
    "a = say()  # a = \"hello\"\n",
    "print(\"a = \", a)"
   ]
  },
  {
   "cell_type": "code",
   "execution_count": 10,
   "id": "667f2d7c",
   "metadata": {
    "ExecuteTime": {
     "end_time": "2023-08-23T08:42:17.656597Z",
     "start_time": "2023-08-23T08:42:17.639707Z"
    }
   },
   "outputs": [],
   "source": [
    "def add(x, y):\n",
    "    result = x + y\n",
    "    print(\"{} + {} = {}\".format(x, y, result))\n",
    "    \n",
    "def sub(x, y):\n",
    "    result = x - y\n",
    "    print(\"{} - {} = {}\".format(x, y, result))\n",
    "    \n",
    "def mul(x, y):\n",
    "    result = x * y\n",
    "    print(\"{} * {} = {}\".format(x, y, result))\n",
    "    \n",
    "def div(x, y):\n",
    "    if y == 0: y = 1\n",
    "    result = x / y\n",
    "    print(\"{} / {} = {}\".format(x, y, result))"
   ]
  },
  {
   "cell_type": "code",
   "execution_count": 11,
   "id": "80137bd9",
   "metadata": {
    "ExecuteTime": {
     "end_time": "2023-08-23T08:42:37.009467Z",
     "start_time": "2023-08-23T08:42:24.915708Z"
    }
   },
   "outputs": [
    {
     "name": "stdout",
     "output_type": "stream",
     "text": [
      "수1 = 10\n",
      "연산자(+, -, *, /) = /\n",
      "수2 = 0\n",
      "10 / 1 = 10.0\n"
     ]
    }
   ],
   "source": [
    "su1 = int(input(\"수1 = \"))\n",
    "op = input('연산자(+, -, *, /) = ')\n",
    "su2 = int(input(\"수2 = \"))\n",
    "\n",
    "if op == \"+\":\n",
    "    add(su1, su2)\n",
    "elif op == \"-\":\n",
    "    sub(su1, su2)\n",
    "elif op == \"*\":\n",
    "    mul(su1, su2)\n",
    "else:\n",
    "    div(su1, su2)"
   ]
  },
  {
   "cell_type": "markdown",
   "id": "f93c7561",
   "metadata": {},
   "source": [
    "## 내장 함수"
   ]
  },
  {
   "cell_type": "code",
   "execution_count": 12,
   "id": "1b647ebc",
   "metadata": {
    "ExecuteTime": {
     "end_time": "2023-08-23T08:44:42.657353Z",
     "start_time": "2023-08-23T08:44:42.642345Z"
    }
   },
   "outputs": [
    {
     "name": "stdout",
     "output_type": "stream",
     "text": [
      "100\n",
      "100\n"
     ]
    }
   ],
   "source": [
    "# 절대값 계산하는 함수\n",
    "print(abs(-100))\n",
    "print(abs(100))"
   ]
  },
  {
   "cell_type": "code",
   "execution_count": 13,
   "id": "4f5a56a6",
   "metadata": {
    "ExecuteTime": {
     "end_time": "2023-08-23T08:46:01.896875Z",
     "start_time": "2023-08-23T08:46:01.881227Z"
    }
   },
   "outputs": [],
   "source": [
    "def abss(a):\n",
    "    if a > 0:\n",
    "        return a\n",
    "    else:\n",
    "        return -a"
   ]
  },
  {
   "cell_type": "code",
   "execution_count": 14,
   "id": "08868523",
   "metadata": {
    "ExecuteTime": {
     "end_time": "2023-08-23T08:46:28.720010Z",
     "start_time": "2023-08-23T08:46:28.701982Z"
    }
   },
   "outputs": [
    {
     "name": "stdout",
     "output_type": "stream",
     "text": [
      "100\n",
      "100\n"
     ]
    }
   ],
   "source": [
    "print(abss(-100))\n",
    "print(abss(100))"
   ]
  },
  {
   "cell_type": "code",
   "execution_count": 15,
   "id": "110c6c90",
   "metadata": {
    "ExecuteTime": {
     "end_time": "2023-08-23T08:50:12.542716Z",
     "start_time": "2023-08-23T08:50:12.539714Z"
    }
   },
   "outputs": [
    {
     "name": "stdout",
     "output_type": "stream",
     "text": [
      "True\n",
      "False\n"
     ]
    }
   ],
   "source": [
    "# all(), any()\n",
    "## all : 모든 값이 True인지 검사하는 함수(결과: 모두 참이면 참, 그렇지 않으면 거짓)\n",
    "## any : 어느거 하나라도 True인지 검사하는 함수\n",
    "## 2진수(0=False과 1=True)\n",
    "## 0이 아니면 참으로 간주한다.\n",
    "print(all([1, 2, 3])) # True\n",
    "print(all([1, 2, 3, 0]))"
   ]
  },
  {
   "cell_type": "markdown",
   "id": "ffe44321",
   "metadata": {},
   "source": [
    "# 제어문 복습"
   ]
  },
  {
   "cell_type": "markdown",
   "id": "6280c531",
   "metadata": {},
   "source": [
    "<pre>\n",
    "*\n",
    "**\n",
    "***\n",
    "****\n",
    "*****\n",
    "******\n",
    "*******\n",
    "********\n",
    "</pre>"
   ]
  },
  {
   "cell_type": "code",
   "execution_count": 2,
   "id": "4ae42573",
   "metadata": {
    "ExecuteTime": {
     "end_time": "2023-08-24T00:03:58.337167Z",
     "start_time": "2023-08-24T00:03:58.321119Z"
    }
   },
   "outputs": [
    {
     "name": "stdout",
     "output_type": "stream",
     "text": [
      "*****"
     ]
    }
   ],
   "source": [
    "print('*', end = '')\n",
    "print('*', end = '')\n",
    "print('*', end = '')\n",
    "print('*', end = '')\n",
    "print('*', end = '')"
   ]
  },
  {
   "cell_type": "code",
   "execution_count": 3,
   "id": "90a3386e",
   "metadata": {
    "ExecuteTime": {
     "end_time": "2023-08-24T00:04:43.927321Z",
     "start_time": "2023-08-24T00:04:43.898092Z"
    }
   },
   "outputs": [
    {
     "name": "stdout",
     "output_type": "stream",
     "text": [
      "*****"
     ]
    }
   ],
   "source": [
    "for i in range(5):\n",
    "    print('*', end = '')"
   ]
  },
  {
   "cell_type": "code",
   "execution_count": 5,
   "id": "c15a4dd9",
   "metadata": {
    "ExecuteTime": {
     "end_time": "2023-08-24T00:06:27.179102Z",
     "start_time": "2023-08-24T00:06:27.163006Z"
    }
   },
   "outputs": [
    {
     "name": "stdout",
     "output_type": "stream",
     "text": [
      "*****\n",
      "*****\n",
      "*****\n",
      "*****\n",
      "*****\n"
     ]
    }
   ],
   "source": [
    "# 다중for문 : 바깥쪽 for문이 한번수행될때마다 안쪽 for문 주어진 횟수만큼\n",
    "for k in range(5): # 행의 수(줄)\n",
    "    for i in range(5): # 열의 수(매 행마다 찍히는 별의 개수)\n",
    "        print('*', end = '')\n",
    "    print()"
   ]
  },
  {
   "cell_type": "code",
   "execution_count": 7,
   "id": "84eccde4",
   "metadata": {
    "ExecuteTime": {
     "end_time": "2023-08-24T00:09:55.450803Z",
     "start_time": "2023-08-24T00:09:55.434807Z"
    }
   },
   "outputs": [
    {
     "name": "stdout",
     "output_type": "stream",
     "text": [
      "\n",
      "*\n",
      "**\n",
      "***\n",
      "****\n",
      "*****\n",
      "******\n",
      "*******\n"
     ]
    }
   ],
   "source": [
    "for k in range(8): # 행의 수(줄)\n",
    "    for i in range(k): # 열의 수(매 행마다 찍히는 별의 개수)\n",
    "        print('*', end = '')\n",
    "    print()"
   ]
  },
  {
   "cell_type": "markdown",
   "id": "e4d62ad3",
   "metadata": {},
   "source": [
    "<pre>\n",
    "********\n",
    "*******\n",
    "******\n",
    "*****\n",
    "****\n",
    "***\n",
    "**\n",
    "*\n",
    "</pre>"
   ]
  },
  {
   "cell_type": "code",
   "execution_count": 8,
   "id": "dce9a99d",
   "metadata": {
    "ExecuteTime": {
     "end_time": "2023-08-24T00:13:29.621705Z",
     "start_time": "2023-08-24T00:13:29.613677Z"
    }
   },
   "outputs": [
    {
     "name": "stdout",
     "output_type": "stream",
     "text": [
      "********\n",
      "*******\n",
      "******\n",
      "*****\n",
      "****\n",
      "***\n",
      "**\n",
      "*\n"
     ]
    }
   ],
   "source": [
    "# range(from, to, by)\n",
    "for k in range(8): # 행의 수(줄)\n",
    "    for i in range(8-k): # 열의 수(매 행마다 찍히는 별의 개수)\n",
    "        print('*', end = '')\n",
    "    print()"
   ]
  },
  {
   "cell_type": "code",
   "execution_count": 9,
   "id": "5236d717",
   "metadata": {
    "ExecuteTime": {
     "end_time": "2023-08-24T00:14:02.896716Z",
     "start_time": "2023-08-24T00:14:02.872623Z"
    }
   },
   "outputs": [
    {
     "name": "stdout",
     "output_type": "stream",
     "text": [
      "********\n",
      "*******\n",
      "******\n",
      "*****\n",
      "****\n",
      "***\n",
      "**\n",
      "*\n"
     ]
    }
   ],
   "source": [
    "for k in range(8, 0, -1): # 행의 수(줄)\n",
    "    for i in range(k): # 열의 수(매 행마다 찍히는 별의 개수)\n",
    "        print('*', end = '')\n",
    "    print()"
   ]
  },
  {
   "cell_type": "markdown",
   "id": "70124986",
   "metadata": {},
   "source": [
    "- 문제\n",
    "<pre>\n",
    "        *\n",
    "       **\n",
    "      ***\n",
    "     ****\n",
    "    *****\n",
    "   ******\n",
    "  *******\n",
    " ********<br>   \n",
    " </pre>"
   ]
  },
  {
   "cell_type": "code",
   "execution_count": 10,
   "id": "255ca354",
   "metadata": {
    "ExecuteTime": {
     "end_time": "2023-08-24T00:25:40.842449Z",
     "start_time": "2023-08-24T00:25:40.826450Z"
    }
   },
   "outputs": [
    {
     "name": "stdout",
     "output_type": "stream",
     "text": [
      "        *\n",
      "       **\n",
      "      ***\n",
      "     ****\n",
      "    *****\n",
      "   ******\n",
      "  *******\n",
      " ********\n"
     ]
    }
   ],
   "source": [
    "# 공백을 제어할 변수\n",
    "b = 8\n",
    "\n",
    "# 전체 출력되는 줄을 반복처리하는 로직\n",
    "for i in range(8):\n",
    "    # 공백처리\n",
    "    for j in range(b):\n",
    "        print(' ', end = '')\n",
    "    # 별이 출력되는 개수 제어\n",
    "    for k in range(i+1):\n",
    "        print('*', end='')\n",
    "    # 개행\n",
    "    print()\n",
    "    # 공백처리\n",
    "    b -= 1"
   ]
  },
  {
   "cell_type": "code",
   "execution_count": 16,
   "id": "f40038c9",
   "metadata": {
    "ExecuteTime": {
     "end_time": "2023-08-24T00:31:01.636357Z",
     "start_time": "2023-08-24T00:31:01.628302Z"
    }
   },
   "outputs": [
    {
     "name": "stdout",
     "output_type": "stream",
     "text": [
      "       0\n",
      "       1\n",
      "       2\n",
      "       3\n",
      "       4\n",
      "       5\n",
      "       6\n",
      "       7\n"
     ]
    }
   ],
   "source": [
    "for i in range(8):\n",
    "   # print('*', end='')\n",
    "    print(\"%8s\" % i)"
   ]
  },
  {
   "cell_type": "markdown",
   "id": "cd0f6d3d",
   "metadata": {},
   "source": [
    "- 출력형식\n",
    "<pre>\n",
    "\n",
    "********\n",
    " *******\n",
    "  ******\n",
    "   *****\n",
    "    ****\n",
    "     ***\n",
    "      **\n",
    "       *\n",
    "</pre>"
   ]
  },
  {
   "cell_type": "code",
   "execution_count": 17,
   "id": "bd49f138",
   "metadata": {
    "ExecuteTime": {
     "end_time": "2023-08-24T00:32:32.973440Z",
     "start_time": "2023-08-24T00:32:32.949441Z"
    }
   },
   "outputs": [
    {
     "name": "stdout",
     "output_type": "stream",
     "text": [
      "********\n",
      " *******\n",
      "  ******\n",
      "   *****\n",
      "    ****\n",
      "     ***\n",
      "      **\n",
      "       *\n"
     ]
    }
   ],
   "source": [
    "# 공백을 제어할 변수\n",
    "b = 8\n",
    "\n",
    "# 전체 출력되는 줄을 반복처리하는 로직\n",
    "for i in range(8):\n",
    "    # 공백처리\n",
    "    for j in range(i):\n",
    "        print(' ', end = '')\n",
    "    # 별이 출력되는 개수 제어\n",
    "    for k in range(b):\n",
    "        print('*', end='')\n",
    "    # 개행\n",
    "    print()\n",
    "    # 공백처리\n",
    "    b -= 1"
   ]
  },
  {
   "cell_type": "markdown",
   "id": "a29098bf",
   "metadata": {},
   "source": [
    "<pre>\n",
    "     *\n",
    "    ***\n",
    "   *****\n",
    "  *******\n",
    " *********\n",
    "***********\n",
    "</pre>"
   ]
  },
  {
   "cell_type": "code",
   "execution_count": 20,
   "id": "acdfba7e",
   "metadata": {
    "ExecuteTime": {
     "end_time": "2023-08-24T00:44:40.962428Z",
     "start_time": "2023-08-24T00:44:40.946473Z"
    }
   },
   "outputs": [
    {
     "name": "stdout",
     "output_type": "stream",
     "text": [
      "    *\n",
      "   ***\n",
      "  *****\n",
      " *******\n",
      "*********\n"
     ]
    }
   ],
   "source": [
    "for i in range(1, 6):\n",
    "    for j in range(5-i):\n",
    "        print(' ', end='')\n",
    "    for k in range(2*i - 1):\n",
    "        print('*', end='')\n",
    "    print()"
   ]
  },
  {
   "cell_type": "code",
   "execution_count": 21,
   "id": "5e46a4b5",
   "metadata": {
    "ExecuteTime": {
     "end_time": "2023-08-24T00:47:08.245455Z",
     "start_time": "2023-08-24T00:47:08.221418Z"
    }
   },
   "outputs": [
    {
     "name": "stdout",
     "output_type": "stream",
     "text": [
      "    *\n",
      "   ***\n",
      "  *****\n",
      " *******\n",
      "*********\n"
     ]
    }
   ],
   "source": [
    "for i in range(1, 10, 2):\n",
    "    for j in range(int((10-i)/2)):\n",
    "        print(' ', end='')\n",
    "    for k in range(i):\n",
    "        print('*', end='')\n",
    "    print()"
   ]
  },
  {
   "cell_type": "code",
   "execution_count": 22,
   "id": "8f580e1e",
   "metadata": {
    "ExecuteTime": {
     "end_time": "2023-08-24T00:50:42.677209Z",
     "start_time": "2023-08-24T00:50:42.661180Z"
    }
   },
   "outputs": [
    {
     "name": "stdout",
     "output_type": "stream",
     "text": [
      "     *\n",
      "    ***\n",
      "   *****\n",
      "  *******\n",
      " *********\n"
     ]
    }
   ],
   "source": [
    "# 첫줄 공백처리\n",
    "for a in range(5):\n",
    "    print(' ', end='')\n",
    "# 첫줄 별 출력\n",
    "for b in range(1):\n",
    "    print('*', end='')\n",
    "# 개행\n",
    "print()\n",
    "\n",
    "# 두번째줄 공백처리\n",
    "for a in range(4):\n",
    "    print(' ', end='')\n",
    "# 두번째줄 별 출력\n",
    "for b in range(3):\n",
    "    print('*', end='')\n",
    "# 개행\n",
    "print()\n",
    "\n",
    "# 세번째줄 공백처리\n",
    "for a in range(3):\n",
    "    print(' ', end='')\n",
    "# 세번째줄 별 출력\n",
    "for b in range(5):\n",
    "    print('*', end='')\n",
    "# 개행\n",
    "print()\n",
    "\n",
    "# 네번째줄 공백처리\n",
    "for a in range(2):\n",
    "    print(' ', end='')\n",
    "# 네번째줄 별 출력\n",
    "for b in range(7):\n",
    "    print('*', end='')\n",
    "# 개행\n",
    "print()\n",
    "\n",
    "# 다섯번째줄 공백처리\n",
    "for a in range(1):\n",
    "    print(' ', end='')\n",
    "# 다섯번째줄 별 출력\n",
    "for b in range(9):\n",
    "    print('*', end='')\n",
    "# 개행\n",
    "print()"
   ]
  },
  {
   "cell_type": "code",
   "execution_count": 32,
   "id": "b6b2b4a0",
   "metadata": {
    "ExecuteTime": {
     "end_time": "2023-08-24T01:06:59.643207Z",
     "start_time": "2023-08-24T01:06:59.627179Z"
    }
   },
   "outputs": [],
   "source": [
    "def aaa() : \n",
    "    for k in range(8) : # 행의 수(줄)\n",
    "        for i in range(k) : # 열의 수\n",
    "            print('*', end = '')\n",
    "        print()    \n",
    " "
   ]
  },
  {
   "cell_type": "code",
   "execution_count": 33,
   "id": "bb510c5d",
   "metadata": {
    "ExecuteTime": {
     "end_time": "2023-08-24T01:07:01.345680Z",
     "start_time": "2023-08-24T01:07:01.329651Z"
    }
   },
   "outputs": [
    {
     "name": "stdout",
     "output_type": "stream",
     "text": [
      "\n",
      "*\n",
      "**\n",
      "***\n",
      "****\n",
      "*****\n",
      "******\n",
      "*******\n"
     ]
    }
   ],
   "source": [
    "aaa()"
   ]
  },
  {
   "cell_type": "code",
   "execution_count": 36,
   "id": "c8f3efec",
   "metadata": {
    "ExecuteTime": {
     "end_time": "2023-08-24T01:07:48.498838Z",
     "start_time": "2023-08-24T01:07:48.490773Z"
    }
   },
   "outputs": [
    {
     "name": "stdout",
     "output_type": "stream",
     "text": [
      "\n",
      "*\n",
      "**\n",
      "***\n",
      "****\n",
      "*****\n",
      "******\n",
      "*******\n",
      "None\n"
     ]
    }
   ],
   "source": [
    "print(aaa())"
   ]
  },
  {
   "cell_type": "code",
   "execution_count": 35,
   "id": "56fe8303",
   "metadata": {
    "ExecuteTime": {
     "end_time": "2023-08-24T01:07:03.391381Z",
     "start_time": "2023-08-24T01:07:03.375277Z"
    }
   },
   "outputs": [
    {
     "name": "stdout",
     "output_type": "stream",
     "text": [
      "\n",
      "*\n",
      "**\n",
      "***\n",
      "****\n",
      "*****\n",
      "******\n",
      "*******\n",
      "None\n"
     ]
    }
   ],
   "source": [
    "print(\"{}\".format(aaa()))"
   ]
  },
  {
   "cell_type": "markdown",
   "id": "7f4e08a6",
   "metadata": {},
   "source": [
    "# 파이썬 함수\n",
    "\n",
    "- 반복적인 프로그래밍을 피할 수 있다.\n",
    "- 모듈화로 인해 전체적인 코드의 가독성을 높인다.\n",
    "- 프로그램에 문제가 발생하거나 기능을 변경해야 할 때 빠른 유지보수가 가능하다."
   ]
  },
  {
   "cell_type": "code",
   "execution_count": 38,
   "id": "bf65e00b",
   "metadata": {
    "ExecuteTime": {
     "end_time": "2023-08-24T01:10:03.553241Z",
     "start_time": "2023-08-24T01:10:03.537278Z"
    }
   },
   "outputs": [
    {
     "ename": "SyntaxError",
     "evalue": "invalid syntax (Temp/ipykernel_7872/1328580849.py, line 4)",
     "output_type": "error",
     "traceback": [
      "\u001b[1;36m  File \u001b[1;32m\"C:\\Users\\USER\\AppData\\Local\\Temp/ipykernel_7872/1328580849.py\"\u001b[1;36m, line \u001b[1;32m4\u001b[0m\n\u001b[1;33m    return 반환값 또는 수식\u001b[0m\n\u001b[1;37m               ^\u001b[0m\n\u001b[1;31mSyntaxError\u001b[0m\u001b[1;31m:\u001b[0m invalid syntax\n"
     ]
    }
   ],
   "source": [
    "# 함수의 형식\n",
    "def 함수명(매개변수):\n",
    "    실행문장\n",
    "    return 반환값 또는 수식"
   ]
  },
  {
   "cell_type": "code",
   "execution_count": 39,
   "id": "eda1dc97",
   "metadata": {
    "ExecuteTime": {
     "end_time": "2023-08-24T01:13:39.880101Z",
     "start_time": "2023-08-24T01:13:39.864107Z"
    }
   },
   "outputs": [],
   "source": [
    "# 프로그램의 실행순서는 main 시작 - main 끝\n",
    "# 프로그램의 실행순서는 main 시작 - sub 프로그램 호출 - main 끝\n",
    "# return 키워드의 의미 : main에게 프로그램을 제어권을 돌려준다.\n",
    "# return : 제어권을 main에 넘겨준다는 의미로 생략이 가능\n",
    "# return 값 or 수식"
   ]
  },
  {
   "cell_type": "code",
   "execution_count": 40,
   "id": "fc4efc1e",
   "metadata": {
    "ExecuteTime": {
     "end_time": "2023-08-24T01:15:08.895260Z",
     "start_time": "2023-08-24T01:15:08.887229Z"
    }
   },
   "outputs": [
    {
     "name": "stdout",
     "output_type": "stream",
     "text": [
      "안녕!\n",
      "----------\n",
      "-----------------\n",
      "뭘봐\n",
      "오늘이 목요일이라니~\n",
      "체감은 일요일이야\n",
      "-----\n",
      "---------------------------\n",
      "반복적인 문구가 보입니까?\n"
     ]
    }
   ],
   "source": [
    "print(\"안녕!\")\n",
    "print(\"----------\") # print('-' * 10)\n",
    "print(\"-----------------\")\n",
    "print(\"뭘봐\")\n",
    "print(\"오늘이 목요일이라니~\")\n",
    "print(\"체감은 일요일이야\")\n",
    "print(\"-----\")\n",
    "print(\"---------------------------\")\n",
    "print(\"반복적인 문구가 보입니까?\")"
   ]
  },
  {
   "cell_type": "code",
   "execution_count": 43,
   "id": "d0f6dad4",
   "metadata": {
    "ExecuteTime": {
     "end_time": "2023-08-24T01:20:07.527006Z",
     "start_time": "2023-08-24T01:20:07.518974Z"
    }
   },
   "outputs": [],
   "source": [
    "def line(size):\n",
    "    print('*' * size)\n",
    "    #return"
   ]
  },
  {
   "cell_type": "code",
   "execution_count": 44,
   "id": "6c21cea3",
   "metadata": {
    "ExecuteTime": {
     "end_time": "2023-08-24T01:20:09.936738Z",
     "start_time": "2023-08-24T01:20:09.920691Z"
    }
   },
   "outputs": [
    {
     "name": "stdout",
     "output_type": "stream",
     "text": [
      "안녕!\n",
      "**********\n",
      "********************\n",
      "뭘봐\n",
      "오늘이 목요일이라니~\n",
      "체감은 일요일이야\n",
      "*****\n",
      "******************************\n",
      "반복적인 문구가 보입니까?\n"
     ]
    }
   ],
   "source": [
    "print(\"안녕!\")\n",
    "line(10)\n",
    "line(20)\n",
    "print(\"뭘봐\")\n",
    "print(\"오늘이 목요일이라니~\")\n",
    "print(\"체감은 일요일이야\")\n",
    "line(5)\n",
    "line(30)\n",
    "print(\"반복적인 문구가 보입니까?\")"
   ]
  },
  {
   "cell_type": "code",
   "execution_count": 49,
   "id": "22b8727f",
   "metadata": {
    "ExecuteTime": {
     "end_time": "2023-08-24T01:22:46.483330Z",
     "start_time": "2023-08-24T01:22:46.475299Z"
    }
   },
   "outputs": [],
   "source": [
    "# 매개변수도 없고, 리턴값도 없는 경우\n",
    "def aaa():\n",
    "    print(\"sub 프로그램의 시작\")"
   ]
  },
  {
   "cell_type": "code",
   "execution_count": 50,
   "id": "8acf37a4",
   "metadata": {
    "ExecuteTime": {
     "end_time": "2023-08-24T01:23:51.300677Z",
     "start_time": "2023-08-24T01:23:51.284690Z"
    }
   },
   "outputs": [],
   "source": [
    "# 매개변수가 없고, 리턴값이 있는 경우\n",
    "def bbb():\n",
    "    return \"ok\""
   ]
  },
  {
   "cell_type": "code",
   "execution_count": 51,
   "id": "4ccfb7be",
   "metadata": {
    "ExecuteTime": {
     "end_time": "2023-08-24T01:25:05.255406Z",
     "start_time": "2023-08-24T01:25:05.239443Z"
    }
   },
   "outputs": [],
   "source": [
    "# 매개변수 있고, 리턴값이 없는 경우\n",
    "def ccc(len):\n",
    "    if len >= 10:\n",
    "        print(\"길어\")\n",
    "    else:\n",
    "        print(\"짧아\")"
   ]
  },
  {
   "cell_type": "code",
   "execution_count": 52,
   "id": "4ad40b05",
   "metadata": {
    "ExecuteTime": {
     "end_time": "2023-08-24T01:26:24.048408Z",
     "start_time": "2023-08-24T01:26:24.032376Z"
    }
   },
   "outputs": [],
   "source": [
    "# 매개변수 있고, 리턴값도 있는 경우\n",
    "def adder(a, b):\n",
    "    #c = a + b\n",
    "    return a + b"
   ]
  },
  {
   "cell_type": "code",
   "execution_count": 57,
   "id": "1df3804b",
   "metadata": {
    "ExecuteTime": {
     "end_time": "2023-08-24T01:35:20.836735Z",
     "start_time": "2023-08-24T01:35:20.820702Z"
    }
   },
   "outputs": [
    {
     "name": "stdout",
     "output_type": "stream",
     "text": [
      "main 시작\n",
      "sub 프로그램의 시작\n",
      "ok\n",
      "ok\n",
      "짧아\n",
      "7\n",
      "tot =  30\n",
      "main 끝\n"
     ]
    }
   ],
   "source": [
    "print(\"main 시작\")\n",
    "\n",
    "# 호출 : 서브프로그램과 매크로 프로그램\n",
    "## Call by Name : 이름에 의한 호출 - 매개변수를 가지고 있지 않은 함수를 호출하는 행위\n",
    "aaa()\n",
    "print(bbb())\n",
    "string = bbb()\n",
    "print(string)\n",
    "\n",
    "## Call by Value : 값에 의한 호출 - 매개변수값을 전달해서 함수를 호출하는 행위\n",
    "ccc(7)\n",
    "print(adder(3, 4))\n",
    "tot = adder(10, 20)\n",
    "print(\"tot = \", tot)\n",
    "print(\"main 끝\")"
   ]
  },
  {
   "cell_type": "markdown",
   "id": "39af9de1",
   "metadata": {},
   "source": [
    "## 다섯개의 정수를 입력받아 그 합과 평균을 계산하여 출력하는 프로그램"
   ]
  },
  {
   "cell_type": "code",
   "execution_count": 64,
   "id": "8116bb01",
   "metadata": {
    "ExecuteTime": {
     "end_time": "2023-08-24T01:44:52.826216Z",
     "start_time": "2023-08-24T01:44:47.947790Z"
    }
   },
   "outputs": [
    {
     "name": "stdout",
     "output_type": "stream",
     "text": [
      "수 입력 = 1 2 3 4 5\n",
      "합 =  15\n",
      "평균 =  3.0\n"
     ]
    }
   ],
   "source": [
    "# a = int(input(\"수1 = \"))\n",
    "# b = int(input(\"수2 = \"))\n",
    "# c = int(input(\"수3 = \"))\n",
    "# d = int(input(\"수4 = \"))\n",
    "# e = int(input(\"수5 = \"))\n",
    "num = list(map(int, input('수 입력 = ').split()))\n",
    "#print(num, type(num))\n",
    "# tot = a + b + c + d + e\n",
    "# avg = tot / 5\n",
    "tot = 0\n",
    "for i in num:\n",
    "    tot += i\n",
    "    \n",
    "avg = tot / len(num)\n",
    "\n",
    "print(\"합 = \", tot)\n",
    "print(\"평균 = \", avg)"
   ]
  },
  {
   "cell_type": "code",
   "execution_count": 68,
   "id": "f3424718",
   "metadata": {
    "ExecuteTime": {
     "end_time": "2023-08-24T01:52:40.137842Z",
     "start_time": "2023-08-24T01:52:40.129813Z"
    }
   },
   "outputs": [],
   "source": [
    "def inData():\n",
    "    num = list(map(int, input('수 입력 = ').split()))\n",
    "    return num"
   ]
  },
  {
   "cell_type": "code",
   "execution_count": 69,
   "id": "ab79c3c4",
   "metadata": {
    "ExecuteTime": {
     "end_time": "2023-08-24T01:52:42.199198Z",
     "start_time": "2023-08-24T01:52:42.183170Z"
    }
   },
   "outputs": [],
   "source": [
    "def process():\n",
    "    tot = 0\n",
    "    num = inData()\n",
    "    for i in num:\n",
    "        tot += i\n",
    "    \n",
    "    avg = tot / len(num)\n",
    "    \n",
    "    return tot, avg   # (tot, avg)"
   ]
  },
  {
   "cell_type": "code",
   "execution_count": 70,
   "id": "7c3b354a",
   "metadata": {
    "ExecuteTime": {
     "end_time": "2023-08-24T01:52:47.983246Z",
     "start_time": "2023-08-24T01:52:44.519249Z"
    }
   },
   "outputs": [
    {
     "name": "stdout",
     "output_type": "stream",
     "text": [
      "main start\n",
      "수 입력 = 1 2 3 4 5\n",
      "(15, 3.0) <class 'tuple'>\n"
     ]
    }
   ],
   "source": [
    "# main\n",
    "print(\"main start\")\n",
    "\n",
    "t = process()\n",
    "# print(t, type(t))\n",
    "\n",
    "print(\"합 = \", t[0])\n",
    "print(\"평균 = \", t[1])"
   ]
  },
  {
   "cell_type": "code",
   "execution_count": 72,
   "id": "0f6c3f2b",
   "metadata": {
    "ExecuteTime": {
     "end_time": "2023-08-24T01:58:03.997014Z",
     "start_time": "2023-08-24T01:58:03.980986Z"
    }
   },
   "outputs": [],
   "source": [
    "# process 함수 수정\n",
    "## Call Reference : 참조에 의한 호출, 매개변수의 값이 아닌 주소를 이용하여 함수를 호출\n",
    "def process(num):\n",
    "    tot = 0    \n",
    "    for i in num:\n",
    "        tot += i\n",
    "    \n",
    "    avg = tot / len(num)\n",
    "    \n",
    "    return tot, avg   # (tot, avg)"
   ]
  },
  {
   "cell_type": "code",
   "execution_count": 73,
   "id": "3e5c7510",
   "metadata": {
    "ExecuteTime": {
     "end_time": "2023-08-24T01:58:09.473454Z",
     "start_time": "2023-08-24T01:58:06.318677Z"
    }
   },
   "outputs": [
    {
     "name": "stdout",
     "output_type": "stream",
     "text": [
      "수 입력 = 1 2 3\n",
      "합 =  6\n",
      "평균 =  2.0\n"
     ]
    }
   ],
   "source": [
    "num = list(map(int, input('수 입력 = ').split()))\n",
    "\n",
    "t = process(num)\n",
    "# print(t, type(t))\n",
    "\n",
    "print(\"합 = \", t[0])\n",
    "print(\"평균 = \", t[1])"
   ]
  },
  {
   "cell_type": "markdown",
   "id": "caf221d6",
   "metadata": {},
   "source": [
    "## 계산기 프로그램\n",
    "\n",
    "- 두 개의 정수와 하나의 연산자를 입력받아 계산을 수행한 후 결과를 출력하는 프로그램\n",
    "- 연산자에 따른 계산식을 각각의 함수로 구현하시오.\n",
    "- adder, subtract, multiply, divide\n",
    "- 사용자가 원하는 계산을 수행할 수 있도록 구현할 것.\n",
    "- 언제든 프로그램을 종료할 수 있도록 구현할 것. 무한 Loop를 사용\n",
    "- Main Menu : [1]더하기 [2]빼기 [3]곱하기 [4]나누기 [5]종료"
   ]
  },
  {
   "cell_type": "code",
   "execution_count": 1,
   "id": "84454668",
   "metadata": {
    "ExecuteTime": {
     "end_time": "2023-08-24T02:32:21.748119Z",
     "start_time": "2023-08-24T02:32:21.740119Z"
    }
   },
   "outputs": [],
   "source": [
    "# 함수 정의부\n",
    "def adder(a, b):\n",
    "    print(f\"{a} + {b} = {a+b}\")\n",
    "    \n",
    "def substract(a, b):\n",
    "    print(f\"{a} - {b} = {a-b}\")\n",
    "    \n",
    "def multiply(a, b):\n",
    "    print(f\"{a} x {b} = {a*b}\")\n",
    "    \n",
    "def divide(a, b):\n",
    "    print(f\"{a} / {b} = {a/b}\")\n",
    "    \n",
    "def menu():\n",
    "    print(\"\\n계산기 프로그램을 수행합니다.\")\n",
    "    print(\"[1]더하기 [2]빼기 [3]곱하기 [4]나누기 [5]종료 = \")"
   ]
  },
  {
   "cell_type": "code",
   "execution_count": null,
   "id": "d08fc776",
   "metadata": {
    "ExecuteTime": {
     "start_time": "2023-08-24T02:32:23.869Z"
    }
   },
   "outputs": [
    {
     "name": "stdout",
     "output_type": "stream",
     "text": [
      "\n",
      "계산기 프로그램을 수행합니다.\n",
      "[1]더하기 [2]빼기 [3]곱하기 [4]나누기 [5]종료 = \n",
      "선택 = 1\n",
      "\n",
      "10 5\n",
      "10 + 5 = 15\n",
      "\n",
      "계산기 프로그램을 수행합니다.\n",
      "[1]더하기 [2]빼기 [3]곱하기 [4]나누기 [5]종료 = \n",
      "선택 = 2\n",
      "\n",
      "8 9\n",
      "8 - 9 = -1\n",
      "\n",
      "계산기 프로그램을 수행합니다.\n",
      "[1]더하기 [2]빼기 [3]곱하기 [4]나누기 [5]종료 = \n",
      "선택 = 5\n",
      "\n"
     ]
    }
   ],
   "source": [
    "while True:\n",
    "    # 메뉴호출\n",
    "    menu()\n",
    "    ch = int(input(\"선택 = \"))\n",
    "    print()\n",
    "    su1, su2 = map(int, input().split())\n",
    "    \n",
    "    if ch == 1:\n",
    "        adder(su1, su2)\n",
    "    elif ch == 2:\n",
    "        substract(su1, su2)\n",
    "    elif ch == 3:\n",
    "        multiply(su1, su2)\n",
    "    elif ch == 4:\n",
    "        divide(su1, su2)\n",
    "    elif ch == 5:\n",
    "        print(\"프로그램을 종료합니다.\")\n",
    "        break\n",
    "    else:\n",
    "        print(\"선택이 올바르지 않습니다.\")"
   ]
  },
  {
   "cell_type": "code",
   "execution_count": 74,
   "id": "8c125268",
   "metadata": {
    "ExecuteTime": {
     "end_time": "2023-08-24T02:03:22.995224Z",
     "start_time": "2023-08-24T02:03:22.971196Z"
    }
   },
   "outputs": [
    {
     "name": "stdout",
     "output_type": "stream",
     "text": [
      "        \n",
      "       *\n",
      "      **\n",
      "     ***\n",
      "    ****\n",
      "   *****\n",
      "  ******\n",
      " *******\n"
     ]
    }
   ],
   "source": [
    "for k in range(8) : \n",
    "    print('%8s'% ('*'* k))"
   ]
  },
  {
   "cell_type": "code",
   "execution_count": 80,
   "id": "61dc36d6",
   "metadata": {
    "ExecuteTime": {
     "end_time": "2023-08-24T02:20:53.316812Z",
     "start_time": "2023-08-24T02:20:49.173872Z"
    }
   },
   "outputs": [
    {
     "name": "stdout",
     "output_type": "stream",
     "text": [
      "숫자 = koea\n"
     ]
    },
    {
     "ename": "NameError",
     "evalue": "name 'koea' is not defined",
     "output_type": "error",
     "traceback": [
      "\u001b[1;31m---------------------------------------------------------------------------\u001b[0m",
      "\u001b[1;31mNameError\u001b[0m                                 Traceback (most recent call last)",
      "\u001b[1;32m~\\AppData\\Local\\Temp/ipykernel_7872/743402538.py\u001b[0m in \u001b[0;36m<module>\u001b[1;34m\u001b[0m\n\u001b[0;32m      7\u001b[0m \u001b[1;31m# print(num, type(num))\u001b[0m\u001b[1;33m\u001b[0m\u001b[1;33m\u001b[0m\u001b[0m\n\u001b[0;32m      8\u001b[0m \u001b[1;33m\u001b[0m\u001b[0m\n\u001b[1;32m----> 9\u001b[1;33m \u001b[0mnum\u001b[0m \u001b[1;33m=\u001b[0m \u001b[0meval\u001b[0m\u001b[1;33m(\u001b[0m\u001b[0minput\u001b[0m\u001b[1;33m(\u001b[0m\u001b[1;34m'숫자 = '\u001b[0m\u001b[1;33m)\u001b[0m\u001b[1;33m)\u001b[0m\u001b[1;33m\u001b[0m\u001b[1;33m\u001b[0m\u001b[0m\n\u001b[0m\u001b[0;32m     10\u001b[0m \u001b[1;33m\u001b[0m\u001b[0m\n\u001b[0;32m     11\u001b[0m \u001b[0mprint\u001b[0m\u001b[1;33m(\u001b[0m\u001b[0mnum\u001b[0m\u001b[1;33m,\u001b[0m \u001b[0mtype\u001b[0m\u001b[1;33m(\u001b[0m\u001b[0mnum\u001b[0m\u001b[1;33m)\u001b[0m\u001b[1;33m)\u001b[0m\u001b[1;33m\u001b[0m\u001b[1;33m\u001b[0m\u001b[0m\n",
      "\u001b[1;32m<string>\u001b[0m in \u001b[0;36m<module>\u001b[1;34m\u001b[0m\n",
      "\u001b[1;31mNameError\u001b[0m: name 'koea' is not defined"
     ]
    }
   ],
   "source": [
    "# num = int(input('숫자 = '))\n",
    "\n",
    "# print(num, type(num))\n",
    "\n",
    "# num = float(input('숫자 = '))\n",
    "\n",
    "# print(num, type(num))\n",
    "\n",
    "num = eval(input('숫자 = '))\n",
    "\n",
    "print(num, type(num))"
   ]
  },
  {
   "cell_type": "markdown",
   "id": "0c054e33",
   "metadata": {},
   "source": [
    "## 성적처리 프로그램 3단계\n",
    "- 국어, 영어, 수학 점수를 입력받아 총점과 평균 그리고 학점을 계산하여 출력하는 프로그램\n",
    "- 한 명 이상의 학생에 대한 정보를 받아 처리하도록 구현할 것.\n",
    "- 주어진 입력 및 출력형식에 맞게 구현할 것."
   ]
  },
  {
   "cell_type": "code",
   "execution_count": 1,
   "id": "37235559",
   "metadata": {
    "ExecuteTime": {
     "end_time": "2023-08-24T02:37:53.891892Z",
     "start_time": "2023-08-24T02:37:53.883862Z"
    }
   },
   "outputs": [
    {
     "name": "stdout",
     "output_type": "stream",
     "text": [
      "{'name': '홍길동', 'kor': 80, 'eng': 92, 'math': 77}\n"
     ]
    }
   ],
   "source": [
    "# 한명의 학생정보\n",
    "student = {'name':'홍길동', 'kor':80, 'eng':92, 'math':77}\n",
    "print(student)"
   ]
  },
  {
   "cell_type": "code",
   "execution_count": 2,
   "id": "64dc77a4",
   "metadata": {
    "ExecuteTime": {
     "end_time": "2023-08-24T02:38:29.924287Z",
     "start_time": "2023-08-24T02:38:29.900177Z"
    }
   },
   "outputs": [
    {
     "data": {
      "text/plain": [
       "'홍길동'"
      ]
     },
     "execution_count": 2,
     "metadata": {},
     "output_type": "execute_result"
    }
   ],
   "source": [
    "# 사전은 키를 이용하여 값을 추출\n",
    "student['name']"
   ]
  },
  {
   "cell_type": "code",
   "execution_count": 3,
   "id": "544fdca2",
   "metadata": {
    "ExecuteTime": {
     "end_time": "2023-08-24T02:38:44.617149Z",
     "start_time": "2023-08-24T02:38:44.601050Z"
    }
   },
   "outputs": [
    {
     "data": {
      "text/plain": [
       "'홍길동'"
      ]
     },
     "execution_count": 3,
     "metadata": {},
     "output_type": "execute_result"
    }
   ],
   "source": [
    "student.get('name')"
   ]
  },
  {
   "cell_type": "code",
   "execution_count": 4,
   "id": "feb12f38",
   "metadata": {
    "ExecuteTime": {
     "end_time": "2023-08-24T02:39:22.536115Z",
     "start_time": "2023-08-24T02:39:22.520128Z"
    }
   },
   "outputs": [
    {
     "data": {
      "text/plain": [
       "{'name': '장보고', 'kor': 80, 'eng': 92, 'math': 77}"
      ]
     },
     "execution_count": 4,
     "metadata": {},
     "output_type": "execute_result"
    }
   ],
   "source": [
    "student['name'] = '장보고'\n",
    "student"
   ]
  },
  {
   "cell_type": "code",
   "execution_count": 5,
   "id": "9c0b6536",
   "metadata": {
    "ExecuteTime": {
     "end_time": "2023-08-24T02:40:08.744252Z",
     "start_time": "2023-08-24T02:40:08.720214Z"
    }
   },
   "outputs": [
    {
     "data": {
      "text/plain": [
       "{'name': '장보고', 'kor': 80, 'eng': 92, 'math': 77, 'tot': 249}"
      ]
     },
     "execution_count": 5,
     "metadata": {},
     "output_type": "execute_result"
    }
   ],
   "source": [
    "student['tot'] = student['kor'] + student['eng'] + student['math']\n",
    "student"
   ]
  },
  {
   "cell_type": "code",
   "execution_count": 6,
   "id": "3e48f565",
   "metadata": {
    "ExecuteTime": {
     "end_time": "2023-08-24T02:43:54.030499Z",
     "start_time": "2023-08-24T02:43:44.429111Z"
    }
   },
   "outputs": [
    {
     "name": "stdout",
     "output_type": "stream",
     "text": [
      "이름 = aaa\n",
      "국어 = 100\n",
      "영어 = 100\n",
      "수학 = 100\n",
      "{'name': 'aaa', 'kor': 100, 'eng': 100, 'math': 100}\n"
     ]
    }
   ],
   "source": [
    "name = input('이름 = ')\n",
    "kor = int(input('국어 = '))\n",
    "eng = int(input('영어 = '))\n",
    "math = int(input('수학 = '))\n",
    "\n",
    "stu = dict() # 빈 사전 생성\n",
    "stu['name'] = name\n",
    "stu['kor'] = kor\n",
    "stu['eng'] = eng\n",
    "stu ['math'] = math\n",
    "\n",
    "print(stu)"
   ]
  },
  {
   "cell_type": "code",
   "execution_count": 7,
   "id": "9dcf61a9",
   "metadata": {
    "ExecuteTime": {
     "end_time": "2023-08-24T02:48:09.457705Z",
     "start_time": "2023-08-24T02:47:46.091400Z"
    }
   },
   "outputs": [
    {
     "name": "stdout",
     "output_type": "stream",
     "text": [
      "이름 = aaa\n",
      "국어 = 100\n",
      "영어 = 100\n",
      "수학 = 100\n",
      "이름 = bbb\n",
      "국어 = 90\n",
      "영어 = 90\n",
      "수학 = 90\n",
      "이름 = ccc\n",
      "국어 = 80\n",
      "영어 = 80\n",
      "수학 = 80\n",
      "{'name': 'aaa', 'kor': 100, 'eng': 100, 'math': 100}\n",
      "{'name': 'bbb', 'kor': 90, 'eng': 90, 'math': 90}\n",
      "{'name': 'ccc', 'kor': 80, 'eng': 80, 'math': 80}\n"
     ]
    }
   ],
   "source": [
    "# 여러명의 학생에 정보를 담을 리스트 객체 생성\n",
    "students = []\n",
    "\n",
    "for i in range(3):\n",
    "    name = input('이름 = ')\n",
    "    kor = int(input('국어 = '))\n",
    "    eng = int(input('영어 = '))\n",
    "    math = int(input('수학 = '))\n",
    "\n",
    "    stu = dict() # 빈 사전 생성\n",
    "    stu['name'] = name\n",
    "    stu['kor'] = kor\n",
    "    stu['eng'] = eng\n",
    "    stu ['math'] = math\n",
    "    \n",
    "    students.append(stu)\n",
    "    \n",
    "for i in students:\n",
    "    print(i)"
   ]
  },
  {
   "cell_type": "code",
   "execution_count": 8,
   "id": "9db689d2",
   "metadata": {
    "ExecuteTime": {
     "end_time": "2023-08-24T02:55:15.291046Z",
     "start_time": "2023-08-24T02:55:15.274979Z"
    }
   },
   "outputs": [],
   "source": [
    "# 전역함수\n",
    "def menu():\n",
    "    print(\"== 성적처리 프로그램 ==\")\n",
    "    print(\"1. 신규학생등록\")\n",
    "    print(\"2. 전체성적조회\")\n",
    "    print(\"3. 학생성적조회\") # 특정학생 - 이름\n",
    "    print(\"4. 학생정보삭제\")\n",
    "    print(\"5. 프로그램종료\")"
   ]
  },
  {
   "cell_type": "code",
   "execution_count": 9,
   "id": "4d365b0d",
   "metadata": {
    "ExecuteTime": {
     "end_time": "2023-08-24T02:58:57.021576Z",
     "start_time": "2023-08-24T02:58:57.005545Z"
    }
   },
   "outputs": [],
   "source": [
    "# 변수 범위(scope, 영역) : 전역변수, 지역변수\n",
    "a = 100 # 전역변수"
   ]
  },
  {
   "cell_type": "code",
   "execution_count": 10,
   "id": "346757ef",
   "metadata": {
    "ExecuteTime": {
     "end_time": "2023-08-24T02:59:07.152345Z",
     "start_time": "2023-08-24T02:59:07.144316Z"
    }
   },
   "outputs": [],
   "source": [
    "def check():\n",
    "    a = 10  # 지역변수\n",
    "    print(\"a = \", a)"
   ]
  },
  {
   "cell_type": "code",
   "execution_count": 11,
   "id": "d7541aa1",
   "metadata": {
    "ExecuteTime": {
     "end_time": "2023-08-24T02:59:54.378603Z",
     "start_time": "2023-08-24T02:59:54.363714Z"
    }
   },
   "outputs": [
    {
     "name": "stdout",
     "output_type": "stream",
     "text": [
      "a =  100\n"
     ]
    }
   ],
   "source": [
    "print(\"a = \", a)"
   ]
  },
  {
   "cell_type": "code",
   "execution_count": 12,
   "id": "4a2f8095",
   "metadata": {
    "ExecuteTime": {
     "end_time": "2023-08-24T02:59:58.419475Z",
     "start_time": "2023-08-24T02:59:58.395438Z"
    }
   },
   "outputs": [
    {
     "name": "stdout",
     "output_type": "stream",
     "text": [
      "a =  10\n"
     ]
    }
   ],
   "source": [
    "check()"
   ]
  },
  {
   "cell_type": "code",
   "execution_count": 13,
   "id": "471ccd03",
   "metadata": {
    "ExecuteTime": {
     "end_time": "2023-08-24T03:00:26.915841Z",
     "start_time": "2023-08-24T03:00:26.907799Z"
    }
   },
   "outputs": [
    {
     "name": "stdout",
     "output_type": "stream",
     "text": [
      "a =  100\n"
     ]
    }
   ],
   "source": [
    "print(\"a = \", a)"
   ]
  },
  {
   "cell_type": "code",
   "execution_count": 15,
   "id": "e8a392d5",
   "metadata": {
    "ExecuteTime": {
     "end_time": "2023-08-24T03:18:20.582434Z",
     "start_time": "2023-08-24T03:18:20.574407Z"
    }
   },
   "outputs": [],
   "source": [
    "# 신규 학생을 입력받아 처리하는 함수 makeStudent\n",
    "def makeStudent():\n",
    "    stu = dict()\n",
    "    \n",
    "    stu['name'] = input('이름 = ')\n",
    "    stu['kor'] = int(input('국어 = '))\n",
    "    stu['eng'] = int(input('영어 = '))\n",
    "    stu ['math'] = int(input('수학 = '))\n",
    "    \n",
    "    # 총점과 평균 학점을 처리하는 로직\n",
    "    stu['tot'] = stu['kor'] + stu['eng'] + stu['math']\n",
    "    stu['avg'] = stu['tot'] / 3\n",
    "    if stu['avg'] >= 90:\n",
    "        stu['grade'] = 'A'\n",
    "    elif stu['avg'] >= 80:\n",
    "        stu['grade'] = 'B'\n",
    "    elif stu['avg'] >= 70:\n",
    "        stu['grade'] = 'C'\n",
    "    elif stu['avg'] >= 60:\n",
    "        stu['grade'] = 'D'\n",
    "    else:\n",
    "        stu['grade'] = 'F'\n",
    "        \n",
    "    return stu "
   ]
  },
  {
   "cell_type": "code",
   "execution_count": 14,
   "id": "95c08f27",
   "metadata": {
    "ExecuteTime": {
     "end_time": "2023-08-24T03:07:59.994524Z",
     "start_time": "2023-08-24T03:07:40.064364Z"
    }
   },
   "outputs": [
    {
     "name": "stdout",
     "output_type": "stream",
     "text": [
      "\n",
      "== 성적처리 프로그램 ==\n",
      "1. 신규학생등록\n",
      "2. 전체성적조회\n",
      "3. 학생성적조회\n",
      "4. 학생정보삭제\n",
      "5. 프로그램종료\n",
      "메뉴선택 = 6\n",
      "메뉴의 선택이 올바르지 않습니다.\n",
      "\n",
      "== 성적처리 프로그램 ==\n",
      "1. 신규학생등록\n",
      "2. 전체성적조회\n",
      "3. 학생성적조회\n",
      "4. 학생정보삭제\n",
      "5. 프로그램종료\n",
      "메뉴선택 = 5\n",
      "프로그램을 종료합니다.\n"
     ]
    }
   ],
   "source": [
    "# 학생정보를 저장하는 리스트 객체 - 전역변수\n",
    "students = list()\n",
    "\n",
    "while True:\n",
    "    print() # 개행\n",
    "    \n",
    "    # 메뉴 출력\n",
    "    menu()\n",
    "    \n",
    "    # 메뉴를 입력받는 작업\n",
    "    ch = int(input('메뉴선택 = '))\n",
    "    \n",
    "    # 선택에 따른 로직 구현\n",
    "    if ch == 1:\n",
    "        stu = makeStudent()\n",
    "        students.append(stu)\n",
    "    elif ch == 2:\n",
    "        for i in students:\n",
    "            print(i)\n",
    "    elif ch == 3:\n",
    "        print(\"조회할 학생 정보를 입력하세요\")\n",
    "        name = input('이름 = ')\n",
    "        search(name)\n",
    "    elif ch == 4:\n",
    "        pass\n",
    "    elif ch == 5:\n",
    "        print(\"프로그램을 종료합니다.\")\n",
    "        break\n",
    "    else:\n",
    "        print(\"메뉴의 선택이 올바르지 않습니다.\")"
   ]
  },
  {
   "cell_type": "code",
   "execution_count": 17,
   "id": "d567e9d3",
   "metadata": {
    "ExecuteTime": {
     "end_time": "2023-08-24T03:20:08.319935Z",
     "start_time": "2023-08-24T03:20:08.311908Z"
    }
   },
   "outputs": [],
   "source": [
    "k = list()\n",
    "\n",
    "for i in k:\n",
    "    print(i)"
   ]
  },
  {
   "cell_type": "code",
   "execution_count": 18,
   "id": "3e39d704",
   "metadata": {
    "ExecuteTime": {
     "end_time": "2023-08-24T03:23:23.834534Z",
     "start_time": "2023-08-24T03:23:23.826486Z"
    }
   },
   "outputs": [
    {
     "name": "stdout",
     "output_type": "stream",
     "text": [
      "[{'id': 111, 'name': 'aaa'}, {'id': 222, 'name': 'bbb'}, {'id': 333, 'name': 'ccc'}]\n"
     ]
    }
   ],
   "source": [
    "a = {'id':111, 'name':'aaa'}\n",
    "b = {'id':222, 'name':'bbb'}\n",
    "c = {'id':333, 'name':'ccc'}\n",
    "\n",
    "imsi = list()\n",
    "imsi.append(a)\n",
    "imsi.append(b)\n",
    "imsi.append(c)\n",
    "\n",
    "print(imsi)"
   ]
  },
  {
   "cell_type": "code",
   "execution_count": 19,
   "id": "37df6d07",
   "metadata": {
    "ExecuteTime": {
     "end_time": "2023-08-24T03:24:09.055729Z",
     "start_time": "2023-08-24T03:24:09.047728Z"
    }
   },
   "outputs": [
    {
     "data": {
      "text/plain": [
       "111"
      ]
     },
     "execution_count": 19,
     "metadata": {},
     "output_type": "execute_result"
    }
   ],
   "source": [
    "a['id']"
   ]
  },
  {
   "cell_type": "code",
   "execution_count": 20,
   "id": "319d4c62",
   "metadata": {
    "ExecuteTime": {
     "end_time": "2023-08-24T03:24:34.659193Z",
     "start_time": "2023-08-24T03:24:34.642410Z"
    }
   },
   "outputs": [
    {
     "data": {
      "text/plain": [
       "{'id': 111, 'name': 'aaa'}"
      ]
     },
     "execution_count": 20,
     "metadata": {},
     "output_type": "execute_result"
    }
   ],
   "source": [
    "imsi[0]"
   ]
  },
  {
   "cell_type": "code",
   "execution_count": 22,
   "id": "d82ec9df",
   "metadata": {
    "ExecuteTime": {
     "end_time": "2023-08-24T03:25:34.502881Z",
     "start_time": "2023-08-24T03:25:34.494881Z"
    }
   },
   "outputs": [
    {
     "data": {
      "text/plain": [
       "111"
      ]
     },
     "execution_count": 22,
     "metadata": {},
     "output_type": "execute_result"
    }
   ],
   "source": [
    "imsi[0]['id']"
   ]
  },
  {
   "cell_type": "code",
   "execution_count": 24,
   "id": "0a1c3474",
   "metadata": {
    "ExecuteTime": {
     "end_time": "2023-08-24T03:26:54.663288Z",
     "start_time": "2023-08-24T03:26:54.655287Z"
    }
   },
   "outputs": [
    {
     "name": "stdout",
     "output_type": "stream",
     "text": [
      "aaa\n",
      "bbb\n",
      "ccc\n"
     ]
    }
   ],
   "source": [
    "print(imsi[0]['name'])\n",
    "print(imsi[1]['name'])\n",
    "print(imsi[2]['name'])"
   ]
  },
  {
   "cell_type": "code",
   "execution_count": 25,
   "id": "466d84b0",
   "metadata": {
    "ExecuteTime": {
     "end_time": "2023-08-24T03:27:50.519506Z",
     "start_time": "2023-08-24T03:27:50.511472Z"
    }
   },
   "outputs": [
    {
     "name": "stdout",
     "output_type": "stream",
     "text": [
      "aaa\n",
      "bbb\n",
      "ccc\n"
     ]
    }
   ],
   "source": [
    "# bbb\n",
    "for i in range(3):\n",
    "    print(imsi[i]['name'])"
   ]
  },
  {
   "cell_type": "code",
   "execution_count": 31,
   "id": "9a1ad802",
   "metadata": {
    "ExecuteTime": {
     "end_time": "2023-08-24T03:35:49.894019Z",
     "start_time": "2023-08-24T03:35:44.391069Z"
    }
   },
   "outputs": [
    {
     "name": "stdout",
     "output_type": "stream",
     "text": [
      "이름 = ddd\n",
      "해당학생이 존재하지 않습니다.\n"
     ]
    }
   ],
   "source": [
    "name = input('이름 = ')\n",
    "\n",
    "# 스위칭변수(switch == toggle)\n",
    "sw = False\n",
    "\n",
    "for i in range(3):\n",
    "    if imsi[i]['name'] == name:\n",
    "        sw = True\n",
    "        break\n",
    "    \n",
    "if sw == True:\n",
    "    print(imsi[i])\n",
    "else:\n",
    "    print(\"해당학생이 존재하지 않습니다.\")"
   ]
  },
  {
   "cell_type": "code",
   "execution_count": null,
   "id": "bcebdec2",
   "metadata": {},
   "outputs": [],
   "source": []
  }
 ],
 "metadata": {
  "kernelspec": {
   "display_name": "Python 3 (ipykernel)",
   "language": "python",
   "name": "python3"
  },
  "language_info": {
   "codemirror_mode": {
    "name": "ipython",
    "version": 3
   },
   "file_extension": ".py",
   "mimetype": "text/x-python",
   "name": "python",
   "nbconvert_exporter": "python",
   "pygments_lexer": "ipython3",
   "version": "3.9.7"
  },
  "toc": {
   "base_numbering": 1,
   "nav_menu": {},
   "number_sections": true,
   "sideBar": true,
   "skip_h1_title": false,
   "title_cell": "Table of Contents",
   "title_sidebar": "Contents",
   "toc_cell": false,
   "toc_position": {
    "height": "calc(100% - 180px)",
    "left": "10px",
    "top": "150px",
    "width": "256px"
   },
   "toc_section_display": true,
   "toc_window_display": true
  },
  "varInspector": {
   "cols": {
    "lenName": 16,
    "lenType": 16,
    "lenVar": 40
   },
   "kernels_config": {
    "python": {
     "delete_cmd_postfix": "",
     "delete_cmd_prefix": "del ",
     "library": "var_list.py",
     "varRefreshCmd": "print(var_dic_list())"
    },
    "r": {
     "delete_cmd_postfix": ") ",
     "delete_cmd_prefix": "rm(",
     "library": "var_list.r",
     "varRefreshCmd": "cat(var_dic_list()) "
    }
   },
   "types_to_exclude": [
    "module",
    "function",
    "builtin_function_or_method",
    "instance",
    "_Feature"
   ],
   "window_display": false
  }
 },
 "nbformat": 4,
 "nbformat_minor": 5
}
