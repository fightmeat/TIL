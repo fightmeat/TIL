{
 "cells": [
  {
   "cell_type": "markdown",
   "id": "35c22294",
   "metadata": {},
   "source": [
    "# 언더바(언더스코어, 밑줄)\n",
    "\n",
    "- 언더바를 사용하는 경우\n",
    "  1. 인터프리터에서의 마지막 값  \n",
    "  2. 무시하는 값  \n",
    "  3. 숫자 자릿수 구분  \n",
    "  4. (앞 언더바 1개) 모듈내에서만 변수/함수를 사용할 때  \n",
    "  5. (뒤 언더바 1개) 파이썬 변수/함수명 충돌을 피하기 위해  \n",
    "  6. (앞 언더바 2개) 네임 맹글링  \n",
    "  7. (앞뒤 언더바 2개씩) 매직 메소드  "
   ]
  },
  {
   "cell_type": "markdown",
   "id": "e3903be8",
   "metadata": {},
   "source": [
    "## 인터프리터에서의 마지막 값\n",
    "\n",
    "- 인터프리터 환경에서 사용"
   ]
  },
  {
   "cell_type": "code",
   "execution_count": 1,
   "id": "55535c73",
   "metadata": {
    "ExecuteTime": {
     "end_time": "2023-08-21T01:06:44.289796Z",
     "start_time": "2023-08-21T01:06:44.272825Z"
    }
   },
   "outputs": [
    {
     "data": {
      "text/plain": [
       "7"
      ]
     },
     "execution_count": 1,
     "metadata": {},
     "output_type": "execute_result"
    }
   ],
   "source": [
    "3 + 4"
   ]
  },
  {
   "cell_type": "code",
   "execution_count": 2,
   "id": "40529eec",
   "metadata": {
    "ExecuteTime": {
     "end_time": "2023-08-21T01:06:50.408572Z",
     "start_time": "2023-08-21T01:06:50.395619Z"
    }
   },
   "outputs": [
    {
     "data": {
      "text/plain": [
       "10"
      ]
     },
     "execution_count": 2,
     "metadata": {},
     "output_type": "execute_result"
    }
   ],
   "source": [
    "# 이 상황에서 언더바는 앞선 코드 실행의 결과가 들어감\n",
    "_ + 3"
   ]
  },
  {
   "cell_type": "markdown",
   "id": "c5afdcd8",
   "metadata": {},
   "source": [
    "## 무시하는 값"
   ]
  },
  {
   "cell_type": "code",
   "execution_count": 3,
   "id": "143c19a8",
   "metadata": {
    "ExecuteTime": {
     "end_time": "2023-08-21T01:08:45.728839Z",
     "start_time": "2023-08-21T01:08:45.715953Z"
    }
   },
   "outputs": [
    {
     "name": "stdout",
     "output_type": "stream",
     "text": [
      "1\n",
      "2\n",
      "3\n",
      "4\n",
      "5\n"
     ]
    }
   ],
   "source": [
    "list01 = [1, 2, 3, 4, 5]\n",
    "a, b, _, d, e = list01\n",
    "\n",
    "print(a)\n",
    "print(b)\n",
    "print(_)\n",
    "print(d)\n",
    "print(e)"
   ]
  },
  {
   "cell_type": "code",
   "execution_count": 4,
   "id": "3fbf50b0",
   "metadata": {
    "ExecuteTime": {
     "end_time": "2023-08-21T01:09:42.797698Z",
     "start_time": "2023-08-21T01:09:42.785726Z"
    }
   },
   "outputs": [
    {
     "name": "stdout",
     "output_type": "stream",
     "text": [
      "1\n",
      "2 3 4\n",
      "5\n"
     ]
    }
   ],
   "source": [
    "list02 = [1, 2, 3, 4, 5]\n",
    "a, *_, e = list02\n",
    "print(a)\n",
    "print(*_)\n",
    "print(e)"
   ]
  },
  {
   "cell_type": "code",
   "execution_count": 5,
   "id": "3172644e",
   "metadata": {
    "ExecuteTime": {
     "end_time": "2023-08-21T01:10:23.683096Z",
     "start_time": "2023-08-21T01:10:23.678133Z"
    }
   },
   "outputs": [
    {
     "name": "stdout",
     "output_type": "stream",
     "text": [
      "[[1, 2], [3, 4], [5, 6]]\n"
     ]
    }
   ],
   "source": [
    "list03 = [[1, 2],[3, 4],[5, 6]]\n",
    "print(list03)"
   ]
  },
  {
   "cell_type": "code",
   "execution_count": 6,
   "id": "b25b1a2c",
   "metadata": {
    "ExecuteTime": {
     "end_time": "2023-08-21T01:10:46.960134Z",
     "start_time": "2023-08-21T01:10:46.950066Z"
    }
   },
   "outputs": [
    {
     "name": "stdout",
     "output_type": "stream",
     "text": [
      "2\n",
      "4\n",
      "6\n"
     ]
    }
   ],
   "source": [
    "for _, b in list03:\n",
    "    print(b)"
   ]
  },
  {
   "cell_type": "code",
   "execution_count": 7,
   "id": "93efe3dc",
   "metadata": {
    "ExecuteTime": {
     "end_time": "2023-08-21T01:11:07.881645Z",
     "start_time": "2023-08-21T01:11:07.876646Z"
    }
   },
   "outputs": [
    {
     "name": "stdout",
     "output_type": "stream",
     "text": [
      "1 2\n",
      "3 4\n",
      "5 6\n"
     ]
    }
   ],
   "source": [
    "for _, b in list03:\n",
    "    print(_, b)"
   ]
  },
  {
   "cell_type": "markdown",
   "id": "2ea51955",
   "metadata": {},
   "source": [
    "## 숫자 자릿수"
   ]
  },
  {
   "cell_type": "code",
   "execution_count": 8,
   "id": "efd7adba",
   "metadata": {
    "ExecuteTime": {
     "end_time": "2023-08-21T01:11:37.188060Z",
     "start_time": "2023-08-21T01:11:37.180991Z"
    }
   },
   "outputs": [
    {
     "name": "stdout",
     "output_type": "stream",
     "text": [
      "100000\n",
      "100000\n",
      "100000\n"
     ]
    }
   ],
   "source": [
    "num1 = 100000\n",
    "num2 = 100_000\n",
    "num3 = 10_0_00_0\n",
    "print(num1)\n",
    "print(num2)\n",
    "print(num3)"
   ]
  },
  {
   "cell_type": "markdown",
   "id": "45ac8941",
   "metadata": {},
   "source": [
    "- 위 코드와 같이 언더바는 숫자형 변수를 사용할 때 자리수 구분을 위해 사용하기도 합니다. \n",
    "- 실 생활에서는 자리수 구분을 천(1000) 단위로 구분하는데 파이썬에서는 딱히 자리수 구분을 해야만 하는 위치는 없습니다. \n",
    "- 다만 실생활에서와 같이 천단위로 구분을 해주면 보기 편하겠죠. \n",
    "- 위 코드는 어느 자리에 구분을 주던 상관 없다는 것을 알 수 있습니다."
   ]
  },
  {
   "cell_type": "markdown",
   "id": "9864f9f0",
   "metadata": {},
   "source": [
    "## 앞 언더바 1개, 변수/함수를 모듈 내에서만 사용하고 싶을 때"
   ]
  },
  {
   "cell_type": "code",
   "execution_count": null,
   "id": "0912a0a8",
   "metadata": {},
   "outputs": [],
   "source": []
  }
 ],
 "metadata": {
  "kernelspec": {
   "display_name": "Python 3 (ipykernel)",
   "language": "python",
   "name": "python3"
  },
  "language_info": {
   "codemirror_mode": {
    "name": "ipython",
    "version": 3
   },
   "file_extension": ".py",
   "mimetype": "text/x-python",
   "name": "python",
   "nbconvert_exporter": "python",
   "pygments_lexer": "ipython3",
   "version": "3.9.7"
  },
  "toc": {
   "base_numbering": 1,
   "nav_menu": {},
   "number_sections": true,
   "sideBar": true,
   "skip_h1_title": false,
   "title_cell": "Table of Contents",
   "title_sidebar": "Contents",
   "toc_cell": false,
   "toc_position": {},
   "toc_section_display": true,
   "toc_window_display": true
  },
  "varInspector": {
   "cols": {
    "lenName": 16,
    "lenType": 16,
    "lenVar": 40
   },
   "kernels_config": {
    "python": {
     "delete_cmd_postfix": "",
     "delete_cmd_prefix": "del ",
     "library": "var_list.py",
     "varRefreshCmd": "print(var_dic_list())"
    },
    "r": {
     "delete_cmd_postfix": ") ",
     "delete_cmd_prefix": "rm(",
     "library": "var_list.r",
     "varRefreshCmd": "cat(var_dic_list()) "
    }
   },
   "types_to_exclude": [
    "module",
    "function",
    "builtin_function_or_method",
    "instance",
    "_Feature"
   ],
   "window_display": false
  }
 },
 "nbformat": 4,
 "nbformat_minor": 5
}
