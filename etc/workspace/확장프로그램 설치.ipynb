{
 "cells": [
  {
   "cell_type": "markdown",
   "id": "c2d2546a",
   "metadata": {},
   "source": [
    "# NBextensions 설치하기"
   ]
  },
  {
   "cell_type": "markdown",
   "id": "b3e051d3",
   "metadata": {},
   "source": [
    "## Anaconda Prompt 환경\n",
    "- 라이브러리 설치 : pip install jupyter_contrib_nbextensions       \n",
    "- 쥬피터노트북에서 보일 수 있도록 등록 : jupyter contrib nbextension install --user   "
   ]
  },
  {
   "cell_type": "markdown",
   "id": "7f4bdce6",
   "metadata": {},
   "source": [
    "## conda 환경 설치\n",
    "- conda install -c conda-forge jupyter_contrib_nbextensions \n",
    "- conda install -c conda-forge jupyter_nbextensions_configurator\n",
    "- jupyter contrib nbextension install --user"
   ]
  },
  {
   "cell_type": "markdown",
   "id": "4bd9d03d",
   "metadata": {},
   "source": [
    "## jupyter notebook에서 설치\n",
    "- !pip install jupyter_nbextensions_configurator jupyter_contrib_nbextensions\n",
    "- !jupyter contrib nbextension install --user \n",
    "- !jupyter nbextensions_configurator enable --user"
   ]
  },
  {
   "cell_type": "markdown",
   "id": "7e461772",
   "metadata": {},
   "source": [
    "# 기능 추가 및 사용법"
   ]
  },
  {
   "cell_type": "markdown",
   "id": "e50ac1bf",
   "metadata": {},
   "source": [
    "- 설치 프로그램을 진행한 후 주피터 노트북을 다시 재가동하면 NBextensions 버튼이 활성화된다."
   ]
  },
  {
   "cell_type": "markdown",
   "id": "4296bbc5",
   "metadata": {},
   "source": [
    "![확장팩](images/nbex_1.png)"
   ]
  },
  {
   "cell_type": "markdown",
   "id": "49f5aa67",
   "metadata": {},
   "source": [
    "- 주요 기능 소개와 활성화"
   ]
  },
  {
   "cell_type": "markdown",
   "id": "ba651776",
   "metadata": {},
   "source": [
    "![기능구현](images/nbex_2.png)"
   ]
  },
  {
   "cell_type": "markdown",
   "id": "e719333c",
   "metadata": {},
   "source": [
    "## Execute Time\n",
    "- 코드의 실행시간을 알려주는 기능\n",
    "- 코드마다 일일히 time 메서드를 사용하지 않아도 된다.\n",
    "- 어떤 알고리즘이 더 소비되는 시간이 적은지 알고 싶을 때 유용하게 활용하는 기능\n",
    "- 셀이 작업을 마친 시간과 돌아가는데 걸린 시간을 측정하여 표시한다."
   ]
  },
  {
   "cell_type": "markdown",
   "id": "40292b43",
   "metadata": {},
   "source": [
    "## Hide input\n",
    "- 코드들을 숨길 수 있는 기능\n",
    "- input은 숨기고 결과는 남긴다. 따로 결과가 없는 코드의 경우 전부 숨겨진다고 생각하면 된다.\n",
    "- 코드가 많아서 지저분할 때, 실행하지 않고 각주로만 남겨놓는 코드들을 잠깐 안보이게 할 때 유용한 기능\n",
    "- 화살표로 표시된 버튼을 이용"
   ]
  },
  {
   "cell_type": "markdown",
   "id": "02a2a7d4",
   "metadata": {},
   "source": [
    "![추가기능](images/nbex_3.png)"
   ]
  },
  {
   "cell_type": "markdown",
   "id": "22d4daf9",
   "metadata": {},
   "source": [
    "## Hinterland\n",
    "- 코드의 자동완성을 도와주는 기능\n",
    "- colab을 비롯한 다른 IDEL은 자동완성 기능이 있는데 jupyter에서는 기본적으로 제공하지 않는다. \n",
    "- tab을 누르지 않아도 코드를 자동완성시켜준다"
   ]
  },
  {
   "cell_type": "markdown",
   "id": "c0f5439d",
   "metadata": {},
   "source": [
    "![기능추가](images/nbex_4.png)"
   ]
  },
  {
   "cell_type": "markdown",
   "id": "23c6905f",
   "metadata": {},
   "source": [
    "## Variable Inspector\n",
    "- 노트북 상에서 생성된 변수와 그 값들(type, size, shape 등)을 트래킹할 수 있다.\n",
    "- 화살표로 표시된 버튼을 클릭하면 노트북 상에 존재하는 데이터의 이름과 특징들을 손쉽게 확인할 수 있다."
   ]
  },
  {
   "cell_type": "markdown",
   "id": "ae537539",
   "metadata": {},
   "source": [
    "![기능추가](images/nbex_5.png)"
   ]
  },
  {
   "cell_type": "markdown",
   "id": "f98a30ee",
   "metadata": {},
   "source": [
    "## 주로 사용되는 추가 기능\n",
    "- Table of Contents : 목차 보이기\n",
    "- ExecuteTime : 셀 실행된 기간 및 마친시간 확인\n",
    "- Hide input all : 코드셀 모두 숨기고 마크다운과 결과만 보여줌\n",
    "- Hide input : 코드셀 하나만 접기\n",
    "- Codefolding : 코드 단위로 접기"
   ]
  },
  {
   "cell_type": "code",
   "execution_count": null,
   "id": "9b43440f",
   "metadata": {},
   "outputs": [],
   "source": []
  },
  {
   "cell_type": "code",
   "execution_count": null,
   "id": "f1f3ce30",
   "metadata": {},
   "outputs": [],
   "source": []
  },
  {
   "cell_type": "code",
   "execution_count": null,
   "id": "084bc80b",
   "metadata": {},
   "outputs": [],
   "source": []
  }
 ],
 "metadata": {
  "kernelspec": {
   "display_name": "Python 3 (ipykernel)",
   "language": "python",
   "name": "python3"
  },
  "language_info": {
   "codemirror_mode": {
    "name": "ipython",
    "version": 3
   },
   "file_extension": ".py",
   "mimetype": "text/x-python",
   "name": "python",
   "nbconvert_exporter": "python",
   "pygments_lexer": "ipython3",
   "version": "3.9.7"
  },
  "toc": {
   "base_numbering": 1,
   "nav_menu": {},
   "number_sections": true,
   "sideBar": true,
   "skip_h1_title": false,
   "title_cell": "Table of Contents",
   "title_sidebar": "Contents",
   "toc_cell": false,
   "toc_position": {
    "height": "590.4px",
    "left": "488px",
    "top": "32.125px",
    "width": "307.2px"
   },
   "toc_section_display": true,
   "toc_window_display": true
  }
 },
 "nbformat": 4,
 "nbformat_minor": 5
}
