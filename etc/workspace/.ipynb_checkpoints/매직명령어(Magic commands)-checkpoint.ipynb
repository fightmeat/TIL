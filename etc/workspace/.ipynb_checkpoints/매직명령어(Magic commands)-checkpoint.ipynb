{
 "cells": [
  {
   "cell_type": "markdown",
   "id": "98107a5d",
   "metadata": {},
   "source": [
    "# 매직명령어(Magic commands)\n",
    "\n",
    "- 매직명령어는 IPython kernel에서 제공되는 명령어이다.\n",
    "- 디렉토리를 생성, 이동하거나 파일을 생성할 수 있고, Python 파일을 Load하는 기능들을 제공한다.\n",
    "- 키워드 : %, %%\n",
    "- %(Line magic) : 한 줄 안에서 명령어 실행이 시작되고 종료된다.\n",
    "- %%(Cell magic) : cell안에서 명령어 실행이 시작되고 종료된다."
   ]
  },
  {
   "cell_type": "code",
   "execution_count": 14,
   "id": "d04c3d31",
   "metadata": {
    "ExecuteTime": {
     "end_time": "2023-08-21T00:34:57.998192Z",
     "start_time": "2023-08-21T00:34:57.984805Z"
    }
   },
   "outputs": [
    {
     "data": {
      "application/json": {
       "cell": {
        "!": "OSMagics",
        "HTML": "Other",
        "SVG": "Other",
        "bash": "Other",
        "capture": "ExecutionMagics",
        "cmd": "Other",
        "debug": "ExecutionMagics",
        "file": "Other",
        "html": "DisplayMagics",
        "javascript": "DisplayMagics",
        "js": "DisplayMagics",
        "latex": "DisplayMagics",
        "markdown": "DisplayMagics",
        "perl": "Other",
        "prun": "ExecutionMagics",
        "pypy": "Other",
        "python": "Other",
        "python2": "Other",
        "python3": "Other",
        "ruby": "Other",
        "script": "ScriptMagics",
        "sh": "Other",
        "svg": "DisplayMagics",
        "sx": "OSMagics",
        "system": "OSMagics",
        "time": "ExecutionMagics",
        "timeit": "ExecutionMagics",
        "writefile": "OSMagics"
       },
       "line": {
        "alias": "OSMagics",
        "alias_magic": "BasicMagics",
        "autoawait": "AsyncMagics",
        "autocall": "AutoMagics",
        "automagic": "AutoMagics",
        "autosave": "KernelMagics",
        "bookmark": "OSMagics",
        "cd": "OSMagics",
        "clear": "KernelMagics",
        "cls": "KernelMagics",
        "colors": "BasicMagics",
        "conda": "PackagingMagics",
        "config": "ConfigMagics",
        "connect_info": "KernelMagics",
        "copy": "Other",
        "ddir": "Other",
        "debug": "ExecutionMagics",
        "dhist": "OSMagics",
        "dirs": "OSMagics",
        "doctest_mode": "BasicMagics",
        "echo": "Other",
        "ed": "Other",
        "edit": "KernelMagics",
        "env": "OSMagics",
        "gui": "BasicMagics",
        "hist": "Other",
        "history": "HistoryMagics",
        "killbgscripts": "ScriptMagics",
        "ldir": "Other",
        "less": "KernelMagics",
        "load": "CodeMagics",
        "load_ext": "ExtensionMagics",
        "loadpy": "CodeMagics",
        "logoff": "LoggingMagics",
        "logon": "LoggingMagics",
        "logstart": "LoggingMagics",
        "logstate": "LoggingMagics",
        "logstop": "LoggingMagics",
        "ls": "Other",
        "lsmagic": "BasicMagics",
        "macro": "ExecutionMagics",
        "magic": "BasicMagics",
        "matplotlib": "PylabMagics",
        "mkdir": "Other",
        "more": "KernelMagics",
        "notebook": "BasicMagics",
        "page": "BasicMagics",
        "pastebin": "CodeMagics",
        "pdb": "ExecutionMagics",
        "pdef": "NamespaceMagics",
        "pdoc": "NamespaceMagics",
        "pfile": "NamespaceMagics",
        "pinfo": "NamespaceMagics",
        "pinfo2": "NamespaceMagics",
        "pip": "PackagingMagics",
        "popd": "OSMagics",
        "pprint": "BasicMagics",
        "precision": "BasicMagics",
        "prun": "ExecutionMagics",
        "psearch": "NamespaceMagics",
        "psource": "NamespaceMagics",
        "pushd": "OSMagics",
        "pwd": "OSMagics",
        "pycat": "OSMagics",
        "pylab": "PylabMagics",
        "qtconsole": "KernelMagics",
        "quickref": "BasicMagics",
        "recall": "HistoryMagics",
        "rehashx": "OSMagics",
        "reload_ext": "ExtensionMagics",
        "ren": "Other",
        "rep": "Other",
        "rerun": "HistoryMagics",
        "reset": "NamespaceMagics",
        "reset_selective": "NamespaceMagics",
        "rmdir": "Other",
        "run": "ExecutionMagics",
        "save": "CodeMagics",
        "sc": "OSMagics",
        "set_env": "OSMagics",
        "store": "StoreMagics",
        "sx": "OSMagics",
        "system": "OSMagics",
        "tb": "ExecutionMagics",
        "time": "ExecutionMagics",
        "timeit": "ExecutionMagics",
        "unalias": "OSMagics",
        "unload_ext": "ExtensionMagics",
        "who": "NamespaceMagics",
        "who_ls": "NamespaceMagics",
        "whos": "NamespaceMagics",
        "xdel": "NamespaceMagics",
        "xmode": "BasicMagics"
       }
      },
      "text/plain": [
       "Available line magics:\n",
       "%alias  %alias_magic  %autoawait  %autocall  %automagic  %autosave  %bookmark  %cd  %clear  %cls  %colors  %conda  %config  %connect_info  %copy  %ddir  %debug  %dhist  %dirs  %doctest_mode  %echo  %ed  %edit  %env  %gui  %hist  %history  %killbgscripts  %ldir  %less  %load  %load_ext  %loadpy  %logoff  %logon  %logstart  %logstate  %logstop  %ls  %lsmagic  %macro  %magic  %matplotlib  %mkdir  %more  %notebook  %page  %pastebin  %pdb  %pdef  %pdoc  %pfile  %pinfo  %pinfo2  %pip  %popd  %pprint  %precision  %prun  %psearch  %psource  %pushd  %pwd  %pycat  %pylab  %qtconsole  %quickref  %recall  %rehashx  %reload_ext  %ren  %rep  %rerun  %reset  %reset_selective  %rmdir  %run  %save  %sc  %set_env  %store  %sx  %system  %tb  %time  %timeit  %unalias  %unload_ext  %who  %who_ls  %whos  %xdel  %xmode\n",
       "\n",
       "Available cell magics:\n",
       "%%!  %%HTML  %%SVG  %%bash  %%capture  %%cmd  %%debug  %%file  %%html  %%javascript  %%js  %%latex  %%markdown  %%perl  %%prun  %%pypy  %%python  %%python2  %%python3  %%ruby  %%script  %%sh  %%svg  %%sx  %%system  %%time  %%timeit  %%writefile\n",
       "\n",
       "Automagic is ON, % prefix IS NOT needed for line magics."
      ]
     },
     "execution_count": 14,
     "metadata": {},
     "output_type": "execute_result"
    }
   ],
   "source": [
    "# 전체 매직 명령어 표시\n",
    "%lsmagic"
   ]
  },
  {
   "cell_type": "code",
   "execution_count": 15,
   "id": "fa2d3c9e",
   "metadata": {
    "ExecuteTime": {
     "end_time": "2023-08-21T00:38:25.220851Z",
     "start_time": "2023-08-21T00:38:25.204263Z"
    }
   },
   "outputs": [
    {
     "name": "stdout",
     "output_type": "stream",
     "text": [
      "30\n"
     ]
    }
   ],
   "source": [
    "def sum(a, b):\n",
    "    return a + b\n",
    "\n",
    "def main():\n",
    "    print(sum(10, 20))\n",
    "    \n",
    "if __name__==\"__main__\":\n",
    "    main()"
   ]
  },
  {
   "cell_type": "code",
   "execution_count": 16,
   "id": "d7fa6821",
   "metadata": {
    "ExecuteTime": {
     "end_time": "2023-08-21T00:38:54.631629Z",
     "start_time": "2023-08-21T00:38:54.617699Z"
    }
   },
   "outputs": [
    {
     "name": "stdout",
     "output_type": "stream",
     "text": [
      "Writing sample.py\n"
     ]
    }
   ],
   "source": [
    "%%writefile sample.py\n",
    "\n",
    "def sum(a, b):\n",
    "    return a + b\n",
    "\n",
    "def main():\n",
    "    print(sum(10, 20))\n",
    "    \n",
    "if __name__==\"__main__\":\n",
    "    main()"
   ]
  },
  {
   "cell_type": "code",
   "execution_count": 17,
   "id": "efd0a1de",
   "metadata": {
    "ExecuteTime": {
     "end_time": "2023-08-21T00:39:18.909930Z",
     "start_time": "2023-08-21T00:39:18.872748Z"
    }
   },
   "outputs": [
    {
     "name": "stdout",
     "output_type": "stream",
     "text": [
      " C 드라이브의 볼륨에는 이름이 없습니다.\n",
      " 볼륨 일련 번호: 7A4F-46DF\n",
      "\n",
      " C:\\k_digital\\python Basic\\workspace 디렉터리\n",
      "\n",
      "2023-08-21  오전 09:38    <DIR>          .\n",
      "2023-08-21  오전 09:38    <DIR>          ..\n",
      "2023-08-21  오전 09:19    <DIR>          .ipynb_checkpoints\n",
      "2023-08-18  오전 09:19            15,634 00. 파이썬 개요 및 개발환경 설정.ipynb\n",
      "2023-08-18  오전 09:15             9,293 01. 파이썬 기본문법.ipynb\n",
      "2023-08-18  오후 12:11            28,016 02. 기본 자료형(primetive data type).ipynb\n",
      "2023-08-18  오후 03:47             6,353 03. 자료구조(리스트, 튜플, 집합, 딕셔너리).ipynb\n",
      "2023-08-18  오전 11:33            20,138 04. 표준 입출력 함수.ipynb\n",
      "2023-08-21  오전 09:25               217 dummy.py\n",
      "2023-08-21  오전 09:35    <DIR>          images\n",
      "2023-08-21  오전 09:22    <DIR>          inner\n",
      "2023-08-21  오전 09:38               119 sample.py\n",
      "2023-08-18  오전 10:10             6,828 마크다운 문법정리.ipynb\n",
      "2023-08-21  오전 09:38            34,311 매직명령어(Magic commands).ipynb\n",
      "2023-08-18  오전 09:13             5,788 확장프로그램 설치.ipynb\n",
      "              10개 파일             126,697 바이트\n",
      "               5개 디렉터리  434,251,169,792 바이트 남음\n"
     ]
    }
   ],
   "source": [
    "# 저장파일 확인\n",
    "%ls"
   ]
  },
  {
   "cell_type": "code",
   "execution_count": null,
   "id": "e10520b4",
   "metadata": {},
   "outputs": [],
   "source": []
  },
  {
   "cell_type": "markdown",
   "id": "072ec0c8",
   "metadata": {},
   "source": [
    "![매직명령어](images/magic.png)"
   ]
  },
  {
   "cell_type": "markdown",
   "id": "f3e055ee",
   "metadata": {},
   "source": [
    "## pwd"
   ]
  },
  {
   "cell_type": "code",
   "execution_count": 1,
   "id": "401cb0d7",
   "metadata": {
    "ExecuteTime": {
     "end_time": "2023-08-21T00:22:23.166729Z",
     "start_time": "2023-08-21T00:22:23.147718Z"
    }
   },
   "outputs": [
    {
     "data": {
      "text/plain": [
       "'C:\\\\k_digital\\\\python Basic\\\\workspace'"
      ]
     },
     "execution_count": 1,
     "metadata": {},
     "output_type": "execute_result"
    }
   ],
   "source": [
    "# 현재 작업 디렉토리 확인\n",
    "%pwd"
   ]
  },
  {
   "cell_type": "markdown",
   "id": "f1d1e709",
   "metadata": {},
   "source": [
    "## mkdir"
   ]
  },
  {
   "cell_type": "code",
   "execution_count": 2,
   "id": "05ba601f",
   "metadata": {
    "ExecuteTime": {
     "end_time": "2023-08-21T00:22:42.190684Z",
     "start_time": "2023-08-21T00:22:42.139779Z"
    }
   },
   "outputs": [],
   "source": [
    "# 디렉토리 생성\n",
    "%mkdir inner"
   ]
  },
  {
   "cell_type": "markdown",
   "id": "17bfbaa7",
   "metadata": {},
   "source": [
    "## cd"
   ]
  },
  {
   "cell_type": "code",
   "execution_count": 4,
   "id": "50b7282d",
   "metadata": {
    "ExecuteTime": {
     "end_time": "2023-08-21T00:24:06.346715Z",
     "start_time": "2023-08-21T00:24:06.336467Z"
    }
   },
   "outputs": [
    {
     "name": "stdout",
     "output_type": "stream",
     "text": [
      "C:\\k_digital\\python Basic\\workspace\\inner\n",
      "C:\\k_digital\\python Basic\\workspace\n"
     ]
    }
   ],
   "source": [
    "#디렉토리 이동\n",
    "%cd inner\n",
    "\n",
    "%cd ../"
   ]
  },
  {
   "cell_type": "markdown",
   "id": "ef40afeb",
   "metadata": {},
   "source": [
    "## history"
   ]
  },
  {
   "cell_type": "code",
   "execution_count": 5,
   "id": "e939ba25",
   "metadata": {
    "ExecuteTime": {
     "end_time": "2023-08-21T00:24:37.068349Z",
     "start_time": "2023-08-21T00:24:37.055351Z"
    }
   },
   "outputs": [
    {
     "name": "stdout",
     "output_type": "stream",
     "text": [
      "# 현재 작업 디렉토리 확인\n",
      "%pwd\n",
      "# 디렉토리 생성\n",
      "%mkdir inner\n",
      "#디렉토리 이동\n",
      "%cd inner\n",
      "\n",
      "# OUTPUT\n",
      "c:\\python\\data_science\\Exam\\inner\n",
      "\n",
      "%cd ../\n",
      "#디렉토리 이동\n",
      "%cd inner\n",
      "\n",
      "%cd ../\n",
      "# Magic command 실행 이력 조회\n",
      "%history\n"
     ]
    }
   ],
   "source": [
    "# Magic command 실행 이력 조회\n",
    "%history"
   ]
  },
  {
   "cell_type": "markdown",
   "id": "26f7d733",
   "metadata": {},
   "source": [
    "## write\n",
    "- Cell Magic(%%)으로 write 명령을 호출하여 dummy.py 파일 생성"
   ]
  },
  {
   "cell_type": "code",
   "execution_count": 6,
   "id": "271acf1b",
   "metadata": {
    "ExecuteTime": {
     "end_time": "2023-08-21T00:25:43.438890Z",
     "start_time": "2023-08-21T00:25:43.425821Z"
    }
   },
   "outputs": [
    {
     "name": "stdout",
     "output_type": "stream",
     "text": [
      "Writing dummy.py\n"
     ]
    }
   ],
   "source": [
    "%%writefile dummy.py\n",
    "# Data\n",
    "import numpy as np\n",
    "import pandas as pd\n",
    "\n",
    "# Visualization\n",
    "import matplotlib.pyplot as plt\n",
    "\n",
    "def say_hello(message='hello'):\n",
    "    print(message)\n",
    "\n",
    "if __name__ == '__main__':\n",
    "    print('Invoked dummy.py')"
   ]
  },
  {
   "cell_type": "markdown",
   "id": "1316aa81",
   "metadata": {},
   "source": [
    "## load\n",
    "- 현재 노트북의 라인넘버를 지정하여 해당 cell의 코드를 가져오거나 외부 파일 코드를 가져올 수 있다."
   ]
  },
  {
   "cell_type": "code",
   "execution_count": 7,
   "id": "ac58e1d2",
   "metadata": {
    "ExecuteTime": {
     "end_time": "2023-08-21T00:27:26.203443Z",
     "start_time": "2023-08-21T00:27:26.197475Z"
    }
   },
   "outputs": [],
   "source": [
    "# 위에서 작성한 dummy.py 파일을 load한다.\n",
    "# 실행 후 해당 명령어는 주석처리 된다."
   ]
  },
  {
   "cell_type": "code",
   "execution_count": 8,
   "id": "d82580b2",
   "metadata": {
    "ExecuteTime": {
     "end_time": "2023-08-21T00:27:49.172889Z",
     "start_time": "2023-08-21T00:27:47.236376Z"
    }
   },
   "outputs": [
    {
     "name": "stdout",
     "output_type": "stream",
     "text": [
      "Invoked dummy.py\n"
     ]
    }
   ],
   "source": [
    "# 위에서 write로 작성한 dummy.py를 실행한다.\n",
    "%run dummy.py"
   ]
  },
  {
   "cell_type": "code",
   "execution_count": 9,
   "id": "60c3033d",
   "metadata": {
    "ExecuteTime": {
     "end_time": "2023-08-21T00:28:02.547099Z",
     "start_time": "2023-08-21T00:28:02.536179Z"
    }
   },
   "outputs": [
    {
     "name": "stdout",
     "output_type": "stream",
     "text": [
      "Hello world\n"
     ]
    }
   ],
   "source": [
    "#run으로 실행된 dummy.py의 리소스가 현재 노트북에 등록된다.\n",
    "say_hello('Hello world')"
   ]
  },
  {
   "cell_type": "markdown",
   "id": "7bb0dd6a",
   "metadata": {},
   "source": [
    "## time\n",
    "- 코드의 실행시간을 출력한다."
   ]
  },
  {
   "cell_type": "code",
   "execution_count": 10,
   "id": "1d7ab1b2",
   "metadata": {
    "ExecuteTime": {
     "end_time": "2023-08-21T00:28:36.528283Z",
     "start_time": "2023-08-21T00:28:36.519282Z"
    }
   },
   "outputs": [
    {
     "name": "stdout",
     "output_type": "stream",
     "text": [
      "49.6278\n",
      "Wall time: 1 ms\n"
     ]
    }
   ],
   "source": [
    "import numpy as np\n",
    "rand = np.random.randint(100, size=10000)\n",
    "%time print(np.mean(rand))"
   ]
  },
  {
   "cell_type": "code",
   "execution_count": 11,
   "id": "3ed8f1f3",
   "metadata": {
    "ExecuteTime": {
     "end_time": "2023-08-21T00:28:55.210732Z",
     "start_time": "2023-08-21T00:28:54.867264Z"
    }
   },
   "outputs": [
    {
     "name": "stdout",
     "output_type": "stream",
     "text": [
      "Succeed connection: http://www.daum.net\n",
      "Wall time: 335 ms\n"
     ]
    }
   ],
   "source": [
    "%%time\n",
    "def web_scraping(url):\n",
    "    import urllib3\n",
    "    http = urllib3.PoolManager()\n",
    "    r = http.request('GET', url)\n",
    "    \n",
    "    if r.status == 200:\n",
    "        print(f'Succeed connection: {url}')\n",
    "        return r\n",
    "    \n",
    "data = web_scraping('http://www.daum.net')    "
   ]
  },
  {
   "cell_type": "markdown",
   "id": "1f7f37d9",
   "metadata": {},
   "source": [
    "## timeit\n",
    "- time과 다르게 반복 횟수, 실행 횟수를 지정할 수 있다.\n",
    "- 매개변수 -n(반복횟수), -r(실행횟수)\n",
    "- 반복/실행 횟수는 미 지정시 실행 횟수는 기본 7번 실행하고, 반복횟수는 통계데이터가 충분할때까지 적당히 반복한다.\n",
    "- 각 실행횟수(r)에서 반복(n)되는 **최상의 결과를 도출하여 평균, 표준편차를 출력** 한다."
   ]
  },
  {
   "cell_type": "code",
   "execution_count": 12,
   "id": "f942492b",
   "metadata": {
    "ExecuteTime": {
     "end_time": "2023-08-21T00:31:05.696515Z",
     "start_time": "2023-08-21T00:31:03.998942Z"
    }
   },
   "outputs": [
    {
     "name": "stdout",
     "output_type": "stream",
     "text": [
      "Succeed connection: http://www.daum.net\n",
      "Succeed connection: http://www.naver.com\n",
      "Succeed connection: http://www.google.com\n",
      "Succeed connection: http://www.daum.net\n",
      "Succeed connection: http://www.naver.com\n",
      "Succeed connection: http://www.google.com\n",
      "843 ms ± 0 ns per loop (mean ± std. dev. of 1 run, 2 loops each)\n"
     ]
    }
   ],
   "source": [
    "%%timeit -n2 -r1\n",
    "url_list = ['http://www.daum.net', 'http://www.naver.com', 'http://www.google.com']\n",
    "for url in url_list:\n",
    "    web_scraping(url)"
   ]
  },
  {
   "cell_type": "markdown",
   "id": "06bc65f1",
   "metadata": {},
   "source": [
    "## pip\n",
    "- 콘솔을 열어 pip 명령을 실행할 필요 없이 노트북내에서 실행가능"
   ]
  },
  {
   "cell_type": "code",
   "execution_count": 13,
   "id": "84e4345c",
   "metadata": {
    "ExecuteTime": {
     "end_time": "2023-08-21T00:32:14.749078Z",
     "start_time": "2023-08-21T00:32:11.859443Z"
    }
   },
   "outputs": [
    {
     "name": "stdout",
     "output_type": "stream",
     "text": [
      "Package                            Version\n",
      "---------------------------------- --------------------\n",
      "alabaster                          0.7.12\n",
      "anaconda-client                    1.9.0\n",
      "anaconda-navigator                 2.1.1\n",
      "anaconda-project                   0.10.1\n",
      "anyio                              2.2.0\n",
      "appdirs                            1.4.4\n",
      "argh                               0.26.2\n",
      "argon2-cffi                        20.1.0\n",
      "arrow                              0.13.1\n",
      "asn1crypto                         1.4.0\n",
      "astroid                            2.6.6\n",
      "astropy                            4.3.1\n",
      "async-generator                    1.10\n",
      "atomicwrites                       1.4.0\n",
      "attrs                              21.2.0\n",
      "autopep8                           1.5.7\n",
      "Babel                              2.9.1\n",
      "backcall                           0.2.0\n",
      "backports.functools-lru-cache      1.6.4\n",
      "backports.shutil-get-terminal-size 1.0.0\n",
      "backports.tempfile                 1.0\n",
      "backports.weakref                  1.0.post1\n",
      "bcrypt                             3.2.0\n",
      "beautifulsoup4                     4.10.0\n",
      "binaryornot                        0.4.4\n",
      "bitarray                           2.3.0\n",
      "bkcharts                           0.2\n",
      "black                              19.10b0\n",
      "bleach                             4.0.0\n",
      "bokeh                              2.4.1\n",
      "boto                               2.49.0\n",
      "Bottleneck                         1.3.2\n",
      "brotlipy                           0.7.0\n",
      "cached-property                    1.5.2\n",
      "certifi                            2021.10.8\n",
      "cffi                               1.14.6\n",
      "chardet                            4.0.0\n",
      "charset-normalizer                 2.0.4\n",
      "click                              8.0.3\n",
      "cloudpickle                        2.0.0\n",
      "clyent                             1.2.2\n",
      "colorama                           0.4.4\n",
      "comtypes                           1.1.10\n",
      "conda                              4.10.3\n",
      "conda-build                        3.21.6\n",
      "conda-content-trust                0+unknown\n",
      "conda-pack                         0.6.0\n",
      "conda-package-handling             1.7.3\n",
      "conda-repo-cli                     1.0.4\n",
      "conda-token                        0.3.0\n",
      "conda-verify                       3.4.2\n",
      "contextlib2                        0.6.0.post1\n",
      "cookiecutter                       1.7.2\n",
      "cryptography                       3.4.8\n",
      "cycler                             0.10.0\n",
      "Cython                             0.29.24\n",
      "cytoolz                            0.11.0\n",
      "daal4py                            2021.3.0\n",
      "dask                               2021.10.0\n",
      "debugpy                            1.4.1\n",
      "decorator                          5.1.0\n",
      "defusedxml                         0.7.1\n",
      "diff-match-patch                   20200713\n",
      "distributed                        2021.10.0\n",
      "docutils                           0.17.1\n",
      "entrypoints                        0.3\n",
      "et-xmlfile                         1.1.0\n",
      "fastcache                          1.1.0\n",
      "filelock                           3.3.1\n",
      "flake8                             3.9.2\n",
      "Flask                              1.1.2\n",
      "fonttools                          4.25.0\n",
      "fsspec                             2021.10.1\n",
      "future                             0.18.2\n",
      "gevent                             21.8.0\n",
      "glob2                              0.7\n",
      "greenlet                           1.1.1\n",
      "h5py                               3.2.1\n",
      "HeapDict                           1.0.1\n",
      "html5lib                           1.1\n",
      "idna                               3.2\n",
      "imagecodecs                        2021.8.26\n",
      "imageio                            2.9.0\n",
      "imagesize                          1.2.0\n",
      "importlib-metadata                 4.8.1\n",
      "inflection                         0.5.1\n",
      "iniconfig                          1.1.1\n",
      "intervaltree                       3.1.0\n",
      "ipykernel                          6.4.1\n",
      "ipython                            7.29.0\n",
      "ipython-genutils                   0.2.0\n",
      "ipywidgets                         7.6.5\n",
      "isort                              5.9.3\n",
      "itsdangerous                       2.0.1\n",
      "jdcal                              1.4.1\n",
      "jedi                               0.18.0\n",
      "Jinja2                             2.11.3\n",
      "jinja2-time                        0.2.0\n",
      "joblib                             1.1.0\n",
      "json5                              0.9.6\n",
      "jsonschema                         3.2.0\n",
      "jupyter                            1.0.0\n",
      "jupyter-client                     6.1.12\n",
      "jupyter-console                    6.4.0\n",
      "jupyter-contrib-core               0.4.2\n",
      "jupyter-contrib-nbextensions       0.7.0\n",
      "jupyter-core                       4.8.1\n",
      "jupyter-highlight-selected-word    0.2.0\n",
      "jupyter-nbextensions-configurator  0.6.3\n",
      "jupyter-server                     1.4.1\n",
      "jupyterlab                         3.2.1\n",
      "jupyterlab-pygments                0.1.2\n",
      "jupyterlab-server                  2.8.2\n",
      "jupyterlab-widgets                 1.0.0\n",
      "keyring                            23.1.0\n",
      "kiwisolver                         1.3.1\n",
      "lazy-object-proxy                  1.6.0\n",
      "libarchive-c                       2.9\n",
      "llvmlite                           0.37.0\n",
      "locket                             0.2.1\n",
      "lxml                               4.6.3\n",
      "MarkupSafe                         1.1.1\n",
      "matplotlib                         3.4.3\n",
      "matplotlib-inline                  0.1.2\n",
      "mccabe                             0.6.1\n",
      "menuinst                           1.4.18\n",
      "mistune                            0.8.4\n",
      "mkl-fft                            1.3.1\n",
      "mkl-random                         1.2.2\n",
      "mkl-service                        2.4.0\n",
      "mock                               4.0.3\n",
      "more-itertools                     8.10.0\n",
      "mpmath                             1.2.1\n",
      "msgpack                            1.0.2\n",
      "multipledispatch                   0.6.0\n",
      "munkres                            1.1.4\n",
      "mypy-extensions                    0.4.3\n",
      "navigator-updater                  0.2.1\n",
      "nbclassic                          0.2.6\n",
      "nbclient                           0.5.3\n",
      "nbconvert                          6.1.0\n",
      "nbformat                           5.1.3\n",
      "nest-asyncio                       1.5.1\n",
      "networkx                           2.6.3\n",
      "nltk                               3.6.5\n",
      "nose                               1.3.7\n",
      "notebook                           6.4.5\n",
      "numba                              0.54.1\n",
      "numexpr                            2.7.3\n",
      "numpy                              1.20.3\n",
      "numpydoc                           1.1.0\n",
      "olefile                            0.46\n",
      "openpyxl                           3.0.9\n",
      "packaging                          21.0\n",
      "pandas                             1.3.4\n",
      "pandocfilters                      1.4.3\n",
      "paramiko                           2.7.2\n",
      "parso                              0.8.2\n",
      "partd                              1.2.0\n",
      "path                               16.0.0\n",
      "pathlib2                           2.3.6\n",
      "pathspec                           0.7.0\n",
      "patsy                              0.5.2\n",
      "pep8                               1.7.1\n",
      "pexpect                            4.8.0\n",
      "pickleshare                        0.7.5\n",
      "Pillow                             8.4.0\n",
      "pip                                21.2.4\n",
      "pkginfo                            1.7.1\n",
      "pluggy                             0.13.1\n",
      "ply                                3.11\n",
      "poyo                               0.5.0\n",
      "prometheus-client                  0.11.0\n",
      "prompt-toolkit                     3.0.20\n",
      "psutil                             5.8.0\n",
      "ptyprocess                         0.7.0\n",
      "py                                 1.10.0\n",
      "pycodestyle                        2.7.0\n",
      "pycosat                            0.6.3\n",
      "pycparser                          2.20\n",
      "pycurl                             7.44.1\n",
      "pydocstyle                         6.1.1\n",
      "pyerfa                             2.0.0\n",
      "pyflakes                           2.3.1\n",
      "Pygments                           2.10.0\n",
      "PyJWT                              2.1.0\n",
      "pylint                             2.9.6\n",
      "pyls-spyder                        0.4.0\n",
      "PyNaCl                             1.4.0\n",
      "pyodbc                             4.0.0-unsupported\n",
      "pyOpenSSL                          21.0.0\n",
      "pyparsing                          3.0.4\n",
      "pyreadline                         2.1\n",
      "pyrsistent                         0.18.0\n",
      "PySocks                            1.7.1\n",
      "pytest                             6.2.4\n",
      "python-dateutil                    2.8.2\n",
      "python-lsp-black                   1.0.0\n",
      "python-lsp-jsonrpc                 1.0.0\n",
      "python-lsp-server                  1.2.4\n",
      "python-slugify                     5.0.2\n",
      "pytz                               2021.3\n",
      "PyWavelets                         1.1.1\n",
      "pywin32                            228\n",
      "pywin32-ctypes                     0.2.0\n",
      "pywinpty                           0.5.7\n",
      "PyYAML                             6.0\n",
      "pyzmq                              22.2.1\n",
      "QDarkStyle                         3.0.2\n",
      "qstylizer                          0.1.10\n",
      "QtAwesome                          1.0.2\n",
      "qtconsole                          5.1.1\n",
      "QtPy                               1.10.0\n",
      "regex                              2021.8.3\n",
      "requests                           2.26.0\n",
      "rope                               0.19.0\n",
      "Rtree                              0.9.7\n",
      "ruamel-yaml-conda                  0.15.100\n",
      "scikit-image                       0.18.3\n",
      "scikit-learn                       0.24.2\n",
      "scikit-learn-intelex               2021.20210714.120553\n",
      "scipy                              1.7.1\n",
      "seaborn                            0.11.2\n",
      "Send2Trash                         1.8.0\n",
      "setuptools                         58.0.4\n",
      "simplegeneric                      0.8.1\n",
      "singledispatch                     3.7.0\n",
      "sip                                4.19.13\n",
      "six                                1.16.0\n",
      "sniffio                            1.2.0\n",
      "snowballstemmer                    2.1.0\n",
      "sortedcollections                  2.1.0\n",
      "sortedcontainers                   2.4.0\n",
      "soupsieve                          2.2.1\n",
      "Sphinx                             4.2.0\n",
      "sphinxcontrib-applehelp            1.0.2\n",
      "sphinxcontrib-devhelp              1.0.2\n",
      "sphinxcontrib-htmlhelp             2.0.0\n",
      "sphinxcontrib-jsmath               1.0.1\n",
      "sphinxcontrib-qthelp               1.0.3\n",
      "sphinxcontrib-serializinghtml      1.1.5\n",
      "sphinxcontrib-websupport           1.2.4\n",
      "spyder                             5.1.5\n",
      "spyder-kernels                     2.1.3\n",
      "SQLAlchemy                         1.4.22\n",
      "statsmodels                        0.12.2\n",
      "sympy                              1.9\n",
      "tables                             3.6.1\n",
      "TBB                                0.2\n",
      "tblib                              1.7.0\n",
      "terminado                          0.9.4\n",
      "testpath                           0.5.0\n",
      "text-unidecode                     1.3\n",
      "textdistance                       4.2.1\n",
      "threadpoolctl                      2.2.0\n",
      "three-merge                        0.1.1\n",
      "tifffile                           2021.7.2\n",
      "tinycss                            0.4\n",
      "toml                               0.10.2\n",
      "toolz                              0.11.1\n",
      "tornado                            6.1\n",
      "tqdm                               4.62.3\n",
      "traitlets                          5.1.0\n",
      "typed-ast                          1.4.3\n",
      "typing-extensions                  3.10.0.2\n",
      "ujson                              4.0.2\n",
      "unicodecsv                         0.14.1\n",
      "Unidecode                          1.2.0\n",
      "urllib3                            1.26.7\n",
      "watchdog                           2.1.3\n",
      "wcwidth                            0.2.5\n",
      "webencodings                       0.5.1\n",
      "Werkzeug                           2.0.2\n",
      "wheel                              0.37.0\n",
      "whichcraft                         0.6.1\n",
      "widgetsnbextension                 3.5.1\n",
      "win-inet-pton                      1.1.0\n",
      "win-unicode-console                0.5\n",
      "wincertstore                       0.2\n",
      "wrapt                              1.12.1\n",
      "xlrd                               2.0.1\n",
      "XlsxWriter                         3.0.1\n",
      "xlwings                            0.24.9\n",
      "xlwt                               1.3.0\n",
      "xmltodict                          0.12.0\n",
      "yapf                               0.31.0Note: you may need to restart the kernel to use updated packages.\n",
      "zict                               2.0.0\n",
      "zipp                               3.6.0\n",
      "zope.event                         4.5.0\n",
      "zope.interface                     5.4.0\n",
      "\n"
     ]
    },
    {
     "name": "stdout",
     "output_type": "stream",
     "text": [
      "Requirement already satisfied: requests in c:\\anaconda3\\lib\\site-packages (2.26.0)\n",
      "Requirement already satisfied: idna<4,>=2.5 in c:\\anaconda3\\lib\\site-packages (from requests) (3.2)\n",
      "Requirement already satisfied: certifi>=2017.4.17 in c:\\anaconda3\\lib\\site-packages (from requests) (2021.10.8)\n",
      "Requirement already satisfied: charset-normalizer~=2.0.0 in c:\\anaconda3\\lib\\site-packages (from requests) (2.0.4)\n",
      "Requirement already satisfied: urllib3<1.27,>=1.21.1 in c:\\anaconda3\\lib\\site-packages (from requests) (1.26.7)\n",
      "Note: you may need to restart the kernel to use updated packages.\n"
     ]
    }
   ],
   "source": [
    "# pip 설치 라이브러리 확인하는 명령어\n",
    "%pip list\n",
    "\n",
    "# requests 라이브러리 설치\n",
    "%pip install requests"
   ]
  },
  {
   "cell_type": "markdown",
   "id": "e13c59d8",
   "metadata": {},
   "source": [
    "# 명령 프롬프트(Shell) 이용하는 방법"
   ]
  },
  {
   "cell_type": "code",
   "execution_count": null,
   "id": "e0bc7de3",
   "metadata": {},
   "outputs": [],
   "source": [
    "# 주피터 노트북 확장 패키지 설치하는 명령\n",
    "!pip install jupyter_nbextensions_configurator jupyter_contrib_nbextensions\n",
    "!jupyter contrib nbextension install --user\n",
    "!jupyter nbextensions_configurator enable --user"
   ]
  },
  {
   "cell_type": "code",
   "execution_count": null,
   "id": "318114d1",
   "metadata": {},
   "outputs": [],
   "source": []
  }
 ],
 "metadata": {
  "kernelspec": {
   "display_name": "Python 3 (ipykernel)",
   "language": "python",
   "name": "python3"
  },
  "language_info": {
   "codemirror_mode": {
    "name": "ipython",
    "version": 3
   },
   "file_extension": ".py",
   "mimetype": "text/x-python",
   "name": "python",
   "nbconvert_exporter": "python",
   "pygments_lexer": "ipython3",
   "version": "3.9.7"
  },
  "toc": {
   "base_numbering": 1,
   "nav_menu": {},
   "number_sections": true,
   "sideBar": true,
   "skip_h1_title": false,
   "title_cell": "Table of Contents",
   "title_sidebar": "Contents",
   "toc_cell": false,
   "toc_position": {
    "height": "calc(100% - 180px)",
    "left": "10px",
    "top": "150px",
    "width": "307.2px"
   },
   "toc_section_display": true,
   "toc_window_display": true
  },
  "varInspector": {
   "cols": {
    "lenName": 16,
    "lenType": 16,
    "lenVar": 40
   },
   "kernels_config": {
    "python": {
     "delete_cmd_postfix": "",
     "delete_cmd_prefix": "del ",
     "library": "var_list.py",
     "varRefreshCmd": "print(var_dic_list())"
    },
    "r": {
     "delete_cmd_postfix": ") ",
     "delete_cmd_prefix": "rm(",
     "library": "var_list.r",
     "varRefreshCmd": "cat(var_dic_list()) "
    }
   },
   "types_to_exclude": [
    "module",
    "function",
    "builtin_function_or_method",
    "instance",
    "_Feature"
   ],
   "window_display": false
  }
 },
 "nbformat": 4,
 "nbformat_minor": 5
}
