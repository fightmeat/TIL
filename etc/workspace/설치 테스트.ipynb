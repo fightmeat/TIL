{
 "cells": [
  {
   "cell_type": "markdown",
   "id": "a215efa8",
   "metadata": {},
   "source": [
    "<h1> 실행단축키 Shift + Enter </h1>\n",
    "- h(head line, 제목)"
   ]
  },
  {
   "cell_type": "code",
   "execution_count": 5,
   "id": "d9da6c9a",
   "metadata": {
    "ExecuteTime": {
     "end_time": "2023-08-21T07:52:11.624914Z",
     "start_time": "2023-08-21T07:52:11.615887Z"
    }
   },
   "outputs": [
    {
     "name": "stdout",
     "output_type": "stream",
     "text": [
      "Hello Python!!!\n"
     ]
    }
   ],
   "source": [
    "print('Hello Python!!!')"
   ]
  },
  {
   "cell_type": "markdown",
   "id": "2b203c0d",
   "metadata": {},
   "source": [
    "# 실행단축키 Ctrl + Enter\n",
    "- 현재 셀의 실행만 수행한다."
   ]
  },
  {
   "cell_type": "code",
   "execution_count": 4,
   "id": "65743109",
   "metadata": {
    "ExecuteTime": {
     "end_time": "2023-08-21T07:52:08.349274Z",
     "start_time": "2023-08-21T07:52:08.336176Z"
    }
   },
   "outputs": [
    {
     "name": "stdout",
     "output_type": "stream",
     "text": [
      "welcome python\n"
     ]
    }
   ],
   "source": [
    "print('welcome python')"
   ]
  },
  {
   "cell_type": "code",
   "execution_count": null,
   "id": "3f7f149b",
   "metadata": {},
   "outputs": [],
   "source": []
  }
 ],
 "metadata": {
  "kernelspec": {
   "display_name": "Python 3 (ipykernel)",
   "language": "python",
   "name": "python3"
  },
  "language_info": {
   "codemirror_mode": {
    "name": "ipython",
    "version": 3
   },
   "file_extension": ".py",
   "mimetype": "text/x-python",
   "name": "python",
   "nbconvert_exporter": "python",
   "pygments_lexer": "ipython3",
   "version": "3.9.7"
  },
  "toc": {
   "base_numbering": 1,
   "nav_menu": {},
   "number_sections": true,
   "sideBar": true,
   "skip_h1_title": false,
   "title_cell": "Table of Contents",
   "title_sidebar": "Contents",
   "toc_cell": false,
   "toc_position": {},
   "toc_section_display": true,
   "toc_window_display": false
  },
  "varInspector": {
   "cols": {
    "lenName": 16,
    "lenType": 16,
    "lenVar": 40
   },
   "kernels_config": {
    "python": {
     "delete_cmd_postfix": "",
     "delete_cmd_prefix": "del ",
     "library": "var_list.py",
     "varRefreshCmd": "print(var_dic_list())"
    },
    "r": {
     "delete_cmd_postfix": ") ",
     "delete_cmd_prefix": "rm(",
     "library": "var_list.r",
     "varRefreshCmd": "cat(var_dic_list()) "
    }
   },
   "types_to_exclude": [
    "module",
    "function",
    "builtin_function_or_method",
    "instance",
    "_Feature"
   ],
   "window_display": false
  }
 },
 "nbformat": 4,
 "nbformat_minor": 5
}
