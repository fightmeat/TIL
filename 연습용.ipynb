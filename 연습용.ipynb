{
  "nbformat": 4,
  "nbformat_minor": 0,
  "metadata": {
    "colab": {
      "provenance": [],
      "authorship_tag": "ABX9TyPQozCKgpAxN8TgziaXeUAv",
      "include_colab_link": true
    },
    "kernelspec": {
      "name": "python3",
      "display_name": "Python 3"
    },
    "language_info": {
      "name": "python"
    }
  },
  "cells": [
    {
      "cell_type": "markdown",
      "metadata": {
        "id": "view-in-github",
        "colab_type": "text"
      },
      "source": [
        "<a href=\"https://colab.research.google.com/github/fightmeat/TIL/blob/main/%EC%97%B0%EC%8A%B5%EC%9A%A9.ipynb\" target=\"_parent\"><img src=\"https://colab.research.google.com/assets/colab-badge.svg\" alt=\"Open In Colab\"/></a>"
      ]
    },
    {
      "cell_type": "code",
      "source": [
        "def namu():\n",
        "    a = []\n",
        "    for i in range(10):\n",
        "        b = int(input())\n",
        "        c = b % 42\n",
        "        a.append(c)\n",
        "\n",
        "    a = list(set(a))\n",
        "    print(len(a))\n",
        "\n",
        "if __name__ == \"__main__\":\n",
        "    namu()"
      ],
      "metadata": {
        "id": "O1jhWorUiB5h"
      },
      "execution_count": null,
      "outputs": []
    },
    {
      "cell_type": "code",
      "source": [
        "def sung():\n",
        "    N, M = map(int,input().split())\n",
        "    d = [i for i in range(N+1)]\n",
        "    for i in range(M) :\n",
        "        a, b= map(int, input().split())\n",
        "        d[a],d[b] = d[b],d[a]\n",
        "    print(*d[1:])\n",
        "\n",
        "if __name__ == \"__main__\":\n",
        "    sung()"
      ],
      "metadata": {
        "id": "iOtFuVF5lV-n"
      },
      "execution_count": null,
      "outputs": []
    },
    {
      "cell_type": "code",
      "source": [
        "def sung():\n",
        "    N, M = map(int, input().split())\n",
        "    d = [i for i in range(N+1)]\n",
        "\n",
        "    for i in range(M):\n",
        "        a, b = map(int, input().split())\n",
        "        d[a:b+1] = reversed(d[a:b+1])\n",
        "\n",
        "    print(*d[1:])\n",
        "\n",
        "if __name__ == \"__main__\":\n",
        "    sung()"
      ],
      "metadata": {
        "id": "SHFAdmVmnBOa"
      },
      "execution_count": null,
      "outputs": []
    },
    {
      "cell_type": "code",
      "source": [
        "def jujak():\n",
        "  a = int(input())\n",
        "  b = list(map(int, input().split()))\n",
        "  c = []\n",
        "  for i in range(a):\n",
        "    d = b[i]/max(b)*100\n",
        "    c.append(d)\n",
        "  e = sum(list(*c))\n",
        "  print(e)\n",
        "\n",
        "\n",
        "\n",
        "if __name__ == \"__main__\":\n",
        "    jujak()"
      ],
      "metadata": {
        "id": "QneErpSFpF2G"
      },
      "execution_count": null,
      "outputs": []
    },
    {
      "cell_type": "code",
      "source": [
        "def jujak():\n",
        "  a = int(input())\n",
        "  b = list(map(int, input().split()))\n",
        "  c = []\n",
        "  for i in range(a):\n",
        "    d = b[i]/max(b)*100\n",
        "    c.append(d)\n",
        "  e = sum(c) / a\n",
        "  print(e)\n",
        "\n",
        "if __name__ == \"__main__\":\n",
        "    jujak()"
      ],
      "metadata": {
        "id": "GyHY8tJoq4d4"
      },
      "execution_count": null,
      "outputs": []
    },
    {
      "cell_type": "code",
      "source": [
        "def mun():\n",
        "  a = input()\n",
        "  b = int(input())\n",
        "  print(a[b-1])\n",
        "\n",
        "if __name__ == \"__main__\":\n",
        "  mun()\n"
      ],
      "metadata": {
        "id": "EQwcFJHL03zS"
      },
      "execution_count": null,
      "outputs": []
    },
    {
      "cell_type": "code",
      "source": [
        "def gil():\n",
        "  a = input()\n",
        "  print(len(a))\n",
        "\n",
        "if __name__ == \"__main__\":\n",
        "  gil()"
      ],
      "metadata": {
        "id": "pdSoc1dH2PGt"
      },
      "execution_count": null,
      "outputs": []
    },
    {
      "cell_type": "code",
      "source": [
        "def ao():\n",
        "  a = int(input())\n",
        "  for i in range(a):\n",
        "    b = list(input())\n",
        "    print(b[0]+b[-1])\n",
        "\n",
        "if __name__ == \"__main__\":\n",
        "  ao()"
      ],
      "metadata": {
        "id": "lUqGOXb63BDJ"
      },
      "execution_count": null,
      "outputs": []
    },
    {
      "cell_type": "code",
      "source": [
        "def ask():\n",
        "  a = input()\n",
        "  if not str:\n",
        "    a= eval(a)\n",
        "    return\n",
        "  print(ord(a))\n",
        "if __name__ == \"__main__\":\n",
        "  ask()"
      ],
      "metadata": {
        "id": "73jMy8OD4miA"
      },
      "execution_count": null,
      "outputs": []
    },
    {
      "cell_type": "code",
      "source": [
        "def hap():\n",
        "  a = int(input())\n",
        "  b = list(map(int, input()))\n",
        "\n",
        "  if len(b) != a:\n",
        "      return\n",
        "\n",
        "  c = sum(b)\n",
        "  print(c)\n",
        "\n",
        "if __name__ == \"__main__\":\n",
        "  hap()"
      ],
      "metadata": {
        "id": "ZthJAEyi7E9M"
      },
      "execution_count": null,
      "outputs": []
    },
    {
      "cell_type": "code",
      "source": [
        "def achat():\n",
        "  a = input().lower()\n",
        "  b = \"abcdefghijklmnopqrstuvwxyz\"\n",
        "  for i in b:\n",
        "    print(a.find(i), end=\" \")\n",
        "\n",
        "\n",
        "if __name__ == \"__main__\":\n",
        "  achat()"
      ],
      "metadata": {
        "id": "xVWg8vF174-H"
      },
      "execution_count": null,
      "outputs": []
    },
    {
      "cell_type": "code",
      "source": [
        "def banbok():\n",
        "    T = int(input())\n",
        "    for _ in range(T):\n",
        "        R, S = input().split()\n",
        "        R = int(R)\n",
        "\n",
        "        P = []\n",
        "        for i in S:\n",
        "            P.append(i * R)\n",
        "        print(''.join(P))\n",
        "if __name__ == \"__main__\":\n",
        "  banbok()"
      ],
      "metadata": {
        "id": "yC99RxxBKE9z"
      },
      "execution_count": null,
      "outputs": []
    },
    {
      "cell_type": "code",
      "source": [
        "def gaesu():\n",
        "  a = input()\n",
        "  b = len(a.split())\n",
        "  print(b)\n",
        "\n",
        "if __name__ == \"__main__\":\n",
        "  gaesu()"
      ],
      "metadata": {
        "id": "c3l4s-XDOaPw"
      },
      "execution_count": null,
      "outputs": []
    },
    {
      "cell_type": "code",
      "source": [
        "def sangsu():\n",
        "  a,b = input().split()\n",
        "  a = int(a[::-1])\n",
        "  b = int(b[::-1])\n",
        "  if a > b :\n",
        "    print(a)\n",
        "  else:\n",
        "    print(b)\n",
        "\n",
        "if __name__ == \"__main__\":\n",
        "  sangsu()"
      ],
      "metadata": {
        "id": "m_ED02wzx0Gg"
      },
      "execution_count": null,
      "outputs": []
    },
    {
      "cell_type": "code",
      "source": [
        "def call():\n",
        "  a = input()\n",
        "  b = 0\n",
        "\n",
        "  for c in a:\n",
        "    if c in \"ABC\":\n",
        "      b += 3\n",
        "    elif c in \"DEF\":\n",
        "      b += 4\n",
        "    elif c in \"GHI\":\n",
        "      b += 5\n",
        "    elif c in \"JKL\":\n",
        "      b += 6\n",
        "    elif c in \"MNO\":\n",
        "      b += 7\n",
        "    elif c in \"PQRS\":\n",
        "      b += 8\n",
        "    elif c in \"TUV\":\n",
        "      b += 9\n",
        "    elif c in \"WXYZ\":\n",
        "      b += 10\n",
        "\n",
        "  print(b)\n",
        "\n",
        "if __name__ == \"__main__\":\n",
        "  call()"
      ],
      "metadata": {
        "id": "tuRm61_bCHtz"
      },
      "execution_count": null,
      "outputs": []
    },
    {
      "cell_type": "code",
      "source": [
        "def gogo():\n",
        "  print(input())\n",
        "\n",
        "if __name__ == \"__main__\":\n",
        "  gogo()"
      ],
      "metadata": {
        "id": "Pqw26ZONDIED"
      },
      "execution_count": null,
      "outputs": []
    },
    {
      "cell_type": "code",
      "source": [
        "print('         ,r\"\\'7')\n",
        "print('r`-_   ,\\'  ,/')\n",
        "print(' \\\\. \". L_r\\'')\n",
        "print('   `~\\\\/')\n",
        "print('      |')\n",
        "print('      |')"
      ],
      "metadata": {
        "id": "qXzgbO074WB_"
      },
      "execution_count": null,
      "outputs": []
    },
    {
      "cell_type": "code",
      "source": [
        "def chess():\n",
        "  a = input().split()\n",
        "  if len(a) != 6 :\n",
        "    return\n",
        "  else:\n",
        "    b = [1, 1, 2, 2, 2, 8]\n",
        "    a = [int(x) for x in a]\n",
        "    c = [b[i] - a[i] for i in range(6)]\n",
        "    print(' '.join(map(str, c)))\n",
        "\n",
        "if __name__ == \"__main__\":\n",
        "  chess()"
      ],
      "metadata": {
        "id": "3AtKMKbs6Y5F"
      },
      "execution_count": null,
      "outputs": []
    },
    {
      "cell_type": "code",
      "source": [
        "def gimochi():\n",
        "  a = input()\n",
        "  b = a[::-1]\n",
        "  if a == b :\n",
        "    print(1)\n",
        "  else :\n",
        "    print(0)\n",
        "\n",
        "if __name__ == \"__main__\":\n",
        "  gimochi()"
      ],
      "metadata": {
        "id": "Mk-ebmSGwR4r"
      },
      "execution_count": null,
      "outputs": []
    },
    {
      "cell_type": "code",
      "source": [
        "def star():\n",
        "  a = int(input())\n",
        "  for i in range(a):\n",
        "    print(\" \"*(a-i-1) + \"*\"*(2*i+1))\n",
        "\n",
        "if __name__ == \"__main__\":\n",
        "  star()\n",
        "\n"
      ],
      "metadata": {
        "id": "b4bGweYrlX4_"
      },
      "execution_count": null,
      "outputs": []
    },
    {
      "cell_type": "code",
      "source": [
        "def star():\n",
        "  a = int(input())\n",
        "  for i in range(a):\n",
        "    print(\" \"*(a-i-1) + \"*\"*(2*i+1))\n",
        "  for i in range(a-2, 0, -1):\n",
        "    print(\" \"*(a-i-1) + \"*\"*(2*i+1))\n",
        "\n",
        "if __name__ == \"__main__\":\n",
        "  star()"
      ],
      "metadata": {
        "id": "CZLkKFpKnM_F"
      },
      "execution_count": null,
      "outputs": []
    },
    {
      "cell_type": "code",
      "source": [
        "while True:\n",
        "    a, b = map(int, input().split())\n",
        "    if a == 0 and b == 0:\n",
        "        break\n",
        "    if a > b:\n",
        "        print(\"Yes\")\n",
        "    else:\n",
        "        print(\"No\")"
      ],
      "metadata": {
        "id": "hbY1vTpU16ly"
      },
      "execution_count": null,
      "outputs": []
    },
    {
      "cell_type": "code",
      "source": [
        "grade = {\n",
        "    \"A+\": 4.3, \"A0\": 4.0, \"A-\": 3.7,\n",
        "    \"B+\": 3.3, \"B0\": 3.0, \"B-\": 2.7,\n",
        "    \"C+\": 2.3, \"C0\": 2.0, \"C-\": 1.7,\n",
        "    \"D+\": 1.3, \"D0\": 1.0, \"D-\": 0.7,\n",
        "    \"F\": 0.0\n",
        "}\n",
        "\n",
        "C = input()\n",
        "print(grade[C])"
      ],
      "metadata": {
        "id": "a-o2TOU-yheg"
      },
      "execution_count": null,
      "outputs": []
    },
    {
      "cell_type": "code",
      "source": [
        "def calculate_finish_time(A, B, C, D):\n",
        "    # 현재 시각을 초 단위로 변환\n",
        "    current_seconds = A * 3600 + B * 60 + C\n",
        "\n",
        "    # 요리 시간을 더함\n",
        "    total_seconds = current_seconds + D\n",
        "\n",
        "    # 초 단위의 총 시간을 시, 분, 초로 변환\n",
        "    hours = (total_seconds // 3600) % 24\n",
        "    minutes = (total_seconds % 3600) // 60\n",
        "    seconds = total_seconds % 60\n",
        "\n",
        "    return hours, minutes, seconds\n",
        "\n",
        "# 입력\n",
        "A, B, C = map(int, input().split())\n",
        "D = int(input())\n",
        "\n",
        "# 계산\n",
        "hours, minutes, seconds = calculate_finish_time(A, B, C, D)\n",
        "\n",
        "# 출력\n",
        "print(hours, minutes, seconds)"
      ],
      "metadata": {
        "id": "g37aAzGVzgxt"
      },
      "execution_count": null,
      "outputs": []
    },
    {
      "cell_type": "code",
      "source": [
        "# K, N, M 각각 과자 가격 갯수 그리고 돈\n",
        "K, N, M = map(int, input().split())\n",
        "# 받아야하는 돈 D\n",
        "D = M - (K * N)\n",
        "\n",
        "if D < 0 :\n",
        "  print(-D)\n",
        "else:\n",
        "  print(0)"
      ],
      "metadata": {
        "id": "mH04_EKm2s0G"
      },
      "execution_count": null,
      "outputs": []
    },
    {
      "cell_type": "code",
      "source": [
        "while True:\n",
        "    M, F = map(int, input().split())\n",
        "    if M == 0 and F == 0:\n",
        "        break\n",
        "    else:\n",
        "        print(M + F)"
      ],
      "metadata": {
        "id": "X49uvj6s4HH3"
      },
      "execution_count": null,
      "outputs": []
    },
    {
      "cell_type": "code",
      "source": [
        "\n",
        "a = int(input())\n",
        "b = int(input())\n",
        "c = int(input())\n",
        "d = int(input())\n",
        "e = int(input())\n",
        "\n",
        "if a < 40 :\n",
        "  a = 40\n",
        "elif b < 40 :\n",
        "  b = 40\n",
        "elif c < 40 :\n",
        "  c = 40\n",
        "elif d < 40 :\n",
        "  d = 40\n",
        "elif e < 40 :\n",
        "  e = 40\n",
        "print(a,b,c,d,e)\n",
        "print((a+b+c+d+e)/5)\n"
      ],
      "metadata": {
        "id": "PC06UJT56AWJ"
      },
      "execution_count": null,
      "outputs": []
    },
    {
      "cell_type": "code",
      "source": [
        "def calculate_average(scores):\n",
        "    # 40점 미만인 점수는 40점으로 변경\n",
        "    adjusted_scores = [score if score >= 40 else 40 for score in scores]\n",
        "\n",
        "    # 학생 5명의 평균 점수 계산\n",
        "    average = sum(adjusted_scores) // 5\n",
        "    return average\n",
        "\n",
        "# 입력\n",
        "scores = [int(input()) for _ in range(5)]\n",
        "\n",
        "# 평균 계산 및 출력\n",
        "print(calculate_average(scores))"
      ],
      "metadata": {
        "id": "nBxxs1xo6hPg"
      },
      "execution_count": null,
      "outputs": []
    },
    {
      "cell_type": "code",
      "source": [
        "from datetime import datetime\n",
        "\n",
        "# 현재 날짜 가져오기\n",
        "current_date = datetime.now().strftime('%Y-%m-%d')\n",
        "print(current_date)"
      ],
      "metadata": {
        "id": "5lTD9ZUM85wZ"
      },
      "execution_count": null,
      "outputs": []
    },
    {
      "cell_type": "code",
      "source": [
        "A, I = map(int, input().split())\n",
        "# I = K / A  대신 I는 올림한다.\n",
        "K = A * (I - 1) + 1\n",
        "print(K)"
      ],
      "metadata": {
        "id": "JSXiSnMU_KNU"
      },
      "execution_count": null,
      "outputs": []
    },
    {
      "cell_type": "code",
      "source": [
        "A, B, C = map(int, input().split())\n",
        "D = sorted([A,B,C])\n",
        "print(D[1])"
      ],
      "metadata": {
        "id": "MJgC5w6k_zXu"
      },
      "execution_count": null,
      "outputs": []
    },
    {
      "cell_type": "code",
      "source": [
        "print(test)"
      ],
      "metadata": {
        "id": "EQiilpNaYycH"
      },
      "execution_count": null,
      "outputs": []
    }
  ]
}