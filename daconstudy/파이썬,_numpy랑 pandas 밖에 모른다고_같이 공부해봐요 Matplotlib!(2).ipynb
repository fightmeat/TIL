{
  "nbformat": 4,
  "nbformat_minor": 0,
  "metadata": {
    "colab": {
      "name": "Matplotlib2ipynb",
      "provenance": [],
      "collapsed_sections": []
    },
    "kernelspec": {
      "name": "python3",
      "display_name": "Python 3"
    },
    "language_info": {
      "name": "python"
    }
  },
  "cells": [
    {
      "cell_type": "markdown",
      "source": [
        "안녕하세요! \n",
        "데이크루 1기로 활동 중인 sssssun입니다!\n",
        "\n",
        "지난 포스팅에서 Matplotlib의 기초로 선그래프를 그려보았습니다. \n",
        "이번 포스팅에서는, pie chart, histogram, bar chart 등 더 다양한 그래프들을 그려보겠습니다^_^\n",
        "\n",
        "데이터 분석 고수분들...!!! 입문자가 공부해보면 좋을 다른 파이썬 라이브러리 마구마구 추천해주세요!! "
      ],
      "metadata": {
        "id": "v3kYwJcC7JTu"
      }
    },
    {
      "cell_type": "code",
      "source": [
        "import numpy as np\n",
        "import pandas as pd\n",
        "import matplotlib\n",
        "import matplotlib.pyplot as plt"
      ],
      "metadata": {
        "id": "gcsuX5mA-HNM"
      },
      "execution_count": 2,
      "outputs": []
    },
    {
      "cell_type": "markdown",
      "source": [
        "# 1. Pie chart(원 그림)\n",
        "\n",
        "\n",
        "pie chart는 범주형 테이터의 구성 비율을 시각화하는데 사용됩니다. \n",
        "\n",
        "\n",
        "pie() 함수를 활용합니다.그럼, 한번 그려볼까요?"
      ],
      "metadata": {
        "id": "CvivigO_9lG4"
      }
    },
    {
      "cell_type": "code",
      "source": [
        "programs = ['Python', 'R', 'Java']\n",
        "use = [96, 53, 32]\n",
        "plt.pie(use, labels = programs, colors=['red','yellow','blue'])\n",
        "plt.title('programming language', fontsize=15)  #fontsize는 글자크기를 조정할 수 있는 인자입니다!\n",
        "plt.show()"
      ],
      "metadata": {
        "colab": {
          "base_uri": "https://localhost:8080/",
          "height": 266
        },
        "id": "cQuqGtS7-Fej",
        "outputId": "8f1dca59-d69b-4975-ed78-f94f888224ec"
      },
      "execution_count": null,
      "outputs": [
        {
          "output_type": "display_data",
          "data": {
            "image/png": "[encoded data removed]",
            "text/plain": [
              "<Figure size 432x288 with 1 Axes>"
            ]
          },
          "metadata": {}
        }
      ]
    },
    {
      "cell_type": "markdown",
      "source": [
        "그래프를 보면 알 수 있다시피, \n",
        "\n",
        "\n",
        "*   pie(데이터값, labels=범주 이름, colors=각 범주별 색상)\n",
        "\n",
        "\n",
        "으로 코드를 작성할 수 있습니다.\n",
        "\n",
        "\n",
        "다른 매개변수들을 더 알아볼까요?\n",
        "\n",
        "\n",
        "\n",
        "\n",
        "*   autopct : 표시하고자 하는 소숫점 자릿수를 설정 가능합니다.\n",
        "*   shadow : 그래프에 그림자를 나타낼 수 있습니다.\n",
        "*   startangle : 그래프가 시작하는 방향을 바꿀 수 있습니다.\n",
        "*   texptprops : 그래프에 표시되는 글자에 관한 설정을 조정할 수 있습니다. \n",
        "\n",
        "\n",
        "\n"
      ],
      "metadata": {
        "id": "OrVXOcbSBqW0"
      }
    },
    {
      "cell_type": "code",
      "source": [
        "plt.pie(use, labels = programs, colors=['red','yellow','blue'], autopct='%1.2f%%', shadow=True, startangle=90, textprops={'fontsize':12})\n",
        "#autopct='%1.2f%%' : 소숫점 둘째자리까지 표현\n",
        "#startangle=90 : 왼쪽부터 그래프 시작\n",
        "#textprops={'fontsize':12} : 딕셔너리로 구체적인 설정를 조정할 수 있습니다!\n",
        "plt.title('programming language', fontsize=15) \n",
        "plt.show()"
      ],
      "metadata": {
        "colab": {
          "base_uri": "https://localhost:8080/",
          "height": 266
        },
        "id": "snCnZ0B-HvWm",
        "outputId": "967cf138-1ed1-4956-f005-830bf208ca2c"
      },
      "execution_count": null,
      "outputs": [
        {
          "output_type": "display_data",
          "data": {
            "image/png": "[encoded data removed]",
            "text/plain": [
              "<Figure size 432x288 with 1 Axes>"
            ]
          },
          "metadata": {}
        }
      ]
    },
    {
      "cell_type": "markdown",
      "source": [
        "# 2. Bar plot(막대 그래프)\n",
        "\n",
        "막대그래프도 원그래프와 같이 범주형 데이터를 대상으로 합니다.\n",
        "\n",
        "\n",
        "bar()과 barh()를 이용하여 막대 그래프를 그릴 수 있습니다. \n",
        "\n",
        "\n",
        "주요 매개변수로는 color, alpha, width 등이 있습니다.\n",
        "\n",
        "\n",
        "\n",
        "\n",
        "*   color : 막대 색 \n",
        "*   alpha : 투명도 (0에 가까울수록 투명함을 나타냅니다)\n",
        "*   width : 막대의 넓이\n"
      ],
      "metadata": {
        "id": "dP9cicVwJI-V"
      }
    },
    {
      "cell_type": "markdown",
      "source": [
        "그래프를 그릴 데이터로 seaborn 라이브러리의 내장 데이터를 이용하겠습니다!"
      ],
      "metadata": {
        "id": "-lvGK1MMi2yR"
      }
    },
    {
      "cell_type": "code",
      "source": [
        "import seaborn as sns\n",
        "tips = sns.load_dataset('tips')"
      ],
      "metadata": {
        "id": "p9xF0I6FjzZc"
      },
      "execution_count": 3,
      "outputs": []
    },
    {
      "cell_type": "markdown",
      "source": [
        "데이터가 어떤 형태인지 짧게 봐볼까요?"
      ],
      "metadata": {
        "id": "pXF9gqWBj8_n"
      }
    },
    {
      "cell_type": "code",
      "source": [
        "tips.head()"
      ],
      "metadata": {
        "colab": {
          "base_uri": "https://localhost:8080/",
          "height": 206
        },
        "id": "mjmY1qrQkBua",
        "outputId": "b9b392b4-204c-418c-bd7a-fce98711fa37"
      },
      "execution_count": null,
      "outputs": [
        {
          "output_type": "execute_result",
          "data": {
            "text/html": [
              "\n",
              "  <div id=\"df-2fa431c5-7d6b-4260-8ddb-3c33b335466d\">\n",
              "    <div class=\"colab-df-container\">\n",
              "      <div>\n",
              "<style scoped>\n",
              "    .dataframe tbody tr th:only-of-type {\n",
              "        vertical-align: middle;\n",
              "    }\n",
              "\n",
              "    .dataframe tbody tr th {\n",
              "        vertical-align: top;\n",
              "    }\n",
              "\n",
              "    .dataframe thead th {\n",
              "        text-align: right;\n",
              "    }\n",
              "</style>\n",
              "<table border=\"1\" class=\"dataframe\">\n",
              "  <thead>\n",
              "    <tr style=\"text-align: right;\">\n",
              "      <th></th>\n",
              "      <th>total_bill</th>\n",
              "      <th>tip</th>\n",
              "      <th>sex</th>\n",
              "      <th>smoker</th>\n",
              "      <th>day</th>\n",
              "      <th>time</th>\n",
              "      <th>size</th>\n",
              "    </tr>\n",
              "  </thead>\n",
              "  <tbody>\n",
              "    <tr>\n",
              "      <th>0</th>\n",
              "      <td>16.99</td>\n",
              "      <td>1.01</td>\n",
              "      <td>Female</td>\n",
              "      <td>No</td>\n",
              "      <td>Sun</td>\n",
              "      <td>Dinner</td>\n",
              "      <td>2</td>\n",
              "    </tr>\n",
              "    <tr>\n",
              "      <th>1</th>\n",
              "      <td>10.34</td>\n",
              "      <td>1.66</td>\n",
              "      <td>Male</td>\n",
              "      <td>No</td>\n",
              "      <td>Sun</td>\n",
              "      <td>Dinner</td>\n",
              "      <td>3</td>\n",
              "    </tr>\n",
              "    <tr>\n",
              "      <th>2</th>\n",
              "      <td>21.01</td>\n",
              "      <td>3.50</td>\n",
              "      <td>Male</td>\n",
              "      <td>No</td>\n",
              "      <td>Sun</td>\n",
              "      <td>Dinner</td>\n",
              "      <td>3</td>\n",
              "    </tr>\n",
              "    <tr>\n",
              "      <th>3</th>\n",
              "      <td>23.68</td>\n",
              "      <td>3.31</td>\n",
              "      <td>Male</td>\n",
              "      <td>No</td>\n",
              "      <td>Sun</td>\n",
              "      <td>Dinner</td>\n",
              "      <td>2</td>\n",
              "    </tr>\n",
              "    <tr>\n",
              "      <th>4</th>\n",
              "      <td>24.59</td>\n",
              "      <td>3.61</td>\n",
              "      <td>Female</td>\n",
              "      <td>No</td>\n",
              "      <td>Sun</td>\n",
              "      <td>Dinner</td>\n",
              "      <td>4</td>\n",
              "    </tr>\n",
              "  </tbody>\n",
              "</table>\n",
              "</div>\n",
              "      <button class=\"colab-df-convert\" onclick=\"convertToInteractive('df-2fa431c5-7d6b-4260-8ddb-3c33b335466d')\"\n",
              "              title=\"Convert this dataframe to an interactive table.\"\n",
              "              style=\"display:none;\">\n",
              "        \n",
              "  <svg xmlns=\"http://www.w3.org/2000/svg\" height=\"24px\"viewBox=\"0 0 24 24\"\n",
              "       width=\"24px\">\n",
              "    <path d=\"M0 0h24v24H0V0z\" fill=\"none\"/>\n",
              "    <path d=\"M18.56 5.44l.94 2.06.94-2.06 2.06-.94-2.06-.94-.94-2.06-.94 2.06-2.06.94zm-11 1L8.5 8.5l.94-2.06 2.06-.94-2.06-.94L8.5 2.5l-.94 2.06-2.06.94zm10 10l.94 2.06.94-2.06 2.06-.94-2.06-.94-.94-2.06-.94 2.06-2.06.94z\"/><path d=\"M17.41 7.96l-1.37-1.37c-.4-.4-.92-.59-1.43-.59-.52 0-1.04.2-1.43.59L10.3 9.45l-7.72 7.72c-.78.78-.78 2.05 0 2.83L4 21.41c.39.39.9.59 1.41.59.51 0 1.02-.2 1.41-.59l7.78-7.78 2.81-2.81c.8-.78.8-2.07 0-2.86zM5.41 20L4 18.59l7.72-7.72 1.47 1.35L5.41 20z\"/>\n",
              "  </svg>\n",
              "      </button>\n",
              "      \n",
              "  <style>\n",
              "    .colab-df-container {\n",
              "      display:flex;\n",
              "      flex-wrap:wrap;\n",
              "      gap: 12px;\n",
              "    }\n",
              "\n",
              "    .colab-df-convert {\n",
              "      background-color: #E8F0FE;\n",
              "      border: none;\n",
              "      border-radius: 50%;\n",
              "      cursor: pointer;\n",
              "      display: none;\n",
              "      fill: #1967D2;\n",
              "      height: 32px;\n",
              "      padding: 0 0 0 0;\n",
              "      width: 32px;\n",
              "    }\n",
              "\n",
              "    .colab-df-convert:hover {\n",
              "      background-color: #E2EBFA;\n",
              "      box-shadow: 0px 1px 2px rgba(60, 64, 67, 0.3), 0px 1px 3px 1px rgba(60, 64, 67, 0.15);\n",
              "      fill: #174EA6;\n",
              "    }\n",
              "\n",
              "    [theme=dark] .colab-df-convert {\n",
              "      background-color: #3B4455;\n",
              "      fill: #D2E3FC;\n",
              "    }\n",
              "\n",
              "    [theme=dark] .colab-df-convert:hover {\n",
              "      background-color: #434B5C;\n",
              "      box-shadow: 0px 1px 3px 1px rgba(0, 0, 0, 0.15);\n",
              "      filter: drop-shadow(0px 1px 2px rgba(0, 0, 0, 0.3));\n",
              "      fill: #FFFFFF;\n",
              "    }\n",
              "  </style>\n",
              "\n",
              "      <script>\n",
              "        const buttonEl =\n",
              "          document.querySelector('#df-2fa431c5-7d6b-4260-8ddb-3c33b335466d button.colab-df-convert');\n",
              "        buttonEl.style.display =\n",
              "          google.colab.kernel.accessAllowed ? 'block' : 'none';\n",
              "\n",
              "        async function convertToInteractive(key) {\n",
              "          const element = document.querySelector('#df-2fa431c5-7d6b-4260-8ddb-3c33b335466d');\n",
              "          const dataTable =\n",
              "            await google.colab.kernel.invokeFunction('convertToInteractive',\n",
              "                                                     [key], {});\n",
              "          if (!dataTable) return;\n",
              "\n",
              "          const docLinkHtml = 'Like what you see? Visit the ' +\n",
              "            '<a target=\"_blank\" href=https://colab.research.google.com/notebooks/data_table.ipynb>data table notebook</a>'\n",
              "            + ' to learn more about interactive tables.';\n",
              "          element.innerHTML = '';\n",
              "          dataTable['output_type'] = 'display_data';\n",
              "          await google.colab.output.renderOutput(dataTable, element);\n",
              "          const docLink = document.createElement('div');\n",
              "          docLink.innerHTML = docLinkHtml;\n",
              "          element.appendChild(docLink);\n",
              "        }\n",
              "      </script>\n",
              "    </div>\n",
              "  </div>\n",
              "  "
            ],
            "text/plain": [
              "   total_bill   tip     sex smoker  day    time  size\n",
              "0       16.99  1.01  Female     No  Sun  Dinner     2\n",
              "1       10.34  1.66    Male     No  Sun  Dinner     3\n",
              "2       21.01  3.50    Male     No  Sun  Dinner     3\n",
              "3       23.68  3.31    Male     No  Sun  Dinner     2\n",
              "4       24.59  3.61  Female     No  Sun  Dinner     4"
            ]
          },
          "metadata": {},
          "execution_count": 11
        }
      ]
    },
    {
      "cell_type": "markdown",
      "source": [
        "tips 데이터의 day 는 범주형열인데요.\n",
        "\n",
        "day의 범주별로, tip 값을 더한 합을 구하였습니다. 이를 기반으로 bar plot을 그려봅시다!\n"
      ],
      "metadata": {
        "id": "HkDAAR14lBBt"
      }
    },
    {
      "cell_type": "code",
      "source": [
        "day_sum = tips.groupby('day').tip.sum()\n",
        "\n",
        "day_sum"
      ],
      "metadata": {
        "colab": {
          "base_uri": "https://localhost:8080/"
        },
        "id": "6dN3CP8HlADf",
        "outputId": "bf3c5484-c10b-4deb-e3cd-1e21207dcdaf"
      },
      "execution_count": null,
      "outputs": [
        {
          "output_type": "execute_result",
          "data": {
            "text/plain": [
              "day\n",
              "Thur    171.83\n",
              "Fri      51.96\n",
              "Sat     260.40\n",
              "Sun     247.39\n",
              "Name: tip, dtype: float64"
            ]
          },
          "metadata": {},
          "execution_count": 32
        }
      ]
    },
    {
      "cell_type": "code",
      "source": [
        "plt.bar(['Thur', 'Fri', 'Sat', 'Sun'], day_sum)\n",
        "plt.title('Total tips', fontsize=12)\n",
        "plt.xlabel('days')\n",
        "plt.ylabel('tips')\n",
        "plt.show()"
      ],
      "metadata": {
        "colab": {
          "base_uri": "https://localhost:8080/",
          "height": 295
        },
        "id": "PjbNTkOtltVH",
        "outputId": "b8a2e534-1495-4372-bbb5-ef457725fbf4"
      },
      "execution_count": null,
      "outputs": [
        {
          "output_type": "display_data",
          "data": {
            "image/png": "[encoded data removed]",
            "text/plain": [
              "<Figure size 432x288 with 1 Axes>"
            ]
          },
          "metadata": {
            "needs_background": "light"
          }
        }
      ]
    },
    {
      "cell_type": "code",
      "source": [
        "plt.bar(['Thur', 'Fri', 'Sat', 'Sun'], day_sum, color='turquoise', alpha=0.8, width=0.5)\n",
        "plt.title('Total tips', fontsize=12)\n",
        "plt.xlabel('days')\n",
        "plt.ylabel('tips')\n",
        "plt.show()"
      ],
      "metadata": {
        "colab": {
          "base_uri": "https://localhost:8080/",
          "height": 295
        },
        "id": "x9bJ-SWvTq5_",
        "outputId": "6f7cb885-3742-4b18-bac4-7bc52d683019"
      },
      "execution_count": null,
      "outputs": [
        {
          "output_type": "display_data",
          "data": {
            "image/png": "[encoded data removed]",
            "text/plain": [
              "<Figure size 432x288 with 1 Axes>"
            ]
          },
          "metadata": {
            "needs_background": "light"
          }
        }
      ]
    },
    {
      "cell_type": "markdown",
      "source": [
        "저는 turquoise 색을 사용하였는데요, google에 matplotlib color 를 검색하면, 다양한 색상의 이름이 나오니 참고하시면 좋을 것 같아요."
      ],
      "metadata": {
        "id": "XBF-woGgnQRq"
      }
    },
    {
      "cell_type": "markdown",
      "source": [
        "barh()는 가로방향의 막대 그래프를 그리는 코드입니다.\n",
        "bar()과 사용법은 동일하지만, x축 데이터의 값이 y축에 표현되기 때문에, 축과 관련된 설정을 할 때 조심해야 해요!"
      ],
      "metadata": {
        "id": "g4pagD4Cn0rH"
      }
    },
    {
      "cell_type": "code",
      "source": [
        "plt.barh(['Thur', 'Fri', 'Sat', 'Sun'], day_sum, color='hotpink', alpha=0.8)\n",
        "plt.title('Total tips', fontsize=12)\n",
        "plt.ylabel('days')\n",
        "plt.xlabel('tips')\n",
        "plt.show()"
      ],
      "metadata": {
        "colab": {
          "base_uri": "https://localhost:8080/",
          "height": 295
        },
        "id": "IqY74P4SnlwH",
        "outputId": "ba89b6e5-1339-460d-fd7f-935387e9ac0f"
      },
      "execution_count": null,
      "outputs": [
        {
          "output_type": "display_data",
          "data": {
            "image/png": "[encoded data removed]",
            "text/plain": [
              "<Figure size 432x288 with 1 Axes>"
            ]
          },
          "metadata": {
            "needs_background": "light"
          }
        }
      ]
    },
    {
      "cell_type": "markdown",
      "source": [
        "이번에는 time에 따라, 요일별로 tip이 어떻게 달라지는지 병렬적으로 나열된 막대그래프를 그려봅시다."
      ],
      "metadata": {
        "id": "FKV6v44uqHpw"
      }
    },
    {
      "cell_type": "code",
      "source": [
        "tips.groupby('time').tip.sum()"
      ],
      "metadata": {
        "colab": {
          "base_uri": "https://localhost:8080/"
        },
        "id": "j7GEKzhvzvdD",
        "outputId": "86c3a959-0274-4623-b0ef-8b880dee4fad"
      },
      "execution_count": null,
      "outputs": [
        {
          "output_type": "execute_result",
          "data": {
            "text/plain": [
              "time\n",
              "Lunch     185.51\n",
              "Dinner    546.07\n",
              "Name: tip, dtype: float64"
            ]
          },
          "metadata": {},
          "execution_count": 33
        }
      ]
    },
    {
      "cell_type": "markdown",
      "source": [
        "런치타임과 디너타임이 있는 것을 확인할 수 있습니다."
      ],
      "metadata": {
        "id": "mTApjYhS0CGm"
      }
    },
    {
      "cell_type": "code",
      "source": [
        "lunch_tips = tips[tips['time']=='Lunch'].groupby('day').tip.sum()\n",
        "dinner_tips = tips[tips['time']=='Dinner'].groupby('day').tip.sum()\n",
        "\n",
        "print(lunch_tips)\n",
        "print(dinner_tips)"
      ],
      "metadata": {
        "colab": {
          "base_uri": "https://localhost:8080/"
        },
        "id": "3RsFb6xU0BMW",
        "outputId": "8abd0790-7582-48e8-ac4e-8217ed695e32"
      },
      "execution_count": 10,
      "outputs": [
        {
          "output_type": "stream",
          "name": "stdout",
          "text": [
            "day\n",
            "Thur    168.83\n",
            "Fri      16.68\n",
            "Sat       0.00\n",
            "Sun       0.00\n",
            "Name: tip, dtype: float64\n",
            "day\n",
            "Thur      3.00\n",
            "Fri      35.28\n",
            "Sat     260.40\n",
            "Sun     247.39\n",
            "Name: tip, dtype: float64\n"
          ]
        }
      ]
    },
    {
      "cell_type": "markdown",
      "source": [
        "막대 그래프 두 개를 나란히 그리기 위해서는, 한 그래프의 x값을 옮겨준다고 생각합시다."
      ],
      "metadata": {
        "id": "KCGoyRcy1lGw"
      }
    },
    {
      "cell_type": "code",
      "source": [
        "x=np.arange(4)\n",
        "plt.bar(x, lunch_tips, color='yellow', alpha=0.5, width=0.4, label='lunch')\n",
        "plt.bar(x+0.5, dinner_tips, color='blue', alpha=0.5, width=0.4, label='dinner') #0.5만큼 가로축 값에 더해줌으로써 그래프를 오른쪽으로 이동했다고 생각하면 됩니다!\n",
        "plt.title('Total tips', fontsize=12)\n",
        "plt.xticks(x, labels=['Thur', 'Fri', 'Sat', 'Sun'])\n",
        "plt.legend()\n",
        "plt.xlabel('days')\n",
        "plt.ylabel('tips')\n",
        "plt.show()"
      ],
      "metadata": {
        "colab": {
          "base_uri": "https://localhost:8080/",
          "height": 295
        },
        "id": "fAVlqnIR1ftL",
        "outputId": "6d356799-df22-4b39-f067-9333313b5384"
      },
      "execution_count": null,
      "outputs": [
        {
          "output_type": "display_data",
          "data": {
            "image/png": "[encoded data removed]",
            "text/plain": [
              "<Figure size 432x288 with 1 Axes>"
            ]
          },
          "metadata": {
            "needs_background": "light"
          }
        }
      ]
    },
    {
      "cell_type": "markdown",
      "source": [
        "# 3. Histogram(히스토그램)\n",
        "\n",
        "\n",
        "히스토그램은 numeric data의 분포를 나타낼 수 있습니다.\n",
        "\n",
        "보통 확률이나 도수의 분포를 그릴 때 사용하고, hist() 함수를 사용합니다.\n",
        "\n",
        "주요 매개변수로는 bins, density, color 등이 있습니다.\n",
        "\n",
        "\n",
        "\n",
        "*   bins : 막대의 개수\n",
        "*   density : 확률 밀도로 표현할 것인지\n",
        "*   color : 그래프 색상\n",
        "*   alpha : 투명도\n",
        "\n",
        "\n",
        "\n"
      ],
      "metadata": {
        "id": "ckeBsGP8PUCV"
      }
    },
    {
      "cell_type": "markdown",
      "source": [
        "먼저 간단하게 표준 정규 분포의 그래프를 그려보겠습니다."
      ],
      "metadata": {
        "id": "sno4YsjJRTj1"
      }
    },
    {
      "cell_type": "code",
      "source": [
        "data = np.random.randn(1000)\n",
        "plt.hist(data, bins=30, density=True)\n",
        "plt.show()"
      ],
      "metadata": {
        "colab": {
          "base_uri": "https://localhost:8080/",
          "height": 265
        },
        "id": "ZZYcoY_8RZvY",
        "outputId": "097b1863-cace-43b8-de32-236d219d4c2c"
      },
      "execution_count": null,
      "outputs": [
        {
          "output_type": "display_data",
          "data": {
            "image/png": "[encoded data removed]",
            "text/plain": [
              "<Figure size 432x288 with 1 Axes>"
            ]
          },
          "metadata": {
            "needs_background": "light"
          }
        }
      ]
    },
    {
      "cell_type": "markdown",
      "source": [
        "잘 그려진 것을 확인할 수 있습니다!\n",
        "\n",
        "다음으로는 두 개의 그래프를 중첩해서 그려볼까요?\n",
        "\n",
        "평균과 분산이 다른 정규분포그래프 두개를 그려보겠습니다."
      ],
      "metadata": {
        "id": "4CXg5ex2R2bA"
      }
    },
    {
      "cell_type": "code",
      "source": [
        "x = np.random.normal(5, 5, 5000)\n",
        "y = np.random.normal(0, 1, 5000)\n",
        "\n",
        "plt.hist(x, bins=30, density=True, color='red', alpha=0.7, label='N(5,25)')\n",
        "plt.hist(y, bins=30, density=True, color='blue', alpha=0.7, label='N(0,1)')\n",
        "plt.legend()\n",
        "plt.show()"
      ],
      "metadata": {
        "colab": {
          "base_uri": "https://localhost:8080/",
          "height": 265
        },
        "id": "sG1KaJrDSG9Q",
        "outputId": "df280849-bdb6-4ccc-804e-4b11244c3205"
      },
      "execution_count": null,
      "outputs": [
        {
          "output_type": "display_data",
          "data": {
            "image/png": "[encoded data removed]",
            "text/plain": [
              "<Figure size 432x288 with 1 Axes>"
            ]
          },
          "metadata": {
            "needs_background": "light"
          }
        }
      ]
    },
    {
      "cell_type": "markdown",
      "source": [
        "이렇게 두 그래프를 나타내는 코드를 연달아서 작성하고 출력해주면, 중첩해서 출력이 되는 것을 볼 수 있습니다."
      ],
      "metadata": {
        "id": "fnWWckDdTDmt"
      }
    },
    {
      "cell_type": "markdown",
      "source": [
        "# 4. Scatter plot(산점도)\n",
        "\n",
        "산점도는 보통 두 변수 사이의 관계를 확인하고자 할 때 사용합니다.\n",
        "\n",
        "scatter() 함수를 사용하고, 주요 매개변수로는 marker, c, s 등이 있습니다.\n",
        "\n",
        "\n",
        "\n",
        "*   marker : 점 \n",
        "*   c : 점 색깔\n",
        "*   s : 점 크기\n",
        "*   alpha : 투명도\n",
        "\n",
        "산점도는 color 가 아닌, c로 색을 설정한다는 점! 다른 그래프들과 다르네요.\n",
        "\n",
        "산점도는 seaborn의 다른 내장 데이터인 iris data  set을 이용해서 나타내겠습니다.\n",
        "\n",
        "iris datas set은 붓꽃의 종류별로 꽃받침(sepal)과 꽃잎(petal)의 넓이와 길이를 나타낸 data set 입니다. \n"
      ],
      "metadata": {
        "id": "RLVJ2sLtUND-"
      }
    },
    {
      "cell_type": "code",
      "source": [
        "iris = sns.load_dataset('iris')\n",
        "iris.head()"
      ],
      "metadata": {
        "colab": {
          "base_uri": "https://localhost:8080/",
          "height": 206
        },
        "id": "smFLhB5SVQr0",
        "outputId": "b6a5cbd8-f2a8-4245-8a57-5f90e303af53"
      },
      "execution_count": 4,
      "outputs": [
        {
          "output_type": "execute_result",
          "data": {
            "text/html": [
              "\n",
              "  <div id=\"df-1b6703f5-3db8-4387-8b06-e5028961f54d\">\n",
              "    <div class=\"colab-df-container\">\n",
              "      <div>\n",
              "<style scoped>\n",
              "    .dataframe tbody tr th:only-of-type {\n",
              "        vertical-align: middle;\n",
              "    }\n",
              "\n",
              "    .dataframe tbody tr th {\n",
              "        vertical-align: top;\n",
              "    }\n",
              "\n",
              "    .dataframe thead th {\n",
              "        text-align: right;\n",
              "    }\n",
              "</style>\n",
              "<table border=\"1\" class=\"dataframe\">\n",
              "  <thead>\n",
              "    <tr style=\"text-align: right;\">\n",
              "      <th></th>\n",
              "      <th>sepal_length</th>\n",
              "      <th>sepal_width</th>\n",
              "      <th>petal_length</th>\n",
              "      <th>petal_width</th>\n",
              "      <th>species</th>\n",
              "    </tr>\n",
              "  </thead>\n",
              "  <tbody>\n",
              "    <tr>\n",
              "      <th>0</th>\n",
              "      <td>5.1</td>\n",
              "      <td>3.5</td>\n",
              "      <td>1.4</td>\n",
              "      <td>0.2</td>\n",
              "      <td>setosa</td>\n",
              "    </tr>\n",
              "    <tr>\n",
              "      <th>1</th>\n",
              "      <td>4.9</td>\n",
              "      <td>3.0</td>\n",
              "      <td>1.4</td>\n",
              "      <td>0.2</td>\n",
              "      <td>setosa</td>\n",
              "    </tr>\n",
              "    <tr>\n",
              "      <th>2</th>\n",
              "      <td>4.7</td>\n",
              "      <td>3.2</td>\n",
              "      <td>1.3</td>\n",
              "      <td>0.2</td>\n",
              "      <td>setosa</td>\n",
              "    </tr>\n",
              "    <tr>\n",
              "      <th>3</th>\n",
              "      <td>4.6</td>\n",
              "      <td>3.1</td>\n",
              "      <td>1.5</td>\n",
              "      <td>0.2</td>\n",
              "      <td>setosa</td>\n",
              "    </tr>\n",
              "    <tr>\n",
              "      <th>4</th>\n",
              "      <td>5.0</td>\n",
              "      <td>3.6</td>\n",
              "      <td>1.4</td>\n",
              "      <td>0.2</td>\n",
              "      <td>setosa</td>\n",
              "    </tr>\n",
              "  </tbody>\n",
              "</table>\n",
              "</div>\n",
              "      <button class=\"colab-df-convert\" onclick=\"convertToInteractive('df-1b6703f5-3db8-4387-8b06-e5028961f54d')\"\n",
              "              title=\"Convert this dataframe to an interactive table.\"\n",
              "              style=\"display:none;\">\n",
              "        \n",
              "  <svg xmlns=\"http://www.w3.org/2000/svg\" height=\"24px\"viewBox=\"0 0 24 24\"\n",
              "       width=\"24px\">\n",
              "    <path d=\"M0 0h24v24H0V0z\" fill=\"none\"/>\n",
              "    <path d=\"M18.56 5.44l.94 2.06.94-2.06 2.06-.94-2.06-.94-.94-2.06-.94 2.06-2.06.94zm-11 1L8.5 8.5l.94-2.06 2.06-.94-2.06-.94L8.5 2.5l-.94 2.06-2.06.94zm10 10l.94 2.06.94-2.06 2.06-.94-2.06-.94-.94-2.06-.94 2.06-2.06.94z\"/><path d=\"M17.41 7.96l-1.37-1.37c-.4-.4-.92-.59-1.43-.59-.52 0-1.04.2-1.43.59L10.3 9.45l-7.72 7.72c-.78.78-.78 2.05 0 2.83L4 21.41c.39.39.9.59 1.41.59.51 0 1.02-.2 1.41-.59l7.78-7.78 2.81-2.81c.8-.78.8-2.07 0-2.86zM5.41 20L4 18.59l7.72-7.72 1.47 1.35L5.41 20z\"/>\n",
              "  </svg>\n",
              "      </button>\n",
              "      \n",
              "  <style>\n",
              "    .colab-df-container {\n",
              "      display:flex;\n",
              "      flex-wrap:wrap;\n",
              "      gap: 12px;\n",
              "    }\n",
              "\n",
              "    .colab-df-convert {\n",
              "      background-color: #E8F0FE;\n",
              "      border: none;\n",
              "      border-radius: 50%;\n",
              "      cursor: pointer;\n",
              "      display: none;\n",
              "      fill: #1967D2;\n",
              "      height: 32px;\n",
              "      padding: 0 0 0 0;\n",
              "      width: 32px;\n",
              "    }\n",
              "\n",
              "    .colab-df-convert:hover {\n",
              "      background-color: #E2EBFA;\n",
              "      box-shadow: 0px 1px 2px rgba(60, 64, 67, 0.3), 0px 1px 3px 1px rgba(60, 64, 67, 0.15);\n",
              "      fill: #174EA6;\n",
              "    }\n",
              "\n",
              "    [theme=dark] .colab-df-convert {\n",
              "      background-color: #3B4455;\n",
              "      fill: #D2E3FC;\n",
              "    }\n",
              "\n",
              "    [theme=dark] .colab-df-convert:hover {\n",
              "      background-color: #434B5C;\n",
              "      box-shadow: 0px 1px 3px 1px rgba(0, 0, 0, 0.15);\n",
              "      filter: drop-shadow(0px 1px 2px rgba(0, 0, 0, 0.3));\n",
              "      fill: #FFFFFF;\n",
              "    }\n",
              "  </style>\n",
              "\n",
              "      <script>\n",
              "        const buttonEl =\n",
              "          document.querySelector('#df-1b6703f5-3db8-4387-8b06-e5028961f54d button.colab-df-convert');\n",
              "        buttonEl.style.display =\n",
              "          google.colab.kernel.accessAllowed ? 'block' : 'none';\n",
              "\n",
              "        async function convertToInteractive(key) {\n",
              "          const element = document.querySelector('#df-1b6703f5-3db8-4387-8b06-e5028961f54d');\n",
              "          const dataTable =\n",
              "            await google.colab.kernel.invokeFunction('convertToInteractive',\n",
              "                                                     [key], {});\n",
              "          if (!dataTable) return;\n",
              "\n",
              "          const docLinkHtml = 'Like what you see? Visit the ' +\n",
              "            '<a target=\"_blank\" href=https://colab.research.google.com/notebooks/data_table.ipynb>data table notebook</a>'\n",
              "            + ' to learn more about interactive tables.';\n",
              "          element.innerHTML = '';\n",
              "          dataTable['output_type'] = 'display_data';\n",
              "          await google.colab.output.renderOutput(dataTable, element);\n",
              "          const docLink = document.createElement('div');\n",
              "          docLink.innerHTML = docLinkHtml;\n",
              "          element.appendChild(docLink);\n",
              "        }\n",
              "      </script>\n",
              "    </div>\n",
              "  </div>\n",
              "  "
            ],
            "text/plain": [
              "   sepal_length  sepal_width  petal_length  petal_width species\n",
              "0           5.1          3.5           1.4          0.2  setosa\n",
              "1           4.9          3.0           1.4          0.2  setosa\n",
              "2           4.7          3.2           1.3          0.2  setosa\n",
              "3           4.6          3.1           1.5          0.2  setosa\n",
              "4           5.0          3.6           1.4          0.2  setosa"
            ]
          },
          "metadata": {},
          "execution_count": 4
        }
      ]
    },
    {
      "cell_type": "markdown",
      "source": [
        "꽃의 종류와 개체별로 꽃받침과 꽃잎의 길이와 넓이가 상이한 것을 볼 수 있습니다. 그렇다면 이 변수들은 어떠한 관계가 있는지 산점도를 그려 나타내볼까요?\n",
        "\n",
        "\n",
        "먼저, 꽃잎의 길이와 넓이가 어떠한 관계가 있는지 봅시다."
      ],
      "metadata": {
        "id": "9rqt_DKLVnPY"
      }
    },
    {
      "cell_type": "code",
      "source": [
        "plt.scatter(iris['petal_length'], iris['petal_width'])\n",
        "plt.title('length and width of petal',  fontsize=15)\n",
        "plt.xlabel('length')\n",
        "plt.ylabel('width')\n",
        "plt.show()"
      ],
      "metadata": {
        "id": "Ai8KV2aDQz6F",
        "colab": {
          "base_uri": "https://localhost:8080/",
          "height": 297
        },
        "outputId": "a72eb2ad-74e1-4b20-c775-d8eb477e9e08"
      },
      "execution_count": 21,
      "outputs": [
        {
          "output_type": "display_data",
          "data": {
            "image/png": "[encoded data removed]",
            "text/plain": [
              "<Figure size 432x288 with 1 Axes>"
            ]
          },
          "metadata": {
            "needs_background": "light"
          }
        }
      ]
    },
    {
      "cell_type": "markdown",
      "source": [
        "꽃잎의 넓이와 길이는 비례하는 것을 볼 수 있네요."
      ],
      "metadata": {
        "id": "Vdn90ZLZYg6h"
      }
    },
    {
      "cell_type": "markdown",
      "source": [
        "앞서 언급했던 매개변수를 조정하여봅시다.\n",
        "\n",
        "점 크기는 200, 색은 황금색으로 설정해주었고 투명도를 조정해보았습니다.\n"
      ],
      "metadata": {
        "id": "3LVhWaYsWODG"
      }
    },
    {
      "cell_type": "code",
      "source": [
        "plt.scatter(iris['petal_length'], iris['petal_width'], s=200, c='gold', alpha=0.3)\n",
        "plt.title('length and width of petal', fontsize=15)\n",
        "plt.xlabel('length')\n",
        "plt.ylabel('width')\n",
        "plt.show()"
      ],
      "metadata": {
        "colab": {
          "base_uri": "https://localhost:8080/",
          "height": 297
        },
        "id": "uGDP8LCNWM6A",
        "outputId": "ecc24baf-1896-4dd5-ac2e-0e47557800ba"
      },
      "execution_count": 20,
      "outputs": [
        {
          "output_type": "display_data",
          "data": {
            "image/png": "[encoded data removed]",
            "text/plain": [
              "<Figure size 432x288 with 1 Axes>"
            ]
          },
          "metadata": {
            "needs_background": "light"
          }
        }
      ]
    },
    {
      "cell_type": "markdown",
      "source": [
        "점의 크기와 색을 다른 변수 값에 따라서 조정할 수도 있는데요. \n",
        "\n",
        "이번엔 꽃받침의 길이와 넓이 사이의 관계를 알아보겠습니다.\n",
        "꽃잎의 넓이는 점의 크기와 비례하도록, 꽃잎의 길이는 점의 색깔 변화에 나타나도록 그래프를 그려보겠습니다."
      ],
      "metadata": {
        "id": "W-5GdqyCXWqG"
      }
    },
    {
      "cell_type": "code",
      "source": [
        "plt.scatter(iris['sepal_length'], iris['sepal_width'], s=iris['petal_length']*100, c=iris['petal_width'], alpha=0.3)\n",
        "plt.title('length and width of sepal', fontsize=15)\n",
        "plt.xlabel('length')\n",
        "plt.ylabel('width')\n",
        "plt.colorbar()  #이 코드를 추가하면 color bar 가 생성되어 점의 색깔이 어떤 값을 의미하는지 알 수 있습니다.\n",
        "plt.show()"
      ],
      "metadata": {
        "colab": {
          "base_uri": "https://localhost:8080/",
          "height": 297
        },
        "id": "XteGv8dtXsTn",
        "outputId": "c893f532-326d-4c4a-800e-f5843feb7066"
      },
      "execution_count": 22,
      "outputs": [
        {
          "output_type": "display_data",
          "data": {
            "image/png": "[encoded data removed]",
            "text/plain": [
              "<Figure size 432x288 with 2 Axes>"
            ]
          },
          "metadata": {
            "needs_background": "light"
          }
        }
      ]
    },
    {
      "cell_type": "markdown",
      "source": [
        "이렇게 pie chart, bar plot, histogram, scatter plot을 그려보았습니다!\n",
        "\n",
        "각각의 그래프가 가지는 특성, 매개변수를 공부하고 목적에 맞게 사용하면 좋을 것 같아요. \n",
        "\n",
        "다음 포스팅은 추가적인 그래프를 더 그려보고 subplot 추가하는 방법을 소개한 후에 Matplotlib를 마무리하도록 하겠습니다.\n",
        "\n",
        "읽어주셔서 감사합니다! \n"
      ],
      "metadata": {
        "id": "ViKAJu5XL3OL"
      }
    }
  ]
}